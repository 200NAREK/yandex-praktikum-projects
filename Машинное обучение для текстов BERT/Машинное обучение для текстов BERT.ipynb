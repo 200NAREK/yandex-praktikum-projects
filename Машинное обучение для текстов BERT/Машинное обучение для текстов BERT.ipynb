{
 "cells": [
  {
   "cell_type": "markdown",
   "metadata": {
    "toc": true
   },
   "source": [
    "<h1>Содержание<span class=\"tocSkip\"></span></h1>\n",
    "<div class=\"toc\"><ul class=\"toc-item\"><li><span><a href=\"#Подготовка\" data-toc-modified-id=\"Подготовка-1\"><span class=\"toc-item-num\">1&nbsp;&nbsp;</span>Подготовка</a></span><ul class=\"toc-item\"><li><span><a href=\"#выводи\" data-toc-modified-id=\"выводи-1.1\"><span class=\"toc-item-num\">1.1&nbsp;&nbsp;</span>выводи</a></span></li></ul></li><li><span><a href=\"#Обучение\" data-toc-modified-id=\"Обучение-2\"><span class=\"toc-item-num\">2&nbsp;&nbsp;</span>Обучение</a></span><ul class=\"toc-item\"><li><span><a href=\"#model-LogisticRegression\" data-toc-modified-id=\"model-LogisticRegression-2.1\"><span class=\"toc-item-num\">2.1&nbsp;&nbsp;</span>model LogisticRegression</a></span></li><li><span><a href=\"#Model-DecisionTreeClassifier\" data-toc-modified-id=\"Model-DecisionTreeClassifier-2.2\"><span class=\"toc-item-num\">2.2&nbsp;&nbsp;</span>Model DecisionTreeClassifier</a></span></li><li><span><a href=\"#Model-LGBMClassifier\" data-toc-modified-id=\"Model-LGBMClassifier-2.3\"><span class=\"toc-item-num\">2.3&nbsp;&nbsp;</span>Model LGBMClassifier</a></span></li><li><span><a href=\"#тест\" data-toc-modified-id=\"тест-2.4\"><span class=\"toc-item-num\">2.4&nbsp;&nbsp;</span>тест</a></span></li><li><span><a href=\"#Model-bert\" data-toc-modified-id=\"Model-bert-2.5\"><span class=\"toc-item-num\">2.5&nbsp;&nbsp;</span>Model bert</a></span></li></ul></li><li><span><a href=\"#Выводы\" data-toc-modified-id=\"Выводы-3\"><span class=\"toc-item-num\">3&nbsp;&nbsp;</span>Выводы</a></span></li><li><span><a href=\"#Чек-лист-проверки\" data-toc-modified-id=\"Чек-лист-проверки-4\"><span class=\"toc-item-num\">4&nbsp;&nbsp;</span>Чек-лист проверки</a></span></li></ul></div>"
   ]
  },
  {
   "cell_type": "markdown",
   "metadata": {},
   "source": [
    "# Проект для «Викишоп» с BERT "
   ]
  },
  {
   "cell_type": "markdown",
   "metadata": {},
   "source": [
    "Интернет-магазин «Викишоп» запускает новый сервис. Теперь пользователи могут редактировать и дополнять описания товаров, как в вики-сообществах. То есть клиенты предлагают свои правки и комментируют изменения других. Магазину нужен инструмент, который будет искать токсичные комментарии и отправлять их на модерацию. \n",
    "\n",
    "Обучите модель классифицировать комментарии на позитивные и негативные. В вашем распоряжении набор данных с разметкой о токсичности правок.\n",
    "\n",
    "Постройте модель со значением метрики качества *F1* не меньше 0.75. \n",
    "\n",
    "**Инструкция по выполнению проекта**\n",
    "\n",
    "1. Загрузите и подготовьте данные.\n",
    "2. Обучите разные модели. \n",
    "3. Сделайте выводы.\n",
    "\n",
    "Для выполнения проекта применять *BERT* необязательно, но вы можете попробовать.\n",
    "\n",
    "**Описание данных**\n",
    "\n",
    "Данные находятся в файле `toxic_comments.csv`. Столбец *text* в нём содержит текст комментария, а *toxic* — целевой признак."
   ]
  },
  {
   "cell_type": "markdown",
   "metadata": {},
   "source": [
    "## Подготовка"
   ]
  },
  {
   "cell_type": "code",
   "execution_count": 1,
   "metadata": {},
   "outputs": [
    {
     "name": "stdout",
     "output_type": "stream",
     "text": [
      "Requirement already satisfied: spacy in /opt/conda/lib/python3.9/site-packages (3.2.0)\n",
      "Requirement already satisfied: packaging>=20.0 in /opt/conda/lib/python3.9/site-packages (from spacy) (21.3)\n",
      "Requirement already satisfied: cymem<2.1.0,>=2.0.2 in /opt/conda/lib/python3.9/site-packages (from spacy) (2.0.6)\n",
      "Requirement already satisfied: preshed<3.1.0,>=3.0.2 in /opt/conda/lib/python3.9/site-packages (from spacy) (3.0.7)\n",
      "Requirement already satisfied: setuptools in /opt/conda/lib/python3.9/site-packages (from spacy) (49.6.0.post20210108)\n",
      "Requirement already satisfied: murmurhash<1.1.0,>=0.28.0 in /opt/conda/lib/python3.9/site-packages (from spacy) (1.0.8)\n",
      "Requirement already satisfied: srsly<3.0.0,>=2.4.1 in /opt/conda/lib/python3.9/site-packages (from spacy) (2.4.4)\n",
      "Requirement already satisfied: pydantic!=1.8,!=1.8.1,<1.9.0,>=1.7.4 in /opt/conda/lib/python3.9/site-packages (from spacy) (1.8.2)\n",
      "Requirement already satisfied: spacy-loggers<2.0.0,>=1.0.0 in /opt/conda/lib/python3.9/site-packages (from spacy) (1.0.3)\n",
      "Requirement already satisfied: typer<0.5.0,>=0.3.0 in /opt/conda/lib/python3.9/site-packages (from spacy) (0.4.2)\n",
      "Requirement already satisfied: jinja2 in /opt/conda/lib/python3.9/site-packages (from spacy) (3.0.1)\n",
      "Requirement already satisfied: pathy>=0.3.5 in /opt/conda/lib/python3.9/site-packages (from spacy) (0.6.2)\n",
      "Requirement already satisfied: langcodes<4.0.0,>=3.2.0 in /opt/conda/lib/python3.9/site-packages (from spacy) (3.3.0)\n",
      "Requirement already satisfied: tqdm<5.0.0,>=4.38.0 in /opt/conda/lib/python3.9/site-packages (from spacy) (4.61.2)\n",
      "Requirement already satisfied: numpy>=1.15.0 in /opt/conda/lib/python3.9/site-packages (from spacy) (1.21.1)\n",
      "Requirement already satisfied: wasabi<1.1.0,>=0.8.1 in /opt/conda/lib/python3.9/site-packages (from spacy) (0.10.1)\n",
      "Requirement already satisfied: catalogue<2.1.0,>=2.0.6 in /opt/conda/lib/python3.9/site-packages (from spacy) (2.0.8)\n",
      "Requirement already satisfied: requests<3.0.0,>=2.13.0 in /opt/conda/lib/python3.9/site-packages (from spacy) (2.25.1)\n",
      "Requirement already satisfied: spacy-legacy<3.1.0,>=3.0.8 in /opt/conda/lib/python3.9/site-packages (from spacy) (3.0.10)\n",
      "Requirement already satisfied: thinc<8.1.0,>=8.0.12 in /opt/conda/lib/python3.9/site-packages (from spacy) (8.0.17)\n",
      "Requirement already satisfied: blis<0.8.0,>=0.4.0 in /opt/conda/lib/python3.9/site-packages (from spacy) (0.7.8)\n",
      "Requirement already satisfied: pyparsing!=3.0.5,>=2.0.2 in /opt/conda/lib/python3.9/site-packages (from packaging>=20.0->spacy) (2.4.7)\n",
      "Requirement already satisfied: smart-open<6.0.0,>=5.2.1 in /opt/conda/lib/python3.9/site-packages (from pathy>=0.3.5->spacy) (5.2.1)\n",
      "Requirement already satisfied: typing-extensions>=3.7.4.3 in /opt/conda/lib/python3.9/site-packages (from pydantic!=1.8,!=1.8.1,<1.9.0,>=1.7.4->spacy) (4.3.0)\n",
      "Requirement already satisfied: certifi>=2017.4.17 in /opt/conda/lib/python3.9/site-packages (from requests<3.0.0,>=2.13.0->spacy) (2022.6.15)\n",
      "Requirement already satisfied: chardet<5,>=3.0.2 in /opt/conda/lib/python3.9/site-packages (from requests<3.0.0,>=2.13.0->spacy) (4.0.0)\n",
      "Requirement already satisfied: urllib3<1.27,>=1.21.1 in /opt/conda/lib/python3.9/site-packages (from requests<3.0.0,>=2.13.0->spacy) (1.26.6)\n",
      "Requirement already satisfied: idna<3,>=2.5 in /opt/conda/lib/python3.9/site-packages (from requests<3.0.0,>=2.13.0->spacy) (2.10)\n",
      "Requirement already satisfied: click<9.0.0,>=7.1.1 in /opt/conda/lib/python3.9/site-packages (from typer<0.5.0,>=0.3.0->spacy) (8.1.3)\n",
      "Requirement already satisfied: MarkupSafe>=2.0 in /opt/conda/lib/python3.9/site-packages (from jinja2->spacy) (2.1.1)\n",
      "\u001b[38;5;3m⚠ As of spaCy v3.0, shortcuts like 'en' are deprecated. Please use the\n",
      "full pipeline package name 'en_core_web_sm' instead.\u001b[0m\n",
      "Collecting en-core-web-sm==3.2.0\n",
      "  Downloading https://github.com/explosion/spacy-models/releases/download/en_core_web_sm-3.2.0/en_core_web_sm-3.2.0-py3-none-any.whl (13.9 MB)\n",
      "\u001b[K     |████████████████████████████████| 13.9 MB 2.5 MB/s eta 0:00:01\n",
      "\u001b[?25hRequirement already satisfied: spacy<3.3.0,>=3.2.0 in /opt/conda/lib/python3.9/site-packages (from en-core-web-sm==3.2.0) (3.2.0)\n",
      "Requirement already satisfied: blis<0.8.0,>=0.4.0 in /opt/conda/lib/python3.9/site-packages (from spacy<3.3.0,>=3.2.0->en-core-web-sm==3.2.0) (0.7.8)\n",
      "Requirement already satisfied: pydantic!=1.8,!=1.8.1,<1.9.0,>=1.7.4 in /opt/conda/lib/python3.9/site-packages (from spacy<3.3.0,>=3.2.0->en-core-web-sm==3.2.0) (1.8.2)\n",
      "Requirement already satisfied: wasabi<1.1.0,>=0.8.1 in /opt/conda/lib/python3.9/site-packages (from spacy<3.3.0,>=3.2.0->en-core-web-sm==3.2.0) (0.10.1)\n",
      "Requirement already satisfied: pathy>=0.3.5 in /opt/conda/lib/python3.9/site-packages (from spacy<3.3.0,>=3.2.0->en-core-web-sm==3.2.0) (0.6.2)\n",
      "Requirement already satisfied: srsly<3.0.0,>=2.4.1 in /opt/conda/lib/python3.9/site-packages (from spacy<3.3.0,>=3.2.0->en-core-web-sm==3.2.0) (2.4.4)\n",
      "Requirement already satisfied: spacy-loggers<2.0.0,>=1.0.0 in /opt/conda/lib/python3.9/site-packages (from spacy<3.3.0,>=3.2.0->en-core-web-sm==3.2.0) (1.0.3)\n",
      "Requirement already satisfied: packaging>=20.0 in /opt/conda/lib/python3.9/site-packages (from spacy<3.3.0,>=3.2.0->en-core-web-sm==3.2.0) (21.3)\n",
      "Requirement already satisfied: langcodes<4.0.0,>=3.2.0 in /opt/conda/lib/python3.9/site-packages (from spacy<3.3.0,>=3.2.0->en-core-web-sm==3.2.0) (3.3.0)\n",
      "Requirement already satisfied: thinc<8.1.0,>=8.0.12 in /opt/conda/lib/python3.9/site-packages (from spacy<3.3.0,>=3.2.0->en-core-web-sm==3.2.0) (8.0.17)\n",
      "Requirement already satisfied: requests<3.0.0,>=2.13.0 in /opt/conda/lib/python3.9/site-packages (from spacy<3.3.0,>=3.2.0->en-core-web-sm==3.2.0) (2.25.1)\n",
      "Requirement already satisfied: murmurhash<1.1.0,>=0.28.0 in /opt/conda/lib/python3.9/site-packages (from spacy<3.3.0,>=3.2.0->en-core-web-sm==3.2.0) (1.0.8)\n",
      "Requirement already satisfied: cymem<2.1.0,>=2.0.2 in /opt/conda/lib/python3.9/site-packages (from spacy<3.3.0,>=3.2.0->en-core-web-sm==3.2.0) (2.0.6)\n",
      "Requirement already satisfied: spacy-legacy<3.1.0,>=3.0.8 in /opt/conda/lib/python3.9/site-packages (from spacy<3.3.0,>=3.2.0->en-core-web-sm==3.2.0) (3.0.10)\n",
      "Requirement already satisfied: setuptools in /opt/conda/lib/python3.9/site-packages (from spacy<3.3.0,>=3.2.0->en-core-web-sm==3.2.0) (49.6.0.post20210108)\n",
      "Requirement already satisfied: typer<0.5.0,>=0.3.0 in /opt/conda/lib/python3.9/site-packages (from spacy<3.3.0,>=3.2.0->en-core-web-sm==3.2.0) (0.4.2)\n",
      "Requirement already satisfied: tqdm<5.0.0,>=4.38.0 in /opt/conda/lib/python3.9/site-packages (from spacy<3.3.0,>=3.2.0->en-core-web-sm==3.2.0) (4.61.2)\n",
      "Requirement already satisfied: numpy>=1.15.0 in /opt/conda/lib/python3.9/site-packages (from spacy<3.3.0,>=3.2.0->en-core-web-sm==3.2.0) (1.21.1)\n",
      "Requirement already satisfied: jinja2 in /opt/conda/lib/python3.9/site-packages (from spacy<3.3.0,>=3.2.0->en-core-web-sm==3.2.0) (3.0.1)\n",
      "Requirement already satisfied: preshed<3.1.0,>=3.0.2 in /opt/conda/lib/python3.9/site-packages (from spacy<3.3.0,>=3.2.0->en-core-web-sm==3.2.0) (3.0.7)\n",
      "Requirement already satisfied: catalogue<2.1.0,>=2.0.6 in /opt/conda/lib/python3.9/site-packages (from spacy<3.3.0,>=3.2.0->en-core-web-sm==3.2.0) (2.0.8)\n",
      "Requirement already satisfied: pyparsing!=3.0.5,>=2.0.2 in /opt/conda/lib/python3.9/site-packages (from packaging>=20.0->spacy<3.3.0,>=3.2.0->en-core-web-sm==3.2.0) (2.4.7)\n",
      "Requirement already satisfied: smart-open<6.0.0,>=5.2.1 in /opt/conda/lib/python3.9/site-packages (from pathy>=0.3.5->spacy<3.3.0,>=3.2.0->en-core-web-sm==3.2.0) (5.2.1)\n",
      "Requirement already satisfied: typing-extensions>=3.7.4.3 in /opt/conda/lib/python3.9/site-packages (from pydantic!=1.8,!=1.8.1,<1.9.0,>=1.7.4->spacy<3.3.0,>=3.2.0->en-core-web-sm==3.2.0) (4.3.0)\n",
      "Requirement already satisfied: idna<3,>=2.5 in /opt/conda/lib/python3.9/site-packages (from requests<3.0.0,>=2.13.0->spacy<3.3.0,>=3.2.0->en-core-web-sm==3.2.0) (2.10)\n",
      "Requirement already satisfied: urllib3<1.27,>=1.21.1 in /opt/conda/lib/python3.9/site-packages (from requests<3.0.0,>=2.13.0->spacy<3.3.0,>=3.2.0->en-core-web-sm==3.2.0) (1.26.6)\n",
      "Requirement already satisfied: chardet<5,>=3.0.2 in /opt/conda/lib/python3.9/site-packages (from requests<3.0.0,>=2.13.0->spacy<3.3.0,>=3.2.0->en-core-web-sm==3.2.0) (4.0.0)\n",
      "Requirement already satisfied: certifi>=2017.4.17 in /opt/conda/lib/python3.9/site-packages (from requests<3.0.0,>=2.13.0->spacy<3.3.0,>=3.2.0->en-core-web-sm==3.2.0) (2022.6.15)\n",
      "Requirement already satisfied: click<9.0.0,>=7.1.1 in /opt/conda/lib/python3.9/site-packages (from typer<0.5.0,>=0.3.0->spacy<3.3.0,>=3.2.0->en-core-web-sm==3.2.0) (8.1.3)\n",
      "Requirement already satisfied: MarkupSafe>=2.0 in /opt/conda/lib/python3.9/site-packages (from jinja2->spacy<3.3.0,>=3.2.0->en-core-web-sm==3.2.0) (2.1.1)\n",
      "\u001b[38;5;2m✔ Download and installation successful\u001b[0m\n",
      "You can now load the package via spacy.load('en_core_web_sm')\n"
     ]
    }
   ],
   "source": [
    "# Install spaCy (run in terminal/prompt)\n",
    "import sys\n",
    "!{sys.executable} -m pip install spacy\n",
    "# Download spaCy's  'en' Model\n",
    "!{sys.executable} -m spacy download en"
   ]
  },
  {
   "cell_type": "code",
   "execution_count": 2,
   "metadata": {},
   "outputs": [
    {
     "name": "stderr",
     "output_type": "stream",
     "text": [
      "[nltk_data] Downloading package stopwords to /home/jovyan/nltk_data...\n",
      "[nltk_data]   Package stopwords is already up-to-date!\n"
     ]
    }
   ],
   "source": [
    "import pandas as pd\n",
    "import numpy as np\n",
    "import re\n",
    "\n",
    "\n",
    "import torch\n",
    "import transformers\n",
    "from tqdm import notebook\n",
    "\n",
    "import spacy\n",
    "\n",
    "import nltk\n",
    "from nltk.corpus import stopwords as nltk_stopwords\n",
    "from nltk.stem import WordNetLemmatizer\n",
    "nltk.download('stopwords')\n",
    "\n",
    "\n",
    "import warnings\n",
    "\n",
    "from lightgbm import LGBMClassifier\n",
    "\n",
    "\n",
    "import sklearn \n",
    "from sklearn import metrics\n",
    "from sklearn.model_selection import train_test_split\n",
    "from sklearn.feature_extraction.text import TfidfVectorizer\n",
    "from sklearn.linear_model import LogisticRegression\n",
    "from sklearn.tree import DecisionTreeClassifier\n",
    "#from sklearn.pipeline import Pipeline\n",
    "from sklearn.model_selection import GridSearchCV\n",
    "#from sklearn.model_selection import cross_val_score, cross_val_predict\n",
    "from sklearn.metrics import f1_score\n",
    "warnings.filterwarnings('ignore')\n",
    "\n",
    "\n",
    "\n",
    "from tqdm.notebook import tqdm\n",
    "\n",
    "\n"
   ]
  },
  {
   "cell_type": "code",
   "execution_count": 3,
   "metadata": {},
   "outputs": [
    {
     "name": "stdout",
     "output_type": "stream",
     "text": [
      "<class 'pandas.core.frame.DataFrame'>\n",
      "RangeIndex: 159292 entries, 0 to 159291\n",
      "Data columns (total 3 columns):\n",
      " #   Column      Non-Null Count   Dtype \n",
      "---  ------      --------------   ----- \n",
      " 0   Unnamed: 0  159292 non-null  int64 \n",
      " 1   text        159292 non-null  object\n",
      " 2   toxic       159292 non-null  int64 \n",
      "dtypes: int64(2), object(1)\n",
      "memory usage: 3.6+ MB\n"
     ]
    },
    {
     "data": {
      "text/plain": [
       "0"
      ]
     },
     "execution_count": 3,
     "metadata": {},
     "output_type": "execute_result"
    }
   ],
   "source": [
    "try:\n",
    "    comtext = pd.read_csv('/datasets/toxic_comments.csv')\n",
    "except:\n",
    "    comtext  = pd.read_csv('https://code.s3.yandex.net/datasets/toxic_comments.csv')\n",
    "comtext.info()\n",
    "comtext = comtext.drop(['Unnamed: 0'], axis=1)#удалим лишние признаки\n",
    "#df_tweets=comtext.copy()# копируем ВСЕ данные для BERT\n",
    "df_tweets = comtext.sample(400).reset_index(drop=True)#режем данные по возможностям компа для модели BERT\n",
    "comtext.head()\n",
    "comtext.duplicated().sum()"
   ]
  },
  {
   "cell_type": "code",
   "execution_count": 4,
   "metadata": {},
   "outputs": [
    {
     "data": {
      "image/png": "[encoded data removed]",
      "text/plain": [
       "<Figure size 432x288 with 1 Axes>"
      ]
     },
     "metadata": {
      "needs_background": "light"
     },
     "output_type": "display_data"
    }
   ],
   "source": [
    "comtext['toxic'].value_counts().plot.bar();"
   ]
  },
  {
   "cell_type": "code",
   "execution_count": 5,
   "metadata": {},
   "outputs": [
    {
     "data": {
      "text/html": [
       "<div>\n",
       "<style scoped>\n",
       "    .dataframe tbody tr th:only-of-type {\n",
       "        vertical-align: middle;\n",
       "    }\n",
       "\n",
       "    .dataframe tbody tr th {\n",
       "        vertical-align: top;\n",
       "    }\n",
       "\n",
       "    .dataframe thead th {\n",
       "        text-align: right;\n",
       "    }\n",
       "</style>\n",
       "<table border=\"1\" class=\"dataframe\">\n",
       "  <thead>\n",
       "    <tr style=\"text-align: right;\">\n",
       "      <th></th>\n",
       "      <th>text</th>\n",
       "      <th>toxic</th>\n",
       "    </tr>\n",
       "  </thead>\n",
       "  <tbody>\n",
       "    <tr>\n",
       "      <th>0</th>\n",
       "      <td>explanation why the edits made under my userna...</td>\n",
       "      <td>0</td>\n",
       "    </tr>\n",
       "    <tr>\n",
       "      <th>1</th>\n",
       "      <td>daww he matches this background colour im seem...</td>\n",
       "      <td>0</td>\n",
       "    </tr>\n",
       "    <tr>\n",
       "      <th>2</th>\n",
       "      <td>hey man im really not trying to edit war its j...</td>\n",
       "      <td>0</td>\n",
       "    </tr>\n",
       "    <tr>\n",
       "      <th>3</th>\n",
       "      <td>more i cant make any real suggestions on impro...</td>\n",
       "      <td>0</td>\n",
       "    </tr>\n",
       "    <tr>\n",
       "      <th>4</th>\n",
       "      <td>you sir are my hero any chance you remember wh...</td>\n",
       "      <td>0</td>\n",
       "    </tr>\n",
       "  </tbody>\n",
       "</table>\n",
       "</div>"
      ],
      "text/plain": [
       "                                                text  toxic\n",
       "0  explanation why the edits made under my userna...      0\n",
       "1  daww he matches this background colour im seem...      0\n",
       "2  hey man im really not trying to edit war its j...      0\n",
       "3  more i cant make any real suggestions on impro...      0\n",
       "4  you sir are my hero any chance you remember wh...      0"
      ]
     },
     "execution_count": 5,
     "metadata": {},
     "output_type": "execute_result"
    }
   ],
   "source": [
    "def clean_data(t):\n",
    "    t = re.sub(r\"(?:\\n|\\r)\", \" \", t)\n",
    "    t = re.sub(r\"[^a-zA-Z ]+\", \"\", t).strip()\n",
    "    t = t.lower()\n",
    "    return t\n",
    "\n",
    "comtext['text'] = comtext['text'].apply(clean_data)\n",
    "comtext.head()"
   ]
  },
  {
   "cell_type": "code",
   "execution_count": 6,
   "metadata": {},
   "outputs": [
    {
     "name": "stdout",
     "output_type": "stream",
     "text": [
      "(127433, 2) (15930, 2) (15929, 2)\n"
     ]
    }
   ],
   "source": [
    "train, test = train_test_split(comtext, test_size = 0.2, random_state = 12345)\n",
    "test, valid = train_test_split(test, test_size=0.5,  random_state = 12345)\n",
    "print(train.shape, valid.shape, test.shape)\n",
    "\n",
    "features_train = train.drop('toxic', axis=1)\n",
    "target_train = train['toxic'].values\n",
    "\n",
    "features_valid = valid.drop('toxic', axis=1)\n",
    "target_valid = valid['toxic'].values\n",
    "\n",
    "features_test = test.drop('toxic', axis=1)\n",
    "target_test = test['toxic']"
   ]
  },
  {
   "cell_type": "code",
   "execution_count": 7,
   "metadata": {},
   "outputs": [],
   "source": [
    "#lemmatizer = WordNetLemmatizer()\n",
    "nlp = spacy.load(\"en_core_web_sm\", disable=['parser', 'ner'])"
   ]
  },
  {
   "cell_type": "code",
   "execution_count": 8,
   "metadata": {},
   "outputs": [],
   "source": [
    "\n",
    "# def lemon(tex):\n",
    "#     tokens=nltk.word_tokenize(tex)\n",
    "#     tokens=[lemmatizer.lemmatize(t) for t in tokens]\n",
    "#     tokens=\" \".join(tokens)\n",
    "#     return tokens\n",
    "\n",
    "\n",
    "\n",
    "# print(train['text'][0])\n",
    "# train_c = train['text'].apply(lemon) \n",
    "# valid_c = valid['text'].apply(lemon) \n",
    "# test_c = test['text'].apply(lemon) \n",
    "# print(train_c[0])"
   ]
  },
  {
   "cell_type": "code",
   "execution_count": 20,
   "metadata": {},
   "outputs": [
    {
     "data": {
      "text/plain": [
       "'the stripe bat be hang on their foot for good'"
      ]
     },
     "execution_count": 20,
     "metadata": {},
     "output_type": "execute_result"
    }
   ],
   "source": [
    "sentence = \"The striped bats are hanging on their feet for best\"\n",
    "doc1 = nlp(sentence)\n",
    "\" \".join([token.lemma_ for token in doc1])"
   ]
  },
  {
   "cell_type": "code",
   "execution_count": 14,
   "metadata": {},
   "outputs": [
    {
     "name": "stdout",
     "output_type": "stream",
     "text": [
      "explanation why the edits made under my username hardcore metallica fan were reverted they werent vandalisms just closure on some gas after i voted at new york dolls fac and please dont remove the template from the talk page since im retired now\n",
      "explanation why the edit make under my username hardcore metallica fan be revert they be not vandalism just closure on some gas after I vote at new york doll fac and please do not remove the template from the talk page since I m retire now\n"
     ]
    }
   ],
   "source": [
    "def lemmatize(text):\n",
    "    doc = nlp(text)\n",
    "    return \" \".join([token.lemma_ for token in doc])\n",
    "\n",
    "\n",
    "print(train['text'][0])\n",
    "train_c = train['text'].apply(lemmatize) \n",
    "valid_c = valid['text'].apply(lemmatize) \n",
    "test_c = test['text'].apply(lemmatize) \n",
    "print(train_c[0])\n",
    "\n",
    "# Он выполнил все лемматизации, которые так же выполнил лемматизатор Wordnet,\n",
    "# с проставленным правильным тегом POS.\n",
    "# Плюс к этому также лемматизируется такое слово как «best» превращаясь в «good».\n"
   ]
  },
  {
   "cell_type": "code",
   "execution_count": null,
   "metadata": {
    "scrolled": true
   },
   "outputs": [],
   "source": [
    "#  def lemmatize(text):\n",
    "#     lem=[]\n",
    "#     for to in text:\n",
    "#         tokens=nltk.word_tokenize(to)\n",
    "#         tokens=[lemmatizer.lemmatize(t) for t in tokens]\n",
    "#         tokens=\" \".join(tokens)\n",
    "#         lem.append(tokens)\n",
    "#     return lem\n",
    "# train_c =lemmatize(train_c)\n",
    "# valid_c = lemmatize(valid_c)\n",
    "# test_c = lemmatize(test_c)\n"
   ]
  },
  {
   "cell_type": "code",
   "execution_count": 15,
   "metadata": {},
   "outputs": [],
   "source": [
    "\n",
    "stopwords = set(nltk_stopwords.words('english'))\n",
    "count_tf_idf = TfidfVectorizer(stop_words=stopwords, ngram_range=(1,1))\n",
    "\n",
    "tf_idf_train = count_tf_idf.fit_transform(train_c)\n",
    "\n",
    "tf_idf_valid = count_tf_idf.transform(valid_c)\n",
    "\n",
    "tf_idf_test = count_tf_idf.transform(test_c)\n"
   ]
  },
  {
   "cell_type": "markdown",
   "metadata": {},
   "source": [
    "### выводи"
   ]
  },
  {
   "cell_type": "markdown",
   "metadata": {},
   "source": [
    "прочитали данные \n",
    "пропусков и дупликатов нет\n",
    "удалили лишние признаки столбец 'Unnamed: 0' что бы индекси не дублировать\n",
    "сделали лемматизациюб удалили лишние и привели к нижнему регистру символи функцией clean_data\n",
    "Создали корпус из лематизированных и очищеных тексов\n",
    "Классы несбалансированы учтем  при обучении моделей\n",
    "Разделили датасет на выборки:"
   ]
  },
  {
   "cell_type": "markdown",
   "metadata": {},
   "source": [
    "## Обучение"
   ]
  },
  {
   "cell_type": "markdown",
   "metadata": {},
   "source": [
    "### model LogisticRegression"
   ]
  },
  {
   "cell_type": "markdown",
   "metadata": {},
   "source": [
    "(0.7654567461171033, {'C': 9, 'penalty': 'l2'}) 10min"
   ]
  },
  {
   "cell_type": "code",
   "execution_count": 16,
   "metadata": {},
   "outputs": [
    {
     "name": "stdout",
     "output_type": "stream",
     "text": [
      "CPU times: user 6min 46s, sys: 4min 12s, total: 10min 59s\n",
      "Wall time: 10min 59s\n"
     ]
    },
    {
     "data": {
      "text/plain": [
       "(0.7654567461171033, {'C': 9, 'penalty': 'l2'})"
      ]
     },
     "execution_count": 16,
     "metadata": {},
     "output_type": "execute_result"
    }
   ],
   "source": [
    "%%time\n",
    "param1={'C' :[1,10,5,9],\n",
    "        'penalty' : ['l2','l1']   \n",
    "}\n",
    "model_lin= LogisticRegression( class_weight = 'balanced',solver=\"liblinear\")#.fit(tf_idf_train, target_train)\n",
    "gml=GridSearchCV(model_lin,param1,scoring='f1').fit(tf_idf_train, target_train)\n",
    "gml.best_score_,gml.best_params_\n",
    "\n",
    "# f1_lin=f1_score(target_valid, (model_lin.predict(tf_idf_valid)))\n",
    "# f1_lin"
   ]
  },
  {
   "cell_type": "markdown",
   "metadata": {},
   "source": [
    "### Model DecisionTreeClassifier"
   ]
  },
  {
   "cell_type": "markdown",
   "metadata": {},
   "source": [
    "(0.6479637927996934, {'criterion': 'entropy', 'max_depth': 300}) 21 min"
   ]
  },
  {
   "cell_type": "code",
   "execution_count": 17,
   "metadata": {},
   "outputs": [
    {
     "name": "stdout",
     "output_type": "stream",
     "text": [
      "CPU times: user 21min 45s, sys: 5.45 s, total: 21min 50s\n",
      "Wall time: 21min 51s\n"
     ]
    },
    {
     "data": {
      "text/plain": [
       "(0.6681651634462142, {'criterion': 'entropy', 'max_depth': 200})"
      ]
     },
     "execution_count": 17,
     "metadata": {},
     "output_type": "execute_result"
    }
   ],
   "source": [
    "%%time\n",
    "param2={'max_depth':[10,50,100,150,300,250,200],\n",
    "        \"criterion\":[\"entropy\"]}#\"gini\",\n",
    "model_dtc = DecisionTreeClassifier(class_weight = 'balanced')#.fit(tf_idf_train, target_train)\n",
    "gmd=GridSearchCV(model_dtc,param2,scoring='f1').fit(tf_idf_train, target_train)\n",
    "gmd.best_score_,gmd.best_params_\n",
    "\n",
    "\n",
    "# f1_dtc=f1_score(target_valid, (model_dtc.predict(tf_idf_valid)))\n",
    "# f1_dtc\n"
   ]
  },
  {
   "cell_type": "markdown",
   "metadata": {},
   "source": [
    "###  Model LGBMClassifier"
   ]
  },
  {
   "cell_type": "markdown",
   "metadata": {},
   "source": [
    "(0.7556789789978563, {'learning_rate': 0.5, 'max_depth': 16} 28 min"
   ]
  },
  {
   "cell_type": "code",
   "execution_count": 18,
   "metadata": {},
   "outputs": [
    {
     "name": "stdout",
     "output_type": "stream",
     "text": [
      "CPU times: user 25min 28s, sys: 1.72 s, total: 25min 30s\n",
      "Wall time: 25min 35s\n"
     ]
    },
    {
     "data": {
      "text/plain": [
       "(0.759785383575356, {'learning_rate': 0.3, 'max_depth': 16})"
      ]
     },
     "execution_count": 18,
     "metadata": {},
     "output_type": "execute_result"
    }
   ],
   "source": [
    "%%time\n",
    "param3={\"max_depth\":[10,16],\n",
    "        \"learning_rate\":[0.3,0.5,1]}   \n",
    "\n",
    "lm = LGBMClassifier(n_estimators=100)#.fit(tf_idf_train, target_train)\n",
    "glm=GridSearchCV(lm,param3,scoring='f1').fit(tf_idf_train, target_train)\n",
    "glm.best_score_,glm.best_params_\n",
    "\n",
    "\n",
    "\n",
    "# f1_lm=f1_score(target_valid, (lm.predict(tf_idf_valid)))\n",
    "# f1_lm\n"
   ]
  },
  {
   "cell_type": "markdown",
   "metadata": {},
   "source": [
    "LogisticRegression дает лучшие резултаты f1== 0.76 (0.759785383575356, {'learning_rate': 0.3, 'max_depth': 16}) если сбалансировать и чуть чуть подобрать параметры\n",
    "Пороговое значение метрики 0.75 преодолено, получено 0.78. Лучшая модель - логистическая регрессия с подробранными гиперпараметрами.\n",
    "так же Model LGBMClassifier преодолел 75 порог а вот Model DecisionTreeClassifier f1 == 66 не преодолел порог "
   ]
  },
  {
   "cell_type": "markdown",
   "metadata": {},
   "source": [
    "### тест"
   ]
  },
  {
   "cell_type": "code",
   "execution_count": 19,
   "metadata": {},
   "outputs": [
    {
     "data": {
      "text/plain": [
       "0.7713055954088951"
      ]
     },
     "execution_count": 19,
     "metadata": {},
     "output_type": "execute_result"
    }
   ],
   "source": [
    "f1_best=f1_score(target_test, (gml.predict(tf_idf_test)))\n",
    "f1_best"
   ]
  },
  {
   "cell_type": "markdown",
   "metadata": {},
   "source": [
    "###  Model bert"
   ]
  },
  {
   "cell_type": "code",
   "execution_count": 21,
   "metadata": {},
   "outputs": [
    {
     "data": {
      "text/html": [
       "<div>\n",
       "<style scoped>\n",
       "    .dataframe tbody tr th:only-of-type {\n",
       "        vertical-align: middle;\n",
       "    }\n",
       "\n",
       "    .dataframe tbody tr th {\n",
       "        vertical-align: top;\n",
       "    }\n",
       "\n",
       "    .dataframe thead th {\n",
       "        text-align: right;\n",
       "    }\n",
       "</style>\n",
       "<table border=\"1\" class=\"dataframe\">\n",
       "  <thead>\n",
       "    <tr style=\"text-align: right;\">\n",
       "      <th></th>\n",
       "      <th>text</th>\n",
       "      <th>toxic</th>\n",
       "    </tr>\n",
       "  </thead>\n",
       "  <tbody>\n",
       "    <tr>\n",
       "      <th>0</th>\n",
       "      <td>Stan Kemp \\n\\nIt's also the site's biggest sho...</td>\n",
       "      <td>0</td>\n",
       "    </tr>\n",
       "    <tr>\n",
       "      <th>1</th>\n",
       "      <td>Don't\\nGet to big for your own shoes Lassy ], ...</td>\n",
       "      <td>0</td>\n",
       "    </tr>\n",
       "    <tr>\n",
       "      <th>2</th>\n",
       "      <td>, and has been blocked indefinitely.\\n Please ...</td>\n",
       "      <td>0</td>\n",
       "    </tr>\n",
       "    <tr>\n",
       "      <th>3</th>\n",
       "      <td>Edit request \\n\\nThank you for , can you do th...</td>\n",
       "      <td>0</td>\n",
       "    </tr>\n",
       "    <tr>\n",
       "      <th>4</th>\n",
       "      <td>All right, (sorry to interrupt) I think we sho...</td>\n",
       "      <td>0</td>\n",
       "    </tr>\n",
       "  </tbody>\n",
       "</table>\n",
       "</div>"
      ],
      "text/plain": [
       "                                                text  toxic\n",
       "0  Stan Kemp \\n\\nIt's also the site's biggest sho...      0\n",
       "1  Don't\\nGet to big for your own shoes Lassy ], ...      0\n",
       "2  , and has been blocked indefinitely.\\n Please ...      0\n",
       "3  Edit request \\n\\nThank you for , can you do th...      0\n",
       "4  All right, (sorry to interrupt) I think we sho...      0"
      ]
     },
     "execution_count": 21,
     "metadata": {},
     "output_type": "execute_result"
    }
   ],
   "source": [
    "df_tweets.head()"
   ]
  },
  {
   "cell_type": "code",
   "execution_count": 32,
   "metadata": {},
   "outputs": [
    {
     "data": {
      "application/vnd.jupyter.widget-view+json": {
       "model_id": "a082c702d5e9481292d97c9fdded6ba8",
       "version_major": 2,
       "version_minor": 0
      },
      "text/plain": [
       "Downloading:   0%|          | 0.00/226k [00:00<?, ?B/s]"
      ]
     },
     "metadata": {},
     "output_type": "display_data"
    },
    {
     "data": {
      "application/vnd.jupyter.widget-view+json": {
       "model_id": "71d43277c9624f8e837d406c075687ee",
       "version_major": 2,
       "version_minor": 0
      },
      "text/plain": [
       "Downloading:   0%|          | 0.00/112 [00:00<?, ?B/s]"
      ]
     },
     "metadata": {},
     "output_type": "display_data"
    },
    {
     "data": {
      "application/vnd.jupyter.widget-view+json": {
       "model_id": "94145892ba3c4dbc820feec124fc133a",
       "version_major": 2,
       "version_minor": 0
      },
      "text/plain": [
       "Downloading:   0%|          | 0.00/174 [00:00<?, ?B/s]"
      ]
     },
     "metadata": {},
     "output_type": "display_data"
    },
    {
     "data": {
      "application/vnd.jupyter.widget-view+json": {
       "model_id": "f355ef06897c41159d42201525d1131c",
       "version_major": 2,
       "version_minor": 0
      },
      "text/plain": [
       "Downloading:   0%|          | 0.00/811 [00:00<?, ?B/s]"
      ]
     },
     "metadata": {},
     "output_type": "display_data"
    }
   ],
   "source": [
    "#tokenizer = transformers.BertTokenizer(vocab_file='/datasets/ds_bert/vocab.txt')#unitary/toxic-bert\n",
    "tokenizer = transformers.BertTokenizer.from_pretrained('unitary/toxic-bert')"
   ]
  },
  {
   "cell_type": "code",
   "execution_count": 33,
   "metadata": {},
   "outputs": [],
   "source": [
    "tokenized = df_tweets['text'].apply(lambda x: tokenizer.encode(x, add_special_tokens=True, padding=True, truncation=True, max_length=512 ))"
   ]
  },
  {
   "cell_type": "code",
   "execution_count": 34,
   "metadata": {},
   "outputs": [],
   "source": [
    "max_len = 0\n",
    "for i in tokenized.values:\n",
    "    if len(i) > max_len:\n",
    "        max_len = len(i)"
   ]
  },
  {
   "cell_type": "code",
   "execution_count": 35,
   "metadata": {},
   "outputs": [],
   "source": [
    "padded = np.array([i + [0]*(max_len - len(i)) for i in tokenized.values])"
   ]
  },
  {
   "cell_type": "code",
   "execution_count": 36,
   "metadata": {},
   "outputs": [],
   "source": [
    "attention_mask = np.where(padded != 0, 1, 0)"
   ]
  },
  {
   "cell_type": "code",
   "execution_count": 37,
   "metadata": {},
   "outputs": [],
   "source": [
    "#config = transformers.BertConfig.from_json_file('/datasets/ds_bert/bert_config.json')#\n",
    "config = transformers.BertConfig.from_pretrained('unitary/toxic-bert')"
   ]
  },
  {
   "cell_type": "code",
   "execution_count": 38,
   "metadata": {
    "scrolled": true
   },
   "outputs": [
    {
     "data": {
      "application/vnd.jupyter.widget-view+json": {
       "model_id": "27b5da7b08774246aa642120f396a09e",
       "version_major": 2,
       "version_minor": 0
      },
      "text/plain": [
       "Downloading:   0%|          | 0.00/418M [00:00<?, ?B/s]"
      ]
     },
     "metadata": {},
     "output_type": "display_data"
    },
    {
     "name": "stderr",
     "output_type": "stream",
     "text": [
      "Some weights of the model checkpoint at unitary/toxic-bert were not used when initializing BertModel: ['classifier.bias', 'classifier.weight']\n",
      "- This IS expected if you are initializing BertModel from the checkpoint of a model trained on another task or with another architecture (e.g. initializing a BertForSequenceClassification model from a BertForPreTraining model).\n",
      "- This IS NOT expected if you are initializing BertModel from the checkpoint of a model that you expect to be exactly identical (initializing a BertForSequenceClassification model from a BertForSequenceClassification model).\n"
     ]
    }
   ],
   "source": [
    "#я не смого в калабе скачать этот и еше 2 файла.txt и json\n",
    "#model = transformers.BertModel.from_pretrained('unitary/toxic-bert', config=config)#unitary/toxic-bert  #/datasets/ds_bert/rubert_model.bin\n",
    "model = transformers.BertModel.from_pretrained('unitary/toxic-bert')  "
   ]
  },
  {
   "cell_type": "code",
   "execution_count": 39,
   "metadata": {},
   "outputs": [
    {
     "data": {
      "application/vnd.jupyter.widget-view+json": {
       "model_id": "4cef0544e9d548fbb6dcace1dede0d0f",
       "version_major": 2,
       "version_minor": 0
      },
      "text/plain": [
       "  0%|          | 0/40 [00:00<?, ?it/s]"
      ]
     },
     "metadata": {},
     "output_type": "display_data"
    }
   ],
   "source": [
    "batch_size = 10\n",
    "embeddings = []\n",
    "for i in notebook.tqdm(range(padded.shape[0] // batch_size)):\n",
    "        batch = torch.LongTensor(padded[batch_size*i:batch_size*(i+1)]) \n",
    "        attention_mask_batch = torch.LongTensor(attention_mask[batch_size*i:batch_size*(i+1)])\n",
    "        \n",
    "        with torch.no_grad():\n",
    "            batch_embeddings = model(batch, attention_mask=attention_mask_batch)\n",
    "        \n",
    "        embeddings.append(batch_embeddings[0][:,0,:].numpy())\n",
    "\n",
    "\n"
   ]
  },
  {
   "cell_type": "code",
   "execution_count": 40,
   "metadata": {},
   "outputs": [],
   "source": [
    "features2 = np.concatenate(embeddings)\n",
    "target2 = df_tweets['toxic']"
   ]
  },
  {
   "cell_type": "code",
   "execution_count": 41,
   "metadata": {},
   "outputs": [],
   "source": [
    "train_features2, test_features2, train_target2, test_target2 = train_test_split(features2, target2, test_size=0.2)"
   ]
  },
  {
   "cell_type": "markdown",
   "metadata": {},
   "source": [
    "m_bert.get_params().keys()"
   ]
  },
  {
   "cell_type": "code",
   "execution_count": 42,
   "metadata": {
    "scrolled": true
   },
   "outputs": [
    {
     "name": "stdout",
     "output_type": "stream",
     "text": [
      "f1 и лучшие параметры 0.951048951048951 {'C': 5, 'class_weight': 'balanced', 'n_jobs': -1, 'penalty': 'l1', 'solver': 'liblinear'}\n",
      "f1 на тестовой выборке 1.0\n"
     ]
    }
   ],
   "source": [
    "m_bert= LogisticRegression()\n",
    "param4={\"C\" :[1,5,9,11,15,20],\n",
    "        \"penalty\":['l2',\"l1\"] ,\n",
    "        \"class_weight\" : ['balanced'],\n",
    "        \"solver\":[\"liblinear\"],\n",
    "        \"n_jobs\": [-1]\n",
    "}\n",
    "ggb=GridSearchCV(m_bert,param4,scoring='f1').fit(train_features2, train_target2)\n",
    "print(\"f1 и лучшие параметры\",ggb.best_score_,ggb.best_params_)\n",
    "\n"
   ]
  },
  {
   "cell_type": "markdown",
   "metadata": {},
   "source": [
    "## Выводы"
   ]
  },
  {
   "cell_type": "markdown",
   "metadata": {},
   "source": [
    "model bert дал шикарные резултаты f1== 0.95 на 400 строк отрезкею мы использовали модель, которая видет токсичные тексты 'unitary/toxic-bert'"
   ]
  }
 ],
 "metadata": {
  "ExecuteTimeLog": [
   {
    "duration": 1831,
    "start_time": "2023-02-01T09:54:18.372Z"
   },
   {
    "duration": 14,
    "start_time": "2023-02-01T09:54:59.754Z"
   },
   {
    "duration": 3,
    "start_time": "2023-02-01T09:55:17.174Z"
   },
   {
    "duration": 5,
    "start_time": "2023-02-01T09:55:58.644Z"
   },
   {
    "duration": 3,
    "start_time": "2023-02-01T09:56:01.271Z"
   },
   {
    "duration": 3,
    "start_time": "2023-02-01T09:56:28.364Z"
   },
   {
    "duration": 2411,
    "start_time": "2023-02-01T09:57:44.850Z"
   },
   {
    "duration": 869,
    "start_time": "2023-02-01T09:58:05.882Z"
   },
   {
    "duration": 2,
    "start_time": "2023-02-01T09:59:04.516Z"
   },
   {
    "duration": 731,
    "start_time": "2023-02-01T09:59:14.056Z"
   },
   {
    "duration": 5,
    "start_time": "2023-02-01T09:59:28.200Z"
   },
   {
    "duration": 754,
    "start_time": "2023-02-01T09:59:32.368Z"
   },
   {
    "duration": 824,
    "start_time": "2023-02-01T10:01:03.561Z"
   },
   {
    "duration": 2501,
    "start_time": "2023-02-01T10:02:05.434Z"
   },
   {
    "duration": 799,
    "start_time": "2023-02-01T10:03:09.793Z"
   },
   {
    "duration": 777,
    "start_time": "2023-02-01T10:03:17.359Z"
   },
   {
    "duration": 736,
    "start_time": "2023-02-01T10:03:41.256Z"
   },
   {
    "duration": 181,
    "start_time": "2023-02-01T10:04:18.841Z"
   },
   {
    "duration": 2438,
    "start_time": "2023-02-01T10:04:35.417Z"
   },
   {
    "duration": 2458,
    "start_time": "2023-02-01T10:04:46.113Z"
   },
   {
    "duration": 1661,
    "start_time": "2023-02-01T10:04:54.985Z"
   },
   {
    "duration": 2720,
    "start_time": "2023-02-01T10:04:56.648Z"
   },
   {
    "duration": 1840,
    "start_time": "2023-02-01T10:05:09.105Z"
   },
   {
    "duration": 2586,
    "start_time": "2023-02-01T10:05:12.832Z"
   },
   {
    "duration": 1857,
    "start_time": "2023-02-01T10:05:37.905Z"
   },
   {
    "duration": 2533,
    "start_time": "2023-02-01T10:05:39.764Z"
   },
   {
    "duration": 1907,
    "start_time": "2023-02-01T10:05:47.505Z"
   },
   {
    "duration": 2573,
    "start_time": "2023-02-01T10:05:49.414Z"
   },
   {
    "duration": 20,
    "start_time": "2023-02-01T10:06:07.581Z"
   },
   {
    "duration": 12,
    "start_time": "2023-02-01T10:06:13.747Z"
   },
   {
    "duration": 1846,
    "start_time": "2023-02-01T10:06:18.812Z"
   },
   {
    "duration": 1487,
    "start_time": "2023-02-01T10:06:30.633Z"
   },
   {
    "duration": 136,
    "start_time": "2023-02-01T10:06:32.122Z"
   },
   {
    "duration": 0,
    "start_time": "2023-02-01T10:06:32.260Z"
   },
   {
    "duration": 13,
    "start_time": "2023-02-01T10:06:44.058Z"
   },
   {
    "duration": 17,
    "start_time": "2023-02-01T10:06:59.108Z"
   },
   {
    "duration": 11,
    "start_time": "2023-02-01T10:06:59.606Z"
   },
   {
    "duration": 926,
    "start_time": "2023-02-01T10:07:15.647Z"
   },
   {
    "duration": 2579,
    "start_time": "2023-02-01T10:07:18.075Z"
   },
   {
    "duration": 822,
    "start_time": "2023-02-01T10:08:52.531Z"
   },
   {
    "duration": 857,
    "start_time": "2023-02-01T10:09:02.923Z"
   },
   {
    "duration": 871,
    "start_time": "2023-02-01T10:09:38.639Z"
   },
   {
    "duration": 833,
    "start_time": "2023-02-01T10:11:01.173Z"
   },
   {
    "duration": 845,
    "start_time": "2023-02-01T10:11:20.588Z"
   },
   {
    "duration": 822,
    "start_time": "2023-02-01T10:11:46.716Z"
   },
   {
    "duration": 0,
    "start_time": "2023-02-01T10:11:47.539Z"
   },
   {
    "duration": 886,
    "start_time": "2023-02-01T10:11:55.836Z"
   },
   {
    "duration": 0,
    "start_time": "2023-02-01T10:11:56.723Z"
   },
   {
    "duration": 102,
    "start_time": "2023-02-01T10:12:14.228Z"
   },
   {
    "duration": 824,
    "start_time": "2023-02-01T10:12:18.178Z"
   },
   {
    "duration": 873,
    "start_time": "2023-02-01T10:12:49.607Z"
   },
   {
    "duration": 768,
    "start_time": "2023-02-01T10:12:58.687Z"
   },
   {
    "duration": 1499,
    "start_time": "2023-02-01T10:13:10.023Z"
   },
   {
    "duration": 931,
    "start_time": "2023-02-01T10:13:11.525Z"
   },
   {
    "duration": 2386,
    "start_time": "2023-02-01T10:13:12.458Z"
   },
   {
    "duration": 819,
    "start_time": "2023-02-01T10:13:23.934Z"
   },
   {
    "duration": 5,
    "start_time": "2023-02-01T10:37:47.802Z"
   },
   {
    "duration": 800,
    "start_time": "2023-02-01T10:37:48.303Z"
   },
   {
    "duration": 2327,
    "start_time": "2023-02-01T10:37:49.105Z"
   },
   {
    "duration": 29,
    "start_time": "2023-02-01T10:41:59.626Z"
   },
   {
    "duration": 1486,
    "start_time": "2023-02-01T10:42:29.592Z"
   },
   {
    "duration": 920,
    "start_time": "2023-02-01T10:42:31.080Z"
   },
   {
    "duration": 2421,
    "start_time": "2023-02-01T10:42:32.001Z"
   },
   {
    "duration": 35,
    "start_time": "2023-02-01T10:42:34.424Z"
   },
   {
    "duration": 44,
    "start_time": "2023-02-01T10:44:29.101Z"
   },
   {
    "duration": 2078,
    "start_time": "2023-02-01T10:46:05.197Z"
   },
   {
    "duration": 1599,
    "start_time": "2023-02-01T10:48:15.495Z"
   },
   {
    "duration": 2389,
    "start_time": "2023-02-01T10:48:17.096Z"
   },
   {
    "duration": 2289,
    "start_time": "2023-02-01T10:48:19.486Z"
   },
   {
    "duration": 47,
    "start_time": "2023-02-01T10:48:21.776Z"
   },
   {
    "duration": 7356,
    "start_time": "2023-02-01T10:48:21.824Z"
   },
   {
    "duration": 1472,
    "start_time": "2023-02-01T10:54:56.889Z"
   },
   {
    "duration": 2415,
    "start_time": "2023-02-01T10:54:58.362Z"
   },
   {
    "duration": 2323,
    "start_time": "2023-02-01T10:55:00.779Z"
   },
   {
    "duration": 42,
    "start_time": "2023-02-01T10:55:03.104Z"
   },
   {
    "duration": 11865,
    "start_time": "2023-02-01T10:55:03.149Z"
   },
   {
    "duration": 5,
    "start_time": "2023-02-01T11:11:02.239Z"
   },
   {
    "duration": 119,
    "start_time": "2023-02-01T11:11:14.589Z"
   },
   {
    "duration": 9,
    "start_time": "2023-02-01T11:11:32.955Z"
   },
   {
    "duration": 8,
    "start_time": "2023-02-01T11:11:42.221Z"
   },
   {
    "duration": 4,
    "start_time": "2023-02-01T11:11:50.166Z"
   },
   {
    "duration": 10,
    "start_time": "2023-02-01T11:11:55.420Z"
   },
   {
    "duration": 4,
    "start_time": "2023-02-01T11:12:09.583Z"
   },
   {
    "duration": 10,
    "start_time": "2023-02-01T11:12:24.943Z"
   },
   {
    "duration": 4,
    "start_time": "2023-02-01T11:12:33.622Z"
   },
   {
    "duration": 1466,
    "start_time": "2023-02-01T11:14:40.502Z"
   },
   {
    "duration": 892,
    "start_time": "2023-02-01T11:14:41.970Z"
   },
   {
    "duration": 2389,
    "start_time": "2023-02-01T11:14:42.863Z"
   },
   {
    "duration": 80,
    "start_time": "2023-02-01T11:14:45.254Z"
   },
   {
    "duration": 0,
    "start_time": "2023-02-01T11:14:45.336Z"
   },
   {
    "duration": 0,
    "start_time": "2023-02-01T11:14:45.337Z"
   },
   {
    "duration": 1425,
    "start_time": "2023-02-01T11:14:58.653Z"
   },
   {
    "duration": 897,
    "start_time": "2023-02-01T11:15:00.080Z"
   },
   {
    "duration": 2323,
    "start_time": "2023-02-01T11:15:00.978Z"
   },
   {
    "duration": 23,
    "start_time": "2023-02-01T11:15:03.302Z"
   },
   {
    "duration": 11524,
    "start_time": "2023-02-01T11:15:03.327Z"
   },
   {
    "duration": 3,
    "start_time": "2023-02-01T11:15:14.853Z"
   },
   {
    "duration": 12912,
    "start_time": "2023-02-01T11:18:07.503Z"
   },
   {
    "duration": 12766,
    "start_time": "2023-02-01T11:18:37.256Z"
   },
   {
    "duration": 34737,
    "start_time": "2023-02-01T11:18:55.959Z"
   },
   {
    "duration": 51280,
    "start_time": "2023-02-01T11:19:42.433Z"
   },
   {
    "duration": 46459,
    "start_time": "2023-02-01T11:20:40.533Z"
   },
   {
    "duration": 7830,
    "start_time": "2023-02-01T11:21:44.483Z"
   },
   {
    "duration": 13087,
    "start_time": "2023-02-01T11:22:01.025Z"
   },
   {
    "duration": 33747,
    "start_time": "2023-02-01T11:22:31.048Z"
   },
   {
    "duration": 34717,
    "start_time": "2023-02-01T11:23:12.483Z"
   },
   {
    "duration": 33875,
    "start_time": "2023-02-01T11:24:07.418Z"
   },
   {
    "duration": 124,
    "start_time": "2023-02-01T11:24:54.658Z"
   },
   {
    "duration": 35757,
    "start_time": "2023-02-01T11:25:14.642Z"
   },
   {
    "duration": 47176,
    "start_time": "2023-02-01T11:25:53.949Z"
   },
   {
    "duration": 48606,
    "start_time": "2023-02-01T11:26:59.688Z"
   },
   {
    "duration": 49885,
    "start_time": "2023-02-01T11:30:09.011Z"
   },
   {
    "duration": 50284,
    "start_time": "2023-02-01T11:31:07.715Z"
   },
   {
    "duration": 19,
    "start_time": "2023-02-01T11:32:05.841Z"
   },
   {
    "duration": 50040,
    "start_time": "2023-02-01T11:32:25.052Z"
   },
   {
    "duration": 50076,
    "start_time": "2023-02-01T11:33:25.316Z"
   },
   {
    "duration": 49265,
    "start_time": "2023-02-01T11:34:26.132Z"
   },
   {
    "duration": 10,
    "start_time": "2023-02-01T11:40:19.351Z"
   },
   {
    "duration": 1521,
    "start_time": "2023-02-01T11:41:15.229Z"
   },
   {
    "duration": 966,
    "start_time": "2023-02-01T11:41:16.753Z"
   },
   {
    "duration": 2494,
    "start_time": "2023-02-01T11:41:17.720Z"
   },
   {
    "duration": 29,
    "start_time": "2023-02-01T11:41:20.216Z"
   },
   {
    "duration": 12092,
    "start_time": "2023-02-01T11:41:20.247Z"
   },
   {
    "duration": 3,
    "start_time": "2023-02-01T11:41:32.341Z"
   },
   {
    "duration": 51451,
    "start_time": "2023-02-01T11:41:32.346Z"
   },
   {
    "duration": 7623,
    "start_time": "2023-02-01T11:42:23.799Z"
   },
   {
    "duration": 5122,
    "start_time": "2023-02-01T11:43:10.348Z"
   },
   {
    "duration": 15,
    "start_time": "2023-02-01T11:44:27.917Z"
   },
   {
    "duration": 15,
    "start_time": "2023-02-01T11:44:42.204Z"
   },
   {
    "duration": 4,
    "start_time": "2023-02-01T11:45:10.863Z"
   },
   {
    "duration": 5206,
    "start_time": "2023-02-01T11:45:36.937Z"
   },
   {
    "duration": 12,
    "start_time": "2023-02-01T11:45:56.605Z"
   },
   {
    "duration": 11,
    "start_time": "2023-02-01T11:46:07.751Z"
   },
   {
    "duration": 15,
    "start_time": "2023-02-01T11:47:11.004Z"
   },
   {
    "duration": 5398,
    "start_time": "2023-02-01T11:47:30.505Z"
   },
   {
    "duration": 2,
    "start_time": "2023-02-01T11:47:55.601Z"
   },
   {
    "duration": 5107,
    "start_time": "2023-02-01T11:48:04.014Z"
   },
   {
    "duration": 11,
    "start_time": "2023-02-01T11:50:53.315Z"
   },
   {
    "duration": 11,
    "start_time": "2023-02-01T11:51:09.318Z"
   },
   {
    "duration": 11,
    "start_time": "2023-02-01T11:51:15.613Z"
   },
   {
    "duration": 11,
    "start_time": "2023-02-01T11:51:22.104Z"
   },
   {
    "duration": 9,
    "start_time": "2023-02-01T11:51:44.436Z"
   },
   {
    "duration": 10,
    "start_time": "2023-02-01T11:53:35.923Z"
   },
   {
    "duration": 10,
    "start_time": "2023-02-01T11:53:44.912Z"
   },
   {
    "duration": 11,
    "start_time": "2023-02-01T11:54:25.937Z"
   },
   {
    "duration": 12,
    "start_time": "2023-02-01T11:54:52.600Z"
   },
   {
    "duration": 766,
    "start_time": "2023-02-01T12:01:04.349Z"
   },
   {
    "duration": 105,
    "start_time": "2023-02-01T12:02:06.132Z"
   },
   {
    "duration": 49929,
    "start_time": "2023-02-01T12:03:14.065Z"
   },
   {
    "duration": 26,
    "start_time": "2023-02-01T12:17:43.035Z"
   },
   {
    "duration": 25,
    "start_time": "2023-02-01T12:18:18.233Z"
   },
   {
    "duration": 11,
    "start_time": "2023-02-01T12:19:08.297Z"
   },
   {
    "duration": 24,
    "start_time": "2023-02-01T12:19:43.153Z"
   },
   {
    "duration": 28,
    "start_time": "2023-02-01T12:20:31.877Z"
   },
   {
    "duration": 29,
    "start_time": "2023-02-01T12:20:58.105Z"
   },
   {
    "duration": 1771,
    "start_time": "2023-02-01T12:21:57.730Z"
   },
   {
    "duration": 2677,
    "start_time": "2023-02-01T12:21:59.503Z"
   },
   {
    "duration": 374,
    "start_time": "2023-02-01T12:22:02.181Z"
   },
   {
    "duration": 2339,
    "start_time": "2023-02-01T12:22:02.556Z"
   },
   {
    "duration": 27,
    "start_time": "2023-02-01T12:22:04.897Z"
   },
   {
    "duration": 12050,
    "start_time": "2023-02-01T12:22:04.925Z"
   },
   {
    "duration": 3,
    "start_time": "2023-02-01T12:22:16.977Z"
   },
   {
    "duration": 48515,
    "start_time": "2023-02-01T12:22:16.981Z"
   },
   {
    "duration": 45,
    "start_time": "2023-02-01T12:23:23.566Z"
   },
   {
    "duration": 8,
    "start_time": "2023-02-01T12:23:43.299Z"
   },
   {
    "duration": 1550,
    "start_time": "2023-02-01T12:24:04.606Z"
   },
   {
    "duration": 2458,
    "start_time": "2023-02-01T12:24:06.159Z"
   },
   {
    "duration": 372,
    "start_time": "2023-02-01T12:24:08.619Z"
   },
   {
    "duration": 2415,
    "start_time": "2023-02-01T12:24:08.993Z"
   },
   {
    "duration": 34,
    "start_time": "2023-02-01T12:24:11.410Z"
   },
   {
    "duration": 11697,
    "start_time": "2023-02-01T12:24:11.446Z"
   },
   {
    "duration": 3,
    "start_time": "2023-02-01T12:24:23.145Z"
   },
   {
    "duration": 45,
    "start_time": "2023-02-01T12:24:42.338Z"
   },
   {
    "duration": 7,
    "start_time": "2023-02-01T12:25:35.555Z"
   },
   {
    "duration": 7,
    "start_time": "2023-02-01T12:25:51.093Z"
   },
   {
    "duration": 7,
    "start_time": "2023-02-01T12:29:15.131Z"
   },
   {
    "duration": 1875,
    "start_time": "2023-02-01T12:29:35.863Z"
   },
   {
    "duration": 0,
    "start_time": "2023-02-01T12:29:37.740Z"
   },
   {
    "duration": 0,
    "start_time": "2023-02-01T12:29:37.741Z"
   },
   {
    "duration": 0,
    "start_time": "2023-02-01T12:29:37.743Z"
   },
   {
    "duration": 0,
    "start_time": "2023-02-01T12:29:37.744Z"
   },
   {
    "duration": 0,
    "start_time": "2023-02-01T12:29:37.746Z"
   },
   {
    "duration": 0,
    "start_time": "2023-02-01T12:29:37.748Z"
   },
   {
    "duration": 0,
    "start_time": "2023-02-01T12:29:37.749Z"
   },
   {
    "duration": 0,
    "start_time": "2023-02-01T12:29:37.750Z"
   },
   {
    "duration": 6079,
    "start_time": "2023-02-01T12:29:42.702Z"
   },
   {
    "duration": 2388,
    "start_time": "2023-02-01T12:29:48.783Z"
   },
   {
    "duration": 368,
    "start_time": "2023-02-01T12:29:51.172Z"
   },
   {
    "duration": 2357,
    "start_time": "2023-02-01T12:29:51.541Z"
   },
   {
    "duration": 27,
    "start_time": "2023-02-01T12:29:53.900Z"
   },
   {
    "duration": 11723,
    "start_time": "2023-02-01T12:29:53.928Z"
   },
   {
    "duration": 2,
    "start_time": "2023-02-01T12:30:05.653Z"
   },
   {
    "duration": 49049,
    "start_time": "2023-02-01T12:30:05.657Z"
   },
   {
    "duration": 47,
    "start_time": "2023-02-01T12:31:45.494Z"
   },
   {
    "duration": 7,
    "start_time": "2023-02-01T12:31:53.557Z"
   },
   {
    "duration": 1482,
    "start_time": "2023-02-01T12:32:12.128Z"
   },
   {
    "duration": 2444,
    "start_time": "2023-02-01T12:32:13.612Z"
   },
   {
    "duration": 423,
    "start_time": "2023-02-01T12:32:16.058Z"
   },
   {
    "duration": 2421,
    "start_time": "2023-02-01T12:32:16.483Z"
   },
   {
    "duration": 26,
    "start_time": "2023-02-01T12:32:18.906Z"
   },
   {
    "duration": 12082,
    "start_time": "2023-02-01T12:32:18.934Z"
   },
   {
    "duration": 3,
    "start_time": "2023-02-01T12:32:31.018Z"
   },
   {
    "duration": 49577,
    "start_time": "2023-02-01T12:32:31.022Z"
   },
   {
    "duration": 48,
    "start_time": "2023-02-01T12:33:30.435Z"
   },
   {
    "duration": 7,
    "start_time": "2023-02-01T12:35:20.824Z"
   },
   {
    "duration": 6,
    "start_time": "2023-02-01T12:35:35.232Z"
   },
   {
    "duration": 1541,
    "start_time": "2023-02-01T12:35:49.798Z"
   },
   {
    "duration": 2470,
    "start_time": "2023-02-01T12:35:51.341Z"
   },
   {
    "duration": 393,
    "start_time": "2023-02-01T12:35:53.813Z"
   },
   {
    "duration": 2521,
    "start_time": "2023-02-01T12:35:54.208Z"
   },
   {
    "duration": 30,
    "start_time": "2023-02-01T12:35:56.731Z"
   },
   {
    "duration": 12012,
    "start_time": "2023-02-01T12:35:56.763Z"
   },
   {
    "duration": 4,
    "start_time": "2023-02-01T12:36:08.777Z"
   },
   {
    "duration": 48,
    "start_time": "2023-02-01T12:36:51.645Z"
   },
   {
    "duration": 673,
    "start_time": "2023-02-01T12:37:32.543Z"
   },
   {
    "duration": 1516,
    "start_time": "2023-02-01T12:38:16.126Z"
   },
   {
    "duration": 2423,
    "start_time": "2023-02-01T12:38:17.645Z"
   },
   {
    "duration": 371,
    "start_time": "2023-02-01T12:38:20.070Z"
   },
   {
    "duration": 2358,
    "start_time": "2023-02-01T12:38:20.443Z"
   },
   {
    "duration": 26,
    "start_time": "2023-02-01T12:38:22.803Z"
   },
   {
    "duration": 11839,
    "start_time": "2023-02-01T12:38:22.831Z"
   },
   {
    "duration": 3,
    "start_time": "2023-02-01T12:38:34.672Z"
   },
   {
    "duration": 798,
    "start_time": "2023-02-01T12:38:34.676Z"
   },
   {
    "duration": 2098,
    "start_time": "2023-02-01T12:40:22.330Z"
   },
   {
    "duration": 2459,
    "start_time": "2023-02-01T12:40:24.430Z"
   },
   {
    "duration": 402,
    "start_time": "2023-02-01T12:40:26.891Z"
   },
   {
    "duration": 2360,
    "start_time": "2023-02-01T12:40:27.294Z"
   },
   {
    "duration": 35,
    "start_time": "2023-02-01T12:40:29.656Z"
   },
   {
    "duration": 12104,
    "start_time": "2023-02-01T12:40:29.693Z"
   },
   {
    "duration": 4,
    "start_time": "2023-02-01T12:40:41.799Z"
   },
   {
    "duration": 805,
    "start_time": "2023-02-01T12:40:41.805Z"
   },
   {
    "duration": 47,
    "start_time": "2023-02-01T12:40:52.497Z"
   },
   {
    "duration": 664,
    "start_time": "2023-02-01T12:41:01.009Z"
   },
   {
    "duration": 45,
    "start_time": "2023-02-01T12:41:01.675Z"
   },
   {
    "duration": 1529,
    "start_time": "2023-02-01T12:41:24.798Z"
   },
   {
    "duration": 2425,
    "start_time": "2023-02-01T12:41:26.330Z"
   },
   {
    "duration": 353,
    "start_time": "2023-02-01T12:41:28.757Z"
   },
   {
    "duration": 2374,
    "start_time": "2023-02-01T12:41:29.111Z"
   },
   {
    "duration": 30,
    "start_time": "2023-02-01T12:41:31.490Z"
   },
   {
    "duration": 12108,
    "start_time": "2023-02-01T12:41:31.521Z"
   },
   {
    "duration": 3,
    "start_time": "2023-02-01T12:41:43.631Z"
   },
   {
    "duration": 1441,
    "start_time": "2023-02-01T12:42:51.214Z"
   },
   {
    "duration": 2481,
    "start_time": "2023-02-01T12:42:52.657Z"
   },
   {
    "duration": 374,
    "start_time": "2023-02-01T12:42:55.139Z"
   },
   {
    "duration": 2460,
    "start_time": "2023-02-01T12:42:55.514Z"
   },
   {
    "duration": 35,
    "start_time": "2023-02-01T12:42:57.976Z"
   },
   {
    "duration": 11825,
    "start_time": "2023-02-01T12:42:58.013Z"
   },
   {
    "duration": 4,
    "start_time": "2023-02-01T12:43:09.840Z"
   },
   {
    "duration": 48,
    "start_time": "2023-02-01T12:43:45.345Z"
   },
   {
    "duration": 6,
    "start_time": "2023-02-01T12:45:19.233Z"
   },
   {
    "duration": 4,
    "start_time": "2023-02-01T12:45:51.933Z"
   },
   {
    "duration": 1568,
    "start_time": "2023-02-01T12:45:58.006Z"
   },
   {
    "duration": 2432,
    "start_time": "2023-02-01T12:45:59.576Z"
   },
   {
    "duration": 359,
    "start_time": "2023-02-01T12:46:02.010Z"
   },
   {
    "duration": 2373,
    "start_time": "2023-02-01T12:46:02.370Z"
   },
   {
    "duration": 27,
    "start_time": "2023-02-01T12:46:04.745Z"
   },
   {
    "duration": 11617,
    "start_time": "2023-02-01T12:46:04.774Z"
   },
   {
    "duration": 3,
    "start_time": "2023-02-01T12:46:16.393Z"
   },
   {
    "duration": 13,
    "start_time": "2023-02-01T12:46:16.397Z"
   },
   {
    "duration": 38968,
    "start_time": "2023-02-01T12:46:41.218Z"
   },
   {
    "duration": 64267,
    "start_time": "2023-02-01T12:47:57.353Z"
   },
   {
    "duration": 43260,
    "start_time": "2023-02-01T12:49:28.688Z"
   },
   {
    "duration": 138792,
    "start_time": "2023-02-01T12:50:22.928Z"
   },
   {
    "duration": 232,
    "start_time": "2023-02-01T12:53:00.025Z"
   },
   {
    "duration": 22,
    "start_time": "2023-02-01T12:54:49.001Z"
   },
   {
    "duration": 830,
    "start_time": "2023-02-01T12:54:49.025Z"
   },
   {
    "duration": 121,
    "start_time": "2023-02-01T12:54:49.857Z"
   },
   {
    "duration": 2340,
    "start_time": "2023-02-01T12:54:49.979Z"
   },
   {
    "duration": 52,
    "start_time": "2023-02-01T12:54:52.321Z"
   },
   {
    "duration": 142,
    "start_time": "2023-02-01T12:54:58.746Z"
   },
   {
    "duration": 84,
    "start_time": "2023-02-01T12:55:42.305Z"
   },
   {
    "duration": 76,
    "start_time": "2023-02-01T12:55:48.705Z"
   },
   {
    "duration": 1554,
    "start_time": "2023-02-01T12:56:04.505Z"
   },
   {
    "duration": 2524,
    "start_time": "2023-02-01T12:56:06.061Z"
   },
   {
    "duration": 414,
    "start_time": "2023-02-01T12:56:08.586Z"
   },
   {
    "duration": 2579,
    "start_time": "2023-02-01T12:56:09.002Z"
   },
   {
    "duration": 33,
    "start_time": "2023-02-01T12:56:11.584Z"
   },
   {
    "duration": 12626,
    "start_time": "2023-02-01T12:56:11.619Z"
   },
   {
    "duration": 220,
    "start_time": "2023-02-01T12:56:24.247Z"
   },
   {
    "duration": 54982,
    "start_time": "2023-02-01T12:56:34.141Z"
   },
   {
    "duration": 2151,
    "start_time": "2023-02-01T14:00:05.307Z"
   },
   {
    "duration": 3329,
    "start_time": "2023-02-01T14:00:07.460Z"
   },
   {
    "duration": 567,
    "start_time": "2023-02-01T14:00:10.791Z"
   },
   {
    "duration": 2434,
    "start_time": "2023-02-01T14:00:11.361Z"
   },
   {
    "duration": 29,
    "start_time": "2023-02-01T14:00:13.797Z"
   },
   {
    "duration": 12128,
    "start_time": "2023-02-01T14:00:13.827Z"
   },
   {
    "duration": 54559,
    "start_time": "2023-02-01T14:00:25.957Z"
   },
   {
    "duration": 4543,
    "start_time": "2023-02-01T14:01:20.518Z"
   },
   {
    "duration": 5461,
    "start_time": "2023-02-01T14:02:14.677Z"
   },
   {
    "duration": 4486,
    "start_time": "2023-02-01T14:02:28.890Z"
   },
   {
    "duration": 5673,
    "start_time": "2023-02-01T14:02:48.528Z"
   },
   {
    "duration": 91422,
    "start_time": "2023-02-01T14:03:26.782Z"
   },
   {
    "duration": 138,
    "start_time": "2023-02-01T14:04:58.206Z"
   },
   {
    "duration": 12,
    "start_time": "2023-02-01T14:07:19.605Z"
   },
   {
    "duration": 10,
    "start_time": "2023-02-01T14:07:29.413Z"
   },
   {
    "duration": 11,
    "start_time": "2023-02-01T14:07:33.544Z"
   },
   {
    "duration": 4300,
    "start_time": "2023-02-01T14:07:38.549Z"
   },
   {
    "duration": 84702,
    "start_time": "2023-02-01T14:08:50.774Z"
   },
   {
    "duration": 4699,
    "start_time": "2023-02-01T14:10:28.189Z"
   },
   {
    "duration": 15,
    "start_time": "2023-02-01T14:11:42.777Z"
   },
   {
    "duration": 720,
    "start_time": "2023-02-01T14:12:25.683Z"
   },
   {
    "duration": 76,
    "start_time": "2023-02-01T14:12:26.405Z"
   },
   {
    "duration": 8,
    "start_time": "2023-02-01T14:12:47.269Z"
   },
   {
    "duration": 10,
    "start_time": "2023-02-01T14:14:37.327Z"
   },
   {
    "duration": 1970,
    "start_time": "2023-02-01T14:14:54.475Z"
   },
   {
    "duration": 3322,
    "start_time": "2023-02-01T14:14:56.449Z"
   },
   {
    "duration": 410,
    "start_time": "2023-02-01T14:14:59.773Z"
   },
   {
    "duration": 2463,
    "start_time": "2023-02-01T14:15:00.185Z"
   },
   {
    "duration": 30,
    "start_time": "2023-02-01T14:15:02.650Z"
   },
   {
    "duration": 12366,
    "start_time": "2023-02-01T14:15:02.682Z"
   },
   {
    "duration": 45,
    "start_time": "2023-02-01T14:16:34.612Z"
   },
   {
    "duration": 2165,
    "start_time": "2023-02-01T14:16:44.162Z"
   },
   {
    "duration": 3413,
    "start_time": "2023-02-01T14:16:46.329Z"
   },
   {
    "duration": 366,
    "start_time": "2023-02-01T14:16:49.744Z"
   },
   {
    "duration": 2373,
    "start_time": "2023-02-01T14:16:50.111Z"
   },
   {
    "duration": 28,
    "start_time": "2023-02-01T14:16:52.485Z"
   },
   {
    "duration": 11904,
    "start_time": "2023-02-01T14:16:52.514Z"
   },
   {
    "duration": 50183,
    "start_time": "2023-02-01T14:17:04.420Z"
   },
   {
    "duration": 162,
    "start_time": "2023-02-01T14:18:24.507Z"
   },
   {
    "duration": 123844,
    "start_time": "2023-02-01T14:18:51.706Z"
   },
   {
    "duration": 124436,
    "start_time": "2023-02-01T14:21:01.701Z"
   },
   {
    "duration": 1244,
    "start_time": "2023-02-01T14:23:32.793Z"
   },
   {
    "duration": 1068,
    "start_time": "2023-02-01T14:25:05.439Z"
   },
   {
    "duration": 1693,
    "start_time": "2023-02-01T14:25:14.666Z"
   },
   {
    "duration": 976,
    "start_time": "2023-02-01T14:25:16.362Z"
   },
   {
    "duration": 430,
    "start_time": "2023-02-01T14:25:17.339Z"
   },
   {
    "duration": 2539,
    "start_time": "2023-02-01T14:25:17.771Z"
   },
   {
    "duration": 33,
    "start_time": "2023-02-01T14:25:20.312Z"
   },
   {
    "duration": 12098,
    "start_time": "2023-02-01T14:25:20.347Z"
   },
   {
    "duration": 48172,
    "start_time": "2023-02-01T14:25:32.446Z"
   },
   {
    "duration": 241,
    "start_time": "2023-02-01T14:26:20.620Z"
   },
   {
    "duration": 136066,
    "start_time": "2023-02-01T14:26:32.995Z"
   },
   {
    "duration": 143214,
    "start_time": "2023-02-01T14:29:01.176Z"
   },
   {
    "duration": 111823,
    "start_time": "2023-02-01T14:31:49.111Z"
   },
   {
    "duration": 31369,
    "start_time": "2023-02-01T14:34:05.884Z"
   },
   {
    "duration": 48,
    "start_time": "2023-02-01T14:35:01.697Z"
   },
   {
    "duration": 11,
    "start_time": "2023-02-01T14:35:30.401Z"
   },
   {
    "duration": 36,
    "start_time": "2023-02-01T14:35:54.361Z"
   },
   {
    "duration": 13,
    "start_time": "2023-02-01T14:36:04.268Z"
   },
   {
    "duration": 12,
    "start_time": "2023-02-01T14:36:15.826Z"
   },
   {
    "duration": 1511,
    "start_time": "2023-02-01T14:36:42.143Z"
   },
   {
    "duration": 982,
    "start_time": "2023-02-01T14:36:43.656Z"
   },
   {
    "duration": 316,
    "start_time": "2023-02-01T14:36:44.640Z"
   },
   {
    "duration": 2414,
    "start_time": "2023-02-01T14:36:44.959Z"
   },
   {
    "duration": 34,
    "start_time": "2023-02-01T14:36:47.374Z"
   },
   {
    "duration": 11847,
    "start_time": "2023-02-01T14:36:47.410Z"
   },
   {
    "duration": 48644,
    "start_time": "2023-02-01T14:36:59.259Z"
   },
   {
    "duration": 30993,
    "start_time": "2023-02-01T14:37:47.904Z"
   },
   {
    "duration": 137,
    "start_time": "2023-02-01T14:38:18.899Z"
   },
   {
    "duration": 21579,
    "start_time": "2023-02-01T14:41:59.840Z"
   },
   {
    "duration": 53,
    "start_time": "2023-02-01T14:42:21.422Z"
   },
   {
    "duration": 1504,
    "start_time": "2023-02-01T14:42:30.126Z"
   },
   {
    "duration": 896,
    "start_time": "2023-02-01T14:42:31.632Z"
   },
   {
    "duration": 315,
    "start_time": "2023-02-01T14:42:32.536Z"
   },
   {
    "duration": 2440,
    "start_time": "2023-02-01T14:42:32.853Z"
   },
   {
    "duration": 31,
    "start_time": "2023-02-01T14:42:35.296Z"
   },
   {
    "duration": 11825,
    "start_time": "2023-02-01T14:42:35.329Z"
   },
   {
    "duration": 21563,
    "start_time": "2023-02-01T14:42:47.157Z"
   },
   {
    "duration": 172,
    "start_time": "2023-02-01T14:43:08.722Z"
   },
   {
    "duration": 10,
    "start_time": "2023-02-01T14:43:08.896Z"
   },
   {
    "duration": 31029,
    "start_time": "2023-02-01T14:43:33.691Z"
   },
   {
    "duration": 13,
    "start_time": "2023-02-01T14:44:13.351Z"
   },
   {
    "duration": 11,
    "start_time": "2023-02-01T14:44:29.120Z"
   },
   {
    "duration": 10,
    "start_time": "2023-02-01T14:44:35.239Z"
   },
   {
    "duration": 11,
    "start_time": "2023-02-01T14:44:51.381Z"
   },
   {
    "duration": 3,
    "start_time": "2023-02-01T14:45:12.033Z"
   },
   {
    "duration": 2306,
    "start_time": "2023-02-01T14:46:51.908Z"
   },
   {
    "duration": 1133,
    "start_time": "2023-02-01T14:46:54.218Z"
   },
   {
    "duration": 308,
    "start_time": "2023-02-01T14:46:55.352Z"
   },
   {
    "duration": 2406,
    "start_time": "2023-02-01T14:46:55.662Z"
   },
   {
    "duration": 37,
    "start_time": "2023-02-01T14:46:58.069Z"
   },
   {
    "duration": 12132,
    "start_time": "2023-02-01T14:46:58.108Z"
   },
   {
    "duration": 3,
    "start_time": "2023-02-01T14:47:10.242Z"
   },
   {
    "duration": 16762,
    "start_time": "2023-02-01T14:47:10.247Z"
   },
   {
    "duration": 31152,
    "start_time": "2023-02-01T14:47:27.011Z"
   },
   {
    "duration": 46,
    "start_time": "2023-02-01T14:50:06.687Z"
   },
   {
    "duration": 2415,
    "start_time": "2023-02-01T14:50:29.789Z"
   },
   {
    "duration": 3373,
    "start_time": "2023-02-01T14:50:32.206Z"
   },
   {
    "duration": 314,
    "start_time": "2023-02-01T14:50:35.580Z"
   },
   {
    "duration": 2382,
    "start_time": "2023-02-01T14:50:35.896Z"
   },
   {
    "duration": 32,
    "start_time": "2023-02-01T14:50:38.280Z"
   },
   {
    "duration": 11963,
    "start_time": "2023-02-01T14:50:38.313Z"
   },
   {
    "duration": 3,
    "start_time": "2023-02-01T14:50:50.278Z"
   },
   {
    "duration": 16739,
    "start_time": "2023-02-01T14:50:50.282Z"
   },
   {
    "duration": 45,
    "start_time": "2023-02-01T14:52:44.779Z"
   },
   {
    "duration": 2145,
    "start_time": "2023-02-01T14:52:50.689Z"
   },
   {
    "duration": 3311,
    "start_time": "2023-02-01T14:52:52.836Z"
   },
   {
    "duration": 316,
    "start_time": "2023-02-01T14:52:56.149Z"
   },
   {
    "duration": 2400,
    "start_time": "2023-02-01T14:52:56.466Z"
   },
   {
    "duration": 34,
    "start_time": "2023-02-01T14:52:58.868Z"
   },
   {
    "duration": 11915,
    "start_time": "2023-02-01T14:52:58.904Z"
   },
   {
    "duration": 3,
    "start_time": "2023-02-01T14:53:10.821Z"
   },
   {
    "duration": 16898,
    "start_time": "2023-02-01T14:53:10.825Z"
   },
   {
    "duration": 48,
    "start_time": "2023-02-01T14:54:58.847Z"
   },
   {
    "duration": 1993,
    "start_time": "2023-02-01T14:55:08.293Z"
   },
   {
    "duration": 3358,
    "start_time": "2023-02-01T14:55:10.289Z"
   },
   {
    "duration": 323,
    "start_time": "2023-02-01T14:55:13.649Z"
   },
   {
    "duration": 2435,
    "start_time": "2023-02-01T14:55:13.974Z"
   },
   {
    "duration": 29,
    "start_time": "2023-02-01T14:55:16.411Z"
   },
   {
    "duration": 12041,
    "start_time": "2023-02-01T14:55:16.442Z"
   },
   {
    "duration": 3,
    "start_time": "2023-02-01T14:55:28.485Z"
   },
   {
    "duration": 16926,
    "start_time": "2023-02-01T14:55:28.493Z"
   },
   {
    "duration": 134,
    "start_time": "2023-02-01T14:55:45.421Z"
   },
   {
    "duration": 39,
    "start_time": "2023-02-01T14:57:29.037Z"
   },
   {
    "duration": 4,
    "start_time": "2023-02-01T14:57:43.426Z"
   },
   {
    "duration": 39,
    "start_time": "2023-02-01T14:57:46.858Z"
   },
   {
    "duration": 12,
    "start_time": "2023-02-01T14:58:09.388Z"
   },
   {
    "duration": 41,
    "start_time": "2023-02-01T14:58:24.129Z"
   },
   {
    "duration": 4,
    "start_time": "2023-02-01T14:59:14.738Z"
   },
   {
    "duration": 53773,
    "start_time": "2023-02-01T15:00:20.821Z"
   },
   {
    "duration": 4,
    "start_time": "2023-02-01T15:02:48.951Z"
   },
   {
    "duration": 42,
    "start_time": "2023-02-01T15:06:35.509Z"
   },
   {
    "duration": 51,
    "start_time": "2023-02-01T15:06:43.661Z"
   },
   {
    "duration": 10,
    "start_time": "2023-02-01T15:06:58.791Z"
   },
   {
    "duration": 1729,
    "start_time": "2023-02-01T15:07:23.405Z"
   },
   {
    "duration": 889,
    "start_time": "2023-02-01T15:07:25.136Z"
   },
   {
    "duration": 332,
    "start_time": "2023-02-01T15:07:26.026Z"
   },
   {
    "duration": 2549,
    "start_time": "2023-02-01T15:07:26.360Z"
   },
   {
    "duration": 28,
    "start_time": "2023-02-01T15:07:28.912Z"
   },
   {
    "duration": 11979,
    "start_time": "2023-02-01T15:07:28.941Z"
   },
   {
    "duration": 3,
    "start_time": "2023-02-01T15:07:40.922Z"
   },
   {
    "duration": 16893,
    "start_time": "2023-02-01T15:07:40.926Z"
   },
   {
    "duration": 5,
    "start_time": "2023-02-01T15:07:57.820Z"
   },
   {
    "duration": 18,
    "start_time": "2023-02-01T15:07:57.826Z"
   },
   {
    "duration": 60465,
    "start_time": "2023-02-01T15:07:57.846Z"
   },
   {
    "duration": 4,
    "start_time": "2023-02-01T15:08:58.313Z"
   },
   {
    "duration": 152,
    "start_time": "2023-02-01T15:08:58.318Z"
   },
   {
    "duration": 11,
    "start_time": "2023-02-01T15:53:39.306Z"
   },
   {
    "duration": 1627,
    "start_time": "2023-02-01T15:53:55.326Z"
   },
   {
    "duration": 891,
    "start_time": "2023-02-01T15:53:56.955Z"
   },
   {
    "duration": 328,
    "start_time": "2023-02-01T15:53:57.848Z"
   },
   {
    "duration": 2446,
    "start_time": "2023-02-01T15:53:58.178Z"
   },
   {
    "duration": 38,
    "start_time": "2023-02-01T15:54:00.625Z"
   },
   {
    "duration": 11994,
    "start_time": "2023-02-01T15:54:00.664Z"
   },
   {
    "duration": 3,
    "start_time": "2023-02-01T15:54:12.660Z"
   },
   {
    "duration": 15562,
    "start_time": "2023-02-01T15:54:12.664Z"
   },
   {
    "duration": 5,
    "start_time": "2023-02-01T15:54:28.227Z"
   },
   {
    "duration": 15,
    "start_time": "2023-02-01T15:54:28.235Z"
   },
   {
    "duration": 53654,
    "start_time": "2023-02-01T15:54:28.252Z"
   },
   {
    "duration": 4,
    "start_time": "2023-02-01T15:55:21.908Z"
   },
   {
    "duration": 159,
    "start_time": "2023-02-01T15:55:21.914Z"
   },
   {
    "duration": 11,
    "start_time": "2023-02-01T15:55:41.394Z"
   },
   {
    "duration": 10,
    "start_time": "2023-02-01T15:55:58.964Z"
   },
   {
    "duration": 12,
    "start_time": "2023-02-01T15:56:32.302Z"
   },
   {
    "duration": 12,
    "start_time": "2023-02-01T15:56:40.844Z"
   },
   {
    "duration": 13,
    "start_time": "2023-02-01T15:57:11.321Z"
   },
   {
    "duration": 23,
    "start_time": "2023-02-01T15:57:57.611Z"
   },
   {
    "duration": 37,
    "start_time": "2023-02-01T15:58:19.325Z"
   },
   {
    "duration": 31,
    "start_time": "2023-02-01T15:58:40.763Z"
   },
   {
    "duration": 58012,
    "start_time": "2023-02-01T16:00:20.298Z"
   },
   {
    "duration": 6,
    "start_time": "2023-02-01T16:01:41.109Z"
   },
   {
    "duration": 81100,
    "start_time": "2023-02-01T16:02:14.992Z"
   },
   {
    "duration": 8,
    "start_time": "2023-02-01T16:03:36.095Z"
   },
   {
    "duration": 3,
    "start_time": "2023-02-01T16:03:43.208Z"
   },
   {
    "duration": 157547,
    "start_time": "2023-02-01T16:04:01.462Z"
   },
   {
    "duration": 4,
    "start_time": "2023-02-01T16:06:39.011Z"
   },
   {
    "duration": 88,
    "start_time": "2023-02-01T16:11:10.306Z"
   },
   {
    "duration": 66,
    "start_time": "2023-02-01T16:11:27.533Z"
   },
   {
    "duration": 1694,
    "start_time": "2023-02-01T16:11:55.069Z"
   },
   {
    "duration": 978,
    "start_time": "2023-02-01T16:11:56.765Z"
   },
   {
    "duration": 430,
    "start_time": "2023-02-01T16:11:57.745Z"
   },
   {
    "duration": 2765,
    "start_time": "2023-02-01T16:11:58.177Z"
   },
   {
    "duration": 48,
    "start_time": "2023-02-01T16:12:00.945Z"
   },
   {
    "duration": 13251,
    "start_time": "2023-02-01T16:12:00.999Z"
   },
   {
    "duration": 8,
    "start_time": "2023-02-01T16:12:14.253Z"
   },
   {
    "duration": 229,
    "start_time": "2023-02-01T16:12:14.264Z"
   },
   {
    "duration": 0,
    "start_time": "2023-02-01T16:12:14.495Z"
   },
   {
    "duration": 19,
    "start_time": "2023-02-01T16:12:25.446Z"
   },
   {
    "duration": 52,
    "start_time": "2023-02-01T16:12:35.905Z"
   },
   {
    "duration": 36,
    "start_time": "2023-02-01T16:13:12.134Z"
   },
   {
    "duration": 1789,
    "start_time": "2023-02-01T16:13:33.235Z"
   },
   {
    "duration": 968,
    "start_time": "2023-02-01T16:13:35.026Z"
   },
   {
    "duration": 364,
    "start_time": "2023-02-01T16:13:35.999Z"
   },
   {
    "duration": 2936,
    "start_time": "2023-02-01T16:13:36.365Z"
   },
   {
    "duration": 47,
    "start_time": "2023-02-01T16:13:39.308Z"
   },
   {
    "duration": 13291,
    "start_time": "2023-02-01T16:13:39.357Z"
   },
   {
    "duration": 4,
    "start_time": "2023-02-01T16:13:52.650Z"
   },
   {
    "duration": 263,
    "start_time": "2023-02-01T16:13:52.656Z"
   },
   {
    "duration": 0,
    "start_time": "2023-02-01T16:13:52.921Z"
   },
   {
    "duration": 31,
    "start_time": "2023-02-01T16:14:03.518Z"
   },
   {
    "duration": 1747,
    "start_time": "2023-02-01T16:14:22.501Z"
   },
   {
    "duration": 1066,
    "start_time": "2023-02-01T16:14:24.250Z"
   },
   {
    "duration": 351,
    "start_time": "2023-02-01T16:14:25.318Z"
   },
   {
    "duration": 2778,
    "start_time": "2023-02-01T16:14:25.671Z"
   },
   {
    "duration": 31,
    "start_time": "2023-02-01T16:14:28.451Z"
   },
   {
    "duration": 13369,
    "start_time": "2023-02-01T16:14:28.494Z"
   },
   {
    "duration": 3,
    "start_time": "2023-02-01T16:14:41.865Z"
   },
   {
    "duration": 227,
    "start_time": "2023-02-01T16:14:41.870Z"
   },
   {
    "duration": 0,
    "start_time": "2023-02-01T16:14:42.100Z"
   },
   {
    "duration": 12,
    "start_time": "2023-02-01T16:15:10.216Z"
   },
   {
    "duration": 6,
    "start_time": "2023-02-01T16:15:20.527Z"
   },
   {
    "duration": 31,
    "start_time": "2023-02-01T16:16:10.146Z"
   },
   {
    "duration": 3,
    "start_time": "2023-02-01T16:16:27.213Z"
   },
   {
    "duration": 4,
    "start_time": "2023-02-01T16:16:29.413Z"
   },
   {
    "duration": 47,
    "start_time": "2023-02-01T16:16:30.161Z"
   },
   {
    "duration": 1763,
    "start_time": "2023-02-01T16:16:53.859Z"
   },
   {
    "duration": 987,
    "start_time": "2023-02-01T16:16:55.623Z"
   },
   {
    "duration": 330,
    "start_time": "2023-02-01T16:16:56.613Z"
   },
   {
    "duration": 2727,
    "start_time": "2023-02-01T16:16:56.945Z"
   },
   {
    "duration": 41,
    "start_time": "2023-02-01T16:16:59.674Z"
   },
   {
    "duration": 13158,
    "start_time": "2023-02-01T16:16:59.717Z"
   },
   {
    "duration": 4,
    "start_time": "2023-02-01T16:17:12.877Z"
   },
   {
    "duration": 159,
    "start_time": "2023-02-01T16:17:12.882Z"
   },
   {
    "duration": 0,
    "start_time": "2023-02-01T16:17:13.043Z"
   },
   {
    "duration": 0,
    "start_time": "2023-02-01T16:17:13.045Z"
   },
   {
    "duration": 33,
    "start_time": "2023-02-01T16:17:22.808Z"
   },
   {
    "duration": 55,
    "start_time": "2023-02-01T16:17:25.110Z"
   },
   {
    "duration": 1765,
    "start_time": "2023-02-01T16:17:44.187Z"
   },
   {
    "duration": 997,
    "start_time": "2023-02-01T16:17:45.955Z"
   },
   {
    "duration": 358,
    "start_time": "2023-02-01T16:17:46.954Z"
   },
   {
    "duration": 2957,
    "start_time": "2023-02-01T16:17:47.314Z"
   },
   {
    "duration": 53,
    "start_time": "2023-02-01T16:17:50.274Z"
   },
   {
    "duration": 13364,
    "start_time": "2023-02-01T16:17:50.329Z"
   },
   {
    "duration": 5,
    "start_time": "2023-02-01T16:18:03.697Z"
   },
   {
    "duration": 178,
    "start_time": "2023-02-01T16:18:03.704Z"
   },
   {
    "duration": 0,
    "start_time": "2023-02-01T16:18:03.885Z"
   },
   {
    "duration": 79,
    "start_time": "2023-02-01T16:18:11.155Z"
   },
   {
    "duration": 80,
    "start_time": "2023-02-01T16:18:26.536Z"
   },
   {
    "duration": 71456,
    "start_time": "2023-02-01T16:18:53.819Z"
   },
   {
    "duration": 14147,
    "start_time": "2023-02-01T16:20:05.277Z"
   },
   {
    "duration": 72191,
    "start_time": "2023-02-01T16:20:24.001Z"
   },
   {
    "duration": 5,
    "start_time": "2023-02-01T16:22:03.848Z"
   },
   {
    "duration": 6334,
    "start_time": "2023-02-01T16:22:41.201Z"
   },
   {
    "duration": 6534,
    "start_time": "2023-02-01T16:23:00.762Z"
   },
   {
    "duration": 6386,
    "start_time": "2023-02-01T16:23:28.139Z"
   },
   {
    "duration": 68108,
    "start_time": "2023-02-01T16:23:51.405Z"
   },
   {
    "duration": 15171,
    "start_time": "2023-02-01T16:26:35.772Z"
   },
   {
    "duration": 1652,
    "start_time": "2023-02-01T16:27:16.673Z"
   },
   {
    "duration": 965,
    "start_time": "2023-02-01T16:27:18.327Z"
   },
   {
    "duration": 354,
    "start_time": "2023-02-01T16:27:19.300Z"
   },
   {
    "duration": 2765,
    "start_time": "2023-02-01T16:27:19.656Z"
   },
   {
    "duration": 33,
    "start_time": "2023-02-01T16:27:22.423Z"
   },
   {
    "duration": 12897,
    "start_time": "2023-02-01T16:27:22.458Z"
   },
   {
    "duration": 4,
    "start_time": "2023-02-01T16:27:35.357Z"
   },
   {
    "duration": 16426,
    "start_time": "2023-02-01T16:27:35.362Z"
   },
   {
    "duration": 0,
    "start_time": "2023-02-01T16:27:51.790Z"
   },
   {
    "duration": 0,
    "start_time": "2023-02-01T16:27:51.796Z"
   },
   {
    "duration": 4,
    "start_time": "2023-02-01T16:28:06.368Z"
   },
   {
    "duration": 36,
    "start_time": "2023-02-01T16:29:12.087Z"
   },
   {
    "duration": 31,
    "start_time": "2023-02-01T16:29:29.147Z"
   },
   {
    "duration": 1595,
    "start_time": "2023-02-01T16:29:41.785Z"
   },
   {
    "duration": 1054,
    "start_time": "2023-02-01T16:29:43.383Z"
   },
   {
    "duration": 336,
    "start_time": "2023-02-01T16:29:44.438Z"
   },
   {
    "duration": 2815,
    "start_time": "2023-02-01T16:29:44.776Z"
   },
   {
    "duration": 42,
    "start_time": "2023-02-01T16:29:47.595Z"
   },
   {
    "duration": 13479,
    "start_time": "2023-02-01T16:29:47.638Z"
   },
   {
    "duration": 4,
    "start_time": "2023-02-01T16:30:01.119Z"
   },
   {
    "duration": 176,
    "start_time": "2023-02-01T16:30:01.124Z"
   },
   {
    "duration": 0,
    "start_time": "2023-02-01T16:30:01.315Z"
   },
   {
    "duration": 0,
    "start_time": "2023-02-01T16:30:01.317Z"
   },
   {
    "duration": 0,
    "start_time": "2023-02-01T16:30:01.318Z"
   },
   {
    "duration": 3,
    "start_time": "2023-02-01T16:30:46.534Z"
   },
   {
    "duration": 55,
    "start_time": "2023-02-01T16:30:54.749Z"
   },
   {
    "duration": 1542,
    "start_time": "2023-02-01T16:31:09.503Z"
   },
   {
    "duration": 961,
    "start_time": "2023-02-01T16:31:11.048Z"
   },
   {
    "duration": 342,
    "start_time": "2023-02-01T16:31:12.011Z"
   },
   {
    "duration": 2927,
    "start_time": "2023-02-01T16:31:12.354Z"
   },
   {
    "duration": 41,
    "start_time": "2023-02-01T16:31:15.284Z"
   },
   {
    "duration": 13247,
    "start_time": "2023-02-01T16:31:15.327Z"
   },
   {
    "duration": 3,
    "start_time": "2023-02-01T16:31:28.576Z"
   },
   {
    "duration": 202,
    "start_time": "2023-02-01T16:31:28.581Z"
   },
   {
    "duration": 0,
    "start_time": "2023-02-01T16:31:28.785Z"
   },
   {
    "duration": 0,
    "start_time": "2023-02-01T16:31:28.787Z"
   },
   {
    "duration": 32,
    "start_time": "2023-02-01T16:31:44.911Z"
   },
   {
    "duration": 8,
    "start_time": "2023-02-01T16:32:39.892Z"
   },
   {
    "duration": 34,
    "start_time": "2023-02-01T16:32:42.102Z"
   },
   {
    "duration": 5,
    "start_time": "2023-02-01T16:32:51.902Z"
   },
   {
    "duration": 81765,
    "start_time": "2023-02-01T16:32:53.346Z"
   },
   {
    "duration": 15010,
    "start_time": "2023-02-01T16:35:21.006Z"
   },
   {
    "duration": 11825,
    "start_time": "2023-02-01T16:35:41.107Z"
   },
   {
    "duration": 18228,
    "start_time": "2023-02-01T16:35:59.505Z"
   },
   {
    "duration": 19110,
    "start_time": "2023-02-01T16:38:18.309Z"
   },
   {
    "duration": 19615,
    "start_time": "2023-02-01T16:38:51.809Z"
   },
   {
    "duration": 6124,
    "start_time": "2023-02-01T16:39:25.710Z"
   },
   {
    "duration": 68266,
    "start_time": "2023-02-01T16:39:47.177Z"
   },
   {
    "duration": 19711,
    "start_time": "2023-02-01T16:41:14.730Z"
   },
   {
    "duration": 1704,
    "start_time": "2023-02-01T16:42:25.064Z"
   },
   {
    "duration": 974,
    "start_time": "2023-02-01T16:42:26.770Z"
   },
   {
    "duration": 342,
    "start_time": "2023-02-01T16:42:27.746Z"
   },
   {
    "duration": 2653,
    "start_time": "2023-02-01T16:42:28.095Z"
   },
   {
    "duration": 29,
    "start_time": "2023-02-01T16:42:30.751Z"
   },
   {
    "duration": 12766,
    "start_time": "2023-02-01T16:42:30.781Z"
   },
   {
    "duration": 3,
    "start_time": "2023-02-01T16:42:43.549Z"
   },
   {
    "duration": 28,
    "start_time": "2023-02-01T16:42:43.554Z"
   },
   {
    "duration": 18651,
    "start_time": "2023-02-01T16:42:43.583Z"
   },
   {
    "duration": 217,
    "start_time": "2023-02-01T16:43:02.236Z"
   },
   {
    "duration": 3,
    "start_time": "2023-02-01T16:43:44.505Z"
   },
   {
    "duration": 82,
    "start_time": "2023-02-01T16:43:47.509Z"
   },
   {
    "duration": 1691,
    "start_time": "2023-02-01T16:44:13.457Z"
   },
   {
    "duration": 988,
    "start_time": "2023-02-01T16:44:15.150Z"
   },
   {
    "duration": 363,
    "start_time": "2023-02-01T16:44:16.140Z"
   },
   {
    "duration": 2579,
    "start_time": "2023-02-01T16:44:16.504Z"
   },
   {
    "duration": 39,
    "start_time": "2023-02-01T16:44:19.085Z"
   },
   {
    "duration": 13002,
    "start_time": "2023-02-01T16:44:19.126Z"
   },
   {
    "duration": 3,
    "start_time": "2023-02-01T16:44:32.130Z"
   },
   {
    "duration": 21,
    "start_time": "2023-02-01T16:44:32.135Z"
   },
   {
    "duration": 17456,
    "start_time": "2023-02-01T16:44:32.158Z"
   },
   {
    "duration": 198,
    "start_time": "2023-02-01T16:44:49.616Z"
   },
   {
    "duration": 5,
    "start_time": "2023-02-01T16:45:19.244Z"
   },
   {
    "duration": 73,
    "start_time": "2023-02-01T16:46:30.016Z"
   },
   {
    "duration": 67893,
    "start_time": "2023-02-01T16:46:34.805Z"
   },
   {
    "duration": 13,
    "start_time": "2023-02-01T16:48:14.531Z"
   },
   {
    "duration": 27,
    "start_time": "2023-02-01T16:48:23.251Z"
   },
   {
    "duration": 12,
    "start_time": "2023-02-01T16:49:12.927Z"
   },
   {
    "duration": 6426,
    "start_time": "2023-02-01T16:49:45.830Z"
   },
   {
    "duration": 20,
    "start_time": "2023-02-01T16:49:52.258Z"
   },
   {
    "duration": 6660,
    "start_time": "2023-02-01T16:50:10.417Z"
   },
   {
    "duration": 30,
    "start_time": "2023-02-01T16:50:17.080Z"
   },
   {
    "duration": 6519,
    "start_time": "2023-02-01T16:50:48.268Z"
   },
   {
    "duration": 2004,
    "start_time": "2023-02-01T16:52:20.605Z"
   },
   {
    "duration": 961,
    "start_time": "2023-02-01T16:52:22.611Z"
   },
   {
    "duration": 351,
    "start_time": "2023-02-01T16:52:23.574Z"
   },
   {
    "duration": 2693,
    "start_time": "2023-02-01T16:52:23.928Z"
   },
   {
    "duration": 33,
    "start_time": "2023-02-01T16:52:26.623Z"
   },
   {
    "duration": 12613,
    "start_time": "2023-02-01T16:52:26.658Z"
   },
   {
    "duration": 22256,
    "start_time": "2023-02-01T16:52:39.273Z"
   },
   {
    "duration": 6232,
    "start_time": "2023-02-01T16:53:01.531Z"
   },
   {
    "duration": 58,
    "start_time": "2023-02-01T16:57:51.457Z"
   },
   {
    "duration": 2157,
    "start_time": "2023-02-01T16:58:06.779Z"
   },
   {
    "duration": 3702,
    "start_time": "2023-02-01T16:58:08.938Z"
   },
   {
    "duration": 328,
    "start_time": "2023-02-01T16:58:12.642Z"
   },
   {
    "duration": 2774,
    "start_time": "2023-02-01T16:58:12.972Z"
   },
   {
    "duration": 30,
    "start_time": "2023-02-01T16:58:15.749Z"
   },
   {
    "duration": 13263,
    "start_time": "2023-02-01T16:58:15.794Z"
   },
   {
    "duration": 56,
    "start_time": "2023-02-01T16:58:45.550Z"
   },
   {
    "duration": 2641,
    "start_time": "2023-02-01T16:58:59.095Z"
   },
   {
    "duration": 3985,
    "start_time": "2023-02-01T16:59:01.738Z"
   },
   {
    "duration": 339,
    "start_time": "2023-02-01T16:59:05.725Z"
   },
   {
    "duration": 2742,
    "start_time": "2023-02-01T16:59:06.066Z"
   },
   {
    "duration": 38,
    "start_time": "2023-02-01T16:59:08.814Z"
   },
   {
    "duration": 13476,
    "start_time": "2023-02-01T16:59:08.854Z"
   },
   {
    "duration": 187,
    "start_time": "2023-02-01T16:59:22.332Z"
   },
   {
    "duration": 2500,
    "start_time": "2023-02-01T17:00:06.732Z"
   },
   {
    "duration": 3795,
    "start_time": "2023-02-01T17:00:09.234Z"
   },
   {
    "duration": 393,
    "start_time": "2023-02-01T17:00:13.031Z"
   },
   {
    "duration": 3134,
    "start_time": "2023-02-01T17:00:13.426Z"
   },
   {
    "duration": 43,
    "start_time": "2023-02-01T17:00:16.562Z"
   },
   {
    "duration": 13624,
    "start_time": "2023-02-01T17:00:16.610Z"
   },
   {
    "duration": 50,
    "start_time": "2023-02-01T17:02:13.725Z"
   },
   {
    "duration": 2385,
    "start_time": "2023-02-01T17:02:33.318Z"
   },
   {
    "duration": 3622,
    "start_time": "2023-02-01T17:02:35.707Z"
   },
   {
    "duration": 337,
    "start_time": "2023-02-01T17:02:39.331Z"
   },
   {
    "duration": 2638,
    "start_time": "2023-02-01T17:02:39.669Z"
   },
   {
    "duration": 31,
    "start_time": "2023-02-01T17:02:42.309Z"
   },
   {
    "duration": 13007,
    "start_time": "2023-02-01T17:02:42.342Z"
   },
   {
    "duration": 136,
    "start_time": "2023-02-01T17:02:55.351Z"
   },
   {
    "duration": 195610,
    "start_time": "2023-02-01T17:03:20.806Z"
   },
   {
    "duration": 5,
    "start_time": "2023-02-01T17:06:57.708Z"
   },
   {
    "duration": 74999,
    "start_time": "2023-02-01T17:08:07.208Z"
   },
   {
    "duration": 138175,
    "start_time": "2023-02-01T17:09:42.739Z"
   },
   {
    "duration": 59,
    "start_time": "2023-02-01T17:12:29.007Z"
   },
   {
    "duration": 66671,
    "start_time": "2023-02-01T17:13:04.248Z"
   },
   {
    "duration": 91,
    "start_time": "2023-02-01T17:15:32.104Z"
   },
   {
    "duration": 50,
    "start_time": "2023-02-01T17:16:39.807Z"
   },
   {
    "duration": 2269,
    "start_time": "2023-02-01T17:16:45.500Z"
   },
   {
    "duration": 3552,
    "start_time": "2023-02-01T17:16:47.771Z"
   },
   {
    "duration": 385,
    "start_time": "2023-02-01T17:16:51.325Z"
   },
   {
    "duration": 2764,
    "start_time": "2023-02-01T17:16:51.712Z"
   },
   {
    "duration": 44,
    "start_time": "2023-02-01T17:16:54.479Z"
   },
   {
    "duration": 12854,
    "start_time": "2023-02-01T17:16:54.525Z"
   },
   {
    "duration": 1763,
    "start_time": "2023-02-01T17:18:12.908Z"
   },
   {
    "duration": 991,
    "start_time": "2023-02-01T17:18:14.673Z"
   },
   {
    "duration": 349,
    "start_time": "2023-02-01T17:18:15.666Z"
   },
   {
    "duration": 2716,
    "start_time": "2023-02-01T17:18:16.017Z"
   },
   {
    "duration": 30,
    "start_time": "2023-02-01T17:18:18.735Z"
   },
   {
    "duration": 1651,
    "start_time": "2023-02-01T17:18:26.211Z"
   },
   {
    "duration": 1050,
    "start_time": "2023-02-01T17:18:27.865Z"
   },
   {
    "duration": 342,
    "start_time": "2023-02-01T17:18:28.917Z"
   },
   {
    "duration": 2607,
    "start_time": "2023-02-01T17:18:29.261Z"
   },
   {
    "duration": 42,
    "start_time": "2023-02-01T17:18:31.870Z"
   },
   {
    "duration": 13333,
    "start_time": "2023-02-01T17:18:31.914Z"
   },
   {
    "duration": 1860,
    "start_time": "2023-02-01T17:22:23.604Z"
   },
   {
    "duration": 1005,
    "start_time": "2023-02-01T17:22:25.467Z"
   },
   {
    "duration": 381,
    "start_time": "2023-02-01T17:22:26.473Z"
   },
   {
    "duration": 2980,
    "start_time": "2023-02-01T17:22:26.856Z"
   },
   {
    "duration": 30,
    "start_time": "2023-02-01T17:22:29.838Z"
   },
   {
    "duration": 13108,
    "start_time": "2023-02-01T17:22:29.869Z"
   },
   {
    "duration": 81923,
    "start_time": "2023-02-01T17:22:42.979Z"
   },
   {
    "duration": 198,
    "start_time": "2023-02-01T17:25:13.599Z"
   },
   {
    "duration": 101910,
    "start_time": "2023-02-01T17:27:42.901Z"
   },
   {
    "duration": 4,
    "start_time": "2023-02-01T17:29:24.814Z"
   },
   {
    "duration": 4855,
    "start_time": "2023-02-01T17:30:09.855Z"
   },
   {
    "duration": 2642,
    "start_time": "2023-02-01T17:30:14.712Z"
   },
   {
    "duration": 319,
    "start_time": "2023-02-01T17:30:17.356Z"
   },
   {
    "duration": 2332,
    "start_time": "2023-02-01T17:30:17.677Z"
   },
   {
    "duration": 32,
    "start_time": "2023-02-01T17:30:20.011Z"
   },
   {
    "duration": 12105,
    "start_time": "2023-02-01T17:30:20.045Z"
   },
   {
    "duration": 120696,
    "start_time": "2023-02-01T17:30:32.152Z"
   },
   {
    "duration": 5,
    "start_time": "2023-02-01T17:32:32.851Z"
   },
   {
    "duration": 10280,
    "start_time": "2023-02-01T17:33:32.532Z"
   },
   {
    "duration": 1234,
    "start_time": "2023-02-01T17:33:42.814Z"
   },
   {
    "duration": 415,
    "start_time": "2023-02-01T17:33:44.050Z"
   },
   {
    "duration": 2652,
    "start_time": "2023-02-01T17:33:44.466Z"
   },
   {
    "duration": 29,
    "start_time": "2023-02-01T17:33:47.120Z"
   },
   {
    "duration": 12809,
    "start_time": "2023-02-01T17:33:47.150Z"
   },
   {
    "duration": 686951,
    "start_time": "2023-02-01T17:33:59.961Z"
   },
   {
    "duration": 207,
    "start_time": "2023-02-01T17:45:26.915Z"
   },
   {
    "duration": 337176,
    "start_time": "2023-02-01T17:46:38.935Z"
   },
   {
    "duration": 2130,
    "start_time": "2023-02-01T17:56:54.039Z"
   },
   {
    "duration": 3267,
    "start_time": "2023-02-01T17:56:56.171Z"
   },
   {
    "duration": 332,
    "start_time": "2023-02-01T17:56:59.440Z"
   },
   {
    "duration": 2331,
    "start_time": "2023-02-01T17:56:59.775Z"
   },
   {
    "duration": 32,
    "start_time": "2023-02-01T17:57:02.108Z"
   },
   {
    "duration": 11738,
    "start_time": "2023-02-01T17:57:02.141Z"
   },
   {
    "duration": 20940,
    "start_time": "2023-02-01T17:57:13.881Z"
   },
   {
    "duration": 5816,
    "start_time": "2023-02-01T17:57:34.822Z"
   },
   {
    "duration": 93074,
    "start_time": "2023-02-01T17:57:40.640Z"
   },
   {
    "duration": 128,
    "start_time": "2023-02-01T18:04:14.158Z"
   },
   {
    "duration": 56,
    "start_time": "2023-02-01T18:09:23.150Z"
   },
   {
    "duration": 584,
    "start_time": "2023-02-01T19:02:12.037Z"
   },
   {
    "duration": 573,
    "start_time": "2023-02-01T19:02:35.679Z"
   },
   {
    "duration": 9451,
    "start_time": "2023-02-01T19:02:56.461Z"
   },
   {
    "duration": 63,
    "start_time": "2023-02-01T19:04:10.993Z"
   },
   {
    "duration": 11256,
    "start_time": "2023-02-01T19:04:17.350Z"
   },
   {
    "duration": 1526,
    "start_time": "2023-02-01T20:16:08.160Z"
   },
   {
    "duration": 152,
    "start_time": "2023-02-01T20:16:18.214Z"
   },
   {
    "duration": 84,
    "start_time": "2023-02-01T20:16:30.457Z"
   },
   {
    "duration": 45,
    "start_time": "2023-02-01T20:24:17.511Z"
   },
   {
    "duration": 12,
    "start_time": "2023-02-01T20:26:32.251Z"
   },
   {
    "duration": 12,
    "start_time": "2023-02-01T20:26:44.532Z"
   },
   {
    "duration": 10,
    "start_time": "2023-02-01T20:26:49.471Z"
   },
   {
    "duration": 11,
    "start_time": "2023-02-01T20:27:03.090Z"
   },
   {
    "duration": 42,
    "start_time": "2023-02-01T20:27:10.971Z"
   },
   {
    "duration": 24009,
    "start_time": "2023-02-01T20:29:31.694Z"
   },
   {
    "duration": 12307,
    "start_time": "2023-02-01T20:30:16.195Z"
   },
   {
    "duration": 8417,
    "start_time": "2023-02-01T20:46:17.995Z"
   },
   {
    "duration": 3257,
    "start_time": "2023-02-01T20:46:26.414Z"
   },
   {
    "duration": 8373,
    "start_time": "2023-02-01T20:51:17.622Z"
   },
   {
    "duration": 3426,
    "start_time": "2023-02-01T20:51:25.999Z"
   },
   {
    "duration": 140508,
    "start_time": "2023-02-01T20:51:29.427Z"
   },
   {
    "duration": 0,
    "start_time": "2023-02-01T20:53:49.937Z"
   },
   {
    "duration": 0,
    "start_time": "2023-02-01T20:53:49.939Z"
   },
   {
    "duration": 0,
    "start_time": "2023-02-01T20:53:49.940Z"
   },
   {
    "duration": 0,
    "start_time": "2023-02-01T20:53:49.941Z"
   },
   {
    "duration": 3655,
    "start_time": "2023-02-01T20:53:59.616Z"
   },
   {
    "duration": 817,
    "start_time": "2023-02-01T20:54:03.273Z"
   },
   {
    "duration": 218128,
    "start_time": "2023-02-01T20:54:04.093Z"
   },
   {
    "duration": 28,
    "start_time": "2023-02-01T20:57:42.223Z"
   },
   {
    "duration": 8272,
    "start_time": "2023-02-01T21:01:33.257Z"
   },
   {
    "duration": 3329,
    "start_time": "2023-02-01T21:01:41.531Z"
   },
   {
    "duration": 4,
    "start_time": "2023-02-01T21:01:54.087Z"
   },
   {
    "duration": 824,
    "start_time": "2023-02-01T21:01:54.523Z"
   },
   {
    "duration": 847,
    "start_time": "2023-02-01T21:01:55.349Z"
   },
   {
    "duration": 94348,
    "start_time": "2023-02-01T21:01:56.198Z"
   },
   {
    "duration": 0,
    "start_time": "2023-02-01T21:03:30.548Z"
   },
   {
    "duration": 4,
    "start_time": "2023-02-01T21:04:03.768Z"
   },
   {
    "duration": 868,
    "start_time": "2023-02-01T21:04:04.050Z"
   },
   {
    "duration": 0,
    "start_time": "2023-02-01T21:04:04.920Z"
   },
   {
    "duration": 0,
    "start_time": "2023-02-01T21:04:04.921Z"
   },
   {
    "duration": 20,
    "start_time": "2023-02-01T21:04:05.787Z"
   },
   {
    "duration": 16,
    "start_time": "2023-02-01T21:04:10.142Z"
   },
   {
    "duration": 3826,
    "start_time": "2023-02-01T21:04:26.394Z"
   },
   {
    "duration": 1277,
    "start_time": "2023-02-01T21:04:30.222Z"
   },
   {
    "duration": 0,
    "start_time": "2023-02-01T21:04:31.501Z"
   },
   {
    "duration": 1,
    "start_time": "2023-02-01T21:04:31.503Z"
   },
   {
    "duration": 0,
    "start_time": "2023-02-01T21:04:31.505Z"
   },
   {
    "duration": 0,
    "start_time": "2023-02-01T21:04:31.506Z"
   },
   {
    "duration": 0,
    "start_time": "2023-02-01T21:04:31.507Z"
   },
   {
    "duration": 0,
    "start_time": "2023-02-01T21:04:31.509Z"
   },
   {
    "duration": 0,
    "start_time": "2023-02-01T21:04:31.510Z"
   },
   {
    "duration": 0,
    "start_time": "2023-02-01T21:04:31.512Z"
   },
   {
    "duration": 0,
    "start_time": "2023-02-01T21:04:31.514Z"
   },
   {
    "duration": 0,
    "start_time": "2023-02-01T21:04:31.516Z"
   },
   {
    "duration": 0,
    "start_time": "2023-02-01T21:04:31.517Z"
   },
   {
    "duration": 4169,
    "start_time": "2023-02-01T21:04:52.075Z"
   },
   {
    "duration": 898,
    "start_time": "2023-02-01T21:04:56.246Z"
   },
   {
    "duration": 379,
    "start_time": "2023-02-01T21:04:57.146Z"
   },
   {
    "duration": 241427,
    "start_time": "2023-02-01T21:04:57.527Z"
   },
   {
    "duration": 29,
    "start_time": "2023-02-01T21:08:58.965Z"
   },
   {
    "duration": 5059,
    "start_time": "2023-02-01T21:30:33.464Z"
   },
   {
    "duration": 3239,
    "start_time": "2023-02-01T21:30:38.525Z"
   },
   {
    "duration": 333,
    "start_time": "2023-02-01T21:30:41.765Z"
   },
   {
    "duration": 492,
    "start_time": "2023-02-01T21:30:42.100Z"
   },
   {
    "duration": 3,
    "start_time": "2023-02-01T21:30:42.594Z"
   },
   {
    "duration": 61,
    "start_time": "2023-02-01T21:30:42.599Z"
   },
   {
    "duration": 23,
    "start_time": "2023-02-01T21:30:42.661Z"
   },
   {
    "duration": 36,
    "start_time": "2023-02-01T21:30:42.686Z"
   },
   {
    "duration": 2616,
    "start_time": "2023-02-01T21:30:42.723Z"
   },
   {
    "duration": 380,
    "start_time": "2023-02-01T21:30:45.341Z"
   },
   {
    "duration": 0,
    "start_time": "2023-02-01T21:30:45.722Z"
   },
   {
    "duration": 0,
    "start_time": "2023-02-01T21:30:45.723Z"
   },
   {
    "duration": 0,
    "start_time": "2023-02-01T21:30:45.725Z"
   },
   {
    "duration": 0,
    "start_time": "2023-02-01T21:30:45.725Z"
   },
   {
    "duration": 4199,
    "start_time": "2023-02-01T21:32:50.748Z"
   },
   {
    "duration": 2417,
    "start_time": "2023-02-01T21:32:54.950Z"
   },
   {
    "duration": 374,
    "start_time": "2023-02-01T21:32:57.369Z"
   },
   {
    "duration": 268,
    "start_time": "2023-02-01T21:32:57.745Z"
   },
   {
    "duration": 3,
    "start_time": "2023-02-01T21:32:58.016Z"
   },
   {
    "duration": 40,
    "start_time": "2023-02-01T21:32:58.020Z"
   },
   {
    "duration": 20,
    "start_time": "2023-02-01T21:32:58.061Z"
   },
   {
    "duration": 19,
    "start_time": "2023-02-01T21:32:58.083Z"
   },
   {
    "duration": 2542,
    "start_time": "2023-02-01T21:32:58.104Z"
   },
   {
    "duration": 380,
    "start_time": "2023-02-01T21:33:00.648Z"
   },
   {
    "duration": 0,
    "start_time": "2023-02-01T21:33:01.029Z"
   },
   {
    "duration": 0,
    "start_time": "2023-02-01T21:33:01.031Z"
   },
   {
    "duration": 0,
    "start_time": "2023-02-01T21:33:01.031Z"
   },
   {
    "duration": 0,
    "start_time": "2023-02-01T21:33:01.032Z"
   },
   {
    "duration": 3,
    "start_time": "2023-02-01T21:33:30.498Z"
   },
   {
    "duration": 810,
    "start_time": "2023-02-01T21:33:31.216Z"
   },
   {
    "duration": 148,
    "start_time": "2023-02-01T21:33:32.592Z"
   },
   {
    "duration": 647,
    "start_time": "2023-02-01T21:33:33.265Z"
   },
   {
    "duration": 3,
    "start_time": "2023-02-01T21:33:33.952Z"
   },
   {
    "duration": 62,
    "start_time": "2023-02-01T21:33:34.762Z"
   },
   {
    "duration": 5,
    "start_time": "2023-02-01T21:33:36.001Z"
   },
   {
    "duration": 29,
    "start_time": "2023-02-01T21:33:36.786Z"
   },
   {
    "duration": 11001,
    "start_time": "2023-02-01T21:33:37.648Z"
   },
   {
    "duration": 128,
    "start_time": "2023-02-01T21:33:48.651Z"
   },
   {
    "duration": 3326,
    "start_time": "2023-02-01T21:35:14.397Z"
   },
   {
    "duration": 3,
    "start_time": "2023-02-01T21:35:32.545Z"
   },
   {
    "duration": 771,
    "start_time": "2023-02-01T21:35:32.919Z"
   },
   {
    "duration": 165,
    "start_time": "2023-02-01T21:35:33.693Z"
   },
   {
    "duration": 1905,
    "start_time": "2023-02-01T21:35:33.859Z"
   },
   {
    "duration": 3,
    "start_time": "2023-02-01T21:35:35.766Z"
   },
   {
    "duration": 216,
    "start_time": "2023-02-01T21:35:35.770Z"
   },
   {
    "duration": 25,
    "start_time": "2023-02-01T21:35:35.988Z"
   },
   {
    "duration": 91,
    "start_time": "2023-02-01T21:35:36.015Z"
   },
   {
    "duration": 9013,
    "start_time": "2023-02-01T21:36:28.494Z"
   },
   {
    "duration": 3427,
    "start_time": "2023-02-01T21:36:37.509Z"
   },
   {
    "duration": 653,
    "start_time": "2023-02-01T21:36:40.938Z"
   },
   {
    "duration": 5168,
    "start_time": "2023-02-01T21:36:41.593Z"
   },
   {
    "duration": 3,
    "start_time": "2023-02-01T21:36:46.762Z"
   },
   {
    "duration": 493,
    "start_time": "2023-02-01T21:36:46.767Z"
   },
   {
    "duration": 35,
    "start_time": "2023-02-01T21:36:47.262Z"
   },
   {
    "duration": 73,
    "start_time": "2023-02-01T21:36:47.299Z"
   },
   {
    "duration": 27455,
    "start_time": "2023-02-01T21:36:47.374Z"
   },
   {
    "duration": 379,
    "start_time": "2023-02-01T21:37:14.831Z"
   },
   {
    "duration": 0,
    "start_time": "2023-02-01T21:37:15.211Z"
   },
   {
    "duration": 1,
    "start_time": "2023-02-01T21:37:15.212Z"
   },
   {
    "duration": 0,
    "start_time": "2023-02-01T21:37:15.213Z"
   },
   {
    "duration": 0,
    "start_time": "2023-02-01T21:37:15.214Z"
   },
   {
    "duration": 14074,
    "start_time": "2023-02-01T21:40:33.005Z"
   },
   {
    "duration": 3433,
    "start_time": "2023-02-01T21:40:47.081Z"
   },
   {
    "duration": 191,
    "start_time": "2023-02-01T21:40:50.516Z"
   },
   {
    "duration": 5763,
    "start_time": "2023-02-01T21:40:50.709Z"
   },
   {
    "duration": 3,
    "start_time": "2023-02-01T21:40:56.475Z"
   },
   {
    "duration": 557,
    "start_time": "2023-02-01T21:40:56.479Z"
   },
   {
    "duration": 34,
    "start_time": "2023-02-01T21:40:57.038Z"
   },
   {
    "duration": 32,
    "start_time": "2023-02-01T21:40:57.073Z"
   },
   {
    "duration": 2541,
    "start_time": "2023-02-01T21:40:57.107Z"
   },
   {
    "duration": 351,
    "start_time": "2023-02-01T21:40:59.650Z"
   },
   {
    "duration": 0,
    "start_time": "2023-02-01T21:41:00.002Z"
   },
   {
    "duration": 0,
    "start_time": "2023-02-01T21:41:00.004Z"
   },
   {
    "duration": 0,
    "start_time": "2023-02-01T21:41:00.005Z"
   },
   {
    "duration": 0,
    "start_time": "2023-02-01T21:41:00.006Z"
   },
   {
    "duration": 5466,
    "start_time": "2023-02-01T21:41:47.413Z"
   },
   {
    "duration": 3340,
    "start_time": "2023-02-01T21:41:52.881Z"
   },
   {
    "duration": 252,
    "start_time": "2023-02-01T21:41:56.222Z"
   },
   {
    "duration": 2222,
    "start_time": "2023-02-01T21:41:56.476Z"
   },
   {
    "duration": 10,
    "start_time": "2023-02-01T21:41:58.700Z"
   },
   {
    "duration": 253,
    "start_time": "2023-02-01T21:41:58.711Z"
   },
   {
    "duration": 21,
    "start_time": "2023-02-01T21:41:58.966Z"
   },
   {
    "duration": 34,
    "start_time": "2023-02-01T21:41:58.989Z"
   },
   {
    "duration": 6896,
    "start_time": "2023-02-01T21:41:59.025Z"
   },
   {
    "duration": 346,
    "start_time": "2023-02-01T21:42:05.923Z"
   },
   {
    "duration": 0,
    "start_time": "2023-02-01T21:42:06.270Z"
   },
   {
    "duration": 1,
    "start_time": "2023-02-01T21:42:06.271Z"
   },
   {
    "duration": 0,
    "start_time": "2023-02-01T21:42:06.273Z"
   },
   {
    "duration": 0,
    "start_time": "2023-02-01T21:42:06.274Z"
   },
   {
    "duration": 3503,
    "start_time": "2023-02-01T21:42:55.658Z"
   },
   {
    "duration": 975,
    "start_time": "2023-02-01T21:42:59.163Z"
   },
   {
    "duration": 196,
    "start_time": "2023-02-01T21:43:00.139Z"
   },
   {
    "duration": 291,
    "start_time": "2023-02-01T21:43:00.337Z"
   },
   {
    "duration": 3,
    "start_time": "2023-02-01T21:43:00.630Z"
   },
   {
    "duration": 41,
    "start_time": "2023-02-01T21:43:00.634Z"
   },
   {
    "duration": 9,
    "start_time": "2023-02-01T21:43:00.676Z"
   },
   {
    "duration": 26,
    "start_time": "2023-02-01T21:43:00.687Z"
   },
   {
    "duration": 7969,
    "start_time": "2023-02-01T21:43:00.715Z"
   },
   {
    "duration": 361,
    "start_time": "2023-02-01T21:43:08.685Z"
   },
   {
    "duration": 0,
    "start_time": "2023-02-01T21:43:09.048Z"
   },
   {
    "duration": 0,
    "start_time": "2023-02-01T21:43:09.049Z"
   },
   {
    "duration": 0,
    "start_time": "2023-02-01T21:43:09.050Z"
   },
   {
    "duration": 0,
    "start_time": "2023-02-01T21:43:09.051Z"
   },
   {
    "duration": 51,
    "start_time": "2023-02-01T21:43:21.837Z"
   },
   {
    "duration": 44,
    "start_time": "2023-02-01T21:43:38.124Z"
   },
   {
    "duration": 4039,
    "start_time": "2023-02-01T21:45:20.554Z"
   },
   {
    "duration": 1007,
    "start_time": "2023-02-01T21:45:24.594Z"
   },
   {
    "duration": 231,
    "start_time": "2023-02-01T21:45:25.602Z"
   },
   {
    "duration": 269,
    "start_time": "2023-02-01T21:45:25.835Z"
   },
   {
    "duration": 4,
    "start_time": "2023-02-01T21:45:26.105Z"
   },
   {
    "duration": 34,
    "start_time": "2023-02-01T21:45:26.110Z"
   },
   {
    "duration": 5,
    "start_time": "2023-02-01T21:45:26.146Z"
   },
   {
    "duration": 21,
    "start_time": "2023-02-01T21:45:26.152Z"
   },
   {
    "duration": 4847,
    "start_time": "2023-02-01T21:45:26.175Z"
   },
   {
    "duration": 469,
    "start_time": "2023-02-01T21:45:31.025Z"
   },
   {
    "duration": 0,
    "start_time": "2023-02-01T21:45:31.496Z"
   },
   {
    "duration": 0,
    "start_time": "2023-02-01T21:45:31.497Z"
   },
   {
    "duration": 0,
    "start_time": "2023-02-01T21:45:31.498Z"
   },
   {
    "duration": 0,
    "start_time": "2023-02-01T21:45:31.499Z"
   },
   {
    "duration": 5323,
    "start_time": "2023-02-01T21:46:19.503Z"
   },
   {
    "duration": 993,
    "start_time": "2023-02-01T21:46:24.828Z"
   },
   {
    "duration": 187,
    "start_time": "2023-02-01T21:46:25.823Z"
   },
   {
    "duration": 517,
    "start_time": "2023-02-01T21:46:26.012Z"
   },
   {
    "duration": 3,
    "start_time": "2023-02-01T21:46:26.530Z"
   },
   {
    "duration": 49,
    "start_time": "2023-02-01T21:46:26.534Z"
   },
   {
    "duration": 14,
    "start_time": "2023-02-01T21:46:26.585Z"
   },
   {
    "duration": 23,
    "start_time": "2023-02-01T21:46:26.601Z"
   },
   {
    "duration": 5127,
    "start_time": "2023-02-01T21:46:26.626Z"
   },
   {
    "duration": 339,
    "start_time": "2023-02-01T21:46:31.755Z"
   },
   {
    "duration": 0,
    "start_time": "2023-02-01T21:46:32.096Z"
   },
   {
    "duration": 0,
    "start_time": "2023-02-01T21:46:32.097Z"
   },
   {
    "duration": 0,
    "start_time": "2023-02-01T21:46:32.098Z"
   },
   {
    "duration": 0,
    "start_time": "2023-02-01T21:46:32.099Z"
   },
   {
    "duration": 3483,
    "start_time": "2023-02-01T21:51:15.065Z"
   },
   {
    "duration": 991,
    "start_time": "2023-02-01T21:51:18.549Z"
   },
   {
    "duration": 197,
    "start_time": "2023-02-01T21:51:19.542Z"
   },
   {
    "duration": 556,
    "start_time": "2023-02-01T21:51:19.742Z"
   },
   {
    "duration": 3,
    "start_time": "2023-02-01T21:51:20.300Z"
   },
   {
    "duration": 22,
    "start_time": "2023-02-01T21:51:20.305Z"
   },
   {
    "duration": 7,
    "start_time": "2023-02-01T21:51:20.329Z"
   },
   {
    "duration": 29,
    "start_time": "2023-02-01T21:51:20.337Z"
   },
   {
    "duration": 5905,
    "start_time": "2023-02-01T21:51:20.368Z"
   },
   {
    "duration": 47,
    "start_time": "2023-02-01T21:51:44.799Z"
   },
   {
    "duration": 8108,
    "start_time": "2023-02-01T21:51:53.986Z"
   },
   {
    "duration": 3374,
    "start_time": "2023-02-01T21:52:02.096Z"
   },
   {
    "duration": 584,
    "start_time": "2023-02-01T21:52:05.471Z"
   },
   {
    "duration": 583,
    "start_time": "2023-02-01T21:52:06.057Z"
   },
   {
    "duration": 3,
    "start_time": "2023-02-01T21:52:06.642Z"
   },
   {
    "duration": 22,
    "start_time": "2023-02-01T21:52:06.647Z"
   },
   {
    "duration": 5,
    "start_time": "2023-02-01T21:52:06.671Z"
   },
   {
    "duration": 67,
    "start_time": "2023-02-01T21:52:06.677Z"
   },
   {
    "duration": 27471,
    "start_time": "2023-02-01T21:52:06.746Z"
   },
   {
    "duration": 8096,
    "start_time": "2023-02-01T21:53:03.985Z"
   },
   {
    "duration": 3449,
    "start_time": "2023-02-01T21:53:12.083Z"
   },
   {
    "duration": 676,
    "start_time": "2023-02-01T21:53:15.533Z"
   },
   {
    "duration": 490,
    "start_time": "2023-02-01T21:53:16.211Z"
   },
   {
    "duration": 3,
    "start_time": "2023-02-01T21:53:16.703Z"
   },
   {
    "duration": 102,
    "start_time": "2023-02-01T21:53:16.708Z"
   },
   {
    "duration": 10,
    "start_time": "2023-02-01T21:53:16.811Z"
   },
   {
    "duration": 61,
    "start_time": "2023-02-01T21:53:16.823Z"
   },
   {
    "duration": 27074,
    "start_time": "2023-02-01T21:53:16.886Z"
   },
   {
    "duration": 414,
    "start_time": "2023-02-01T21:53:43.964Z"
   },
   {
    "duration": 0,
    "start_time": "2023-02-01T21:53:44.380Z"
   },
   {
    "duration": 0,
    "start_time": "2023-02-01T21:53:44.381Z"
   },
   {
    "duration": 0,
    "start_time": "2023-02-01T21:53:44.382Z"
   },
   {
    "duration": 0,
    "start_time": "2023-02-01T21:53:44.383Z"
   },
   {
    "duration": 5184,
    "start_time": "2023-02-01T21:54:45.446Z"
   },
   {
    "duration": 3452,
    "start_time": "2023-02-01T21:54:50.634Z"
   },
   {
    "duration": 672,
    "start_time": "2023-02-01T21:54:54.088Z"
   },
   {
    "duration": 485,
    "start_time": "2023-02-01T21:54:54.761Z"
   },
   {
    "duration": 2,
    "start_time": "2023-02-01T21:54:55.248Z"
   },
   {
    "duration": 22,
    "start_time": "2023-02-01T21:54:55.252Z"
   },
   {
    "duration": 7,
    "start_time": "2023-02-01T21:54:55.276Z"
   },
   {
    "duration": 57,
    "start_time": "2023-02-01T21:54:55.293Z"
   },
   {
    "duration": 2759,
    "start_time": "2023-02-01T21:54:55.352Z"
   },
   {
    "duration": 8662,
    "start_time": "2023-02-01T21:55:27.992Z"
   },
   {
    "duration": 3355,
    "start_time": "2023-02-01T21:55:36.656Z"
   },
   {
    "duration": 638,
    "start_time": "2023-02-01T21:55:40.012Z"
   },
   {
    "duration": 596,
    "start_time": "2023-02-01T21:55:40.651Z"
   },
   {
    "duration": 3,
    "start_time": "2023-02-01T21:55:41.250Z"
   },
   {
    "duration": 24,
    "start_time": "2023-02-01T21:55:41.255Z"
   },
   {
    "duration": 4,
    "start_time": "2023-02-01T21:55:41.281Z"
   },
   {
    "duration": 58,
    "start_time": "2023-02-01T21:55:41.286Z"
   },
   {
    "duration": 27256,
    "start_time": "2023-02-01T21:55:41.346Z"
   },
   {
    "duration": 7383,
    "start_time": "2023-02-01T21:56:33.178Z"
   },
   {
    "duration": 3520,
    "start_time": "2023-02-01T21:56:40.563Z"
   },
   {
    "duration": 640,
    "start_time": "2023-02-01T21:56:44.085Z"
   },
   {
    "duration": 573,
    "start_time": "2023-02-01T21:56:44.727Z"
   },
   {
    "duration": 3,
    "start_time": "2023-02-01T21:56:45.302Z"
   },
   {
    "duration": 33,
    "start_time": "2023-02-01T21:56:45.306Z"
   },
   {
    "duration": 9,
    "start_time": "2023-02-01T21:56:45.340Z"
   },
   {
    "duration": 55,
    "start_time": "2023-02-01T21:56:45.351Z"
   },
   {
    "duration": 27308,
    "start_time": "2023-02-01T21:56:45.407Z"
   },
   {
    "duration": 354,
    "start_time": "2023-02-01T21:57:12.718Z"
   },
   {
    "duration": 0,
    "start_time": "2023-02-01T21:57:13.073Z"
   },
   {
    "duration": 0,
    "start_time": "2023-02-01T21:57:13.075Z"
   },
   {
    "duration": 0,
    "start_time": "2023-02-01T21:57:13.075Z"
   },
   {
    "duration": 0,
    "start_time": "2023-02-01T21:57:13.076Z"
   },
   {
    "duration": 5380,
    "start_time": "2023-02-01T21:58:00.234Z"
   },
   {
    "duration": 3471,
    "start_time": "2023-02-01T21:58:05.616Z"
   },
   {
    "duration": 344,
    "start_time": "2023-02-01T21:58:09.088Z"
   },
   {
    "duration": 505,
    "start_time": "2023-02-01T21:58:09.434Z"
   },
   {
    "duration": 3,
    "start_time": "2023-02-01T21:58:09.941Z"
   },
   {
    "duration": 57,
    "start_time": "2023-02-01T21:58:09.945Z"
   },
   {
    "duration": 26,
    "start_time": "2023-02-01T21:58:10.004Z"
   },
   {
    "duration": 42,
    "start_time": "2023-02-01T21:58:10.032Z"
   },
   {
    "duration": 2582,
    "start_time": "2023-02-01T21:58:10.076Z"
   },
   {
    "duration": 389,
    "start_time": "2023-02-01T21:58:12.661Z"
   },
   {
    "duration": 0,
    "start_time": "2023-02-01T21:58:13.051Z"
   },
   {
    "duration": 0,
    "start_time": "2023-02-01T21:58:13.053Z"
   },
   {
    "duration": 0,
    "start_time": "2023-02-01T21:58:13.054Z"
   },
   {
    "duration": 0,
    "start_time": "2023-02-01T21:58:13.055Z"
   },
   {
    "duration": 6169,
    "start_time": "2023-02-01T22:01:45.782Z"
   },
   {
    "duration": 2878,
    "start_time": "2023-02-01T22:01:51.953Z"
   },
   {
    "duration": 232,
    "start_time": "2023-02-01T22:01:54.832Z"
   },
   {
    "duration": 537,
    "start_time": "2023-02-01T22:01:55.066Z"
   },
   {
    "duration": 2,
    "start_time": "2023-02-01T22:01:55.605Z"
   },
   {
    "duration": 57,
    "start_time": "2023-02-01T22:01:55.609Z"
   },
   {
    "duration": 10,
    "start_time": "2023-02-01T22:01:55.667Z"
   },
   {
    "duration": 17,
    "start_time": "2023-02-01T22:01:55.679Z"
   },
   {
    "duration": 2522,
    "start_time": "2023-02-01T22:01:55.697Z"
   },
   {
    "duration": 348,
    "start_time": "2023-02-01T22:01:58.221Z"
   },
   {
    "duration": 0,
    "start_time": "2023-02-01T22:01:58.571Z"
   },
   {
    "duration": 0,
    "start_time": "2023-02-01T22:01:58.572Z"
   },
   {
    "duration": 1,
    "start_time": "2023-02-01T22:01:58.572Z"
   },
   {
    "duration": 0,
    "start_time": "2023-02-01T22:01:58.574Z"
   },
   {
    "duration": 3590,
    "start_time": "2023-02-01T22:02:35.676Z"
   },
   {
    "duration": 1005,
    "start_time": "2023-02-01T22:02:39.268Z"
   },
   {
    "duration": 403,
    "start_time": "2023-02-01T22:02:40.274Z"
   },
   {
    "duration": 531,
    "start_time": "2023-02-01T22:02:40.679Z"
   },
   {
    "duration": 4,
    "start_time": "2023-02-01T22:02:41.211Z"
   },
   {
    "duration": 49,
    "start_time": "2023-02-01T22:02:41.216Z"
   },
   {
    "duration": 8,
    "start_time": "2023-02-01T22:02:41.266Z"
   },
   {
    "duration": 20,
    "start_time": "2023-02-01T22:02:41.276Z"
   },
   {
    "duration": 5738,
    "start_time": "2023-02-01T22:02:41.298Z"
   },
   {
    "duration": 356,
    "start_time": "2023-02-01T22:02:47.038Z"
   },
   {
    "duration": 0,
    "start_time": "2023-02-01T22:02:47.396Z"
   },
   {
    "duration": 0,
    "start_time": "2023-02-01T22:02:47.397Z"
   },
   {
    "duration": 0,
    "start_time": "2023-02-01T22:02:47.398Z"
   },
   {
    "duration": 0,
    "start_time": "2023-02-01T22:02:47.399Z"
   },
   {
    "duration": 800,
    "start_time": "2023-02-01T22:04:35.067Z"
   },
   {
    "duration": 3492,
    "start_time": "2023-02-01T22:04:44.957Z"
   },
   {
    "duration": 998,
    "start_time": "2023-02-01T22:04:48.451Z"
   },
   {
    "duration": 202,
    "start_time": "2023-02-01T22:04:49.451Z"
   },
   {
    "duration": 488,
    "start_time": "2023-02-01T22:04:49.655Z"
   },
   {
    "duration": 4,
    "start_time": "2023-02-01T22:04:50.144Z"
   },
   {
    "duration": 52,
    "start_time": "2023-02-01T22:04:50.149Z"
   },
   {
    "duration": 9,
    "start_time": "2023-02-01T22:04:50.203Z"
   },
   {
    "duration": 18,
    "start_time": "2023-02-01T22:04:50.213Z"
   },
   {
    "duration": 5964,
    "start_time": "2023-02-01T22:04:50.233Z"
   },
   {
    "duration": 392,
    "start_time": "2023-02-01T22:04:56.200Z"
   },
   {
    "duration": 0,
    "start_time": "2023-02-01T22:04:56.594Z"
   },
   {
    "duration": 0,
    "start_time": "2023-02-01T22:04:56.595Z"
   },
   {
    "duration": 0,
    "start_time": "2023-02-01T22:04:56.596Z"
   },
   {
    "duration": 0,
    "start_time": "2023-02-01T22:04:56.597Z"
   },
   {
    "duration": 6980,
    "start_time": "2023-02-01T22:05:19.562Z"
   },
   {
    "duration": 2485,
    "start_time": "2023-02-01T22:05:26.543Z"
   },
   {
    "duration": 198,
    "start_time": "2023-02-01T22:05:29.030Z"
   },
   {
    "duration": 559,
    "start_time": "2023-02-01T22:05:29.230Z"
   },
   {
    "duration": 2,
    "start_time": "2023-02-01T22:05:29.793Z"
   },
   {
    "duration": 47,
    "start_time": "2023-02-01T22:05:29.797Z"
   },
   {
    "duration": 8,
    "start_time": "2023-02-01T22:05:29.846Z"
   },
   {
    "duration": 15,
    "start_time": "2023-02-01T22:05:29.855Z"
   },
   {
    "duration": 2528,
    "start_time": "2023-02-01T22:05:29.872Z"
   },
   {
    "duration": 334,
    "start_time": "2023-02-01T22:05:32.402Z"
   },
   {
    "duration": 0,
    "start_time": "2023-02-01T22:05:32.738Z"
   },
   {
    "duration": 0,
    "start_time": "2023-02-01T22:05:32.739Z"
   },
   {
    "duration": 0,
    "start_time": "2023-02-01T22:05:32.740Z"
   },
   {
    "duration": 0,
    "start_time": "2023-02-01T22:05:32.741Z"
   },
   {
    "duration": 3548,
    "start_time": "2023-02-01T22:06:00.001Z"
   },
   {
    "duration": 1013,
    "start_time": "2023-02-01T22:06:03.551Z"
   },
   {
    "duration": 229,
    "start_time": "2023-02-01T22:06:04.566Z"
   },
   {
    "duration": 506,
    "start_time": "2023-02-01T22:06:04.796Z"
   },
   {
    "duration": 2,
    "start_time": "2023-02-01T22:06:05.304Z"
   },
   {
    "duration": 44,
    "start_time": "2023-02-01T22:06:05.307Z"
   },
   {
    "duration": 10,
    "start_time": "2023-02-01T22:06:05.352Z"
   },
   {
    "duration": 16,
    "start_time": "2023-02-01T22:06:05.363Z"
   },
   {
    "duration": 5693,
    "start_time": "2023-02-01T22:06:05.381Z"
   },
   {
    "duration": 336,
    "start_time": "2023-02-01T22:06:11.076Z"
   },
   {
    "duration": 0,
    "start_time": "2023-02-01T22:06:11.414Z"
   },
   {
    "duration": 0,
    "start_time": "2023-02-01T22:06:11.415Z"
   },
   {
    "duration": 0,
    "start_time": "2023-02-01T22:06:11.416Z"
   },
   {
    "duration": 0,
    "start_time": "2023-02-01T22:06:11.417Z"
   },
   {
    "duration": 3557,
    "start_time": "2023-02-01T22:09:48.364Z"
   },
   {
    "duration": 1057,
    "start_time": "2023-02-01T22:09:51.924Z"
   },
   {
    "duration": 222,
    "start_time": "2023-02-01T22:09:52.982Z"
   },
   {
    "duration": 3403,
    "start_time": "2023-02-01T22:11:14.918Z"
   },
   {
    "duration": 967,
    "start_time": "2023-02-01T22:11:18.323Z"
   },
   {
    "duration": 185,
    "start_time": "2023-02-01T22:11:19.293Z"
   },
   {
    "duration": 5443,
    "start_time": "2023-02-01T22:11:19.480Z"
   },
   {
    "duration": 4,
    "start_time": "2023-02-01T22:11:24.925Z"
   },
   {
    "duration": 700,
    "start_time": "2023-02-01T22:11:24.930Z"
   },
   {
    "duration": 39,
    "start_time": "2023-02-01T22:11:25.632Z"
   },
   {
    "duration": 35,
    "start_time": "2023-02-01T22:11:25.672Z"
   },
   {
    "duration": 5846,
    "start_time": "2023-02-01T22:11:25.708Z"
   },
   {
    "duration": 355,
    "start_time": "2023-02-01T22:11:31.557Z"
   },
   {
    "duration": 0,
    "start_time": "2023-02-01T22:11:31.913Z"
   },
   {
    "duration": 0,
    "start_time": "2023-02-01T22:11:31.914Z"
   },
   {
    "duration": 0,
    "start_time": "2023-02-01T22:11:31.916Z"
   },
   {
    "duration": 0,
    "start_time": "2023-02-01T22:11:31.917Z"
   },
   {
    "duration": 3460,
    "start_time": "2023-02-01T22:15:36.979Z"
   },
   {
    "duration": 939,
    "start_time": "2023-02-01T22:15:40.441Z"
   },
   {
    "duration": 186,
    "start_time": "2023-02-01T22:15:41.382Z"
   },
   {
    "duration": 590,
    "start_time": "2023-02-01T22:15:41.569Z"
   },
   {
    "duration": 3,
    "start_time": "2023-02-01T22:15:42.162Z"
   },
   {
    "duration": 64,
    "start_time": "2023-02-01T22:15:42.167Z"
   },
   {
    "duration": 9,
    "start_time": "2023-02-01T22:15:42.233Z"
   },
   {
    "duration": 31,
    "start_time": "2023-02-01T22:15:42.244Z"
   },
   {
    "duration": 2594,
    "start_time": "2023-02-01T22:15:42.277Z"
   },
   {
    "duration": 366,
    "start_time": "2023-02-01T22:15:44.873Z"
   },
   {
    "duration": 0,
    "start_time": "2023-02-01T22:15:45.241Z"
   },
   {
    "duration": 0,
    "start_time": "2023-02-01T22:15:45.243Z"
   },
   {
    "duration": 0,
    "start_time": "2023-02-01T22:15:45.244Z"
   },
   {
    "duration": 0,
    "start_time": "2023-02-01T22:15:45.246Z"
   },
   {
    "duration": 3943,
    "start_time": "2023-02-01T22:16:12.978Z"
   },
   {
    "duration": 3066,
    "start_time": "2023-02-01T22:16:16.923Z"
   },
   {
    "duration": 571,
    "start_time": "2023-02-01T22:16:19.991Z"
   },
   {
    "duration": 564,
    "start_time": "2023-02-01T22:16:20.564Z"
   },
   {
    "duration": 3,
    "start_time": "2023-02-01T22:16:21.130Z"
   },
   {
    "duration": 50,
    "start_time": "2023-02-01T22:16:21.134Z"
   },
   {
    "duration": 5,
    "start_time": "2023-02-01T22:16:21.194Z"
   },
   {
    "duration": 29,
    "start_time": "2023-02-01T22:16:21.200Z"
   },
   {
    "duration": 4006,
    "start_time": "2023-02-01T22:16:21.231Z"
   },
   {
    "duration": 364,
    "start_time": "2023-02-01T22:16:25.239Z"
   },
   {
    "duration": 0,
    "start_time": "2023-02-01T22:16:25.605Z"
   },
   {
    "duration": 0,
    "start_time": "2023-02-01T22:16:25.606Z"
   },
   {
    "duration": 0,
    "start_time": "2023-02-01T22:16:25.607Z"
   },
   {
    "duration": 0,
    "start_time": "2023-02-01T22:16:25.608Z"
   },
   {
    "duration": 3905,
    "start_time": "2023-02-01T22:16:55.111Z"
   },
   {
    "duration": 941,
    "start_time": "2023-02-01T22:16:59.018Z"
   },
   {
    "duration": 247,
    "start_time": "2023-02-01T22:16:59.960Z"
   },
   {
    "duration": 584,
    "start_time": "2023-02-01T22:17:00.209Z"
   },
   {
    "duration": 3,
    "start_time": "2023-02-01T22:17:00.795Z"
   },
   {
    "duration": 86,
    "start_time": "2023-02-01T22:17:00.799Z"
   },
   {
    "duration": 24,
    "start_time": "2023-02-01T22:17:00.886Z"
   },
   {
    "duration": 41,
    "start_time": "2023-02-01T22:17:00.912Z"
   },
   {
    "duration": 5589,
    "start_time": "2023-02-01T22:17:00.954Z"
   },
   {
    "duration": 363,
    "start_time": "2023-02-01T22:17:06.545Z"
   },
   {
    "duration": 0,
    "start_time": "2023-02-01T22:17:06.909Z"
   },
   {
    "duration": 0,
    "start_time": "2023-02-01T22:17:06.910Z"
   },
   {
    "duration": 0,
    "start_time": "2023-02-01T22:17:06.911Z"
   },
   {
    "duration": 0,
    "start_time": "2023-02-01T22:17:06.912Z"
   },
   {
    "duration": 5186,
    "start_time": "2023-02-01T22:18:28.320Z"
   },
   {
    "duration": 1504,
    "start_time": "2023-02-01T22:18:33.508Z"
   },
   {
    "duration": 196,
    "start_time": "2023-02-01T22:18:35.014Z"
   },
   {
    "duration": 443,
    "start_time": "2023-02-01T22:18:35.212Z"
   },
   {
    "duration": 2,
    "start_time": "2023-02-01T22:18:35.658Z"
   },
   {
    "duration": 73,
    "start_time": "2023-02-01T22:18:35.661Z"
   },
   {
    "duration": 24,
    "start_time": "2023-02-01T22:18:35.736Z"
   },
   {
    "duration": 30,
    "start_time": "2023-02-01T22:18:35.761Z"
   },
   {
    "duration": 5592,
    "start_time": "2023-02-01T22:18:35.793Z"
   },
   {
    "duration": 341,
    "start_time": "2023-02-01T22:18:41.387Z"
   },
   {
    "duration": 0,
    "start_time": "2023-02-01T22:18:41.730Z"
   },
   {
    "duration": 0,
    "start_time": "2023-02-01T22:18:41.731Z"
   },
   {
    "duration": 0,
    "start_time": "2023-02-01T22:18:41.731Z"
   },
   {
    "duration": 0,
    "start_time": "2023-02-01T22:18:41.732Z"
   },
   {
    "duration": 4004,
    "start_time": "2023-02-01T22:19:53.496Z"
   },
   {
    "duration": 833,
    "start_time": "2023-02-01T22:19:57.502Z"
   },
   {
    "duration": 352,
    "start_time": "2023-02-01T22:19:58.337Z"
   },
   {
    "duration": 607,
    "start_time": "2023-02-01T22:19:58.690Z"
   },
   {
    "duration": 14,
    "start_time": "2023-02-01T22:19:59.299Z"
   },
   {
    "duration": 31,
    "start_time": "2023-02-01T22:19:59.314Z"
   },
   {
    "duration": 59,
    "start_time": "2023-02-01T22:19:59.346Z"
   },
   {
    "duration": 29,
    "start_time": "2023-02-01T22:19:59.407Z"
   },
   {
    "duration": 38,
    "start_time": "2023-02-01T22:19:59.438Z"
   },
   {
    "duration": 5408,
    "start_time": "2023-02-01T22:19:59.478Z"
   },
   {
    "duration": 374,
    "start_time": "2023-02-01T22:20:04.887Z"
   },
   {
    "duration": 0,
    "start_time": "2023-02-01T22:20:05.262Z"
   },
   {
    "duration": 0,
    "start_time": "2023-02-01T22:20:05.263Z"
   },
   {
    "duration": 0,
    "start_time": "2023-02-01T22:20:05.264Z"
   },
   {
    "duration": 0,
    "start_time": "2023-02-01T22:20:05.265Z"
   },
   {
    "duration": 5943,
    "start_time": "2023-02-01T22:21:02.053Z"
   },
   {
    "duration": 1308,
    "start_time": "2023-02-01T22:21:07.998Z"
   },
   {
    "duration": 327,
    "start_time": "2023-02-01T22:21:09.307Z"
   },
   {
    "duration": 600,
    "start_time": "2023-02-01T22:21:09.635Z"
   },
   {
    "duration": 17,
    "start_time": "2023-02-01T22:21:10.237Z"
   },
   {
    "duration": 3,
    "start_time": "2023-02-01T22:21:10.256Z"
   },
   {
    "duration": 76,
    "start_time": "2023-02-01T22:21:10.260Z"
   },
   {
    "duration": 26,
    "start_time": "2023-02-01T22:21:10.338Z"
   },
   {
    "duration": 43,
    "start_time": "2023-02-01T22:21:10.365Z"
   },
   {
    "duration": 5014,
    "start_time": "2023-02-01T22:21:10.410Z"
   },
   {
    "duration": 9,
    "start_time": "2023-02-01T22:21:15.426Z"
   },
   {
    "duration": 336,
    "start_time": "2023-02-01T22:21:15.437Z"
   },
   {
    "duration": 0,
    "start_time": "2023-02-01T22:21:15.774Z"
   },
   {
    "duration": 0,
    "start_time": "2023-02-01T22:21:15.775Z"
   },
   {
    "duration": 0,
    "start_time": "2023-02-01T22:21:15.776Z"
   },
   {
    "duration": 1,
    "start_time": "2023-02-01T22:21:15.777Z"
   },
   {
    "duration": 4072,
    "start_time": "2023-02-01T22:23:50.850Z"
   },
   {
    "duration": 804,
    "start_time": "2023-02-01T22:23:54.924Z"
   },
   {
    "duration": 343,
    "start_time": "2023-02-01T22:23:55.730Z"
   },
   {
    "duration": 532,
    "start_time": "2023-02-01T22:23:56.075Z"
   },
   {
    "duration": 15,
    "start_time": "2023-02-01T22:23:56.608Z"
   },
   {
    "duration": 3,
    "start_time": "2023-02-01T22:23:56.625Z"
   },
   {
    "duration": 47,
    "start_time": "2023-02-01T22:23:56.629Z"
   },
   {
    "duration": 21,
    "start_time": "2023-02-01T22:23:56.677Z"
   },
   {
    "duration": 24,
    "start_time": "2023-02-01T22:23:56.700Z"
   },
   {
    "duration": 5355,
    "start_time": "2023-02-01T22:23:56.727Z"
   },
   {
    "duration": 13,
    "start_time": "2023-02-01T22:24:02.084Z"
   },
   {
    "duration": 404,
    "start_time": "2023-02-01T22:24:02.098Z"
   },
   {
    "duration": 0,
    "start_time": "2023-02-01T22:24:02.503Z"
   },
   {
    "duration": 0,
    "start_time": "2023-02-01T22:24:02.504Z"
   },
   {
    "duration": 0,
    "start_time": "2023-02-01T22:24:02.505Z"
   },
   {
    "duration": 0,
    "start_time": "2023-02-01T22:24:02.506Z"
   },
   {
    "duration": 3895,
    "start_time": "2023-02-01T22:25:03.310Z"
   },
   {
    "duration": 826,
    "start_time": "2023-02-01T22:25:07.208Z"
   },
   {
    "duration": 387,
    "start_time": "2023-02-01T22:25:08.036Z"
   },
   {
    "duration": 2691,
    "start_time": "2023-02-01T22:25:08.425Z"
   },
   {
    "duration": 23,
    "start_time": "2023-02-01T22:25:11.118Z"
   },
   {
    "duration": 4,
    "start_time": "2023-02-01T22:25:11.143Z"
   },
   {
    "duration": 275,
    "start_time": "2023-02-01T22:25:11.148Z"
   },
   {
    "duration": 18,
    "start_time": "2023-02-01T22:25:11.425Z"
   },
   {
    "duration": 32,
    "start_time": "2023-02-01T22:25:11.445Z"
   },
   {
    "duration": 5628,
    "start_time": "2023-02-01T22:25:11.479Z"
   },
   {
    "duration": 330,
    "start_time": "2023-02-01T22:25:17.109Z"
   },
   {
    "duration": 0,
    "start_time": "2023-02-01T22:25:17.441Z"
   },
   {
    "duration": 0,
    "start_time": "2023-02-01T22:25:17.442Z"
   },
   {
    "duration": 0,
    "start_time": "2023-02-01T22:25:17.443Z"
   },
   {
    "duration": 0,
    "start_time": "2023-02-01T22:25:17.444Z"
   },
   {
    "duration": 3934,
    "start_time": "2023-02-01T22:25:46.922Z"
   },
   {
    "duration": 869,
    "start_time": "2023-02-01T22:25:50.858Z"
   },
   {
    "duration": 355,
    "start_time": "2023-02-01T22:25:51.728Z"
   },
   {
    "duration": 59,
    "start_time": "2023-02-01T22:25:52.085Z"
   },
   {
    "duration": 21,
    "start_time": "2023-02-01T22:25:52.146Z"
   },
   {
    "duration": 2,
    "start_time": "2023-02-01T22:25:52.169Z"
   },
   {
    "duration": 21,
    "start_time": "2023-02-01T22:25:52.172Z"
   },
   {
    "duration": 5,
    "start_time": "2023-02-01T22:25:52.195Z"
   },
   {
    "duration": 18,
    "start_time": "2023-02-01T22:25:52.201Z"
   },
   {
    "duration": 7069,
    "start_time": "2023-02-01T22:25:52.220Z"
   },
   {
    "duration": 24,
    "start_time": "2023-02-01T22:25:59.291Z"
   },
   {
    "duration": 359,
    "start_time": "2023-02-01T22:25:59.316Z"
   },
   {
    "duration": 0,
    "start_time": "2023-02-01T22:25:59.677Z"
   },
   {
    "duration": 0,
    "start_time": "2023-02-01T22:25:59.678Z"
   },
   {
    "duration": 0,
    "start_time": "2023-02-01T22:25:59.679Z"
   },
   {
    "duration": 6320,
    "start_time": "2023-02-01T22:26:30.173Z"
   },
   {
    "duration": 1711,
    "start_time": "2023-02-01T22:26:36.495Z"
   },
   {
    "duration": 336,
    "start_time": "2023-02-01T22:26:38.208Z"
   },
   {
    "duration": 78,
    "start_time": "2023-02-01T22:26:38.546Z"
   },
   {
    "duration": 20,
    "start_time": "2023-02-01T22:26:38.627Z"
   },
   {
    "duration": 3,
    "start_time": "2023-02-01T22:26:38.648Z"
   },
   {
    "duration": 16,
    "start_time": "2023-02-01T22:26:38.653Z"
   },
   {
    "duration": 13,
    "start_time": "2023-02-01T22:26:38.670Z"
   },
   {
    "duration": 20,
    "start_time": "2023-02-01T22:26:38.685Z"
   },
   {
    "duration": 3442,
    "start_time": "2023-02-01T22:26:38.706Z"
   },
   {
    "duration": 355,
    "start_time": "2023-02-01T22:26:42.150Z"
   },
   {
    "duration": 0,
    "start_time": "2023-02-01T22:26:42.506Z"
   },
   {
    "duration": 0,
    "start_time": "2023-02-01T22:26:42.508Z"
   },
   {
    "duration": 0,
    "start_time": "2023-02-01T22:26:42.509Z"
   },
   {
    "duration": 0,
    "start_time": "2023-02-01T22:26:42.510Z"
   },
   {
    "duration": 3541,
    "start_time": "2023-02-01T22:27:18.444Z"
   },
   {
    "duration": 827,
    "start_time": "2023-02-01T22:27:21.988Z"
   },
   {
    "duration": 345,
    "start_time": "2023-02-01T22:27:22.817Z"
   },
   {
    "duration": 52,
    "start_time": "2023-02-01T22:27:23.164Z"
   },
   {
    "duration": 3,
    "start_time": "2023-02-01T22:27:23.218Z"
   },
   {
    "duration": 7,
    "start_time": "2023-02-01T22:27:23.222Z"
   },
   {
    "duration": 10,
    "start_time": "2023-02-01T22:27:23.231Z"
   },
   {
    "duration": 27,
    "start_time": "2023-02-01T22:27:23.242Z"
   },
   {
    "duration": 5020,
    "start_time": "2023-02-01T22:27:23.270Z"
   },
   {
    "duration": 97628,
    "start_time": "2023-02-01T22:27:28.293Z"
   },
   {
    "duration": 3,
    "start_time": "2023-02-01T22:29:05.923Z"
   },
   {
    "duration": 18,
    "start_time": "2023-02-01T22:29:05.928Z"
   },
   {
    "duration": 311,
    "start_time": "2023-02-01T22:29:05.947Z"
   },
   {
    "duration": 0,
    "start_time": "2023-02-01T22:29:06.259Z"
   },
   {
    "duration": 23,
    "start_time": "2023-02-01T22:29:46.217Z"
   },
   {
    "duration": 17,
    "start_time": "2023-02-01T22:29:46.849Z"
   },
   {
    "duration": 15,
    "start_time": "2023-02-01T22:30:08.755Z"
   },
   {
    "duration": 18,
    "start_time": "2023-02-01T22:30:11.904Z"
   },
   {
    "duration": 17,
    "start_time": "2023-02-01T22:31:05.613Z"
   },
   {
    "duration": 25,
    "start_time": "2023-02-01T22:31:40.122Z"
   },
   {
    "duration": 308,
    "start_time": "2023-02-01T22:32:31.589Z"
   },
   {
    "duration": 6992,
    "start_time": "2023-02-01T22:32:57.777Z"
   },
   {
    "duration": 3244,
    "start_time": "2023-02-01T22:33:04.771Z"
   },
   {
    "duration": 643,
    "start_time": "2023-02-01T22:33:08.017Z"
   },
   {
    "duration": 698,
    "start_time": "2023-02-01T22:33:08.662Z"
   },
   {
    "duration": 3,
    "start_time": "2023-02-01T22:33:09.361Z"
   },
   {
    "duration": 103,
    "start_time": "2023-02-01T22:33:09.366Z"
   },
   {
    "duration": 10,
    "start_time": "2023-02-01T22:33:09.471Z"
   },
   {
    "duration": 60,
    "start_time": "2023-02-01T22:33:09.483Z"
   },
   {
    "duration": 10097,
    "start_time": "2023-02-01T22:33:09.544Z"
   },
   {
    "duration": 364,
    "start_time": "2023-02-01T22:33:19.644Z"
   },
   {
    "duration": 0,
    "start_time": "2023-02-01T22:33:20.009Z"
   },
   {
    "duration": 0,
    "start_time": "2023-02-01T22:33:20.010Z"
   },
   {
    "duration": 0,
    "start_time": "2023-02-01T22:33:20.011Z"
   },
   {
    "duration": 3889,
    "start_time": "2023-02-01T22:33:44.190Z"
   },
   {
    "duration": 829,
    "start_time": "2023-02-01T22:33:48.081Z"
   },
   {
    "duration": 366,
    "start_time": "2023-02-01T22:33:48.911Z"
   },
   {
    "duration": 139,
    "start_time": "2023-02-01T22:33:49.278Z"
   },
   {
    "duration": 3,
    "start_time": "2023-02-01T22:33:49.419Z"
   },
   {
    "duration": 26,
    "start_time": "2023-02-01T22:33:49.423Z"
   },
   {
    "duration": 16,
    "start_time": "2023-02-01T22:33:49.450Z"
   },
   {
    "duration": 30,
    "start_time": "2023-02-01T22:33:49.468Z"
   },
   {
    "duration": 5858,
    "start_time": "2023-02-01T22:33:49.500Z"
   },
   {
    "duration": 347,
    "start_time": "2023-02-01T22:33:55.359Z"
   },
   {
    "duration": 0,
    "start_time": "2023-02-01T22:33:55.707Z"
   },
   {
    "duration": 0,
    "start_time": "2023-02-01T22:33:55.708Z"
   },
   {
    "duration": 0,
    "start_time": "2023-02-01T22:33:55.709Z"
   },
   {
    "duration": 3536,
    "start_time": "2023-02-01T22:34:41.957Z"
   },
   {
    "duration": 3126,
    "start_time": "2023-02-01T22:34:45.495Z"
   },
   {
    "duration": 668,
    "start_time": "2023-02-01T22:34:48.623Z"
   },
   {
    "duration": 110,
    "start_time": "2023-02-01T22:34:49.293Z"
   },
   {
    "duration": 3,
    "start_time": "2023-02-01T22:34:49.404Z"
   },
   {
    "duration": 10,
    "start_time": "2023-02-01T22:34:49.408Z"
   },
   {
    "duration": 5,
    "start_time": "2023-02-01T22:34:49.420Z"
   },
   {
    "duration": 62,
    "start_time": "2023-02-01T22:34:49.426Z"
   },
   {
    "duration": 3075,
    "start_time": "2023-02-01T22:34:49.490Z"
   },
   {
    "duration": 337,
    "start_time": "2023-02-01T22:34:52.568Z"
   },
   {
    "duration": 0,
    "start_time": "2023-02-01T22:34:52.907Z"
   },
   {
    "duration": 0,
    "start_time": "2023-02-01T22:34:52.908Z"
   },
   {
    "duration": 0,
    "start_time": "2023-02-01T22:34:52.909Z"
   },
   {
    "duration": 3400,
    "start_time": "2023-02-01T22:36:38.745Z"
   },
   {
    "duration": 815,
    "start_time": "2023-02-01T22:36:42.148Z"
   },
   {
    "duration": 337,
    "start_time": "2023-02-01T22:36:42.964Z"
   },
   {
    "duration": 88,
    "start_time": "2023-02-01T22:36:43.303Z"
   },
   {
    "duration": 2,
    "start_time": "2023-02-01T22:36:43.394Z"
   },
   {
    "duration": 11,
    "start_time": "2023-02-01T22:36:43.398Z"
   },
   {
    "duration": 5,
    "start_time": "2023-02-01T22:36:43.410Z"
   },
   {
    "duration": 24,
    "start_time": "2023-02-01T22:36:43.417Z"
   },
   {
    "duration": 5356,
    "start_time": "2023-02-01T22:36:43.443Z"
   },
   {
    "duration": 334,
    "start_time": "2023-02-01T22:36:48.801Z"
   },
   {
    "duration": 0,
    "start_time": "2023-02-01T22:36:49.137Z"
   },
   {
    "duration": 0,
    "start_time": "2023-02-01T22:36:49.137Z"
   },
   {
    "duration": 0,
    "start_time": "2023-02-01T22:36:49.138Z"
   },
   {
    "duration": 3967,
    "start_time": "2023-02-01T22:37:18.856Z"
   },
   {
    "duration": 811,
    "start_time": "2023-02-01T22:37:22.825Z"
   },
   {
    "duration": 405,
    "start_time": "2023-02-01T22:37:23.638Z"
   },
   {
    "duration": 116,
    "start_time": "2023-02-01T22:37:24.045Z"
   },
   {
    "duration": 3,
    "start_time": "2023-02-01T22:37:24.164Z"
   },
   {
    "duration": 16,
    "start_time": "2023-02-01T22:37:24.170Z"
   },
   {
    "duration": 6,
    "start_time": "2023-02-01T22:37:24.188Z"
   },
   {
    "duration": 36,
    "start_time": "2023-02-01T22:37:24.196Z"
   },
   {
    "duration": 4323,
    "start_time": "2023-02-01T22:37:24.233Z"
   },
   {
    "duration": 139960,
    "start_time": "2023-02-01T22:37:28.558Z"
   },
   {
    "duration": 4,
    "start_time": "2023-02-01T22:39:48.594Z"
   },
   {
    "duration": 15,
    "start_time": "2023-02-01T22:39:48.599Z"
   },
   {
    "duration": 30,
    "start_time": "2023-02-01T22:39:48.615Z"
   },
   {
    "duration": 802,
    "start_time": "2023-02-01T22:42:25.916Z"
   },
   {
    "duration": 3508,
    "start_time": "2023-02-01T22:42:34.086Z"
   },
   {
    "duration": 815,
    "start_time": "2023-02-01T22:42:37.596Z"
   },
   {
    "duration": 324,
    "start_time": "2023-02-01T22:42:38.412Z"
   },
   {
    "duration": 567,
    "start_time": "2023-02-01T22:42:38.737Z"
   },
   {
    "duration": 2,
    "start_time": "2023-02-01T22:42:39.306Z"
   },
   {
    "duration": 19,
    "start_time": "2023-02-01T22:42:39.310Z"
   },
   {
    "duration": 8,
    "start_time": "2023-02-01T22:42:39.330Z"
   },
   {
    "duration": 23,
    "start_time": "2023-02-01T22:42:39.340Z"
   },
   {
    "duration": 5363,
    "start_time": "2023-02-01T22:42:39.364Z"
   },
   {
    "duration": 799873,
    "start_time": "2023-02-01T22:42:44.730Z"
   },
   {
    "duration": 3,
    "start_time": "2023-02-01T22:56:04.605Z"
   },
   {
    "duration": 7,
    "start_time": "2023-02-01T22:56:04.609Z"
   },
   {
    "duration": 100,
    "start_time": "2023-02-01T22:56:04.618Z"
   },
   {
    "duration": 3974,
    "start_time": "2023-02-01T22:59:35.287Z"
   },
   {
    "duration": 3166,
    "start_time": "2023-02-01T22:59:39.262Z"
   },
   {
    "duration": 602,
    "start_time": "2023-02-01T22:59:42.430Z"
   },
   {
    "duration": 1541,
    "start_time": "2023-02-01T22:59:43.034Z"
   },
   {
    "duration": 3,
    "start_time": "2023-02-01T22:59:44.577Z"
   },
   {
    "duration": 47,
    "start_time": "2023-02-01T22:59:44.582Z"
   },
   {
    "duration": 8,
    "start_time": "2023-02-01T22:59:44.631Z"
   },
   {
    "duration": 70,
    "start_time": "2023-02-01T22:59:44.641Z"
   },
   {
    "duration": 15577,
    "start_time": "2023-02-01T22:59:44.713Z"
   },
   {
    "duration": 52,
    "start_time": "2023-02-01T23:00:19.379Z"
   },
   {
    "duration": 7755,
    "start_time": "2023-02-01T23:00:32.931Z"
   },
   {
    "duration": 3264,
    "start_time": "2023-02-01T23:00:40.688Z"
   },
   {
    "duration": 777,
    "start_time": "2023-02-01T23:00:43.955Z"
   },
   {
    "duration": 1191,
    "start_time": "2023-02-01T23:00:44.734Z"
   },
   {
    "duration": 3,
    "start_time": "2023-02-01T23:00:45.926Z"
   },
   {
    "duration": 45,
    "start_time": "2023-02-01T23:00:45.930Z"
   },
   {
    "duration": 7,
    "start_time": "2023-02-01T23:00:45.977Z"
   },
   {
    "duration": 79,
    "start_time": "2023-02-01T23:00:45.986Z"
   },
   {
    "duration": 27556,
    "start_time": "2023-02-01T23:00:46.067Z"
   },
   {
    "duration": 7551,
    "start_time": "2023-02-01T23:01:34.980Z"
   },
   {
    "duration": 3266,
    "start_time": "2023-02-01T23:01:42.533Z"
   },
   {
    "duration": 805,
    "start_time": "2023-02-01T23:01:45.801Z"
   },
   {
    "duration": 271,
    "start_time": "2023-02-01T23:01:46.608Z"
   },
   {
    "duration": 2,
    "start_time": "2023-02-01T23:01:46.881Z"
   },
   {
    "duration": 22,
    "start_time": "2023-02-01T23:01:46.885Z"
   },
   {
    "duration": 5,
    "start_time": "2023-02-01T23:01:46.909Z"
   },
   {
    "duration": 54,
    "start_time": "2023-02-01T23:01:46.916Z"
   },
   {
    "duration": 27670,
    "start_time": "2023-02-01T23:01:46.972Z"
   },
   {
    "duration": 2463,
    "start_time": "2023-02-02T06:25:49.574Z"
   },
   {
    "duration": 2444,
    "start_time": "2023-02-02T06:25:52.039Z"
   },
   {
    "duration": 2748,
    "start_time": "2023-02-02T06:25:54.485Z"
   },
   {
    "duration": 327,
    "start_time": "2023-02-02T06:25:57.235Z"
   },
   {
    "duration": 3,
    "start_time": "2023-02-02T06:25:57.565Z"
   },
   {
    "duration": 35,
    "start_time": "2023-02-02T06:25:57.570Z"
   },
   {
    "duration": 6,
    "start_time": "2023-02-02T06:25:57.607Z"
   },
   {
    "duration": 55,
    "start_time": "2023-02-02T06:25:57.614Z"
   },
   {
    "duration": 18057,
    "start_time": "2023-02-02T06:25:57.671Z"
   },
   {
    "duration": 2361,
    "start_time": "2023-02-02T06:26:39.675Z"
   },
   {
    "duration": 2400,
    "start_time": "2023-02-02T06:26:42.038Z"
   },
   {
    "duration": 2396,
    "start_time": "2023-02-02T06:26:44.440Z"
   },
   {
    "duration": 167,
    "start_time": "2023-02-02T06:26:46.839Z"
   },
   {
    "duration": 3,
    "start_time": "2023-02-02T06:26:47.008Z"
   },
   {
    "duration": 9,
    "start_time": "2023-02-02T06:26:47.012Z"
   },
   {
    "duration": 6,
    "start_time": "2023-02-02T06:26:47.023Z"
   },
   {
    "duration": 61,
    "start_time": "2023-02-02T06:26:47.030Z"
   },
   {
    "duration": 18436,
    "start_time": "2023-02-02T06:26:47.101Z"
   },
   {
    "duration": 2409,
    "start_time": "2023-02-02T06:27:26.325Z"
   },
   {
    "duration": 2520,
    "start_time": "2023-02-02T06:27:28.737Z"
   },
   {
    "duration": 2405,
    "start_time": "2023-02-02T06:27:31.259Z"
   },
   {
    "duration": 107,
    "start_time": "2023-02-02T06:27:33.666Z"
   },
   {
    "duration": 3,
    "start_time": "2023-02-02T06:27:33.775Z"
   },
   {
    "duration": 28,
    "start_time": "2023-02-02T06:27:33.780Z"
   },
   {
    "duration": 6,
    "start_time": "2023-02-02T06:27:33.810Z"
   },
   {
    "duration": 71,
    "start_time": "2023-02-02T06:27:33.818Z"
   },
   {
    "duration": 18513,
    "start_time": "2023-02-02T06:27:33.895Z"
   },
   {
    "duration": 116596,
    "start_time": "2023-02-02T06:27:52.411Z"
   },
   {
    "duration": 3,
    "start_time": "2023-02-02T06:29:49.010Z"
   },
   {
    "duration": 18,
    "start_time": "2023-02-02T06:29:49.015Z"
   },
   {
    "duration": 36,
    "start_time": "2023-02-02T06:29:49.035Z"
   },
   {
    "duration": 2287,
    "start_time": "2023-02-02T06:30:17.940Z"
   },
   {
    "duration": 843,
    "start_time": "2023-02-02T06:30:20.230Z"
   },
   {
    "duration": 1868,
    "start_time": "2023-02-02T06:30:21.075Z"
   },
   {
    "duration": 126,
    "start_time": "2023-02-02T06:30:22.944Z"
   },
   {
    "duration": 3,
    "start_time": "2023-02-02T06:30:23.073Z"
   },
   {
    "duration": 24,
    "start_time": "2023-02-02T06:30:23.078Z"
   },
   {
    "duration": 6,
    "start_time": "2023-02-02T06:30:23.105Z"
   },
   {
    "duration": 16,
    "start_time": "2023-02-02T06:30:23.112Z"
   },
   {
    "duration": 2406,
    "start_time": "2023-02-02T06:30:23.130Z"
   },
   {
    "duration": 192376,
    "start_time": "2023-02-02T06:30:25.538Z"
   },
   {
    "duration": 4,
    "start_time": "2023-02-02T06:33:37.916Z"
   },
   {
    "duration": 17,
    "start_time": "2023-02-02T06:33:37.922Z"
   },
   {
    "duration": 71,
    "start_time": "2023-02-02T06:33:37.941Z"
   },
   {
    "duration": 2436,
    "start_time": "2023-02-02T06:36:12.670Z"
   },
   {
    "duration": 849,
    "start_time": "2023-02-02T06:36:15.108Z"
   },
   {
    "duration": 1919,
    "start_time": "2023-02-02T06:36:15.960Z"
   },
   {
    "duration": 297,
    "start_time": "2023-02-02T06:36:17.881Z"
   },
   {
    "duration": 3,
    "start_time": "2023-02-02T06:36:18.180Z"
   },
   {
    "duration": 18,
    "start_time": "2023-02-02T06:36:18.191Z"
   },
   {
    "duration": 7,
    "start_time": "2023-02-02T06:36:18.210Z"
   },
   {
    "duration": 17,
    "start_time": "2023-02-02T06:36:18.218Z"
   },
   {
    "duration": 2389,
    "start_time": "2023-02-02T06:36:18.236Z"
   },
   {
    "duration": 476581,
    "start_time": "2023-02-02T06:36:20.626Z"
   },
   {
    "duration": 3,
    "start_time": "2023-02-02T06:44:17.209Z"
   },
   {
    "duration": 33,
    "start_time": "2023-02-02T06:44:17.214Z"
   },
   {
    "duration": 145,
    "start_time": "2023-02-02T06:44:17.249Z"
   },
   {
    "duration": 2158,
    "start_time": "2023-02-02T06:45:18.672Z"
   },
   {
    "duration": 845,
    "start_time": "2023-02-02T06:45:20.832Z"
   },
   {
    "duration": 1789,
    "start_time": "2023-02-02T06:45:21.679Z"
   },
   {
    "duration": 597,
    "start_time": "2023-02-02T06:45:23.470Z"
   },
   {
    "duration": 2,
    "start_time": "2023-02-02T06:45:24.070Z"
   },
   {
    "duration": 28,
    "start_time": "2023-02-02T06:45:24.073Z"
   },
   {
    "duration": 9,
    "start_time": "2023-02-02T06:45:24.102Z"
   },
   {
    "duration": 20,
    "start_time": "2023-02-02T06:45:24.113Z"
   },
   {
    "duration": 2374,
    "start_time": "2023-02-02T06:45:24.135Z"
   },
   {
    "duration": 825790,
    "start_time": "2023-02-02T06:45:26.511Z"
   },
   {
    "duration": 4,
    "start_time": "2023-02-02T06:59:12.302Z"
   },
   {
    "duration": 16,
    "start_time": "2023-02-02T06:59:12.308Z"
   },
   {
    "duration": 168,
    "start_time": "2023-02-02T06:59:12.326Z"
   },
   {
    "duration": 3329,
    "start_time": "2023-02-02T07:00:13.399Z"
   },
   {
    "duration": 1718,
    "start_time": "2023-02-02T07:00:16.731Z"
   },
   {
    "duration": 460,
    "start_time": "2023-02-02T07:00:18.451Z"
   },
   {
    "duration": 2521,
    "start_time": "2023-02-02T07:00:18.914Z"
   },
   {
    "duration": 38,
    "start_time": "2023-02-02T07:00:21.438Z"
   },
   {
    "duration": 12192,
    "start_time": "2023-02-02T07:00:21.492Z"
   },
   {
    "duration": 20023,
    "start_time": "2023-02-02T07:00:33.686Z"
   },
   {
    "duration": 5984,
    "start_time": "2023-02-02T07:00:53.711Z"
   },
   {
    "duration": 254007,
    "start_time": "2023-02-02T07:00:59.697Z"
   },
   {
    "duration": 2159,
    "start_time": "2023-02-02T07:05:13.706Z"
   },
   {
    "duration": 2436,
    "start_time": "2023-02-02T07:05:15.868Z"
   },
   {
    "duration": 506,
    "start_time": "2023-02-02T07:05:18.306Z"
   },
   {
    "duration": 3,
    "start_time": "2023-02-02T07:05:18.814Z"
   },
   {
    "duration": 26,
    "start_time": "2023-02-02T07:05:18.820Z"
   },
   {
    "duration": 6,
    "start_time": "2023-02-02T07:05:18.848Z"
   },
   {
    "duration": 52,
    "start_time": "2023-02-02T07:05:18.855Z"
   },
   {
    "duration": 2888,
    "start_time": "2023-02-02T07:09:42.668Z"
   },
   {
    "duration": 2266,
    "start_time": "2023-02-02T07:09:45.558Z"
   },
   {
    "duration": 242,
    "start_time": "2023-02-02T07:09:47.825Z"
   },
   {
    "duration": 2339,
    "start_time": "2023-02-02T07:09:48.069Z"
   },
   {
    "duration": 33,
    "start_time": "2023-02-02T07:09:50.409Z"
   },
   {
    "duration": 11873,
    "start_time": "2023-02-02T07:09:50.444Z"
   },
   {
    "duration": 20790,
    "start_time": "2023-02-02T07:10:02.319Z"
   },
   {
    "duration": 6024,
    "start_time": "2023-02-02T07:10:23.111Z"
   },
   {
    "duration": 765,
    "start_time": "2023-02-02T07:10:29.137Z"
   },
   {
    "duration": 2396,
    "start_time": "2023-02-02T07:10:29.904Z"
   },
   {
    "duration": 653,
    "start_time": "2023-02-02T07:10:32.301Z"
   },
   {
    "duration": 2,
    "start_time": "2023-02-02T07:10:32.957Z"
   },
   {
    "duration": 38,
    "start_time": "2023-02-02T07:10:32.961Z"
   },
   {
    "duration": 19,
    "start_time": "2023-02-02T07:10:33.001Z"
   },
   {
    "duration": 74,
    "start_time": "2023-02-02T07:10:33.022Z"
   },
   {
    "duration": 2790,
    "start_time": "2023-02-02T07:11:57.144Z"
   },
   {
    "duration": 2518,
    "start_time": "2023-02-02T07:11:59.936Z"
   },
   {
    "duration": 283,
    "start_time": "2023-02-02T07:12:02.455Z"
   },
   {
    "duration": 2637,
    "start_time": "2023-02-02T07:12:02.740Z"
   },
   {
    "duration": 45,
    "start_time": "2023-02-02T07:12:05.379Z"
   },
   {
    "duration": 12766,
    "start_time": "2023-02-02T07:12:05.426Z"
   },
   {
    "duration": 16514,
    "start_time": "2023-02-02T07:12:18.195Z"
   },
   {
    "duration": 5872,
    "start_time": "2023-02-02T07:12:34.711Z"
   },
   {
    "duration": 767,
    "start_time": "2023-02-02T07:12:40.584Z"
   },
   {
    "duration": 2310,
    "start_time": "2023-02-02T07:12:41.353Z"
   },
   {
    "duration": 598,
    "start_time": "2023-02-02T07:12:43.665Z"
   },
   {
    "duration": 3,
    "start_time": "2023-02-02T07:12:44.264Z"
   },
   {
    "duration": 33,
    "start_time": "2023-02-02T07:12:44.268Z"
   },
   {
    "duration": 6,
    "start_time": "2023-02-02T07:12:44.303Z"
   },
   {
    "duration": 62,
    "start_time": "2023-02-02T07:12:44.311Z"
   },
   {
    "duration": 2852,
    "start_time": "2023-02-02T07:13:10.125Z"
   },
   {
    "duration": 2274,
    "start_time": "2023-02-02T07:13:12.979Z"
   },
   {
    "duration": 239,
    "start_time": "2023-02-02T07:13:15.254Z"
   },
   {
    "duration": 2431,
    "start_time": "2023-02-02T07:13:15.495Z"
   },
   {
    "duration": 31,
    "start_time": "2023-02-02T07:13:17.928Z"
   },
   {
    "duration": 11590,
    "start_time": "2023-02-02T07:13:17.961Z"
   },
   {
    "duration": 21260,
    "start_time": "2023-02-02T07:13:29.553Z"
   },
   {
    "duration": 5854,
    "start_time": "2023-02-02T07:13:50.815Z"
   },
   {
    "duration": 750,
    "start_time": "2023-02-02T07:13:56.671Z"
   },
   {
    "duration": 2252,
    "start_time": "2023-02-02T07:13:57.423Z"
   },
   {
    "duration": 585,
    "start_time": "2023-02-02T07:13:59.677Z"
   },
   {
    "duration": 3,
    "start_time": "2023-02-02T07:14:00.264Z"
   },
   {
    "duration": 40,
    "start_time": "2023-02-02T07:14:00.269Z"
   },
   {
    "duration": 56,
    "start_time": "2023-02-02T07:14:00.313Z"
   },
   {
    "duration": 92,
    "start_time": "2023-02-02T07:14:00.371Z"
   },
   {
    "duration": 2890,
    "start_time": "2023-02-02T07:14:22.436Z"
   },
   {
    "duration": 2311,
    "start_time": "2023-02-02T07:14:25.328Z"
   },
   {
    "duration": 260,
    "start_time": "2023-02-02T07:14:27.641Z"
   },
   {
    "duration": 2366,
    "start_time": "2023-02-02T07:14:27.903Z"
   },
   {
    "duration": 36,
    "start_time": "2023-02-02T07:14:30.271Z"
   },
   {
    "duration": 11658,
    "start_time": "2023-02-02T07:14:30.309Z"
   },
   {
    "duration": 21040,
    "start_time": "2023-02-02T07:14:41.969Z"
   },
   {
    "duration": 775,
    "start_time": "2023-02-02T07:15:03.011Z"
   },
   {
    "duration": 2396,
    "start_time": "2023-02-02T07:15:03.788Z"
   },
   {
    "duration": 612,
    "start_time": "2023-02-02T07:15:06.192Z"
   },
   {
    "duration": 3,
    "start_time": "2023-02-02T07:15:06.806Z"
   },
   {
    "duration": 26,
    "start_time": "2023-02-02T07:15:06.811Z"
   },
   {
    "duration": 17,
    "start_time": "2023-02-02T07:15:06.838Z"
   },
   {
    "duration": 78,
    "start_time": "2023-02-02T07:15:06.857Z"
   },
   {
    "duration": 3023,
    "start_time": "2023-02-02T07:15:27.264Z"
   },
   {
    "duration": 2362,
    "start_time": "2023-02-02T07:15:30.289Z"
   },
   {
    "duration": 256,
    "start_time": "2023-02-02T07:15:32.653Z"
   },
   {
    "duration": 2426,
    "start_time": "2023-02-02T07:15:32.911Z"
   },
   {
    "duration": 28,
    "start_time": "2023-02-02T07:15:35.339Z"
   },
   {
    "duration": 11773,
    "start_time": "2023-02-02T07:15:35.368Z"
   },
   {
    "duration": 739,
    "start_time": "2023-02-02T07:15:47.144Z"
   },
   {
    "duration": 2292,
    "start_time": "2023-02-02T07:15:47.885Z"
   },
   {
    "duration": 563,
    "start_time": "2023-02-02T07:15:50.179Z"
   },
   {
    "duration": 2,
    "start_time": "2023-02-02T07:15:50.744Z"
   },
   {
    "duration": 22,
    "start_time": "2023-02-02T07:15:50.748Z"
   },
   {
    "duration": 6,
    "start_time": "2023-02-02T07:15:50.771Z"
   },
   {
    "duration": 51,
    "start_time": "2023-02-02T07:15:50.778Z"
   },
   {
    "duration": 2886,
    "start_time": "2023-02-02T07:16:52.647Z"
   },
   {
    "duration": 2273,
    "start_time": "2023-02-02T07:16:55.535Z"
   },
   {
    "duration": 249,
    "start_time": "2023-02-02T07:16:57.810Z"
   },
   {
    "duration": 2360,
    "start_time": "2023-02-02T07:16:58.061Z"
   },
   {
    "duration": 32,
    "start_time": "2023-02-02T07:17:00.422Z"
   },
   {
    "duration": 11872,
    "start_time": "2023-02-02T07:17:00.456Z"
   },
   {
    "duration": 748,
    "start_time": "2023-02-02T07:17:12.330Z"
   },
   {
    "duration": 2285,
    "start_time": "2023-02-02T07:17:13.080Z"
   },
   {
    "duration": 628,
    "start_time": "2023-02-02T07:17:15.366Z"
   },
   {
    "duration": 2,
    "start_time": "2023-02-02T07:17:15.997Z"
   },
   {
    "duration": 25,
    "start_time": "2023-02-02T07:17:16.001Z"
   },
   {
    "duration": 9,
    "start_time": "2023-02-02T07:17:16.028Z"
   },
   {
    "duration": 83,
    "start_time": "2023-02-02T07:17:16.038Z"
   },
   {
    "duration": 2906,
    "start_time": "2023-02-02T07:17:44.128Z"
   },
   {
    "duration": 2201,
    "start_time": "2023-02-02T07:17:47.036Z"
   },
   {
    "duration": 234,
    "start_time": "2023-02-02T07:17:49.239Z"
   },
   {
    "duration": 2344,
    "start_time": "2023-02-02T07:17:49.475Z"
   },
   {
    "duration": 32,
    "start_time": "2023-02-02T07:17:51.821Z"
   },
   {
    "duration": 11531,
    "start_time": "2023-02-02T07:17:51.854Z"
   },
   {
    "duration": 811,
    "start_time": "2023-02-02T07:18:03.387Z"
   },
   {
    "duration": 2410,
    "start_time": "2023-02-02T07:18:04.200Z"
   },
   {
    "duration": 553,
    "start_time": "2023-02-02T07:18:06.612Z"
   },
   {
    "duration": 3,
    "start_time": "2023-02-02T07:18:07.167Z"
   },
   {
    "duration": 30,
    "start_time": "2023-02-02T07:18:07.172Z"
   },
   {
    "duration": 9,
    "start_time": "2023-02-02T07:18:07.204Z"
   },
   {
    "duration": 51,
    "start_time": "2023-02-02T07:18:07.215Z"
   },
   {
    "duration": 2969,
    "start_time": "2023-02-02T07:19:18.293Z"
   },
   {
    "duration": 2257,
    "start_time": "2023-02-02T07:19:21.264Z"
   },
   {
    "duration": 274,
    "start_time": "2023-02-02T07:19:23.523Z"
   },
   {
    "duration": 2332,
    "start_time": "2023-02-02T07:19:23.799Z"
   },
   {
    "duration": 36,
    "start_time": "2023-02-02T07:19:26.133Z"
   },
   {
    "duration": 11701,
    "start_time": "2023-02-02T07:19:26.171Z"
   },
   {
    "duration": 748,
    "start_time": "2023-02-02T07:19:37.874Z"
   },
   {
    "duration": 2286,
    "start_time": "2023-02-02T07:19:38.624Z"
   },
   {
    "duration": 564,
    "start_time": "2023-02-02T07:19:40.912Z"
   },
   {
    "duration": 3,
    "start_time": "2023-02-02T07:19:41.478Z"
   },
   {
    "duration": 29,
    "start_time": "2023-02-02T07:19:41.483Z"
   },
   {
    "duration": 11,
    "start_time": "2023-02-02T07:19:41.514Z"
   },
   {
    "duration": 77,
    "start_time": "2023-02-02T07:19:41.527Z"
   },
   {
    "duration": 2997,
    "start_time": "2023-02-02T07:20:15.444Z"
   },
   {
    "duration": 2276,
    "start_time": "2023-02-02T07:20:18.443Z"
   },
   {
    "duration": 811,
    "start_time": "2023-02-02T07:20:20.721Z"
   },
   {
    "duration": 2141,
    "start_time": "2023-02-02T07:20:21.534Z"
   },
   {
    "duration": 577,
    "start_time": "2023-02-02T07:20:23.677Z"
   },
   {
    "duration": 2,
    "start_time": "2023-02-02T07:20:24.256Z"
   },
   {
    "duration": 25,
    "start_time": "2023-02-02T07:20:24.260Z"
   },
   {
    "duration": 8,
    "start_time": "2023-02-02T07:20:24.286Z"
   },
   {
    "duration": 54,
    "start_time": "2023-02-02T07:20:24.296Z"
   },
   {
    "duration": 16665,
    "start_time": "2023-02-02T07:20:24.353Z"
   },
   {
    "duration": 915675,
    "start_time": "2023-02-02T07:20:41.020Z"
   },
   {
    "duration": 4,
    "start_time": "2023-02-02T07:35:56.697Z"
   },
   {
    "duration": 14,
    "start_time": "2023-02-02T07:35:56.702Z"
   },
   {
    "duration": 109,
    "start_time": "2023-02-02T07:35:56.717Z"
   },
   {
    "duration": 73,
    "start_time": "2023-02-02T07:36:15.639Z"
   },
   {
    "duration": 103,
    "start_time": "2023-02-02T07:36:26.212Z"
   },
   {
    "duration": 134,
    "start_time": "2023-02-02T07:36:33.762Z"
   },
   {
    "duration": 594,
    "start_time": "2023-02-02T07:36:41.098Z"
   },
   {
    "duration": 116,
    "start_time": "2023-02-02T07:36:52.989Z"
   },
   {
    "duration": 177,
    "start_time": "2023-02-02T07:37:03.720Z"
   },
   {
    "duration": 127,
    "start_time": "2023-02-02T07:37:09.783Z"
   },
   {
    "duration": 185,
    "start_time": "2023-02-02T07:37:15.013Z"
   },
   {
    "duration": 118,
    "start_time": "2023-02-02T07:37:19.181Z"
   },
   {
    "duration": 48,
    "start_time": "2023-02-02T07:37:25.481Z"
   },
   {
    "duration": 117,
    "start_time": "2023-02-02T07:37:31.679Z"
   },
   {
    "duration": 1166,
    "start_time": "2023-02-02T07:37:47.030Z"
   },
   {
    "duration": 75,
    "start_time": "2023-02-02T07:37:54.021Z"
   },
   {
    "duration": 3020,
    "start_time": "2023-02-02T07:38:24.082Z"
   },
   {
    "duration": 880,
    "start_time": "2023-02-02T07:38:27.105Z"
   },
   {
    "duration": 298,
    "start_time": "2023-02-02T07:38:27.987Z"
   },
   {
    "duration": 2745,
    "start_time": "2023-02-02T07:38:28.288Z"
   },
   {
    "duration": 59,
    "start_time": "2023-02-02T07:38:31.035Z"
   },
   {
    "duration": 13569,
    "start_time": "2023-02-02T07:38:31.096Z"
   },
   {
    "duration": 20760,
    "start_time": "2023-02-02T07:38:44.667Z"
   },
   {
    "duration": 6927,
    "start_time": "2023-02-02T07:39:05.429Z"
   },
   {
    "duration": 908,
    "start_time": "2023-02-02T07:39:12.358Z"
   },
   {
    "duration": 2469,
    "start_time": "2023-02-02T07:39:13.271Z"
   },
   {
    "duration": 105,
    "start_time": "2023-02-02T07:39:15.742Z"
   },
   {
    "duration": 4,
    "start_time": "2023-02-02T07:39:15.849Z"
   },
   {
    "duration": 11,
    "start_time": "2023-02-02T07:39:15.856Z"
   },
   {
    "duration": 8,
    "start_time": "2023-02-02T07:39:15.869Z"
   },
   {
    "duration": 62,
    "start_time": "2023-02-02T07:39:15.879Z"
   },
   {
    "duration": 60,
    "start_time": "2023-02-02T07:45:56.581Z"
   },
   {
    "duration": 3127,
    "start_time": "2023-02-02T07:46:07.880Z"
   },
   {
    "duration": 2618,
    "start_time": "2023-02-02T07:46:11.009Z"
   },
   {
    "duration": 207,
    "start_time": "2023-02-02T07:55:07.322Z"
   },
   {
    "duration": 2739,
    "start_time": "2023-02-02T07:55:35.613Z"
   },
   {
    "duration": 1017,
    "start_time": "2023-02-02T07:55:38.354Z"
   },
   {
    "duration": 260,
    "start_time": "2023-02-02T07:55:39.372Z"
   },
   {
    "duration": 2331,
    "start_time": "2023-02-02T07:55:39.634Z"
   },
   {
    "duration": 39,
    "start_time": "2023-02-02T07:55:41.967Z"
   },
   {
    "duration": 11697,
    "start_time": "2023-02-02T07:55:42.008Z"
   },
   {
    "duration": 2987,
    "start_time": "2023-02-02T07:55:53.707Z"
   },
   {
    "duration": 6034,
    "start_time": "2023-02-02T07:55:56.696Z"
   },
   {
    "duration": 763,
    "start_time": "2023-02-02T07:56:02.732Z"
   },
   {
    "duration": 2330,
    "start_time": "2023-02-02T07:56:03.497Z"
   },
   {
    "duration": 78,
    "start_time": "2023-02-02T07:56:05.829Z"
   },
   {
    "duration": 3,
    "start_time": "2023-02-02T07:56:05.909Z"
   },
   {
    "duration": 11,
    "start_time": "2023-02-02T07:56:05.914Z"
   },
   {
    "duration": 8,
    "start_time": "2023-02-02T07:56:05.927Z"
   },
   {
    "duration": 52,
    "start_time": "2023-02-02T07:56:05.936Z"
   },
   {
    "duration": 2849,
    "start_time": "2023-02-02T07:56:22.698Z"
   },
   {
    "duration": 2430,
    "start_time": "2023-02-02T07:56:25.549Z"
   },
   {
    "duration": 246,
    "start_time": "2023-02-02T07:56:27.980Z"
   },
   {
    "duration": 2372,
    "start_time": "2023-02-02T07:56:28.227Z"
   },
   {
    "duration": 31,
    "start_time": "2023-02-02T07:56:30.601Z"
   },
   {
    "duration": 11846,
    "start_time": "2023-02-02T07:56:30.633Z"
   },
   {
    "duration": 21028,
    "start_time": "2023-02-02T07:56:42.481Z"
   },
   {
    "duration": 6064,
    "start_time": "2023-02-02T07:57:03.511Z"
   },
   {
    "duration": 766,
    "start_time": "2023-02-02T07:57:09.577Z"
   },
   {
    "duration": 2286,
    "start_time": "2023-02-02T07:57:10.345Z"
   },
   {
    "duration": 70,
    "start_time": "2023-02-02T07:57:12.633Z"
   },
   {
    "duration": 2,
    "start_time": "2023-02-02T07:57:12.705Z"
   },
   {
    "duration": 7,
    "start_time": "2023-02-02T07:57:12.709Z"
   },
   {
    "duration": 5,
    "start_time": "2023-02-02T07:57:12.719Z"
   },
   {
    "duration": 51,
    "start_time": "2023-02-02T07:57:12.726Z"
   },
   {
    "duration": 2959,
    "start_time": "2023-02-02T07:57:21.701Z"
   },
   {
    "duration": 2445,
    "start_time": "2023-02-02T07:57:24.662Z"
   },
   {
    "duration": 251,
    "start_time": "2023-02-02T07:57:27.109Z"
   },
   {
    "duration": 2368,
    "start_time": "2023-02-02T07:57:27.362Z"
   },
   {
    "duration": 30,
    "start_time": "2023-02-02T07:57:29.732Z"
   },
   {
    "duration": 11845,
    "start_time": "2023-02-02T07:57:29.763Z"
   },
   {
    "duration": 13000,
    "start_time": "2023-02-02T07:57:41.610Z"
   },
   {
    "duration": 5903,
    "start_time": "2023-02-02T07:57:54.612Z"
   },
   {
    "duration": 776,
    "start_time": "2023-02-02T07:58:00.517Z"
   },
   {
    "duration": 2452,
    "start_time": "2023-02-02T07:58:01.296Z"
   },
   {
    "duration": 90,
    "start_time": "2023-02-02T07:58:03.750Z"
   },
   {
    "duration": 3,
    "start_time": "2023-02-02T07:58:03.842Z"
   },
   {
    "duration": 15,
    "start_time": "2023-02-02T07:58:03.846Z"
   },
   {
    "duration": 15,
    "start_time": "2023-02-02T07:58:03.863Z"
   },
   {
    "duration": 68,
    "start_time": "2023-02-02T07:58:03.880Z"
   },
   {
    "duration": 2886,
    "start_time": "2023-02-02T07:58:14.369Z"
   },
   {
    "duration": 2413,
    "start_time": "2023-02-02T07:58:17.257Z"
   },
   {
    "duration": 256,
    "start_time": "2023-02-02T07:58:19.672Z"
   },
   {
    "duration": 2365,
    "start_time": "2023-02-02T07:58:19.930Z"
   },
   {
    "duration": 29,
    "start_time": "2023-02-02T07:58:22.297Z"
   },
   {
    "duration": 11853,
    "start_time": "2023-02-02T07:58:22.328Z"
   },
   {
    "duration": 22331,
    "start_time": "2023-02-02T07:58:34.183Z"
   },
   {
    "duration": 6010,
    "start_time": "2023-02-02T07:58:56.516Z"
   },
   {
    "duration": 767,
    "start_time": "2023-02-02T07:59:02.528Z"
   },
   {
    "duration": 2328,
    "start_time": "2023-02-02T07:59:03.298Z"
   },
   {
    "duration": 81,
    "start_time": "2023-02-02T07:59:05.628Z"
   },
   {
    "duration": 4,
    "start_time": "2023-02-02T07:59:05.712Z"
   },
   {
    "duration": 28,
    "start_time": "2023-02-02T07:59:05.718Z"
   },
   {
    "duration": 15,
    "start_time": "2023-02-02T07:59:05.748Z"
   },
   {
    "duration": 71,
    "start_time": "2023-02-02T07:59:05.765Z"
   },
   {
    "duration": 2994,
    "start_time": "2023-02-02T08:00:03.158Z"
   },
   {
    "duration": 201,
    "start_time": "2023-02-02T08:00:06.154Z"
   },
   {
    "duration": 0,
    "start_time": "2023-02-02T08:00:06.358Z"
   },
   {
    "duration": 0,
    "start_time": "2023-02-02T08:00:06.360Z"
   },
   {
    "duration": 0,
    "start_time": "2023-02-02T08:00:06.362Z"
   },
   {
    "duration": 0,
    "start_time": "2023-02-02T08:00:06.364Z"
   },
   {
    "duration": 0,
    "start_time": "2023-02-02T08:00:06.365Z"
   },
   {
    "duration": 0,
    "start_time": "2023-02-02T08:00:06.366Z"
   },
   {
    "duration": 0,
    "start_time": "2023-02-02T08:00:06.367Z"
   },
   {
    "duration": 0,
    "start_time": "2023-02-02T08:00:06.368Z"
   },
   {
    "duration": 0,
    "start_time": "2023-02-02T08:00:06.370Z"
   },
   {
    "duration": 0,
    "start_time": "2023-02-02T08:00:06.371Z"
   },
   {
    "duration": 0,
    "start_time": "2023-02-02T08:00:06.393Z"
   },
   {
    "duration": 0,
    "start_time": "2023-02-02T08:00:06.395Z"
   },
   {
    "duration": 0,
    "start_time": "2023-02-02T08:00:06.397Z"
   },
   {
    "duration": 2781,
    "start_time": "2023-02-02T08:00:33.150Z"
   },
   {
    "duration": 2302,
    "start_time": "2023-02-02T08:00:35.933Z"
   },
   {
    "duration": 2230,
    "start_time": "2023-02-02T08:00:38.237Z"
   },
   {
    "duration": 76,
    "start_time": "2023-02-02T08:00:40.469Z"
   },
   {
    "duration": 3,
    "start_time": "2023-02-02T08:00:40.547Z"
   },
   {
    "duration": 9,
    "start_time": "2023-02-02T08:00:40.551Z"
   },
   {
    "duration": 5,
    "start_time": "2023-02-02T08:00:40.562Z"
   },
   {
    "duration": 53,
    "start_time": "2023-02-02T08:00:40.569Z"
   },
   {
    "duration": 16743,
    "start_time": "2023-02-02T08:00:40.624Z"
   },
   {
    "duration": 81729,
    "start_time": "2023-02-02T08:00:57.369Z"
   },
   {
    "duration": 3,
    "start_time": "2023-02-02T08:02:19.100Z"
   },
   {
    "duration": 10,
    "start_time": "2023-02-02T08:02:19.105Z"
   },
   {
    "duration": 23,
    "start_time": "2023-02-02T08:02:19.116Z"
   },
   {
    "duration": 3009,
    "start_time": "2023-02-02T08:02:46.871Z"
   },
   {
    "duration": 785,
    "start_time": "2023-02-02T08:02:49.882Z"
   },
   {
    "duration": 1687,
    "start_time": "2023-02-02T08:02:50.668Z"
   },
   {
    "duration": 546,
    "start_time": "2023-02-02T08:02:52.358Z"
   },
   {
    "duration": 3,
    "start_time": "2023-02-02T08:02:52.905Z"
   },
   {
    "duration": 25,
    "start_time": "2023-02-02T08:02:52.910Z"
   },
   {
    "duration": 11,
    "start_time": "2023-02-02T08:02:52.936Z"
   },
   {
    "duration": 19,
    "start_time": "2023-02-02T08:02:52.949Z"
   },
   {
    "duration": 2352,
    "start_time": "2023-02-02T08:02:52.970Z"
   },
   {
    "duration": 805089,
    "start_time": "2023-02-02T08:02:55.324Z"
   },
   {
    "duration": 3,
    "start_time": "2023-02-02T08:16:20.415Z"
   },
   {
    "duration": 21,
    "start_time": "2023-02-02T08:16:20.492Z"
   },
   {
    "duration": 94,
    "start_time": "2023-02-02T08:16:20.514Z"
   },
   {
    "duration": 97,
    "start_time": "2023-02-02T08:18:53.145Z"
   },
   {
    "duration": 62,
    "start_time": "2023-02-02T08:18:58.991Z"
   },
   {
    "duration": 65,
    "start_time": "2023-02-02T08:19:07.746Z"
   },
   {
    "duration": 59,
    "start_time": "2023-02-02T08:19:14.594Z"
   },
   {
    "duration": 89,
    "start_time": "2023-02-02T08:19:21.233Z"
   },
   {
    "duration": 2962,
    "start_time": "2023-02-02T08:20:30.005Z"
   },
   {
    "duration": 2484,
    "start_time": "2023-02-02T08:20:32.969Z"
   },
   {
    "duration": 250,
    "start_time": "2023-02-02T08:20:35.456Z"
   },
   {
    "duration": 2480,
    "start_time": "2023-02-02T08:20:35.708Z"
   },
   {
    "duration": 31,
    "start_time": "2023-02-02T08:20:38.190Z"
   },
   {
    "duration": 11710,
    "start_time": "2023-02-02T08:20:38.222Z"
   },
   {
    "duration": 23175,
    "start_time": "2023-02-02T08:20:49.934Z"
   },
   {
    "duration": 8,
    "start_time": "2023-02-02T08:21:13.111Z"
   },
   {
    "duration": 2402,
    "start_time": "2023-02-02T08:21:13.120Z"
   },
   {
    "duration": 68203,
    "start_time": "2023-02-02T08:21:15.524Z"
   },
   {
    "duration": 0,
    "start_time": "2023-02-02T08:22:23.729Z"
   },
   {
    "duration": 0,
    "start_time": "2023-02-02T08:22:23.731Z"
   },
   {
    "duration": 0,
    "start_time": "2023-02-02T08:22:23.733Z"
   },
   {
    "duration": 0,
    "start_time": "2023-02-02T08:22:23.734Z"
   },
   {
    "duration": 0,
    "start_time": "2023-02-02T08:22:23.736Z"
   },
   {
    "duration": 0,
    "start_time": "2023-02-02T08:22:23.737Z"
   },
   {
    "duration": 0,
    "start_time": "2023-02-02T08:22:23.739Z"
   },
   {
    "duration": 0,
    "start_time": "2023-02-02T08:22:23.740Z"
   },
   {
    "duration": 1,
    "start_time": "2023-02-02T08:22:23.740Z"
   },
   {
    "duration": 2824,
    "start_time": "2023-02-02T08:22:31.646Z"
   },
   {
    "duration": 2136,
    "start_time": "2023-02-02T08:22:34.473Z"
   },
   {
    "duration": 259,
    "start_time": "2023-02-02T08:22:36.610Z"
   },
   {
    "duration": 2440,
    "start_time": "2023-02-02T08:22:36.870Z"
   },
   {
    "duration": 31,
    "start_time": "2023-02-02T08:22:39.312Z"
   },
   {
    "duration": 11515,
    "start_time": "2023-02-02T08:22:39.345Z"
   },
   {
    "duration": 22046,
    "start_time": "2023-02-02T08:22:50.862Z"
   },
   {
    "duration": 8,
    "start_time": "2023-02-02T08:23:12.910Z"
   },
   {
    "duration": 8,
    "start_time": "2023-02-02T08:23:12.920Z"
   },
   {
    "duration": 2283,
    "start_time": "2023-02-02T08:23:12.930Z"
   },
   {
    "duration": 556,
    "start_time": "2023-02-02T08:23:15.215Z"
   },
   {
    "duration": 3,
    "start_time": "2023-02-02T08:23:15.773Z"
   },
   {
    "duration": 27,
    "start_time": "2023-02-02T08:23:15.777Z"
   },
   {
    "duration": 14,
    "start_time": "2023-02-02T08:23:15.807Z"
   },
   {
    "duration": 75,
    "start_time": "2023-02-02T08:23:15.823Z"
   },
   {
    "duration": 2747,
    "start_time": "2023-02-02T08:24:22.599Z"
   },
   {
    "duration": 2450,
    "start_time": "2023-02-02T08:24:25.349Z"
   },
   {
    "duration": 237,
    "start_time": "2023-02-02T08:24:27.801Z"
   },
   {
    "duration": 2369,
    "start_time": "2023-02-02T08:24:28.040Z"
   },
   {
    "duration": 34,
    "start_time": "2023-02-02T08:24:30.412Z"
   },
   {
    "duration": 12103,
    "start_time": "2023-02-02T08:24:30.447Z"
   },
   {
    "duration": 22761,
    "start_time": "2023-02-02T08:24:42.552Z"
   },
   {
    "duration": 8,
    "start_time": "2023-02-02T08:25:05.314Z"
   },
   {
    "duration": 2483,
    "start_time": "2023-02-02T08:25:05.324Z"
   },
   {
    "duration": 615,
    "start_time": "2023-02-02T08:25:07.808Z"
   },
   {
    "duration": 3,
    "start_time": "2023-02-02T08:25:08.425Z"
   },
   {
    "duration": 24,
    "start_time": "2023-02-02T08:25:08.429Z"
   },
   {
    "duration": 13,
    "start_time": "2023-02-02T08:25:08.455Z"
   },
   {
    "duration": 80,
    "start_time": "2023-02-02T08:25:08.471Z"
   },
   {
    "duration": 46,
    "start_time": "2023-02-02T08:50:29.495Z"
   },
   {
    "duration": 3146,
    "start_time": "2023-02-02T08:50:34.902Z"
   },
   {
    "duration": 2487,
    "start_time": "2023-02-02T08:50:38.051Z"
   },
   {
    "duration": 261,
    "start_time": "2023-02-02T08:50:40.539Z"
   },
   {
    "duration": 2518,
    "start_time": "2023-02-02T08:50:40.801Z"
   },
   {
    "duration": 28,
    "start_time": "2023-02-02T08:50:43.321Z"
   },
   {
    "duration": 12078,
    "start_time": "2023-02-02T08:50:43.351Z"
   },
   {
    "duration": 22293,
    "start_time": "2023-02-02T08:50:55.431Z"
   },
   {
    "duration": 8,
    "start_time": "2023-02-02T08:51:17.725Z"
   },
   {
    "duration": 2349,
    "start_time": "2023-02-02T08:51:17.735Z"
   },
   {
    "duration": 565,
    "start_time": "2023-02-02T08:51:20.086Z"
   },
   {
    "duration": 3,
    "start_time": "2023-02-02T08:51:20.653Z"
   },
   {
    "duration": 31,
    "start_time": "2023-02-02T08:51:20.657Z"
   },
   {
    "duration": 18,
    "start_time": "2023-02-02T08:51:20.690Z"
   },
   {
    "duration": 81,
    "start_time": "2023-02-02T08:51:20.711Z"
   },
   {
    "duration": 2944,
    "start_time": "2023-02-02T08:51:47.218Z"
   },
   {
    "duration": 2467,
    "start_time": "2023-02-02T08:51:50.164Z"
   },
   {
    "duration": 264,
    "start_time": "2023-02-02T08:51:52.633Z"
   },
   {
    "duration": 2436,
    "start_time": "2023-02-02T08:51:52.899Z"
   },
   {
    "duration": 27,
    "start_time": "2023-02-02T08:51:55.337Z"
   },
   {
    "duration": 12160,
    "start_time": "2023-02-02T08:51:55.365Z"
   },
   {
    "duration": 21283,
    "start_time": "2023-02-02T08:52:07.527Z"
   },
   {
    "duration": 8,
    "start_time": "2023-02-02T08:52:28.812Z"
   },
   {
    "duration": 2442,
    "start_time": "2023-02-02T08:52:28.822Z"
   },
   {
    "duration": 680,
    "start_time": "2023-02-02T08:52:31.266Z"
   },
   {
    "duration": 4,
    "start_time": "2023-02-02T08:52:31.949Z"
   },
   {
    "duration": 37,
    "start_time": "2023-02-02T08:52:31.955Z"
   },
   {
    "duration": 7,
    "start_time": "2023-02-02T08:52:31.995Z"
   },
   {
    "duration": 83,
    "start_time": "2023-02-02T08:52:32.005Z"
   },
   {
    "duration": 2931,
    "start_time": "2023-02-02T09:00:17.075Z"
   },
   {
    "duration": 2519,
    "start_time": "2023-02-02T09:00:20.008Z"
   },
   {
    "duration": 332,
    "start_time": "2023-02-02T09:00:22.529Z"
   },
   {
    "duration": 2480,
    "start_time": "2023-02-02T09:00:22.863Z"
   },
   {
    "duration": 31,
    "start_time": "2023-02-02T09:00:25.345Z"
   },
   {
    "duration": 12085,
    "start_time": "2023-02-02T09:00:25.378Z"
   },
   {
    "duration": 22257,
    "start_time": "2023-02-02T09:00:37.465Z"
   },
   {
    "duration": 9,
    "start_time": "2023-02-02T09:00:59.724Z"
   },
   {
    "duration": 2562,
    "start_time": "2023-02-02T09:00:59.735Z"
   },
   {
    "duration": 623,
    "start_time": "2023-02-02T09:01:02.299Z"
   },
   {
    "duration": 4,
    "start_time": "2023-02-02T09:01:02.923Z"
   },
   {
    "duration": 45,
    "start_time": "2023-02-02T09:01:02.928Z"
   },
   {
    "duration": 11,
    "start_time": "2023-02-02T09:01:02.974Z"
   },
   {
    "duration": 80,
    "start_time": "2023-02-02T09:01:02.988Z"
   },
   {
    "duration": 2887,
    "start_time": "2023-02-02T09:05:41.298Z"
   },
   {
    "duration": 2498,
    "start_time": "2023-02-02T09:05:44.188Z"
   },
   {
    "duration": 9,
    "start_time": "2023-02-02T09:05:46.691Z"
   },
   {
    "duration": 2156,
    "start_time": "2023-02-02T09:05:46.702Z"
   },
   {
    "duration": 580,
    "start_time": "2023-02-02T09:05:48.860Z"
   },
   {
    "duration": 3,
    "start_time": "2023-02-02T09:05:49.441Z"
   },
   {
    "duration": 22,
    "start_time": "2023-02-02T09:05:49.446Z"
   },
   {
    "duration": 6,
    "start_time": "2023-02-02T09:05:49.469Z"
   },
   {
    "duration": 55,
    "start_time": "2023-02-02T09:05:49.476Z"
   },
   {
    "duration": 17115,
    "start_time": "2023-02-02T09:05:49.533Z"
   },
   {
    "duration": 463570,
    "start_time": "2023-02-02T09:06:06.650Z"
   },
   {
    "duration": 0,
    "start_time": "2023-02-02T09:13:50.222Z"
   },
   {
    "duration": 0,
    "start_time": "2023-02-02T09:13:50.223Z"
   },
   {
    "duration": 0,
    "start_time": "2023-02-02T09:13:50.224Z"
   },
   {
    "duration": 2621,
    "start_time": "2023-02-02T09:13:56.642Z"
   },
   {
    "duration": 1002,
    "start_time": "2023-02-02T09:13:59.265Z"
   },
   {
    "duration": 281,
    "start_time": "2023-02-02T09:14:00.269Z"
   },
   {
    "duration": 2521,
    "start_time": "2023-02-02T09:14:00.553Z"
   },
   {
    "duration": 40,
    "start_time": "2023-02-02T09:14:03.076Z"
   },
   {
    "duration": 12536,
    "start_time": "2023-02-02T09:14:03.118Z"
   },
   {
    "duration": 22658,
    "start_time": "2023-02-02T09:14:15.656Z"
   },
   {
    "duration": 8,
    "start_time": "2023-02-02T09:14:38.316Z"
   },
   {
    "duration": 2363,
    "start_time": "2023-02-02T09:14:38.326Z"
   },
   {
    "duration": 639,
    "start_time": "2023-02-02T09:14:40.693Z"
   },
   {
    "duration": 3,
    "start_time": "2023-02-02T09:14:41.334Z"
   },
   {
    "duration": 22,
    "start_time": "2023-02-02T09:14:41.338Z"
   },
   {
    "duration": 5,
    "start_time": "2023-02-02T09:14:41.362Z"
   },
   {
    "duration": 75,
    "start_time": "2023-02-02T09:14:41.369Z"
   },
   {
    "duration": 53,
    "start_time": "2023-02-02T09:23:11.371Z"
   },
   {
    "duration": 3134,
    "start_time": "2023-02-02T09:23:40.210Z"
   },
   {
    "duration": 2507,
    "start_time": "2023-02-02T09:23:43.346Z"
   },
   {
    "duration": 276,
    "start_time": "2023-02-02T09:23:45.855Z"
   },
   {
    "duration": 2558,
    "start_time": "2023-02-02T09:23:46.133Z"
   },
   {
    "duration": 30,
    "start_time": "2023-02-02T09:23:48.693Z"
   },
   {
    "duration": 12051,
    "start_time": "2023-02-02T09:23:48.726Z"
   },
   {
    "duration": 22928,
    "start_time": "2023-02-02T09:24:00.780Z"
   },
   {
    "duration": 18,
    "start_time": "2023-02-02T09:24:23.709Z"
   },
   {
    "duration": 8,
    "start_time": "2023-02-02T09:24:23.729Z"
   },
   {
    "duration": 2304,
    "start_time": "2023-02-02T09:24:23.739Z"
   },
   {
    "duration": 625,
    "start_time": "2023-02-02T09:24:26.046Z"
   },
   {
    "duration": 3,
    "start_time": "2023-02-02T09:24:26.673Z"
   },
   {
    "duration": 24,
    "start_time": "2023-02-02T09:24:26.677Z"
   },
   {
    "duration": 6,
    "start_time": "2023-02-02T09:24:26.703Z"
   },
   {
    "duration": 72,
    "start_time": "2023-02-02T09:24:26.711Z"
   },
   {
    "duration": 2896,
    "start_time": "2023-02-02T09:31:36.431Z"
   },
   {
    "duration": 2447,
    "start_time": "2023-02-02T09:31:39.329Z"
   },
   {
    "duration": 252,
    "start_time": "2023-02-02T09:31:41.778Z"
   },
   {
    "duration": 2421,
    "start_time": "2023-02-02T09:31:42.032Z"
   },
   {
    "duration": 39,
    "start_time": "2023-02-02T09:31:44.454Z"
   },
   {
    "duration": 12089,
    "start_time": "2023-02-02T09:31:44.495Z"
   },
   {
    "duration": 22622,
    "start_time": "2023-02-02T09:31:56.587Z"
   },
   {
    "duration": 6078,
    "start_time": "2023-02-02T09:32:19.211Z"
   },
   {
    "duration": 30910,
    "start_time": "2023-02-02T09:32:25.291Z"
   },
   {
    "duration": 18,
    "start_time": "2023-02-02T09:32:56.203Z"
   },
   {
    "duration": 3209,
    "start_time": "2023-02-02T15:44:30.153Z"
   },
   {
    "duration": 2792,
    "start_time": "2023-02-02T15:44:33.364Z"
   },
   {
    "duration": 478,
    "start_time": "2023-02-02T15:44:36.158Z"
   },
   {
    "duration": 2602,
    "start_time": "2023-02-02T15:44:36.638Z"
   },
   {
    "duration": 49,
    "start_time": "2023-02-02T15:44:39.243Z"
   },
   {
    "duration": 12814,
    "start_time": "2023-02-02T15:44:39.294Z"
   },
   {
    "duration": 23083,
    "start_time": "2023-02-02T15:44:52.110Z"
   },
   {
    "duration": 6524,
    "start_time": "2023-02-02T15:45:15.195Z"
   },
   {
    "duration": 40238,
    "start_time": "2023-02-02T15:45:21.721Z"
   },
   {
    "duration": 17,
    "start_time": "2023-02-02T15:46:01.961Z"
   },
   {
    "duration": 188,
    "start_time": "2023-02-02T16:02:38.040Z"
   },
   {
    "duration": 676,
    "start_time": "2023-02-02T16:02:45.843Z"
   },
   {
    "duration": 663,
    "start_time": "2023-02-02T16:02:55.575Z"
   },
   {
    "duration": 1363,
    "start_time": "2023-02-02T16:03:02.424Z"
   },
   {
    "duration": 17332,
    "start_time": "2023-02-02T16:03:32.663Z"
   },
   {
    "duration": 13977,
    "start_time": "2023-02-02T16:04:04.369Z"
   },
   {
    "duration": 24,
    "start_time": "2023-02-02T16:04:29.473Z"
   },
   {
    "duration": 76,
    "start_time": "2023-02-02T16:04:36.664Z"
   },
   {
    "duration": 12664,
    "start_time": "2023-02-02T16:04:43.395Z"
   },
   {
    "duration": 2501,
    "start_time": "2023-02-02T17:07:08.803Z"
   },
   {
    "duration": 0,
    "start_time": "2023-02-02T17:07:11.306Z"
   },
   {
    "duration": 0,
    "start_time": "2023-02-02T17:07:11.308Z"
   },
   {
    "duration": 0,
    "start_time": "2023-02-02T17:07:11.309Z"
   },
   {
    "duration": 0,
    "start_time": "2023-02-02T17:07:11.310Z"
   },
   {
    "duration": 0,
    "start_time": "2023-02-02T17:07:11.312Z"
   },
   {
    "duration": 0,
    "start_time": "2023-02-02T17:07:11.313Z"
   },
   {
    "duration": 0,
    "start_time": "2023-02-02T17:07:11.327Z"
   },
   {
    "duration": 0,
    "start_time": "2023-02-02T17:07:11.328Z"
   },
   {
    "duration": 0,
    "start_time": "2023-02-02T17:07:11.329Z"
   },
   {
    "duration": 117,
    "start_time": "2023-02-02T17:07:33.991Z"
   },
   {
    "duration": 2863,
    "start_time": "2023-02-02T17:07:46.878Z"
   },
   {
    "duration": 2608,
    "start_time": "2023-02-02T17:07:49.743Z"
   },
   {
    "duration": 404,
    "start_time": "2023-02-02T17:07:52.353Z"
   },
   {
    "duration": 2323,
    "start_time": "2023-02-02T17:07:52.759Z"
   },
   {
    "duration": 57,
    "start_time": "2023-02-02T17:07:55.084Z"
   },
   {
    "duration": 240,
    "start_time": "2023-02-02T17:07:55.142Z"
   },
   {
    "duration": 83,
    "start_time": "2023-02-02T17:07:55.384Z"
   },
   {
    "duration": 105,
    "start_time": "2023-02-02T17:07:55.468Z"
   },
   {
    "duration": 106,
    "start_time": "2023-02-02T17:07:55.575Z"
   },
   {
    "duration": 9,
    "start_time": "2023-02-02T17:07:55.683Z"
   },
   {
    "duration": 2788,
    "start_time": "2023-02-02T17:08:36.089Z"
   },
   {
    "duration": 1027,
    "start_time": "2023-02-02T17:08:38.879Z"
   },
   {
    "duration": 275,
    "start_time": "2023-02-02T17:08:39.907Z"
   },
   {
    "duration": 2454,
    "start_time": "2023-02-02T17:08:40.184Z"
   },
   {
    "duration": 52,
    "start_time": "2023-02-02T17:08:42.640Z"
   },
   {
    "duration": 14109,
    "start_time": "2023-02-02T17:08:42.694Z"
   },
   {
    "duration": 8237,
    "start_time": "2023-02-02T17:08:56.805Z"
   },
   {
    "duration": 1719,
    "start_time": "2023-02-02T17:09:05.044Z"
   },
   {
    "duration": 5481,
    "start_time": "2023-02-02T17:09:06.765Z"
   },
   {
    "duration": 24,
    "start_time": "2023-02-02T17:09:12.248Z"
   },
   {
    "duration": 2812,
    "start_time": "2023-02-02T17:10:43.984Z"
   },
   {
    "duration": 1058,
    "start_time": "2023-02-02T17:10:46.797Z"
   },
   {
    "duration": 278,
    "start_time": "2023-02-02T17:10:47.857Z"
   },
   {
    "duration": 2678,
    "start_time": "2023-02-02T17:10:48.138Z"
   },
   {
    "duration": 72,
    "start_time": "2023-02-02T17:10:50.818Z"
   },
   {
    "duration": 2236,
    "start_time": "2023-02-02T17:10:50.892Z"
   },
   {
    "duration": 109,
    "start_time": "2023-02-02T17:10:53.130Z"
   },
   {
    "duration": 93,
    "start_time": "2023-02-02T17:10:53.243Z"
   },
   {
    "duration": 95,
    "start_time": "2023-02-02T17:10:53.338Z"
   },
   {
    "duration": 15,
    "start_time": "2023-02-02T17:10:53.436Z"
   },
   {
    "duration": 2850,
    "start_time": "2023-02-02T17:11:57.993Z"
   },
   {
    "duration": 1041,
    "start_time": "2023-02-02T17:12:00.845Z"
   },
   {
    "duration": 275,
    "start_time": "2023-02-02T17:12:01.887Z"
   },
   {
    "duration": 2740,
    "start_time": "2023-02-02T17:12:02.164Z"
   },
   {
    "duration": 73,
    "start_time": "2023-02-02T17:12:04.906Z"
   },
   {
    "duration": 2321,
    "start_time": "2023-02-02T17:12:04.983Z"
   },
   {
    "duration": 82,
    "start_time": "2023-02-02T17:12:07.307Z"
   },
   {
    "duration": 87,
    "start_time": "2023-02-02T17:12:07.391Z"
   },
   {
    "duration": 106,
    "start_time": "2023-02-02T17:12:07.481Z"
   },
   {
    "duration": 16,
    "start_time": "2023-02-02T17:12:07.589Z"
   },
   {
    "duration": 2765,
    "start_time": "2023-02-02T17:12:33.129Z"
   },
   {
    "duration": 961,
    "start_time": "2023-02-02T17:12:35.895Z"
   },
   {
    "duration": 248,
    "start_time": "2023-02-02T17:12:36.859Z"
   },
   {
    "duration": 2537,
    "start_time": "2023-02-02T17:12:37.109Z"
   },
   {
    "duration": 57,
    "start_time": "2023-02-02T17:12:39.648Z"
   },
   {
    "duration": 11677,
    "start_time": "2023-02-02T17:12:39.706Z"
   },
   {
    "duration": 6047,
    "start_time": "2023-02-02T17:12:51.384Z"
   },
   {
    "duration": 1773,
    "start_time": "2023-02-02T17:12:57.433Z"
   },
   {
    "duration": 5739,
    "start_time": "2023-02-02T17:12:59.208Z"
   },
   {
    "duration": 30,
    "start_time": "2023-02-02T17:13:04.949Z"
   },
   {
    "duration": 1240,
    "start_time": "2023-02-02T17:19:24.972Z"
   },
   {
    "duration": 2883,
    "start_time": "2023-02-02T17:19:36.532Z"
   },
   {
    "duration": 2689,
    "start_time": "2023-02-02T17:19:39.416Z"
   },
   {
    "duration": 277,
    "start_time": "2023-02-02T17:19:42.106Z"
   },
   {
    "duration": 2707,
    "start_time": "2023-02-02T17:19:42.386Z"
   },
   {
    "duration": 87,
    "start_time": "2023-02-02T17:19:45.095Z"
   },
   {
    "duration": 225,
    "start_time": "2023-02-02T17:19:45.184Z"
   },
   {
    "duration": 0,
    "start_time": "2023-02-02T17:19:45.411Z"
   },
   {
    "duration": 0,
    "start_time": "2023-02-02T17:19:45.412Z"
   },
   {
    "duration": 0,
    "start_time": "2023-02-02T17:19:45.413Z"
   },
   {
    "duration": 0,
    "start_time": "2023-02-02T17:19:45.414Z"
   },
   {
    "duration": 0,
    "start_time": "2023-02-02T17:19:45.415Z"
   },
   {
    "duration": 423,
    "start_time": "2023-02-02T17:20:35.819Z"
   },
   {
    "duration": 2837,
    "start_time": "2023-02-02T17:20:57.111Z"
   },
   {
    "duration": 1033,
    "start_time": "2023-02-02T17:20:59.951Z"
   },
   {
    "duration": 271,
    "start_time": "2023-02-02T17:21:00.986Z"
   },
   {
    "duration": 2626,
    "start_time": "2023-02-02T17:21:01.260Z"
   },
   {
    "duration": 72,
    "start_time": "2023-02-02T17:21:03.888Z"
   },
   {
    "duration": 641,
    "start_time": "2023-02-02T17:21:03.962Z"
   },
   {
    "duration": 0,
    "start_time": "2023-02-02T17:21:04.605Z"
   },
   {
    "duration": 0,
    "start_time": "2023-02-02T17:21:04.606Z"
   },
   {
    "duration": 0,
    "start_time": "2023-02-02T17:21:04.607Z"
   },
   {
    "duration": 0,
    "start_time": "2023-02-02T17:21:04.608Z"
   },
   {
    "duration": 0,
    "start_time": "2023-02-02T17:21:04.609Z"
   },
   {
    "duration": 17672,
    "start_time": "2023-02-02T17:21:34.884Z"
   },
   {
    "duration": 14989,
    "start_time": "2023-02-02T17:22:35.156Z"
   },
   {
    "duration": 14967,
    "start_time": "2023-02-02T17:23:11.412Z"
   },
   {
    "duration": 15370,
    "start_time": "2023-02-02T17:23:33.356Z"
   },
   {
    "duration": 15300,
    "start_time": "2023-02-02T17:25:37.748Z"
   },
   {
    "duration": 2940,
    "start_time": "2023-02-02T17:29:53.264Z"
   },
   {
    "duration": 1044,
    "start_time": "2023-02-02T17:29:56.206Z"
   },
   {
    "duration": 305,
    "start_time": "2023-02-02T17:29:57.252Z"
   },
   {
    "duration": 2661,
    "start_time": "2023-02-02T17:29:57.560Z"
   },
   {
    "duration": 76,
    "start_time": "2023-02-02T17:30:00.223Z"
   },
   {
    "duration": 2794,
    "start_time": "2023-02-02T17:30:33.092Z"
   },
   {
    "duration": 2764,
    "start_time": "2023-02-02T17:30:35.888Z"
   },
   {
    "duration": 269,
    "start_time": "2023-02-02T17:30:38.654Z"
   },
   {
    "duration": 2619,
    "start_time": "2023-02-02T17:30:38.926Z"
   },
   {
    "duration": 57,
    "start_time": "2023-02-02T17:30:41.546Z"
   },
   {
    "duration": 1984,
    "start_time": "2023-02-02T17:30:41.604Z"
   },
   {
    "duration": 152,
    "start_time": "2023-02-02T17:30:58.456Z"
   },
   {
    "duration": 2990,
    "start_time": "2023-02-02T17:31:03.479Z"
   },
   {
    "duration": 2774,
    "start_time": "2023-02-02T17:31:06.472Z"
   },
   {
    "duration": 263,
    "start_time": "2023-02-02T17:31:09.247Z"
   },
   {
    "duration": 2607,
    "start_time": "2023-02-02T17:31:09.512Z"
   },
   {
    "duration": 67,
    "start_time": "2023-02-02T17:31:12.122Z"
   },
   {
    "duration": 1976,
    "start_time": "2023-02-02T17:31:12.190Z"
   },
   {
    "duration": 2963,
    "start_time": "2023-02-02T17:32:12.204Z"
   },
   {
    "duration": 2987,
    "start_time": "2023-02-02T17:32:15.169Z"
   },
   {
    "duration": 281,
    "start_time": "2023-02-02T17:32:18.158Z"
   },
   {
    "duration": 2815,
    "start_time": "2023-02-02T17:32:18.449Z"
   },
   {
    "duration": 87,
    "start_time": "2023-02-02T17:32:21.265Z"
   },
   {
    "duration": 1988,
    "start_time": "2023-02-02T17:32:21.354Z"
   },
   {
    "duration": 3069,
    "start_time": "2023-02-02T17:34:23.574Z"
   },
   {
    "duration": 3236,
    "start_time": "2023-02-02T17:34:26.646Z"
   },
   {
    "duration": 287,
    "start_time": "2023-02-02T17:34:29.884Z"
   },
   {
    "duration": 2774,
    "start_time": "2023-02-02T17:34:30.174Z"
   },
   {
    "duration": 64,
    "start_time": "2023-02-02T17:34:32.950Z"
   },
   {
    "duration": 2023,
    "start_time": "2023-02-02T17:34:33.016Z"
   },
   {
    "duration": 3457,
    "start_time": "2023-02-02T17:35:00.149Z"
   },
   {
    "duration": 3592,
    "start_time": "2023-02-02T17:35:03.608Z"
   },
   {
    "duration": 344,
    "start_time": "2023-02-02T17:35:07.202Z"
   },
   {
    "duration": 2923,
    "start_time": "2023-02-02T17:35:07.548Z"
   },
   {
    "duration": 78,
    "start_time": "2023-02-02T17:35:10.474Z"
   },
   {
    "duration": 2059,
    "start_time": "2023-02-02T17:35:10.555Z"
   },
   {
    "duration": 2888,
    "start_time": "2023-02-02T17:36:41.671Z"
   },
   {
    "duration": 2732,
    "start_time": "2023-02-02T17:36:44.562Z"
   },
   {
    "duration": 274,
    "start_time": "2023-02-02T17:36:47.296Z"
   },
   {
    "duration": 2632,
    "start_time": "2023-02-02T17:36:47.573Z"
   },
   {
    "duration": 71,
    "start_time": "2023-02-02T17:36:50.206Z"
   },
   {
    "duration": 1963,
    "start_time": "2023-02-02T17:36:50.279Z"
   },
   {
    "duration": 2667,
    "start_time": "2023-02-02T17:38:20.254Z"
   },
   {
    "duration": 2617,
    "start_time": "2023-02-02T17:38:22.924Z"
   },
   {
    "duration": 231,
    "start_time": "2023-02-02T17:38:25.543Z"
   },
   {
    "duration": 2348,
    "start_time": "2023-02-02T17:38:25.776Z"
   },
   {
    "duration": 56,
    "start_time": "2023-02-02T17:38:28.136Z"
   },
   {
    "duration": 1814,
    "start_time": "2023-02-02T17:38:28.194Z"
   },
   {
    "duration": 15,
    "start_time": "2023-02-02T17:38:30.010Z"
   },
   {
    "duration": 13935,
    "start_time": "2023-02-02T17:38:30.027Z"
   },
   {
    "duration": 5,
    "start_time": "2023-02-02T17:38:43.963Z"
   },
   {
    "duration": 175,
    "start_time": "2023-02-02T17:38:43.970Z"
   },
   {
    "duration": 0,
    "start_time": "2023-02-02T17:38:44.146Z"
   },
   {
    "duration": 0,
    "start_time": "2023-02-02T17:38:44.148Z"
   },
   {
    "duration": 0,
    "start_time": "2023-02-02T17:38:44.148Z"
   },
   {
    "duration": 0,
    "start_time": "2023-02-02T17:38:44.149Z"
   },
   {
    "duration": 2606,
    "start_time": "2023-02-02T17:40:26.142Z"
   },
   {
    "duration": 914,
    "start_time": "2023-02-02T17:40:28.750Z"
   },
   {
    "duration": 234,
    "start_time": "2023-02-02T17:40:29.666Z"
   },
   {
    "duration": 2268,
    "start_time": "2023-02-02T17:40:29.902Z"
   },
   {
    "duration": 61,
    "start_time": "2023-02-02T17:40:32.172Z"
   },
   {
    "duration": 1817,
    "start_time": "2023-02-02T17:40:32.235Z"
   },
   {
    "duration": 3,
    "start_time": "2023-02-02T17:40:34.054Z"
   },
   {
    "duration": 13891,
    "start_time": "2023-02-02T17:40:34.059Z"
   },
   {
    "duration": 161,
    "start_time": "2023-02-02T17:40:47.951Z"
   },
   {
    "duration": 0,
    "start_time": "2023-02-02T17:40:48.114Z"
   },
   {
    "duration": 0,
    "start_time": "2023-02-02T17:40:48.115Z"
   },
   {
    "duration": 0,
    "start_time": "2023-02-02T17:40:48.116Z"
   },
   {
    "duration": 0,
    "start_time": "2023-02-02T17:40:48.118Z"
   },
   {
    "duration": 0,
    "start_time": "2023-02-02T17:40:48.127Z"
   },
   {
    "duration": 2532,
    "start_time": "2023-02-02T17:42:14.090Z"
   },
   {
    "duration": 978,
    "start_time": "2023-02-02T17:42:16.623Z"
   },
   {
    "duration": 250,
    "start_time": "2023-02-02T17:42:17.603Z"
   },
   {
    "duration": 2321,
    "start_time": "2023-02-02T17:42:17.854Z"
   },
   {
    "duration": 69,
    "start_time": "2023-02-02T17:42:20.177Z"
   },
   {
    "duration": 1822,
    "start_time": "2023-02-02T17:42:20.248Z"
   },
   {
    "duration": 3,
    "start_time": "2023-02-02T17:42:22.072Z"
   },
   {
    "duration": 14068,
    "start_time": "2023-02-02T17:42:22.076Z"
   },
   {
    "duration": 49569,
    "start_time": "2023-02-02T17:42:36.146Z"
   },
   {
    "duration": 28626,
    "start_time": "2023-02-02T17:43:25.718Z"
   },
   {
    "duration": 303,
    "start_time": "2023-02-02T17:43:54.357Z"
   },
   {
    "duration": 129,
    "start_time": "2023-02-02T17:43:54.662Z"
   },
   {
    "duration": 103,
    "start_time": "2023-02-02T17:43:54.792Z"
   },
   {
    "duration": 10,
    "start_time": "2023-02-02T17:43:54.896Z"
   },
   {
    "duration": 2800,
    "start_time": "2023-02-02T17:45:04.177Z"
   },
   {
    "duration": 1018,
    "start_time": "2023-02-02T17:45:06.979Z"
   },
   {
    "duration": 253,
    "start_time": "2023-02-02T17:45:07.999Z"
   },
   {
    "duration": 2538,
    "start_time": "2023-02-02T17:45:08.254Z"
   },
   {
    "duration": 77,
    "start_time": "2023-02-02T17:45:10.794Z"
   },
   {
    "duration": 1935,
    "start_time": "2023-02-02T17:45:10.873Z"
   },
   {
    "duration": 3,
    "start_time": "2023-02-02T17:45:12.810Z"
   },
   {
    "duration": 15440,
    "start_time": "2023-02-02T17:45:12.815Z"
   },
   {
    "duration": 53727,
    "start_time": "2023-02-02T17:45:28.257Z"
   },
   {
    "duration": 186,
    "start_time": "2023-02-02T17:46:21.986Z"
   },
   {
    "duration": 0,
    "start_time": "2023-02-02T17:46:22.173Z"
   },
   {
    "duration": 0,
    "start_time": "2023-02-02T17:46:22.174Z"
   },
   {
    "duration": 0,
    "start_time": "2023-02-02T17:46:22.175Z"
   },
   {
    "duration": 0,
    "start_time": "2023-02-02T17:46:22.177Z"
   },
   {
    "duration": 2866,
    "start_time": "2023-02-02T17:47:49.908Z"
   },
   {
    "duration": 1069,
    "start_time": "2023-02-02T17:47:52.776Z"
   },
   {
    "duration": 247,
    "start_time": "2023-02-02T17:47:53.846Z"
   },
   {
    "duration": 2616,
    "start_time": "2023-02-02T17:47:54.095Z"
   },
   {
    "duration": 64,
    "start_time": "2023-02-02T17:47:56.713Z"
   },
   {
    "duration": 1929,
    "start_time": "2023-02-02T17:47:56.779Z"
   },
   {
    "duration": 3,
    "start_time": "2023-02-02T17:47:58.710Z"
   },
   {
    "duration": 15218,
    "start_time": "2023-02-02T17:47:58.714Z"
   },
   {
    "duration": 51664,
    "start_time": "2023-02-02T17:48:13.934Z"
   },
   {
    "duration": 161,
    "start_time": "2023-02-02T17:49:05.601Z"
   },
   {
    "duration": 0,
    "start_time": "2023-02-02T17:49:05.764Z"
   },
   {
    "duration": 0,
    "start_time": "2023-02-02T17:49:05.766Z"
   },
   {
    "duration": 0,
    "start_time": "2023-02-02T17:49:05.766Z"
   },
   {
    "duration": 0,
    "start_time": "2023-02-02T17:49:05.767Z"
   },
   {
    "duration": 2539,
    "start_time": "2023-02-02T17:51:04.024Z"
   },
   {
    "duration": 928,
    "start_time": "2023-02-02T17:51:06.564Z"
   },
   {
    "duration": 266,
    "start_time": "2023-02-02T17:51:07.494Z"
   },
   {
    "duration": 2284,
    "start_time": "2023-02-02T17:51:07.762Z"
   },
   {
    "duration": 52,
    "start_time": "2023-02-02T17:51:10.048Z"
   },
   {
    "duration": 1822,
    "start_time": "2023-02-02T17:51:10.102Z"
   },
   {
    "duration": 5,
    "start_time": "2023-02-02T17:51:11.925Z"
   },
   {
    "duration": 8110,
    "start_time": "2023-02-02T17:51:11.931Z"
   },
   {
    "duration": 0,
    "start_time": "2023-02-02T17:51:20.043Z"
   },
   {
    "duration": 0,
    "start_time": "2023-02-02T17:51:20.044Z"
   },
   {
    "duration": 0,
    "start_time": "2023-02-02T17:51:20.045Z"
   },
   {
    "duration": 0,
    "start_time": "2023-02-02T17:51:20.046Z"
   },
   {
    "duration": 0,
    "start_time": "2023-02-02T17:51:20.047Z"
   },
   {
    "duration": 0,
    "start_time": "2023-02-02T17:51:20.048Z"
   },
   {
    "duration": 2612,
    "start_time": "2023-02-02T17:51:52.095Z"
   },
   {
    "duration": 950,
    "start_time": "2023-02-02T17:51:54.709Z"
   },
   {
    "duration": 220,
    "start_time": "2023-02-02T17:51:55.660Z"
   },
   {
    "duration": 2181,
    "start_time": "2023-02-02T17:51:55.882Z"
   },
   {
    "duration": 48,
    "start_time": "2023-02-02T17:51:58.065Z"
   },
   {
    "duration": 1769,
    "start_time": "2023-02-02T17:51:58.115Z"
   },
   {
    "duration": 4,
    "start_time": "2023-02-02T17:51:59.885Z"
   },
   {
    "duration": 6733,
    "start_time": "2023-02-02T17:51:59.890Z"
   },
   {
    "duration": 0,
    "start_time": "2023-02-02T17:52:06.628Z"
   },
   {
    "duration": 0,
    "start_time": "2023-02-02T17:52:06.629Z"
   },
   {
    "duration": 0,
    "start_time": "2023-02-02T17:52:06.629Z"
   },
   {
    "duration": 0,
    "start_time": "2023-02-02T17:52:06.657Z"
   },
   {
    "duration": 0,
    "start_time": "2023-02-02T17:52:06.658Z"
   },
   {
    "duration": 0,
    "start_time": "2023-02-02T17:52:06.659Z"
   },
   {
    "duration": 2913,
    "start_time": "2023-02-02T17:52:22.870Z"
   },
   {
    "duration": 951,
    "start_time": "2023-02-02T17:52:25.785Z"
   },
   {
    "duration": 255,
    "start_time": "2023-02-02T17:52:26.738Z"
   },
   {
    "duration": 2381,
    "start_time": "2023-02-02T17:52:26.995Z"
   },
   {
    "duration": 68,
    "start_time": "2023-02-02T17:52:29.377Z"
   },
   {
    "duration": 1862,
    "start_time": "2023-02-02T17:52:29.447Z"
   },
   {
    "duration": 3,
    "start_time": "2023-02-02T17:52:31.311Z"
   },
   {
    "duration": 8995,
    "start_time": "2023-02-02T17:52:31.315Z"
   },
   {
    "duration": 29482,
    "start_time": "2023-02-02T17:52:40.312Z"
   },
   {
    "duration": 174,
    "start_time": "2023-02-02T17:53:09.797Z"
   },
   {
    "duration": 0,
    "start_time": "2023-02-02T17:53:09.972Z"
   },
   {
    "duration": 0,
    "start_time": "2023-02-02T17:53:09.973Z"
   },
   {
    "duration": 0,
    "start_time": "2023-02-02T17:53:09.975Z"
   },
   {
    "duration": 0,
    "start_time": "2023-02-02T17:53:09.976Z"
   },
   {
    "duration": 2620,
    "start_time": "2023-02-02T17:54:05.430Z"
   },
   {
    "duration": 952,
    "start_time": "2023-02-02T17:54:08.052Z"
   },
   {
    "duration": 242,
    "start_time": "2023-02-02T17:54:09.006Z"
   },
   {
    "duration": 2293,
    "start_time": "2023-02-02T17:54:09.250Z"
   },
   {
    "duration": 50,
    "start_time": "2023-02-02T17:54:11.545Z"
   },
   {
    "duration": 1805,
    "start_time": "2023-02-02T17:54:11.596Z"
   },
   {
    "duration": 3,
    "start_time": "2023-02-02T17:54:13.403Z"
   },
   {
    "duration": 8478,
    "start_time": "2023-02-02T17:54:13.408Z"
   },
   {
    "duration": 27914,
    "start_time": "2023-02-02T17:54:21.888Z"
   },
   {
    "duration": 168,
    "start_time": "2023-02-02T17:54:49.804Z"
   },
   {
    "duration": 0,
    "start_time": "2023-02-02T17:54:49.974Z"
   },
   {
    "duration": 0,
    "start_time": "2023-02-02T17:54:49.975Z"
   },
   {
    "duration": 0,
    "start_time": "2023-02-02T17:54:49.976Z"
   },
   {
    "duration": 0,
    "start_time": "2023-02-02T17:54:49.977Z"
   },
   {
    "duration": 2537,
    "start_time": "2023-02-02T18:11:34.816Z"
   },
   {
    "duration": 973,
    "start_time": "2023-02-02T18:11:37.355Z"
   },
   {
    "duration": 221,
    "start_time": "2023-02-02T18:11:38.329Z"
   },
   {
    "duration": 2141,
    "start_time": "2023-02-02T18:11:38.552Z"
   },
   {
    "duration": 64,
    "start_time": "2023-02-02T18:11:40.695Z"
   },
   {
    "duration": 1780,
    "start_time": "2023-02-02T18:11:40.761Z"
   },
   {
    "duration": 5,
    "start_time": "2023-02-02T18:11:42.542Z"
   },
   {
    "duration": 162,
    "start_time": "2023-02-02T18:11:42.548Z"
   },
   {
    "duration": 0,
    "start_time": "2023-02-02T18:11:42.712Z"
   },
   {
    "duration": 0,
    "start_time": "2023-02-02T18:11:42.713Z"
   },
   {
    "duration": 0,
    "start_time": "2023-02-02T18:11:42.714Z"
   },
   {
    "duration": 0,
    "start_time": "2023-02-02T18:11:42.716Z"
   },
   {
    "duration": 0,
    "start_time": "2023-02-02T18:11:42.728Z"
   },
   {
    "duration": 0,
    "start_time": "2023-02-02T18:11:42.729Z"
   },
   {
    "duration": 731,
    "start_time": "2023-02-02T18:12:46.953Z"
   },
   {
    "duration": 22,
    "start_time": "2023-02-02T18:12:53.097Z"
   },
   {
    "duration": 2544,
    "start_time": "2023-02-02T18:15:09.916Z"
   },
   {
    "duration": 2540,
    "start_time": "2023-02-02T18:15:12.462Z"
   },
   {
    "duration": 263,
    "start_time": "2023-02-02T18:15:15.003Z"
   },
   {
    "duration": 2218,
    "start_time": "2023-02-02T18:15:15.269Z"
   },
   {
    "duration": 64,
    "start_time": "2023-02-02T18:15:17.489Z"
   },
   {
    "duration": 1737,
    "start_time": "2023-02-02T18:15:17.554Z"
   },
   {
    "duration": 72,
    "start_time": "2023-02-02T18:15:19.293Z"
   },
   {
    "duration": 0,
    "start_time": "2023-02-02T18:15:19.367Z"
   },
   {
    "duration": 0,
    "start_time": "2023-02-02T18:15:19.369Z"
   },
   {
    "duration": 1,
    "start_time": "2023-02-02T18:15:19.370Z"
   },
   {
    "duration": 0,
    "start_time": "2023-02-02T18:15:19.372Z"
   },
   {
    "duration": 0,
    "start_time": "2023-02-02T18:15:19.374Z"
   },
   {
    "duration": 0,
    "start_time": "2023-02-02T18:15:19.375Z"
   },
   {
    "duration": 1,
    "start_time": "2023-02-02T18:15:19.376Z"
   },
   {
    "duration": 2762,
    "start_time": "2023-02-02T18:19:37.141Z"
   },
   {
    "duration": 984,
    "start_time": "2023-02-02T18:19:39.905Z"
   },
   {
    "duration": 257,
    "start_time": "2023-02-02T18:19:40.891Z"
   },
   {
    "duration": 2485,
    "start_time": "2023-02-02T18:19:41.150Z"
   },
   {
    "duration": 80,
    "start_time": "2023-02-02T18:19:43.637Z"
   },
   {
    "duration": 1802,
    "start_time": "2023-02-02T18:19:43.719Z"
   },
   {
    "duration": 121,
    "start_time": "2023-02-02T18:19:45.527Z"
   },
   {
    "duration": 0,
    "start_time": "2023-02-02T18:19:45.649Z"
   },
   {
    "duration": 0,
    "start_time": "2023-02-02T18:19:45.650Z"
   },
   {
    "duration": 0,
    "start_time": "2023-02-02T18:19:45.652Z"
   },
   {
    "duration": 0,
    "start_time": "2023-02-02T18:19:45.654Z"
   },
   {
    "duration": 0,
    "start_time": "2023-02-02T18:19:45.655Z"
   },
   {
    "duration": 0,
    "start_time": "2023-02-02T18:19:45.656Z"
   },
   {
    "duration": 0,
    "start_time": "2023-02-02T18:19:45.658Z"
   },
   {
    "duration": 2679,
    "start_time": "2023-02-02T18:20:05.413Z"
   },
   {
    "duration": 917,
    "start_time": "2023-02-02T18:20:08.094Z"
   },
   {
    "duration": 231,
    "start_time": "2023-02-02T18:20:09.013Z"
   },
   {
    "duration": 2340,
    "start_time": "2023-02-02T18:20:09.246Z"
   },
   {
    "duration": 66,
    "start_time": "2023-02-02T18:20:11.588Z"
   },
   {
    "duration": 1784,
    "start_time": "2023-02-02T18:20:11.656Z"
   },
   {
    "duration": 2,
    "start_time": "2023-02-02T18:20:13.444Z"
   },
   {
    "duration": 711,
    "start_time": "2023-02-02T18:20:13.448Z"
   },
   {
    "duration": 84,
    "start_time": "2023-02-02T18:20:14.161Z"
   },
   {
    "duration": 165,
    "start_time": "2023-02-02T18:20:14.247Z"
   },
   {
    "duration": 0,
    "start_time": "2023-02-02T18:20:14.414Z"
   },
   {
    "duration": 0,
    "start_time": "2023-02-02T18:20:14.414Z"
   },
   {
    "duration": 0,
    "start_time": "2023-02-02T18:20:14.415Z"
   },
   {
    "duration": 0,
    "start_time": "2023-02-02T18:20:14.416Z"
   },
   {
    "duration": 2554,
    "start_time": "2023-02-02T18:21:47.410Z"
   },
   {
    "duration": 929,
    "start_time": "2023-02-02T18:21:49.965Z"
   },
   {
    "duration": 249,
    "start_time": "2023-02-02T18:21:50.896Z"
   },
   {
    "duration": 2377,
    "start_time": "2023-02-02T18:21:51.147Z"
   },
   {
    "duration": 78,
    "start_time": "2023-02-02T18:21:53.530Z"
   },
   {
    "duration": 1873,
    "start_time": "2023-02-02T18:21:53.609Z"
   },
   {
    "duration": 3,
    "start_time": "2023-02-02T18:21:55.484Z"
   },
   {
    "duration": 723,
    "start_time": "2023-02-02T18:21:55.489Z"
   },
   {
    "duration": 15,
    "start_time": "2023-02-02T18:21:56.215Z"
   },
   {
    "duration": 8445,
    "start_time": "2023-02-02T18:21:56.233Z"
   },
   {
    "duration": 9364,
    "start_time": "2023-02-02T18:22:04.680Z"
   },
   {
    "duration": 1585,
    "start_time": "2023-02-02T18:22:14.046Z"
   },
   {
    "duration": 5033,
    "start_time": "2023-02-02T18:22:15.635Z"
   },
   {
    "duration": 67,
    "start_time": "2023-02-02T18:22:20.669Z"
   },
   {
    "duration": 2683,
    "start_time": "2023-02-02T18:23:39.960Z"
   },
   {
    "duration": 934,
    "start_time": "2023-02-02T18:23:42.645Z"
   },
   {
    "duration": 227,
    "start_time": "2023-02-02T18:23:43.581Z"
   },
   {
    "duration": 2377,
    "start_time": "2023-02-02T18:23:43.810Z"
   },
   {
    "duration": 63,
    "start_time": "2023-02-02T18:23:46.189Z"
   },
   {
    "duration": 1799,
    "start_time": "2023-02-02T18:23:46.254Z"
   },
   {
    "duration": 3,
    "start_time": "2023-02-02T18:23:48.055Z"
   },
   {
    "duration": 707,
    "start_time": "2023-02-02T18:23:48.060Z"
   },
   {
    "duration": 4,
    "start_time": "2023-02-02T18:23:48.769Z"
   },
   {
    "duration": 8466,
    "start_time": "2023-02-02T18:23:48.774Z"
   },
   {
    "duration": 10388,
    "start_time": "2023-02-02T18:23:57.241Z"
   },
   {
    "duration": 1603,
    "start_time": "2023-02-02T18:24:07.631Z"
   },
   {
    "duration": 5113,
    "start_time": "2023-02-02T18:24:09.239Z"
   },
   {
    "duration": 25,
    "start_time": "2023-02-02T18:24:14.354Z"
   },
   {
    "duration": 7844,
    "start_time": "2023-02-02T18:27:19.222Z"
   },
   {
    "duration": 2345,
    "start_time": "2023-02-02T18:31:19.478Z"
   },
   {
    "duration": 905,
    "start_time": "2023-02-02T18:31:21.825Z"
   },
   {
    "duration": 218,
    "start_time": "2023-02-02T18:31:22.731Z"
   },
   {
    "duration": 2145,
    "start_time": "2023-02-02T18:31:22.951Z"
   },
   {
    "duration": 58,
    "start_time": "2023-02-02T18:31:25.097Z"
   },
   {
    "duration": 1739,
    "start_time": "2023-02-02T18:31:25.156Z"
   },
   {
    "duration": 89,
    "start_time": "2023-02-02T18:31:26.896Z"
   },
   {
    "duration": 0,
    "start_time": "2023-02-02T18:31:26.987Z"
   },
   {
    "duration": 0,
    "start_time": "2023-02-02T18:31:26.988Z"
   },
   {
    "duration": 0,
    "start_time": "2023-02-02T18:31:26.989Z"
   },
   {
    "duration": 0,
    "start_time": "2023-02-02T18:31:26.991Z"
   },
   {
    "duration": 0,
    "start_time": "2023-02-02T18:31:26.991Z"
   },
   {
    "duration": 0,
    "start_time": "2023-02-02T18:31:26.992Z"
   },
   {
    "duration": 0,
    "start_time": "2023-02-02T18:31:26.993Z"
   },
   {
    "duration": 4,
    "start_time": "2023-02-02T18:31:36.855Z"
   },
   {
    "duration": 10524,
    "start_time": "2023-02-02T18:32:10.831Z"
   },
   {
    "duration": 3,
    "start_time": "2023-02-02T18:33:34.041Z"
   },
   {
    "duration": 156,
    "start_time": "2023-02-02T18:33:34.695Z"
   },
   {
    "duration": 4,
    "start_time": "2023-02-02T18:33:50.215Z"
   },
   {
    "duration": 9208,
    "start_time": "2023-02-02T18:33:51.424Z"
   },
   {
    "duration": 4,
    "start_time": "2023-02-02T18:34:48.856Z"
   },
   {
    "duration": 15077,
    "start_time": "2023-02-02T18:34:50.375Z"
   },
   {
    "duration": 4,
    "start_time": "2023-02-02T18:35:50.408Z"
   },
   {
    "duration": 67511,
    "start_time": "2023-02-02T18:35:50.776Z"
   },
   {
    "duration": 4,
    "start_time": "2023-02-02T18:39:59.570Z"
   },
   {
    "duration": 72402,
    "start_time": "2023-02-02T18:40:00.353Z"
   },
   {
    "duration": 4,
    "start_time": "2023-02-02T18:42:25.098Z"
   },
   {
    "duration": 71382,
    "start_time": "2023-02-02T18:42:25.901Z"
   },
   {
    "duration": 5,
    "start_time": "2023-02-02T18:44:32.440Z"
   },
   {
    "duration": 72128,
    "start_time": "2023-02-02T18:44:32.823Z"
   },
   {
    "duration": 21,
    "start_time": "2023-02-02T18:46:09.699Z"
   },
   {
    "duration": 3,
    "start_time": "2023-02-02T18:47:33.869Z"
   },
   {
    "duration": 2906,
    "start_time": "2023-02-02T18:48:02.209Z"
   },
   {
    "duration": 1135,
    "start_time": "2023-02-02T18:48:05.116Z"
   },
   {
    "duration": 290,
    "start_time": "2023-02-02T18:48:06.253Z"
   },
   {
    "duration": 2497,
    "start_time": "2023-02-02T18:48:06.546Z"
   },
   {
    "duration": 71,
    "start_time": "2023-02-02T18:48:09.045Z"
   },
   {
    "duration": 1861,
    "start_time": "2023-02-02T18:48:09.119Z"
   },
   {
    "duration": 11,
    "start_time": "2023-02-02T18:48:10.982Z"
   },
   {
    "duration": 5,
    "start_time": "2023-02-02T18:48:10.995Z"
   },
   {
    "duration": 18219,
    "start_time": "2023-02-02T18:48:11.002Z"
   },
   {
    "duration": 65073,
    "start_time": "2023-02-02T18:48:29.223Z"
   },
   {
    "duration": 182,
    "start_time": "2023-02-02T18:49:34.298Z"
   },
   {
    "duration": 0,
    "start_time": "2023-02-02T18:49:34.482Z"
   },
   {
    "duration": 0,
    "start_time": "2023-02-02T18:49:34.484Z"
   },
   {
    "duration": 0,
    "start_time": "2023-02-02T18:49:34.485Z"
   },
   {
    "duration": 0,
    "start_time": "2023-02-02T18:49:34.486Z"
   },
   {
    "duration": 0,
    "start_time": "2023-02-02T18:49:34.487Z"
   },
   {
    "duration": 22,
    "start_time": "2023-02-02T18:49:42.943Z"
   },
   {
    "duration": 17,
    "start_time": "2023-02-02T18:50:08.558Z"
   },
   {
    "duration": 2662,
    "start_time": "2023-02-02T18:50:17.455Z"
   },
   {
    "duration": 993,
    "start_time": "2023-02-02T18:50:20.118Z"
   },
   {
    "duration": 274,
    "start_time": "2023-02-02T18:50:21.112Z"
   },
   {
    "duration": 2358,
    "start_time": "2023-02-02T18:50:21.388Z"
   },
   {
    "duration": 55,
    "start_time": "2023-02-02T18:50:23.748Z"
   },
   {
    "duration": 1944,
    "start_time": "2023-02-02T18:50:23.805Z"
   },
   {
    "duration": 1332,
    "start_time": "2023-02-02T18:50:25.751Z"
   },
   {
    "duration": 3,
    "start_time": "2023-02-02T18:50:27.085Z"
   },
   {
    "duration": 16252,
    "start_time": "2023-02-02T18:50:27.089Z"
   },
   {
    "duration": 63807,
    "start_time": "2023-02-02T18:50:43.344Z"
   },
   {
    "duration": 192,
    "start_time": "2023-02-02T18:51:47.154Z"
   },
   {
    "duration": 0,
    "start_time": "2023-02-02T18:51:47.348Z"
   },
   {
    "duration": 0,
    "start_time": "2023-02-02T18:51:47.349Z"
   },
   {
    "duration": 0,
    "start_time": "2023-02-02T18:51:47.351Z"
   },
   {
    "duration": 0,
    "start_time": "2023-02-02T18:51:47.353Z"
   },
   {
    "duration": 0,
    "start_time": "2023-02-02T18:51:47.354Z"
   },
   {
    "duration": 20,
    "start_time": "2023-02-02T18:51:55.853Z"
   },
   {
    "duration": 14,
    "start_time": "2023-02-02T18:52:09.342Z"
   },
   {
    "duration": 13,
    "start_time": "2023-02-02T18:52:28.886Z"
   },
   {
    "duration": 2860,
    "start_time": "2023-02-02T18:52:36.966Z"
   },
   {
    "duration": 1064,
    "start_time": "2023-02-02T18:52:39.829Z"
   },
   {
    "duration": 257,
    "start_time": "2023-02-02T18:52:40.894Z"
   },
   {
    "duration": 2352,
    "start_time": "2023-02-02T18:52:41.153Z"
   },
   {
    "duration": 72,
    "start_time": "2023-02-02T18:52:43.507Z"
   },
   {
    "duration": 1897,
    "start_time": "2023-02-02T18:52:43.581Z"
   },
   {
    "duration": 1379,
    "start_time": "2023-02-02T18:52:45.480Z"
   },
   {
    "duration": 0,
    "start_time": "2023-02-02T18:52:46.861Z"
   },
   {
    "duration": 0,
    "start_time": "2023-02-02T18:52:46.862Z"
   },
   {
    "duration": 0,
    "start_time": "2023-02-02T18:52:46.863Z"
   },
   {
    "duration": 0,
    "start_time": "2023-02-02T18:52:46.864Z"
   },
   {
    "duration": 0,
    "start_time": "2023-02-02T18:52:46.865Z"
   },
   {
    "duration": 0,
    "start_time": "2023-02-02T18:52:46.866Z"
   },
   {
    "duration": 0,
    "start_time": "2023-02-02T18:52:46.867Z"
   },
   {
    "duration": 0,
    "start_time": "2023-02-02T18:52:46.868Z"
   },
   {
    "duration": 7,
    "start_time": "2023-02-02T18:54:06.510Z"
   },
   {
    "duration": 6,
    "start_time": "2023-02-02T18:54:51.454Z"
   },
   {
    "duration": 4,
    "start_time": "2023-02-02T18:55:58.487Z"
   },
   {
    "duration": 3,
    "start_time": "2023-02-02T18:58:24.501Z"
   },
   {
    "duration": 3,
    "start_time": "2023-02-02T19:00:19.815Z"
   },
   {
    "duration": 3,
    "start_time": "2023-02-02T19:00:57.785Z"
   },
   {
    "duration": 3,
    "start_time": "2023-02-02T19:01:27.960Z"
   },
   {
    "duration": 4,
    "start_time": "2023-02-02T19:01:53.247Z"
   },
   {
    "duration": 4,
    "start_time": "2023-02-02T19:05:01.914Z"
   },
   {
    "duration": 16841,
    "start_time": "2023-02-02T19:05:02.323Z"
   },
   {
    "duration": 0,
    "start_time": "2023-02-02T19:05:19.165Z"
   },
   {
    "duration": 0,
    "start_time": "2023-02-02T19:05:19.166Z"
   },
   {
    "duration": 3067,
    "start_time": "2023-02-02T19:05:46.246Z"
   },
   {
    "duration": 1152,
    "start_time": "2023-02-02T19:05:49.314Z"
   },
   {
    "duration": 275,
    "start_time": "2023-02-02T19:05:50.468Z"
   },
   {
    "duration": 2553,
    "start_time": "2023-02-02T19:05:50.745Z"
   },
   {
    "duration": 103,
    "start_time": "2023-02-02T19:05:53.301Z"
   },
   {
    "duration": 2140,
    "start_time": "2023-02-02T19:05:53.406Z"
   },
   {
    "duration": 5,
    "start_time": "2023-02-02T19:05:55.551Z"
   },
   {
    "duration": 18429,
    "start_time": "2023-02-02T19:05:55.558Z"
   },
   {
    "duration": 0,
    "start_time": "2023-02-02T19:06:13.988Z"
   },
   {
    "duration": 0,
    "start_time": "2023-02-02T19:06:13.989Z"
   },
   {
    "duration": 0,
    "start_time": "2023-02-02T19:06:13.990Z"
   },
   {
    "duration": 0,
    "start_time": "2023-02-02T19:06:13.992Z"
   },
   {
    "duration": 0,
    "start_time": "2023-02-02T19:06:13.993Z"
   },
   {
    "duration": 0,
    "start_time": "2023-02-02T19:06:13.993Z"
   },
   {
    "duration": 4,
    "start_time": "2023-02-02T19:06:36.016Z"
   },
   {
    "duration": 15,
    "start_time": "2023-02-02T19:06:36.354Z"
   },
   {
    "duration": 3317,
    "start_time": "2023-02-02T19:06:45.214Z"
   },
   {
    "duration": 1041,
    "start_time": "2023-02-02T19:06:48.545Z"
   },
   {
    "duration": 264,
    "start_time": "2023-02-02T19:06:49.587Z"
   },
   {
    "duration": 2497,
    "start_time": "2023-02-02T19:06:49.853Z"
   },
   {
    "duration": 57,
    "start_time": "2023-02-02T19:06:52.353Z"
   },
   {
    "duration": 2009,
    "start_time": "2023-02-02T19:06:52.411Z"
   },
   {
    "duration": 16,
    "start_time": "2023-02-02T19:06:54.422Z"
   },
   {
    "duration": 18064,
    "start_time": "2023-02-02T19:06:54.445Z"
   },
   {
    "duration": 64101,
    "start_time": "2023-02-02T19:07:12.510Z"
   },
   {
    "duration": 22,
    "start_time": "2023-02-02T19:08:16.612Z"
   },
   {
    "duration": 227,
    "start_time": "2023-02-02T19:08:16.636Z"
   },
   {
    "duration": 93,
    "start_time": "2023-02-02T19:08:16.865Z"
   },
   {
    "duration": 95,
    "start_time": "2023-02-02T19:08:16.959Z"
   },
   {
    "duration": 12,
    "start_time": "2023-02-02T19:08:17.056Z"
   },
   {
    "duration": 6,
    "start_time": "2023-02-02T19:09:35.922Z"
   },
   {
    "duration": 4,
    "start_time": "2023-02-02T19:09:46.322Z"
   },
   {
    "duration": 4,
    "start_time": "2023-02-02T19:10:04.779Z"
   },
   {
    "duration": 7,
    "start_time": "2023-02-02T19:10:05.238Z"
   },
   {
    "duration": 8,
    "start_time": "2023-02-02T19:11:47.372Z"
   },
   {
    "duration": 4,
    "start_time": "2023-02-02T19:11:47.754Z"
   },
   {
    "duration": 12,
    "start_time": "2023-02-02T19:12:10.427Z"
   },
   {
    "duration": 5,
    "start_time": "2023-02-02T19:12:29.547Z"
   },
   {
    "duration": 2762,
    "start_time": "2023-02-02T19:14:26.845Z"
   },
   {
    "duration": 984,
    "start_time": "2023-02-02T19:14:29.609Z"
   },
   {
    "duration": 270,
    "start_time": "2023-02-02T19:14:30.597Z"
   },
   {
    "duration": 2398,
    "start_time": "2023-02-02T19:14:30.869Z"
   },
   {
    "duration": 70,
    "start_time": "2023-02-02T19:14:33.270Z"
   },
   {
    "duration": 1826,
    "start_time": "2023-02-02T19:14:33.341Z"
   },
   {
    "duration": 4,
    "start_time": "2023-02-02T19:14:35.169Z"
   },
   {
    "duration": 25,
    "start_time": "2023-02-02T19:14:35.174Z"
   },
   {
    "duration": 17469,
    "start_time": "2023-02-02T19:14:35.201Z"
   },
   {
    "duration": 63925,
    "start_time": "2023-02-02T19:14:52.671Z"
   },
   {
    "duration": 16,
    "start_time": "2023-02-02T19:15:56.598Z"
   },
   {
    "duration": 309,
    "start_time": "2023-02-02T19:15:56.616Z"
   },
   {
    "duration": 118,
    "start_time": "2023-02-02T19:15:56.927Z"
   },
   {
    "duration": 102,
    "start_time": "2023-02-02T19:15:57.048Z"
   },
   {
    "duration": 13,
    "start_time": "2023-02-02T19:15:57.152Z"
   },
   {
    "duration": 2960,
    "start_time": "2023-02-02T19:17:10.626Z"
   },
   {
    "duration": 1084,
    "start_time": "2023-02-02T19:17:13.588Z"
   },
   {
    "duration": 273,
    "start_time": "2023-02-02T19:17:14.674Z"
   },
   {
    "duration": 2603,
    "start_time": "2023-02-02T19:17:14.949Z"
   },
   {
    "duration": 92,
    "start_time": "2023-02-02T19:17:17.554Z"
   },
   {
    "duration": 1901,
    "start_time": "2023-02-02T19:17:17.649Z"
   },
   {
    "duration": 3,
    "start_time": "2023-02-02T19:17:19.552Z"
   },
   {
    "duration": 6,
    "start_time": "2023-02-02T19:17:19.557Z"
   },
   {
    "duration": 18214,
    "start_time": "2023-02-02T19:17:19.565Z"
   },
   {
    "duration": 63077,
    "start_time": "2023-02-02T19:17:37.781Z"
   },
   {
    "duration": 164,
    "start_time": "2023-02-02T19:18:40.859Z"
   },
   {
    "duration": 0,
    "start_time": "2023-02-02T19:18:41.024Z"
   },
   {
    "duration": 0,
    "start_time": "2023-02-02T19:18:41.026Z"
   },
   {
    "duration": 0,
    "start_time": "2023-02-02T19:18:41.026Z"
   },
   {
    "duration": 0,
    "start_time": "2023-02-02T19:18:41.027Z"
   },
   {
    "duration": 5,
    "start_time": "2023-02-02T19:21:33.543Z"
   },
   {
    "duration": 30,
    "start_time": "2023-02-02T19:21:35.124Z"
   },
   {
    "duration": 2705,
    "start_time": "2023-02-02T19:21:58.042Z"
   },
   {
    "duration": 965,
    "start_time": "2023-02-02T19:22:00.749Z"
   },
   {
    "duration": 242,
    "start_time": "2023-02-02T19:22:01.716Z"
   },
   {
    "duration": 2226,
    "start_time": "2023-02-02T19:22:01.961Z"
   },
   {
    "duration": 73,
    "start_time": "2023-02-02T19:22:04.190Z"
   },
   {
    "duration": 1768,
    "start_time": "2023-02-02T19:22:04.264Z"
   },
   {
    "duration": 5,
    "start_time": "2023-02-02T19:22:06.034Z"
   },
   {
    "duration": 5,
    "start_time": "2023-02-02T19:22:06.041Z"
   },
   {
    "duration": 18261,
    "start_time": "2023-02-02T19:22:06.048Z"
   },
   {
    "duration": 2667,
    "start_time": "2023-02-02T19:22:56.985Z"
   },
   {
    "duration": 2507,
    "start_time": "2023-02-02T19:22:59.654Z"
   },
   {
    "duration": 247,
    "start_time": "2023-02-02T19:23:02.165Z"
   },
   {
    "duration": 2168,
    "start_time": "2023-02-02T19:23:02.414Z"
   },
   {
    "duration": 72,
    "start_time": "2023-02-02T19:23:04.583Z"
   },
   {
    "duration": 1797,
    "start_time": "2023-02-02T19:23:04.657Z"
   },
   {
    "duration": 4,
    "start_time": "2023-02-02T19:23:06.456Z"
   },
   {
    "duration": 8,
    "start_time": "2023-02-02T19:23:06.461Z"
   },
   {
    "duration": 16228,
    "start_time": "2023-02-02T19:23:06.471Z"
   },
   {
    "duration": 58551,
    "start_time": "2023-02-02T19:23:22.700Z"
   },
   {
    "duration": 166,
    "start_time": "2023-02-02T19:24:21.253Z"
   },
   {
    "duration": 0,
    "start_time": "2023-02-02T19:24:21.420Z"
   },
   {
    "duration": 0,
    "start_time": "2023-02-02T19:24:21.422Z"
   },
   {
    "duration": 0,
    "start_time": "2023-02-02T19:24:21.427Z"
   },
   {
    "duration": 0,
    "start_time": "2023-02-02T19:24:21.428Z"
   },
   {
    "duration": 7075,
    "start_time": "2023-02-02T19:29:50.960Z"
   },
   {
    "duration": 57,
    "start_time": "2023-02-02T19:30:08.784Z"
   },
   {
    "duration": 2670,
    "start_time": "2023-02-02T19:30:51.008Z"
   },
   {
    "duration": 976,
    "start_time": "2023-02-02T19:30:53.680Z"
   },
   {
    "duration": 245,
    "start_time": "2023-02-02T19:30:54.658Z"
   },
   {
    "duration": 2289,
    "start_time": "2023-02-02T19:30:54.905Z"
   },
   {
    "duration": 80,
    "start_time": "2023-02-02T19:30:57.197Z"
   },
   {
    "duration": 1772,
    "start_time": "2023-02-02T19:30:57.279Z"
   },
   {
    "duration": 5,
    "start_time": "2023-02-02T19:30:59.053Z"
   },
   {
    "duration": 6,
    "start_time": "2023-02-02T19:30:59.060Z"
   },
   {
    "duration": 8856,
    "start_time": "2023-02-02T19:30:59.067Z"
   },
   {
    "duration": 59,
    "start_time": "2023-02-02T19:31:07.927Z"
   },
   {
    "duration": 57540,
    "start_time": "2023-02-02T19:31:07.988Z"
   },
   {
    "duration": 1845,
    "start_time": "2023-02-02T19:32:05.529Z"
   },
   {
    "duration": 0,
    "start_time": "2023-02-02T19:32:07.377Z"
   },
   {
    "duration": 0,
    "start_time": "2023-02-02T19:32:07.377Z"
   },
   {
    "duration": 0,
    "start_time": "2023-02-02T19:32:07.378Z"
   },
   {
    "duration": 0,
    "start_time": "2023-02-02T19:32:07.379Z"
   },
   {
    "duration": 0,
    "start_time": "2023-02-02T19:32:07.382Z"
   },
   {
    "duration": 70,
    "start_time": "2023-02-02T19:32:13.137Z"
   },
   {
    "duration": 3,
    "start_time": "2023-02-02T19:33:59.283Z"
   },
   {
    "duration": 23,
    "start_time": "2023-02-02T19:33:59.737Z"
   },
   {
    "duration": 10,
    "start_time": "2023-02-02T19:34:00.291Z"
   },
   {
    "duration": 3274,
    "start_time": "2023-02-02T19:35:53.006Z"
   },
   {
    "duration": 2837,
    "start_time": "2023-02-02T19:35:56.282Z"
   },
   {
    "duration": 282,
    "start_time": "2023-02-02T19:35:59.120Z"
   },
   {
    "duration": 2571,
    "start_time": "2023-02-02T19:35:59.404Z"
   },
   {
    "duration": 96,
    "start_time": "2023-02-02T19:36:01.978Z"
   },
   {
    "duration": 2154,
    "start_time": "2023-02-02T19:36:02.076Z"
   },
   {
    "duration": 3,
    "start_time": "2023-02-02T19:36:04.234Z"
   },
   {
    "duration": 17,
    "start_time": "2023-02-02T19:36:04.240Z"
   },
   {
    "duration": 1323,
    "start_time": "2023-02-02T19:36:04.259Z"
   },
   {
    "duration": 7,
    "start_time": "2023-02-02T19:36:05.584Z"
   },
   {
    "duration": 24,
    "start_time": "2023-02-02T19:36:05.592Z"
   },
   {
    "duration": 0,
    "start_time": "2023-02-02T19:36:05.617Z"
   },
   {
    "duration": 0,
    "start_time": "2023-02-02T19:36:05.629Z"
   },
   {
    "duration": 0,
    "start_time": "2023-02-02T19:36:05.630Z"
   },
   {
    "duration": 0,
    "start_time": "2023-02-02T19:36:05.631Z"
   },
   {
    "duration": 0,
    "start_time": "2023-02-02T19:36:05.633Z"
   },
   {
    "duration": 8,
    "start_time": "2023-02-02T19:37:06.035Z"
   },
   {
    "duration": 16,
    "start_time": "2023-02-02T19:37:38.996Z"
   },
   {
    "duration": 5,
    "start_time": "2023-02-02T19:37:46.184Z"
   },
   {
    "duration": 7,
    "start_time": "2023-02-02T19:38:19.715Z"
   },
   {
    "duration": 2,
    "start_time": "2023-02-02T19:38:29.493Z"
   },
   {
    "duration": 6,
    "start_time": "2023-02-02T19:38:38.610Z"
   },
   {
    "duration": 6,
    "start_time": "2023-02-02T19:38:49.905Z"
   },
   {
    "duration": 2659,
    "start_time": "2023-02-02T19:39:02.665Z"
   },
   {
    "duration": 1113,
    "start_time": "2023-02-02T19:39:05.326Z"
   },
   {
    "duration": 267,
    "start_time": "2023-02-02T19:39:06.441Z"
   },
   {
    "duration": 2466,
    "start_time": "2023-02-02T19:39:06.710Z"
   },
   {
    "duration": 73,
    "start_time": "2023-02-02T19:39:09.179Z"
   },
   {
    "duration": 1819,
    "start_time": "2023-02-02T19:39:09.254Z"
   },
   {
    "duration": 1155,
    "start_time": "2023-02-02T19:39:11.074Z"
   },
   {
    "duration": 3,
    "start_time": "2023-02-02T19:39:12.230Z"
   },
   {
    "duration": 185,
    "start_time": "2023-02-02T19:39:12.235Z"
   },
   {
    "duration": 0,
    "start_time": "2023-02-02T19:39:12.422Z"
   },
   {
    "duration": 0,
    "start_time": "2023-02-02T19:39:12.423Z"
   },
   {
    "duration": 0,
    "start_time": "2023-02-02T19:39:12.428Z"
   },
   {
    "duration": 0,
    "start_time": "2023-02-02T19:39:12.429Z"
   },
   {
    "duration": 0,
    "start_time": "2023-02-02T19:39:12.430Z"
   },
   {
    "duration": 0,
    "start_time": "2023-02-02T19:39:12.440Z"
   },
   {
    "duration": 0,
    "start_time": "2023-02-02T19:39:12.442Z"
   },
   {
    "duration": 13,
    "start_time": "2023-02-02T19:39:26.155Z"
   },
   {
    "duration": 4,
    "start_time": "2023-02-02T19:40:03.091Z"
   },
   {
    "duration": 7,
    "start_time": "2023-02-02T19:40:10.327Z"
   },
   {
    "duration": 2535,
    "start_time": "2023-02-02T19:51:22.030Z"
   },
   {
    "duration": 1017,
    "start_time": "2023-02-02T19:51:24.568Z"
   },
   {
    "duration": 242,
    "start_time": "2023-02-02T19:51:25.586Z"
   },
   {
    "duration": 2229,
    "start_time": "2023-02-02T19:51:25.830Z"
   },
   {
    "duration": 66,
    "start_time": "2023-02-02T19:51:28.062Z"
   },
   {
    "duration": 1442,
    "start_time": "2023-02-02T19:51:28.130Z"
   },
   {
    "duration": 1196,
    "start_time": "2023-02-02T19:51:29.574Z"
   },
   {
    "duration": 3,
    "start_time": "2023-02-02T19:51:30.772Z"
   },
   {
    "duration": 182,
    "start_time": "2023-02-02T19:51:30.776Z"
   },
   {
    "duration": 0,
    "start_time": "2023-02-02T19:51:30.960Z"
   },
   {
    "duration": 0,
    "start_time": "2023-02-02T19:51:30.961Z"
   },
   {
    "duration": 0,
    "start_time": "2023-02-02T19:51:30.962Z"
   },
   {
    "duration": 0,
    "start_time": "2023-02-02T19:51:30.963Z"
   },
   {
    "duration": 0,
    "start_time": "2023-02-02T19:51:30.964Z"
   },
   {
    "duration": 0,
    "start_time": "2023-02-02T19:51:30.965Z"
   },
   {
    "duration": 0,
    "start_time": "2023-02-02T19:51:30.966Z"
   },
   {
    "duration": 34,
    "start_time": "2023-02-02T19:51:56.319Z"
   },
   {
    "duration": 2631,
    "start_time": "2023-02-02T19:53:40.997Z"
   },
   {
    "duration": 917,
    "start_time": "2023-02-02T19:53:43.631Z"
   },
   {
    "duration": 231,
    "start_time": "2023-02-02T19:53:44.550Z"
   },
   {
    "duration": 2166,
    "start_time": "2023-02-02T19:53:44.783Z"
   },
   {
    "duration": 86,
    "start_time": "2023-02-02T19:53:46.951Z"
   },
   {
    "duration": 1440,
    "start_time": "2023-02-02T19:53:47.039Z"
   },
   {
    "duration": 1141,
    "start_time": "2023-02-02T19:53:48.481Z"
   },
   {
    "duration": 77,
    "start_time": "2023-02-02T19:53:49.624Z"
   },
   {
    "duration": 0,
    "start_time": "2023-02-02T19:53:49.702Z"
   },
   {
    "duration": 0,
    "start_time": "2023-02-02T19:53:49.703Z"
   },
   {
    "duration": 0,
    "start_time": "2023-02-02T19:53:49.704Z"
   },
   {
    "duration": 0,
    "start_time": "2023-02-02T19:53:49.705Z"
   },
   {
    "duration": 0,
    "start_time": "2023-02-02T19:53:49.707Z"
   },
   {
    "duration": 0,
    "start_time": "2023-02-02T19:53:49.708Z"
   },
   {
    "duration": 0,
    "start_time": "2023-02-02T19:53:49.708Z"
   },
   {
    "duration": 0,
    "start_time": "2023-02-02T19:53:49.709Z"
   },
   {
    "duration": 5,
    "start_time": "2023-02-02T19:53:55.368Z"
   },
   {
    "duration": 13654,
    "start_time": "2023-02-02T19:54:02.518Z"
   },
   {
    "duration": 2695,
    "start_time": "2023-02-02T19:55:01.575Z"
   },
   {
    "duration": 926,
    "start_time": "2023-02-02T19:55:04.272Z"
   },
   {
    "duration": 243,
    "start_time": "2023-02-02T19:55:05.199Z"
   },
   {
    "duration": 2195,
    "start_time": "2023-02-02T19:55:05.445Z"
   },
   {
    "duration": 54,
    "start_time": "2023-02-02T19:55:07.642Z"
   },
   {
    "duration": 5,
    "start_time": "2023-02-02T19:55:07.698Z"
   },
   {
    "duration": 1135,
    "start_time": "2023-02-02T19:55:07.705Z"
   },
   {
    "duration": 4,
    "start_time": "2023-02-02T19:55:08.842Z"
   },
   {
    "duration": 13822,
    "start_time": "2023-02-02T19:55:08.847Z"
   },
   {
    "duration": 55628,
    "start_time": "2023-02-02T19:55:22.672Z"
   },
   {
    "duration": 5849,
    "start_time": "2023-02-02T19:56:18.301Z"
   },
   {
    "duration": 6192,
    "start_time": "2023-02-02T19:56:24.152Z"
   },
   {
    "duration": 1516,
    "start_time": "2023-02-02T19:56:30.346Z"
   },
   {
    "duration": 4618,
    "start_time": "2023-02-02T19:56:31.863Z"
   },
   {
    "duration": 64,
    "start_time": "2023-02-02T19:56:36.483Z"
   },
   {
    "duration": 2588,
    "start_time": "2023-02-02T19:58:11.351Z"
   },
   {
    "duration": 948,
    "start_time": "2023-02-02T19:58:13.941Z"
   },
   {
    "duration": 246,
    "start_time": "2023-02-02T19:58:14.890Z"
   },
   {
    "duration": 2213,
    "start_time": "2023-02-02T19:58:15.138Z"
   },
   {
    "duration": 55,
    "start_time": "2023-02-02T19:58:17.353Z"
   },
   {
    "duration": 19,
    "start_time": "2023-02-02T19:58:17.410Z"
   },
   {
    "duration": 1244,
    "start_time": "2023-02-02T19:58:17.431Z"
   },
   {
    "duration": 4,
    "start_time": "2023-02-02T19:58:18.677Z"
   },
   {
    "duration": 13757,
    "start_time": "2023-02-02T19:58:18.682Z"
   },
   {
    "duration": 54671,
    "start_time": "2023-02-02T19:58:32.441Z"
   },
   {
    "duration": 5887,
    "start_time": "2023-02-02T19:59:27.114Z"
   },
   {
    "duration": 6339,
    "start_time": "2023-02-02T19:59:33.004Z"
   },
   {
    "duration": 1580,
    "start_time": "2023-02-02T19:59:39.344Z"
   },
   {
    "duration": 4512,
    "start_time": "2023-02-02T19:59:40.927Z"
   },
   {
    "duration": 24,
    "start_time": "2023-02-02T19:59:45.441Z"
   },
   {
    "duration": 2681,
    "start_time": "2023-02-02T20:02:12.365Z"
   },
   {
    "duration": 982,
    "start_time": "2023-02-02T20:02:15.048Z"
   },
   {
    "duration": 215,
    "start_time": "2023-02-02T20:02:16.032Z"
   },
   {
    "duration": 2200,
    "start_time": "2023-02-02T20:02:16.249Z"
   },
   {
    "duration": 53,
    "start_time": "2023-02-02T20:02:18.450Z"
   },
   {
    "duration": 4,
    "start_time": "2023-02-02T20:02:18.504Z"
   },
   {
    "duration": 1159,
    "start_time": "2023-02-02T20:02:18.509Z"
   },
   {
    "duration": 4,
    "start_time": "2023-02-02T20:02:19.670Z"
   },
   {
    "duration": 39655,
    "start_time": "2023-02-02T20:02:19.675Z"
   },
   {
    "duration": 0,
    "start_time": "2023-02-02T20:02:59.331Z"
   },
   {
    "duration": 0,
    "start_time": "2023-02-02T20:02:59.333Z"
   },
   {
    "duration": 0,
    "start_time": "2023-02-02T20:02:59.334Z"
   },
   {
    "duration": 0,
    "start_time": "2023-02-02T20:02:59.335Z"
   },
   {
    "duration": 0,
    "start_time": "2023-02-02T20:02:59.336Z"
   },
   {
    "duration": 2522,
    "start_time": "2023-02-02T20:03:05.355Z"
   },
   {
    "duration": 926,
    "start_time": "2023-02-02T20:03:07.880Z"
   },
   {
    "duration": 225,
    "start_time": "2023-02-02T20:03:08.808Z"
   },
   {
    "duration": 2122,
    "start_time": "2023-02-02T20:03:09.034Z"
   },
   {
    "duration": 54,
    "start_time": "2023-02-02T20:03:11.159Z"
   },
   {
    "duration": 15,
    "start_time": "2023-02-02T20:03:11.215Z"
   },
   {
    "duration": 1120,
    "start_time": "2023-02-02T20:03:11.232Z"
   },
   {
    "duration": 4,
    "start_time": "2023-02-02T20:03:12.354Z"
   },
   {
    "duration": 13765,
    "start_time": "2023-02-02T20:03:12.359Z"
   },
   {
    "duration": 0,
    "start_time": "2023-02-02T20:03:26.128Z"
   },
   {
    "duration": 0,
    "start_time": "2023-02-02T20:03:26.130Z"
   },
   {
    "duration": 0,
    "start_time": "2023-02-02T20:03:26.131Z"
   },
   {
    "duration": 0,
    "start_time": "2023-02-02T20:03:26.132Z"
   },
   {
    "duration": 0,
    "start_time": "2023-02-02T20:03:26.133Z"
   },
   {
    "duration": 2558,
    "start_time": "2023-02-02T20:03:59.408Z"
   },
   {
    "duration": 952,
    "start_time": "2023-02-02T20:04:01.969Z"
   },
   {
    "duration": 236,
    "start_time": "2023-02-02T20:04:02.929Z"
   },
   {
    "duration": 2255,
    "start_time": "2023-02-02T20:04:03.166Z"
   },
   {
    "duration": 55,
    "start_time": "2023-02-02T20:04:05.427Z"
   },
   {
    "duration": 4,
    "start_time": "2023-02-02T20:04:05.484Z"
   },
   {
    "duration": 1141,
    "start_time": "2023-02-02T20:04:05.489Z"
   },
   {
    "duration": 4,
    "start_time": "2023-02-02T20:04:06.632Z"
   },
   {
    "duration": 68390,
    "start_time": "2023-02-02T20:04:06.638Z"
   },
   {
    "duration": 5916,
    "start_time": "2023-02-02T20:05:15.029Z"
   },
   {
    "duration": 5795,
    "start_time": "2023-02-02T20:05:20.947Z"
   },
   {
    "duration": 1526,
    "start_time": "2023-02-02T20:05:26.743Z"
   },
   {
    "duration": 5185,
    "start_time": "2023-02-02T20:05:28.270Z"
   },
   {
    "duration": 27,
    "start_time": "2023-02-02T20:05:33.458Z"
   },
   {
    "duration": 2680,
    "start_time": "2023-02-02T20:11:48.414Z"
   },
   {
    "duration": 969,
    "start_time": "2023-02-02T20:11:51.095Z"
   },
   {
    "duration": 248,
    "start_time": "2023-02-02T20:11:52.065Z"
   },
   {
    "duration": 2267,
    "start_time": "2023-02-02T20:11:52.316Z"
   },
   {
    "duration": 71,
    "start_time": "2023-02-02T20:11:54.585Z"
   },
   {
    "duration": 4,
    "start_time": "2023-02-02T20:11:54.657Z"
   },
   {
    "duration": 8,
    "start_time": "2023-02-02T20:11:54.663Z"
   },
   {
    "duration": 31282,
    "start_time": "2023-02-02T20:11:54.673Z"
   },
   {
    "duration": 3,
    "start_time": "2023-02-02T20:12:25.956Z"
   },
   {
    "duration": 1880,
    "start_time": "2023-02-02T20:12:25.961Z"
   },
   {
    "duration": 36,
    "start_time": "2023-02-02T20:12:27.843Z"
   },
   {
    "duration": 50,
    "start_time": "2023-02-02T20:12:27.880Z"
   },
   {
    "duration": 34,
    "start_time": "2023-02-02T20:12:27.932Z"
   },
   {
    "duration": 66,
    "start_time": "2023-02-02T20:12:27.968Z"
   },
   {
    "duration": 2587,
    "start_time": "2023-02-02T20:13:07.885Z"
   },
   {
    "duration": 972,
    "start_time": "2023-02-02T20:13:10.474Z"
   },
   {
    "duration": 233,
    "start_time": "2023-02-02T20:13:11.448Z"
   },
   {
    "duration": 2189,
    "start_time": "2023-02-02T20:13:11.683Z"
   },
   {
    "duration": 88,
    "start_time": "2023-02-02T20:13:13.874Z"
   },
   {
    "duration": 5,
    "start_time": "2023-02-02T20:13:13.964Z"
   },
   {
    "duration": 509,
    "start_time": "2023-02-02T20:13:13.971Z"
   },
   {
    "duration": 0,
    "start_time": "2023-02-02T20:13:14.482Z"
   },
   {
    "duration": 0,
    "start_time": "2023-02-02T20:13:14.483Z"
   },
   {
    "duration": 0,
    "start_time": "2023-02-02T20:13:14.483Z"
   },
   {
    "duration": 0,
    "start_time": "2023-02-02T20:13:14.485Z"
   },
   {
    "duration": 0,
    "start_time": "2023-02-02T20:13:14.486Z"
   },
   {
    "duration": 0,
    "start_time": "2023-02-02T20:13:14.487Z"
   },
   {
    "duration": 374,
    "start_time": "2023-02-02T20:14:32.351Z"
   },
   {
    "duration": 70099,
    "start_time": "2023-02-02T20:15:01.644Z"
   },
   {
    "duration": 14,
    "start_time": "2023-02-02T20:16:14.861Z"
   },
   {
    "duration": 5986,
    "start_time": "2023-02-02T20:16:15.165Z"
   },
   {
    "duration": 6286,
    "start_time": "2023-02-02T20:16:21.153Z"
   },
   {
    "duration": 1514,
    "start_time": "2023-02-02T20:16:27.441Z"
   },
   {
    "duration": 5077,
    "start_time": "2023-02-02T20:16:28.957Z"
   },
   {
    "duration": 27,
    "start_time": "2023-02-02T20:16:34.036Z"
   },
   {
    "duration": 2,
    "start_time": "2023-02-02T20:17:03.317Z"
   },
   {
    "duration": 16,
    "start_time": "2023-02-02T20:19:11.031Z"
   },
   {
    "duration": 41,
    "start_time": "2023-02-02T20:29:15.762Z"
   },
   {
    "duration": 393509,
    "start_time": "2023-02-02T20:29:34.890Z"
   },
   {
    "duration": 14644,
    "start_time": "2023-02-02T20:36:08.402Z"
   },
   {
    "duration": 2855,
    "start_time": "2023-02-02T20:39:17.152Z"
   },
   {
    "duration": 998,
    "start_time": "2023-02-02T20:39:20.009Z"
   },
   {
    "duration": 246,
    "start_time": "2023-02-02T20:39:21.008Z"
   },
   {
    "duration": 2218,
    "start_time": "2023-02-02T20:39:21.256Z"
   },
   {
    "duration": 67,
    "start_time": "2023-02-02T20:39:23.476Z"
   },
   {
    "duration": 3,
    "start_time": "2023-02-02T20:39:23.545Z"
   },
   {
    "duration": 213,
    "start_time": "2023-02-02T20:39:23.550Z"
   },
   {
    "duration": 0,
    "start_time": "2023-02-02T20:39:23.765Z"
   },
   {
    "duration": 0,
    "start_time": "2023-02-02T20:39:23.766Z"
   },
   {
    "duration": 0,
    "start_time": "2023-02-02T20:39:23.769Z"
   },
   {
    "duration": 0,
    "start_time": "2023-02-02T20:39:23.770Z"
   },
   {
    "duration": 0,
    "start_time": "2023-02-02T20:39:23.771Z"
   },
   {
    "duration": 0,
    "start_time": "2023-02-02T20:39:23.772Z"
   },
   {
    "duration": 2737,
    "start_time": "2023-02-02T20:40:21.178Z"
   },
   {
    "duration": 1125,
    "start_time": "2023-02-02T20:40:23.917Z"
   },
   {
    "duration": 400,
    "start_time": "2023-02-02T20:40:25.045Z"
   },
   {
    "duration": 2259,
    "start_time": "2023-02-02T20:40:25.448Z"
   },
   {
    "duration": 68,
    "start_time": "2023-02-02T20:40:27.708Z"
   },
   {
    "duration": 3,
    "start_time": "2023-02-02T20:40:27.777Z"
   },
   {
    "duration": 73170,
    "start_time": "2023-02-02T20:40:27.782Z"
   },
   {
    "duration": 3,
    "start_time": "2023-02-02T20:41:40.953Z"
   },
   {
    "duration": 6130,
    "start_time": "2023-02-02T20:41:40.958Z"
   },
   {
    "duration": 285884,
    "start_time": "2023-02-02T20:41:47.090Z"
   },
   {
    "duration": 14707,
    "start_time": "2023-02-02T20:46:32.975Z"
   },
   {
    "duration": 326272,
    "start_time": "2023-02-02T20:46:47.685Z"
   },
   {
    "duration": 220,
    "start_time": "2023-02-02T20:52:13.959Z"
   },
   {
    "duration": 2861,
    "start_time": "2023-02-02T21:02:16.111Z"
   },
   {
    "duration": 974,
    "start_time": "2023-02-02T21:02:18.975Z"
   },
   {
    "duration": 252,
    "start_time": "2023-02-02T21:02:19.951Z"
   },
   {
    "duration": 2223,
    "start_time": "2023-02-02T21:02:20.205Z"
   },
   {
    "duration": 60,
    "start_time": "2023-02-02T21:02:22.430Z"
   },
   {
    "duration": 3,
    "start_time": "2023-02-02T21:02:22.492Z"
   },
   {
    "duration": 11,
    "start_time": "2023-02-02T21:02:22.497Z"
   },
   {
    "duration": 0,
    "start_time": "2023-02-02T21:02:22.510Z"
   },
   {
    "duration": 0,
    "start_time": "2023-02-02T21:02:22.511Z"
   },
   {
    "duration": 0,
    "start_time": "2023-02-02T21:02:22.512Z"
   },
   {
    "duration": 0,
    "start_time": "2023-02-02T21:02:22.512Z"
   },
   {
    "duration": 0,
    "start_time": "2023-02-02T21:02:22.513Z"
   },
   {
    "duration": 2626,
    "start_time": "2023-02-02T21:02:52.563Z"
   },
   {
    "duration": 1004,
    "start_time": "2023-02-02T21:02:55.192Z"
   },
   {
    "duration": 268,
    "start_time": "2023-02-02T21:02:56.198Z"
   },
   {
    "duration": 2419,
    "start_time": "2023-02-02T21:02:56.468Z"
   },
   {
    "duration": 70,
    "start_time": "2023-02-02T21:02:58.888Z"
   },
   {
    "duration": 2,
    "start_time": "2023-02-02T21:02:58.960Z"
   },
   {
    "duration": 63288,
    "start_time": "2023-02-02T21:02:58.964Z"
   },
   {
    "duration": 0,
    "start_time": "2023-02-02T21:04:02.254Z"
   },
   {
    "duration": 0,
    "start_time": "2023-02-02T21:04:02.256Z"
   },
   {
    "duration": 0,
    "start_time": "2023-02-02T21:04:02.257Z"
   },
   {
    "duration": 0,
    "start_time": "2023-02-02T21:04:02.259Z"
   },
   {
    "duration": 0,
    "start_time": "2023-02-02T21:04:02.260Z"
   },
   {
    "duration": 2721,
    "start_time": "2023-02-02T21:04:15.048Z"
   },
   {
    "duration": 990,
    "start_time": "2023-02-02T21:04:17.772Z"
   },
   {
    "duration": 242,
    "start_time": "2023-02-02T21:04:18.763Z"
   },
   {
    "duration": 2198,
    "start_time": "2023-02-02T21:04:19.006Z"
   },
   {
    "duration": 50,
    "start_time": "2023-02-02T21:04:21.205Z"
   },
   {
    "duration": 2,
    "start_time": "2023-02-02T21:04:21.257Z"
   },
   {
    "duration": 71613,
    "start_time": "2023-02-02T21:04:21.261Z"
   },
   {
    "duration": 10,
    "start_time": "2023-02-02T21:05:32.876Z"
   },
   {
    "duration": 6327,
    "start_time": "2023-02-02T21:05:32.888Z"
   },
   {
    "duration": 342,
    "start_time": "2023-02-02T21:05:39.218Z"
   },
   {
    "duration": 923,
    "start_time": "2023-02-02T21:05:39.562Z"
   },
   {
    "duration": 2819,
    "start_time": "2023-02-02T21:15:41.770Z"
   },
   {
    "duration": 1019,
    "start_time": "2023-02-02T21:15:44.592Z"
   },
   {
    "duration": 251,
    "start_time": "2023-02-02T21:15:45.613Z"
   },
   {
    "duration": 2328,
    "start_time": "2023-02-02T21:15:45.867Z"
   },
   {
    "duration": 51,
    "start_time": "2023-02-02T21:15:48.196Z"
   },
   {
    "duration": 2,
    "start_time": "2023-02-02T21:15:48.249Z"
   },
   {
    "duration": 70890,
    "start_time": "2023-02-02T21:15:48.253Z"
   },
   {
    "duration": 9,
    "start_time": "2023-02-02T21:16:59.145Z"
   },
   {
    "duration": 6378,
    "start_time": "2023-02-02T21:16:59.156Z"
   },
   {
    "duration": 597906,
    "start_time": "2023-02-02T21:17:05.536Z"
   },
   {
    "duration": 6,
    "start_time": "2023-02-02T21:27:03.444Z"
   },
   {
    "duration": 0,
    "start_time": "2023-02-02T21:27:03.451Z"
   },
   {
    "duration": 1407424,
    "start_time": "2023-02-02T21:31:45.582Z"
   },
   {
    "duration": 1634092,
    "start_time": "2023-02-02T21:55:13.009Z"
   },
   {
    "duration": 2500,
    "start_time": "2023-02-02T22:26:21.154Z"
   },
   {
    "duration": 952,
    "start_time": "2023-02-02T22:26:23.656Z"
   },
   {
    "duration": 239,
    "start_time": "2023-02-02T22:26:24.610Z"
   },
   {
    "duration": 2184,
    "start_time": "2023-02-02T22:26:24.852Z"
   },
   {
    "duration": 45,
    "start_time": "2023-02-02T22:26:27.037Z"
   },
   {
    "duration": 2,
    "start_time": "2023-02-02T22:26:27.084Z"
   },
   {
    "duration": 69444,
    "start_time": "2023-02-02T22:26:27.088Z"
   },
   {
    "duration": 2,
    "start_time": "2023-02-02T22:27:36.533Z"
   },
   {
    "duration": 6266,
    "start_time": "2023-02-02T22:27:36.537Z"
   },
   {
    "duration": 592055,
    "start_time": "2023-02-02T22:27:42.805Z"
   },
   {
    "duration": 1323603,
    "start_time": "2023-02-02T22:37:34.862Z"
   },
   {
    "duration": 1601927,
    "start_time": "2023-02-02T22:59:38.466Z"
   },
   {
    "duration": 3068,
    "start_time": "2023-02-03T08:51:24.264Z"
   },
   {
    "duration": 2568,
    "start_time": "2023-02-03T08:51:27.334Z"
   },
   {
    "duration": 404,
    "start_time": "2023-02-03T08:51:29.903Z"
   },
   {
    "duration": 2423,
    "start_time": "2023-02-03T08:51:30.309Z"
   },
   {
    "duration": 46,
    "start_time": "2023-02-03T08:51:32.734Z"
   },
   {
    "duration": 3,
    "start_time": "2023-02-03T08:51:32.782Z"
   },
   {
    "duration": 71970,
    "start_time": "2023-02-03T08:51:32.786Z"
   },
   {
    "duration": 2,
    "start_time": "2023-02-03T08:52:44.758Z"
   },
   {
    "duration": 6426,
    "start_time": "2023-02-03T08:52:44.761Z"
   },
   {
    "duration": 176180,
    "start_time": "2023-02-03T08:52:51.189Z"
   },
   {
    "duration": 2579,
    "start_time": "2023-02-03T08:55:55.364Z"
   },
   {
    "duration": 1011,
    "start_time": "2023-02-03T08:55:57.945Z"
   },
   {
    "duration": 231,
    "start_time": "2023-02-03T08:55:58.960Z"
   },
   {
    "duration": 2306,
    "start_time": "2023-02-03T08:55:59.193Z"
   },
   {
    "duration": 55,
    "start_time": "2023-02-03T08:56:01.501Z"
   },
   {
    "duration": 3,
    "start_time": "2023-02-03T08:56:01.558Z"
   },
   {
    "duration": 71964,
    "start_time": "2023-02-03T08:56:01.563Z"
   },
   {
    "duration": 3,
    "start_time": "2023-02-03T08:57:13.529Z"
   },
   {
    "duration": 6211,
    "start_time": "2023-02-03T08:57:13.534Z"
   },
   {
    "duration": 1161897,
    "start_time": "2023-02-03T08:57:19.748Z"
   },
   {
    "duration": 480040,
    "start_time": "2023-02-03T10:03:33.988Z"
   },
   {
    "duration": 2597,
    "start_time": "2023-02-03T10:57:59.415Z"
   },
   {
    "duration": 1029,
    "start_time": "2023-02-03T10:58:02.014Z"
   },
   {
    "duration": 248,
    "start_time": "2023-02-03T10:58:03.048Z"
   },
   {
    "duration": 2398,
    "start_time": "2023-02-03T10:58:03.298Z"
   },
   {
    "duration": 37,
    "start_time": "2023-02-03T10:58:05.698Z"
   },
   {
    "duration": 2,
    "start_time": "2023-02-03T10:58:05.747Z"
   },
   {
    "duration": 78555,
    "start_time": "2023-02-03T10:58:05.751Z"
   },
   {
    "duration": 3,
    "start_time": "2023-02-03T10:59:24.307Z"
   },
   {
    "duration": 6935,
    "start_time": "2023-02-03T10:59:24.311Z"
   },
   {
    "duration": 522012,
    "start_time": "2023-02-03T10:59:31.248Z"
   },
   {
    "duration": 7,
    "start_time": "2023-02-03T11:08:13.262Z"
   },
   {
    "duration": 1958,
    "start_time": "2023-02-03T11:08:13.271Z"
   },
   {
    "duration": 564,
    "start_time": "2023-02-03T11:08:15.230Z"
   },
   {
    "duration": 2,
    "start_time": "2023-02-03T11:08:15.797Z"
   },
   {
    "duration": 24,
    "start_time": "2023-02-03T11:08:15.801Z"
   },
   {
    "duration": 7,
    "start_time": "2023-02-03T11:08:15.826Z"
   },
   {
    "duration": 52,
    "start_time": "2023-02-03T11:08:15.834Z"
   },
   {
    "duration": 17828,
    "start_time": "2023-02-03T11:08:15.887Z"
   },
   {
    "duration": 795754,
    "start_time": "2023-02-03T11:08:33.717Z"
   },
   {
    "duration": 78,
    "start_time": "2023-02-03T11:21:49.472Z"
   },
   {
    "duration": 7,
    "start_time": "2023-02-03T11:21:49.551Z"
   },
   {
    "duration": 375,
    "start_time": "2023-02-03T11:21:49.559Z"
   },
   {
    "duration": 60,
    "start_time": "2023-02-03T11:22:59.022Z"
   },
   {
    "duration": 161,
    "start_time": "2023-02-03T11:23:11.087Z"
   },
   {
    "duration": 81,
    "start_time": "2023-02-03T11:23:43.679Z"
   },
   {
    "duration": 81,
    "start_time": "2023-02-03T11:23:48.977Z"
   },
   {
    "duration": 93,
    "start_time": "2023-02-03T11:23:56.075Z"
   },
   {
    "duration": 86,
    "start_time": "2023-02-03T11:24:03.021Z"
   },
   {
    "duration": 113,
    "start_time": "2023-02-03T11:24:09.536Z"
   },
   {
    "duration": 80,
    "start_time": "2023-02-03T11:24:14.713Z"
   },
   {
    "duration": 80,
    "start_time": "2023-02-03T11:24:21.788Z"
   },
   {
    "duration": 92,
    "start_time": "2023-02-03T11:24:26.760Z"
   },
   {
    "duration": 81,
    "start_time": "2023-02-03T11:24:31.575Z"
   },
   {
    "duration": 82,
    "start_time": "2023-02-03T11:24:39.799Z"
   },
   {
    "duration": 87,
    "start_time": "2023-02-03T11:24:44.763Z"
   },
   {
    "duration": 40,
    "start_time": "2023-02-03T11:28:55.373Z"
   },
   {
    "duration": 31,
    "start_time": "2023-02-03T11:29:34.623Z"
   },
   {
    "duration": 90,
    "start_time": "2023-02-03T11:29:42.940Z"
   },
   {
    "duration": 37,
    "start_time": "2023-02-03T11:30:15.771Z"
   },
   {
    "duration": 77,
    "start_time": "2023-02-03T11:30:28.348Z"
   },
   {
    "duration": 10050,
    "start_time": "2023-02-03T11:30:40.763Z"
   },
   {
    "duration": 6199,
    "start_time": "2023-02-03T11:31:20.388Z"
   },
   {
    "duration": 6041,
    "start_time": "2023-02-03T11:32:01.964Z"
   },
   {
    "duration": 6058,
    "start_time": "2023-02-03T11:33:20.927Z"
   },
   {
    "duration": 6122,
    "start_time": "2023-02-03T11:33:35.684Z"
   },
   {
    "duration": 6159,
    "start_time": "2023-02-03T11:34:14.437Z"
   },
   {
    "duration": 29,
    "start_time": "2023-02-03T11:34:38.635Z"
   },
   {
    "duration": 6,
    "start_time": "2023-02-03T11:35:05.837Z"
   },
   {
    "duration": 27,
    "start_time": "2023-02-03T11:40:16.522Z"
   },
   {
    "duration": 34,
    "start_time": "2023-02-03T11:40:57.538Z"
   },
   {
    "duration": 28,
    "start_time": "2023-02-03T11:41:04.421Z"
   },
   {
    "duration": 53,
    "start_time": "2023-02-03T11:41:22.819Z"
   },
   {
    "duration": 29,
    "start_time": "2023-02-03T11:41:51.508Z"
   },
   {
    "duration": 6167,
    "start_time": "2023-02-03T11:42:00.221Z"
   },
   {
    "duration": 63,
    "start_time": "2023-02-03T11:42:13.328Z"
   },
   {
    "duration": 6153,
    "start_time": "2023-02-03T11:42:27.764Z"
   },
   {
    "duration": 6298,
    "start_time": "2023-02-03T11:42:49.221Z"
   },
   {
    "duration": 6116,
    "start_time": "2023-02-03T11:44:10.885Z"
   },
   {
    "duration": 7849,
    "start_time": "2023-02-03T11:44:26.762Z"
   },
   {
    "duration": 3570,
    "start_time": "2023-02-03T11:44:44.729Z"
   },
   {
    "duration": 18409,
    "start_time": "2023-02-03T11:48:03.994Z"
   },
   {
    "duration": 2703,
    "start_time": "2023-02-03T11:49:21.592Z"
   },
   {
    "duration": 1085,
    "start_time": "2023-02-03T11:49:24.297Z"
   },
   {
    "duration": 293,
    "start_time": "2023-02-03T11:49:25.384Z"
   },
   {
    "duration": 2399,
    "start_time": "2023-02-03T11:49:25.679Z"
   },
   {
    "duration": 38,
    "start_time": "2023-02-03T11:49:28.080Z"
   },
   {
    "duration": 3,
    "start_time": "2023-02-03T11:49:28.119Z"
   },
   {
    "duration": 76005,
    "start_time": "2023-02-03T11:49:28.123Z"
   },
   {
    "duration": 3,
    "start_time": "2023-02-03T11:50:44.131Z"
   },
   {
    "duration": 6709,
    "start_time": "2023-02-03T11:50:44.136Z"
   },
   {
    "duration": 9,
    "start_time": "2023-02-03T11:50:50.846Z"
   },
   {
    "duration": 2020,
    "start_time": "2023-02-03T11:50:50.856Z"
   },
   {
    "duration": 1363,
    "start_time": "2023-02-03T11:50:52.878Z"
   },
   {
    "duration": 6,
    "start_time": "2023-02-03T11:50:54.243Z"
   },
   {
    "duration": 60,
    "start_time": "2023-02-03T11:50:54.252Z"
   },
   {
    "duration": 6,
    "start_time": "2023-02-03T11:50:54.314Z"
   },
   {
    "duration": 78,
    "start_time": "2023-02-03T11:50:54.322Z"
   },
   {
    "duration": 14339,
    "start_time": "2023-02-03T11:50:54.402Z"
   },
   {
    "duration": 2816,
    "start_time": "2023-02-03T11:53:41.962Z"
   },
   {
    "duration": 2651,
    "start_time": "2023-02-03T11:53:44.780Z"
   },
   {
    "duration": 3,
    "start_time": "2023-02-03T11:53:47.433Z"
   },
   {
    "duration": 19,
    "start_time": "2023-02-03T11:53:47.437Z"
   },
   {
    "duration": 2061,
    "start_time": "2023-02-03T11:53:47.459Z"
   },
   {
    "duration": 1407,
    "start_time": "2023-02-03T11:53:49.522Z"
   },
   {
    "duration": 3,
    "start_time": "2023-02-03T11:53:50.931Z"
   },
   {
    "duration": 52,
    "start_time": "2023-02-03T11:53:50.935Z"
   },
   {
    "duration": 14,
    "start_time": "2023-02-03T11:53:50.989Z"
   },
   {
    "duration": 73,
    "start_time": "2023-02-03T11:53:51.005Z"
   },
   {
    "duration": 17879,
    "start_time": "2023-02-03T11:53:51.080Z"
   },
   {
    "duration": 2500,
    "start_time": "2023-02-03T11:54:38.995Z"
   },
   {
    "duration": 2569,
    "start_time": "2023-02-03T11:54:41.498Z"
   },
   {
    "duration": 3,
    "start_time": "2023-02-03T11:54:44.070Z"
   },
   {
    "duration": 11,
    "start_time": "2023-02-03T11:54:44.075Z"
   },
   {
    "duration": 2073,
    "start_time": "2023-02-03T11:54:44.088Z"
   },
   {
    "duration": 967,
    "start_time": "2023-02-03T11:54:46.163Z"
   },
   {
    "duration": 4,
    "start_time": "2023-02-03T11:54:47.132Z"
   },
   {
    "duration": 41,
    "start_time": "2023-02-03T11:54:47.137Z"
   },
   {
    "duration": 12,
    "start_time": "2023-02-03T11:54:47.180Z"
   },
   {
    "duration": 79,
    "start_time": "2023-02-03T11:54:47.194Z"
   },
   {
    "duration": 17995,
    "start_time": "2023-02-03T11:54:47.274Z"
   },
   {
    "duration": 2907,
    "start_time": "2023-02-03T11:55:33.375Z"
   },
   {
    "duration": 2573,
    "start_time": "2023-02-03T11:55:36.284Z"
   },
   {
    "duration": 3,
    "start_time": "2023-02-03T11:55:38.859Z"
   },
   {
    "duration": 13,
    "start_time": "2023-02-03T11:55:38.864Z"
   },
   {
    "duration": 1970,
    "start_time": "2023-02-03T11:55:38.879Z"
   },
   {
    "duration": 751,
    "start_time": "2023-02-03T11:55:40.851Z"
   },
   {
    "duration": 4,
    "start_time": "2023-02-03T11:55:41.603Z"
   },
   {
    "duration": 27,
    "start_time": "2023-02-03T11:55:41.609Z"
   },
   {
    "duration": 15,
    "start_time": "2023-02-03T11:55:41.639Z"
   },
   {
    "duration": 75,
    "start_time": "2023-02-03T11:55:41.655Z"
   },
   {
    "duration": 17893,
    "start_time": "2023-02-03T11:55:41.731Z"
   },
   {
    "duration": 2675,
    "start_time": "2023-02-03T11:56:22.875Z"
   },
   {
    "duration": 2604,
    "start_time": "2023-02-03T11:56:25.553Z"
   },
   {
    "duration": 3,
    "start_time": "2023-02-03T11:56:28.159Z"
   },
   {
    "duration": 12,
    "start_time": "2023-02-03T11:56:28.164Z"
   },
   {
    "duration": 2034,
    "start_time": "2023-02-03T11:56:28.177Z"
   },
   {
    "duration": 593,
    "start_time": "2023-02-03T11:56:30.213Z"
   },
   {
    "duration": 4,
    "start_time": "2023-02-03T11:56:30.807Z"
   },
   {
    "duration": 33,
    "start_time": "2023-02-03T11:56:30.812Z"
   },
   {
    "duration": 21,
    "start_time": "2023-02-03T11:56:30.846Z"
   },
   {
    "duration": 62,
    "start_time": "2023-02-03T11:56:30.869Z"
   },
   {
    "duration": 17758,
    "start_time": "2023-02-03T11:56:30.933Z"
   },
   {
    "duration": 2577,
    "start_time": "2023-02-03T11:57:45.002Z"
   },
   {
    "duration": 2552,
    "start_time": "2023-02-03T11:57:47.581Z"
   },
   {
    "duration": 3,
    "start_time": "2023-02-03T11:57:50.134Z"
   },
   {
    "duration": 9,
    "start_time": "2023-02-03T11:57:50.149Z"
   },
   {
    "duration": 1964,
    "start_time": "2023-02-03T11:57:50.160Z"
   },
   {
    "duration": 505,
    "start_time": "2023-02-03T11:57:52.126Z"
   },
   {
    "duration": 4,
    "start_time": "2023-02-03T11:57:52.633Z"
   },
   {
    "duration": 25,
    "start_time": "2023-02-03T11:57:52.638Z"
   },
   {
    "duration": 7,
    "start_time": "2023-02-03T11:57:52.665Z"
   },
   {
    "duration": 55,
    "start_time": "2023-02-03T11:57:52.675Z"
   },
   {
    "duration": 17871,
    "start_time": "2023-02-03T11:57:52.732Z"
   },
   {
    "duration": 2569,
    "start_time": "2023-02-03T11:58:48.850Z"
   },
   {
    "duration": 2508,
    "start_time": "2023-02-03T11:58:51.421Z"
   },
   {
    "duration": 3,
    "start_time": "2023-02-03T11:58:53.931Z"
   },
   {
    "duration": 19,
    "start_time": "2023-02-03T11:58:53.937Z"
   },
   {
    "duration": 2041,
    "start_time": "2023-02-03T11:58:53.958Z"
   },
   {
    "duration": 150,
    "start_time": "2023-02-03T11:58:56.001Z"
   },
   {
    "duration": 3,
    "start_time": "2023-02-03T11:58:56.152Z"
   },
   {
    "duration": 10,
    "start_time": "2023-02-03T11:58:56.157Z"
   },
   {
    "duration": 7,
    "start_time": "2023-02-03T11:58:56.168Z"
   },
   {
    "duration": 52,
    "start_time": "2023-02-03T11:58:56.177Z"
   },
   {
    "duration": 18524,
    "start_time": "2023-02-03T11:58:56.231Z"
   },
   {
    "duration": 2654,
    "start_time": "2023-02-03T11:59:30.358Z"
   },
   {
    "duration": 2568,
    "start_time": "2023-02-03T11:59:33.014Z"
   },
   {
    "duration": 2,
    "start_time": "2023-02-03T11:59:35.584Z"
   },
   {
    "duration": 12,
    "start_time": "2023-02-03T11:59:35.589Z"
   },
   {
    "duration": 1948,
    "start_time": "2023-02-03T11:59:35.602Z"
   },
   {
    "duration": 179,
    "start_time": "2023-02-03T11:59:37.552Z"
   },
   {
    "duration": 3,
    "start_time": "2023-02-03T11:59:37.733Z"
   },
   {
    "duration": 17,
    "start_time": "2023-02-03T11:59:37.737Z"
   },
   {
    "duration": 6,
    "start_time": "2023-02-03T11:59:37.755Z"
   },
   {
    "duration": 57,
    "start_time": "2023-02-03T11:59:37.762Z"
   },
   {
    "duration": 17427,
    "start_time": "2023-02-03T11:59:37.821Z"
   },
   {
    "duration": 225605,
    "start_time": "2023-02-03T11:59:55.249Z"
   },
   {
    "duration": 4,
    "start_time": "2023-02-03T12:03:40.856Z"
   },
   {
    "duration": 10,
    "start_time": "2023-02-03T12:03:40.862Z"
   },
   {
    "duration": 314,
    "start_time": "2023-02-03T12:03:40.875Z"
   },
   {
    "duration": 0,
    "start_time": "2023-02-03T12:03:41.191Z"
   },
   {
    "duration": 4679,
    "start_time": "2023-02-03T12:04:06.176Z"
   },
   {
    "duration": 4315,
    "start_time": "2023-02-03T12:04:37.354Z"
   },
   {
    "duration": 2784,
    "start_time": "2023-02-03T12:05:08.623Z"
   },
   {
    "duration": 997,
    "start_time": "2023-02-03T12:05:11.409Z"
   },
   {
    "duration": 3,
    "start_time": "2023-02-03T12:05:12.408Z"
   },
   {
    "duration": 11,
    "start_time": "2023-02-03T12:05:12.412Z"
   },
   {
    "duration": 1749,
    "start_time": "2023-02-03T12:05:12.447Z"
   },
   {
    "duration": 1355,
    "start_time": "2023-02-03T12:05:14.199Z"
   },
   {
    "duration": 3,
    "start_time": "2023-02-03T12:05:15.556Z"
   },
   {
    "duration": 53,
    "start_time": "2023-02-03T12:05:15.560Z"
   },
   {
    "duration": 11,
    "start_time": "2023-02-03T12:05:15.615Z"
   },
   {
    "duration": 37,
    "start_time": "2023-02-03T12:05:15.628Z"
   },
   {
    "duration": 2305,
    "start_time": "2023-02-03T12:05:15.667Z"
   },
   {
    "duration": 2733,
    "start_time": "2023-02-03T13:11:29.276Z"
   },
   {
    "duration": 2488,
    "start_time": "2023-02-03T13:11:32.011Z"
   },
   {
    "duration": 406,
    "start_time": "2023-02-03T13:11:34.500Z"
   },
   {
    "duration": 2426,
    "start_time": "2023-02-03T13:11:34.909Z"
   },
   {
    "duration": 46,
    "start_time": "2023-02-03T13:11:37.336Z"
   },
   {
    "duration": 3,
    "start_time": "2023-02-03T13:11:37.384Z"
   },
   {
    "duration": 73589,
    "start_time": "2023-02-03T13:11:37.388Z"
   },
   {
    "duration": 3,
    "start_time": "2023-02-03T13:12:50.979Z"
   },
   {
    "duration": 6995,
    "start_time": "2023-02-03T13:12:50.984Z"
   },
   {
    "duration": 1293992,
    "start_time": "2023-02-03T13:12:57.981Z"
   },
   {
    "duration": 1307755,
    "start_time": "2023-02-03T13:34:31.975Z"
   },
   {
    "duration": 1725236,
    "start_time": "2023-02-03T13:56:19.732Z"
   },
   {
    "duration": 7,
    "start_time": "2023-02-03T14:25:04.970Z"
   },
   {
    "duration": 2059,
    "start_time": "2023-02-03T14:25:04.978Z"
   },
   {
    "duration": 600,
    "start_time": "2023-02-03T14:25:07.039Z"
   },
   {
    "duration": 7,
    "start_time": "2023-02-03T14:25:07.641Z"
   },
   {
    "duration": 21,
    "start_time": "2023-02-03T14:25:07.649Z"
   },
   {
    "duration": 6,
    "start_time": "2023-02-03T14:25:07.672Z"
   },
   {
    "duration": 68,
    "start_time": "2023-02-03T14:25:07.679Z"
   },
   {
    "duration": 16889,
    "start_time": "2023-02-03T14:25:07.749Z"
   },
   {
    "duration": 782125,
    "start_time": "2023-02-03T14:25:24.640Z"
   },
   {
    "duration": 3,
    "start_time": "2023-02-03T14:38:26.767Z"
   },
   {
    "duration": 7,
    "start_time": "2023-02-03T14:38:26.772Z"
   },
   {
    "duration": 12133,
    "start_time": "2023-02-03T14:38:26.780Z"
   },
   {
    "duration": 329,
    "start_time": "2023-02-03T14:43:33.608Z"
   },
   {
    "duration": 88,
    "start_time": "2023-02-03T14:43:53.088Z"
   },
   {
    "duration": 12127,
    "start_time": "2023-02-03T14:45:34.272Z"
   },
   {
    "duration": 12202,
    "start_time": "2023-02-03T14:47:12.494Z"
   },
   {
    "duration": 19,
    "start_time": "2023-02-03T15:00:44.027Z"
   },
   {
    "duration": 11,
    "start_time": "2023-02-03T15:01:52.388Z"
   },
   {
    "duration": 13853,
    "start_time": "2023-02-04T12:55:31.464Z"
   },
   {
    "duration": 2763,
    "start_time": "2023-02-04T12:55:47.639Z"
   },
   {
    "duration": 2050,
    "start_time": "2023-02-04T12:57:04.631Z"
   },
   {
    "duration": 389,
    "start_time": "2023-02-04T13:01:41.589Z"
   },
   {
    "duration": 10475,
    "start_time": "2023-02-04T13:02:23.611Z"
   },
   {
    "duration": 4966,
    "start_time": "2023-02-04T13:02:34.089Z"
   },
   {
    "duration": 2558,
    "start_time": "2023-02-04T13:02:39.057Z"
   },
   {
    "duration": 450,
    "start_time": "2023-02-04T13:02:41.617Z"
   },
   {
    "duration": 2727,
    "start_time": "2023-02-04T13:02:42.070Z"
   },
   {
    "duration": 50,
    "start_time": "2023-02-04T13:02:44.799Z"
   },
   {
    "duration": 3,
    "start_time": "2023-02-04T13:02:44.851Z"
   },
   {
    "duration": 10,
    "start_time": "2023-02-04T13:02:44.856Z"
   },
   {
    "duration": 458,
    "start_time": "2023-02-04T13:02:44.867Z"
   },
   {
    "duration": 0,
    "start_time": "2023-02-04T13:02:45.327Z"
   },
   {
    "duration": 0,
    "start_time": "2023-02-04T13:02:45.338Z"
   },
   {
    "duration": 0,
    "start_time": "2023-02-04T13:02:45.340Z"
   },
   {
    "duration": 705,
    "start_time": "2023-02-04T13:03:59.589Z"
   },
   {
    "duration": 10919,
    "start_time": "2023-02-04T13:08:48.110Z"
   },
   {
    "duration": 4792,
    "start_time": "2023-02-04T13:08:59.032Z"
   },
   {
    "duration": 1023,
    "start_time": "2023-02-04T13:09:03.826Z"
   },
   {
    "duration": 235,
    "start_time": "2023-02-04T13:09:04.851Z"
   },
   {
    "duration": 2469,
    "start_time": "2023-02-04T13:09:05.087Z"
   },
   {
    "duration": 39,
    "start_time": "2023-02-04T13:09:07.557Z"
   },
   {
    "duration": 483,
    "start_time": "2023-02-04T13:09:07.597Z"
   },
   {
    "duration": 3,
    "start_time": "2023-02-04T13:09:08.082Z"
   },
   {
    "duration": 10,
    "start_time": "2023-02-04T13:09:08.088Z"
   },
   {
    "duration": 0,
    "start_time": "2023-02-04T13:09:08.099Z"
   },
   {
    "duration": 0,
    "start_time": "2023-02-04T13:09:08.100Z"
   },
   {
    "duration": 0,
    "start_time": "2023-02-04T13:09:08.101Z"
   },
   {
    "duration": 3,
    "start_time": "2023-02-04T13:09:55.441Z"
   },
   {
    "duration": 336,
    "start_time": "2023-02-04T13:10:04.256Z"
   },
   {
    "duration": 1016984,
    "start_time": "2023-02-04T13:10:23.587Z"
   },
   {
    "duration": 6511,
    "start_time": "2023-02-04T13:27:20.573Z"
   },
   {
    "duration": 659884,
    "start_time": "2023-02-04T13:27:27.085Z"
   },
   {
    "duration": 1311746,
    "start_time": "2023-02-04T13:41:31.998Z"
   },
   {
    "duration": 1535401,
    "start_time": "2023-02-04T14:03:23.746Z"
   },
   {
    "duration": 11,
    "start_time": "2023-02-04T14:28:59.149Z"
   },
   {
    "duration": 15,
    "start_time": "2023-02-04T14:28:59.163Z"
   },
   {
    "duration": 8,
    "start_time": "2023-02-04T14:58:57.966Z"
   },
   {
    "duration": 468,
    "start_time": "2023-02-04T14:58:58.251Z"
   },
   {
    "duration": 0,
    "start_time": "2023-02-04T14:58:58.720Z"
   },
   {
    "duration": 18,
    "start_time": "2023-02-04T14:58:58.734Z"
   },
   {
    "duration": 21,
    "start_time": "2023-02-04T14:58:58.962Z"
   },
   {
    "duration": 20,
    "start_time": "2023-02-04T14:58:59.159Z"
   },
   {
    "duration": 60,
    "start_time": "2023-02-04T14:58:59.581Z"
   },
   {
    "duration": 46,
    "start_time": "2023-02-04T14:59:11.551Z"
   },
   {
    "duration": 22,
    "start_time": "2023-02-04T14:59:19.166Z"
   },
   {
    "duration": 102,
    "start_time": "2023-02-04T14:59:19.538Z"
   },
   {
    "duration": 21,
    "start_time": "2023-02-04T14:59:19.756Z"
   },
   {
    "duration": 31,
    "start_time": "2023-02-04T14:59:20.201Z"
   },
   {
    "duration": 6827,
    "start_time": "2023-02-04T15:01:28.303Z"
   },
   {
    "duration": 526,
    "start_time": "2023-02-04T15:01:35.132Z"
   },
   {
    "duration": 4,
    "start_time": "2023-02-04T15:01:35.660Z"
   },
   {
    "duration": 25,
    "start_time": "2023-02-04T15:01:37.352Z"
   },
   {
    "duration": 3,
    "start_time": "2023-02-04T15:01:40.759Z"
   },
   {
    "duration": 623,
    "start_time": "2023-02-04T15:02:25.939Z"
   },
   {
    "duration": 8159,
    "start_time": "2023-02-04T15:02:46.681Z"
   },
   {
    "duration": 838305,
    "start_time": "2023-02-04T15:02:54.842Z"
   },
   {
    "duration": 3,
    "start_time": "2023-02-04T15:16:53.149Z"
   },
   {
    "duration": 8,
    "start_time": "2023-02-04T15:16:53.154Z"
   },
   {
    "duration": 11021,
    "start_time": "2023-02-04T15:16:53.164Z"
   },
   {
    "duration": 56,
    "start_time": "2023-02-05T07:23:21.794Z"
   }
  ],
  "kernelspec": {
   "display_name": "Python 3 (ipykernel)",
   "language": "python",
   "name": "python3"
  },
  "language_info": {
   "codemirror_mode": {
    "name": "ipython",
    "version": 3
   },
   "file_extension": ".py",
   "mimetype": "text/x-python",
   "name": "python",
   "nbconvert_exporter": "python",
   "pygments_lexer": "ipython3",
   "version": "3.9.12"
  },
  "toc": {
   "base_numbering": 1,
   "nav_menu": {},
   "number_sections": true,
   "sideBar": true,
   "skip_h1_title": true,
   "title_cell": "Содержание",
   "title_sidebar": "Contents",
   "toc_cell": true,
   "toc_position": {
    "height": "calc(100% - 180px)",
    "left": "10px",
    "top": "150px",
    "width": "302.391px"
   },
   "toc_section_display": true,
   "toc_window_display": false
  }
 },
 "nbformat": 4,
 "nbformat_minor": 2
}
