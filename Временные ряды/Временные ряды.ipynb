{
 "cells": [
  {
   "cell_type": "markdown",
   "metadata": {
    "toc": true
   },
   "source": [
    "<h1>Содержание<span class=\"tocSkip\"></span></h1>\n",
    "<div class=\"toc\"><ul class=\"toc-item\"><li><span><a href=\"#Подготовка\" data-toc-modified-id=\"Подготовка-1\"><span class=\"toc-item-num\">1&nbsp;&nbsp;</span>Подготовка</a></span></li><li><span><a href=\"#Анализ\" data-toc-modified-id=\"Анализ-2\"><span class=\"toc-item-num\">2&nbsp;&nbsp;</span>Анализ</a></span><ul class=\"toc-item\"><li><span><a href=\"#Вывод:\" data-toc-modified-id=\"Вывод:-2.1\"><span class=\"toc-item-num\">2.1&nbsp;&nbsp;</span>Вывод:</a></span></li></ul></li><li><span><a href=\"#Обучение\" data-toc-modified-id=\"Обучение-3\"><span class=\"toc-item-num\">3&nbsp;&nbsp;</span>Обучение</a></span></li><li><span><a href=\"#Тестирование\" data-toc-modified-id=\"Тестирование-4\"><span class=\"toc-item-num\">4&nbsp;&nbsp;</span>Тестирование</a></span></li><li><span><a href=\"#Чек-лист-проверки\" data-toc-modified-id=\"Чек-лист-проверки-5\"><span class=\"toc-item-num\">5&nbsp;&nbsp;</span>Чек-лист проверки</a></span></li></ul></div>"
   ]
  },
  {
   "cell_type": "markdown",
   "metadata": {},
   "source": [
    "#  Прогнозирование заказов такси"
   ]
  },
  {
   "cell_type": "markdown",
   "metadata": {},
   "source": [
    "Компания «Чётенькое такси» собрала исторические данные о заказах такси в аэропортах. Чтобы привлекать больше водителей в период пиковой нагрузки, нужно спрогнозировать количество заказов такси на следующий час. Постройте модель для такого предсказания.\n",
    "\n",
    "Значение метрики *RMSE* на тестовой выборке должно быть не больше 48.\n",
    "\n",
    "Вам нужно:\n",
    "\n",
    "1. Загрузить данные и выполнить их ресемплирование по одному часу.\n",
    "2. Проанализировать данные.\n",
    "3. Обучить разные модели с различными гиперпараметрами. Сделать тестовую выборку размером 10% от исходных данных.\n",
    "4. Проверить данные на тестовой выборке и сделать выводы.\n",
    "\n",
    "\n",
    "Данные лежат в файле `taxi.csv`. Количество заказов находится в столбце `num_orders` (от англ. *number of orders*, «число заказов»)."
   ]
  },
  {
   "cell_type": "markdown",
   "metadata": {},
   "source": [
    "# Описание проекта"
   ]
  },
  {
   "cell_type": "markdown",
   "metadata": {},
   "source": [
    "\n",
    "Компания «Чётенькое такси» собрала исторические данные о заказах такси в аэропортах. Чтобы привлекать больше водителей в период пиковой нагрузки, нужно спрогнозировать количество заказов такси на следующий час. Постройте модель для такого предсказания.\n",
    "Значение метрики RMSE на тестовой выборке должно быть не больше 48."
   ]
  },
  {
   "cell_type": "markdown",
   "metadata": {},
   "source": [
    "# Описание данных"
   ]
  },
  {
   "cell_type": "markdown",
   "metadata": {},
   "source": [
    "Количество заказов находится в столбце 'num_orders' (от англ. number of orders, «число заказов»)."
   ]
  },
  {
   "cell_type": "markdown",
   "metadata": {},
   "source": [
    "# Инструкция по выполнению проекта"
   ]
  },
  {
   "cell_type": "raw",
   "metadata": {},
   "source": [
    "Загрузите данные и выполните их ресемплирование по одному часу.\n",
    "Проанализируйте данные.\n",
    "Обучите разные модели с различными гиперпараметрами. Сделайте тестовую выборку размером 10% от исходных данных.\n",
    "Проверьте данные на тестовой выборке и сделайте выводы."
   ]
  },
  {
   "cell_type": "markdown",
   "metadata": {},
   "source": [
    "## Подготовка"
   ]
  },
  {
   "cell_type": "code",
   "execution_count": 1,
   "metadata": {},
   "outputs": [],
   "source": [
    "import warnings\n",
    "warnings.filterwarnings('ignore')\n",
    "import pandas as pd\n",
    "import numpy as np\n",
    "\n",
    "from sklearn.metrics import mean_squared_error\n",
    "from sklearn.model_selection import train_test_split\n",
    "from sklearn.model_selection import GridSearchCV, cross_val_score\n",
    "from sklearn.model_selection import TimeSeriesSplit\n",
    "from sklearn.preprocessing import  OneHotEncoder\n",
    "from sklearn.linear_model import LinearRegression\n",
    "\n",
    "from catboost import CatBoostRegressor\n",
    "from lightgbm import LGBMRegressor\n",
    "import xgboost as xgb\n",
    "\n",
    "from statsmodels.tsa.seasonal import seasonal_decompose\n",
    "import matplotlib.pyplot as plt\n",
    " "
   ]
  },
  {
   "cell_type": "code",
   "execution_count": 2,
   "metadata": {},
   "outputs": [],
   "source": [
    "try:\n",
    "    data = pd.read_csv('/datasets/taxi.csv',index_col=[0], parse_dates=[0])\n",
    "except:\n",
    "    data = pd.read_csv('https://code.s3.yandex.net/datasets/taxi.csv',index_col=[0], parse_dates=[0])\n",
    "\n"
   ]
  },
  {
   "cell_type": "markdown",
   "metadata": {},
   "source": [
    "## Анализ"
   ]
  },
  {
   "cell_type": "code",
   "execution_count": 3,
   "metadata": {
    "scrolled": false
   },
   "outputs": [
    {
     "data": {
      "text/html": [
       "<div>\n",
       "<style scoped>\n",
       "    .dataframe tbody tr th:only-of-type {\n",
       "        vertical-align: middle;\n",
       "    }\n",
       "\n",
       "    .dataframe tbody tr th {\n",
       "        vertical-align: top;\n",
       "    }\n",
       "\n",
       "    .dataframe thead th {\n",
       "        text-align: right;\n",
       "    }\n",
       "</style>\n",
       "<table border=\"1\" class=\"dataframe\">\n",
       "  <thead>\n",
       "    <tr style=\"text-align: right;\">\n",
       "      <th></th>\n",
       "      <th>num_orders</th>\n",
       "    </tr>\n",
       "    <tr>\n",
       "      <th>datetime</th>\n",
       "      <th></th>\n",
       "    </tr>\n",
       "  </thead>\n",
       "  <tbody>\n",
       "    <tr>\n",
       "      <th>2018-03-01 00:00:00</th>\n",
       "      <td>9</td>\n",
       "    </tr>\n",
       "    <tr>\n",
       "      <th>2018-03-01 00:10:00</th>\n",
       "      <td>14</td>\n",
       "    </tr>\n",
       "    <tr>\n",
       "      <th>2018-03-01 00:20:00</th>\n",
       "      <td>28</td>\n",
       "    </tr>\n",
       "    <tr>\n",
       "      <th>2018-03-01 00:30:00</th>\n",
       "      <td>20</td>\n",
       "    </tr>\n",
       "    <tr>\n",
       "      <th>2018-03-01 00:40:00</th>\n",
       "      <td>32</td>\n",
       "    </tr>\n",
       "  </tbody>\n",
       "</table>\n",
       "</div>"
      ],
      "text/plain": [
       "                     num_orders\n",
       "datetime                       \n",
       "2018-03-01 00:00:00           9\n",
       "2018-03-01 00:10:00          14\n",
       "2018-03-01 00:20:00          28\n",
       "2018-03-01 00:30:00          20\n",
       "2018-03-01 00:40:00          32"
      ]
     },
     "metadata": {},
     "output_type": "display_data"
    },
    {
     "name": "stdout",
     "output_type": "stream",
     "text": [
      "<class 'pandas.core.frame.DataFrame'>\n",
      "DatetimeIndex: 26496 entries, 2018-03-01 00:00:00 to 2018-08-31 23:50:00\n",
      "Data columns (total 1 columns):\n",
      " #   Column      Non-Null Count  Dtype\n",
      "---  ------      --------------  -----\n",
      " 0   num_orders  26496 non-null  int64\n",
      "dtypes: int64(1)\n",
      "memory usage: 414.0 KB\n"
     ]
    },
    {
     "data": {
      "text/plain": [
       "None"
      ]
     },
     "metadata": {},
     "output_type": "display_data"
    },
    {
     "data": {
      "text/plain": [
       "26415"
      ]
     },
     "metadata": {},
     "output_type": "display_data"
    }
   ],
   "source": [
    "display(data.head())\n",
    "display(data.info())#нет пропусков\n",
    "display(data.duplicated().sum())#нет дубликатов\n"
   ]
  },
  {
   "cell_type": "code",
   "execution_count": 4,
   "metadata": {
    "scrolled": true
   },
   "outputs": [
    {
     "name": "stdout",
     "output_type": "stream",
     "text": [
      "True\n"
     ]
    }
   ],
   "source": [
    "print(data.index.is_monotonic)"
   ]
  },
  {
   "cell_type": "code",
   "execution_count": 5,
   "metadata": {},
   "outputs": [
    {
     "data": {
      "text/plain": [
       "(Timestamp('2018-03-01 00:00:00', freq='H'),\n",
       " Timestamp('2018-08-31 23:00:00', freq='H'))"
      ]
     },
     "execution_count": 5,
     "metadata": {},
     "output_type": "execute_result"
    }
   ],
   "source": [
    "data = data.resample('1H').sum()\n",
    "data.index.min(), data.index.max()"
   ]
  },
  {
   "cell_type": "code",
   "execution_count": 6,
   "metadata": {
    "scrolled": false
   },
   "outputs": [
    {
     "data": {
      "image/png": "[encoded data removed]",
      "text/plain": [
       "<Figure size 1224x576 with 1 Axes>"
      ]
     },
     "metadata": {
      "needs_background": "light"
     },
     "output_type": "display_data"
    }
   ],
   "source": [
    "df= data.resample('1H').sum()\n",
    "df['mean_day'] = df['num_orders'].rolling(24).mean()\n",
    "df['mean_week'] = df['num_orders'].rolling(7*24).mean()\n",
    "df.plot(figsize=(17,8),title=\"скользящее среднее за сутки и за неделю\");\n"
   ]
  },
  {
   "cell_type": "code",
   "execution_count": 7,
   "metadata": {},
   "outputs": [
    {
     "data": {
      "image/png": "[encoded data removed]",
      "text/plain": [
       "<Figure size 432x288 with 1 Axes>"
      ]
     },
     "metadata": {
      "needs_background": "light"
     },
     "output_type": "display_data"
    }
   ],
   "source": [
    "seasonal_decompose(df['num_orders'].resample('1D').sum()).seasonal['2018-03-1':'2018-08-31'].plot(ax=plt.gca());"
   ]
  },
  {
   "cell_type": "code",
   "execution_count": 8,
   "metadata": {
    "scrolled": true
   },
   "outputs": [
    {
     "data": {
      "image/png": "[encoded data removed]",
      "text/plain": [
       "<Figure size 1224x1080 with 2 Axes>"
      ]
     },
     "metadata": {
      "needs_background": "light"
     },
     "output_type": "display_data"
    }
   ],
   "source": [
    "decompose = seasonal_decompose(data)\n",
    "\n",
    "plt.figure(figsize=(17, 15))\n",
    "\n",
    "\n",
    "plt.subplot(531)\n",
    "plt.title('циклы в день')\n",
    "decompose.seasonal['2018-08-24':'2018-08-31'].plot(ax=plt.gca())\n",
    "\n",
    "\n",
    "\n",
    "plt.subplot(532)\n",
    "plt.title('циклы в неделю')\n",
    "seasonal_decompose(df['num_orders'].resample('1D').sum()).seasonal['2018-08-1':'2018-08-31'].plot(ax=plt.gca());\n",
    "\n",
    "\n",
    "\n",
    "plt.tight_layout()"
   ]
  },
  {
   "cell_type": "markdown",
   "metadata": {},
   "source": [
    "### Вывод:"
   ]
  },
  {
   "cell_type": "markdown",
   "metadata": {},
   "source": [
    "тренд указивает что c августа есть тренд на подем.будет больше заказов. \n",
    "так же видим что меньше всего заказов в 6 утра а максимум в полноч хотя и есть пик заказов где то в 16:00\n",
    "Стохастический процесс стационарный у шума\n",
    "в данных есть сезонность суточная недельная"
   ]
  },
  {
   "cell_type": "markdown",
   "metadata": {},
   "source": [
    "## Обучение"
   ]
  },
  {
   "cell_type": "code",
   "execution_count": 9,
   "metadata": {
    "scrolled": true
   },
   "outputs": [],
   "source": [
    "def make_features(data, max_lag, rolling_mean_size):\n",
    "\n",
    "    data['dayofweek'] = data.index.dayofweek\n",
    "    data['hour'] = data.index.hour\n",
    "    \n",
    "    for lag in range(1, max_lag + 1):\n",
    "        data['lag_{}'.format(lag)] = data['num_orders'].shift(lag)\n",
    "\n",
    "    data['rolling_mean'] = data['num_orders'].shift().rolling(rolling_mean_size).mean()\n",
    "\n",
    "make_features(data, 24, 168)\n"
   ]
  },
  {
   "cell_type": "code",
   "execution_count": 10,
   "metadata": {},
   "outputs": [],
   "source": [
    "cats=[\"hour\",\"dayofweek\"]"
   ]
  },
  {
   "cell_type": "code",
   "execution_count": 11,
   "metadata": {},
   "outputs": [],
   "source": [
    "data_cat=data.copy()\n",
    "\n"
   ]
  },
  {
   "cell_type": "code",
   "execution_count": 12,
   "metadata": {},
   "outputs": [],
   "source": [
    "df=data.copy()\n",
    "df= df.dropna()\n",
    "for i in df[cats]:\n",
    "    df[i]=df[i].astype('category')\n",
    "\n",
    "#train, test = train_test_split(df, shuffle=False, test_size=0.1)\n",
    "train,test = train_test_split(df, test_size = 0.1 ,shuffle = False, random_state = 1)\n",
    "#valid,test = train_test_split(test, test_size = 0.5,shuffle = False, random_state = 1)\n",
    "    \n",
    "features = train.drop(['num_orders'], axis = 1)  \n",
    "target = train['num_orders'] \n",
    "\n",
    "# features_valid = valid.drop(['num_orders'], axis = 1)  \n",
    "# target_valid = valid['num_orders'] \n",
    "\n",
    "\n",
    "features_test = test.drop(['num_orders'], axis = 1)  \n",
    "target_test = test['num_orders'] \n",
    "\n",
    "f_cat=features.copy()\n",
    "t_cat=target.copy()\n",
    "\n",
    "\n",
    "df2=data.copy()\n",
    "df2= df2.dropna()\n",
    "train2, test2 = train_test_split(df2, test_size=0.1,shuffle = False, random_state = 1)\n",
    "#valid2, test2 = train_test_split(test2, test_size=0.5,shuffle = False, random_state = 1)\n",
    "\n",
    "f_lgbm = train2.drop(['num_orders'], axis = 1)  \n",
    "t_lgbm = train2['num_orders'] \n",
    "\n",
    "# f_lgbm_valid = valid2.drop(['num_orders'], axis = 1)  \n",
    "# t_lgbm_valid = valid2['num_orders'] \n",
    "\n",
    "# f_lgbm_test = test2.drop(['num_orders'], axis = 1)  \n",
    "# t_lgbm_test = test2['num_orders'] "
   ]
  },
  {
   "cell_type": "code",
   "execution_count": 13,
   "metadata": {},
   "outputs": [],
   "source": [
    "cv =TimeSeriesSplit(n_splits=5)"
   ]
  },
  {
   "cell_type": "code",
   "execution_count": 14,
   "metadata": {},
   "outputs": [],
   "source": [
    "mod_cat=CatBoostRegressor( loss_function = 'RMSE',eval_metric = 'RMSE',cat_features =cats,learning_rate=0.3)\n",
    "model_lgbm= LGBMRegressor(metric=\"rmse\",learning_rate=0.3)\n",
    "\n"
   ]
  },
  {
   "cell_type": "code",
   "execution_count": 15,
   "metadata": {},
   "outputs": [],
   "source": [
    "params={\n",
    "        'max_depth' : [3,6],\n",
    "        'n_estimators' : [110],\n",
    "       }"
   ]
  },
  {
   "cell_type": "code",
   "execution_count": 16,
   "metadata": {},
   "outputs": [],
   "source": [
    "oh=data.copy()\n",
    "for i in oh[cats]:\n",
    "    oh[i]=oh[i].astype('object')\n",
    "    \n",
    "t2 = oh['num_orders']\n",
    "f2 = oh.drop('num_orders', axis=1)\n",
    "\n",
    "f2_train, f2_test, t2_train, t2_test = train_test_split(f2, t2, test_size=0.2,shuffle = False, random_state = 1)\n",
    "f2_valid, f2_test, t2_valid, t2_test = train_test_split(f2_test, t2_test, test_size=0.5,shuffle = False, random_state = 1)\n",
    "\n",
    "# train,test = train_test_split(df,shuffle = False, test_size = 0.2)\n",
    "# valid,test = train_test_split(test,shuffle = False, test_size = 0.5)\n",
    "\n",
    "en = OneHotEncoder(handle_unknown=\"ignore\")\n",
    "en.fit(f2_train) \n",
    "\n",
    "f2_valid= en.transform(f2_valid)\n",
    "f2_train = en.transform(f2_train)\n",
    "f2_test = en.transform(f2_test)\n",
    "\n",
    "model_ohe = LinearRegression()\n",
    "\n",
    "\n"
   ]
  },
  {
   "cell_type": "code",
   "execution_count": 17,
   "metadata": {},
   "outputs": [],
   "source": [
    "\n",
    "gcat_cat= GridSearchCV(mod_cat, params, cv=cv,scoring='neg_root_mean_squared_error')\n",
    "\n",
    "g_lgbm= GridSearchCV(model_lgbm, params, cv=cv, scoring='neg_root_mean_squared_error')\n",
    "\n"
   ]
  },
  {
   "cell_type": "code",
   "execution_count": 18,
   "metadata": {
    "scrolled": false
   },
   "outputs": [
    {
     "name": "stdout",
     "output_type": "stream",
     "text": [
      "CPU times: user 4.15 s, sys: 228 ms, total: 4.38 s\n",
      "Wall time: 10.8 s\n"
     ]
    },
    {
     "data": {
      "text/plain": [
       "GridSearchCV(cv=TimeSeriesSplit(gap=0, max_train_size=None, n_splits=5, test_size=None),\n",
       "             estimator=<catboost.core.CatBoostRegressor object at 0x7f5b7b4160d0>,\n",
       "             param_grid={'max_depth': [3, 6], 'n_estimators': [110]},\n",
       "             scoring='neg_root_mean_squared_error')"
      ]
     },
     "execution_count": 18,
     "metadata": {},
     "output_type": "execute_result"
    }
   ],
   "source": [
    "%%time\n",
    "gcat_cat.fit(f_cat, t_cat,verbose=False)"
   ]
  },
  {
   "cell_type": "code",
   "execution_count": 19,
   "metadata": {},
   "outputs": [
    {
     "data": {
      "text/plain": [
       "'Catboost  с кат признаками'"
      ]
     },
     "metadata": {},
     "output_type": "display_data"
    },
    {
     "data": {
      "text/plain": [
       "-25.142491443130915"
      ]
     },
     "metadata": {},
     "output_type": "display_data"
    },
    {
     "data": {
      "text/plain": [
       "{'max_depth': 3, 'n_estimators': 110}"
      ]
     },
     "metadata": {},
     "output_type": "display_data"
    }
   ],
   "source": [
    "display(\"Catboost  с кат признаками\",gcat_cat.best_score_,gcat_cat.best_params_)"
   ]
  },
  {
   "cell_type": "code",
   "execution_count": 20,
   "metadata": {
    "scrolled": true
   },
   "outputs": [
    {
     "name": "stdout",
     "output_type": "stream",
     "text": [
      "CPU times: user 64.5 ms, sys: 0 ns, total: 64.5 ms\n",
      "Wall time: 63.8 ms\n"
     ]
    },
    {
     "data": {
      "text/plain": [
       "LinearRegression()"
      ]
     },
     "execution_count": 20,
     "metadata": {},
     "output_type": "execute_result"
    }
   ],
   "source": [
    "%%time\n",
    "model_ohe.fit(f2_train, t2_train) "
   ]
  },
  {
   "cell_type": "code",
   "execution_count": 21,
   "metadata": {},
   "outputs": [
    {
     "data": {
      "text/plain": [
       "'OHE LIN с кат признаками'"
      ]
     },
     "metadata": {},
     "output_type": "display_data"
    },
    {
     "data": {
      "text/plain": [
       "43.98222966770109"
      ]
     },
     "metadata": {},
     "output_type": "display_data"
    }
   ],
   "source": [
    "p=model_ohe.predict(f2_valid)\n",
    "rm = mean_squared_error(t2_valid, p)**0.5\n",
    "display(\"OHE LIN с кат признаками\",rm)"
   ]
  },
  {
   "cell_type": "code",
   "execution_count": 22,
   "metadata": {},
   "outputs": [
    {
     "name": "stdout",
     "output_type": "stream",
     "text": [
      "CPU times: user 5min 41s, sys: 2.07 s, total: 5min 43s\n",
      "Wall time: 5min 49s\n"
     ]
    },
    {
     "data": {
      "text/plain": [
       "GridSearchCV(cv=TimeSeriesSplit(gap=0, max_train_size=None, n_splits=5, test_size=None),\n",
       "             estimator=LGBMRegressor(learning_rate=0.3, metric='rmse'),\n",
       "             param_grid={'max_depth': [3, 6], 'n_estimators': [110]},\n",
       "             scoring='neg_root_mean_squared_error')"
      ]
     },
     "execution_count": 22,
     "metadata": {},
     "output_type": "execute_result"
    }
   ],
   "source": [
    "%%time\n",
    "g_lgbm.fit(f_lgbm, t_lgbm)"
   ]
  },
  {
   "cell_type": "code",
   "execution_count": 23,
   "metadata": {
    "scrolled": true
   },
   "outputs": [
    {
     "data": {
      "text/plain": [
       "'LGBM без кат признаков'"
      ]
     },
     "metadata": {},
     "output_type": "display_data"
    },
    {
     "data": {
      "text/plain": [
       "-25.85524782175048"
      ]
     },
     "metadata": {},
     "output_type": "display_data"
    },
    {
     "data": {
      "text/plain": [
       "{'max_depth': 3, 'n_estimators': 110}"
      ]
     },
     "metadata": {},
     "output_type": "display_data"
    }
   ],
   "source": [
    "\n",
    "display(\"LGBM без кат признаков\",g_lgbm.best_score_,g_lgbm.best_params_)\n"
   ]
  },
  {
   "cell_type": "markdown",
   "metadata": {},
   "source": [
    "у всех моделей резултаты RMSE ниже 48 на валидационной выборке(OHE 43.9 Catboost 25.14 LGBM 25.85)\n",
    "на тестирование идет catboost"
   ]
  },
  {
   "cell_type": "markdown",
   "metadata": {},
   "source": [
    "## Тестирование"
   ]
  },
  {
   "cell_type": "code",
   "execution_count": 24,
   "metadata": {
    "scrolled": false
   },
   "outputs": [
    {
     "data": {
      "text/plain": [
       "'Catboost  с кат признаками'"
      ]
     },
     "metadata": {},
     "output_type": "display_data"
    },
    {
     "data": {
      "text/plain": [
       "42.281350788643145"
      ]
     },
     "metadata": {},
     "output_type": "display_data"
    }
   ],
   "source": [
    "b= gcat_cat.best_estimator_.predict(features_test)\n",
    "brm = mean_squared_error(target_test,b)**0.5\n",
    "display(\"Catboost  с кат признаками\",brm)"
   ]
  },
  {
   "cell_type": "markdown",
   "metadata": {},
   "source": [
    "# Вывод"
   ]
  },
  {
   "cell_type": "raw",
   "metadata": {},
   "source": [
    " мы взяли 3 модели с различными гиперпараметрами.\n",
    " Catboost \"hour\",\"dayofweek\" столбцы сделали категоряльными\n",
    " LGBM все столбцы оставили как есть\n",
    "OHE линейная регресия \"hour\",\"dayofweek\" столбцы сделали категоряльными\n",
    " с помошю gridsearcha обучили на лучшых парамерах(хотя итерации можно было добавить пока не начял бы переучиватся)\n",
    " в итоге самые хорошые резултаты RMSE дал catboost на тестовой выборке 42.2 что полностю устраивает условием задачи."
   ]
  }
 ],
 "metadata": {
  "ExecuteTimeLog": [
   {
    "duration": 1096,
    "start_time": "2023-01-25T06:45:14.437Z"
   },
   {
    "duration": 154,
    "start_time": "2023-01-25T06:45:16.878Z"
   },
   {
    "duration": 15,
    "start_time": "2023-01-25T06:45:25.098Z"
   },
   {
    "duration": 8,
    "start_time": "2023-01-25T06:45:45.617Z"
   },
   {
    "duration": 13,
    "start_time": "2023-01-25T06:45:58.858Z"
   },
   {
    "duration": 15,
    "start_time": "2023-01-25T06:46:22.257Z"
   },
   {
    "duration": 685,
    "start_time": "2023-01-25T06:47:13.676Z"
   },
   {
    "duration": 229,
    "start_time": "2023-01-25T06:47:23.075Z"
   },
   {
    "duration": 114,
    "start_time": "2023-01-25T07:06:12.942Z"
   },
   {
    "duration": 11,
    "start_time": "2023-01-25T07:06:21.222Z"
   },
   {
    "duration": 13,
    "start_time": "2023-01-25T07:06:29.497Z"
   },
   {
    "duration": 414,
    "start_time": "2023-01-25T07:08:21.488Z"
   },
   {
    "duration": 1163,
    "start_time": "2023-01-25T07:09:42.031Z"
   },
   {
    "duration": 49,
    "start_time": "2023-01-25T07:09:43.196Z"
   },
   {
    "duration": 14,
    "start_time": "2023-01-25T07:09:43.247Z"
   },
   {
    "duration": 19,
    "start_time": "2023-01-25T07:09:43.263Z"
   },
   {
    "duration": 8,
    "start_time": "2023-01-25T07:09:43.284Z"
   },
   {
    "duration": 24,
    "start_time": "2023-01-25T07:09:43.293Z"
   },
   {
    "duration": 1329,
    "start_time": "2023-01-25T07:10:34.750Z"
   },
   {
    "duration": 43,
    "start_time": "2023-01-25T07:10:36.081Z"
   },
   {
    "duration": 14,
    "start_time": "2023-01-25T07:10:36.126Z"
   },
   {
    "duration": 13,
    "start_time": "2023-01-25T07:10:36.142Z"
   },
   {
    "duration": 20,
    "start_time": "2023-01-25T07:10:36.157Z"
   },
   {
    "duration": 13,
    "start_time": "2023-01-25T07:10:36.179Z"
   },
   {
    "duration": 12,
    "start_time": "2023-01-25T07:11:45.793Z"
   },
   {
    "duration": 391,
    "start_time": "2023-01-25T07:12:04.018Z"
   },
   {
    "duration": 133,
    "start_time": "2023-01-25T08:12:07.490Z"
   },
   {
    "duration": 10,
    "start_time": "2023-01-25T08:12:48.114Z"
   },
   {
    "duration": 9,
    "start_time": "2023-01-25T08:13:05.978Z"
   },
   {
    "duration": 194,
    "start_time": "2023-01-25T08:13:10.770Z"
   },
   {
    "duration": 10,
    "start_time": "2023-01-25T08:14:25.999Z"
   },
   {
    "duration": 1385,
    "start_time": "2023-01-25T08:14:32.302Z"
   },
   {
    "duration": 41,
    "start_time": "2023-01-25T08:14:33.689Z"
   },
   {
    "duration": 18,
    "start_time": "2023-01-25T08:14:33.732Z"
   },
   {
    "duration": 52,
    "start_time": "2023-01-25T08:14:33.752Z"
   },
   {
    "duration": 29,
    "start_time": "2023-01-25T08:14:33.807Z"
   },
   {
    "duration": 84,
    "start_time": "2023-01-25T08:14:33.838Z"
   },
   {
    "duration": 134,
    "start_time": "2023-01-25T08:14:33.923Z"
   },
   {
    "duration": 27,
    "start_time": "2023-01-25T08:14:57.621Z"
   },
   {
    "duration": 13,
    "start_time": "2023-01-25T08:15:23.366Z"
   },
   {
    "duration": 1564,
    "start_time": "2023-01-25T08:15:41.730Z"
   },
   {
    "duration": 42,
    "start_time": "2023-01-25T08:15:43.296Z"
   },
   {
    "duration": 15,
    "start_time": "2023-01-25T08:15:43.340Z"
   },
   {
    "duration": 17,
    "start_time": "2023-01-25T08:15:43.357Z"
   },
   {
    "duration": 24,
    "start_time": "2023-01-25T08:15:43.376Z"
   },
   {
    "duration": 14,
    "start_time": "2023-01-25T08:15:43.403Z"
   },
   {
    "duration": 177,
    "start_time": "2023-01-25T08:15:43.419Z"
   },
   {
    "duration": 16,
    "start_time": "2023-01-25T08:16:51.751Z"
   },
   {
    "duration": 27,
    "start_time": "2023-01-25T08:18:09.390Z"
   },
   {
    "duration": 1483,
    "start_time": "2023-01-25T08:18:16.464Z"
   },
   {
    "duration": 43,
    "start_time": "2023-01-25T08:18:17.949Z"
   },
   {
    "duration": 13,
    "start_time": "2023-01-25T08:18:17.994Z"
   },
   {
    "duration": 23,
    "start_time": "2023-01-25T08:18:18.010Z"
   },
   {
    "duration": 45,
    "start_time": "2023-01-25T08:18:18.035Z"
   },
   {
    "duration": 166,
    "start_time": "2023-01-25T08:18:18.082Z"
   },
   {
    "duration": 0,
    "start_time": "2023-01-25T08:18:18.250Z"
   },
   {
    "duration": 28,
    "start_time": "2023-01-25T08:18:57.658Z"
   },
   {
    "duration": 16,
    "start_time": "2023-01-25T08:18:59.099Z"
   },
   {
    "duration": 14,
    "start_time": "2023-01-25T08:19:12.991Z"
   },
   {
    "duration": 25,
    "start_time": "2023-01-25T08:19:36.166Z"
   },
   {
    "duration": 10,
    "start_time": "2023-01-25T08:30:33.244Z"
   },
   {
    "duration": 17,
    "start_time": "2023-01-25T08:30:35.605Z"
   },
   {
    "duration": 13,
    "start_time": "2023-01-25T08:30:46.523Z"
   },
   {
    "duration": 14,
    "start_time": "2023-01-25T08:30:46.668Z"
   },
   {
    "duration": 1418,
    "start_time": "2023-01-25T08:31:06.114Z"
   },
   {
    "duration": 42,
    "start_time": "2023-01-25T08:31:07.534Z"
   },
   {
    "duration": 11,
    "start_time": "2023-01-25T08:31:07.578Z"
   },
   {
    "duration": 18,
    "start_time": "2023-01-25T08:31:07.590Z"
   },
   {
    "duration": 13,
    "start_time": "2023-01-25T08:31:07.611Z"
   },
   {
    "duration": 132,
    "start_time": "2023-01-25T08:31:07.626Z"
   },
   {
    "duration": 0,
    "start_time": "2023-01-25T08:31:07.760Z"
   },
   {
    "duration": 10,
    "start_time": "2023-01-25T08:49:14.214Z"
   },
   {
    "duration": 19,
    "start_time": "2023-01-25T08:49:23.715Z"
   },
   {
    "duration": 14,
    "start_time": "2023-01-25T08:49:29.207Z"
   },
   {
    "duration": 14,
    "start_time": "2023-01-25T09:00:24.741Z"
   },
   {
    "duration": 1466,
    "start_time": "2023-01-25T09:00:32.388Z"
   },
   {
    "duration": 42,
    "start_time": "2023-01-25T09:00:33.857Z"
   },
   {
    "duration": 36,
    "start_time": "2023-01-25T09:00:33.900Z"
   },
   {
    "duration": 65,
    "start_time": "2023-01-25T09:00:33.937Z"
   },
   {
    "duration": 51,
    "start_time": "2023-01-25T09:00:34.004Z"
   },
   {
    "duration": 181,
    "start_time": "2023-01-25T09:00:34.057Z"
   },
   {
    "duration": 0,
    "start_time": "2023-01-25T09:00:34.239Z"
   },
   {
    "duration": 15,
    "start_time": "2023-01-25T09:01:01.684Z"
   },
   {
    "duration": 14,
    "start_time": "2023-01-25T09:01:09.453Z"
   },
   {
    "duration": 20,
    "start_time": "2023-01-25T09:02:07.717Z"
   },
   {
    "duration": 18,
    "start_time": "2023-01-25T09:02:26.733Z"
   },
   {
    "duration": 15,
    "start_time": "2023-01-25T09:04:00.133Z"
   },
   {
    "duration": 15,
    "start_time": "2023-01-25T09:04:41.022Z"
   },
   {
    "duration": 13,
    "start_time": "2023-01-25T09:05:01.085Z"
   },
   {
    "duration": 1473,
    "start_time": "2023-01-25T09:05:16.407Z"
   },
   {
    "duration": 42,
    "start_time": "2023-01-25T09:05:17.882Z"
   },
   {
    "duration": 12,
    "start_time": "2023-01-25T09:05:17.926Z"
   },
   {
    "duration": 43,
    "start_time": "2023-01-25T09:05:17.940Z"
   },
   {
    "duration": 23,
    "start_time": "2023-01-25T09:05:17.986Z"
   },
   {
    "duration": 132,
    "start_time": "2023-01-25T09:05:18.011Z"
   },
   {
    "duration": 10,
    "start_time": "2023-01-25T09:05:25.398Z"
   },
   {
    "duration": 11,
    "start_time": "2023-01-25T09:05:57.873Z"
   },
   {
    "duration": 1536,
    "start_time": "2023-01-25T09:06:03.351Z"
   },
   {
    "duration": 43,
    "start_time": "2023-01-25T09:06:04.889Z"
   },
   {
    "duration": 13,
    "start_time": "2023-01-25T09:06:04.934Z"
   },
   {
    "duration": 28,
    "start_time": "2023-01-25T09:06:04.949Z"
   },
   {
    "duration": 26,
    "start_time": "2023-01-25T09:06:04.979Z"
   },
   {
    "duration": 135,
    "start_time": "2023-01-25T09:06:05.006Z"
   },
   {
    "duration": 19,
    "start_time": "2023-01-25T09:08:16.739Z"
   },
   {
    "duration": 15,
    "start_time": "2023-01-25T09:08:56.167Z"
   },
   {
    "duration": 214,
    "start_time": "2023-01-25T09:10:23.816Z"
   },
   {
    "duration": 17,
    "start_time": "2023-01-25T09:10:42.169Z"
   },
   {
    "duration": 20,
    "start_time": "2023-01-25T09:11:55.288Z"
   },
   {
    "duration": 238,
    "start_time": "2023-01-25T09:12:11.113Z"
   },
   {
    "duration": 14,
    "start_time": "2023-01-25T09:12:41.409Z"
   },
   {
    "duration": 1690,
    "start_time": "2023-01-25T09:12:51.168Z"
   },
   {
    "duration": 43,
    "start_time": "2023-01-25T09:12:52.863Z"
   },
   {
    "duration": 14,
    "start_time": "2023-01-25T09:12:52.908Z"
   },
   {
    "duration": 28,
    "start_time": "2023-01-25T09:12:52.924Z"
   },
   {
    "duration": 33,
    "start_time": "2023-01-25T09:12:52.955Z"
   },
   {
    "duration": 166,
    "start_time": "2023-01-25T09:12:52.990Z"
   },
   {
    "duration": 275,
    "start_time": "2023-01-25T09:13:02.097Z"
   },
   {
    "duration": 246,
    "start_time": "2023-01-25T09:13:07.689Z"
   },
   {
    "duration": 17,
    "start_time": "2023-01-25T09:15:02.858Z"
   },
   {
    "duration": 17,
    "start_time": "2023-01-25T09:15:20.722Z"
   },
   {
    "duration": 11,
    "start_time": "2023-01-25T09:16:21.794Z"
   },
   {
    "duration": 11,
    "start_time": "2023-01-25T09:16:24.601Z"
   },
   {
    "duration": 152,
    "start_time": "2023-01-25T09:16:35.314Z"
   },
   {
    "duration": 76,
    "start_time": "2023-01-25T09:16:55.794Z"
   },
   {
    "duration": 73,
    "start_time": "2023-01-25T09:17:05.083Z"
   },
   {
    "duration": 1489,
    "start_time": "2023-01-25T09:17:15.072Z"
   },
   {
    "duration": 43,
    "start_time": "2023-01-25T09:17:16.563Z"
   },
   {
    "duration": 11,
    "start_time": "2023-01-25T09:17:16.608Z"
   },
   {
    "duration": 26,
    "start_time": "2023-01-25T09:17:16.622Z"
   },
   {
    "duration": 14,
    "start_time": "2023-01-25T09:17:16.650Z"
   },
   {
    "duration": 28,
    "start_time": "2023-01-25T09:17:16.666Z"
   },
   {
    "duration": 207,
    "start_time": "2023-01-25T09:17:16.696Z"
   },
   {
    "duration": 11,
    "start_time": "2023-01-25T09:17:48.684Z"
   },
   {
    "duration": 18,
    "start_time": "2023-01-25T09:18:27.611Z"
   },
   {
    "duration": 1613,
    "start_time": "2023-01-25T09:18:39.560Z"
   },
   {
    "duration": 44,
    "start_time": "2023-01-25T09:18:41.176Z"
   },
   {
    "duration": 11,
    "start_time": "2023-01-25T09:18:41.223Z"
   },
   {
    "duration": 19,
    "start_time": "2023-01-25T09:18:41.236Z"
   },
   {
    "duration": 9,
    "start_time": "2023-01-25T09:18:41.258Z"
   },
   {
    "duration": 25,
    "start_time": "2023-01-25T09:18:41.269Z"
   },
   {
    "duration": 136,
    "start_time": "2023-01-25T09:18:41.297Z"
   },
   {
    "duration": 87,
    "start_time": "2023-01-25T09:19:30.972Z"
   },
   {
    "duration": 161,
    "start_time": "2023-01-25T09:20:18.691Z"
   },
   {
    "duration": 97,
    "start_time": "2023-01-25T09:20:26.475Z"
   },
   {
    "duration": 14,
    "start_time": "2023-01-25T09:20:45.475Z"
   },
   {
    "duration": 13,
    "start_time": "2023-01-25T09:20:57.634Z"
   },
   {
    "duration": 1524,
    "start_time": "2023-01-25T09:21:05.127Z"
   },
   {
    "duration": 43,
    "start_time": "2023-01-25T09:21:06.653Z"
   },
   {
    "duration": 12,
    "start_time": "2023-01-25T09:21:06.702Z"
   },
   {
    "duration": 37,
    "start_time": "2023-01-25T09:21:06.715Z"
   },
   {
    "duration": 35,
    "start_time": "2023-01-25T09:21:06.754Z"
   },
   {
    "duration": 36,
    "start_time": "2023-01-25T09:21:06.792Z"
   },
   {
    "duration": 180,
    "start_time": "2023-01-25T09:21:06.830Z"
   },
   {
    "duration": 8,
    "start_time": "2023-01-25T09:22:06.548Z"
   },
   {
    "duration": 13,
    "start_time": "2023-01-25T09:22:32.624Z"
   },
   {
    "duration": 19,
    "start_time": "2023-01-25T09:23:13.660Z"
   },
   {
    "duration": 13,
    "start_time": "2023-01-25T09:23:25.917Z"
   },
   {
    "duration": 14,
    "start_time": "2023-01-25T09:23:30.316Z"
   },
   {
    "duration": 19,
    "start_time": "2023-01-25T09:23:40.189Z"
   },
   {
    "duration": 35,
    "start_time": "2023-01-25T09:24:06.998Z"
   },
   {
    "duration": 19,
    "start_time": "2023-01-25T09:24:18.054Z"
   },
   {
    "duration": 19,
    "start_time": "2023-01-25T09:25:00.070Z"
   },
   {
    "duration": 23,
    "start_time": "2023-01-25T09:25:34.446Z"
   },
   {
    "duration": 16,
    "start_time": "2023-01-25T09:25:59.903Z"
   },
   {
    "duration": 17,
    "start_time": "2023-01-25T09:27:06.559Z"
   },
   {
    "duration": 1462,
    "start_time": "2023-01-25T09:27:20.591Z"
   },
   {
    "duration": 47,
    "start_time": "2023-01-25T09:27:22.055Z"
   },
   {
    "duration": 33,
    "start_time": "2023-01-25T09:27:22.104Z"
   },
   {
    "duration": 145,
    "start_time": "2023-01-25T09:27:22.139Z"
   },
   {
    "duration": 1439,
    "start_time": "2023-01-25T09:27:36.281Z"
   },
   {
    "duration": 40,
    "start_time": "2023-01-25T09:27:37.722Z"
   },
   {
    "duration": 26,
    "start_time": "2023-01-25T09:27:37.764Z"
   },
   {
    "duration": 19,
    "start_time": "2023-01-25T09:27:37.792Z"
   },
   {
    "duration": 132,
    "start_time": "2023-01-25T09:27:37.813Z"
   },
   {
    "duration": 1431,
    "start_time": "2023-01-25T09:28:46.925Z"
   },
   {
    "duration": 46,
    "start_time": "2023-01-25T09:28:48.358Z"
   },
   {
    "duration": 160,
    "start_time": "2023-01-25T09:28:48.406Z"
   },
   {
    "duration": 0,
    "start_time": "2023-01-25T09:28:48.568Z"
   },
   {
    "duration": 0,
    "start_time": "2023-01-25T09:28:48.570Z"
   },
   {
    "duration": 27,
    "start_time": "2023-01-25T09:29:31.216Z"
   },
   {
    "duration": 20,
    "start_time": "2023-01-25T09:29:40.423Z"
   },
   {
    "duration": 21,
    "start_time": "2023-01-25T09:30:03.514Z"
   },
   {
    "duration": 16,
    "start_time": "2023-01-25T09:30:59.975Z"
   },
   {
    "duration": 83,
    "start_time": "2023-01-25T09:31:04.673Z"
   },
   {
    "duration": 1383,
    "start_time": "2023-01-25T09:31:22.637Z"
   },
   {
    "duration": 43,
    "start_time": "2023-01-25T09:31:24.022Z"
   },
   {
    "duration": 29,
    "start_time": "2023-01-25T09:31:24.067Z"
   },
   {
    "duration": 13,
    "start_time": "2023-01-25T09:31:24.099Z"
   },
   {
    "duration": 137,
    "start_time": "2023-01-25T09:31:24.115Z"
   },
   {
    "duration": 18,
    "start_time": "2023-01-25T09:32:51.699Z"
   },
   {
    "duration": 15,
    "start_time": "2023-01-25T09:32:53.369Z"
   },
   {
    "duration": 14,
    "start_time": "2023-01-25T09:35:13.767Z"
   },
   {
    "duration": 15,
    "start_time": "2023-01-25T09:35:26.723Z"
   },
   {
    "duration": 25,
    "start_time": "2023-01-25T09:36:06.090Z"
   },
   {
    "duration": 17,
    "start_time": "2023-01-25T09:36:31.868Z"
   },
   {
    "duration": 27,
    "start_time": "2023-01-25T09:36:42.517Z"
   },
   {
    "duration": 42,
    "start_time": "2023-01-25T09:39:30.821Z"
   },
   {
    "duration": 28,
    "start_time": "2023-01-25T09:39:31.571Z"
   },
   {
    "duration": 10,
    "start_time": "2023-01-25T09:39:47.556Z"
   },
   {
    "duration": 16,
    "start_time": "2023-01-25T09:39:58.636Z"
   },
   {
    "duration": 16,
    "start_time": "2023-01-25T09:41:33.763Z"
   },
   {
    "duration": 1523,
    "start_time": "2023-01-25T09:41:42.530Z"
   },
   {
    "duration": 42,
    "start_time": "2023-01-25T09:41:44.055Z"
   },
   {
    "duration": 35,
    "start_time": "2023-01-25T09:41:44.100Z"
   },
   {
    "duration": 143,
    "start_time": "2023-01-25T09:41:44.138Z"
   },
   {
    "duration": 13,
    "start_time": "2023-01-25T09:42:25.090Z"
   },
   {
    "duration": 14,
    "start_time": "2023-01-25T09:44:55.332Z"
   },
   {
    "duration": 42,
    "start_time": "2023-01-25T09:47:34.647Z"
   },
   {
    "duration": 32,
    "start_time": "2023-01-25T09:47:36.231Z"
   },
   {
    "duration": 14,
    "start_time": "2023-01-25T09:47:52.212Z"
   },
   {
    "duration": 39,
    "start_time": "2023-01-25T09:48:06.081Z"
   },
   {
    "duration": 27,
    "start_time": "2023-01-25T09:48:06.463Z"
   },
   {
    "duration": 14,
    "start_time": "2023-01-25T09:48:09.071Z"
   },
   {
    "duration": 40,
    "start_time": "2023-01-25T09:48:27.855Z"
   },
   {
    "duration": 30,
    "start_time": "2023-01-25T09:48:28.314Z"
   },
   {
    "duration": 1542,
    "start_time": "2023-01-25T10:04:43.859Z"
   },
   {
    "duration": 42,
    "start_time": "2023-01-25T10:04:45.404Z"
   },
   {
    "duration": 37,
    "start_time": "2023-01-25T10:04:45.448Z"
   },
   {
    "duration": 139,
    "start_time": "2023-01-25T10:04:45.487Z"
   },
   {
    "duration": 10,
    "start_time": "2023-01-25T10:08:49.071Z"
   },
   {
    "duration": 3,
    "start_time": "2023-01-25T10:08:55.487Z"
   },
   {
    "duration": 16,
    "start_time": "2023-01-25T10:09:27.142Z"
   },
   {
    "duration": 17,
    "start_time": "2023-01-25T10:11:44.745Z"
   },
   {
    "duration": 20,
    "start_time": "2023-01-25T10:12:26.672Z"
   },
   {
    "duration": 13,
    "start_time": "2023-01-25T10:15:07.569Z"
   },
   {
    "duration": 11,
    "start_time": "2023-01-25T10:15:32.848Z"
   },
   {
    "duration": 10,
    "start_time": "2023-01-25T10:15:49.665Z"
   },
   {
    "duration": 20,
    "start_time": "2023-01-25T10:15:55.825Z"
   },
   {
    "duration": 793,
    "start_time": "2023-01-25T10:16:02.481Z"
   },
   {
    "duration": 772,
    "start_time": "2023-01-25T10:16:41.337Z"
   },
   {
    "duration": 791,
    "start_time": "2023-01-25T10:17:06.228Z"
   },
   {
    "duration": 935,
    "start_time": "2023-01-25T10:17:29.274Z"
   },
   {
    "duration": 1497,
    "start_time": "2023-01-25T10:17:39.747Z"
   },
   {
    "duration": 42,
    "start_time": "2023-01-25T10:17:41.246Z"
   },
   {
    "duration": 32,
    "start_time": "2023-01-25T10:17:41.290Z"
   },
   {
    "duration": 3,
    "start_time": "2023-01-25T10:17:41.324Z"
   },
   {
    "duration": 16,
    "start_time": "2023-01-25T10:17:41.329Z"
   },
   {
    "duration": 4,
    "start_time": "2023-01-25T10:18:18.809Z"
   },
   {
    "duration": 115,
    "start_time": "2023-01-25T10:18:34.728Z"
   },
   {
    "duration": 11,
    "start_time": "2023-01-25T10:18:43.409Z"
   },
   {
    "duration": 7,
    "start_time": "2023-01-25T10:19:47.906Z"
   },
   {
    "duration": 1609,
    "start_time": "2023-01-25T10:20:01.662Z"
   },
   {
    "duration": 43,
    "start_time": "2023-01-25T10:20:03.273Z"
   },
   {
    "duration": 36,
    "start_time": "2023-01-25T10:20:03.318Z"
   },
   {
    "duration": 20,
    "start_time": "2023-01-25T10:20:03.356Z"
   },
   {
    "duration": 46,
    "start_time": "2023-01-25T10:20:03.379Z"
   },
   {
    "duration": 52,
    "start_time": "2023-01-25T10:20:03.427Z"
   },
   {
    "duration": 42,
    "start_time": "2023-01-25T10:20:03.481Z"
   },
   {
    "duration": 1479,
    "start_time": "2023-01-25T10:26:36.369Z"
   },
   {
    "duration": 42,
    "start_time": "2023-01-25T10:26:37.850Z"
   },
   {
    "duration": 34,
    "start_time": "2023-01-25T10:26:37.894Z"
   },
   {
    "duration": 4,
    "start_time": "2023-01-25T10:26:37.930Z"
   },
   {
    "duration": 13,
    "start_time": "2023-01-25T10:26:37.936Z"
   },
   {
    "duration": 35,
    "start_time": "2023-01-25T10:26:37.951Z"
   },
   {
    "duration": 14,
    "start_time": "2023-01-25T10:26:37.988Z"
   },
   {
    "duration": 135,
    "start_time": "2023-01-25T10:27:30.533Z"
   },
   {
    "duration": 869,
    "start_time": "2023-01-25T10:27:43.125Z"
   },
   {
    "duration": 691,
    "start_time": "2023-01-25T10:28:29.127Z"
   },
   {
    "duration": 415,
    "start_time": "2023-01-25T10:28:46.582Z"
   },
   {
    "duration": 662,
    "start_time": "2023-01-25T10:29:00.693Z"
   },
   {
    "duration": 848,
    "start_time": "2023-01-25T10:29:09.477Z"
   },
   {
    "duration": 26,
    "start_time": "2023-01-25T10:29:23.413Z"
   },
   {
    "duration": 765,
    "start_time": "2023-01-25T10:29:59.909Z"
   },
   {
    "duration": 568,
    "start_time": "2023-01-25T10:30:16.870Z"
   },
   {
    "duration": 829,
    "start_time": "2023-01-25T10:30:25.389Z"
   },
   {
    "duration": 726,
    "start_time": "2023-01-25T10:30:45.244Z"
   },
   {
    "duration": 750,
    "start_time": "2023-01-25T10:30:58.486Z"
   },
   {
    "duration": 604,
    "start_time": "2023-01-25T10:31:12.494Z"
   },
   {
    "duration": 737,
    "start_time": "2023-01-25T10:31:27.985Z"
   },
   {
    "duration": 653,
    "start_time": "2023-01-25T10:31:56.542Z"
   },
   {
    "duration": 609,
    "start_time": "2023-01-25T10:32:06.582Z"
   },
   {
    "duration": 811,
    "start_time": "2023-01-25T10:32:15.534Z"
   },
   {
    "duration": 638,
    "start_time": "2023-01-25T10:32:22.142Z"
   },
   {
    "duration": 843,
    "start_time": "2023-01-25T10:32:32.476Z"
   },
   {
    "duration": 716,
    "start_time": "2023-01-25T10:32:38.414Z"
   },
   {
    "duration": 740,
    "start_time": "2023-01-25T10:32:47.102Z"
   },
   {
    "duration": 697,
    "start_time": "2023-01-25T10:32:57.687Z"
   },
   {
    "duration": 612,
    "start_time": "2023-01-25T10:33:14.444Z"
   },
   {
    "duration": 528,
    "start_time": "2023-01-25T10:33:24.138Z"
   },
   {
    "duration": 696,
    "start_time": "2023-01-25T10:33:38.071Z"
   },
   {
    "duration": 620,
    "start_time": "2023-01-25T10:33:48.417Z"
   },
   {
    "duration": 729,
    "start_time": "2023-01-25T10:34:01.582Z"
   },
   {
    "duration": 764,
    "start_time": "2023-01-25T10:34:43.914Z"
   },
   {
    "duration": 513,
    "start_time": "2023-01-25T10:34:56.817Z"
   },
   {
    "duration": 666,
    "start_time": "2023-01-25T10:35:20.095Z"
   },
   {
    "duration": 821,
    "start_time": "2023-01-25T10:35:26.007Z"
   },
   {
    "duration": 646,
    "start_time": "2023-01-25T10:35:42.647Z"
   },
   {
    "duration": 799,
    "start_time": "2023-01-25T10:35:57.795Z"
   },
   {
    "duration": 260,
    "start_time": "2023-01-25T10:40:24.271Z"
   },
   {
    "duration": 257,
    "start_time": "2023-01-25T10:40:39.200Z"
   },
   {
    "duration": 258,
    "start_time": "2023-01-25T10:40:50.045Z"
   },
   {
    "duration": 275,
    "start_time": "2023-01-25T10:40:55.634Z"
   },
   {
    "duration": 371,
    "start_time": "2023-01-25T10:41:02.263Z"
   },
   {
    "duration": 261,
    "start_time": "2023-01-25T10:41:14.220Z"
   },
   {
    "duration": 281,
    "start_time": "2023-01-25T10:41:40.486Z"
   },
   {
    "duration": 263,
    "start_time": "2023-01-25T10:41:50.065Z"
   },
   {
    "duration": 299,
    "start_time": "2023-01-25T10:45:24.578Z"
   },
   {
    "duration": 1555,
    "start_time": "2023-01-25T10:51:03.399Z"
   },
   {
    "duration": 47,
    "start_time": "2023-01-25T10:51:04.957Z"
   },
   {
    "duration": 36,
    "start_time": "2023-01-25T10:51:05.006Z"
   },
   {
    "duration": 4,
    "start_time": "2023-01-25T10:51:05.044Z"
   },
   {
    "duration": 36,
    "start_time": "2023-01-25T10:51:05.050Z"
   },
   {
    "duration": 5,
    "start_time": "2023-01-25T10:51:05.088Z"
   },
   {
    "duration": 28,
    "start_time": "2023-01-25T10:51:05.095Z"
   },
   {
    "duration": 745,
    "start_time": "2023-01-25T10:51:05.125Z"
   },
   {
    "duration": 398,
    "start_time": "2023-01-25T10:51:05.872Z"
   },
   {
    "duration": 5,
    "start_time": "2023-01-25T10:55:43.527Z"
   },
   {
    "duration": 1612,
    "start_time": "2023-01-25T10:55:58.994Z"
   },
   {
    "duration": 47,
    "start_time": "2023-01-25T10:56:00.609Z"
   },
   {
    "duration": 51,
    "start_time": "2023-01-25T10:56:00.658Z"
   },
   {
    "duration": 28,
    "start_time": "2023-01-25T10:56:00.711Z"
   },
   {
    "duration": 60,
    "start_time": "2023-01-25T10:56:00.741Z"
   },
   {
    "duration": 67,
    "start_time": "2023-01-25T10:56:00.803Z"
   },
   {
    "duration": 49,
    "start_time": "2023-01-25T10:56:00.872Z"
   },
   {
    "duration": 54,
    "start_time": "2023-01-25T10:56:00.923Z"
   },
   {
    "duration": 752,
    "start_time": "2023-01-25T10:56:00.979Z"
   },
   {
    "duration": 419,
    "start_time": "2023-01-25T10:56:01.734Z"
   },
   {
    "duration": 5,
    "start_time": "2023-01-25T10:56:27.872Z"
   },
   {
    "duration": 10,
    "start_time": "2023-01-25T11:08:37.893Z"
   },
   {
    "duration": 6,
    "start_time": "2023-01-25T11:09:14.851Z"
   },
   {
    "duration": 217,
    "start_time": "2023-01-25T11:09:59.177Z"
   },
   {
    "duration": 213,
    "start_time": "2023-01-25T11:10:04.654Z"
   },
   {
    "duration": 217,
    "start_time": "2023-01-25T11:10:12.413Z"
   },
   {
    "duration": 209,
    "start_time": "2023-01-25T11:10:20.122Z"
   },
   {
    "duration": 320,
    "start_time": "2023-01-25T11:10:32.173Z"
   },
   {
    "duration": 210,
    "start_time": "2023-01-25T11:10:42.980Z"
   },
   {
    "duration": 202,
    "start_time": "2023-01-25T11:10:52.327Z"
   },
   {
    "duration": 1591,
    "start_time": "2023-01-25T11:12:49.804Z"
   },
   {
    "duration": 43,
    "start_time": "2023-01-25T11:12:51.398Z"
   },
   {
    "duration": 35,
    "start_time": "2023-01-25T11:12:51.443Z"
   },
   {
    "duration": 6,
    "start_time": "2023-01-25T11:12:51.480Z"
   },
   {
    "duration": 16,
    "start_time": "2023-01-25T11:12:51.488Z"
   },
   {
    "duration": 11,
    "start_time": "2023-01-25T11:12:51.507Z"
   },
   {
    "duration": 16,
    "start_time": "2023-01-25T11:12:51.520Z"
   },
   {
    "duration": 22,
    "start_time": "2023-01-25T11:12:51.538Z"
   },
   {
    "duration": 799,
    "start_time": "2023-01-25T11:12:51.562Z"
   },
   {
    "duration": 388,
    "start_time": "2023-01-25T11:12:52.364Z"
   },
   {
    "duration": 1736,
    "start_time": "2023-01-25T11:33:50.103Z"
   },
   {
    "duration": 146,
    "start_time": "2023-01-25T11:33:51.841Z"
   },
   {
    "duration": 36,
    "start_time": "2023-01-25T11:33:51.989Z"
   },
   {
    "duration": 4,
    "start_time": "2023-01-25T11:33:52.027Z"
   },
   {
    "duration": 9,
    "start_time": "2023-01-25T11:33:52.034Z"
   },
   {
    "duration": 25,
    "start_time": "2023-01-25T11:33:52.048Z"
   },
   {
    "duration": 7,
    "start_time": "2023-01-25T11:33:52.075Z"
   },
   {
    "duration": 18,
    "start_time": "2023-01-25T11:33:52.083Z"
   },
   {
    "duration": 794,
    "start_time": "2023-01-25T11:33:52.103Z"
   },
   {
    "duration": 383,
    "start_time": "2023-01-25T11:33:52.899Z"
   },
   {
    "duration": 9,
    "start_time": "2023-01-25T11:34:13.276Z"
   },
   {
    "duration": 14,
    "start_time": "2023-01-25T11:34:45.729Z"
   },
   {
    "duration": 4,
    "start_time": "2023-01-25T11:35:55.424Z"
   },
   {
    "duration": 131,
    "start_time": "2023-01-25T11:43:11.034Z"
   },
   {
    "duration": 1459,
    "start_time": "2023-01-25T11:43:24.961Z"
   },
   {
    "duration": 74,
    "start_time": "2023-01-25T11:43:26.422Z"
   },
   {
    "duration": 47,
    "start_time": "2023-01-25T11:43:26.499Z"
   },
   {
    "duration": 6,
    "start_time": "2023-01-25T11:43:26.548Z"
   },
   {
    "duration": 34,
    "start_time": "2023-01-25T11:43:26.556Z"
   },
   {
    "duration": 21,
    "start_time": "2023-01-25T11:43:26.592Z"
   },
   {
    "duration": 6,
    "start_time": "2023-01-25T11:43:26.616Z"
   },
   {
    "duration": 31,
    "start_time": "2023-01-25T11:43:26.625Z"
   },
   {
    "duration": 782,
    "start_time": "2023-01-25T11:43:26.657Z"
   },
   {
    "duration": 138,
    "start_time": "2023-01-25T11:43:27.442Z"
   },
   {
    "duration": 0,
    "start_time": "2023-01-25T11:43:27.582Z"
   },
   {
    "duration": 0,
    "start_time": "2023-01-25T11:43:27.583Z"
   },
   {
    "duration": 0,
    "start_time": "2023-01-25T11:43:27.585Z"
   },
   {
    "duration": 386,
    "start_time": "2023-01-25T11:43:40.656Z"
   },
   {
    "duration": 1460,
    "start_time": "2023-01-25T11:44:29.090Z"
   },
   {
    "duration": 50,
    "start_time": "2023-01-25T11:44:30.552Z"
   },
   {
    "duration": 60,
    "start_time": "2023-01-25T11:44:30.604Z"
   },
   {
    "duration": 30,
    "start_time": "2023-01-25T11:44:30.666Z"
   },
   {
    "duration": 29,
    "start_time": "2023-01-25T11:44:30.698Z"
   },
   {
    "duration": 29,
    "start_time": "2023-01-25T11:44:30.729Z"
   },
   {
    "duration": 37,
    "start_time": "2023-01-25T11:44:30.761Z"
   },
   {
    "duration": 38,
    "start_time": "2023-01-25T11:44:30.800Z"
   },
   {
    "duration": 752,
    "start_time": "2023-01-25T11:44:30.840Z"
   },
   {
    "duration": 12,
    "start_time": "2023-01-25T11:44:31.594Z"
   },
   {
    "duration": 13,
    "start_time": "2023-01-25T11:44:31.608Z"
   },
   {
    "duration": 52,
    "start_time": "2023-01-25T11:44:31.623Z"
   },
   {
    "duration": 5,
    "start_time": "2023-01-25T11:44:49.676Z"
   },
   {
    "duration": 17,
    "start_time": "2023-01-25T11:46:11.731Z"
   },
   {
    "duration": 433,
    "start_time": "2023-01-25T11:47:31.844Z"
   },
   {
    "duration": 45,
    "start_time": "2023-01-25T11:47:50.813Z"
   },
   {
    "duration": 182,
    "start_time": "2023-01-25T11:48:05.933Z"
   },
   {
    "duration": 116,
    "start_time": "2023-01-25T11:48:07.444Z"
   },
   {
    "duration": 330,
    "start_time": "2023-01-25T11:48:25.780Z"
   },
   {
    "duration": 43,
    "start_time": "2023-01-25T11:48:27.548Z"
   },
   {
    "duration": 144,
    "start_time": "2023-01-25T12:01:19.012Z"
   },
   {
    "duration": 25,
    "start_time": "2023-01-25T12:01:19.468Z"
   },
   {
    "duration": 231,
    "start_time": "2023-01-25T12:01:36.628Z"
   },
   {
    "duration": 34,
    "start_time": "2023-01-25T12:01:37.294Z"
   },
   {
    "duration": 26,
    "start_time": "2023-01-25T12:01:54.497Z"
   },
   {
    "duration": 1530,
    "start_time": "2023-01-25T12:02:13.616Z"
   },
   {
    "duration": 53,
    "start_time": "2023-01-25T12:02:15.148Z"
   },
   {
    "duration": 35,
    "start_time": "2023-01-25T12:02:15.204Z"
   },
   {
    "duration": 4,
    "start_time": "2023-01-25T12:02:15.241Z"
   },
   {
    "duration": 32,
    "start_time": "2023-01-25T12:02:15.247Z"
   },
   {
    "duration": 24,
    "start_time": "2023-01-25T12:02:15.281Z"
   },
   {
    "duration": 18,
    "start_time": "2023-01-25T12:02:15.307Z"
   },
   {
    "duration": 20,
    "start_time": "2023-01-25T12:02:15.327Z"
   },
   {
    "duration": 818,
    "start_time": "2023-01-25T12:02:15.354Z"
   },
   {
    "duration": 15,
    "start_time": "2023-01-25T12:02:16.181Z"
   },
   {
    "duration": 13,
    "start_time": "2023-01-25T12:02:16.198Z"
   },
   {
    "duration": 41,
    "start_time": "2023-01-25T12:02:16.213Z"
   },
   {
    "duration": 17,
    "start_time": "2023-01-25T12:02:16.258Z"
   },
   {
    "duration": 1616,
    "start_time": "2023-01-25T12:03:13.893Z"
   },
   {
    "duration": 53,
    "start_time": "2023-01-25T12:03:15.512Z"
   },
   {
    "duration": 36,
    "start_time": "2023-01-25T12:03:15.570Z"
   },
   {
    "duration": 4,
    "start_time": "2023-01-25T12:03:15.608Z"
   },
   {
    "duration": 7,
    "start_time": "2023-01-25T12:03:15.615Z"
   },
   {
    "duration": 41,
    "start_time": "2023-01-25T12:03:15.624Z"
   },
   {
    "duration": 28,
    "start_time": "2023-01-25T12:03:15.668Z"
   },
   {
    "duration": 23,
    "start_time": "2023-01-25T12:03:15.697Z"
   },
   {
    "duration": 839,
    "start_time": "2023-01-25T12:03:15.722Z"
   },
   {
    "duration": 14,
    "start_time": "2023-01-25T12:03:16.565Z"
   },
   {
    "duration": 16,
    "start_time": "2023-01-25T12:03:16.581Z"
   },
   {
    "duration": 42,
    "start_time": "2023-01-25T12:03:16.599Z"
   },
   {
    "duration": 90,
    "start_time": "2023-01-25T12:03:16.644Z"
   },
   {
    "duration": 737,
    "start_time": "2023-01-25T12:03:38.469Z"
   },
   {
    "duration": 1537,
    "start_time": "2023-01-25T12:06:11.104Z"
   },
   {
    "duration": 47,
    "start_time": "2023-01-25T12:06:12.643Z"
   },
   {
    "duration": 31,
    "start_time": "2023-01-25T12:06:12.691Z"
   },
   {
    "duration": 4,
    "start_time": "2023-01-25T12:06:12.724Z"
   },
   {
    "duration": 7,
    "start_time": "2023-01-25T12:06:12.730Z"
   },
   {
    "duration": 20,
    "start_time": "2023-01-25T12:06:12.750Z"
   },
   {
    "duration": 14,
    "start_time": "2023-01-25T12:06:12.772Z"
   },
   {
    "duration": 13,
    "start_time": "2023-01-25T12:06:12.788Z"
   },
   {
    "duration": 825,
    "start_time": "2023-01-25T12:06:12.803Z"
   },
   {
    "duration": 21,
    "start_time": "2023-01-25T12:06:13.630Z"
   },
   {
    "duration": 28,
    "start_time": "2023-01-25T12:06:13.653Z"
   },
   {
    "duration": 488,
    "start_time": "2023-01-25T12:06:13.683Z"
   },
   {
    "duration": 28,
    "start_time": "2023-01-25T12:06:14.175Z"
   },
   {
    "duration": 40163,
    "start_time": "2023-01-25T12:06:14.205Z"
   },
   {
    "duration": 1583,
    "start_time": "2023-01-25T12:07:41.069Z"
   },
   {
    "duration": 55,
    "start_time": "2023-01-25T12:07:42.659Z"
   },
   {
    "duration": 29,
    "start_time": "2023-01-25T12:07:42.716Z"
   },
   {
    "duration": 7,
    "start_time": "2023-01-25T12:07:42.747Z"
   },
   {
    "duration": 17,
    "start_time": "2023-01-25T12:07:42.764Z"
   },
   {
    "duration": 14,
    "start_time": "2023-01-25T12:07:42.782Z"
   },
   {
    "duration": 12,
    "start_time": "2023-01-25T12:07:42.798Z"
   },
   {
    "duration": 23,
    "start_time": "2023-01-25T12:07:42.812Z"
   },
   {
    "duration": 955,
    "start_time": "2023-01-25T12:07:42.837Z"
   },
   {
    "duration": 11,
    "start_time": "2023-01-25T12:07:43.794Z"
   },
   {
    "duration": 32,
    "start_time": "2023-01-25T12:07:43.807Z"
   },
   {
    "duration": 48,
    "start_time": "2023-01-25T12:07:43.844Z"
   },
   {
    "duration": 18,
    "start_time": "2023-01-25T12:07:43.894Z"
   },
   {
    "duration": 22,
    "start_time": "2023-01-25T12:07:56.207Z"
   },
   {
    "duration": 11,
    "start_time": "2023-01-25T12:09:04.072Z"
   },
   {
    "duration": 18,
    "start_time": "2023-01-25T12:09:06.779Z"
   },
   {
    "duration": 28,
    "start_time": "2023-01-25T12:09:17.345Z"
   },
   {
    "duration": 6,
    "start_time": "2023-01-25T12:09:40.625Z"
   },
   {
    "duration": 9,
    "start_time": "2023-01-25T12:16:23.835Z"
   },
   {
    "duration": 18,
    "start_time": "2023-01-25T12:16:35.961Z"
   },
   {
    "duration": 8,
    "start_time": "2023-01-25T12:16:50.381Z"
   },
   {
    "duration": 1553,
    "start_time": "2023-01-25T12:25:59.289Z"
   },
   {
    "duration": 52,
    "start_time": "2023-01-25T12:26:00.844Z"
   },
   {
    "duration": 29,
    "start_time": "2023-01-25T12:26:00.898Z"
   },
   {
    "duration": 3,
    "start_time": "2023-01-25T12:26:00.930Z"
   },
   {
    "duration": 17,
    "start_time": "2023-01-25T12:26:00.935Z"
   },
   {
    "duration": 33,
    "start_time": "2023-01-25T12:26:00.957Z"
   },
   {
    "duration": 35,
    "start_time": "2023-01-25T12:26:00.992Z"
   },
   {
    "duration": 37,
    "start_time": "2023-01-25T12:26:01.028Z"
   },
   {
    "duration": 750,
    "start_time": "2023-01-25T12:26:01.066Z"
   },
   {
    "duration": 3,
    "start_time": "2023-01-25T12:26:01.818Z"
   },
   {
    "duration": 54,
    "start_time": "2023-01-25T12:26:01.822Z"
   },
   {
    "duration": 43,
    "start_time": "2023-01-25T12:26:01.878Z"
   },
   {
    "duration": 35,
    "start_time": "2023-01-25T12:26:01.922Z"
   },
   {
    "duration": 24,
    "start_time": "2023-01-25T12:26:01.959Z"
   },
   {
    "duration": 57,
    "start_time": "2023-01-26T05:22:37.637Z"
   },
   {
    "duration": 6,
    "start_time": "2023-01-26T05:22:46.915Z"
   },
   {
    "duration": 1850,
    "start_time": "2023-01-26T05:22:57.081Z"
   },
   {
    "duration": 154,
    "start_time": "2023-01-26T05:22:58.934Z"
   },
   {
    "duration": 47,
    "start_time": "2023-01-26T05:22:59.091Z"
   },
   {
    "duration": 4,
    "start_time": "2023-01-26T05:22:59.139Z"
   },
   {
    "duration": 10,
    "start_time": "2023-01-26T05:22:59.145Z"
   },
   {
    "duration": 34,
    "start_time": "2023-01-26T05:22:59.156Z"
   },
   {
    "duration": 13,
    "start_time": "2023-01-26T05:22:59.199Z"
   },
   {
    "duration": 23,
    "start_time": "2023-01-26T05:22:59.214Z"
   },
   {
    "duration": 883,
    "start_time": "2023-01-26T05:22:59.239Z"
   },
   {
    "duration": 2,
    "start_time": "2023-01-26T05:23:00.124Z"
   },
   {
    "duration": 22,
    "start_time": "2023-01-26T05:23:00.128Z"
   },
   {
    "duration": 7,
    "start_time": "2023-01-26T05:23:00.153Z"
   },
   {
    "duration": 142,
    "start_time": "2023-01-26T05:23:00.163Z"
   },
   {
    "duration": 13,
    "start_time": "2023-01-26T05:23:00.308Z"
   },
   {
    "duration": 15,
    "start_time": "2023-01-26T05:23:12.644Z"
   },
   {
    "duration": 23,
    "start_time": "2023-01-26T05:24:13.125Z"
   },
   {
    "duration": 10,
    "start_time": "2023-01-26T05:24:48.970Z"
   },
   {
    "duration": 40,
    "start_time": "2023-01-26T05:24:49.763Z"
   },
   {
    "duration": 1570,
    "start_time": "2023-01-26T05:24:56.585Z"
   },
   {
    "duration": 54,
    "start_time": "2023-01-26T05:24:58.157Z"
   },
   {
    "duration": 40,
    "start_time": "2023-01-26T05:24:58.213Z"
   },
   {
    "duration": 6,
    "start_time": "2023-01-26T05:24:58.255Z"
   },
   {
    "duration": 30,
    "start_time": "2023-01-26T05:24:58.286Z"
   },
   {
    "duration": 25,
    "start_time": "2023-01-26T05:24:58.317Z"
   },
   {
    "duration": 35,
    "start_time": "2023-01-26T05:24:58.344Z"
   },
   {
    "duration": 31,
    "start_time": "2023-01-26T05:24:58.381Z"
   },
   {
    "duration": 800,
    "start_time": "2023-01-26T05:24:58.414Z"
   },
   {
    "duration": 3,
    "start_time": "2023-01-26T05:24:59.216Z"
   },
   {
    "duration": 25,
    "start_time": "2023-01-26T05:24:59.221Z"
   },
   {
    "duration": 15,
    "start_time": "2023-01-26T05:24:59.248Z"
   },
   {
    "duration": 23,
    "start_time": "2023-01-26T05:24:59.265Z"
   },
   {
    "duration": 27,
    "start_time": "2023-01-26T05:24:59.291Z"
   },
   {
    "duration": 24,
    "start_time": "2023-01-26T05:25:42.447Z"
   },
   {
    "duration": 12,
    "start_time": "2023-01-26T05:26:28.103Z"
   },
   {
    "duration": 24,
    "start_time": "2023-01-26T05:26:29.765Z"
   },
   {
    "duration": 9,
    "start_time": "2023-01-26T05:26:44.014Z"
   },
   {
    "duration": 20,
    "start_time": "2023-01-26T05:26:44.404Z"
   },
   {
    "duration": 10,
    "start_time": "2023-01-26T05:26:54.861Z"
   },
   {
    "duration": 19,
    "start_time": "2023-01-26T05:26:55.702Z"
   },
   {
    "duration": 10,
    "start_time": "2023-01-26T05:27:01.847Z"
   },
   {
    "duration": 19,
    "start_time": "2023-01-26T05:27:02.157Z"
   },
   {
    "duration": 9,
    "start_time": "2023-01-26T05:27:18.039Z"
   },
   {
    "duration": 21,
    "start_time": "2023-01-26T05:27:18.402Z"
   },
   {
    "duration": 12,
    "start_time": "2023-01-26T05:27:34.571Z"
   },
   {
    "duration": 24,
    "start_time": "2023-01-26T05:27:35.004Z"
   },
   {
    "duration": 13,
    "start_time": "2023-01-26T05:27:45.918Z"
   },
   {
    "duration": 41,
    "start_time": "2023-01-26T05:27:49.365Z"
   },
   {
    "duration": 149,
    "start_time": "2023-01-26T05:28:21.460Z"
   },
   {
    "duration": 29,
    "start_time": "2023-01-26T05:28:22.206Z"
   },
   {
    "duration": 9,
    "start_time": "2023-01-26T05:28:35.345Z"
   },
   {
    "duration": 24,
    "start_time": "2023-01-26T05:28:35.676Z"
   },
   {
    "duration": 17,
    "start_time": "2023-01-26T05:30:23.541Z"
   },
   {
    "duration": 1577,
    "start_time": "2023-01-26T05:31:32.574Z"
   },
   {
    "duration": 50,
    "start_time": "2023-01-26T05:31:34.153Z"
   },
   {
    "duration": 39,
    "start_time": "2023-01-26T05:31:34.206Z"
   },
   {
    "duration": 3,
    "start_time": "2023-01-26T05:31:34.248Z"
   },
   {
    "duration": 22,
    "start_time": "2023-01-26T05:31:34.253Z"
   },
   {
    "duration": 46,
    "start_time": "2023-01-26T05:31:34.286Z"
   },
   {
    "duration": 26,
    "start_time": "2023-01-26T05:31:34.334Z"
   },
   {
    "duration": 33,
    "start_time": "2023-01-26T05:31:34.362Z"
   },
   {
    "duration": 865,
    "start_time": "2023-01-26T05:31:34.401Z"
   },
   {
    "duration": 3,
    "start_time": "2023-01-26T05:31:35.268Z"
   },
   {
    "duration": 43,
    "start_time": "2023-01-26T05:31:35.272Z"
   },
   {
    "duration": 22,
    "start_time": "2023-01-26T05:31:35.316Z"
   },
   {
    "duration": 29,
    "start_time": "2023-01-26T05:31:35.340Z"
   },
   {
    "duration": 23,
    "start_time": "2023-01-26T05:31:35.371Z"
   },
   {
    "duration": 5,
    "start_time": "2023-01-26T05:44:47.521Z"
   },
   {
    "duration": 5,
    "start_time": "2023-01-26T05:45:25.761Z"
   },
   {
    "duration": 119,
    "start_time": "2023-01-26T05:54:11.017Z"
   },
   {
    "duration": 3,
    "start_time": "2023-01-26T05:54:36.051Z"
   },
   {
    "duration": 12,
    "start_time": "2023-01-26T05:54:37.031Z"
   },
   {
    "duration": 1583,
    "start_time": "2023-01-26T05:55:34.752Z"
   },
   {
    "duration": 41,
    "start_time": "2023-01-26T05:55:36.338Z"
   },
   {
    "duration": 41,
    "start_time": "2023-01-26T05:55:36.381Z"
   },
   {
    "duration": 4,
    "start_time": "2023-01-26T05:55:36.424Z"
   },
   {
    "duration": 15,
    "start_time": "2023-01-26T05:55:36.431Z"
   },
   {
    "duration": 38,
    "start_time": "2023-01-26T05:55:36.449Z"
   },
   {
    "duration": 14,
    "start_time": "2023-01-26T05:55:36.489Z"
   },
   {
    "duration": 19,
    "start_time": "2023-01-26T05:55:36.505Z"
   },
   {
    "duration": 805,
    "start_time": "2023-01-26T05:55:36.526Z"
   },
   {
    "duration": 4,
    "start_time": "2023-01-26T05:55:37.333Z"
   },
   {
    "duration": 17,
    "start_time": "2023-01-26T05:55:37.339Z"
   },
   {
    "duration": 8,
    "start_time": "2023-01-26T05:55:37.357Z"
   },
   {
    "duration": 13,
    "start_time": "2023-01-26T05:55:37.385Z"
   },
   {
    "duration": 17,
    "start_time": "2023-01-26T05:55:37.401Z"
   },
   {
    "duration": 4,
    "start_time": "2023-01-26T05:55:37.420Z"
   },
   {
    "duration": 5,
    "start_time": "2023-01-26T05:55:37.426Z"
   },
   {
    "duration": 10,
    "start_time": "2023-01-26T05:55:37.433Z"
   },
   {
    "duration": 8,
    "start_time": "2023-01-26T05:56:10.963Z"
   },
   {
    "duration": 4,
    "start_time": "2023-01-26T05:57:10.420Z"
   },
   {
    "duration": 6,
    "start_time": "2023-01-26T05:57:11.004Z"
   },
   {
    "duration": 624,
    "start_time": "2023-01-26T06:00:18.662Z"
   },
   {
    "duration": 552,
    "start_time": "2023-01-26T06:00:49.701Z"
   },
   {
    "duration": 10,
    "start_time": "2023-01-26T06:07:50.813Z"
   },
   {
    "duration": 1803,
    "start_time": "2023-01-26T06:08:17.445Z"
   },
   {
    "duration": 41,
    "start_time": "2023-01-26T06:08:19.250Z"
   },
   {
    "duration": 32,
    "start_time": "2023-01-26T06:08:19.293Z"
   },
   {
    "duration": 4,
    "start_time": "2023-01-26T06:08:19.326Z"
   },
   {
    "duration": 10,
    "start_time": "2023-01-26T06:08:19.332Z"
   },
   {
    "duration": 30,
    "start_time": "2023-01-26T06:08:19.344Z"
   },
   {
    "duration": 16,
    "start_time": "2023-01-26T06:08:19.375Z"
   },
   {
    "duration": 30,
    "start_time": "2023-01-26T06:08:19.393Z"
   },
   {
    "duration": 818,
    "start_time": "2023-01-26T06:08:19.425Z"
   },
   {
    "duration": 2,
    "start_time": "2023-01-26T06:08:20.245Z"
   },
   {
    "duration": 34,
    "start_time": "2023-01-26T06:08:20.249Z"
   },
   {
    "duration": 26,
    "start_time": "2023-01-26T06:08:20.285Z"
   },
   {
    "duration": 23,
    "start_time": "2023-01-26T06:08:20.313Z"
   },
   {
    "duration": 18,
    "start_time": "2023-01-26T06:08:20.339Z"
   },
   {
    "duration": 30,
    "start_time": "2023-01-26T06:08:20.359Z"
   },
   {
    "duration": 14,
    "start_time": "2023-01-26T06:08:20.391Z"
   },
   {
    "duration": 34,
    "start_time": "2023-01-26T06:08:20.408Z"
   },
   {
    "duration": 621,
    "start_time": "2023-01-26T06:08:20.444Z"
   },
   {
    "duration": 11,
    "start_time": "2023-01-26T06:09:32.769Z"
   },
   {
    "duration": 1612,
    "start_time": "2023-01-26T06:09:38.462Z"
   },
   {
    "duration": 43,
    "start_time": "2023-01-26T06:09:40.076Z"
   },
   {
    "duration": 36,
    "start_time": "2023-01-26T06:09:40.121Z"
   },
   {
    "duration": 4,
    "start_time": "2023-01-26T06:09:40.158Z"
   },
   {
    "duration": 25,
    "start_time": "2023-01-26T06:09:40.165Z"
   },
   {
    "duration": 23,
    "start_time": "2023-01-26T06:09:40.192Z"
   },
   {
    "duration": 25,
    "start_time": "2023-01-26T06:09:40.217Z"
   },
   {
    "duration": 26,
    "start_time": "2023-01-26T06:09:40.244Z"
   },
   {
    "duration": 746,
    "start_time": "2023-01-26T06:09:40.272Z"
   },
   {
    "duration": 3,
    "start_time": "2023-01-26T06:09:41.020Z"
   },
   {
    "duration": 15,
    "start_time": "2023-01-26T06:09:41.025Z"
   },
   {
    "duration": 7,
    "start_time": "2023-01-26T06:09:41.042Z"
   },
   {
    "duration": 35,
    "start_time": "2023-01-26T06:09:41.051Z"
   },
   {
    "duration": 22,
    "start_time": "2023-01-26T06:09:41.089Z"
   },
   {
    "duration": 4,
    "start_time": "2023-01-26T06:09:41.113Z"
   },
   {
    "duration": 9,
    "start_time": "2023-01-26T06:09:41.119Z"
   },
   {
    "duration": 14,
    "start_time": "2023-01-26T06:09:41.130Z"
   },
   {
    "duration": 662,
    "start_time": "2023-01-26T06:09:41.146Z"
   },
   {
    "duration": 798,
    "start_time": "2023-01-26T06:10:13.725Z"
   },
   {
    "duration": 11,
    "start_time": "2023-01-26T06:10:53.183Z"
   },
   {
    "duration": 15,
    "start_time": "2023-01-26T06:12:32.417Z"
   },
   {
    "duration": 1635,
    "start_time": "2023-01-26T06:13:09.063Z"
   },
   {
    "duration": 43,
    "start_time": "2023-01-26T06:13:10.700Z"
   },
   {
    "duration": 40,
    "start_time": "2023-01-26T06:13:10.745Z"
   },
   {
    "duration": 4,
    "start_time": "2023-01-26T06:13:10.787Z"
   },
   {
    "duration": 17,
    "start_time": "2023-01-26T06:13:10.794Z"
   },
   {
    "duration": 17,
    "start_time": "2023-01-26T06:13:10.813Z"
   },
   {
    "duration": 8,
    "start_time": "2023-01-26T06:13:10.833Z"
   },
   {
    "duration": 15,
    "start_time": "2023-01-26T06:13:10.843Z"
   },
   {
    "duration": 763,
    "start_time": "2023-01-26T06:13:10.861Z"
   },
   {
    "duration": 3,
    "start_time": "2023-01-26T06:13:11.626Z"
   },
   {
    "duration": 18,
    "start_time": "2023-01-26T06:13:11.630Z"
   },
   {
    "duration": 14,
    "start_time": "2023-01-26T06:13:11.651Z"
   },
   {
    "duration": 27,
    "start_time": "2023-01-26T06:13:11.667Z"
   },
   {
    "duration": 18,
    "start_time": "2023-01-26T06:13:11.697Z"
   },
   {
    "duration": 4,
    "start_time": "2023-01-26T06:13:11.717Z"
   },
   {
    "duration": 7,
    "start_time": "2023-01-26T06:13:11.723Z"
   },
   {
    "duration": 13,
    "start_time": "2023-01-26T06:13:11.732Z"
   },
   {
    "duration": 850,
    "start_time": "2023-01-26T06:13:11.747Z"
   },
   {
    "duration": 9,
    "start_time": "2023-01-26T06:13:12.599Z"
   },
   {
    "duration": 1524,
    "start_time": "2023-01-26T06:15:47.341Z"
   },
   {
    "duration": 41,
    "start_time": "2023-01-26T06:15:48.868Z"
   },
   {
    "duration": 39,
    "start_time": "2023-01-26T06:15:48.911Z"
   },
   {
    "duration": 4,
    "start_time": "2023-01-26T06:15:48.952Z"
   },
   {
    "duration": 26,
    "start_time": "2023-01-26T06:15:48.959Z"
   },
   {
    "duration": 19,
    "start_time": "2023-01-26T06:15:48.987Z"
   },
   {
    "duration": 10,
    "start_time": "2023-01-26T06:15:49.008Z"
   },
   {
    "duration": 22,
    "start_time": "2023-01-26T06:15:49.020Z"
   },
   {
    "duration": 834,
    "start_time": "2023-01-26T06:15:49.044Z"
   },
   {
    "duration": 6,
    "start_time": "2023-01-26T06:15:49.883Z"
   },
   {
    "duration": 25,
    "start_time": "2023-01-26T06:15:49.892Z"
   },
   {
    "duration": 11,
    "start_time": "2023-01-26T06:15:49.919Z"
   },
   {
    "duration": 28,
    "start_time": "2023-01-26T06:15:49.932Z"
   },
   {
    "duration": 36,
    "start_time": "2023-01-26T06:15:49.964Z"
   },
   {
    "duration": 9,
    "start_time": "2023-01-26T06:15:50.003Z"
   },
   {
    "duration": 25,
    "start_time": "2023-01-26T06:15:50.015Z"
   },
   {
    "duration": 32,
    "start_time": "2023-01-26T06:15:50.043Z"
   },
   {
    "duration": 126,
    "start_time": "2023-01-26T06:15:50.078Z"
   },
   {
    "duration": 0,
    "start_time": "2023-01-26T06:15:50.206Z"
   },
   {
    "duration": 1617,
    "start_time": "2023-01-26T06:16:44.883Z"
   },
   {
    "duration": 51,
    "start_time": "2023-01-26T06:16:46.504Z"
   },
   {
    "duration": 47,
    "start_time": "2023-01-26T06:16:46.558Z"
   },
   {
    "duration": 5,
    "start_time": "2023-01-26T06:16:46.607Z"
   },
   {
    "duration": 18,
    "start_time": "2023-01-26T06:16:46.615Z"
   },
   {
    "duration": 23,
    "start_time": "2023-01-26T06:16:46.635Z"
   },
   {
    "duration": 9,
    "start_time": "2023-01-26T06:16:46.660Z"
   },
   {
    "duration": 25,
    "start_time": "2023-01-26T06:16:46.671Z"
   },
   {
    "duration": 856,
    "start_time": "2023-01-26T06:16:46.698Z"
   },
   {
    "duration": 3,
    "start_time": "2023-01-26T06:16:47.557Z"
   },
   {
    "duration": 28,
    "start_time": "2023-01-26T06:16:47.564Z"
   },
   {
    "duration": 21,
    "start_time": "2023-01-26T06:16:47.596Z"
   },
   {
    "duration": 15,
    "start_time": "2023-01-26T06:16:47.619Z"
   },
   {
    "duration": 24,
    "start_time": "2023-01-26T06:16:47.638Z"
   },
   {
    "duration": 20,
    "start_time": "2023-01-26T06:16:47.664Z"
   },
   {
    "duration": 4,
    "start_time": "2023-01-26T06:16:47.687Z"
   },
   {
    "duration": 22,
    "start_time": "2023-01-26T06:16:47.693Z"
   },
   {
    "duration": 147,
    "start_time": "2023-01-26T06:16:47.718Z"
   },
   {
    "duration": 0,
    "start_time": "2023-01-26T06:16:47.867Z"
   },
   {
    "duration": 13,
    "start_time": "2023-01-26T06:16:57.873Z"
   },
   {
    "duration": 1498,
    "start_time": "2023-01-26T06:17:04.043Z"
   },
   {
    "duration": 42,
    "start_time": "2023-01-26T06:17:05.544Z"
   },
   {
    "duration": 43,
    "start_time": "2023-01-26T06:17:05.588Z"
   },
   {
    "duration": 5,
    "start_time": "2023-01-26T06:17:05.633Z"
   },
   {
    "duration": 17,
    "start_time": "2023-01-26T06:17:05.641Z"
   },
   {
    "duration": 35,
    "start_time": "2023-01-26T06:17:05.684Z"
   },
   {
    "duration": 11,
    "start_time": "2023-01-26T06:17:05.721Z"
   },
   {
    "duration": 22,
    "start_time": "2023-01-26T06:17:05.734Z"
   },
   {
    "duration": 769,
    "start_time": "2023-01-26T06:17:05.759Z"
   },
   {
    "duration": 3,
    "start_time": "2023-01-26T06:17:06.529Z"
   },
   {
    "duration": 23,
    "start_time": "2023-01-26T06:17:06.533Z"
   },
   {
    "duration": 13,
    "start_time": "2023-01-26T06:17:06.557Z"
   },
   {
    "duration": 23,
    "start_time": "2023-01-26T06:17:06.572Z"
   },
   {
    "duration": 23,
    "start_time": "2023-01-26T06:17:06.598Z"
   },
   {
    "duration": 16,
    "start_time": "2023-01-26T06:17:06.626Z"
   },
   {
    "duration": 5,
    "start_time": "2023-01-26T06:17:06.645Z"
   },
   {
    "duration": 15,
    "start_time": "2023-01-26T06:17:06.651Z"
   },
   {
    "duration": 167,
    "start_time": "2023-01-26T06:17:06.668Z"
   },
   {
    "duration": 0,
    "start_time": "2023-01-26T06:17:06.837Z"
   },
   {
    "duration": 1551,
    "start_time": "2023-01-26T06:17:33.366Z"
   },
   {
    "duration": 41,
    "start_time": "2023-01-26T06:17:34.918Z"
   },
   {
    "duration": 34,
    "start_time": "2023-01-26T06:17:34.960Z"
   },
   {
    "duration": 4,
    "start_time": "2023-01-26T06:17:34.997Z"
   },
   {
    "duration": 19,
    "start_time": "2023-01-26T06:17:35.004Z"
   },
   {
    "duration": 41,
    "start_time": "2023-01-26T06:17:35.025Z"
   },
   {
    "duration": 130,
    "start_time": "2023-01-26T06:17:35.069Z"
   },
   {
    "duration": 32,
    "start_time": "2023-01-26T06:17:35.201Z"
   },
   {
    "duration": 776,
    "start_time": "2023-01-26T06:17:35.234Z"
   },
   {
    "duration": 3,
    "start_time": "2023-01-26T06:17:36.011Z"
   },
   {
    "duration": 17,
    "start_time": "2023-01-26T06:17:36.016Z"
   },
   {
    "duration": 24,
    "start_time": "2023-01-26T06:17:36.035Z"
   },
   {
    "duration": 28,
    "start_time": "2023-01-26T06:17:36.062Z"
   },
   {
    "duration": 34,
    "start_time": "2023-01-26T06:17:36.094Z"
   },
   {
    "duration": 3,
    "start_time": "2023-01-26T06:17:36.130Z"
   },
   {
    "duration": 7,
    "start_time": "2023-01-26T06:17:36.135Z"
   },
   {
    "duration": 26,
    "start_time": "2023-01-26T06:17:36.144Z"
   },
   {
    "duration": 1892,
    "start_time": "2023-01-26T06:17:36.172Z"
   },
   {
    "duration": 7,
    "start_time": "2023-01-26T06:17:38.065Z"
   },
   {
    "duration": 1482,
    "start_time": "2023-01-26T06:17:54.693Z"
   },
   {
    "duration": 45,
    "start_time": "2023-01-26T06:17:56.178Z"
   },
   {
    "duration": 33,
    "start_time": "2023-01-26T06:17:56.225Z"
   },
   {
    "duration": 3,
    "start_time": "2023-01-26T06:17:56.260Z"
   },
   {
    "duration": 10,
    "start_time": "2023-01-26T06:17:56.265Z"
   },
   {
    "duration": 15,
    "start_time": "2023-01-26T06:17:56.285Z"
   },
   {
    "duration": 10,
    "start_time": "2023-01-26T06:17:56.302Z"
   },
   {
    "duration": 18,
    "start_time": "2023-01-26T06:17:56.314Z"
   },
   {
    "duration": 781,
    "start_time": "2023-01-26T06:17:56.335Z"
   },
   {
    "duration": 3,
    "start_time": "2023-01-26T06:17:57.119Z"
   },
   {
    "duration": 22,
    "start_time": "2023-01-26T06:17:57.124Z"
   },
   {
    "duration": 11,
    "start_time": "2023-01-26T06:17:57.148Z"
   },
   {
    "duration": 23,
    "start_time": "2023-01-26T06:17:57.161Z"
   },
   {
    "duration": 17,
    "start_time": "2023-01-26T06:17:57.187Z"
   },
   {
    "duration": 8,
    "start_time": "2023-01-26T06:17:57.206Z"
   },
   {
    "duration": 12,
    "start_time": "2023-01-26T06:17:57.216Z"
   },
   {
    "duration": 25,
    "start_time": "2023-01-26T06:17:57.230Z"
   },
   {
    "duration": 2009,
    "start_time": "2023-01-26T06:17:57.257Z"
   },
   {
    "duration": 8,
    "start_time": "2023-01-26T06:17:59.267Z"
   },
   {
    "duration": 154567,
    "start_time": "2023-01-26T06:18:27.890Z"
   },
   {
    "duration": 7,
    "start_time": "2023-01-26T06:21:02.459Z"
   },
   {
    "duration": 158290,
    "start_time": "2023-01-26T06:22:04.931Z"
   },
   {
    "duration": 7,
    "start_time": "2023-01-26T06:24:43.222Z"
   },
   {
    "duration": 1531,
    "start_time": "2023-01-26T06:25:50.546Z"
   },
   {
    "duration": 43,
    "start_time": "2023-01-26T06:25:52.079Z"
   },
   {
    "duration": 35,
    "start_time": "2023-01-26T06:25:52.124Z"
   },
   {
    "duration": 4,
    "start_time": "2023-01-26T06:25:52.161Z"
   },
   {
    "duration": 21,
    "start_time": "2023-01-26T06:25:52.167Z"
   },
   {
    "duration": 31,
    "start_time": "2023-01-26T06:25:52.190Z"
   },
   {
    "duration": 25,
    "start_time": "2023-01-26T06:25:52.223Z"
   },
   {
    "duration": 20,
    "start_time": "2023-01-26T06:25:52.250Z"
   },
   {
    "duration": 765,
    "start_time": "2023-01-26T06:25:52.272Z"
   },
   {
    "duration": 2,
    "start_time": "2023-01-26T06:25:53.040Z"
   },
   {
    "duration": 14,
    "start_time": "2023-01-26T06:25:53.044Z"
   },
   {
    "duration": 39,
    "start_time": "2023-01-26T06:25:53.061Z"
   },
   {
    "duration": 24,
    "start_time": "2023-01-26T06:25:53.102Z"
   },
   {
    "duration": 22,
    "start_time": "2023-01-26T06:25:53.127Z"
   },
   {
    "duration": 3,
    "start_time": "2023-01-26T06:25:53.151Z"
   },
   {
    "duration": 10,
    "start_time": "2023-01-26T06:25:53.156Z"
   },
   {
    "duration": 31,
    "start_time": "2023-01-26T06:25:53.168Z"
   },
   {
    "duration": 120,
    "start_time": "2023-01-26T06:25:53.202Z"
   },
   {
    "duration": 0,
    "start_time": "2023-01-26T06:25:53.324Z"
   },
   {
    "duration": 11,
    "start_time": "2023-01-26T06:26:07.584Z"
   },
   {
    "duration": 1558,
    "start_time": "2023-01-26T06:26:44.862Z"
   },
   {
    "duration": 83,
    "start_time": "2023-01-26T06:26:46.422Z"
   },
   {
    "duration": 34,
    "start_time": "2023-01-26T06:26:46.507Z"
   },
   {
    "duration": 15,
    "start_time": "2023-01-26T06:26:46.543Z"
   },
   {
    "duration": 23,
    "start_time": "2023-01-26T06:26:46.561Z"
   },
   {
    "duration": 31,
    "start_time": "2023-01-26T06:26:46.586Z"
   },
   {
    "duration": 28,
    "start_time": "2023-01-26T06:26:46.620Z"
   },
   {
    "duration": 52,
    "start_time": "2023-01-26T06:26:46.649Z"
   },
   {
    "duration": 749,
    "start_time": "2023-01-26T06:26:46.703Z"
   },
   {
    "duration": 4,
    "start_time": "2023-01-26T06:26:47.454Z"
   },
   {
    "duration": 55,
    "start_time": "2023-01-26T06:26:47.460Z"
   },
   {
    "duration": 12,
    "start_time": "2023-01-26T06:26:47.517Z"
   },
   {
    "duration": 16,
    "start_time": "2023-01-26T06:26:47.531Z"
   },
   {
    "duration": 20,
    "start_time": "2023-01-26T06:26:47.550Z"
   },
   {
    "duration": 5,
    "start_time": "2023-01-26T06:26:47.572Z"
   },
   {
    "duration": 168,
    "start_time": "2023-01-26T06:26:47.584Z"
   },
   {
    "duration": 0,
    "start_time": "2023-01-26T06:26:47.754Z"
   },
   {
    "duration": 0,
    "start_time": "2023-01-26T06:26:47.756Z"
   },
   {
    "duration": 0,
    "start_time": "2023-01-26T06:26:47.757Z"
   },
   {
    "duration": 1450,
    "start_time": "2023-01-26T06:27:12.590Z"
   },
   {
    "duration": 42,
    "start_time": "2023-01-26T06:27:14.042Z"
   },
   {
    "duration": 33,
    "start_time": "2023-01-26T06:27:14.086Z"
   },
   {
    "duration": 3,
    "start_time": "2023-01-26T06:27:14.121Z"
   },
   {
    "duration": 15,
    "start_time": "2023-01-26T06:27:14.126Z"
   },
   {
    "duration": 22,
    "start_time": "2023-01-26T06:27:14.142Z"
   },
   {
    "duration": 20,
    "start_time": "2023-01-26T06:27:14.165Z"
   },
   {
    "duration": 20,
    "start_time": "2023-01-26T06:27:14.187Z"
   },
   {
    "duration": 713,
    "start_time": "2023-01-26T06:27:14.210Z"
   },
   {
    "duration": 2,
    "start_time": "2023-01-26T06:27:14.925Z"
   },
   {
    "duration": 16,
    "start_time": "2023-01-26T06:27:14.929Z"
   },
   {
    "duration": 8,
    "start_time": "2023-01-26T06:27:14.947Z"
   },
   {
    "duration": 35,
    "start_time": "2023-01-26T06:27:14.957Z"
   },
   {
    "duration": 17,
    "start_time": "2023-01-26T06:27:14.994Z"
   },
   {
    "duration": 26,
    "start_time": "2023-01-26T06:27:15.013Z"
   },
   {
    "duration": 26,
    "start_time": "2023-01-26T06:27:15.041Z"
   },
   {
    "duration": 23,
    "start_time": "2023-01-26T06:27:15.069Z"
   },
   {
    "duration": 134,
    "start_time": "2023-01-26T06:27:15.094Z"
   },
   {
    "duration": 1,
    "start_time": "2023-01-26T06:27:15.230Z"
   },
   {
    "duration": 168699,
    "start_time": "2023-01-26T06:27:30.060Z"
   },
   {
    "duration": 7,
    "start_time": "2023-01-26T06:30:18.761Z"
   },
   {
    "duration": 1960,
    "start_time": "2023-01-26T06:31:37.574Z"
   },
   {
    "duration": 6,
    "start_time": "2023-01-26T06:31:39.536Z"
   },
   {
    "duration": 6,
    "start_time": "2023-01-26T06:31:46.105Z"
   },
   {
    "duration": 1968,
    "start_time": "2023-01-26T06:31:54.633Z"
   },
   {
    "duration": 6,
    "start_time": "2023-01-26T06:31:56.604Z"
   },
   {
    "duration": 1889,
    "start_time": "2023-01-26T06:32:06.064Z"
   },
   {
    "duration": 8,
    "start_time": "2023-01-26T06:32:10.213Z"
   },
   {
    "duration": 1849,
    "start_time": "2023-01-26T06:32:16.646Z"
   },
   {
    "duration": 8,
    "start_time": "2023-01-26T06:32:18.497Z"
   },
   {
    "duration": 571,
    "start_time": "2023-01-26T06:32:27.423Z"
   },
   {
    "duration": 6,
    "start_time": "2023-01-26T06:32:27.996Z"
   },
   {
    "duration": 738,
    "start_time": "2023-01-26T06:32:35.608Z"
   },
   {
    "duration": 6,
    "start_time": "2023-01-26T06:32:36.348Z"
   },
   {
    "duration": 678,
    "start_time": "2023-01-26T06:32:43.589Z"
   },
   {
    "duration": 6,
    "start_time": "2023-01-26T06:32:44.269Z"
   },
   {
    "duration": 1100,
    "start_time": "2023-01-26T06:33:10.574Z"
   },
   {
    "duration": 6,
    "start_time": "2023-01-26T06:33:11.676Z"
   },
   {
    "duration": 834,
    "start_time": "2023-01-26T06:33:16.621Z"
   },
   {
    "duration": 6,
    "start_time": "2023-01-26T06:33:17.457Z"
   },
   {
    "duration": 744,
    "start_time": "2023-01-26T06:33:21.814Z"
   },
   {
    "duration": 6,
    "start_time": "2023-01-26T06:33:22.560Z"
   },
   {
    "duration": 663,
    "start_time": "2023-01-26T06:33:26.427Z"
   },
   {
    "duration": 7,
    "start_time": "2023-01-26T06:33:27.092Z"
   },
   {
    "duration": 737,
    "start_time": "2023-01-26T06:33:31.069Z"
   },
   {
    "duration": 6,
    "start_time": "2023-01-26T06:33:31.808Z"
   },
   {
    "duration": 794,
    "start_time": "2023-01-26T06:33:40.077Z"
   },
   {
    "duration": 7,
    "start_time": "2023-01-26T06:33:40.874Z"
   },
   {
    "duration": 676,
    "start_time": "2023-01-26T06:33:46.152Z"
   },
   {
    "duration": 7,
    "start_time": "2023-01-26T06:33:46.830Z"
   },
   {
    "duration": 619,
    "start_time": "2023-01-26T06:33:59.733Z"
   },
   {
    "duration": 8,
    "start_time": "2023-01-26T06:34:00.354Z"
   },
   {
    "duration": 1244,
    "start_time": "2023-01-26T06:34:05.990Z"
   },
   {
    "duration": 6,
    "start_time": "2023-01-26T06:34:07.236Z"
   },
   {
    "duration": 667,
    "start_time": "2023-01-26T06:34:15.494Z"
   },
   {
    "duration": 6,
    "start_time": "2023-01-26T06:34:17.404Z"
   },
   {
    "duration": 2262,
    "start_time": "2023-01-26T06:34:21.444Z"
   },
   {
    "duration": 6,
    "start_time": "2023-01-26T06:34:23.708Z"
   },
   {
    "duration": 893,
    "start_time": "2023-01-26T06:34:29.655Z"
   },
   {
    "duration": 6,
    "start_time": "2023-01-26T06:34:30.550Z"
   },
   {
    "duration": 783,
    "start_time": "2023-01-26T06:34:36.545Z"
   },
   {
    "duration": 6,
    "start_time": "2023-01-26T06:34:37.330Z"
   },
   {
    "duration": 1445,
    "start_time": "2023-01-26T06:40:53.121Z"
   },
   {
    "duration": 40,
    "start_time": "2023-01-26T06:40:54.568Z"
   },
   {
    "duration": 33,
    "start_time": "2023-01-26T06:40:54.610Z"
   },
   {
    "duration": 4,
    "start_time": "2023-01-26T06:40:54.645Z"
   },
   {
    "duration": 7,
    "start_time": "2023-01-26T06:40:54.651Z"
   },
   {
    "duration": 30,
    "start_time": "2023-01-26T06:40:54.660Z"
   },
   {
    "duration": 7,
    "start_time": "2023-01-26T06:40:54.692Z"
   },
   {
    "duration": 21,
    "start_time": "2023-01-26T06:40:54.701Z"
   },
   {
    "duration": 709,
    "start_time": "2023-01-26T06:40:54.723Z"
   },
   {
    "duration": 3,
    "start_time": "2023-01-26T06:40:55.434Z"
   },
   {
    "duration": 15,
    "start_time": "2023-01-26T06:40:55.438Z"
   },
   {
    "duration": 14,
    "start_time": "2023-01-26T06:40:55.455Z"
   },
   {
    "duration": 23,
    "start_time": "2023-01-26T06:40:55.471Z"
   },
   {
    "duration": 24,
    "start_time": "2023-01-26T06:40:55.498Z"
   },
   {
    "duration": 5,
    "start_time": "2023-01-26T06:40:55.524Z"
   },
   {
    "duration": 10,
    "start_time": "2023-01-26T06:40:55.531Z"
   },
   {
    "duration": 23,
    "start_time": "2023-01-26T06:40:55.543Z"
   },
   {
    "duration": 4,
    "start_time": "2023-01-26T06:40:55.568Z"
   },
   {
    "duration": 50,
    "start_time": "2023-01-26T06:40:55.573Z"
   },
   {
    "duration": 0,
    "start_time": "2023-01-26T06:40:55.625Z"
   },
   {
    "duration": 0,
    "start_time": "2023-01-26T06:40:55.626Z"
   },
   {
    "duration": 44,
    "start_time": "2023-01-26T06:41:27.332Z"
   },
   {
    "duration": 51,
    "start_time": "2023-01-26T06:42:04.896Z"
   },
   {
    "duration": 3,
    "start_time": "2023-01-26T06:42:43.985Z"
   },
   {
    "duration": 3,
    "start_time": "2023-01-26T06:42:44.732Z"
   },
   {
    "duration": 60762,
    "start_time": "2023-01-26T06:42:45.192Z"
   },
   {
    "duration": 5,
    "start_time": "2023-01-26T06:43:45.957Z"
   },
   {
    "duration": 17,
    "start_time": "2023-01-26T06:43:45.964Z"
   },
   {
    "duration": 4,
    "start_time": "2023-01-26T06:44:54.005Z"
   },
   {
    "duration": 5,
    "start_time": "2023-01-26T06:45:03.553Z"
   },
   {
    "duration": 122,
    "start_time": "2023-01-26T06:47:53.169Z"
   },
   {
    "duration": 1594,
    "start_time": "2023-01-26T06:47:59.449Z"
   },
   {
    "duration": 42,
    "start_time": "2023-01-26T06:48:01.045Z"
   },
   {
    "duration": 58,
    "start_time": "2023-01-26T06:48:01.090Z"
   },
   {
    "duration": 8,
    "start_time": "2023-01-26T06:48:01.149Z"
   },
   {
    "duration": 34,
    "start_time": "2023-01-26T06:48:01.161Z"
   },
   {
    "duration": 41,
    "start_time": "2023-01-26T06:48:01.197Z"
   },
   {
    "duration": 39,
    "start_time": "2023-01-26T06:48:01.240Z"
   },
   {
    "duration": 47,
    "start_time": "2023-01-26T06:48:01.281Z"
   },
   {
    "duration": 801,
    "start_time": "2023-01-26T06:48:01.330Z"
   },
   {
    "duration": 3,
    "start_time": "2023-01-26T06:48:02.133Z"
   },
   {
    "duration": 31,
    "start_time": "2023-01-26T06:48:02.138Z"
   },
   {
    "duration": 66,
    "start_time": "2023-01-26T06:48:02.171Z"
   },
   {
    "duration": 37,
    "start_time": "2023-01-26T06:48:02.239Z"
   },
   {
    "duration": 66,
    "start_time": "2023-01-26T06:48:02.279Z"
   },
   {
    "duration": 40,
    "start_time": "2023-01-26T06:48:02.347Z"
   },
   {
    "duration": 152,
    "start_time": "2023-01-26T06:48:02.389Z"
   },
   {
    "duration": 0,
    "start_time": "2023-01-26T06:48:02.543Z"
   },
   {
    "duration": 0,
    "start_time": "2023-01-26T06:48:02.544Z"
   },
   {
    "duration": 0,
    "start_time": "2023-01-26T06:48:02.545Z"
   },
   {
    "duration": 0,
    "start_time": "2023-01-26T06:48:02.546Z"
   },
   {
    "duration": 0,
    "start_time": "2023-01-26T06:48:02.547Z"
   },
   {
    "duration": 0,
    "start_time": "2023-01-26T06:48:02.548Z"
   },
   {
    "duration": 0,
    "start_time": "2023-01-26T06:48:02.549Z"
   },
   {
    "duration": 1514,
    "start_time": "2023-01-26T06:48:19.911Z"
   },
   {
    "duration": 42,
    "start_time": "2023-01-26T06:48:21.427Z"
   },
   {
    "duration": 31,
    "start_time": "2023-01-26T06:48:21.471Z"
   },
   {
    "duration": 4,
    "start_time": "2023-01-26T06:48:21.504Z"
   },
   {
    "duration": 13,
    "start_time": "2023-01-26T06:48:21.510Z"
   },
   {
    "duration": 23,
    "start_time": "2023-01-26T06:48:21.525Z"
   },
   {
    "duration": 21,
    "start_time": "2023-01-26T06:48:21.550Z"
   },
   {
    "duration": 31,
    "start_time": "2023-01-26T06:48:21.573Z"
   },
   {
    "duration": 732,
    "start_time": "2023-01-26T06:48:21.606Z"
   },
   {
    "duration": 2,
    "start_time": "2023-01-26T06:48:22.340Z"
   },
   {
    "duration": 28,
    "start_time": "2023-01-26T06:48:22.344Z"
   },
   {
    "duration": 11,
    "start_time": "2023-01-26T06:48:22.374Z"
   },
   {
    "duration": 12,
    "start_time": "2023-01-26T06:48:22.387Z"
   },
   {
    "duration": 17,
    "start_time": "2023-01-26T06:48:22.402Z"
   },
   {
    "duration": 5,
    "start_time": "2023-01-26T06:48:22.420Z"
   },
   {
    "duration": 10,
    "start_time": "2023-01-26T06:48:22.427Z"
   },
   {
    "duration": 13,
    "start_time": "2023-01-26T06:48:22.438Z"
   },
   {
    "duration": 32,
    "start_time": "2023-01-26T06:48:22.453Z"
   },
   {
    "duration": 8,
    "start_time": "2023-01-26T06:48:22.487Z"
   },
   {
    "duration": 5,
    "start_time": "2023-01-26T06:48:22.497Z"
   },
   {
    "duration": 56553,
    "start_time": "2023-01-26T06:48:22.504Z"
   },
   {
    "duration": 4,
    "start_time": "2023-01-26T06:49:19.059Z"
   },
   {
    "duration": 6,
    "start_time": "2023-01-26T06:49:19.065Z"
   },
   {
    "duration": 1685,
    "start_time": "2023-01-26T07:54:52.280Z"
   },
   {
    "duration": 63,
    "start_time": "2023-01-26T07:54:53.968Z"
   },
   {
    "duration": 35,
    "start_time": "2023-01-26T07:54:54.033Z"
   },
   {
    "duration": 4,
    "start_time": "2023-01-26T07:54:54.069Z"
   },
   {
    "duration": 41,
    "start_time": "2023-01-26T07:54:54.076Z"
   },
   {
    "duration": 43,
    "start_time": "2023-01-26T07:54:54.119Z"
   },
   {
    "duration": 23,
    "start_time": "2023-01-26T07:54:54.165Z"
   },
   {
    "duration": 43,
    "start_time": "2023-01-26T07:54:54.200Z"
   },
   {
    "duration": 802,
    "start_time": "2023-01-26T07:54:54.245Z"
   },
   {
    "duration": 4,
    "start_time": "2023-01-26T07:54:55.049Z"
   },
   {
    "duration": 67,
    "start_time": "2023-01-26T07:54:55.055Z"
   },
   {
    "duration": 44,
    "start_time": "2023-01-26T07:54:55.124Z"
   },
   {
    "duration": 50,
    "start_time": "2023-01-26T07:54:55.170Z"
   },
   {
    "duration": 54,
    "start_time": "2023-01-26T07:54:55.224Z"
   },
   {
    "duration": 38,
    "start_time": "2023-01-26T07:54:55.280Z"
   },
   {
    "duration": 23,
    "start_time": "2023-01-26T07:54:55.320Z"
   },
   {
    "duration": 38,
    "start_time": "2023-01-26T07:54:55.345Z"
   },
   {
    "duration": 37,
    "start_time": "2023-01-26T07:54:55.391Z"
   },
   {
    "duration": 40,
    "start_time": "2023-01-26T07:54:55.431Z"
   },
   {
    "duration": 199,
    "start_time": "2023-01-26T07:54:55.473Z"
   },
   {
    "duration": 0,
    "start_time": "2023-01-26T07:54:55.674Z"
   },
   {
    "duration": 0,
    "start_time": "2023-01-26T07:54:55.676Z"
   },
   {
    "duration": 0,
    "start_time": "2023-01-26T07:54:55.678Z"
   },
   {
    "duration": 1739,
    "start_time": "2023-01-26T07:55:21.207Z"
   },
   {
    "duration": 46,
    "start_time": "2023-01-26T07:55:22.950Z"
   },
   {
    "duration": 52,
    "start_time": "2023-01-26T07:55:23.002Z"
   },
   {
    "duration": 32,
    "start_time": "2023-01-26T07:55:23.057Z"
   },
   {
    "duration": 34,
    "start_time": "2023-01-26T07:55:23.096Z"
   },
   {
    "duration": 43,
    "start_time": "2023-01-26T07:55:23.132Z"
   },
   {
    "duration": 58,
    "start_time": "2023-01-26T07:55:23.178Z"
   },
   {
    "duration": 41,
    "start_time": "2023-01-26T07:55:23.239Z"
   },
   {
    "duration": 847,
    "start_time": "2023-01-26T07:55:23.282Z"
   },
   {
    "duration": 3,
    "start_time": "2023-01-26T07:55:24.131Z"
   },
   {
    "duration": 24,
    "start_time": "2023-01-26T07:55:24.136Z"
   },
   {
    "duration": 7,
    "start_time": "2023-01-26T07:55:24.162Z"
   },
   {
    "duration": 32,
    "start_time": "2023-01-26T07:55:24.184Z"
   },
   {
    "duration": 32,
    "start_time": "2023-01-26T07:55:24.221Z"
   },
   {
    "duration": 16,
    "start_time": "2023-01-26T07:55:24.256Z"
   },
   {
    "duration": 33,
    "start_time": "2023-01-26T07:55:24.274Z"
   },
   {
    "duration": 14,
    "start_time": "2023-01-26T07:55:24.309Z"
   },
   {
    "duration": 7,
    "start_time": "2023-01-26T07:55:24.325Z"
   },
   {
    "duration": 16,
    "start_time": "2023-01-26T07:55:24.334Z"
   },
   {
    "duration": 8,
    "start_time": "2023-01-26T07:55:24.353Z"
   },
   {
    "duration": 57554,
    "start_time": "2023-01-26T07:55:24.363Z"
   },
   {
    "duration": 5,
    "start_time": "2023-01-26T07:56:21.919Z"
   },
   {
    "duration": 11,
    "start_time": "2023-01-26T07:56:21.926Z"
   },
   {
    "duration": 1586,
    "start_time": "2023-01-26T08:01:40.117Z"
   },
   {
    "duration": 42,
    "start_time": "2023-01-26T08:01:41.707Z"
   },
   {
    "duration": 55,
    "start_time": "2023-01-26T08:01:41.751Z"
   },
   {
    "duration": 4,
    "start_time": "2023-01-26T08:01:41.809Z"
   },
   {
    "duration": 15,
    "start_time": "2023-01-26T08:01:41.817Z"
   },
   {
    "duration": 22,
    "start_time": "2023-01-26T08:01:41.835Z"
   },
   {
    "duration": 7,
    "start_time": "2023-01-26T08:01:41.860Z"
   },
   {
    "duration": 30,
    "start_time": "2023-01-26T08:01:41.869Z"
   },
   {
    "duration": 880,
    "start_time": "2023-01-26T08:01:41.901Z"
   },
   {
    "duration": 9,
    "start_time": "2023-01-26T08:01:42.787Z"
   },
   {
    "duration": 24,
    "start_time": "2023-01-26T08:01:42.805Z"
   },
   {
    "duration": 23,
    "start_time": "2023-01-26T08:01:42.832Z"
   },
   {
    "duration": 16,
    "start_time": "2023-01-26T08:01:42.857Z"
   },
   {
    "duration": 50,
    "start_time": "2023-01-26T08:01:42.877Z"
   },
   {
    "duration": 5,
    "start_time": "2023-01-26T08:01:42.929Z"
   },
   {
    "duration": 11,
    "start_time": "2023-01-26T08:01:42.936Z"
   },
   {
    "duration": 21,
    "start_time": "2023-01-26T08:01:42.949Z"
   },
   {
    "duration": 27,
    "start_time": "2023-01-26T08:01:42.972Z"
   },
   {
    "duration": 16,
    "start_time": "2023-01-26T08:01:43.002Z"
   },
   {
    "duration": 18,
    "start_time": "2023-01-26T08:01:43.020Z"
   },
   {
    "duration": 1608,
    "start_time": "2023-01-26T08:15:19.013Z"
   },
   {
    "duration": 44,
    "start_time": "2023-01-26T08:15:20.624Z"
   },
   {
    "duration": 47,
    "start_time": "2023-01-26T08:15:20.670Z"
   },
   {
    "duration": 28,
    "start_time": "2023-01-26T08:15:20.719Z"
   },
   {
    "duration": 34,
    "start_time": "2023-01-26T08:15:20.750Z"
   },
   {
    "duration": 43,
    "start_time": "2023-01-26T08:15:20.786Z"
   },
   {
    "duration": 28,
    "start_time": "2023-01-26T08:15:20.831Z"
   },
   {
    "duration": 26,
    "start_time": "2023-01-26T08:15:20.862Z"
   },
   {
    "duration": 779,
    "start_time": "2023-01-26T08:15:20.894Z"
   },
   {
    "duration": 18,
    "start_time": "2023-01-26T08:15:21.675Z"
   },
   {
    "duration": 17,
    "start_time": "2023-01-26T08:15:21.709Z"
   },
   {
    "duration": 5,
    "start_time": "2023-01-26T08:15:21.729Z"
   },
   {
    "duration": 18,
    "start_time": "2023-01-26T08:15:21.736Z"
   },
   {
    "duration": 35,
    "start_time": "2023-01-26T08:15:21.757Z"
   },
   {
    "duration": 6,
    "start_time": "2023-01-26T08:15:21.797Z"
   },
   {
    "duration": 6,
    "start_time": "2023-01-26T08:15:21.806Z"
   },
   {
    "duration": 17,
    "start_time": "2023-01-26T08:15:21.813Z"
   },
   {
    "duration": 7,
    "start_time": "2023-01-26T08:15:21.832Z"
   },
   {
    "duration": 7,
    "start_time": "2023-01-26T08:15:21.841Z"
   },
   {
    "duration": 16,
    "start_time": "2023-01-26T08:15:21.850Z"
   },
   {
    "duration": 1647,
    "start_time": "2023-01-26T08:33:46.263Z"
   },
   {
    "duration": 42,
    "start_time": "2023-01-26T08:33:47.912Z"
   },
   {
    "duration": 42,
    "start_time": "2023-01-26T08:33:47.956Z"
   },
   {
    "duration": 4,
    "start_time": "2023-01-26T08:33:48.000Z"
   },
   {
    "duration": 8,
    "start_time": "2023-01-26T08:33:48.006Z"
   },
   {
    "duration": 15,
    "start_time": "2023-01-26T08:33:48.016Z"
   },
   {
    "duration": 5,
    "start_time": "2023-01-26T08:33:48.033Z"
   },
   {
    "duration": 18,
    "start_time": "2023-01-26T08:33:48.040Z"
   },
   {
    "duration": 801,
    "start_time": "2023-01-26T08:33:48.060Z"
   },
   {
    "duration": 3,
    "start_time": "2023-01-26T08:33:48.864Z"
   },
   {
    "duration": 28,
    "start_time": "2023-01-26T08:33:48.869Z"
   },
   {
    "duration": 9,
    "start_time": "2023-01-26T08:33:48.900Z"
   },
   {
    "duration": 13,
    "start_time": "2023-01-26T08:33:48.911Z"
   },
   {
    "duration": 21,
    "start_time": "2023-01-26T08:33:48.926Z"
   },
   {
    "duration": 4,
    "start_time": "2023-01-26T08:33:48.950Z"
   },
   {
    "duration": 37,
    "start_time": "2023-01-26T08:33:48.956Z"
   },
   {
    "duration": 13,
    "start_time": "2023-01-26T08:33:48.996Z"
   },
   {
    "duration": 5,
    "start_time": "2023-01-26T08:33:49.011Z"
   },
   {
    "duration": 8,
    "start_time": "2023-01-26T08:33:49.018Z"
   },
   {
    "duration": 8,
    "start_time": "2023-01-26T08:33:49.028Z"
   },
   {
    "duration": 20442,
    "start_time": "2023-01-26T08:33:49.038Z"
   },
   {
    "duration": 128,
    "start_time": "2023-01-26T08:34:09.481Z"
   },
   {
    "duration": 0,
    "start_time": "2023-01-26T08:34:09.612Z"
   },
   {
    "duration": 1460,
    "start_time": "2023-01-26T08:35:33.418Z"
   },
   {
    "duration": 51,
    "start_time": "2023-01-26T08:35:34.879Z"
   },
   {
    "duration": 33,
    "start_time": "2023-01-26T08:35:34.932Z"
   },
   {
    "duration": 4,
    "start_time": "2023-01-26T08:35:34.967Z"
   },
   {
    "duration": 34,
    "start_time": "2023-01-26T08:35:34.972Z"
   },
   {
    "duration": 15,
    "start_time": "2023-01-26T08:35:35.008Z"
   },
   {
    "duration": 12,
    "start_time": "2023-01-26T08:35:35.025Z"
   },
   {
    "duration": 22,
    "start_time": "2023-01-26T08:35:35.039Z"
   },
   {
    "duration": 770,
    "start_time": "2023-01-26T08:35:35.063Z"
   },
   {
    "duration": 2,
    "start_time": "2023-01-26T08:35:35.836Z"
   },
   {
    "duration": 36,
    "start_time": "2023-01-26T08:35:35.839Z"
   },
   {
    "duration": 22,
    "start_time": "2023-01-26T08:35:35.877Z"
   },
   {
    "duration": 22,
    "start_time": "2023-01-26T08:35:35.901Z"
   },
   {
    "duration": 27,
    "start_time": "2023-01-26T08:35:35.925Z"
   },
   {
    "duration": 6,
    "start_time": "2023-01-26T08:35:35.954Z"
   },
   {
    "duration": 8,
    "start_time": "2023-01-26T08:35:35.961Z"
   },
   {
    "duration": 25,
    "start_time": "2023-01-26T08:35:35.971Z"
   },
   {
    "duration": 15,
    "start_time": "2023-01-26T08:35:35.998Z"
   },
   {
    "duration": 24,
    "start_time": "2023-01-26T08:35:36.015Z"
   },
   {
    "duration": 19,
    "start_time": "2023-01-26T08:35:36.041Z"
   },
   {
    "duration": 135135,
    "start_time": "2023-01-26T08:35:36.061Z"
   },
   {
    "duration": 5,
    "start_time": "2023-01-26T08:37:51.198Z"
   },
   {
    "duration": 11,
    "start_time": "2023-01-26T08:37:51.205Z"
   },
   {
    "duration": 9,
    "start_time": "2023-01-26T08:39:07.144Z"
   },
   {
    "duration": 1703,
    "start_time": "2023-01-26T09:10:14.443Z"
   },
   {
    "duration": 57,
    "start_time": "2023-01-26T09:10:16.148Z"
   },
   {
    "duration": 40,
    "start_time": "2023-01-26T09:10:16.207Z"
   },
   {
    "duration": 3,
    "start_time": "2023-01-26T09:10:16.249Z"
   },
   {
    "duration": 19,
    "start_time": "2023-01-26T09:10:16.255Z"
   },
   {
    "duration": 36,
    "start_time": "2023-01-26T09:10:16.275Z"
   },
   {
    "duration": 28,
    "start_time": "2023-01-26T09:10:16.313Z"
   },
   {
    "duration": 31,
    "start_time": "2023-01-26T09:10:16.343Z"
   },
   {
    "duration": 751,
    "start_time": "2023-01-26T09:10:16.376Z"
   },
   {
    "duration": 3,
    "start_time": "2023-01-26T09:10:17.129Z"
   },
   {
    "duration": 29,
    "start_time": "2023-01-26T09:10:17.133Z"
   },
   {
    "duration": 25,
    "start_time": "2023-01-26T09:10:17.163Z"
   },
   {
    "duration": 40,
    "start_time": "2023-01-26T09:10:17.190Z"
   },
   {
    "duration": 24,
    "start_time": "2023-01-26T09:10:17.233Z"
   },
   {
    "duration": 4,
    "start_time": "2023-01-26T09:10:17.259Z"
   },
   {
    "duration": 85,
    "start_time": "2023-01-26T09:10:17.265Z"
   },
   {
    "duration": 26,
    "start_time": "2023-01-26T09:10:17.352Z"
   },
   {
    "duration": 19,
    "start_time": "2023-01-26T09:10:17.379Z"
   },
   {
    "duration": 10,
    "start_time": "2023-01-26T09:10:17.401Z"
   },
   {
    "duration": 39,
    "start_time": "2023-01-26T09:10:17.413Z"
   },
   {
    "duration": 13115,
    "start_time": "2023-01-26T09:10:17.454Z"
   },
   {
    "duration": 0,
    "start_time": "2023-01-26T09:10:30.577Z"
   },
   {
    "duration": 1600,
    "start_time": "2023-01-26T09:11:43.448Z"
   },
   {
    "duration": 50,
    "start_time": "2023-01-26T09:11:45.051Z"
   },
   {
    "duration": 36,
    "start_time": "2023-01-26T09:11:45.103Z"
   },
   {
    "duration": 4,
    "start_time": "2023-01-26T09:11:45.141Z"
   },
   {
    "duration": 20,
    "start_time": "2023-01-26T09:11:45.147Z"
   },
   {
    "duration": 25,
    "start_time": "2023-01-26T09:11:45.169Z"
   },
   {
    "duration": 12,
    "start_time": "2023-01-26T09:11:45.196Z"
   },
   {
    "duration": 20,
    "start_time": "2023-01-26T09:11:45.210Z"
   },
   {
    "duration": 799,
    "start_time": "2023-01-26T09:11:45.232Z"
   },
   {
    "duration": 3,
    "start_time": "2023-01-26T09:11:46.033Z"
   },
   {
    "duration": 19,
    "start_time": "2023-01-26T09:11:46.038Z"
   },
   {
    "duration": 8,
    "start_time": "2023-01-26T09:11:46.059Z"
   },
   {
    "duration": 27,
    "start_time": "2023-01-26T09:11:46.069Z"
   },
   {
    "duration": 25,
    "start_time": "2023-01-26T09:11:46.099Z"
   },
   {
    "duration": 101,
    "start_time": "2023-01-26T09:11:46.126Z"
   },
   {
    "duration": 3,
    "start_time": "2023-01-26T09:11:46.230Z"
   },
   {
    "duration": 13,
    "start_time": "2023-01-26T09:11:46.234Z"
   },
   {
    "duration": 4,
    "start_time": "2023-01-26T09:11:46.249Z"
   },
   {
    "duration": 6,
    "start_time": "2023-01-26T09:11:46.255Z"
   },
   {
    "duration": 5,
    "start_time": "2023-01-26T09:11:46.263Z"
   },
   {
    "duration": 1692,
    "start_time": "2023-01-26T09:16:53.519Z"
   },
   {
    "duration": 41,
    "start_time": "2023-01-26T09:16:55.214Z"
   },
   {
    "duration": 43,
    "start_time": "2023-01-26T09:16:55.257Z"
   },
   {
    "duration": 4,
    "start_time": "2023-01-26T09:16:55.303Z"
   },
   {
    "duration": 16,
    "start_time": "2023-01-26T09:16:55.309Z"
   },
   {
    "duration": 28,
    "start_time": "2023-01-26T09:16:55.327Z"
   },
   {
    "duration": 28,
    "start_time": "2023-01-26T09:16:55.357Z"
   },
   {
    "duration": 39,
    "start_time": "2023-01-26T09:16:55.390Z"
   },
   {
    "duration": 829,
    "start_time": "2023-01-26T09:16:55.431Z"
   },
   {
    "duration": 2,
    "start_time": "2023-01-26T09:16:56.263Z"
   },
   {
    "duration": 79,
    "start_time": "2023-01-26T09:16:56.268Z"
   },
   {
    "duration": 30,
    "start_time": "2023-01-26T09:16:56.349Z"
   },
   {
    "duration": 137,
    "start_time": "2023-01-26T09:16:56.381Z"
   },
   {
    "duration": 18,
    "start_time": "2023-01-26T09:16:56.520Z"
   },
   {
    "duration": 30,
    "start_time": "2023-01-26T09:16:56.540Z"
   },
   {
    "duration": 61,
    "start_time": "2023-01-26T09:16:56.572Z"
   },
   {
    "duration": 32,
    "start_time": "2023-01-26T09:16:56.635Z"
   },
   {
    "duration": 34,
    "start_time": "2023-01-26T09:16:56.669Z"
   },
   {
    "duration": 26,
    "start_time": "2023-01-26T09:16:56.706Z"
   },
   {
    "duration": 24,
    "start_time": "2023-01-26T09:16:56.734Z"
   },
   {
    "duration": 172,
    "start_time": "2023-01-26T09:16:56.761Z"
   },
   {
    "duration": 0,
    "start_time": "2023-01-26T09:16:56.935Z"
   },
   {
    "duration": 1641,
    "start_time": "2023-01-26T09:18:41.604Z"
   },
   {
    "duration": 52,
    "start_time": "2023-01-26T09:18:43.247Z"
   },
   {
    "duration": 33,
    "start_time": "2023-01-26T09:18:43.301Z"
   },
   {
    "duration": 4,
    "start_time": "2023-01-26T09:18:43.335Z"
   },
   {
    "duration": 5,
    "start_time": "2023-01-26T09:18:43.341Z"
   },
   {
    "duration": 38,
    "start_time": "2023-01-26T09:18:43.348Z"
   },
   {
    "duration": 19,
    "start_time": "2023-01-26T09:18:43.388Z"
   },
   {
    "duration": 13,
    "start_time": "2023-01-26T09:18:43.409Z"
   },
   {
    "duration": 800,
    "start_time": "2023-01-26T09:18:43.424Z"
   },
   {
    "duration": 2,
    "start_time": "2023-01-26T09:18:44.226Z"
   },
   {
    "duration": 33,
    "start_time": "2023-01-26T09:18:44.230Z"
   },
   {
    "duration": 42,
    "start_time": "2023-01-26T09:18:44.265Z"
   },
   {
    "duration": 31,
    "start_time": "2023-01-26T09:18:44.310Z"
   },
   {
    "duration": 39,
    "start_time": "2023-01-26T09:18:44.344Z"
   },
   {
    "duration": 28,
    "start_time": "2023-01-26T09:18:44.389Z"
   },
   {
    "duration": 94,
    "start_time": "2023-01-26T09:18:44.420Z"
   },
   {
    "duration": 29,
    "start_time": "2023-01-26T09:18:44.516Z"
   },
   {
    "duration": 20,
    "start_time": "2023-01-26T09:18:44.547Z"
   },
   {
    "duration": 43,
    "start_time": "2023-01-26T09:18:44.569Z"
   },
   {
    "duration": 28,
    "start_time": "2023-01-26T09:18:44.614Z"
   },
   {
    "duration": 477256,
    "start_time": "2023-01-26T09:18:44.644Z"
   },
   {
    "duration": 7,
    "start_time": "2023-01-26T09:26:41.904Z"
   },
   {
    "duration": 5,
    "start_time": "2023-01-26T09:29:28.455Z"
   },
   {
    "duration": 6,
    "start_time": "2023-01-26T09:30:38.031Z"
   },
   {
    "duration": 10,
    "start_time": "2023-01-26T09:30:50.760Z"
   },
   {
    "duration": 6,
    "start_time": "2023-01-26T09:31:06.271Z"
   },
   {
    "duration": 161,
    "start_time": "2023-01-26T09:31:13.439Z"
   },
   {
    "duration": 4,
    "start_time": "2023-01-26T09:31:21.405Z"
   },
   {
    "duration": 10,
    "start_time": "2023-01-26T09:31:56.493Z"
   },
   {
    "duration": 5,
    "start_time": "2023-01-26T09:32:32.849Z"
   },
   {
    "duration": 6,
    "start_time": "2023-01-26T09:32:38.601Z"
   },
   {
    "duration": 12,
    "start_time": "2023-01-26T09:33:18.707Z"
   },
   {
    "duration": 5,
    "start_time": "2023-01-26T09:33:26.331Z"
   },
   {
    "duration": 6,
    "start_time": "2023-01-26T09:33:38.123Z"
   },
   {
    "duration": 1744,
    "start_time": "2023-01-26T09:39:30.912Z"
   },
   {
    "duration": 57,
    "start_time": "2023-01-26T09:39:32.658Z"
   },
   {
    "duration": 75,
    "start_time": "2023-01-26T09:39:32.718Z"
   },
   {
    "duration": 27,
    "start_time": "2023-01-26T09:39:32.795Z"
   },
   {
    "duration": 35,
    "start_time": "2023-01-26T09:39:32.824Z"
   },
   {
    "duration": 88,
    "start_time": "2023-01-26T09:39:32.861Z"
   },
   {
    "duration": 99,
    "start_time": "2023-01-26T09:39:32.951Z"
   },
   {
    "duration": 38,
    "start_time": "2023-01-26T09:39:33.053Z"
   },
   {
    "duration": 866,
    "start_time": "2023-01-26T09:39:33.095Z"
   },
   {
    "duration": 2,
    "start_time": "2023-01-26T09:39:33.963Z"
   },
   {
    "duration": 91,
    "start_time": "2023-01-26T09:39:33.967Z"
   },
   {
    "duration": 80,
    "start_time": "2023-01-26T09:39:34.060Z"
   },
   {
    "duration": 55,
    "start_time": "2023-01-26T09:39:34.141Z"
   },
   {
    "duration": 147,
    "start_time": "2023-01-26T09:39:34.198Z"
   },
   {
    "duration": 34,
    "start_time": "2023-01-26T09:39:34.347Z"
   },
   {
    "duration": 62,
    "start_time": "2023-01-26T09:39:34.383Z"
   },
   {
    "duration": 84,
    "start_time": "2023-01-26T09:39:34.448Z"
   },
   {
    "duration": 33,
    "start_time": "2023-01-26T09:39:34.534Z"
   },
   {
    "duration": 54,
    "start_time": "2023-01-26T09:39:34.569Z"
   },
   {
    "duration": 34,
    "start_time": "2023-01-26T09:39:34.625Z"
   },
   {
    "duration": 935543,
    "start_time": "2023-01-26T09:39:34.661Z"
   },
   {
    "duration": 10,
    "start_time": "2023-01-26T09:55:10.206Z"
   },
   {
    "duration": 84,
    "start_time": "2023-01-26T09:55:10.217Z"
   },
   {
    "duration": 6,
    "start_time": "2023-01-26T09:55:40.219Z"
   },
   {
    "duration": 6,
    "start_time": "2023-01-26T09:55:54.314Z"
   },
   {
    "duration": 4,
    "start_time": "2023-01-26T09:55:59.565Z"
   },
   {
    "duration": 4,
    "start_time": "2023-01-26T09:56:12.078Z"
   },
   {
    "duration": 5,
    "start_time": "2023-01-26T09:56:23.409Z"
   },
   {
    "duration": 5,
    "start_time": "2023-01-26T09:57:03.613Z"
   },
   {
    "duration": 6,
    "start_time": "2023-01-26T09:57:44.870Z"
   },
   {
    "duration": 4,
    "start_time": "2023-01-26T09:58:00.630Z"
   },
   {
    "duration": 9,
    "start_time": "2023-01-26T09:58:29.427Z"
   },
   {
    "duration": 4,
    "start_time": "2023-01-26T10:00:25.953Z"
   },
   {
    "duration": 133,
    "start_time": "2023-01-26T10:04:28.723Z"
   },
   {
    "duration": 5,
    "start_time": "2023-01-26T10:05:23.910Z"
   },
   {
    "duration": 13,
    "start_time": "2023-01-26T10:07:53.829Z"
   },
   {
    "duration": 11,
    "start_time": "2023-01-26T10:08:37.029Z"
   },
   {
    "duration": 4,
    "start_time": "2023-01-26T10:09:37.038Z"
   },
   {
    "duration": 14,
    "start_time": "2023-01-26T10:09:44.151Z"
   },
   {
    "duration": 7,
    "start_time": "2023-01-26T10:11:28.150Z"
   },
   {
    "duration": 45,
    "start_time": "2023-01-26T10:11:31.092Z"
   },
   {
    "duration": 11,
    "start_time": "2023-01-26T10:11:42.160Z"
   },
   {
    "duration": 12,
    "start_time": "2023-01-26T10:12:09.023Z"
   },
   {
    "duration": 10,
    "start_time": "2023-01-26T10:12:19.925Z"
   },
   {
    "duration": 27,
    "start_time": "2023-01-26T10:13:19.483Z"
   },
   {
    "duration": 16,
    "start_time": "2023-01-26T10:13:27.210Z"
   },
   {
    "duration": 10,
    "start_time": "2023-01-26T10:13:37.344Z"
   },
   {
    "duration": 11,
    "start_time": "2023-01-26T10:14:52.109Z"
   },
   {
    "duration": 13,
    "start_time": "2023-01-26T10:15:02.338Z"
   },
   {
    "duration": 191,
    "start_time": "2023-01-26T10:15:13.705Z"
   },
   {
    "duration": 168,
    "start_time": "2023-01-26T10:15:31.646Z"
   },
   {
    "duration": 11,
    "start_time": "2023-01-26T10:15:42.233Z"
   },
   {
    "duration": 13,
    "start_time": "2023-01-26T10:15:46.459Z"
   },
   {
    "duration": 122,
    "start_time": "2023-01-26T10:15:52.756Z"
   },
   {
    "duration": 16,
    "start_time": "2023-01-26T10:16:09.934Z"
   },
   {
    "duration": 15,
    "start_time": "2023-01-26T10:16:19.850Z"
   },
   {
    "duration": 206,
    "start_time": "2023-01-26T10:16:26.813Z"
   },
   {
    "duration": 14,
    "start_time": "2023-01-26T10:17:54.434Z"
   },
   {
    "duration": 174,
    "start_time": "2023-01-26T10:19:20.700Z"
   },
   {
    "duration": 15,
    "start_time": "2023-01-26T10:19:32.156Z"
   },
   {
    "duration": 172,
    "start_time": "2023-01-26T10:19:37.651Z"
   },
   {
    "duration": 156,
    "start_time": "2023-01-26T10:19:50.332Z"
   },
   {
    "duration": 198,
    "start_time": "2023-01-26T10:20:21.154Z"
   },
   {
    "duration": 174,
    "start_time": "2023-01-26T10:20:39.329Z"
   },
   {
    "duration": 167,
    "start_time": "2023-01-26T10:20:56.244Z"
   },
   {
    "duration": 161,
    "start_time": "2023-01-26T10:21:04.970Z"
   },
   {
    "duration": 190,
    "start_time": "2023-01-26T10:21:21.518Z"
   },
   {
    "duration": 179,
    "start_time": "2023-01-26T10:21:43.357Z"
   },
   {
    "duration": 283,
    "start_time": "2023-01-26T10:21:55.271Z"
   },
   {
    "duration": 144,
    "start_time": "2023-01-26T10:22:31.069Z"
   },
   {
    "duration": 211,
    "start_time": "2023-01-26T10:23:11.430Z"
   },
   {
    "duration": 159,
    "start_time": "2023-01-26T10:24:44.349Z"
   },
   {
    "duration": 203,
    "start_time": "2023-01-26T10:24:59.913Z"
   },
   {
    "duration": 185,
    "start_time": "2023-01-26T10:25:44.479Z"
   },
   {
    "duration": 163,
    "start_time": "2023-01-26T10:26:13.380Z"
   },
   {
    "duration": 144,
    "start_time": "2023-01-26T10:26:22.110Z"
   },
   {
    "duration": 21,
    "start_time": "2023-01-26T10:29:12.079Z"
   },
   {
    "duration": 172,
    "start_time": "2023-01-26T10:29:31.267Z"
   },
   {
    "duration": 148,
    "start_time": "2023-01-26T10:29:49.925Z"
   },
   {
    "duration": 181,
    "start_time": "2023-01-26T10:30:53.852Z"
   },
   {
    "duration": 71,
    "start_time": "2023-01-26T10:31:10.170Z"
   },
   {
    "duration": 158,
    "start_time": "2023-01-26T10:31:18.618Z"
   },
   {
    "duration": 152,
    "start_time": "2023-01-26T10:31:37.010Z"
   },
   {
    "duration": 216,
    "start_time": "2023-01-26T10:32:03.869Z"
   },
   {
    "duration": 150,
    "start_time": "2023-01-26T10:32:14.563Z"
   },
   {
    "duration": 376,
    "start_time": "2023-01-26T10:32:39.211Z"
   },
   {
    "duration": 319,
    "start_time": "2023-01-26T10:33:00.723Z"
   },
   {
    "duration": 216,
    "start_time": "2023-01-26T10:33:05.949Z"
   },
   {
    "duration": 156,
    "start_time": "2023-01-26T10:36:37.872Z"
   },
   {
    "duration": 165,
    "start_time": "2023-01-26T10:36:43.531Z"
   },
   {
    "duration": 149,
    "start_time": "2023-01-26T10:36:59.160Z"
   },
   {
    "duration": 172,
    "start_time": "2023-01-26T10:40:08.451Z"
   },
   {
    "duration": 257,
    "start_time": "2023-01-26T10:40:33.667Z"
   },
   {
    "duration": 246,
    "start_time": "2023-01-26T10:41:00.683Z"
   },
   {
    "duration": 176,
    "start_time": "2023-01-26T10:41:19.236Z"
   },
   {
    "duration": 150,
    "start_time": "2023-01-26T10:41:30.205Z"
   },
   {
    "duration": 223,
    "start_time": "2023-01-26T10:42:03.081Z"
   },
   {
    "duration": 179,
    "start_time": "2023-01-26T10:42:08.971Z"
   },
   {
    "duration": 194,
    "start_time": "2023-01-26T10:42:29.124Z"
   },
   {
    "duration": 29,
    "start_time": "2023-01-26T10:42:35.474Z"
   },
   {
    "duration": 19,
    "start_time": "2023-01-26T10:42:40.570Z"
   },
   {
    "duration": 249,
    "start_time": "2023-01-26T10:42:45.962Z"
   },
   {
    "duration": 1684,
    "start_time": "2023-01-26T10:43:06.943Z"
   },
   {
    "duration": 42,
    "start_time": "2023-01-26T10:43:08.629Z"
   },
   {
    "duration": 45,
    "start_time": "2023-01-26T10:43:08.673Z"
   },
   {
    "duration": 4,
    "start_time": "2023-01-26T10:43:08.721Z"
   },
   {
    "duration": 11,
    "start_time": "2023-01-26T10:43:08.727Z"
   },
   {
    "duration": 23,
    "start_time": "2023-01-26T10:43:08.740Z"
   },
   {
    "duration": 12,
    "start_time": "2023-01-26T10:43:08.783Z"
   },
   {
    "duration": 25,
    "start_time": "2023-01-26T10:43:08.804Z"
   },
   {
    "duration": 939,
    "start_time": "2023-01-26T10:43:08.832Z"
   },
   {
    "duration": 13,
    "start_time": "2023-01-26T10:43:09.774Z"
   },
   {
    "duration": 48,
    "start_time": "2023-01-26T10:43:09.789Z"
   },
   {
    "duration": 22,
    "start_time": "2023-01-26T10:43:09.839Z"
   },
   {
    "duration": 129,
    "start_time": "2023-01-26T10:43:09.864Z"
   },
   {
    "duration": 61,
    "start_time": "2023-01-26T10:43:10.002Z"
   },
   {
    "duration": 9,
    "start_time": "2023-01-26T10:43:10.065Z"
   },
   {
    "duration": 22,
    "start_time": "2023-01-26T10:43:10.076Z"
   },
   {
    "duration": 34,
    "start_time": "2023-01-26T10:43:10.100Z"
   },
   {
    "duration": 13,
    "start_time": "2023-01-26T10:43:10.136Z"
   },
   {
    "duration": 23,
    "start_time": "2023-01-26T10:43:10.151Z"
   },
   {
    "duration": 15,
    "start_time": "2023-01-26T10:43:10.177Z"
   },
   {
    "duration": 472231,
    "start_time": "2023-01-26T10:43:10.194Z"
   },
   {
    "duration": 17,
    "start_time": "2023-01-26T10:51:02.427Z"
   },
   {
    "duration": 0,
    "start_time": "2023-01-26T10:51:02.446Z"
   },
   {
    "duration": 0,
    "start_time": "2023-01-26T10:51:02.447Z"
   },
   {
    "duration": 0,
    "start_time": "2023-01-26T10:51:02.448Z"
   },
   {
    "duration": 0,
    "start_time": "2023-01-26T10:51:02.450Z"
   },
   {
    "duration": 1618,
    "start_time": "2023-01-26T10:52:42.656Z"
   },
   {
    "duration": 45,
    "start_time": "2023-01-26T10:52:44.277Z"
   },
   {
    "duration": 35,
    "start_time": "2023-01-26T10:52:44.323Z"
   },
   {
    "duration": 4,
    "start_time": "2023-01-26T10:52:44.360Z"
   },
   {
    "duration": 14,
    "start_time": "2023-01-26T10:52:44.366Z"
   },
   {
    "duration": 20,
    "start_time": "2023-01-26T10:52:44.385Z"
   },
   {
    "duration": 5,
    "start_time": "2023-01-26T10:52:44.408Z"
   },
   {
    "duration": 14,
    "start_time": "2023-01-26T10:52:44.415Z"
   },
   {
    "duration": 806,
    "start_time": "2023-01-26T10:52:44.431Z"
   },
   {
    "duration": 3,
    "start_time": "2023-01-26T10:52:45.238Z"
   },
   {
    "duration": 21,
    "start_time": "2023-01-26T10:52:45.244Z"
   },
   {
    "duration": 18,
    "start_time": "2023-01-26T10:52:45.267Z"
   },
   {
    "duration": 15,
    "start_time": "2023-01-26T10:52:45.293Z"
   },
   {
    "duration": 114,
    "start_time": "2023-01-26T10:52:45.312Z"
   },
   {
    "duration": 5,
    "start_time": "2023-01-26T10:52:45.428Z"
   },
   {
    "duration": 4,
    "start_time": "2023-01-26T10:52:45.435Z"
   },
   {
    "duration": 15,
    "start_time": "2023-01-26T10:52:45.442Z"
   },
   {
    "duration": 32,
    "start_time": "2023-01-26T10:52:45.460Z"
   },
   {
    "duration": 11,
    "start_time": "2023-01-26T10:52:45.494Z"
   },
   {
    "duration": 9,
    "start_time": "2023-01-26T10:52:45.507Z"
   },
   {
    "duration": 295580,
    "start_time": "2023-01-26T10:52:45.518Z"
   },
   {
    "duration": 11,
    "start_time": "2023-01-26T10:57:41.100Z"
   },
   {
    "duration": 18,
    "start_time": "2023-01-26T10:57:41.113Z"
   },
   {
    "duration": 166,
    "start_time": "2023-01-26T10:57:41.133Z"
   },
   {
    "duration": 0,
    "start_time": "2023-01-26T10:57:41.300Z"
   },
   {
    "duration": 0,
    "start_time": "2023-01-26T10:57:41.302Z"
   },
   {
    "duration": 0,
    "start_time": "2023-01-26T10:57:41.303Z"
   },
   {
    "duration": 144,
    "start_time": "2023-01-26T11:00:13.910Z"
   },
   {
    "duration": 172,
    "start_time": "2023-01-26T11:00:39.785Z"
   },
   {
    "duration": 145,
    "start_time": "2023-01-26T11:00:46.165Z"
   },
   {
    "duration": 18,
    "start_time": "2023-01-26T11:01:03.974Z"
   },
   {
    "duration": 11,
    "start_time": "2023-01-26T11:06:54.803Z"
   },
   {
    "duration": 21,
    "start_time": "2023-01-26T11:07:02.094Z"
   },
   {
    "duration": 53,
    "start_time": "2023-01-26T11:08:46.053Z"
   },
   {
    "duration": 119202,
    "start_time": "2023-01-26T11:09:13.324Z"
   },
   {
    "duration": 0,
    "start_time": "2023-01-26T11:11:12.528Z"
   },
   {
    "duration": 6,
    "start_time": "2023-01-26T11:11:15.525Z"
   },
   {
    "duration": 11,
    "start_time": "2023-01-26T11:11:41.107Z"
   },
   {
    "duration": 897,
    "start_time": "2023-01-26T11:12:45.863Z"
   },
   {
    "duration": 994,
    "start_time": "2023-01-26T11:13:07.251Z"
   },
   {
    "duration": 17,
    "start_time": "2023-01-26T11:13:17.871Z"
   },
   {
    "duration": 953,
    "start_time": "2023-01-26T11:13:27.177Z"
   },
   {
    "duration": 1131,
    "start_time": "2023-01-26T11:13:39.159Z"
   },
   {
    "duration": 937,
    "start_time": "2023-01-26T11:14:03.815Z"
   },
   {
    "duration": 10,
    "start_time": "2023-01-26T11:14:27.278Z"
   },
   {
    "duration": 13,
    "start_time": "2023-01-26T11:14:51.104Z"
   },
   {
    "duration": 10,
    "start_time": "2023-01-26T11:14:59.902Z"
   },
   {
    "duration": 57,
    "start_time": "2023-01-26T11:16:04.203Z"
   },
   {
    "duration": 651,
    "start_time": "2023-01-26T11:16:38.971Z"
   },
   {
    "duration": 688,
    "start_time": "2023-01-26T11:16:49.176Z"
   },
   {
    "duration": 5,
    "start_time": "2023-01-26T11:16:58.712Z"
   },
   {
    "duration": 4,
    "start_time": "2023-01-26T11:18:29.219Z"
   },
   {
    "duration": 43,
    "start_time": "2023-01-26T11:18:45.928Z"
   },
   {
    "duration": 16,
    "start_time": "2023-01-26T11:18:50.752Z"
   },
   {
    "duration": 32533,
    "start_time": "2023-01-26T11:19:04.063Z"
   },
   {
    "duration": 1923,
    "start_time": "2023-01-26T11:20:16.845Z"
   },
   {
    "duration": 60,
    "start_time": "2023-01-26T11:20:18.771Z"
   },
   {
    "duration": 47,
    "start_time": "2023-01-26T11:20:18.834Z"
   },
   {
    "duration": 15,
    "start_time": "2023-01-26T11:20:18.884Z"
   },
   {
    "duration": 20,
    "start_time": "2023-01-26T11:20:18.904Z"
   },
   {
    "duration": 22,
    "start_time": "2023-01-26T11:20:18.927Z"
   },
   {
    "duration": 7,
    "start_time": "2023-01-26T11:20:18.952Z"
   },
   {
    "duration": 16,
    "start_time": "2023-01-26T11:20:18.961Z"
   },
   {
    "duration": 950,
    "start_time": "2023-01-26T11:20:18.986Z"
   },
   {
    "duration": 5,
    "start_time": "2023-01-26T11:20:19.940Z"
   },
   {
    "duration": 21,
    "start_time": "2023-01-26T11:20:19.947Z"
   },
   {
    "duration": 13,
    "start_time": "2023-01-26T11:20:19.983Z"
   },
   {
    "duration": 120,
    "start_time": "2023-01-26T11:20:20.000Z"
   },
   {
    "duration": 36,
    "start_time": "2023-01-26T11:20:20.123Z"
   },
   {
    "duration": 15,
    "start_time": "2023-01-26T11:20:20.161Z"
   },
   {
    "duration": 48,
    "start_time": "2023-01-26T11:20:20.178Z"
   },
   {
    "duration": 38,
    "start_time": "2023-01-26T11:20:20.229Z"
   },
   {
    "duration": 23,
    "start_time": "2023-01-26T11:20:20.270Z"
   },
   {
    "duration": 41,
    "start_time": "2023-01-26T11:20:20.296Z"
   },
   {
    "duration": 31,
    "start_time": "2023-01-26T11:20:20.341Z"
   },
   {
    "duration": 1652244,
    "start_time": "2023-01-26T11:20:20.374Z"
   },
   {
    "duration": 16,
    "start_time": "2023-01-26T11:47:52.620Z"
   },
   {
    "duration": 34,
    "start_time": "2023-01-26T11:47:52.639Z"
   },
   {
    "duration": 203,
    "start_time": "2023-01-26T11:47:52.676Z"
   },
   {
    "duration": 167,
    "start_time": "2023-01-26T11:47:52.882Z"
   },
   {
    "duration": 10,
    "start_time": "2023-01-26T11:47:53.051Z"
   },
   {
    "duration": 75,
    "start_time": "2023-01-26T11:47:53.063Z"
   },
   {
    "duration": 77,
    "start_time": "2023-01-26T11:47:53.141Z"
   },
   {
    "duration": 28673,
    "start_time": "2023-01-26T11:47:53.221Z"
   },
   {
    "duration": 1842,
    "start_time": "2023-01-26T11:53:10.354Z"
   },
   {
    "duration": 63,
    "start_time": "2023-01-26T11:53:12.199Z"
   },
   {
    "duration": 43,
    "start_time": "2023-01-26T11:53:12.265Z"
   },
   {
    "duration": 32,
    "start_time": "2023-01-26T11:53:12.310Z"
   },
   {
    "duration": 42,
    "start_time": "2023-01-26T11:53:12.346Z"
   },
   {
    "duration": 78,
    "start_time": "2023-01-26T11:53:12.391Z"
   },
   {
    "duration": 78,
    "start_time": "2023-01-26T11:53:12.471Z"
   },
   {
    "duration": 74,
    "start_time": "2023-01-26T11:53:12.551Z"
   },
   {
    "duration": 878,
    "start_time": "2023-01-26T11:53:12.627Z"
   },
   {
    "duration": 22,
    "start_time": "2023-01-26T11:53:13.507Z"
   },
   {
    "duration": 32,
    "start_time": "2023-01-26T11:53:13.531Z"
   },
   {
    "duration": 78,
    "start_time": "2023-01-26T11:53:13.565Z"
   },
   {
    "duration": 130,
    "start_time": "2023-01-26T11:53:13.645Z"
   },
   {
    "duration": 30,
    "start_time": "2023-01-26T11:53:13.778Z"
   },
   {
    "duration": 60,
    "start_time": "2023-01-26T11:53:13.811Z"
   },
   {
    "duration": 65,
    "start_time": "2023-01-26T11:53:13.874Z"
   },
   {
    "duration": 102,
    "start_time": "2023-01-26T11:53:13.941Z"
   },
   {
    "duration": 85,
    "start_time": "2023-01-26T11:53:14.046Z"
   },
   {
    "duration": 27,
    "start_time": "2023-01-26T11:53:14.134Z"
   },
   {
    "duration": 80,
    "start_time": "2023-01-26T11:53:14.163Z"
   },
   {
    "duration": 684593,
    "start_time": "2023-01-26T11:53:14.246Z"
   },
   {
    "duration": 59,
    "start_time": "2023-01-26T12:04:38.840Z"
   },
   {
    "duration": 32,
    "start_time": "2023-01-26T12:04:38.901Z"
   },
   {
    "duration": 142,
    "start_time": "2023-01-26T12:04:38.935Z"
   },
   {
    "duration": 158,
    "start_time": "2023-01-26T12:04:39.084Z"
   },
   {
    "duration": 10,
    "start_time": "2023-01-26T12:04:39.245Z"
   },
   {
    "duration": 16,
    "start_time": "2023-01-26T12:04:39.257Z"
   },
   {
    "duration": 6,
    "start_time": "2023-01-26T12:04:39.284Z"
   },
   {
    "duration": 28013,
    "start_time": "2023-01-26T12:04:39.292Z"
   },
   {
    "duration": 2040,
    "start_time": "2023-01-26T12:14:02.421Z"
   },
   {
    "duration": 69,
    "start_time": "2023-01-26T12:14:04.464Z"
   },
   {
    "duration": 42,
    "start_time": "2023-01-26T12:14:04.535Z"
   },
   {
    "duration": 22,
    "start_time": "2023-01-26T12:14:04.580Z"
   },
   {
    "duration": 32,
    "start_time": "2023-01-26T12:14:04.603Z"
   },
   {
    "duration": 15,
    "start_time": "2023-01-26T12:14:04.638Z"
   },
   {
    "duration": 10,
    "start_time": "2023-01-26T12:14:04.656Z"
   },
   {
    "duration": 35,
    "start_time": "2023-01-26T12:14:04.669Z"
   },
   {
    "duration": 929,
    "start_time": "2023-01-26T12:14:04.707Z"
   },
   {
    "duration": 7,
    "start_time": "2023-01-26T12:14:05.641Z"
   },
   {
    "duration": 42,
    "start_time": "2023-01-26T12:14:05.650Z"
   },
   {
    "duration": 29,
    "start_time": "2023-01-26T12:14:05.697Z"
   },
   {
    "duration": 130,
    "start_time": "2023-01-26T12:14:05.729Z"
   },
   {
    "duration": 49,
    "start_time": "2023-01-26T12:14:05.862Z"
   },
   {
    "duration": 4,
    "start_time": "2023-01-26T12:14:05.916Z"
   },
   {
    "duration": 17,
    "start_time": "2023-01-26T12:14:05.922Z"
   },
   {
    "duration": 40,
    "start_time": "2023-01-26T12:14:05.941Z"
   },
   {
    "duration": 17,
    "start_time": "2023-01-26T12:14:05.983Z"
   },
   {
    "duration": 33,
    "start_time": "2023-01-26T12:14:06.006Z"
   },
   {
    "duration": 11,
    "start_time": "2023-01-26T12:14:06.042Z"
   },
   {
    "duration": 705861,
    "start_time": "2023-01-26T12:14:06.055Z"
   },
   {
    "duration": 22,
    "start_time": "2023-01-26T12:25:51.918Z"
   },
   {
    "duration": 14,
    "start_time": "2023-01-26T12:25:51.942Z"
   },
   {
    "duration": 249,
    "start_time": "2023-01-26T12:25:51.959Z"
   },
   {
    "duration": 194,
    "start_time": "2023-01-26T12:25:52.210Z"
   },
   {
    "duration": 26,
    "start_time": "2023-01-26T12:25:52.406Z"
   },
   {
    "duration": 12,
    "start_time": "2023-01-26T12:25:52.435Z"
   },
   {
    "duration": 13,
    "start_time": "2023-01-26T12:25:52.451Z"
   },
   {
    "duration": 33129,
    "start_time": "2023-01-26T12:25:52.467Z"
   },
   {
    "duration": 10,
    "start_time": "2023-01-26T12:33:30.716Z"
   },
   {
    "duration": 5,
    "start_time": "2023-01-26T12:35:47.626Z"
   },
   {
    "duration": 5,
    "start_time": "2023-01-26T12:36:04.056Z"
   },
   {
    "duration": 883,
    "start_time": "2023-01-26T12:36:53.790Z"
   },
   {
    "duration": 771,
    "start_time": "2023-01-26T12:37:06.064Z"
   },
   {
    "duration": 617,
    "start_time": "2023-01-26T12:37:26.170Z"
   },
   {
    "duration": 14,
    "start_time": "2023-01-26T12:38:27.996Z"
   },
   {
    "duration": 129,
    "start_time": "2023-01-26T12:38:32.923Z"
   },
   {
    "duration": 4,
    "start_time": "2023-01-26T12:41:21.276Z"
   },
   {
    "duration": 5,
    "start_time": "2023-01-26T12:41:56.323Z"
   },
   {
    "duration": 13,
    "start_time": "2023-01-26T12:42:19.907Z"
   },
   {
    "duration": 6,
    "start_time": "2023-01-26T12:42:40.745Z"
   },
   {
    "duration": 10,
    "start_time": "2023-01-26T12:45:27.787Z"
   },
   {
    "duration": 5,
    "start_time": "2023-01-26T12:45:33.926Z"
   },
   {
    "duration": 7,
    "start_time": "2023-01-26T12:45:49.005Z"
   },
   {
    "duration": 4,
    "start_time": "2023-01-26T12:45:49.678Z"
   },
   {
    "duration": 8,
    "start_time": "2023-01-26T12:46:37.537Z"
   },
   {
    "duration": 6,
    "start_time": "2023-01-26T12:46:38.068Z"
   },
   {
    "duration": 6,
    "start_time": "2023-01-26T12:46:48.077Z"
   },
   {
    "duration": 4,
    "start_time": "2023-01-26T12:46:48.605Z"
   },
   {
    "duration": 6,
    "start_time": "2023-01-26T12:46:58.757Z"
   },
   {
    "duration": 6,
    "start_time": "2023-01-26T12:46:58.820Z"
   },
   {
    "duration": 5,
    "start_time": "2023-01-26T12:47:40.918Z"
   },
   {
    "duration": 8,
    "start_time": "2023-01-26T12:48:14.162Z"
   },
   {
    "duration": 5,
    "start_time": "2023-01-26T12:48:14.556Z"
   },
   {
    "duration": 4,
    "start_time": "2023-01-26T12:48:16.003Z"
   },
   {
    "duration": 29691,
    "start_time": "2023-01-26T12:48:17.899Z"
   },
   {
    "duration": 5,
    "start_time": "2023-01-26T12:54:13.809Z"
   },
   {
    "duration": 18,
    "start_time": "2023-01-26T12:54:14.626Z"
   },
   {
    "duration": 4,
    "start_time": "2023-01-26T12:54:24.922Z"
   },
   {
    "duration": 3,
    "start_time": "2023-01-26T12:54:25.563Z"
   },
   {
    "duration": 17,
    "start_time": "2023-01-26T12:54:29.474Z"
   },
   {
    "duration": 4,
    "start_time": "2023-01-26T12:54:57.875Z"
   },
   {
    "duration": 6,
    "start_time": "2023-01-26T12:55:23.823Z"
   },
   {
    "duration": 6,
    "start_time": "2023-01-26T12:55:24.352Z"
   },
   {
    "duration": 11,
    "start_time": "2023-01-26T12:55:25.579Z"
   },
   {
    "duration": 25835,
    "start_time": "2023-01-26T12:55:31.362Z"
   },
   {
    "duration": 4,
    "start_time": "2023-01-26T12:58:04.115Z"
   },
   {
    "duration": 6,
    "start_time": "2023-01-26T12:58:04.634Z"
   },
   {
    "duration": 5,
    "start_time": "2023-01-26T12:58:06.914Z"
   },
   {
    "duration": 16,
    "start_time": "2023-01-26T12:58:34.701Z"
   },
   {
    "duration": 5,
    "start_time": "2023-01-26T12:58:35.162Z"
   },
   {
    "duration": 30187,
    "start_time": "2023-01-26T12:58:39.823Z"
   },
   {
    "duration": 7,
    "start_time": "2023-01-26T12:59:21.332Z"
   },
   {
    "duration": 5,
    "start_time": "2023-01-26T12:59:22.436Z"
   },
   {
    "duration": 521,
    "start_time": "2023-01-26T12:59:23.266Z"
   },
   {
    "duration": 763,
    "start_time": "2023-01-26T12:59:51.777Z"
   },
   {
    "duration": 7,
    "start_time": "2023-01-26T13:00:16.342Z"
   },
   {
    "duration": 7,
    "start_time": "2023-01-26T13:00:17.403Z"
   },
   {
    "duration": 10610,
    "start_time": "2023-01-26T13:00:18.422Z"
   },
   {
    "duration": 6,
    "start_time": "2023-01-26T13:01:46.727Z"
   },
   {
    "duration": 6,
    "start_time": "2023-01-26T13:01:47.181Z"
   },
   {
    "duration": 25868,
    "start_time": "2023-01-26T13:01:47.636Z"
   },
   {
    "duration": 2043,
    "start_time": "2023-01-26T13:04:55.514Z"
   },
   {
    "duration": 58,
    "start_time": "2023-01-26T13:04:57.560Z"
   },
   {
    "duration": 49,
    "start_time": "2023-01-26T13:04:57.622Z"
   },
   {
    "duration": 15,
    "start_time": "2023-01-26T13:04:57.673Z"
   },
   {
    "duration": 33,
    "start_time": "2023-01-26T13:04:57.694Z"
   },
   {
    "duration": 21,
    "start_time": "2023-01-26T13:04:57.729Z"
   },
   {
    "duration": 12,
    "start_time": "2023-01-26T13:04:57.752Z"
   },
   {
    "duration": 32,
    "start_time": "2023-01-26T13:04:57.766Z"
   },
   {
    "duration": 940,
    "start_time": "2023-01-26T13:04:57.800Z"
   },
   {
    "duration": 3,
    "start_time": "2023-01-26T13:04:58.742Z"
   },
   {
    "duration": 25,
    "start_time": "2023-01-26T13:04:58.747Z"
   },
   {
    "duration": 11,
    "start_time": "2023-01-26T13:04:58.784Z"
   },
   {
    "duration": 36,
    "start_time": "2023-01-26T13:04:58.797Z"
   },
   {
    "duration": 112,
    "start_time": "2023-01-26T13:04:58.838Z"
   },
   {
    "duration": 12,
    "start_time": "2023-01-26T13:04:58.952Z"
   },
   {
    "duration": 8,
    "start_time": "2023-01-26T13:04:58.967Z"
   },
   {
    "duration": 52,
    "start_time": "2023-01-26T13:04:58.978Z"
   },
   {
    "duration": 5,
    "start_time": "2023-01-26T13:04:59.033Z"
   },
   {
    "duration": 12,
    "start_time": "2023-01-26T13:04:59.040Z"
   },
   {
    "duration": 20,
    "start_time": "2023-01-26T13:04:59.054Z"
   },
   {
    "duration": 663651,
    "start_time": "2023-01-26T13:04:59.076Z"
   },
   {
    "duration": 15,
    "start_time": "2023-01-26T13:16:02.791Z"
   },
   {
    "duration": 38,
    "start_time": "2023-01-26T13:16:02.809Z"
   },
   {
    "duration": 195,
    "start_time": "2023-01-26T13:16:02.850Z"
   },
   {
    "duration": 220,
    "start_time": "2023-01-26T13:16:03.047Z"
   },
   {
    "duration": 33,
    "start_time": "2023-01-26T13:16:03.270Z"
   },
   {
    "duration": 12,
    "start_time": "2023-01-26T13:16:03.310Z"
   },
   {
    "duration": 7,
    "start_time": "2023-01-26T13:16:03.325Z"
   },
   {
    "duration": 10,
    "start_time": "2023-01-26T13:16:03.335Z"
   },
   {
    "duration": 26390,
    "start_time": "2023-01-26T13:16:03.347Z"
   },
   {
    "duration": 232,
    "start_time": "2023-01-26T13:16:29.745Z"
   },
   {
    "duration": 24,
    "start_time": "2023-01-26T13:21:55.729Z"
   },
   {
    "duration": 38,
    "start_time": "2023-01-26T13:22:30.555Z"
   },
   {
    "duration": 27192,
    "start_time": "2023-01-26T13:22:38.451Z"
   },
   {
    "duration": 51,
    "start_time": "2023-01-26T13:23:05.683Z"
   },
   {
    "duration": 32021,
    "start_time": "2023-01-26T13:23:09.098Z"
   },
   {
    "duration": 94,
    "start_time": "2023-01-26T13:23:41.122Z"
   },
   {
    "duration": 6,
    "start_time": "2023-01-26T13:26:42.447Z"
   },
   {
    "duration": 46,
    "start_time": "2023-01-26T13:28:56.703Z"
   },
   {
    "duration": 5,
    "start_time": "2023-01-26T13:29:07.704Z"
   },
   {
    "duration": 30996,
    "start_time": "2023-01-26T13:29:44.510Z"
   },
   {
    "duration": 5,
    "start_time": "2023-01-26T13:30:15.512Z"
   },
   {
    "duration": 6,
    "start_time": "2023-01-26T13:30:34.912Z"
   },
   {
    "duration": 4,
    "start_time": "2023-01-26T13:31:23.862Z"
   },
   {
    "duration": 6,
    "start_time": "2023-01-26T13:31:31.545Z"
   },
   {
    "duration": 6,
    "start_time": "2023-01-26T13:31:44.503Z"
   },
   {
    "duration": 43,
    "start_time": "2023-01-26T13:34:36.523Z"
   },
   {
    "duration": 69,
    "start_time": "2023-01-26T13:34:50.043Z"
   },
   {
    "duration": 157,
    "start_time": "2023-01-26T13:35:07.954Z"
   },
   {
    "duration": 52,
    "start_time": "2023-01-26T13:35:28.930Z"
   },
   {
    "duration": 61,
    "start_time": "2023-01-26T13:35:48.011Z"
   },
   {
    "duration": 8,
    "start_time": "2023-01-26T13:36:04.348Z"
   },
   {
    "duration": 12,
    "start_time": "2023-01-26T13:36:26.530Z"
   },
   {
    "duration": 56,
    "start_time": "2023-01-26T13:37:50.620Z"
   },
   {
    "duration": 11,
    "start_time": "2023-01-26T13:38:14.111Z"
   },
   {
    "duration": 13,
    "start_time": "2023-01-26T13:38:32.610Z"
   },
   {
    "duration": 8,
    "start_time": "2023-01-26T13:38:58.781Z"
   },
   {
    "duration": 5,
    "start_time": "2023-01-26T13:41:36.174Z"
   },
   {
    "duration": 19,
    "start_time": "2023-01-26T13:50:15.631Z"
   },
   {
    "duration": 35,
    "start_time": "2023-01-26T13:50:22.378Z"
   },
   {
    "duration": 13,
    "start_time": "2023-01-26T13:50:52.151Z"
   },
   {
    "duration": 15,
    "start_time": "2023-01-26T13:51:17.011Z"
   },
   {
    "duration": 1847,
    "start_time": "2023-01-26T13:51:43.831Z"
   },
   {
    "duration": 53,
    "start_time": "2023-01-26T13:51:45.680Z"
   },
   {
    "duration": 39,
    "start_time": "2023-01-26T13:51:45.736Z"
   },
   {
    "duration": 7,
    "start_time": "2023-01-26T13:51:45.777Z"
   },
   {
    "duration": 52,
    "start_time": "2023-01-26T13:51:45.789Z"
   },
   {
    "duration": 41,
    "start_time": "2023-01-26T13:51:45.843Z"
   },
   {
    "duration": 54,
    "start_time": "2023-01-26T13:51:45.888Z"
   },
   {
    "duration": 1129,
    "start_time": "2023-01-26T13:51:45.944Z"
   },
   {
    "duration": 21,
    "start_time": "2023-01-26T13:51:47.076Z"
   },
   {
    "duration": 41,
    "start_time": "2023-01-26T13:51:47.099Z"
   },
   {
    "duration": 8,
    "start_time": "2023-01-26T13:51:47.143Z"
   },
   {
    "duration": 14,
    "start_time": "2023-01-26T13:51:47.154Z"
   },
   {
    "duration": 58,
    "start_time": "2023-01-26T13:51:47.170Z"
   },
   {
    "duration": 3,
    "start_time": "2023-01-26T13:51:47.230Z"
   },
   {
    "duration": 10,
    "start_time": "2023-01-26T13:51:47.235Z"
   },
   {
    "duration": 9,
    "start_time": "2023-01-26T13:51:47.248Z"
   },
   {
    "duration": 1790,
    "start_time": "2023-01-26T13:52:50.663Z"
   },
   {
    "duration": 47,
    "start_time": "2023-01-26T13:52:52.455Z"
   },
   {
    "duration": 50,
    "start_time": "2023-01-26T13:52:52.503Z"
   },
   {
    "duration": 3,
    "start_time": "2023-01-26T13:52:52.555Z"
   },
   {
    "duration": 34,
    "start_time": "2023-01-26T13:52:52.561Z"
   },
   {
    "duration": 38,
    "start_time": "2023-01-26T13:52:52.597Z"
   },
   {
    "duration": 28,
    "start_time": "2023-01-26T13:52:52.637Z"
   },
   {
    "duration": 1090,
    "start_time": "2023-01-26T13:52:52.667Z"
   },
   {
    "duration": 12,
    "start_time": "2023-01-26T13:52:53.759Z"
   },
   {
    "duration": 31,
    "start_time": "2023-01-26T13:52:53.784Z"
   },
   {
    "duration": 33,
    "start_time": "2023-01-26T13:52:53.820Z"
   },
   {
    "duration": 26,
    "start_time": "2023-01-26T13:52:53.855Z"
   },
   {
    "duration": 66,
    "start_time": "2023-01-26T13:52:53.884Z"
   },
   {
    "duration": 25,
    "start_time": "2023-01-26T13:52:53.954Z"
   },
   {
    "duration": 65,
    "start_time": "2023-01-26T13:52:53.981Z"
   },
   {
    "duration": 62,
    "start_time": "2023-01-26T13:52:54.048Z"
   },
   {
    "duration": 21163,
    "start_time": "2023-01-26T13:52:54.112Z"
   },
   {
    "duration": 25,
    "start_time": "2023-01-26T13:53:15.277Z"
   },
   {
    "duration": 0,
    "start_time": "2023-01-26T13:53:15.305Z"
   },
   {
    "duration": 0,
    "start_time": "2023-01-26T13:53:15.306Z"
   },
   {
    "duration": 0,
    "start_time": "2023-01-26T13:53:15.307Z"
   },
   {
    "duration": 0,
    "start_time": "2023-01-26T13:53:15.309Z"
   },
   {
    "duration": 0,
    "start_time": "2023-01-26T13:53:15.315Z"
   },
   {
    "duration": 0,
    "start_time": "2023-01-26T13:53:15.317Z"
   },
   {
    "duration": 0,
    "start_time": "2023-01-26T13:53:15.318Z"
   },
   {
    "duration": 0,
    "start_time": "2023-01-26T13:53:15.320Z"
   },
   {
    "duration": 0,
    "start_time": "2023-01-26T13:53:15.322Z"
   },
   {
    "duration": 0,
    "start_time": "2023-01-26T13:53:15.323Z"
   },
   {
    "duration": 15,
    "start_time": "2023-01-26T13:53:17.113Z"
   },
   {
    "duration": 1642,
    "start_time": "2023-01-26T13:53:23.138Z"
   },
   {
    "duration": 56,
    "start_time": "2023-01-26T13:53:24.786Z"
   },
   {
    "duration": 32,
    "start_time": "2023-01-26T13:53:24.844Z"
   },
   {
    "duration": 3,
    "start_time": "2023-01-26T13:53:24.878Z"
   },
   {
    "duration": 43,
    "start_time": "2023-01-26T13:53:24.883Z"
   },
   {
    "duration": 12,
    "start_time": "2023-01-26T13:53:24.928Z"
   },
   {
    "duration": 13,
    "start_time": "2023-01-26T13:53:24.942Z"
   },
   {
    "duration": 1016,
    "start_time": "2023-01-26T13:53:24.957Z"
   },
   {
    "duration": 19,
    "start_time": "2023-01-26T13:53:25.975Z"
   },
   {
    "duration": 38,
    "start_time": "2023-01-26T13:53:25.998Z"
   },
   {
    "duration": 6,
    "start_time": "2023-01-26T13:53:26.037Z"
   },
   {
    "duration": 9,
    "start_time": "2023-01-26T13:53:26.044Z"
   },
   {
    "duration": 17,
    "start_time": "2023-01-26T13:53:26.054Z"
   },
   {
    "duration": 14,
    "start_time": "2023-01-26T13:53:26.073Z"
   },
   {
    "duration": 25,
    "start_time": "2023-01-26T13:53:26.091Z"
   },
   {
    "duration": 9,
    "start_time": "2023-01-26T13:53:26.118Z"
   },
   {
    "duration": 1948,
    "start_time": "2023-01-26T13:53:48.507Z"
   },
   {
    "duration": 54,
    "start_time": "2023-01-26T13:53:50.457Z"
   },
   {
    "duration": 36,
    "start_time": "2023-01-26T13:53:50.514Z"
   },
   {
    "duration": 5,
    "start_time": "2023-01-26T13:53:50.553Z"
   },
   {
    "duration": 75,
    "start_time": "2023-01-26T13:53:50.560Z"
   },
   {
    "duration": 10,
    "start_time": "2023-01-26T13:53:50.637Z"
   },
   {
    "duration": 32,
    "start_time": "2023-01-26T13:53:50.649Z"
   },
   {
    "duration": 1096,
    "start_time": "2023-01-26T13:53:50.683Z"
   },
   {
    "duration": 15,
    "start_time": "2023-01-26T13:53:51.784Z"
   },
   {
    "duration": 24,
    "start_time": "2023-01-26T13:53:51.809Z"
   },
   {
    "duration": 6,
    "start_time": "2023-01-26T13:53:51.834Z"
   },
   {
    "duration": 10,
    "start_time": "2023-01-26T13:53:51.842Z"
   },
   {
    "duration": 18,
    "start_time": "2023-01-26T13:53:51.853Z"
   },
   {
    "duration": 13,
    "start_time": "2023-01-26T13:53:51.872Z"
   },
   {
    "duration": 34,
    "start_time": "2023-01-26T13:53:51.889Z"
   },
   {
    "duration": 10,
    "start_time": "2023-01-26T13:53:51.925Z"
   },
   {
    "duration": 1714,
    "start_time": "2023-01-26T13:55:40.679Z"
   },
   {
    "duration": 48,
    "start_time": "2023-01-26T13:55:42.399Z"
   },
   {
    "duration": 39,
    "start_time": "2023-01-26T13:55:42.449Z"
   },
   {
    "duration": 5,
    "start_time": "2023-01-26T13:55:42.491Z"
   },
   {
    "duration": 28,
    "start_time": "2023-01-26T13:55:42.498Z"
   },
   {
    "duration": 7,
    "start_time": "2023-01-26T13:55:42.527Z"
   },
   {
    "duration": 15,
    "start_time": "2023-01-26T13:55:42.536Z"
   },
   {
    "duration": 1001,
    "start_time": "2023-01-26T13:55:42.553Z"
   },
   {
    "duration": 14,
    "start_time": "2023-01-26T13:55:43.556Z"
   },
   {
    "duration": 37,
    "start_time": "2023-01-26T13:55:43.573Z"
   },
   {
    "duration": 4,
    "start_time": "2023-01-26T13:55:43.620Z"
   },
   {
    "duration": 8,
    "start_time": "2023-01-26T13:55:43.626Z"
   },
   {
    "duration": 22,
    "start_time": "2023-01-26T13:55:43.636Z"
   },
   {
    "duration": 4,
    "start_time": "2023-01-26T13:55:43.659Z"
   },
   {
    "duration": 13,
    "start_time": "2023-01-26T13:55:43.664Z"
   },
   {
    "duration": 28,
    "start_time": "2023-01-26T13:55:43.680Z"
   },
   {
    "duration": 1704,
    "start_time": "2023-01-26T13:56:05.433Z"
   },
   {
    "duration": 41,
    "start_time": "2023-01-26T13:56:07.139Z"
   },
   {
    "duration": 42,
    "start_time": "2023-01-26T13:56:07.182Z"
   },
   {
    "duration": 3,
    "start_time": "2023-01-26T13:56:07.226Z"
   },
   {
    "duration": 17,
    "start_time": "2023-01-26T13:56:07.231Z"
   },
   {
    "duration": 9,
    "start_time": "2023-01-26T13:56:07.249Z"
   },
   {
    "duration": 34,
    "start_time": "2023-01-26T13:56:07.260Z"
   },
   {
    "duration": 818,
    "start_time": "2023-01-26T13:56:07.296Z"
   },
   {
    "duration": 11,
    "start_time": "2023-01-26T13:56:08.116Z"
   },
   {
    "duration": 21,
    "start_time": "2023-01-26T13:56:08.129Z"
   },
   {
    "duration": 10,
    "start_time": "2023-01-26T13:56:08.152Z"
   },
   {
    "duration": 7,
    "start_time": "2023-01-26T13:56:08.164Z"
   },
   {
    "duration": 120,
    "start_time": "2023-01-26T13:56:08.188Z"
   },
   {
    "duration": 4,
    "start_time": "2023-01-26T13:56:08.317Z"
   },
   {
    "duration": 11,
    "start_time": "2023-01-26T13:56:08.323Z"
   },
   {
    "duration": 7,
    "start_time": "2023-01-26T13:56:08.335Z"
   },
   {
    "duration": 530731,
    "start_time": "2023-01-26T13:56:08.343Z"
   },
   {
    "duration": 39,
    "start_time": "2023-01-26T14:04:59.076Z"
   },
   {
    "duration": 0,
    "start_time": "2023-01-26T14:04:59.117Z"
   },
   {
    "duration": 0,
    "start_time": "2023-01-26T14:04:59.119Z"
   },
   {
    "duration": 0,
    "start_time": "2023-01-26T14:04:59.120Z"
   },
   {
    "duration": 0,
    "start_time": "2023-01-26T14:04:59.122Z"
   },
   {
    "duration": 0,
    "start_time": "2023-01-26T14:04:59.123Z"
   },
   {
    "duration": 0,
    "start_time": "2023-01-26T14:04:59.124Z"
   },
   {
    "duration": 0,
    "start_time": "2023-01-26T14:04:59.125Z"
   },
   {
    "duration": 0,
    "start_time": "2023-01-26T14:04:59.127Z"
   },
   {
    "duration": 0,
    "start_time": "2023-01-26T14:04:59.129Z"
   },
   {
    "duration": 1995,
    "start_time": "2023-01-26T14:05:05.033Z"
   },
   {
    "duration": 55,
    "start_time": "2023-01-26T14:05:07.042Z"
   },
   {
    "duration": 43,
    "start_time": "2023-01-26T14:05:07.099Z"
   },
   {
    "duration": 3,
    "start_time": "2023-01-26T14:05:07.145Z"
   },
   {
    "duration": 11,
    "start_time": "2023-01-26T14:05:07.150Z"
   },
   {
    "duration": 6,
    "start_time": "2023-01-26T14:05:07.164Z"
   },
   {
    "duration": 29,
    "start_time": "2023-01-26T14:05:07.172Z"
   },
   {
    "duration": 866,
    "start_time": "2023-01-26T14:05:07.203Z"
   },
   {
    "duration": 24,
    "start_time": "2023-01-26T14:05:08.072Z"
   },
   {
    "duration": 159,
    "start_time": "2023-01-26T14:05:08.106Z"
   },
   {
    "duration": 29,
    "start_time": "2023-01-26T14:05:08.267Z"
   },
   {
    "duration": 38,
    "start_time": "2023-01-26T14:05:08.298Z"
   },
   {
    "duration": 29,
    "start_time": "2023-01-26T14:05:08.338Z"
   },
   {
    "duration": 45,
    "start_time": "2023-01-26T14:05:08.369Z"
   },
   {
    "duration": 39,
    "start_time": "2023-01-26T14:05:08.417Z"
   },
   {
    "duration": 12,
    "start_time": "2023-01-26T14:05:08.458Z"
   },
   {
    "duration": 1914526,
    "start_time": "2023-01-26T14:05:08.472Z"
   },
   {
    "duration": 12,
    "start_time": "2023-01-26T14:37:03.000Z"
   },
   {
    "duration": 13,
    "start_time": "2023-01-26T14:37:03.013Z"
   },
   {
    "duration": 177,
    "start_time": "2023-01-26T14:37:03.028Z"
   },
   {
    "duration": 139,
    "start_time": "2023-01-26T14:37:03.206Z"
   },
   {
    "duration": 11,
    "start_time": "2023-01-26T14:37:03.347Z"
   },
   {
    "duration": 4,
    "start_time": "2023-01-26T14:37:03.360Z"
   },
   {
    "duration": 34,
    "start_time": "2023-01-26T14:37:03.366Z"
   },
   {
    "duration": 8,
    "start_time": "2023-01-26T14:37:03.402Z"
   },
   {
    "duration": 2102,
    "start_time": "2023-01-26T14:37:03.412Z"
   },
   {
    "duration": 70,
    "start_time": "2023-01-26T14:37:05.516Z"
   },
   {
    "duration": 140,
    "start_time": "2023-01-26T14:38:17.981Z"
   },
   {
    "duration": 146,
    "start_time": "2023-01-26T14:38:26.462Z"
   },
   {
    "duration": 2208,
    "start_time": "2023-01-27T06:40:00.978Z"
   },
   {
    "duration": 185,
    "start_time": "2023-01-27T06:40:03.189Z"
   },
   {
    "duration": 53,
    "start_time": "2023-01-27T06:40:03.376Z"
   },
   {
    "duration": 5,
    "start_time": "2023-01-27T06:40:03.431Z"
   },
   {
    "duration": 88,
    "start_time": "2023-01-27T06:40:03.440Z"
   },
   {
    "duration": 16,
    "start_time": "2023-01-27T06:40:03.532Z"
   },
   {
    "duration": 66,
    "start_time": "2023-01-27T06:40:03.551Z"
   },
   {
    "duration": 1042,
    "start_time": "2023-01-27T06:40:03.620Z"
   },
   {
    "duration": 25,
    "start_time": "2023-01-27T06:40:04.664Z"
   },
   {
    "duration": 48,
    "start_time": "2023-01-27T06:40:04.691Z"
   },
   {
    "duration": 26,
    "start_time": "2023-01-27T06:40:04.741Z"
   },
   {
    "duration": 50,
    "start_time": "2023-01-27T06:40:04.769Z"
   },
   {
    "duration": 49,
    "start_time": "2023-01-27T06:40:04.822Z"
   },
   {
    "duration": 65,
    "start_time": "2023-01-27T06:40:04.875Z"
   },
   {
    "duration": 35,
    "start_time": "2023-01-27T06:40:04.943Z"
   },
   {
    "duration": 43,
    "start_time": "2023-01-27T06:40:04.981Z"
   },
   {
    "duration": 27722,
    "start_time": "2023-01-27T06:40:05.027Z"
   },
   {
    "duration": 11,
    "start_time": "2023-01-27T06:40:32.751Z"
   },
   {
    "duration": 0,
    "start_time": "2023-01-27T06:40:32.765Z"
   },
   {
    "duration": 0,
    "start_time": "2023-01-27T06:40:32.766Z"
   },
   {
    "duration": 0,
    "start_time": "2023-01-27T06:40:32.768Z"
   },
   {
    "duration": 0,
    "start_time": "2023-01-27T06:40:32.769Z"
   },
   {
    "duration": 0,
    "start_time": "2023-01-27T06:40:32.771Z"
   },
   {
    "duration": 0,
    "start_time": "2023-01-27T06:40:32.772Z"
   },
   {
    "duration": 0,
    "start_time": "2023-01-27T06:40:32.773Z"
   },
   {
    "duration": 0,
    "start_time": "2023-01-27T06:40:32.775Z"
   },
   {
    "duration": 0,
    "start_time": "2023-01-27T06:40:32.777Z"
   },
   {
    "duration": 1911,
    "start_time": "2023-01-27T06:41:06.325Z"
   },
   {
    "duration": 52,
    "start_time": "2023-01-27T06:41:08.240Z"
   },
   {
    "duration": 33,
    "start_time": "2023-01-27T06:41:08.294Z"
   },
   {
    "duration": 4,
    "start_time": "2023-01-27T06:41:08.329Z"
   },
   {
    "duration": 1374,
    "start_time": "2023-01-27T06:41:08.337Z"
   },
   {
    "duration": 0,
    "start_time": "2023-01-27T06:41:09.714Z"
   },
   {
    "duration": 1,
    "start_time": "2023-01-27T06:41:09.715Z"
   },
   {
    "duration": 0,
    "start_time": "2023-01-27T06:41:09.718Z"
   },
   {
    "duration": 0,
    "start_time": "2023-01-27T06:41:09.719Z"
   },
   {
    "duration": 0,
    "start_time": "2023-01-27T06:41:09.721Z"
   },
   {
    "duration": 0,
    "start_time": "2023-01-27T06:41:09.723Z"
   },
   {
    "duration": 1,
    "start_time": "2023-01-27T06:41:09.725Z"
   },
   {
    "duration": 0,
    "start_time": "2023-01-27T06:41:09.727Z"
   },
   {
    "duration": 0,
    "start_time": "2023-01-27T06:41:09.729Z"
   },
   {
    "duration": 0,
    "start_time": "2023-01-27T06:41:09.732Z"
   },
   {
    "duration": 0,
    "start_time": "2023-01-27T06:41:09.734Z"
   },
   {
    "duration": 0,
    "start_time": "2023-01-27T06:41:09.736Z"
   },
   {
    "duration": 0,
    "start_time": "2023-01-27T06:41:09.737Z"
   },
   {
    "duration": 0,
    "start_time": "2023-01-27T06:41:09.738Z"
   },
   {
    "duration": 0,
    "start_time": "2023-01-27T06:41:09.739Z"
   },
   {
    "duration": 0,
    "start_time": "2023-01-27T06:41:09.741Z"
   },
   {
    "duration": 0,
    "start_time": "2023-01-27T06:41:09.742Z"
   },
   {
    "duration": 0,
    "start_time": "2023-01-27T06:41:09.744Z"
   },
   {
    "duration": 0,
    "start_time": "2023-01-27T06:41:09.746Z"
   },
   {
    "duration": 0,
    "start_time": "2023-01-27T06:41:09.748Z"
   },
   {
    "duration": 0,
    "start_time": "2023-01-27T06:41:09.749Z"
   },
   {
    "duration": 0,
    "start_time": "2023-01-27T06:41:09.751Z"
   },
   {
    "duration": 1757,
    "start_time": "2023-01-27T06:42:10.309Z"
   },
   {
    "duration": 60,
    "start_time": "2023-01-27T06:42:12.069Z"
   },
   {
    "duration": 30,
    "start_time": "2023-01-27T06:42:12.131Z"
   },
   {
    "duration": 9,
    "start_time": "2023-01-27T06:42:12.164Z"
   },
   {
    "duration": 1069,
    "start_time": "2023-01-27T06:42:12.176Z"
   },
   {
    "duration": 0,
    "start_time": "2023-01-27T06:42:13.248Z"
   },
   {
    "duration": 0,
    "start_time": "2023-01-27T06:42:13.249Z"
   },
   {
    "duration": 0,
    "start_time": "2023-01-27T06:42:13.251Z"
   },
   {
    "duration": 0,
    "start_time": "2023-01-27T06:42:13.252Z"
   },
   {
    "duration": 0,
    "start_time": "2023-01-27T06:42:13.254Z"
   },
   {
    "duration": 0,
    "start_time": "2023-01-27T06:42:13.255Z"
   },
   {
    "duration": 0,
    "start_time": "2023-01-27T06:42:13.257Z"
   },
   {
    "duration": 1,
    "start_time": "2023-01-27T06:42:13.257Z"
   },
   {
    "duration": 0,
    "start_time": "2023-01-27T06:42:13.259Z"
   },
   {
    "duration": 0,
    "start_time": "2023-01-27T06:42:13.260Z"
   },
   {
    "duration": 0,
    "start_time": "2023-01-27T06:42:13.262Z"
   },
   {
    "duration": 0,
    "start_time": "2023-01-27T06:42:13.263Z"
   },
   {
    "duration": 0,
    "start_time": "2023-01-27T06:42:13.264Z"
   },
   {
    "duration": 0,
    "start_time": "2023-01-27T06:42:13.265Z"
   },
   {
    "duration": 0,
    "start_time": "2023-01-27T06:42:13.267Z"
   },
   {
    "duration": 0,
    "start_time": "2023-01-27T06:42:13.268Z"
   },
   {
    "duration": 0,
    "start_time": "2023-01-27T06:42:13.270Z"
   },
   {
    "duration": 0,
    "start_time": "2023-01-27T06:42:13.271Z"
   },
   {
    "duration": 0,
    "start_time": "2023-01-27T06:42:13.272Z"
   },
   {
    "duration": 0,
    "start_time": "2023-01-27T06:42:13.274Z"
   },
   {
    "duration": 0,
    "start_time": "2023-01-27T06:42:13.275Z"
   },
   {
    "duration": 0,
    "start_time": "2023-01-27T06:42:13.277Z"
   },
   {
    "duration": 1737,
    "start_time": "2023-01-27T06:43:03.759Z"
   },
   {
    "duration": 164,
    "start_time": "2023-01-27T06:43:05.502Z"
   },
   {
    "duration": 34,
    "start_time": "2023-01-27T06:43:05.668Z"
   },
   {
    "duration": 5,
    "start_time": "2023-01-27T06:43:05.705Z"
   },
   {
    "duration": 937,
    "start_time": "2023-01-27T06:43:05.714Z"
   },
   {
    "duration": 0,
    "start_time": "2023-01-27T06:43:06.654Z"
   },
   {
    "duration": 0,
    "start_time": "2023-01-27T06:43:06.656Z"
   },
   {
    "duration": 0,
    "start_time": "2023-01-27T06:43:06.657Z"
   },
   {
    "duration": 0,
    "start_time": "2023-01-27T06:43:06.659Z"
   },
   {
    "duration": 0,
    "start_time": "2023-01-27T06:43:06.660Z"
   },
   {
    "duration": 0,
    "start_time": "2023-01-27T06:43:06.662Z"
   },
   {
    "duration": 0,
    "start_time": "2023-01-27T06:43:06.663Z"
   },
   {
    "duration": 0,
    "start_time": "2023-01-27T06:43:06.665Z"
   },
   {
    "duration": 0,
    "start_time": "2023-01-27T06:43:06.667Z"
   },
   {
    "duration": 0,
    "start_time": "2023-01-27T06:43:06.668Z"
   },
   {
    "duration": 0,
    "start_time": "2023-01-27T06:43:06.669Z"
   },
   {
    "duration": 0,
    "start_time": "2023-01-27T06:43:06.671Z"
   },
   {
    "duration": 1,
    "start_time": "2023-01-27T06:43:06.672Z"
   },
   {
    "duration": 0,
    "start_time": "2023-01-27T06:43:06.674Z"
   },
   {
    "duration": 0,
    "start_time": "2023-01-27T06:43:06.675Z"
   },
   {
    "duration": 0,
    "start_time": "2023-01-27T06:43:06.676Z"
   },
   {
    "duration": 0,
    "start_time": "2023-01-27T06:43:06.678Z"
   },
   {
    "duration": 0,
    "start_time": "2023-01-27T06:43:06.679Z"
   },
   {
    "duration": 1,
    "start_time": "2023-01-27T06:43:06.680Z"
   },
   {
    "duration": 0,
    "start_time": "2023-01-27T06:43:06.682Z"
   },
   {
    "duration": 0,
    "start_time": "2023-01-27T06:43:06.682Z"
   },
   {
    "duration": 0,
    "start_time": "2023-01-27T06:43:06.686Z"
   },
   {
    "duration": 41,
    "start_time": "2023-01-27T06:44:07.437Z"
   },
   {
    "duration": 34,
    "start_time": "2023-01-27T06:44:14.449Z"
   },
   {
    "duration": 4,
    "start_time": "2023-01-27T06:44:15.321Z"
   },
   {
    "duration": 13,
    "start_time": "2023-01-27T06:44:16.121Z"
   },
   {
    "duration": 66,
    "start_time": "2023-01-27T06:45:07.570Z"
   },
   {
    "duration": 24,
    "start_time": "2023-01-27T06:45:09.114Z"
   },
   {
    "duration": 4,
    "start_time": "2023-01-27T06:45:10.856Z"
   },
   {
    "duration": 5,
    "start_time": "2023-01-27T06:45:13.006Z"
   },
   {
    "duration": 15,
    "start_time": "2023-01-27T06:45:13.656Z"
   },
   {
    "duration": 4,
    "start_time": "2023-01-27T06:45:20.873Z"
   },
   {
    "duration": 12,
    "start_time": "2023-01-27T06:45:22.657Z"
   },
   {
    "duration": 859,
    "start_time": "2023-01-27T06:45:36.977Z"
   },
   {
    "duration": 1181,
    "start_time": "2023-01-27T06:45:53.209Z"
   },
   {
    "duration": 1068,
    "start_time": "2023-01-27T06:46:12.220Z"
   },
   {
    "duration": 1070,
    "start_time": "2023-01-27T06:47:52.242Z"
   },
   {
    "duration": 898,
    "start_time": "2023-01-27T06:48:21.302Z"
   },
   {
    "duration": 914,
    "start_time": "2023-01-27T06:48:47.826Z"
   },
   {
    "duration": 943,
    "start_time": "2023-01-27T06:49:35.801Z"
   },
   {
    "duration": 850,
    "start_time": "2023-01-27T07:13:28.404Z"
   },
   {
    "duration": 931,
    "start_time": "2023-01-27T07:14:07.171Z"
   },
   {
    "duration": 877,
    "start_time": "2023-01-27T07:14:20.410Z"
   },
   {
    "duration": 715,
    "start_time": "2023-01-27T07:14:34.202Z"
   },
   {
    "duration": 694,
    "start_time": "2023-01-27T07:14:46.338Z"
   },
   {
    "duration": 799,
    "start_time": "2023-01-27T07:15:00.938Z"
   },
   {
    "duration": 5,
    "start_time": "2023-01-27T07:15:29.043Z"
   },
   {
    "duration": 554,
    "start_time": "2023-01-27T07:15:32.667Z"
   },
   {
    "duration": 377,
    "start_time": "2023-01-27T07:15:43.204Z"
   },
   {
    "duration": 381,
    "start_time": "2023-01-27T07:15:56.922Z"
   },
   {
    "duration": 600,
    "start_time": "2023-01-27T07:16:14.858Z"
   },
   {
    "duration": 647,
    "start_time": "2023-01-27T07:16:36.762Z"
   },
   {
    "duration": 632,
    "start_time": "2023-01-27T07:17:02.500Z"
   },
   {
    "duration": 507,
    "start_time": "2023-01-27T07:17:52.412Z"
   },
   {
    "duration": 660,
    "start_time": "2023-01-27T07:18:15.547Z"
   },
   {
    "duration": 619,
    "start_time": "2023-01-27T07:18:29.180Z"
   },
   {
    "duration": 589,
    "start_time": "2023-01-27T07:19:22.365Z"
   },
   {
    "duration": 653,
    "start_time": "2023-01-27T07:19:40.203Z"
   },
   {
    "duration": 257,
    "start_time": "2023-01-27T07:21:41.685Z"
   },
   {
    "duration": 204,
    "start_time": "2023-01-27T07:22:03.245Z"
   },
   {
    "duration": 217,
    "start_time": "2023-01-27T07:22:17.717Z"
   },
   {
    "duration": 213,
    "start_time": "2023-01-27T07:22:53.510Z"
   },
   {
    "duration": 263,
    "start_time": "2023-01-27T07:23:10.661Z"
   },
   {
    "duration": 268,
    "start_time": "2023-01-27T07:23:32.157Z"
   },
   {
    "duration": 1641,
    "start_time": "2023-01-27T07:24:37.272Z"
   },
   {
    "duration": 63,
    "start_time": "2023-01-27T07:24:38.916Z"
   },
   {
    "duration": 26,
    "start_time": "2023-01-27T07:24:38.981Z"
   },
   {
    "duration": 30,
    "start_time": "2023-01-27T07:24:39.009Z"
   },
   {
    "duration": 22,
    "start_time": "2023-01-27T07:24:39.041Z"
   },
   {
    "duration": 46,
    "start_time": "2023-01-27T07:24:39.064Z"
   },
   {
    "duration": 19,
    "start_time": "2023-01-27T07:24:39.112Z"
   },
   {
    "duration": 1046,
    "start_time": "2023-01-27T07:24:39.133Z"
   },
   {
    "duration": 622,
    "start_time": "2023-01-27T07:24:40.184Z"
   },
   {
    "duration": 214,
    "start_time": "2023-01-27T07:24:40.808Z"
   },
   {
    "duration": 11,
    "start_time": "2023-01-27T07:24:41.024Z"
   },
   {
    "duration": 41,
    "start_time": "2023-01-27T07:24:41.037Z"
   },
   {
    "duration": 22,
    "start_time": "2023-01-27T07:24:41.083Z"
   },
   {
    "duration": 10,
    "start_time": "2023-01-27T07:24:41.108Z"
   },
   {
    "duration": 37,
    "start_time": "2023-01-27T07:24:41.120Z"
   },
   {
    "duration": 8,
    "start_time": "2023-01-27T07:24:41.159Z"
   },
   {
    "duration": 28,
    "start_time": "2023-01-27T07:24:41.169Z"
   },
   {
    "duration": 19,
    "start_time": "2023-01-27T07:24:41.199Z"
   },
   {
    "duration": 80424,
    "start_time": "2023-01-27T07:24:41.220Z"
   },
   {
    "duration": 14,
    "start_time": "2023-01-27T07:26:01.646Z"
   },
   {
    "duration": 0,
    "start_time": "2023-01-27T07:26:01.662Z"
   },
   {
    "duration": 0,
    "start_time": "2023-01-27T07:26:01.664Z"
   },
   {
    "duration": 0,
    "start_time": "2023-01-27T07:26:01.665Z"
   },
   {
    "duration": 0,
    "start_time": "2023-01-27T07:26:01.666Z"
   },
   {
    "duration": 0,
    "start_time": "2023-01-27T07:26:01.667Z"
   },
   {
    "duration": 0,
    "start_time": "2023-01-27T07:26:01.670Z"
   },
   {
    "duration": 0,
    "start_time": "2023-01-27T07:26:01.672Z"
   },
   {
    "duration": 0,
    "start_time": "2023-01-27T07:26:01.673Z"
   },
   {
    "duration": 0,
    "start_time": "2023-01-27T07:26:01.675Z"
   },
   {
    "duration": 0,
    "start_time": "2023-01-27T07:26:01.684Z"
   },
   {
    "duration": 1727,
    "start_time": "2023-01-27T07:26:10.916Z"
   },
   {
    "duration": 50,
    "start_time": "2023-01-27T07:26:12.645Z"
   },
   {
    "duration": 27,
    "start_time": "2023-01-27T07:26:12.697Z"
   },
   {
    "duration": 4,
    "start_time": "2023-01-27T07:26:12.726Z"
   },
   {
    "duration": 8,
    "start_time": "2023-01-27T07:26:12.732Z"
   },
   {
    "duration": 6,
    "start_time": "2023-01-27T07:26:12.742Z"
   },
   {
    "duration": 44,
    "start_time": "2023-01-27T07:26:12.750Z"
   },
   {
    "duration": 1063,
    "start_time": "2023-01-27T07:26:12.796Z"
   },
   {
    "duration": 609,
    "start_time": "2023-01-27T07:26:13.861Z"
   },
   {
    "duration": 920,
    "start_time": "2023-01-27T07:26:14.472Z"
   },
   {
    "duration": 0,
    "start_time": "2023-01-27T07:26:15.396Z"
   },
   {
    "duration": 0,
    "start_time": "2023-01-27T07:26:15.398Z"
   },
   {
    "duration": 0,
    "start_time": "2023-01-27T07:26:15.400Z"
   },
   {
    "duration": 0,
    "start_time": "2023-01-27T07:26:15.402Z"
   },
   {
    "duration": 0,
    "start_time": "2023-01-27T07:26:15.403Z"
   },
   {
    "duration": 0,
    "start_time": "2023-01-27T07:26:15.404Z"
   },
   {
    "duration": 0,
    "start_time": "2023-01-27T07:26:15.406Z"
   },
   {
    "duration": 0,
    "start_time": "2023-01-27T07:26:15.407Z"
   },
   {
    "duration": 0,
    "start_time": "2023-01-27T07:26:15.409Z"
   },
   {
    "duration": 0,
    "start_time": "2023-01-27T07:26:15.410Z"
   },
   {
    "duration": 0,
    "start_time": "2023-01-27T07:26:15.412Z"
   },
   {
    "duration": 0,
    "start_time": "2023-01-27T07:26:15.413Z"
   },
   {
    "duration": 1,
    "start_time": "2023-01-27T07:26:15.414Z"
   },
   {
    "duration": 0,
    "start_time": "2023-01-27T07:26:15.416Z"
   },
   {
    "duration": 0,
    "start_time": "2023-01-27T07:26:15.418Z"
   },
   {
    "duration": 0,
    "start_time": "2023-01-27T07:26:15.420Z"
   },
   {
    "duration": 0,
    "start_time": "2023-01-27T07:26:15.422Z"
   },
   {
    "duration": 0,
    "start_time": "2023-01-27T07:26:15.423Z"
   },
   {
    "duration": 0,
    "start_time": "2023-01-27T07:26:15.425Z"
   },
   {
    "duration": 273,
    "start_time": "2023-01-27T07:26:57.855Z"
   },
   {
    "duration": 272,
    "start_time": "2023-01-27T07:27:21.821Z"
   },
   {
    "duration": 284,
    "start_time": "2023-01-27T07:27:42.151Z"
   },
   {
    "duration": 15,
    "start_time": "2023-01-27T07:28:15.533Z"
   },
   {
    "duration": 19,
    "start_time": "2023-01-27T07:28:28.687Z"
   },
   {
    "duration": 246,
    "start_time": "2023-01-27T07:28:38.301Z"
   },
   {
    "duration": 19,
    "start_time": "2023-01-27T07:28:51.236Z"
   },
   {
    "duration": 13,
    "start_time": "2023-01-27T07:30:33.282Z"
   },
   {
    "duration": 14,
    "start_time": "2023-01-27T07:30:43.838Z"
   },
   {
    "duration": 831,
    "start_time": "2023-01-27T07:30:57.750Z"
   },
   {
    "duration": 237,
    "start_time": "2023-01-27T07:31:16.335Z"
   },
   {
    "duration": 240,
    "start_time": "2023-01-27T07:31:22.196Z"
   },
   {
    "duration": 323,
    "start_time": "2023-01-27T07:31:32.294Z"
   },
   {
    "duration": 11,
    "start_time": "2023-01-27T07:32:30.917Z"
   },
   {
    "duration": 12,
    "start_time": "2023-01-27T07:32:51.669Z"
   },
   {
    "duration": 241,
    "start_time": "2023-01-27T07:33:34.303Z"
   },
   {
    "duration": 9,
    "start_time": "2023-01-27T07:33:45.425Z"
   },
   {
    "duration": 1815,
    "start_time": "2023-01-27T07:33:53.550Z"
   },
   {
    "duration": 50,
    "start_time": "2023-01-27T07:33:55.368Z"
   },
   {
    "duration": 32,
    "start_time": "2023-01-27T07:33:55.420Z"
   },
   {
    "duration": 31,
    "start_time": "2023-01-27T07:33:55.455Z"
   },
   {
    "duration": 39,
    "start_time": "2023-01-27T07:33:55.488Z"
   },
   {
    "duration": 36,
    "start_time": "2023-01-27T07:33:55.530Z"
   },
   {
    "duration": 49,
    "start_time": "2023-01-27T07:33:55.569Z"
   },
   {
    "duration": 971,
    "start_time": "2023-01-27T07:33:55.621Z"
   },
   {
    "duration": 621,
    "start_time": "2023-01-27T07:33:56.593Z"
   },
   {
    "duration": 13,
    "start_time": "2023-01-27T07:33:57.218Z"
   },
   {
    "duration": 54,
    "start_time": "2023-01-27T07:33:57.233Z"
   },
   {
    "duration": 52,
    "start_time": "2023-01-27T07:33:57.289Z"
   },
   {
    "duration": 55,
    "start_time": "2023-01-27T07:33:57.343Z"
   },
   {
    "duration": 53,
    "start_time": "2023-01-27T07:33:57.401Z"
   },
   {
    "duration": 49,
    "start_time": "2023-01-27T07:33:57.457Z"
   },
   {
    "duration": 32,
    "start_time": "2023-01-27T07:33:57.509Z"
   },
   {
    "duration": 44,
    "start_time": "2023-01-27T07:33:57.543Z"
   },
   {
    "duration": 39,
    "start_time": "2023-01-27T07:33:57.590Z"
   },
   {
    "duration": 26749,
    "start_time": "2023-01-27T07:33:57.632Z"
   },
   {
    "duration": 12,
    "start_time": "2023-01-27T07:34:24.383Z"
   },
   {
    "duration": 0,
    "start_time": "2023-01-27T07:34:24.397Z"
   },
   {
    "duration": 0,
    "start_time": "2023-01-27T07:34:24.399Z"
   },
   {
    "duration": 0,
    "start_time": "2023-01-27T07:34:24.400Z"
   },
   {
    "duration": 0,
    "start_time": "2023-01-27T07:34:24.403Z"
   },
   {
    "duration": 0,
    "start_time": "2023-01-27T07:34:24.405Z"
   },
   {
    "duration": 0,
    "start_time": "2023-01-27T07:34:24.407Z"
   },
   {
    "duration": 0,
    "start_time": "2023-01-27T07:34:24.409Z"
   },
   {
    "duration": 0,
    "start_time": "2023-01-27T07:34:24.411Z"
   },
   {
    "duration": 0,
    "start_time": "2023-01-27T07:34:24.413Z"
   },
   {
    "duration": 0,
    "start_time": "2023-01-27T07:34:24.415Z"
   },
   {
    "duration": 497,
    "start_time": "2023-01-27T07:34:26.702Z"
   },
   {
    "duration": 20,
    "start_time": "2023-01-27T07:34:59.117Z"
   },
   {
    "duration": 570,
    "start_time": "2023-01-27T07:35:12.789Z"
   },
   {
    "duration": 292,
    "start_time": "2023-01-27T07:36:18.997Z"
   },
   {
    "duration": 141,
    "start_time": "2023-01-27T07:36:47.134Z"
   },
   {
    "duration": 156,
    "start_time": "2023-01-27T07:37:44.764Z"
   },
   {
    "duration": 25,
    "start_time": "2023-01-27T07:37:50.400Z"
   },
   {
    "duration": 13,
    "start_time": "2023-01-27T07:37:57.413Z"
   },
   {
    "duration": 151,
    "start_time": "2023-01-27T07:38:02.167Z"
   },
   {
    "duration": 170,
    "start_time": "2023-01-27T07:39:46.454Z"
   },
   {
    "duration": 157,
    "start_time": "2023-01-27T07:39:58.646Z"
   },
   {
    "duration": 153,
    "start_time": "2023-01-27T07:40:01.957Z"
   },
   {
    "duration": 28816,
    "start_time": "2023-01-27T07:40:07.725Z"
   },
   {
    "duration": 37,
    "start_time": "2023-01-27T07:43:03.302Z"
   },
   {
    "duration": 15,
    "start_time": "2023-01-27T07:43:21.430Z"
   },
   {
    "duration": 1975,
    "start_time": "2023-01-27T07:43:28.945Z"
   },
   {
    "duration": 51,
    "start_time": "2023-01-27T07:43:30.922Z"
   },
   {
    "duration": 27,
    "start_time": "2023-01-27T07:43:30.974Z"
   },
   {
    "duration": 27,
    "start_time": "2023-01-27T07:43:31.003Z"
   },
   {
    "duration": 26,
    "start_time": "2023-01-27T07:43:31.031Z"
   },
   {
    "duration": 37,
    "start_time": "2023-01-27T07:43:31.058Z"
   },
   {
    "duration": 50,
    "start_time": "2023-01-27T07:43:31.097Z"
   },
   {
    "duration": 1095,
    "start_time": "2023-01-27T07:43:31.149Z"
   },
   {
    "duration": 613,
    "start_time": "2023-01-27T07:43:32.245Z"
   },
   {
    "duration": 13,
    "start_time": "2023-01-27T07:43:32.861Z"
   },
   {
    "duration": 19,
    "start_time": "2023-01-27T07:43:32.875Z"
   },
   {
    "duration": 4,
    "start_time": "2023-01-27T07:43:32.896Z"
   },
   {
    "duration": 11,
    "start_time": "2023-01-27T07:43:32.901Z"
   },
   {
    "duration": 31,
    "start_time": "2023-01-27T07:43:32.913Z"
   },
   {
    "duration": 4,
    "start_time": "2023-01-27T07:43:32.947Z"
   },
   {
    "duration": 8,
    "start_time": "2023-01-27T07:43:32.954Z"
   },
   {
    "duration": 20,
    "start_time": "2023-01-27T07:43:32.964Z"
   },
   {
    "duration": 71944,
    "start_time": "2023-01-27T07:43:32.986Z"
   },
   {
    "duration": 13,
    "start_time": "2023-01-27T07:44:44.931Z"
   },
   {
    "duration": 0,
    "start_time": "2023-01-27T07:44:44.946Z"
   },
   {
    "duration": 0,
    "start_time": "2023-01-27T07:44:44.948Z"
   },
   {
    "duration": 0,
    "start_time": "2023-01-27T07:44:44.950Z"
   },
   {
    "duration": 0,
    "start_time": "2023-01-27T07:44:44.951Z"
   },
   {
    "duration": 0,
    "start_time": "2023-01-27T07:44:44.952Z"
   },
   {
    "duration": 0,
    "start_time": "2023-01-27T07:44:44.953Z"
   },
   {
    "duration": 0,
    "start_time": "2023-01-27T07:44:44.954Z"
   },
   {
    "duration": 0,
    "start_time": "2023-01-27T07:44:44.956Z"
   },
   {
    "duration": 0,
    "start_time": "2023-01-27T07:44:44.958Z"
   },
   {
    "duration": 0,
    "start_time": "2023-01-27T07:44:44.958Z"
   },
   {
    "duration": 21,
    "start_time": "2023-01-27T07:44:47.889Z"
   },
   {
    "duration": 1686,
    "start_time": "2023-01-27T07:45:01.682Z"
   },
   {
    "duration": 52,
    "start_time": "2023-01-27T07:45:03.370Z"
   },
   {
    "duration": 24,
    "start_time": "2023-01-27T07:45:03.425Z"
   },
   {
    "duration": 16,
    "start_time": "2023-01-27T07:45:03.451Z"
   },
   {
    "duration": 21,
    "start_time": "2023-01-27T07:45:03.470Z"
   },
   {
    "duration": 39,
    "start_time": "2023-01-27T07:45:03.493Z"
   },
   {
    "duration": 42,
    "start_time": "2023-01-27T07:45:03.534Z"
   },
   {
    "duration": 933,
    "start_time": "2023-01-27T07:45:03.578Z"
   },
   {
    "duration": 13,
    "start_time": "2023-01-27T07:45:04.512Z"
   },
   {
    "duration": 144,
    "start_time": "2023-01-27T07:45:04.528Z"
   },
   {
    "duration": 0,
    "start_time": "2023-01-27T07:45:04.675Z"
   },
   {
    "duration": 0,
    "start_time": "2023-01-27T07:45:04.684Z"
   },
   {
    "duration": 0,
    "start_time": "2023-01-27T07:45:04.686Z"
   },
   {
    "duration": 0,
    "start_time": "2023-01-27T07:45:04.688Z"
   },
   {
    "duration": 0,
    "start_time": "2023-01-27T07:45:04.690Z"
   },
   {
    "duration": 0,
    "start_time": "2023-01-27T07:45:04.692Z"
   },
   {
    "duration": 0,
    "start_time": "2023-01-27T07:45:04.693Z"
   },
   {
    "duration": 0,
    "start_time": "2023-01-27T07:45:04.694Z"
   },
   {
    "duration": 0,
    "start_time": "2023-01-27T07:45:04.695Z"
   },
   {
    "duration": 0,
    "start_time": "2023-01-27T07:45:04.696Z"
   },
   {
    "duration": 0,
    "start_time": "2023-01-27T07:45:04.698Z"
   },
   {
    "duration": 0,
    "start_time": "2023-01-27T07:45:04.699Z"
   },
   {
    "duration": 0,
    "start_time": "2023-01-27T07:45:04.700Z"
   },
   {
    "duration": 0,
    "start_time": "2023-01-27T07:45:04.701Z"
   },
   {
    "duration": 0,
    "start_time": "2023-01-27T07:45:04.702Z"
   },
   {
    "duration": 0,
    "start_time": "2023-01-27T07:45:04.704Z"
   },
   {
    "duration": 0,
    "start_time": "2023-01-27T07:45:04.705Z"
   },
   {
    "duration": 0,
    "start_time": "2023-01-27T07:45:04.706Z"
   },
   {
    "duration": 15,
    "start_time": "2023-01-27T07:46:31.015Z"
   },
   {
    "duration": 1602,
    "start_time": "2023-01-27T07:46:44.408Z"
   },
   {
    "duration": 49,
    "start_time": "2023-01-27T07:46:46.012Z"
   },
   {
    "duration": 27,
    "start_time": "2023-01-27T07:46:46.063Z"
   },
   {
    "duration": 17,
    "start_time": "2023-01-27T07:46:46.094Z"
   },
   {
    "duration": 41,
    "start_time": "2023-01-27T07:46:46.114Z"
   },
   {
    "duration": 33,
    "start_time": "2023-01-27T07:46:46.157Z"
   },
   {
    "duration": 46,
    "start_time": "2023-01-27T07:46:46.193Z"
   },
   {
    "duration": 964,
    "start_time": "2023-01-27T07:46:46.241Z"
   },
   {
    "duration": 19,
    "start_time": "2023-01-27T07:46:47.208Z"
   },
   {
    "duration": 45,
    "start_time": "2023-01-27T07:46:47.232Z"
   },
   {
    "duration": 8,
    "start_time": "2023-01-27T07:46:47.280Z"
   },
   {
    "duration": 25,
    "start_time": "2023-01-27T07:46:47.290Z"
   },
   {
    "duration": 56,
    "start_time": "2023-01-27T07:46:47.317Z"
   },
   {
    "duration": 15,
    "start_time": "2023-01-27T07:46:47.374Z"
   },
   {
    "duration": 15,
    "start_time": "2023-01-27T07:46:47.392Z"
   },
   {
    "duration": 29,
    "start_time": "2023-01-27T07:46:47.409Z"
   },
   {
    "duration": 64838,
    "start_time": "2023-01-27T07:46:47.441Z"
   },
   {
    "duration": 14,
    "start_time": "2023-01-27T07:47:52.281Z"
   },
   {
    "duration": 0,
    "start_time": "2023-01-27T07:47:52.297Z"
   },
   {
    "duration": 0,
    "start_time": "2023-01-27T07:47:52.298Z"
   },
   {
    "duration": 0,
    "start_time": "2023-01-27T07:47:52.300Z"
   },
   {
    "duration": 0,
    "start_time": "2023-01-27T07:47:52.302Z"
   },
   {
    "duration": 0,
    "start_time": "2023-01-27T07:47:52.303Z"
   },
   {
    "duration": 0,
    "start_time": "2023-01-27T07:47:52.305Z"
   },
   {
    "duration": 0,
    "start_time": "2023-01-27T07:47:52.306Z"
   },
   {
    "duration": 0,
    "start_time": "2023-01-27T07:47:52.307Z"
   },
   {
    "duration": 0,
    "start_time": "2023-01-27T07:47:52.308Z"
   },
   {
    "duration": 0,
    "start_time": "2023-01-27T07:47:52.309Z"
   },
   {
    "duration": 15,
    "start_time": "2023-01-27T07:47:54.011Z"
   },
   {
    "duration": 1644,
    "start_time": "2023-01-27T07:48:01.444Z"
   },
   {
    "duration": 54,
    "start_time": "2023-01-27T07:48:03.091Z"
   },
   {
    "duration": 26,
    "start_time": "2023-01-27T07:48:03.148Z"
   },
   {
    "duration": 11,
    "start_time": "2023-01-27T07:48:03.176Z"
   },
   {
    "duration": 25,
    "start_time": "2023-01-27T07:48:03.189Z"
   },
   {
    "duration": 9,
    "start_time": "2023-01-27T07:48:03.216Z"
   },
   {
    "duration": 22,
    "start_time": "2023-01-27T07:48:03.227Z"
   },
   {
    "duration": 973,
    "start_time": "2023-01-27T07:48:03.251Z"
   },
   {
    "duration": 13,
    "start_time": "2023-01-27T07:48:04.226Z"
   },
   {
    "duration": 23,
    "start_time": "2023-01-27T07:48:04.242Z"
   },
   {
    "duration": 5,
    "start_time": "2023-01-27T07:48:04.283Z"
   },
   {
    "duration": 8,
    "start_time": "2023-01-27T07:48:04.290Z"
   },
   {
    "duration": 20,
    "start_time": "2023-01-27T07:48:04.300Z"
   },
   {
    "duration": 3,
    "start_time": "2023-01-27T07:48:04.322Z"
   },
   {
    "duration": 9,
    "start_time": "2023-01-27T07:48:04.327Z"
   },
   {
    "duration": 10,
    "start_time": "2023-01-27T07:48:04.338Z"
   },
   {
    "duration": 1595,
    "start_time": "2023-01-27T07:48:51.006Z"
   },
   {
    "duration": 57,
    "start_time": "2023-01-27T07:48:52.603Z"
   },
   {
    "duration": 27,
    "start_time": "2023-01-27T07:48:52.674Z"
   },
   {
    "duration": 22,
    "start_time": "2023-01-27T07:48:52.703Z"
   },
   {
    "duration": 23,
    "start_time": "2023-01-27T07:48:52.729Z"
   },
   {
    "duration": 41,
    "start_time": "2023-01-27T07:48:52.754Z"
   },
   {
    "duration": 36,
    "start_time": "2023-01-27T07:48:52.797Z"
   },
   {
    "duration": 1057,
    "start_time": "2023-01-27T07:48:52.835Z"
   },
   {
    "duration": 11,
    "start_time": "2023-01-27T07:48:53.894Z"
   },
   {
    "duration": 42,
    "start_time": "2023-01-27T07:48:53.907Z"
   },
   {
    "duration": 20,
    "start_time": "2023-01-27T07:48:53.951Z"
   },
   {
    "duration": 19,
    "start_time": "2023-01-27T07:48:53.972Z"
   },
   {
    "duration": 44,
    "start_time": "2023-01-27T07:48:53.992Z"
   },
   {
    "duration": 4,
    "start_time": "2023-01-27T07:48:54.039Z"
   },
   {
    "duration": 37,
    "start_time": "2023-01-27T07:48:54.044Z"
   },
   {
    "duration": 47,
    "start_time": "2023-01-27T07:48:54.082Z"
   },
   {
    "duration": 147,
    "start_time": "2023-01-27T07:48:54.130Z"
   },
   {
    "duration": 0,
    "start_time": "2023-01-27T07:48:54.280Z"
   },
   {
    "duration": 0,
    "start_time": "2023-01-27T07:48:54.284Z"
   },
   {
    "duration": 0,
    "start_time": "2023-01-27T07:48:54.286Z"
   },
   {
    "duration": 0,
    "start_time": "2023-01-27T07:48:54.288Z"
   },
   {
    "duration": 0,
    "start_time": "2023-01-27T07:48:54.290Z"
   },
   {
    "duration": 0,
    "start_time": "2023-01-27T07:48:54.292Z"
   },
   {
    "duration": 0,
    "start_time": "2023-01-27T07:48:54.293Z"
   },
   {
    "duration": 0,
    "start_time": "2023-01-27T07:48:54.295Z"
   },
   {
    "duration": 0,
    "start_time": "2023-01-27T07:48:54.297Z"
   },
   {
    "duration": 16,
    "start_time": "2023-01-27T07:49:26.815Z"
   },
   {
    "duration": 15,
    "start_time": "2023-01-27T07:50:01.038Z"
   },
   {
    "duration": 1668,
    "start_time": "2023-01-27T07:51:01.469Z"
   },
   {
    "duration": 50,
    "start_time": "2023-01-27T07:51:03.139Z"
   },
   {
    "duration": 25,
    "start_time": "2023-01-27T07:51:03.190Z"
   },
   {
    "duration": 3,
    "start_time": "2023-01-27T07:51:03.217Z"
   },
   {
    "duration": 8,
    "start_time": "2023-01-27T07:51:03.222Z"
   },
   {
    "duration": 7,
    "start_time": "2023-01-27T07:51:03.231Z"
   },
   {
    "duration": 16,
    "start_time": "2023-01-27T07:51:03.239Z"
   },
   {
    "duration": 757,
    "start_time": "2023-01-27T07:51:03.258Z"
   },
   {
    "duration": 13,
    "start_time": "2023-01-27T07:51:04.017Z"
   },
   {
    "duration": 17,
    "start_time": "2023-01-27T07:51:04.033Z"
   },
   {
    "duration": 3,
    "start_time": "2023-01-27T07:51:04.052Z"
   },
   {
    "duration": 28,
    "start_time": "2023-01-27T07:51:04.057Z"
   },
   {
    "duration": 107,
    "start_time": "2023-01-27T07:51:04.088Z"
   },
   {
    "duration": 3,
    "start_time": "2023-01-27T07:51:04.198Z"
   },
   {
    "duration": 8,
    "start_time": "2023-01-27T07:51:04.203Z"
   },
   {
    "duration": 7,
    "start_time": "2023-01-27T07:51:04.212Z"
   },
   {
    "duration": 137,
    "start_time": "2023-01-27T07:51:30.312Z"
   },
   {
    "duration": 1564,
    "start_time": "2023-01-27T07:51:42.209Z"
   },
   {
    "duration": 49,
    "start_time": "2023-01-27T07:51:43.775Z"
   },
   {
    "duration": 23,
    "start_time": "2023-01-27T07:51:43.826Z"
   },
   {
    "duration": 11,
    "start_time": "2023-01-27T07:51:43.851Z"
   },
   {
    "duration": 19,
    "start_time": "2023-01-27T07:51:43.864Z"
   },
   {
    "duration": 46,
    "start_time": "2023-01-27T07:51:43.885Z"
   },
   {
    "duration": 39,
    "start_time": "2023-01-27T07:51:43.932Z"
   },
   {
    "duration": 735,
    "start_time": "2023-01-27T07:51:43.973Z"
   },
   {
    "duration": 11,
    "start_time": "2023-01-27T07:51:44.710Z"
   },
   {
    "duration": 18,
    "start_time": "2023-01-27T07:51:44.723Z"
   },
   {
    "duration": 8,
    "start_time": "2023-01-27T07:51:44.743Z"
   },
   {
    "duration": 15,
    "start_time": "2023-01-27T07:51:44.753Z"
   },
   {
    "duration": 100,
    "start_time": "2023-01-27T07:51:44.770Z"
   },
   {
    "duration": 3,
    "start_time": "2023-01-27T07:51:44.887Z"
   },
   {
    "duration": 25,
    "start_time": "2023-01-27T07:51:44.892Z"
   },
   {
    "duration": 11,
    "start_time": "2023-01-27T07:51:44.919Z"
   },
   {
    "duration": 932,
    "start_time": "2023-01-27T07:52:47.738Z"
   },
   {
    "duration": 366,
    "start_time": "2023-01-27T07:53:15.535Z"
   },
   {
    "duration": 352,
    "start_time": "2023-01-27T07:53:27.984Z"
   },
   {
    "duration": 1681,
    "start_time": "2023-01-27T07:53:39.137Z"
   },
   {
    "duration": 52,
    "start_time": "2023-01-27T07:53:40.821Z"
   },
   {
    "duration": 25,
    "start_time": "2023-01-27T07:53:40.875Z"
   },
   {
    "duration": 10,
    "start_time": "2023-01-27T07:53:40.902Z"
   },
   {
    "duration": 26,
    "start_time": "2023-01-27T07:53:40.914Z"
   },
   {
    "duration": 13,
    "start_time": "2023-01-27T07:53:40.942Z"
   },
   {
    "duration": 41,
    "start_time": "2023-01-27T07:53:40.957Z"
   },
   {
    "duration": 916,
    "start_time": "2023-01-27T07:53:41.000Z"
   },
   {
    "duration": 541,
    "start_time": "2023-01-27T07:53:41.918Z"
   },
   {
    "duration": 23,
    "start_time": "2023-01-27T07:53:42.463Z"
   },
   {
    "duration": 23,
    "start_time": "2023-01-27T07:53:42.488Z"
   },
   {
    "duration": 14,
    "start_time": "2023-01-27T07:53:42.514Z"
   },
   {
    "duration": 12,
    "start_time": "2023-01-27T07:53:42.531Z"
   },
   {
    "duration": 31,
    "start_time": "2023-01-27T07:53:42.545Z"
   },
   {
    "duration": 36,
    "start_time": "2023-01-27T07:53:42.580Z"
   },
   {
    "duration": 14,
    "start_time": "2023-01-27T07:53:42.621Z"
   },
   {
    "duration": 7,
    "start_time": "2023-01-27T07:53:42.641Z"
   },
   {
    "duration": 1601,
    "start_time": "2023-01-27T07:54:10.008Z"
   },
   {
    "duration": 50,
    "start_time": "2023-01-27T07:54:11.611Z"
   },
   {
    "duration": 28,
    "start_time": "2023-01-27T07:54:11.666Z"
   },
   {
    "duration": 5,
    "start_time": "2023-01-27T07:54:11.697Z"
   },
   {
    "duration": 27,
    "start_time": "2023-01-27T07:54:11.706Z"
   },
   {
    "duration": 59,
    "start_time": "2023-01-27T07:54:11.736Z"
   },
   {
    "duration": 31,
    "start_time": "2023-01-27T07:54:11.797Z"
   },
   {
    "duration": 877,
    "start_time": "2023-01-27T07:54:11.830Z"
   },
   {
    "duration": 390,
    "start_time": "2023-01-27T07:54:12.710Z"
   },
   {
    "duration": 11,
    "start_time": "2023-01-27T07:54:13.103Z"
   },
   {
    "duration": 69,
    "start_time": "2023-01-27T07:54:13.116Z"
   },
   {
    "duration": 25,
    "start_time": "2023-01-27T07:54:13.187Z"
   },
   {
    "duration": 36,
    "start_time": "2023-01-27T07:54:13.214Z"
   },
   {
    "duration": 37,
    "start_time": "2023-01-27T07:54:13.253Z"
   },
   {
    "duration": 13,
    "start_time": "2023-01-27T07:54:13.295Z"
   },
   {
    "duration": 31,
    "start_time": "2023-01-27T07:54:13.310Z"
   },
   {
    "duration": 28,
    "start_time": "2023-01-27T07:54:13.344Z"
   },
   {
    "duration": 1747,
    "start_time": "2023-01-27T07:55:29.754Z"
   },
   {
    "duration": 49,
    "start_time": "2023-01-27T07:55:31.503Z"
   },
   {
    "duration": 24,
    "start_time": "2023-01-27T07:55:31.554Z"
   },
   {
    "duration": 4,
    "start_time": "2023-01-27T07:55:31.584Z"
   },
   {
    "duration": 28,
    "start_time": "2023-01-27T07:55:31.590Z"
   },
   {
    "duration": 10,
    "start_time": "2023-01-27T07:55:31.621Z"
   },
   {
    "duration": 16,
    "start_time": "2023-01-27T07:55:31.634Z"
   },
   {
    "duration": 784,
    "start_time": "2023-01-27T07:55:31.653Z"
   },
   {
    "duration": 388,
    "start_time": "2023-01-27T07:55:32.439Z"
   },
   {
    "duration": 12,
    "start_time": "2023-01-27T07:55:32.830Z"
   },
   {
    "duration": 40,
    "start_time": "2023-01-27T07:55:32.845Z"
   },
   {
    "duration": 11,
    "start_time": "2023-01-27T07:55:32.887Z"
   },
   {
    "duration": 21,
    "start_time": "2023-01-27T07:55:32.900Z"
   },
   {
    "duration": 24,
    "start_time": "2023-01-27T07:55:32.923Z"
   },
   {
    "duration": 4,
    "start_time": "2023-01-27T07:55:32.949Z"
   },
   {
    "duration": 8,
    "start_time": "2023-01-27T07:55:32.955Z"
   },
   {
    "duration": 7,
    "start_time": "2023-01-27T07:55:32.966Z"
   },
   {
    "duration": 276,
    "start_time": "2023-01-27T07:56:27.088Z"
   },
   {
    "duration": 326,
    "start_time": "2023-01-27T07:56:38.858Z"
   },
   {
    "duration": 299,
    "start_time": "2023-01-27T07:56:53.648Z"
   },
   {
    "duration": 285,
    "start_time": "2023-01-27T07:57:00.255Z"
   },
   {
    "duration": 130,
    "start_time": "2023-01-27T07:57:07.160Z"
   },
   {
    "duration": 275,
    "start_time": "2023-01-27T07:57:12.040Z"
   },
   {
    "duration": 423,
    "start_time": "2023-01-27T07:58:44.842Z"
   },
   {
    "duration": 420,
    "start_time": "2023-01-27T07:59:06.024Z"
   },
   {
    "duration": 523,
    "start_time": "2023-01-27T07:59:22.008Z"
   },
   {
    "duration": 426,
    "start_time": "2023-01-27T07:59:33.288Z"
   },
   {
    "duration": 153,
    "start_time": "2023-01-27T07:59:54.618Z"
   },
   {
    "duration": 180,
    "start_time": "2023-01-27T08:00:04.977Z"
   },
   {
    "duration": 236,
    "start_time": "2023-01-27T08:00:17.593Z"
   },
   {
    "duration": 193,
    "start_time": "2023-01-27T08:00:59.207Z"
   },
   {
    "duration": 6,
    "start_time": "2023-01-27T08:01:23.612Z"
   },
   {
    "duration": 289,
    "start_time": "2023-01-27T08:01:27.410Z"
   },
   {
    "duration": 1672,
    "start_time": "2023-01-27T08:02:35.714Z"
   },
   {
    "duration": 54,
    "start_time": "2023-01-27T08:02:37.395Z"
   },
   {
    "duration": 30,
    "start_time": "2023-01-27T08:02:37.452Z"
   },
   {
    "duration": 14,
    "start_time": "2023-01-27T08:02:37.483Z"
   },
   {
    "duration": 8,
    "start_time": "2023-01-27T08:02:37.504Z"
   },
   {
    "duration": 5,
    "start_time": "2023-01-27T08:02:37.514Z"
   },
   {
    "duration": 14,
    "start_time": "2023-01-27T08:02:37.521Z"
   },
   {
    "duration": 417,
    "start_time": "2023-01-27T08:02:37.537Z"
   },
   {
    "duration": 867,
    "start_time": "2023-01-27T08:02:37.956Z"
   },
   {
    "duration": 13,
    "start_time": "2023-01-27T08:02:38.825Z"
   },
   {
    "duration": 14,
    "start_time": "2023-01-27T08:02:38.841Z"
   },
   {
    "duration": 33,
    "start_time": "2023-01-27T08:02:38.857Z"
   },
   {
    "duration": 20,
    "start_time": "2023-01-27T08:02:38.892Z"
   },
   {
    "duration": 21,
    "start_time": "2023-01-27T08:02:38.916Z"
   },
   {
    "duration": 4,
    "start_time": "2023-01-27T08:02:38.939Z"
   },
   {
    "duration": 8,
    "start_time": "2023-01-27T08:02:38.946Z"
   },
   {
    "duration": 7,
    "start_time": "2023-01-27T08:02:38.957Z"
   },
   {
    "duration": 763,
    "start_time": "2023-01-27T08:03:38.746Z"
   },
   {
    "duration": 2200,
    "start_time": "2023-01-27T08:03:48.574Z"
   },
   {
    "duration": 50,
    "start_time": "2023-01-27T08:03:50.776Z"
   },
   {
    "duration": 27,
    "start_time": "2023-01-27T08:03:50.828Z"
   },
   {
    "duration": 9,
    "start_time": "2023-01-27T08:03:50.858Z"
   },
   {
    "duration": 12,
    "start_time": "2023-01-27T08:03:50.869Z"
   },
   {
    "duration": 12,
    "start_time": "2023-01-27T08:03:50.883Z"
   },
   {
    "duration": 22,
    "start_time": "2023-01-27T08:03:50.897Z"
   },
   {
    "duration": 691,
    "start_time": "2023-01-27T08:03:50.921Z"
   },
   {
    "duration": 920,
    "start_time": "2023-01-27T08:03:51.614Z"
   },
   {
    "duration": 16,
    "start_time": "2023-01-27T08:03:52.537Z"
   },
   {
    "duration": 36,
    "start_time": "2023-01-27T08:03:52.556Z"
   },
   {
    "duration": 4,
    "start_time": "2023-01-27T08:03:52.594Z"
   },
   {
    "duration": 13,
    "start_time": "2023-01-27T08:03:52.599Z"
   },
   {
    "duration": 27,
    "start_time": "2023-01-27T08:03:52.615Z"
   },
   {
    "duration": 16,
    "start_time": "2023-01-27T08:03:52.645Z"
   },
   {
    "duration": 9,
    "start_time": "2023-01-27T08:03:52.664Z"
   },
   {
    "duration": 14,
    "start_time": "2023-01-27T08:03:52.675Z"
   },
   {
    "duration": 414,
    "start_time": "2023-01-27T08:04:14.658Z"
   },
   {
    "duration": 329,
    "start_time": "2023-01-27T08:04:22.330Z"
   },
   {
    "duration": 474,
    "start_time": "2023-01-27T08:04:48.434Z"
   },
   {
    "duration": 1821,
    "start_time": "2023-01-27T08:05:43.554Z"
   },
   {
    "duration": 72,
    "start_time": "2023-01-27T08:05:45.378Z"
   },
   {
    "duration": 27,
    "start_time": "2023-01-27T08:05:45.451Z"
   },
   {
    "duration": 6,
    "start_time": "2023-01-27T08:05:45.480Z"
   },
   {
    "duration": 29,
    "start_time": "2023-01-27T08:05:45.489Z"
   },
   {
    "duration": 11,
    "start_time": "2023-01-27T08:05:45.520Z"
   },
   {
    "duration": 16,
    "start_time": "2023-01-27T08:05:45.534Z"
   },
   {
    "duration": 332,
    "start_time": "2023-01-27T08:05:45.553Z"
   },
   {
    "duration": 874,
    "start_time": "2023-01-27T08:05:45.888Z"
   },
   {
    "duration": 25,
    "start_time": "2023-01-27T08:05:46.765Z"
   },
   {
    "duration": 24,
    "start_time": "2023-01-27T08:05:46.792Z"
   },
   {
    "duration": 13,
    "start_time": "2023-01-27T08:05:46.824Z"
   },
   {
    "duration": 10,
    "start_time": "2023-01-27T08:05:46.839Z"
   },
   {
    "duration": 32,
    "start_time": "2023-01-27T08:05:46.853Z"
   },
   {
    "duration": 39,
    "start_time": "2023-01-27T08:05:46.888Z"
   },
   {
    "duration": 10,
    "start_time": "2023-01-27T08:05:46.930Z"
   },
   {
    "duration": 11,
    "start_time": "2023-01-27T08:05:46.943Z"
   },
   {
    "duration": 352,
    "start_time": "2023-01-27T08:05:59.595Z"
   },
   {
    "duration": 309,
    "start_time": "2023-01-27T08:07:39.902Z"
   },
   {
    "duration": 279,
    "start_time": "2023-01-27T08:07:50.960Z"
   },
   {
    "duration": 270,
    "start_time": "2023-01-27T08:08:13.045Z"
   },
   {
    "duration": 135,
    "start_time": "2023-01-27T08:09:17.926Z"
   },
   {
    "duration": 17,
    "start_time": "2023-01-27T08:09:37.775Z"
   },
   {
    "duration": 15,
    "start_time": "2023-01-27T08:10:10.847Z"
   },
   {
    "duration": 1719,
    "start_time": "2023-01-27T08:10:22.022Z"
   },
   {
    "duration": 53,
    "start_time": "2023-01-27T08:10:23.744Z"
   },
   {
    "duration": 28,
    "start_time": "2023-01-27T08:10:23.799Z"
   },
   {
    "duration": 5,
    "start_time": "2023-01-27T08:10:23.828Z"
   },
   {
    "duration": 13,
    "start_time": "2023-01-27T08:10:23.835Z"
   },
   {
    "duration": 34,
    "start_time": "2023-01-27T08:10:23.850Z"
   },
   {
    "duration": 30,
    "start_time": "2023-01-27T08:10:23.887Z"
   },
   {
    "duration": 190,
    "start_time": "2023-01-27T08:10:23.919Z"
   },
   {
    "duration": 0,
    "start_time": "2023-01-27T08:10:24.112Z"
   },
   {
    "duration": 0,
    "start_time": "2023-01-27T08:10:24.113Z"
   },
   {
    "duration": 1,
    "start_time": "2023-01-27T08:10:24.114Z"
   },
   {
    "duration": 0,
    "start_time": "2023-01-27T08:10:24.116Z"
   },
   {
    "duration": 0,
    "start_time": "2023-01-27T08:10:24.117Z"
   },
   {
    "duration": 0,
    "start_time": "2023-01-27T08:10:24.118Z"
   },
   {
    "duration": 0,
    "start_time": "2023-01-27T08:10:24.120Z"
   },
   {
    "duration": 0,
    "start_time": "2023-01-27T08:10:24.122Z"
   },
   {
    "duration": 0,
    "start_time": "2023-01-27T08:10:24.124Z"
   },
   {
    "duration": 191,
    "start_time": "2023-01-27T08:10:46.334Z"
   },
   {
    "duration": 23,
    "start_time": "2023-01-27T08:11:04.856Z"
   },
   {
    "duration": 18,
    "start_time": "2023-01-27T08:11:10.959Z"
   },
   {
    "duration": 1647,
    "start_time": "2023-01-27T08:11:15.957Z"
   },
   {
    "duration": 56,
    "start_time": "2023-01-27T08:11:17.607Z"
   },
   {
    "duration": 26,
    "start_time": "2023-01-27T08:11:17.664Z"
   },
   {
    "duration": 5,
    "start_time": "2023-01-27T08:11:17.692Z"
   },
   {
    "duration": 23,
    "start_time": "2023-01-27T08:11:17.698Z"
   },
   {
    "duration": 18,
    "start_time": "2023-01-27T08:11:17.723Z"
   },
   {
    "duration": 24,
    "start_time": "2023-01-27T08:11:17.742Z"
   },
   {
    "duration": 130,
    "start_time": "2023-01-27T08:11:17.768Z"
   },
   {
    "duration": 0,
    "start_time": "2023-01-27T08:11:17.900Z"
   },
   {
    "duration": 0,
    "start_time": "2023-01-27T08:11:17.903Z"
   },
   {
    "duration": 0,
    "start_time": "2023-01-27T08:11:17.904Z"
   },
   {
    "duration": 0,
    "start_time": "2023-01-27T08:11:17.906Z"
   },
   {
    "duration": 0,
    "start_time": "2023-01-27T08:11:17.908Z"
   },
   {
    "duration": 0,
    "start_time": "2023-01-27T08:11:17.910Z"
   },
   {
    "duration": 0,
    "start_time": "2023-01-27T08:11:17.911Z"
   },
   {
    "duration": 0,
    "start_time": "2023-01-27T08:11:17.914Z"
   },
   {
    "duration": 0,
    "start_time": "2023-01-27T08:11:17.915Z"
   },
   {
    "duration": 258,
    "start_time": "2023-01-27T08:11:28.350Z"
   },
   {
    "duration": 1626,
    "start_time": "2023-01-27T08:11:34.109Z"
   },
   {
    "duration": 48,
    "start_time": "2023-01-27T08:11:35.737Z"
   },
   {
    "duration": 28,
    "start_time": "2023-01-27T08:11:35.787Z"
   },
   {
    "duration": 5,
    "start_time": "2023-01-27T08:11:35.818Z"
   },
   {
    "duration": 22,
    "start_time": "2023-01-27T08:11:35.825Z"
   },
   {
    "duration": 28,
    "start_time": "2023-01-27T08:11:35.849Z"
   },
   {
    "duration": 25,
    "start_time": "2023-01-27T08:11:35.879Z"
   },
   {
    "duration": 264,
    "start_time": "2023-01-27T08:11:35.906Z"
   },
   {
    "duration": 858,
    "start_time": "2023-01-27T08:11:36.172Z"
   },
   {
    "duration": 12,
    "start_time": "2023-01-27T08:11:37.033Z"
   },
   {
    "duration": 37,
    "start_time": "2023-01-27T08:11:37.047Z"
   },
   {
    "duration": 27,
    "start_time": "2023-01-27T08:11:37.086Z"
   },
   {
    "duration": 39,
    "start_time": "2023-01-27T08:11:37.115Z"
   },
   {
    "duration": 34,
    "start_time": "2023-01-27T08:11:37.156Z"
   },
   {
    "duration": 6,
    "start_time": "2023-01-27T08:11:37.193Z"
   },
   {
    "duration": 17,
    "start_time": "2023-01-27T08:11:37.201Z"
   },
   {
    "duration": 52,
    "start_time": "2023-01-27T08:11:37.220Z"
   },
   {
    "duration": 234,
    "start_time": "2023-01-27T08:12:01.366Z"
   },
   {
    "duration": 228,
    "start_time": "2023-01-27T08:12:08.887Z"
   },
   {
    "duration": 164,
    "start_time": "2023-01-27T08:12:20.455Z"
   },
   {
    "duration": 330,
    "start_time": "2023-01-27T08:13:08.375Z"
   },
   {
    "duration": 254,
    "start_time": "2023-01-27T08:13:50.479Z"
   },
   {
    "duration": 275,
    "start_time": "2023-01-27T08:14:41.063Z"
   },
   {
    "duration": 239,
    "start_time": "2023-01-27T08:15:17.709Z"
   },
   {
    "duration": 417,
    "start_time": "2023-01-27T08:15:38.168Z"
   },
   {
    "duration": 281,
    "start_time": "2023-01-27T08:15:53.745Z"
   },
   {
    "duration": 294,
    "start_time": "2023-01-27T08:16:02.282Z"
   },
   {
    "duration": 423,
    "start_time": "2023-01-27T08:16:22.079Z"
   },
   {
    "duration": 303,
    "start_time": "2023-01-27T08:16:40.025Z"
   },
   {
    "duration": 266,
    "start_time": "2023-01-27T08:16:59.281Z"
   },
   {
    "duration": 289,
    "start_time": "2023-01-27T08:17:06.106Z"
   },
   {
    "duration": 296,
    "start_time": "2023-01-27T08:17:16.537Z"
   },
   {
    "duration": 235,
    "start_time": "2023-01-27T08:17:24.707Z"
   },
   {
    "duration": 244,
    "start_time": "2023-01-27T08:17:36.882Z"
   },
   {
    "duration": 231,
    "start_time": "2023-01-27T08:17:56.265Z"
   },
   {
    "duration": 253,
    "start_time": "2023-01-27T08:19:05.938Z"
   },
   {
    "duration": 273,
    "start_time": "2023-01-27T08:19:36.626Z"
   },
   {
    "duration": 258,
    "start_time": "2023-01-27T08:19:46.515Z"
   },
   {
    "duration": 408,
    "start_time": "2023-01-27T08:20:24.260Z"
   },
   {
    "duration": 1063,
    "start_time": "2023-01-27T08:20:40.378Z"
   },
   {
    "duration": 231,
    "start_time": "2023-01-27T08:22:16.011Z"
   },
   {
    "duration": 289,
    "start_time": "2023-01-27T08:41:49.854Z"
   },
   {
    "duration": 1804,
    "start_time": "2023-01-27T08:42:44.208Z"
   },
   {
    "duration": 62,
    "start_time": "2023-01-27T08:42:46.018Z"
   },
   {
    "duration": 45,
    "start_time": "2023-01-27T08:42:46.083Z"
   },
   {
    "duration": 23,
    "start_time": "2023-01-27T08:42:46.129Z"
   },
   {
    "duration": 35,
    "start_time": "2023-01-27T08:42:46.154Z"
   },
   {
    "duration": 58,
    "start_time": "2023-01-27T08:42:46.200Z"
   },
   {
    "duration": 66,
    "start_time": "2023-01-27T08:42:46.260Z"
   },
   {
    "duration": 184,
    "start_time": "2023-01-27T08:42:46.328Z"
   },
   {
    "duration": 0,
    "start_time": "2023-01-27T08:42:46.514Z"
   },
   {
    "duration": 0,
    "start_time": "2023-01-27T08:42:46.515Z"
   },
   {
    "duration": 0,
    "start_time": "2023-01-27T08:42:46.516Z"
   },
   {
    "duration": 0,
    "start_time": "2023-01-27T08:42:46.519Z"
   },
   {
    "duration": 0,
    "start_time": "2023-01-27T08:42:46.522Z"
   },
   {
    "duration": 0,
    "start_time": "2023-01-27T08:42:46.523Z"
   },
   {
    "duration": 0,
    "start_time": "2023-01-27T08:42:46.525Z"
   },
   {
    "duration": 0,
    "start_time": "2023-01-27T08:42:46.527Z"
   },
   {
    "duration": 0,
    "start_time": "2023-01-27T08:42:46.528Z"
   },
   {
    "duration": 0,
    "start_time": "2023-01-27T08:42:46.529Z"
   },
   {
    "duration": 1888,
    "start_time": "2023-01-27T08:43:18.653Z"
   },
   {
    "duration": 62,
    "start_time": "2023-01-27T08:43:20.543Z"
   },
   {
    "duration": 35,
    "start_time": "2023-01-27T08:43:20.610Z"
   },
   {
    "duration": 5,
    "start_time": "2023-01-27T08:43:20.647Z"
   },
   {
    "duration": 18,
    "start_time": "2023-01-27T08:43:20.654Z"
   },
   {
    "duration": 64,
    "start_time": "2023-01-27T08:43:20.674Z"
   },
   {
    "duration": 26,
    "start_time": "2023-01-27T08:43:20.740Z"
   },
   {
    "duration": 432,
    "start_time": "2023-01-27T08:43:20.768Z"
   },
   {
    "duration": 284,
    "start_time": "2023-01-27T08:43:21.202Z"
   },
   {
    "duration": 869,
    "start_time": "2023-01-27T08:43:21.489Z"
   },
   {
    "duration": 25,
    "start_time": "2023-01-27T08:43:22.360Z"
   },
   {
    "duration": 20,
    "start_time": "2023-01-27T08:43:22.387Z"
   },
   {
    "duration": 32,
    "start_time": "2023-01-27T08:43:22.409Z"
   },
   {
    "duration": 6,
    "start_time": "2023-01-27T08:43:22.445Z"
   },
   {
    "duration": 21,
    "start_time": "2023-01-27T08:43:22.454Z"
   },
   {
    "duration": 4,
    "start_time": "2023-01-27T08:43:22.477Z"
   },
   {
    "duration": 47,
    "start_time": "2023-01-27T08:43:22.483Z"
   },
   {
    "duration": 6,
    "start_time": "2023-01-27T08:43:22.532Z"
   },
   {
    "duration": 284,
    "start_time": "2023-01-27T08:44:27.352Z"
   },
   {
    "duration": 314,
    "start_time": "2023-01-27T08:44:39.848Z"
   },
   {
    "duration": 1026,
    "start_time": "2023-01-27T08:44:47.417Z"
   },
   {
    "duration": 380,
    "start_time": "2023-01-27T08:45:03.149Z"
   },
   {
    "duration": 256,
    "start_time": "2023-01-27T08:45:35.786Z"
   },
   {
    "duration": 218,
    "start_time": "2023-01-27T08:45:42.273Z"
   },
   {
    "duration": 167,
    "start_time": "2023-01-27T08:47:03.617Z"
   },
   {
    "duration": 186,
    "start_time": "2023-01-27T08:47:33.617Z"
   },
   {
    "duration": 166,
    "start_time": "2023-01-27T08:47:45.927Z"
   },
   {
    "duration": 202,
    "start_time": "2023-01-27T08:47:52.009Z"
   },
   {
    "duration": 187,
    "start_time": "2023-01-27T08:48:01.680Z"
   },
   {
    "duration": 182,
    "start_time": "2023-01-27T08:48:32.271Z"
   },
   {
    "duration": 203,
    "start_time": "2023-01-27T08:49:16.072Z"
   },
   {
    "duration": 228,
    "start_time": "2023-01-27T08:49:37.225Z"
   },
   {
    "duration": 184,
    "start_time": "2023-01-27T08:49:46.639Z"
   },
   {
    "duration": 329,
    "start_time": "2023-01-27T08:50:59.841Z"
   },
   {
    "duration": 286,
    "start_time": "2023-01-27T08:51:08.160Z"
   },
   {
    "duration": 284,
    "start_time": "2023-01-27T08:51:34.735Z"
   },
   {
    "duration": 150,
    "start_time": "2023-01-27T08:52:44.827Z"
   },
   {
    "duration": 23,
    "start_time": "2023-01-27T08:52:57.378Z"
   },
   {
    "duration": 1810,
    "start_time": "2023-01-27T08:53:41.653Z"
   },
   {
    "duration": 81,
    "start_time": "2023-01-27T08:53:43.466Z"
   },
   {
    "duration": 33,
    "start_time": "2023-01-27T08:53:43.550Z"
   },
   {
    "duration": 15,
    "start_time": "2023-01-27T08:53:43.585Z"
   },
   {
    "duration": 49,
    "start_time": "2023-01-27T08:53:43.602Z"
   },
   {
    "duration": 15,
    "start_time": "2023-01-27T08:53:43.653Z"
   },
   {
    "duration": 37,
    "start_time": "2023-01-27T08:53:43.671Z"
   },
   {
    "duration": 31,
    "start_time": "2023-01-27T08:53:43.711Z"
   },
   {
    "duration": 193,
    "start_time": "2023-01-27T08:53:43.745Z"
   },
   {
    "duration": 0,
    "start_time": "2023-01-27T08:53:43.941Z"
   },
   {
    "duration": 0,
    "start_time": "2023-01-27T08:53:43.943Z"
   },
   {
    "duration": 0,
    "start_time": "2023-01-27T08:53:43.944Z"
   },
   {
    "duration": 0,
    "start_time": "2023-01-27T08:53:43.945Z"
   },
   {
    "duration": 0,
    "start_time": "2023-01-27T08:53:43.947Z"
   },
   {
    "duration": 0,
    "start_time": "2023-01-27T08:53:43.949Z"
   },
   {
    "duration": 0,
    "start_time": "2023-01-27T08:53:43.950Z"
   },
   {
    "duration": 0,
    "start_time": "2023-01-27T08:53:43.951Z"
   },
   {
    "duration": 0,
    "start_time": "2023-01-27T08:53:43.953Z"
   },
   {
    "duration": 399,
    "start_time": "2023-01-27T08:54:03.628Z"
   },
   {
    "duration": 458,
    "start_time": "2023-01-27T08:54:15.856Z"
   },
   {
    "duration": 342,
    "start_time": "2023-01-27T08:54:40.184Z"
   },
   {
    "duration": 321,
    "start_time": "2023-01-27T08:54:59.673Z"
   },
   {
    "duration": 325,
    "start_time": "2023-01-27T08:55:18.907Z"
   },
   {
    "duration": 333,
    "start_time": "2023-01-27T08:55:35.626Z"
   },
   {
    "duration": 341,
    "start_time": "2023-01-27T08:56:00.113Z"
   },
   {
    "duration": 362,
    "start_time": "2023-01-27T08:56:11.376Z"
   },
   {
    "duration": 414,
    "start_time": "2023-01-27T08:56:25.162Z"
   },
   {
    "duration": 319,
    "start_time": "2023-01-27T08:57:24.038Z"
   },
   {
    "duration": 505,
    "start_time": "2023-01-27T08:57:45.441Z"
   },
   {
    "duration": 2223,
    "start_time": "2023-01-27T08:58:02.142Z"
   },
   {
    "duration": 82,
    "start_time": "2023-01-27T08:58:04.368Z"
   },
   {
    "duration": 52,
    "start_time": "2023-01-27T08:58:04.452Z"
   },
   {
    "duration": 6,
    "start_time": "2023-01-27T08:58:04.506Z"
   },
   {
    "duration": 45,
    "start_time": "2023-01-27T08:58:04.518Z"
   },
   {
    "duration": 61,
    "start_time": "2023-01-27T08:58:04.566Z"
   },
   {
    "duration": 24,
    "start_time": "2023-01-27T08:58:04.630Z"
   },
   {
    "duration": 538,
    "start_time": "2023-01-27T08:58:04.656Z"
   },
   {
    "duration": 0,
    "start_time": "2023-01-27T08:58:05.205Z"
   },
   {
    "duration": 0,
    "start_time": "2023-01-27T08:58:05.206Z"
   },
   {
    "duration": 0,
    "start_time": "2023-01-27T08:58:05.212Z"
   },
   {
    "duration": 0,
    "start_time": "2023-01-27T08:58:05.213Z"
   },
   {
    "duration": 0,
    "start_time": "2023-01-27T08:58:05.213Z"
   },
   {
    "duration": 0,
    "start_time": "2023-01-27T08:58:05.214Z"
   },
   {
    "duration": 0,
    "start_time": "2023-01-27T08:58:05.216Z"
   },
   {
    "duration": 0,
    "start_time": "2023-01-27T08:58:05.220Z"
   },
   {
    "duration": 0,
    "start_time": "2023-01-27T08:58:05.225Z"
   },
   {
    "duration": 0,
    "start_time": "2023-01-27T08:58:05.226Z"
   },
   {
    "duration": 406,
    "start_time": "2023-01-27T08:58:24.723Z"
   },
   {
    "duration": 354,
    "start_time": "2023-01-27T08:58:34.161Z"
   },
   {
    "duration": 556,
    "start_time": "2023-01-27T08:59:19.850Z"
   },
   {
    "duration": 306,
    "start_time": "2023-01-27T08:59:24.620Z"
   },
   {
    "duration": 305,
    "start_time": "2023-01-27T08:59:44.726Z"
   },
   {
    "duration": 368,
    "start_time": "2023-01-27T08:59:48.953Z"
   },
   {
    "duration": 384,
    "start_time": "2023-01-27T09:00:26.770Z"
   },
   {
    "duration": 16,
    "start_time": "2023-01-27T09:01:17.778Z"
   },
   {
    "duration": 329,
    "start_time": "2023-01-27T09:01:25.605Z"
   },
   {
    "duration": 311,
    "start_time": "2023-01-27T09:01:26.145Z"
   },
   {
    "duration": 28,
    "start_time": "2023-01-27T09:01:49.282Z"
   },
   {
    "duration": 311,
    "start_time": "2023-01-27T09:01:53.116Z"
   },
   {
    "duration": 238,
    "start_time": "2023-01-27T09:01:53.431Z"
   },
   {
    "duration": 561,
    "start_time": "2023-01-27T09:02:13.109Z"
   },
   {
    "duration": 241,
    "start_time": "2023-01-27T09:02:13.673Z"
   },
   {
    "duration": 463,
    "start_time": "2023-01-27T09:02:43.483Z"
   },
   {
    "duration": 240,
    "start_time": "2023-01-27T09:02:43.951Z"
   },
   {
    "duration": 28,
    "start_time": "2023-01-27T09:03:45.602Z"
   },
   {
    "duration": 398,
    "start_time": "2023-01-27T09:03:49.624Z"
   },
   {
    "duration": 282,
    "start_time": "2023-01-27T09:03:50.024Z"
   },
   {
    "duration": 486,
    "start_time": "2023-01-27T09:04:03.234Z"
   },
   {
    "duration": 196,
    "start_time": "2023-01-27T09:04:03.722Z"
   },
   {
    "duration": 867,
    "start_time": "2023-01-27T09:04:59.082Z"
   },
   {
    "duration": 13,
    "start_time": "2023-01-27T09:05:19.348Z"
   },
   {
    "duration": 396,
    "start_time": "2023-01-27T09:05:23.779Z"
   },
   {
    "duration": 205,
    "start_time": "2023-01-27T09:05:24.185Z"
   },
   {
    "duration": 16,
    "start_time": "2023-01-27T09:05:58.740Z"
   },
   {
    "duration": 473,
    "start_time": "2023-01-27T09:06:02.052Z"
   },
   {
    "duration": 207,
    "start_time": "2023-01-27T09:06:02.528Z"
   },
   {
    "duration": 16,
    "start_time": "2023-01-27T09:06:20.349Z"
   },
   {
    "duration": 353,
    "start_time": "2023-01-27T09:06:24.161Z"
   },
   {
    "duration": 283,
    "start_time": "2023-01-27T09:06:24.520Z"
   },
   {
    "duration": 15,
    "start_time": "2023-01-27T09:06:58.233Z"
   },
   {
    "duration": 351,
    "start_time": "2023-01-27T09:07:01.378Z"
   },
   {
    "duration": 483,
    "start_time": "2023-01-27T09:07:01.733Z"
   },
   {
    "duration": 13,
    "start_time": "2023-01-27T09:07:18.267Z"
   },
   {
    "duration": 328,
    "start_time": "2023-01-27T09:07:21.634Z"
   },
   {
    "duration": 476,
    "start_time": "2023-01-27T09:07:21.964Z"
   },
   {
    "duration": 315,
    "start_time": "2023-01-27T09:08:08.364Z"
   },
   {
    "duration": 190,
    "start_time": "2023-01-27T09:08:08.684Z"
   },
   {
    "duration": 20,
    "start_time": "2023-01-27T09:08:28.581Z"
   },
   {
    "duration": 436,
    "start_time": "2023-01-27T09:08:31.859Z"
   },
   {
    "duration": 331,
    "start_time": "2023-01-27T09:08:32.297Z"
   },
   {
    "duration": 15,
    "start_time": "2023-01-27T09:08:45.331Z"
   },
   {
    "duration": 310,
    "start_time": "2023-01-27T09:08:48.517Z"
   },
   {
    "duration": 421,
    "start_time": "2023-01-27T09:08:48.851Z"
   },
   {
    "duration": 331,
    "start_time": "2023-01-27T09:09:15.511Z"
   },
   {
    "duration": 297,
    "start_time": "2023-01-27T09:09:15.844Z"
   },
   {
    "duration": 178,
    "start_time": "2023-01-27T09:09:39.666Z"
   },
   {
    "duration": 199,
    "start_time": "2023-01-27T09:09:49.851Z"
   },
   {
    "duration": 742,
    "start_time": "2023-01-27T09:10:23.223Z"
   },
   {
    "duration": 868,
    "start_time": "2023-01-27T09:10:39.313Z"
   },
   {
    "duration": 1743,
    "start_time": "2023-01-27T09:11:22.345Z"
   },
   {
    "duration": 56,
    "start_time": "2023-01-27T09:11:24.098Z"
   },
   {
    "duration": 38,
    "start_time": "2023-01-27T09:11:24.156Z"
   },
   {
    "duration": 5,
    "start_time": "2023-01-27T09:11:24.197Z"
   },
   {
    "duration": 49,
    "start_time": "2023-01-27T09:11:24.210Z"
   },
   {
    "duration": 13,
    "start_time": "2023-01-27T09:11:24.261Z"
   },
   {
    "duration": 62,
    "start_time": "2023-01-27T09:11:24.276Z"
   },
   {
    "duration": 365,
    "start_time": "2023-01-27T09:11:24.339Z"
   },
   {
    "duration": 259,
    "start_time": "2023-01-27T09:11:24.706Z"
   },
   {
    "duration": 164,
    "start_time": "2023-01-27T09:11:24.968Z"
   },
   {
    "duration": 839,
    "start_time": "2023-01-27T09:11:25.135Z"
   },
   {
    "duration": 30,
    "start_time": "2023-01-27T09:11:25.977Z"
   },
   {
    "duration": 19,
    "start_time": "2023-01-27T09:11:26.017Z"
   },
   {
    "duration": 5,
    "start_time": "2023-01-27T09:11:26.039Z"
   },
   {
    "duration": 6,
    "start_time": "2023-01-27T09:11:26.046Z"
   },
   {
    "duration": 18,
    "start_time": "2023-01-27T09:11:26.054Z"
   },
   {
    "duration": 4,
    "start_time": "2023-01-27T09:11:26.074Z"
   },
   {
    "duration": 39,
    "start_time": "2023-01-27T09:11:26.080Z"
   },
   {
    "duration": 6,
    "start_time": "2023-01-27T09:11:26.122Z"
   },
   {
    "duration": 167,
    "start_time": "2023-01-27T09:12:47.773Z"
   },
   {
    "duration": 823,
    "start_time": "2023-01-27T09:12:51.829Z"
   },
   {
    "duration": 266,
    "start_time": "2023-01-27T09:12:52.654Z"
   },
   {
    "duration": 1821,
    "start_time": "2023-01-27T09:14:21.011Z"
   },
   {
    "duration": 46,
    "start_time": "2023-01-27T09:14:22.834Z"
   },
   {
    "duration": 44,
    "start_time": "2023-01-27T09:14:22.882Z"
   },
   {
    "duration": 3,
    "start_time": "2023-01-27T09:14:22.929Z"
   },
   {
    "duration": 6,
    "start_time": "2023-01-27T09:14:22.935Z"
   },
   {
    "duration": 7,
    "start_time": "2023-01-27T09:14:22.943Z"
   },
   {
    "duration": 14,
    "start_time": "2023-01-27T09:14:22.952Z"
   },
   {
    "duration": 355,
    "start_time": "2023-01-27T09:14:22.968Z"
   },
   {
    "duration": 341,
    "start_time": "2023-01-27T09:14:23.324Z"
   },
   {
    "duration": 155,
    "start_time": "2023-01-27T09:14:23.667Z"
   },
   {
    "duration": 0,
    "start_time": "2023-01-27T09:14:23.824Z"
   },
   {
    "duration": 0,
    "start_time": "2023-01-27T09:14:23.826Z"
   },
   {
    "duration": 0,
    "start_time": "2023-01-27T09:14:23.827Z"
   },
   {
    "duration": 0,
    "start_time": "2023-01-27T09:14:23.828Z"
   },
   {
    "duration": 0,
    "start_time": "2023-01-27T09:14:23.829Z"
   },
   {
    "duration": 0,
    "start_time": "2023-01-27T09:14:23.830Z"
   },
   {
    "duration": 0,
    "start_time": "2023-01-27T09:14:23.831Z"
   },
   {
    "duration": 0,
    "start_time": "2023-01-27T09:14:23.832Z"
   },
   {
    "duration": 0,
    "start_time": "2023-01-27T09:14:23.833Z"
   },
   {
    "duration": 349,
    "start_time": "2023-01-27T09:14:53.013Z"
   },
   {
    "duration": 339,
    "start_time": "2023-01-27T09:15:17.272Z"
   },
   {
    "duration": 193,
    "start_time": "2023-01-27T09:15:56.634Z"
   },
   {
    "duration": 12,
    "start_time": "2023-01-27T09:16:13.176Z"
   },
   {
    "duration": 18,
    "start_time": "2023-01-27T09:16:22.082Z"
   },
   {
    "duration": 372,
    "start_time": "2023-01-27T09:16:29.685Z"
   },
   {
    "duration": 341,
    "start_time": "2023-01-27T09:16:30.060Z"
   },
   {
    "duration": 318,
    "start_time": "2023-01-27T09:16:51.175Z"
   },
   {
    "duration": 190,
    "start_time": "2023-01-27T09:16:51.529Z"
   },
   {
    "duration": 292,
    "start_time": "2023-01-27T09:17:21.113Z"
   },
   {
    "duration": 159,
    "start_time": "2023-01-27T09:17:21.427Z"
   },
   {
    "duration": 499,
    "start_time": "2023-01-27T09:17:50.303Z"
   },
   {
    "duration": 173,
    "start_time": "2023-01-27T09:17:50.806Z"
   },
   {
    "duration": 12,
    "start_time": "2023-01-27T09:17:51.370Z"
   },
   {
    "duration": 12,
    "start_time": "2023-01-27T09:18:00.628Z"
   },
   {
    "duration": 11,
    "start_time": "2023-01-27T09:18:01.131Z"
   },
   {
    "duration": 344,
    "start_time": "2023-01-27T09:18:05.523Z"
   },
   {
    "duration": 196,
    "start_time": "2023-01-27T09:18:05.870Z"
   },
   {
    "duration": 1905,
    "start_time": "2023-01-27T09:18:46.929Z"
   },
   {
    "duration": 53,
    "start_time": "2023-01-27T09:18:48.837Z"
   },
   {
    "duration": 32,
    "start_time": "2023-01-27T09:18:48.892Z"
   },
   {
    "duration": 17,
    "start_time": "2023-01-27T09:18:48.927Z"
   },
   {
    "duration": 16,
    "start_time": "2023-01-27T09:18:48.946Z"
   },
   {
    "duration": 15,
    "start_time": "2023-01-27T09:18:48.964Z"
   },
   {
    "duration": 52,
    "start_time": "2023-01-27T09:18:48.981Z"
   },
   {
    "duration": 375,
    "start_time": "2023-01-27T09:18:49.035Z"
   },
   {
    "duration": 311,
    "start_time": "2023-01-27T09:18:49.418Z"
   },
   {
    "duration": 215,
    "start_time": "2023-01-27T09:18:49.731Z"
   },
   {
    "duration": 864,
    "start_time": "2023-01-27T09:18:49.949Z"
   },
   {
    "duration": 142,
    "start_time": "2023-01-27T09:18:50.817Z"
   },
   {
    "duration": 0,
    "start_time": "2023-01-27T09:18:50.961Z"
   },
   {
    "duration": 0,
    "start_time": "2023-01-27T09:18:50.963Z"
   },
   {
    "duration": 0,
    "start_time": "2023-01-27T09:18:50.964Z"
   },
   {
    "duration": 0,
    "start_time": "2023-01-27T09:18:50.965Z"
   },
   {
    "duration": 0,
    "start_time": "2023-01-27T09:18:50.967Z"
   },
   {
    "duration": 0,
    "start_time": "2023-01-27T09:18:50.968Z"
   },
   {
    "duration": 0,
    "start_time": "2023-01-27T09:18:50.969Z"
   },
   {
    "duration": 0,
    "start_time": "2023-01-27T09:18:50.970Z"
   },
   {
    "duration": 14,
    "start_time": "2023-01-27T09:22:09.247Z"
   },
   {
    "duration": 439,
    "start_time": "2023-01-27T09:22:12.654Z"
   },
   {
    "duration": 271,
    "start_time": "2023-01-27T09:22:13.097Z"
   },
   {
    "duration": 16,
    "start_time": "2023-01-27T09:23:14.184Z"
   },
   {
    "duration": 513,
    "start_time": "2023-01-27T09:23:20.126Z"
   },
   {
    "duration": 281,
    "start_time": "2023-01-27T09:23:20.642Z"
   },
   {
    "duration": 413,
    "start_time": "2023-01-27T09:23:50.299Z"
   },
   {
    "duration": 1299,
    "start_time": "2023-01-27T09:23:50.717Z"
   },
   {
    "duration": 374,
    "start_time": "2023-01-27T09:24:09.143Z"
   },
   {
    "duration": 412,
    "start_time": "2023-01-27T09:24:09.559Z"
   },
   {
    "duration": 385,
    "start_time": "2023-01-27T09:25:00.735Z"
   },
   {
    "duration": 463,
    "start_time": "2023-01-27T09:25:22.959Z"
   },
   {
    "duration": 340,
    "start_time": "2023-01-27T09:25:42.108Z"
   },
   {
    "duration": 426,
    "start_time": "2023-01-27T09:25:48.438Z"
   },
   {
    "duration": 24,
    "start_time": "2023-01-27T09:26:22.375Z"
   },
   {
    "duration": 389,
    "start_time": "2023-01-27T09:26:26.521Z"
   },
   {
    "duration": 332,
    "start_time": "2023-01-27T09:26:27.013Z"
   },
   {
    "duration": 472,
    "start_time": "2023-01-27T09:26:27.442Z"
   },
   {
    "duration": 26,
    "start_time": "2023-01-27T09:27:18.018Z"
   },
   {
    "duration": 517,
    "start_time": "2023-01-27T09:27:22.440Z"
   },
   {
    "duration": 381,
    "start_time": "2023-01-27T09:27:22.960Z"
   },
   {
    "duration": 414,
    "start_time": "2023-01-27T09:27:23.343Z"
   },
   {
    "duration": 440,
    "start_time": "2023-01-27T09:27:35.535Z"
   },
   {
    "duration": 430,
    "start_time": "2023-01-27T09:28:47.705Z"
   },
   {
    "duration": 400,
    "start_time": "2023-01-27T09:28:55.913Z"
   },
   {
    "duration": 508,
    "start_time": "2023-01-27T09:29:01.235Z"
   },
   {
    "duration": 291,
    "start_time": "2023-01-27T09:29:26.753Z"
   },
   {
    "duration": 435,
    "start_time": "2023-01-27T09:30:17.258Z"
   },
   {
    "duration": 419,
    "start_time": "2023-01-27T09:30:29.941Z"
   },
   {
    "duration": 361,
    "start_time": "2023-01-27T09:31:56.318Z"
   },
   {
    "duration": 382,
    "start_time": "2023-01-27T09:32:04.413Z"
   },
   {
    "duration": 502,
    "start_time": "2023-01-27T09:32:09.143Z"
   },
   {
    "duration": 22,
    "start_time": "2023-01-27T09:32:13.128Z"
   },
   {
    "duration": 385,
    "start_time": "2023-01-27T09:32:19.379Z"
   },
   {
    "duration": 564,
    "start_time": "2023-01-27T09:32:44.944Z"
   },
   {
    "duration": 632,
    "start_time": "2023-01-27T09:33:15.916Z"
   },
   {
    "duration": 568,
    "start_time": "2023-01-27T09:33:26.813Z"
   },
   {
    "duration": 695,
    "start_time": "2023-01-27T09:33:37.247Z"
   },
   {
    "duration": 542,
    "start_time": "2023-01-27T09:33:46.933Z"
   },
   {
    "duration": 618,
    "start_time": "2023-01-27T09:33:57.488Z"
   },
   {
    "duration": 617,
    "start_time": "2023-01-27T09:34:11.112Z"
   },
   {
    "duration": 571,
    "start_time": "2023-01-27T09:34:15.945Z"
   },
   {
    "duration": 648,
    "start_time": "2023-01-27T09:34:26.417Z"
   },
   {
    "duration": 800,
    "start_time": "2023-01-27T09:34:35.949Z"
   },
   {
    "duration": 702,
    "start_time": "2023-01-27T09:52:11.879Z"
   },
   {
    "duration": 858,
    "start_time": "2023-01-27T09:52:20.146Z"
   },
   {
    "duration": 726,
    "start_time": "2023-01-27T09:52:25.446Z"
   },
   {
    "duration": 597,
    "start_time": "2023-01-27T09:52:34.779Z"
   },
   {
    "duration": 776,
    "start_time": "2023-01-27T09:52:45.241Z"
   },
   {
    "duration": 425,
    "start_time": "2023-01-27T09:52:55.739Z"
   },
   {
    "duration": 761,
    "start_time": "2023-01-27T09:53:00.164Z"
   },
   {
    "duration": 28,
    "start_time": "2023-01-27T09:53:09.312Z"
   },
   {
    "duration": 19,
    "start_time": "2023-01-27T09:53:14.241Z"
   },
   {
    "duration": 640,
    "start_time": "2023-01-27T09:53:17.912Z"
   },
   {
    "duration": 1075,
    "start_time": "2023-01-27T09:53:41.633Z"
   },
   {
    "duration": 936,
    "start_time": "2023-01-27T09:53:54.182Z"
   },
   {
    "duration": 795,
    "start_time": "2023-01-27T09:54:06.159Z"
   },
   {
    "duration": 745,
    "start_time": "2023-01-27T09:54:13.372Z"
   },
   {
    "duration": 620,
    "start_time": "2023-01-27T09:54:21.207Z"
   },
   {
    "duration": 791,
    "start_time": "2023-01-27T09:54:27.075Z"
   },
   {
    "duration": 768,
    "start_time": "2023-01-27T09:55:17.781Z"
   },
   {
    "duration": 948,
    "start_time": "2023-01-27T09:55:41.877Z"
   },
   {
    "duration": 1031,
    "start_time": "2023-01-27T09:55:50.550Z"
   },
   {
    "duration": 863,
    "start_time": "2023-01-27T09:56:21.238Z"
   },
   {
    "duration": 969,
    "start_time": "2023-01-27T09:56:47.209Z"
   },
   {
    "duration": 719,
    "start_time": "2023-01-27T11:01:33.790Z"
   },
   {
    "duration": 700,
    "start_time": "2023-01-27T11:01:47.718Z"
   },
   {
    "duration": 716,
    "start_time": "2023-01-27T11:02:10.017Z"
   },
   {
    "duration": 771,
    "start_time": "2023-01-27T11:02:27.039Z"
   },
   {
    "duration": 655,
    "start_time": "2023-01-27T11:02:54.270Z"
   },
   {
    "duration": 661,
    "start_time": "2023-01-27T11:03:22.406Z"
   },
   {
    "duration": 717,
    "start_time": "2023-01-27T11:03:52.403Z"
   },
   {
    "duration": 529,
    "start_time": "2023-01-27T11:04:33.915Z"
   },
   {
    "duration": 314,
    "start_time": "2023-01-27T11:05:15.142Z"
   },
   {
    "duration": 287,
    "start_time": "2023-01-27T11:05:20.851Z"
   },
   {
    "duration": 432,
    "start_time": "2023-01-27T11:05:45.446Z"
   },
   {
    "duration": 321,
    "start_time": "2023-01-27T11:05:51.011Z"
   },
   {
    "duration": 535,
    "start_time": "2023-01-27T11:05:56.429Z"
   },
   {
    "duration": 305,
    "start_time": "2023-01-27T11:06:10.703Z"
   },
   {
    "duration": 281,
    "start_time": "2023-01-27T11:06:28.204Z"
   },
   {
    "duration": 369,
    "start_time": "2023-01-27T11:06:49.561Z"
   },
   {
    "duration": 59,
    "start_time": "2023-01-27T11:06:57.020Z"
   },
   {
    "duration": 200,
    "start_time": "2023-01-27T11:07:14.519Z"
   },
   {
    "duration": 334,
    "start_time": "2023-01-27T11:07:35.466Z"
   },
   {
    "duration": 285,
    "start_time": "2023-01-27T11:07:52.631Z"
   },
   {
    "duration": 329,
    "start_time": "2023-01-27T11:08:01.655Z"
   },
   {
    "duration": 394,
    "start_time": "2023-01-27T11:09:37.175Z"
   },
   {
    "duration": 298,
    "start_time": "2023-01-27T11:09:46.421Z"
   },
   {
    "duration": 430,
    "start_time": "2023-01-27T11:10:55.072Z"
   },
   {
    "duration": 512,
    "start_time": "2023-01-27T11:11:17.805Z"
   },
   {
    "duration": 555,
    "start_time": "2023-01-27T11:11:26.432Z"
   },
   {
    "duration": 626,
    "start_time": "2023-01-27T11:11:38.231Z"
   },
   {
    "duration": 490,
    "start_time": "2023-01-27T11:11:52.970Z"
   },
   {
    "duration": 548,
    "start_time": "2023-01-27T11:12:01.570Z"
   },
   {
    "duration": 569,
    "start_time": "2023-01-27T11:12:09.745Z"
   },
   {
    "duration": 556,
    "start_time": "2023-01-27T11:12:19.080Z"
   },
   {
    "duration": 264,
    "start_time": "2023-01-27T11:12:44.375Z"
   },
   {
    "duration": 463,
    "start_time": "2023-01-27T11:13:11.577Z"
   },
   {
    "duration": 291,
    "start_time": "2023-01-27T11:13:26.649Z"
   },
   {
    "duration": 287,
    "start_time": "2023-01-27T11:13:38.397Z"
   },
   {
    "duration": 270,
    "start_time": "2023-01-27T11:14:08.891Z"
   },
   {
    "duration": 341,
    "start_time": "2023-01-27T11:14:14.233Z"
   },
   {
    "duration": 494,
    "start_time": "2023-01-27T11:14:22.035Z"
   },
   {
    "duration": 26,
    "start_time": "2023-01-27T11:14:41.883Z"
   },
   {
    "duration": 19,
    "start_time": "2023-01-27T11:14:46.133Z"
   },
   {
    "duration": 434,
    "start_time": "2023-01-27T11:14:50.888Z"
   },
   {
    "duration": 448,
    "start_time": "2023-01-27T11:15:00.588Z"
   },
   {
    "duration": 557,
    "start_time": "2023-01-27T11:15:15.255Z"
   },
   {
    "duration": 524,
    "start_time": "2023-01-27T11:15:22.548Z"
   },
   {
    "duration": 559,
    "start_time": "2023-01-27T11:15:31.051Z"
   },
   {
    "duration": 550,
    "start_time": "2023-01-27T11:15:40.978Z"
   },
   {
    "duration": 548,
    "start_time": "2023-01-27T11:15:47.082Z"
   },
   {
    "duration": 676,
    "start_time": "2023-01-27T11:16:08.576Z"
   },
   {
    "duration": 390,
    "start_time": "2023-01-27T11:16:25.908Z"
   },
   {
    "duration": 570,
    "start_time": "2023-01-27T11:16:30.783Z"
   },
   {
    "duration": 549,
    "start_time": "2023-01-27T11:16:41.010Z"
   },
   {
    "duration": 524,
    "start_time": "2023-01-27T11:16:58.475Z"
   },
   {
    "duration": 686,
    "start_time": "2023-01-27T11:17:23.901Z"
   },
   {
    "duration": 512,
    "start_time": "2023-01-27T11:18:13.456Z"
   },
   {
    "duration": 521,
    "start_time": "2023-01-27T11:18:33.760Z"
   },
   {
    "duration": 261,
    "start_time": "2023-01-27T11:19:30.203Z"
   },
   {
    "duration": 670,
    "start_time": "2023-01-27T11:19:31.619Z"
   },
   {
    "duration": 257,
    "start_time": "2023-01-27T11:19:51.651Z"
   },
   {
    "duration": 173,
    "start_time": "2023-01-27T11:20:44.779Z"
   },
   {
    "duration": 546,
    "start_time": "2023-01-27T11:21:09.604Z"
   },
   {
    "duration": 318,
    "start_time": "2023-01-27T11:21:18.635Z"
   },
   {
    "duration": 336,
    "start_time": "2023-01-27T11:21:52.380Z"
   },
   {
    "duration": 296,
    "start_time": "2023-01-27T11:22:50.267Z"
   },
   {
    "duration": 1282,
    "start_time": "2023-01-27T11:25:49.387Z"
   },
   {
    "duration": 940,
    "start_time": "2023-01-27T11:26:06.485Z"
   },
   {
    "duration": 862,
    "start_time": "2023-01-27T11:26:30.259Z"
   },
   {
    "duration": 646,
    "start_time": "2023-01-27T11:26:43.959Z"
   },
   {
    "duration": 988,
    "start_time": "2023-01-27T11:26:58.005Z"
   },
   {
    "duration": 1085,
    "start_time": "2023-01-27T11:27:24.667Z"
   },
   {
    "duration": 1016,
    "start_time": "2023-01-27T11:27:58.805Z"
   },
   {
    "duration": 1183,
    "start_time": "2023-01-27T11:28:12.525Z"
   },
   {
    "duration": 1009,
    "start_time": "2023-01-27T11:28:56.678Z"
   },
   {
    "duration": 1153,
    "start_time": "2023-01-27T11:29:10.349Z"
   },
   {
    "duration": 1085,
    "start_time": "2023-01-27T11:30:44.405Z"
   },
   {
    "duration": 1299,
    "start_time": "2023-01-27T11:31:07.022Z"
   },
   {
    "duration": 1217,
    "start_time": "2023-01-27T11:32:38.271Z"
   },
   {
    "duration": 822,
    "start_time": "2023-01-27T11:33:22.203Z"
   },
   {
    "duration": 948,
    "start_time": "2023-01-27T11:33:38.205Z"
   },
   {
    "duration": 790,
    "start_time": "2023-01-27T11:34:12.203Z"
   },
   {
    "duration": 771,
    "start_time": "2023-01-27T11:34:54.419Z"
   },
   {
    "duration": 679,
    "start_time": "2023-01-27T11:35:08.512Z"
   },
   {
    "duration": 793,
    "start_time": "2023-01-27T11:35:16.835Z"
   },
   {
    "duration": 983,
    "start_time": "2023-01-27T11:35:30.402Z"
   },
   {
    "duration": 306,
    "start_time": "2023-01-27T11:35:37.378Z"
   },
   {
    "duration": 323,
    "start_time": "2023-01-27T11:35:53.712Z"
   },
   {
    "duration": 829,
    "start_time": "2023-01-27T11:35:59.663Z"
   },
   {
    "duration": 703,
    "start_time": "2023-01-27T11:36:21.639Z"
   },
   {
    "duration": 878,
    "start_time": "2023-01-27T11:36:33.832Z"
   },
   {
    "duration": 934,
    "start_time": "2023-01-27T11:36:45.456Z"
   },
   {
    "duration": 630,
    "start_time": "2023-01-27T11:36:57.546Z"
   },
   {
    "duration": 846,
    "start_time": "2023-01-27T11:37:01.466Z"
   },
   {
    "duration": 895,
    "start_time": "2023-01-27T11:37:09.643Z"
   },
   {
    "duration": 648,
    "start_time": "2023-01-27T11:37:16.872Z"
   },
   {
    "duration": 848,
    "start_time": "2023-01-27T11:37:23.572Z"
   },
   {
    "duration": 760,
    "start_time": "2023-01-27T11:37:49.939Z"
   },
   {
    "duration": 642,
    "start_time": "2023-01-27T11:38:03.937Z"
   },
   {
    "duration": 529,
    "start_time": "2023-01-27T11:38:18.201Z"
   },
   {
    "duration": 621,
    "start_time": "2023-01-27T11:38:35.424Z"
   },
   {
    "duration": 596,
    "start_time": "2023-01-27T11:38:49.083Z"
   },
   {
    "duration": 548,
    "start_time": "2023-01-27T11:39:01.003Z"
   },
   {
    "duration": 376,
    "start_time": "2023-01-27T11:39:16.959Z"
   },
   {
    "duration": 492,
    "start_time": "2023-01-27T11:39:28.553Z"
   },
   {
    "duration": 675,
    "start_time": "2023-01-27T11:39:41.554Z"
   },
   {
    "duration": 92,
    "start_time": "2023-01-27T11:40:28.774Z"
   },
   {
    "duration": 666,
    "start_time": "2023-01-27T11:42:08.454Z"
   },
   {
    "duration": 752,
    "start_time": "2023-01-27T11:42:15.781Z"
   },
   {
    "duration": 294,
    "start_time": "2023-01-27T11:42:39.719Z"
   },
   {
    "duration": 338,
    "start_time": "2023-01-27T11:42:58.346Z"
   },
   {
    "duration": 262,
    "start_time": "2023-01-27T11:43:05.251Z"
   },
   {
    "duration": 275,
    "start_time": "2023-01-27T11:43:09.116Z"
   },
   {
    "duration": 322,
    "start_time": "2023-01-27T11:43:22.733Z"
   },
   {
    "duration": 278,
    "start_time": "2023-01-27T11:43:39.684Z"
   },
   {
    "duration": 224,
    "start_time": "2023-01-27T11:43:51.882Z"
   },
   {
    "duration": 1585,
    "start_time": "2023-01-27T11:57:33.036Z"
   },
   {
    "duration": 49,
    "start_time": "2023-01-27T11:57:34.623Z"
   },
   {
    "duration": 24,
    "start_time": "2023-01-27T11:57:34.674Z"
   },
   {
    "duration": 4,
    "start_time": "2023-01-27T11:57:34.701Z"
   },
   {
    "duration": 22,
    "start_time": "2023-01-27T11:57:34.707Z"
   },
   {
    "duration": 21,
    "start_time": "2023-01-27T11:57:34.731Z"
   },
   {
    "duration": 33,
    "start_time": "2023-01-27T11:57:34.754Z"
   },
   {
    "duration": 300,
    "start_time": "2023-01-27T11:57:34.789Z"
   },
   {
    "duration": 362,
    "start_time": "2023-01-27T11:57:35.091Z"
   },
   {
    "duration": 790,
    "start_time": "2023-01-27T11:57:35.455Z"
   },
   {
    "duration": 24,
    "start_time": "2023-01-27T11:57:36.248Z"
   },
   {
    "duration": 32,
    "start_time": "2023-01-27T11:57:36.274Z"
   },
   {
    "duration": 17,
    "start_time": "2023-01-27T11:57:36.308Z"
   },
   {
    "duration": 23,
    "start_time": "2023-01-27T11:57:36.327Z"
   },
   {
    "duration": 27,
    "start_time": "2023-01-27T11:57:36.352Z"
   },
   {
    "duration": 10,
    "start_time": "2023-01-27T11:57:36.381Z"
   },
   {
    "duration": 14,
    "start_time": "2023-01-27T11:57:36.392Z"
   },
   {
    "duration": 34,
    "start_time": "2023-01-27T11:57:36.407Z"
   },
   {
    "duration": 20,
    "start_time": "2023-01-27T11:58:58.487Z"
   },
   {
    "duration": 1735,
    "start_time": "2023-01-27T12:05:58.074Z"
   },
   {
    "duration": 60,
    "start_time": "2023-01-27T12:05:59.812Z"
   },
   {
    "duration": 38,
    "start_time": "2023-01-27T12:05:59.874Z"
   },
   {
    "duration": 9,
    "start_time": "2023-01-27T12:05:59.914Z"
   },
   {
    "duration": 25,
    "start_time": "2023-01-27T12:05:59.927Z"
   },
   {
    "duration": 21,
    "start_time": "2023-01-27T12:05:59.954Z"
   },
   {
    "duration": 42,
    "start_time": "2023-01-27T12:05:59.978Z"
   },
   {
    "duration": 329,
    "start_time": "2023-01-27T12:06:00.026Z"
   },
   {
    "duration": 400,
    "start_time": "2023-01-27T12:06:00.357Z"
   },
   {
    "duration": 864,
    "start_time": "2023-01-27T12:06:00.758Z"
   },
   {
    "duration": 26,
    "start_time": "2023-01-27T12:06:01.624Z"
   },
   {
    "duration": 28,
    "start_time": "2023-01-27T12:06:01.652Z"
   },
   {
    "duration": 23,
    "start_time": "2023-01-27T12:06:01.682Z"
   },
   {
    "duration": 38,
    "start_time": "2023-01-27T12:06:01.709Z"
   },
   {
    "duration": 32,
    "start_time": "2023-01-27T12:06:01.750Z"
   },
   {
    "duration": 47,
    "start_time": "2023-01-27T12:06:01.784Z"
   },
   {
    "duration": 21,
    "start_time": "2023-01-27T12:06:01.833Z"
   },
   {
    "duration": 49,
    "start_time": "2023-01-27T12:06:01.857Z"
   },
   {
    "duration": 14,
    "start_time": "2023-01-27T12:06:01.912Z"
   },
   {
    "duration": 85743,
    "start_time": "2023-01-27T12:06:01.928Z"
   },
   {
    "duration": 8,
    "start_time": "2023-01-27T12:07:27.673Z"
   },
   {
    "duration": 1763,
    "start_time": "2023-01-27T12:07:47.462Z"
   },
   {
    "duration": 51,
    "start_time": "2023-01-27T12:07:49.228Z"
   },
   {
    "duration": 29,
    "start_time": "2023-01-27T12:07:49.281Z"
   },
   {
    "duration": 4,
    "start_time": "2023-01-27T12:07:49.312Z"
   },
   {
    "duration": 6,
    "start_time": "2023-01-27T12:07:49.318Z"
   },
   {
    "duration": 20,
    "start_time": "2023-01-27T12:07:49.325Z"
   },
   {
    "duration": 36,
    "start_time": "2023-01-27T12:07:49.348Z"
   },
   {
    "duration": 357,
    "start_time": "2023-01-27T12:07:49.387Z"
   },
   {
    "duration": 417,
    "start_time": "2023-01-27T12:07:49.746Z"
   },
   {
    "duration": 919,
    "start_time": "2023-01-27T12:07:50.165Z"
   },
   {
    "duration": 24,
    "start_time": "2023-01-27T12:07:51.086Z"
   },
   {
    "duration": 74,
    "start_time": "2023-01-27T12:07:51.112Z"
   },
   {
    "duration": 3,
    "start_time": "2023-01-27T12:07:51.189Z"
   },
   {
    "duration": 13,
    "start_time": "2023-01-27T12:07:51.195Z"
   },
   {
    "duration": 4,
    "start_time": "2023-01-27T12:07:51.210Z"
   },
   {
    "duration": 74,
    "start_time": "2023-01-27T12:07:51.217Z"
   },
   {
    "duration": 4,
    "start_time": "2023-01-27T12:07:51.294Z"
   },
   {
    "duration": 21,
    "start_time": "2023-01-27T12:07:51.300Z"
   },
   {
    "duration": 54,
    "start_time": "2023-01-27T12:07:51.325Z"
   },
   {
    "duration": 8176,
    "start_time": "2023-01-27T12:07:51.381Z"
   },
   {
    "duration": 6,
    "start_time": "2023-01-27T12:07:59.559Z"
   },
   {
    "duration": 1610,
    "start_time": "2023-01-27T12:08:42.829Z"
   },
   {
    "duration": 48,
    "start_time": "2023-01-27T12:08:44.441Z"
   },
   {
    "duration": 27,
    "start_time": "2023-01-27T12:08:44.491Z"
   },
   {
    "duration": 13,
    "start_time": "2023-01-27T12:08:44.520Z"
   },
   {
    "duration": 21,
    "start_time": "2023-01-27T12:08:44.536Z"
   },
   {
    "duration": 26,
    "start_time": "2023-01-27T12:08:44.559Z"
   },
   {
    "duration": 23,
    "start_time": "2023-01-27T12:08:44.588Z"
   },
   {
    "duration": 298,
    "start_time": "2023-01-27T12:08:44.613Z"
   },
   {
    "duration": 390,
    "start_time": "2023-01-27T12:08:44.913Z"
   },
   {
    "duration": 844,
    "start_time": "2023-01-27T12:08:45.306Z"
   },
   {
    "duration": 26,
    "start_time": "2023-01-27T12:08:46.152Z"
   },
   {
    "duration": 19,
    "start_time": "2023-01-27T12:08:46.181Z"
   },
   {
    "duration": 3,
    "start_time": "2023-01-27T12:08:46.202Z"
   },
   {
    "duration": 6,
    "start_time": "2023-01-27T12:08:46.210Z"
   },
   {
    "duration": 7,
    "start_time": "2023-01-27T12:08:46.218Z"
   },
   {
    "duration": 57,
    "start_time": "2023-01-27T12:08:46.227Z"
   },
   {
    "duration": 4,
    "start_time": "2023-01-27T12:08:46.286Z"
   },
   {
    "duration": 30,
    "start_time": "2023-01-27T12:08:46.293Z"
   },
   {
    "duration": 191,
    "start_time": "2023-01-27T12:08:46.326Z"
   },
   {
    "duration": 0,
    "start_time": "2023-01-27T12:08:46.519Z"
   },
   {
    "duration": 0,
    "start_time": "2023-01-27T12:08:46.521Z"
   },
   {
    "duration": 1628,
    "start_time": "2023-01-27T12:09:16.719Z"
   },
   {
    "duration": 48,
    "start_time": "2023-01-27T12:09:18.349Z"
   },
   {
    "duration": 24,
    "start_time": "2023-01-27T12:09:18.399Z"
   },
   {
    "duration": 4,
    "start_time": "2023-01-27T12:09:18.425Z"
   },
   {
    "duration": 6,
    "start_time": "2023-01-27T12:09:18.432Z"
   },
   {
    "duration": 6,
    "start_time": "2023-01-27T12:09:18.441Z"
   },
   {
    "duration": 44,
    "start_time": "2023-01-27T12:09:18.449Z"
   },
   {
    "duration": 328,
    "start_time": "2023-01-27T12:09:18.495Z"
   },
   {
    "duration": 397,
    "start_time": "2023-01-27T12:09:18.825Z"
   },
   {
    "duration": 998,
    "start_time": "2023-01-27T12:09:19.224Z"
   },
   {
    "duration": 23,
    "start_time": "2023-01-27T12:09:20.224Z"
   },
   {
    "duration": 19,
    "start_time": "2023-01-27T12:09:20.249Z"
   },
   {
    "duration": 4,
    "start_time": "2023-01-27T12:09:20.270Z"
   },
   {
    "duration": 10,
    "start_time": "2023-01-27T12:09:20.277Z"
   },
   {
    "duration": 7,
    "start_time": "2023-01-27T12:09:20.289Z"
   },
   {
    "duration": 37,
    "start_time": "2023-01-27T12:09:20.298Z"
   },
   {
    "duration": 4,
    "start_time": "2023-01-27T12:09:20.337Z"
   },
   {
    "duration": 8,
    "start_time": "2023-01-27T12:09:20.343Z"
   },
   {
    "duration": 8,
    "start_time": "2023-01-27T12:09:20.354Z"
   },
   {
    "duration": 336122,
    "start_time": "2023-01-27T12:09:20.364Z"
   },
   {
    "duration": 28,
    "start_time": "2023-01-27T12:14:56.488Z"
   },
   {
    "duration": 2860,
    "start_time": "2023-01-27T12:15:03.423Z"
   },
   {
    "duration": 63,
    "start_time": "2023-01-27T12:15:06.286Z"
   },
   {
    "duration": 45,
    "start_time": "2023-01-27T12:15:06.351Z"
   },
   {
    "duration": 6,
    "start_time": "2023-01-27T12:15:06.398Z"
   },
   {
    "duration": 20,
    "start_time": "2023-01-27T12:15:06.408Z"
   },
   {
    "duration": 19,
    "start_time": "2023-01-27T12:15:06.431Z"
   },
   {
    "duration": 33,
    "start_time": "2023-01-27T12:15:06.452Z"
   },
   {
    "duration": 528,
    "start_time": "2023-01-27T12:15:06.487Z"
   },
   {
    "duration": 536,
    "start_time": "2023-01-27T12:15:07.017Z"
   },
   {
    "duration": 1083,
    "start_time": "2023-01-27T12:15:07.555Z"
   },
   {
    "duration": 37,
    "start_time": "2023-01-27T12:15:08.641Z"
   },
   {
    "duration": 23,
    "start_time": "2023-01-27T12:15:08.681Z"
   },
   {
    "duration": 21,
    "start_time": "2023-01-27T12:15:08.707Z"
   },
   {
    "duration": 10,
    "start_time": "2023-01-27T12:15:08.733Z"
   },
   {
    "duration": 195,
    "start_time": "2023-01-27T12:15:08.746Z"
   },
   {
    "duration": 0,
    "start_time": "2023-01-27T12:15:08.943Z"
   },
   {
    "duration": 0,
    "start_time": "2023-01-27T12:15:08.944Z"
   },
   {
    "duration": 0,
    "start_time": "2023-01-27T12:15:08.945Z"
   },
   {
    "duration": 0,
    "start_time": "2023-01-27T12:15:08.946Z"
   },
   {
    "duration": 0,
    "start_time": "2023-01-27T12:15:08.947Z"
   },
   {
    "duration": 0,
    "start_time": "2023-01-27T12:15:08.949Z"
   },
   {
    "duration": 1633,
    "start_time": "2023-01-27T12:15:31.888Z"
   },
   {
    "duration": 51,
    "start_time": "2023-01-27T12:15:33.527Z"
   },
   {
    "duration": 38,
    "start_time": "2023-01-27T12:15:33.581Z"
   },
   {
    "duration": 5,
    "start_time": "2023-01-27T12:15:33.621Z"
   },
   {
    "duration": 24,
    "start_time": "2023-01-27T12:15:33.629Z"
   },
   {
    "duration": 54,
    "start_time": "2023-01-27T12:15:33.655Z"
   },
   {
    "duration": 30,
    "start_time": "2023-01-27T12:15:33.711Z"
   },
   {
    "duration": 338,
    "start_time": "2023-01-27T12:15:33.743Z"
   },
   {
    "duration": 382,
    "start_time": "2023-01-27T12:15:34.084Z"
   },
   {
    "duration": 866,
    "start_time": "2023-01-27T12:15:34.468Z"
   },
   {
    "duration": 30,
    "start_time": "2023-01-27T12:15:35.336Z"
   },
   {
    "duration": 36,
    "start_time": "2023-01-27T12:15:35.368Z"
   },
   {
    "duration": 18,
    "start_time": "2023-01-27T12:15:35.407Z"
   },
   {
    "duration": 27,
    "start_time": "2023-01-27T12:15:35.430Z"
   },
   {
    "duration": 16,
    "start_time": "2023-01-27T12:15:35.459Z"
   },
   {
    "duration": 32,
    "start_time": "2023-01-27T12:15:35.477Z"
   },
   {
    "duration": 4,
    "start_time": "2023-01-27T12:15:35.512Z"
   },
   {
    "duration": 16,
    "start_time": "2023-01-27T12:15:35.517Z"
   },
   {
    "duration": 18,
    "start_time": "2023-01-27T12:15:35.536Z"
   },
   {
    "duration": 50489,
    "start_time": "2023-01-27T12:15:35.557Z"
   },
   {
    "duration": 18,
    "start_time": "2023-01-27T12:16:26.048Z"
   },
   {
    "duration": 1664,
    "start_time": "2023-01-27T12:16:27.892Z"
   },
   {
    "duration": 58,
    "start_time": "2023-01-27T12:16:29.558Z"
   },
   {
    "duration": 33,
    "start_time": "2023-01-27T12:16:29.619Z"
   },
   {
    "duration": 5,
    "start_time": "2023-01-27T12:16:29.655Z"
   },
   {
    "duration": 35,
    "start_time": "2023-01-27T12:16:29.663Z"
   },
   {
    "duration": 21,
    "start_time": "2023-01-27T12:16:29.700Z"
   },
   {
    "duration": 40,
    "start_time": "2023-01-27T12:16:29.724Z"
   },
   {
    "duration": 352,
    "start_time": "2023-01-27T12:16:29.767Z"
   },
   {
    "duration": 379,
    "start_time": "2023-01-27T12:16:30.122Z"
   },
   {
    "duration": 859,
    "start_time": "2023-01-27T12:16:30.503Z"
   },
   {
    "duration": 38,
    "start_time": "2023-01-27T12:16:31.365Z"
   },
   {
    "duration": 29,
    "start_time": "2023-01-27T12:16:31.406Z"
   },
   {
    "duration": 30,
    "start_time": "2023-01-27T12:16:31.437Z"
   },
   {
    "duration": 38,
    "start_time": "2023-01-27T12:16:31.470Z"
   },
   {
    "duration": 42,
    "start_time": "2023-01-27T12:16:31.509Z"
   },
   {
    "duration": 61,
    "start_time": "2023-01-27T12:16:31.553Z"
   },
   {
    "duration": 55,
    "start_time": "2023-01-27T12:16:31.616Z"
   },
   {
    "duration": 74,
    "start_time": "2023-01-27T12:16:31.673Z"
   },
   {
    "duration": 61,
    "start_time": "2023-01-27T12:16:31.748Z"
   },
   {
    "duration": 9158,
    "start_time": "2023-01-27T12:16:31.811Z"
   },
   {
    "duration": 7,
    "start_time": "2023-01-27T12:16:40.971Z"
   },
   {
    "duration": 1878,
    "start_time": "2023-01-27T12:17:18.519Z"
   },
   {
    "duration": 61,
    "start_time": "2023-01-27T12:17:20.400Z"
   },
   {
    "duration": 38,
    "start_time": "2023-01-27T12:17:20.463Z"
   },
   {
    "duration": 5,
    "start_time": "2023-01-27T12:17:20.504Z"
   },
   {
    "duration": 17,
    "start_time": "2023-01-27T12:17:20.511Z"
   },
   {
    "duration": 24,
    "start_time": "2023-01-27T12:17:20.531Z"
   },
   {
    "duration": 29,
    "start_time": "2023-01-27T12:17:20.558Z"
   },
   {
    "duration": 323,
    "start_time": "2023-01-27T12:17:20.589Z"
   },
   {
    "duration": 375,
    "start_time": "2023-01-27T12:17:20.914Z"
   },
   {
    "duration": 861,
    "start_time": "2023-01-27T12:17:21.293Z"
   },
   {
    "duration": 32,
    "start_time": "2023-01-27T12:17:22.157Z"
   },
   {
    "duration": 35,
    "start_time": "2023-01-27T12:17:22.192Z"
   },
   {
    "duration": 4,
    "start_time": "2023-01-27T12:17:22.229Z"
   },
   {
    "duration": 25,
    "start_time": "2023-01-27T12:17:22.238Z"
   },
   {
    "duration": 11,
    "start_time": "2023-01-27T12:17:22.266Z"
   },
   {
    "duration": 35,
    "start_time": "2023-01-27T12:17:22.279Z"
   },
   {
    "duration": 51,
    "start_time": "2023-01-27T12:17:22.316Z"
   },
   {
    "duration": 34,
    "start_time": "2023-01-27T12:17:22.369Z"
   },
   {
    "duration": 23,
    "start_time": "2023-01-27T12:17:22.406Z"
   },
   {
    "duration": 47388,
    "start_time": "2023-01-27T12:17:22.432Z"
   },
   {
    "duration": 10,
    "start_time": "2023-01-27T12:18:09.822Z"
   },
   {
    "duration": 1708,
    "start_time": "2023-01-27T12:37:20.181Z"
   },
   {
    "duration": 50,
    "start_time": "2023-01-27T12:37:21.891Z"
   },
   {
    "duration": 28,
    "start_time": "2023-01-27T12:37:21.943Z"
   },
   {
    "duration": 14,
    "start_time": "2023-01-27T12:37:21.973Z"
   },
   {
    "duration": 28,
    "start_time": "2023-01-27T12:37:21.990Z"
   },
   {
    "duration": 34,
    "start_time": "2023-01-27T12:37:22.023Z"
   },
   {
    "duration": 32,
    "start_time": "2023-01-27T12:37:22.059Z"
   },
   {
    "duration": 324,
    "start_time": "2023-01-27T12:37:22.093Z"
   },
   {
    "duration": 361,
    "start_time": "2023-01-27T12:37:22.419Z"
   },
   {
    "duration": 794,
    "start_time": "2023-01-27T12:37:22.784Z"
   },
   {
    "duration": 24,
    "start_time": "2023-01-27T12:37:23.579Z"
   },
   {
    "duration": 24,
    "start_time": "2023-01-27T12:37:23.606Z"
   },
   {
    "duration": 27,
    "start_time": "2023-01-27T12:37:23.632Z"
   },
   {
    "duration": 34,
    "start_time": "2023-01-27T12:37:23.662Z"
   },
   {
    "duration": 157,
    "start_time": "2023-01-27T12:37:23.698Z"
   },
   {
    "duration": 0,
    "start_time": "2023-01-27T12:37:23.857Z"
   },
   {
    "duration": 0,
    "start_time": "2023-01-27T12:37:23.858Z"
   },
   {
    "duration": 0,
    "start_time": "2023-01-27T12:37:23.860Z"
   },
   {
    "duration": 0,
    "start_time": "2023-01-27T12:37:23.862Z"
   },
   {
    "duration": 0,
    "start_time": "2023-01-27T12:37:23.863Z"
   },
   {
    "duration": 0,
    "start_time": "2023-01-27T12:37:23.865Z"
   },
   {
    "duration": 0,
    "start_time": "2023-01-27T12:37:23.866Z"
   },
   {
    "duration": 1542,
    "start_time": "2023-01-27T12:38:00.617Z"
   },
   {
    "duration": 49,
    "start_time": "2023-01-27T12:38:02.161Z"
   },
   {
    "duration": 31,
    "start_time": "2023-01-27T12:38:02.212Z"
   },
   {
    "duration": 27,
    "start_time": "2023-01-27T12:38:02.245Z"
   },
   {
    "duration": 30,
    "start_time": "2023-01-27T12:38:02.275Z"
   },
   {
    "duration": 30,
    "start_time": "2023-01-27T12:38:02.308Z"
   },
   {
    "duration": 39,
    "start_time": "2023-01-27T12:38:02.339Z"
   },
   {
    "duration": 301,
    "start_time": "2023-01-27T12:38:02.379Z"
   },
   {
    "duration": 366,
    "start_time": "2023-01-27T12:38:02.684Z"
   },
   {
    "duration": 786,
    "start_time": "2023-01-27T12:38:03.052Z"
   },
   {
    "duration": 23,
    "start_time": "2023-01-27T12:38:03.840Z"
   },
   {
    "duration": 16,
    "start_time": "2023-01-27T12:38:03.865Z"
   },
   {
    "duration": 3,
    "start_time": "2023-01-27T12:38:03.883Z"
   },
   {
    "duration": 7,
    "start_time": "2023-01-27T12:38:03.890Z"
   },
   {
    "duration": 26,
    "start_time": "2023-01-27T12:38:03.899Z"
   },
   {
    "duration": 3,
    "start_time": "2023-01-27T12:38:03.927Z"
   },
   {
    "duration": 22,
    "start_time": "2023-01-27T12:38:03.932Z"
   },
   {
    "duration": 3,
    "start_time": "2023-01-27T12:38:03.957Z"
   },
   {
    "duration": 25,
    "start_time": "2023-01-27T12:38:03.962Z"
   },
   {
    "duration": 8,
    "start_time": "2023-01-27T12:38:03.989Z"
   },
   {
    "duration": 161,
    "start_time": "2023-01-27T12:38:03.998Z"
   },
   {
    "duration": 12,
    "start_time": "2023-01-27T12:38:04.162Z"
   },
   {
    "duration": 1613,
    "start_time": "2023-01-27T12:38:37.485Z"
   },
   {
    "duration": 47,
    "start_time": "2023-01-27T12:38:39.100Z"
   },
   {
    "duration": 22,
    "start_time": "2023-01-27T12:38:39.149Z"
   },
   {
    "duration": 3,
    "start_time": "2023-01-27T12:38:39.173Z"
   },
   {
    "duration": 3,
    "start_time": "2023-01-27T12:38:39.184Z"
   },
   {
    "duration": 7,
    "start_time": "2023-01-27T12:38:39.188Z"
   },
   {
    "duration": 17,
    "start_time": "2023-01-27T12:38:39.197Z"
   },
   {
    "duration": 298,
    "start_time": "2023-01-27T12:38:39.216Z"
   },
   {
    "duration": 431,
    "start_time": "2023-01-27T12:38:39.516Z"
   },
   {
    "duration": 784,
    "start_time": "2023-01-27T12:38:39.950Z"
   },
   {
    "duration": 23,
    "start_time": "2023-01-27T12:38:40.736Z"
   },
   {
    "duration": 17,
    "start_time": "2023-01-27T12:38:40.761Z"
   },
   {
    "duration": 4,
    "start_time": "2023-01-27T12:38:40.780Z"
   },
   {
    "duration": 13,
    "start_time": "2023-01-27T12:38:40.786Z"
   },
   {
    "duration": 27,
    "start_time": "2023-01-27T12:38:40.801Z"
   },
   {
    "duration": 3,
    "start_time": "2023-01-27T12:38:40.830Z"
   },
   {
    "duration": 20,
    "start_time": "2023-01-27T12:38:40.835Z"
   },
   {
    "duration": 4,
    "start_time": "2023-01-27T12:38:40.857Z"
   },
   {
    "duration": 23,
    "start_time": "2023-01-27T12:38:40.863Z"
   },
   {
    "duration": 12,
    "start_time": "2023-01-27T12:38:40.888Z"
   },
   {
    "duration": 3704,
    "start_time": "2023-01-27T12:38:40.903Z"
   },
   {
    "duration": 6,
    "start_time": "2023-01-27T12:38:44.609Z"
   },
   {
    "duration": 7,
    "start_time": "2023-01-27T12:40:28.120Z"
   },
   {
    "duration": 1645,
    "start_time": "2023-01-27T12:41:28.942Z"
   },
   {
    "duration": 54,
    "start_time": "2023-01-27T12:41:30.589Z"
   },
   {
    "duration": 31,
    "start_time": "2023-01-27T12:41:30.645Z"
   },
   {
    "duration": 13,
    "start_time": "2023-01-27T12:41:30.678Z"
   },
   {
    "duration": 31,
    "start_time": "2023-01-27T12:41:30.693Z"
   },
   {
    "duration": 35,
    "start_time": "2023-01-27T12:41:30.727Z"
   },
   {
    "duration": 46,
    "start_time": "2023-01-27T12:41:30.764Z"
   },
   {
    "duration": 341,
    "start_time": "2023-01-27T12:41:30.812Z"
   },
   {
    "duration": 385,
    "start_time": "2023-01-27T12:41:31.155Z"
   },
   {
    "duration": 769,
    "start_time": "2023-01-27T12:41:31.541Z"
   },
   {
    "duration": 24,
    "start_time": "2023-01-27T12:41:32.334Z"
   },
   {
    "duration": 3,
    "start_time": "2023-01-27T12:41:32.360Z"
   },
   {
    "duration": 8,
    "start_time": "2023-01-27T12:41:32.364Z"
   },
   {
    "duration": 22,
    "start_time": "2023-01-27T12:41:32.374Z"
   },
   {
    "duration": 3,
    "start_time": "2023-01-27T12:41:32.398Z"
   },
   {
    "duration": 25,
    "start_time": "2023-01-27T12:41:32.403Z"
   },
   {
    "duration": 3,
    "start_time": "2023-01-27T12:41:32.430Z"
   },
   {
    "duration": 6,
    "start_time": "2023-01-27T12:41:32.435Z"
   },
   {
    "duration": 6,
    "start_time": "2023-01-27T12:41:32.443Z"
   },
   {
    "duration": 11245,
    "start_time": "2023-01-27T12:41:32.451Z"
   },
   {
    "duration": 6,
    "start_time": "2023-01-27T12:41:43.699Z"
   },
   {
    "duration": 13,
    "start_time": "2023-01-27T12:41:43.707Z"
   },
   {
    "duration": 144,
    "start_time": "2023-01-27T12:42:25.985Z"
   },
   {
    "duration": 20,
    "start_time": "2023-01-27T12:44:18.489Z"
   },
   {
    "duration": 1535,
    "start_time": "2023-01-27T12:44:29.137Z"
   },
   {
    "duration": 54,
    "start_time": "2023-01-27T12:44:30.674Z"
   },
   {
    "duration": 26,
    "start_time": "2023-01-27T12:44:30.730Z"
   },
   {
    "duration": 4,
    "start_time": "2023-01-27T12:44:30.758Z"
   },
   {
    "duration": 28,
    "start_time": "2023-01-27T12:44:30.764Z"
   },
   {
    "duration": 52,
    "start_time": "2023-01-27T12:44:30.794Z"
   },
   {
    "duration": 40,
    "start_time": "2023-01-27T12:44:30.848Z"
   },
   {
    "duration": 323,
    "start_time": "2023-01-27T12:44:30.890Z"
   },
   {
    "duration": 396,
    "start_time": "2023-01-27T12:44:31.215Z"
   },
   {
    "duration": 828,
    "start_time": "2023-01-27T12:44:31.614Z"
   },
   {
    "duration": 24,
    "start_time": "2023-01-27T12:44:32.444Z"
   },
   {
    "duration": 3,
    "start_time": "2023-01-27T12:44:32.470Z"
   },
   {
    "duration": 7,
    "start_time": "2023-01-27T12:44:32.475Z"
   },
   {
    "duration": 19,
    "start_time": "2023-01-27T12:44:32.483Z"
   },
   {
    "duration": 4,
    "start_time": "2023-01-27T12:44:32.504Z"
   },
   {
    "duration": 21,
    "start_time": "2023-01-27T12:44:32.510Z"
   },
   {
    "duration": 3,
    "start_time": "2023-01-27T12:44:32.533Z"
   },
   {
    "duration": 10,
    "start_time": "2023-01-27T12:44:32.538Z"
   },
   {
    "duration": 7,
    "start_time": "2023-01-27T12:44:32.550Z"
   },
   {
    "duration": 12317,
    "start_time": "2023-01-27T12:44:32.559Z"
   },
   {
    "duration": 6,
    "start_time": "2023-01-27T12:44:44.877Z"
   },
   {
    "duration": 130,
    "start_time": "2023-01-27T12:44:44.885Z"
   },
   {
    "duration": 12,
    "start_time": "2023-01-27T12:47:07.840Z"
   },
   {
    "duration": 1710,
    "start_time": "2023-01-27T12:47:25.178Z"
   },
   {
    "duration": 3827,
    "start_time": "2023-01-27T12:48:03.100Z"
   },
   {
    "duration": 1555,
    "start_time": "2023-01-27T12:50:49.712Z"
   },
   {
    "duration": 49,
    "start_time": "2023-01-27T12:50:51.269Z"
   },
   {
    "duration": 24,
    "start_time": "2023-01-27T12:50:51.319Z"
   },
   {
    "duration": 4,
    "start_time": "2023-01-27T12:50:51.346Z"
   },
   {
    "duration": 7,
    "start_time": "2023-01-27T12:50:51.351Z"
   },
   {
    "duration": 18,
    "start_time": "2023-01-27T12:50:51.360Z"
   },
   {
    "duration": 12,
    "start_time": "2023-01-27T12:50:51.383Z"
   },
   {
    "duration": 309,
    "start_time": "2023-01-27T12:50:51.396Z"
   },
   {
    "duration": 367,
    "start_time": "2023-01-27T12:50:51.707Z"
   },
   {
    "duration": 806,
    "start_time": "2023-01-27T12:50:52.076Z"
   },
   {
    "duration": 23,
    "start_time": "2023-01-27T12:50:52.884Z"
   },
   {
    "duration": 3,
    "start_time": "2023-01-27T12:50:52.908Z"
   },
   {
    "duration": 12,
    "start_time": "2023-01-27T12:50:52.912Z"
   },
   {
    "duration": 31,
    "start_time": "2023-01-27T12:50:52.926Z"
   },
   {
    "duration": 7,
    "start_time": "2023-01-27T12:50:52.959Z"
   },
   {
    "duration": 37,
    "start_time": "2023-01-27T12:50:52.968Z"
   },
   {
    "duration": 5,
    "start_time": "2023-01-27T12:50:53.007Z"
   },
   {
    "duration": 20,
    "start_time": "2023-01-27T12:50:53.014Z"
   },
   {
    "duration": 31,
    "start_time": "2023-01-27T12:50:53.036Z"
   },
   {
    "duration": 11578,
    "start_time": "2023-01-27T12:50:53.069Z"
   },
   {
    "duration": 6,
    "start_time": "2023-01-27T12:51:04.649Z"
   },
   {
    "duration": 874,
    "start_time": "2023-01-27T12:51:04.656Z"
   },
   {
    "duration": 1362,
    "start_time": "2023-01-27T12:51:30.277Z"
   },
   {
    "duration": 1326,
    "start_time": "2023-01-27T12:51:54.501Z"
   },
   {
    "duration": 1441,
    "start_time": "2023-01-27T12:52:21.851Z"
   },
   {
    "duration": 1197,
    "start_time": "2023-01-27T12:52:43.610Z"
   },
   {
    "duration": 6339,
    "start_time": "2023-01-27T12:52:51.357Z"
   },
   {
    "duration": 1219,
    "start_time": "2023-01-27T12:53:04.566Z"
   },
   {
    "duration": 730,
    "start_time": "2023-01-27T12:53:10.789Z"
   },
   {
    "duration": 1006,
    "start_time": "2023-01-27T12:53:14.844Z"
   },
   {
    "duration": 1243,
    "start_time": "2023-01-27T12:53:19.549Z"
   },
   {
    "duration": 1681,
    "start_time": "2023-01-27T12:53:25.942Z"
   },
   {
    "duration": 1194,
    "start_time": "2023-01-27T12:53:31.149Z"
   },
   {
    "duration": 1206,
    "start_time": "2023-01-27T12:53:43.430Z"
   },
   {
    "duration": 1187,
    "start_time": "2023-01-27T12:53:52.782Z"
   },
   {
    "duration": 1290,
    "start_time": "2023-01-27T12:53:58.527Z"
   },
   {
    "duration": 1222,
    "start_time": "2023-01-27T12:54:03.915Z"
   },
   {
    "duration": 1233,
    "start_time": "2023-01-27T12:54:08.932Z"
   },
   {
    "duration": 1165,
    "start_time": "2023-01-27T12:54:13.297Z"
   },
   {
    "duration": 6210,
    "start_time": "2023-01-27T12:54:21.839Z"
   },
   {
    "duration": 1108,
    "start_time": "2023-01-27T12:54:35.487Z"
   },
   {
    "duration": 1156,
    "start_time": "2023-01-27T12:54:42.542Z"
   },
   {
    "duration": 5063,
    "start_time": "2023-01-27T12:54:49.183Z"
   },
   {
    "duration": 2372,
    "start_time": "2023-01-27T12:55:05.083Z"
   },
   {
    "duration": 1605,
    "start_time": "2023-01-27T12:55:14.243Z"
   },
   {
    "duration": 1305,
    "start_time": "2023-01-27T12:55:20.302Z"
   },
   {
    "duration": 840,
    "start_time": "2023-01-27T12:55:28.477Z"
   },
   {
    "duration": 986,
    "start_time": "2023-01-27T12:55:34.201Z"
   },
   {
    "duration": 1214,
    "start_time": "2023-01-27T12:55:39.833Z"
   },
   {
    "duration": 1245,
    "start_time": "2023-01-27T12:55:45.647Z"
   },
   {
    "duration": 1440,
    "start_time": "2023-01-27T12:55:53.766Z"
   },
   {
    "duration": 1435,
    "start_time": "2023-01-27T12:56:04.750Z"
   },
   {
    "duration": 1259,
    "start_time": "2023-01-27T12:56:10.814Z"
   },
   {
    "duration": 1552,
    "start_time": "2023-01-27T12:58:12.732Z"
   },
   {
    "duration": 48,
    "start_time": "2023-01-27T12:58:14.286Z"
   },
   {
    "duration": 23,
    "start_time": "2023-01-27T12:58:14.336Z"
   },
   {
    "duration": 3,
    "start_time": "2023-01-27T12:58:14.361Z"
   },
   {
    "duration": 10,
    "start_time": "2023-01-27T12:58:14.366Z"
   },
   {
    "duration": 8,
    "start_time": "2023-01-27T12:58:14.377Z"
   },
   {
    "duration": 14,
    "start_time": "2023-01-27T12:58:14.386Z"
   },
   {
    "duration": 311,
    "start_time": "2023-01-27T12:58:14.401Z"
   },
   {
    "duration": 390,
    "start_time": "2023-01-27T12:58:14.714Z"
   },
   {
    "duration": 840,
    "start_time": "2023-01-27T12:58:15.106Z"
   },
   {
    "duration": 22,
    "start_time": "2023-01-27T12:58:15.948Z"
   },
   {
    "duration": 3,
    "start_time": "2023-01-27T12:58:15.972Z"
   },
   {
    "duration": 14,
    "start_time": "2023-01-27T12:58:15.977Z"
   },
   {
    "duration": 18,
    "start_time": "2023-01-27T12:58:15.993Z"
   },
   {
    "duration": 3,
    "start_time": "2023-01-27T12:58:16.013Z"
   },
   {
    "duration": 22,
    "start_time": "2023-01-27T12:58:16.018Z"
   },
   {
    "duration": 4,
    "start_time": "2023-01-27T12:58:16.042Z"
   },
   {
    "duration": 9,
    "start_time": "2023-01-27T12:58:16.047Z"
   },
   {
    "duration": 7,
    "start_time": "2023-01-27T12:58:16.058Z"
   },
   {
    "duration": 10920,
    "start_time": "2023-01-27T12:58:16.067Z"
   },
   {
    "duration": 6,
    "start_time": "2023-01-27T12:58:26.989Z"
   },
   {
    "duration": 1270,
    "start_time": "2023-01-27T12:58:26.997Z"
   },
   {
    "duration": 133,
    "start_time": "2023-01-27T12:58:46.119Z"
   },
   {
    "duration": 51,
    "start_time": "2023-01-27T12:58:58.658Z"
   },
   {
    "duration": 1675,
    "start_time": "2023-01-27T12:59:30.286Z"
   },
   {
    "duration": 50,
    "start_time": "2023-01-27T12:59:31.963Z"
   },
   {
    "duration": 30,
    "start_time": "2023-01-27T12:59:32.014Z"
   },
   {
    "duration": 68,
    "start_time": "2023-01-27T12:59:32.047Z"
   },
   {
    "duration": 27,
    "start_time": "2023-01-27T12:59:32.117Z"
   },
   {
    "duration": 27,
    "start_time": "2023-01-27T12:59:32.146Z"
   },
   {
    "duration": 30,
    "start_time": "2023-01-27T12:59:32.175Z"
   },
   {
    "duration": 313,
    "start_time": "2023-01-27T12:59:32.207Z"
   },
   {
    "duration": 373,
    "start_time": "2023-01-27T12:59:32.522Z"
   },
   {
    "duration": 832,
    "start_time": "2023-01-27T12:59:32.898Z"
   },
   {
    "duration": 24,
    "start_time": "2023-01-27T12:59:33.732Z"
   },
   {
    "duration": 3,
    "start_time": "2023-01-27T12:59:33.758Z"
   },
   {
    "duration": 7,
    "start_time": "2023-01-27T12:59:33.762Z"
   },
   {
    "duration": 18,
    "start_time": "2023-01-27T12:59:33.771Z"
   },
   {
    "duration": 3,
    "start_time": "2023-01-27T12:59:33.791Z"
   },
   {
    "duration": 22,
    "start_time": "2023-01-27T12:59:33.796Z"
   },
   {
    "duration": 4,
    "start_time": "2023-01-27T12:59:33.819Z"
   },
   {
    "duration": 9,
    "start_time": "2023-01-27T12:59:33.825Z"
   },
   {
    "duration": 27,
    "start_time": "2023-01-27T12:59:33.836Z"
   },
   {
    "duration": 22540,
    "start_time": "2023-01-27T12:59:33.865Z"
   },
   {
    "duration": 5,
    "start_time": "2023-01-27T12:59:56.407Z"
   },
   {
    "duration": 28,
    "start_time": "2023-01-27T12:59:56.413Z"
   },
   {
    "duration": 1297,
    "start_time": "2023-01-27T12:59:56.443Z"
   },
   {
    "duration": 10,
    "start_time": "2023-01-27T13:00:32.352Z"
   },
   {
    "duration": 1573,
    "start_time": "2023-01-27T13:14:48.738Z"
   },
   {
    "duration": 1316,
    "start_time": "2023-01-27T13:15:13.191Z"
   },
   {
    "duration": 1402,
    "start_time": "2023-01-27T13:16:04.363Z"
   },
   {
    "duration": 1317,
    "start_time": "2023-01-27T13:16:20.631Z"
   },
   {
    "duration": 1378,
    "start_time": "2023-01-27T13:16:41.096Z"
   },
   {
    "duration": 22,
    "start_time": "2023-01-27T13:21:53.341Z"
   },
   {
    "duration": 1613,
    "start_time": "2023-01-27T13:22:17.674Z"
   },
   {
    "duration": 49,
    "start_time": "2023-01-27T13:22:19.289Z"
   },
   {
    "duration": 25,
    "start_time": "2023-01-27T13:22:19.339Z"
   },
   {
    "duration": 13,
    "start_time": "2023-01-27T13:22:19.366Z"
   },
   {
    "duration": 49,
    "start_time": "2023-01-27T13:22:19.381Z"
   },
   {
    "duration": 31,
    "start_time": "2023-01-27T13:22:19.432Z"
   },
   {
    "duration": 39,
    "start_time": "2023-01-27T13:22:19.464Z"
   },
   {
    "duration": 384,
    "start_time": "2023-01-27T13:22:19.504Z"
   },
   {
    "duration": 414,
    "start_time": "2023-01-27T13:22:19.890Z"
   },
   {
    "duration": 827,
    "start_time": "2023-01-27T13:22:20.307Z"
   },
   {
    "duration": 24,
    "start_time": "2023-01-27T13:22:21.136Z"
   },
   {
    "duration": 37,
    "start_time": "2023-01-27T13:22:21.162Z"
   },
   {
    "duration": 42,
    "start_time": "2023-01-27T13:22:21.201Z"
   },
   {
    "duration": 62,
    "start_time": "2023-01-27T13:22:21.245Z"
   },
   {
    "duration": 77,
    "start_time": "2023-01-27T13:22:21.309Z"
   },
   {
    "duration": 52,
    "start_time": "2023-01-27T13:22:21.388Z"
   },
   {
    "duration": 36,
    "start_time": "2023-01-27T13:22:21.442Z"
   },
   {
    "duration": 43,
    "start_time": "2023-01-27T13:22:21.480Z"
   },
   {
    "duration": 31,
    "start_time": "2023-01-27T13:22:21.525Z"
   },
   {
    "duration": 1190941,
    "start_time": "2023-01-27T13:22:21.558Z"
   },
   {
    "duration": 25,
    "start_time": "2023-01-27T13:42:12.501Z"
   },
   {
    "duration": 1560,
    "start_time": "2023-01-27T13:42:17.671Z"
   },
   {
    "duration": 48,
    "start_time": "2023-01-27T13:42:19.234Z"
   },
   {
    "duration": 25,
    "start_time": "2023-01-27T13:42:19.284Z"
   },
   {
    "duration": 28,
    "start_time": "2023-01-27T13:42:19.311Z"
   },
   {
    "duration": 24,
    "start_time": "2023-01-27T13:42:19.341Z"
   },
   {
    "duration": 22,
    "start_time": "2023-01-27T13:42:19.367Z"
   },
   {
    "duration": 25,
    "start_time": "2023-01-27T13:42:19.391Z"
   },
   {
    "duration": 373,
    "start_time": "2023-01-27T13:42:19.418Z"
   },
   {
    "duration": 422,
    "start_time": "2023-01-27T13:42:19.793Z"
   },
   {
    "duration": 816,
    "start_time": "2023-01-27T13:42:20.218Z"
   },
   {
    "duration": 21,
    "start_time": "2023-01-27T13:42:21.036Z"
   },
   {
    "duration": 64,
    "start_time": "2023-01-27T13:42:21.058Z"
   },
   {
    "duration": 49,
    "start_time": "2023-01-27T13:42:21.124Z"
   },
   {
    "duration": 62,
    "start_time": "2023-01-27T13:42:21.176Z"
   },
   {
    "duration": 41,
    "start_time": "2023-01-27T13:42:21.240Z"
   },
   {
    "duration": 61,
    "start_time": "2023-01-27T13:42:21.283Z"
   },
   {
    "duration": 33,
    "start_time": "2023-01-27T13:42:21.346Z"
   },
   {
    "duration": 31,
    "start_time": "2023-01-27T13:42:21.381Z"
   },
   {
    "duration": 37,
    "start_time": "2023-01-27T13:42:21.414Z"
   },
   {
    "duration": 325442,
    "start_time": "2023-01-27T13:42:21.453Z"
   },
   {
    "duration": 35,
    "start_time": "2023-01-27T13:47:46.897Z"
   },
   {
    "duration": 1636,
    "start_time": "2023-01-27T13:48:29.201Z"
   },
   {
    "duration": 50,
    "start_time": "2023-01-27T13:48:30.839Z"
   },
   {
    "duration": 23,
    "start_time": "2023-01-27T13:48:30.891Z"
   },
   {
    "duration": 24,
    "start_time": "2023-01-27T13:48:30.915Z"
   },
   {
    "duration": 23,
    "start_time": "2023-01-27T13:48:30.942Z"
   },
   {
    "duration": 32,
    "start_time": "2023-01-27T13:48:30.966Z"
   },
   {
    "duration": 46,
    "start_time": "2023-01-27T13:48:31.000Z"
   },
   {
    "duration": 330,
    "start_time": "2023-01-27T13:48:31.047Z"
   },
   {
    "duration": 383,
    "start_time": "2023-01-27T13:48:31.380Z"
   },
   {
    "duration": 896,
    "start_time": "2023-01-27T13:48:31.765Z"
   },
   {
    "duration": 31,
    "start_time": "2023-01-27T13:48:32.664Z"
   },
   {
    "duration": 3,
    "start_time": "2023-01-27T13:48:32.697Z"
   },
   {
    "duration": 11,
    "start_time": "2023-01-27T13:48:32.702Z"
   },
   {
    "duration": 26,
    "start_time": "2023-01-27T13:48:32.717Z"
   },
   {
    "duration": 4,
    "start_time": "2023-01-27T13:48:32.746Z"
   },
   {
    "duration": 40,
    "start_time": "2023-01-27T13:48:32.752Z"
   },
   {
    "duration": 4,
    "start_time": "2023-01-27T13:48:32.794Z"
   },
   {
    "duration": 7,
    "start_time": "2023-01-27T13:48:32.803Z"
   },
   {
    "duration": 14,
    "start_time": "2023-01-27T13:48:32.812Z"
   },
   {
    "duration": 187965,
    "start_time": "2023-01-27T13:48:32.828Z"
   },
   {
    "duration": 12,
    "start_time": "2023-01-27T13:51:40.795Z"
   },
   {
    "duration": 1755,
    "start_time": "2023-01-27T13:53:08.659Z"
   },
   {
    "duration": 1377,
    "start_time": "2023-01-27T13:53:33.319Z"
   },
   {
    "duration": 1329,
    "start_time": "2023-01-27T13:55:04.143Z"
   },
   {
    "duration": 1382,
    "start_time": "2023-01-27T13:55:32.231Z"
   },
   {
    "duration": 199795,
    "start_time": "2023-01-27T13:55:58.792Z"
   },
   {
    "duration": 1469,
    "start_time": "2023-01-27T13:59:24.430Z"
   },
   {
    "duration": 48,
    "start_time": "2023-01-27T13:59:25.901Z"
   },
   {
    "duration": 23,
    "start_time": "2023-01-27T13:59:25.951Z"
   },
   {
    "duration": 8,
    "start_time": "2023-01-27T13:59:25.976Z"
   },
   {
    "duration": 10,
    "start_time": "2023-01-27T13:59:25.987Z"
   },
   {
    "duration": 17,
    "start_time": "2023-01-27T13:59:25.999Z"
   },
   {
    "duration": 28,
    "start_time": "2023-01-27T13:59:26.018Z"
   },
   {
    "duration": 286,
    "start_time": "2023-01-27T13:59:26.048Z"
   },
   {
    "duration": 362,
    "start_time": "2023-01-27T13:59:26.336Z"
   },
   {
    "duration": 783,
    "start_time": "2023-01-27T13:59:26.699Z"
   },
   {
    "duration": 31,
    "start_time": "2023-01-27T13:59:27.484Z"
   },
   {
    "duration": 4,
    "start_time": "2023-01-27T13:59:27.516Z"
   },
   {
    "duration": 6,
    "start_time": "2023-01-27T13:59:27.522Z"
   },
   {
    "duration": 32,
    "start_time": "2023-01-27T13:59:27.531Z"
   },
   {
    "duration": 19,
    "start_time": "2023-01-27T13:59:27.565Z"
   },
   {
    "duration": 23,
    "start_time": "2023-01-27T13:59:27.586Z"
   },
   {
    "duration": 4,
    "start_time": "2023-01-27T13:59:27.611Z"
   },
   {
    "duration": 13,
    "start_time": "2023-01-27T13:59:27.617Z"
   },
   {
    "duration": 7,
    "start_time": "2023-01-27T13:59:27.632Z"
   },
   {
    "duration": 102749,
    "start_time": "2023-01-27T13:59:27.641Z"
   },
   {
    "duration": 13,
    "start_time": "2023-01-27T14:01:10.392Z"
   },
   {
    "duration": 201893,
    "start_time": "2023-01-27T14:01:10.407Z"
   },
   {
    "duration": 199,
    "start_time": "2023-01-27T14:04:32.302Z"
   },
   {
    "duration": 50223,
    "start_time": "2023-01-27T14:33:43.869Z"
   },
   {
    "duration": 211436,
    "start_time": "2023-01-27T14:34:35.676Z"
   },
   {
    "duration": 103358,
    "start_time": "2023-01-27T14:38:10.846Z"
   },
   {
    "duration": 34006,
    "start_time": "2023-01-27T14:40:04.599Z"
   },
   {
    "duration": 1248,
    "start_time": "2023-01-27T14:40:50.480Z"
   },
   {
    "duration": 1438,
    "start_time": "2023-01-27T14:41:03.319Z"
   },
   {
    "duration": 32150,
    "start_time": "2023-01-27T14:41:25.336Z"
   },
   {
    "duration": 31743,
    "start_time": "2023-01-27T14:42:01.648Z"
   },
   {
    "duration": 36752,
    "start_time": "2023-01-27T15:04:34.736Z"
   },
   {
    "duration": 32020,
    "start_time": "2023-01-27T15:05:27.577Z"
   },
   {
    "duration": 31975,
    "start_time": "2023-01-27T15:15:06.710Z"
   },
   {
    "duration": 16,
    "start_time": "2023-01-27T15:16:03.742Z"
   },
   {
    "duration": 31946,
    "start_time": "2023-01-27T15:16:45.846Z"
   },
   {
    "duration": 1403,
    "start_time": "2023-01-27T15:17:26.471Z"
   },
   {
    "duration": 0,
    "start_time": "2023-01-27T15:19:19.107Z"
   },
   {
    "duration": 32248,
    "start_time": "2023-01-27T15:19:20.061Z"
   },
   {
    "duration": 32709,
    "start_time": "2023-01-27T15:20:09.584Z"
   },
   {
    "duration": 8,
    "start_time": "2023-01-27T15:21:09.952Z"
   },
   {
    "duration": 6,
    "start_time": "2023-01-27T15:21:29.384Z"
   },
   {
    "duration": 19,
    "start_time": "2023-01-27T15:21:47.978Z"
   },
   {
    "duration": 7,
    "start_time": "2023-01-27T15:22:16.377Z"
   },
   {
    "duration": 1609,
    "start_time": "2023-01-27T15:24:13.670Z"
   },
   {
    "duration": 48,
    "start_time": "2023-01-27T15:24:15.281Z"
   },
   {
    "duration": 24,
    "start_time": "2023-01-27T15:24:15.331Z"
   },
   {
    "duration": 4,
    "start_time": "2023-01-27T15:24:15.357Z"
   },
   {
    "duration": 29,
    "start_time": "2023-01-27T15:24:15.363Z"
   },
   {
    "duration": 26,
    "start_time": "2023-01-27T15:24:15.394Z"
   },
   {
    "duration": 29,
    "start_time": "2023-01-27T15:24:15.422Z"
   },
   {
    "duration": 319,
    "start_time": "2023-01-27T15:24:15.453Z"
   },
   {
    "duration": 377,
    "start_time": "2023-01-27T15:24:15.774Z"
   },
   {
    "duration": 801,
    "start_time": "2023-01-27T15:24:16.153Z"
   },
   {
    "duration": 24,
    "start_time": "2023-01-27T15:24:16.956Z"
   },
   {
    "duration": 3,
    "start_time": "2023-01-27T15:24:16.982Z"
   },
   {
    "duration": 9,
    "start_time": "2023-01-27T15:24:16.988Z"
   },
   {
    "duration": 20,
    "start_time": "2023-01-27T15:24:17.000Z"
   },
   {
    "duration": 16,
    "start_time": "2023-01-27T15:24:17.022Z"
   },
   {
    "duration": 32,
    "start_time": "2023-01-27T15:24:17.040Z"
   },
   {
    "duration": 22,
    "start_time": "2023-01-27T15:24:17.075Z"
   },
   {
    "duration": 25,
    "start_time": "2023-01-27T15:24:17.099Z"
   },
   {
    "duration": 159,
    "start_time": "2023-01-27T15:24:17.126Z"
   },
   {
    "duration": 0,
    "start_time": "2023-01-27T15:24:17.286Z"
   },
   {
    "duration": 0,
    "start_time": "2023-01-27T15:24:17.288Z"
   },
   {
    "duration": 0,
    "start_time": "2023-01-27T15:24:17.289Z"
   },
   {
    "duration": 0,
    "start_time": "2023-01-27T15:24:17.290Z"
   },
   {
    "duration": 1557,
    "start_time": "2023-01-27T15:25:27.049Z"
   },
   {
    "duration": 48,
    "start_time": "2023-01-27T15:25:28.608Z"
   },
   {
    "duration": 23,
    "start_time": "2023-01-27T15:25:28.658Z"
   },
   {
    "duration": 19,
    "start_time": "2023-01-27T15:25:28.684Z"
   },
   {
    "duration": 32,
    "start_time": "2023-01-27T15:25:28.706Z"
   },
   {
    "duration": 34,
    "start_time": "2023-01-27T15:25:28.740Z"
   },
   {
    "duration": 34,
    "start_time": "2023-01-27T15:25:28.776Z"
   },
   {
    "duration": 311,
    "start_time": "2023-01-27T15:25:28.812Z"
   },
   {
    "duration": 382,
    "start_time": "2023-01-27T15:25:29.125Z"
   },
   {
    "duration": 823,
    "start_time": "2023-01-27T15:25:29.511Z"
   },
   {
    "duration": 22,
    "start_time": "2023-01-27T15:25:30.336Z"
   },
   {
    "duration": 3,
    "start_time": "2023-01-27T15:25:30.360Z"
   },
   {
    "duration": 18,
    "start_time": "2023-01-27T15:25:30.364Z"
   },
   {
    "duration": 45,
    "start_time": "2023-01-27T15:25:30.385Z"
   },
   {
    "duration": 3,
    "start_time": "2023-01-27T15:25:30.433Z"
   },
   {
    "duration": 38,
    "start_time": "2023-01-27T15:25:30.438Z"
   },
   {
    "duration": 3,
    "start_time": "2023-01-27T15:25:30.478Z"
   },
   {
    "duration": 21,
    "start_time": "2023-01-27T15:25:30.483Z"
   },
   {
    "duration": 13,
    "start_time": "2023-01-27T15:25:30.506Z"
   },
   {
    "duration": 2438,
    "start_time": "2023-01-27T15:25:30.522Z"
   },
   {
    "duration": 12,
    "start_time": "2023-01-27T15:25:32.962Z"
   },
   {
    "duration": 47,
    "start_time": "2023-01-27T15:25:32.976Z"
   },
   {
    "duration": 0,
    "start_time": "2023-01-27T15:25:33.025Z"
   },
   {
    "duration": 1479,
    "start_time": "2023-01-27T15:25:41.570Z"
   },
   {
    "duration": 27851,
    "start_time": "2023-01-27T15:26:24.538Z"
   },
   {
    "duration": 29262,
    "start_time": "2023-01-27T15:27:30.227Z"
   },
   {
    "duration": 46981,
    "start_time": "2023-01-27T15:28:19.619Z"
   },
   {
    "duration": 104090,
    "start_time": "2023-01-27T15:29:35.921Z"
   },
   {
    "duration": 87,
    "start_time": "2023-01-27T15:31:20.013Z"
   },
   {
    "duration": 57743,
    "start_time": "2023-01-27T15:31:48.942Z"
   },
   {
    "duration": 8,
    "start_time": "2023-01-27T15:32:46.687Z"
   },
   {
    "duration": 41317,
    "start_time": "2023-01-27T15:33:18.477Z"
   },
   {
    "duration": 9,
    "start_time": "2023-01-27T15:33:59.797Z"
   },
   {
    "duration": 16,
    "start_time": "2023-01-27T15:34:54.682Z"
   },
   {
    "duration": 12,
    "start_time": "2023-01-27T15:36:04.002Z"
   },
   {
    "duration": 8,
    "start_time": "2023-01-27T15:36:13.580Z"
   },
   {
    "duration": 9,
    "start_time": "2023-01-27T15:37:05.018Z"
   },
   {
    "duration": 39365,
    "start_time": "2023-01-27T15:37:20.226Z"
   },
   {
    "duration": 8,
    "start_time": "2023-01-27T15:37:59.593Z"
   },
   {
    "duration": 37574,
    "start_time": "2023-01-27T15:38:06.619Z"
   },
   {
    "duration": 9,
    "start_time": "2023-01-27T15:38:44.196Z"
   },
   {
    "duration": 39690,
    "start_time": "2023-01-27T15:39:50.411Z"
   },
   {
    "duration": 39476,
    "start_time": "2023-01-27T15:41:00.016Z"
   },
   {
    "duration": 43556,
    "start_time": "2023-01-27T15:41:57.436Z"
   },
   {
    "duration": 46176,
    "start_time": "2023-01-27T15:42:59.516Z"
   },
   {
    "duration": 42587,
    "start_time": "2023-01-27T15:44:05.917Z"
   },
   {
    "duration": 41325,
    "start_time": "2023-01-27T15:45:00.461Z"
   },
   {
    "duration": 43508,
    "start_time": "2023-01-27T15:46:02.093Z"
   },
   {
    "duration": 1730,
    "start_time": "2023-01-27T15:46:56.080Z"
   },
   {
    "duration": 49,
    "start_time": "2023-01-27T15:46:57.812Z"
   },
   {
    "duration": 40,
    "start_time": "2023-01-27T15:46:57.863Z"
   },
   {
    "duration": 5,
    "start_time": "2023-01-27T15:46:57.905Z"
   },
   {
    "duration": 6,
    "start_time": "2023-01-27T15:46:57.913Z"
   },
   {
    "duration": 7,
    "start_time": "2023-01-27T15:46:57.921Z"
   },
   {
    "duration": 22,
    "start_time": "2023-01-27T15:46:57.930Z"
   },
   {
    "duration": 399,
    "start_time": "2023-01-27T15:46:57.954Z"
   },
   {
    "duration": 391,
    "start_time": "2023-01-27T15:46:58.355Z"
   },
   {
    "duration": 1059,
    "start_time": "2023-01-27T15:46:58.748Z"
   },
   {
    "duration": 32,
    "start_time": "2023-01-27T15:46:59.809Z"
   },
   {
    "duration": 18,
    "start_time": "2023-01-27T15:46:59.845Z"
   },
   {
    "duration": 78,
    "start_time": "2023-01-27T15:46:59.866Z"
   },
   {
    "duration": 48,
    "start_time": "2023-01-27T15:46:59.948Z"
   },
   {
    "duration": 21,
    "start_time": "2023-01-27T15:46:59.998Z"
   },
   {
    "duration": 53,
    "start_time": "2023-01-27T15:47:00.022Z"
   },
   {
    "duration": 36,
    "start_time": "2023-01-27T15:47:00.078Z"
   },
   {
    "duration": 36,
    "start_time": "2023-01-27T15:47:00.116Z"
   },
   {
    "duration": 56,
    "start_time": "2023-01-27T15:47:00.154Z"
   },
   {
    "duration": 2860,
    "start_time": "2023-01-27T15:47:00.213Z"
   },
   {
    "duration": 12,
    "start_time": "2023-01-27T15:47:03.076Z"
   },
   {
    "duration": 39899,
    "start_time": "2023-01-27T15:47:03.090Z"
   },
   {
    "duration": 18,
    "start_time": "2023-01-27T15:47:42.991Z"
   },
   {
    "duration": 151276,
    "start_time": "2023-01-27T15:47:46.416Z"
   },
   {
    "duration": 14,
    "start_time": "2023-01-27T15:50:17.695Z"
   },
   {
    "duration": 45582,
    "start_time": "2023-01-27T15:50:17.711Z"
   },
   {
    "duration": 9,
    "start_time": "2023-01-27T15:51:03.296Z"
   },
   {
    "duration": 1614,
    "start_time": "2023-01-27T15:54:35.756Z"
   },
   {
    "duration": 60,
    "start_time": "2023-01-27T15:54:37.373Z"
   },
   {
    "duration": 26,
    "start_time": "2023-01-27T15:54:37.434Z"
   },
   {
    "duration": 4,
    "start_time": "2023-01-27T15:54:37.462Z"
   },
   {
    "duration": 13,
    "start_time": "2023-01-27T15:54:37.468Z"
   },
   {
    "duration": 25,
    "start_time": "2023-01-27T15:54:37.482Z"
   },
   {
    "duration": 23,
    "start_time": "2023-01-27T15:54:37.509Z"
   },
   {
    "duration": 319,
    "start_time": "2023-01-27T15:54:37.534Z"
   },
   {
    "duration": 443,
    "start_time": "2023-01-27T15:54:37.855Z"
   },
   {
    "duration": 850,
    "start_time": "2023-01-27T15:54:38.304Z"
   },
   {
    "duration": 32,
    "start_time": "2023-01-27T15:54:39.167Z"
   },
   {
    "duration": 3,
    "start_time": "2023-01-27T15:54:39.201Z"
   },
   {
    "duration": 11,
    "start_time": "2023-01-27T15:54:39.205Z"
   },
   {
    "duration": 20,
    "start_time": "2023-01-27T15:54:39.219Z"
   },
   {
    "duration": 3,
    "start_time": "2023-01-27T15:54:39.241Z"
   },
   {
    "duration": 27,
    "start_time": "2023-01-27T15:54:39.245Z"
   },
   {
    "duration": 7,
    "start_time": "2023-01-27T15:54:39.283Z"
   },
   {
    "duration": 22,
    "start_time": "2023-01-27T15:54:39.292Z"
   },
   {
    "duration": 6,
    "start_time": "2023-01-27T15:54:39.316Z"
   },
   {
    "duration": 329584,
    "start_time": "2023-01-27T15:54:39.324Z"
   },
   {
    "duration": 12,
    "start_time": "2023-01-27T16:00:08.910Z"
   },
   {
    "duration": 53696,
    "start_time": "2023-01-27T16:00:08.990Z"
   },
   {
    "duration": 10,
    "start_time": "2023-01-27T16:01:02.688Z"
   },
   {
    "duration": 826,
    "start_time": "2023-01-27T16:01:16.481Z"
   },
   {
    "duration": 20,
    "start_time": "2023-01-27T16:01:52.553Z"
   },
   {
    "duration": 1604,
    "start_time": "2023-01-27T16:03:31.413Z"
   },
   {
    "duration": 48,
    "start_time": "2023-01-27T16:03:33.020Z"
   },
   {
    "duration": 34,
    "start_time": "2023-01-27T16:03:33.070Z"
   },
   {
    "duration": 8,
    "start_time": "2023-01-27T16:03:33.106Z"
   },
   {
    "duration": 17,
    "start_time": "2023-01-27T16:03:33.117Z"
   },
   {
    "duration": 15,
    "start_time": "2023-01-27T16:03:33.136Z"
   },
   {
    "duration": 16,
    "start_time": "2023-01-27T16:03:33.152Z"
   },
   {
    "duration": 307,
    "start_time": "2023-01-27T16:03:33.170Z"
   },
   {
    "duration": 398,
    "start_time": "2023-01-27T16:03:33.480Z"
   },
   {
    "duration": 858,
    "start_time": "2023-01-27T16:03:33.883Z"
   },
   {
    "duration": 23,
    "start_time": "2023-01-27T16:03:34.742Z"
   },
   {
    "duration": 3,
    "start_time": "2023-01-27T16:03:34.766Z"
   },
   {
    "duration": 12,
    "start_time": "2023-01-27T16:03:34.770Z"
   },
   {
    "duration": 37,
    "start_time": "2023-01-27T16:03:34.783Z"
   },
   {
    "duration": 4,
    "start_time": "2023-01-27T16:03:34.821Z"
   },
   {
    "duration": 20,
    "start_time": "2023-01-27T16:03:34.826Z"
   },
   {
    "duration": 4,
    "start_time": "2023-01-27T16:03:34.847Z"
   },
   {
    "duration": 8,
    "start_time": "2023-01-27T16:03:34.853Z"
   },
   {
    "duration": 15,
    "start_time": "2023-01-27T16:03:34.863Z"
   },
   {
    "duration": 817706,
    "start_time": "2023-01-27T16:03:34.880Z"
   },
   {
    "duration": 10,
    "start_time": "2023-01-27T16:17:12.588Z"
   },
   {
    "duration": 47911,
    "start_time": "2023-01-27T16:17:12.600Z"
   },
   {
    "duration": 72,
    "start_time": "2023-01-27T16:18:00.513Z"
   },
   {
    "duration": 216,
    "start_time": "2023-01-27T16:18:00.589Z"
   },
   {
    "duration": 21,
    "start_time": "2023-01-27T16:21:52.805Z"
   },
   {
    "duration": 23,
    "start_time": "2023-01-27T16:22:19.670Z"
   },
   {
    "duration": 23,
    "start_time": "2023-01-27T16:22:42.310Z"
   },
   {
    "duration": 18,
    "start_time": "2023-01-27T16:23:03.813Z"
   },
   {
    "duration": 22,
    "start_time": "2023-01-27T16:23:11.271Z"
   },
   {
    "duration": 7,
    "start_time": "2023-01-27T16:23:19.959Z"
   },
   {
    "duration": 8,
    "start_time": "2023-01-27T16:23:32.613Z"
   },
   {
    "duration": 18,
    "start_time": "2023-01-27T16:24:13.022Z"
   },
   {
    "duration": 24,
    "start_time": "2023-01-27T16:24:43.085Z"
   },
   {
    "duration": 77,
    "start_time": "2023-01-27T16:34:41.681Z"
   },
   {
    "duration": 202,
    "start_time": "2023-01-27T16:35:20.553Z"
   },
   {
    "duration": 20,
    "start_time": "2023-01-27T16:36:25.210Z"
   },
   {
    "duration": 17,
    "start_time": "2023-01-27T16:37:18.249Z"
   },
   {
    "duration": 12,
    "start_time": "2023-01-27T16:37:56.761Z"
   },
   {
    "duration": 6,
    "start_time": "2023-01-27T16:38:10.722Z"
   },
   {
    "duration": 160,
    "start_time": "2023-01-27T16:39:10.931Z"
   },
   {
    "duration": 19,
    "start_time": "2023-01-27T16:44:49.297Z"
   },
   {
    "duration": 17,
    "start_time": "2023-01-27T16:48:22.753Z"
   },
   {
    "duration": 30,
    "start_time": "2023-01-27T16:48:42.187Z"
   },
   {
    "duration": 21,
    "start_time": "2023-01-27T16:49:08.611Z"
   },
   {
    "duration": 8,
    "start_time": "2023-01-27T16:49:15.430Z"
   },
   {
    "duration": 27,
    "start_time": "2023-01-27T16:49:16.026Z"
   },
   {
    "duration": 162,
    "start_time": "2023-01-27T16:49:57.219Z"
   },
   {
    "duration": 135,
    "start_time": "2023-01-27T16:51:59.357Z"
   },
   {
    "duration": 10,
    "start_time": "2023-01-27T16:53:22.524Z"
   },
   {
    "duration": 9,
    "start_time": "2023-01-27T16:54:43.966Z"
   },
   {
    "duration": 29,
    "start_time": "2023-01-27T16:54:45.593Z"
   },
   {
    "duration": 1827,
    "start_time": "2023-01-27T17:03:44.010Z"
   },
   {
    "duration": 53,
    "start_time": "2023-01-27T17:03:45.840Z"
   },
   {
    "duration": 34,
    "start_time": "2023-01-27T17:03:45.895Z"
   },
   {
    "duration": 4,
    "start_time": "2023-01-27T17:03:45.932Z"
   },
   {
    "duration": 7,
    "start_time": "2023-01-27T17:03:45.939Z"
   },
   {
    "duration": 36,
    "start_time": "2023-01-27T17:03:45.948Z"
   },
   {
    "duration": 23,
    "start_time": "2023-01-27T17:03:45.986Z"
   },
   {
    "duration": 522,
    "start_time": "2023-01-27T17:03:46.011Z"
   },
   {
    "duration": 532,
    "start_time": "2023-01-27T17:03:46.536Z"
   },
   {
    "duration": 884,
    "start_time": "2023-01-27T17:03:47.070Z"
   },
   {
    "duration": 32,
    "start_time": "2023-01-27T17:03:47.956Z"
   },
   {
    "duration": 4,
    "start_time": "2023-01-27T17:03:47.990Z"
   },
   {
    "duration": 33,
    "start_time": "2023-01-27T17:03:47.997Z"
   },
   {
    "duration": 32,
    "start_time": "2023-01-27T17:03:48.033Z"
   },
   {
    "duration": 3,
    "start_time": "2023-01-27T17:03:48.067Z"
   },
   {
    "duration": 13,
    "start_time": "2023-01-27T17:03:48.073Z"
   },
   {
    "duration": 19,
    "start_time": "2023-01-27T17:03:48.088Z"
   },
   {
    "duration": 40,
    "start_time": "2023-01-27T17:03:48.110Z"
   },
   {
    "duration": 27,
    "start_time": "2023-01-27T17:03:48.152Z"
   },
   {
    "duration": 419018,
    "start_time": "2023-01-27T17:03:48.181Z"
   },
   {
    "duration": 84,
    "start_time": "2023-01-27T17:10:47.201Z"
   },
   {
    "duration": 8,
    "start_time": "2023-01-27T17:10:47.287Z"
   },
   {
    "duration": 23,
    "start_time": "2023-01-27T17:10:47.297Z"
   },
   {
    "duration": 171,
    "start_time": "2023-01-27T17:10:47.322Z"
   },
   {
    "duration": 1557,
    "start_time": "2023-01-27T17:14:03.300Z"
   },
   {
    "duration": 46,
    "start_time": "2023-01-27T17:14:04.859Z"
   },
   {
    "duration": 24,
    "start_time": "2023-01-27T17:14:04.907Z"
   },
   {
    "duration": 4,
    "start_time": "2023-01-27T17:14:04.933Z"
   },
   {
    "duration": 10,
    "start_time": "2023-01-27T17:14:04.939Z"
   },
   {
    "duration": 16,
    "start_time": "2023-01-27T17:14:04.951Z"
   },
   {
    "duration": 26,
    "start_time": "2023-01-27T17:14:04.968Z"
   },
   {
    "duration": 287,
    "start_time": "2023-01-27T17:14:04.995Z"
   },
   {
    "duration": 356,
    "start_time": "2023-01-27T17:14:05.284Z"
   },
   {
    "duration": 767,
    "start_time": "2023-01-27T17:14:05.643Z"
   },
   {
    "duration": 23,
    "start_time": "2023-01-27T17:14:06.411Z"
   },
   {
    "duration": 3,
    "start_time": "2023-01-27T17:14:06.435Z"
   },
   {
    "duration": 12,
    "start_time": "2023-01-27T17:14:06.439Z"
   },
   {
    "duration": 23,
    "start_time": "2023-01-27T17:14:06.453Z"
   },
   {
    "duration": 3,
    "start_time": "2023-01-27T17:14:06.478Z"
   },
   {
    "duration": 19,
    "start_time": "2023-01-27T17:14:06.483Z"
   },
   {
    "duration": 11,
    "start_time": "2023-01-27T17:14:06.503Z"
   },
   {
    "duration": 10,
    "start_time": "2023-01-27T17:14:06.515Z"
   },
   {
    "duration": 6,
    "start_time": "2023-01-27T17:14:06.527Z"
   },
   {
    "duration": 55254,
    "start_time": "2023-01-27T17:14:06.535Z"
   },
   {
    "duration": 8,
    "start_time": "2023-01-27T17:15:01.791Z"
   },
   {
    "duration": 177,
    "start_time": "2023-01-27T17:15:01.801Z"
   },
   {
    "duration": 9,
    "start_time": "2023-01-27T17:15:01.980Z"
   },
   {
    "duration": 208,
    "start_time": "2023-01-27T17:15:01.990Z"
   },
   {
    "duration": 17,
    "start_time": "2023-01-27T17:15:02.200Z"
   },
   {
    "duration": 9,
    "start_time": "2023-01-27T17:19:38.601Z"
   },
   {
    "duration": 26,
    "start_time": "2023-01-27T17:20:07.839Z"
   },
   {
    "duration": 7,
    "start_time": "2023-01-27T17:20:38.592Z"
   },
   {
    "duration": 1554,
    "start_time": "2023-01-27T17:32:31.441Z"
   },
   {
    "duration": 47,
    "start_time": "2023-01-27T17:32:32.998Z"
   },
   {
    "duration": 23,
    "start_time": "2023-01-27T17:32:33.047Z"
   },
   {
    "duration": 4,
    "start_time": "2023-01-27T17:32:33.072Z"
   },
   {
    "duration": 3,
    "start_time": "2023-01-27T17:32:33.084Z"
   },
   {
    "duration": 5,
    "start_time": "2023-01-27T17:32:33.089Z"
   },
   {
    "duration": 16,
    "start_time": "2023-01-27T17:32:33.096Z"
   },
   {
    "duration": 297,
    "start_time": "2023-01-27T17:32:33.113Z"
   },
   {
    "duration": 344,
    "start_time": "2023-01-27T17:32:33.412Z"
   },
   {
    "duration": 751,
    "start_time": "2023-01-27T17:32:33.759Z"
   },
   {
    "duration": 23,
    "start_time": "2023-01-27T17:32:34.513Z"
   },
   {
    "duration": 3,
    "start_time": "2023-01-27T17:32:34.538Z"
   },
   {
    "duration": 25,
    "start_time": "2023-01-27T17:32:34.543Z"
   },
   {
    "duration": 60,
    "start_time": "2023-01-27T17:32:34.570Z"
   },
   {
    "duration": 24,
    "start_time": "2023-01-27T17:32:34.632Z"
   },
   {
    "duration": 38,
    "start_time": "2023-01-27T17:32:34.658Z"
   },
   {
    "duration": 37,
    "start_time": "2023-01-27T17:32:34.698Z"
   },
   {
    "duration": 31,
    "start_time": "2023-01-27T17:32:34.737Z"
   },
   {
    "duration": 41,
    "start_time": "2023-01-27T17:32:34.769Z"
   },
   {
    "duration": 40146,
    "start_time": "2023-01-27T17:32:34.812Z"
   },
   {
    "duration": 13,
    "start_time": "2023-01-27T17:33:14.960Z"
   },
   {
    "duration": 0,
    "start_time": "2023-01-27T17:33:14.975Z"
   },
   {
    "duration": 0,
    "start_time": "2023-01-27T17:33:14.976Z"
   },
   {
    "duration": 0,
    "start_time": "2023-01-27T17:33:14.978Z"
   },
   {
    "duration": 0,
    "start_time": "2023-01-27T17:33:14.979Z"
   },
   {
    "duration": 1496,
    "start_time": "2023-01-27T17:35:34.521Z"
   },
   {
    "duration": 47,
    "start_time": "2023-01-27T17:35:36.019Z"
   },
   {
    "duration": 22,
    "start_time": "2023-01-27T17:35:36.067Z"
   },
   {
    "duration": 22,
    "start_time": "2023-01-27T17:35:36.090Z"
   },
   {
    "duration": 21,
    "start_time": "2023-01-27T17:35:36.114Z"
   },
   {
    "duration": 12,
    "start_time": "2023-01-27T17:35:36.137Z"
   },
   {
    "duration": 17,
    "start_time": "2023-01-27T17:35:36.151Z"
   },
   {
    "duration": 287,
    "start_time": "2023-01-27T17:35:36.169Z"
   },
   {
    "duration": 355,
    "start_time": "2023-01-27T17:35:36.457Z"
   },
   {
    "duration": 781,
    "start_time": "2023-01-27T17:35:36.813Z"
   },
   {
    "duration": 26,
    "start_time": "2023-01-27T17:35:37.596Z"
   },
   {
    "duration": 7,
    "start_time": "2023-01-27T17:35:37.624Z"
   },
   {
    "duration": 36,
    "start_time": "2023-01-27T17:35:37.634Z"
   },
   {
    "duration": 31,
    "start_time": "2023-01-27T17:35:37.673Z"
   },
   {
    "duration": 3,
    "start_time": "2023-01-27T17:35:37.706Z"
   },
   {
    "duration": 16,
    "start_time": "2023-01-27T17:35:37.710Z"
   },
   {
    "duration": 16,
    "start_time": "2023-01-27T17:35:37.728Z"
   },
   {
    "duration": 10,
    "start_time": "2023-01-27T17:35:37.746Z"
   },
   {
    "duration": 14,
    "start_time": "2023-01-27T17:35:37.758Z"
   },
   {
    "duration": 55211,
    "start_time": "2023-01-27T17:35:37.774Z"
   },
   {
    "duration": 9,
    "start_time": "2023-01-27T17:36:32.987Z"
   },
   {
    "duration": 155,
    "start_time": "2023-01-27T17:36:32.997Z"
   },
   {
    "duration": 10,
    "start_time": "2023-01-27T17:36:33.153Z"
   },
   {
    "duration": 28,
    "start_time": "2023-01-27T17:36:33.164Z"
   },
   {
    "duration": 8,
    "start_time": "2023-01-27T17:36:33.194Z"
   },
   {
    "duration": 22,
    "start_time": "2023-01-27T17:48:07.676Z"
   },
   {
    "duration": 15,
    "start_time": "2023-01-27T17:48:27.501Z"
   },
   {
    "duration": 11,
    "start_time": "2023-01-27T17:48:45.666Z"
   },
   {
    "duration": 58,
    "start_time": "2023-01-27T17:54:18.877Z"
   },
   {
    "duration": 44,
    "start_time": "2023-01-27T17:59:27.805Z"
   },
   {
    "duration": 118,
    "start_time": "2023-01-27T18:01:38.702Z"
   },
   {
    "duration": 14,
    "start_time": "2023-01-27T18:01:46.637Z"
   },
   {
    "duration": 1585,
    "start_time": "2023-01-27T18:03:53.066Z"
   },
   {
    "duration": 48,
    "start_time": "2023-01-27T18:03:54.653Z"
   },
   {
    "duration": 61,
    "start_time": "2023-01-27T18:03:54.703Z"
   },
   {
    "duration": 23,
    "start_time": "2023-01-27T18:03:54.766Z"
   },
   {
    "duration": 56,
    "start_time": "2023-01-27T18:03:54.792Z"
   },
   {
    "duration": 53,
    "start_time": "2023-01-27T18:03:54.850Z"
   },
   {
    "duration": 60,
    "start_time": "2023-01-27T18:03:54.905Z"
   },
   {
    "duration": 320,
    "start_time": "2023-01-27T18:03:54.967Z"
   },
   {
    "duration": 381,
    "start_time": "2023-01-27T18:03:55.289Z"
   },
   {
    "duration": 802,
    "start_time": "2023-01-27T18:03:55.672Z"
   },
   {
    "duration": 26,
    "start_time": "2023-01-27T18:03:56.476Z"
   },
   {
    "duration": 60,
    "start_time": "2023-01-27T18:03:56.505Z"
   },
   {
    "duration": 88,
    "start_time": "2023-01-27T18:03:56.566Z"
   },
   {
    "duration": 80,
    "start_time": "2023-01-27T18:03:56.658Z"
   },
   {
    "duration": 63,
    "start_time": "2023-01-27T18:03:56.740Z"
   },
   {
    "duration": 48,
    "start_time": "2023-01-27T18:03:56.805Z"
   },
   {
    "duration": 68,
    "start_time": "2023-01-27T18:03:56.856Z"
   },
   {
    "duration": 82,
    "start_time": "2023-01-27T18:03:56.926Z"
   },
   {
    "duration": 53877,
    "start_time": "2023-01-27T18:03:57.009Z"
   },
   {
    "duration": 163,
    "start_time": "2023-01-27T18:04:50.888Z"
   },
   {
    "duration": 10,
    "start_time": "2023-01-27T18:04:51.053Z"
   },
   {
    "duration": 26,
    "start_time": "2023-01-27T18:04:51.065Z"
   },
   {
    "duration": 15,
    "start_time": "2023-01-27T18:04:51.093Z"
   },
   {
    "duration": 1924,
    "start_time": "2023-01-29T06:50:02.085Z"
   },
   {
    "duration": 137,
    "start_time": "2023-01-29T06:50:04.011Z"
   },
   {
    "duration": 25,
    "start_time": "2023-01-29T06:50:04.150Z"
   },
   {
    "duration": 4,
    "start_time": "2023-01-29T06:50:04.177Z"
   },
   {
    "duration": 13,
    "start_time": "2023-01-29T06:50:04.183Z"
   },
   {
    "duration": 20,
    "start_time": "2023-01-29T06:50:04.198Z"
   },
   {
    "duration": 28,
    "start_time": "2023-01-29T06:50:04.220Z"
   },
   {
    "duration": 518,
    "start_time": "2023-01-29T06:50:04.250Z"
   },
   {
    "duration": 395,
    "start_time": "2023-01-29T06:50:04.770Z"
   },
   {
    "duration": 519,
    "start_time": "2023-01-29T06:50:05.169Z"
   },
   {
    "duration": 22,
    "start_time": "2023-01-29T06:50:05.690Z"
   },
   {
    "duration": 3,
    "start_time": "2023-01-29T06:50:05.714Z"
   },
   {
    "duration": 12,
    "start_time": "2023-01-29T06:50:05.719Z"
   },
   {
    "duration": 63,
    "start_time": "2023-01-29T06:50:05.733Z"
   },
   {
    "duration": 3,
    "start_time": "2023-01-29T06:50:05.798Z"
   },
   {
    "duration": 16,
    "start_time": "2023-01-29T06:50:05.802Z"
   },
   {
    "duration": 29,
    "start_time": "2023-01-29T06:50:05.820Z"
   },
   {
    "duration": 24,
    "start_time": "2023-01-29T06:50:05.851Z"
   },
   {
    "duration": 1692,
    "start_time": "2023-01-29T06:52:57.522Z"
   },
   {
    "duration": 58,
    "start_time": "2023-01-29T06:52:59.216Z"
   },
   {
    "duration": 26,
    "start_time": "2023-01-29T06:52:59.276Z"
   },
   {
    "duration": 4,
    "start_time": "2023-01-29T06:52:59.304Z"
   },
   {
    "duration": 18,
    "start_time": "2023-01-29T06:52:59.310Z"
   },
   {
    "duration": 27,
    "start_time": "2023-01-29T06:52:59.330Z"
   },
   {
    "duration": 17,
    "start_time": "2023-01-29T06:52:59.359Z"
   },
   {
    "duration": 414,
    "start_time": "2023-01-29T06:52:59.378Z"
   },
   {
    "duration": 488,
    "start_time": "2023-01-29T06:52:59.794Z"
   },
   {
    "duration": 547,
    "start_time": "2023-01-29T06:53:00.285Z"
   },
   {
    "duration": 40,
    "start_time": "2023-01-29T06:53:00.834Z"
   },
   {
    "duration": 47,
    "start_time": "2023-01-29T06:53:00.876Z"
   },
   {
    "duration": 61,
    "start_time": "2023-01-29T06:53:00.925Z"
   },
   {
    "duration": 63,
    "start_time": "2023-01-29T06:53:00.988Z"
   },
   {
    "duration": 11,
    "start_time": "2023-01-29T06:53:01.053Z"
   },
   {
    "duration": 18,
    "start_time": "2023-01-29T06:53:01.065Z"
   },
   {
    "duration": 15,
    "start_time": "2023-01-29T06:53:01.085Z"
   },
   {
    "duration": 20,
    "start_time": "2023-01-29T06:53:01.102Z"
   },
   {
    "duration": 1706,
    "start_time": "2023-01-29T06:53:33.525Z"
   },
   {
    "duration": 53,
    "start_time": "2023-01-29T06:53:35.233Z"
   },
   {
    "duration": 21,
    "start_time": "2023-01-29T06:53:35.288Z"
   },
   {
    "duration": 5,
    "start_time": "2023-01-29T06:53:35.311Z"
   },
   {
    "duration": 33,
    "start_time": "2023-01-29T06:53:35.318Z"
   },
   {
    "duration": 5,
    "start_time": "2023-01-29T06:53:35.353Z"
   },
   {
    "duration": 28,
    "start_time": "2023-01-29T06:53:35.360Z"
   },
   {
    "duration": 418,
    "start_time": "2023-01-29T06:53:35.390Z"
   },
   {
    "duration": 483,
    "start_time": "2023-01-29T06:53:35.809Z"
   },
   {
    "duration": 563,
    "start_time": "2023-01-29T06:53:36.295Z"
   },
   {
    "duration": 22,
    "start_time": "2023-01-29T06:53:36.860Z"
   },
   {
    "duration": 7,
    "start_time": "2023-01-29T06:53:36.884Z"
   },
   {
    "duration": 34,
    "start_time": "2023-01-29T06:53:36.893Z"
   },
   {
    "duration": 59,
    "start_time": "2023-01-29T06:53:36.929Z"
   },
   {
    "duration": 3,
    "start_time": "2023-01-29T06:53:36.991Z"
   },
   {
    "duration": 19,
    "start_time": "2023-01-29T06:53:36.995Z"
   },
   {
    "duration": 19,
    "start_time": "2023-01-29T06:53:37.016Z"
   },
   {
    "duration": 36,
    "start_time": "2023-01-29T06:53:37.036Z"
   },
   {
    "duration": 491980,
    "start_time": "2023-01-29T06:53:37.073Z"
   },
   {
    "duration": 141,
    "start_time": "2023-01-29T07:01:49.137Z"
   },
   {
    "duration": 10,
    "start_time": "2023-01-29T07:01:49.280Z"
   },
   {
    "duration": 54,
    "start_time": "2023-01-29T07:01:49.292Z"
   },
   {
    "duration": 6,
    "start_time": "2023-01-29T07:01:49.348Z"
   },
   {
    "duration": 1729,
    "start_time": "2023-01-29T07:08:46.668Z"
   },
   {
    "duration": 1569,
    "start_time": "2023-01-29T07:09:01.877Z"
   },
   {
    "duration": 57,
    "start_time": "2023-01-29T07:09:03.449Z"
   },
   {
    "duration": 21,
    "start_time": "2023-01-29T07:09:03.507Z"
   },
   {
    "duration": 11,
    "start_time": "2023-01-29T07:09:03.530Z"
   },
   {
    "duration": 21,
    "start_time": "2023-01-29T07:09:03.543Z"
   },
   {
    "duration": 14,
    "start_time": "2023-01-29T07:09:03.566Z"
   },
   {
    "duration": 19,
    "start_time": "2023-01-29T07:09:03.582Z"
   },
   {
    "duration": 117,
    "start_time": "2023-01-29T07:09:03.603Z"
   },
   {
    "duration": 0,
    "start_time": "2023-01-29T07:09:03.722Z"
   },
   {
    "duration": 0,
    "start_time": "2023-01-29T07:09:03.723Z"
   },
   {
    "duration": 0,
    "start_time": "2023-01-29T07:09:03.724Z"
   },
   {
    "duration": 0,
    "start_time": "2023-01-29T07:09:03.725Z"
   },
   {
    "duration": 0,
    "start_time": "2023-01-29T07:09:03.737Z"
   },
   {
    "duration": 0,
    "start_time": "2023-01-29T07:09:03.739Z"
   },
   {
    "duration": 0,
    "start_time": "2023-01-29T07:09:03.740Z"
   },
   {
    "duration": 0,
    "start_time": "2023-01-29T07:09:03.741Z"
   },
   {
    "duration": 0,
    "start_time": "2023-01-29T07:09:03.743Z"
   },
   {
    "duration": 0,
    "start_time": "2023-01-29T07:09:03.744Z"
   },
   {
    "duration": 0,
    "start_time": "2023-01-29T07:09:03.745Z"
   },
   {
    "duration": 0,
    "start_time": "2023-01-29T07:09:03.746Z"
   },
   {
    "duration": 0,
    "start_time": "2023-01-29T07:09:03.747Z"
   },
   {
    "duration": 0,
    "start_time": "2023-01-29T07:09:03.748Z"
   },
   {
    "duration": 0,
    "start_time": "2023-01-29T07:09:03.749Z"
   },
   {
    "duration": 1515,
    "start_time": "2023-01-29T07:09:20.855Z"
   },
   {
    "duration": 59,
    "start_time": "2023-01-29T07:09:22.372Z"
   },
   {
    "duration": 28,
    "start_time": "2023-01-29T07:09:22.433Z"
   },
   {
    "duration": 4,
    "start_time": "2023-01-29T07:09:22.464Z"
   },
   {
    "duration": 17,
    "start_time": "2023-01-29T07:09:22.470Z"
   },
   {
    "duration": 16,
    "start_time": "2023-01-29T07:09:22.489Z"
   },
   {
    "duration": 28,
    "start_time": "2023-01-29T07:09:22.507Z"
   },
   {
    "duration": 382,
    "start_time": "2023-01-29T07:09:22.537Z"
   },
   {
    "duration": 419,
    "start_time": "2023-01-29T07:09:22.921Z"
   },
   {
    "duration": 449,
    "start_time": "2023-01-29T07:09:23.342Z"
   },
   {
    "duration": 21,
    "start_time": "2023-01-29T07:09:23.793Z"
   },
   {
    "duration": 2,
    "start_time": "2023-01-29T07:09:23.816Z"
   },
   {
    "duration": 4,
    "start_time": "2023-01-29T07:09:23.837Z"
   },
   {
    "duration": 26,
    "start_time": "2023-01-29T07:09:23.842Z"
   },
   {
    "duration": 3,
    "start_time": "2023-01-29T07:09:23.869Z"
   },
   {
    "duration": 7,
    "start_time": "2023-01-29T07:09:23.873Z"
   },
   {
    "duration": 7,
    "start_time": "2023-01-29T07:09:23.881Z"
   },
   {
    "duration": 5,
    "start_time": "2023-01-29T07:09:23.889Z"
   },
   {
    "duration": 1571,
    "start_time": "2023-01-29T07:09:58.094Z"
   },
   {
    "duration": 50,
    "start_time": "2023-01-29T07:09:59.668Z"
   },
   {
    "duration": 25,
    "start_time": "2023-01-29T07:09:59.719Z"
   },
   {
    "duration": 4,
    "start_time": "2023-01-29T07:09:59.747Z"
   },
   {
    "duration": 11,
    "start_time": "2023-01-29T07:09:59.753Z"
   },
   {
    "duration": 21,
    "start_time": "2023-01-29T07:09:59.766Z"
   },
   {
    "duration": 17,
    "start_time": "2023-01-29T07:09:59.789Z"
   },
   {
    "duration": 368,
    "start_time": "2023-01-29T07:09:59.808Z"
   },
   {
    "duration": 426,
    "start_time": "2023-01-29T07:10:00.178Z"
   },
   {
    "duration": 489,
    "start_time": "2023-01-29T07:10:00.606Z"
   },
   {
    "duration": 40,
    "start_time": "2023-01-29T07:10:01.098Z"
   },
   {
    "duration": 3,
    "start_time": "2023-01-29T07:10:01.140Z"
   },
   {
    "duration": 31,
    "start_time": "2023-01-29T07:10:01.146Z"
   },
   {
    "duration": 37,
    "start_time": "2023-01-29T07:10:01.178Z"
   },
   {
    "duration": 67,
    "start_time": "2023-01-29T07:10:01.217Z"
   },
   {
    "duration": 25,
    "start_time": "2023-01-29T07:10:01.286Z"
   },
   {
    "duration": 24,
    "start_time": "2023-01-29T07:10:01.313Z"
   },
   {
    "duration": 35,
    "start_time": "2023-01-29T07:10:01.339Z"
   },
   {
    "duration": 1848,
    "start_time": "2023-01-29T07:15:46.991Z"
   },
   {
    "duration": 68,
    "start_time": "2023-01-29T07:15:48.841Z"
   },
   {
    "duration": 43,
    "start_time": "2023-01-29T07:15:48.911Z"
   },
   {
    "duration": 23,
    "start_time": "2023-01-29T07:15:48.957Z"
   },
   {
    "duration": 80,
    "start_time": "2023-01-29T07:15:48.981Z"
   },
   {
    "duration": 23,
    "start_time": "2023-01-29T07:15:49.063Z"
   },
   {
    "duration": 31,
    "start_time": "2023-01-29T07:15:49.087Z"
   },
   {
    "duration": 413,
    "start_time": "2023-01-29T07:15:49.119Z"
   },
   {
    "duration": 732,
    "start_time": "2023-01-29T07:15:49.535Z"
   },
   {
    "duration": 535,
    "start_time": "2023-01-29T07:15:50.270Z"
   },
   {
    "duration": 40,
    "start_time": "2023-01-29T07:15:50.807Z"
   },
   {
    "duration": 16,
    "start_time": "2023-01-29T07:15:50.855Z"
   },
   {
    "duration": 28,
    "start_time": "2023-01-29T07:15:50.873Z"
   },
   {
    "duration": 60,
    "start_time": "2023-01-29T07:15:50.903Z"
   },
   {
    "duration": 9,
    "start_time": "2023-01-29T07:15:50.965Z"
   },
   {
    "duration": 11,
    "start_time": "2023-01-29T07:15:50.978Z"
   },
   {
    "duration": 14,
    "start_time": "2023-01-29T07:15:50.991Z"
   },
   {
    "duration": 19,
    "start_time": "2023-01-29T07:15:51.007Z"
   },
   {
    "duration": 1501,
    "start_time": "2023-01-29T07:19:40.794Z"
   },
   {
    "duration": 53,
    "start_time": "2023-01-29T07:19:42.297Z"
   },
   {
    "duration": 25,
    "start_time": "2023-01-29T07:19:42.352Z"
   },
   {
    "duration": 4,
    "start_time": "2023-01-29T07:19:42.379Z"
   },
   {
    "duration": 11,
    "start_time": "2023-01-29T07:19:42.384Z"
   },
   {
    "duration": 19,
    "start_time": "2023-01-29T07:19:42.398Z"
   },
   {
    "duration": 26,
    "start_time": "2023-01-29T07:19:42.419Z"
   },
   {
    "duration": 589,
    "start_time": "2023-01-29T07:19:42.447Z"
   },
   {
    "duration": 503,
    "start_time": "2023-01-29T07:19:43.038Z"
   },
   {
    "duration": 26,
    "start_time": "2023-01-29T07:19:43.544Z"
   },
   {
    "duration": 4,
    "start_time": "2023-01-29T07:19:43.572Z"
   },
   {
    "duration": 24,
    "start_time": "2023-01-29T07:19:43.577Z"
   },
   {
    "duration": 51,
    "start_time": "2023-01-29T07:19:43.604Z"
   },
   {
    "duration": 3,
    "start_time": "2023-01-29T07:19:43.656Z"
   },
   {
    "duration": 48,
    "start_time": "2023-01-29T07:19:43.660Z"
   },
   {
    "duration": 11,
    "start_time": "2023-01-29T07:19:43.710Z"
   },
   {
    "duration": 15,
    "start_time": "2023-01-29T07:19:43.723Z"
   },
   {
    "duration": 1696,
    "start_time": "2023-01-29T07:20:20.598Z"
   },
   {
    "duration": 50,
    "start_time": "2023-01-29T07:20:22.296Z"
   },
   {
    "duration": 23,
    "start_time": "2023-01-29T07:20:22.348Z"
   },
   {
    "duration": 4,
    "start_time": "2023-01-29T07:20:22.374Z"
   },
   {
    "duration": 11,
    "start_time": "2023-01-29T07:20:22.380Z"
   },
   {
    "duration": 11,
    "start_time": "2023-01-29T07:20:22.400Z"
   },
   {
    "duration": 34,
    "start_time": "2023-01-29T07:20:22.414Z"
   },
   {
    "duration": 614,
    "start_time": "2023-01-29T07:20:22.450Z"
   },
   {
    "duration": 462,
    "start_time": "2023-01-29T07:20:23.066Z"
   },
   {
    "duration": 22,
    "start_time": "2023-01-29T07:20:23.537Z"
   },
   {
    "duration": 2,
    "start_time": "2023-01-29T07:20:23.561Z"
   },
   {
    "duration": 11,
    "start_time": "2023-01-29T07:20:23.565Z"
   },
   {
    "duration": 32,
    "start_time": "2023-01-29T07:20:23.578Z"
   },
   {
    "duration": 3,
    "start_time": "2023-01-29T07:20:23.612Z"
   },
   {
    "duration": 6,
    "start_time": "2023-01-29T07:20:23.617Z"
   },
   {
    "duration": 15,
    "start_time": "2023-01-29T07:20:23.638Z"
   },
   {
    "duration": 31,
    "start_time": "2023-01-29T07:20:23.655Z"
   },
   {
    "duration": 55753,
    "start_time": "2023-01-29T07:20:23.688Z"
   },
   {
    "duration": 149,
    "start_time": "2023-01-29T07:21:19.443Z"
   },
   {
    "duration": 10,
    "start_time": "2023-01-29T07:21:19.594Z"
   },
   {
    "duration": 35,
    "start_time": "2023-01-29T07:21:19.606Z"
   },
   {
    "duration": 7,
    "start_time": "2023-01-29T07:21:19.642Z"
   },
   {
    "duration": 1624,
    "start_time": "2023-01-29T07:40:58.912Z"
   },
   {
    "duration": 50,
    "start_time": "2023-01-29T07:41:00.545Z"
   },
   {
    "duration": 45,
    "start_time": "2023-01-29T07:41:00.597Z"
   },
   {
    "duration": 43,
    "start_time": "2023-01-29T07:41:00.644Z"
   },
   {
    "duration": 28,
    "start_time": "2023-01-29T07:41:00.689Z"
   },
   {
    "duration": 34,
    "start_time": "2023-01-29T07:41:00.719Z"
   },
   {
    "duration": 36,
    "start_time": "2023-01-29T07:41:00.755Z"
   },
   {
    "duration": 443,
    "start_time": "2023-01-29T07:41:00.793Z"
   },
   {
    "duration": 571,
    "start_time": "2023-01-29T07:41:01.238Z"
   },
   {
    "duration": 30,
    "start_time": "2023-01-29T07:41:01.811Z"
   },
   {
    "duration": 18,
    "start_time": "2023-01-29T07:41:01.843Z"
   },
   {
    "duration": 37,
    "start_time": "2023-01-29T07:41:01.863Z"
   },
   {
    "duration": 61,
    "start_time": "2023-01-29T07:41:01.902Z"
   },
   {
    "duration": 11,
    "start_time": "2023-01-29T07:41:01.965Z"
   },
   {
    "duration": 21,
    "start_time": "2023-01-29T07:41:01.978Z"
   },
   {
    "duration": 19,
    "start_time": "2023-01-29T07:41:02.001Z"
   },
   {
    "duration": 12,
    "start_time": "2023-01-29T07:41:02.022Z"
   },
   {
    "duration": 151608,
    "start_time": "2023-01-29T07:41:02.036Z"
   },
   {
    "duration": 165,
    "start_time": "2023-01-29T07:43:33.645Z"
   },
   {
    "duration": 26,
    "start_time": "2023-01-29T07:43:33.813Z"
   },
   {
    "duration": 18,
    "start_time": "2023-01-29T07:43:33.841Z"
   },
   {
    "duration": 19,
    "start_time": "2023-01-29T07:43:33.860Z"
   },
   {
    "duration": 12,
    "start_time": "2023-01-29T07:49:24.177Z"
   },
   {
    "duration": 7,
    "start_time": "2023-01-29T07:50:25.372Z"
   },
   {
    "duration": 1590,
    "start_time": "2023-01-29T07:53:03.449Z"
   },
   {
    "duration": 52,
    "start_time": "2023-01-29T07:53:05.041Z"
   },
   {
    "duration": 22,
    "start_time": "2023-01-29T07:53:05.096Z"
   },
   {
    "duration": 3,
    "start_time": "2023-01-29T07:53:05.120Z"
   },
   {
    "duration": 30,
    "start_time": "2023-01-29T07:53:05.126Z"
   },
   {
    "duration": 21,
    "start_time": "2023-01-29T07:53:05.158Z"
   },
   {
    "duration": 26,
    "start_time": "2023-01-29T07:53:05.181Z"
   },
   {
    "duration": 379,
    "start_time": "2023-01-29T07:53:05.209Z"
   },
   {
    "duration": 524,
    "start_time": "2023-01-29T07:53:05.590Z"
   },
   {
    "duration": 29,
    "start_time": "2023-01-29T07:53:06.116Z"
   },
   {
    "duration": 5,
    "start_time": "2023-01-29T07:53:06.147Z"
   },
   {
    "duration": 16,
    "start_time": "2023-01-29T07:53:06.154Z"
   },
   {
    "duration": 50,
    "start_time": "2023-01-29T07:53:06.172Z"
   },
   {
    "duration": 3,
    "start_time": "2023-01-29T07:53:06.226Z"
   },
   {
    "duration": 23,
    "start_time": "2023-01-29T07:53:06.231Z"
   },
   {
    "duration": 20,
    "start_time": "2023-01-29T07:53:06.255Z"
   },
   {
    "duration": 25,
    "start_time": "2023-01-29T07:53:06.276Z"
   },
   {
    "duration": 151348,
    "start_time": "2023-01-29T07:53:06.303Z"
   },
   {
    "duration": 268,
    "start_time": "2023-01-29T07:55:37.653Z"
   },
   {
    "duration": 0,
    "start_time": "2023-01-29T07:55:37.923Z"
   },
   {
    "duration": 0,
    "start_time": "2023-01-29T07:55:37.924Z"
   },
   {
    "duration": 0,
    "start_time": "2023-01-29T07:55:37.926Z"
   },
   {
    "duration": 0,
    "start_time": "2023-01-29T07:55:37.927Z"
   },
   {
    "duration": 1696,
    "start_time": "2023-01-29T07:57:26.925Z"
   },
   {
    "duration": 49,
    "start_time": "2023-01-29T07:57:28.622Z"
   },
   {
    "duration": 22,
    "start_time": "2023-01-29T07:57:28.673Z"
   },
   {
    "duration": 5,
    "start_time": "2023-01-29T07:57:28.697Z"
   },
   {
    "duration": 9,
    "start_time": "2023-01-29T07:57:28.704Z"
   },
   {
    "duration": 14,
    "start_time": "2023-01-29T07:57:28.714Z"
   },
   {
    "duration": 17,
    "start_time": "2023-01-29T07:57:28.730Z"
   },
   {
    "duration": 403,
    "start_time": "2023-01-29T07:57:28.749Z"
   },
   {
    "duration": 550,
    "start_time": "2023-01-29T07:57:29.154Z"
   },
   {
    "duration": 35,
    "start_time": "2023-01-29T07:57:29.708Z"
   },
   {
    "duration": 3,
    "start_time": "2023-01-29T07:57:29.745Z"
   },
   {
    "duration": 14,
    "start_time": "2023-01-29T07:57:29.749Z"
   },
   {
    "duration": 42,
    "start_time": "2023-01-29T07:57:29.765Z"
   },
   {
    "duration": 3,
    "start_time": "2023-01-29T07:57:29.808Z"
   },
   {
    "duration": 19,
    "start_time": "2023-01-29T07:57:29.813Z"
   },
   {
    "duration": 12,
    "start_time": "2023-01-29T07:57:29.834Z"
   },
   {
    "duration": 95,
    "start_time": "2023-01-29T07:57:29.848Z"
   },
   {
    "duration": 4,
    "start_time": "2023-01-29T07:57:29.944Z"
   },
   {
    "duration": 167203,
    "start_time": "2023-01-29T07:57:29.950Z"
   },
   {
    "duration": 84,
    "start_time": "2023-01-29T08:00:17.154Z"
   },
   {
    "duration": 16,
    "start_time": "2023-01-29T08:00:17.240Z"
   },
   {
    "duration": 191,
    "start_time": "2023-01-29T08:00:17.257Z"
   },
   {
    "duration": 0,
    "start_time": "2023-01-29T08:00:17.450Z"
   },
   {
    "duration": 16,
    "start_time": "2023-01-29T08:00:54.515Z"
   },
   {
    "duration": 31,
    "start_time": "2023-01-29T08:02:15.619Z"
   },
   {
    "duration": 20,
    "start_time": "2023-01-29T08:04:17.084Z"
   },
   {
    "duration": 13,
    "start_time": "2023-01-29T08:06:16.700Z"
   },
   {
    "duration": 32,
    "start_time": "2023-01-29T08:06:29.740Z"
   },
   {
    "duration": 23,
    "start_time": "2023-01-29T08:06:46.900Z"
   },
   {
    "duration": 1552,
    "start_time": "2023-01-29T08:07:00.355Z"
   },
   {
    "duration": 49,
    "start_time": "2023-01-29T08:07:01.908Z"
   },
   {
    "duration": 20,
    "start_time": "2023-01-29T08:07:01.958Z"
   },
   {
    "duration": 4,
    "start_time": "2023-01-29T08:07:01.980Z"
   },
   {
    "duration": 7,
    "start_time": "2023-01-29T08:07:01.986Z"
   },
   {
    "duration": 4,
    "start_time": "2023-01-29T08:07:01.995Z"
   },
   {
    "duration": 13,
    "start_time": "2023-01-29T08:07:02.000Z"
   },
   {
    "duration": 394,
    "start_time": "2023-01-29T08:07:02.014Z"
   },
   {
    "duration": 583,
    "start_time": "2023-01-29T08:07:02.410Z"
   },
   {
    "duration": 23,
    "start_time": "2023-01-29T08:07:02.996Z"
   },
   {
    "duration": 3,
    "start_time": "2023-01-29T08:07:03.020Z"
   },
   {
    "duration": 4,
    "start_time": "2023-01-29T08:07:03.037Z"
   },
   {
    "duration": 44,
    "start_time": "2023-01-29T08:07:03.042Z"
   },
   {
    "duration": 3,
    "start_time": "2023-01-29T08:07:03.087Z"
   },
   {
    "duration": 7,
    "start_time": "2023-01-29T08:07:03.092Z"
   },
   {
    "duration": 10,
    "start_time": "2023-01-29T08:07:03.100Z"
   },
   {
    "duration": 97,
    "start_time": "2023-01-29T08:07:03.111Z"
   },
   {
    "duration": 3,
    "start_time": "2023-01-29T08:07:03.210Z"
   },
   {
    "duration": 1107265,
    "start_time": "2023-01-29T08:07:03.215Z"
   },
   {
    "duration": 13,
    "start_time": "2023-01-29T08:25:30.482Z"
   },
   {
    "duration": 51,
    "start_time": "2023-01-29T08:25:30.496Z"
   },
   {
    "duration": 0,
    "start_time": "2023-01-29T08:25:30.549Z"
   },
   {
    "duration": 0,
    "start_time": "2023-01-29T08:25:30.551Z"
   },
   {
    "duration": 33,
    "start_time": "2023-01-29T08:25:42.493Z"
   },
   {
    "duration": 8,
    "start_time": "2023-01-29T08:25:47.893Z"
   },
   {
    "duration": 1502,
    "start_time": "2023-01-29T08:26:04.850Z"
   },
   {
    "duration": 51,
    "start_time": "2023-01-29T08:26:06.357Z"
   },
   {
    "duration": 21,
    "start_time": "2023-01-29T08:26:06.410Z"
   },
   {
    "duration": 4,
    "start_time": "2023-01-29T08:26:06.433Z"
   },
   {
    "duration": 21,
    "start_time": "2023-01-29T08:26:06.438Z"
   },
   {
    "duration": 8,
    "start_time": "2023-01-29T08:26:06.460Z"
   },
   {
    "duration": 12,
    "start_time": "2023-01-29T08:26:06.470Z"
   },
   {
    "duration": 383,
    "start_time": "2023-01-29T08:26:06.484Z"
   },
   {
    "duration": 570,
    "start_time": "2023-01-29T08:26:06.869Z"
   },
   {
    "duration": 24,
    "start_time": "2023-01-29T08:26:07.442Z"
   },
   {
    "duration": 8,
    "start_time": "2023-01-29T08:26:07.468Z"
   },
   {
    "duration": 22,
    "start_time": "2023-01-29T08:26:07.478Z"
   },
   {
    "duration": 34,
    "start_time": "2023-01-29T08:26:07.502Z"
   },
   {
    "duration": 3,
    "start_time": "2023-01-29T08:26:07.537Z"
   },
   {
    "duration": 6,
    "start_time": "2023-01-29T08:26:07.542Z"
   },
   {
    "duration": 14,
    "start_time": "2023-01-29T08:26:07.550Z"
   },
   {
    "duration": 91,
    "start_time": "2023-01-29T08:26:07.566Z"
   },
   {
    "duration": 4,
    "start_time": "2023-01-29T08:26:07.658Z"
   },
   {
    "duration": 49583,
    "start_time": "2023-01-29T08:26:07.665Z"
   },
   {
    "duration": 10,
    "start_time": "2023-01-29T08:26:57.250Z"
   },
   {
    "duration": 90,
    "start_time": "2023-01-29T08:26:57.261Z"
   },
   {
    "duration": 176,
    "start_time": "2023-01-29T08:26:57.352Z"
   },
   {
    "duration": 0,
    "start_time": "2023-01-29T08:26:57.529Z"
   },
   {
    "duration": 1492,
    "start_time": "2023-01-29T08:27:46.268Z"
   },
   {
    "duration": 50,
    "start_time": "2023-01-29T08:27:47.762Z"
   },
   {
    "duration": 21,
    "start_time": "2023-01-29T08:27:47.814Z"
   },
   {
    "duration": 3,
    "start_time": "2023-01-29T08:27:47.837Z"
   },
   {
    "duration": 18,
    "start_time": "2023-01-29T08:27:47.843Z"
   },
   {
    "duration": 10,
    "start_time": "2023-01-29T08:27:47.862Z"
   },
   {
    "duration": 19,
    "start_time": "2023-01-29T08:27:47.873Z"
   },
   {
    "duration": 414,
    "start_time": "2023-01-29T08:27:47.894Z"
   },
   {
    "duration": 531,
    "start_time": "2023-01-29T08:27:48.309Z"
   },
   {
    "duration": 22,
    "start_time": "2023-01-29T08:27:48.843Z"
   },
   {
    "duration": 2,
    "start_time": "2023-01-29T08:27:48.867Z"
   },
   {
    "duration": 10,
    "start_time": "2023-01-29T08:27:48.871Z"
   },
   {
    "duration": 31,
    "start_time": "2023-01-29T08:27:48.883Z"
   },
   {
    "duration": 22,
    "start_time": "2023-01-29T08:27:48.916Z"
   },
   {
    "duration": 4,
    "start_time": "2023-01-29T08:27:48.939Z"
   },
   {
    "duration": 9,
    "start_time": "2023-01-29T08:27:48.944Z"
   },
   {
    "duration": 93,
    "start_time": "2023-01-29T08:27:48.954Z"
   },
   {
    "duration": 123,
    "start_time": "2023-01-29T08:27:49.048Z"
   },
   {
    "duration": 0,
    "start_time": "2023-01-29T08:27:49.172Z"
   },
   {
    "duration": 0,
    "start_time": "2023-01-29T08:27:49.173Z"
   },
   {
    "duration": 0,
    "start_time": "2023-01-29T08:27:49.175Z"
   },
   {
    "duration": 0,
    "start_time": "2023-01-29T08:27:49.176Z"
   },
   {
    "duration": 0,
    "start_time": "2023-01-29T08:27:49.177Z"
   },
   {
    "duration": 14,
    "start_time": "2023-01-29T08:29:57.878Z"
   },
   {
    "duration": 4,
    "start_time": "2023-01-29T08:30:13.335Z"
   },
   {
    "duration": 1599,
    "start_time": "2023-01-29T08:32:30.497Z"
   },
   {
    "duration": 59,
    "start_time": "2023-01-29T08:32:32.098Z"
   },
   {
    "duration": 23,
    "start_time": "2023-01-29T08:32:32.159Z"
   },
   {
    "duration": 12,
    "start_time": "2023-01-29T08:32:32.183Z"
   },
   {
    "duration": 24,
    "start_time": "2023-01-29T08:32:32.198Z"
   },
   {
    "duration": 15,
    "start_time": "2023-01-29T08:32:32.224Z"
   },
   {
    "duration": 37,
    "start_time": "2023-01-29T08:32:32.241Z"
   },
   {
    "duration": 587,
    "start_time": "2023-01-29T08:32:32.279Z"
   },
   {
    "duration": 594,
    "start_time": "2023-01-29T08:32:32.868Z"
   },
   {
    "duration": 22,
    "start_time": "2023-01-29T08:32:33.464Z"
   },
   {
    "duration": 7,
    "start_time": "2023-01-29T08:32:33.488Z"
   },
   {
    "duration": 12,
    "start_time": "2023-01-29T08:32:33.497Z"
   },
   {
    "duration": 44,
    "start_time": "2023-01-29T08:32:33.511Z"
   },
   {
    "duration": 3,
    "start_time": "2023-01-29T08:32:33.558Z"
   },
   {
    "duration": 12,
    "start_time": "2023-01-29T08:32:33.562Z"
   },
   {
    "duration": 10,
    "start_time": "2023-01-29T08:32:33.576Z"
   },
   {
    "duration": 95,
    "start_time": "2023-01-29T08:32:33.588Z"
   },
   {
    "duration": 4,
    "start_time": "2023-01-29T08:32:33.685Z"
   },
   {
    "duration": 161,
    "start_time": "2023-01-29T08:32:33.691Z"
   },
   {
    "duration": 0,
    "start_time": "2023-01-29T08:32:33.854Z"
   },
   {
    "duration": 0,
    "start_time": "2023-01-29T08:32:33.855Z"
   },
   {
    "duration": 0,
    "start_time": "2023-01-29T08:32:33.856Z"
   },
   {
    "duration": 0,
    "start_time": "2023-01-29T08:32:33.861Z"
   },
   {
    "duration": 0,
    "start_time": "2023-01-29T08:32:33.861Z"
   },
   {
    "duration": 26,
    "start_time": "2023-01-29T08:32:44.172Z"
   },
   {
    "duration": 3,
    "start_time": "2023-01-29T08:33:08.032Z"
   },
   {
    "duration": 29,
    "start_time": "2023-01-29T08:33:13.843Z"
   },
   {
    "duration": 72,
    "start_time": "2023-01-29T08:39:39.318Z"
   },
   {
    "duration": 1640,
    "start_time": "2023-01-29T08:40:08.652Z"
   },
   {
    "duration": 51,
    "start_time": "2023-01-29T08:40:10.294Z"
   },
   {
    "duration": 23,
    "start_time": "2023-01-29T08:40:10.346Z"
   },
   {
    "duration": 4,
    "start_time": "2023-01-29T08:40:10.371Z"
   },
   {
    "duration": 15,
    "start_time": "2023-01-29T08:40:10.376Z"
   },
   {
    "duration": 11,
    "start_time": "2023-01-29T08:40:10.392Z"
   },
   {
    "duration": 16,
    "start_time": "2023-01-29T08:40:10.405Z"
   },
   {
    "duration": 411,
    "start_time": "2023-01-29T08:40:10.437Z"
   },
   {
    "duration": 553,
    "start_time": "2023-01-29T08:40:10.850Z"
   },
   {
    "duration": 39,
    "start_time": "2023-01-29T08:40:11.406Z"
   },
   {
    "duration": 3,
    "start_time": "2023-01-29T08:40:11.446Z"
   },
   {
    "duration": 23,
    "start_time": "2023-01-29T08:40:11.451Z"
   },
   {
    "duration": 39,
    "start_time": "2023-01-29T08:40:11.475Z"
   },
   {
    "duration": 3,
    "start_time": "2023-01-29T08:40:11.516Z"
   },
   {
    "duration": 11,
    "start_time": "2023-01-29T08:40:11.520Z"
   },
   {
    "duration": 8,
    "start_time": "2023-01-29T08:40:11.533Z"
   },
   {
    "duration": 134,
    "start_time": "2023-01-29T08:40:11.543Z"
   },
   {
    "duration": 3,
    "start_time": "2023-01-29T08:40:11.679Z"
   },
   {
    "duration": 286567,
    "start_time": "2023-01-29T08:40:11.684Z"
   },
   {
    "duration": 89,
    "start_time": "2023-01-29T08:44:58.253Z"
   },
   {
    "duration": 13,
    "start_time": "2023-01-29T08:44:58.344Z"
   },
   {
    "duration": 228,
    "start_time": "2023-01-29T08:44:58.359Z"
   },
   {
    "duration": 0,
    "start_time": "2023-01-29T08:44:58.589Z"
   },
   {
    "duration": 7,
    "start_time": "2023-01-29T08:45:24.472Z"
   },
   {
    "duration": 8,
    "start_time": "2023-01-29T08:45:32.768Z"
   },
   {
    "duration": 1590,
    "start_time": "2023-01-29T08:54:29.098Z"
   },
   {
    "duration": 49,
    "start_time": "2023-01-29T08:54:30.690Z"
   },
   {
    "duration": 27,
    "start_time": "2023-01-29T08:54:30.741Z"
   },
   {
    "duration": 49,
    "start_time": "2023-01-29T08:54:30.771Z"
   },
   {
    "duration": 22,
    "start_time": "2023-01-29T08:54:30.821Z"
   },
   {
    "duration": 22,
    "start_time": "2023-01-29T08:54:30.845Z"
   },
   {
    "duration": 29,
    "start_time": "2023-01-29T08:54:30.869Z"
   },
   {
    "duration": 392,
    "start_time": "2023-01-29T08:54:30.900Z"
   },
   {
    "duration": 519,
    "start_time": "2023-01-29T08:54:31.293Z"
   },
   {
    "duration": 28,
    "start_time": "2023-01-29T08:54:31.816Z"
   },
   {
    "duration": 3,
    "start_time": "2023-01-29T08:54:31.846Z"
   },
   {
    "duration": 16,
    "start_time": "2023-01-29T08:54:31.850Z"
   },
   {
    "duration": 53,
    "start_time": "2023-01-29T08:54:31.867Z"
   },
   {
    "duration": 3,
    "start_time": "2023-01-29T08:54:31.922Z"
   },
   {
    "duration": 19,
    "start_time": "2023-01-29T08:54:31.927Z"
   },
   {
    "duration": 30,
    "start_time": "2023-01-29T08:54:31.948Z"
   },
   {
    "duration": 99,
    "start_time": "2023-01-29T08:54:31.980Z"
   },
   {
    "duration": 0,
    "start_time": "2023-01-29T08:54:32.081Z"
   },
   {
    "duration": 0,
    "start_time": "2023-01-29T08:54:32.082Z"
   },
   {
    "duration": 1,
    "start_time": "2023-01-29T08:54:32.083Z"
   },
   {
    "duration": 0,
    "start_time": "2023-01-29T08:54:32.085Z"
   },
   {
    "duration": 0,
    "start_time": "2023-01-29T08:54:32.087Z"
   },
   {
    "duration": 0,
    "start_time": "2023-01-29T08:54:32.089Z"
   },
   {
    "duration": 74,
    "start_time": "2023-01-29T08:57:55.010Z"
   },
   {
    "duration": 3,
    "start_time": "2023-01-29T08:57:56.731Z"
   },
   {
    "duration": 9739,
    "start_time": "2023-01-29T08:57:59.409Z"
   },
   {
    "duration": 40707,
    "start_time": "2023-01-29T08:58:09.150Z"
   },
   {
    "duration": 60,
    "start_time": "2023-01-29T08:58:49.859Z"
   },
   {
    "duration": 15,
    "start_time": "2023-01-29T08:58:49.922Z"
   },
   {
    "duration": 32,
    "start_time": "2023-01-29T08:58:49.939Z"
   },
   {
    "duration": 8,
    "start_time": "2023-01-29T08:58:49.973Z"
   },
   {
    "duration": 9,
    "start_time": "2023-01-29T08:59:21.063Z"
   },
   {
    "duration": 1473,
    "start_time": "2023-01-29T09:01:28.763Z"
   },
   {
    "duration": 49,
    "start_time": "2023-01-29T09:01:30.237Z"
   },
   {
    "duration": 21,
    "start_time": "2023-01-29T09:01:30.287Z"
   },
   {
    "duration": 4,
    "start_time": "2023-01-29T09:01:30.310Z"
   },
   {
    "duration": 44,
    "start_time": "2023-01-29T09:01:30.316Z"
   },
   {
    "duration": 52,
    "start_time": "2023-01-29T09:01:30.362Z"
   },
   {
    "duration": 87,
    "start_time": "2023-01-29T09:01:30.416Z"
   },
   {
    "duration": 390,
    "start_time": "2023-01-29T09:01:30.505Z"
   },
   {
    "duration": 510,
    "start_time": "2023-01-29T09:01:30.897Z"
   },
   {
    "duration": 35,
    "start_time": "2023-01-29T09:01:31.410Z"
   },
   {
    "duration": 4,
    "start_time": "2023-01-29T09:01:31.447Z"
   },
   {
    "duration": 23,
    "start_time": "2023-01-29T09:01:31.452Z"
   },
   {
    "duration": 35,
    "start_time": "2023-01-29T09:01:31.477Z"
   },
   {
    "duration": 3,
    "start_time": "2023-01-29T09:01:31.514Z"
   },
   {
    "duration": 14,
    "start_time": "2023-01-29T09:01:31.518Z"
   },
   {
    "duration": 30,
    "start_time": "2023-01-29T09:01:31.533Z"
   },
   {
    "duration": 99,
    "start_time": "2023-01-29T09:01:31.565Z"
   },
   {
    "duration": 3,
    "start_time": "2023-01-29T09:01:31.666Z"
   },
   {
    "duration": 15777,
    "start_time": "2023-01-29T09:01:31.670Z"
   },
   {
    "duration": 34338,
    "start_time": "2023-01-29T09:01:47.449Z"
   },
   {
    "duration": 57,
    "start_time": "2023-01-29T09:02:21.789Z"
   },
   {
    "duration": 10,
    "start_time": "2023-01-29T09:02:21.848Z"
   },
   {
    "duration": 29,
    "start_time": "2023-01-29T09:02:21.860Z"
   },
   {
    "duration": 30,
    "start_time": "2023-01-29T09:02:21.891Z"
   },
   {
    "duration": 24,
    "start_time": "2023-01-29T09:02:21.922Z"
   },
   {
    "duration": 1531,
    "start_time": "2023-01-29T09:04:06.476Z"
   },
   {
    "duration": 63,
    "start_time": "2023-01-29T09:04:08.009Z"
   },
   {
    "duration": 29,
    "start_time": "2023-01-29T09:04:08.075Z"
   },
   {
    "duration": 4,
    "start_time": "2023-01-29T09:04:08.108Z"
   },
   {
    "duration": 18,
    "start_time": "2023-01-29T09:04:08.114Z"
   },
   {
    "duration": 16,
    "start_time": "2023-01-29T09:04:08.138Z"
   },
   {
    "duration": 34,
    "start_time": "2023-01-29T09:04:08.156Z"
   },
   {
    "duration": 432,
    "start_time": "2023-01-29T09:04:08.192Z"
   },
   {
    "duration": 547,
    "start_time": "2023-01-29T09:04:08.626Z"
   },
   {
    "duration": 23,
    "start_time": "2023-01-29T09:04:09.176Z"
   },
   {
    "duration": 12,
    "start_time": "2023-01-29T09:04:09.201Z"
   },
   {
    "duration": 15,
    "start_time": "2023-01-29T09:04:09.215Z"
   },
   {
    "duration": 49,
    "start_time": "2023-01-29T09:04:09.232Z"
   },
   {
    "duration": 4,
    "start_time": "2023-01-29T09:04:09.283Z"
   },
   {
    "duration": 6,
    "start_time": "2023-01-29T09:04:09.288Z"
   },
   {
    "duration": 8,
    "start_time": "2023-01-29T09:04:09.296Z"
   },
   {
    "duration": 77,
    "start_time": "2023-01-29T09:04:09.306Z"
   },
   {
    "duration": 3,
    "start_time": "2023-01-29T09:04:09.385Z"
   },
   {
    "duration": 10063,
    "start_time": "2023-01-29T09:04:09.390Z"
   },
   {
    "duration": 31944,
    "start_time": "2023-01-29T09:04:19.538Z"
   },
   {
    "duration": 60,
    "start_time": "2023-01-29T09:04:51.484Z"
   },
   {
    "duration": 11,
    "start_time": "2023-01-29T09:04:51.546Z"
   },
   {
    "duration": 13,
    "start_time": "2023-01-29T09:04:51.559Z"
   },
   {
    "duration": 14,
    "start_time": "2023-01-29T09:04:51.574Z"
   },
   {
    "duration": 50,
    "start_time": "2023-01-29T09:04:51.590Z"
   },
   {
    "duration": 1453,
    "start_time": "2023-01-29T09:05:46.594Z"
   },
   {
    "duration": 51,
    "start_time": "2023-01-29T09:05:48.049Z"
   },
   {
    "duration": 29,
    "start_time": "2023-01-29T09:05:48.101Z"
   },
   {
    "duration": 17,
    "start_time": "2023-01-29T09:05:48.133Z"
   },
   {
    "duration": 17,
    "start_time": "2023-01-29T09:05:48.152Z"
   },
   {
    "duration": 14,
    "start_time": "2023-01-29T09:05:48.171Z"
   },
   {
    "duration": 26,
    "start_time": "2023-01-29T09:05:48.186Z"
   },
   {
    "duration": 379,
    "start_time": "2023-01-29T09:05:48.213Z"
   },
   {
    "duration": 517,
    "start_time": "2023-01-29T09:05:48.593Z"
   },
   {
    "duration": 29,
    "start_time": "2023-01-29T09:05:49.113Z"
   },
   {
    "duration": 2,
    "start_time": "2023-01-29T09:05:49.144Z"
   },
   {
    "duration": 7,
    "start_time": "2023-01-29T09:05:49.148Z"
   },
   {
    "duration": 33,
    "start_time": "2023-01-29T09:05:49.157Z"
   },
   {
    "duration": 3,
    "start_time": "2023-01-29T09:05:49.192Z"
   },
   {
    "duration": 17,
    "start_time": "2023-01-29T09:05:49.197Z"
   },
   {
    "duration": 8,
    "start_time": "2023-01-29T09:05:49.216Z"
   },
   {
    "duration": 85,
    "start_time": "2023-01-29T09:05:49.225Z"
   },
   {
    "duration": 3,
    "start_time": "2023-01-29T09:05:49.312Z"
   },
   {
    "duration": 9941,
    "start_time": "2023-01-29T09:05:49.317Z"
   },
   {
    "duration": 40200,
    "start_time": "2023-01-29T09:05:59.339Z"
   },
   {
    "duration": 53,
    "start_time": "2023-01-29T09:06:39.541Z"
   },
   {
    "duration": 9,
    "start_time": "2023-01-29T09:06:39.596Z"
   },
   {
    "duration": 39,
    "start_time": "2023-01-29T09:06:39.607Z"
   },
   {
    "duration": 11,
    "start_time": "2023-01-29T09:06:39.648Z"
   },
   {
    "duration": 8,
    "start_time": "2023-01-29T09:06:39.661Z"
   },
   {
    "duration": 1599,
    "start_time": "2023-01-29T09:10:53.002Z"
   },
   {
    "duration": 52,
    "start_time": "2023-01-29T09:10:54.603Z"
   },
   {
    "duration": 24,
    "start_time": "2023-01-29T09:10:54.657Z"
   },
   {
    "duration": 3,
    "start_time": "2023-01-29T09:10:54.683Z"
   },
   {
    "duration": 17,
    "start_time": "2023-01-29T09:10:54.687Z"
   },
   {
    "duration": 10,
    "start_time": "2023-01-29T09:10:54.706Z"
   },
   {
    "duration": 29,
    "start_time": "2023-01-29T09:10:54.718Z"
   },
   {
    "duration": 415,
    "start_time": "2023-01-29T09:10:54.749Z"
   },
   {
    "duration": 563,
    "start_time": "2023-01-29T09:10:55.166Z"
   },
   {
    "duration": 23,
    "start_time": "2023-01-29T09:10:55.737Z"
   },
   {
    "duration": 3,
    "start_time": "2023-01-29T09:10:55.762Z"
   },
   {
    "duration": 13,
    "start_time": "2023-01-29T09:10:55.767Z"
   },
   {
    "duration": 39,
    "start_time": "2023-01-29T09:10:55.782Z"
   },
   {
    "duration": 3,
    "start_time": "2023-01-29T09:10:55.823Z"
   },
   {
    "duration": 3,
    "start_time": "2023-01-29T09:10:55.838Z"
   },
   {
    "duration": 10,
    "start_time": "2023-01-29T09:10:55.843Z"
   },
   {
    "duration": 99,
    "start_time": "2023-01-29T09:10:55.854Z"
   },
   {
    "duration": 3,
    "start_time": "2023-01-29T09:10:55.955Z"
   },
   {
    "duration": 70609,
    "start_time": "2023-01-29T09:10:55.959Z"
   },
   {
    "duration": 1677,
    "start_time": "2023-01-29T09:12:16.629Z"
   },
   {
    "duration": 52,
    "start_time": "2023-01-29T09:12:18.308Z"
   },
   {
    "duration": 27,
    "start_time": "2023-01-29T09:12:18.361Z"
   },
   {
    "duration": 4,
    "start_time": "2023-01-29T09:12:18.390Z"
   },
   {
    "duration": 9,
    "start_time": "2023-01-29T09:12:18.396Z"
   },
   {
    "duration": 11,
    "start_time": "2023-01-29T09:12:18.406Z"
   },
   {
    "duration": 29,
    "start_time": "2023-01-29T09:12:18.418Z"
   },
   {
    "duration": 419,
    "start_time": "2023-01-29T09:12:18.449Z"
   },
   {
    "duration": 542,
    "start_time": "2023-01-29T09:12:18.870Z"
   },
   {
    "duration": 31,
    "start_time": "2023-01-29T09:12:19.416Z"
   },
   {
    "duration": 3,
    "start_time": "2023-01-29T09:12:19.448Z"
   },
   {
    "duration": 28,
    "start_time": "2023-01-29T09:12:19.453Z"
   },
   {
    "duration": 37,
    "start_time": "2023-01-29T09:12:19.483Z"
   },
   {
    "duration": 5,
    "start_time": "2023-01-29T09:12:19.522Z"
   },
   {
    "duration": 18,
    "start_time": "2023-01-29T09:12:19.528Z"
   },
   {
    "duration": 9,
    "start_time": "2023-01-29T09:12:19.548Z"
   },
   {
    "duration": 86,
    "start_time": "2023-01-29T09:12:19.559Z"
   },
   {
    "duration": 5,
    "start_time": "2023-01-29T09:12:19.647Z"
   },
   {
    "duration": 119854,
    "start_time": "2023-01-29T09:12:19.653Z"
   },
   {
    "duration": 1517,
    "start_time": "2023-01-29T09:14:27.095Z"
   },
   {
    "duration": 51,
    "start_time": "2023-01-29T09:14:28.614Z"
   },
   {
    "duration": 22,
    "start_time": "2023-01-29T09:14:28.667Z"
   },
   {
    "duration": 4,
    "start_time": "2023-01-29T09:14:28.692Z"
   },
   {
    "duration": 11,
    "start_time": "2023-01-29T09:14:28.698Z"
   },
   {
    "duration": 6,
    "start_time": "2023-01-29T09:14:28.711Z"
   },
   {
    "duration": 27,
    "start_time": "2023-01-29T09:14:28.718Z"
   },
   {
    "duration": 421,
    "start_time": "2023-01-29T09:14:28.747Z"
   },
   {
    "duration": 539,
    "start_time": "2023-01-29T09:14:29.170Z"
   },
   {
    "duration": 30,
    "start_time": "2023-01-29T09:14:29.711Z"
   },
   {
    "duration": 2,
    "start_time": "2023-01-29T09:14:29.743Z"
   },
   {
    "duration": 7,
    "start_time": "2023-01-29T09:14:29.747Z"
   },
   {
    "duration": 32,
    "start_time": "2023-01-29T09:14:29.756Z"
   },
   {
    "duration": 2,
    "start_time": "2023-01-29T09:14:29.790Z"
   },
   {
    "duration": 10,
    "start_time": "2023-01-29T09:14:29.794Z"
   },
   {
    "duration": 8,
    "start_time": "2023-01-29T09:14:29.806Z"
   },
   {
    "duration": 80,
    "start_time": "2023-01-29T09:14:29.815Z"
   },
   {
    "duration": 3,
    "start_time": "2023-01-29T09:14:29.897Z"
   },
   {
    "duration": 234376,
    "start_time": "2023-01-29T09:14:29.902Z"
   },
   {
    "duration": 1662,
    "start_time": "2023-01-29T09:18:56.426Z"
   },
   {
    "duration": 52,
    "start_time": "2023-01-29T09:18:58.091Z"
   },
   {
    "duration": 28,
    "start_time": "2023-01-29T09:18:58.145Z"
   },
   {
    "duration": 3,
    "start_time": "2023-01-29T09:18:58.175Z"
   },
   {
    "duration": 10,
    "start_time": "2023-01-29T09:18:58.181Z"
   },
   {
    "duration": 13,
    "start_time": "2023-01-29T09:18:58.193Z"
   },
   {
    "duration": 19,
    "start_time": "2023-01-29T09:18:58.208Z"
   },
   {
    "duration": 414,
    "start_time": "2023-01-29T09:18:58.237Z"
   },
   {
    "duration": 549,
    "start_time": "2023-01-29T09:18:58.654Z"
   },
   {
    "duration": 21,
    "start_time": "2023-01-29T09:18:59.205Z"
   },
   {
    "duration": 4,
    "start_time": "2023-01-29T09:18:59.237Z"
   },
   {
    "duration": 9,
    "start_time": "2023-01-29T09:18:59.242Z"
   },
   {
    "duration": 34,
    "start_time": "2023-01-29T09:18:59.252Z"
   },
   {
    "duration": 3,
    "start_time": "2023-01-29T09:18:59.289Z"
   },
   {
    "duration": 13,
    "start_time": "2023-01-29T09:18:59.293Z"
   },
   {
    "duration": 10,
    "start_time": "2023-01-29T09:18:59.308Z"
   },
   {
    "duration": 87,
    "start_time": "2023-01-29T09:18:59.319Z"
   },
   {
    "duration": 3,
    "start_time": "2023-01-29T09:18:59.408Z"
   },
   {
    "duration": 121338,
    "start_time": "2023-01-29T09:18:59.413Z"
   },
   {
    "duration": 33035,
    "start_time": "2023-01-29T09:21:00.752Z"
   },
   {
    "duration": 59,
    "start_time": "2023-01-29T09:21:33.788Z"
   },
   {
    "duration": 11,
    "start_time": "2023-01-29T09:21:33.848Z"
   },
   {
    "duration": 13,
    "start_time": "2023-01-29T09:21:33.861Z"
   },
   {
    "duration": 62,
    "start_time": "2023-01-29T09:21:33.875Z"
   },
   {
    "duration": 9,
    "start_time": "2023-01-29T09:21:33.939Z"
   },
   {
    "duration": 52,
    "start_time": "2023-01-29T09:23:49.409Z"
   },
   {
    "duration": 1583,
    "start_time": "2023-01-29T09:23:56.620Z"
   },
   {
    "duration": 51,
    "start_time": "2023-01-29T09:23:58.206Z"
   },
   {
    "duration": 22,
    "start_time": "2023-01-29T09:23:58.258Z"
   },
   {
    "duration": 7,
    "start_time": "2023-01-29T09:23:58.281Z"
   },
   {
    "duration": 13,
    "start_time": "2023-01-29T09:23:58.290Z"
   },
   {
    "duration": 16,
    "start_time": "2023-01-29T09:23:58.305Z"
   },
   {
    "duration": 28,
    "start_time": "2023-01-29T09:23:58.322Z"
   },
   {
    "duration": 389,
    "start_time": "2023-01-29T09:23:58.351Z"
   },
   {
    "duration": 546,
    "start_time": "2023-01-29T09:23:58.741Z"
   },
   {
    "duration": 22,
    "start_time": "2023-01-29T09:23:59.289Z"
   },
   {
    "duration": 3,
    "start_time": "2023-01-29T09:23:59.312Z"
   },
   {
    "duration": 21,
    "start_time": "2023-01-29T09:23:59.317Z"
   },
   {
    "duration": 35,
    "start_time": "2023-01-29T09:23:59.340Z"
   },
   {
    "duration": 2,
    "start_time": "2023-01-29T09:23:59.378Z"
   },
   {
    "duration": 14,
    "start_time": "2023-01-29T09:23:59.381Z"
   },
   {
    "duration": 12,
    "start_time": "2023-01-29T09:23:59.397Z"
   },
   {
    "duration": 78,
    "start_time": "2023-01-29T09:23:59.411Z"
   },
   {
    "duration": 4,
    "start_time": "2023-01-29T09:23:59.491Z"
   },
   {
    "duration": 25644,
    "start_time": "2023-01-29T09:23:59.496Z"
   },
   {
    "duration": 33643,
    "start_time": "2023-01-29T09:24:25.141Z"
   },
   {
    "duration": 61,
    "start_time": "2023-01-29T09:24:58.785Z"
   },
   {
    "duration": 10,
    "start_time": "2023-01-29T09:24:58.847Z"
   },
   {
    "duration": 20,
    "start_time": "2023-01-29T09:24:58.858Z"
   },
   {
    "duration": 8,
    "start_time": "2023-01-29T09:24:58.880Z"
   },
   {
    "duration": 50,
    "start_time": "2023-01-29T09:24:58.890Z"
   },
   {
    "duration": 1557,
    "start_time": "2023-01-29T09:27:56.112Z"
   },
   {
    "duration": 49,
    "start_time": "2023-01-29T09:27:57.671Z"
   },
   {
    "duration": 21,
    "start_time": "2023-01-29T09:27:57.722Z"
   },
   {
    "duration": 4,
    "start_time": "2023-01-29T09:27:57.745Z"
   },
   {
    "duration": 21,
    "start_time": "2023-01-29T09:27:57.750Z"
   },
   {
    "duration": 18,
    "start_time": "2023-01-29T09:27:57.773Z"
   },
   {
    "duration": 17,
    "start_time": "2023-01-29T09:27:57.793Z"
   },
   {
    "duration": 421,
    "start_time": "2023-01-29T09:27:57.811Z"
   },
   {
    "duration": 559,
    "start_time": "2023-01-29T09:27:58.234Z"
   },
   {
    "duration": 22,
    "start_time": "2023-01-29T09:27:58.796Z"
   },
   {
    "duration": 3,
    "start_time": "2023-01-29T09:27:58.819Z"
   },
   {
    "duration": 4,
    "start_time": "2023-01-29T09:27:58.837Z"
   },
   {
    "duration": 44,
    "start_time": "2023-01-29T09:27:58.842Z"
   },
   {
    "duration": 2,
    "start_time": "2023-01-29T09:27:58.888Z"
   },
   {
    "duration": 19,
    "start_time": "2023-01-29T09:27:58.892Z"
   },
   {
    "duration": 21,
    "start_time": "2023-01-29T09:27:58.913Z"
   },
   {
    "duration": 83,
    "start_time": "2023-01-29T09:27:58.936Z"
   },
   {
    "duration": 3,
    "start_time": "2023-01-29T09:27:59.021Z"
   },
   {
    "duration": 7111,
    "start_time": "2023-01-29T09:27:59.026Z"
   },
   {
    "duration": 11557,
    "start_time": "2023-01-29T09:28:06.139Z"
   },
   {
    "duration": 64,
    "start_time": "2023-01-29T09:28:17.698Z"
   },
   {
    "duration": 10,
    "start_time": "2023-01-29T09:28:17.764Z"
   },
   {
    "duration": 17,
    "start_time": "2023-01-29T09:28:17.776Z"
   },
   {
    "duration": 46,
    "start_time": "2023-01-29T09:28:17.795Z"
   },
   {
    "duration": 20,
    "start_time": "2023-01-29T09:28:17.844Z"
   },
   {
    "duration": 1878,
    "start_time": "2023-01-29T09:29:12.102Z"
   },
   {
    "duration": 50,
    "start_time": "2023-01-29T09:29:13.982Z"
   },
   {
    "duration": 23,
    "start_time": "2023-01-29T09:29:14.034Z"
   },
   {
    "duration": 4,
    "start_time": "2023-01-29T09:29:14.058Z"
   },
   {
    "duration": 10,
    "start_time": "2023-01-29T09:29:14.064Z"
   },
   {
    "duration": 13,
    "start_time": "2023-01-29T09:29:14.076Z"
   },
   {
    "duration": 33,
    "start_time": "2023-01-29T09:29:14.091Z"
   },
   {
    "duration": 422,
    "start_time": "2023-01-29T09:29:14.126Z"
   },
   {
    "duration": 557,
    "start_time": "2023-01-29T09:29:14.549Z"
   },
   {
    "duration": 30,
    "start_time": "2023-01-29T09:29:15.108Z"
   },
   {
    "duration": 3,
    "start_time": "2023-01-29T09:29:15.140Z"
   },
   {
    "duration": 16,
    "start_time": "2023-01-29T09:29:15.145Z"
   },
   {
    "duration": 35,
    "start_time": "2023-01-29T09:29:15.163Z"
   },
   {
    "duration": 3,
    "start_time": "2023-01-29T09:29:15.201Z"
   },
   {
    "duration": 10,
    "start_time": "2023-01-29T09:29:15.205Z"
   },
   {
    "duration": 20,
    "start_time": "2023-01-29T09:29:15.216Z"
   },
   {
    "duration": 90,
    "start_time": "2023-01-29T09:29:15.238Z"
   },
   {
    "duration": 3,
    "start_time": "2023-01-29T09:29:15.330Z"
   },
   {
    "duration": 237471,
    "start_time": "2023-01-29T09:29:15.335Z"
   },
   {
    "duration": 1459,
    "start_time": "2023-01-29T09:33:12.808Z"
   },
   {
    "duration": 59,
    "start_time": "2023-01-29T09:33:14.268Z"
   },
   {
    "duration": 15,
    "start_time": "2023-01-29T09:33:14.329Z"
   },
   {
    "duration": 0,
    "start_time": "2023-01-29T09:33:14.346Z"
   },
   {
    "duration": 0,
    "start_time": "2023-01-29T09:33:14.347Z"
   },
   {
    "duration": 0,
    "start_time": "2023-01-29T09:33:14.348Z"
   },
   {
    "duration": 1618,
    "start_time": "2023-01-29T09:33:19.697Z"
   },
   {
    "duration": 50,
    "start_time": "2023-01-29T09:33:21.317Z"
   },
   {
    "duration": 22,
    "start_time": "2023-01-29T09:33:21.368Z"
   },
   {
    "duration": 12,
    "start_time": "2023-01-29T09:33:21.392Z"
   },
   {
    "duration": 14,
    "start_time": "2023-01-29T09:33:21.407Z"
   },
   {
    "duration": 14,
    "start_time": "2023-01-29T09:33:21.423Z"
   },
   {
    "duration": 23,
    "start_time": "2023-01-29T09:33:21.439Z"
   },
   {
    "duration": 405,
    "start_time": "2023-01-29T09:33:21.463Z"
   },
   {
    "duration": 549,
    "start_time": "2023-01-29T09:33:21.869Z"
   },
   {
    "duration": 35,
    "start_time": "2023-01-29T09:33:22.420Z"
   },
   {
    "duration": 10,
    "start_time": "2023-01-29T09:33:22.457Z"
   },
   {
    "duration": 18,
    "start_time": "2023-01-29T09:33:22.470Z"
   },
   {
    "duration": 57,
    "start_time": "2023-01-29T09:33:22.491Z"
   },
   {
    "duration": 6,
    "start_time": "2023-01-29T09:33:22.552Z"
   },
   {
    "duration": 38,
    "start_time": "2023-01-29T09:33:22.560Z"
   },
   {
    "duration": 27,
    "start_time": "2023-01-29T09:33:22.600Z"
   },
   {
    "duration": 99,
    "start_time": "2023-01-29T09:33:22.630Z"
   },
   {
    "duration": 4,
    "start_time": "2023-01-29T09:33:22.732Z"
   },
   {
    "duration": 69005,
    "start_time": "2023-01-29T09:33:22.738Z"
   },
   {
    "duration": 11026,
    "start_time": "2023-01-29T09:34:31.744Z"
   },
   {
    "duration": 64,
    "start_time": "2023-01-29T09:34:42.772Z"
   },
   {
    "duration": 11,
    "start_time": "2023-01-29T09:34:42.837Z"
   },
   {
    "duration": 31,
    "start_time": "2023-01-29T09:34:42.849Z"
   },
   {
    "duration": 20,
    "start_time": "2023-01-29T09:34:42.881Z"
   },
   {
    "duration": 35,
    "start_time": "2023-01-29T09:34:42.902Z"
   },
   {
    "duration": 8,
    "start_time": "2023-01-29T09:36:18.202Z"
   },
   {
    "duration": 19,
    "start_time": "2023-01-29T09:37:45.007Z"
   },
   {
    "duration": 9,
    "start_time": "2023-01-29T09:37:53.887Z"
   },
   {
    "duration": 74,
    "start_time": "2023-01-29T09:40:06.812Z"
   },
   {
    "duration": 1822,
    "start_time": "2023-01-29T09:40:16.674Z"
   },
   {
    "duration": 1600,
    "start_time": "2023-01-29T09:40:30.411Z"
   },
   {
    "duration": 58,
    "start_time": "2023-01-29T09:40:32.014Z"
   },
   {
    "duration": 26,
    "start_time": "2023-01-29T09:40:32.074Z"
   },
   {
    "duration": 5,
    "start_time": "2023-01-29T09:40:32.102Z"
   },
   {
    "duration": 35,
    "start_time": "2023-01-29T09:40:32.110Z"
   },
   {
    "duration": 473,
    "start_time": "2023-01-29T09:40:32.147Z"
   },
   {
    "duration": 560,
    "start_time": "2023-01-29T09:40:32.622Z"
   },
   {
    "duration": 21,
    "start_time": "2023-01-29T09:40:33.184Z"
   },
   {
    "duration": 12,
    "start_time": "2023-01-29T09:40:33.207Z"
   },
   {
    "duration": 13,
    "start_time": "2023-01-29T09:40:33.221Z"
   },
   {
    "duration": 35,
    "start_time": "2023-01-29T09:40:33.236Z"
   },
   {
    "duration": 3,
    "start_time": "2023-01-29T09:40:33.273Z"
   },
   {
    "duration": 14,
    "start_time": "2023-01-29T09:40:33.277Z"
   },
   {
    "duration": 20,
    "start_time": "2023-01-29T09:40:33.294Z"
   },
   {
    "duration": 84,
    "start_time": "2023-01-29T09:40:33.316Z"
   },
   {
    "duration": 4,
    "start_time": "2023-01-29T09:40:33.402Z"
   },
   {
    "duration": 6237,
    "start_time": "2023-01-29T09:40:33.407Z"
   },
   {
    "duration": 10742,
    "start_time": "2023-01-29T09:40:39.645Z"
   },
   {
    "duration": 68,
    "start_time": "2023-01-29T09:40:50.390Z"
   },
   {
    "duration": 10,
    "start_time": "2023-01-29T09:40:50.460Z"
   },
   {
    "duration": 72,
    "start_time": "2023-01-29T09:40:50.471Z"
   },
   {
    "duration": 9,
    "start_time": "2023-01-29T09:40:50.545Z"
   },
   {
    "duration": 10,
    "start_time": "2023-01-29T09:40:50.556Z"
   },
   {
    "duration": 1565,
    "start_time": "2023-01-29T09:41:31.881Z"
   },
   {
    "duration": 52,
    "start_time": "2023-01-29T09:41:33.448Z"
   },
   {
    "duration": 24,
    "start_time": "2023-01-29T09:41:33.502Z"
   },
   {
    "duration": 3,
    "start_time": "2023-01-29T09:41:33.527Z"
   },
   {
    "duration": 14,
    "start_time": "2023-01-29T09:41:33.537Z"
   },
   {
    "duration": 411,
    "start_time": "2023-01-29T09:41:33.553Z"
   },
   {
    "duration": 563,
    "start_time": "2023-01-29T09:41:33.965Z"
   },
   {
    "duration": 26,
    "start_time": "2023-01-29T09:41:34.530Z"
   },
   {
    "duration": 3,
    "start_time": "2023-01-29T09:41:34.557Z"
   },
   {
    "duration": 19,
    "start_time": "2023-01-29T09:41:34.563Z"
   },
   {
    "duration": 35,
    "start_time": "2023-01-29T09:41:34.584Z"
   },
   {
    "duration": 4,
    "start_time": "2023-01-29T09:41:34.621Z"
   },
   {
    "duration": 13,
    "start_time": "2023-01-29T09:41:34.637Z"
   },
   {
    "duration": 8,
    "start_time": "2023-01-29T09:41:34.653Z"
   },
   {
    "duration": 82,
    "start_time": "2023-01-29T09:41:34.663Z"
   },
   {
    "duration": 3,
    "start_time": "2023-01-29T09:41:34.747Z"
   },
   {
    "duration": 8393,
    "start_time": "2023-01-29T09:41:34.752Z"
   },
   {
    "duration": 10783,
    "start_time": "2023-01-29T09:41:43.148Z"
   },
   {
    "duration": 67,
    "start_time": "2023-01-29T09:41:53.932Z"
   },
   {
    "duration": 11,
    "start_time": "2023-01-29T09:41:54.001Z"
   },
   {
    "duration": 32,
    "start_time": "2023-01-29T09:41:54.014Z"
   },
   {
    "duration": 6,
    "start_time": "2023-01-29T09:41:54.047Z"
   },
   {
    "duration": 11,
    "start_time": "2023-01-29T09:41:54.055Z"
   },
   {
    "duration": 1568,
    "start_time": "2023-01-29T09:43:32.775Z"
   },
   {
    "duration": 52,
    "start_time": "2023-01-29T09:43:34.345Z"
   },
   {
    "duration": 24,
    "start_time": "2023-01-29T09:43:34.398Z"
   },
   {
    "duration": 3,
    "start_time": "2023-01-29T09:43:34.424Z"
   },
   {
    "duration": 23,
    "start_time": "2023-01-29T09:43:34.429Z"
   },
   {
    "duration": 426,
    "start_time": "2023-01-29T09:43:34.454Z"
   },
   {
    "duration": 521,
    "start_time": "2023-01-29T09:43:34.882Z"
   },
   {
    "duration": 33,
    "start_time": "2023-01-29T09:43:35.405Z"
   },
   {
    "duration": 7,
    "start_time": "2023-01-29T09:43:35.439Z"
   },
   {
    "duration": 17,
    "start_time": "2023-01-29T09:43:35.449Z"
   },
   {
    "duration": 52,
    "start_time": "2023-01-29T09:43:35.467Z"
   },
   {
    "duration": 13,
    "start_time": "2023-01-29T09:43:35.520Z"
   },
   {
    "duration": 11,
    "start_time": "2023-01-29T09:43:35.535Z"
   },
   {
    "duration": 8,
    "start_time": "2023-01-29T09:43:35.548Z"
   },
   {
    "duration": 87,
    "start_time": "2023-01-29T09:43:35.558Z"
   },
   {
    "duration": 3,
    "start_time": "2023-01-29T09:43:35.647Z"
   },
   {
    "duration": 5692,
    "start_time": "2023-01-29T09:43:35.652Z"
   },
   {
    "duration": 10314,
    "start_time": "2023-01-29T09:43:41.347Z"
   },
   {
    "duration": 63,
    "start_time": "2023-01-29T09:43:51.663Z"
   },
   {
    "duration": 12,
    "start_time": "2023-01-29T09:43:51.727Z"
   },
   {
    "duration": 19,
    "start_time": "2023-01-29T09:43:51.740Z"
   },
   {
    "duration": 12,
    "start_time": "2023-01-29T09:43:51.761Z"
   },
   {
    "duration": 24,
    "start_time": "2023-01-29T09:43:51.775Z"
   },
   {
    "duration": 1554,
    "start_time": "2023-01-29T09:48:15.745Z"
   },
   {
    "duration": 51,
    "start_time": "2023-01-29T09:48:17.302Z"
   },
   {
    "duration": 24,
    "start_time": "2023-01-29T09:48:17.355Z"
   },
   {
    "duration": 4,
    "start_time": "2023-01-29T09:48:17.382Z"
   },
   {
    "duration": 28,
    "start_time": "2023-01-29T09:48:17.388Z"
   },
   {
    "duration": 450,
    "start_time": "2023-01-29T09:48:17.418Z"
   },
   {
    "duration": 541,
    "start_time": "2023-01-29T09:48:17.870Z"
   },
   {
    "duration": 32,
    "start_time": "2023-01-29T09:48:18.413Z"
   },
   {
    "duration": 3,
    "start_time": "2023-01-29T09:48:18.447Z"
   },
   {
    "duration": 6,
    "start_time": "2023-01-29T09:48:18.452Z"
   },
   {
    "duration": 33,
    "start_time": "2023-01-29T09:48:18.460Z"
   },
   {
    "duration": 2,
    "start_time": "2023-01-29T09:48:18.495Z"
   },
   {
    "duration": 8,
    "start_time": "2023-01-29T09:48:18.499Z"
   },
   {
    "duration": 9,
    "start_time": "2023-01-29T09:48:18.508Z"
   },
   {
    "duration": 87,
    "start_time": "2023-01-29T09:48:18.519Z"
   },
   {
    "duration": 3,
    "start_time": "2023-01-29T09:48:18.608Z"
   },
   {
    "duration": 5637,
    "start_time": "2023-01-29T09:48:18.612Z"
   },
   {
    "duration": 11187,
    "start_time": "2023-01-29T09:48:24.251Z"
   },
   {
    "duration": 64,
    "start_time": "2023-01-29T09:48:35.441Z"
   },
   {
    "duration": 32,
    "start_time": "2023-01-29T09:48:35.506Z"
   },
   {
    "duration": 15,
    "start_time": "2023-01-29T09:48:35.540Z"
   },
   {
    "duration": 18,
    "start_time": "2023-01-29T09:48:35.557Z"
   },
   {
    "duration": 27,
    "start_time": "2023-01-29T09:48:35.577Z"
   },
   {
    "duration": 7,
    "start_time": "2023-01-29T09:50:39.211Z"
   },
   {
    "duration": 1597,
    "start_time": "2023-01-29T09:56:31.773Z"
   },
   {
    "duration": 54,
    "start_time": "2023-01-29T09:56:33.372Z"
   },
   {
    "duration": 22,
    "start_time": "2023-01-29T09:56:33.428Z"
   },
   {
    "duration": 3,
    "start_time": "2023-01-29T09:56:33.452Z"
   },
   {
    "duration": 27,
    "start_time": "2023-01-29T09:56:33.457Z"
   },
   {
    "duration": 451,
    "start_time": "2023-01-29T09:56:33.485Z"
   },
   {
    "duration": 595,
    "start_time": "2023-01-29T09:56:33.938Z"
   },
   {
    "duration": 24,
    "start_time": "2023-01-29T09:56:34.537Z"
   },
   {
    "duration": 26,
    "start_time": "2023-01-29T09:56:34.563Z"
   },
   {
    "duration": 38,
    "start_time": "2023-01-29T09:56:34.591Z"
   },
   {
    "duration": 50,
    "start_time": "2023-01-29T09:56:34.631Z"
   },
   {
    "duration": 14,
    "start_time": "2023-01-29T09:56:34.682Z"
   },
   {
    "duration": 35,
    "start_time": "2023-01-29T09:56:34.698Z"
   },
   {
    "duration": 28,
    "start_time": "2023-01-29T09:56:34.736Z"
   },
   {
    "duration": 112,
    "start_time": "2023-01-29T09:56:34.766Z"
   },
   {
    "duration": 3,
    "start_time": "2023-01-29T09:56:34.880Z"
   },
   {
    "duration": 6663,
    "start_time": "2023-01-29T09:56:34.885Z"
   },
   {
    "duration": 10485,
    "start_time": "2023-01-29T09:56:41.550Z"
   },
   {
    "duration": 65,
    "start_time": "2023-01-29T09:56:52.037Z"
   },
   {
    "duration": 11,
    "start_time": "2023-01-29T09:56:52.104Z"
   },
   {
    "duration": 32,
    "start_time": "2023-01-29T09:56:52.116Z"
   },
   {
    "duration": 8,
    "start_time": "2023-01-29T09:56:52.149Z"
   },
   {
    "duration": 11,
    "start_time": "2023-01-29T09:56:52.158Z"
   },
   {
    "duration": 15,
    "start_time": "2023-01-29T09:59:30.975Z"
   },
   {
    "duration": 14,
    "start_time": "2023-01-29T09:59:57.327Z"
   },
   {
    "duration": 15,
    "start_time": "2023-01-29T10:01:51.121Z"
   },
   {
    "duration": 1593,
    "start_time": "2023-01-29T10:01:58.602Z"
   },
   {
    "duration": 50,
    "start_time": "2023-01-29T10:02:00.197Z"
   },
   {
    "duration": 35,
    "start_time": "2023-01-29T10:02:00.249Z"
   },
   {
    "duration": 41,
    "start_time": "2023-01-29T10:02:00.286Z"
   },
   {
    "duration": 48,
    "start_time": "2023-01-29T10:02:00.331Z"
   },
   {
    "duration": 443,
    "start_time": "2023-01-29T10:02:00.381Z"
   },
   {
    "duration": 550,
    "start_time": "2023-01-29T10:02:00.826Z"
   },
   {
    "duration": 23,
    "start_time": "2023-01-29T10:02:01.377Z"
   },
   {
    "duration": 14,
    "start_time": "2023-01-29T10:02:01.402Z"
   },
   {
    "duration": 21,
    "start_time": "2023-01-29T10:02:01.418Z"
   },
   {
    "duration": 38,
    "start_time": "2023-01-29T10:02:01.440Z"
   },
   {
    "duration": 12,
    "start_time": "2023-01-29T10:02:01.480Z"
   },
   {
    "duration": 18,
    "start_time": "2023-01-29T10:02:01.494Z"
   },
   {
    "duration": 39,
    "start_time": "2023-01-29T10:02:01.515Z"
   },
   {
    "duration": 107,
    "start_time": "2023-01-29T10:02:01.556Z"
   },
   {
    "duration": 3,
    "start_time": "2023-01-29T10:02:01.665Z"
   },
   {
    "duration": 7279,
    "start_time": "2023-01-29T10:02:01.670Z"
   },
   {
    "duration": 10260,
    "start_time": "2023-01-29T10:02:08.950Z"
   },
   {
    "duration": 62,
    "start_time": "2023-01-29T10:02:19.211Z"
   },
   {
    "duration": 10,
    "start_time": "2023-01-29T10:02:19.275Z"
   },
   {
    "duration": 58,
    "start_time": "2023-01-29T10:02:19.287Z"
   },
   {
    "duration": 6,
    "start_time": "2023-01-29T10:02:19.347Z"
   },
   {
    "duration": 25,
    "start_time": "2023-01-29T10:02:19.354Z"
   },
   {
    "duration": 9,
    "start_time": "2023-01-29T10:09:17.014Z"
   },
   {
    "duration": 19,
    "start_time": "2023-01-29T10:09:28.937Z"
   },
   {
    "duration": 8,
    "start_time": "2023-01-29T10:11:02.830Z"
   },
   {
    "duration": 1640,
    "start_time": "2023-01-29T10:12:53.633Z"
   },
   {
    "duration": 57,
    "start_time": "2023-01-29T10:12:55.275Z"
   },
   {
    "duration": 24,
    "start_time": "2023-01-29T10:12:55.334Z"
   },
   {
    "duration": 3,
    "start_time": "2023-01-29T10:12:55.361Z"
   },
   {
    "duration": 23,
    "start_time": "2023-01-29T10:12:55.366Z"
   },
   {
    "duration": 433,
    "start_time": "2023-01-29T10:12:55.391Z"
   },
   {
    "duration": 580,
    "start_time": "2023-01-29T10:12:55.825Z"
   },
   {
    "duration": 22,
    "start_time": "2023-01-29T10:12:56.407Z"
   },
   {
    "duration": 3,
    "start_time": "2023-01-29T10:12:56.438Z"
   },
   {
    "duration": 8,
    "start_time": "2023-01-29T10:12:56.443Z"
   },
   {
    "duration": 30,
    "start_time": "2023-01-29T10:12:56.453Z"
   },
   {
    "duration": 2,
    "start_time": "2023-01-29T10:12:56.485Z"
   },
   {
    "duration": 14,
    "start_time": "2023-01-29T10:12:56.489Z"
   },
   {
    "duration": 10,
    "start_time": "2023-01-29T10:12:56.505Z"
   },
   {
    "duration": 90,
    "start_time": "2023-01-29T10:12:56.517Z"
   },
   {
    "duration": 3,
    "start_time": "2023-01-29T10:12:56.609Z"
   },
   {
    "duration": 25535,
    "start_time": "2023-01-29T10:12:56.614Z"
   },
   {
    "duration": 30763,
    "start_time": "2023-01-29T10:13:22.151Z"
   },
   {
    "duration": 62,
    "start_time": "2023-01-29T10:13:52.916Z"
   },
   {
    "duration": 9,
    "start_time": "2023-01-29T10:13:52.980Z"
   },
   {
    "duration": 53,
    "start_time": "2023-01-29T10:13:52.990Z"
   },
   {
    "duration": 6,
    "start_time": "2023-01-29T10:13:53.044Z"
   },
   {
    "duration": 11,
    "start_time": "2023-01-29T10:13:53.052Z"
   },
   {
    "duration": 1629,
    "start_time": "2023-01-29T10:14:46.932Z"
   },
   {
    "duration": 48,
    "start_time": "2023-01-29T10:14:48.563Z"
   },
   {
    "duration": 21,
    "start_time": "2023-01-29T10:14:48.612Z"
   },
   {
    "duration": 4,
    "start_time": "2023-01-29T10:14:48.634Z"
   },
   {
    "duration": 10,
    "start_time": "2023-01-29T10:14:48.640Z"
   },
   {
    "duration": 380,
    "start_time": "2023-01-29T10:14:48.652Z"
   },
   {
    "duration": 527,
    "start_time": "2023-01-29T10:14:49.033Z"
   },
   {
    "duration": 23,
    "start_time": "2023-01-29T10:14:49.562Z"
   },
   {
    "duration": 3,
    "start_time": "2023-01-29T10:14:49.587Z"
   },
   {
    "duration": 7,
    "start_time": "2023-01-29T10:14:49.591Z"
   },
   {
    "duration": 48,
    "start_time": "2023-01-29T10:14:49.600Z"
   },
   {
    "duration": 4,
    "start_time": "2023-01-29T10:14:49.650Z"
   },
   {
    "duration": 6,
    "start_time": "2023-01-29T10:14:49.655Z"
   },
   {
    "duration": 4,
    "start_time": "2023-01-29T10:14:49.663Z"
   },
   {
    "duration": 88,
    "start_time": "2023-01-29T10:14:49.668Z"
   },
   {
    "duration": 2,
    "start_time": "2023-01-29T10:14:49.758Z"
   },
   {
    "duration": 52489,
    "start_time": "2023-01-29T10:14:49.762Z"
   },
   {
    "duration": 58484,
    "start_time": "2023-01-29T10:15:42.253Z"
   },
   {
    "duration": 63,
    "start_time": "2023-01-29T10:16:40.738Z"
   },
   {
    "duration": 11,
    "start_time": "2023-01-29T10:16:40.802Z"
   },
   {
    "duration": 36,
    "start_time": "2023-01-29T10:16:40.815Z"
   },
   {
    "duration": 6,
    "start_time": "2023-01-29T10:16:40.853Z"
   },
   {
    "duration": 8,
    "start_time": "2023-01-29T10:16:40.937Z"
   },
   {
    "duration": 1585,
    "start_time": "2023-01-29T10:17:16.243Z"
   },
   {
    "duration": 59,
    "start_time": "2023-01-29T10:17:17.829Z"
   },
   {
    "duration": 23,
    "start_time": "2023-01-29T10:17:17.890Z"
   },
   {
    "duration": 3,
    "start_time": "2023-01-29T10:17:17.915Z"
   },
   {
    "duration": 19,
    "start_time": "2023-01-29T10:17:17.920Z"
   },
   {
    "duration": 439,
    "start_time": "2023-01-29T10:17:17.941Z"
   },
   {
    "duration": 531,
    "start_time": "2023-01-29T10:17:18.382Z"
   },
   {
    "duration": 31,
    "start_time": "2023-01-29T10:17:18.915Z"
   },
   {
    "duration": 8,
    "start_time": "2023-01-29T10:17:18.947Z"
   },
   {
    "duration": 11,
    "start_time": "2023-01-29T10:17:18.958Z"
   },
   {
    "duration": 35,
    "start_time": "2023-01-29T10:17:18.970Z"
   },
   {
    "duration": 3,
    "start_time": "2023-01-29T10:17:19.007Z"
   },
   {
    "duration": 20,
    "start_time": "2023-01-29T10:17:19.011Z"
   },
   {
    "duration": 21,
    "start_time": "2023-01-29T10:17:19.033Z"
   },
   {
    "duration": 82,
    "start_time": "2023-01-29T10:17:19.056Z"
   },
   {
    "duration": 5,
    "start_time": "2023-01-29T10:17:19.140Z"
   },
   {
    "duration": 60905,
    "start_time": "2023-01-29T10:17:19.146Z"
   },
   {
    "duration": 57312,
    "start_time": "2023-01-29T10:18:20.053Z"
   },
   {
    "duration": 66,
    "start_time": "2023-01-29T10:19:17.366Z"
   },
   {
    "duration": 10,
    "start_time": "2023-01-29T10:19:17.434Z"
   },
   {
    "duration": 92,
    "start_time": "2023-01-29T10:19:17.446Z"
   },
   {
    "duration": 9,
    "start_time": "2023-01-29T10:19:17.539Z"
   },
   {
    "duration": 33,
    "start_time": "2023-01-29T10:19:17.550Z"
   },
   {
    "duration": 1506,
    "start_time": "2023-01-29T10:19:58.518Z"
   },
   {
    "duration": 49,
    "start_time": "2023-01-29T10:20:00.027Z"
   },
   {
    "duration": 23,
    "start_time": "2023-01-29T10:20:00.077Z"
   },
   {
    "duration": 12,
    "start_time": "2023-01-29T10:20:00.102Z"
   },
   {
    "duration": 24,
    "start_time": "2023-01-29T10:20:00.116Z"
   },
   {
    "duration": 415,
    "start_time": "2023-01-29T10:20:00.141Z"
   },
   {
    "duration": 556,
    "start_time": "2023-01-29T10:20:00.558Z"
   },
   {
    "duration": 28,
    "start_time": "2023-01-29T10:20:01.116Z"
   },
   {
    "duration": 12,
    "start_time": "2023-01-29T10:20:01.145Z"
   },
   {
    "duration": 18,
    "start_time": "2023-01-29T10:20:01.159Z"
   },
   {
    "duration": 45,
    "start_time": "2023-01-29T10:20:01.179Z"
   },
   {
    "duration": 3,
    "start_time": "2023-01-29T10:20:01.225Z"
   },
   {
    "duration": 45,
    "start_time": "2023-01-29T10:20:01.229Z"
   },
   {
    "duration": 36,
    "start_time": "2023-01-29T10:20:01.277Z"
   },
   {
    "duration": 106,
    "start_time": "2023-01-29T10:20:01.315Z"
   },
   {
    "duration": 21,
    "start_time": "2023-01-29T10:20:01.423Z"
   },
   {
    "duration": 74005,
    "start_time": "2023-01-29T10:20:01.446Z"
   },
   {
    "duration": 77175,
    "start_time": "2023-01-29T10:21:15.453Z"
   },
   {
    "duration": 68,
    "start_time": "2023-01-29T10:22:32.630Z"
   },
   {
    "duration": 11,
    "start_time": "2023-01-29T10:22:32.699Z"
   },
   {
    "duration": 37,
    "start_time": "2023-01-29T10:22:32.712Z"
   },
   {
    "duration": 7,
    "start_time": "2023-01-29T10:22:32.751Z"
   },
   {
    "duration": 82,
    "start_time": "2023-01-29T10:22:32.760Z"
   },
   {
    "duration": 1551,
    "start_time": "2023-01-29T10:23:22.533Z"
   },
   {
    "duration": 50,
    "start_time": "2023-01-29T10:23:24.086Z"
   },
   {
    "duration": 22,
    "start_time": "2023-01-29T10:23:24.138Z"
   },
   {
    "duration": 10,
    "start_time": "2023-01-29T10:23:24.161Z"
   },
   {
    "duration": 28,
    "start_time": "2023-01-29T10:23:24.174Z"
   },
   {
    "duration": 399,
    "start_time": "2023-01-29T10:23:24.204Z"
   },
   {
    "duration": 513,
    "start_time": "2023-01-29T10:23:24.605Z"
   },
   {
    "duration": 27,
    "start_time": "2023-01-29T10:23:25.121Z"
   },
   {
    "duration": 21,
    "start_time": "2023-01-29T10:23:25.150Z"
   },
   {
    "duration": 36,
    "start_time": "2023-01-29T10:23:25.173Z"
   },
   {
    "duration": 40,
    "start_time": "2023-01-29T10:23:25.211Z"
   },
   {
    "duration": 3,
    "start_time": "2023-01-29T10:23:25.253Z"
   },
   {
    "duration": 31,
    "start_time": "2023-01-29T10:23:25.257Z"
   },
   {
    "duration": 42,
    "start_time": "2023-01-29T10:23:25.291Z"
   },
   {
    "duration": 102,
    "start_time": "2023-01-29T10:23:25.334Z"
   },
   {
    "duration": 3,
    "start_time": "2023-01-29T10:23:25.438Z"
   },
   {
    "duration": 37111,
    "start_time": "2023-01-29T10:23:25.443Z"
   },
   {
    "duration": 32648,
    "start_time": "2023-01-29T10:24:02.557Z"
   },
   {
    "duration": 66,
    "start_time": "2023-01-29T10:24:35.206Z"
   },
   {
    "duration": 9,
    "start_time": "2023-01-29T10:24:35.273Z"
   },
   {
    "duration": 63,
    "start_time": "2023-01-29T10:24:35.284Z"
   },
   {
    "duration": 6,
    "start_time": "2023-01-29T10:24:35.350Z"
   },
   {
    "duration": 14,
    "start_time": "2023-01-29T10:24:35.358Z"
   },
   {
    "duration": 1602,
    "start_time": "2023-01-29T10:26:14.745Z"
   },
   {
    "duration": 50,
    "start_time": "2023-01-29T10:26:16.350Z"
   },
   {
    "duration": 21,
    "start_time": "2023-01-29T10:26:16.402Z"
   },
   {
    "duration": 4,
    "start_time": "2023-01-29T10:26:16.424Z"
   },
   {
    "duration": 15,
    "start_time": "2023-01-29T10:26:16.430Z"
   },
   {
    "duration": 401,
    "start_time": "2023-01-29T10:26:16.447Z"
   },
   {
    "duration": 558,
    "start_time": "2023-01-29T10:26:16.850Z"
   },
   {
    "duration": 36,
    "start_time": "2023-01-29T10:26:17.410Z"
   },
   {
    "duration": 3,
    "start_time": "2023-01-29T10:26:17.447Z"
   },
   {
    "duration": 9,
    "start_time": "2023-01-29T10:26:17.452Z"
   },
   {
    "duration": 39,
    "start_time": "2023-01-29T10:26:17.463Z"
   },
   {
    "duration": 3,
    "start_time": "2023-01-29T10:26:17.503Z"
   },
   {
    "duration": 6,
    "start_time": "2023-01-29T10:26:17.508Z"
   },
   {
    "duration": 9,
    "start_time": "2023-01-29T10:26:17.517Z"
   },
   {
    "duration": 76,
    "start_time": "2023-01-29T10:26:17.528Z"
   },
   {
    "duration": 3,
    "start_time": "2023-01-29T10:26:17.606Z"
   },
   {
    "duration": 50340,
    "start_time": "2023-01-29T10:26:17.611Z"
   },
   {
    "duration": 62334,
    "start_time": "2023-01-29T10:27:07.952Z"
   },
   {
    "duration": 63,
    "start_time": "2023-01-29T10:28:10.288Z"
   },
   {
    "duration": 12,
    "start_time": "2023-01-29T10:28:10.353Z"
   },
   {
    "duration": 81,
    "start_time": "2023-01-29T10:28:10.367Z"
   },
   {
    "duration": 6,
    "start_time": "2023-01-29T10:28:10.450Z"
   },
   {
    "duration": 12,
    "start_time": "2023-01-29T10:28:10.458Z"
   },
   {
    "duration": 1558,
    "start_time": "2023-01-29T10:29:25.827Z"
   },
   {
    "duration": 51,
    "start_time": "2023-01-29T10:29:27.388Z"
   },
   {
    "duration": 26,
    "start_time": "2023-01-29T10:29:27.440Z"
   },
   {
    "duration": 4,
    "start_time": "2023-01-29T10:29:27.467Z"
   },
   {
    "duration": 23,
    "start_time": "2023-01-29T10:29:27.473Z"
   },
   {
    "duration": 425,
    "start_time": "2023-01-29T10:29:27.498Z"
   },
   {
    "duration": 590,
    "start_time": "2023-01-29T10:29:27.925Z"
   },
   {
    "duration": 34,
    "start_time": "2023-01-29T10:29:28.516Z"
   },
   {
    "duration": 3,
    "start_time": "2023-01-29T10:29:28.552Z"
   },
   {
    "duration": 7,
    "start_time": "2023-01-29T10:29:28.557Z"
   },
   {
    "duration": 28,
    "start_time": "2023-01-29T10:29:28.566Z"
   },
   {
    "duration": 3,
    "start_time": "2023-01-29T10:29:28.597Z"
   },
   {
    "duration": 10,
    "start_time": "2023-01-29T10:29:28.601Z"
   },
   {
    "duration": 13,
    "start_time": "2023-01-29T10:29:28.614Z"
   },
   {
    "duration": 74,
    "start_time": "2023-01-29T10:29:28.637Z"
   },
   {
    "duration": 3,
    "start_time": "2023-01-29T10:29:28.713Z"
   },
   {
    "duration": 5925,
    "start_time": "2023-01-29T10:29:28.718Z"
   },
   {
    "duration": 10486,
    "start_time": "2023-01-29T10:29:34.645Z"
   },
   {
    "duration": 64,
    "start_time": "2023-01-29T10:29:45.132Z"
   },
   {
    "duration": 8,
    "start_time": "2023-01-29T10:29:45.198Z"
   },
   {
    "duration": 31,
    "start_time": "2023-01-29T10:29:45.207Z"
   },
   {
    "duration": 20,
    "start_time": "2023-01-29T10:29:45.240Z"
   },
   {
    "duration": 22,
    "start_time": "2023-01-29T10:29:45.262Z"
   },
   {
    "duration": 1640,
    "start_time": "2023-01-29T10:36:01.728Z"
   },
   {
    "duration": 58,
    "start_time": "2023-01-29T10:36:03.370Z"
   },
   {
    "duration": 23,
    "start_time": "2023-01-29T10:36:03.430Z"
   },
   {
    "duration": 3,
    "start_time": "2023-01-29T10:36:03.455Z"
   },
   {
    "duration": 14,
    "start_time": "2023-01-29T10:36:03.460Z"
   },
   {
    "duration": 417,
    "start_time": "2023-01-29T10:36:03.475Z"
   },
   {
    "duration": 548,
    "start_time": "2023-01-29T10:36:03.893Z"
   },
   {
    "duration": 23,
    "start_time": "2023-01-29T10:36:04.443Z"
   },
   {
    "duration": 2,
    "start_time": "2023-01-29T10:36:04.468Z"
   },
   {
    "duration": 11,
    "start_time": "2023-01-29T10:36:04.472Z"
   },
   {
    "duration": 31,
    "start_time": "2023-01-29T10:36:04.485Z"
   },
   {
    "duration": 20,
    "start_time": "2023-01-29T10:36:04.518Z"
   },
   {
    "duration": 8,
    "start_time": "2023-01-29T10:36:04.540Z"
   },
   {
    "duration": 9,
    "start_time": "2023-01-29T10:36:04.551Z"
   },
   {
    "duration": 82,
    "start_time": "2023-01-29T10:36:04.562Z"
   },
   {
    "duration": 4,
    "start_time": "2023-01-29T10:36:04.646Z"
   },
   {
    "duration": 5892,
    "start_time": "2023-01-29T10:36:04.652Z"
   },
   {
    "duration": 10154,
    "start_time": "2023-01-29T10:36:10.546Z"
   },
   {
    "duration": 66,
    "start_time": "2023-01-29T10:36:20.702Z"
   },
   {
    "duration": 12,
    "start_time": "2023-01-29T10:36:20.770Z"
   },
   {
    "duration": 55,
    "start_time": "2023-01-29T10:36:20.784Z"
   },
   {
    "duration": 6,
    "start_time": "2023-01-29T10:36:20.841Z"
   },
   {
    "duration": 10,
    "start_time": "2023-01-29T10:36:20.849Z"
   },
   {
    "duration": 1685,
    "start_time": "2023-01-30T06:24:19.313Z"
   },
   {
    "duration": 143,
    "start_time": "2023-01-30T06:24:21.000Z"
   },
   {
    "duration": 23,
    "start_time": "2023-01-30T06:24:21.144Z"
   },
   {
    "duration": 4,
    "start_time": "2023-01-30T06:24:21.169Z"
   },
   {
    "duration": 16,
    "start_time": "2023-01-30T06:24:21.175Z"
   },
   {
    "duration": 494,
    "start_time": "2023-01-30T06:24:21.193Z"
   },
   {
    "duration": 514,
    "start_time": "2023-01-30T06:24:21.689Z"
   },
   {
    "duration": 31,
    "start_time": "2023-01-30T06:24:22.204Z"
   },
   {
    "duration": 3,
    "start_time": "2023-01-30T06:24:22.237Z"
   },
   {
    "duration": 10,
    "start_time": "2023-01-30T06:24:22.243Z"
   },
   {
    "duration": 28,
    "start_time": "2023-01-30T06:24:22.255Z"
   },
   {
    "duration": 3,
    "start_time": "2023-01-30T06:24:22.284Z"
   },
   {
    "duration": 14,
    "start_time": "2023-01-30T06:24:22.289Z"
   },
   {
    "duration": 5,
    "start_time": "2023-01-30T06:24:22.304Z"
   },
   {
    "duration": 69,
    "start_time": "2023-01-30T06:24:22.327Z"
   },
   {
    "duration": 3,
    "start_time": "2023-01-30T06:24:22.398Z"
   },
   {
    "duration": 395687,
    "start_time": "2023-01-30T06:24:22.403Z"
   },
   {
    "duration": 1500,
    "start_time": "2023-01-30T06:31:08.206Z"
   },
   {
    "duration": 44,
    "start_time": "2023-01-30T06:31:09.708Z"
   },
   {
    "duration": 21,
    "start_time": "2023-01-30T06:31:09.754Z"
   },
   {
    "duration": 4,
    "start_time": "2023-01-30T06:31:09.776Z"
   },
   {
    "duration": 12,
    "start_time": "2023-01-30T06:31:09.781Z"
   },
   {
    "duration": 424,
    "start_time": "2023-01-30T06:31:09.795Z"
   },
   {
    "duration": 587,
    "start_time": "2023-01-30T06:31:10.222Z"
   },
   {
    "duration": 27,
    "start_time": "2023-01-30T06:31:10.810Z"
   },
   {
    "duration": 3,
    "start_time": "2023-01-30T06:31:10.839Z"
   },
   {
    "duration": 17,
    "start_time": "2023-01-30T06:31:10.844Z"
   },
   {
    "duration": 26,
    "start_time": "2023-01-30T06:31:10.863Z"
   },
   {
    "duration": 2,
    "start_time": "2023-01-30T06:31:10.891Z"
   },
   {
    "duration": 21,
    "start_time": "2023-01-30T06:31:10.895Z"
   },
   {
    "duration": 14,
    "start_time": "2023-01-30T06:31:10.917Z"
   },
   {
    "duration": 77,
    "start_time": "2023-01-30T06:31:10.932Z"
   },
   {
    "duration": 4,
    "start_time": "2023-01-30T06:31:11.010Z"
   },
   {
    "duration": 1735,
    "start_time": "2023-01-30T06:39:59.565Z"
   },
   {
    "duration": 57,
    "start_time": "2023-01-30T06:40:01.302Z"
   },
   {
    "duration": 21,
    "start_time": "2023-01-30T06:40:01.361Z"
   },
   {
    "duration": 31,
    "start_time": "2023-01-30T06:40:01.384Z"
   },
   {
    "duration": 32,
    "start_time": "2023-01-30T06:40:01.418Z"
   },
   {
    "duration": 476,
    "start_time": "2023-01-30T06:40:01.452Z"
   },
   {
    "duration": 614,
    "start_time": "2023-01-30T06:40:01.932Z"
   },
   {
    "duration": 25,
    "start_time": "2023-01-30T06:40:02.551Z"
   },
   {
    "duration": 3,
    "start_time": "2023-01-30T06:40:02.578Z"
   },
   {
    "duration": 25,
    "start_time": "2023-01-30T06:40:02.583Z"
   },
   {
    "duration": 72,
    "start_time": "2023-01-30T06:40:02.611Z"
   },
   {
    "duration": 8,
    "start_time": "2023-01-30T06:40:02.685Z"
   },
   {
    "duration": 40,
    "start_time": "2023-01-30T06:40:02.695Z"
   },
   {
    "duration": 43,
    "start_time": "2023-01-30T06:40:02.741Z"
   },
   {
    "duration": 142,
    "start_time": "2023-01-30T06:40:02.787Z"
   },
   {
    "duration": 4,
    "start_time": "2023-01-30T06:40:02.931Z"
   },
   {
    "duration": 1724,
    "start_time": "2023-01-30T07:01:38.402Z"
   },
   {
    "duration": 66,
    "start_time": "2023-01-30T07:01:40.129Z"
   },
   {
    "duration": 32,
    "start_time": "2023-01-30T07:01:40.197Z"
   },
   {
    "duration": 34,
    "start_time": "2023-01-30T07:01:40.232Z"
   },
   {
    "duration": 45,
    "start_time": "2023-01-30T07:01:40.268Z"
   },
   {
    "duration": 573,
    "start_time": "2023-01-30T07:01:40.315Z"
   },
   {
    "duration": 587,
    "start_time": "2023-01-30T07:01:40.890Z"
   },
   {
    "duration": 23,
    "start_time": "2023-01-30T07:01:41.480Z"
   },
   {
    "duration": 51,
    "start_time": "2023-01-30T07:01:41.505Z"
   },
   {
    "duration": 30,
    "start_time": "2023-01-30T07:01:41.559Z"
   },
   {
    "duration": 70,
    "start_time": "2023-01-30T07:01:41.591Z"
   },
   {
    "duration": 30,
    "start_time": "2023-01-30T07:01:41.662Z"
   },
   {
    "duration": 55,
    "start_time": "2023-01-30T07:01:41.694Z"
   },
   {
    "duration": 48,
    "start_time": "2023-01-30T07:01:41.751Z"
   },
   {
    "duration": 118,
    "start_time": "2023-01-30T07:01:41.801Z"
   },
   {
    "duration": 14,
    "start_time": "2023-01-30T07:01:41.921Z"
   },
   {
    "duration": 1692,
    "start_time": "2023-01-30T07:01:47.796Z"
   },
   {
    "duration": 57,
    "start_time": "2023-01-30T07:01:49.490Z"
   },
   {
    "duration": 28,
    "start_time": "2023-01-30T07:01:49.550Z"
   },
   {
    "duration": 4,
    "start_time": "2023-01-30T07:01:49.581Z"
   },
   {
    "duration": 23,
    "start_time": "2023-01-30T07:01:49.587Z"
   },
   {
    "duration": 541,
    "start_time": "2023-01-30T07:01:49.613Z"
   },
   {
    "duration": 768,
    "start_time": "2023-01-30T07:01:50.156Z"
   },
   {
    "duration": 31,
    "start_time": "2023-01-30T07:01:50.928Z"
   },
   {
    "duration": 8,
    "start_time": "2023-01-30T07:01:50.961Z"
   },
   {
    "duration": 11,
    "start_time": "2023-01-30T07:01:50.971Z"
   },
   {
    "duration": 45,
    "start_time": "2023-01-30T07:01:50.984Z"
   },
   {
    "duration": 4,
    "start_time": "2023-01-30T07:01:51.031Z"
   },
   {
    "duration": 25,
    "start_time": "2023-01-30T07:01:51.037Z"
   },
   {
    "duration": 15,
    "start_time": "2023-01-30T07:01:51.065Z"
   },
   {
    "duration": 100,
    "start_time": "2023-01-30T07:01:51.082Z"
   },
   {
    "duration": 3,
    "start_time": "2023-01-30T07:01:51.183Z"
   },
   {
    "duration": 14504,
    "start_time": "2023-01-30T07:01:51.188Z"
   },
   {
    "duration": 1726,
    "start_time": "2023-01-30T07:02:10.252Z"
   },
   {
    "duration": 46,
    "start_time": "2023-01-30T07:02:11.980Z"
   },
   {
    "duration": 32,
    "start_time": "2023-01-30T07:02:12.028Z"
   },
   {
    "duration": 51,
    "start_time": "2023-01-30T07:02:12.061Z"
   },
   {
    "duration": 46,
    "start_time": "2023-01-30T07:02:12.114Z"
   },
   {
    "duration": 473,
    "start_time": "2023-01-30T07:02:12.162Z"
   },
   {
    "duration": 596,
    "start_time": "2023-01-30T07:02:12.637Z"
   },
   {
    "duration": 29,
    "start_time": "2023-01-30T07:02:13.235Z"
   },
   {
    "duration": 27,
    "start_time": "2023-01-30T07:02:13.266Z"
   },
   {
    "duration": 13,
    "start_time": "2023-01-30T07:02:13.295Z"
   },
   {
    "duration": 80,
    "start_time": "2023-01-30T07:02:13.310Z"
   },
   {
    "duration": 34,
    "start_time": "2023-01-30T07:02:13.392Z"
   },
   {
    "duration": 60,
    "start_time": "2023-01-30T07:02:13.428Z"
   },
   {
    "duration": 73,
    "start_time": "2023-01-30T07:02:13.492Z"
   },
   {
    "duration": 136,
    "start_time": "2023-01-30T07:02:13.567Z"
   },
   {
    "duration": 4,
    "start_time": "2023-01-30T07:02:13.705Z"
   },
   {
    "duration": 8618,
    "start_time": "2023-01-30T07:17:21.427Z"
   },
   {
    "duration": 290,
    "start_time": "2023-01-30T07:17:30.049Z"
   },
   {
    "duration": 198,
    "start_time": "2023-01-30T07:17:30.341Z"
   },
   {
    "duration": 290,
    "start_time": "2023-01-30T07:17:30.540Z"
   },
   {
    "duration": 210,
    "start_time": "2023-01-30T07:17:30.832Z"
   },
   {
    "duration": 3026,
    "start_time": "2023-01-30T07:17:31.126Z"
   },
   {
    "duration": 3002,
    "start_time": "2023-01-30T07:17:34.230Z"
   },
   {
    "duration": 101,
    "start_time": "2023-01-30T07:17:37.239Z"
   },
   {
    "duration": 283,
    "start_time": "2023-01-30T07:17:37.347Z"
   },
   {
    "duration": 190,
    "start_time": "2023-01-30T07:17:37.637Z"
   },
   {
    "duration": 201,
    "start_time": "2023-01-30T07:17:37.828Z"
   },
   {
    "duration": 193,
    "start_time": "2023-01-30T07:17:38.036Z"
   },
   {
    "duration": 391,
    "start_time": "2023-01-30T07:17:38.237Z"
   },
   {
    "duration": 12,
    "start_time": "2023-01-30T07:17:38.632Z"
   },
   {
    "duration": 412,
    "start_time": "2023-01-30T07:17:38.726Z"
   },
   {
    "duration": 91,
    "start_time": "2023-01-30T07:17:39.140Z"
   },
   {
    "duration": 229617,
    "start_time": "2023-01-30T07:17:39.240Z"
   },
   {
    "duration": 58176,
    "start_time": "2023-01-30T07:21:28.858Z"
   },
   {
    "duration": 611,
    "start_time": "2023-01-30T07:22:27.036Z"
   },
   {
    "duration": 185,
    "start_time": "2023-01-30T07:22:27.657Z"
   },
   {
    "duration": 295,
    "start_time": "2023-01-30T07:22:27.849Z"
   },
   {
    "duration": 0,
    "start_time": "2023-01-30T07:22:28.152Z"
   },
   {
    "duration": 0,
    "start_time": "2023-01-30T07:22:28.153Z"
   },
   {
    "duration": 102,
    "start_time": "2023-01-30T07:23:19.528Z"
   },
   {
    "duration": 13,
    "start_time": "2023-01-30T07:23:27.427Z"
   },
   {
    "duration": 72599,
    "start_time": "2023-01-30T07:23:57.428Z"
   },
   {
    "duration": 109,
    "start_time": "2023-01-30T07:25:10.032Z"
   },
   {
    "duration": 237312,
    "start_time": "2023-01-30T07:25:24.328Z"
   },
   {
    "duration": 7993,
    "start_time": "2023-01-30T07:29:43.139Z"
   },
   {
    "duration": 297,
    "start_time": "2023-01-30T07:29:51.138Z"
   },
   {
    "duration": 386,
    "start_time": "2023-01-30T07:29:51.447Z"
   },
   {
    "duration": 89,
    "start_time": "2023-01-30T07:29:51.840Z"
   },
   {
    "duration": 411,
    "start_time": "2023-01-30T07:29:51.935Z"
   },
   {
    "duration": 3003,
    "start_time": "2023-01-30T07:29:52.353Z"
   },
   {
    "duration": 3063,
    "start_time": "2023-01-30T07:29:55.367Z"
   },
   {
    "duration": 205,
    "start_time": "2023-01-30T07:29:58.437Z"
   },
   {
    "duration": 184,
    "start_time": "2023-01-30T07:29:58.644Z"
   },
   {
    "duration": 97,
    "start_time": "2023-01-30T07:29:58.831Z"
   },
   {
    "duration": 386,
    "start_time": "2023-01-30T07:29:58.942Z"
   },
   {
    "duration": 298,
    "start_time": "2023-01-30T07:29:59.330Z"
   },
   {
    "duration": 499,
    "start_time": "2023-01-30T07:29:59.630Z"
   },
   {
    "duration": 397,
    "start_time": "2023-01-30T07:30:00.132Z"
   },
   {
    "duration": 894,
    "start_time": "2023-01-30T07:30:00.532Z"
   },
   {
    "duration": 96,
    "start_time": "2023-01-30T07:30:01.435Z"
   },
   {
    "duration": 9704,
    "start_time": "2023-01-30T07:31:08.031Z"
   },
   {
    "duration": 387,
    "start_time": "2023-01-30T07:31:17.739Z"
   },
   {
    "duration": 303,
    "start_time": "2023-01-30T07:31:18.128Z"
   },
   {
    "duration": 288,
    "start_time": "2023-01-30T07:31:18.440Z"
   },
   {
    "duration": 301,
    "start_time": "2023-01-30T07:31:18.734Z"
   },
   {
    "duration": 3213,
    "start_time": "2023-01-30T07:31:19.131Z"
   },
   {
    "duration": 3086,
    "start_time": "2023-01-30T07:31:22.345Z"
   },
   {
    "duration": 194,
    "start_time": "2023-01-30T07:31:25.434Z"
   },
   {
    "duration": 97,
    "start_time": "2023-01-30T07:31:25.637Z"
   },
   {
    "duration": 390,
    "start_time": "2023-01-30T07:31:25.743Z"
   },
   {
    "duration": 317,
    "start_time": "2023-01-30T07:31:26.135Z"
   },
   {
    "duration": 370,
    "start_time": "2023-01-30T07:31:26.458Z"
   },
   {
    "duration": 300,
    "start_time": "2023-01-30T07:31:26.830Z"
   },
   {
    "duration": 202,
    "start_time": "2023-01-30T07:31:27.132Z"
   },
   {
    "duration": 804,
    "start_time": "2023-01-30T07:31:27.336Z"
   },
   {
    "duration": 14,
    "start_time": "2023-01-30T07:31:28.229Z"
   },
   {
    "duration": 60304,
    "start_time": "2023-01-30T07:31:28.326Z"
   },
   {
    "duration": 711,
    "start_time": "2023-01-30T07:32:28.631Z"
   },
   {
    "duration": 1559,
    "start_time": "2023-01-30T08:48:37.799Z"
   },
   {
    "duration": 45,
    "start_time": "2023-01-30T08:48:39.360Z"
   },
   {
    "duration": 26,
    "start_time": "2023-01-30T08:48:39.407Z"
   },
   {
    "duration": 5,
    "start_time": "2023-01-30T08:48:39.435Z"
   },
   {
    "duration": 54,
    "start_time": "2023-01-30T08:48:39.452Z"
   },
   {
    "duration": 444,
    "start_time": "2023-01-30T08:48:39.508Z"
   },
   {
    "duration": 627,
    "start_time": "2023-01-30T08:48:39.953Z"
   },
   {
    "duration": 28,
    "start_time": "2023-01-30T08:48:40.582Z"
   },
   {
    "duration": 19,
    "start_time": "2023-01-30T08:48:40.613Z"
   },
   {
    "duration": 25,
    "start_time": "2023-01-30T08:48:40.641Z"
   },
   {
    "duration": 45,
    "start_time": "2023-01-30T08:48:40.668Z"
   },
   {
    "duration": 3,
    "start_time": "2023-01-30T08:48:40.716Z"
   },
   {
    "duration": 66,
    "start_time": "2023-01-30T08:48:40.721Z"
   },
   {
    "duration": 15,
    "start_time": "2023-01-30T08:48:40.789Z"
   },
   {
    "duration": 91,
    "start_time": "2023-01-30T08:48:40.805Z"
   },
   {
    "duration": 4,
    "start_time": "2023-01-30T08:48:40.898Z"
   },
   {
    "duration": 9289,
    "start_time": "2023-01-30T08:48:40.903Z"
   },
   {
    "duration": 97,
    "start_time": "2023-01-30T08:48:50.193Z"
   },
   {
    "duration": 1435,
    "start_time": "2023-01-30T08:51:08.784Z"
   },
   {
    "duration": 50,
    "start_time": "2023-01-30T08:51:10.222Z"
   },
   {
    "duration": 27,
    "start_time": "2023-01-30T08:51:10.274Z"
   },
   {
    "duration": 5,
    "start_time": "2023-01-30T08:51:10.303Z"
   },
   {
    "duration": 36,
    "start_time": "2023-01-30T08:51:10.310Z"
   },
   {
    "duration": 418,
    "start_time": "2023-01-30T08:51:10.348Z"
   },
   {
    "duration": 621,
    "start_time": "2023-01-30T08:51:10.768Z"
   },
   {
    "duration": 36,
    "start_time": "2023-01-30T08:51:11.391Z"
   },
   {
    "duration": 3,
    "start_time": "2023-01-30T08:51:11.430Z"
   },
   {
    "duration": 14,
    "start_time": "2023-01-30T08:51:11.436Z"
   },
   {
    "duration": 36,
    "start_time": "2023-01-30T08:51:11.452Z"
   },
   {
    "duration": 3,
    "start_time": "2023-01-30T08:51:11.491Z"
   },
   {
    "duration": 11,
    "start_time": "2023-01-30T08:51:11.495Z"
   },
   {
    "duration": 22,
    "start_time": "2023-01-30T08:51:11.508Z"
   },
   {
    "duration": 96,
    "start_time": "2023-01-30T08:51:11.531Z"
   },
   {
    "duration": 3,
    "start_time": "2023-01-30T08:51:11.629Z"
   },
   {
    "duration": 4780,
    "start_time": "2023-01-30T08:51:11.634Z"
   },
   {
    "duration": 71,
    "start_time": "2023-01-30T08:51:16.416Z"
   },
   {
    "duration": 175243,
    "start_time": "2023-01-30T08:51:16.489Z"
   },
   {
    "duration": 7,
    "start_time": "2023-01-30T08:54:11.734Z"
   },
   {
    "duration": 12,
    "start_time": "2023-01-30T08:54:11.743Z"
   },
   {
    "duration": 7,
    "start_time": "2023-01-30T08:54:11.757Z"
   },
   {
    "duration": 64,
    "start_time": "2023-01-30T08:54:11.766Z"
   },
   {
    "duration": 1505,
    "start_time": "2023-01-30T08:54:23.878Z"
   },
   {
    "duration": 45,
    "start_time": "2023-01-30T08:54:25.385Z"
   },
   {
    "duration": 24,
    "start_time": "2023-01-30T08:54:25.432Z"
   },
   {
    "duration": 3,
    "start_time": "2023-01-30T08:54:25.459Z"
   },
   {
    "duration": 23,
    "start_time": "2023-01-30T08:54:25.464Z"
   },
   {
    "duration": 405,
    "start_time": "2023-01-30T08:54:25.489Z"
   },
   {
    "duration": 577,
    "start_time": "2023-01-30T08:54:25.896Z"
   },
   {
    "duration": 25,
    "start_time": "2023-01-30T08:54:26.475Z"
   },
   {
    "duration": 3,
    "start_time": "2023-01-30T08:54:26.502Z"
   },
   {
    "duration": 22,
    "start_time": "2023-01-30T08:54:26.507Z"
   },
   {
    "duration": 39,
    "start_time": "2023-01-30T08:54:26.531Z"
   },
   {
    "duration": 3,
    "start_time": "2023-01-30T08:54:26.572Z"
   },
   {
    "duration": 19,
    "start_time": "2023-01-30T08:54:26.576Z"
   },
   {
    "duration": 18,
    "start_time": "2023-01-30T08:54:26.597Z"
   },
   {
    "duration": 103,
    "start_time": "2023-01-30T08:54:26.618Z"
   },
   {
    "duration": 4,
    "start_time": "2023-01-30T08:54:26.723Z"
   },
   {
    "duration": 5397,
    "start_time": "2023-01-30T08:54:26.729Z"
   },
   {
    "duration": 61,
    "start_time": "2023-01-30T08:54:32.128Z"
   },
   {
    "duration": 1461,
    "start_time": "2023-01-30T08:56:27.382Z"
   },
   {
    "duration": 47,
    "start_time": "2023-01-30T08:56:28.846Z"
   },
   {
    "duration": 23,
    "start_time": "2023-01-30T08:56:28.895Z"
   },
   {
    "duration": 7,
    "start_time": "2023-01-30T08:56:28.920Z"
   },
   {
    "duration": 13,
    "start_time": "2023-01-30T08:56:28.929Z"
   },
   {
    "duration": 396,
    "start_time": "2023-01-30T08:56:28.944Z"
   },
   {
    "duration": 563,
    "start_time": "2023-01-30T08:56:29.341Z"
   },
   {
    "duration": 39,
    "start_time": "2023-01-30T08:56:29.906Z"
   },
   {
    "duration": 3,
    "start_time": "2023-01-30T08:56:29.947Z"
   },
   {
    "duration": 16,
    "start_time": "2023-01-30T08:56:29.954Z"
   },
   {
    "duration": 35,
    "start_time": "2023-01-30T08:56:29.972Z"
   },
   {
    "duration": 17,
    "start_time": "2023-01-30T08:56:30.010Z"
   },
   {
    "duration": 36,
    "start_time": "2023-01-30T08:56:30.029Z"
   },
   {
    "duration": 34,
    "start_time": "2023-01-30T08:56:30.067Z"
   },
   {
    "duration": 106,
    "start_time": "2023-01-30T08:56:30.104Z"
   },
   {
    "duration": 3,
    "start_time": "2023-01-30T08:56:30.212Z"
   },
   {
    "duration": 6382,
    "start_time": "2023-01-30T08:56:30.217Z"
   },
   {
    "duration": 74,
    "start_time": "2023-01-30T08:56:36.601Z"
   },
   {
    "duration": 1461,
    "start_time": "2023-01-30T08:58:02.549Z"
   },
   {
    "duration": 46,
    "start_time": "2023-01-30T08:58:04.014Z"
   },
   {
    "duration": 25,
    "start_time": "2023-01-30T08:58:04.062Z"
   },
   {
    "duration": 4,
    "start_time": "2023-01-30T08:58:04.090Z"
   },
   {
    "duration": 39,
    "start_time": "2023-01-30T08:58:04.096Z"
   },
   {
    "duration": 428,
    "start_time": "2023-01-30T08:58:04.136Z"
   },
   {
    "duration": 581,
    "start_time": "2023-01-30T08:58:04.566Z"
   },
   {
    "duration": 24,
    "start_time": "2023-01-30T08:58:05.150Z"
   },
   {
    "duration": 3,
    "start_time": "2023-01-30T08:58:05.176Z"
   },
   {
    "duration": 9,
    "start_time": "2023-01-30T08:58:05.182Z"
   },
   {
    "duration": 60,
    "start_time": "2023-01-30T08:58:05.193Z"
   },
   {
    "duration": 4,
    "start_time": "2023-01-30T08:58:05.255Z"
   },
   {
    "duration": 27,
    "start_time": "2023-01-30T08:58:05.261Z"
   },
   {
    "duration": 9,
    "start_time": "2023-01-30T08:58:05.290Z"
   },
   {
    "duration": 100,
    "start_time": "2023-01-30T08:58:05.301Z"
   },
   {
    "duration": 3,
    "start_time": "2023-01-30T08:58:05.403Z"
   },
   {
    "duration": 4687,
    "start_time": "2023-01-30T08:58:05.408Z"
   },
   {
    "duration": 63,
    "start_time": "2023-01-30T08:58:10.097Z"
   },
   {
    "duration": 8,
    "start_time": "2023-01-30T09:01:10.533Z"
   },
   {
    "duration": 30,
    "start_time": "2023-01-30T09:01:10.543Z"
   },
   {
    "duration": 20,
    "start_time": "2023-01-30T09:01:10.575Z"
   },
   {
    "duration": 32,
    "start_time": "2023-01-30T09:01:10.597Z"
   },
   {
    "duration": 1459,
    "start_time": "2023-01-30T09:01:40.648Z"
   },
   {
    "duration": 47,
    "start_time": "2023-01-30T09:01:42.109Z"
   },
   {
    "duration": 22,
    "start_time": "2023-01-30T09:01:42.158Z"
   },
   {
    "duration": 4,
    "start_time": "2023-01-30T09:01:42.182Z"
   },
   {
    "duration": 20,
    "start_time": "2023-01-30T09:01:42.187Z"
   },
   {
    "duration": 395,
    "start_time": "2023-01-30T09:01:42.227Z"
   },
   {
    "duration": 577,
    "start_time": "2023-01-30T09:01:42.624Z"
   },
   {
    "duration": 37,
    "start_time": "2023-01-30T09:01:43.203Z"
   },
   {
    "duration": 3,
    "start_time": "2023-01-30T09:01:43.242Z"
   },
   {
    "duration": 8,
    "start_time": "2023-01-30T09:01:43.248Z"
   },
   {
    "duration": 35,
    "start_time": "2023-01-30T09:01:43.258Z"
   },
   {
    "duration": 3,
    "start_time": "2023-01-30T09:01:43.295Z"
   },
   {
    "duration": 11,
    "start_time": "2023-01-30T09:01:43.300Z"
   },
   {
    "duration": 14,
    "start_time": "2023-01-30T09:01:43.313Z"
   },
   {
    "duration": 101,
    "start_time": "2023-01-30T09:01:43.329Z"
   },
   {
    "duration": 4,
    "start_time": "2023-01-30T09:01:43.431Z"
   },
   {
    "duration": 4655,
    "start_time": "2023-01-30T09:01:43.437Z"
   },
   {
    "duration": 9,
    "start_time": "2023-01-30T09:01:48.093Z"
   },
   {
    "duration": 77,
    "start_time": "2023-01-30T09:01:48.104Z"
   },
   {
    "duration": 8,
    "start_time": "2023-01-30T09:01:48.183Z"
   },
   {
    "duration": 176237,
    "start_time": "2023-01-30T09:01:48.194Z"
   },
   {
    "duration": 7,
    "start_time": "2023-01-30T09:04:44.432Z"
   },
   {
    "duration": 12,
    "start_time": "2023-01-30T09:04:44.441Z"
   },
   {
    "duration": 1490,
    "start_time": "2023-01-30T09:07:25.260Z"
   },
   {
    "duration": 47,
    "start_time": "2023-01-30T09:07:26.752Z"
   },
   {
    "duration": 28,
    "start_time": "2023-01-30T09:07:26.801Z"
   },
   {
    "duration": 18,
    "start_time": "2023-01-30T09:07:26.832Z"
   },
   {
    "duration": 48,
    "start_time": "2023-01-30T09:07:26.852Z"
   },
   {
    "duration": 421,
    "start_time": "2023-01-30T09:07:26.902Z"
   },
   {
    "duration": 553,
    "start_time": "2023-01-30T09:07:27.327Z"
   },
   {
    "duration": 28,
    "start_time": "2023-01-30T09:07:27.882Z"
   },
   {
    "duration": 4,
    "start_time": "2023-01-30T09:07:27.926Z"
   },
   {
    "duration": 23,
    "start_time": "2023-01-30T09:07:27.933Z"
   },
   {
    "duration": 29,
    "start_time": "2023-01-30T09:07:27.959Z"
   },
   {
    "duration": 2,
    "start_time": "2023-01-30T09:07:27.990Z"
   },
   {
    "duration": 9,
    "start_time": "2023-01-30T09:07:27.994Z"
   },
   {
    "duration": 30,
    "start_time": "2023-01-30T09:07:28.005Z"
   },
   {
    "duration": 96,
    "start_time": "2023-01-30T09:07:28.037Z"
   },
   {
    "duration": 3,
    "start_time": "2023-01-30T09:07:28.135Z"
   },
   {
    "duration": 5581,
    "start_time": "2023-01-30T09:07:28.140Z"
   },
   {
    "duration": 7,
    "start_time": "2023-01-30T09:07:33.723Z"
   },
   {
    "duration": 69,
    "start_time": "2023-01-30T09:07:33.732Z"
   },
   {
    "duration": 26,
    "start_time": "2023-01-30T09:07:33.803Z"
   },
   {
    "duration": 179610,
    "start_time": "2023-01-30T09:07:33.831Z"
   },
   {
    "duration": 7,
    "start_time": "2023-01-30T09:10:33.443Z"
   },
   {
    "duration": 80,
    "start_time": "2023-01-30T09:10:33.451Z"
   },
   {
    "duration": 5,
    "start_time": "2023-01-30T09:32:06.157Z"
   },
   {
    "duration": 1652,
    "start_time": "2023-01-30T09:36:26.766Z"
   },
   {
    "duration": 70,
    "start_time": "2023-01-30T09:36:28.421Z"
   },
   {
    "duration": 39,
    "start_time": "2023-01-30T09:36:28.494Z"
   },
   {
    "duration": 13,
    "start_time": "2023-01-30T09:36:28.535Z"
   },
   {
    "duration": 40,
    "start_time": "2023-01-30T09:36:28.551Z"
   },
   {
    "duration": 452,
    "start_time": "2023-01-30T09:36:28.593Z"
   },
   {
    "duration": 553,
    "start_time": "2023-01-30T09:36:29.047Z"
   },
   {
    "duration": 45,
    "start_time": "2023-01-30T09:36:29.603Z"
   },
   {
    "duration": 9,
    "start_time": "2023-01-30T09:36:29.650Z"
   },
   {
    "duration": 12,
    "start_time": "2023-01-30T09:36:29.662Z"
   },
   {
    "duration": 32,
    "start_time": "2023-01-30T09:36:29.677Z"
   },
   {
    "duration": 3,
    "start_time": "2023-01-30T09:36:29.711Z"
   },
   {
    "duration": 10,
    "start_time": "2023-01-30T09:36:29.730Z"
   },
   {
    "duration": 22,
    "start_time": "2023-01-30T09:36:29.751Z"
   },
   {
    "duration": 110,
    "start_time": "2023-01-30T09:36:29.776Z"
   },
   {
    "duration": 4,
    "start_time": "2023-01-30T09:36:29.889Z"
   },
   {
    "duration": 12126,
    "start_time": "2023-01-30T09:36:29.896Z"
   },
   {
    "duration": 26,
    "start_time": "2023-01-30T09:36:42.024Z"
   },
   {
    "duration": 88,
    "start_time": "2023-01-30T09:36:42.053Z"
   },
   {
    "duration": 7,
    "start_time": "2023-01-30T09:36:42.143Z"
   },
   {
    "duration": 456373,
    "start_time": "2023-01-30T09:36:42.152Z"
   },
   {
    "duration": 0,
    "start_time": "2023-01-30T09:44:18.529Z"
   },
   {
    "duration": 0,
    "start_time": "2023-01-30T09:44:18.534Z"
   },
   {
    "duration": 0,
    "start_time": "2023-01-30T09:44:18.535Z"
   },
   {
    "duration": 1821,
    "start_time": "2023-01-30T09:44:29.655Z"
   },
   {
    "duration": 64,
    "start_time": "2023-01-30T09:44:31.478Z"
   },
   {
    "duration": 29,
    "start_time": "2023-01-30T09:44:31.546Z"
   },
   {
    "duration": 10,
    "start_time": "2023-01-30T09:44:31.577Z"
   },
   {
    "duration": 96,
    "start_time": "2023-01-30T09:44:31.590Z"
   },
   {
    "duration": 528,
    "start_time": "2023-01-30T09:44:31.687Z"
   },
   {
    "duration": 353,
    "start_time": "2023-01-30T09:44:32.217Z"
   },
   {
    "duration": 553,
    "start_time": "2023-01-30T09:44:32.573Z"
   },
   {
    "duration": 31,
    "start_time": "2023-01-30T09:44:33.129Z"
   },
   {
    "duration": 14,
    "start_time": "2023-01-30T09:44:33.162Z"
   },
   {
    "duration": 21,
    "start_time": "2023-01-30T09:44:33.177Z"
   },
   {
    "duration": 47,
    "start_time": "2023-01-30T09:44:33.200Z"
   },
   {
    "duration": 32,
    "start_time": "2023-01-30T09:44:33.249Z"
   },
   {
    "duration": 8,
    "start_time": "2023-01-30T09:44:33.285Z"
   },
   {
    "duration": 23,
    "start_time": "2023-01-30T09:44:33.296Z"
   },
   {
    "duration": 123,
    "start_time": "2023-01-30T09:44:33.321Z"
   },
   {
    "duration": 3,
    "start_time": "2023-01-30T09:44:33.446Z"
   },
   {
    "duration": 11766,
    "start_time": "2023-01-30T09:44:33.451Z"
   },
   {
    "duration": 6,
    "start_time": "2023-01-30T09:44:45.219Z"
   },
   {
    "duration": 140,
    "start_time": "2023-01-30T09:44:45.227Z"
   },
   {
    "duration": 6,
    "start_time": "2023-01-30T09:44:45.369Z"
   },
   {
    "duration": 395470,
    "start_time": "2023-01-30T09:44:45.377Z"
   },
   {
    "duration": 27,
    "start_time": "2023-01-30T09:51:20.849Z"
   },
   {
    "duration": 0,
    "start_time": "2023-01-30T09:51:20.878Z"
   },
   {
    "duration": 1633,
    "start_time": "2023-01-30T09:51:24.188Z"
   },
   {
    "duration": 63,
    "start_time": "2023-01-30T09:51:25.823Z"
   },
   {
    "duration": 44,
    "start_time": "2023-01-30T09:51:25.888Z"
   },
   {
    "duration": 31,
    "start_time": "2023-01-30T09:51:25.935Z"
   },
   {
    "duration": 49,
    "start_time": "2023-01-30T09:51:25.968Z"
   },
   {
    "duration": 551,
    "start_time": "2023-01-30T09:51:26.019Z"
   },
   {
    "duration": 366,
    "start_time": "2023-01-30T09:51:26.572Z"
   },
   {
    "duration": 488,
    "start_time": "2023-01-30T09:51:26.944Z"
   },
   {
    "duration": 25,
    "start_time": "2023-01-30T09:51:27.435Z"
   },
   {
    "duration": 36,
    "start_time": "2023-01-30T09:51:27.463Z"
   },
   {
    "duration": 8,
    "start_time": "2023-01-30T09:51:27.501Z"
   },
   {
    "duration": 46,
    "start_time": "2023-01-30T09:51:27.511Z"
   },
   {
    "duration": 27,
    "start_time": "2023-01-30T09:51:27.562Z"
   },
   {
    "duration": 14,
    "start_time": "2023-01-30T09:51:27.592Z"
   },
   {
    "duration": 21,
    "start_time": "2023-01-30T09:51:27.608Z"
   },
   {
    "duration": 137,
    "start_time": "2023-01-30T09:51:27.634Z"
   },
   {
    "duration": 4,
    "start_time": "2023-01-30T09:51:27.773Z"
   },
   {
    "duration": 7302,
    "start_time": "2023-01-30T09:51:27.779Z"
   },
   {
    "duration": 8,
    "start_time": "2023-01-30T09:51:35.083Z"
   },
   {
    "duration": 172,
    "start_time": "2023-01-30T09:51:35.093Z"
   },
   {
    "duration": 8,
    "start_time": "2023-01-30T09:51:35.271Z"
   },
   {
    "duration": 191500,
    "start_time": "2023-01-30T09:51:35.281Z"
   },
   {
    "duration": 9,
    "start_time": "2023-01-30T09:54:46.783Z"
   },
   {
    "duration": 19,
    "start_time": "2023-01-30T09:54:46.827Z"
   },
   {
    "duration": 1595,
    "start_time": "2023-01-30T10:00:31.482Z"
   },
   {
    "duration": 49,
    "start_time": "2023-01-30T10:00:33.080Z"
   },
   {
    "duration": 24,
    "start_time": "2023-01-30T10:00:33.130Z"
   },
   {
    "duration": 4,
    "start_time": "2023-01-30T10:00:33.156Z"
   },
   {
    "duration": 39,
    "start_time": "2023-01-30T10:00:33.162Z"
   },
   {
    "duration": 407,
    "start_time": "2023-01-30T10:00:33.203Z"
   },
   {
    "duration": 324,
    "start_time": "2023-01-30T10:00:33.612Z"
   },
   {
    "duration": 464,
    "start_time": "2023-01-30T10:00:33.937Z"
   },
   {
    "duration": 31,
    "start_time": "2023-01-30T10:00:34.402Z"
   },
   {
    "duration": 23,
    "start_time": "2023-01-30T10:00:34.436Z"
   },
   {
    "duration": 31,
    "start_time": "2023-01-30T10:00:34.460Z"
   },
   {
    "duration": 28,
    "start_time": "2023-01-30T10:00:34.493Z"
   },
   {
    "duration": 4,
    "start_time": "2023-01-30T10:00:34.523Z"
   },
   {
    "duration": 24,
    "start_time": "2023-01-30T10:00:34.529Z"
   },
   {
    "duration": 6,
    "start_time": "2023-01-30T10:00:34.555Z"
   },
   {
    "duration": 95,
    "start_time": "2023-01-30T10:00:34.563Z"
   },
   {
    "duration": 4,
    "start_time": "2023-01-30T10:00:34.660Z"
   },
   {
    "duration": 9617,
    "start_time": "2023-01-30T10:00:34.666Z"
   },
   {
    "duration": 6,
    "start_time": "2023-01-30T10:00:44.285Z"
   },
   {
    "duration": 100,
    "start_time": "2023-01-30T10:00:44.292Z"
   },
   {
    "duration": 20,
    "start_time": "2023-01-30T10:00:44.394Z"
   },
   {
    "duration": 486220,
    "start_time": "2023-01-30T10:00:44.416Z"
   },
   {
    "duration": 15,
    "start_time": "2023-01-30T10:08:50.638Z"
   },
   {
    "duration": 0,
    "start_time": "2023-01-30T10:08:50.655Z"
   },
   {
    "duration": 2305,
    "start_time": "2023-01-30T21:42:15.271Z"
   },
   {
    "duration": 137,
    "start_time": "2023-01-30T21:42:17.579Z"
   },
   {
    "duration": 24,
    "start_time": "2023-01-30T21:42:17.718Z"
   },
   {
    "duration": 4,
    "start_time": "2023-01-30T21:42:17.744Z"
   },
   {
    "duration": 12,
    "start_time": "2023-01-30T21:42:17.750Z"
   },
   {
    "duration": 464,
    "start_time": "2023-01-30T21:42:17.764Z"
   },
   {
    "duration": 215,
    "start_time": "2023-01-30T21:42:18.229Z"
   },
   {
    "duration": 474,
    "start_time": "2023-01-30T21:42:18.446Z"
   },
   {
    "duration": 22,
    "start_time": "2023-01-30T21:42:18.922Z"
   },
   {
    "duration": 3,
    "start_time": "2023-01-30T21:42:18.947Z"
   },
   {
    "duration": 8,
    "start_time": "2023-01-30T21:42:18.951Z"
   },
   {
    "duration": 29,
    "start_time": "2023-01-30T21:42:18.960Z"
   },
   {
    "duration": 3,
    "start_time": "2023-01-30T21:42:18.990Z"
   },
   {
    "duration": 13,
    "start_time": "2023-01-30T21:42:18.994Z"
   },
   {
    "duration": 25,
    "start_time": "2023-01-30T21:42:19.009Z"
   },
   {
    "duration": 104,
    "start_time": "2023-01-30T21:42:19.036Z"
   },
   {
    "duration": 3,
    "start_time": "2023-01-30T21:42:19.142Z"
   },
   {
    "duration": 10835,
    "start_time": "2023-01-30T21:42:19.147Z"
   },
   {
    "duration": 7,
    "start_time": "2023-01-30T21:42:29.983Z"
   },
   {
    "duration": 72,
    "start_time": "2023-01-30T21:42:29.992Z"
   },
   {
    "duration": 7,
    "start_time": "2023-01-30T21:42:30.065Z"
   },
   {
    "duration": 349653,
    "start_time": "2023-01-30T21:42:30.074Z"
   },
   {
    "duration": 6,
    "start_time": "2023-01-30T21:48:19.729Z"
   },
   {
    "duration": 14,
    "start_time": "2023-01-30T21:48:19.736Z"
   }
  ],
  "kernelspec": {
   "display_name": "Python 3 (ipykernel)",
   "language": "python",
   "name": "python3"
  },
  "language_info": {
   "codemirror_mode": {
    "name": "ipython",
    "version": 3
   },
   "file_extension": ".py",
   "mimetype": "text/x-python",
   "name": "python",
   "nbconvert_exporter": "python",
   "pygments_lexer": "ipython3",
   "version": "3.9.12"
  },
  "toc": {
   "base_numbering": 1,
   "nav_menu": {},
   "number_sections": true,
   "sideBar": true,
   "skip_h1_title": true,
   "title_cell": "Содержание",
   "title_sidebar": "Contents",
   "toc_cell": true,
   "toc_position": {},
   "toc_section_display": true,
   "toc_window_display": false
  }
 },
 "nbformat": 4,
 "nbformat_minor": 2
}
