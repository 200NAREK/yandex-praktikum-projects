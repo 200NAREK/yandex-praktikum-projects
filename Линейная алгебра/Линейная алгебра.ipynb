{
 "cells": [
  {
   "cell_type": "markdown",
   "metadata": {
    "toc": true
   },
   "source": [
    "<h1>Содержание<span class=\"tocSkip\"></span></h1>\n",
    "<div class=\"toc\"><ul class=\"toc-item\"><li><span><a href=\"#Загрузка-данных\" data-toc-modified-id=\"Загрузка-данных-1\"><span class=\"toc-item-num\">1&nbsp;&nbsp;</span>Загрузка данных</a></span></li><li><span><a href=\"#Умножение-матриц\" data-toc-modified-id=\"Умножение-матриц-2\"><span class=\"toc-item-num\">2&nbsp;&nbsp;</span>Умножение матриц</a></span></li><li><span><a href=\"#Алгоритм-преобразования\" data-toc-modified-id=\"Алгоритм-преобразования-3\"><span class=\"toc-item-num\">3&nbsp;&nbsp;</span>Алгоритм преобразования</a></span></li><li><span><a href=\"#Проверка-алгоритма\" data-toc-modified-id=\"Проверка-алгоритма-4\"><span class=\"toc-item-num\">4&nbsp;&nbsp;</span>Проверка алгоритма</a></span></li><li><span><a href=\"#Чек-лист-проверки\" data-toc-modified-id=\"Чек-лист-проверки-5\"><span class=\"toc-item-num\">5&nbsp;&nbsp;</span>Чек-лист проверки</a></span></li></ul></div>"
   ]
  },
  {
   "cell_type": "markdown",
   "metadata": {},
   "source": [
    "# Защита персональных данных клиентов"
   ]
  },
  {
   "cell_type": "markdown",
   "metadata": {},
   "source": [
    "Вам нужно защитить данные клиентов страховой компании «Хоть потоп». Разработайте такой метод преобразования данных, чтобы по ним было сложно восстановить персональную информацию. Обоснуйте корректность его работы.\n",
    "\n",
    "Нужно защитить данные, чтобы при преобразовании качество моделей машинного обучения не ухудшилось. Подбирать наилучшую модель не требуется."
   ]
  },
  {
   "cell_type": "markdown",
   "metadata": {},
   "source": [
    "## Загрузка данных"
   ]
  },
  {
   "cell_type": "code",
   "execution_count": 1,
   "metadata": {},
   "outputs": [],
   "source": [
    "import pandas as pd\n",
    "import numpy as np\n",
    "from sklearn.linear_model import LinearRegression\n",
    "from sklearn.model_selection import train_test_split\n",
    "from sklearn.metrics import r2_score\n",
    "from numpy import linalg as LA"
   ]
  },
  {
   "cell_type": "code",
   "execution_count": 2,
   "metadata": {},
   "outputs": [],
   "source": [
    "\n",
    "try:\n",
    "    insurance = pd.read_csv('/datasets/insurance.csv')\n",
    "\n",
    "except:\n",
    "    insurance = pd.read_csv('https://code.s3.yandex.net/datasets/insurance.csv')\n"
   ]
  },
  {
   "cell_type": "code",
   "execution_count": 3,
   "metadata": {},
   "outputs": [
    {
     "data": {
      "text/plain": [
       "'смотрим'"
      ]
     },
     "metadata": {},
     "output_type": "display_data"
    },
    {
     "data": {
      "text/html": [
       "<div>\n",
       "<style scoped>\n",
       "    .dataframe tbody tr th:only-of-type {\n",
       "        vertical-align: middle;\n",
       "    }\n",
       "\n",
       "    .dataframe tbody tr th {\n",
       "        vertical-align: top;\n",
       "    }\n",
       "\n",
       "    .dataframe thead th {\n",
       "        text-align: right;\n",
       "    }\n",
       "</style>\n",
       "<table border=\"1\" class=\"dataframe\">\n",
       "  <thead>\n",
       "    <tr style=\"text-align: right;\">\n",
       "      <th></th>\n",
       "      <th>Пол</th>\n",
       "      <th>Возраст</th>\n",
       "      <th>Зарплата</th>\n",
       "      <th>Члены семьи</th>\n",
       "      <th>Страховые выплаты</th>\n",
       "    </tr>\n",
       "  </thead>\n",
       "  <tbody>\n",
       "    <tr>\n",
       "      <th>0</th>\n",
       "      <td>1</td>\n",
       "      <td>41.0</td>\n",
       "      <td>49600.0</td>\n",
       "      <td>1</td>\n",
       "      <td>0</td>\n",
       "    </tr>\n",
       "    <tr>\n",
       "      <th>1</th>\n",
       "      <td>0</td>\n",
       "      <td>46.0</td>\n",
       "      <td>38000.0</td>\n",
       "      <td>1</td>\n",
       "      <td>1</td>\n",
       "    </tr>\n",
       "    <tr>\n",
       "      <th>2</th>\n",
       "      <td>0</td>\n",
       "      <td>29.0</td>\n",
       "      <td>21000.0</td>\n",
       "      <td>0</td>\n",
       "      <td>0</td>\n",
       "    </tr>\n",
       "    <tr>\n",
       "      <th>3</th>\n",
       "      <td>0</td>\n",
       "      <td>21.0</td>\n",
       "      <td>41700.0</td>\n",
       "      <td>2</td>\n",
       "      <td>0</td>\n",
       "    </tr>\n",
       "    <tr>\n",
       "      <th>4</th>\n",
       "      <td>1</td>\n",
       "      <td>28.0</td>\n",
       "      <td>26100.0</td>\n",
       "      <td>0</td>\n",
       "      <td>0</td>\n",
       "    </tr>\n",
       "  </tbody>\n",
       "</table>\n",
       "</div>"
      ],
      "text/plain": [
       "   Пол  Возраст  Зарплата  Члены семьи  Страховые выплаты\n",
       "0    1     41.0   49600.0            1                  0\n",
       "1    0     46.0   38000.0            1                  1\n",
       "2    0     29.0   21000.0            0                  0\n",
       "3    0     21.0   41700.0            2                  0\n",
       "4    1     28.0   26100.0            0                  0"
      ]
     },
     "metadata": {},
     "output_type": "display_data"
    },
    {
     "data": {
      "text/plain": [
       "'размеры'"
      ]
     },
     "metadata": {},
     "output_type": "display_data"
    },
    {
     "data": {
      "text/plain": [
       "(5000, 5)"
      ]
     },
     "metadata": {},
     "output_type": "display_data"
    },
    {
     "data": {
      "text/plain": [
       "'пропуски'"
      ]
     },
     "metadata": {},
     "output_type": "display_data"
    },
    {
     "data": {
      "text/plain": [
       "Пол                  0\n",
       "Возраст              0\n",
       "Зарплата             0\n",
       "Члены семьи          0\n",
       "Страховые выплаты    0\n",
       "dtype: int64"
      ]
     },
     "metadata": {},
     "output_type": "display_data"
    },
    {
     "data": {
      "text/plain": [
       "'дубликаты'"
      ]
     },
     "metadata": {},
     "output_type": "display_data"
    },
    {
     "data": {
      "text/plain": [
       "153"
      ]
     },
     "metadata": {},
     "output_type": "display_data"
    },
    {
     "name": "stdout",
     "output_type": "stream",
     "text": [
      "<class 'pandas.core.frame.DataFrame'>\n",
      "RangeIndex: 5000 entries, 0 to 4999\n",
      "Data columns (total 5 columns):\n",
      " #   Column             Non-Null Count  Dtype  \n",
      "---  ------             --------------  -----  \n",
      " 0   Пол                5000 non-null   int64  \n",
      " 1   Возраст            5000 non-null   float64\n",
      " 2   Зарплата           5000 non-null   float64\n",
      " 3   Члены семьи        5000 non-null   int64  \n",
      " 4   Страховые выплаты  5000 non-null   int64  \n",
      "dtypes: float64(2), int64(3)\n",
      "memory usage: 195.4 KB\n"
     ]
    },
    {
     "data": {
      "text/plain": [
       "'информация'"
      ]
     },
     "metadata": {},
     "output_type": "display_data"
    },
    {
     "data": {
      "text/plain": [
       "None"
      ]
     },
     "metadata": {},
     "output_type": "display_data"
    },
    {
     "data": {
      "text/plain": [
       "'дискрайб))'"
      ]
     },
     "metadata": {},
     "output_type": "display_data"
    },
    {
     "data": {
      "text/html": [
       "<div>\n",
       "<style scoped>\n",
       "    .dataframe tbody tr th:only-of-type {\n",
       "        vertical-align: middle;\n",
       "    }\n",
       "\n",
       "    .dataframe tbody tr th {\n",
       "        vertical-align: top;\n",
       "    }\n",
       "\n",
       "    .dataframe thead th {\n",
       "        text-align: right;\n",
       "    }\n",
       "</style>\n",
       "<table border=\"1\" class=\"dataframe\">\n",
       "  <thead>\n",
       "    <tr style=\"text-align: right;\">\n",
       "      <th></th>\n",
       "      <th>Пол</th>\n",
       "      <th>Возраст</th>\n",
       "      <th>Зарплата</th>\n",
       "      <th>Члены семьи</th>\n",
       "      <th>Страховые выплаты</th>\n",
       "    </tr>\n",
       "  </thead>\n",
       "  <tbody>\n",
       "    <tr>\n",
       "      <th>count</th>\n",
       "      <td>5000.000000</td>\n",
       "      <td>5000.000000</td>\n",
       "      <td>5000.000000</td>\n",
       "      <td>5000.000000</td>\n",
       "      <td>5000.000000</td>\n",
       "    </tr>\n",
       "    <tr>\n",
       "      <th>mean</th>\n",
       "      <td>0.499000</td>\n",
       "      <td>30.952800</td>\n",
       "      <td>39916.360000</td>\n",
       "      <td>1.194200</td>\n",
       "      <td>0.148000</td>\n",
       "    </tr>\n",
       "    <tr>\n",
       "      <th>std</th>\n",
       "      <td>0.500049</td>\n",
       "      <td>8.440807</td>\n",
       "      <td>9900.083569</td>\n",
       "      <td>1.091387</td>\n",
       "      <td>0.463183</td>\n",
       "    </tr>\n",
       "    <tr>\n",
       "      <th>min</th>\n",
       "      <td>0.000000</td>\n",
       "      <td>18.000000</td>\n",
       "      <td>5300.000000</td>\n",
       "      <td>0.000000</td>\n",
       "      <td>0.000000</td>\n",
       "    </tr>\n",
       "    <tr>\n",
       "      <th>25%</th>\n",
       "      <td>0.000000</td>\n",
       "      <td>24.000000</td>\n",
       "      <td>33300.000000</td>\n",
       "      <td>0.000000</td>\n",
       "      <td>0.000000</td>\n",
       "    </tr>\n",
       "    <tr>\n",
       "      <th>50%</th>\n",
       "      <td>0.000000</td>\n",
       "      <td>30.000000</td>\n",
       "      <td>40200.000000</td>\n",
       "      <td>1.000000</td>\n",
       "      <td>0.000000</td>\n",
       "    </tr>\n",
       "    <tr>\n",
       "      <th>75%</th>\n",
       "      <td>1.000000</td>\n",
       "      <td>37.000000</td>\n",
       "      <td>46600.000000</td>\n",
       "      <td>2.000000</td>\n",
       "      <td>0.000000</td>\n",
       "    </tr>\n",
       "    <tr>\n",
       "      <th>max</th>\n",
       "      <td>1.000000</td>\n",
       "      <td>65.000000</td>\n",
       "      <td>79000.000000</td>\n",
       "      <td>6.000000</td>\n",
       "      <td>5.000000</td>\n",
       "    </tr>\n",
       "  </tbody>\n",
       "</table>\n",
       "</div>"
      ],
      "text/plain": [
       "               Пол      Возраст      Зарплата  Члены семьи  Страховые выплаты\n",
       "count  5000.000000  5000.000000   5000.000000  5000.000000        5000.000000\n",
       "mean      0.499000    30.952800  39916.360000     1.194200           0.148000\n",
       "std       0.500049     8.440807   9900.083569     1.091387           0.463183\n",
       "min       0.000000    18.000000   5300.000000     0.000000           0.000000\n",
       "25%       0.000000    24.000000  33300.000000     0.000000           0.000000\n",
       "50%       0.000000    30.000000  40200.000000     1.000000           0.000000\n",
       "75%       1.000000    37.000000  46600.000000     2.000000           0.000000\n",
       "max       1.000000    65.000000  79000.000000     6.000000           5.000000"
      ]
     },
     "metadata": {},
     "output_type": "display_data"
    }
   ],
   "source": [
    "display('смотрим',insurance.head())\n",
    "display('размеры',insurance.shape)\n",
    "display(\"пропуски\",insurance.isna().sum())\n",
    "display('дубликаты',insurance.duplicated().sum())\n",
    "display('информация',insurance.info())\n",
    "display('дискрайб))',insurance.describe())\n"
   ]
  },
  {
   "cell_type": "markdown",
   "metadata": {},
   "source": [
    "нащл дубликаты сбросили дубликаты. зарплата и возраст поменяли на инт."
   ]
  },
  {
   "cell_type": "code",
   "execution_count": 4,
   "metadata": {},
   "outputs": [],
   "source": [
    "#insurance.drop_duplicates(inplace=True)\n",
    "insurance['Зарплата'] = insurance['Зарплата'].astype('int')\n",
    "insurance['Возраст'] = insurance['Возраст'].astype('int')"
   ]
  },
  {
   "cell_type": "code",
   "execution_count": 5,
   "metadata": {},
   "outputs": [
    {
     "data": {
      "text/html": [
       "<div>\n",
       "<style scoped>\n",
       "    .dataframe tbody tr th:only-of-type {\n",
       "        vertical-align: middle;\n",
       "    }\n",
       "\n",
       "    .dataframe tbody tr th {\n",
       "        vertical-align: top;\n",
       "    }\n",
       "\n",
       "    .dataframe thead th {\n",
       "        text-align: right;\n",
       "    }\n",
       "</style>\n",
       "<table border=\"1\" class=\"dataframe\">\n",
       "  <thead>\n",
       "    <tr style=\"text-align: right;\">\n",
       "      <th></th>\n",
       "      <th>Пол</th>\n",
       "      <th>Возраст</th>\n",
       "      <th>Зарплата</th>\n",
       "      <th>Члены семьи</th>\n",
       "      <th>Страховые выплаты</th>\n",
       "    </tr>\n",
       "  </thead>\n",
       "  <tbody>\n",
       "    <tr>\n",
       "      <th>0</th>\n",
       "      <td>1</td>\n",
       "      <td>41</td>\n",
       "      <td>49600</td>\n",
       "      <td>1</td>\n",
       "      <td>0</td>\n",
       "    </tr>\n",
       "    <tr>\n",
       "      <th>1</th>\n",
       "      <td>0</td>\n",
       "      <td>46</td>\n",
       "      <td>38000</td>\n",
       "      <td>1</td>\n",
       "      <td>1</td>\n",
       "    </tr>\n",
       "    <tr>\n",
       "      <th>2</th>\n",
       "      <td>0</td>\n",
       "      <td>29</td>\n",
       "      <td>21000</td>\n",
       "      <td>0</td>\n",
       "      <td>0</td>\n",
       "    </tr>\n",
       "    <tr>\n",
       "      <th>3</th>\n",
       "      <td>0</td>\n",
       "      <td>21</td>\n",
       "      <td>41700</td>\n",
       "      <td>2</td>\n",
       "      <td>0</td>\n",
       "    </tr>\n",
       "    <tr>\n",
       "      <th>4</th>\n",
       "      <td>1</td>\n",
       "      <td>28</td>\n",
       "      <td>26100</td>\n",
       "      <td>0</td>\n",
       "      <td>0</td>\n",
       "    </tr>\n",
       "  </tbody>\n",
       "</table>\n",
       "</div>"
      ],
      "text/plain": [
       "   Пол  Возраст  Зарплата  Члены семьи  Страховые выплаты\n",
       "0    1       41     49600            1                  0\n",
       "1    0       46     38000            1                  1\n",
       "2    0       29     21000            0                  0\n",
       "3    0       21     41700            2                  0\n",
       "4    1       28     26100            0                  0"
      ]
     },
     "execution_count": 5,
     "metadata": {},
     "output_type": "execute_result"
    }
   ],
   "source": [
    "insurance.head()"
   ]
  },
  {
   "cell_type": "markdown",
   "metadata": {},
   "source": [
    "## Умножение матриц"
   ]
  },
  {
   "cell_type": "markdown",
   "metadata": {},
   "source": [
    "В этом задании вы можете записывать формулы в *Jupyter Notebook.*\n",
    "\n",
    "Чтобы записать формулу внутри текста, окружите её символами доллара \\\\$; если снаружи —  двойными символами \\\\$\\\\$. Эти формулы записываются на языке вёрстки *LaTeX.* \n",
    "\n",
    "Для примера мы записали формулы линейной регрессии. Можете их скопировать и отредактировать, чтобы решить задачу.\n",
    "\n",
    "Работать в *LaTeX* необязательно."
   ]
  },
  {
   "cell_type": "markdown",
   "metadata": {},
   "source": [
    "Обозначения:\n",
    "\n",
    "- $X$ — матрица признаков (нулевой столбец состоит из единиц)\n",
    "\n",
    "- $y$ — вектор целевого признака\n",
    "\n",
    "- $P$ — матрица, на которую умножаются признаки\n",
    "\n",
    "- $w$ — вектор весов линейной регрессии (нулевой элемент равен сдвигу)"
   ]
  },
  {
   "cell_type": "markdown",
   "metadata": {},
   "source": [
    "Предсказания:\n",
    "\n",
    "$$\n",
    "a = Xw\n",
    "$$\n",
    "\n",
    "Задача обучения:\n",
    "\n",
    "$$\n",
    "w = \\arg\\min_w MSE(Xw, y)\n",
    "$$\n",
    "\n",
    "Формула обучения:\n",
    "\n",
    "$$\n",
    "w = (X^T X)^{-1} X^T y\n",
    "$$"
   ]
  },
  {
   "cell_type": "markdown",
   "metadata": {},
   "source": [
    "**Ответ:** Качество линейной регресси не должно измениться\n",
    "\n",
    "**Обоснование:**  \n",
    "Предположим что a = a', где a' - это предсказание, в которое мы передали матрицу признаков X, умноженную на матрицу\n",
    "\n",
    "\n",
    "$$\n",
    "a = Xw  \n",
    "$$\n",
    "\n",
    "\n",
    "$$\n",
    "a' = X'w'\n",
    "$$\n",
    "\n",
    "\n",
    "$$\n",
    "X' = XP\n",
    "$$\n",
    "\n",
    "\n",
    "Составим уравнение для формул предсказания для матрицы ХР   \n",
    "\n",
    "$$\n",
    "a' = (XP)((XP)^T(XP))^{-1} (XP)^Ty\n",
    "$$\n",
    "\n",
    "\n",
    "\n",
    "Раскрываем транспонирования по свойству: $(AB)^T = B^T A^T$\n",
    "\n",
    "$$\n",
    "a' = XP(P^TX^TXP)^{-1}P^TX^Ty\n",
    "$$\n",
    "\n",
    "\n",
    "раскроем скобки по свойству $(AB)^{-1} = B^{-1} A^{-1}$\n",
    "\n",
    "$$\n",
    "a' = XP(X^TXP)^{-1}(P^T)^{-1}P^TX^Ty = X P P^{-1} (X^TX)^{-1} (P^T)^{-1} P^T X^T y\n",
    "$$\n",
    "\n",
    "\n",
    "В результате сокращения получим выражение\n",
    "\n",
    "\n",
    "$$\n",
    "a' = X E (X^T X) ^{-1} E X^T y = X(X^TX)^{-1}XTy\n",
    "$$\n",
    "\n",
    "Т.к. $a = X(X^T X)^{-1} X^T y$ можно утверждать что $a' = a$ а $w' = w$"
   ]
  },
  {
   "cell_type": "markdown",
   "metadata": {},
   "source": [
    "## Алгоритм преобразования"
   ]
  },
  {
   "cell_type": "markdown",
   "metadata": {},
   "source": [
    "Алгоритм\n",
    "\n",
    "\n",
    "создаем обратнкю матрицу\n",
    "\n",
    "Обучаем моделль без преобразования\n",
    "\n",
    "получаем метрики R2 на модели без преобразования\n",
    "\n",
    "Умножаем обратной матрицы на матрицу признаков\n",
    "\n",
    "обучаем модель на преобразованых данных\n",
    "\n",
    "получаем мерики R2 на преобразованых данных\n",
    "\n",
    "сравниваем  метрики на преобразованых данных и на непреобразованых данных"
   ]
  },
  {
   "cell_type": "markdown",
   "metadata": {},
   "source": [
    "**Обоснование**\n",
    "\n",
    "если разница r2 метрик небольшая то алгоритм защиты персональных данных путём умножения признаков на обратимую матрицу можно использовать."
   ]
  },
  {
   "cell_type": "markdown",
   "metadata": {},
   "source": [
    "## Проверка алгоритма"
   ]
  },
  {
   "cell_type": "markdown",
   "metadata": {},
   "source": [
    "делаем случайную обратимую матрицу.Используем np.linalg.inv\n",
    "видим что матрица обратима\n",
    "Умножаем матрицу признаков на новую обратимую матрицу\n",
    "учим модель на разных выборках и на предсказаниях \n",
    "проверяем насколько похожи на исходных признаках и умноженнная на обратимую матрицу"
   ]
  },
  {
   "cell_type": "code",
   "execution_count": 6,
   "metadata": {},
   "outputs": [],
   "source": [
    "features = insurance.drop('Страховые выплаты', axis=1).values\n",
    "target = insurance['Страховые выплаты'].values\n",
    "\n",
    "\n",
    "\n"
   ]
  },
  {
   "cell_type": "code",
   "execution_count": 7,
   "metadata": {},
   "outputs": [
    {
     "data": {
      "text/plain": [
       "((5000, 4), (5000, 4))"
      ]
     },
     "execution_count": 7,
     "metadata": {},
     "output_type": "execute_result"
    }
   ],
   "source": [
    "#Используем np.linalg.inv чтобы убедиться что матрица обратима + случайная матрица\n",
    "P = np.random.normal(loc =0, scale =1, size=(features.shape[1], features.shape[1]))\n",
    "np.linalg.inv(P)\n",
    "FP = features @ P\n",
    "features.shape, FP.shape#Проверяем размер\n",
    "#если матрица необратима, будет обнаружена ошибка.\n"
   ]
  },
  {
   "cell_type": "code",
   "execution_count": 8,
   "metadata": {},
   "outputs": [],
   "source": [
    "f_train, f_test, t_train, t_test = train_test_split(features, target, test_size=0.2, random_state=12345)\n",
    "FP_train, FP_test, t_train, t_test = train_test_split(FP, target, test_size=0.2, random_state=12345)\n",
    "model = LinearRegression()\n",
    "\n",
    "model.fit(f_train, t_train)\n",
    "predict = model.predict(f_test)\n",
    "\n",
    "model.fit(FP_train, t_train)\n",
    "inv_predict = model.predict(FP_test)"
   ]
  },
  {
   "cell_type": "code",
   "execution_count": 9,
   "metadata": {},
   "outputs": [
    {
     "name": "stdout",
     "output_type": "stream",
     "text": [
      "R2_score на исходных признаках: 0.4117683938910953\n"
     ]
    }
   ],
   "source": [
    "\n",
    "print(f'R2_score на исходных признаках: {r2_score(t_test, predict)}')"
   ]
  },
  {
   "cell_type": "code",
   "execution_count": 10,
   "metadata": {},
   "outputs": [
    {
     "name": "stdout",
     "output_type": "stream",
     "text": [
      "R2_score на обратимую матрицу: 0.41176839389087405\n"
     ]
    }
   ],
   "source": [
    "\n",
    "print(f'R2_score на обратимую матрицу: {r2_score(t_test, inv_predict)}')"
   ]
  },
  {
   "cell_type": "markdown",
   "metadata": {},
   "source": [
    " Вывод:"
   ]
  },
  {
   "cell_type": "markdown",
   "metadata": {},
   "source": [
    "\n",
    "Показатели R2 у предсказаний модели, обученной на исходных признаках и у модели, обученной на признаках, полученных после умножения на обратимую матрицу практически идентичны. Соответственно алгоритм защиты персональных данных путём умножения признаков на обратимую матрицу можно использовать."
   ]
  }
 ],
 "metadata": {
  "ExecuteTimeLog": [
   {
    "duration": 1136,
    "start_time": "2022-12-28T16:53:52.308Z"
   },
   {
    "duration": 99,
    "start_time": "2022-12-28T16:53:53.446Z"
   },
   {
    "duration": 76,
    "start_time": "2022-12-28T16:55:59.060Z"
   },
   {
    "duration": 3,
    "start_time": "2022-12-28T16:56:15.628Z"
   },
   {
    "duration": 28,
    "start_time": "2022-12-28T16:56:15.971Z"
   },
   {
    "duration": 15,
    "start_time": "2022-12-28T16:56:28.995Z"
   },
   {
    "duration": 8,
    "start_time": "2022-12-28T16:56:49.226Z"
   },
   {
    "duration": 9,
    "start_time": "2022-12-28T16:57:31.570Z"
   },
   {
    "duration": 9,
    "start_time": "2022-12-28T16:57:50.603Z"
   },
   {
    "duration": 9,
    "start_time": "2022-12-28T16:58:06.146Z"
   },
   {
    "duration": 7,
    "start_time": "2022-12-28T16:58:25.427Z"
   },
   {
    "duration": 9,
    "start_time": "2022-12-28T16:58:48.564Z"
   },
   {
    "duration": 45,
    "start_time": "2022-12-28T16:59:27.052Z"
   },
   {
    "duration": 14,
    "start_time": "2022-12-28T16:59:32.446Z"
   },
   {
    "duration": 5,
    "start_time": "2022-12-28T17:00:20.879Z"
   },
   {
    "duration": 6,
    "start_time": "2022-12-28T17:00:31.612Z"
   },
   {
    "duration": 22,
    "start_time": "2022-12-28T17:01:28.082Z"
   },
   {
    "duration": 40,
    "start_time": "2022-12-28T17:02:03.341Z"
   },
   {
    "duration": 40,
    "start_time": "2022-12-28T17:02:24.061Z"
   },
   {
    "duration": 45,
    "start_time": "2022-12-28T17:03:28.357Z"
   },
   {
    "duration": 4,
    "start_time": "2022-12-28T17:03:37.829Z"
   },
   {
    "duration": 48,
    "start_time": "2022-12-28T17:04:23.926Z"
   },
   {
    "duration": 55,
    "start_time": "2022-12-28T17:04:47.406Z"
   },
   {
    "duration": 5,
    "start_time": "2022-12-28T17:05:31.285Z"
   },
   {
    "duration": 13,
    "start_time": "2022-12-28T17:07:18.687Z"
   },
   {
    "duration": 60,
    "start_time": "2022-12-28T17:26:05.853Z"
   },
   {
    "duration": 7,
    "start_time": "2022-12-28T17:32:28.844Z"
   },
   {
    "duration": 9,
    "start_time": "2022-12-28T17:32:29.334Z"
   },
   {
    "duration": 7,
    "start_time": "2022-12-28T17:33:09.613Z"
   },
   {
    "duration": 7,
    "start_time": "2022-12-28T17:33:09.806Z"
   },
   {
    "duration": 15,
    "start_time": "2022-12-28T17:41:02.161Z"
   },
   {
    "duration": 1152,
    "start_time": "2022-12-28T17:42:07.893Z"
   },
   {
    "duration": 29,
    "start_time": "2022-12-28T17:42:09.048Z"
   },
   {
    "duration": 85,
    "start_time": "2022-12-28T17:42:09.078Z"
   },
   {
    "duration": 9,
    "start_time": "2022-12-28T17:42:09.166Z"
   },
   {
    "duration": 16,
    "start_time": "2022-12-28T17:42:09.177Z"
   },
   {
    "duration": 145,
    "start_time": "2022-12-28T17:42:09.195Z"
   },
   {
    "duration": 12,
    "start_time": "2022-12-28T17:43:48.681Z"
   },
   {
    "duration": 6,
    "start_time": "2022-12-28T17:44:17.548Z"
   },
   {
    "duration": 6,
    "start_time": "2022-12-28T17:44:49.137Z"
   },
   {
    "duration": 10,
    "start_time": "2022-12-28T17:45:14.101Z"
   },
   {
    "duration": 14,
    "start_time": "2022-12-28T17:48:39.058Z"
   },
   {
    "duration": 8,
    "start_time": "2022-12-28T17:49:42.242Z"
   },
   {
    "duration": 9,
    "start_time": "2022-12-28T17:50:46.356Z"
   },
   {
    "duration": 7,
    "start_time": "2022-12-28T17:50:47.011Z"
   },
   {
    "duration": 13,
    "start_time": "2022-12-28T17:51:59.845Z"
   },
   {
    "duration": 6,
    "start_time": "2022-12-28T17:52:00.219Z"
   },
   {
    "duration": 5,
    "start_time": "2022-12-28T17:52:00.707Z"
   },
   {
    "duration": 6,
    "start_time": "2022-12-28T17:53:03.881Z"
   },
   {
    "duration": 6,
    "start_time": "2022-12-28T17:53:28.584Z"
   },
   {
    "duration": 5,
    "start_time": "2022-12-28T17:53:41.658Z"
   },
   {
    "duration": 5,
    "start_time": "2022-12-28T17:53:56.372Z"
   },
   {
    "duration": 13,
    "start_time": "2022-12-28T18:01:55.040Z"
   },
   {
    "duration": 4,
    "start_time": "2022-12-28T18:01:55.782Z"
   },
   {
    "duration": 4,
    "start_time": "2022-12-28T18:01:56.326Z"
   },
   {
    "duration": 14,
    "start_time": "2022-12-28T18:02:26.486Z"
   },
   {
    "duration": 4,
    "start_time": "2022-12-28T18:02:26.823Z"
   },
   {
    "duration": 4,
    "start_time": "2022-12-28T18:02:27.661Z"
   },
   {
    "duration": 45,
    "start_time": "2022-12-28T18:04:54.647Z"
   },
   {
    "duration": 1141,
    "start_time": "2022-12-28T18:39:03.252Z"
   },
   {
    "duration": 30,
    "start_time": "2022-12-28T18:39:04.395Z"
   },
   {
    "duration": 64,
    "start_time": "2022-12-28T18:39:04.426Z"
   },
   {
    "duration": 7,
    "start_time": "2022-12-28T18:39:04.492Z"
   },
   {
    "duration": 12,
    "start_time": "2022-12-28T18:39:04.534Z"
   },
   {
    "duration": 24,
    "start_time": "2022-12-28T18:39:04.547Z"
   },
   {
    "duration": 64,
    "start_time": "2022-12-28T18:39:04.573Z"
   },
   {
    "duration": 96,
    "start_time": "2022-12-28T18:39:04.639Z"
   },
   {
    "duration": 999,
    "start_time": "2022-12-29T11:30:38.539Z"
   },
   {
    "duration": 90,
    "start_time": "2022-12-29T11:30:39.540Z"
   },
   {
    "duration": 52,
    "start_time": "2022-12-29T11:30:39.631Z"
   },
   {
    "duration": 17,
    "start_time": "2022-12-29T11:30:39.685Z"
   },
   {
    "duration": 42,
    "start_time": "2022-12-29T11:30:39.704Z"
   },
   {
    "duration": 35,
    "start_time": "2022-12-29T11:30:39.747Z"
   },
   {
    "duration": 38,
    "start_time": "2022-12-29T11:30:39.783Z"
   },
   {
    "duration": 59,
    "start_time": "2022-12-29T11:30:39.823Z"
   },
   {
    "duration": 95,
    "start_time": "2022-12-29T11:30:39.884Z"
   },
   {
    "duration": 6,
    "start_time": "2022-12-29T11:30:39.981Z"
   },
   {
    "duration": 82,
    "start_time": "2022-12-29T11:34:34.963Z"
   },
   {
    "duration": 4,
    "start_time": "2022-12-29T11:36:09.191Z"
   },
   {
    "duration": 5,
    "start_time": "2022-12-29T11:36:09.944Z"
   },
   {
    "duration": 1048,
    "start_time": "2022-12-29T11:36:17.309Z"
   },
   {
    "duration": 30,
    "start_time": "2022-12-29T11:36:18.359Z"
   },
   {
    "duration": 58,
    "start_time": "2022-12-29T11:36:18.391Z"
   },
   {
    "duration": 27,
    "start_time": "2022-12-29T11:36:18.451Z"
   },
   {
    "duration": 7,
    "start_time": "2022-12-29T11:36:18.480Z"
   },
   {
    "duration": 17,
    "start_time": "2022-12-29T11:36:18.488Z"
   },
   {
    "duration": 8,
    "start_time": "2022-12-29T11:36:18.507Z"
   },
   {
    "duration": 64,
    "start_time": "2022-12-29T11:36:18.517Z"
   },
   {
    "duration": 4,
    "start_time": "2022-12-29T11:36:18.583Z"
   },
   {
    "duration": 90,
    "start_time": "2022-12-29T11:36:18.589Z"
   },
   {
    "duration": 1040,
    "start_time": "2022-12-29T11:48:12.914Z"
   },
   {
    "duration": 31,
    "start_time": "2022-12-29T11:48:13.957Z"
   },
   {
    "duration": 69,
    "start_time": "2022-12-29T11:48:13.990Z"
   },
   {
    "duration": 8,
    "start_time": "2022-12-29T11:48:14.079Z"
   },
   {
    "duration": 13,
    "start_time": "2022-12-29T11:48:14.089Z"
   },
   {
    "duration": 16,
    "start_time": "2022-12-29T11:48:14.104Z"
   },
   {
    "duration": 14,
    "start_time": "2022-12-29T11:48:14.122Z"
   },
   {
    "duration": 56,
    "start_time": "2022-12-29T11:48:14.137Z"
   },
   {
    "duration": 84,
    "start_time": "2022-12-29T11:48:14.195Z"
   },
   {
    "duration": 12,
    "start_time": "2022-12-29T11:48:14.281Z"
   },
   {
    "duration": 1078,
    "start_time": "2022-12-29T11:50:51.713Z"
   },
   {
    "duration": 29,
    "start_time": "2022-12-29T11:50:52.793Z"
   },
   {
    "duration": 62,
    "start_time": "2022-12-29T11:50:52.824Z"
   },
   {
    "duration": 4,
    "start_time": "2022-12-29T11:50:52.888Z"
   },
   {
    "duration": 11,
    "start_time": "2022-12-29T11:50:52.893Z"
   },
   {
    "duration": 7,
    "start_time": "2022-12-29T11:50:52.905Z"
   },
   {
    "duration": 14,
    "start_time": "2022-12-29T11:50:52.913Z"
   },
   {
    "duration": 151,
    "start_time": "2022-12-29T11:50:52.929Z"
   },
   {
    "duration": 9,
    "start_time": "2022-12-29T11:50:53.082Z"
   },
   {
    "duration": 11,
    "start_time": "2022-12-29T11:50:53.093Z"
   },
   {
    "duration": 1040,
    "start_time": "2022-12-29T11:52:36.109Z"
   },
   {
    "duration": 33,
    "start_time": "2022-12-29T11:52:37.151Z"
   },
   {
    "duration": 60,
    "start_time": "2022-12-29T11:52:37.185Z"
   },
   {
    "duration": 32,
    "start_time": "2022-12-29T11:52:37.247Z"
   },
   {
    "duration": 16,
    "start_time": "2022-12-29T11:52:37.281Z"
   },
   {
    "duration": 9,
    "start_time": "2022-12-29T11:52:37.298Z"
   },
   {
    "duration": 11,
    "start_time": "2022-12-29T11:52:37.308Z"
   },
   {
    "duration": 60,
    "start_time": "2022-12-29T11:52:37.321Z"
   },
   {
    "duration": 18,
    "start_time": "2022-12-29T11:52:37.383Z"
   },
   {
    "duration": 5,
    "start_time": "2022-12-29T11:52:37.477Z"
   },
   {
    "duration": 1053,
    "start_time": "2022-12-29T11:57:01.427Z"
   },
   {
    "duration": 85,
    "start_time": "2022-12-29T11:57:02.481Z"
   },
   {
    "duration": 66,
    "start_time": "2022-12-29T11:57:02.567Z"
   },
   {
    "duration": 4,
    "start_time": "2022-12-29T11:57:02.635Z"
   },
   {
    "duration": 41,
    "start_time": "2022-12-29T11:57:02.641Z"
   },
   {
    "duration": 23,
    "start_time": "2022-12-29T11:57:02.684Z"
   },
   {
    "duration": 47,
    "start_time": "2022-12-29T11:57:02.709Z"
   },
   {
    "duration": 126,
    "start_time": "2022-12-29T11:57:02.757Z"
   },
   {
    "duration": 47,
    "start_time": "2022-12-29T11:57:02.885Z"
   },
   {
    "duration": 23,
    "start_time": "2022-12-29T11:57:02.935Z"
   },
   {
    "duration": 1093,
    "start_time": "2022-12-29T12:48:57.939Z"
   },
   {
    "duration": 31,
    "start_time": "2022-12-29T12:48:59.034Z"
   },
   {
    "duration": 63,
    "start_time": "2022-12-29T12:48:59.067Z"
   },
   {
    "duration": 5,
    "start_time": "2022-12-29T12:48:59.132Z"
   },
   {
    "duration": 40,
    "start_time": "2022-12-29T12:48:59.139Z"
   },
   {
    "duration": 28,
    "start_time": "2022-12-29T12:48:59.181Z"
   },
   {
    "duration": 29,
    "start_time": "2022-12-29T12:48:59.211Z"
   },
   {
    "duration": 41,
    "start_time": "2022-12-29T12:48:59.243Z"
   },
   {
    "duration": 93,
    "start_time": "2022-12-29T12:48:59.286Z"
   },
   {
    "duration": 18,
    "start_time": "2022-12-29T12:48:59.381Z"
   },
   {
    "duration": 1717,
    "start_time": "2022-12-29T18:27:55.277Z"
   },
   {
    "duration": 118,
    "start_time": "2022-12-29T18:27:56.996Z"
   },
   {
    "duration": 63,
    "start_time": "2022-12-29T18:27:57.116Z"
   },
   {
    "duration": 5,
    "start_time": "2022-12-29T18:27:57.181Z"
   },
   {
    "duration": 14,
    "start_time": "2022-12-29T18:27:57.226Z"
   },
   {
    "duration": 11,
    "start_time": "2022-12-29T18:27:57.242Z"
   },
   {
    "duration": 8,
    "start_time": "2022-12-29T18:27:57.254Z"
   },
   {
    "duration": 75,
    "start_time": "2022-12-29T18:27:57.263Z"
   },
   {
    "duration": 85,
    "start_time": "2022-12-29T18:27:57.339Z"
   },
   {
    "duration": 19,
    "start_time": "2022-12-29T18:27:57.426Z"
   }
  ],
  "kernelspec": {
   "display_name": "Python 3 (ipykernel)",
   "language": "python",
   "name": "python3"
  },
  "language_info": {
   "codemirror_mode": {
    "name": "ipython",
    "version": 3
   },
   "file_extension": ".py",
   "mimetype": "text/x-python",
   "name": "python",
   "nbconvert_exporter": "python",
   "pygments_lexer": "ipython3",
   "version": "3.9.12"
  },
  "toc": {
   "base_numbering": 1,
   "nav_menu": {},
   "number_sections": true,
   "sideBar": true,
   "skip_h1_title": true,
   "title_cell": "Содержание",
   "title_sidebar": "Contents",
   "toc_cell": true,
   "toc_position": {},
   "toc_section_display": true,
   "toc_window_display": true
  }
 },
 "nbformat": 4,
 "nbformat_minor": 2
}
