{
 "cells": [
  {
   "cell_type": "markdown",
   "metadata": {},
   "source": [
    "# Определение стоимости автомобилей"
   ]
  },
  {
   "cell_type": "markdown",
   "metadata": {},
   "source": [
    "Сервис по продаже автомобилей с пробегом «Не бит, не крашен» разрабатывает приложение для привлечения новых клиентов. В нём можно быстро узнать рыночную стоимость своего автомобиля. В вашем распоряжении исторические данные: технические характеристики, комплектации и цены автомобилей. Вам нужно построить модель для определения стоимости. \n",
    "\n",
    "Заказчику важны:\n",
    "\n",
    "- качество предсказания;\n",
    "- скорость предсказания;\n",
    "- время обучения."
   ]
  },
  {
   "cell_type": "markdown",
   "metadata": {},
   "source": [
    "## Подготовка данных"
   ]
  },
  {
   "cell_type": "code",
   "execution_count": 1,
   "metadata": {},
   "outputs": [],
   "source": [
    "import pandas as pd\n",
    "import matplotlib.pyplot as plt\n",
    "import seaborn as sns\n",
    "import numpy as np\n",
    "import warnings\n",
    "import ipywidgets\n",
    "import time\n",
    "import copy\n",
    "\n",
    "from sklearn.metrics import mean_squared_error\n",
    "from sklearn.model_selection import train_test_split, cross_val_score, GridSearchCV, KFold\n",
    "from sklearn.preprocessing import  OneHotEncoder,OrdinalEncoder,StandardScaler\n",
    "from sklearn.linear_model import LinearRegression\n",
    "\n",
    "from catboost import CatBoostRegressor\n",
    "from lightgbm import LGBMRegressor\n",
    "\n",
    "\n"
   ]
  },
  {
   "cell_type": "code",
   "execution_count": 2,
   "metadata": {},
   "outputs": [],
   "source": [
    "warnings.filterwarnings('ignore')"
   ]
  },
  {
   "cell_type": "code",
   "execution_count": 3,
   "metadata": {},
   "outputs": [],
   "source": [
    "try:\n",
    "    cars = pd.read_csv('/datasets/autos.csv')\n",
    "except:\n",
    "    cars  = pd.read_csv('https://code.s3.yandex.net/datasets/autos.csv')"
   ]
  },
  {
   "cell_type": "code",
   "execution_count": 4,
   "metadata": {
    "scrolled": true
   },
   "outputs": [
    {
     "name": "stdout",
     "output_type": "stream",
     "text": [
      "4\n",
      "0\n"
     ]
    }
   ],
   "source": [
    "print(cars.duplicated().sum())\n",
    "cars = cars.drop_duplicates().reset_index(drop=True)\n",
    "print(cars.duplicated().sum())"
   ]
  },
  {
   "cell_type": "markdown",
   "metadata": {},
   "source": [
    "прочитали датасет удалили дубликаты "
   ]
  },
  {
   "cell_type": "code",
   "execution_count": 5,
   "metadata": {},
   "outputs": [
    {
     "name": "stdout",
     "output_type": "stream",
     "text": [
      "<class 'pandas.core.frame.DataFrame'>\n",
      "RangeIndex: 354365 entries, 0 to 354364\n",
      "Data columns (total 16 columns):\n",
      " #   Column             Non-Null Count   Dtype \n",
      "---  ------             --------------   ----- \n",
      " 0   DateCrawled        354365 non-null  object\n",
      " 1   Price              354365 non-null  int64 \n",
      " 2   VehicleType        316875 non-null  object\n",
      " 3   RegistrationYear   354365 non-null  int64 \n",
      " 4   Gearbox            334532 non-null  object\n",
      " 5   Power              354365 non-null  int64 \n",
      " 6   Model              334660 non-null  object\n",
      " 7   Kilometer          354365 non-null  int64 \n",
      " 8   RegistrationMonth  354365 non-null  int64 \n",
      " 9   FuelType           321470 non-null  object\n",
      " 10  Brand              354365 non-null  object\n",
      " 11  Repaired           283211 non-null  object\n",
      " 12  DateCreated        354365 non-null  object\n",
      " 13  NumberOfPictures   354365 non-null  int64 \n",
      " 14  PostalCode         354365 non-null  int64 \n",
      " 15  LastSeen           354365 non-null  object\n",
      "dtypes: int64(7), object(9)\n",
      "memory usage: 43.3+ MB\n"
     ]
    },
    {
     "data": {
      "text/plain": [
       "None"
      ]
     },
     "metadata": {},
     "output_type": "display_data"
    }
   ],
   "source": [
    "display(cars.info())"
   ]
  },
  {
   "cell_type": "code",
   "execution_count": 6,
   "metadata": {},
   "outputs": [
    {
     "data": {
      "text/html": [
       "<div>\n",
       "<style scoped>\n",
       "    .dataframe tbody tr th:only-of-type {\n",
       "        vertical-align: middle;\n",
       "    }\n",
       "\n",
       "    .dataframe tbody tr th {\n",
       "        vertical-align: top;\n",
       "    }\n",
       "\n",
       "    .dataframe thead th {\n",
       "        text-align: right;\n",
       "    }\n",
       "</style>\n",
       "<table border=\"1\" class=\"dataframe\">\n",
       "  <thead>\n",
       "    <tr style=\"text-align: right;\">\n",
       "      <th></th>\n",
       "      <th>DateCrawled</th>\n",
       "      <th>Price</th>\n",
       "      <th>VehicleType</th>\n",
       "      <th>RegistrationYear</th>\n",
       "      <th>Gearbox</th>\n",
       "      <th>Power</th>\n",
       "      <th>Model</th>\n",
       "      <th>Kilometer</th>\n",
       "      <th>RegistrationMonth</th>\n",
       "      <th>FuelType</th>\n",
       "      <th>Brand</th>\n",
       "      <th>Repaired</th>\n",
       "      <th>DateCreated</th>\n",
       "      <th>NumberOfPictures</th>\n",
       "      <th>PostalCode</th>\n",
       "      <th>LastSeen</th>\n",
       "    </tr>\n",
       "  </thead>\n",
       "  <tbody>\n",
       "    <tr>\n",
       "      <th>0</th>\n",
       "      <td>2016-03-24 11:52:17</td>\n",
       "      <td>480</td>\n",
       "      <td>NaN</td>\n",
       "      <td>1993</td>\n",
       "      <td>manual</td>\n",
       "      <td>0</td>\n",
       "      <td>golf</td>\n",
       "      <td>150000</td>\n",
       "      <td>0</td>\n",
       "      <td>petrol</td>\n",
       "      <td>volkswagen</td>\n",
       "      <td>NaN</td>\n",
       "      <td>2016-03-24 00:00:00</td>\n",
       "      <td>0</td>\n",
       "      <td>70435</td>\n",
       "      <td>2016-04-07 03:16:57</td>\n",
       "    </tr>\n",
       "    <tr>\n",
       "      <th>1</th>\n",
       "      <td>2016-03-24 10:58:45</td>\n",
       "      <td>18300</td>\n",
       "      <td>coupe</td>\n",
       "      <td>2011</td>\n",
       "      <td>manual</td>\n",
       "      <td>190</td>\n",
       "      <td>NaN</td>\n",
       "      <td>125000</td>\n",
       "      <td>5</td>\n",
       "      <td>gasoline</td>\n",
       "      <td>audi</td>\n",
       "      <td>yes</td>\n",
       "      <td>2016-03-24 00:00:00</td>\n",
       "      <td>0</td>\n",
       "      <td>66954</td>\n",
       "      <td>2016-04-07 01:46:50</td>\n",
       "    </tr>\n",
       "    <tr>\n",
       "      <th>2</th>\n",
       "      <td>2016-03-14 12:52:21</td>\n",
       "      <td>9800</td>\n",
       "      <td>suv</td>\n",
       "      <td>2004</td>\n",
       "      <td>auto</td>\n",
       "      <td>163</td>\n",
       "      <td>grand</td>\n",
       "      <td>125000</td>\n",
       "      <td>8</td>\n",
       "      <td>gasoline</td>\n",
       "      <td>jeep</td>\n",
       "      <td>NaN</td>\n",
       "      <td>2016-03-14 00:00:00</td>\n",
       "      <td>0</td>\n",
       "      <td>90480</td>\n",
       "      <td>2016-04-05 12:47:46</td>\n",
       "    </tr>\n",
       "    <tr>\n",
       "      <th>3</th>\n",
       "      <td>2016-03-17 16:54:04</td>\n",
       "      <td>1500</td>\n",
       "      <td>small</td>\n",
       "      <td>2001</td>\n",
       "      <td>manual</td>\n",
       "      <td>75</td>\n",
       "      <td>golf</td>\n",
       "      <td>150000</td>\n",
       "      <td>6</td>\n",
       "      <td>petrol</td>\n",
       "      <td>volkswagen</td>\n",
       "      <td>no</td>\n",
       "      <td>2016-03-17 00:00:00</td>\n",
       "      <td>0</td>\n",
       "      <td>91074</td>\n",
       "      <td>2016-03-17 17:40:17</td>\n",
       "    </tr>\n",
       "    <tr>\n",
       "      <th>4</th>\n",
       "      <td>2016-03-31 17:25:20</td>\n",
       "      <td>3600</td>\n",
       "      <td>small</td>\n",
       "      <td>2008</td>\n",
       "      <td>manual</td>\n",
       "      <td>69</td>\n",
       "      <td>fabia</td>\n",
       "      <td>90000</td>\n",
       "      <td>7</td>\n",
       "      <td>gasoline</td>\n",
       "      <td>skoda</td>\n",
       "      <td>no</td>\n",
       "      <td>2016-03-31 00:00:00</td>\n",
       "      <td>0</td>\n",
       "      <td>60437</td>\n",
       "      <td>2016-04-06 10:17:21</td>\n",
       "    </tr>\n",
       "    <tr>\n",
       "      <th>5</th>\n",
       "      <td>2016-04-04 17:36:23</td>\n",
       "      <td>650</td>\n",
       "      <td>sedan</td>\n",
       "      <td>1995</td>\n",
       "      <td>manual</td>\n",
       "      <td>102</td>\n",
       "      <td>3er</td>\n",
       "      <td>150000</td>\n",
       "      <td>10</td>\n",
       "      <td>petrol</td>\n",
       "      <td>bmw</td>\n",
       "      <td>yes</td>\n",
       "      <td>2016-04-04 00:00:00</td>\n",
       "      <td>0</td>\n",
       "      <td>33775</td>\n",
       "      <td>2016-04-06 19:17:07</td>\n",
       "    </tr>\n",
       "    <tr>\n",
       "      <th>6</th>\n",
       "      <td>2016-04-01 20:48:51</td>\n",
       "      <td>2200</td>\n",
       "      <td>convertible</td>\n",
       "      <td>2004</td>\n",
       "      <td>manual</td>\n",
       "      <td>109</td>\n",
       "      <td>2_reihe</td>\n",
       "      <td>150000</td>\n",
       "      <td>8</td>\n",
       "      <td>petrol</td>\n",
       "      <td>peugeot</td>\n",
       "      <td>no</td>\n",
       "      <td>2016-04-01 00:00:00</td>\n",
       "      <td>0</td>\n",
       "      <td>67112</td>\n",
       "      <td>2016-04-05 18:18:39</td>\n",
       "    </tr>\n",
       "    <tr>\n",
       "      <th>7</th>\n",
       "      <td>2016-03-21 18:54:38</td>\n",
       "      <td>0</td>\n",
       "      <td>sedan</td>\n",
       "      <td>1980</td>\n",
       "      <td>manual</td>\n",
       "      <td>50</td>\n",
       "      <td>other</td>\n",
       "      <td>40000</td>\n",
       "      <td>7</td>\n",
       "      <td>petrol</td>\n",
       "      <td>volkswagen</td>\n",
       "      <td>no</td>\n",
       "      <td>2016-03-21 00:00:00</td>\n",
       "      <td>0</td>\n",
       "      <td>19348</td>\n",
       "      <td>2016-03-25 16:47:58</td>\n",
       "    </tr>\n",
       "    <tr>\n",
       "      <th>8</th>\n",
       "      <td>2016-04-04 23:42:13</td>\n",
       "      <td>14500</td>\n",
       "      <td>bus</td>\n",
       "      <td>2014</td>\n",
       "      <td>manual</td>\n",
       "      <td>125</td>\n",
       "      <td>c_max</td>\n",
       "      <td>30000</td>\n",
       "      <td>8</td>\n",
       "      <td>petrol</td>\n",
       "      <td>ford</td>\n",
       "      <td>NaN</td>\n",
       "      <td>2016-04-04 00:00:00</td>\n",
       "      <td>0</td>\n",
       "      <td>94505</td>\n",
       "      <td>2016-04-04 23:42:13</td>\n",
       "    </tr>\n",
       "    <tr>\n",
       "      <th>9</th>\n",
       "      <td>2016-03-17 10:53:50</td>\n",
       "      <td>999</td>\n",
       "      <td>small</td>\n",
       "      <td>1998</td>\n",
       "      <td>manual</td>\n",
       "      <td>101</td>\n",
       "      <td>golf</td>\n",
       "      <td>150000</td>\n",
       "      <td>0</td>\n",
       "      <td>NaN</td>\n",
       "      <td>volkswagen</td>\n",
       "      <td>NaN</td>\n",
       "      <td>2016-03-17 00:00:00</td>\n",
       "      <td>0</td>\n",
       "      <td>27472</td>\n",
       "      <td>2016-03-31 17:17:06</td>\n",
       "    </tr>\n",
       "  </tbody>\n",
       "</table>\n",
       "</div>"
      ],
      "text/plain": [
       "           DateCrawled  Price  VehicleType  RegistrationYear Gearbox  Power  \\\n",
       "0  2016-03-24 11:52:17    480          NaN              1993  manual      0   \n",
       "1  2016-03-24 10:58:45  18300        coupe              2011  manual    190   \n",
       "2  2016-03-14 12:52:21   9800          suv              2004    auto    163   \n",
       "3  2016-03-17 16:54:04   1500        small              2001  manual     75   \n",
       "4  2016-03-31 17:25:20   3600        small              2008  manual     69   \n",
       "5  2016-04-04 17:36:23    650        sedan              1995  manual    102   \n",
       "6  2016-04-01 20:48:51   2200  convertible              2004  manual    109   \n",
       "7  2016-03-21 18:54:38      0        sedan              1980  manual     50   \n",
       "8  2016-04-04 23:42:13  14500          bus              2014  manual    125   \n",
       "9  2016-03-17 10:53:50    999        small              1998  manual    101   \n",
       "\n",
       "     Model  Kilometer  RegistrationMonth  FuelType       Brand Repaired  \\\n",
       "0     golf     150000                  0    petrol  volkswagen      NaN   \n",
       "1      NaN     125000                  5  gasoline        audi      yes   \n",
       "2    grand     125000                  8  gasoline        jeep      NaN   \n",
       "3     golf     150000                  6    petrol  volkswagen       no   \n",
       "4    fabia      90000                  7  gasoline       skoda       no   \n",
       "5      3er     150000                 10    petrol         bmw      yes   \n",
       "6  2_reihe     150000                  8    petrol     peugeot       no   \n",
       "7    other      40000                  7    petrol  volkswagen       no   \n",
       "8    c_max      30000                  8    petrol        ford      NaN   \n",
       "9     golf     150000                  0       NaN  volkswagen      NaN   \n",
       "\n",
       "           DateCreated  NumberOfPictures  PostalCode             LastSeen  \n",
       "0  2016-03-24 00:00:00                 0       70435  2016-04-07 03:16:57  \n",
       "1  2016-03-24 00:00:00                 0       66954  2016-04-07 01:46:50  \n",
       "2  2016-03-14 00:00:00                 0       90480  2016-04-05 12:47:46  \n",
       "3  2016-03-17 00:00:00                 0       91074  2016-03-17 17:40:17  \n",
       "4  2016-03-31 00:00:00                 0       60437  2016-04-06 10:17:21  \n",
       "5  2016-04-04 00:00:00                 0       33775  2016-04-06 19:17:07  \n",
       "6  2016-04-01 00:00:00                 0       67112  2016-04-05 18:18:39  \n",
       "7  2016-03-21 00:00:00                 0       19348  2016-03-25 16:47:58  \n",
       "8  2016-04-04 00:00:00                 0       94505  2016-04-04 23:42:13  \n",
       "9  2016-03-17 00:00:00                 0       27472  2016-03-31 17:17:06  "
      ]
     },
     "execution_count": 6,
     "metadata": {},
     "output_type": "execute_result"
    }
   ],
   "source": [
    "cars.head(10)"
   ]
  },
  {
   "cell_type": "markdown",
   "metadata": {},
   "source": [
    "сразу удалим данные которые не повлияют на цену автомобилья"
   ]
  },
  {
   "cell_type": "code",
   "execution_count": 7,
   "metadata": {},
   "outputs": [],
   "source": [
    "\n",
    "\n",
    "cars = cars.drop(['DateCrawled', 'RegistrationMonth', 'DateCreated', 'NumberOfPictures', 'PostalCode', 'LastSeen'], axis='columns')\n"
   ]
  },
  {
   "cell_type": "code",
   "execution_count": 8,
   "metadata": {
    "scrolled": true
   },
   "outputs": [
    {
     "data": {
      "text/html": [
       "<div>\n",
       "<style scoped>\n",
       "    .dataframe tbody tr th:only-of-type {\n",
       "        vertical-align: middle;\n",
       "    }\n",
       "\n",
       "    .dataframe tbody tr th {\n",
       "        vertical-align: top;\n",
       "    }\n",
       "\n",
       "    .dataframe thead th {\n",
       "        text-align: right;\n",
       "    }\n",
       "</style>\n",
       "<table border=\"1\" class=\"dataframe\">\n",
       "  <thead>\n",
       "    <tr style=\"text-align: right;\">\n",
       "      <th></th>\n",
       "      <th>Price</th>\n",
       "      <th>VehicleType</th>\n",
       "      <th>RegistrationYear</th>\n",
       "      <th>Gearbox</th>\n",
       "      <th>Power</th>\n",
       "      <th>Model</th>\n",
       "      <th>Kilometer</th>\n",
       "      <th>FuelType</th>\n",
       "      <th>Brand</th>\n",
       "      <th>Repaired</th>\n",
       "    </tr>\n",
       "  </thead>\n",
       "  <tbody>\n",
       "    <tr>\n",
       "      <th>0</th>\n",
       "      <td>480</td>\n",
       "      <td>NaN</td>\n",
       "      <td>1993</td>\n",
       "      <td>manual</td>\n",
       "      <td>0</td>\n",
       "      <td>golf</td>\n",
       "      <td>150000</td>\n",
       "      <td>petrol</td>\n",
       "      <td>volkswagen</td>\n",
       "      <td>NaN</td>\n",
       "    </tr>\n",
       "    <tr>\n",
       "      <th>1</th>\n",
       "      <td>18300</td>\n",
       "      <td>coupe</td>\n",
       "      <td>2011</td>\n",
       "      <td>manual</td>\n",
       "      <td>190</td>\n",
       "      <td>NaN</td>\n",
       "      <td>125000</td>\n",
       "      <td>gasoline</td>\n",
       "      <td>audi</td>\n",
       "      <td>yes</td>\n",
       "    </tr>\n",
       "    <tr>\n",
       "      <th>2</th>\n",
       "      <td>9800</td>\n",
       "      <td>suv</td>\n",
       "      <td>2004</td>\n",
       "      <td>auto</td>\n",
       "      <td>163</td>\n",
       "      <td>grand</td>\n",
       "      <td>125000</td>\n",
       "      <td>gasoline</td>\n",
       "      <td>jeep</td>\n",
       "      <td>NaN</td>\n",
       "    </tr>\n",
       "    <tr>\n",
       "      <th>3</th>\n",
       "      <td>1500</td>\n",
       "      <td>small</td>\n",
       "      <td>2001</td>\n",
       "      <td>manual</td>\n",
       "      <td>75</td>\n",
       "      <td>golf</td>\n",
       "      <td>150000</td>\n",
       "      <td>petrol</td>\n",
       "      <td>volkswagen</td>\n",
       "      <td>no</td>\n",
       "    </tr>\n",
       "    <tr>\n",
       "      <th>4</th>\n",
       "      <td>3600</td>\n",
       "      <td>small</td>\n",
       "      <td>2008</td>\n",
       "      <td>manual</td>\n",
       "      <td>69</td>\n",
       "      <td>fabia</td>\n",
       "      <td>90000</td>\n",
       "      <td>gasoline</td>\n",
       "      <td>skoda</td>\n",
       "      <td>no</td>\n",
       "    </tr>\n",
       "  </tbody>\n",
       "</table>\n",
       "</div>"
      ],
      "text/plain": [
       "   Price VehicleType  RegistrationYear Gearbox  Power  Model  Kilometer  \\\n",
       "0    480         NaN              1993  manual      0   golf     150000   \n",
       "1  18300       coupe              2011  manual    190    NaN     125000   \n",
       "2   9800         suv              2004    auto    163  grand     125000   \n",
       "3   1500       small              2001  manual     75   golf     150000   \n",
       "4   3600       small              2008  manual     69  fabia      90000   \n",
       "\n",
       "   FuelType       Brand Repaired  \n",
       "0    petrol  volkswagen      NaN  \n",
       "1  gasoline        audi      yes  \n",
       "2  gasoline        jeep      NaN  \n",
       "3    petrol  volkswagen       no  \n",
       "4  gasoline       skoda       no  "
      ]
     },
     "execution_count": 8,
     "metadata": {},
     "output_type": "execute_result"
    }
   ],
   "source": [
    "cars.head()"
   ]
  },
  {
   "cell_type": "code",
   "execution_count": 9,
   "metadata": {},
   "outputs": [
    {
     "data": {
      "image/png": "[encoded data removed]",
      "text/plain": [
       "<Figure size 1080x1440 with 8 Axes>"
      ]
     },
     "metadata": {
      "needs_background": "light"
     },
     "output_type": "display_data"
    }
   ],
   "source": [
    "#cars['Model'].unique()\n",
    "position = 0\n",
    "num_region = None\n",
    "plt.figure(figsize=[15, 20])\n",
    "plt.subplots_adjust(top=0.94, wspace=0.3, hspace=0.95)\n",
    "plt.suptitle('ЯЩИК С УСАМИ ДЛЯ ЦИФРОВЫХ ПРИЗНАКОВ.', fontsize=15)\n",
    "\n",
    "number = len(cars.loc[:, cars.dtypes == np.int64].dtypes.index)\n",
    "columns_witn_int = cars.loc[:, cars.dtypes == np.int64].dtypes.index\n",
    "for column_name in columns_witn_int:\n",
    "    position += 1\n",
    "    plt.subplot(number, 2, position)\n",
    "    plt.title(f'BOXPLOT ДЛЯ {column_name.upper()}', fontsize=10)\n",
    "    sns.set_style('darkgrid')\n",
    "    sns.boxplot(data=cars[column_name], orient='h')\n",
    "    plt.axvline(np.mean(cars[column_name]), \n",
    "               color='r', \n",
    "               linestyle='-',\n",
    "               label='СРЕДНЕЕ')\n",
    "    plt.legend(title=f'СРЕДНЕЕ = {np.mean(cars[column_name]):.2f}, МЕДИАНА = {np.median(cars[column_name]):.2f}', \n",
    "               loc='center', \n",
    "               edgecolor = 'r',\n",
    "               facecolor = 'oldlace',\n",
    "               bbox_to_anchor=(0.5, -0.40))\n",
    "    position += 1\n",
    "    plt.subplot(number, 2, position)\n",
    "    sns.set_style('darkgrid')\n",
    "    plt.title(f'Гистограмма ДЛЯ {column_name.upper()}', fontsize=10)\n",
    "    sns.histplot(data=cars[column_name], color='b', kde=False)\n",
    "plt.show();"
   ]
  },
  {
   "cell_type": "code",
   "execution_count": 10,
   "metadata": {},
   "outputs": [
    {
     "data": {
      "image/png": "[encoded data removed]",
      "text/plain": [
       "<Figure size 1080x360 with 1 Axes>"
      ]
     },
     "metadata": {},
     "output_type": "display_data"
    }
   ],
   "source": [
    "plt.figure(figsize=[15, 5])\n",
    "plt.suptitle('ГОД РЕГИСТРАЦИИ.', fontsize=15)\n",
    "sns.set_style('darkgrid')\n",
    "sns.boxplot(data=cars['RegistrationYear'], orient='h');"
   ]
  },
  {
   "cell_type": "code",
   "execution_count": 11,
   "metadata": {},
   "outputs": [
    {
     "data": {
      "image/png": "[encoded data removed]",
      "text/plain": [
       "<Figure size 1080x360 with 1 Axes>"
      ]
     },
     "metadata": {},
     "output_type": "display_data"
    }
   ],
   "source": [
    "plt.figure(figsize=[15, 5])\n",
    "plt.suptitle('Power.', fontsize=15)\n",
    "sns.set_style('darkgrid')\n",
    "sns.boxplot(data=cars['Power'], orient='h');"
   ]
  },
  {
   "cell_type": "code",
   "execution_count": 12,
   "metadata": {
    "scrolled": true
   },
   "outputs": [
    {
     "data": {
      "text/plain": [
       "count    354365.000000\n",
       "mean       4416.679830\n",
       "std        4514.176349\n",
       "min           0.000000\n",
       "25%        1050.000000\n",
       "50%        2700.000000\n",
       "75%        6400.000000\n",
       "max       20000.000000\n",
       "Name: Price, dtype: float64"
      ]
     },
     "execution_count": 12,
     "metadata": {},
     "output_type": "execute_result"
    }
   ],
   "source": [
    "cars['Price'].describe()"
   ]
  },
  {
   "cell_type": "code",
   "execution_count": 13,
   "metadata": {},
   "outputs": [
    {
     "data": {
      "text/html": [
       "<div>\n",
       "<style scoped>\n",
       "    .dataframe tbody tr th:only-of-type {\n",
       "        vertical-align: middle;\n",
       "    }\n",
       "\n",
       "    .dataframe tbody tr th {\n",
       "        vertical-align: top;\n",
       "    }\n",
       "\n",
       "    .dataframe thead th {\n",
       "        text-align: right;\n",
       "    }\n",
       "</style>\n",
       "<table border=\"1\" class=\"dataframe\">\n",
       "  <thead>\n",
       "    <tr style=\"text-align: right;\">\n",
       "      <th></th>\n",
       "      <th>Price</th>\n",
       "      <th>VehicleType</th>\n",
       "      <th>RegistrationYear</th>\n",
       "      <th>Gearbox</th>\n",
       "      <th>Power</th>\n",
       "      <th>Model</th>\n",
       "      <th>Kilometer</th>\n",
       "      <th>FuelType</th>\n",
       "      <th>Brand</th>\n",
       "      <th>Repaired</th>\n",
       "    </tr>\n",
       "  </thead>\n",
       "  <tbody>\n",
       "    <tr>\n",
       "      <th>7</th>\n",
       "      <td>0</td>\n",
       "      <td>sedan</td>\n",
       "      <td>1980</td>\n",
       "      <td>manual</td>\n",
       "      <td>50</td>\n",
       "      <td>other</td>\n",
       "      <td>40000</td>\n",
       "      <td>petrol</td>\n",
       "      <td>volkswagen</td>\n",
       "      <td>no</td>\n",
       "    </tr>\n",
       "    <tr>\n",
       "      <th>40</th>\n",
       "      <td>0</td>\n",
       "      <td>NaN</td>\n",
       "      <td>1990</td>\n",
       "      <td>NaN</td>\n",
       "      <td>0</td>\n",
       "      <td>corsa</td>\n",
       "      <td>150000</td>\n",
       "      <td>petrol</td>\n",
       "      <td>opel</td>\n",
       "      <td>NaN</td>\n",
       "    </tr>\n",
       "    <tr>\n",
       "      <th>111</th>\n",
       "      <td>0</td>\n",
       "      <td>NaN</td>\n",
       "      <td>2017</td>\n",
       "      <td>manual</td>\n",
       "      <td>0</td>\n",
       "      <td>golf</td>\n",
       "      <td>5000</td>\n",
       "      <td>petrol</td>\n",
       "      <td>volkswagen</td>\n",
       "      <td>NaN</td>\n",
       "    </tr>\n",
       "    <tr>\n",
       "      <th>115</th>\n",
       "      <td>0</td>\n",
       "      <td>small</td>\n",
       "      <td>1999</td>\n",
       "      <td>NaN</td>\n",
       "      <td>0</td>\n",
       "      <td>NaN</td>\n",
       "      <td>5000</td>\n",
       "      <td>petrol</td>\n",
       "      <td>volkswagen</td>\n",
       "      <td>NaN</td>\n",
       "    </tr>\n",
       "    <tr>\n",
       "      <th>152</th>\n",
       "      <td>0</td>\n",
       "      <td>bus</td>\n",
       "      <td>2004</td>\n",
       "      <td>manual</td>\n",
       "      <td>101</td>\n",
       "      <td>meriva</td>\n",
       "      <td>150000</td>\n",
       "      <td>lpg</td>\n",
       "      <td>opel</td>\n",
       "      <td>yes</td>\n",
       "    </tr>\n",
       "    <tr>\n",
       "      <th>...</th>\n",
       "      <td>...</td>\n",
       "      <td>...</td>\n",
       "      <td>...</td>\n",
       "      <td>...</td>\n",
       "      <td>...</td>\n",
       "      <td>...</td>\n",
       "      <td>...</td>\n",
       "      <td>...</td>\n",
       "      <td>...</td>\n",
       "      <td>...</td>\n",
       "    </tr>\n",
       "    <tr>\n",
       "      <th>354201</th>\n",
       "      <td>0</td>\n",
       "      <td>NaN</td>\n",
       "      <td>2000</td>\n",
       "      <td>manual</td>\n",
       "      <td>65</td>\n",
       "      <td>corsa</td>\n",
       "      <td>150000</td>\n",
       "      <td>NaN</td>\n",
       "      <td>opel</td>\n",
       "      <td>yes</td>\n",
       "    </tr>\n",
       "    <tr>\n",
       "      <th>354234</th>\n",
       "      <td>0</td>\n",
       "      <td>small</td>\n",
       "      <td>2002</td>\n",
       "      <td>manual</td>\n",
       "      <td>60</td>\n",
       "      <td>fiesta</td>\n",
       "      <td>150000</td>\n",
       "      <td>petrol</td>\n",
       "      <td>ford</td>\n",
       "      <td>NaN</td>\n",
       "    </tr>\n",
       "    <tr>\n",
       "      <th>354244</th>\n",
       "      <td>0</td>\n",
       "      <td>small</td>\n",
       "      <td>1999</td>\n",
       "      <td>manual</td>\n",
       "      <td>53</td>\n",
       "      <td>swift</td>\n",
       "      <td>150000</td>\n",
       "      <td>petrol</td>\n",
       "      <td>suzuki</td>\n",
       "      <td>NaN</td>\n",
       "    </tr>\n",
       "    <tr>\n",
       "      <th>354273</th>\n",
       "      <td>0</td>\n",
       "      <td>small</td>\n",
       "      <td>1999</td>\n",
       "      <td>manual</td>\n",
       "      <td>37</td>\n",
       "      <td>arosa</td>\n",
       "      <td>150000</td>\n",
       "      <td>petrol</td>\n",
       "      <td>seat</td>\n",
       "      <td>yes</td>\n",
       "    </tr>\n",
       "    <tr>\n",
       "      <th>354360</th>\n",
       "      <td>0</td>\n",
       "      <td>NaN</td>\n",
       "      <td>2005</td>\n",
       "      <td>manual</td>\n",
       "      <td>0</td>\n",
       "      <td>colt</td>\n",
       "      <td>150000</td>\n",
       "      <td>petrol</td>\n",
       "      <td>mitsubishi</td>\n",
       "      <td>yes</td>\n",
       "    </tr>\n",
       "  </tbody>\n",
       "</table>\n",
       "<p>10772 rows × 10 columns</p>\n",
       "</div>"
      ],
      "text/plain": [
       "        Price VehicleType  RegistrationYear Gearbox  Power   Model  Kilometer  \\\n",
       "7           0       sedan              1980  manual     50   other      40000   \n",
       "40          0         NaN              1990     NaN      0   corsa     150000   \n",
       "111         0         NaN              2017  manual      0    golf       5000   \n",
       "115         0       small              1999     NaN      0     NaN       5000   \n",
       "152         0         bus              2004  manual    101  meriva     150000   \n",
       "...       ...         ...               ...     ...    ...     ...        ...   \n",
       "354201      0         NaN              2000  manual     65   corsa     150000   \n",
       "354234      0       small              2002  manual     60  fiesta     150000   \n",
       "354244      0       small              1999  manual     53   swift     150000   \n",
       "354273      0       small              1999  manual     37   arosa     150000   \n",
       "354360      0         NaN              2005  manual      0    colt     150000   \n",
       "\n",
       "       FuelType       Brand Repaired  \n",
       "7        petrol  volkswagen       no  \n",
       "40       petrol        opel      NaN  \n",
       "111      petrol  volkswagen      NaN  \n",
       "115      petrol  volkswagen      NaN  \n",
       "152         lpg        opel      yes  \n",
       "...         ...         ...      ...  \n",
       "354201      NaN        opel      yes  \n",
       "354234   petrol        ford      NaN  \n",
       "354244   petrol      suzuki      NaN  \n",
       "354273   petrol        seat      yes  \n",
       "354360   petrol  mitsubishi      yes  \n",
       "\n",
       "[10772 rows x 10 columns]"
      ]
     },
     "execution_count": 13,
     "metadata": {},
     "output_type": "execute_result"
    }
   ],
   "source": [
    "cars[cars['Price'] ==0]#многовато"
   ]
  },
  {
   "cell_type": "markdown",
   "metadata": {},
   "source": [
    "меняем по медиане модели"
   ]
  },
  {
   "cell_type": "code",
   "execution_count": 14,
   "metadata": {},
   "outputs": [],
   "source": [
    "price=cars.groupby(\"Model\")[\"Price\"].median()\n",
    "for i in range(len(cars)):\n",
    "    if cars[\"Price\"][i] ==0:\n",
    "        try:\n",
    "            cars[\"Price\"][i]=price[cars[\"Model\"][i]]\n",
    "        except:\n",
    "            pass\n"
   ]
  },
  {
   "cell_type": "code",
   "execution_count": 15,
   "metadata": {},
   "outputs": [
    {
     "data": {
      "text/html": [
       "<div>\n",
       "<style scoped>\n",
       "    .dataframe tbody tr th:only-of-type {\n",
       "        vertical-align: middle;\n",
       "    }\n",
       "\n",
       "    .dataframe tbody tr th {\n",
       "        vertical-align: top;\n",
       "    }\n",
       "\n",
       "    .dataframe thead th {\n",
       "        text-align: right;\n",
       "    }\n",
       "</style>\n",
       "<table border=\"1\" class=\"dataframe\">\n",
       "  <thead>\n",
       "    <tr style=\"text-align: right;\">\n",
       "      <th></th>\n",
       "      <th>Price</th>\n",
       "      <th>VehicleType</th>\n",
       "      <th>RegistrationYear</th>\n",
       "      <th>Gearbox</th>\n",
       "      <th>Power</th>\n",
       "      <th>Model</th>\n",
       "      <th>Kilometer</th>\n",
       "      <th>FuelType</th>\n",
       "      <th>Brand</th>\n",
       "      <th>Repaired</th>\n",
       "    </tr>\n",
       "  </thead>\n",
       "  <tbody>\n",
       "    <tr>\n",
       "      <th>115</th>\n",
       "      <td>0</td>\n",
       "      <td>small</td>\n",
       "      <td>1999</td>\n",
       "      <td>NaN</td>\n",
       "      <td>0</td>\n",
       "      <td>NaN</td>\n",
       "      <td>5000</td>\n",
       "      <td>petrol</td>\n",
       "      <td>volkswagen</td>\n",
       "      <td>NaN</td>\n",
       "    </tr>\n",
       "    <tr>\n",
       "      <th>478</th>\n",
       "      <td>0</td>\n",
       "      <td>NaN</td>\n",
       "      <td>2000</td>\n",
       "      <td>manual</td>\n",
       "      <td>0</td>\n",
       "      <td>NaN</td>\n",
       "      <td>150000</td>\n",
       "      <td>NaN</td>\n",
       "      <td>audi</td>\n",
       "      <td>yes</td>\n",
       "    </tr>\n",
       "    <tr>\n",
       "      <th>522</th>\n",
       "      <td>0</td>\n",
       "      <td>NaN</td>\n",
       "      <td>2000</td>\n",
       "      <td>NaN</td>\n",
       "      <td>0</td>\n",
       "      <td>NaN</td>\n",
       "      <td>150000</td>\n",
       "      <td>NaN</td>\n",
       "      <td>volvo</td>\n",
       "      <td>NaN</td>\n",
       "    </tr>\n",
       "    <tr>\n",
       "      <th>524</th>\n",
       "      <td>0</td>\n",
       "      <td>NaN</td>\n",
       "      <td>2005</td>\n",
       "      <td>manual</td>\n",
       "      <td>136</td>\n",
       "      <td>NaN</td>\n",
       "      <td>100000</td>\n",
       "      <td>NaN</td>\n",
       "      <td>toyota</td>\n",
       "      <td>NaN</td>\n",
       "    </tr>\n",
       "    <tr>\n",
       "      <th>563</th>\n",
       "      <td>0</td>\n",
       "      <td>sedan</td>\n",
       "      <td>1998</td>\n",
       "      <td>auto</td>\n",
       "      <td>230</td>\n",
       "      <td>NaN</td>\n",
       "      <td>150000</td>\n",
       "      <td>petrol</td>\n",
       "      <td>saab</td>\n",
       "      <td>NaN</td>\n",
       "    </tr>\n",
       "    <tr>\n",
       "      <th>...</th>\n",
       "      <td>...</td>\n",
       "      <td>...</td>\n",
       "      <td>...</td>\n",
       "      <td>...</td>\n",
       "      <td>...</td>\n",
       "      <td>...</td>\n",
       "      <td>...</td>\n",
       "      <td>...</td>\n",
       "      <td>...</td>\n",
       "      <td>...</td>\n",
       "    </tr>\n",
       "    <tr>\n",
       "      <th>353175</th>\n",
       "      <td>0</td>\n",
       "      <td>small</td>\n",
       "      <td>1993</td>\n",
       "      <td>manual</td>\n",
       "      <td>45</td>\n",
       "      <td>NaN</td>\n",
       "      <td>150000</td>\n",
       "      <td>petrol</td>\n",
       "      <td>peugeot</td>\n",
       "      <td>yes</td>\n",
       "    </tr>\n",
       "    <tr>\n",
       "      <th>353383</th>\n",
       "      <td>0</td>\n",
       "      <td>NaN</td>\n",
       "      <td>2007</td>\n",
       "      <td>manual</td>\n",
       "      <td>0</td>\n",
       "      <td>NaN</td>\n",
       "      <td>50000</td>\n",
       "      <td>petrol</td>\n",
       "      <td>bmw</td>\n",
       "      <td>no</td>\n",
       "    </tr>\n",
       "    <tr>\n",
       "      <th>353632</th>\n",
       "      <td>0</td>\n",
       "      <td>NaN</td>\n",
       "      <td>1995</td>\n",
       "      <td>manual</td>\n",
       "      <td>204</td>\n",
       "      <td>NaN</td>\n",
       "      <td>150000</td>\n",
       "      <td>petrol</td>\n",
       "      <td>opel</td>\n",
       "      <td>NaN</td>\n",
       "    </tr>\n",
       "    <tr>\n",
       "      <th>353739</th>\n",
       "      <td>0</td>\n",
       "      <td>wagon</td>\n",
       "      <td>2005</td>\n",
       "      <td>manual</td>\n",
       "      <td>163</td>\n",
       "      <td>NaN</td>\n",
       "      <td>150000</td>\n",
       "      <td>gasoline</td>\n",
       "      <td>volkswagen</td>\n",
       "      <td>NaN</td>\n",
       "    </tr>\n",
       "    <tr>\n",
       "      <th>354079</th>\n",
       "      <td>0</td>\n",
       "      <td>NaN</td>\n",
       "      <td>2000</td>\n",
       "      <td>NaN</td>\n",
       "      <td>0</td>\n",
       "      <td>NaN</td>\n",
       "      <td>150000</td>\n",
       "      <td>NaN</td>\n",
       "      <td>sonstige_autos</td>\n",
       "      <td>NaN</td>\n",
       "    </tr>\n",
       "  </tbody>\n",
       "</table>\n",
       "<p>2184 rows × 10 columns</p>\n",
       "</div>"
      ],
      "text/plain": [
       "        Price VehicleType  RegistrationYear Gearbox  Power Model  Kilometer  \\\n",
       "115         0       small              1999     NaN      0   NaN       5000   \n",
       "478         0         NaN              2000  manual      0   NaN     150000   \n",
       "522         0         NaN              2000     NaN      0   NaN     150000   \n",
       "524         0         NaN              2005  manual    136   NaN     100000   \n",
       "563         0       sedan              1998    auto    230   NaN     150000   \n",
       "...       ...         ...               ...     ...    ...   ...        ...   \n",
       "353175      0       small              1993  manual     45   NaN     150000   \n",
       "353383      0         NaN              2007  manual      0   NaN      50000   \n",
       "353632      0         NaN              1995  manual    204   NaN     150000   \n",
       "353739      0       wagon              2005  manual    163   NaN     150000   \n",
       "354079      0         NaN              2000     NaN      0   NaN     150000   \n",
       "\n",
       "        FuelType           Brand Repaired  \n",
       "115       petrol      volkswagen      NaN  \n",
       "478          NaN            audi      yes  \n",
       "522          NaN           volvo      NaN  \n",
       "524          NaN          toyota      NaN  \n",
       "563       petrol            saab      NaN  \n",
       "...          ...             ...      ...  \n",
       "353175    petrol         peugeot      yes  \n",
       "353383    petrol             bmw       no  \n",
       "353632    petrol            opel      NaN  \n",
       "353739  gasoline      volkswagen      NaN  \n",
       "354079       NaN  sonstige_autos      NaN  \n",
       "\n",
       "[2184 rows x 10 columns]"
      ]
     },
     "execution_count": 15,
     "metadata": {},
     "output_type": "execute_result"
    }
   ],
   "source": [
    "cars[cars['Price'] ==0]"
   ]
  },
  {
   "cell_type": "markdown",
   "metadata": {},
   "source": [
    "меняем по медиане модели"
   ]
  },
  {
   "cell_type": "code",
   "execution_count": 16,
   "metadata": {
    "scrolled": true
   },
   "outputs": [],
   "source": [
    "\n",
    "power=cars.groupby(\"Model\")[\"Power\"].median()\n",
    "for i in range(len(cars)):\n",
    "    if cars[\"Power\"][i] ==0:\n",
    "        try:\n",
    "            cars[\"Power\"][i]=power[cars[\"Model\"][i]]\n",
    "        except:\n",
    "            pass"
   ]
  },
  {
   "cell_type": "code",
   "execution_count": 17,
   "metadata": {},
   "outputs": [
    {
     "data": {
      "text/html": [
       "<div>\n",
       "<style scoped>\n",
       "    .dataframe tbody tr th:only-of-type {\n",
       "        vertical-align: middle;\n",
       "    }\n",
       "\n",
       "    .dataframe tbody tr th {\n",
       "        vertical-align: top;\n",
       "    }\n",
       "\n",
       "    .dataframe thead th {\n",
       "        text-align: right;\n",
       "    }\n",
       "</style>\n",
       "<table border=\"1\" class=\"dataframe\">\n",
       "  <thead>\n",
       "    <tr style=\"text-align: right;\">\n",
       "      <th></th>\n",
       "      <th>Price</th>\n",
       "      <th>VehicleType</th>\n",
       "      <th>RegistrationYear</th>\n",
       "      <th>Gearbox</th>\n",
       "      <th>Power</th>\n",
       "      <th>Model</th>\n",
       "      <th>Kilometer</th>\n",
       "      <th>FuelType</th>\n",
       "      <th>Brand</th>\n",
       "      <th>Repaired</th>\n",
       "    </tr>\n",
       "  </thead>\n",
       "  <tbody>\n",
       "    <tr>\n",
       "      <th>115</th>\n",
       "      <td>0</td>\n",
       "      <td>small</td>\n",
       "      <td>1999</td>\n",
       "      <td>NaN</td>\n",
       "      <td>0</td>\n",
       "      <td>NaN</td>\n",
       "      <td>5000</td>\n",
       "      <td>petrol</td>\n",
       "      <td>volkswagen</td>\n",
       "      <td>NaN</td>\n",
       "    </tr>\n",
       "    <tr>\n",
       "      <th>160</th>\n",
       "      <td>500</td>\n",
       "      <td>small</td>\n",
       "      <td>1999</td>\n",
       "      <td>manual</td>\n",
       "      <td>0</td>\n",
       "      <td>NaN</td>\n",
       "      <td>150000</td>\n",
       "      <td>petrol</td>\n",
       "      <td>renault</td>\n",
       "      <td>no</td>\n",
       "    </tr>\n",
       "    <tr>\n",
       "      <th>260</th>\n",
       "      <td>450</td>\n",
       "      <td>NaN</td>\n",
       "      <td>2016</td>\n",
       "      <td>manual</td>\n",
       "      <td>0</td>\n",
       "      <td>NaN</td>\n",
       "      <td>150000</td>\n",
       "      <td>petrol</td>\n",
       "      <td>mitsubishi</td>\n",
       "      <td>no</td>\n",
       "    </tr>\n",
       "    <tr>\n",
       "      <th>306</th>\n",
       "      <td>200</td>\n",
       "      <td>NaN</td>\n",
       "      <td>2009</td>\n",
       "      <td>NaN</td>\n",
       "      <td>0</td>\n",
       "      <td>NaN</td>\n",
       "      <td>10000</td>\n",
       "      <td>NaN</td>\n",
       "      <td>sonstige_autos</td>\n",
       "      <td>NaN</td>\n",
       "    </tr>\n",
       "    <tr>\n",
       "      <th>308</th>\n",
       "      <td>1600</td>\n",
       "      <td>wagon</td>\n",
       "      <td>1999</td>\n",
       "      <td>manual</td>\n",
       "      <td>0</td>\n",
       "      <td>NaN</td>\n",
       "      <td>150000</td>\n",
       "      <td>petrol</td>\n",
       "      <td>bmw</td>\n",
       "      <td>no</td>\n",
       "    </tr>\n",
       "    <tr>\n",
       "      <th>...</th>\n",
       "      <td>...</td>\n",
       "      <td>...</td>\n",
       "      <td>...</td>\n",
       "      <td>...</td>\n",
       "      <td>...</td>\n",
       "      <td>...</td>\n",
       "      <td>...</td>\n",
       "      <td>...</td>\n",
       "      <td>...</td>\n",
       "      <td>...</td>\n",
       "    </tr>\n",
       "    <tr>\n",
       "      <th>354076</th>\n",
       "      <td>4300</td>\n",
       "      <td>small</td>\n",
       "      <td>2008</td>\n",
       "      <td>auto</td>\n",
       "      <td>0</td>\n",
       "      <td>NaN</td>\n",
       "      <td>150000</td>\n",
       "      <td>NaN</td>\n",
       "      <td>honda</td>\n",
       "      <td>NaN</td>\n",
       "    </tr>\n",
       "    <tr>\n",
       "      <th>354079</th>\n",
       "      <td>0</td>\n",
       "      <td>NaN</td>\n",
       "      <td>2000</td>\n",
       "      <td>NaN</td>\n",
       "      <td>0</td>\n",
       "      <td>NaN</td>\n",
       "      <td>150000</td>\n",
       "      <td>NaN</td>\n",
       "      <td>sonstige_autos</td>\n",
       "      <td>NaN</td>\n",
       "    </tr>\n",
       "    <tr>\n",
       "      <th>354158</th>\n",
       "      <td>1500</td>\n",
       "      <td>NaN</td>\n",
       "      <td>1995</td>\n",
       "      <td>NaN</td>\n",
       "      <td>0</td>\n",
       "      <td>NaN</td>\n",
       "      <td>150000</td>\n",
       "      <td>NaN</td>\n",
       "      <td>volkswagen</td>\n",
       "      <td>NaN</td>\n",
       "    </tr>\n",
       "    <tr>\n",
       "      <th>354334</th>\n",
       "      <td>180</td>\n",
       "      <td>NaN</td>\n",
       "      <td>1995</td>\n",
       "      <td>NaN</td>\n",
       "      <td>0</td>\n",
       "      <td>NaN</td>\n",
       "      <td>125000</td>\n",
       "      <td>petrol</td>\n",
       "      <td>opel</td>\n",
       "      <td>NaN</td>\n",
       "    </tr>\n",
       "    <tr>\n",
       "      <th>354361</th>\n",
       "      <td>2200</td>\n",
       "      <td>NaN</td>\n",
       "      <td>2005</td>\n",
       "      <td>NaN</td>\n",
       "      <td>0</td>\n",
       "      <td>NaN</td>\n",
       "      <td>20000</td>\n",
       "      <td>NaN</td>\n",
       "      <td>sonstige_autos</td>\n",
       "      <td>NaN</td>\n",
       "    </tr>\n",
       "  </tbody>\n",
       "</table>\n",
       "<p>6304 rows × 10 columns</p>\n",
       "</div>"
      ],
      "text/plain": [
       "        Price VehicleType  RegistrationYear Gearbox  Power Model  Kilometer  \\\n",
       "115         0       small              1999     NaN      0   NaN       5000   \n",
       "160       500       small              1999  manual      0   NaN     150000   \n",
       "260       450         NaN              2016  manual      0   NaN     150000   \n",
       "306       200         NaN              2009     NaN      0   NaN      10000   \n",
       "308      1600       wagon              1999  manual      0   NaN     150000   \n",
       "...       ...         ...               ...     ...    ...   ...        ...   \n",
       "354076   4300       small              2008    auto      0   NaN     150000   \n",
       "354079      0         NaN              2000     NaN      0   NaN     150000   \n",
       "354158   1500         NaN              1995     NaN      0   NaN     150000   \n",
       "354334    180         NaN              1995     NaN      0   NaN     125000   \n",
       "354361   2200         NaN              2005     NaN      0   NaN      20000   \n",
       "\n",
       "       FuelType           Brand Repaired  \n",
       "115      petrol      volkswagen      NaN  \n",
       "160      petrol         renault       no  \n",
       "260      petrol      mitsubishi       no  \n",
       "306         NaN  sonstige_autos      NaN  \n",
       "308      petrol             bmw       no  \n",
       "...         ...             ...      ...  \n",
       "354076      NaN           honda      NaN  \n",
       "354079      NaN  sonstige_autos      NaN  \n",
       "354158      NaN      volkswagen      NaN  \n",
       "354334   petrol            opel      NaN  \n",
       "354361      NaN  sonstige_autos      NaN  \n",
       "\n",
       "[6304 rows x 10 columns]"
      ]
     },
     "execution_count": 17,
     "metadata": {},
     "output_type": "execute_result"
    }
   ],
   "source": [
    "cars[cars['Power'] ==0]"
   ]
  },
  {
   "cell_type": "code",
   "execution_count": 18,
   "metadata": {
    "scrolled": true
   },
   "outputs": [
    {
     "name": "stdout",
     "output_type": "stream",
     "text": [
      "<class 'pandas.core.frame.DataFrame'>\n",
      "RangeIndex: 354365 entries, 0 to 354364\n",
      "Data columns (total 10 columns):\n",
      " #   Column            Non-Null Count   Dtype \n",
      "---  ------            --------------   ----- \n",
      " 0   Price             354365 non-null  int64 \n",
      " 1   VehicleType       316875 non-null  object\n",
      " 2   RegistrationYear  354365 non-null  int64 \n",
      " 3   Gearbox           334532 non-null  object\n",
      " 4   Power             354365 non-null  int64 \n",
      " 5   Model             334660 non-null  object\n",
      " 6   Kilometer         354365 non-null  int64 \n",
      " 7   FuelType          321470 non-null  object\n",
      " 8   Brand             354365 non-null  object\n",
      " 9   Repaired          283211 non-null  object\n",
      "dtypes: int64(4), object(6)\n",
      "memory usage: 27.0+ MB\n"
     ]
    }
   ],
   "source": [
    "cars.info()"
   ]
  },
  {
   "cell_type": "code",
   "execution_count": 19,
   "metadata": {
    "scrolled": true
   },
   "outputs": [
    {
     "data": {
      "text/plain": [
       "array(['no', 'yes'], dtype=object)"
      ]
     },
     "execution_count": 19,
     "metadata": {},
     "output_type": "execute_result"
    }
   ],
   "source": [
    "\n",
    "cars[\"Repaired\"]=cars[\"Repaired\"].fillna(\"no\")#без ремонта\n",
    "cars[\"Repaired\"].unique()"
   ]
  },
  {
   "cell_type": "markdown",
   "metadata": {},
   "source": [
    "меняем пропуски что на unknown"
   ]
  },
  {
   "cell_type": "code",
   "execution_count": 20,
   "metadata": {},
   "outputs": [
    {
     "data": {
      "text/plain": [
       "array(['unknown', 'coupe', 'suv', 'small', 'sedan', 'convertible', 'bus',\n",
       "       'wagon', 'other'], dtype=object)"
      ]
     },
     "execution_count": 20,
     "metadata": {},
     "output_type": "execute_result"
    }
   ],
   "source": [
    "\n",
    "cars[\"VehicleType\"]=cars[\"VehicleType\"].fillna(\"unknown\")\n",
    "cars['VehicleType'].unique()"
   ]
  },
  {
   "cell_type": "code",
   "execution_count": 21,
   "metadata": {},
   "outputs": [
    {
     "data": {
      "text/plain": [
       "array(['petrol', 'gasoline', 'unknown', 'lpg', 'other', 'hybrid', 'cng',\n",
       "       'electric'], dtype=object)"
      ]
     },
     "execution_count": 21,
     "metadata": {},
     "output_type": "execute_result"
    }
   ],
   "source": [
    "\n",
    "cars[\"FuelType\"]=cars[\"FuelType\"].fillna(\"unknown\")\n",
    "cars['FuelType'].unique()"
   ]
  },
  {
   "cell_type": "code",
   "execution_count": 22,
   "metadata": {},
   "outputs": [
    {
     "data": {
      "text/plain": [
       "array(['manual', 'auto', 'unknown'], dtype=object)"
      ]
     },
     "execution_count": 22,
     "metadata": {},
     "output_type": "execute_result"
    }
   ],
   "source": [
    "\n",
    "cars[\"Gearbox\"]=cars[\"Gearbox\"].fillna(\"unknown\")\n",
    "cars['Gearbox'].unique()"
   ]
  },
  {
   "cell_type": "code",
   "execution_count": 23,
   "metadata": {},
   "outputs": [],
   "source": [
    "#cars=cars[cars['RegistrationYear'] <= 2023]\n",
    "cars = (cars[(cars['RegistrationYear'] >= 1985) & (cars['RegistrationYear'] <= 2016)])"
   ]
  },
  {
   "cell_type": "markdown",
   "metadata": {},
   "source": [
    "удалим пропуски поскольку их мало и модель уже не определить"
   ]
  },
  {
   "cell_type": "code",
   "execution_count": 24,
   "metadata": {},
   "outputs": [],
   "source": [
    "cars = cars[cars['Model'].isna()!=True]"
   ]
  },
  {
   "cell_type": "code",
   "execution_count": 25,
   "metadata": {
    "scrolled": true
   },
   "outputs": [
    {
     "name": "stdout",
     "output_type": "stream",
     "text": [
      "<class 'pandas.core.frame.DataFrame'>\n",
      "Int64Index: 317929 entries, 0 to 354364\n",
      "Data columns (total 10 columns):\n",
      " #   Column            Non-Null Count   Dtype \n",
      "---  ------            --------------   ----- \n",
      " 0   Price             317929 non-null  int64 \n",
      " 1   VehicleType       317929 non-null  object\n",
      " 2   RegistrationYear  317929 non-null  int64 \n",
      " 3   Gearbox           317929 non-null  object\n",
      " 4   Power             317929 non-null  int64 \n",
      " 5   Model             317929 non-null  object\n",
      " 6   Kilometer         317929 non-null  int64 \n",
      " 7   FuelType          317929 non-null  object\n",
      " 8   Brand             317929 non-null  object\n",
      " 9   Repaired          317929 non-null  object\n",
      "dtypes: int64(4), object(6)\n",
      "memory usage: 26.7+ MB\n"
     ]
    }
   ],
   "source": [
    "cars.info()"
   ]
  },
  {
   "cell_type": "markdown",
   "metadata": {},
   "source": [
    "столбцы категориальных данных"
   ]
  },
  {
   "cell_type": "code",
   "execution_count": 26,
   "metadata": {},
   "outputs": [],
   "source": [
    "cats = ['VehicleType', 'Gearbox', 'Model', 'FuelType','Brand', 'RegistrationYear', 'Repaired']"
   ]
  },
  {
   "cell_type": "markdown",
   "metadata": {},
   "source": [
    "поменяем тип данных на category"
   ]
  },
  {
   "cell_type": "code",
   "execution_count": 27,
   "metadata": {},
   "outputs": [],
   "source": [
    "for i in cars[cats]:\n",
    "    cars[i]=cars[i].astype('category')\n"
   ]
  },
  {
   "cell_type": "code",
   "execution_count": 28,
   "metadata": {
    "scrolled": true
   },
   "outputs": [
    {
     "name": "stdout",
     "output_type": "stream",
     "text": [
      "<class 'pandas.core.frame.DataFrame'>\n",
      "Int64Index: 317929 entries, 0 to 354364\n",
      "Data columns (total 10 columns):\n",
      " #   Column            Non-Null Count   Dtype   \n",
      "---  ------            --------------   -----   \n",
      " 0   Price             317929 non-null  int64   \n",
      " 1   VehicleType       317929 non-null  category\n",
      " 2   RegistrationYear  317929 non-null  category\n",
      " 3   Gearbox           317929 non-null  category\n",
      " 4   Power             317929 non-null  int64   \n",
      " 5   Model             317929 non-null  category\n",
      " 6   Kilometer         317929 non-null  int64   \n",
      " 7   FuelType          317929 non-null  category\n",
      " 8   Brand             317929 non-null  category\n",
      " 9   Repaired          317929 non-null  category\n",
      "dtypes: category(7), int64(3)\n",
      "memory usage: 12.1 MB\n"
     ]
    }
   ],
   "source": [
    "cars.info()"
   ]
  },
  {
   "cell_type": "code",
   "execution_count": 29,
   "metadata": {},
   "outputs": [
    {
     "data": {
      "text/plain": [
       "(317929, 10)"
      ]
     },
     "execution_count": 29,
     "metadata": {},
     "output_type": "execute_result"
    }
   ],
   "source": [
    "cars.shape"
   ]
  },
  {
   "cell_type": "markdown",
   "metadata": {},
   "source": [
    "#  Вывод"
   ]
  },
  {
   "cell_type": "raw",
   "metadata": {},
   "source": [
    "\n",
    "прочитали датасет\n",
    "посмотрели на на графики\n",
    "Посмотрели количество явных дубликатов, и удалили их\n",
    "были пропуски но с пропусками не так легко было\n",
    "в Power и price поменяли пропуски на медиану по модели\n",
    "посмотрели на дату скачевания анкеты все скачано в 2016 году так что удалим лишное и анамалии до 1985г тоже\n",
    "в месяце регистрации тоже были вопросы так как столбцы били от 0 до 12 но так как нам она не к чему и мы слышком ленивие  мы ее не тронули\n",
    "были пропуски в столбце Repaired предположили что пропуск означает что не было ремонта переписали пропуски в no\n",
    "в столбце FuelType есть значение 'gasoline', 'petrol' возможно это то же самое но не уверен. возможно стоило бы их назвать одинаково но пропуски заменили на uniknown как и в столбцах Gearbox    VehicleType       \n",
    "остались пропуски в столбце model так как это ключевой столбец от которого сильно зависит цена то было бы ошибкой что то предположить и заполнить пропуски да и унинов поставить тоже было бы бесмылено по этому и удалили тем более не очень много пропучков"
   ]
  },
  {
   "cell_type": "markdown",
   "metadata": {},
   "source": [
    "## Обучение моделей"
   ]
  },
  {
   "cell_type": "markdown",
   "metadata": {},
   "source": [
    "делим датасет"
   ]
  },
  {
   "cell_type": "code",
   "execution_count": 30,
   "metadata": {},
   "outputs": [
    {
     "data": {
      "text/plain": [
       "(190757, 63586, 190757, 63586, 63586, 63586)"
      ]
     },
     "execution_count": 30,
     "metadata": {},
     "output_type": "execute_result"
    }
   ],
   "source": [
    "\n",
    "features = cars.drop(['Price'], axis = 1)  \n",
    "target = cars['Price'] \n",
    "\n",
    "features_train, features_valid, target_train, target_valid = train_test_split(features, target, test_size=0.4, random_state=12345)\n",
    "\n",
    "features_test, features_valid, target_test, target_valid = train_test_split(features_valid, target_valid, test_size=0.5, random_state=12345)\n",
    "features_train.shape[0], features_valid.shape[0], target_train.shape[0], target_valid.shape[0],features_test.shape[0],target_test.shape[0]"
   ]
  },
  {
   "cell_type": "markdown",
   "metadata": {},
   "source": [
    "для замера времени "
   ]
  },
  {
   "cell_type": "code",
   "execution_count": 31,
   "metadata": {},
   "outputs": [],
   "source": [
    "def best(model, features_train, target_train, features_valid, target_valid):\n",
    "    \n",
    "    start = time.time()    \n",
    "    model.fit(features_train, target_train)\n",
    "    train_time = time.time() - start\n",
    "    \n",
    "    start = time.time()  \n",
    "    predict = model.predict(features_valid)\n",
    "    predict_time = time.time() - start\n",
    "\n",
    "    return train_time, predict_time, mean_squared_error(target_valid, predict)**0.5"
   ]
  },
  {
   "cell_type": "markdown",
   "metadata": {},
   "source": [
    "обшие параметры"
   ]
  },
  {
   "cell_type": "code",
   "execution_count": 32,
   "metadata": {},
   "outputs": [],
   "source": [
    "cv =KFold(random_state=12345, n_splits=5,shuffle=True)"
   ]
  },
  {
   "cell_type": "code",
   "execution_count": 33,
   "metadata": {},
   "outputs": [],
   "source": [
    "param = {\n",
    "    'n_estimators': [1,10],\n",
    "    'max_depth': [6,10],\n",
    "    'learning_rate':[1]\n",
    "   \n",
    "}"
   ]
  },
  {
   "cell_type": "markdown",
   "metadata": {},
   "source": [
    "# CatBoostRegressor"
   ]
  },
  {
   "cell_type": "code",
   "execution_count": 34,
   "metadata": {},
   "outputs": [],
   "source": [
    "model_cat = CatBoostRegressor(#iterations=100, \n",
    "                          #depth=10, \n",
    "                          #learning_rate=1, \n",
    "                          loss_function='RMSE',\n",
    "                          cat_features =cats\n",
    "                          \n",
    "                        )"
   ]
  },
  {
   "cell_type": "code",
   "execution_count": 35,
   "metadata": {},
   "outputs": [],
   "source": [
    "grid_cat = GridSearchCV(model_cat,\n",
    "                        param,\n",
    "                        cv=cv,\n",
    "                        \n",
    "                        scoring='neg_mean_squared_error',\n",
    "                        verbose=False)"
   ]
  },
  {
   "cell_type": "code",
   "execution_count": 36,
   "metadata": {},
   "outputs": [
    {
     "name": "stdout",
     "output_type": "stream",
     "text": [
      "0:\tlearn: 2574.9735790\ttotal: 124ms\tremaining: 0us\n",
      "0:\tlearn: 2568.5531699\ttotal: 63.2ms\tremaining: 0us\n",
      "0:\tlearn: 2542.9261184\ttotal: 63.4ms\tremaining: 0us\n",
      "0:\tlearn: 2578.8299774\ttotal: 62.6ms\tremaining: 0us\n",
      "0:\tlearn: 2543.7088566\ttotal: 70.4ms\tremaining: 0us\n",
      "0:\tlearn: 2574.9735790\ttotal: 62.8ms\tremaining: 565ms\n",
      "1:\tlearn: 2249.7275381\ttotal: 127ms\tremaining: 508ms\n",
      "2:\tlearn: 2141.9898297\ttotal: 178ms\tremaining: 414ms\n",
      "3:\tlearn: 2067.3915474\ttotal: 225ms\tremaining: 337ms\n",
      "4:\tlearn: 2017.1833786\ttotal: 278ms\tremaining: 278ms\n",
      "5:\tlearn: 1983.9480532\ttotal: 330ms\tremaining: 220ms\n",
      "6:\tlearn: 1934.7710077\ttotal: 380ms\tremaining: 163ms\n",
      "7:\tlearn: 1897.9656410\ttotal: 430ms\tremaining: 108ms\n",
      "8:\tlearn: 1882.1858407\ttotal: 479ms\tremaining: 53.2ms\n",
      "9:\tlearn: 1866.2852526\ttotal: 531ms\tremaining: 0us\n",
      "0:\tlearn: 2568.5531699\ttotal: 65.4ms\tremaining: 588ms\n",
      "1:\tlearn: 2295.5489715\ttotal: 134ms\tremaining: 538ms\n",
      "2:\tlearn: 2159.3917363\ttotal: 184ms\tremaining: 430ms\n",
      "3:\tlearn: 2079.7675446\ttotal: 241ms\tremaining: 362ms\n",
      "4:\tlearn: 2010.5989154\ttotal: 294ms\tremaining: 294ms\n",
      "5:\tlearn: 1968.7238065\ttotal: 348ms\tremaining: 232ms\n",
      "6:\tlearn: 1948.4584088\ttotal: 397ms\tremaining: 170ms\n",
      "7:\tlearn: 1911.9675560\ttotal: 447ms\tremaining: 112ms\n",
      "8:\tlearn: 1892.8038333\ttotal: 495ms\tremaining: 55ms\n",
      "9:\tlearn: 1865.7251683\ttotal: 543ms\tremaining: 0us\n",
      "0:\tlearn: 2542.9261184\ttotal: 63ms\tremaining: 567ms\n",
      "1:\tlearn: 2298.6463921\ttotal: 124ms\tremaining: 496ms\n",
      "2:\tlearn: 2146.2492817\ttotal: 173ms\tremaining: 403ms\n",
      "3:\tlearn: 2047.7492706\ttotal: 223ms\tremaining: 335ms\n",
      "4:\tlearn: 2000.0971278\ttotal: 275ms\tremaining: 275ms\n",
      "5:\tlearn: 1961.7686878\ttotal: 330ms\tremaining: 220ms\n",
      "6:\tlearn: 1936.8704350\ttotal: 380ms\tremaining: 163ms\n",
      "7:\tlearn: 1904.8353714\ttotal: 433ms\tremaining: 108ms\n",
      "8:\tlearn: 1879.6389688\ttotal: 483ms\tremaining: 53.7ms\n",
      "9:\tlearn: 1862.3399797\ttotal: 534ms\tremaining: 0us\n",
      "0:\tlearn: 2578.8299774\ttotal: 76ms\tremaining: 684ms\n",
      "1:\tlearn: 2319.3988358\ttotal: 157ms\tremaining: 627ms\n",
      "2:\tlearn: 2157.5252611\ttotal: 217ms\tremaining: 507ms\n",
      "3:\tlearn: 2080.6168643\ttotal: 270ms\tremaining: 406ms\n",
      "4:\tlearn: 2010.2050509\ttotal: 326ms\tremaining: 326ms\n",
      "5:\tlearn: 1980.1542663\ttotal: 375ms\tremaining: 250ms\n",
      "6:\tlearn: 1949.2950646\ttotal: 424ms\tremaining: 182ms\n",
      "7:\tlearn: 1915.5884734\ttotal: 474ms\tremaining: 118ms\n",
      "8:\tlearn: 1892.0912108\ttotal: 523ms\tremaining: 58.1ms\n",
      "9:\tlearn: 1873.6273079\ttotal: 576ms\tremaining: 0us\n",
      "0:\tlearn: 2543.7088566\ttotal: 63.5ms\tremaining: 572ms\n",
      "1:\tlearn: 2294.5547476\ttotal: 127ms\tremaining: 506ms\n",
      "2:\tlearn: 2142.4676724\ttotal: 175ms\tremaining: 408ms\n",
      "3:\tlearn: 2062.3974553\ttotal: 236ms\tremaining: 354ms\n",
      "4:\tlearn: 2029.2753144\ttotal: 290ms\tremaining: 290ms\n",
      "5:\tlearn: 1971.1542414\ttotal: 344ms\tremaining: 229ms\n",
      "6:\tlearn: 1939.7215931\ttotal: 396ms\tremaining: 170ms\n",
      "7:\tlearn: 1916.5492658\ttotal: 445ms\tremaining: 111ms\n",
      "8:\tlearn: 1896.9380135\ttotal: 496ms\tremaining: 55.1ms\n",
      "9:\tlearn: 1876.2887277\ttotal: 549ms\tremaining: 0us\n",
      "0:\tlearn: 2378.2037215\ttotal: 97.9ms\tremaining: 0us\n",
      "0:\tlearn: 2373.2380273\ttotal: 91.3ms\tremaining: 0us\n",
      "0:\tlearn: 2383.0948152\ttotal: 95.2ms\tremaining: 0us\n",
      "0:\tlearn: 2377.6250725\ttotal: 91.6ms\tremaining: 0us\n",
      "0:\tlearn: 2382.6410781\ttotal: 95.3ms\tremaining: 0us\n",
      "0:\tlearn: 2378.2037215\ttotal: 92.7ms\tremaining: 834ms\n",
      "1:\tlearn: 2085.4654169\ttotal: 192ms\tremaining: 770ms\n",
      "2:\tlearn: 1949.2412547\ttotal: 281ms\tremaining: 657ms\n",
      "3:\tlearn: 1875.2186603\ttotal: 367ms\tremaining: 550ms\n",
      "4:\tlearn: 1832.6991883\ttotal: 450ms\tremaining: 450ms\n",
      "5:\tlearn: 1795.5918789\ttotal: 528ms\tremaining: 352ms\n",
      "6:\tlearn: 1761.2471350\ttotal: 607ms\tremaining: 260ms\n",
      "7:\tlearn: 1734.3196288\ttotal: 690ms\tremaining: 173ms\n",
      "8:\tlearn: 1716.7225091\ttotal: 776ms\tremaining: 86.2ms\n",
      "9:\tlearn: 1706.4637832\ttotal: 873ms\tremaining: 0us\n",
      "0:\tlearn: 2373.2380273\ttotal: 94.7ms\tremaining: 852ms\n",
      "1:\tlearn: 2102.7279842\ttotal: 188ms\tremaining: 752ms\n",
      "2:\tlearn: 1978.9313373\ttotal: 271ms\tremaining: 632ms\n",
      "3:\tlearn: 1889.2652095\ttotal: 359ms\tremaining: 539ms\n",
      "4:\tlearn: 1836.5770559\ttotal: 443ms\tremaining: 443ms\n",
      "5:\tlearn: 1794.5772748\ttotal: 518ms\tremaining: 345ms\n",
      "6:\tlearn: 1767.1712011\ttotal: 599ms\tremaining: 257ms\n",
      "7:\tlearn: 1743.3983162\ttotal: 683ms\tremaining: 171ms\n",
      "8:\tlearn: 1720.5272743\ttotal: 768ms\tremaining: 85.4ms\n",
      "9:\tlearn: 1692.0758755\ttotal: 849ms\tremaining: 0us\n",
      "0:\tlearn: 2383.0948152\ttotal: 98.8ms\tremaining: 889ms\n",
      "1:\tlearn: 2066.0171082\ttotal: 201ms\tremaining: 804ms\n",
      "2:\tlearn: 1958.5779611\ttotal: 286ms\tremaining: 667ms\n",
      "3:\tlearn: 1908.9885501\ttotal: 379ms\tremaining: 569ms\n",
      "4:\tlearn: 1828.6652944\ttotal: 477ms\tremaining: 477ms\n",
      "5:\tlearn: 1791.4209492\ttotal: 567ms\tremaining: 378ms\n",
      "6:\tlearn: 1760.6952571\ttotal: 647ms\tremaining: 277ms\n",
      "7:\tlearn: 1738.2682225\ttotal: 728ms\tremaining: 182ms\n",
      "8:\tlearn: 1723.5901942\ttotal: 810ms\tremaining: 90ms\n",
      "9:\tlearn: 1700.6355999\ttotal: 888ms\tremaining: 0us\n",
      "0:\tlearn: 2377.6250725\ttotal: 92.8ms\tremaining: 835ms\n",
      "1:\tlearn: 2075.0864876\ttotal: 187ms\tremaining: 746ms\n",
      "2:\tlearn: 1962.8780316\ttotal: 267ms\tremaining: 624ms\n",
      "3:\tlearn: 1879.1624000\ttotal: 354ms\tremaining: 531ms\n",
      "4:\tlearn: 1820.0417782\ttotal: 437ms\tremaining: 437ms\n",
      "5:\tlearn: 1794.4072943\ttotal: 522ms\tremaining: 348ms\n",
      "6:\tlearn: 1766.2034040\ttotal: 605ms\tremaining: 259ms\n",
      "7:\tlearn: 1744.1265355\ttotal: 686ms\tremaining: 171ms\n",
      "8:\tlearn: 1728.9025388\ttotal: 770ms\tremaining: 85.5ms\n",
      "9:\tlearn: 1702.6577626\ttotal: 849ms\tremaining: 0us\n",
      "0:\tlearn: 2382.6410781\ttotal: 101ms\tremaining: 905ms\n",
      "1:\tlearn: 2064.9490409\ttotal: 203ms\tremaining: 812ms\n",
      "2:\tlearn: 1916.8552470\ttotal: 283ms\tremaining: 661ms\n",
      "3:\tlearn: 1871.2651900\ttotal: 370ms\tremaining: 555ms\n",
      "4:\tlearn: 1813.0378669\ttotal: 449ms\tremaining: 449ms\n",
      "5:\tlearn: 1789.0648171\ttotal: 535ms\tremaining: 357ms\n",
      "6:\tlearn: 1752.8965960\ttotal: 663ms\tremaining: 284ms\n",
      "7:\tlearn: 1721.7579436\ttotal: 752ms\tremaining: 188ms\n",
      "8:\tlearn: 1711.3560642\ttotal: 833ms\tremaining: 92.6ms\n",
      "9:\tlearn: 1690.2938506\ttotal: 914ms\tremaining: 0us\n",
      "0:\tlearn: 2379.1960777\ttotal: 129ms\tremaining: 1.16s\n",
      "1:\tlearn: 2062.0276921\ttotal: 245ms\tremaining: 981ms\n",
      "2:\tlearn: 1940.3766131\ttotal: 353ms\tremaining: 823ms\n",
      "3:\tlearn: 1890.0103300\ttotal: 453ms\tremaining: 679ms\n",
      "4:\tlearn: 1844.6780076\ttotal: 546ms\tremaining: 546ms\n",
      "5:\tlearn: 1791.4700744\ttotal: 644ms\tremaining: 430ms\n",
      "6:\tlearn: 1757.8409254\ttotal: 743ms\tremaining: 318ms\n",
      "7:\tlearn: 1733.3709915\ttotal: 848ms\tremaining: 212ms\n",
      "8:\tlearn: 1707.6235839\ttotal: 946ms\tremaining: 105ms\n",
      "9:\tlearn: 1687.1663970\ttotal: 1.04s\tremaining: 0us\n",
      "CPU times: user 13.1 s, sys: 176 ms, total: 13.3 s\n",
      "Wall time: 24.3 s\n"
     ]
    },
    {
     "data": {
      "text/plain": [
       "GridSearchCV(cv=KFold(n_splits=5, random_state=12345, shuffle=True),\n",
       "             estimator=<catboost.core.CatBoostRegressor object at 0x7fc280544dc0>,\n",
       "             param_grid={'learning_rate': [1], 'max_depth': [6, 10],\n",
       "                         'n_estimators': [1, 10]},\n",
       "             scoring='neg_mean_squared_error', verbose=False)"
      ]
     },
     "execution_count": 36,
     "metadata": {},
     "output_type": "execute_result"
    }
   ],
   "source": [
    "%%time\n",
    "grid_cat.fit(features_train, target_train);"
   ]
  },
  {
   "cell_type": "code",
   "execution_count": 37,
   "metadata": {},
   "outputs": [
    {
     "data": {
      "text/plain": [
       "{'learning_rate': 1, 'max_depth': 10, 'n_estimators': 10}"
      ]
     },
     "execution_count": 37,
     "metadata": {},
     "output_type": "execute_result"
    }
   ],
   "source": [
    "grid_cat.best_params_"
   ]
  },
  {
   "cell_type": "code",
   "execution_count": 38,
   "metadata": {},
   "outputs": [
    {
     "data": {
      "text/plain": [
       "1756.005909220501"
      ]
     },
     "execution_count": 38,
     "metadata": {},
     "output_type": "execute_result"
    }
   ],
   "source": [
    "grid_cat.best_score_\n",
    "np.sqrt(-1 *grid_cat.best_score_)"
   ]
  },
  {
   "cell_type": "code",
   "execution_count": 39,
   "metadata": {},
   "outputs": [],
   "source": [
    "model_cat = CatBoostRegressor(iterations=10, \n",
    "                          depth=10, \n",
    "                          learning_rate=1, \n",
    "                          loss_function='RMSE',\n",
    "                          cat_features =cats\n",
    "                          \n",
    "                        )"
   ]
  },
  {
   "cell_type": "markdown",
   "metadata": {},
   "source": [
    "# LGBMRegressor"
   ]
  },
  {
   "cell_type": "code",
   "execution_count": 40,
   "metadata": {
    "scrolled": true
   },
   "outputs": [],
   "source": [
    "\n",
    "X, y =features_train,target_train\n",
    "model_LGBM = LGBMRegressor(#max_depth=10,                        \n",
    "                        #num_iterations=100,\n",
    "                        #learning_rate =1,\n",
    "                        categorical_feature=cats,\n",
    "                        metric=\"rmse\",\n",
    "                                                                     \n",
    "                       )\n",
    "\n",
    "\n"
   ]
  },
  {
   "cell_type": "code",
   "execution_count": 41,
   "metadata": {},
   "outputs": [],
   "source": [
    "grid_LGBM = GridSearchCV(model_LGBM,\n",
    "                        param,\n",
    "                        cv=cv,                        \n",
    "                        scoring='neg_mean_squared_error',\n",
    "                        verbose=True)"
   ]
  },
  {
   "cell_type": "code",
   "execution_count": 42,
   "metadata": {},
   "outputs": [
    {
     "name": "stdout",
     "output_type": "stream",
     "text": [
      "Fitting 5 folds for each of 4 candidates, totalling 20 fits\n",
      "CPU times: user 14 s, sys: 44.4 ms, total: 14.1 s\n",
      "Wall time: 14.1 s\n"
     ]
    },
    {
     "data": {
      "text/plain": [
       "GridSearchCV(cv=KFold(n_splits=5, random_state=12345, shuffle=True),\n",
       "             estimator=LGBMRegressor(categorical_feature=['VehicleType',\n",
       "                                                          'Gearbox', 'Model',\n",
       "                                                          'FuelType', 'Brand',\n",
       "                                                          'RegistrationYear',\n",
       "                                                          'Repaired'],\n",
       "                                     metric='rmse'),\n",
       "             param_grid={'learning_rate': [1], 'max_depth': [6, 10],\n",
       "                         'n_estimators': [1, 10]},\n",
       "             scoring='neg_mean_squared_error', verbose=True)"
      ]
     },
     "execution_count": 42,
     "metadata": {},
     "output_type": "execute_result"
    }
   ],
   "source": [
    "%%time\n",
    "grid_LGBM.fit(X, y);"
   ]
  },
  {
   "cell_type": "code",
   "execution_count": 43,
   "metadata": {},
   "outputs": [
    {
     "data": {
      "text/plain": [
       "{'learning_rate': 1, 'max_depth': 10, 'n_estimators': 10}"
      ]
     },
     "execution_count": 43,
     "metadata": {},
     "output_type": "execute_result"
    }
   ],
   "source": [
    "grid_LGBM.best_params_"
   ]
  },
  {
   "cell_type": "code",
   "execution_count": 44,
   "metadata": {},
   "outputs": [
    {
     "data": {
      "text/plain": [
       "1795.7343978308973"
      ]
     },
     "execution_count": 44,
     "metadata": {},
     "output_type": "execute_result"
    }
   ],
   "source": [
    "np.sqrt(-1 *grid_LGBM.best_score_)"
   ]
  },
  {
   "cell_type": "code",
   "execution_count": 45,
   "metadata": {},
   "outputs": [],
   "source": [
    "model_LGBM = LGBMRegressor(max_depth=10,                        \n",
    "                        num_iterations=10,\n",
    "                        learning_rate =1,\n",
    "                        categorical_feature=cats,\n",
    "                        metric=\"rmse\",\n",
    "                                                                     \n",
    "                       )\n",
    "\n",
    "\n"
   ]
  },
  {
   "cell_type": "markdown",
   "metadata": {},
   "source": [
    "# OHE"
   ]
  },
  {
   "cell_type": "code",
   "execution_count": 46,
   "metadata": {},
   "outputs": [
    {
     "data": {
      "text/plain": [
       "190757"
      ]
     },
     "execution_count": 46,
     "metadata": {},
     "output_type": "execute_result"
    }
   ],
   "source": [
    "oh=cars.copy()\n",
    "for i in oh[cats]:\n",
    "    oh[i]=oh[i].astype('object')\n",
    "    \n",
    "###############################################################\n",
    "# data_ohe = pd.get_dummies(oh,columns=cats,drop_first=True)\n",
    "# t2 = data_ohe['Price']\n",
    "# f2 = data_ohe.drop('Price', axis=1)\n",
    "# f2_train, f2_valid, t2_train, t2_valid = train_test_split(f2, t2, test_size=0.4, random_state=12345)\n",
    "# f2_test, f2_valid, t2_test, t2_valid = train_test_split(f2_valid, t2_valid, test_size=0.5, random_state=12345)\n",
    "\n",
    "\n",
    "# scaler = StandardScaler()\n",
    "# scaler.fit(f2_train)\n",
    "# f2_train = scaler.transform(f2_train)\n",
    "# f2_valid = scaler.transform(f2_valid)\n",
    "\n",
    "\n",
    "#################################################################\n",
    "t2 = oh['Price']\n",
    "f2 = oh.drop('Price', axis=1)\n",
    "f2_train, f2_valid, t2_train, t2_valid = train_test_split(f2, t2, test_size=0.4, random_state=12345)\n",
    "f2_test, f2_valid, t2_test, t2_valid = train_test_split(f2_valid, t2_valid, test_size=0.5, random_state=12345)\n",
    "\n",
    "\n",
    "\n",
    "en = OneHotEncoder(handle_unknown=\"ignore\")\n",
    "en.fit(f2_train) \n",
    "\n",
    "\n",
    "\n",
    "f2_train = en.transform(f2_train)\n",
    "f2_valid = en.transform(f2_valid)\n",
    "f2_test = en.transform(f2_test)\n",
    "\n",
    "\n",
    "scaler = StandardScaler(with_mean=False)\n",
    "scaler.fit(f2_train)\n",
    "f2_train = scaler.transform(f2_train)\n",
    "f2_valid = scaler.transform(f2_valid)\n",
    "f2_test = scaler.transform(f2_test)\n",
    "########################################################\n",
    "\n",
    "\n",
    "model_ohe = LinearRegression()\n",
    "f2_train.shape[0]\n"
   ]
  },
  {
   "cell_type": "markdown",
   "metadata": {},
   "source": [
    "# LinearRegression"
   ]
  },
  {
   "cell_type": "markdown",
   "metadata": {},
   "source": [
    "## Анализ моделей"
   ]
  },
  {
   "cell_type": "code",
   "execution_count": 47,
   "metadata": {
    "scrolled": true
   },
   "outputs": [
    {
     "name": "stdout",
     "output_type": "stream",
     "text": [
      "0:\tlearn: 2379.1960777\ttotal: 127ms\tremaining: 1.14s\n",
      "1:\tlearn: 2062.0276921\ttotal: 246ms\tremaining: 985ms\n",
      "2:\tlearn: 1940.3766131\ttotal: 357ms\tremaining: 834ms\n",
      "3:\tlearn: 1890.0103300\ttotal: 462ms\tremaining: 693ms\n",
      "4:\tlearn: 1844.6780076\ttotal: 558ms\tremaining: 558ms\n",
      "5:\tlearn: 1791.4700744\ttotal: 658ms\tremaining: 439ms\n",
      "6:\tlearn: 1757.8409254\ttotal: 761ms\tremaining: 326ms\n",
      "7:\tlearn: 1733.3709915\ttotal: 860ms\tremaining: 215ms\n",
      "8:\tlearn: 1707.6235839\ttotal: 955ms\tremaining: 106ms\n",
      "9:\tlearn: 1687.1663970\ttotal: 1.05s\tremaining: 0us\n"
     ]
    }
   ],
   "source": [
    "res=[]\n",
    "\n",
    "res.append(best(model_cat, features_train, target_train, features_valid, target_valid))"
   ]
  },
  {
   "cell_type": "code",
   "execution_count": 48,
   "metadata": {},
   "outputs": [],
   "source": [
    "res.append(best(model_LGBM, features_train, target_train, features_valid, target_valid))"
   ]
  },
  {
   "cell_type": "code",
   "execution_count": 49,
   "metadata": {},
   "outputs": [],
   "source": [
    "res.append(best(model_ohe, f2_train, t2_train, f2_valid, t2_valid))"
   ]
  },
  {
   "cell_type": "code",
   "execution_count": 50,
   "metadata": {
    "scrolled": true
   },
   "outputs": [
    {
     "data": {
      "text/html": [
       "<div>\n",
       "<style scoped>\n",
       "    .dataframe tbody tr th:only-of-type {\n",
       "        vertical-align: middle;\n",
       "    }\n",
       "\n",
       "    .dataframe tbody tr th {\n",
       "        vertical-align: top;\n",
       "    }\n",
       "\n",
       "    .dataframe thead th {\n",
       "        text-align: right;\n",
       "    }\n",
       "</style>\n",
       "<table border=\"1\" class=\"dataframe\">\n",
       "  <thead>\n",
       "    <tr style=\"text-align: right;\">\n",
       "      <th></th>\n",
       "      <th>Время_обучения</th>\n",
       "      <th>Время_Предсказания</th>\n",
       "      <th>RMSE</th>\n",
       "    </tr>\n",
       "  </thead>\n",
       "  <tbody>\n",
       "    <tr>\n",
       "      <th>CatBoost</th>\n",
       "      <td>1.839719</td>\n",
       "      <td>0.043061</td>\n",
       "      <td>1753.139021</td>\n",
       "    </tr>\n",
       "    <tr>\n",
       "      <th>LightGBM</th>\n",
       "      <td>0.918445</td>\n",
       "      <td>0.021594</td>\n",
       "      <td>1803.009592</td>\n",
       "    </tr>\n",
       "    <tr>\n",
       "      <th>OneHotEncoder</th>\n",
       "      <td>5.876335</td>\n",
       "      <td>0.002007</td>\n",
       "      <td>1989.709507</td>\n",
       "    </tr>\n",
       "  </tbody>\n",
       "</table>\n",
       "</div>"
      ],
      "text/plain": [
       "               Время_обучения  Время_Предсказания         RMSE\n",
       "CatBoost             1.839719            0.043061  1753.139021\n",
       "LightGBM             0.918445            0.021594  1803.009592\n",
       "OneHotEncoder        5.876335            0.002007  1989.709507"
      ]
     },
     "execution_count": 50,
     "metadata": {},
     "output_type": "execute_result"
    }
   ],
   "source": [
    "pd.DataFrame(data=res,\n",
    "index=['CatBoost','LightGBM','OneHotEncoder' ],\n",
    "columns=['Время_обучения', 'Время_Предсказания', 'RMSE']).sort_values(ascending=True,by='RMSE')\n"
   ]
  },
  {
   "cell_type": "code",
   "execution_count": 51,
   "metadata": {},
   "outputs": [
    {
     "name": "stdout",
     "output_type": "stream",
     "text": [
      "1727.7762397328434\n"
     ]
    }
   ],
   "source": [
    "predictions_cat = model_cat.predict(features_test)\n",
    "rmse_cat = mean_squared_error(target_test, predictions_cat) ** 0.5\n",
    "print( rmse_cat)"
   ]
  },
  {
   "cell_type": "markdown",
   "metadata": {},
   "source": [
    "# вывод:"
   ]
  },
  {
   "cell_type": "markdown",
   "metadata": {},
   "source": [
    "по результатам кросс-валидации catboost обучил  лучше и быстрее всех на этих данных.и чем больше итерации и деревя тем больше разница.\n",
    "хотя параметры были минимальные мы не знаем что будет если оба зарядим по всем параметрам.и один и другой имеют козыри в рукавах и огромный арсенал параметров.\n",
    "OHE тоже показал не плохие резултаты но опять же крос-валидационные методи не оставят шанса когда даже только итерации  сделаем чуть по больше"
   ]
  }
 ],
 "metadata": {
  "ExecuteTimeLog": [
   {
    "duration": 1365,
    "start_time": "2023-01-12T13:31:53.701Z"
   },
   {
    "duration": 2815,
    "start_time": "2023-01-12T13:31:55.068Z"
   },
   {
    "duration": 21,
    "start_time": "2023-01-12T13:31:57.885Z"
   },
   {
    "duration": 104,
    "start_time": "2023-01-12T13:32:29.393Z"
   },
   {
    "duration": 788,
    "start_time": "2023-01-12T13:32:37.784Z"
   },
   {
    "duration": 68,
    "start_time": "2023-01-12T13:32:40.208Z"
   },
   {
    "duration": 8,
    "start_time": "2023-01-12T13:32:41.009Z"
   },
   {
    "duration": 429,
    "start_time": "2023-01-12T13:33:45.983Z"
   },
   {
    "duration": 1006,
    "start_time": "2023-01-12T13:34:44.210Z"
   },
   {
    "duration": 972,
    "start_time": "2023-01-12T13:38:20.546Z"
   },
   {
    "duration": 2138,
    "start_time": "2023-01-12T13:38:47.346Z"
   },
   {
    "duration": 2190,
    "start_time": "2023-01-12T13:39:58.018Z"
   },
   {
    "duration": 949,
    "start_time": "2023-01-12T13:40:16.677Z"
   },
   {
    "duration": 3,
    "start_time": "2023-01-12T13:40:41.993Z"
   },
   {
    "duration": 690,
    "start_time": "2023-01-12T13:40:42.388Z"
   },
   {
    "duration": 926,
    "start_time": "2023-01-12T13:40:43.080Z"
   },
   {
    "duration": 1376,
    "start_time": "2023-01-12T13:41:51.539Z"
   },
   {
    "duration": 1108,
    "start_time": "2023-01-12T13:42:52.788Z"
   },
   {
    "duration": 1293,
    "start_time": "2023-01-12T13:46:27.040Z"
   },
   {
    "duration": 1165,
    "start_time": "2023-01-12T13:47:03.365Z"
   },
   {
    "duration": 205,
    "start_time": "2023-01-12T13:50:51.151Z"
   },
   {
    "duration": 5,
    "start_time": "2023-01-12T13:51:00.957Z"
   },
   {
    "duration": 232,
    "start_time": "2023-01-12T13:51:22.685Z"
   },
   {
    "duration": 4,
    "start_time": "2023-01-12T13:51:23.773Z"
   },
   {
    "duration": 3,
    "start_time": "2023-01-12T13:52:13.117Z"
   },
   {
    "duration": 4,
    "start_time": "2023-01-12T13:53:27.176Z"
   },
   {
    "duration": 601,
    "start_time": "2023-01-12T13:53:50.303Z"
   },
   {
    "duration": 7351,
    "start_time": "2023-01-12T13:54:00.114Z"
   },
   {
    "duration": 24,
    "start_time": "2023-01-12T14:01:00.694Z"
   },
   {
    "duration": 352,
    "start_time": "2023-01-12T14:01:07.473Z"
   },
   {
    "duration": 742,
    "start_time": "2023-01-12T14:01:07.837Z"
   },
   {
    "duration": 447,
    "start_time": "2023-01-12T14:01:08.581Z"
   },
   {
    "duration": 746,
    "start_time": "2023-01-12T14:01:25.708Z"
   },
   {
    "duration": 640,
    "start_time": "2023-01-12T14:11:23.852Z"
   },
   {
    "duration": 399,
    "start_time": "2023-01-12T14:11:49.717Z"
   },
   {
    "duration": 715,
    "start_time": "2023-01-12T14:12:08.593Z"
   },
   {
    "duration": 737,
    "start_time": "2023-01-12T14:12:43.380Z"
   },
   {
    "duration": 707,
    "start_time": "2023-01-12T14:13:42.492Z"
   },
   {
    "duration": 1425,
    "start_time": "2023-01-12T14:15:06.160Z"
   },
   {
    "duration": 784,
    "start_time": "2023-01-12T14:15:07.587Z"
   },
   {
    "duration": 849,
    "start_time": "2023-01-12T14:15:08.372Z"
   },
   {
    "duration": 3,
    "start_time": "2023-01-12T14:58:54.879Z"
   },
   {
    "duration": 819,
    "start_time": "2023-01-12T14:58:55.632Z"
   },
   {
    "duration": 13,
    "start_time": "2023-01-12T14:59:06.007Z"
   },
   {
    "duration": 4,
    "start_time": "2023-01-12T15:00:15.903Z"
   },
   {
    "duration": 451,
    "start_time": "2023-01-12T15:00:56.979Z"
   },
   {
    "duration": 123,
    "start_time": "2023-01-12T15:01:23.920Z"
   },
   {
    "duration": 467,
    "start_time": "2023-01-12T15:03:00.577Z"
   },
   {
    "duration": 428,
    "start_time": "2023-01-12T15:03:09.984Z"
   },
   {
    "duration": 3,
    "start_time": "2023-01-12T15:03:20.111Z"
   },
   {
    "duration": 5,
    "start_time": "2023-01-12T15:03:43.561Z"
   },
   {
    "duration": 3,
    "start_time": "2023-01-12T15:04:03.459Z"
   },
   {
    "duration": 8,
    "start_time": "2023-01-12T15:04:55.885Z"
   },
   {
    "duration": 4,
    "start_time": "2023-01-12T15:05:02.832Z"
   },
   {
    "duration": 9,
    "start_time": "2023-01-12T15:05:29.180Z"
   },
   {
    "duration": 9,
    "start_time": "2023-01-12T15:05:37.305Z"
   },
   {
    "duration": 5,
    "start_time": "2023-01-12T15:05:43.026Z"
   },
   {
    "duration": 14,
    "start_time": "2023-01-12T15:06:28.945Z"
   },
   {
    "duration": 52,
    "start_time": "2023-01-12T15:07:11.929Z"
   },
   {
    "duration": 44,
    "start_time": "2023-01-12T15:07:41.257Z"
   },
   {
    "duration": 10,
    "start_time": "2023-01-12T15:07:52.181Z"
   },
   {
    "duration": 47,
    "start_time": "2023-01-12T15:07:57.913Z"
   },
   {
    "duration": 6,
    "start_time": "2023-01-12T15:08:41.722Z"
   },
   {
    "duration": 45,
    "start_time": "2023-01-12T15:09:09.285Z"
   },
   {
    "duration": 51,
    "start_time": "2023-01-12T15:10:04.474Z"
   },
   {
    "duration": 10,
    "start_time": "2023-01-12T15:10:28.443Z"
   },
   {
    "duration": 45,
    "start_time": "2023-01-12T15:10:38.682Z"
   },
   {
    "duration": 74,
    "start_time": "2023-01-12T15:11:11.862Z"
   },
   {
    "duration": 42,
    "start_time": "2023-01-12T15:11:48.331Z"
   },
   {
    "duration": 181,
    "start_time": "2023-01-12T15:11:59.123Z"
   },
   {
    "duration": 412,
    "start_time": "2023-01-12T15:12:46.035Z"
   },
   {
    "duration": 10,
    "start_time": "2023-01-12T15:14:05.826Z"
   },
   {
    "duration": 73,
    "start_time": "2023-01-12T15:14:16.118Z"
   },
   {
    "duration": 120,
    "start_time": "2023-01-12T15:16:32.772Z"
   },
   {
    "duration": 82,
    "start_time": "2023-01-12T15:17:06.408Z"
   },
   {
    "duration": 84,
    "start_time": "2023-01-12T15:17:17.980Z"
   },
   {
    "duration": 162,
    "start_time": "2023-01-12T15:17:50.469Z"
   },
   {
    "duration": 157,
    "start_time": "2023-01-12T15:17:55.431Z"
   },
   {
    "duration": 78,
    "start_time": "2023-01-12T15:18:02.588Z"
   },
   {
    "duration": 74,
    "start_time": "2023-01-12T15:19:08.996Z"
   },
   {
    "duration": 87,
    "start_time": "2023-01-12T15:19:23.894Z"
   },
   {
    "duration": 79,
    "start_time": "2023-01-12T15:19:30.643Z"
   },
   {
    "duration": 74,
    "start_time": "2023-01-12T15:19:44.693Z"
   },
   {
    "duration": 14,
    "start_time": "2023-01-12T15:59:48.848Z"
   },
   {
    "duration": 3,
    "start_time": "2023-01-12T16:00:40.686Z"
   },
   {
    "duration": 3,
    "start_time": "2023-01-12T16:00:54.462Z"
   },
   {
    "duration": 408,
    "start_time": "2023-01-12T16:00:55.111Z"
   },
   {
    "duration": 1014,
    "start_time": "2023-01-12T16:01:37.278Z"
   },
   {
    "duration": 44,
    "start_time": "2023-01-12T16:02:19.960Z"
   },
   {
    "duration": 1288,
    "start_time": "2023-01-12T16:02:32.023Z"
   },
   {
    "duration": 1034,
    "start_time": "2023-01-12T16:03:09.777Z"
   },
   {
    "duration": 104,
    "start_time": "2023-01-12T16:04:14.944Z"
   },
   {
    "duration": 6,
    "start_time": "2023-01-12T16:04:56.503Z"
   },
   {
    "duration": 5,
    "start_time": "2023-01-12T16:05:07.663Z"
   },
   {
    "duration": 115,
    "start_time": "2023-01-12T16:07:35.628Z"
   },
   {
    "duration": 1423,
    "start_time": "2023-01-12T16:07:41.898Z"
   },
   {
    "duration": 812,
    "start_time": "2023-01-12T16:07:43.322Z"
   },
   {
    "duration": 20,
    "start_time": "2023-01-12T16:07:44.136Z"
   },
   {
    "duration": 19,
    "start_time": "2023-01-12T16:07:44.158Z"
   },
   {
    "duration": 458,
    "start_time": "2023-01-12T16:07:44.178Z"
   },
   {
    "duration": 490,
    "start_time": "2023-01-12T16:07:44.638Z"
   },
   {
    "duration": 3,
    "start_time": "2023-01-12T16:07:45.130Z"
   },
   {
    "duration": 151,
    "start_time": "2023-01-12T16:07:45.135Z"
   },
   {
    "duration": 100,
    "start_time": "2023-01-12T16:07:45.288Z"
   },
   {
    "duration": 51,
    "start_time": "2023-01-12T16:07:45.390Z"
   },
   {
    "duration": 1201,
    "start_time": "2023-01-12T16:07:45.443Z"
   },
   {
    "duration": 104,
    "start_time": "2023-01-12T16:07:46.646Z"
   },
   {
    "duration": 118,
    "start_time": "2023-01-12T16:08:24.088Z"
   },
   {
    "duration": 123,
    "start_time": "2023-01-12T16:09:08.825Z"
   },
   {
    "duration": 14,
    "start_time": "2023-01-12T16:11:51.658Z"
   },
   {
    "duration": 102,
    "start_time": "2023-01-12T16:12:17.189Z"
   },
   {
    "duration": 15,
    "start_time": "2023-01-12T16:12:25.355Z"
   },
   {
    "duration": 12,
    "start_time": "2023-01-12T16:12:35.614Z"
   },
   {
    "duration": 66,
    "start_time": "2023-01-12T16:12:39.818Z"
   },
   {
    "duration": 13,
    "start_time": "2023-01-12T16:12:40.370Z"
   },
   {
    "duration": 68,
    "start_time": "2023-01-12T16:12:46.978Z"
   },
   {
    "duration": 10,
    "start_time": "2023-01-12T16:12:47.410Z"
   },
   {
    "duration": 2,
    "start_time": "2023-01-12T16:13:01.419Z"
   },
   {
    "duration": 9,
    "start_time": "2023-01-12T16:13:05.903Z"
   },
   {
    "duration": 3,
    "start_time": "2023-01-12T16:13:06.282Z"
   },
   {
    "duration": 1572,
    "start_time": "2023-01-12T16:13:24.682Z"
   },
   {
    "duration": 914,
    "start_time": "2023-01-12T16:13:26.256Z"
   },
   {
    "duration": 21,
    "start_time": "2023-01-12T16:13:27.172Z"
   },
   {
    "duration": 5,
    "start_time": "2023-01-12T16:13:27.196Z"
   },
   {
    "duration": 532,
    "start_time": "2023-01-12T16:13:27.203Z"
   },
   {
    "duration": 570,
    "start_time": "2023-01-12T16:13:27.737Z"
   },
   {
    "duration": 5,
    "start_time": "2023-01-12T16:13:28.309Z"
   },
   {
    "duration": 143,
    "start_time": "2023-01-12T16:13:28.316Z"
   },
   {
    "duration": 118,
    "start_time": "2023-01-12T16:13:28.461Z"
   },
   {
    "duration": 1152,
    "start_time": "2023-01-12T16:13:28.581Z"
   },
   {
    "duration": 125,
    "start_time": "2023-01-12T16:13:29.735Z"
   },
   {
    "duration": 118,
    "start_time": "2023-01-12T16:13:29.861Z"
   },
   {
    "duration": 120,
    "start_time": "2023-01-12T16:13:29.980Z"
   },
   {
    "duration": 2,
    "start_time": "2023-01-12T16:13:30.102Z"
   },
   {
    "duration": 105,
    "start_time": "2023-01-12T16:13:40.674Z"
   },
   {
    "duration": 9,
    "start_time": "2023-01-12T16:13:46.321Z"
   },
   {
    "duration": 9,
    "start_time": "2023-01-12T16:14:01.665Z"
   },
   {
    "duration": 9,
    "start_time": "2023-01-12T16:15:45.610Z"
   },
   {
    "duration": 1429,
    "start_time": "2023-01-12T16:15:51.171Z"
   },
   {
    "duration": 871,
    "start_time": "2023-01-12T16:15:52.602Z"
   },
   {
    "duration": 16,
    "start_time": "2023-01-12T16:15:53.475Z"
   },
   {
    "duration": 4,
    "start_time": "2023-01-12T16:15:53.492Z"
   },
   {
    "duration": 513,
    "start_time": "2023-01-12T16:15:53.498Z"
   },
   {
    "duration": 543,
    "start_time": "2023-01-12T16:15:54.013Z"
   },
   {
    "duration": 3,
    "start_time": "2023-01-12T16:15:54.558Z"
   },
   {
    "duration": 128,
    "start_time": "2023-01-12T16:15:54.563Z"
   },
   {
    "duration": 97,
    "start_time": "2023-01-12T16:15:54.693Z"
   },
   {
    "duration": 1206,
    "start_time": "2023-01-12T16:15:54.791Z"
   },
   {
    "duration": 134,
    "start_time": "2023-01-12T16:15:55.999Z"
   },
   {
    "duration": 129,
    "start_time": "2023-01-12T16:15:56.135Z"
   },
   {
    "duration": 119,
    "start_time": "2023-01-12T16:15:56.266Z"
   },
   {
    "duration": 13,
    "start_time": "2023-01-12T16:15:56.388Z"
   },
   {
    "duration": 70,
    "start_time": "2023-01-12T16:16:42.773Z"
   },
   {
    "duration": 107,
    "start_time": "2023-01-12T16:16:43.659Z"
   },
   {
    "duration": 10,
    "start_time": "2023-01-12T16:19:03.739Z"
   },
   {
    "duration": 8,
    "start_time": "2023-01-12T16:19:05.238Z"
   },
   {
    "duration": 1378,
    "start_time": "2023-01-12T16:19:11.067Z"
   },
   {
    "duration": 807,
    "start_time": "2023-01-12T16:19:12.447Z"
   },
   {
    "duration": 23,
    "start_time": "2023-01-12T16:19:13.256Z"
   },
   {
    "duration": 35,
    "start_time": "2023-01-12T16:19:13.281Z"
   },
   {
    "duration": 522,
    "start_time": "2023-01-12T16:19:13.318Z"
   },
   {
    "duration": 536,
    "start_time": "2023-01-12T16:19:13.842Z"
   },
   {
    "duration": 4,
    "start_time": "2023-01-12T16:19:14.380Z"
   },
   {
    "duration": 136,
    "start_time": "2023-01-12T16:19:14.386Z"
   },
   {
    "duration": 96,
    "start_time": "2023-01-12T16:19:14.524Z"
   },
   {
    "duration": 1165,
    "start_time": "2023-01-12T16:19:14.621Z"
   },
   {
    "duration": 121,
    "start_time": "2023-01-12T16:19:15.788Z"
   },
   {
    "duration": 117,
    "start_time": "2023-01-12T16:19:15.911Z"
   },
   {
    "duration": 120,
    "start_time": "2023-01-12T16:19:16.030Z"
   },
   {
    "duration": 0,
    "start_time": "2023-01-12T16:19:16.152Z"
   },
   {
    "duration": 24,
    "start_time": "2023-01-12T16:19:27.373Z"
   },
   {
    "duration": 11,
    "start_time": "2023-01-12T16:19:30.408Z"
   },
   {
    "duration": 15,
    "start_time": "2023-01-12T16:20:06.684Z"
   },
   {
    "duration": 1321,
    "start_time": "2023-01-12T16:20:12.135Z"
   },
   {
    "duration": 851,
    "start_time": "2023-01-12T16:20:13.457Z"
   },
   {
    "duration": 16,
    "start_time": "2023-01-12T16:20:14.309Z"
   },
   {
    "duration": 11,
    "start_time": "2023-01-12T16:20:14.327Z"
   },
   {
    "duration": 468,
    "start_time": "2023-01-12T16:20:14.339Z"
   },
   {
    "duration": 493,
    "start_time": "2023-01-12T16:20:14.808Z"
   },
   {
    "duration": 3,
    "start_time": "2023-01-12T16:20:15.302Z"
   },
   {
    "duration": 147,
    "start_time": "2023-01-12T16:20:15.307Z"
   },
   {
    "duration": 107,
    "start_time": "2023-01-12T16:20:15.456Z"
   },
   {
    "duration": 1178,
    "start_time": "2023-01-12T16:20:15.566Z"
   },
   {
    "duration": 122,
    "start_time": "2023-01-12T16:20:16.745Z"
   },
   {
    "duration": 133,
    "start_time": "2023-01-12T16:20:16.869Z"
   },
   {
    "duration": 32,
    "start_time": "2023-01-12T16:20:17.003Z"
   },
   {
    "duration": 11,
    "start_time": "2023-01-12T16:20:17.037Z"
   },
   {
    "duration": 47,
    "start_time": "2023-01-12T16:21:22.188Z"
   },
   {
    "duration": 253,
    "start_time": "2023-01-12T16:21:40.608Z"
   },
   {
    "duration": 288,
    "start_time": "2023-01-12T16:22:20.038Z"
   },
   {
    "duration": 1458,
    "start_time": "2023-01-12T16:24:04.366Z"
   },
   {
    "duration": 800,
    "start_time": "2023-01-12T16:24:05.826Z"
   },
   {
    "duration": 17,
    "start_time": "2023-01-12T16:24:06.628Z"
   },
   {
    "duration": 19,
    "start_time": "2023-01-12T16:24:06.648Z"
   },
   {
    "duration": 487,
    "start_time": "2023-01-12T16:24:06.670Z"
   },
   {
    "duration": 503,
    "start_time": "2023-01-12T16:24:07.159Z"
   },
   {
    "duration": 4,
    "start_time": "2023-01-12T16:24:07.663Z"
   },
   {
    "duration": 142,
    "start_time": "2023-01-12T16:24:07.677Z"
   },
   {
    "duration": 122,
    "start_time": "2023-01-12T16:24:07.820Z"
   },
   {
    "duration": 1134,
    "start_time": "2023-01-12T16:24:07.944Z"
   },
   {
    "duration": 41,
    "start_time": "2023-01-12T16:24:09.079Z"
   },
   {
    "duration": 10,
    "start_time": "2023-01-12T16:24:09.122Z"
   },
   {
    "duration": 66,
    "start_time": "2023-01-12T16:24:09.134Z"
   },
   {
    "duration": 316,
    "start_time": "2023-01-12T16:24:09.203Z"
   },
   {
    "duration": 320,
    "start_time": "2023-01-12T16:24:09.520Z"
   },
   {
    "duration": 3,
    "start_time": "2023-01-12T16:24:23.125Z"
   },
   {
    "duration": 162,
    "start_time": "2023-01-12T16:26:35.889Z"
   },
   {
    "duration": 156,
    "start_time": "2023-01-12T16:43:41.962Z"
   },
   {
    "duration": 827,
    "start_time": "2023-01-12T16:43:48.267Z"
   },
   {
    "duration": 1820,
    "start_time": "2023-01-15T12:49:56.791Z"
   },
   {
    "duration": 1048,
    "start_time": "2023-01-15T12:50:00.191Z"
   },
   {
    "duration": 44,
    "start_time": "2023-01-15T12:51:39.420Z"
   },
   {
    "duration": 4,
    "start_time": "2023-01-15T12:53:03.076Z"
   },
   {
    "duration": 52,
    "start_time": "2023-01-15T12:53:03.957Z"
   },
   {
    "duration": 893,
    "start_time": "2023-01-15T12:53:05.124Z"
   },
   {
    "duration": 40,
    "start_time": "2023-01-15T12:55:21.631Z"
   },
   {
    "duration": 50,
    "start_time": "2023-01-15T12:55:34.622Z"
   },
   {
    "duration": 49,
    "start_time": "2023-01-15T12:57:49.312Z"
   },
   {
    "duration": 2806,
    "start_time": "2023-01-15T12:58:03.407Z"
   },
   {
    "duration": 60,
    "start_time": "2023-01-15T12:58:11.231Z"
   },
   {
    "duration": 50,
    "start_time": "2023-01-15T12:58:31.009Z"
   },
   {
    "duration": 46,
    "start_time": "2023-01-15T13:00:32.774Z"
   },
   {
    "duration": 5,
    "start_time": "2023-01-15T13:01:21.622Z"
   },
   {
    "duration": 827,
    "start_time": "2023-01-15T13:01:24.167Z"
   },
   {
    "duration": 16,
    "start_time": "2023-01-15T13:01:26.544Z"
   },
   {
    "duration": 1358,
    "start_time": "2023-01-15T13:01:38.419Z"
   },
   {
    "duration": 858,
    "start_time": "2023-01-15T13:01:39.779Z"
   },
   {
    "duration": 16,
    "start_time": "2023-01-15T13:01:40.639Z"
   },
   {
    "duration": 3,
    "start_time": "2023-01-15T13:01:40.657Z"
   },
   {
    "duration": 449,
    "start_time": "2023-01-15T13:01:40.662Z"
   },
   {
    "duration": 469,
    "start_time": "2023-01-15T13:01:41.113Z"
   },
   {
    "duration": 3,
    "start_time": "2023-01-15T13:01:41.584Z"
   },
   {
    "duration": 129,
    "start_time": "2023-01-15T13:01:41.589Z"
   },
   {
    "duration": 124,
    "start_time": "2023-01-15T13:01:41.720Z"
   },
   {
    "duration": 1196,
    "start_time": "2023-01-15T13:01:41.846Z"
   },
   {
    "duration": 47,
    "start_time": "2023-01-15T13:01:43.044Z"
   },
   {
    "duration": 10,
    "start_time": "2023-01-15T13:01:43.093Z"
   },
   {
    "duration": 74,
    "start_time": "2023-01-15T13:01:43.104Z"
   },
   {
    "duration": 285,
    "start_time": "2023-01-15T13:01:43.179Z"
   },
   {
    "duration": 294,
    "start_time": "2023-01-15T13:01:43.465Z"
   },
   {
    "duration": 5,
    "start_time": "2023-01-15T13:01:43.761Z"
   },
   {
    "duration": 159,
    "start_time": "2023-01-15T13:01:43.775Z"
   },
   {
    "duration": 2,
    "start_time": "2023-01-15T13:01:43.936Z"
   },
   {
    "duration": 4,
    "start_time": "2023-01-15T13:06:02.699Z"
   },
   {
    "duration": 1415,
    "start_time": "2023-01-15T13:06:59.734Z"
   },
   {
    "duration": 856,
    "start_time": "2023-01-15T13:07:01.152Z"
   },
   {
    "duration": 18,
    "start_time": "2023-01-15T13:07:02.009Z"
   },
   {
    "duration": 19,
    "start_time": "2023-01-15T13:07:02.029Z"
   },
   {
    "duration": 471,
    "start_time": "2023-01-15T13:07:02.051Z"
   },
   {
    "duration": 508,
    "start_time": "2023-01-15T13:07:02.523Z"
   },
   {
    "duration": 4,
    "start_time": "2023-01-15T13:07:03.032Z"
   },
   {
    "duration": 133,
    "start_time": "2023-01-15T13:07:03.037Z"
   },
   {
    "duration": 133,
    "start_time": "2023-01-15T13:07:03.171Z"
   },
   {
    "duration": 1243,
    "start_time": "2023-01-15T13:07:03.305Z"
   },
   {
    "duration": 45,
    "start_time": "2023-01-15T13:07:04.550Z"
   },
   {
    "duration": 10,
    "start_time": "2023-01-15T13:07:04.596Z"
   },
   {
    "duration": 73,
    "start_time": "2023-01-15T13:07:04.607Z"
   },
   {
    "duration": 319,
    "start_time": "2023-01-15T13:07:04.683Z"
   },
   {
    "duration": 397,
    "start_time": "2023-01-15T13:07:05.003Z"
   },
   {
    "duration": 4,
    "start_time": "2023-01-15T13:07:05.401Z"
   },
   {
    "duration": 182,
    "start_time": "2023-01-15T13:07:05.407Z"
   },
   {
    "duration": 3,
    "start_time": "2023-01-15T13:07:05.592Z"
   },
   {
    "duration": 10,
    "start_time": "2023-01-15T13:07:05.596Z"
   },
   {
    "duration": 69016,
    "start_time": "2023-01-15T13:07:05.608Z"
   },
   {
    "duration": 47,
    "start_time": "2023-01-15T13:09:04.467Z"
   },
   {
    "duration": 4,
    "start_time": "2023-01-15T13:09:42.361Z"
   },
   {
    "duration": 71059,
    "start_time": "2023-01-15T13:11:06.170Z"
   },
   {
    "duration": 4,
    "start_time": "2023-01-15T13:12:48.315Z"
   },
   {
    "duration": 46,
    "start_time": "2023-01-15T13:15:20.661Z"
   },
   {
    "duration": 3,
    "start_time": "2023-01-15T13:16:04.141Z"
   },
   {
    "duration": 3,
    "start_time": "2023-01-15T13:17:10.661Z"
   },
   {
    "duration": 166,
    "start_time": "2023-01-15T13:18:07.905Z"
   },
   {
    "duration": 124,
    "start_time": "2023-01-15T13:19:48.159Z"
   },
   {
    "duration": 132,
    "start_time": "2023-01-15T13:20:32.207Z"
   },
   {
    "duration": 4,
    "start_time": "2023-01-15T13:21:00.926Z"
   },
   {
    "duration": 124,
    "start_time": "2023-01-15T13:21:01.662Z"
   },
   {
    "duration": 34,
    "start_time": "2023-01-15T13:21:26.542Z"
   },
   {
    "duration": 3,
    "start_time": "2023-01-15T13:23:45.225Z"
   },
   {
    "duration": 74,
    "start_time": "2023-01-15T13:23:52.472Z"
   },
   {
    "duration": 1721,
    "start_time": "2023-01-15T13:24:04.695Z"
   },
   {
    "duration": 1324,
    "start_time": "2023-01-15T13:24:54.532Z"
   },
   {
    "duration": 761,
    "start_time": "2023-01-15T13:24:55.858Z"
   },
   {
    "duration": 15,
    "start_time": "2023-01-15T13:24:56.621Z"
   },
   {
    "duration": 4,
    "start_time": "2023-01-15T13:24:56.638Z"
   },
   {
    "duration": 445,
    "start_time": "2023-01-15T13:24:56.645Z"
   },
   {
    "duration": 475,
    "start_time": "2023-01-15T13:24:57.092Z"
   },
   {
    "duration": 7,
    "start_time": "2023-01-15T13:24:57.569Z"
   },
   {
    "duration": 121,
    "start_time": "2023-01-15T13:24:57.578Z"
   },
   {
    "duration": 129,
    "start_time": "2023-01-15T13:24:57.700Z"
   },
   {
    "duration": 1168,
    "start_time": "2023-01-15T13:24:57.831Z"
   },
   {
    "duration": 34,
    "start_time": "2023-01-15T13:24:59.001Z"
   },
   {
    "duration": 10,
    "start_time": "2023-01-15T13:24:59.036Z"
   },
   {
    "duration": 75,
    "start_time": "2023-01-15T13:24:59.047Z"
   },
   {
    "duration": 293,
    "start_time": "2023-01-15T13:24:59.124Z"
   },
   {
    "duration": 298,
    "start_time": "2023-01-15T13:24:59.419Z"
   },
   {
    "duration": 3,
    "start_time": "2023-01-15T13:24:59.718Z"
   },
   {
    "duration": 162,
    "start_time": "2023-01-15T13:24:59.723Z"
   },
   {
    "duration": 2,
    "start_time": "2023-01-15T13:24:59.887Z"
   },
   {
    "duration": 6,
    "start_time": "2023-01-15T13:24:59.891Z"
   },
   {
    "duration": 68028,
    "start_time": "2023-01-15T13:24:59.898Z"
   },
   {
    "duration": 4,
    "start_time": "2023-01-15T13:26:07.927Z"
   },
   {
    "duration": 5,
    "start_time": "2023-01-15T13:26:07.932Z"
   },
   {
    "duration": 1557,
    "start_time": "2023-01-15T13:26:07.939Z"
   },
   {
    "duration": 1641,
    "start_time": "2023-01-15T13:29:16.378Z"
   },
   {
    "duration": 1560,
    "start_time": "2023-01-15T13:29:22.291Z"
   },
   {
    "duration": 4,
    "start_time": "2023-01-15T13:30:06.106Z"
   },
   {
    "duration": 104,
    "start_time": "2023-01-15T13:30:06.739Z"
   },
   {
    "duration": 67360,
    "start_time": "2023-01-15T13:31:21.090Z"
   },
   {
    "duration": 4,
    "start_time": "2023-01-15T13:32:36.595Z"
   },
   {
    "duration": 4,
    "start_time": "2023-01-15T13:33:42.427Z"
   },
   {
    "duration": 67640,
    "start_time": "2023-01-15T13:33:43.774Z"
   },
   {
    "duration": 4,
    "start_time": "2023-01-15T13:35:28.652Z"
   },
   {
    "duration": 55356,
    "start_time": "2023-01-15T13:35:29.220Z"
   },
   {
    "duration": 3,
    "start_time": "2023-01-15T13:36:24.578Z"
   },
   {
    "duration": 144,
    "start_time": "2023-01-15T13:41:45.111Z"
   },
   {
    "duration": 18,
    "start_time": "2023-01-15T13:42:18.342Z"
   },
   {
    "duration": 127,
    "start_time": "2023-01-15T13:42:19.213Z"
   },
   {
    "duration": 38,
    "start_time": "2023-01-15T13:42:20.806Z"
   },
   {
    "duration": 9,
    "start_time": "2023-01-15T13:42:32.197Z"
   },
   {
    "duration": 5,
    "start_time": "2023-01-15T13:42:42.613Z"
   },
   {
    "duration": 135,
    "start_time": "2023-01-15T13:42:43.671Z"
   },
   {
    "duration": 36,
    "start_time": "2023-01-15T13:42:47.246Z"
   },
   {
    "duration": 4,
    "start_time": "2023-01-15T13:43:05.566Z"
   },
   {
    "duration": 120,
    "start_time": "2023-01-15T13:43:06.471Z"
   },
   {
    "duration": 35,
    "start_time": "2023-01-15T13:43:07.910Z"
   },
   {
    "duration": 1391,
    "start_time": "2023-01-15T13:43:14.741Z"
   },
   {
    "duration": 802,
    "start_time": "2023-01-15T13:43:16.134Z"
   },
   {
    "duration": 17,
    "start_time": "2023-01-15T13:43:16.938Z"
   },
   {
    "duration": 5,
    "start_time": "2023-01-15T13:43:16.957Z"
   },
   {
    "duration": 494,
    "start_time": "2023-01-15T13:43:16.963Z"
   },
   {
    "duration": 517,
    "start_time": "2023-01-15T13:43:17.459Z"
   },
   {
    "duration": 4,
    "start_time": "2023-01-15T13:43:17.977Z"
   },
   {
    "duration": 134,
    "start_time": "2023-01-15T13:43:17.983Z"
   },
   {
    "duration": 137,
    "start_time": "2023-01-15T13:43:18.118Z"
   },
   {
    "duration": 1220,
    "start_time": "2023-01-15T13:43:18.257Z"
   },
   {
    "duration": 34,
    "start_time": "2023-01-15T13:43:19.478Z"
   },
   {
    "duration": 9,
    "start_time": "2023-01-15T13:43:19.514Z"
   },
   {
    "duration": 79,
    "start_time": "2023-01-15T13:43:19.525Z"
   },
   {
    "duration": 332,
    "start_time": "2023-01-15T13:43:19.606Z"
   },
   {
    "duration": 290,
    "start_time": "2023-01-15T13:43:19.940Z"
   },
   {
    "duration": 4,
    "start_time": "2023-01-15T13:43:20.231Z"
   },
   {
    "duration": 172,
    "start_time": "2023-01-15T13:43:20.236Z"
   },
   {
    "duration": 2,
    "start_time": "2023-01-15T13:43:20.409Z"
   },
   {
    "duration": 5,
    "start_time": "2023-01-15T13:43:20.413Z"
   },
   {
    "duration": 255,
    "start_time": "2023-01-15T13:43:20.420Z"
   },
   {
    "duration": 33,
    "start_time": "2023-01-15T13:43:20.677Z"
   },
   {
    "duration": 69063,
    "start_time": "2023-01-15T13:44:14.151Z"
   },
   {
    "duration": 4,
    "start_time": "2023-01-15T13:45:39.078Z"
   },
   {
    "duration": 4,
    "start_time": "2023-01-15T13:46:55.463Z"
   },
   {
    "duration": 68592,
    "start_time": "2023-01-15T13:46:58.374Z"
   },
   {
    "duration": 4,
    "start_time": "2023-01-15T13:49:49.824Z"
   },
   {
    "duration": 9,
    "start_time": "2023-01-15T13:51:49.551Z"
   },
   {
    "duration": 10,
    "start_time": "2023-01-15T13:52:03.775Z"
   },
   {
    "duration": 45,
    "start_time": "2023-01-15T13:53:55.033Z"
   },
   {
    "duration": 22,
    "start_time": "2023-01-15T13:54:00.842Z"
   },
   {
    "duration": 697,
    "start_time": "2023-01-15T13:54:14.737Z"
   },
   {
    "duration": 706,
    "start_time": "2023-01-15T13:54:34.656Z"
   },
   {
    "duration": 9,
    "start_time": "2023-01-15T13:54:49.504Z"
   },
   {
    "duration": 1475,
    "start_time": "2023-01-15T13:55:01.807Z"
   },
   {
    "duration": 1367,
    "start_time": "2023-01-15T13:55:52.449Z"
   },
   {
    "duration": 774,
    "start_time": "2023-01-15T13:55:53.817Z"
   },
   {
    "duration": 16,
    "start_time": "2023-01-15T13:55:54.593Z"
   },
   {
    "duration": 4,
    "start_time": "2023-01-15T13:55:54.610Z"
   },
   {
    "duration": 508,
    "start_time": "2023-01-15T13:55:54.616Z"
   },
   {
    "duration": 516,
    "start_time": "2023-01-15T13:55:55.125Z"
   },
   {
    "duration": 3,
    "start_time": "2023-01-15T13:55:55.643Z"
   },
   {
    "duration": 122,
    "start_time": "2023-01-15T13:55:55.647Z"
   },
   {
    "duration": 123,
    "start_time": "2023-01-15T13:55:55.770Z"
   },
   {
    "duration": 1123,
    "start_time": "2023-01-15T13:55:55.895Z"
   },
   {
    "duration": 22,
    "start_time": "2023-01-15T13:55:57.019Z"
   },
   {
    "duration": 43,
    "start_time": "2023-01-15T13:55:57.042Z"
   },
   {
    "duration": 10,
    "start_time": "2023-01-15T13:55:57.086Z"
   },
   {
    "duration": 46,
    "start_time": "2023-01-15T13:55:57.098Z"
   },
   {
    "duration": 214,
    "start_time": "2023-01-15T13:55:57.146Z"
   },
   {
    "duration": 190,
    "start_time": "2023-01-15T13:55:57.362Z"
   },
   {
    "duration": 4,
    "start_time": "2023-01-15T13:55:57.553Z"
   },
   {
    "duration": 122,
    "start_time": "2023-01-15T13:55:57.558Z"
   },
   {
    "duration": 3,
    "start_time": "2023-01-15T13:55:57.682Z"
   },
   {
    "duration": 124,
    "start_time": "2023-01-15T13:55:57.686Z"
   },
   {
    "duration": 22,
    "start_time": "2023-01-15T13:56:39.712Z"
   },
   {
    "duration": 1569,
    "start_time": "2023-01-15T13:57:34.314Z"
   },
   {
    "duration": 20,
    "start_time": "2023-01-15T13:57:51.977Z"
   },
   {
    "duration": 3,
    "start_time": "2023-01-15T14:00:58.958Z"
   },
   {
    "duration": 3,
    "start_time": "2023-01-15T14:01:15.457Z"
   },
   {
    "duration": 1556,
    "start_time": "2023-01-15T14:01:44.328Z"
   },
   {
    "duration": 1296,
    "start_time": "2023-01-15T14:06:48.035Z"
   },
   {
    "duration": 780,
    "start_time": "2023-01-15T14:06:49.334Z"
   },
   {
    "duration": 15,
    "start_time": "2023-01-15T14:06:50.116Z"
   },
   {
    "duration": 3,
    "start_time": "2023-01-15T14:06:50.133Z"
   },
   {
    "duration": 468,
    "start_time": "2023-01-15T14:06:50.137Z"
   },
   {
    "duration": 480,
    "start_time": "2023-01-15T14:06:50.607Z"
   },
   {
    "duration": 4,
    "start_time": "2023-01-15T14:06:51.088Z"
   },
   {
    "duration": 138,
    "start_time": "2023-01-15T14:06:51.093Z"
   },
   {
    "duration": 128,
    "start_time": "2023-01-15T14:06:51.233Z"
   },
   {
    "duration": 1145,
    "start_time": "2023-01-15T14:06:51.363Z"
   },
   {
    "duration": 23,
    "start_time": "2023-01-15T14:06:52.510Z"
   },
   {
    "duration": 43,
    "start_time": "2023-01-15T14:06:52.534Z"
   },
   {
    "duration": 12,
    "start_time": "2023-01-15T14:06:52.579Z"
   },
   {
    "duration": 52,
    "start_time": "2023-01-15T14:06:52.594Z"
   },
   {
    "duration": 218,
    "start_time": "2023-01-15T14:06:52.647Z"
   },
   {
    "duration": 187,
    "start_time": "2023-01-15T14:06:52.866Z"
   },
   {
    "duration": 3,
    "start_time": "2023-01-15T14:06:53.055Z"
   },
   {
    "duration": 132,
    "start_time": "2023-01-15T14:06:53.060Z"
   },
   {
    "duration": 3,
    "start_time": "2023-01-15T14:06:53.194Z"
   },
   {
    "duration": 7,
    "start_time": "2023-01-15T14:06:53.198Z"
   },
   {
    "duration": 1632,
    "start_time": "2023-01-15T14:06:53.206Z"
   },
   {
    "duration": 10,
    "start_time": "2023-01-15T14:07:04.771Z"
   },
   {
    "duration": 9,
    "start_time": "2023-01-15T14:08:01.275Z"
   },
   {
    "duration": 1590,
    "start_time": "2023-01-15T14:08:02.548Z"
   },
   {
    "duration": 3,
    "start_time": "2023-01-15T14:11:07.708Z"
   },
   {
    "duration": 3,
    "start_time": "2023-01-15T14:12:11.044Z"
   },
   {
    "duration": 11,
    "start_time": "2023-01-15T14:12:11.812Z"
   },
   {
    "duration": 1691,
    "start_time": "2023-01-15T14:12:41.573Z"
   },
   {
    "duration": 1449,
    "start_time": "2023-01-15T14:13:37.636Z"
   },
   {
    "duration": 844,
    "start_time": "2023-01-15T14:13:39.087Z"
   },
   {
    "duration": 16,
    "start_time": "2023-01-15T14:13:39.933Z"
   },
   {
    "duration": 6,
    "start_time": "2023-01-15T14:13:39.950Z"
   },
   {
    "duration": 513,
    "start_time": "2023-01-15T14:13:39.958Z"
   },
   {
    "duration": 532,
    "start_time": "2023-01-15T14:13:40.476Z"
   },
   {
    "duration": 5,
    "start_time": "2023-01-15T14:13:41.009Z"
   },
   {
    "duration": 126,
    "start_time": "2023-01-15T14:13:41.016Z"
   },
   {
    "duration": 121,
    "start_time": "2023-01-15T14:13:41.144Z"
   },
   {
    "duration": 1165,
    "start_time": "2023-01-15T14:13:41.275Z"
   },
   {
    "duration": 22,
    "start_time": "2023-01-15T14:13:42.441Z"
   },
   {
    "duration": 42,
    "start_time": "2023-01-15T14:13:42.465Z"
   },
   {
    "duration": 9,
    "start_time": "2023-01-15T14:13:42.508Z"
   },
   {
    "duration": 75,
    "start_time": "2023-01-15T14:13:42.519Z"
   },
   {
    "duration": 222,
    "start_time": "2023-01-15T14:13:42.596Z"
   },
   {
    "duration": 196,
    "start_time": "2023-01-15T14:13:42.819Z"
   },
   {
    "duration": 4,
    "start_time": "2023-01-15T14:13:43.016Z"
   },
   {
    "duration": 119,
    "start_time": "2023-01-15T14:13:43.022Z"
   },
   {
    "duration": 3,
    "start_time": "2023-01-15T14:13:43.143Z"
   },
   {
    "duration": 6,
    "start_time": "2023-01-15T14:13:43.147Z"
   },
   {
    "duration": 1714,
    "start_time": "2023-01-15T14:13:43.155Z"
   },
   {
    "duration": 1355,
    "start_time": "2023-01-15T14:14:27.153Z"
   },
   {
    "duration": 781,
    "start_time": "2023-01-15T14:14:28.510Z"
   },
   {
    "duration": 16,
    "start_time": "2023-01-15T14:14:29.293Z"
   },
   {
    "duration": 4,
    "start_time": "2023-01-15T14:14:29.311Z"
   },
   {
    "duration": 473,
    "start_time": "2023-01-15T14:14:29.316Z"
   },
   {
    "duration": 493,
    "start_time": "2023-01-15T14:14:29.790Z"
   },
   {
    "duration": 4,
    "start_time": "2023-01-15T14:14:30.284Z"
   },
   {
    "duration": 131,
    "start_time": "2023-01-15T14:14:30.290Z"
   },
   {
    "duration": 124,
    "start_time": "2023-01-15T14:14:30.422Z"
   },
   {
    "duration": 1178,
    "start_time": "2023-01-15T14:14:30.548Z"
   },
   {
    "duration": 22,
    "start_time": "2023-01-15T14:14:31.728Z"
   },
   {
    "duration": 42,
    "start_time": "2023-01-15T14:14:31.752Z"
   },
   {
    "duration": 8,
    "start_time": "2023-01-15T14:14:31.796Z"
   },
   {
    "duration": 39,
    "start_time": "2023-01-15T14:14:31.806Z"
   },
   {
    "duration": 186,
    "start_time": "2023-01-15T14:14:31.846Z"
   },
   {
    "duration": 167,
    "start_time": "2023-01-15T14:14:32.033Z"
   },
   {
    "duration": 3,
    "start_time": "2023-01-15T14:14:32.201Z"
   },
   {
    "duration": 115,
    "start_time": "2023-01-15T14:14:32.206Z"
   },
   {
    "duration": 4,
    "start_time": "2023-01-15T14:14:32.327Z"
   },
   {
    "duration": 5,
    "start_time": "2023-01-15T14:14:32.332Z"
   },
   {
    "duration": 1687,
    "start_time": "2023-01-15T14:14:32.339Z"
   },
   {
    "duration": 1386,
    "start_time": "2023-01-15T14:15:07.758Z"
   },
   {
    "duration": 795,
    "start_time": "2023-01-15T14:15:09.146Z"
   },
   {
    "duration": 17,
    "start_time": "2023-01-15T14:15:09.943Z"
   },
   {
    "duration": 16,
    "start_time": "2023-01-15T14:15:09.961Z"
   },
   {
    "duration": 459,
    "start_time": "2023-01-15T14:15:09.978Z"
   },
   {
    "duration": 520,
    "start_time": "2023-01-15T14:15:10.439Z"
   },
   {
    "duration": 4,
    "start_time": "2023-01-15T14:15:10.960Z"
   },
   {
    "duration": 132,
    "start_time": "2023-01-15T14:15:10.966Z"
   },
   {
    "duration": 125,
    "start_time": "2023-01-15T14:15:11.099Z"
   },
   {
    "duration": 1208,
    "start_time": "2023-01-15T14:15:11.226Z"
   },
   {
    "duration": 40,
    "start_time": "2023-01-15T14:15:12.436Z"
   },
   {
    "duration": 24,
    "start_time": "2023-01-15T14:15:12.478Z"
   },
   {
    "duration": 8,
    "start_time": "2023-01-15T14:15:12.504Z"
   },
   {
    "duration": 22,
    "start_time": "2023-01-15T14:15:12.513Z"
   },
   {
    "duration": 97,
    "start_time": "2023-01-15T14:15:12.537Z"
   },
   {
    "duration": 72,
    "start_time": "2023-01-15T14:15:12.636Z"
   },
   {
    "duration": 4,
    "start_time": "2023-01-15T14:15:12.710Z"
   },
   {
    "duration": 69,
    "start_time": "2023-01-15T14:15:12.716Z"
   },
   {
    "duration": 2,
    "start_time": "2023-01-15T14:15:12.787Z"
   },
   {
    "duration": 7,
    "start_time": "2023-01-15T14:15:12.791Z"
   },
   {
    "duration": 1606,
    "start_time": "2023-01-15T14:15:12.799Z"
   },
   {
    "duration": 1293,
    "start_time": "2023-01-15T14:16:26.110Z"
   },
   {
    "duration": 793,
    "start_time": "2023-01-15T14:16:27.405Z"
   },
   {
    "duration": 15,
    "start_time": "2023-01-15T14:16:28.199Z"
   },
   {
    "duration": 4,
    "start_time": "2023-01-15T14:16:28.216Z"
   },
   {
    "duration": 491,
    "start_time": "2023-01-15T14:16:28.221Z"
   },
   {
    "duration": 492,
    "start_time": "2023-01-15T14:16:28.713Z"
   },
   {
    "duration": 4,
    "start_time": "2023-01-15T14:16:29.206Z"
   },
   {
    "duration": 134,
    "start_time": "2023-01-15T14:16:29.211Z"
   },
   {
    "duration": 119,
    "start_time": "2023-01-15T14:16:29.346Z"
   },
   {
    "duration": 1179,
    "start_time": "2023-01-15T14:16:29.468Z"
   },
   {
    "duration": 42,
    "start_time": "2023-01-15T14:16:30.649Z"
   },
   {
    "duration": 51,
    "start_time": "2023-01-15T14:16:30.693Z"
   },
   {
    "duration": 30,
    "start_time": "2023-01-15T14:16:30.746Z"
   },
   {
    "duration": 36,
    "start_time": "2023-01-15T14:16:30.777Z"
   },
   {
    "duration": 86,
    "start_time": "2023-01-15T14:16:30.814Z"
   },
   {
    "duration": 42,
    "start_time": "2023-01-15T14:16:30.902Z"
   },
   {
    "duration": 4,
    "start_time": "2023-01-15T14:16:30.946Z"
   },
   {
    "duration": 71,
    "start_time": "2023-01-15T14:16:30.951Z"
   },
   {
    "duration": 2,
    "start_time": "2023-01-15T14:16:31.024Z"
   },
   {
    "duration": 17,
    "start_time": "2023-01-15T14:16:31.028Z"
   },
   {
    "duration": 999,
    "start_time": "2023-01-15T14:16:31.046Z"
   },
   {
    "duration": 5,
    "start_time": "2023-01-15T14:17:20.117Z"
   },
   {
    "duration": 472,
    "start_time": "2023-01-15T14:17:21.214Z"
   },
   {
    "duration": 3,
    "start_time": "2023-01-15T14:17:50.190Z"
   },
   {
    "duration": 3019,
    "start_time": "2023-01-15T14:17:51.998Z"
   },
   {
    "duration": 2,
    "start_time": "2023-01-15T14:18:21.046Z"
   },
   {
    "duration": 50039,
    "start_time": "2023-01-15T14:18:21.614Z"
   },
   {
    "duration": 4,
    "start_time": "2023-01-15T14:21:16.519Z"
   },
   {
    "duration": 44,
    "start_time": "2023-01-15T14:21:46.710Z"
   },
   {
    "duration": 47333,
    "start_time": "2023-01-15T14:21:47.767Z"
   },
   {
    "duration": 4,
    "start_time": "2023-01-15T14:22:35.102Z"
   },
   {
    "duration": 46,
    "start_time": "2023-01-15T14:22:57.328Z"
   },
   {
    "duration": 48463,
    "start_time": "2023-01-15T14:22:57.976Z"
   },
   {
    "duration": 3,
    "start_time": "2023-01-15T14:24:20.288Z"
   },
   {
    "duration": 16359,
    "start_time": "2023-01-15T14:24:21.969Z"
   },
   {
    "duration": 4,
    "start_time": "2023-01-15T14:24:46.360Z"
   },
   {
    "duration": 4,
    "start_time": "2023-01-15T14:24:57.264Z"
   },
   {
    "duration": 15901,
    "start_time": "2023-01-15T14:24:57.664Z"
   },
   {
    "duration": 5,
    "start_time": "2023-01-15T14:25:19.128Z"
   },
   {
    "duration": 4,
    "start_time": "2023-01-15T14:25:29.976Z"
   },
   {
    "duration": 15787,
    "start_time": "2023-01-15T14:25:30.496Z"
   },
   {
    "duration": 3,
    "start_time": "2023-01-15T14:25:51.297Z"
   },
   {
    "duration": 3,
    "start_time": "2023-01-15T14:26:00.697Z"
   },
   {
    "duration": 14934,
    "start_time": "2023-01-15T14:26:01.306Z"
   },
   {
    "duration": 4,
    "start_time": "2023-01-15T14:26:21.930Z"
   },
   {
    "duration": 3,
    "start_time": "2023-01-15T14:26:31.842Z"
   },
   {
    "duration": 15413,
    "start_time": "2023-01-15T14:26:32.273Z"
   },
   {
    "duration": 4,
    "start_time": "2023-01-15T14:26:47.688Z"
   },
   {
    "duration": 4,
    "start_time": "2023-01-15T14:26:59.460Z"
   },
   {
    "duration": 1452,
    "start_time": "2023-01-15T14:28:04.335Z"
   },
   {
    "duration": 784,
    "start_time": "2023-01-15T14:28:05.789Z"
   },
   {
    "duration": 16,
    "start_time": "2023-01-15T14:28:06.576Z"
   },
   {
    "duration": 4,
    "start_time": "2023-01-15T14:28:06.593Z"
   },
   {
    "duration": 464,
    "start_time": "2023-01-15T14:28:06.599Z"
   },
   {
    "duration": 530,
    "start_time": "2023-01-15T14:28:07.064Z"
   },
   {
    "duration": 4,
    "start_time": "2023-01-15T14:28:07.596Z"
   },
   {
    "duration": 128,
    "start_time": "2023-01-15T14:28:07.601Z"
   },
   {
    "duration": 128,
    "start_time": "2023-01-15T14:28:07.731Z"
   },
   {
    "duration": 1237,
    "start_time": "2023-01-15T14:28:07.861Z"
   },
   {
    "duration": 33,
    "start_time": "2023-01-15T14:28:09.100Z"
   },
   {
    "duration": 25,
    "start_time": "2023-01-15T14:28:09.135Z"
   },
   {
    "duration": 16,
    "start_time": "2023-01-15T14:28:09.161Z"
   },
   {
    "duration": 11,
    "start_time": "2023-01-15T14:28:09.179Z"
   },
   {
    "duration": 50,
    "start_time": "2023-01-15T14:28:09.191Z"
   },
   {
    "duration": 64,
    "start_time": "2023-01-15T14:28:09.242Z"
   },
   {
    "duration": 3,
    "start_time": "2023-01-15T14:28:09.308Z"
   },
   {
    "duration": 50,
    "start_time": "2023-01-15T14:28:09.313Z"
   },
   {
    "duration": 3,
    "start_time": "2023-01-15T14:28:09.375Z"
   },
   {
    "duration": 6,
    "start_time": "2023-01-15T14:28:09.379Z"
   },
   {
    "duration": 6848,
    "start_time": "2023-01-15T14:28:09.387Z"
   },
   {
    "duration": 4,
    "start_time": "2023-01-15T14:28:16.237Z"
   },
   {
    "duration": 3,
    "start_time": "2023-01-15T14:28:29.909Z"
   },
   {
    "duration": 11678,
    "start_time": "2023-01-15T14:28:30.386Z"
   },
   {
    "duration": 5,
    "start_time": "2023-01-15T14:28:42.066Z"
   },
   {
    "duration": 3,
    "start_time": "2023-01-15T14:28:58.281Z"
   },
   {
    "duration": 11423,
    "start_time": "2023-01-15T14:28:58.823Z"
   },
   {
    "duration": 4,
    "start_time": "2023-01-15T14:29:38.587Z"
   },
   {
    "duration": 1000,
    "start_time": "2023-01-15T14:29:39.001Z"
   },
   {
    "duration": 4,
    "start_time": "2023-01-15T14:29:40.003Z"
   },
   {
    "duration": 991,
    "start_time": "2023-01-15T14:29:48.811Z"
   },
   {
    "duration": 3,
    "start_time": "2023-01-15T14:29:57.259Z"
   },
   {
    "duration": 12756,
    "start_time": "2023-01-15T14:29:58.322Z"
   },
   {
    "duration": 4,
    "start_time": "2023-01-15T14:30:11.080Z"
   },
   {
    "duration": 5,
    "start_time": "2023-01-15T14:31:57.883Z"
   },
   {
    "duration": 4,
    "start_time": "2023-01-15T14:32:41.271Z"
   },
   {
    "duration": 5479,
    "start_time": "2023-01-15T14:32:42.000Z"
   },
   {
    "duration": 4,
    "start_time": "2023-01-15T14:32:47.480Z"
   },
   {
    "duration": 6,
    "start_time": "2023-01-15T14:32:47.485Z"
   },
   {
    "duration": 4,
    "start_time": "2023-01-15T14:33:21.767Z"
   },
   {
    "duration": 51562,
    "start_time": "2023-01-15T14:33:22.116Z"
   },
   {
    "duration": 5,
    "start_time": "2023-01-15T14:34:13.681Z"
   },
   {
    "duration": 10,
    "start_time": "2023-01-15T14:34:13.688Z"
   },
   {
    "duration": 5,
    "start_time": "2023-01-15T14:34:17.468Z"
   },
   {
    "duration": 50224,
    "start_time": "2023-01-15T14:34:17.948Z"
   },
   {
    "duration": 4,
    "start_time": "2023-01-15T14:35:08.176Z"
   },
   {
    "duration": 4,
    "start_time": "2023-01-15T14:35:37.045Z"
   },
   {
    "duration": 29291,
    "start_time": "2023-01-15T14:35:37.483Z"
   },
   {
    "duration": 3,
    "start_time": "2023-01-15T14:36:06.776Z"
   },
   {
    "duration": 4,
    "start_time": "2023-01-15T14:36:22.884Z"
   },
   {
    "duration": 45,
    "start_time": "2023-01-15T14:57:10.644Z"
   },
   {
    "duration": 6,
    "start_time": "2023-01-15T14:57:17.379Z"
   },
   {
    "duration": 7,
    "start_time": "2023-01-15T14:57:17.884Z"
   },
   {
    "duration": 5,
    "start_time": "2023-01-15T14:57:18.253Z"
   },
   {
    "duration": 1350,
    "start_time": "2023-01-15T14:57:49.674Z"
   },
   {
    "duration": 1013,
    "start_time": "2023-01-15T14:57:51.026Z"
   },
   {
    "duration": 17,
    "start_time": "2023-01-15T14:57:52.040Z"
   },
   {
    "duration": 3,
    "start_time": "2023-01-15T14:57:52.058Z"
   },
   {
    "duration": 434,
    "start_time": "2023-01-15T14:57:52.063Z"
   },
   {
    "duration": 474,
    "start_time": "2023-01-15T14:57:52.498Z"
   },
   {
    "duration": 3,
    "start_time": "2023-01-15T14:57:52.975Z"
   },
   {
    "duration": 124,
    "start_time": "2023-01-15T14:57:52.980Z"
   },
   {
    "duration": 121,
    "start_time": "2023-01-15T14:57:53.106Z"
   },
   {
    "duration": 1158,
    "start_time": "2023-01-15T14:57:53.228Z"
   },
   {
    "duration": 33,
    "start_time": "2023-01-15T14:57:54.388Z"
   },
   {
    "duration": 22,
    "start_time": "2023-01-15T14:57:54.422Z"
   },
   {
    "duration": 10,
    "start_time": "2023-01-15T14:57:54.446Z"
   },
   {
    "duration": 20,
    "start_time": "2023-01-15T14:57:54.458Z"
   },
   {
    "duration": 48,
    "start_time": "2023-01-15T14:57:54.479Z"
   },
   {
    "duration": 48,
    "start_time": "2023-01-15T14:57:54.528Z"
   },
   {
    "duration": 3,
    "start_time": "2023-01-15T14:57:54.578Z"
   },
   {
    "duration": 51,
    "start_time": "2023-01-15T14:57:54.583Z"
   },
   {
    "duration": 3,
    "start_time": "2023-01-15T14:57:54.636Z"
   },
   {
    "duration": 7,
    "start_time": "2023-01-15T14:57:54.641Z"
   },
   {
    "duration": 51908,
    "start_time": "2023-01-15T14:57:54.649Z"
   },
   {
    "duration": 4,
    "start_time": "2023-01-15T14:58:46.558Z"
   },
   {
    "duration": 14,
    "start_time": "2023-01-15T14:58:46.564Z"
   },
   {
    "duration": 1368,
    "start_time": "2023-01-15T14:59:32.748Z"
   },
   {
    "duration": 798,
    "start_time": "2023-01-15T14:59:34.118Z"
   },
   {
    "duration": 15,
    "start_time": "2023-01-15T14:59:34.918Z"
   },
   {
    "duration": 3,
    "start_time": "2023-01-15T14:59:34.935Z"
   },
   {
    "duration": 600,
    "start_time": "2023-01-15T14:59:34.940Z"
   },
   {
    "duration": 527,
    "start_time": "2023-01-15T14:59:35.541Z"
   },
   {
    "duration": 6,
    "start_time": "2023-01-15T14:59:36.070Z"
   },
   {
    "duration": 133,
    "start_time": "2023-01-15T14:59:36.077Z"
   },
   {
    "duration": 124,
    "start_time": "2023-01-15T14:59:36.212Z"
   },
   {
    "duration": 1214,
    "start_time": "2023-01-15T14:59:36.339Z"
   },
   {
    "duration": 45,
    "start_time": "2023-01-15T14:59:37.555Z"
   },
   {
    "duration": 24,
    "start_time": "2023-01-15T14:59:37.602Z"
   },
   {
    "duration": 11,
    "start_time": "2023-01-15T14:59:37.627Z"
   },
   {
    "duration": 10,
    "start_time": "2023-01-15T14:59:37.639Z"
   },
   {
    "duration": 76,
    "start_time": "2023-01-15T14:59:37.651Z"
   },
   {
    "duration": 52,
    "start_time": "2023-01-15T14:59:37.729Z"
   },
   {
    "duration": 4,
    "start_time": "2023-01-15T14:59:37.783Z"
   },
   {
    "duration": 52,
    "start_time": "2023-01-15T14:59:37.789Z"
   },
   {
    "duration": 3,
    "start_time": "2023-01-15T14:59:37.843Z"
   },
   {
    "duration": 9,
    "start_time": "2023-01-15T14:59:37.848Z"
   },
   {
    "duration": 1433,
    "start_time": "2023-01-15T15:00:24.263Z"
   },
   {
    "duration": 814,
    "start_time": "2023-01-15T15:00:25.698Z"
   },
   {
    "duration": 19,
    "start_time": "2023-01-15T15:00:26.514Z"
   },
   {
    "duration": 18,
    "start_time": "2023-01-15T15:00:26.535Z"
   },
   {
    "duration": 491,
    "start_time": "2023-01-15T15:00:26.555Z"
   },
   {
    "duration": 514,
    "start_time": "2023-01-15T15:00:27.048Z"
   },
   {
    "duration": 4,
    "start_time": "2023-01-15T15:00:27.564Z"
   },
   {
    "duration": 127,
    "start_time": "2023-01-15T15:00:27.576Z"
   },
   {
    "duration": 155,
    "start_time": "2023-01-15T15:00:27.704Z"
   },
   {
    "duration": 1249,
    "start_time": "2023-01-15T15:00:27.862Z"
   },
   {
    "duration": 35,
    "start_time": "2023-01-15T15:00:29.113Z"
   },
   {
    "duration": 41,
    "start_time": "2023-01-15T15:00:29.150Z"
   },
   {
    "duration": 24,
    "start_time": "2023-01-15T15:00:29.192Z"
   },
   {
    "duration": 12,
    "start_time": "2023-01-15T15:00:29.218Z"
   },
   {
    "duration": 55,
    "start_time": "2023-01-15T15:00:29.231Z"
   },
   {
    "duration": 47,
    "start_time": "2023-01-15T15:00:29.287Z"
   },
   {
    "duration": 4,
    "start_time": "2023-01-15T15:00:29.335Z"
   },
   {
    "duration": 60,
    "start_time": "2023-01-15T15:00:29.341Z"
   },
   {
    "duration": 3,
    "start_time": "2023-01-15T15:00:29.403Z"
   },
   {
    "duration": 10,
    "start_time": "2023-01-15T15:00:29.407Z"
   },
   {
    "duration": 1330,
    "start_time": "2023-01-15T15:01:00.114Z"
   },
   {
    "duration": 781,
    "start_time": "2023-01-15T15:01:01.446Z"
   },
   {
    "duration": 16,
    "start_time": "2023-01-15T15:01:02.228Z"
   },
   {
    "duration": 7,
    "start_time": "2023-01-15T15:01:02.246Z"
   },
   {
    "duration": 477,
    "start_time": "2023-01-15T15:01:02.254Z"
   },
   {
    "duration": 514,
    "start_time": "2023-01-15T15:01:02.733Z"
   },
   {
    "duration": 4,
    "start_time": "2023-01-15T15:01:03.249Z"
   },
   {
    "duration": 132,
    "start_time": "2023-01-15T15:01:03.254Z"
   },
   {
    "duration": 131,
    "start_time": "2023-01-15T15:01:03.387Z"
   },
   {
    "duration": 1176,
    "start_time": "2023-01-15T15:01:03.522Z"
   },
   {
    "duration": 33,
    "start_time": "2023-01-15T15:01:04.700Z"
   },
   {
    "duration": 24,
    "start_time": "2023-01-15T15:01:04.735Z"
   },
   {
    "duration": 18,
    "start_time": "2023-01-15T15:01:04.761Z"
   },
   {
    "duration": 9,
    "start_time": "2023-01-15T15:01:04.781Z"
   },
   {
    "duration": 57,
    "start_time": "2023-01-15T15:01:04.791Z"
   },
   {
    "duration": 71,
    "start_time": "2023-01-15T15:01:04.850Z"
   },
   {
    "duration": 4,
    "start_time": "2023-01-15T15:01:04.924Z"
   },
   {
    "duration": 76,
    "start_time": "2023-01-15T15:01:04.930Z"
   },
   {
    "duration": 3,
    "start_time": "2023-01-15T15:01:05.008Z"
   },
   {
    "duration": 9,
    "start_time": "2023-01-15T15:01:05.013Z"
   },
   {
    "duration": 46,
    "start_time": "2023-01-15T15:21:53.707Z"
   },
   {
    "duration": 6,
    "start_time": "2023-01-15T15:21:54.100Z"
   },
   {
    "duration": 1358,
    "start_time": "2023-01-15T15:22:00.390Z"
   },
   {
    "duration": 1069,
    "start_time": "2023-01-15T15:22:01.750Z"
   },
   {
    "duration": 16,
    "start_time": "2023-01-15T15:22:02.821Z"
   },
   {
    "duration": 4,
    "start_time": "2023-01-15T15:22:02.839Z"
   },
   {
    "duration": 433,
    "start_time": "2023-01-15T15:22:02.845Z"
   },
   {
    "duration": 482,
    "start_time": "2023-01-15T15:22:03.280Z"
   },
   {
    "duration": 12,
    "start_time": "2023-01-15T15:22:03.764Z"
   },
   {
    "duration": 165,
    "start_time": "2023-01-15T15:22:03.778Z"
   },
   {
    "duration": 157,
    "start_time": "2023-01-15T15:22:03.945Z"
   },
   {
    "duration": 1335,
    "start_time": "2023-01-15T15:22:04.104Z"
   },
   {
    "duration": 36,
    "start_time": "2023-01-15T15:22:05.440Z"
   },
   {
    "duration": 30,
    "start_time": "2023-01-15T15:22:05.479Z"
   },
   {
    "duration": 34,
    "start_time": "2023-01-15T15:22:05.510Z"
   },
   {
    "duration": 16,
    "start_time": "2023-01-15T15:22:05.547Z"
   },
   {
    "duration": 44,
    "start_time": "2023-01-15T15:22:05.566Z"
   },
   {
    "duration": 45,
    "start_time": "2023-01-15T15:22:05.612Z"
   },
   {
    "duration": 5,
    "start_time": "2023-01-15T15:22:05.659Z"
   },
   {
    "duration": 45,
    "start_time": "2023-01-15T15:22:05.676Z"
   },
   {
    "duration": 3,
    "start_time": "2023-01-15T15:22:05.722Z"
   },
   {
    "duration": 10,
    "start_time": "2023-01-15T15:22:05.727Z"
   },
   {
    "duration": 36770,
    "start_time": "2023-01-15T15:22:05.739Z"
   },
   {
    "duration": 4,
    "start_time": "2023-01-15T15:22:42.511Z"
   },
   {
    "duration": 5,
    "start_time": "2023-01-15T15:23:13.297Z"
   },
   {
    "duration": 37165,
    "start_time": "2023-01-15T15:23:13.964Z"
   },
   {
    "duration": 5,
    "start_time": "2023-01-15T15:24:25.098Z"
   },
   {
    "duration": 38353,
    "start_time": "2023-01-15T15:24:25.468Z"
   },
   {
    "duration": 4,
    "start_time": "2023-01-15T15:25:16.108Z"
   },
   {
    "duration": 4,
    "start_time": "2023-01-15T15:25:32.844Z"
   },
   {
    "duration": 28186,
    "start_time": "2023-01-15T15:25:33.276Z"
   },
   {
    "duration": 4,
    "start_time": "2023-01-15T15:26:45.422Z"
   },
   {
    "duration": 59243,
    "start_time": "2023-01-15T15:26:45.739Z"
   },
   {
    "duration": 4,
    "start_time": "2023-01-15T15:27:44.984Z"
   },
   {
    "duration": 4,
    "start_time": "2023-01-15T15:28:06.184Z"
   },
   {
    "duration": 41152,
    "start_time": "2023-01-15T15:28:06.548Z"
   },
   {
    "duration": 3,
    "start_time": "2023-01-15T15:28:47.702Z"
   },
   {
    "duration": 3,
    "start_time": "2023-01-15T15:29:01.135Z"
   },
   {
    "duration": 60782,
    "start_time": "2023-01-15T15:29:03.992Z"
   },
   {
    "duration": 4,
    "start_time": "2023-01-15T15:30:12.768Z"
   },
   {
    "duration": 4,
    "start_time": "2023-01-15T15:30:19.595Z"
   },
   {
    "duration": 143304,
    "start_time": "2023-01-15T15:30:19.975Z"
   },
   {
    "duration": 4,
    "start_time": "2023-01-15T15:32:43.281Z"
   },
   {
    "duration": 5,
    "start_time": "2023-01-15T15:32:53.332Z"
   },
   {
    "duration": 97300,
    "start_time": "2023-01-15T15:32:53.780Z"
   },
   {
    "duration": 3,
    "start_time": "2023-01-15T15:34:47.825Z"
   },
   {
    "duration": 4,
    "start_time": "2023-01-15T15:35:02.909Z"
   },
   {
    "duration": 124,
    "start_time": "2023-01-15T15:35:03.685Z"
   },
   {
    "duration": 21,
    "start_time": "2023-01-15T15:35:38.132Z"
   },
   {
    "duration": 28836,
    "start_time": "2023-01-15T15:35:45.631Z"
   },
   {
    "duration": 4,
    "start_time": "2023-01-15T15:38:17.662Z"
   },
   {
    "duration": 1337,
    "start_time": "2023-01-15T15:49:00.904Z"
   },
   {
    "duration": 834,
    "start_time": "2023-01-15T15:49:02.243Z"
   },
   {
    "duration": 17,
    "start_time": "2023-01-15T15:49:03.078Z"
   },
   {
    "duration": 4,
    "start_time": "2023-01-15T15:49:03.097Z"
   },
   {
    "duration": 572,
    "start_time": "2023-01-15T15:49:03.103Z"
   },
   {
    "duration": 539,
    "start_time": "2023-01-15T15:49:03.677Z"
   },
   {
    "duration": 4,
    "start_time": "2023-01-15T15:49:04.217Z"
   },
   {
    "duration": 130,
    "start_time": "2023-01-15T15:49:04.222Z"
   },
   {
    "duration": 133,
    "start_time": "2023-01-15T15:49:04.354Z"
   },
   {
    "duration": 1345,
    "start_time": "2023-01-15T15:49:04.489Z"
   },
   {
    "duration": 40,
    "start_time": "2023-01-15T15:49:05.836Z"
   },
   {
    "duration": 26,
    "start_time": "2023-01-15T15:49:05.878Z"
   },
   {
    "duration": 12,
    "start_time": "2023-01-15T15:49:05.906Z"
   },
   {
    "duration": 8,
    "start_time": "2023-01-15T15:49:05.921Z"
   },
   {
    "duration": 67,
    "start_time": "2023-01-15T15:49:05.930Z"
   },
   {
    "duration": 42,
    "start_time": "2023-01-15T15:49:05.998Z"
   },
   {
    "duration": 4,
    "start_time": "2023-01-15T15:49:06.041Z"
   },
   {
    "duration": 69,
    "start_time": "2023-01-15T15:49:06.046Z"
   },
   {
    "duration": 2,
    "start_time": "2023-01-15T15:49:06.117Z"
   },
   {
    "duration": 7,
    "start_time": "2023-01-15T15:49:06.121Z"
   },
   {
    "duration": 12644,
    "start_time": "2023-01-15T15:49:06.130Z"
   },
   {
    "duration": 3,
    "start_time": "2023-01-15T15:49:18.776Z"
   },
   {
    "duration": 6602,
    "start_time": "2023-01-15T15:49:18.780Z"
   },
   {
    "duration": 4434,
    "start_time": "2023-01-15T15:50:08.545Z"
   },
   {
    "duration": 44,
    "start_time": "2023-01-15T15:50:26.393Z"
   },
   {
    "duration": 4595,
    "start_time": "2023-01-15T15:50:33.089Z"
   },
   {
    "duration": 10,
    "start_time": "2023-01-15T15:59:43.924Z"
   },
   {
    "duration": 956,
    "start_time": "2023-01-15T16:00:03.723Z"
   },
   {
    "duration": 52,
    "start_time": "2023-01-15T16:00:46.645Z"
   },
   {
    "duration": 46,
    "start_time": "2023-01-15T16:01:17.492Z"
   },
   {
    "duration": 75,
    "start_time": "2023-01-15T16:01:31.084Z"
   },
   {
    "duration": 1464,
    "start_time": "2023-01-15T16:01:42.419Z"
   },
   {
    "duration": 1404,
    "start_time": "2023-01-15T16:03:04.485Z"
   },
   {
    "duration": 12794,
    "start_time": "2023-01-15T16:04:14.391Z"
   },
   {
    "duration": 5823,
    "start_time": "2023-01-15T16:05:53.469Z"
   },
   {
    "duration": 24551,
    "start_time": "2023-01-15T16:06:22.830Z"
   },
   {
    "duration": 931,
    "start_time": "2023-01-15T16:07:48.749Z"
   },
   {
    "duration": 7995,
    "start_time": "2023-01-15T16:08:07.892Z"
   },
   {
    "duration": 5158,
    "start_time": "2023-01-15T16:08:38.726Z"
   },
   {
    "duration": 69850,
    "start_time": "2023-01-15T16:09:04.150Z"
   },
   {
    "duration": 1351,
    "start_time": "2023-01-15T16:11:14.857Z"
   },
   {
    "duration": 748,
    "start_time": "2023-01-15T16:11:16.210Z"
   },
   {
    "duration": 19,
    "start_time": "2023-01-15T16:11:16.960Z"
   },
   {
    "duration": 9,
    "start_time": "2023-01-15T16:11:16.981Z"
   },
   {
    "duration": 453,
    "start_time": "2023-01-15T16:11:16.992Z"
   },
   {
    "duration": 469,
    "start_time": "2023-01-15T16:11:17.446Z"
   },
   {
    "duration": 4,
    "start_time": "2023-01-15T16:11:17.916Z"
   },
   {
    "duration": 127,
    "start_time": "2023-01-15T16:11:17.921Z"
   },
   {
    "duration": 129,
    "start_time": "2023-01-15T16:11:18.050Z"
   },
   {
    "duration": 1217,
    "start_time": "2023-01-15T16:11:18.181Z"
   },
   {
    "duration": 33,
    "start_time": "2023-01-15T16:11:19.401Z"
   },
   {
    "duration": 27,
    "start_time": "2023-01-15T16:11:19.436Z"
   },
   {
    "duration": 16,
    "start_time": "2023-01-15T16:11:19.465Z"
   },
   {
    "duration": 8,
    "start_time": "2023-01-15T16:11:19.483Z"
   },
   {
    "duration": 40,
    "start_time": "2023-01-15T16:11:19.493Z"
   },
   {
    "duration": 64,
    "start_time": "2023-01-15T16:11:19.535Z"
   },
   {
    "duration": 4,
    "start_time": "2023-01-15T16:11:19.601Z"
   },
   {
    "duration": 39,
    "start_time": "2023-01-15T16:11:19.606Z"
   },
   {
    "duration": 3,
    "start_time": "2023-01-15T16:11:19.647Z"
   },
   {
    "duration": 5,
    "start_time": "2023-01-15T16:11:19.651Z"
   },
   {
    "duration": 12902,
    "start_time": "2023-01-15T16:11:19.658Z"
   },
   {
    "duration": 3,
    "start_time": "2023-01-15T16:11:32.562Z"
   },
   {
    "duration": 131,
    "start_time": "2023-01-15T16:11:32.567Z"
   },
   {
    "duration": 0,
    "start_time": "2023-01-15T16:11:32.700Z"
   },
   {
    "duration": 1574,
    "start_time": "2023-01-15T16:12:39.454Z"
   },
   {
    "duration": 914,
    "start_time": "2023-01-15T16:12:41.030Z"
   },
   {
    "duration": 16,
    "start_time": "2023-01-15T16:12:41.946Z"
   },
   {
    "duration": 14,
    "start_time": "2023-01-15T16:12:41.963Z"
   },
   {
    "duration": 577,
    "start_time": "2023-01-15T16:12:41.979Z"
   },
   {
    "duration": 532,
    "start_time": "2023-01-15T16:12:42.558Z"
   },
   {
    "duration": 5,
    "start_time": "2023-01-15T16:12:43.092Z"
   },
   {
    "duration": 160,
    "start_time": "2023-01-15T16:12:43.101Z"
   },
   {
    "duration": 156,
    "start_time": "2023-01-15T16:12:43.263Z"
   },
   {
    "duration": 1356,
    "start_time": "2023-01-15T16:12:43.421Z"
   },
   {
    "duration": 33,
    "start_time": "2023-01-15T16:12:44.779Z"
   },
   {
    "duration": 37,
    "start_time": "2023-01-15T16:12:44.813Z"
   },
   {
    "duration": 14,
    "start_time": "2023-01-15T16:12:44.852Z"
   },
   {
    "duration": 9,
    "start_time": "2023-01-15T16:12:44.868Z"
   },
   {
    "duration": 49,
    "start_time": "2023-01-15T16:12:44.879Z"
   },
   {
    "duration": 64,
    "start_time": "2023-01-15T16:12:44.930Z"
   },
   {
    "duration": 5,
    "start_time": "2023-01-15T16:12:44.996Z"
   },
   {
    "duration": 73,
    "start_time": "2023-01-15T16:12:45.003Z"
   },
   {
    "duration": 4,
    "start_time": "2023-01-15T16:12:45.077Z"
   },
   {
    "duration": 20,
    "start_time": "2023-01-15T16:12:45.083Z"
   },
   {
    "duration": 12328,
    "start_time": "2023-01-15T16:12:45.105Z"
   },
   {
    "duration": 4,
    "start_time": "2023-01-15T16:12:57.434Z"
   },
   {
    "duration": 4248,
    "start_time": "2023-01-15T16:12:57.440Z"
   },
   {
    "duration": 889,
    "start_time": "2023-01-15T16:13:01.690Z"
   },
   {
    "duration": 116,
    "start_time": "2023-01-15T16:14:03.583Z"
   },
   {
    "duration": 984,
    "start_time": "2023-01-15T16:14:19.193Z"
   },
   {
    "duration": 5319,
    "start_time": "2023-01-15T16:14:27.859Z"
   },
   {
    "duration": 140,
    "start_time": "2023-01-15T16:17:02.618Z"
   },
   {
    "duration": 134,
    "start_time": "2023-01-15T16:18:25.044Z"
   },
   {
    "duration": 8,
    "start_time": "2023-01-15T16:18:32.233Z"
   },
   {
    "duration": 268,
    "start_time": "2023-01-15T16:18:55.714Z"
   },
   {
    "duration": 232,
    "start_time": "2023-01-15T16:19:02.907Z"
   },
   {
    "duration": 9,
    "start_time": "2023-01-15T16:19:09.458Z"
   },
   {
    "duration": 8,
    "start_time": "2023-01-15T16:19:19.651Z"
   },
   {
    "duration": 8,
    "start_time": "2023-01-15T16:19:36.162Z"
   },
   {
    "duration": 245,
    "start_time": "2023-01-15T16:19:50.904Z"
   },
   {
    "duration": 248,
    "start_time": "2023-01-15T16:19:56.966Z"
   },
   {
    "duration": 249,
    "start_time": "2023-01-15T16:20:21.340Z"
   },
   {
    "duration": 12,
    "start_time": "2023-01-15T16:20:29.587Z"
   },
   {
    "duration": 10,
    "start_time": "2023-01-15T16:21:08.618Z"
   },
   {
    "duration": 9,
    "start_time": "2023-01-15T16:21:23.042Z"
   },
   {
    "duration": 139,
    "start_time": "2023-01-15T16:21:34.066Z"
   },
   {
    "duration": 360155,
    "start_time": "2023-01-15T16:28:38.829Z"
   },
   {
    "duration": 208,
    "start_time": "2023-01-15T16:34:38.986Z"
   },
   {
    "duration": 138,
    "start_time": "2023-01-15T16:35:08.751Z"
   },
   {
    "duration": 61,
    "start_time": "2023-01-15T16:36:46.953Z"
   },
   {
    "duration": 104681,
    "start_time": "2023-01-15T16:36:52.608Z"
   },
   {
    "duration": 103108,
    "start_time": "2023-01-15T16:38:48.280Z"
   },
   {
    "duration": 50,
    "start_time": "2023-01-15T16:43:53.380Z"
   },
   {
    "duration": 52997,
    "start_time": "2023-01-15T16:43:59.187Z"
   },
   {
    "duration": 8058,
    "start_time": "2023-01-15T16:45:53.424Z"
   },
   {
    "duration": 92300,
    "start_time": "2023-01-15T16:46:26.292Z"
   },
   {
    "duration": 111871,
    "start_time": "2023-01-15T16:49:43.622Z"
   },
   {
    "duration": 77643,
    "start_time": "2023-01-15T16:51:55.154Z"
   },
   {
    "duration": 68207,
    "start_time": "2023-01-15T16:53:30.208Z"
   },
   {
    "duration": 1653,
    "start_time": "2023-01-15T16:55:04.581Z"
   },
   {
    "duration": 885,
    "start_time": "2023-01-15T16:55:06.236Z"
   },
   {
    "duration": 17,
    "start_time": "2023-01-15T16:55:07.123Z"
   },
   {
    "duration": 9,
    "start_time": "2023-01-15T16:55:07.142Z"
   },
   {
    "duration": 576,
    "start_time": "2023-01-15T16:55:07.153Z"
   },
   {
    "duration": 556,
    "start_time": "2023-01-15T16:55:07.730Z"
   },
   {
    "duration": 5,
    "start_time": "2023-01-15T16:55:08.292Z"
   },
   {
    "duration": 140,
    "start_time": "2023-01-15T16:55:08.299Z"
   },
   {
    "duration": 149,
    "start_time": "2023-01-15T16:55:08.441Z"
   },
   {
    "duration": 1443,
    "start_time": "2023-01-15T16:55:08.593Z"
   },
   {
    "duration": 45,
    "start_time": "2023-01-15T16:55:10.037Z"
   },
   {
    "duration": 31,
    "start_time": "2023-01-15T16:55:10.085Z"
   },
   {
    "duration": 15,
    "start_time": "2023-01-15T16:55:10.118Z"
   },
   {
    "duration": 8,
    "start_time": "2023-01-15T16:55:10.135Z"
   },
   {
    "duration": 67,
    "start_time": "2023-01-15T16:55:10.145Z"
   },
   {
    "duration": 42,
    "start_time": "2023-01-15T16:55:10.213Z"
   },
   {
    "duration": 20,
    "start_time": "2023-01-15T16:55:10.257Z"
   },
   {
    "duration": 50,
    "start_time": "2023-01-15T16:55:10.280Z"
   },
   {
    "duration": 3,
    "start_time": "2023-01-15T16:55:10.331Z"
   },
   {
    "duration": 8,
    "start_time": "2023-01-15T16:55:10.335Z"
   },
   {
    "duration": 1438,
    "start_time": "2023-01-15T16:56:05.792Z"
   },
   {
    "duration": 980,
    "start_time": "2023-01-15T16:56:07.233Z"
   },
   {
    "duration": 17,
    "start_time": "2023-01-15T16:56:08.215Z"
   },
   {
    "duration": 12,
    "start_time": "2023-01-15T16:56:08.233Z"
   },
   {
    "duration": 575,
    "start_time": "2023-01-15T16:56:08.247Z"
   },
   {
    "duration": 586,
    "start_time": "2023-01-15T16:56:08.823Z"
   },
   {
    "duration": 4,
    "start_time": "2023-01-15T16:56:09.411Z"
   },
   {
    "duration": 155,
    "start_time": "2023-01-15T16:56:09.417Z"
   },
   {
    "duration": 159,
    "start_time": "2023-01-15T16:56:09.573Z"
   },
   {
    "duration": 1314,
    "start_time": "2023-01-15T16:56:09.734Z"
   },
   {
    "duration": 47,
    "start_time": "2023-01-15T16:56:11.049Z"
   },
   {
    "duration": 28,
    "start_time": "2023-01-15T16:56:11.098Z"
   },
   {
    "duration": 14,
    "start_time": "2023-01-15T16:56:11.128Z"
   },
   {
    "duration": 9,
    "start_time": "2023-01-15T16:56:11.144Z"
   },
   {
    "duration": 78,
    "start_time": "2023-01-15T16:56:11.155Z"
   },
   {
    "duration": 65,
    "start_time": "2023-01-15T16:56:11.235Z"
   },
   {
    "duration": 4,
    "start_time": "2023-01-15T16:56:11.301Z"
   },
   {
    "duration": 49,
    "start_time": "2023-01-15T16:56:11.306Z"
   },
   {
    "duration": 2,
    "start_time": "2023-01-15T16:56:11.357Z"
   },
   {
    "duration": 138,
    "start_time": "2023-01-15T16:56:11.361Z"
   },
   {
    "duration": 0,
    "start_time": "2023-01-15T16:56:11.501Z"
   },
   {
    "duration": 0,
    "start_time": "2023-01-15T16:56:11.503Z"
   },
   {
    "duration": 1410,
    "start_time": "2023-01-15T16:56:51.506Z"
   },
   {
    "duration": 931,
    "start_time": "2023-01-15T16:56:52.918Z"
   },
   {
    "duration": 25,
    "start_time": "2023-01-15T16:56:53.851Z"
   },
   {
    "duration": 5,
    "start_time": "2023-01-15T16:56:53.879Z"
   },
   {
    "duration": 494,
    "start_time": "2023-01-15T16:56:53.886Z"
   },
   {
    "duration": 550,
    "start_time": "2023-01-15T16:56:54.383Z"
   },
   {
    "duration": 4,
    "start_time": "2023-01-15T16:56:54.935Z"
   },
   {
    "duration": 186,
    "start_time": "2023-01-15T16:56:54.941Z"
   },
   {
    "duration": 197,
    "start_time": "2023-01-15T16:56:55.130Z"
   },
   {
    "duration": 1361,
    "start_time": "2023-01-15T16:56:55.331Z"
   },
   {
    "duration": 35,
    "start_time": "2023-01-15T16:56:56.694Z"
   },
   {
    "duration": 23,
    "start_time": "2023-01-15T16:56:56.731Z"
   },
   {
    "duration": 25,
    "start_time": "2023-01-15T16:56:56.756Z"
   },
   {
    "duration": 20,
    "start_time": "2023-01-15T16:56:56.784Z"
   },
   {
    "duration": 55,
    "start_time": "2023-01-15T16:56:56.806Z"
   },
   {
    "duration": 63,
    "start_time": "2023-01-15T16:56:56.863Z"
   },
   {
    "duration": 4,
    "start_time": "2023-01-15T16:56:56.927Z"
   },
   {
    "duration": 67,
    "start_time": "2023-01-15T16:56:56.933Z"
   },
   {
    "duration": 2,
    "start_time": "2023-01-15T16:56:57.002Z"
   },
   {
    "duration": 135,
    "start_time": "2023-01-15T16:56:57.006Z"
   },
   {
    "duration": 0,
    "start_time": "2023-01-15T16:56:57.143Z"
   },
   {
    "duration": 525909,
    "start_time": "2023-01-15T16:57:32.087Z"
   },
   {
    "duration": 3,
    "start_time": "2023-01-15T17:06:17.998Z"
   },
   {
    "duration": 4,
    "start_time": "2023-01-15T17:08:22.014Z"
   },
   {
    "duration": 3,
    "start_time": "2023-01-15T17:10:09.738Z"
   },
   {
    "duration": 1511,
    "start_time": "2023-01-15T17:24:08.426Z"
   },
   {
    "duration": 894,
    "start_time": "2023-01-15T17:24:09.939Z"
   },
   {
    "duration": 19,
    "start_time": "2023-01-15T17:24:10.835Z"
   },
   {
    "duration": 3,
    "start_time": "2023-01-15T17:24:10.856Z"
   },
   {
    "duration": 559,
    "start_time": "2023-01-15T17:24:10.877Z"
   },
   {
    "duration": 561,
    "start_time": "2023-01-15T17:24:11.437Z"
   },
   {
    "duration": 4,
    "start_time": "2023-01-15T17:24:12.000Z"
   },
   {
    "duration": 267,
    "start_time": "2023-01-15T17:24:12.006Z"
   },
   {
    "duration": 166,
    "start_time": "2023-01-15T17:24:12.274Z"
   },
   {
    "duration": 1608,
    "start_time": "2023-01-15T17:24:12.443Z"
   },
   {
    "duration": 45,
    "start_time": "2023-01-15T17:24:14.053Z"
   },
   {
    "duration": 29,
    "start_time": "2023-01-15T17:24:14.100Z"
   },
   {
    "duration": 15,
    "start_time": "2023-01-15T17:24:14.130Z"
   },
   {
    "duration": 18,
    "start_time": "2023-01-15T17:24:14.146Z"
   },
   {
    "duration": 66,
    "start_time": "2023-01-15T17:24:14.177Z"
   },
   {
    "duration": 73,
    "start_time": "2023-01-15T17:24:14.245Z"
   },
   {
    "duration": 5,
    "start_time": "2023-01-15T17:24:14.320Z"
   },
   {
    "duration": 72,
    "start_time": "2023-01-15T17:24:14.326Z"
   },
   {
    "duration": 3,
    "start_time": "2023-01-15T17:24:14.400Z"
   },
   {
    "duration": 6,
    "start_time": "2023-01-15T17:24:14.405Z"
   },
   {
    "duration": 123291,
    "start_time": "2023-01-15T17:24:14.412Z"
   },
   {
    "duration": 4,
    "start_time": "2023-01-15T17:26:17.704Z"
   },
   {
    "duration": 4,
    "start_time": "2023-01-15T17:26:17.710Z"
   },
   {
    "duration": 323371,
    "start_time": "2023-01-15T17:26:17.716Z"
   },
   {
    "duration": 6,
    "start_time": "2023-01-15T17:31:41.089Z"
   },
   {
    "duration": 1421,
    "start_time": "2023-01-15T17:32:38.673Z"
   },
   {
    "duration": 868,
    "start_time": "2023-01-15T17:32:40.096Z"
   },
   {
    "duration": 29,
    "start_time": "2023-01-15T17:32:40.966Z"
   },
   {
    "duration": 5,
    "start_time": "2023-01-15T17:32:40.997Z"
   },
   {
    "duration": 466,
    "start_time": "2023-01-15T17:32:41.003Z"
   },
   {
    "duration": 486,
    "start_time": "2023-01-15T17:32:41.471Z"
   },
   {
    "duration": 4,
    "start_time": "2023-01-15T17:32:41.958Z"
   },
   {
    "duration": 131,
    "start_time": "2023-01-15T17:32:41.964Z"
   },
   {
    "duration": 125,
    "start_time": "2023-01-15T17:32:42.097Z"
   },
   {
    "duration": 1256,
    "start_time": "2023-01-15T17:32:42.225Z"
   },
   {
    "duration": 36,
    "start_time": "2023-01-15T17:32:43.484Z"
   },
   {
    "duration": 27,
    "start_time": "2023-01-15T17:32:43.522Z"
   },
   {
    "duration": 25,
    "start_time": "2023-01-15T17:32:43.552Z"
   },
   {
    "duration": 11,
    "start_time": "2023-01-15T17:32:43.580Z"
   },
   {
    "duration": 53,
    "start_time": "2023-01-15T17:32:43.593Z"
   },
   {
    "duration": 69,
    "start_time": "2023-01-15T17:32:43.647Z"
   },
   {
    "duration": 4,
    "start_time": "2023-01-15T17:32:43.718Z"
   },
   {
    "duration": 74,
    "start_time": "2023-01-15T17:32:43.723Z"
   },
   {
    "duration": 3,
    "start_time": "2023-01-15T17:32:43.799Z"
   },
   {
    "duration": 8,
    "start_time": "2023-01-15T17:32:43.803Z"
   },
   {
    "duration": 125696,
    "start_time": "2023-01-15T17:32:43.813Z"
   },
   {
    "duration": 7,
    "start_time": "2023-01-15T17:34:49.511Z"
   },
   {
    "duration": 9,
    "start_time": "2023-01-15T17:34:49.520Z"
   },
   {
    "duration": 327761,
    "start_time": "2023-01-15T17:34:49.530Z"
   },
   {
    "duration": 5,
    "start_time": "2023-01-15T17:40:17.292Z"
   },
   {
    "duration": 1267,
    "start_time": "2023-01-15T17:49:11.632Z"
   },
   {
    "duration": 787,
    "start_time": "2023-01-15T17:49:12.900Z"
   },
   {
    "duration": 17,
    "start_time": "2023-01-15T17:49:13.689Z"
   },
   {
    "duration": 4,
    "start_time": "2023-01-15T17:49:13.709Z"
   },
   {
    "duration": 468,
    "start_time": "2023-01-15T17:49:13.714Z"
   },
   {
    "duration": 458,
    "start_time": "2023-01-15T17:49:14.184Z"
   },
   {
    "duration": 5,
    "start_time": "2023-01-15T17:49:14.644Z"
   },
   {
    "duration": 127,
    "start_time": "2023-01-15T17:49:14.650Z"
   },
   {
    "duration": 119,
    "start_time": "2023-01-15T17:49:14.779Z"
   },
   {
    "duration": 1242,
    "start_time": "2023-01-15T17:49:14.901Z"
   },
   {
    "duration": 37,
    "start_time": "2023-01-15T17:49:16.145Z"
   },
   {
    "duration": 25,
    "start_time": "2023-01-15T17:49:16.184Z"
   },
   {
    "duration": 13,
    "start_time": "2023-01-15T17:49:16.211Z"
   },
   {
    "duration": 9,
    "start_time": "2023-01-15T17:49:16.225Z"
   },
   {
    "duration": 59,
    "start_time": "2023-01-15T17:49:16.235Z"
   },
   {
    "duration": 44,
    "start_time": "2023-01-15T17:49:16.296Z"
   },
   {
    "duration": 4,
    "start_time": "2023-01-15T17:49:16.341Z"
   },
   {
    "duration": 66,
    "start_time": "2023-01-15T17:49:16.347Z"
   },
   {
    "duration": 3,
    "start_time": "2023-01-15T17:49:16.415Z"
   },
   {
    "duration": 6,
    "start_time": "2023-01-15T17:49:16.419Z"
   },
   {
    "duration": 3481,
    "start_time": "2023-01-15T17:49:16.427Z"
   },
   {
    "duration": 4,
    "start_time": "2023-01-15T17:49:19.909Z"
   },
   {
    "duration": 4,
    "start_time": "2023-01-15T17:49:19.914Z"
   },
   {
    "duration": 317262,
    "start_time": "2023-01-15T17:49:19.920Z"
   },
   {
    "duration": 5,
    "start_time": "2023-01-15T17:54:37.183Z"
   },
   {
    "duration": 4,
    "start_time": "2023-01-15T17:56:07.925Z"
   },
   {
    "duration": 1354,
    "start_time": "2023-01-15T17:57:12.288Z"
   },
   {
    "duration": 841,
    "start_time": "2023-01-15T17:57:13.644Z"
   },
   {
    "duration": 15,
    "start_time": "2023-01-15T17:57:14.487Z"
   },
   {
    "duration": 4,
    "start_time": "2023-01-15T17:57:14.503Z"
   },
   {
    "duration": 474,
    "start_time": "2023-01-15T17:57:14.509Z"
   },
   {
    "duration": 586,
    "start_time": "2023-01-15T17:57:14.984Z"
   },
   {
    "duration": 5,
    "start_time": "2023-01-15T17:57:15.572Z"
   },
   {
    "duration": 132,
    "start_time": "2023-01-15T17:57:15.579Z"
   },
   {
    "duration": 123,
    "start_time": "2023-01-15T17:57:15.713Z"
   },
   {
    "duration": 1162,
    "start_time": "2023-01-15T17:57:15.838Z"
   },
   {
    "duration": 34,
    "start_time": "2023-01-15T17:57:17.001Z"
   },
   {
    "duration": 26,
    "start_time": "2023-01-15T17:57:17.037Z"
   },
   {
    "duration": 26,
    "start_time": "2023-01-15T17:57:17.065Z"
   },
   {
    "duration": 8,
    "start_time": "2023-01-15T17:57:17.094Z"
   },
   {
    "duration": 49,
    "start_time": "2023-01-15T17:57:17.104Z"
   },
   {
    "duration": 57,
    "start_time": "2023-01-15T17:57:17.155Z"
   },
   {
    "duration": 4,
    "start_time": "2023-01-15T17:57:17.214Z"
   },
   {
    "duration": 76,
    "start_time": "2023-01-15T17:57:17.220Z"
   },
   {
    "duration": 3,
    "start_time": "2023-01-15T17:57:17.298Z"
   },
   {
    "duration": 123,
    "start_time": "2023-01-15T17:57:17.303Z"
   },
   {
    "duration": 0,
    "start_time": "2023-01-15T17:57:17.428Z"
   },
   {
    "duration": 0,
    "start_time": "2023-01-15T17:57:17.429Z"
   },
   {
    "duration": 0,
    "start_time": "2023-01-15T17:57:17.430Z"
   },
   {
    "duration": 0,
    "start_time": "2023-01-15T17:57:17.432Z"
   },
   {
    "duration": 0,
    "start_time": "2023-01-15T17:57:17.434Z"
   },
   {
    "duration": 0,
    "start_time": "2023-01-15T17:57:17.435Z"
   },
   {
    "duration": 2,
    "start_time": "2023-01-15T17:57:31.223Z"
   },
   {
    "duration": 3916,
    "start_time": "2023-01-15T17:57:38.572Z"
   },
   {
    "duration": 1505,
    "start_time": "2023-01-15T17:58:07.682Z"
   },
   {
    "duration": 827,
    "start_time": "2023-01-15T17:58:09.189Z"
   },
   {
    "duration": 18,
    "start_time": "2023-01-15T17:58:10.018Z"
   },
   {
    "duration": 9,
    "start_time": "2023-01-15T17:58:10.038Z"
   },
   {
    "duration": 492,
    "start_time": "2023-01-15T17:58:10.049Z"
   },
   {
    "duration": 500,
    "start_time": "2023-01-15T17:58:10.543Z"
   },
   {
    "duration": 4,
    "start_time": "2023-01-15T17:58:11.045Z"
   },
   {
    "duration": 143,
    "start_time": "2023-01-15T17:58:11.050Z"
   },
   {
    "duration": 137,
    "start_time": "2023-01-15T17:58:11.195Z"
   },
   {
    "duration": 1231,
    "start_time": "2023-01-15T17:58:11.334Z"
   },
   {
    "duration": 40,
    "start_time": "2023-01-15T17:58:12.567Z"
   },
   {
    "duration": 20,
    "start_time": "2023-01-15T17:58:12.609Z"
   },
   {
    "duration": 11,
    "start_time": "2023-01-15T17:58:12.630Z"
   },
   {
    "duration": 12,
    "start_time": "2023-01-15T17:58:12.644Z"
   },
   {
    "duration": 72,
    "start_time": "2023-01-15T17:58:12.657Z"
   },
   {
    "duration": 53,
    "start_time": "2023-01-15T17:58:12.731Z"
   },
   {
    "duration": 4,
    "start_time": "2023-01-15T17:58:12.786Z"
   },
   {
    "duration": 46,
    "start_time": "2023-01-15T17:58:12.791Z"
   },
   {
    "duration": 3,
    "start_time": "2023-01-15T17:58:12.838Z"
   },
   {
    "duration": 6,
    "start_time": "2023-01-15T17:58:12.842Z"
   },
   {
    "duration": 3868,
    "start_time": "2023-01-15T17:58:12.849Z"
   },
   {
    "duration": 4,
    "start_time": "2023-01-15T17:58:16.719Z"
   },
   {
    "duration": 11,
    "start_time": "2023-01-15T17:58:16.726Z"
   },
   {
    "duration": 317346,
    "start_time": "2023-01-15T17:58:16.738Z"
   },
   {
    "duration": 4,
    "start_time": "2023-01-15T18:03:34.086Z"
   },
   {
    "duration": 153,
    "start_time": "2023-01-15T18:03:34.092Z"
   },
   {
    "duration": 10,
    "start_time": "2023-01-15T18:03:57.374Z"
   },
   {
    "duration": 281906,
    "start_time": "2023-01-15T18:04:27.975Z"
   },
   {
    "duration": 6,
    "start_time": "2023-01-15T18:09:09.886Z"
   },
   {
    "duration": 4,
    "start_time": "2023-01-15T19:18:53.959Z"
   },
   {
    "duration": 3,
    "start_time": "2023-01-15T19:19:21.741Z"
   },
   {
    "duration": 1595,
    "start_time": "2023-01-16T06:55:38.948Z"
   },
   {
    "duration": 2965,
    "start_time": "2023-01-16T06:55:40.545Z"
   },
   {
    "duration": 17,
    "start_time": "2023-01-16T06:55:43.511Z"
   },
   {
    "duration": 30,
    "start_time": "2023-01-16T06:55:43.529Z"
   },
   {
    "duration": 473,
    "start_time": "2023-01-16T06:55:43.560Z"
   },
   {
    "duration": 517,
    "start_time": "2023-01-16T06:55:44.036Z"
   },
   {
    "duration": 4,
    "start_time": "2023-01-16T06:55:44.554Z"
   },
   {
    "duration": 150,
    "start_time": "2023-01-16T06:55:44.559Z"
   },
   {
    "duration": 98,
    "start_time": "2023-01-16T06:55:44.711Z"
   },
   {
    "duration": 1201,
    "start_time": "2023-01-16T06:55:44.821Z"
   },
   {
    "duration": 35,
    "start_time": "2023-01-16T06:55:46.023Z"
   },
   {
    "duration": 32,
    "start_time": "2023-01-16T06:55:46.059Z"
   },
   {
    "duration": 18,
    "start_time": "2023-01-16T06:55:46.092Z"
   },
   {
    "duration": 13,
    "start_time": "2023-01-16T06:55:46.111Z"
   },
   {
    "duration": 47,
    "start_time": "2023-01-16T06:55:46.126Z"
   },
   {
    "duration": 56,
    "start_time": "2023-01-16T06:55:46.175Z"
   },
   {
    "duration": 3,
    "start_time": "2023-01-16T06:55:46.233Z"
   },
   {
    "duration": 53,
    "start_time": "2023-01-16T06:55:46.237Z"
   },
   {
    "duration": 3,
    "start_time": "2023-01-16T06:55:46.292Z"
   },
   {
    "duration": 6,
    "start_time": "2023-01-16T06:55:46.296Z"
   },
   {
    "duration": 211,
    "start_time": "2023-01-16T06:55:46.303Z"
   },
   {
    "duration": 3,
    "start_time": "2023-01-16T06:55:46.516Z"
   },
   {
    "duration": 20,
    "start_time": "2023-01-16T06:55:46.521Z"
   },
   {
    "duration": 5788,
    "start_time": "2023-01-16T06:55:46.542Z"
   },
   {
    "duration": 4,
    "start_time": "2023-01-16T06:55:52.331Z"
   },
   {
    "duration": 1429,
    "start_time": "2023-01-16T06:56:47.919Z"
   },
   {
    "duration": 838,
    "start_time": "2023-01-16T06:56:49.350Z"
   },
   {
    "duration": 18,
    "start_time": "2023-01-16T06:56:50.190Z"
   },
   {
    "duration": 14,
    "start_time": "2023-01-16T06:56:50.210Z"
   },
   {
    "duration": 465,
    "start_time": "2023-01-16T06:56:50.228Z"
   },
   {
    "duration": 488,
    "start_time": "2023-01-16T06:56:50.695Z"
   },
   {
    "duration": 4,
    "start_time": "2023-01-16T06:56:51.184Z"
   },
   {
    "duration": 134,
    "start_time": "2023-01-16T06:56:51.190Z"
   },
   {
    "duration": 102,
    "start_time": "2023-01-16T06:56:51.325Z"
   },
   {
    "duration": 1169,
    "start_time": "2023-01-16T06:56:51.429Z"
   },
   {
    "duration": 35,
    "start_time": "2023-01-16T06:56:52.599Z"
   },
   {
    "duration": 24,
    "start_time": "2023-01-16T06:56:52.635Z"
   },
   {
    "duration": 16,
    "start_time": "2023-01-16T06:56:52.661Z"
   },
   {
    "duration": 11,
    "start_time": "2023-01-16T06:56:52.679Z"
   },
   {
    "duration": 57,
    "start_time": "2023-01-16T06:56:52.692Z"
   },
   {
    "duration": 42,
    "start_time": "2023-01-16T06:56:52.750Z"
   },
   {
    "duration": 5,
    "start_time": "2023-01-16T06:56:52.793Z"
   },
   {
    "duration": 68,
    "start_time": "2023-01-16T06:56:52.800Z"
   },
   {
    "duration": 3,
    "start_time": "2023-01-16T06:56:52.870Z"
   },
   {
    "duration": 123,
    "start_time": "2023-01-16T06:56:52.875Z"
   },
   {
    "duration": 0,
    "start_time": "2023-01-16T06:56:52.999Z"
   },
   {
    "duration": 0,
    "start_time": "2023-01-16T06:56:53.001Z"
   },
   {
    "duration": 0,
    "start_time": "2023-01-16T06:56:53.002Z"
   },
   {
    "duration": 0,
    "start_time": "2023-01-16T06:56:53.004Z"
   },
   {
    "duration": 0,
    "start_time": "2023-01-16T06:56:53.006Z"
   },
   {
    "duration": 9,
    "start_time": "2023-01-16T06:57:06.273Z"
   },
   {
    "duration": 3,
    "start_time": "2023-01-16T06:57:16.142Z"
   },
   {
    "duration": 95,
    "start_time": "2023-01-16T06:57:17.264Z"
   },
   {
    "duration": 3950,
    "start_time": "2023-01-16T06:57:41.593Z"
   },
   {
    "duration": 1451,
    "start_time": "2023-01-16T06:58:00.289Z"
   },
   {
    "duration": 786,
    "start_time": "2023-01-16T06:58:01.742Z"
   },
   {
    "duration": 17,
    "start_time": "2023-01-16T06:58:02.530Z"
   },
   {
    "duration": 12,
    "start_time": "2023-01-16T06:58:02.549Z"
   },
   {
    "duration": 484,
    "start_time": "2023-01-16T06:58:02.562Z"
   },
   {
    "duration": 507,
    "start_time": "2023-01-16T06:58:03.047Z"
   },
   {
    "duration": 4,
    "start_time": "2023-01-16T06:58:03.556Z"
   },
   {
    "duration": 138,
    "start_time": "2023-01-16T06:58:03.561Z"
   },
   {
    "duration": 114,
    "start_time": "2023-01-16T06:58:03.701Z"
   },
   {
    "duration": 1227,
    "start_time": "2023-01-16T06:58:03.826Z"
   },
   {
    "duration": 32,
    "start_time": "2023-01-16T06:58:05.054Z"
   },
   {
    "duration": 28,
    "start_time": "2023-01-16T06:58:05.087Z"
   },
   {
    "duration": 19,
    "start_time": "2023-01-16T06:58:05.122Z"
   },
   {
    "duration": 32,
    "start_time": "2023-01-16T06:58:05.143Z"
   },
   {
    "duration": 52,
    "start_time": "2023-01-16T06:58:05.176Z"
   },
   {
    "duration": 45,
    "start_time": "2023-01-16T06:58:05.229Z"
   },
   {
    "duration": 13,
    "start_time": "2023-01-16T06:58:05.276Z"
   },
   {
    "duration": 62,
    "start_time": "2023-01-16T06:58:05.291Z"
   },
   {
    "duration": 3,
    "start_time": "2023-01-16T06:58:05.355Z"
   },
   {
    "duration": 16,
    "start_time": "2023-01-16T06:58:05.360Z"
   },
   {
    "duration": 4075,
    "start_time": "2023-01-16T06:58:05.378Z"
   },
   {
    "duration": 4,
    "start_time": "2023-01-16T06:58:09.455Z"
   },
   {
    "duration": 6,
    "start_time": "2023-01-16T06:58:09.461Z"
   },
   {
    "duration": 241464,
    "start_time": "2023-01-16T06:58:09.468Z"
   },
   {
    "duration": 6,
    "start_time": "2023-01-16T07:02:10.934Z"
   },
   {
    "duration": 130,
    "start_time": "2023-01-16T07:05:50.860Z"
   },
   {
    "duration": 4394,
    "start_time": "2023-01-16T07:05:51.362Z"
   },
   {
    "duration": 3,
    "start_time": "2023-01-16T07:05:59.050Z"
   },
   {
    "duration": 4445,
    "start_time": "2023-01-16T07:06:04.410Z"
   },
   {
    "duration": 104,
    "start_time": "2023-01-16T07:06:48.958Z"
   },
   {
    "duration": 76,
    "start_time": "2023-01-16T07:06:58.153Z"
   },
   {
    "duration": 4340,
    "start_time": "2023-01-16T07:07:07.707Z"
   },
   {
    "duration": 5,
    "start_time": "2023-01-16T07:09:47.420Z"
   },
   {
    "duration": 35518,
    "start_time": "2023-01-16T07:09:47.976Z"
   },
   {
    "duration": 4,
    "start_time": "2023-01-16T07:10:45.506Z"
   },
   {
    "duration": 3,
    "start_time": "2023-01-16T07:11:01.065Z"
   },
   {
    "duration": 4321,
    "start_time": "2023-01-16T07:11:01.544Z"
   },
   {
    "duration": 4102,
    "start_time": "2023-01-16T07:11:34.901Z"
   },
   {
    "duration": 3,
    "start_time": "2023-01-16T07:12:13.084Z"
   },
   {
    "duration": 4,
    "start_time": "2023-01-16T07:12:55.155Z"
   },
   {
    "duration": 39863,
    "start_time": "2023-01-16T07:12:55.765Z"
   },
   {
    "duration": 4,
    "start_time": "2023-01-16T07:13:44.460Z"
   },
   {
    "duration": 1426,
    "start_time": "2023-01-16T07:14:32.347Z"
   },
   {
    "duration": 935,
    "start_time": "2023-01-16T07:14:33.775Z"
   },
   {
    "duration": 22,
    "start_time": "2023-01-16T07:14:34.712Z"
   },
   {
    "duration": 5,
    "start_time": "2023-01-16T07:14:34.736Z"
   },
   {
    "duration": 484,
    "start_time": "2023-01-16T07:14:34.743Z"
   },
   {
    "duration": 477,
    "start_time": "2023-01-16T07:14:35.229Z"
   },
   {
    "duration": 4,
    "start_time": "2023-01-16T07:14:35.708Z"
   },
   {
    "duration": 144,
    "start_time": "2023-01-16T07:14:35.713Z"
   },
   {
    "duration": 125,
    "start_time": "2023-01-16T07:14:35.859Z"
   },
   {
    "duration": 1200,
    "start_time": "2023-01-16T07:14:35.987Z"
   },
   {
    "duration": 35,
    "start_time": "2023-01-16T07:14:37.189Z"
   },
   {
    "duration": 28,
    "start_time": "2023-01-16T07:14:37.226Z"
   },
   {
    "duration": 11,
    "start_time": "2023-01-16T07:14:37.255Z"
   },
   {
    "duration": 9,
    "start_time": "2023-01-16T07:14:37.268Z"
   },
   {
    "duration": 59,
    "start_time": "2023-01-16T07:14:37.279Z"
   },
   {
    "duration": 46,
    "start_time": "2023-01-16T07:14:37.339Z"
   },
   {
    "duration": 4,
    "start_time": "2023-01-16T07:14:37.387Z"
   },
   {
    "duration": 64,
    "start_time": "2023-01-16T07:14:37.393Z"
   },
   {
    "duration": 3,
    "start_time": "2023-01-16T07:14:37.459Z"
   },
   {
    "duration": 7,
    "start_time": "2023-01-16T07:14:37.464Z"
   },
   {
    "duration": 45,
    "start_time": "2023-01-16T07:39:29.459Z"
   },
   {
    "duration": 1413,
    "start_time": "2023-01-16T07:39:44.220Z"
   },
   {
    "duration": 2950,
    "start_time": "2023-01-16T07:39:45.635Z"
   },
   {
    "duration": 16,
    "start_time": "2023-01-16T07:39:48.587Z"
   },
   {
    "duration": 4,
    "start_time": "2023-01-16T07:39:48.605Z"
   },
   {
    "duration": 447,
    "start_time": "2023-01-16T07:39:48.611Z"
   },
   {
    "duration": 492,
    "start_time": "2023-01-16T07:39:49.059Z"
   },
   {
    "duration": 4,
    "start_time": "2023-01-16T07:39:49.554Z"
   },
   {
    "duration": 156,
    "start_time": "2023-01-16T07:39:49.560Z"
   },
   {
    "duration": 112,
    "start_time": "2023-01-16T07:39:49.718Z"
   },
   {
    "duration": 1192,
    "start_time": "2023-01-16T07:39:49.831Z"
   },
   {
    "duration": 32,
    "start_time": "2023-01-16T07:39:51.025Z"
   },
   {
    "duration": 24,
    "start_time": "2023-01-16T07:39:51.059Z"
   },
   {
    "duration": 18,
    "start_time": "2023-01-16T07:39:51.085Z"
   },
   {
    "duration": 17,
    "start_time": "2023-01-16T07:39:51.106Z"
   },
   {
    "duration": 47,
    "start_time": "2023-01-16T07:39:51.125Z"
   },
   {
    "duration": 68,
    "start_time": "2023-01-16T07:39:51.176Z"
   },
   {
    "duration": 4,
    "start_time": "2023-01-16T07:39:51.246Z"
   },
   {
    "duration": 55,
    "start_time": "2023-01-16T07:39:51.252Z"
   },
   {
    "duration": 14,
    "start_time": "2023-01-16T07:39:51.309Z"
   },
   {
    "duration": 13,
    "start_time": "2023-01-16T07:39:51.325Z"
   },
   {
    "duration": 4148,
    "start_time": "2023-01-16T07:39:51.340Z"
   },
   {
    "duration": 4,
    "start_time": "2023-01-16T07:39:55.490Z"
   },
   {
    "duration": 9,
    "start_time": "2023-01-16T07:39:55.495Z"
   },
   {
    "duration": 127822,
    "start_time": "2023-01-16T07:39:55.505Z"
   },
   {
    "duration": 4,
    "start_time": "2023-01-16T07:42:03.328Z"
   },
   {
    "duration": 3,
    "start_time": "2023-01-16T07:44:43.005Z"
   },
   {
    "duration": 4262,
    "start_time": "2023-01-16T07:44:43.462Z"
   },
   {
    "duration": 3,
    "start_time": "2023-01-16T07:44:53.135Z"
   },
   {
    "duration": 4,
    "start_time": "2023-01-16T07:46:02.439Z"
   },
   {
    "duration": 115799,
    "start_time": "2023-01-16T07:46:02.936Z"
   },
   {
    "duration": 5,
    "start_time": "2023-01-16T07:47:58.737Z"
   },
   {
    "duration": 2,
    "start_time": "2023-01-16T08:09:41.045Z"
   },
   {
    "duration": 105,
    "start_time": "2023-01-16T08:09:42.144Z"
   },
   {
    "duration": 1400,
    "start_time": "2023-01-16T08:09:52.668Z"
   },
   {
    "duration": 862,
    "start_time": "2023-01-16T08:09:54.071Z"
   },
   {
    "duration": 21,
    "start_time": "2023-01-16T08:09:54.935Z"
   },
   {
    "duration": 31,
    "start_time": "2023-01-16T08:09:54.958Z"
   },
   {
    "duration": 500,
    "start_time": "2023-01-16T08:09:54.992Z"
   },
   {
    "duration": 530,
    "start_time": "2023-01-16T08:09:55.494Z"
   },
   {
    "duration": 3,
    "start_time": "2023-01-16T08:09:56.026Z"
   },
   {
    "duration": 166,
    "start_time": "2023-01-16T08:09:56.031Z"
   },
   {
    "duration": 109,
    "start_time": "2023-01-16T08:09:56.199Z"
   },
   {
    "duration": 1191,
    "start_time": "2023-01-16T08:09:56.310Z"
   },
   {
    "duration": 37,
    "start_time": "2023-01-16T08:09:57.502Z"
   },
   {
    "duration": 71,
    "start_time": "2023-01-16T08:09:57.541Z"
   },
   {
    "duration": 44,
    "start_time": "2023-01-16T08:09:57.614Z"
   },
   {
    "duration": 49,
    "start_time": "2023-01-16T08:09:57.661Z"
   },
   {
    "duration": 94,
    "start_time": "2023-01-16T08:09:57.711Z"
   },
   {
    "duration": 44,
    "start_time": "2023-01-16T08:09:57.806Z"
   },
   {
    "duration": 21,
    "start_time": "2023-01-16T08:09:57.852Z"
   },
   {
    "duration": 74,
    "start_time": "2023-01-16T08:09:57.875Z"
   },
   {
    "duration": 14,
    "start_time": "2023-01-16T08:09:57.951Z"
   },
   {
    "duration": 50,
    "start_time": "2023-01-16T08:09:57.967Z"
   },
   {
    "duration": 122319,
    "start_time": "2023-01-16T08:09:58.019Z"
   },
   {
    "duration": 4,
    "start_time": "2023-01-16T08:12:00.339Z"
   },
   {
    "duration": 12,
    "start_time": "2023-01-16T08:12:00.345Z"
   },
   {
    "duration": 4966,
    "start_time": "2023-01-16T08:12:00.359Z"
   },
   {
    "duration": 4,
    "start_time": "2023-01-16T08:12:05.327Z"
   },
   {
    "duration": 5,
    "start_time": "2023-01-16T08:12:05.333Z"
   },
   {
    "duration": 8,
    "start_time": "2023-01-16T08:12:05.339Z"
   },
   {
    "duration": 34,
    "start_time": "2023-01-16T08:12:05.348Z"
   },
   {
    "duration": 112,
    "start_time": "2023-01-16T08:13:37.550Z"
   },
   {
    "duration": 10,
    "start_time": "2023-01-16T08:16:26.463Z"
   },
   {
    "duration": 9,
    "start_time": "2023-01-16T08:17:33.784Z"
   },
   {
    "duration": 14,
    "start_time": "2023-01-16T08:18:08.167Z"
   },
   {
    "duration": 10,
    "start_time": "2023-01-16T08:21:04.320Z"
   },
   {
    "duration": 12,
    "start_time": "2023-01-16T08:21:14.112Z"
   },
   {
    "duration": 14,
    "start_time": "2023-01-16T08:22:29.402Z"
   },
   {
    "duration": 4,
    "start_time": "2023-01-16T08:22:57.266Z"
   },
   {
    "duration": 8,
    "start_time": "2023-01-16T08:23:13.241Z"
   },
   {
    "duration": 3,
    "start_time": "2023-01-16T08:23:37.145Z"
   },
   {
    "duration": 1583,
    "start_time": "2023-01-16T08:38:23.621Z"
   },
   {
    "duration": 888,
    "start_time": "2023-01-16T08:38:25.207Z"
   },
   {
    "duration": 38,
    "start_time": "2023-01-16T08:38:26.097Z"
   },
   {
    "duration": 4,
    "start_time": "2023-01-16T08:38:26.139Z"
   },
   {
    "duration": 497,
    "start_time": "2023-01-16T08:38:26.145Z"
   },
   {
    "duration": 541,
    "start_time": "2023-01-16T08:38:26.644Z"
   },
   {
    "duration": 5,
    "start_time": "2023-01-16T08:38:27.186Z"
   },
   {
    "duration": 143,
    "start_time": "2023-01-16T08:38:27.193Z"
   },
   {
    "duration": 106,
    "start_time": "2023-01-16T08:38:27.343Z"
   },
   {
    "duration": 1258,
    "start_time": "2023-01-16T08:38:27.452Z"
   },
   {
    "duration": 44,
    "start_time": "2023-01-16T08:38:28.712Z"
   },
   {
    "duration": 23,
    "start_time": "2023-01-16T08:38:28.757Z"
   },
   {
    "duration": 15,
    "start_time": "2023-01-16T08:38:28.782Z"
   },
   {
    "duration": 11,
    "start_time": "2023-01-16T08:38:28.800Z"
   },
   {
    "duration": 60,
    "start_time": "2023-01-16T08:38:28.824Z"
   },
   {
    "duration": 62,
    "start_time": "2023-01-16T08:38:28.886Z"
   },
   {
    "duration": 4,
    "start_time": "2023-01-16T08:38:28.950Z"
   },
   {
    "duration": 75,
    "start_time": "2023-01-16T08:38:28.955Z"
   },
   {
    "duration": 4,
    "start_time": "2023-01-16T08:38:29.037Z"
   },
   {
    "duration": 130702,
    "start_time": "2023-01-16T08:38:29.044Z"
   },
   {
    "duration": 4,
    "start_time": "2023-01-16T08:40:39.748Z"
   },
   {
    "duration": 5,
    "start_time": "2023-01-16T08:40:39.754Z"
   },
   {
    "duration": 301791,
    "start_time": "2023-01-16T08:40:39.761Z"
   },
   {
    "duration": 6,
    "start_time": "2023-01-16T08:45:41.554Z"
   },
   {
    "duration": 63,
    "start_time": "2023-01-16T08:45:41.562Z"
   },
   {
    "duration": 9,
    "start_time": "2023-01-16T08:45:41.635Z"
   },
   {
    "duration": 37,
    "start_time": "2023-01-16T08:45:41.646Z"
   },
   {
    "duration": 10,
    "start_time": "2023-01-16T08:45:41.686Z"
   },
   {
    "duration": 107,
    "start_time": "2023-01-16T08:45:41.733Z"
   },
   {
    "duration": 13,
    "start_time": "2023-01-16T08:45:41.842Z"
   },
   {
    "duration": 1508,
    "start_time": "2023-01-16T08:54:40.885Z"
   },
   {
    "duration": 850,
    "start_time": "2023-01-16T08:54:42.395Z"
   },
   {
    "duration": 19,
    "start_time": "2023-01-16T08:54:43.247Z"
   },
   {
    "duration": 4,
    "start_time": "2023-01-16T08:54:43.269Z"
   },
   {
    "duration": 524,
    "start_time": "2023-01-16T08:54:43.275Z"
   },
   {
    "duration": 642,
    "start_time": "2023-01-16T08:54:43.800Z"
   },
   {
    "duration": 4,
    "start_time": "2023-01-16T08:54:44.449Z"
   },
   {
    "duration": 166,
    "start_time": "2023-01-16T08:54:44.457Z"
   },
   {
    "duration": 141,
    "start_time": "2023-01-16T08:54:44.627Z"
   },
   {
    "duration": 1336,
    "start_time": "2023-01-16T08:54:44.770Z"
   },
   {
    "duration": 40,
    "start_time": "2023-01-16T08:54:46.108Z"
   },
   {
    "duration": 26,
    "start_time": "2023-01-16T08:54:46.150Z"
   },
   {
    "duration": 15,
    "start_time": "2023-01-16T08:54:46.178Z"
   },
   {
    "duration": 35,
    "start_time": "2023-01-16T08:54:46.194Z"
   },
   {
    "duration": 71,
    "start_time": "2023-01-16T08:54:46.242Z"
   },
   {
    "duration": 51,
    "start_time": "2023-01-16T08:54:46.316Z"
   },
   {
    "duration": 4,
    "start_time": "2023-01-16T08:54:46.369Z"
   },
   {
    "duration": 75,
    "start_time": "2023-01-16T08:54:46.375Z"
   },
   {
    "duration": 3,
    "start_time": "2023-01-16T08:54:46.452Z"
   },
   {
    "duration": 129744,
    "start_time": "2023-01-16T08:54:46.457Z"
   },
   {
    "duration": 4,
    "start_time": "2023-01-16T08:56:56.202Z"
   },
   {
    "duration": 14,
    "start_time": "2023-01-16T08:56:56.222Z"
   },
   {
    "duration": 1431,
    "start_time": "2023-01-16T09:01:19.448Z"
   },
   {
    "duration": 858,
    "start_time": "2023-01-16T09:01:20.881Z"
   },
   {
    "duration": 23,
    "start_time": "2023-01-16T09:01:21.741Z"
   },
   {
    "duration": 4,
    "start_time": "2023-01-16T09:01:21.766Z"
   },
   {
    "duration": 541,
    "start_time": "2023-01-16T09:01:21.772Z"
   },
   {
    "duration": 552,
    "start_time": "2023-01-16T09:01:22.315Z"
   },
   {
    "duration": 4,
    "start_time": "2023-01-16T09:01:22.869Z"
   },
   {
    "duration": 161,
    "start_time": "2023-01-16T09:01:22.875Z"
   },
   {
    "duration": 111,
    "start_time": "2023-01-16T09:01:23.038Z"
   },
   {
    "duration": 1377,
    "start_time": "2023-01-16T09:01:23.151Z"
   },
   {
    "duration": 42,
    "start_time": "2023-01-16T09:01:24.536Z"
   },
   {
    "duration": 28,
    "start_time": "2023-01-16T09:01:24.580Z"
   },
   {
    "duration": 19,
    "start_time": "2023-01-16T09:01:24.610Z"
   },
   {
    "duration": 17,
    "start_time": "2023-01-16T09:01:24.632Z"
   },
   {
    "duration": 57,
    "start_time": "2023-01-16T09:01:24.650Z"
   },
   {
    "duration": 61,
    "start_time": "2023-01-16T09:01:24.710Z"
   },
   {
    "duration": 3,
    "start_time": "2023-01-16T09:01:24.773Z"
   },
   {
    "duration": 73,
    "start_time": "2023-01-16T09:01:24.778Z"
   },
   {
    "duration": 3,
    "start_time": "2023-01-16T09:01:24.853Z"
   },
   {
    "duration": 127342,
    "start_time": "2023-01-16T09:01:24.857Z"
   },
   {
    "duration": 5,
    "start_time": "2023-01-16T09:03:32.201Z"
   },
   {
    "duration": 17,
    "start_time": "2023-01-16T09:03:32.207Z"
   },
   {
    "duration": 305116,
    "start_time": "2023-01-16T09:03:32.225Z"
   },
   {
    "duration": 5,
    "start_time": "2023-01-16T09:08:37.343Z"
   },
   {
    "duration": 8,
    "start_time": "2023-01-16T09:08:37.350Z"
   },
   {
    "duration": 62,
    "start_time": "2023-01-16T09:08:37.360Z"
   },
   {
    "duration": 40,
    "start_time": "2023-01-16T09:08:37.424Z"
   },
   {
    "duration": 87,
    "start_time": "2023-01-16T09:08:37.466Z"
   },
   {
    "duration": 295,
    "start_time": "2023-01-16T09:08:37.555Z"
   },
   {
    "duration": 83,
    "start_time": "2023-01-16T09:08:37.853Z"
   },
   {
    "duration": 1456,
    "start_time": "2023-01-16T09:17:27.815Z"
   },
   {
    "duration": 870,
    "start_time": "2023-01-16T09:17:29.273Z"
   },
   {
    "duration": 21,
    "start_time": "2023-01-16T09:17:30.145Z"
   },
   {
    "duration": 7,
    "start_time": "2023-01-16T09:17:30.168Z"
   },
   {
    "duration": 539,
    "start_time": "2023-01-16T09:17:30.177Z"
   },
   {
    "duration": 575,
    "start_time": "2023-01-16T09:17:30.717Z"
   },
   {
    "duration": 3,
    "start_time": "2023-01-16T09:17:31.294Z"
   },
   {
    "duration": 144,
    "start_time": "2023-01-16T09:17:31.300Z"
   },
   {
    "duration": 120,
    "start_time": "2023-01-16T09:17:31.451Z"
   },
   {
    "duration": 4,
    "start_time": "2023-01-16T09:17:31.574Z"
   },
   {
    "duration": 45,
    "start_time": "2023-01-16T09:17:31.580Z"
   },
   {
    "duration": 26,
    "start_time": "2023-01-16T09:17:31.629Z"
   },
   {
    "duration": 17,
    "start_time": "2023-01-16T09:17:31.657Z"
   },
   {
    "duration": 63,
    "start_time": "2023-01-16T09:17:31.677Z"
   },
   {
    "duration": 54,
    "start_time": "2023-01-16T09:17:31.742Z"
   },
   {
    "duration": 4,
    "start_time": "2023-01-16T09:17:31.799Z"
   },
   {
    "duration": 83,
    "start_time": "2023-01-16T09:17:31.805Z"
   },
   {
    "duration": 3,
    "start_time": "2023-01-16T09:17:31.890Z"
   },
   {
    "duration": 127053,
    "start_time": "2023-01-16T09:17:31.895Z"
   },
   {
    "duration": 5,
    "start_time": "2023-01-16T09:19:38.950Z"
   },
   {
    "duration": 5,
    "start_time": "2023-01-16T09:19:38.957Z"
   },
   {
    "duration": 354870,
    "start_time": "2023-01-16T09:19:38.964Z"
   },
   {
    "duration": 4,
    "start_time": "2023-01-16T09:25:33.843Z"
   },
   {
    "duration": 6,
    "start_time": "2023-01-16T09:25:33.849Z"
   },
   {
    "duration": 5,
    "start_time": "2023-01-16T09:25:33.857Z"
   },
   {
    "duration": 74,
    "start_time": "2023-01-16T09:25:33.865Z"
   },
   {
    "duration": 61,
    "start_time": "2023-01-16T09:25:33.941Z"
   },
   {
    "duration": 326,
    "start_time": "2023-01-16T09:25:34.004Z"
   },
   {
    "duration": 24,
    "start_time": "2023-01-16T09:25:34.332Z"
   },
   {
    "duration": 3,
    "start_time": "2023-01-16T09:26:00.880Z"
   },
   {
    "duration": 50228,
    "start_time": "2023-01-16T09:26:01.712Z"
   },
   {
    "duration": 1441,
    "start_time": "2023-01-16T09:27:17.111Z"
   },
   {
    "duration": 899,
    "start_time": "2023-01-16T09:27:18.554Z"
   },
   {
    "duration": 18,
    "start_time": "2023-01-16T09:27:19.454Z"
   },
   {
    "duration": 4,
    "start_time": "2023-01-16T09:27:19.475Z"
   },
   {
    "duration": 534,
    "start_time": "2023-01-16T09:27:19.481Z"
   },
   {
    "duration": 581,
    "start_time": "2023-01-16T09:27:20.021Z"
   },
   {
    "duration": 4,
    "start_time": "2023-01-16T09:27:20.604Z"
   },
   {
    "duration": 150,
    "start_time": "2023-01-16T09:27:20.610Z"
   },
   {
    "duration": 114,
    "start_time": "2023-01-16T09:27:20.762Z"
   },
   {
    "duration": 3,
    "start_time": "2023-01-16T09:27:20.880Z"
   },
   {
    "duration": 45,
    "start_time": "2023-01-16T09:27:20.884Z"
   },
   {
    "duration": 15,
    "start_time": "2023-01-16T09:27:20.931Z"
   },
   {
    "duration": 14,
    "start_time": "2023-01-16T09:27:20.948Z"
   },
   {
    "duration": 63,
    "start_time": "2023-01-16T09:27:20.964Z"
   },
   {
    "duration": 44,
    "start_time": "2023-01-16T09:27:21.029Z"
   },
   {
    "duration": 4,
    "start_time": "2023-01-16T09:27:21.075Z"
   },
   {
    "duration": 78,
    "start_time": "2023-01-16T09:27:21.081Z"
   },
   {
    "duration": 6,
    "start_time": "2023-01-16T09:27:21.161Z"
   },
   {
    "duration": 120373,
    "start_time": "2023-01-16T09:27:21.169Z"
   },
   {
    "duration": 4,
    "start_time": "2023-01-16T09:29:21.544Z"
   },
   {
    "duration": 7,
    "start_time": "2023-01-16T09:29:21.549Z"
   },
   {
    "duration": 4284,
    "start_time": "2023-01-16T09:29:21.557Z"
   },
   {
    "duration": 4,
    "start_time": "2023-01-16T09:29:25.843Z"
   },
   {
    "duration": 3,
    "start_time": "2023-01-16T09:29:25.921Z"
   },
   {
    "duration": 20,
    "start_time": "2023-01-16T09:29:25.926Z"
   },
   {
    "duration": 73,
    "start_time": "2023-01-16T09:29:25.947Z"
   },
   {
    "duration": 64,
    "start_time": "2023-01-16T09:29:26.021Z"
   },
   {
    "duration": 335,
    "start_time": "2023-01-16T09:29:26.088Z"
   },
   {
    "duration": 10,
    "start_time": "2023-01-16T09:29:26.425Z"
   },
   {
    "duration": 3,
    "start_time": "2023-01-16T09:30:38.473Z"
   },
   {
    "duration": 5339,
    "start_time": "2023-01-16T09:30:39.098Z"
   },
   {
    "duration": 1435,
    "start_time": "2023-01-16T09:31:27.220Z"
   },
   {
    "duration": 831,
    "start_time": "2023-01-16T09:31:28.658Z"
   },
   {
    "duration": 18,
    "start_time": "2023-01-16T09:31:29.491Z"
   },
   {
    "duration": 5,
    "start_time": "2023-01-16T09:31:29.523Z"
   },
   {
    "duration": 496,
    "start_time": "2023-01-16T09:31:29.530Z"
   },
   {
    "duration": 562,
    "start_time": "2023-01-16T09:31:30.028Z"
   },
   {
    "duration": 5,
    "start_time": "2023-01-16T09:31:30.592Z"
   },
   {
    "duration": 152,
    "start_time": "2023-01-16T09:31:30.599Z"
   },
   {
    "duration": 103,
    "start_time": "2023-01-16T09:31:30.754Z"
   },
   {
    "duration": 4,
    "start_time": "2023-01-16T09:31:30.859Z"
   },
   {
    "duration": 49,
    "start_time": "2023-01-16T09:31:30.864Z"
   },
   {
    "duration": 20,
    "start_time": "2023-01-16T09:31:30.915Z"
   },
   {
    "duration": 18,
    "start_time": "2023-01-16T09:31:30.937Z"
   },
   {
    "duration": 64,
    "start_time": "2023-01-16T09:31:30.957Z"
   },
   {
    "duration": 44,
    "start_time": "2023-01-16T09:31:31.023Z"
   },
   {
    "duration": 14,
    "start_time": "2023-01-16T09:31:31.069Z"
   },
   {
    "duration": 77,
    "start_time": "2023-01-16T09:31:31.084Z"
   },
   {
    "duration": 3,
    "start_time": "2023-01-16T09:31:31.162Z"
   },
   {
    "duration": 5992,
    "start_time": "2023-01-16T09:31:31.166Z"
   },
   {
    "duration": 4,
    "start_time": "2023-01-16T09:31:37.160Z"
   },
   {
    "duration": 17,
    "start_time": "2023-01-16T09:31:37.166Z"
   },
   {
    "duration": 5247,
    "start_time": "2023-01-16T09:31:37.185Z"
   },
   {
    "duration": 4,
    "start_time": "2023-01-16T09:31:42.433Z"
   },
   {
    "duration": 53,
    "start_time": "2023-01-16T09:31:42.439Z"
   },
   {
    "duration": 28,
    "start_time": "2023-01-16T09:31:42.494Z"
   },
   {
    "duration": 77,
    "start_time": "2023-01-16T09:31:42.524Z"
   },
   {
    "duration": 32,
    "start_time": "2023-01-16T09:31:42.603Z"
   },
   {
    "duration": 400,
    "start_time": "2023-01-16T09:31:42.638Z"
   },
   {
    "duration": 84,
    "start_time": "2023-01-16T09:31:43.040Z"
   },
   {
    "duration": 1429,
    "start_time": "2023-01-16T09:33:59.387Z"
   },
   {
    "duration": 852,
    "start_time": "2023-01-16T09:34:00.819Z"
   },
   {
    "duration": 17,
    "start_time": "2023-01-16T09:34:01.673Z"
   },
   {
    "duration": 21,
    "start_time": "2023-01-16T09:34:01.692Z"
   },
   {
    "duration": 482,
    "start_time": "2023-01-16T09:34:01.715Z"
   },
   {
    "duration": 542,
    "start_time": "2023-01-16T09:34:02.199Z"
   },
   {
    "duration": 3,
    "start_time": "2023-01-16T09:34:02.743Z"
   },
   {
    "duration": 130,
    "start_time": "2023-01-16T09:34:02.748Z"
   },
   {
    "duration": 116,
    "start_time": "2023-01-16T09:34:02.879Z"
   },
   {
    "duration": 4,
    "start_time": "2023-01-16T09:34:02.996Z"
   },
   {
    "duration": 37,
    "start_time": "2023-01-16T09:34:03.002Z"
   },
   {
    "duration": 19,
    "start_time": "2023-01-16T09:34:03.041Z"
   },
   {
    "duration": 19,
    "start_time": "2023-01-16T09:34:03.061Z"
   },
   {
    "duration": 58,
    "start_time": "2023-01-16T09:34:03.083Z"
   },
   {
    "duration": 46,
    "start_time": "2023-01-16T09:34:03.142Z"
   },
   {
    "duration": 4,
    "start_time": "2023-01-16T09:34:03.189Z"
   },
   {
    "duration": 70,
    "start_time": "2023-01-16T09:34:03.195Z"
   },
   {
    "duration": 3,
    "start_time": "2023-01-16T09:34:03.266Z"
   },
   {
    "duration": 6051,
    "start_time": "2023-01-16T09:34:03.270Z"
   },
   {
    "duration": 5,
    "start_time": "2023-01-16T09:34:09.323Z"
   },
   {
    "duration": 11,
    "start_time": "2023-01-16T09:34:09.329Z"
   },
   {
    "duration": 5282,
    "start_time": "2023-01-16T09:34:09.342Z"
   },
   {
    "duration": 4,
    "start_time": "2023-01-16T09:34:14.626Z"
   },
   {
    "duration": 23,
    "start_time": "2023-01-16T09:34:14.631Z"
   },
   {
    "duration": 12,
    "start_time": "2023-01-16T09:34:14.656Z"
   },
   {
    "duration": 57,
    "start_time": "2023-01-16T09:34:14.670Z"
   },
   {
    "duration": 32,
    "start_time": "2023-01-16T09:34:14.728Z"
   },
   {
    "duration": 468,
    "start_time": "2023-01-16T09:34:14.762Z"
   },
   {
    "duration": 9,
    "start_time": "2023-01-16T09:34:15.232Z"
   },
   {
    "duration": 1511,
    "start_time": "2023-01-16T09:35:33.406Z"
   },
   {
    "duration": 873,
    "start_time": "2023-01-16T09:35:34.919Z"
   },
   {
    "duration": 28,
    "start_time": "2023-01-16T09:35:35.794Z"
   },
   {
    "duration": 5,
    "start_time": "2023-01-16T09:35:35.824Z"
   },
   {
    "duration": 485,
    "start_time": "2023-01-16T09:35:35.830Z"
   },
   {
    "duration": 514,
    "start_time": "2023-01-16T09:35:36.317Z"
   },
   {
    "duration": 4,
    "start_time": "2023-01-16T09:35:36.832Z"
   },
   {
    "duration": 148,
    "start_time": "2023-01-16T09:35:36.838Z"
   },
   {
    "duration": 116,
    "start_time": "2023-01-16T09:35:36.987Z"
   },
   {
    "duration": 16,
    "start_time": "2023-01-16T09:35:37.106Z"
   },
   {
    "duration": 22,
    "start_time": "2023-01-16T09:35:37.123Z"
   },
   {
    "duration": 12,
    "start_time": "2023-01-16T09:35:37.147Z"
   },
   {
    "duration": 12,
    "start_time": "2023-01-16T09:35:37.160Z"
   },
   {
    "duration": 63,
    "start_time": "2023-01-16T09:35:37.174Z"
   },
   {
    "duration": 48,
    "start_time": "2023-01-16T09:35:37.239Z"
   },
   {
    "duration": 3,
    "start_time": "2023-01-16T09:35:37.289Z"
   },
   {
    "duration": 65,
    "start_time": "2023-01-16T09:35:37.294Z"
   },
   {
    "duration": 3,
    "start_time": "2023-01-16T09:35:37.361Z"
   },
   {
    "duration": 6128,
    "start_time": "2023-01-16T09:35:37.366Z"
   },
   {
    "duration": 4,
    "start_time": "2023-01-16T09:35:43.496Z"
   },
   {
    "duration": 8,
    "start_time": "2023-01-16T09:35:43.502Z"
   },
   {
    "duration": 29420,
    "start_time": "2023-01-16T09:35:43.512Z"
   },
   {
    "duration": 4,
    "start_time": "2023-01-16T09:36:12.934Z"
   },
   {
    "duration": 7,
    "start_time": "2023-01-16T09:36:12.940Z"
   },
   {
    "duration": 5,
    "start_time": "2023-01-16T09:36:12.949Z"
   },
   {
    "duration": 105,
    "start_time": "2023-01-16T09:36:12.955Z"
   },
   {
    "duration": 34,
    "start_time": "2023-01-16T09:36:13.062Z"
   },
   {
    "duration": 333,
    "start_time": "2023-01-16T09:36:13.099Z"
   },
   {
    "duration": 91,
    "start_time": "2023-01-16T09:36:13.434Z"
   },
   {
    "duration": 1548,
    "start_time": "2023-01-16T09:37:00.430Z"
   },
   {
    "duration": 868,
    "start_time": "2023-01-16T09:37:01.980Z"
   },
   {
    "duration": 23,
    "start_time": "2023-01-16T09:37:02.850Z"
   },
   {
    "duration": 4,
    "start_time": "2023-01-16T09:37:02.876Z"
   },
   {
    "duration": 533,
    "start_time": "2023-01-16T09:37:02.882Z"
   },
   {
    "duration": 550,
    "start_time": "2023-01-16T09:37:03.417Z"
   },
   {
    "duration": 4,
    "start_time": "2023-01-16T09:37:03.969Z"
   },
   {
    "duration": 175,
    "start_time": "2023-01-16T09:37:03.975Z"
   },
   {
    "duration": 143,
    "start_time": "2023-01-16T09:37:04.152Z"
   },
   {
    "duration": 3,
    "start_time": "2023-01-16T09:37:04.298Z"
   },
   {
    "duration": 41,
    "start_time": "2023-01-16T09:37:04.303Z"
   },
   {
    "duration": 16,
    "start_time": "2023-01-16T09:37:04.347Z"
   },
   {
    "duration": 40,
    "start_time": "2023-01-16T09:37:04.365Z"
   },
   {
    "duration": 79,
    "start_time": "2023-01-16T09:37:04.407Z"
   },
   {
    "duration": 66,
    "start_time": "2023-01-16T09:37:04.488Z"
   },
   {
    "duration": 5,
    "start_time": "2023-01-16T09:37:04.555Z"
   },
   {
    "duration": 64,
    "start_time": "2023-01-16T09:37:04.562Z"
   },
   {
    "duration": 3,
    "start_time": "2023-01-16T09:37:04.628Z"
   },
   {
    "duration": 6175,
    "start_time": "2023-01-16T09:37:04.632Z"
   },
   {
    "duration": 4,
    "start_time": "2023-01-16T09:37:10.809Z"
   },
   {
    "duration": 20,
    "start_time": "2023-01-16T09:37:10.815Z"
   },
   {
    "duration": 17602,
    "start_time": "2023-01-16T09:37:10.837Z"
   },
   {
    "duration": 85,
    "start_time": "2023-01-16T09:37:28.441Z"
   },
   {
    "duration": 5,
    "start_time": "2023-01-16T09:37:28.528Z"
   },
   {
    "duration": 10,
    "start_time": "2023-01-16T09:37:28.535Z"
   },
   {
    "duration": 37,
    "start_time": "2023-01-16T09:37:28.547Z"
   },
   {
    "duration": 51,
    "start_time": "2023-01-16T09:37:28.585Z"
   },
   {
    "duration": 297,
    "start_time": "2023-01-16T09:37:28.640Z"
   },
   {
    "duration": 85,
    "start_time": "2023-01-16T09:37:28.939Z"
   },
   {
    "duration": 1578,
    "start_time": "2023-01-16T09:41:44.265Z"
   },
   {
    "duration": 885,
    "start_time": "2023-01-16T09:41:45.849Z"
   },
   {
    "duration": 24,
    "start_time": "2023-01-16T09:41:46.736Z"
   },
   {
    "duration": 11,
    "start_time": "2023-01-16T09:41:46.762Z"
   },
   {
    "duration": 575,
    "start_time": "2023-01-16T09:41:46.775Z"
   },
   {
    "duration": 567,
    "start_time": "2023-01-16T09:41:47.352Z"
   },
   {
    "duration": 5,
    "start_time": "2023-01-16T09:41:47.922Z"
   },
   {
    "duration": 154,
    "start_time": "2023-01-16T09:41:47.930Z"
   },
   {
    "duration": 129,
    "start_time": "2023-01-16T09:41:48.086Z"
   },
   {
    "duration": 4,
    "start_time": "2023-01-16T09:41:48.224Z"
   },
   {
    "duration": 31,
    "start_time": "2023-01-16T09:41:48.230Z"
   },
   {
    "duration": 13,
    "start_time": "2023-01-16T09:41:48.263Z"
   },
   {
    "duration": 10,
    "start_time": "2023-01-16T09:41:48.278Z"
   },
   {
    "duration": 89,
    "start_time": "2023-01-16T09:41:48.289Z"
   },
   {
    "duration": 65,
    "start_time": "2023-01-16T09:41:48.379Z"
   },
   {
    "duration": 4,
    "start_time": "2023-01-16T09:41:48.449Z"
   },
   {
    "duration": 87,
    "start_time": "2023-01-16T09:41:48.455Z"
   },
   {
    "duration": 3,
    "start_time": "2023-01-16T09:41:48.545Z"
   },
   {
    "duration": 6703,
    "start_time": "2023-01-16T09:41:48.551Z"
   },
   {
    "duration": 3,
    "start_time": "2023-01-16T09:41:55.256Z"
   },
   {
    "duration": 7,
    "start_time": "2023-01-16T09:41:55.261Z"
   },
   {
    "duration": 300654,
    "start_time": "2023-01-16T09:41:55.269Z"
   },
   {
    "duration": 6,
    "start_time": "2023-01-16T09:46:55.927Z"
   },
   {
    "duration": 10,
    "start_time": "2023-01-16T09:46:55.935Z"
   },
   {
    "duration": 10,
    "start_time": "2023-01-16T09:46:55.949Z"
   },
   {
    "duration": 39,
    "start_time": "2023-01-16T09:46:55.961Z"
   },
   {
    "duration": 52,
    "start_time": "2023-01-16T09:46:56.001Z"
   },
   {
    "duration": 284,
    "start_time": "2023-01-16T09:46:56.058Z"
   },
   {
    "duration": 91,
    "start_time": "2023-01-16T09:46:56.344Z"
   },
   {
    "duration": 1951,
    "start_time": "2023-01-16T23:27:38.048Z"
   },
   {
    "duration": 1678,
    "start_time": "2023-01-16T23:27:40.001Z"
   },
   {
    "duration": 17,
    "start_time": "2023-01-16T23:27:41.680Z"
   },
   {
    "duration": 4,
    "start_time": "2023-01-16T23:27:41.698Z"
   },
   {
    "duration": 1017,
    "start_time": "2023-01-16T23:27:41.703Z"
   },
   {
    "duration": 1077,
    "start_time": "2023-01-16T23:27:42.722Z"
   },
   {
    "duration": 4,
    "start_time": "2023-01-16T23:27:43.801Z"
   },
   {
    "duration": 291,
    "start_time": "2023-01-16T23:27:43.806Z"
   },
   {
    "duration": 215,
    "start_time": "2023-01-16T23:27:44.099Z"
   },
   {
    "duration": 3,
    "start_time": "2023-01-16T23:27:44.317Z"
   },
   {
    "duration": 23,
    "start_time": "2023-01-16T23:27:44.378Z"
   },
   {
    "duration": 22,
    "start_time": "2023-01-16T23:27:44.402Z"
   },
   {
    "duration": 59,
    "start_time": "2023-01-16T23:27:44.425Z"
   },
   {
    "duration": 119,
    "start_time": "2023-01-16T23:27:44.486Z"
   },
   {
    "duration": 99,
    "start_time": "2023-01-16T23:27:44.607Z"
   },
   {
    "duration": 3,
    "start_time": "2023-01-16T23:27:44.708Z"
   },
   {
    "duration": 112,
    "start_time": "2023-01-16T23:27:44.712Z"
   },
   {
    "duration": 52,
    "start_time": "2023-01-16T23:27:44.826Z"
   },
   {
    "duration": 10873,
    "start_time": "2023-01-16T23:27:44.880Z"
   },
   {
    "duration": 26,
    "start_time": "2023-01-16T23:27:55.755Z"
   },
   {
    "duration": 19,
    "start_time": "2023-01-16T23:27:55.782Z"
   },
   {
    "duration": 140484,
    "start_time": "2023-01-16T23:27:55.803Z"
   },
   {
    "duration": 3,
    "start_time": "2023-01-16T23:30:16.289Z"
   },
   {
    "duration": 14,
    "start_time": "2023-01-16T23:30:16.294Z"
   },
   {
    "duration": 2,
    "start_time": "2023-01-16T23:30:16.378Z"
   },
   {
    "duration": 119,
    "start_time": "2023-01-16T23:30:16.382Z"
   },
   {
    "duration": 87,
    "start_time": "2023-01-16T23:30:16.502Z"
   },
   {
    "duration": 306,
    "start_time": "2023-01-16T23:30:16.591Z"
   },
   {
    "duration": 89,
    "start_time": "2023-01-16T23:30:16.899Z"
   },
   {
    "duration": 144,
    "start_time": "2023-01-17T00:02:21.616Z"
   },
   {
    "duration": 1795,
    "start_time": "2023-01-17T22:17:07.280Z"
   },
   {
    "duration": 3,
    "start_time": "2023-01-17T22:17:09.077Z"
   },
   {
    "duration": 132,
    "start_time": "2023-01-17T22:19:55.620Z"
   },
   {
    "duration": 1314,
    "start_time": "2023-01-17T22:19:59.392Z"
   },
   {
    "duration": 10,
    "start_time": "2023-01-17T22:20:01.408Z"
   },
   {
    "duration": 4,
    "start_time": "2023-01-17T22:20:09.147Z"
   },
   {
    "duration": 4,
    "start_time": "2023-01-17T22:20:09.730Z"
   },
   {
    "duration": 971,
    "start_time": "2023-01-17T22:20:11.564Z"
   },
   {
    "duration": 11,
    "start_time": "2023-01-17T22:20:13.433Z"
   },
   {
    "duration": 151,
    "start_time": "2023-01-17T22:20:23.400Z"
   },
   {
    "duration": 11,
    "start_time": "2023-01-17T22:21:47.384Z"
   },
   {
    "duration": 25,
    "start_time": "2023-01-17T22:22:04.441Z"
   },
   {
    "duration": 4,
    "start_time": "2023-01-17T22:22:09.242Z"
   },
   {
    "duration": 108,
    "start_time": "2023-01-17T22:22:56.809Z"
   },
   {
    "duration": 243,
    "start_time": "2023-01-17T22:23:24.777Z"
   },
   {
    "duration": 4,
    "start_time": "2023-01-17T22:23:28.785Z"
   },
   {
    "duration": 1405,
    "start_time": "2023-01-17T22:24:06.490Z"
   },
   {
    "duration": 15,
    "start_time": "2023-01-17T22:28:17.561Z"
   },
   {
    "duration": 19,
    "start_time": "2023-01-17T22:28:54.573Z"
   },
   {
    "duration": 660,
    "start_time": "2023-01-17T22:29:38.840Z"
   },
   {
    "duration": 12,
    "start_time": "2023-01-17T22:29:53.016Z"
   },
   {
    "duration": 12,
    "start_time": "2023-01-17T22:30:00.773Z"
   },
   {
    "duration": 12,
    "start_time": "2023-01-17T22:30:13.197Z"
   },
   {
    "duration": 17,
    "start_time": "2023-01-17T22:30:25.301Z"
   },
   {
    "duration": 16,
    "start_time": "2023-01-17T22:30:32.798Z"
   },
   {
    "duration": 12,
    "start_time": "2023-01-17T22:30:41.842Z"
   },
   {
    "duration": 669,
    "start_time": "2023-01-17T22:30:46.417Z"
   },
   {
    "duration": 12,
    "start_time": "2023-01-17T22:31:20.218Z"
   },
   {
    "duration": 10,
    "start_time": "2023-01-17T22:31:43.656Z"
   },
   {
    "duration": 13,
    "start_time": "2023-01-17T22:31:57.597Z"
   },
   {
    "duration": 659,
    "start_time": "2023-01-17T22:32:07.848Z"
   },
   {
    "duration": 749,
    "start_time": "2023-01-17T22:32:29.399Z"
   },
   {
    "duration": 661,
    "start_time": "2023-01-17T22:32:33.111Z"
   },
   {
    "duration": 10,
    "start_time": "2023-01-17T22:35:07.279Z"
   },
   {
    "duration": 36,
    "start_time": "2023-01-17T22:35:30.735Z"
   },
   {
    "duration": 3,
    "start_time": "2023-01-17T22:35:34.729Z"
   },
   {
    "duration": 929,
    "start_time": "2023-01-17T22:35:35.569Z"
   },
   {
    "duration": 162,
    "start_time": "2023-01-17T22:35:36.815Z"
   },
   {
    "duration": 18,
    "start_time": "2023-01-17T22:35:37.582Z"
   },
   {
    "duration": 4,
    "start_time": "2023-01-17T22:35:38.167Z"
   },
   {
    "duration": 102,
    "start_time": "2023-01-17T22:35:39.321Z"
   },
   {
    "duration": 227,
    "start_time": "2023-01-17T22:35:40.169Z"
   },
   {
    "duration": 4,
    "start_time": "2023-01-17T22:35:41.669Z"
   },
   {
    "duration": 1353,
    "start_time": "2023-01-17T22:35:43.940Z"
   },
   {
    "duration": 1267,
    "start_time": "2023-01-17T22:35:47.810Z"
   },
   {
    "duration": 490,
    "start_time": "2023-01-17T22:35:56.635Z"
   },
   {
    "duration": 1834,
    "start_time": "2023-01-17T22:36:17.982Z"
   },
   {
    "duration": 1564,
    "start_time": "2023-01-17T22:36:48.702Z"
   },
   {
    "duration": 1720,
    "start_time": "2023-01-17T22:36:57.043Z"
   },
   {
    "duration": 417,
    "start_time": "2023-01-17T22:38:03.182Z"
   },
   {
    "duration": 15,
    "start_time": "2023-01-17T22:38:40.484Z"
   },
   {
    "duration": 15,
    "start_time": "2023-01-17T22:38:54.654Z"
   },
   {
    "duration": 10,
    "start_time": "2023-01-17T22:39:02.305Z"
   },
   {
    "duration": 292,
    "start_time": "2023-01-17T22:39:12.713Z"
   },
   {
    "duration": 1256,
    "start_time": "2023-01-17T22:40:11.996Z"
   },
   {
    "duration": 1612,
    "start_time": "2023-01-17T22:41:07.149Z"
   },
   {
    "duration": 15500,
    "start_time": "2023-01-17T22:41:43.049Z"
   },
   {
    "duration": 16316,
    "start_time": "2023-01-17T22:42:33.207Z"
   },
   {
    "duration": 124,
    "start_time": "2023-01-17T22:43:19.406Z"
   },
   {
    "duration": 10,
    "start_time": "2023-01-17T22:43:26.256Z"
   },
   {
    "duration": 10,
    "start_time": "2023-01-17T22:43:36.209Z"
   },
   {
    "duration": 10,
    "start_time": "2023-01-17T22:43:43.902Z"
   },
   {
    "duration": 122,
    "start_time": "2023-01-17T22:43:50.463Z"
   },
   {
    "duration": 16642,
    "start_time": "2023-01-17T22:44:10.409Z"
   },
   {
    "duration": 15,
    "start_time": "2023-01-17T22:44:29.091Z"
   },
   {
    "duration": 16765,
    "start_time": "2023-01-17T22:44:48.228Z"
   },
   {
    "duration": 16158,
    "start_time": "2023-01-17T22:45:21.651Z"
   },
   {
    "duration": 108,
    "start_time": "2023-01-17T22:45:41.755Z"
   },
   {
    "duration": 306,
    "start_time": "2023-01-17T22:45:47.472Z"
   },
   {
    "duration": 16123,
    "start_time": "2023-01-17T22:46:11.968Z"
   },
   {
    "duration": 0,
    "start_time": "2023-01-17T22:47:29.730Z"
   },
   {
    "duration": 16705,
    "start_time": "2023-01-17T22:47:45.934Z"
   },
   {
    "duration": 1629,
    "start_time": "2023-01-17T22:48:12.573Z"
   },
   {
    "duration": 55426,
    "start_time": "2023-01-17T22:49:14.992Z"
   },
   {
    "duration": 31,
    "start_time": "2023-01-17T22:52:49.120Z"
   },
   {
    "duration": 14,
    "start_time": "2023-01-17T22:53:10.455Z"
   },
   {
    "duration": 60604,
    "start_time": "2023-01-17T22:53:16.643Z"
   },
   {
    "duration": 4,
    "start_time": "2023-01-17T22:55:35.668Z"
   },
   {
    "duration": 2,
    "start_time": "2023-01-17T22:55:36.021Z"
   },
   {
    "duration": 828,
    "start_time": "2023-01-17T22:55:37.275Z"
   },
   {
    "duration": 146,
    "start_time": "2023-01-17T22:55:38.758Z"
   },
   {
    "duration": 61845,
    "start_time": "2023-01-17T22:55:39.708Z"
   },
   {
    "duration": 19,
    "start_time": "2023-01-17T22:56:41.555Z"
   },
   {
    "duration": 1214,
    "start_time": "2023-01-17T22:58:01.492Z"
   },
   {
    "duration": 6,
    "start_time": "2023-01-17T22:58:10.590Z"
   },
   {
    "duration": 3,
    "start_time": "2023-01-17T22:58:10.922Z"
   },
   {
    "duration": 943,
    "start_time": "2023-01-17T22:58:11.906Z"
   },
   {
    "duration": 146,
    "start_time": "2023-01-17T22:58:14.806Z"
   },
   {
    "duration": 435,
    "start_time": "2023-01-17T22:58:16.669Z"
   },
   {
    "duration": 14,
    "start_time": "2023-01-17T23:00:23.168Z"
   },
   {
    "duration": 1165,
    "start_time": "2023-01-17T23:00:48.684Z"
   },
   {
    "duration": 0,
    "start_time": "2023-01-17T23:00:49.851Z"
   },
   {
    "duration": 4,
    "start_time": "2023-01-17T23:01:04.798Z"
   },
   {
    "duration": 4,
    "start_time": "2023-01-17T23:01:05.064Z"
   },
   {
    "duration": 928,
    "start_time": "2023-01-17T23:01:06.106Z"
   },
   {
    "duration": 161,
    "start_time": "2023-01-17T23:01:07.931Z"
   },
   {
    "duration": 1142,
    "start_time": "2023-01-17T23:01:10.690Z"
   },
   {
    "duration": 1591,
    "start_time": "2023-01-17T23:05:22.106Z"
   },
   {
    "duration": 4,
    "start_time": "2023-01-17T23:05:23.699Z"
   },
   {
    "duration": 1262,
    "start_time": "2023-01-17T23:05:23.707Z"
   },
   {
    "duration": 159,
    "start_time": "2023-01-17T23:05:24.970Z"
   },
   {
    "duration": 1558,
    "start_time": "2023-01-17T23:12:29.545Z"
   },
   {
    "duration": 4,
    "start_time": "2023-01-17T23:12:31.105Z"
   },
   {
    "duration": 1196,
    "start_time": "2023-01-17T23:12:31.110Z"
   },
   {
    "duration": 169,
    "start_time": "2023-01-17T23:12:32.307Z"
   },
   {
    "duration": 1573,
    "start_time": "2023-01-17T23:13:40.797Z"
   },
   {
    "duration": 2,
    "start_time": "2023-01-17T23:13:42.373Z"
   },
   {
    "duration": 964,
    "start_time": "2023-01-17T23:13:42.377Z"
   },
   {
    "duration": 162,
    "start_time": "2023-01-17T23:13:43.343Z"
   },
   {
    "duration": 552,
    "start_time": "2023-01-17T23:13:43.509Z"
   },
   {
    "duration": 151,
    "start_time": "2023-01-17T23:13:44.062Z"
   },
   {
    "duration": 0,
    "start_time": "2023-01-17T23:13:44.215Z"
   },
   {
    "duration": 0,
    "start_time": "2023-01-17T23:13:44.217Z"
   },
   {
    "duration": 0,
    "start_time": "2023-01-17T23:13:44.218Z"
   },
   {
    "duration": 0,
    "start_time": "2023-01-17T23:13:44.220Z"
   },
   {
    "duration": 0,
    "start_time": "2023-01-17T23:13:44.221Z"
   },
   {
    "duration": 0,
    "start_time": "2023-01-17T23:13:44.222Z"
   },
   {
    "duration": 0,
    "start_time": "2023-01-17T23:13:44.223Z"
   },
   {
    "duration": 0,
    "start_time": "2023-01-17T23:13:44.224Z"
   },
   {
    "duration": 0,
    "start_time": "2023-01-17T23:13:44.225Z"
   },
   {
    "duration": 0,
    "start_time": "2023-01-17T23:13:44.226Z"
   },
   {
    "duration": 0,
    "start_time": "2023-01-17T23:13:44.251Z"
   },
   {
    "duration": 0,
    "start_time": "2023-01-17T23:13:44.252Z"
   },
   {
    "duration": 0,
    "start_time": "2023-01-17T23:13:44.253Z"
   },
   {
    "duration": 0,
    "start_time": "2023-01-17T23:13:44.254Z"
   },
   {
    "duration": 0,
    "start_time": "2023-01-17T23:13:44.255Z"
   },
   {
    "duration": 0,
    "start_time": "2023-01-17T23:13:44.256Z"
   },
   {
    "duration": 0,
    "start_time": "2023-01-17T23:13:44.257Z"
   },
   {
    "duration": 0,
    "start_time": "2023-01-17T23:13:44.258Z"
   },
   {
    "duration": 0,
    "start_time": "2023-01-17T23:13:44.259Z"
   },
   {
    "duration": 0,
    "start_time": "2023-01-17T23:13:44.260Z"
   },
   {
    "duration": 0,
    "start_time": "2023-01-17T23:13:44.261Z"
   },
   {
    "duration": 0,
    "start_time": "2023-01-17T23:13:44.262Z"
   },
   {
    "duration": 1,
    "start_time": "2023-01-17T23:13:44.263Z"
   },
   {
    "duration": 0,
    "start_time": "2023-01-17T23:13:44.264Z"
   },
   {
    "duration": 0,
    "start_time": "2023-01-17T23:13:44.266Z"
   },
   {
    "duration": 0,
    "start_time": "2023-01-17T23:13:44.267Z"
   },
   {
    "duration": 89,
    "start_time": "2023-01-17T23:14:31.643Z"
   },
   {
    "duration": 1491,
    "start_time": "2023-01-17T23:14:37.603Z"
   },
   {
    "duration": 3,
    "start_time": "2023-01-17T23:14:39.096Z"
   },
   {
    "duration": 1027,
    "start_time": "2023-01-17T23:14:39.101Z"
   },
   {
    "duration": 191,
    "start_time": "2023-01-17T23:14:40.130Z"
   },
   {
    "duration": 623,
    "start_time": "2023-01-17T23:14:40.324Z"
   },
   {
    "duration": 100,
    "start_time": "2023-01-17T23:14:40.951Z"
   },
   {
    "duration": 7,
    "start_time": "2023-01-17T23:14:41.053Z"
   },
   {
    "duration": 122,
    "start_time": "2023-01-17T23:14:41.062Z"
   },
   {
    "duration": 235,
    "start_time": "2023-01-17T23:14:41.186Z"
   },
   {
    "duration": 6,
    "start_time": "2023-01-17T23:14:41.424Z"
   },
   {
    "duration": 1348,
    "start_time": "2023-01-17T23:14:41.432Z"
   },
   {
    "duration": 53544,
    "start_time": "2023-01-17T23:14:42.781Z"
   },
   {
    "duration": 81,
    "start_time": "2023-01-17T23:15:36.327Z"
   },
   {
    "duration": 132,
    "start_time": "2023-01-17T23:15:36.410Z"
   },
   {
    "duration": 0,
    "start_time": "2023-01-17T23:15:36.551Z"
   },
   {
    "duration": 0,
    "start_time": "2023-01-17T23:15:36.552Z"
   },
   {
    "duration": 0,
    "start_time": "2023-01-17T23:15:36.553Z"
   },
   {
    "duration": 0,
    "start_time": "2023-01-17T23:15:36.555Z"
   },
   {
    "duration": 0,
    "start_time": "2023-01-17T23:15:36.555Z"
   },
   {
    "duration": 0,
    "start_time": "2023-01-17T23:15:36.556Z"
   },
   {
    "duration": 0,
    "start_time": "2023-01-17T23:15:36.558Z"
   },
   {
    "duration": 0,
    "start_time": "2023-01-17T23:15:36.559Z"
   },
   {
    "duration": 0,
    "start_time": "2023-01-17T23:15:36.560Z"
   },
   {
    "duration": 0,
    "start_time": "2023-01-17T23:15:36.561Z"
   },
   {
    "duration": 0,
    "start_time": "2023-01-17T23:15:36.562Z"
   },
   {
    "duration": 0,
    "start_time": "2023-01-17T23:15:36.564Z"
   },
   {
    "duration": 0,
    "start_time": "2023-01-17T23:15:36.566Z"
   },
   {
    "duration": 0,
    "start_time": "2023-01-17T23:15:36.567Z"
   },
   {
    "duration": 0,
    "start_time": "2023-01-17T23:15:36.568Z"
   },
   {
    "duration": 0,
    "start_time": "2023-01-17T23:15:36.569Z"
   },
   {
    "duration": 0,
    "start_time": "2023-01-17T23:15:36.570Z"
   },
   {
    "duration": 0,
    "start_time": "2023-01-17T23:15:36.571Z"
   },
   {
    "duration": 526,
    "start_time": "2023-01-17T23:15:54.123Z"
   },
   {
    "duration": 15361,
    "start_time": "2023-01-17T23:16:47.183Z"
   },
   {
    "duration": 13,
    "start_time": "2023-01-17T23:17:33.455Z"
   },
   {
    "duration": 15077,
    "start_time": "2023-01-17T23:17:42.759Z"
   },
   {
    "duration": 15149,
    "start_time": "2023-01-17T23:18:15.401Z"
   },
   {
    "duration": 16,
    "start_time": "2023-01-17T23:22:02.072Z"
   },
   {
    "duration": 1518,
    "start_time": "2023-01-17T23:23:42.851Z"
   },
   {
    "duration": 3,
    "start_time": "2023-01-17T23:23:44.371Z"
   },
   {
    "duration": 906,
    "start_time": "2023-01-17T23:23:44.376Z"
   },
   {
    "duration": 188,
    "start_time": "2023-01-17T23:23:45.284Z"
   },
   {
    "duration": 585,
    "start_time": "2023-01-17T23:23:45.474Z"
   },
   {
    "duration": 98,
    "start_time": "2023-01-17T23:23:46.061Z"
   },
   {
    "duration": 6,
    "start_time": "2023-01-17T23:23:46.161Z"
   },
   {
    "duration": 111,
    "start_time": "2023-01-17T23:23:46.170Z"
   },
   {
    "duration": 235,
    "start_time": "2023-01-17T23:23:46.283Z"
   },
   {
    "duration": 4,
    "start_time": "2023-01-17T23:23:46.520Z"
   },
   {
    "duration": 1268,
    "start_time": "2023-01-17T23:23:46.526Z"
   },
   {
    "duration": 269,
    "start_time": "2023-01-17T23:23:47.796Z"
   },
   {
    "duration": 87,
    "start_time": "2023-01-17T23:23:48.067Z"
   },
   {
    "duration": 156,
    "start_time": "2023-01-17T23:23:48.158Z"
   },
   {
    "duration": 0,
    "start_time": "2023-01-17T23:23:48.317Z"
   },
   {
    "duration": 0,
    "start_time": "2023-01-17T23:23:48.318Z"
   },
   {
    "duration": 0,
    "start_time": "2023-01-17T23:23:48.320Z"
   },
   {
    "duration": 0,
    "start_time": "2023-01-17T23:23:48.321Z"
   },
   {
    "duration": 0,
    "start_time": "2023-01-17T23:23:48.323Z"
   },
   {
    "duration": 0,
    "start_time": "2023-01-17T23:23:48.325Z"
   },
   {
    "duration": 0,
    "start_time": "2023-01-17T23:23:48.326Z"
   },
   {
    "duration": 0,
    "start_time": "2023-01-17T23:23:48.327Z"
   },
   {
    "duration": 0,
    "start_time": "2023-01-17T23:23:48.328Z"
   },
   {
    "duration": 0,
    "start_time": "2023-01-17T23:23:48.329Z"
   },
   {
    "duration": 0,
    "start_time": "2023-01-17T23:23:48.330Z"
   },
   {
    "duration": 0,
    "start_time": "2023-01-17T23:23:48.352Z"
   },
   {
    "duration": 0,
    "start_time": "2023-01-17T23:23:48.353Z"
   },
   {
    "duration": 0,
    "start_time": "2023-01-17T23:23:48.355Z"
   },
   {
    "duration": 0,
    "start_time": "2023-01-17T23:23:48.357Z"
   },
   {
    "duration": 0,
    "start_time": "2023-01-17T23:23:48.359Z"
   },
   {
    "duration": 0,
    "start_time": "2023-01-17T23:23:48.360Z"
   },
   {
    "duration": 0,
    "start_time": "2023-01-17T23:23:48.361Z"
   },
   {
    "duration": 177,
    "start_time": "2023-01-17T23:25:23.671Z"
   },
   {
    "duration": 6,
    "start_time": "2023-01-17T23:25:54.352Z"
   },
   {
    "duration": 4,
    "start_time": "2023-01-17T23:26:10.722Z"
   },
   {
    "duration": 11,
    "start_time": "2023-01-17T23:26:35.168Z"
   },
   {
    "duration": 189,
    "start_time": "2023-01-17T23:26:58.095Z"
   },
   {
    "duration": 180,
    "start_time": "2023-01-17T23:27:07.240Z"
   },
   {
    "duration": 1535,
    "start_time": "2023-01-17T23:28:33.040Z"
   },
   {
    "duration": 4,
    "start_time": "2023-01-17T23:28:34.577Z"
   },
   {
    "duration": 906,
    "start_time": "2023-01-17T23:28:34.583Z"
   },
   {
    "duration": 169,
    "start_time": "2023-01-17T23:28:35.491Z"
   },
   {
    "duration": 563,
    "start_time": "2023-01-17T23:28:35.663Z"
   },
   {
    "duration": 92,
    "start_time": "2023-01-17T23:28:36.229Z"
   },
   {
    "duration": 5,
    "start_time": "2023-01-17T23:28:36.323Z"
   },
   {
    "duration": 108,
    "start_time": "2023-01-17T23:28:36.330Z"
   },
   {
    "duration": 214,
    "start_time": "2023-01-17T23:28:36.441Z"
   },
   {
    "duration": 4,
    "start_time": "2023-01-17T23:28:36.658Z"
   },
   {
    "duration": 1289,
    "start_time": "2023-01-17T23:28:36.664Z"
   },
   {
    "duration": 1627,
    "start_time": "2023-01-17T23:29:08.687Z"
   },
   {
    "duration": 3,
    "start_time": "2023-01-17T23:29:10.316Z"
   },
   {
    "duration": 982,
    "start_time": "2023-01-17T23:29:10.321Z"
   },
   {
    "duration": 175,
    "start_time": "2023-01-17T23:29:11.304Z"
   },
   {
    "duration": 592,
    "start_time": "2023-01-17T23:29:11.481Z"
   },
   {
    "duration": 98,
    "start_time": "2023-01-17T23:29:12.075Z"
   },
   {
    "duration": 5,
    "start_time": "2023-01-17T23:29:12.175Z"
   },
   {
    "duration": 111,
    "start_time": "2023-01-17T23:29:12.182Z"
   },
   {
    "duration": 233,
    "start_time": "2023-01-17T23:29:12.295Z"
   },
   {
    "duration": 4,
    "start_time": "2023-01-17T23:29:12.530Z"
   },
   {
    "duration": 1276,
    "start_time": "2023-01-17T23:29:12.536Z"
   },
   {
    "duration": 9540,
    "start_time": "2023-01-17T23:29:13.814Z"
   },
   {
    "duration": 77,
    "start_time": "2023-01-17T23:29:23.355Z"
   },
   {
    "duration": 122,
    "start_time": "2023-01-17T23:29:23.452Z"
   },
   {
    "duration": 0,
    "start_time": "2023-01-17T23:29:23.576Z"
   },
   {
    "duration": 0,
    "start_time": "2023-01-17T23:29:23.577Z"
   },
   {
    "duration": 0,
    "start_time": "2023-01-17T23:29:23.579Z"
   },
   {
    "duration": 0,
    "start_time": "2023-01-17T23:29:23.580Z"
   },
   {
    "duration": 0,
    "start_time": "2023-01-17T23:29:23.580Z"
   },
   {
    "duration": 0,
    "start_time": "2023-01-17T23:29:23.581Z"
   },
   {
    "duration": 0,
    "start_time": "2023-01-17T23:29:23.582Z"
   },
   {
    "duration": 0,
    "start_time": "2023-01-17T23:29:23.583Z"
   },
   {
    "duration": 0,
    "start_time": "2023-01-17T23:29:23.584Z"
   },
   {
    "duration": 0,
    "start_time": "2023-01-17T23:29:23.585Z"
   },
   {
    "duration": 0,
    "start_time": "2023-01-17T23:29:23.586Z"
   },
   {
    "duration": 0,
    "start_time": "2023-01-17T23:29:23.588Z"
   },
   {
    "duration": 0,
    "start_time": "2023-01-17T23:29:23.590Z"
   },
   {
    "duration": 0,
    "start_time": "2023-01-17T23:29:23.591Z"
   },
   {
    "duration": 0,
    "start_time": "2023-01-17T23:29:23.592Z"
   },
   {
    "duration": 0,
    "start_time": "2023-01-17T23:29:23.593Z"
   },
   {
    "duration": 1,
    "start_time": "2023-01-17T23:29:23.594Z"
   },
   {
    "duration": 0,
    "start_time": "2023-01-17T23:29:23.596Z"
   },
   {
    "duration": 505,
    "start_time": "2023-01-17T23:30:39.433Z"
   },
   {
    "duration": 6,
    "start_time": "2023-01-17T23:54:09.263Z"
   },
   {
    "duration": 12,
    "start_time": "2023-01-17T23:54:33.675Z"
   },
   {
    "duration": 12,
    "start_time": "2023-01-17T23:54:47.296Z"
   },
   {
    "duration": 6,
    "start_time": "2023-01-17T23:54:54.247Z"
   },
   {
    "duration": 28,
    "start_time": "2023-01-17T23:58:39.153Z"
   },
   {
    "duration": 4,
    "start_time": "2023-01-18T00:00:50.192Z"
   },
   {
    "duration": 3,
    "start_time": "2023-01-18T00:00:50.933Z"
   },
   {
    "duration": 955,
    "start_time": "2023-01-18T00:00:54.456Z"
   },
   {
    "duration": 158,
    "start_time": "2023-01-18T00:01:04.113Z"
   },
   {
    "duration": 6,
    "start_time": "2023-01-18T00:01:10.986Z"
   },
   {
    "duration": 40,
    "start_time": "2023-01-18T00:01:13.488Z"
   },
   {
    "duration": 7,
    "start_time": "2023-01-18T00:02:12.257Z"
   },
   {
    "duration": 1189,
    "start_time": "2023-01-18T00:03:17.315Z"
   },
   {
    "duration": 12,
    "start_time": "2023-01-18T00:03:33.539Z"
   },
   {
    "duration": 12,
    "start_time": "2023-01-18T00:03:46.481Z"
   },
   {
    "duration": 16,
    "start_time": "2023-01-18T00:04:02.425Z"
   },
   {
    "duration": 7,
    "start_time": "2023-01-18T00:04:07.604Z"
   },
   {
    "duration": 21,
    "start_time": "2023-01-18T00:04:23.209Z"
   },
   {
    "duration": 21,
    "start_time": "2023-01-18T00:05:07.272Z"
   },
   {
    "duration": 8,
    "start_time": "2023-01-18T00:05:45.962Z"
   },
   {
    "duration": 10,
    "start_time": "2023-01-18T00:07:02.931Z"
   },
   {
    "duration": 168,
    "start_time": "2023-01-18T00:07:11.947Z"
   },
   {
    "duration": 55,
    "start_time": "2023-01-18T00:08:38.351Z"
   },
   {
    "duration": 25,
    "start_time": "2023-01-18T00:08:57.844Z"
   },
   {
    "duration": 11,
    "start_time": "2023-01-18T00:09:25.648Z"
   },
   {
    "duration": 65,
    "start_time": "2023-01-18T00:09:41.407Z"
   },
   {
    "duration": 32,
    "start_time": "2023-01-18T00:09:53.110Z"
   },
   {
    "duration": 9,
    "start_time": "2023-01-18T00:15:37.814Z"
   },
   {
    "duration": 98,
    "start_time": "2023-01-18T00:16:19.429Z"
   },
   {
    "duration": 30,
    "start_time": "2023-01-18T00:16:23.630Z"
   },
   {
    "duration": 9,
    "start_time": "2023-01-18T00:17:40.815Z"
   },
   {
    "duration": 9,
    "start_time": "2023-01-18T00:17:52.583Z"
   },
   {
    "duration": 9,
    "start_time": "2023-01-18T00:17:57.598Z"
   },
   {
    "duration": 11,
    "start_time": "2023-01-18T00:18:00.069Z"
   },
   {
    "duration": 29,
    "start_time": "2023-01-18T00:18:02.680Z"
   },
   {
    "duration": 234,
    "start_time": "2023-01-18T00:18:21.894Z"
   },
   {
    "duration": 147,
    "start_time": "2023-01-18T00:19:03.382Z"
   },
   {
    "duration": 6,
    "start_time": "2023-01-18T00:19:21.311Z"
   },
   {
    "duration": 32,
    "start_time": "2023-01-18T00:19:58.455Z"
   },
   {
    "duration": 142,
    "start_time": "2023-01-18T00:21:16.359Z"
   },
   {
    "duration": 33,
    "start_time": "2023-01-18T00:21:28.543Z"
   },
   {
    "duration": 33,
    "start_time": "2023-01-18T00:21:37.643Z"
   },
   {
    "duration": 48,
    "start_time": "2023-01-18T00:22:11.584Z"
   },
   {
    "duration": 185,
    "start_time": "2023-01-18T00:22:45.176Z"
   },
   {
    "duration": 45,
    "start_time": "2023-01-18T00:23:01.539Z"
   },
   {
    "duration": 10,
    "start_time": "2023-01-18T00:34:50.722Z"
   },
   {
    "duration": 14,
    "start_time": "2023-01-18T00:34:58.298Z"
   },
   {
    "duration": 41,
    "start_time": "2023-01-18T00:35:18.834Z"
   },
   {
    "duration": 34,
    "start_time": "2023-01-18T00:35:47.448Z"
   },
   {
    "duration": 162,
    "start_time": "2023-01-18T00:57:20.689Z"
   },
   {
    "duration": 4,
    "start_time": "2023-01-18T00:57:37.180Z"
   },
   {
    "duration": 2,
    "start_time": "2023-01-18T00:57:37.480Z"
   },
   {
    "duration": 925,
    "start_time": "2023-01-18T00:57:38.676Z"
   },
   {
    "duration": 194,
    "start_time": "2023-01-18T00:57:40.928Z"
   },
   {
    "duration": 14,
    "start_time": "2023-01-18T00:57:51.056Z"
   },
   {
    "duration": 3,
    "start_time": "2023-01-18T00:57:56.861Z"
   },
   {
    "duration": 2,
    "start_time": "2023-01-18T00:57:57.120Z"
   },
   {
    "duration": 862,
    "start_time": "2023-01-18T00:57:58.143Z"
   },
   {
    "duration": 55,
    "start_time": "2023-01-18T00:58:01.354Z"
   },
   {
    "duration": 194,
    "start_time": "2023-01-18T00:58:34.240Z"
   },
   {
    "duration": 14,
    "start_time": "2023-01-18T00:59:37.088Z"
   },
   {
    "duration": 1161,
    "start_time": "2023-01-18T00:59:55.673Z"
   },
   {
    "duration": 247,
    "start_time": "2023-01-18T01:00:09.593Z"
   },
   {
    "duration": 254,
    "start_time": "2023-01-18T01:00:49.023Z"
   },
   {
    "duration": 11,
    "start_time": "2023-01-18T01:01:13.299Z"
   },
   {
    "duration": 807,
    "start_time": "2023-01-18T01:01:20.489Z"
   },
   {
    "duration": 596,
    "start_time": "2023-01-18T01:01:58.130Z"
   },
   {
    "duration": 506,
    "start_time": "2023-01-18T01:02:04.403Z"
   },
   {
    "duration": 855,
    "start_time": "2023-01-18T01:02:20.002Z"
   },
   {
    "duration": 679,
    "start_time": "2023-01-18T01:02:52.828Z"
   },
   {
    "duration": 523,
    "start_time": "2023-01-18T01:03:27.708Z"
   },
   {
    "duration": 912,
    "start_time": "2023-01-18T01:03:48.988Z"
   },
   {
    "duration": 517,
    "start_time": "2023-01-18T01:04:28.669Z"
   },
   {
    "duration": 756,
    "start_time": "2023-01-18T01:04:36.944Z"
   },
   {
    "duration": 384,
    "start_time": "2023-01-18T01:04:47.010Z"
   },
   {
    "duration": 10,
    "start_time": "2023-01-18T01:04:56.064Z"
   },
   {
    "duration": 32,
    "start_time": "2023-01-18T01:05:46.250Z"
   },
   {
    "duration": 34,
    "start_time": "2023-01-18T01:06:09.290Z"
   },
   {
    "duration": 32,
    "start_time": "2023-01-18T01:06:23.314Z"
   },
   {
    "duration": 192,
    "start_time": "2023-01-18T01:06:43.275Z"
   },
   {
    "duration": 217,
    "start_time": "2023-01-18T01:06:52.346Z"
   },
   {
    "duration": 2367,
    "start_time": "2023-01-18T01:07:21.709Z"
   },
   {
    "duration": 162,
    "start_time": "2023-01-18T01:08:11.772Z"
   },
   {
    "duration": 25,
    "start_time": "2023-01-18T01:08:58.267Z"
   },
   {
    "duration": 19,
    "start_time": "2023-01-18T01:09:15.452Z"
   },
   {
    "duration": 23,
    "start_time": "2023-01-18T01:09:54.400Z"
   },
   {
    "duration": 18,
    "start_time": "2023-01-18T01:10:05.451Z"
   },
   {
    "duration": 14628,
    "start_time": "2023-01-18T01:11:21.248Z"
   },
   {
    "duration": 9714,
    "start_time": "2023-01-18T01:11:45.110Z"
   },
   {
    "duration": 13,
    "start_time": "2023-01-18T01:12:19.405Z"
   },
   {
    "duration": 13,
    "start_time": "2023-01-18T01:12:27.517Z"
   },
   {
    "duration": 23,
    "start_time": "2023-01-18T01:14:57.254Z"
   },
   {
    "duration": 29,
    "start_time": "2023-01-18T01:15:21.948Z"
   },
   {
    "duration": 23,
    "start_time": "2023-01-18T01:15:28.090Z"
   },
   {
    "duration": 5,
    "start_time": "2023-01-18T01:16:19.373Z"
   },
   {
    "duration": 34,
    "start_time": "2023-01-18T01:16:47.832Z"
   },
   {
    "duration": 25,
    "start_time": "2023-01-18T01:17:28.576Z"
   },
   {
    "duration": 32,
    "start_time": "2023-01-18T01:17:54.425Z"
   },
   {
    "duration": 34,
    "start_time": "2023-01-18T01:18:59.495Z"
   },
   {
    "duration": 55,
    "start_time": "2023-01-18T01:19:55.701Z"
   },
   {
    "duration": 23,
    "start_time": "2023-01-18T01:20:16.595Z"
   },
   {
    "duration": 34,
    "start_time": "2023-01-18T01:20:29.897Z"
   },
   {
    "duration": 63,
    "start_time": "2023-01-18T01:21:09.569Z"
   },
   {
    "duration": 34,
    "start_time": "2023-01-18T01:22:33.906Z"
   },
   {
    "duration": 40,
    "start_time": "2023-01-18T01:23:17.754Z"
   },
   {
    "duration": 24,
    "start_time": "2023-01-18T01:23:39.965Z"
   },
   {
    "duration": 19,
    "start_time": "2023-01-18T01:23:47.626Z"
   },
   {
    "duration": 20,
    "start_time": "2023-01-18T01:24:11.612Z"
   },
   {
    "duration": 17,
    "start_time": "2023-01-18T01:24:21.017Z"
   },
   {
    "duration": 19,
    "start_time": "2023-01-18T01:24:29.537Z"
   },
   {
    "duration": 1196,
    "start_time": "2023-01-18T01:25:34.939Z"
   },
   {
    "duration": 1122,
    "start_time": "2023-01-18T01:25:57.345Z"
   },
   {
    "duration": 165,
    "start_time": "2023-01-18T01:26:45.834Z"
   },
   {
    "duration": 9,
    "start_time": "2023-01-18T01:26:55.167Z"
   },
   {
    "duration": 23,
    "start_time": "2023-01-18T01:27:02.390Z"
   },
   {
    "duration": 3,
    "start_time": "2023-01-18T01:27:33.642Z"
   },
   {
    "duration": 38,
    "start_time": "2023-01-18T01:27:42.153Z"
   },
   {
    "duration": 34,
    "start_time": "2023-01-18T01:28:10.118Z"
   },
   {
    "duration": 35,
    "start_time": "2023-01-18T01:28:28.065Z"
   },
   {
    "duration": 28,
    "start_time": "2023-01-18T01:29:53.834Z"
   },
   {
    "duration": 33,
    "start_time": "2023-01-18T01:30:35.674Z"
   },
   {
    "duration": 30,
    "start_time": "2023-01-18T01:31:22.828Z"
   },
   {
    "duration": 42,
    "start_time": "2023-01-18T01:31:59.235Z"
   },
   {
    "duration": 38,
    "start_time": "2023-01-18T01:32:55.812Z"
   },
   {
    "duration": 38,
    "start_time": "2023-01-18T01:33:07.675Z"
   },
   {
    "duration": 176,
    "start_time": "2023-01-18T01:37:22.670Z"
   },
   {
    "duration": 75370,
    "start_time": "2023-01-18T01:37:39.458Z"
   },
   {
    "duration": 95,
    "start_time": "2023-01-18T01:47:40.002Z"
   },
   {
    "duration": 11,
    "start_time": "2023-01-18T01:47:59.795Z"
   },
   {
    "duration": 15,
    "start_time": "2023-01-18T01:48:58.258Z"
   },
   {
    "duration": 4,
    "start_time": "2023-01-18T01:49:05.325Z"
   },
   {
    "duration": 3,
    "start_time": "2023-01-18T01:49:05.673Z"
   },
   {
    "duration": 845,
    "start_time": "2023-01-18T01:49:07.059Z"
   },
   {
    "duration": 139,
    "start_time": "2023-01-18T01:49:08.369Z"
   },
   {
    "duration": 15,
    "start_time": "2023-01-18T01:49:10.121Z"
   },
   {
    "duration": 18,
    "start_time": "2023-01-18T01:49:11.154Z"
   },
   {
    "duration": 11,
    "start_time": "2023-01-18T01:49:33.674Z"
   },
   {
    "duration": 24,
    "start_time": "2023-01-18T01:51:51.771Z"
   },
   {
    "duration": 10,
    "start_time": "2023-01-18T01:52:38.420Z"
   },
   {
    "duration": 18,
    "start_time": "2023-01-18T01:52:45.426Z"
   },
   {
    "duration": 18,
    "start_time": "2023-01-18T01:53:32.348Z"
   },
   {
    "duration": 22,
    "start_time": "2023-01-18T01:56:16.384Z"
   },
   {
    "duration": 24,
    "start_time": "2023-01-18T01:57:23.790Z"
   },
   {
    "duration": 19,
    "start_time": "2023-01-18T01:58:09.425Z"
   },
   {
    "duration": 28,
    "start_time": "2023-01-18T01:58:51.193Z"
   },
   {
    "duration": 9,
    "start_time": "2023-01-18T01:59:05.072Z"
   },
   {
    "duration": 20,
    "start_time": "2023-01-18T01:59:14.850Z"
   },
   {
    "duration": 45,
    "start_time": "2023-01-18T02:00:02.847Z"
   },
   {
    "duration": 31,
    "start_time": "2023-01-18T02:00:30.314Z"
   },
   {
    "duration": 28,
    "start_time": "2023-01-18T02:02:17.311Z"
   },
   {
    "duration": 50,
    "start_time": "2023-01-18T02:04:11.777Z"
   },
   {
    "duration": 24,
    "start_time": "2023-01-18T02:05:47.521Z"
   },
   {
    "duration": 18,
    "start_time": "2023-01-18T02:06:23.065Z"
   },
   {
    "duration": 17,
    "start_time": "2023-01-18T02:06:36.845Z"
   },
   {
    "duration": 19,
    "start_time": "2023-01-18T02:06:41.793Z"
   },
   {
    "duration": 18,
    "start_time": "2023-01-18T02:06:56.137Z"
   },
   {
    "duration": 17,
    "start_time": "2023-01-18T02:07:05.073Z"
   },
   {
    "duration": 10,
    "start_time": "2023-01-18T02:07:44.595Z"
   },
   {
    "duration": 27,
    "start_time": "2023-01-18T02:07:51.369Z"
   },
   {
    "duration": 9,
    "start_time": "2023-01-18T02:07:59.401Z"
   },
   {
    "duration": 10,
    "start_time": "2023-01-18T02:08:06.841Z"
   },
   {
    "duration": 41,
    "start_time": "2023-01-18T02:08:19.145Z"
   },
   {
    "duration": 41,
    "start_time": "2023-01-18T02:10:29.522Z"
   },
   {
    "duration": 15,
    "start_time": "2023-01-18T02:13:07.217Z"
   },
   {
    "duration": 4,
    "start_time": "2023-01-18T02:13:21.397Z"
   },
   {
    "duration": 3,
    "start_time": "2023-01-18T02:13:21.691Z"
   },
   {
    "duration": 860,
    "start_time": "2023-01-18T02:13:22.486Z"
   },
   {
    "duration": 137,
    "start_time": "2023-01-18T02:13:23.351Z"
   },
   {
    "duration": 14,
    "start_time": "2023-01-18T02:13:24.340Z"
   },
   {
    "duration": 248,
    "start_time": "2023-01-18T02:13:25.324Z"
   },
   {
    "duration": 13,
    "start_time": "2023-01-18T02:13:32.105Z"
   },
   {
    "duration": 39,
    "start_time": "2023-01-18T02:13:42.812Z"
   },
   {
    "duration": 18,
    "start_time": "2023-01-18T02:13:52.689Z"
   },
   {
    "duration": 23,
    "start_time": "2023-01-18T02:13:59.421Z"
   },
   {
    "duration": 38,
    "start_time": "2023-01-18T02:14:01.062Z"
   },
   {
    "duration": 27,
    "start_time": "2023-01-18T02:14:06.044Z"
   },
   {
    "duration": 37,
    "start_time": "2023-01-18T02:14:10.707Z"
   },
   {
    "duration": 20,
    "start_time": "2023-01-18T02:14:12.100Z"
   },
   {
    "duration": 18,
    "start_time": "2023-01-18T02:20:06.590Z"
   },
   {
    "duration": 21,
    "start_time": "2023-01-18T02:20:17.832Z"
   },
   {
    "duration": 19,
    "start_time": "2023-01-18T02:20:35.758Z"
   },
   {
    "duration": 19,
    "start_time": "2023-01-18T02:24:55.990Z"
   },
   {
    "duration": 22,
    "start_time": "2023-01-18T02:25:44.605Z"
   },
   {
    "duration": 5,
    "start_time": "2023-01-18T02:26:01.372Z"
   },
   {
    "duration": 1474,
    "start_time": "2023-01-18T02:26:50.892Z"
   },
   {
    "duration": 3,
    "start_time": "2023-01-18T02:26:52.369Z"
   },
   {
    "duration": 941,
    "start_time": "2023-01-18T02:26:52.373Z"
   },
   {
    "duration": 156,
    "start_time": "2023-01-18T02:26:53.316Z"
   },
   {
    "duration": 15,
    "start_time": "2023-01-18T02:26:53.473Z"
   },
   {
    "duration": 293,
    "start_time": "2023-01-18T02:26:53.490Z"
   },
   {
    "duration": 11,
    "start_time": "2023-01-18T02:26:53.785Z"
   },
   {
    "duration": 43,
    "start_time": "2023-01-18T02:26:53.797Z"
   },
   {
    "duration": 20,
    "start_time": "2023-01-18T02:26:53.852Z"
   },
   {
    "duration": 33,
    "start_time": "2023-01-18T02:26:53.875Z"
   },
   {
    "duration": 60,
    "start_time": "2023-01-18T02:26:53.910Z"
   },
   {
    "duration": 26,
    "start_time": "2023-01-18T02:26:53.972Z"
   },
   {
    "duration": 60,
    "start_time": "2023-01-18T02:26:54.000Z"
   },
   {
    "duration": 19,
    "start_time": "2023-01-18T02:26:54.062Z"
   },
   {
    "duration": 23,
    "start_time": "2023-01-18T02:26:54.082Z"
   },
   {
    "duration": 1255,
    "start_time": "2023-01-18T02:26:54.107Z"
   },
   {
    "duration": 0,
    "start_time": "2023-01-18T02:26:55.364Z"
   },
   {
    "duration": 0,
    "start_time": "2023-01-18T02:26:55.365Z"
   },
   {
    "duration": 0,
    "start_time": "2023-01-18T02:26:55.366Z"
   },
   {
    "duration": 0,
    "start_time": "2023-01-18T02:26:55.368Z"
   },
   {
    "duration": 0,
    "start_time": "2023-01-18T02:26:55.369Z"
   },
   {
    "duration": 0,
    "start_time": "2023-01-18T02:26:55.370Z"
   },
   {
    "duration": 0,
    "start_time": "2023-01-18T02:26:55.371Z"
   },
   {
    "duration": 0,
    "start_time": "2023-01-18T02:26:55.372Z"
   },
   {
    "duration": 0,
    "start_time": "2023-01-18T02:26:55.373Z"
   },
   {
    "duration": 0,
    "start_time": "2023-01-18T02:26:55.374Z"
   },
   {
    "duration": 0,
    "start_time": "2023-01-18T02:26:55.375Z"
   },
   {
    "duration": 0,
    "start_time": "2023-01-18T02:26:55.376Z"
   },
   {
    "duration": 0,
    "start_time": "2023-01-18T02:26:55.377Z"
   },
   {
    "duration": 0,
    "start_time": "2023-01-18T02:26:55.378Z"
   },
   {
    "duration": 0,
    "start_time": "2023-01-18T02:26:55.379Z"
   },
   {
    "duration": 1556,
    "start_time": "2023-01-18T02:27:29.818Z"
   },
   {
    "duration": 3,
    "start_time": "2023-01-18T02:27:31.376Z"
   },
   {
    "duration": 882,
    "start_time": "2023-01-18T02:27:31.381Z"
   },
   {
    "duration": 144,
    "start_time": "2023-01-18T02:27:32.265Z"
   },
   {
    "duration": 15,
    "start_time": "2023-01-18T02:27:32.411Z"
   },
   {
    "duration": 262,
    "start_time": "2023-01-18T02:27:32.428Z"
   },
   {
    "duration": 11,
    "start_time": "2023-01-18T02:27:32.692Z"
   },
   {
    "duration": 48,
    "start_time": "2023-01-18T02:27:32.704Z"
   },
   {
    "duration": 17,
    "start_time": "2023-01-18T02:27:32.754Z"
   },
   {
    "duration": 26,
    "start_time": "2023-01-18T02:27:32.773Z"
   },
   {
    "duration": 64,
    "start_time": "2023-01-18T02:27:32.800Z"
   },
   {
    "duration": 24,
    "start_time": "2023-01-18T02:27:32.866Z"
   },
   {
    "duration": 59,
    "start_time": "2023-01-18T02:27:32.892Z"
   },
   {
    "duration": 18,
    "start_time": "2023-01-18T02:27:32.953Z"
   },
   {
    "duration": 21,
    "start_time": "2023-01-18T02:27:32.973Z"
   },
   {
    "duration": 26,
    "start_time": "2023-01-18T02:27:32.996Z"
   },
   {
    "duration": 27,
    "start_time": "2023-01-18T02:27:33.024Z"
   },
   {
    "duration": 75,
    "start_time": "2023-01-18T02:27:33.053Z"
   },
   {
    "duration": 2,
    "start_time": "2023-01-18T02:27:33.130Z"
   },
   {
    "duration": 2677,
    "start_time": "2023-01-18T02:27:33.150Z"
   },
   {
    "duration": 4,
    "start_time": "2023-01-18T02:27:35.828Z"
   },
   {
    "duration": 8,
    "start_time": "2023-01-18T02:27:35.834Z"
   },
   {
    "duration": 114,
    "start_time": "2023-01-18T02:27:35.843Z"
   },
   {
    "duration": 13,
    "start_time": "2023-01-18T02:27:35.959Z"
   },
   {
    "duration": 0,
    "start_time": "2023-01-18T02:27:35.973Z"
   },
   {
    "duration": 0,
    "start_time": "2023-01-18T02:27:35.974Z"
   },
   {
    "duration": 0,
    "start_time": "2023-01-18T02:27:35.976Z"
   },
   {
    "duration": 0,
    "start_time": "2023-01-18T02:27:35.977Z"
   },
   {
    "duration": 0,
    "start_time": "2023-01-18T02:27:35.978Z"
   },
   {
    "duration": 0,
    "start_time": "2023-01-18T02:27:35.979Z"
   },
   {
    "duration": 1459,
    "start_time": "2023-01-18T02:30:12.411Z"
   },
   {
    "duration": 2,
    "start_time": "2023-01-18T02:30:13.873Z"
   },
   {
    "duration": 919,
    "start_time": "2023-01-18T02:30:13.877Z"
   },
   {
    "duration": 155,
    "start_time": "2023-01-18T02:30:14.798Z"
   },
   {
    "duration": 16,
    "start_time": "2023-01-18T02:30:14.955Z"
   },
   {
    "duration": 292,
    "start_time": "2023-01-18T02:30:14.973Z"
   },
   {
    "duration": 11,
    "start_time": "2023-01-18T02:30:15.267Z"
   },
   {
    "duration": 43,
    "start_time": "2023-01-18T02:30:15.280Z"
   },
   {
    "duration": 39,
    "start_time": "2023-01-18T02:30:15.325Z"
   },
   {
    "duration": 31,
    "start_time": "2023-01-18T02:30:15.368Z"
   },
   {
    "duration": 54,
    "start_time": "2023-01-18T02:30:15.401Z"
   },
   {
    "duration": 27,
    "start_time": "2023-01-18T02:30:15.457Z"
   },
   {
    "duration": 47,
    "start_time": "2023-01-18T02:30:15.486Z"
   },
   {
    "duration": 20,
    "start_time": "2023-01-18T02:30:15.551Z"
   },
   {
    "duration": 22,
    "start_time": "2023-01-18T02:30:15.573Z"
   },
   {
    "duration": 4,
    "start_time": "2023-01-18T02:30:15.597Z"
   },
   {
    "duration": 114,
    "start_time": "2023-01-18T02:30:15.603Z"
   },
   {
    "duration": 4,
    "start_time": "2023-01-18T02:30:15.719Z"
   },
   {
    "duration": 2888,
    "start_time": "2023-01-18T02:30:15.724Z"
   },
   {
    "duration": 4,
    "start_time": "2023-01-18T02:30:18.614Z"
   },
   {
    "duration": 4,
    "start_time": "2023-01-18T02:30:18.620Z"
   },
   {
    "duration": 120,
    "start_time": "2023-01-18T02:30:18.626Z"
   },
   {
    "duration": 14,
    "start_time": "2023-01-18T02:30:18.748Z"
   },
   {
    "duration": 0,
    "start_time": "2023-01-18T02:30:18.764Z"
   },
   {
    "duration": 0,
    "start_time": "2023-01-18T02:30:18.765Z"
   },
   {
    "duration": 0,
    "start_time": "2023-01-18T02:30:18.767Z"
   },
   {
    "duration": 0,
    "start_time": "2023-01-18T02:30:18.768Z"
   },
   {
    "duration": 0,
    "start_time": "2023-01-18T02:30:18.769Z"
   },
   {
    "duration": 0,
    "start_time": "2023-01-18T02:30:18.769Z"
   },
   {
    "duration": 4,
    "start_time": "2023-01-18T02:31:08.429Z"
   },
   {
    "duration": 36,
    "start_time": "2023-01-18T02:31:21.703Z"
   },
   {
    "duration": 24,
    "start_time": "2023-01-18T02:31:33.922Z"
   },
   {
    "duration": 23,
    "start_time": "2023-01-18T02:31:57.905Z"
   },
   {
    "duration": 32,
    "start_time": "2023-01-18T02:32:29.838Z"
   },
   {
    "duration": 4,
    "start_time": "2023-01-18T02:32:32.914Z"
   },
   {
    "duration": 1488,
    "start_time": "2023-01-18T02:33:46.997Z"
   },
   {
    "duration": 3,
    "start_time": "2023-01-18T02:33:48.487Z"
   },
   {
    "duration": 925,
    "start_time": "2023-01-18T02:33:48.492Z"
   },
   {
    "duration": 157,
    "start_time": "2023-01-18T02:33:49.419Z"
   },
   {
    "duration": 20,
    "start_time": "2023-01-18T02:33:49.577Z"
   },
   {
    "duration": 293,
    "start_time": "2023-01-18T02:33:49.599Z"
   },
   {
    "duration": 12,
    "start_time": "2023-01-18T02:33:49.893Z"
   },
   {
    "duration": 21,
    "start_time": "2023-01-18T02:33:49.907Z"
   },
   {
    "duration": 47,
    "start_time": "2023-01-18T02:33:49.930Z"
   },
   {
    "duration": 43,
    "start_time": "2023-01-18T02:33:49.980Z"
   },
   {
    "duration": 43,
    "start_time": "2023-01-18T02:33:50.025Z"
   },
   {
    "duration": 70,
    "start_time": "2023-01-18T02:33:50.071Z"
   },
   {
    "duration": 25,
    "start_time": "2023-01-18T02:33:50.143Z"
   },
   {
    "duration": 28,
    "start_time": "2023-01-18T02:33:50.169Z"
   },
   {
    "duration": 26,
    "start_time": "2023-01-18T02:33:50.199Z"
   },
   {
    "duration": 25,
    "start_time": "2023-01-18T02:33:50.227Z"
   },
   {
    "duration": 86,
    "start_time": "2023-01-18T02:33:50.255Z"
   },
   {
    "duration": 4,
    "start_time": "2023-01-18T02:33:50.350Z"
   },
   {
    "duration": 2800,
    "start_time": "2023-01-18T02:33:50.356Z"
   },
   {
    "duration": 4,
    "start_time": "2023-01-18T02:33:53.158Z"
   },
   {
    "duration": 22,
    "start_time": "2023-01-18T02:33:53.164Z"
   },
   {
    "duration": 139,
    "start_time": "2023-01-18T02:33:53.188Z"
   },
   {
    "duration": 14,
    "start_time": "2023-01-18T02:33:53.329Z"
   },
   {
    "duration": 0,
    "start_time": "2023-01-18T02:33:53.345Z"
   },
   {
    "duration": 0,
    "start_time": "2023-01-18T02:33:53.346Z"
   },
   {
    "duration": 0,
    "start_time": "2023-01-18T02:33:53.348Z"
   },
   {
    "duration": 0,
    "start_time": "2023-01-18T02:33:53.350Z"
   },
   {
    "duration": 0,
    "start_time": "2023-01-18T02:33:53.351Z"
   },
   {
    "duration": 0,
    "start_time": "2023-01-18T02:33:53.352Z"
   },
   {
    "duration": 18,
    "start_time": "2023-01-18T02:37:00.934Z"
   },
   {
    "duration": 10,
    "start_time": "2023-01-18T02:37:12.990Z"
   },
   {
    "duration": 4,
    "start_time": "2023-01-18T02:37:26.967Z"
   },
   {
    "duration": 3,
    "start_time": "2023-01-18T02:37:27.206Z"
   },
   {
    "duration": 829,
    "start_time": "2023-01-18T02:37:27.806Z"
   },
   {
    "duration": 133,
    "start_time": "2023-01-18T02:37:28.637Z"
   },
   {
    "duration": 13,
    "start_time": "2023-01-18T02:37:28.772Z"
   },
   {
    "duration": 228,
    "start_time": "2023-01-18T02:37:29.783Z"
   },
   {
    "duration": 12,
    "start_time": "2023-01-18T02:37:30.527Z"
   },
   {
    "duration": 18,
    "start_time": "2023-01-18T02:37:32.606Z"
   },
   {
    "duration": 31,
    "start_time": "2023-01-18T02:37:34.446Z"
   },
   {
    "duration": 21,
    "start_time": "2023-01-18T02:37:42.479Z"
   },
   {
    "duration": 1474,
    "start_time": "2023-01-18T02:38:04.476Z"
   },
   {
    "duration": 3,
    "start_time": "2023-01-18T02:38:05.952Z"
   },
   {
    "duration": 893,
    "start_time": "2023-01-18T02:38:05.956Z"
   },
   {
    "duration": 145,
    "start_time": "2023-01-18T02:38:06.851Z"
   },
   {
    "duration": 16,
    "start_time": "2023-01-18T02:38:06.998Z"
   },
   {
    "duration": 279,
    "start_time": "2023-01-18T02:38:07.016Z"
   },
   {
    "duration": 11,
    "start_time": "2023-01-18T02:38:07.296Z"
   },
   {
    "duration": 30,
    "start_time": "2023-01-18T02:38:07.309Z"
   },
   {
    "duration": 26,
    "start_time": "2023-01-18T02:38:07.340Z"
   },
   {
    "duration": 30,
    "start_time": "2023-01-18T02:38:07.368Z"
   },
   {
    "duration": 59,
    "start_time": "2023-01-18T02:38:07.400Z"
   },
   {
    "duration": 25,
    "start_time": "2023-01-18T02:38:07.461Z"
   },
   {
    "duration": 46,
    "start_time": "2023-01-18T02:38:07.488Z"
   },
   {
    "duration": 34,
    "start_time": "2023-01-18T02:38:07.536Z"
   },
   {
    "duration": 4,
    "start_time": "2023-01-18T02:38:07.571Z"
   },
   {
    "duration": 101,
    "start_time": "2023-01-18T02:38:07.577Z"
   },
   {
    "duration": 3,
    "start_time": "2023-01-18T02:38:07.680Z"
   },
   {
    "duration": 2771,
    "start_time": "2023-01-18T02:38:07.685Z"
   },
   {
    "duration": 3,
    "start_time": "2023-01-18T02:38:10.459Z"
   },
   {
    "duration": 5,
    "start_time": "2023-01-18T02:38:10.464Z"
   },
   {
    "duration": 116,
    "start_time": "2023-01-18T02:38:10.470Z"
   },
   {
    "duration": 15,
    "start_time": "2023-01-18T02:38:10.588Z"
   },
   {
    "duration": 0,
    "start_time": "2023-01-18T02:38:10.604Z"
   },
   {
    "duration": 0,
    "start_time": "2023-01-18T02:38:10.606Z"
   },
   {
    "duration": 0,
    "start_time": "2023-01-18T02:38:10.607Z"
   },
   {
    "duration": 0,
    "start_time": "2023-01-18T02:38:10.609Z"
   },
   {
    "duration": 0,
    "start_time": "2023-01-18T02:38:10.610Z"
   },
   {
    "duration": 0,
    "start_time": "2023-01-18T02:38:10.611Z"
   },
   {
    "duration": 1445,
    "start_time": "2023-01-18T02:39:19.404Z"
   },
   {
    "duration": 3,
    "start_time": "2023-01-18T02:39:20.851Z"
   },
   {
    "duration": 852,
    "start_time": "2023-01-18T02:39:20.855Z"
   },
   {
    "duration": 152,
    "start_time": "2023-01-18T02:39:21.710Z"
   },
   {
    "duration": 15,
    "start_time": "2023-01-18T02:39:21.864Z"
   },
   {
    "duration": 599,
    "start_time": "2023-01-18T02:39:21.881Z"
   },
   {
    "duration": 11,
    "start_time": "2023-01-18T02:39:22.482Z"
   },
   {
    "duration": 37,
    "start_time": "2023-01-18T02:39:22.494Z"
   },
   {
    "duration": 28,
    "start_time": "2023-01-18T02:39:22.533Z"
   },
   {
    "duration": 33,
    "start_time": "2023-01-18T02:39:22.565Z"
   },
   {
    "duration": 65,
    "start_time": "2023-01-18T02:39:22.600Z"
   },
   {
    "duration": 28,
    "start_time": "2023-01-18T02:39:22.667Z"
   },
   {
    "duration": 67,
    "start_time": "2023-01-18T02:39:22.697Z"
   },
   {
    "duration": 26,
    "start_time": "2023-01-18T02:39:22.766Z"
   },
   {
    "duration": 3,
    "start_time": "2023-01-18T02:39:22.794Z"
   },
   {
    "duration": 107,
    "start_time": "2023-01-18T02:39:22.799Z"
   },
   {
    "duration": 3,
    "start_time": "2023-01-18T02:39:22.908Z"
   },
   {
    "duration": 2782,
    "start_time": "2023-01-18T02:39:22.913Z"
   },
   {
    "duration": 4,
    "start_time": "2023-01-18T02:39:25.696Z"
   },
   {
    "duration": 6,
    "start_time": "2023-01-18T02:39:25.702Z"
   },
   {
    "duration": 113,
    "start_time": "2023-01-18T02:39:25.709Z"
   },
   {
    "duration": 13,
    "start_time": "2023-01-18T02:39:25.824Z"
   },
   {
    "duration": 0,
    "start_time": "2023-01-18T02:39:25.839Z"
   },
   {
    "duration": 0,
    "start_time": "2023-01-18T02:39:25.840Z"
   },
   {
    "duration": 0,
    "start_time": "2023-01-18T02:39:25.841Z"
   },
   {
    "duration": 0,
    "start_time": "2023-01-18T02:39:25.842Z"
   },
   {
    "duration": 0,
    "start_time": "2023-01-18T02:39:25.843Z"
   },
   {
    "duration": 0,
    "start_time": "2023-01-18T02:39:25.844Z"
   },
   {
    "duration": 29,
    "start_time": "2023-01-18T02:41:08.599Z"
   },
   {
    "duration": 25,
    "start_time": "2023-01-18T02:41:49.080Z"
   },
   {
    "duration": 34,
    "start_time": "2023-01-18T02:44:09.906Z"
   },
   {
    "duration": 1488,
    "start_time": "2023-01-18T02:44:22.896Z"
   },
   {
    "duration": 3,
    "start_time": "2023-01-18T02:44:24.386Z"
   },
   {
    "duration": 946,
    "start_time": "2023-01-18T02:44:24.391Z"
   },
   {
    "duration": 171,
    "start_time": "2023-01-18T02:44:25.338Z"
   },
   {
    "duration": 17,
    "start_time": "2023-01-18T02:44:25.511Z"
   },
   {
    "duration": 651,
    "start_time": "2023-01-18T02:44:25.530Z"
   },
   {
    "duration": 11,
    "start_time": "2023-01-18T02:44:26.183Z"
   },
   {
    "duration": 27,
    "start_time": "2023-01-18T02:44:26.196Z"
   },
   {
    "duration": 36,
    "start_time": "2023-01-18T02:44:26.225Z"
   },
   {
    "duration": 33,
    "start_time": "2023-01-18T02:44:26.264Z"
   },
   {
    "duration": 24,
    "start_time": "2023-01-18T02:44:26.299Z"
   },
   {
    "duration": 178,
    "start_time": "2023-01-18T02:44:26.325Z"
   },
   {
    "duration": 0,
    "start_time": "2023-01-18T02:44:26.506Z"
   },
   {
    "duration": 0,
    "start_time": "2023-01-18T02:44:26.507Z"
   },
   {
    "duration": 0,
    "start_time": "2023-01-18T02:44:26.509Z"
   },
   {
    "duration": 0,
    "start_time": "2023-01-18T02:44:26.510Z"
   },
   {
    "duration": 0,
    "start_time": "2023-01-18T02:44:26.511Z"
   },
   {
    "duration": 0,
    "start_time": "2023-01-18T02:44:26.512Z"
   },
   {
    "duration": 0,
    "start_time": "2023-01-18T02:44:26.514Z"
   },
   {
    "duration": 0,
    "start_time": "2023-01-18T02:44:26.515Z"
   },
   {
    "duration": 0,
    "start_time": "2023-01-18T02:44:26.517Z"
   },
   {
    "duration": 0,
    "start_time": "2023-01-18T02:44:26.518Z"
   },
   {
    "duration": 0,
    "start_time": "2023-01-18T02:44:26.519Z"
   },
   {
    "duration": 0,
    "start_time": "2023-01-18T02:44:26.521Z"
   },
   {
    "duration": 0,
    "start_time": "2023-01-18T02:44:26.522Z"
   },
   {
    "duration": 0,
    "start_time": "2023-01-18T02:44:26.550Z"
   },
   {
    "duration": 0,
    "start_time": "2023-01-18T02:44:26.553Z"
   },
   {
    "duration": 0,
    "start_time": "2023-01-18T02:44:26.554Z"
   },
   {
    "duration": 0,
    "start_time": "2023-01-18T02:44:26.556Z"
   },
   {
    "duration": 34,
    "start_time": "2023-01-18T02:45:37.329Z"
   },
   {
    "duration": 38,
    "start_time": "2023-01-18T02:45:52.673Z"
   },
   {
    "duration": 34,
    "start_time": "2023-01-18T02:47:39.341Z"
   },
   {
    "duration": 33,
    "start_time": "2023-01-18T02:48:00.021Z"
   },
   {
    "duration": 10,
    "start_time": "2023-01-18T02:53:11.355Z"
   },
   {
    "duration": 15,
    "start_time": "2023-01-18T02:53:27.284Z"
   },
   {
    "duration": 54,
    "start_time": "2023-01-18T02:53:35.299Z"
   },
   {
    "duration": 45,
    "start_time": "2023-01-18T02:54:06.908Z"
   },
   {
    "duration": 40,
    "start_time": "2023-01-18T02:54:52.041Z"
   },
   {
    "duration": 50,
    "start_time": "2023-01-18T02:55:30.508Z"
   },
   {
    "duration": 3,
    "start_time": "2023-01-18T02:56:14.340Z"
   },
   {
    "duration": 21,
    "start_time": "2023-01-18T03:00:01.478Z"
   },
   {
    "duration": 10,
    "start_time": "2023-01-18T03:00:12.726Z"
   },
   {
    "duration": 34,
    "start_time": "2023-01-18T03:00:20.078Z"
   },
   {
    "duration": 5,
    "start_time": "2023-01-18T03:01:30.138Z"
   },
   {
    "duration": 5,
    "start_time": "2023-01-18T03:01:35.728Z"
   },
   {
    "duration": 14,
    "start_time": "2023-01-18T03:03:01.680Z"
   },
   {
    "duration": 30,
    "start_time": "2023-01-18T03:12:47.970Z"
   },
   {
    "duration": 580,
    "start_time": "2023-01-18T03:12:57.550Z"
   },
   {
    "duration": 65,
    "start_time": "2023-01-18T03:13:40.571Z"
   },
   {
    "duration": 36,
    "start_time": "2023-01-18T03:14:38.475Z"
   },
   {
    "duration": 47,
    "start_time": "2023-01-18T03:14:43.043Z"
   },
   {
    "duration": 33,
    "start_time": "2023-01-18T03:14:44.147Z"
   },
   {
    "duration": 4,
    "start_time": "2023-01-18T03:14:44.715Z"
   },
   {
    "duration": 72,
    "start_time": "2023-01-18T03:15:59.249Z"
   },
   {
    "duration": 43,
    "start_time": "2023-01-18T03:18:38.821Z"
   },
   {
    "duration": 39,
    "start_time": "2023-01-18T03:21:45.737Z"
   },
   {
    "duration": 59,
    "start_time": "2023-01-18T03:21:47.412Z"
   },
   {
    "duration": 24,
    "start_time": "2023-01-18T03:22:36.605Z"
   },
   {
    "duration": 20,
    "start_time": "2023-01-18T03:22:45.078Z"
   },
   {
    "duration": 42,
    "start_time": "2023-01-18T03:23:27.888Z"
   },
   {
    "duration": 10,
    "start_time": "2023-01-18T03:27:21.358Z"
   },
   {
    "duration": 36,
    "start_time": "2023-01-18T03:27:33.719Z"
   },
   {
    "duration": 34,
    "start_time": "2023-01-18T03:27:41.702Z"
   },
   {
    "duration": 39,
    "start_time": "2023-01-18T03:27:52.145Z"
   },
   {
    "duration": 18,
    "start_time": "2023-01-18T03:28:04.504Z"
   },
   {
    "duration": 36,
    "start_time": "2023-01-18T03:28:13.638Z"
   },
   {
    "duration": 41,
    "start_time": "2023-01-18T03:28:32.831Z"
   },
   {
    "duration": 37,
    "start_time": "2023-01-18T03:28:40.051Z"
   },
   {
    "duration": 43,
    "start_time": "2023-01-18T03:29:19.907Z"
   },
   {
    "duration": 93,
    "start_time": "2023-01-18T03:29:38.790Z"
   },
   {
    "duration": 45,
    "start_time": "2023-01-18T03:29:46.252Z"
   },
   {
    "duration": 36,
    "start_time": "2023-01-18T03:29:54.076Z"
   },
   {
    "duration": 44,
    "start_time": "2023-01-18T03:31:50.192Z"
   },
   {
    "duration": 11,
    "start_time": "2023-01-18T03:37:37.337Z"
   },
   {
    "duration": 52,
    "start_time": "2023-01-18T03:37:44.395Z"
   },
   {
    "duration": 566,
    "start_time": "2023-01-18T03:55:21.476Z"
   },
   {
    "duration": 26,
    "start_time": "2023-01-18T03:55:49.861Z"
   },
   {
    "duration": 31,
    "start_time": "2023-01-18T03:57:24.895Z"
   },
   {
    "duration": 11,
    "start_time": "2023-01-18T03:58:32.057Z"
   },
   {
    "duration": 44,
    "start_time": "2023-01-18T03:58:40.650Z"
   },
   {
    "duration": 36,
    "start_time": "2023-01-18T03:59:22.705Z"
   },
   {
    "duration": 36,
    "start_time": "2023-01-18T03:59:29.529Z"
   },
   {
    "duration": 574,
    "start_time": "2023-01-18T04:03:39.786Z"
   },
   {
    "duration": 575,
    "start_time": "2023-01-18T04:03:56.101Z"
   },
   {
    "duration": 12,
    "start_time": "2023-01-18T04:04:21.835Z"
   },
   {
    "duration": 22,
    "start_time": "2023-01-18T04:04:54.230Z"
   },
   {
    "duration": 13,
    "start_time": "2023-01-18T04:05:14.800Z"
   },
   {
    "duration": 29,
    "start_time": "2023-01-18T04:08:25.172Z"
   },
   {
    "duration": 163,
    "start_time": "2023-01-18T04:08:41.688Z"
   },
   {
    "duration": 32,
    "start_time": "2023-01-18T04:09:02.825Z"
   },
   {
    "duration": 48,
    "start_time": "2023-01-18T15:43:00.232Z"
   },
   {
    "duration": 1725,
    "start_time": "2023-01-18T15:43:06.928Z"
   },
   {
    "duration": 3,
    "start_time": "2023-01-18T15:43:08.656Z"
   },
   {
    "duration": 2799,
    "start_time": "2023-01-18T15:43:08.660Z"
   },
   {
    "duration": 18,
    "start_time": "2023-01-18T15:43:11.461Z"
   },
   {
    "duration": 545,
    "start_time": "2023-01-18T15:43:11.480Z"
   },
   {
    "duration": 15,
    "start_time": "2023-01-18T15:43:12.027Z"
   },
   {
    "duration": 32,
    "start_time": "2023-01-18T15:43:12.044Z"
   },
   {
    "duration": 24,
    "start_time": "2023-01-18T15:43:12.078Z"
   },
   {
    "duration": 41,
    "start_time": "2023-01-18T15:43:12.104Z"
   },
   {
    "duration": 43,
    "start_time": "2023-01-18T15:43:12.148Z"
   },
   {
    "duration": 52,
    "start_time": "2023-01-18T15:43:12.192Z"
   },
   {
    "duration": 27,
    "start_time": "2023-01-18T15:43:12.246Z"
   },
   {
    "duration": 62,
    "start_time": "2023-01-18T15:43:12.274Z"
   },
   {
    "duration": 22,
    "start_time": "2023-01-18T15:43:12.338Z"
   },
   {
    "duration": 35,
    "start_time": "2023-01-18T15:43:12.362Z"
   },
   {
    "duration": 4,
    "start_time": "2023-01-18T15:43:12.398Z"
   },
   {
    "duration": 144,
    "start_time": "2023-01-18T15:43:12.405Z"
   },
   {
    "duration": 3,
    "start_time": "2023-01-18T15:43:12.552Z"
   },
   {
    "duration": 1949,
    "start_time": "2023-01-18T15:43:12.558Z"
   },
   {
    "duration": 5,
    "start_time": "2023-01-18T15:43:14.508Z"
   },
   {
    "duration": 17,
    "start_time": "2023-01-18T15:43:14.514Z"
   },
   {
    "duration": 103,
    "start_time": "2023-01-18T15:43:14.533Z"
   },
   {
    "duration": 12,
    "start_time": "2023-01-18T15:43:14.638Z"
   },
   {
    "duration": 0,
    "start_time": "2023-01-18T15:43:14.651Z"
   },
   {
    "duration": 0,
    "start_time": "2023-01-18T15:43:14.653Z"
   },
   {
    "duration": 0,
    "start_time": "2023-01-18T15:43:14.654Z"
   },
   {
    "duration": 0,
    "start_time": "2023-01-18T15:43:14.655Z"
   },
   {
    "duration": 0,
    "start_time": "2023-01-18T15:43:14.656Z"
   },
   {
    "duration": 0,
    "start_time": "2023-01-18T15:43:14.657Z"
   },
   {
    "duration": 41,
    "start_time": "2023-01-18T15:43:36.932Z"
   },
   {
    "duration": 94,
    "start_time": "2023-01-18T15:44:18.518Z"
   },
   {
    "duration": 73,
    "start_time": "2023-01-18T15:44:28.534Z"
   },
   {
    "duration": 76,
    "start_time": "2023-01-18T15:44:59.277Z"
   },
   {
    "duration": 57,
    "start_time": "2023-01-18T15:45:15.582Z"
   },
   {
    "duration": 37,
    "start_time": "2023-01-18T15:45:30.414Z"
   },
   {
    "duration": 46,
    "start_time": "2023-01-18T15:45:45.389Z"
   },
   {
    "duration": 44,
    "start_time": "2023-01-18T15:46:00.742Z"
   },
   {
    "duration": 725,
    "start_time": "2023-01-18T15:46:14.054Z"
   },
   {
    "duration": 41,
    "start_time": "2023-01-18T15:46:24.479Z"
   },
   {
    "duration": 39,
    "start_time": "2023-01-18T15:46:49.190Z"
   },
   {
    "duration": 39,
    "start_time": "2023-01-18T15:47:06.883Z"
   },
   {
    "duration": 39,
    "start_time": "2023-01-18T15:47:32.800Z"
   },
   {
    "duration": 36,
    "start_time": "2023-01-18T15:47:40.351Z"
   },
   {
    "duration": 63,
    "start_time": "2023-01-18T15:48:03.591Z"
   },
   {
    "duration": 42,
    "start_time": "2023-01-18T15:49:41.639Z"
   },
   {
    "duration": 45,
    "start_time": "2023-01-18T15:52:30.056Z"
   },
   {
    "duration": 37,
    "start_time": "2023-01-18T15:52:37.696Z"
   },
   {
    "duration": 41,
    "start_time": "2023-01-18T15:53:29.515Z"
   },
   {
    "duration": 40,
    "start_time": "2023-01-18T15:54:00.643Z"
   },
   {
    "duration": 50,
    "start_time": "2023-01-18T15:54:12.488Z"
   },
   {
    "duration": 40,
    "start_time": "2023-01-18T15:54:27.328Z"
   },
   {
    "duration": 46,
    "start_time": "2023-01-18T15:55:29.632Z"
   },
   {
    "duration": 41,
    "start_time": "2023-01-18T15:55:57.705Z"
   },
   {
    "duration": 44,
    "start_time": "2023-01-18T15:56:12.881Z"
   },
   {
    "duration": 44,
    "start_time": "2023-01-18T15:56:17.467Z"
   },
   {
    "duration": 44,
    "start_time": "2023-01-18T15:56:21.737Z"
   },
   {
    "duration": 403,
    "start_time": "2023-01-18T15:56:35.953Z"
   },
   {
    "duration": 57,
    "start_time": "2023-01-18T15:57:04.377Z"
   },
   {
    "duration": 74,
    "start_time": "2023-01-18T15:58:13.027Z"
   },
   {
    "duration": 933,
    "start_time": "2023-01-18T15:58:38.352Z"
   },
   {
    "duration": 48,
    "start_time": "2023-01-18T15:59:49.281Z"
   },
   {
    "duration": 49,
    "start_time": "2023-01-18T16:01:46.821Z"
   },
   {
    "duration": 62,
    "start_time": "2023-01-18T16:03:08.130Z"
   },
   {
    "duration": 75,
    "start_time": "2023-01-18T16:06:03.595Z"
   },
   {
    "duration": 71,
    "start_time": "2023-01-18T16:06:13.467Z"
   },
   {
    "duration": 82,
    "start_time": "2023-01-18T16:06:22.754Z"
   },
   {
    "duration": 76,
    "start_time": "2023-01-18T16:08:14.507Z"
   },
   {
    "duration": 4,
    "start_time": "2023-01-19T00:13:52.239Z"
   },
   {
    "duration": 882,
    "start_time": "2023-01-19T00:15:37.467Z"
   },
   {
    "duration": 76,
    "start_time": "2023-01-19T00:15:47.737Z"
   },
   {
    "duration": 10,
    "start_time": "2023-01-19T00:16:12.234Z"
   },
   {
    "duration": 1463,
    "start_time": "2023-01-19T00:16:19.851Z"
   },
   {
    "duration": 3,
    "start_time": "2023-01-19T00:16:21.316Z"
   },
   {
    "duration": 854,
    "start_time": "2023-01-19T00:16:21.321Z"
   },
   {
    "duration": 20,
    "start_time": "2023-01-19T00:16:22.177Z"
   },
   {
    "duration": 623,
    "start_time": "2023-01-19T00:16:22.199Z"
   },
   {
    "duration": 14,
    "start_time": "2023-01-19T00:16:22.824Z"
   },
   {
    "duration": 25,
    "start_time": "2023-01-19T00:16:22.840Z"
   },
   {
    "duration": 23,
    "start_time": "2023-01-19T00:16:22.867Z"
   },
   {
    "duration": 49,
    "start_time": "2023-01-19T00:16:22.892Z"
   },
   {
    "duration": 45,
    "start_time": "2023-01-19T00:16:22.944Z"
   },
   {
    "duration": 133,
    "start_time": "2023-01-19T00:16:22.991Z"
   },
   {
    "duration": 0,
    "start_time": "2023-01-19T00:16:23.126Z"
   },
   {
    "duration": 0,
    "start_time": "2023-01-19T00:16:23.127Z"
   },
   {
    "duration": 0,
    "start_time": "2023-01-19T00:16:23.128Z"
   },
   {
    "duration": 0,
    "start_time": "2023-01-19T00:16:23.129Z"
   },
   {
    "duration": 0,
    "start_time": "2023-01-19T00:16:23.129Z"
   },
   {
    "duration": 0,
    "start_time": "2023-01-19T00:16:23.137Z"
   },
   {
    "duration": 0,
    "start_time": "2023-01-19T00:16:23.138Z"
   },
   {
    "duration": 0,
    "start_time": "2023-01-19T00:16:23.140Z"
   },
   {
    "duration": 1,
    "start_time": "2023-01-19T00:16:23.140Z"
   },
   {
    "duration": 0,
    "start_time": "2023-01-19T00:16:23.141Z"
   },
   {
    "duration": 0,
    "start_time": "2023-01-19T00:16:23.142Z"
   },
   {
    "duration": 0,
    "start_time": "2023-01-19T00:16:23.143Z"
   },
   {
    "duration": 0,
    "start_time": "2023-01-19T00:16:23.145Z"
   },
   {
    "duration": 0,
    "start_time": "2023-01-19T00:16:23.147Z"
   },
   {
    "duration": 0,
    "start_time": "2023-01-19T00:16:23.148Z"
   },
   {
    "duration": 0,
    "start_time": "2023-01-19T00:16:23.149Z"
   },
   {
    "duration": 0,
    "start_time": "2023-01-19T00:16:23.150Z"
   },
   {
    "duration": 0,
    "start_time": "2023-01-19T00:16:23.151Z"
   },
   {
    "duration": 0,
    "start_time": "2023-01-19T00:16:23.152Z"
   },
   {
    "duration": 40,
    "start_time": "2023-01-19T00:16:46.641Z"
   },
   {
    "duration": 36,
    "start_time": "2023-01-19T00:17:10.321Z"
   },
   {
    "duration": 40,
    "start_time": "2023-01-19T00:17:55.344Z"
   },
   {
    "duration": 2,
    "start_time": "2023-01-19T00:18:01.394Z"
   },
   {
    "duration": 37,
    "start_time": "2023-01-19T00:18:36.122Z"
   },
   {
    "duration": 38,
    "start_time": "2023-01-19T00:18:51.642Z"
   },
   {
    "duration": 807,
    "start_time": "2023-01-19T00:18:52.507Z"
   },
   {
    "duration": 763,
    "start_time": "2023-01-19T00:19:38.379Z"
   },
   {
    "duration": 555,
    "start_time": "2023-01-19T00:19:57.018Z"
   },
   {
    "duration": 39,
    "start_time": "2023-01-19T00:20:06.954Z"
   },
   {
    "duration": 36,
    "start_time": "2023-01-19T00:20:37.571Z"
   },
   {
    "duration": 717,
    "start_time": "2023-01-19T00:20:45.130Z"
   },
   {
    "duration": 38,
    "start_time": "2023-01-19T00:21:08.875Z"
   },
   {
    "duration": 1287,
    "start_time": "2023-01-19T00:21:40.785Z"
   },
   {
    "duration": 2,
    "start_time": "2023-01-19T00:21:42.074Z"
   },
   {
    "duration": 818,
    "start_time": "2023-01-19T00:21:42.078Z"
   },
   {
    "duration": 17,
    "start_time": "2023-01-19T00:21:42.898Z"
   },
   {
    "duration": 529,
    "start_time": "2023-01-19T00:21:42.916Z"
   },
   {
    "duration": 10,
    "start_time": "2023-01-19T00:21:43.447Z"
   },
   {
    "duration": 20,
    "start_time": "2023-01-19T00:21:43.458Z"
   },
   {
    "duration": 20,
    "start_time": "2023-01-19T00:21:43.479Z"
   },
   {
    "duration": 49,
    "start_time": "2023-01-19T00:21:43.501Z"
   },
   {
    "duration": 2,
    "start_time": "2023-01-19T00:21:43.552Z"
   },
   {
    "duration": 43,
    "start_time": "2023-01-19T00:21:43.555Z"
   },
   {
    "duration": 38,
    "start_time": "2023-01-19T00:21:43.600Z"
   },
   {
    "duration": 46,
    "start_time": "2023-01-19T00:21:43.640Z"
   },
   {
    "duration": 27,
    "start_time": "2023-01-19T00:21:43.689Z"
   },
   {
    "duration": 44,
    "start_time": "2023-01-19T00:21:43.718Z"
   },
   {
    "duration": 3,
    "start_time": "2023-01-19T00:21:43.764Z"
   },
   {
    "duration": 107,
    "start_time": "2023-01-19T00:21:43.769Z"
   },
   {
    "duration": 3,
    "start_time": "2023-01-19T00:21:43.878Z"
   },
   {
    "duration": 1691,
    "start_time": "2023-01-19T00:21:43.883Z"
   },
   {
    "duration": 5,
    "start_time": "2023-01-19T00:21:45.575Z"
   },
   {
    "duration": 6,
    "start_time": "2023-01-19T00:21:45.581Z"
   },
   {
    "duration": 83,
    "start_time": "2023-01-19T00:21:45.588Z"
   },
   {
    "duration": 12,
    "start_time": "2023-01-19T00:21:45.672Z"
   },
   {
    "duration": 0,
    "start_time": "2023-01-19T00:21:45.685Z"
   },
   {
    "duration": 0,
    "start_time": "2023-01-19T00:21:45.686Z"
   },
   {
    "duration": 0,
    "start_time": "2023-01-19T00:21:45.687Z"
   },
   {
    "duration": 0,
    "start_time": "2023-01-19T00:21:45.688Z"
   },
   {
    "duration": 0,
    "start_time": "2023-01-19T00:21:45.689Z"
   },
   {
    "duration": 0,
    "start_time": "2023-01-19T00:21:45.690Z"
   },
   {
    "duration": 34,
    "start_time": "2023-01-19T00:23:14.916Z"
   },
   {
    "duration": 1363,
    "start_time": "2023-01-19T00:23:23.035Z"
   },
   {
    "duration": 3,
    "start_time": "2023-01-19T00:23:24.399Z"
   },
   {
    "duration": 828,
    "start_time": "2023-01-19T00:23:24.404Z"
   },
   {
    "duration": 31,
    "start_time": "2023-01-19T00:23:25.234Z"
   },
   {
    "duration": 545,
    "start_time": "2023-01-19T00:23:25.267Z"
   },
   {
    "duration": 9,
    "start_time": "2023-01-19T00:23:25.814Z"
   },
   {
    "duration": 38,
    "start_time": "2023-01-19T00:23:25.825Z"
   },
   {
    "duration": 26,
    "start_time": "2023-01-19T00:23:25.865Z"
   },
   {
    "duration": 37,
    "start_time": "2023-01-19T00:23:25.893Z"
   },
   {
    "duration": 6,
    "start_time": "2023-01-19T00:23:25.932Z"
   },
   {
    "duration": 131,
    "start_time": "2023-01-19T00:23:25.939Z"
   },
   {
    "duration": 0,
    "start_time": "2023-01-19T00:23:26.072Z"
   },
   {
    "duration": 0,
    "start_time": "2023-01-19T00:23:26.073Z"
   },
   {
    "duration": 0,
    "start_time": "2023-01-19T00:23:26.074Z"
   },
   {
    "duration": 0,
    "start_time": "2023-01-19T00:23:26.075Z"
   },
   {
    "duration": 0,
    "start_time": "2023-01-19T00:23:26.076Z"
   },
   {
    "duration": 0,
    "start_time": "2023-01-19T00:23:26.077Z"
   },
   {
    "duration": 0,
    "start_time": "2023-01-19T00:23:26.078Z"
   },
   {
    "duration": 0,
    "start_time": "2023-01-19T00:23:26.079Z"
   },
   {
    "duration": 0,
    "start_time": "2023-01-19T00:23:26.080Z"
   },
   {
    "duration": 0,
    "start_time": "2023-01-19T00:23:26.081Z"
   },
   {
    "duration": 0,
    "start_time": "2023-01-19T00:23:26.082Z"
   },
   {
    "duration": 0,
    "start_time": "2023-01-19T00:23:26.083Z"
   },
   {
    "duration": 0,
    "start_time": "2023-01-19T00:23:26.084Z"
   },
   {
    "duration": 0,
    "start_time": "2023-01-19T00:23:26.085Z"
   },
   {
    "duration": 0,
    "start_time": "2023-01-19T00:23:26.086Z"
   },
   {
    "duration": 0,
    "start_time": "2023-01-19T00:23:26.087Z"
   },
   {
    "duration": 0,
    "start_time": "2023-01-19T00:23:26.088Z"
   },
   {
    "duration": 0,
    "start_time": "2023-01-19T00:23:26.089Z"
   },
   {
    "duration": 9,
    "start_time": "2023-01-19T00:24:03.668Z"
   },
   {
    "duration": 10,
    "start_time": "2023-01-19T00:24:23.076Z"
   },
   {
    "duration": 8,
    "start_time": "2023-01-19T00:24:29.708Z"
   },
   {
    "duration": 1356,
    "start_time": "2023-01-19T00:24:36.328Z"
   },
   {
    "duration": 3,
    "start_time": "2023-01-19T00:24:37.686Z"
   },
   {
    "duration": 800,
    "start_time": "2023-01-19T00:24:37.691Z"
   },
   {
    "duration": 19,
    "start_time": "2023-01-19T00:24:38.492Z"
   },
   {
    "duration": 530,
    "start_time": "2023-01-19T00:24:38.514Z"
   },
   {
    "duration": 11,
    "start_time": "2023-01-19T00:24:39.046Z"
   },
   {
    "duration": 19,
    "start_time": "2023-01-19T00:24:39.059Z"
   },
   {
    "duration": 20,
    "start_time": "2023-01-19T00:24:39.080Z"
   },
   {
    "duration": 53,
    "start_time": "2023-01-19T00:24:39.102Z"
   },
   {
    "duration": 40,
    "start_time": "2023-01-19T00:24:39.157Z"
   },
   {
    "duration": 50,
    "start_time": "2023-01-19T00:24:39.199Z"
   },
   {
    "duration": 24,
    "start_time": "2023-01-19T00:24:39.251Z"
   },
   {
    "duration": 61,
    "start_time": "2023-01-19T00:24:39.277Z"
   },
   {
    "duration": 30,
    "start_time": "2023-01-19T00:24:39.341Z"
   },
   {
    "duration": 36,
    "start_time": "2023-01-19T00:24:39.373Z"
   },
   {
    "duration": 4,
    "start_time": "2023-01-19T00:24:39.411Z"
   },
   {
    "duration": 106,
    "start_time": "2023-01-19T00:24:39.416Z"
   },
   {
    "duration": 14,
    "start_time": "2023-01-19T00:24:39.524Z"
   },
   {
    "duration": 1654,
    "start_time": "2023-01-19T00:24:39.539Z"
   },
   {
    "duration": 4,
    "start_time": "2023-01-19T00:24:41.195Z"
   },
   {
    "duration": 7,
    "start_time": "2023-01-19T00:24:41.200Z"
   },
   {
    "duration": 83,
    "start_time": "2023-01-19T00:24:41.208Z"
   },
   {
    "duration": 11,
    "start_time": "2023-01-19T00:24:41.292Z"
   },
   {
    "duration": 0,
    "start_time": "2023-01-19T00:24:41.304Z"
   },
   {
    "duration": 0,
    "start_time": "2023-01-19T00:24:41.305Z"
   },
   {
    "duration": 0,
    "start_time": "2023-01-19T00:24:41.306Z"
   },
   {
    "duration": 0,
    "start_time": "2023-01-19T00:24:41.307Z"
   },
   {
    "duration": 0,
    "start_time": "2023-01-19T00:24:41.308Z"
   },
   {
    "duration": 0,
    "start_time": "2023-01-19T00:24:41.309Z"
   },
   {
    "duration": 13,
    "start_time": "2023-01-19T00:25:09.276Z"
   },
   {
    "duration": 10,
    "start_time": "2023-01-19T00:32:01.131Z"
   },
   {
    "duration": 1458,
    "start_time": "2023-01-19T00:33:11.930Z"
   },
   {
    "duration": 3,
    "start_time": "2023-01-19T00:33:13.390Z"
   },
   {
    "duration": 887,
    "start_time": "2023-01-19T00:33:13.395Z"
   },
   {
    "duration": 18,
    "start_time": "2023-01-19T00:33:14.284Z"
   },
   {
    "duration": 572,
    "start_time": "2023-01-19T00:33:14.304Z"
   },
   {
    "duration": 13,
    "start_time": "2023-01-19T00:33:14.878Z"
   },
   {
    "duration": 21,
    "start_time": "2023-01-19T00:33:14.893Z"
   },
   {
    "duration": 36,
    "start_time": "2023-01-19T00:33:14.916Z"
   },
   {
    "duration": 31,
    "start_time": "2023-01-19T00:33:14.954Z"
   },
   {
    "duration": 174,
    "start_time": "2023-01-19T00:33:14.987Z"
   },
   {
    "duration": 0,
    "start_time": "2023-01-19T00:33:15.163Z"
   },
   {
    "duration": 0,
    "start_time": "2023-01-19T00:33:15.164Z"
   },
   {
    "duration": 0,
    "start_time": "2023-01-19T00:33:15.165Z"
   },
   {
    "duration": 0,
    "start_time": "2023-01-19T00:33:15.166Z"
   },
   {
    "duration": 0,
    "start_time": "2023-01-19T00:33:15.167Z"
   },
   {
    "duration": 0,
    "start_time": "2023-01-19T00:33:15.168Z"
   },
   {
    "duration": 0,
    "start_time": "2023-01-19T00:33:15.170Z"
   },
   {
    "duration": 0,
    "start_time": "2023-01-19T00:33:15.170Z"
   },
   {
    "duration": 0,
    "start_time": "2023-01-19T00:33:15.171Z"
   },
   {
    "duration": 0,
    "start_time": "2023-01-19T00:33:15.172Z"
   },
   {
    "duration": 0,
    "start_time": "2023-01-19T00:33:15.173Z"
   },
   {
    "duration": 0,
    "start_time": "2023-01-19T00:33:15.174Z"
   },
   {
    "duration": 0,
    "start_time": "2023-01-19T00:33:15.175Z"
   },
   {
    "duration": 1,
    "start_time": "2023-01-19T00:33:15.176Z"
   },
   {
    "duration": 0,
    "start_time": "2023-01-19T00:33:15.177Z"
   },
   {
    "duration": 0,
    "start_time": "2023-01-19T00:33:15.178Z"
   },
   {
    "duration": 0,
    "start_time": "2023-01-19T00:33:15.179Z"
   },
   {
    "duration": 0,
    "start_time": "2023-01-19T00:33:15.180Z"
   },
   {
    "duration": 0,
    "start_time": "2023-01-19T00:33:15.181Z"
   },
   {
    "duration": 0,
    "start_time": "2023-01-19T00:33:15.182Z"
   },
   {
    "duration": 128,
    "start_time": "2023-01-19T00:33:44.170Z"
   },
   {
    "duration": 111,
    "start_time": "2023-01-19T00:33:46.370Z"
   },
   {
    "duration": 111,
    "start_time": "2023-01-19T00:35:50.869Z"
   },
   {
    "duration": 122,
    "start_time": "2023-01-19T00:35:59.842Z"
   },
   {
    "duration": 151,
    "start_time": "2023-01-19T00:36:12.403Z"
   },
   {
    "duration": 21,
    "start_time": "2023-01-19T00:37:01.708Z"
   },
   {
    "duration": 128,
    "start_time": "2023-01-19T00:38:38.856Z"
   },
   {
    "duration": 24,
    "start_time": "2023-01-19T00:38:50.944Z"
   },
   {
    "duration": 13,
    "start_time": "2023-01-19T00:39:27.404Z"
   },
   {
    "duration": 32,
    "start_time": "2023-01-19T00:40:26.027Z"
   },
   {
    "duration": 12,
    "start_time": "2023-01-19T00:40:28.403Z"
   },
   {
    "duration": 1379,
    "start_time": "2023-01-19T00:40:34.236Z"
   },
   {
    "duration": 2,
    "start_time": "2023-01-19T00:40:35.617Z"
   },
   {
    "duration": 852,
    "start_time": "2023-01-19T00:40:35.621Z"
   },
   {
    "duration": 19,
    "start_time": "2023-01-19T00:40:36.475Z"
   },
   {
    "duration": 571,
    "start_time": "2023-01-19T00:40:36.495Z"
   },
   {
    "duration": 13,
    "start_time": "2023-01-19T00:40:37.068Z"
   },
   {
    "duration": 37,
    "start_time": "2023-01-19T00:40:37.083Z"
   },
   {
    "duration": 40,
    "start_time": "2023-01-19T00:40:37.122Z"
   },
   {
    "duration": 37,
    "start_time": "2023-01-19T00:40:37.163Z"
   },
   {
    "duration": 16,
    "start_time": "2023-01-19T00:40:37.203Z"
   },
   {
    "duration": 79,
    "start_time": "2023-01-19T00:40:37.220Z"
   },
   {
    "duration": 26,
    "start_time": "2023-01-19T00:40:37.301Z"
   },
   {
    "duration": 73,
    "start_time": "2023-01-19T00:40:37.329Z"
   },
   {
    "duration": 34,
    "start_time": "2023-01-19T00:40:37.404Z"
   },
   {
    "duration": 36,
    "start_time": "2023-01-19T00:40:37.440Z"
   },
   {
    "duration": 17,
    "start_time": "2023-01-19T00:40:37.477Z"
   },
   {
    "duration": 122,
    "start_time": "2023-01-19T00:40:37.496Z"
   },
   {
    "duration": 3,
    "start_time": "2023-01-19T00:40:37.620Z"
   },
   {
    "duration": 1808,
    "start_time": "2023-01-19T00:40:37.624Z"
   },
   {
    "duration": 3,
    "start_time": "2023-01-19T00:40:39.434Z"
   },
   {
    "duration": 15,
    "start_time": "2023-01-19T00:40:39.439Z"
   },
   {
    "duration": 92,
    "start_time": "2023-01-19T00:40:39.455Z"
   },
   {
    "duration": 12,
    "start_time": "2023-01-19T00:40:39.549Z"
   },
   {
    "duration": 0,
    "start_time": "2023-01-19T00:40:39.563Z"
   },
   {
    "duration": 0,
    "start_time": "2023-01-19T00:40:39.564Z"
   },
   {
    "duration": 0,
    "start_time": "2023-01-19T00:40:39.564Z"
   },
   {
    "duration": 0,
    "start_time": "2023-01-19T00:40:39.565Z"
   },
   {
    "duration": 0,
    "start_time": "2023-01-19T00:40:39.566Z"
   },
   {
    "duration": 0,
    "start_time": "2023-01-19T00:40:39.568Z"
   },
   {
    "duration": 38,
    "start_time": "2023-01-19T00:43:37.469Z"
   },
   {
    "duration": 43733,
    "start_time": "2023-01-19T00:44:02.444Z"
   },
   {
    "duration": 12,
    "start_time": "2023-01-19T00:45:49.736Z"
   },
   {
    "duration": 1380,
    "start_time": "2023-01-19T00:46:00.324Z"
   },
   {
    "duration": 3,
    "start_time": "2023-01-19T00:46:01.706Z"
   },
   {
    "duration": 891,
    "start_time": "2023-01-19T00:46:01.711Z"
   },
   {
    "duration": 21,
    "start_time": "2023-01-19T00:46:02.604Z"
   },
   {
    "duration": 530,
    "start_time": "2023-01-19T00:46:02.637Z"
   },
   {
    "duration": 12,
    "start_time": "2023-01-19T00:46:03.169Z"
   },
   {
    "duration": 24,
    "start_time": "2023-01-19T00:46:03.182Z"
   },
   {
    "duration": 31,
    "start_time": "2023-01-19T00:46:03.208Z"
   },
   {
    "duration": 27,
    "start_time": "2023-01-19T00:46:03.241Z"
   },
   {
    "duration": 44,
    "start_time": "2023-01-19T00:46:03.270Z"
   },
   {
    "duration": 0,
    "start_time": "2023-01-19T00:46:03.316Z"
   },
   {
    "duration": 0,
    "start_time": "2023-01-19T00:46:03.318Z"
   },
   {
    "duration": 0,
    "start_time": "2023-01-19T00:46:03.318Z"
   },
   {
    "duration": 0,
    "start_time": "2023-01-19T00:46:03.319Z"
   },
   {
    "duration": 0,
    "start_time": "2023-01-19T00:46:03.320Z"
   },
   {
    "duration": 0,
    "start_time": "2023-01-19T00:46:03.321Z"
   },
   {
    "duration": 0,
    "start_time": "2023-01-19T00:46:03.323Z"
   },
   {
    "duration": 0,
    "start_time": "2023-01-19T00:46:03.323Z"
   },
   {
    "duration": 0,
    "start_time": "2023-01-19T00:46:03.325Z"
   },
   {
    "duration": 0,
    "start_time": "2023-01-19T00:46:03.326Z"
   },
   {
    "duration": 0,
    "start_time": "2023-01-19T00:46:03.327Z"
   },
   {
    "duration": 0,
    "start_time": "2023-01-19T00:46:03.328Z"
   },
   {
    "duration": 0,
    "start_time": "2023-01-19T00:46:03.329Z"
   },
   {
    "duration": 0,
    "start_time": "2023-01-19T00:46:03.330Z"
   },
   {
    "duration": 0,
    "start_time": "2023-01-19T00:46:03.331Z"
   },
   {
    "duration": 0,
    "start_time": "2023-01-19T00:46:03.332Z"
   },
   {
    "duration": 0,
    "start_time": "2023-01-19T00:46:03.333Z"
   },
   {
    "duration": 0,
    "start_time": "2023-01-19T00:46:03.334Z"
   },
   {
    "duration": 0,
    "start_time": "2023-01-19T00:46:03.335Z"
   },
   {
    "duration": 0,
    "start_time": "2023-01-19T00:46:03.336Z"
   },
   {
    "duration": 1316,
    "start_time": "2023-01-19T00:47:33.192Z"
   },
   {
    "duration": 3,
    "start_time": "2023-01-19T00:47:34.510Z"
   },
   {
    "duration": 849,
    "start_time": "2023-01-19T00:47:34.515Z"
   },
   {
    "duration": 21,
    "start_time": "2023-01-19T00:47:35.366Z"
   },
   {
    "duration": 19,
    "start_time": "2023-01-19T00:47:35.389Z"
   },
   {
    "duration": 50,
    "start_time": "2023-01-19T00:47:35.409Z"
   },
   {
    "duration": 34,
    "start_time": "2023-01-19T00:47:35.461Z"
   },
   {
    "duration": 3,
    "start_time": "2023-01-19T00:47:35.497Z"
   },
   {
    "duration": 49,
    "start_time": "2023-01-19T00:47:35.502Z"
   },
   {
    "duration": 0,
    "start_time": "2023-01-19T00:47:35.553Z"
   },
   {
    "duration": 0,
    "start_time": "2023-01-19T00:47:35.554Z"
   },
   {
    "duration": 0,
    "start_time": "2023-01-19T00:47:35.555Z"
   },
   {
    "duration": 0,
    "start_time": "2023-01-19T00:47:35.556Z"
   },
   {
    "duration": 0,
    "start_time": "2023-01-19T00:47:35.558Z"
   },
   {
    "duration": 0,
    "start_time": "2023-01-19T00:47:35.559Z"
   },
   {
    "duration": 0,
    "start_time": "2023-01-19T00:47:35.560Z"
   },
   {
    "duration": 0,
    "start_time": "2023-01-19T00:47:35.561Z"
   },
   {
    "duration": 0,
    "start_time": "2023-01-19T00:47:35.562Z"
   },
   {
    "duration": 0,
    "start_time": "2023-01-19T00:47:35.563Z"
   },
   {
    "duration": 0,
    "start_time": "2023-01-19T00:47:35.564Z"
   },
   {
    "duration": 0,
    "start_time": "2023-01-19T00:47:35.565Z"
   },
   {
    "duration": 0,
    "start_time": "2023-01-19T00:47:35.566Z"
   },
   {
    "duration": 0,
    "start_time": "2023-01-19T00:47:35.567Z"
   },
   {
    "duration": 0,
    "start_time": "2023-01-19T00:47:35.568Z"
   },
   {
    "duration": 0,
    "start_time": "2023-01-19T00:47:35.569Z"
   },
   {
    "duration": 0,
    "start_time": "2023-01-19T00:47:35.570Z"
   },
   {
    "duration": 0,
    "start_time": "2023-01-19T00:47:35.571Z"
   },
   {
    "duration": 0,
    "start_time": "2023-01-19T00:47:35.573Z"
   },
   {
    "duration": 0,
    "start_time": "2023-01-19T00:47:35.574Z"
   },
   {
    "duration": 1233,
    "start_time": "2023-01-19T00:49:50.022Z"
   },
   {
    "duration": 1213,
    "start_time": "2023-01-19T00:50:02.857Z"
   },
   {
    "duration": 55,
    "start_time": "2023-01-19T00:51:41.679Z"
   },
   {
    "duration": 1475,
    "start_time": "2023-01-19T00:52:26.291Z"
   },
   {
    "duration": 27,
    "start_time": "2023-01-19T00:52:46.103Z"
   },
   {
    "duration": 53,
    "start_time": "2023-01-19T00:53:11.847Z"
   },
   {
    "duration": 53,
    "start_time": "2023-01-19T00:53:20.500Z"
   },
   {
    "duration": 744,
    "start_time": "2023-01-19T00:53:50.816Z"
   },
   {
    "duration": 48,
    "start_time": "2023-01-19T00:53:59.745Z"
   },
   {
    "duration": 716,
    "start_time": "2023-01-19T00:54:08.659Z"
   },
   {
    "duration": 734,
    "start_time": "2023-01-19T00:54:36.817Z"
   },
   {
    "duration": 741,
    "start_time": "2023-01-19T00:54:55.544Z"
   },
   {
    "duration": 6750,
    "start_time": "2023-01-19T00:56:40.793Z"
   },
   {
    "duration": 26,
    "start_time": "2023-01-19T00:56:56.049Z"
   },
   {
    "duration": 1492,
    "start_time": "2023-01-19T00:57:22.556Z"
   },
   {
    "duration": 16928,
    "start_time": "2023-01-19T01:00:33.915Z"
   },
   {
    "duration": 23,
    "start_time": "2023-01-19T01:00:50.845Z"
   },
   {
    "duration": 31,
    "start_time": "2023-01-19T01:01:32.354Z"
   },
   {
    "duration": 23,
    "start_time": "2023-01-19T01:04:17.125Z"
   },
   {
    "duration": 14330,
    "start_time": "2023-01-19T01:04:22.765Z"
   },
   {
    "duration": 31,
    "start_time": "2023-01-19T01:04:37.097Z"
   },
   {
    "duration": 14607,
    "start_time": "2023-01-19T01:05:52.607Z"
   },
   {
    "duration": 33,
    "start_time": "2023-01-19T01:06:07.216Z"
   },
   {
    "duration": 1387,
    "start_time": "2023-01-19T01:07:11.565Z"
   },
   {
    "duration": 3,
    "start_time": "2023-01-19T01:07:12.954Z"
   },
   {
    "duration": 855,
    "start_time": "2023-01-19T01:07:12.958Z"
   },
   {
    "duration": 25,
    "start_time": "2023-01-19T01:07:13.815Z"
   },
   {
    "duration": 17,
    "start_time": "2023-01-19T01:07:13.842Z"
   },
   {
    "duration": 25,
    "start_time": "2023-01-19T01:07:13.860Z"
   },
   {
    "duration": 29,
    "start_time": "2023-01-19T01:07:13.887Z"
   },
   {
    "duration": 21,
    "start_time": "2023-01-19T01:07:13.918Z"
   },
   {
    "duration": 5103,
    "start_time": "2023-01-19T01:07:13.941Z"
   },
   {
    "duration": 26,
    "start_time": "2023-01-19T01:07:19.047Z"
   },
   {
    "duration": 14940,
    "start_time": "2023-01-19T01:07:19.075Z"
   },
   {
    "duration": 29,
    "start_time": "2023-01-19T01:07:34.016Z"
   },
   {
    "duration": 14,
    "start_time": "2023-01-19T01:07:34.047Z"
   },
   {
    "duration": 52,
    "start_time": "2023-01-19T01:07:34.062Z"
   },
   {
    "duration": 44,
    "start_time": "2023-01-19T01:07:34.116Z"
   },
   {
    "duration": 80,
    "start_time": "2023-01-19T01:07:34.162Z"
   },
   {
    "duration": 61,
    "start_time": "2023-01-19T01:07:34.244Z"
   },
   {
    "duration": 54,
    "start_time": "2023-01-19T01:07:34.307Z"
   },
   {
    "duration": 4,
    "start_time": "2023-01-19T01:07:34.363Z"
   },
   {
    "duration": 230,
    "start_time": "2023-01-19T01:07:34.368Z"
   },
   {
    "duration": 2,
    "start_time": "2023-01-19T01:07:34.600Z"
   },
   {
    "duration": 1717,
    "start_time": "2023-01-19T01:07:34.605Z"
   },
   {
    "duration": 4,
    "start_time": "2023-01-19T01:07:36.324Z"
   },
   {
    "duration": 7,
    "start_time": "2023-01-19T01:07:36.329Z"
   },
   {
    "duration": 120,
    "start_time": "2023-01-19T01:07:36.337Z"
   },
   {
    "duration": 26,
    "start_time": "2023-01-19T01:07:36.458Z"
   },
   {
    "duration": 0,
    "start_time": "2023-01-19T01:07:36.486Z"
   },
   {
    "duration": 0,
    "start_time": "2023-01-19T01:07:36.487Z"
   },
   {
    "duration": 0,
    "start_time": "2023-01-19T01:07:36.488Z"
   },
   {
    "duration": 0,
    "start_time": "2023-01-19T01:07:36.489Z"
   },
   {
    "duration": 0,
    "start_time": "2023-01-19T01:07:36.490Z"
   },
   {
    "duration": 0,
    "start_time": "2023-01-19T01:07:36.492Z"
   },
   {
    "duration": 126,
    "start_time": "2023-01-19T01:09:05.535Z"
   },
   {
    "duration": 20,
    "start_time": "2023-01-19T01:10:45.983Z"
   },
   {
    "duration": 22,
    "start_time": "2023-01-19T01:11:14.624Z"
   },
   {
    "duration": 19,
    "start_time": "2023-01-19T01:11:33.279Z"
   },
   {
    "duration": 21,
    "start_time": "2023-01-19T01:11:52.312Z"
   },
   {
    "duration": 19,
    "start_time": "2023-01-19T01:11:53.424Z"
   },
   {
    "duration": 128,
    "start_time": "2023-01-19T01:12:11.890Z"
   },
   {
    "duration": 25259,
    "start_time": "2023-01-19T01:14:59.937Z"
   },
   {
    "duration": 13,
    "start_time": "2023-01-19T01:18:04.049Z"
   },
   {
    "duration": 21,
    "start_time": "2023-01-19T01:18:11.051Z"
   },
   {
    "duration": 36,
    "start_time": "2023-01-19T01:18:50.902Z"
   },
   {
    "duration": 34,
    "start_time": "2023-01-19T01:19:05.523Z"
   },
   {
    "duration": 127,
    "start_time": "2023-01-19T01:19:06.315Z"
   },
   {
    "duration": 23,
    "start_time": "2023-01-19T01:19:49.381Z"
   },
   {
    "duration": 39,
    "start_time": "2023-01-19T01:20:21.834Z"
   },
   {
    "duration": 130,
    "start_time": "2023-01-19T01:20:24.923Z"
   },
   {
    "duration": 22,
    "start_time": "2023-01-19T01:22:37.373Z"
   },
   {
    "duration": 4,
    "start_time": "2023-01-19T01:23:50.737Z"
   },
   {
    "duration": 157,
    "start_time": "2023-01-19T01:24:00.925Z"
   },
   {
    "duration": 84,
    "start_time": "2023-01-19T01:24:12.582Z"
   },
   {
    "duration": 85,
    "start_time": "2023-01-19T01:25:15.665Z"
   },
   {
    "duration": 88,
    "start_time": "2023-01-19T01:25:22.013Z"
   },
   {
    "duration": 44,
    "start_time": "2023-01-19T01:27:26.462Z"
   },
   {
    "duration": 122,
    "start_time": "2023-01-19T01:28:24.767Z"
   },
   {
    "duration": 35,
    "start_time": "2023-01-19T01:34:01.833Z"
   },
   {
    "duration": 48,
    "start_time": "2023-01-19T01:34:42.619Z"
   },
   {
    "duration": 59,
    "start_time": "2023-01-19T01:34:47.919Z"
   },
   {
    "duration": 121,
    "start_time": "2023-01-19T01:34:48.921Z"
   },
   {
    "duration": 1340,
    "start_time": "2023-01-19T01:35:02.883Z"
   },
   {
    "duration": 3,
    "start_time": "2023-01-19T01:35:04.224Z"
   },
   {
    "duration": 857,
    "start_time": "2023-01-19T01:35:04.229Z"
   },
   {
    "duration": 20,
    "start_time": "2023-01-19T01:35:05.088Z"
   },
   {
    "duration": 33,
    "start_time": "2023-01-19T01:35:05.110Z"
   },
   {
    "duration": 73611,
    "start_time": "2023-01-19T01:35:05.144Z"
   },
   {
    "duration": 18,
    "start_time": "2023-01-19T01:36:18.757Z"
   },
   {
    "duration": 29,
    "start_time": "2023-01-19T01:36:18.777Z"
   },
   {
    "duration": 5260,
    "start_time": "2023-01-19T01:36:18.808Z"
   },
   {
    "duration": 24,
    "start_time": "2023-01-19T01:36:24.070Z"
   },
   {
    "duration": 15174,
    "start_time": "2023-01-19T01:36:24.095Z"
   },
   {
    "duration": 27,
    "start_time": "2023-01-19T01:36:39.271Z"
   },
   {
    "duration": 154,
    "start_time": "2023-01-19T01:36:39.299Z"
   },
   {
    "duration": 39,
    "start_time": "2023-01-19T01:36:39.454Z"
   },
   {
    "duration": 51,
    "start_time": "2023-01-19T01:36:39.494Z"
   },
   {
    "duration": 47,
    "start_time": "2023-01-19T01:36:39.547Z"
   },
   {
    "duration": 42,
    "start_time": "2023-01-19T01:36:39.596Z"
   },
   {
    "duration": 64,
    "start_time": "2023-01-19T01:36:39.640Z"
   },
   {
    "duration": 133,
    "start_time": "2023-01-19T01:36:39.706Z"
   },
   {
    "duration": 72,
    "start_time": "2023-01-19T01:36:39.841Z"
   },
   {
    "duration": 64,
    "start_time": "2023-01-19T01:36:39.915Z"
   },
   {
    "duration": 22,
    "start_time": "2023-01-19T01:36:39.981Z"
   },
   {
    "duration": 6,
    "start_time": "2023-01-19T01:36:40.005Z"
   },
   {
    "duration": 212,
    "start_time": "2023-01-19T01:36:40.013Z"
   },
   {
    "duration": 11,
    "start_time": "2023-01-19T01:36:40.227Z"
   },
   {
    "duration": 1698,
    "start_time": "2023-01-19T01:36:40.240Z"
   },
   {
    "duration": 4,
    "start_time": "2023-01-19T01:36:41.939Z"
   },
   {
    "duration": 12,
    "start_time": "2023-01-19T01:36:41.946Z"
   },
   {
    "duration": 124,
    "start_time": "2023-01-19T01:36:41.960Z"
   },
   {
    "duration": 24,
    "start_time": "2023-01-19T01:36:42.086Z"
   },
   {
    "duration": 0,
    "start_time": "2023-01-19T01:36:42.112Z"
   },
   {
    "duration": 0,
    "start_time": "2023-01-19T01:36:42.113Z"
   },
   {
    "duration": 0,
    "start_time": "2023-01-19T01:36:42.115Z"
   },
   {
    "duration": 0,
    "start_time": "2023-01-19T01:36:42.116Z"
   },
   {
    "duration": 0,
    "start_time": "2023-01-19T01:36:42.118Z"
   },
   {
    "duration": 0,
    "start_time": "2023-01-19T01:36:42.119Z"
   },
   {
    "duration": 399,
    "start_time": "2023-01-19T01:37:29.250Z"
   },
   {
    "duration": 9,
    "start_time": "2023-01-19T01:44:33.892Z"
   },
   {
    "duration": 466,
    "start_time": "2023-01-19T01:44:49.500Z"
   },
   {
    "duration": 9,
    "start_time": "2023-01-19T01:45:04.581Z"
   },
   {
    "duration": 389,
    "start_time": "2023-01-19T01:45:13.180Z"
   },
   {
    "duration": 1316,
    "start_time": "2023-01-19T01:46:29.273Z"
   },
   {
    "duration": 2,
    "start_time": "2023-01-19T01:46:30.591Z"
   },
   {
    "duration": 874,
    "start_time": "2023-01-19T01:46:30.594Z"
   },
   {
    "duration": 19,
    "start_time": "2023-01-19T01:46:31.470Z"
   },
   {
    "duration": 12,
    "start_time": "2023-01-19T01:46:31.491Z"
   },
   {
    "duration": 73990,
    "start_time": "2023-01-19T01:46:31.505Z"
   },
   {
    "duration": 18,
    "start_time": "2023-01-19T01:47:45.497Z"
   },
   {
    "duration": 33,
    "start_time": "2023-01-19T01:47:45.517Z"
   },
   {
    "duration": 5174,
    "start_time": "2023-01-19T01:47:45.552Z"
   },
   {
    "duration": 31,
    "start_time": "2023-01-19T01:47:50.727Z"
   },
   {
    "duration": 15199,
    "start_time": "2023-01-19T01:47:50.759Z"
   },
   {
    "duration": 24,
    "start_time": "2023-01-19T01:48:05.960Z"
   },
   {
    "duration": 131,
    "start_time": "2023-01-19T01:48:05.986Z"
   },
   {
    "duration": 42,
    "start_time": "2023-01-19T01:48:06.120Z"
   },
   {
    "duration": 38,
    "start_time": "2023-01-19T01:48:06.163Z"
   },
   {
    "duration": 53,
    "start_time": "2023-01-19T01:48:06.203Z"
   },
   {
    "duration": 38,
    "start_time": "2023-01-19T01:48:06.257Z"
   },
   {
    "duration": 70,
    "start_time": "2023-01-19T01:48:06.297Z"
   },
   {
    "duration": 80,
    "start_time": "2023-01-19T01:48:06.368Z"
   },
   {
    "duration": 129,
    "start_time": "2023-01-19T01:48:06.450Z"
   },
   {
    "duration": 459,
    "start_time": "2023-01-19T01:48:06.581Z"
   },
   {
    "duration": 414,
    "start_time": "2023-01-19T01:48:07.042Z"
   },
   {
    "duration": 4,
    "start_time": "2023-01-19T01:48:07.457Z"
   },
   {
    "duration": 195,
    "start_time": "2023-01-19T01:48:07.462Z"
   },
   {
    "duration": 3,
    "start_time": "2023-01-19T01:48:07.659Z"
   },
   {
    "duration": 1769,
    "start_time": "2023-01-19T01:48:07.664Z"
   },
   {
    "duration": 4,
    "start_time": "2023-01-19T01:48:09.435Z"
   },
   {
    "duration": 12,
    "start_time": "2023-01-19T01:48:09.440Z"
   },
   {
    "duration": 125,
    "start_time": "2023-01-19T01:48:09.453Z"
   },
   {
    "duration": 24,
    "start_time": "2023-01-19T01:48:09.579Z"
   },
   {
    "duration": 0,
    "start_time": "2023-01-19T01:48:09.605Z"
   },
   {
    "duration": 0,
    "start_time": "2023-01-19T01:48:09.606Z"
   },
   {
    "duration": 0,
    "start_time": "2023-01-19T01:48:09.607Z"
   },
   {
    "duration": 0,
    "start_time": "2023-01-19T01:48:09.608Z"
   },
   {
    "duration": 0,
    "start_time": "2023-01-19T01:48:09.609Z"
   },
   {
    "duration": 0,
    "start_time": "2023-01-19T01:48:09.610Z"
   },
   {
    "duration": 1415,
    "start_time": "2023-01-19T01:49:35.092Z"
   },
   {
    "duration": 3,
    "start_time": "2023-01-19T01:49:36.509Z"
   },
   {
    "duration": 871,
    "start_time": "2023-01-19T01:49:36.513Z"
   },
   {
    "duration": 153,
    "start_time": "2023-01-19T01:49:37.386Z"
   },
   {
    "duration": 18,
    "start_time": "2023-01-19T01:49:37.542Z"
   },
   {
    "duration": 28,
    "start_time": "2023-01-19T01:49:37.561Z"
   },
   {
    "duration": 21,
    "start_time": "2023-01-19T01:49:37.592Z"
   },
   {
    "duration": 71533,
    "start_time": "2023-01-19T01:49:37.615Z"
   },
   {
    "duration": 17,
    "start_time": "2023-01-19T01:50:49.150Z"
   },
   {
    "duration": 21,
    "start_time": "2023-01-19T01:50:49.169Z"
   },
   {
    "duration": 5267,
    "start_time": "2023-01-19T01:50:49.191Z"
   },
   {
    "duration": 18,
    "start_time": "2023-01-19T01:50:54.460Z"
   },
   {
    "duration": 15003,
    "start_time": "2023-01-19T01:50:54.480Z"
   },
   {
    "duration": 19,
    "start_time": "2023-01-19T01:51:09.487Z"
   },
   {
    "duration": 97,
    "start_time": "2023-01-19T01:51:09.507Z"
   },
   {
    "duration": 52,
    "start_time": "2023-01-19T01:51:09.606Z"
   },
   {
    "duration": 40,
    "start_time": "2023-01-19T01:51:09.660Z"
   },
   {
    "duration": 55,
    "start_time": "2023-01-19T01:51:09.702Z"
   },
   {
    "duration": 41,
    "start_time": "2023-01-19T01:51:09.759Z"
   },
   {
    "duration": 46,
    "start_time": "2023-01-19T01:51:09.802Z"
   },
   {
    "duration": 48,
    "start_time": "2023-01-19T01:51:09.850Z"
   },
   {
    "duration": 98,
    "start_time": "2023-01-19T01:51:09.899Z"
   },
   {
    "duration": 186,
    "start_time": "2023-01-19T01:51:09.999Z"
   },
   {
    "duration": 130,
    "start_time": "2023-01-19T01:51:10.187Z"
   },
   {
    "duration": 4,
    "start_time": "2023-01-19T01:51:10.320Z"
   },
   {
    "duration": 74,
    "start_time": "2023-01-19T01:51:10.337Z"
   },
   {
    "duration": 4,
    "start_time": "2023-01-19T01:51:10.413Z"
   },
   {
    "duration": 1695,
    "start_time": "2023-01-19T01:51:10.418Z"
   },
   {
    "duration": 4,
    "start_time": "2023-01-19T01:51:12.115Z"
   },
   {
    "duration": 7,
    "start_time": "2023-01-19T01:51:12.120Z"
   },
   {
    "duration": 91,
    "start_time": "2023-01-19T01:51:12.128Z"
   },
   {
    "duration": 11,
    "start_time": "2023-01-19T01:51:12.220Z"
   },
   {
    "duration": 0,
    "start_time": "2023-01-19T01:51:12.233Z"
   },
   {
    "duration": 0,
    "start_time": "2023-01-19T01:51:12.234Z"
   },
   {
    "duration": 0,
    "start_time": "2023-01-19T01:51:12.235Z"
   },
   {
    "duration": 0,
    "start_time": "2023-01-19T01:51:12.236Z"
   },
   {
    "duration": 0,
    "start_time": "2023-01-19T01:51:12.237Z"
   },
   {
    "duration": 0,
    "start_time": "2023-01-19T01:51:12.238Z"
   },
   {
    "duration": 2,
    "start_time": "2023-01-19T01:55:15.769Z"
   },
   {
    "duration": 4,
    "start_time": "2023-01-19T01:55:17.281Z"
   },
   {
    "duration": 10,
    "start_time": "2023-01-19T01:58:40.329Z"
   },
   {
    "duration": 9,
    "start_time": "2023-01-19T01:59:53.219Z"
   },
   {
    "duration": 143,
    "start_time": "2023-01-19T02:00:50.610Z"
   },
   {
    "duration": 21,
    "start_time": "2023-01-19T02:00:58.924Z"
   },
   {
    "duration": 1419,
    "start_time": "2023-01-19T02:03:15.380Z"
   },
   {
    "duration": 3,
    "start_time": "2023-01-19T02:03:16.801Z"
   },
   {
    "duration": 850,
    "start_time": "2023-01-19T02:03:16.805Z"
   },
   {
    "duration": 150,
    "start_time": "2023-01-19T02:03:17.657Z"
   },
   {
    "duration": 16,
    "start_time": "2023-01-19T02:03:17.810Z"
   },
   {
    "duration": 1077,
    "start_time": "2023-01-19T02:03:17.827Z"
   },
   {
    "duration": 11,
    "start_time": "2023-01-19T02:03:18.905Z"
   },
   {
    "duration": 72173,
    "start_time": "2023-01-19T02:03:18.918Z"
   },
   {
    "duration": 16,
    "start_time": "2023-01-19T02:04:31.093Z"
   },
   {
    "duration": 19,
    "start_time": "2023-01-19T02:04:31.111Z"
   },
   {
    "duration": 3396,
    "start_time": "2023-01-19T02:04:31.132Z"
   },
   {
    "duration": 0,
    "start_time": "2023-01-19T02:04:34.531Z"
   },
   {
    "duration": 0,
    "start_time": "2023-01-19T02:04:34.533Z"
   },
   {
    "duration": 0,
    "start_time": "2023-01-19T02:04:34.534Z"
   },
   {
    "duration": 0,
    "start_time": "2023-01-19T02:04:34.535Z"
   },
   {
    "duration": 0,
    "start_time": "2023-01-19T02:04:34.536Z"
   },
   {
    "duration": 0,
    "start_time": "2023-01-19T02:04:34.537Z"
   },
   {
    "duration": 0,
    "start_time": "2023-01-19T02:04:34.538Z"
   },
   {
    "duration": 0,
    "start_time": "2023-01-19T02:04:34.539Z"
   },
   {
    "duration": 0,
    "start_time": "2023-01-19T02:04:34.540Z"
   },
   {
    "duration": 0,
    "start_time": "2023-01-19T02:04:34.541Z"
   },
   {
    "duration": 0,
    "start_time": "2023-01-19T02:04:34.543Z"
   },
   {
    "duration": 0,
    "start_time": "2023-01-19T02:04:34.544Z"
   },
   {
    "duration": 0,
    "start_time": "2023-01-19T02:04:34.545Z"
   },
   {
    "duration": 0,
    "start_time": "2023-01-19T02:04:34.547Z"
   },
   {
    "duration": 0,
    "start_time": "2023-01-19T02:04:34.548Z"
   },
   {
    "duration": 0,
    "start_time": "2023-01-19T02:04:34.549Z"
   },
   {
    "duration": 0,
    "start_time": "2023-01-19T02:04:34.550Z"
   },
   {
    "duration": 0,
    "start_time": "2023-01-19T02:04:34.551Z"
   },
   {
    "duration": 0,
    "start_time": "2023-01-19T02:04:34.552Z"
   },
   {
    "duration": 0,
    "start_time": "2023-01-19T02:04:34.553Z"
   },
   {
    "duration": 0,
    "start_time": "2023-01-19T02:04:34.554Z"
   },
   {
    "duration": 0,
    "start_time": "2023-01-19T02:04:34.555Z"
   },
   {
    "duration": 0,
    "start_time": "2023-01-19T02:04:34.556Z"
   },
   {
    "duration": 0,
    "start_time": "2023-01-19T02:04:34.557Z"
   },
   {
    "duration": 0,
    "start_time": "2023-01-19T02:04:34.559Z"
   },
   {
    "duration": 0,
    "start_time": "2023-01-19T02:04:34.559Z"
   },
   {
    "duration": 0,
    "start_time": "2023-01-19T02:04:34.560Z"
   },
   {
    "duration": 0,
    "start_time": "2023-01-19T02:04:34.561Z"
   },
   {
    "duration": 1337,
    "start_time": "2023-01-19T02:07:58.627Z"
   },
   {
    "duration": 3,
    "start_time": "2023-01-19T02:07:59.965Z"
   },
   {
    "duration": 808,
    "start_time": "2023-01-19T02:07:59.970Z"
   },
   {
    "duration": 142,
    "start_time": "2023-01-19T02:08:00.780Z"
   },
   {
    "duration": 23,
    "start_time": "2023-01-19T02:08:00.923Z"
   },
   {
    "duration": 47,
    "start_time": "2023-01-19T02:08:00.947Z"
   },
   {
    "duration": 23,
    "start_time": "2023-01-19T02:08:00.996Z"
   },
   {
    "duration": 35,
    "start_time": "2023-01-19T02:08:01.021Z"
   },
   {
    "duration": 28,
    "start_time": "2023-01-19T02:08:01.057Z"
   },
   {
    "duration": 4839,
    "start_time": "2023-01-19T02:08:01.087Z"
   },
   {
    "duration": 21,
    "start_time": "2023-01-19T02:08:05.927Z"
   },
   {
    "duration": 14329,
    "start_time": "2023-01-19T02:08:05.950Z"
   },
   {
    "duration": 19,
    "start_time": "2023-01-19T02:08:20.280Z"
   },
   {
    "duration": 113,
    "start_time": "2023-01-19T02:08:20.301Z"
   },
   {
    "duration": 412,
    "start_time": "2023-01-19T02:08:20.416Z"
   },
   {
    "duration": 35,
    "start_time": "2023-01-19T02:08:20.829Z"
   },
   {
    "duration": 33,
    "start_time": "2023-01-19T02:08:20.865Z"
   },
   {
    "duration": 54,
    "start_time": "2023-01-19T02:08:20.900Z"
   },
   {
    "duration": 44,
    "start_time": "2023-01-19T02:08:20.955Z"
   },
   {
    "duration": 37,
    "start_time": "2023-01-19T02:08:21.001Z"
   },
   {
    "duration": 41,
    "start_time": "2023-01-19T02:08:21.040Z"
   },
   {
    "duration": 79,
    "start_time": "2023-01-19T02:08:21.082Z"
   },
   {
    "duration": 7,
    "start_time": "2023-01-19T02:08:21.163Z"
   },
   {
    "duration": 164,
    "start_time": "2023-01-19T02:08:21.171Z"
   },
   {
    "duration": 22,
    "start_time": "2023-01-19T02:08:21.337Z"
   },
   {
    "duration": 4,
    "start_time": "2023-01-19T02:08:21.361Z"
   },
   {
    "duration": 40,
    "start_time": "2023-01-19T02:08:21.366Z"
   },
   {
    "duration": 3,
    "start_time": "2023-01-19T02:08:21.410Z"
   },
   {
    "duration": 884,
    "start_time": "2023-01-19T02:08:21.438Z"
   },
   {
    "duration": 4,
    "start_time": "2023-01-19T02:08:22.324Z"
   },
   {
    "duration": 25,
    "start_time": "2023-01-19T02:08:22.330Z"
   },
   {
    "duration": 6893,
    "start_time": "2023-01-19T02:08:22.357Z"
   },
   {
    "duration": 4,
    "start_time": "2023-01-19T02:08:29.252Z"
   },
   {
    "duration": 27,
    "start_time": "2023-01-19T02:08:29.258Z"
   },
   {
    "duration": 52,
    "start_time": "2023-01-19T02:08:29.287Z"
   },
   {
    "duration": 125,
    "start_time": "2023-01-19T02:08:29.341Z"
   },
   {
    "duration": 23,
    "start_time": "2023-01-19T02:08:29.468Z"
   },
   {
    "duration": 0,
    "start_time": "2023-01-19T02:08:29.492Z"
   },
   {
    "duration": 0,
    "start_time": "2023-01-19T02:08:29.494Z"
   },
   {
    "duration": 1426,
    "start_time": "2023-01-19T02:08:51.782Z"
   },
   {
    "duration": 3,
    "start_time": "2023-01-19T02:08:53.210Z"
   },
   {
    "duration": 868,
    "start_time": "2023-01-19T02:08:53.215Z"
   },
   {
    "duration": 142,
    "start_time": "2023-01-19T02:08:54.085Z"
   },
   {
    "duration": 17,
    "start_time": "2023-01-19T02:08:54.238Z"
   },
   {
    "duration": 29,
    "start_time": "2023-01-19T02:08:54.256Z"
   },
   {
    "duration": 25,
    "start_time": "2023-01-19T02:08:54.286Z"
   },
   {
    "duration": 31,
    "start_time": "2023-01-19T02:08:54.313Z"
   },
   {
    "duration": 22,
    "start_time": "2023-01-19T02:08:54.346Z"
   },
   {
    "duration": 4802,
    "start_time": "2023-01-19T02:08:54.370Z"
   },
   {
    "duration": 18,
    "start_time": "2023-01-19T02:08:59.174Z"
   },
   {
    "duration": 14057,
    "start_time": "2023-01-19T02:08:59.193Z"
   },
   {
    "duration": 18,
    "start_time": "2023-01-19T02:09:13.252Z"
   },
   {
    "duration": 98,
    "start_time": "2023-01-19T02:09:13.273Z"
   },
   {
    "duration": 216,
    "start_time": "2023-01-19T02:09:13.372Z"
   },
   {
    "duration": 52,
    "start_time": "2023-01-19T02:09:13.589Z"
   },
   {
    "duration": 51,
    "start_time": "2023-01-19T02:09:13.643Z"
   },
   {
    "duration": 44,
    "start_time": "2023-01-19T02:09:13.696Z"
   },
   {
    "duration": 45,
    "start_time": "2023-01-19T02:09:13.742Z"
   },
   {
    "duration": 33,
    "start_time": "2023-01-19T02:09:13.788Z"
   },
   {
    "duration": 59,
    "start_time": "2023-01-19T02:09:13.823Z"
   },
   {
    "duration": 92,
    "start_time": "2023-01-19T02:09:13.884Z"
   },
   {
    "duration": 3,
    "start_time": "2023-01-19T02:09:13.977Z"
   },
   {
    "duration": 205,
    "start_time": "2023-01-19T02:09:13.981Z"
   },
   {
    "duration": 22,
    "start_time": "2023-01-19T02:09:14.187Z"
   },
   {
    "duration": 54,
    "start_time": "2023-01-19T02:09:14.211Z"
   },
   {
    "duration": 53,
    "start_time": "2023-01-19T02:09:14.266Z"
   },
   {
    "duration": 3,
    "start_time": "2023-01-19T02:09:14.321Z"
   },
   {
    "duration": 926,
    "start_time": "2023-01-19T02:09:14.326Z"
   },
   {
    "duration": 4,
    "start_time": "2023-01-19T02:09:15.254Z"
   },
   {
    "duration": 8,
    "start_time": "2023-01-19T02:09:15.259Z"
   },
   {
    "duration": 5980,
    "start_time": "2023-01-19T02:09:15.268Z"
   },
   {
    "duration": 5,
    "start_time": "2023-01-19T02:09:21.250Z"
   },
   {
    "duration": 83,
    "start_time": "2023-01-19T02:09:21.256Z"
   },
   {
    "duration": 37,
    "start_time": "2023-01-19T02:09:21.340Z"
   },
   {
    "duration": 140,
    "start_time": "2023-01-19T02:09:21.379Z"
   },
   {
    "duration": 22,
    "start_time": "2023-01-19T02:09:21.521Z"
   },
   {
    "duration": 0,
    "start_time": "2023-01-19T02:09:21.545Z"
   },
   {
    "duration": 0,
    "start_time": "2023-01-19T02:09:21.546Z"
   },
   {
    "duration": 4,
    "start_time": "2023-01-19T02:10:17.862Z"
   },
   {
    "duration": 2,
    "start_time": "2023-01-19T02:10:18.222Z"
   },
   {
    "duration": 824,
    "start_time": "2023-01-19T02:10:19.053Z"
   },
   {
    "duration": 453,
    "start_time": "2023-01-19T02:10:21.509Z"
   },
   {
    "duration": 1314,
    "start_time": "2023-01-19T02:11:48.162Z"
   },
   {
    "duration": 2,
    "start_time": "2023-01-19T02:11:49.478Z"
   },
   {
    "duration": 816,
    "start_time": "2023-01-19T02:11:49.482Z"
   },
   {
    "duration": 1007,
    "start_time": "2023-01-19T02:11:50.299Z"
   },
   {
    "duration": 138,
    "start_time": "2023-01-19T02:11:51.307Z"
   },
   {
    "duration": 13,
    "start_time": "2023-01-19T02:11:51.447Z"
   },
   {
    "duration": 49,
    "start_time": "2023-01-19T02:11:51.462Z"
   },
   {
    "duration": 23,
    "start_time": "2023-01-19T02:11:51.513Z"
   },
   {
    "duration": 44,
    "start_time": "2023-01-19T02:11:51.537Z"
   },
   {
    "duration": 21,
    "start_time": "2023-01-19T02:11:51.582Z"
   },
   {
    "duration": 5028,
    "start_time": "2023-01-19T02:11:51.604Z"
   },
   {
    "duration": 17,
    "start_time": "2023-01-19T02:11:56.637Z"
   },
   {
    "duration": 14357,
    "start_time": "2023-01-19T02:11:56.655Z"
   },
   {
    "duration": 25,
    "start_time": "2023-01-19T02:12:11.015Z"
   },
   {
    "duration": 85,
    "start_time": "2023-01-19T02:12:11.041Z"
   },
   {
    "duration": 187,
    "start_time": "2023-01-19T02:12:11.137Z"
   },
   {
    "duration": 49,
    "start_time": "2023-01-19T02:12:11.326Z"
   },
   {
    "duration": 43,
    "start_time": "2023-01-19T02:12:11.376Z"
   },
   {
    "duration": 50,
    "start_time": "2023-01-19T02:12:11.420Z"
   },
   {
    "duration": 40,
    "start_time": "2023-01-19T02:12:11.472Z"
   },
   {
    "duration": 37,
    "start_time": "2023-01-19T02:12:11.513Z"
   },
   {
    "duration": 45,
    "start_time": "2023-01-19T02:12:11.552Z"
   },
   {
    "duration": 88,
    "start_time": "2023-01-19T02:12:11.598Z"
   },
   {
    "duration": 8,
    "start_time": "2023-01-19T02:12:11.687Z"
   },
   {
    "duration": 186,
    "start_time": "2023-01-19T02:12:11.697Z"
   },
   {
    "duration": 21,
    "start_time": "2023-01-19T02:12:11.884Z"
   },
   {
    "duration": 7,
    "start_time": "2023-01-19T02:12:11.907Z"
   },
   {
    "duration": 50,
    "start_time": "2023-01-19T02:12:11.915Z"
   },
   {
    "duration": 3,
    "start_time": "2023-01-19T02:12:11.967Z"
   },
   {
    "duration": 956,
    "start_time": "2023-01-19T02:12:11.971Z"
   },
   {
    "duration": 3,
    "start_time": "2023-01-19T02:12:12.929Z"
   },
   {
    "duration": 6,
    "start_time": "2023-01-19T02:12:12.934Z"
   },
   {
    "duration": 5805,
    "start_time": "2023-01-19T02:12:12.941Z"
   },
   {
    "duration": 4,
    "start_time": "2023-01-19T02:12:18.748Z"
   },
   {
    "duration": 31,
    "start_time": "2023-01-19T02:12:18.754Z"
   },
   {
    "duration": 41,
    "start_time": "2023-01-19T02:12:18.787Z"
   },
   {
    "duration": 131,
    "start_time": "2023-01-19T02:12:18.830Z"
   },
   {
    "duration": 22,
    "start_time": "2023-01-19T02:12:18.963Z"
   },
   {
    "duration": 0,
    "start_time": "2023-01-19T02:12:18.987Z"
   },
   {
    "duration": 0,
    "start_time": "2023-01-19T02:12:18.988Z"
   },
   {
    "duration": 38,
    "start_time": "2023-01-19T02:18:07.625Z"
   },
   {
    "duration": 3,
    "start_time": "2023-01-19T02:18:11.544Z"
   },
   {
    "duration": 69,
    "start_time": "2023-01-19T02:18:12.209Z"
   },
   {
    "duration": 1314,
    "start_time": "2023-01-19T02:18:34.382Z"
   },
   {
    "duration": 3,
    "start_time": "2023-01-19T02:18:35.697Z"
   },
   {
    "duration": 790,
    "start_time": "2023-01-19T02:18:35.702Z"
   },
   {
    "duration": 1002,
    "start_time": "2023-01-19T02:18:36.494Z"
   },
   {
    "duration": 130,
    "start_time": "2023-01-19T02:18:37.498Z"
   },
   {
    "duration": 18,
    "start_time": "2023-01-19T02:18:37.630Z"
   },
   {
    "duration": 30,
    "start_time": "2023-01-19T02:18:37.649Z"
   },
   {
    "duration": 13,
    "start_time": "2023-01-19T02:18:37.681Z"
   },
   {
    "duration": 18,
    "start_time": "2023-01-19T02:18:37.695Z"
   },
   {
    "duration": 39,
    "start_time": "2023-01-19T02:18:37.715Z"
   },
   {
    "duration": 5087,
    "start_time": "2023-01-19T02:18:37.755Z"
   },
   {
    "duration": 18,
    "start_time": "2023-01-19T02:18:42.844Z"
   },
   {
    "duration": 14380,
    "start_time": "2023-01-19T02:18:42.863Z"
   },
   {
    "duration": 19,
    "start_time": "2023-01-19T02:18:57.246Z"
   },
   {
    "duration": 97,
    "start_time": "2023-01-19T02:18:57.266Z"
   },
   {
    "duration": 44,
    "start_time": "2023-01-19T02:18:57.365Z"
   },
   {
    "duration": 55,
    "start_time": "2023-01-19T02:18:57.411Z"
   },
   {
    "duration": 44,
    "start_time": "2023-01-19T02:18:57.467Z"
   },
   {
    "duration": 54,
    "start_time": "2023-01-19T02:18:57.513Z"
   },
   {
    "duration": 30,
    "start_time": "2023-01-19T02:18:57.569Z"
   },
   {
    "duration": 60,
    "start_time": "2023-01-19T02:18:57.601Z"
   },
   {
    "duration": 88,
    "start_time": "2023-01-19T02:18:57.663Z"
   },
   {
    "duration": 5,
    "start_time": "2023-01-19T02:18:57.753Z"
   },
   {
    "duration": 174,
    "start_time": "2023-01-19T02:18:57.759Z"
   },
   {
    "duration": 23,
    "start_time": "2023-01-19T02:18:57.935Z"
   },
   {
    "duration": 3,
    "start_time": "2023-01-19T02:18:57.960Z"
   },
   {
    "duration": 48,
    "start_time": "2023-01-19T02:18:57.965Z"
   },
   {
    "duration": 24,
    "start_time": "2023-01-19T02:18:58.014Z"
   },
   {
    "duration": 184,
    "start_time": "2023-01-19T02:18:58.040Z"
   },
   {
    "duration": 3,
    "start_time": "2023-01-19T02:18:58.226Z"
   },
   {
    "duration": 7,
    "start_time": "2023-01-19T02:18:58.231Z"
   },
   {
    "duration": 5808,
    "start_time": "2023-01-19T02:18:58.239Z"
   },
   {
    "duration": 4,
    "start_time": "2023-01-19T02:19:04.049Z"
   },
   {
    "duration": 5,
    "start_time": "2023-01-19T02:19:04.055Z"
   },
   {
    "duration": 11,
    "start_time": "2023-01-19T02:19:04.061Z"
   },
   {
    "duration": 179,
    "start_time": "2023-01-19T02:19:04.073Z"
   },
   {
    "duration": 25,
    "start_time": "2023-01-19T02:19:04.253Z"
   },
   {
    "duration": 0,
    "start_time": "2023-01-19T02:19:04.280Z"
   },
   {
    "duration": 0,
    "start_time": "2023-01-19T02:19:04.281Z"
   },
   {
    "duration": 60,
    "start_time": "2023-01-19T02:22:29.891Z"
   },
   {
    "duration": 40,
    "start_time": "2023-01-19T02:22:43.907Z"
   },
   {
    "duration": 3,
    "start_time": "2023-01-19T02:22:48.323Z"
   },
   {
    "duration": 59,
    "start_time": "2023-01-19T02:22:49.027Z"
   },
   {
    "duration": 1338,
    "start_time": "2023-01-19T02:22:54.563Z"
   },
   {
    "duration": 3,
    "start_time": "2023-01-19T02:22:55.903Z"
   },
   {
    "duration": 800,
    "start_time": "2023-01-19T02:22:55.907Z"
   },
   {
    "duration": 939,
    "start_time": "2023-01-19T02:22:56.709Z"
   },
   {
    "duration": 131,
    "start_time": "2023-01-19T02:22:57.650Z"
   },
   {
    "duration": 13,
    "start_time": "2023-01-19T02:22:57.783Z"
   },
   {
    "duration": 23,
    "start_time": "2023-01-19T02:22:57.797Z"
   },
   {
    "duration": 10,
    "start_time": "2023-01-19T02:22:57.838Z"
   },
   {
    "duration": 19,
    "start_time": "2023-01-19T02:22:57.850Z"
   },
   {
    "duration": 21,
    "start_time": "2023-01-19T02:22:57.872Z"
   },
   {
    "duration": 4699,
    "start_time": "2023-01-19T02:22:57.894Z"
   },
   {
    "duration": 17,
    "start_time": "2023-01-19T02:23:02.595Z"
   },
   {
    "duration": 14435,
    "start_time": "2023-01-19T02:23:02.614Z"
   },
   {
    "duration": 21,
    "start_time": "2023-01-19T02:23:17.051Z"
   },
   {
    "duration": 105,
    "start_time": "2023-01-19T02:23:17.074Z"
   },
   {
    "duration": 59,
    "start_time": "2023-01-19T02:23:17.181Z"
   },
   {
    "duration": 41,
    "start_time": "2023-01-19T02:23:17.241Z"
   },
   {
    "duration": 61,
    "start_time": "2023-01-19T02:23:17.284Z"
   },
   {
    "duration": 39,
    "start_time": "2023-01-19T02:23:17.347Z"
   },
   {
    "duration": 31,
    "start_time": "2023-01-19T02:23:17.388Z"
   },
   {
    "duration": 46,
    "start_time": "2023-01-19T02:23:17.437Z"
   },
   {
    "duration": 92,
    "start_time": "2023-01-19T02:23:17.485Z"
   },
   {
    "duration": 6,
    "start_time": "2023-01-19T02:23:17.579Z"
   },
   {
    "duration": 210,
    "start_time": "2023-01-19T02:23:17.587Z"
   },
   {
    "duration": 22,
    "start_time": "2023-01-19T02:23:17.799Z"
   },
   {
    "duration": 15,
    "start_time": "2023-01-19T02:23:17.823Z"
   },
   {
    "duration": 53,
    "start_time": "2023-01-19T02:23:17.840Z"
   },
   {
    "duration": 3,
    "start_time": "2023-01-19T02:23:17.896Z"
   },
   {
    "duration": 16398,
    "start_time": "2023-01-19T02:23:17.901Z"
   },
   {
    "duration": 4,
    "start_time": "2023-01-19T02:23:34.301Z"
   },
   {
    "duration": 27,
    "start_time": "2023-01-19T02:23:34.306Z"
   },
   {
    "duration": 6203,
    "start_time": "2023-01-19T02:23:34.335Z"
   },
   {
    "duration": 4,
    "start_time": "2023-01-19T02:23:40.540Z"
   },
   {
    "duration": 18,
    "start_time": "2023-01-19T02:23:40.545Z"
   },
   {
    "duration": 9,
    "start_time": "2023-01-19T02:23:40.564Z"
   },
   {
    "duration": 197,
    "start_time": "2023-01-19T02:23:40.575Z"
   },
   {
    "duration": 78,
    "start_time": "2023-01-19T02:23:40.774Z"
   },
   {
    "duration": 495,
    "start_time": "2023-01-19T02:23:40.854Z"
   },
   {
    "duration": 22,
    "start_time": "2023-01-19T02:23:41.350Z"
   },
   {
    "duration": 1320,
    "start_time": "2023-01-19T02:24:45.354Z"
   },
   {
    "duration": 3,
    "start_time": "2023-01-19T02:24:46.676Z"
   },
   {
    "duration": 820,
    "start_time": "2023-01-19T02:24:46.680Z"
   },
   {
    "duration": 1016,
    "start_time": "2023-01-19T02:24:47.502Z"
   },
   {
    "duration": 137,
    "start_time": "2023-01-19T02:24:48.519Z"
   },
   {
    "duration": 13,
    "start_time": "2023-01-19T02:24:48.658Z"
   },
   {
    "duration": 26,
    "start_time": "2023-01-19T02:24:48.673Z"
   },
   {
    "duration": 13,
    "start_time": "2023-01-19T02:24:48.701Z"
   },
   {
    "duration": 38,
    "start_time": "2023-01-19T02:24:48.715Z"
   },
   {
    "duration": 20,
    "start_time": "2023-01-19T02:24:48.755Z"
   },
   {
    "duration": 4859,
    "start_time": "2023-01-19T02:24:48.777Z"
   },
   {
    "duration": 19,
    "start_time": "2023-01-19T02:24:53.638Z"
   },
   {
    "duration": 14113,
    "start_time": "2023-01-19T02:24:53.659Z"
   },
   {
    "duration": 20,
    "start_time": "2023-01-19T02:25:07.774Z"
   },
   {
    "duration": 105,
    "start_time": "2023-01-19T02:25:07.796Z"
   },
   {
    "duration": 60,
    "start_time": "2023-01-19T02:25:07.904Z"
   },
   {
    "duration": 43,
    "start_time": "2023-01-19T02:25:07.966Z"
   },
   {
    "duration": 60,
    "start_time": "2023-01-19T02:25:08.011Z"
   },
   {
    "duration": 45,
    "start_time": "2023-01-19T02:25:08.073Z"
   },
   {
    "duration": 51,
    "start_time": "2023-01-19T02:25:08.120Z"
   },
   {
    "duration": 66,
    "start_time": "2023-01-19T02:25:08.173Z"
   },
   {
    "duration": 87,
    "start_time": "2023-01-19T02:25:08.241Z"
   },
   {
    "duration": 3,
    "start_time": "2023-01-19T02:25:08.338Z"
   },
   {
    "duration": 216,
    "start_time": "2023-01-19T02:25:08.342Z"
   },
   {
    "duration": 22,
    "start_time": "2023-01-19T02:25:08.560Z"
   },
   {
    "duration": 4,
    "start_time": "2023-01-19T02:25:08.584Z"
   },
   {
    "duration": 63,
    "start_time": "2023-01-19T02:25:08.589Z"
   },
   {
    "duration": 3,
    "start_time": "2023-01-19T02:25:08.656Z"
   },
   {
    "duration": 15792,
    "start_time": "2023-01-19T02:25:08.661Z"
   },
   {
    "duration": 4,
    "start_time": "2023-01-19T02:25:24.455Z"
   },
   {
    "duration": 23,
    "start_time": "2023-01-19T02:25:24.461Z"
   },
   {
    "duration": 5859,
    "start_time": "2023-01-19T02:25:24.486Z"
   },
   {
    "duration": 4,
    "start_time": "2023-01-19T02:25:30.346Z"
   },
   {
    "duration": 44,
    "start_time": "2023-01-19T02:25:30.352Z"
   },
   {
    "duration": 30,
    "start_time": "2023-01-19T02:25:30.398Z"
   },
   {
    "duration": 96,
    "start_time": "2023-01-19T02:25:30.430Z"
   },
   {
    "duration": 417,
    "start_time": "2023-01-19T02:25:30.528Z"
   },
   {
    "duration": 185,
    "start_time": "2023-01-19T02:25:30.947Z"
   },
   {
    "duration": 1358,
    "start_time": "2023-01-19T03:02:55.349Z"
   },
   {
    "duration": 2,
    "start_time": "2023-01-19T03:02:56.709Z"
   },
   {
    "duration": 835,
    "start_time": "2023-01-19T03:02:56.712Z"
   },
   {
    "duration": 1005,
    "start_time": "2023-01-19T03:02:57.549Z"
   },
   {
    "duration": 126,
    "start_time": "2023-01-19T03:02:58.556Z"
   },
   {
    "duration": 14,
    "start_time": "2023-01-19T03:02:58.683Z"
   },
   {
    "duration": 49,
    "start_time": "2023-01-19T03:02:58.699Z"
   },
   {
    "duration": 16,
    "start_time": "2023-01-19T03:02:58.750Z"
   },
   {
    "duration": 21,
    "start_time": "2023-01-19T03:02:58.767Z"
   },
   {
    "duration": 21,
    "start_time": "2023-01-19T03:02:58.791Z"
   },
   {
    "duration": 4854,
    "start_time": "2023-01-19T03:02:58.813Z"
   },
   {
    "duration": 17,
    "start_time": "2023-01-19T03:03:03.669Z"
   },
   {
    "duration": 14295,
    "start_time": "2023-01-19T03:03:03.688Z"
   },
   {
    "duration": 19,
    "start_time": "2023-01-19T03:03:17.985Z"
   },
   {
    "duration": 123,
    "start_time": "2023-01-19T03:03:18.006Z"
   },
   {
    "duration": 62,
    "start_time": "2023-01-19T03:03:18.131Z"
   },
   {
    "duration": 46,
    "start_time": "2023-01-19T03:03:18.196Z"
   },
   {
    "duration": 43,
    "start_time": "2023-01-19T03:03:18.244Z"
   },
   {
    "duration": 58,
    "start_time": "2023-01-19T03:03:18.289Z"
   },
   {
    "duration": 30,
    "start_time": "2023-01-19T03:03:18.349Z"
   },
   {
    "duration": 57,
    "start_time": "2023-01-19T03:03:18.381Z"
   },
   {
    "duration": 84,
    "start_time": "2023-01-19T03:03:18.440Z"
   },
   {
    "duration": 3,
    "start_time": "2023-01-19T03:03:18.539Z"
   },
   {
    "duration": 198,
    "start_time": "2023-01-19T03:03:18.544Z"
   },
   {
    "duration": 23,
    "start_time": "2023-01-19T03:03:18.743Z"
   },
   {
    "duration": 3,
    "start_time": "2023-01-19T03:03:18.768Z"
   },
   {
    "duration": 56,
    "start_time": "2023-01-19T03:03:18.773Z"
   },
   {
    "duration": 118,
    "start_time": "2023-01-19T03:03:18.841Z"
   },
   {
    "duration": 0,
    "start_time": "2023-01-19T03:03:18.961Z"
   },
   {
    "duration": 0,
    "start_time": "2023-01-19T03:03:18.962Z"
   },
   {
    "duration": 0,
    "start_time": "2023-01-19T03:03:18.963Z"
   },
   {
    "duration": 0,
    "start_time": "2023-01-19T03:03:18.964Z"
   },
   {
    "duration": 0,
    "start_time": "2023-01-19T03:03:18.965Z"
   },
   {
    "duration": 0,
    "start_time": "2023-01-19T03:03:18.966Z"
   },
   {
    "duration": 0,
    "start_time": "2023-01-19T03:03:18.967Z"
   },
   {
    "duration": 0,
    "start_time": "2023-01-19T03:03:18.968Z"
   },
   {
    "duration": 0,
    "start_time": "2023-01-19T03:03:18.969Z"
   },
   {
    "duration": 0,
    "start_time": "2023-01-19T03:03:18.970Z"
   },
   {
    "duration": 0,
    "start_time": "2023-01-19T03:03:18.971Z"
   },
   {
    "duration": 0,
    "start_time": "2023-01-19T03:03:18.972Z"
   },
   {
    "duration": 0,
    "start_time": "2023-01-19T03:03:18.973Z"
   },
   {
    "duration": 0,
    "start_time": "2023-01-19T03:03:18.974Z"
   },
   {
    "duration": 2,
    "start_time": "2023-01-19T03:03:46.181Z"
   },
   {
    "duration": 2,
    "start_time": "2023-01-19T03:03:49.160Z"
   },
   {
    "duration": 2,
    "start_time": "2023-01-19T03:03:50.804Z"
   },
   {
    "duration": 15417,
    "start_time": "2023-01-19T03:03:54.747Z"
   },
   {
    "duration": 3,
    "start_time": "2023-01-19T03:04:10.166Z"
   },
   {
    "duration": 114,
    "start_time": "2023-01-19T03:04:10.170Z"
   },
   {
    "duration": 4,
    "start_time": "2023-01-19T03:04:10.286Z"
   },
   {
    "duration": 16,
    "start_time": "2023-01-19T03:04:10.292Z"
   },
   {
    "duration": 11,
    "start_time": "2023-01-19T03:05:35.844Z"
   },
   {
    "duration": 10,
    "start_time": "2023-01-19T03:05:45.379Z"
   },
   {
    "duration": 3,
    "start_time": "2023-01-19T03:05:52.096Z"
   },
   {
    "duration": 88,
    "start_time": "2023-01-19T03:05:54.377Z"
   },
   {
    "duration": 102,
    "start_time": "2023-01-19T03:06:09.198Z"
   },
   {
    "duration": 93,
    "start_time": "2023-01-19T03:06:21.569Z"
   },
   {
    "duration": 91,
    "start_time": "2023-01-19T03:06:27.057Z"
   },
   {
    "duration": 3,
    "start_time": "2023-01-19T03:06:49.180Z"
   },
   {
    "duration": 10236,
    "start_time": "2023-01-19T03:06:49.688Z"
   },
   {
    "duration": 3,
    "start_time": "2023-01-19T03:06:59.927Z"
   },
   {
    "duration": 93,
    "start_time": "2023-01-19T03:06:59.931Z"
   },
   {
    "duration": 4,
    "start_time": "2023-01-19T03:07:35.299Z"
   },
   {
    "duration": 1425,
    "start_time": "2023-01-19T03:08:26.400Z"
   },
   {
    "duration": 3,
    "start_time": "2023-01-19T03:08:27.827Z"
   },
   {
    "duration": 873,
    "start_time": "2023-01-19T03:08:27.838Z"
   },
   {
    "duration": 1060,
    "start_time": "2023-01-19T03:08:28.714Z"
   },
   {
    "duration": 142,
    "start_time": "2023-01-19T03:08:29.775Z"
   },
   {
    "duration": 23,
    "start_time": "2023-01-19T03:08:29.918Z"
   },
   {
    "duration": 35,
    "start_time": "2023-01-19T03:08:29.943Z"
   },
   {
    "duration": 18,
    "start_time": "2023-01-19T03:08:29.980Z"
   },
   {
    "duration": 36,
    "start_time": "2023-01-19T03:08:30.000Z"
   },
   {
    "duration": 26,
    "start_time": "2023-01-19T03:08:30.040Z"
   },
   {
    "duration": 5202,
    "start_time": "2023-01-19T03:08:30.068Z"
   },
   {
    "duration": 18,
    "start_time": "2023-01-19T03:08:35.272Z"
   },
   {
    "duration": 15027,
    "start_time": "2023-01-19T03:08:35.292Z"
   },
   {
    "duration": 22,
    "start_time": "2023-01-19T03:08:50.320Z"
   },
   {
    "duration": 106,
    "start_time": "2023-01-19T03:08:50.343Z"
   },
   {
    "duration": 46,
    "start_time": "2023-01-19T03:08:50.451Z"
   },
   {
    "duration": 55,
    "start_time": "2023-01-19T03:08:50.499Z"
   },
   {
    "duration": 46,
    "start_time": "2023-01-19T03:08:50.556Z"
   },
   {
    "duration": 57,
    "start_time": "2023-01-19T03:08:50.604Z"
   },
   {
    "duration": 29,
    "start_time": "2023-01-19T03:08:50.663Z"
   },
   {
    "duration": 66,
    "start_time": "2023-01-19T03:08:50.694Z"
   },
   {
    "duration": 95,
    "start_time": "2023-01-19T03:08:50.762Z"
   },
   {
    "duration": 2,
    "start_time": "2023-01-19T03:08:50.860Z"
   },
   {
    "duration": 192,
    "start_time": "2023-01-19T03:08:50.864Z"
   },
   {
    "duration": 23,
    "start_time": "2023-01-19T03:08:51.058Z"
   },
   {
    "duration": 4,
    "start_time": "2023-01-19T03:08:51.082Z"
   },
   {
    "duration": 60,
    "start_time": "2023-01-19T03:08:51.087Z"
   },
   {
    "duration": 2,
    "start_time": "2023-01-19T03:08:51.151Z"
   },
   {
    "duration": 5,
    "start_time": "2023-01-19T03:08:51.155Z"
   },
   {
    "duration": 6,
    "start_time": "2023-01-19T03:08:51.161Z"
   },
   {
    "duration": 249456,
    "start_time": "2023-01-19T03:08:51.168Z"
   },
   {
    "duration": 3,
    "start_time": "2023-01-19T03:13:00.626Z"
   },
   {
    "duration": 1497,
    "start_time": "2023-01-19T03:44:20.104Z"
   },
   {
    "duration": 3,
    "start_time": "2023-01-19T03:44:21.604Z"
   },
   {
    "duration": 874,
    "start_time": "2023-01-19T03:44:21.609Z"
   },
   {
    "duration": 1061,
    "start_time": "2023-01-19T03:44:22.485Z"
   },
   {
    "duration": 138,
    "start_time": "2023-01-19T03:44:23.549Z"
   },
   {
    "duration": 15,
    "start_time": "2023-01-19T03:44:23.688Z"
   },
   {
    "duration": 39,
    "start_time": "2023-01-19T03:44:23.705Z"
   },
   {
    "duration": 19,
    "start_time": "2023-01-19T03:44:23.746Z"
   },
   {
    "duration": 26,
    "start_time": "2023-01-19T03:44:23.767Z"
   },
   {
    "duration": 22,
    "start_time": "2023-01-19T03:44:23.795Z"
   },
   {
    "duration": 5143,
    "start_time": "2023-01-19T03:44:23.819Z"
   },
   {
    "duration": 17,
    "start_time": "2023-01-19T03:44:28.964Z"
   },
   {
    "duration": 15088,
    "start_time": "2023-01-19T03:44:28.983Z"
   },
   {
    "duration": 20,
    "start_time": "2023-01-19T03:44:44.075Z"
   },
   {
    "duration": 102,
    "start_time": "2023-01-19T03:44:44.096Z"
   },
   {
    "duration": 58,
    "start_time": "2023-01-19T03:44:44.200Z"
   },
   {
    "duration": 43,
    "start_time": "2023-01-19T03:44:44.260Z"
   },
   {
    "duration": 52,
    "start_time": "2023-01-19T03:44:44.305Z"
   },
   {
    "duration": 50,
    "start_time": "2023-01-19T03:44:44.359Z"
   },
   {
    "duration": 45,
    "start_time": "2023-01-19T03:44:44.411Z"
   },
   {
    "duration": 48,
    "start_time": "2023-01-19T03:44:44.458Z"
   },
   {
    "duration": 94,
    "start_time": "2023-01-19T03:44:44.507Z"
   },
   {
    "duration": 5,
    "start_time": "2023-01-19T03:44:44.602Z"
   },
   {
    "duration": 192,
    "start_time": "2023-01-19T03:44:44.608Z"
   },
   {
    "duration": 24,
    "start_time": "2023-01-19T03:44:44.802Z"
   },
   {
    "duration": 14,
    "start_time": "2023-01-19T03:44:44.827Z"
   },
   {
    "duration": 49,
    "start_time": "2023-01-19T03:44:44.842Z"
   },
   {
    "duration": 4,
    "start_time": "2023-01-19T03:44:44.893Z"
   },
   {
    "duration": 11,
    "start_time": "2023-01-19T03:44:44.900Z"
   },
   {
    "duration": 16,
    "start_time": "2023-01-19T03:44:44.912Z"
   },
   {
    "duration": 3,
    "start_time": "2023-01-19T03:44:44.938Z"
   },
   {
    "duration": 5,
    "start_time": "2023-01-19T03:44:44.944Z"
   },
   {
    "duration": 431528,
    "start_time": "2023-01-19T03:44:44.951Z"
   },
   {
    "duration": 4,
    "start_time": "2023-01-19T03:51:56.481Z"
   },
   {
    "duration": 18,
    "start_time": "2023-01-19T03:51:56.486Z"
   },
   {
    "duration": 19,
    "start_time": "2023-01-19T03:51:56.506Z"
   },
   {
    "duration": 122,
    "start_time": "2023-01-19T03:51:56.527Z"
   },
   {
    "duration": 0,
    "start_time": "2023-01-19T03:51:56.651Z"
   },
   {
    "duration": 0,
    "start_time": "2023-01-19T03:51:56.652Z"
   },
   {
    "duration": 0,
    "start_time": "2023-01-19T03:51:56.653Z"
   },
   {
    "duration": 0,
    "start_time": "2023-01-19T03:51:56.654Z"
   },
   {
    "duration": 0,
    "start_time": "2023-01-19T03:51:56.655Z"
   },
   {
    "duration": 3,
    "start_time": "2023-01-19T03:54:09.756Z"
   },
   {
    "duration": 3,
    "start_time": "2023-01-19T03:54:19.860Z"
   },
   {
    "duration": 63819,
    "start_time": "2023-01-19T03:55:45.931Z"
   },
   {
    "duration": 4,
    "start_time": "2023-01-19T03:56:49.837Z"
   },
   {
    "duration": 11,
    "start_time": "2023-01-19T03:57:55.997Z"
   },
   {
    "duration": 3,
    "start_time": "2023-01-19T03:58:08.709Z"
   },
   {
    "duration": 60435,
    "start_time": "2023-01-19T03:58:24.718Z"
   },
   {
    "duration": 10,
    "start_time": "2023-01-19T04:01:55.174Z"
   },
   {
    "duration": 3,
    "start_time": "2023-01-19T04:02:42.911Z"
   },
   {
    "duration": 3,
    "start_time": "2023-01-19T04:02:44.853Z"
   },
   {
    "duration": 56566,
    "start_time": "2023-01-19T04:02:46.583Z"
   },
   {
    "duration": 3,
    "start_time": "2023-01-19T04:03:50.063Z"
   },
   {
    "duration": 3,
    "start_time": "2023-01-19T04:03:51.605Z"
   },
   {
    "duration": 58372,
    "start_time": "2023-01-19T04:03:52.174Z"
   },
   {
    "duration": 3,
    "start_time": "2023-01-19T04:05:13.023Z"
   },
   {
    "duration": 2,
    "start_time": "2023-01-19T04:05:14.007Z"
   },
   {
    "duration": 344279,
    "start_time": "2023-01-19T04:05:14.560Z"
   },
   {
    "duration": 3,
    "start_time": "2023-01-19T04:10:58.841Z"
   },
   {
    "duration": 10,
    "start_time": "2023-01-19T04:10:58.845Z"
   },
   {
    "duration": 3,
    "start_time": "2023-01-19T04:14:20.980Z"
   },
   {
    "duration": 94,
    "start_time": "2023-01-19T04:14:22.012Z"
   },
   {
    "duration": 3,
    "start_time": "2023-01-19T04:14:45.707Z"
   },
   {
    "duration": 57,
    "start_time": "2023-01-19T04:14:46.171Z"
   },
   {
    "duration": 12,
    "start_time": "2023-01-19T04:15:07.448Z"
   },
   {
    "duration": 4,
    "start_time": "2023-01-19T04:15:38.324Z"
   },
   {
    "duration": 3,
    "start_time": "2023-01-19T04:17:05.140Z"
   },
   {
    "duration": 5,
    "start_time": "2023-01-19T04:17:05.516Z"
   },
   {
    "duration": 1168006,
    "start_time": "2023-01-19T04:17:05.940Z"
   },
   {
    "duration": 3,
    "start_time": "2023-01-19T04:36:33.948Z"
   },
   {
    "duration": 15,
    "start_time": "2023-01-19T04:36:33.953Z"
   },
   {
    "duration": 3,
    "start_time": "2023-01-19T04:38:35.106Z"
   },
   {
    "duration": 2,
    "start_time": "2023-01-19T04:38:37.043Z"
   },
   {
    "duration": 112,
    "start_time": "2023-01-19T04:38:38.170Z"
   },
   {
    "duration": 4,
    "start_time": "2023-01-19T04:43:08.564Z"
   },
   {
    "duration": 20,
    "start_time": "2023-01-19T04:43:09.323Z"
   },
   {
    "duration": 107,
    "start_time": "2023-01-19T04:43:11.653Z"
   },
   {
    "duration": 4,
    "start_time": "2023-01-19T05:04:16.873Z"
   },
   {
    "duration": 3,
    "start_time": "2023-01-19T05:05:48.312Z"
   },
   {
    "duration": 505,
    "start_time": "2023-01-19T05:07:08.304Z"
   },
   {
    "duration": 407,
    "start_time": "2023-01-19T05:07:51.528Z"
   },
   {
    "duration": 415,
    "start_time": "2023-01-19T05:09:19.566Z"
   },
   {
    "duration": 19,
    "start_time": "2023-01-19T05:09:21.668Z"
   },
   {
    "duration": 43345,
    "start_time": "2023-01-19T05:09:24.297Z"
   },
   {
    "duration": 94,
    "start_time": "2023-01-19T05:10:07.645Z"
   },
   {
    "duration": 490,
    "start_time": "2023-01-19T05:10:52.042Z"
   },
   {
    "duration": 4,
    "start_time": "2023-01-19T05:10:52.534Z"
   },
   {
    "duration": 43299,
    "start_time": "2023-01-19T05:10:52.541Z"
   },
   {
    "duration": 112,
    "start_time": "2023-01-19T05:11:35.844Z"
   },
   {
    "duration": 104,
    "start_time": "2023-01-19T05:14:11.934Z"
   },
   {
    "duration": 117,
    "start_time": "2023-01-19T05:15:26.420Z"
   },
   {
    "duration": 1423,
    "start_time": "2023-01-19T05:22:03.594Z"
   },
   {
    "duration": 12,
    "start_time": "2023-01-19T05:22:58.980Z"
   },
   {
    "duration": 4,
    "start_time": "2023-01-19T05:23:30.603Z"
   },
   {
    "duration": 23,
    "start_time": "2023-01-19T05:24:28.651Z"
   },
   {
    "duration": 1400,
    "start_time": "2023-01-19T05:28:03.676Z"
   },
   {
    "duration": 2,
    "start_time": "2023-01-19T05:28:05.079Z"
   },
   {
    "duration": 818,
    "start_time": "2023-01-19T05:28:05.083Z"
   },
   {
    "duration": 1010,
    "start_time": "2023-01-19T05:28:05.902Z"
   },
   {
    "duration": 140,
    "start_time": "2023-01-19T05:28:06.914Z"
   },
   {
    "duration": 13,
    "start_time": "2023-01-19T05:28:07.056Z"
   },
   {
    "duration": 32,
    "start_time": "2023-01-19T05:28:07.071Z"
   },
   {
    "duration": 14,
    "start_time": "2023-01-19T05:28:07.104Z"
   },
   {
    "duration": 35,
    "start_time": "2023-01-19T05:28:07.120Z"
   },
   {
    "duration": 22,
    "start_time": "2023-01-19T05:28:07.158Z"
   },
   {
    "duration": 5250,
    "start_time": "2023-01-19T05:28:07.182Z"
   },
   {
    "duration": 24,
    "start_time": "2023-01-19T05:28:12.434Z"
   },
   {
    "duration": 15570,
    "start_time": "2023-01-19T05:28:12.460Z"
   },
   {
    "duration": 24,
    "start_time": "2023-01-19T05:28:28.033Z"
   },
   {
    "duration": 135,
    "start_time": "2023-01-19T05:28:28.059Z"
   },
   {
    "duration": 63,
    "start_time": "2023-01-19T05:28:28.196Z"
   },
   {
    "duration": 45,
    "start_time": "2023-01-19T05:28:28.261Z"
   },
   {
    "duration": 54,
    "start_time": "2023-01-19T05:28:28.307Z"
   },
   {
    "duration": 42,
    "start_time": "2023-01-19T05:28:28.363Z"
   },
   {
    "duration": 45,
    "start_time": "2023-01-19T05:28:28.407Z"
   },
   {
    "duration": 47,
    "start_time": "2023-01-19T05:28:28.454Z"
   },
   {
    "duration": 104,
    "start_time": "2023-01-19T05:28:28.503Z"
   },
   {
    "duration": 3,
    "start_time": "2023-01-19T05:28:28.609Z"
   },
   {
    "duration": 199,
    "start_time": "2023-01-19T05:28:28.613Z"
   },
   {
    "duration": 31,
    "start_time": "2023-01-19T05:28:28.814Z"
   },
   {
    "duration": 4,
    "start_time": "2023-01-19T05:28:28.847Z"
   },
   {
    "duration": 53,
    "start_time": "2023-01-19T05:28:28.852Z"
   },
   {
    "duration": 4,
    "start_time": "2023-01-19T05:28:28.907Z"
   },
   {
    "duration": 15,
    "start_time": "2023-01-19T05:28:28.912Z"
   },
   {
    "duration": 11,
    "start_time": "2023-01-19T05:28:28.938Z"
   },
   {
    "duration": 8,
    "start_time": "2023-01-19T05:28:28.951Z"
   },
   {
    "duration": 16,
    "start_time": "2023-01-19T05:28:28.961Z"
   },
   {
    "duration": 59080,
    "start_time": "2023-01-19T05:28:28.979Z"
   },
   {
    "duration": 4,
    "start_time": "2023-01-19T05:29:28.062Z"
   },
   {
    "duration": 18,
    "start_time": "2023-01-19T05:29:28.068Z"
   },
   {
    "duration": 268560,
    "start_time": "2023-01-19T05:29:28.087Z"
   },
   {
    "duration": 4,
    "start_time": "2023-01-19T05:33:56.648Z"
   },
   {
    "duration": 92,
    "start_time": "2023-01-19T05:33:56.654Z"
   },
   {
    "duration": 4,
    "start_time": "2023-01-19T05:33:56.748Z"
   },
   {
    "duration": 131,
    "start_time": "2023-01-19T05:33:56.753Z"
   },
   {
    "duration": 0,
    "start_time": "2023-01-19T05:33:56.886Z"
   },
   {
    "duration": 1409,
    "start_time": "2023-01-19T05:49:39.590Z"
   },
   {
    "duration": 3,
    "start_time": "2023-01-19T05:49:41.001Z"
   },
   {
    "duration": 882,
    "start_time": "2023-01-19T05:49:41.006Z"
   },
   {
    "duration": 1158,
    "start_time": "2023-01-19T05:49:41.890Z"
   },
   {
    "duration": 145,
    "start_time": "2023-01-19T05:49:43.051Z"
   },
   {
    "duration": 15,
    "start_time": "2023-01-19T05:49:43.198Z"
   },
   {
    "duration": 43,
    "start_time": "2023-01-19T05:49:43.215Z"
   },
   {
    "duration": 14,
    "start_time": "2023-01-19T05:49:43.260Z"
   },
   {
    "duration": 28,
    "start_time": "2023-01-19T05:49:43.275Z"
   },
   {
    "duration": 22,
    "start_time": "2023-01-19T05:49:43.304Z"
   },
   {
    "duration": 5192,
    "start_time": "2023-01-19T05:49:43.338Z"
   },
   {
    "duration": 21,
    "start_time": "2023-01-19T05:49:48.532Z"
   },
   {
    "duration": 15952,
    "start_time": "2023-01-19T05:49:48.555Z"
   },
   {
    "duration": 29,
    "start_time": "2023-01-19T05:50:04.510Z"
   },
   {
    "duration": 109,
    "start_time": "2023-01-19T05:50:04.541Z"
   },
   {
    "duration": 54,
    "start_time": "2023-01-19T05:50:04.652Z"
   },
   {
    "duration": 60,
    "start_time": "2023-01-19T05:50:04.708Z"
   },
   {
    "duration": 46,
    "start_time": "2023-01-19T05:50:04.770Z"
   },
   {
    "duration": 60,
    "start_time": "2023-01-19T05:50:04.818Z"
   },
   {
    "duration": 35,
    "start_time": "2023-01-19T05:50:04.880Z"
   },
   {
    "duration": 61,
    "start_time": "2023-01-19T05:50:04.916Z"
   },
   {
    "duration": 100,
    "start_time": "2023-01-19T05:50:04.979Z"
   },
   {
    "duration": 3,
    "start_time": "2023-01-19T05:50:05.081Z"
   },
   {
    "duration": 210,
    "start_time": "2023-01-19T05:50:05.086Z"
   },
   {
    "duration": 23,
    "start_time": "2023-01-19T05:50:05.298Z"
   },
   {
    "duration": 17,
    "start_time": "2023-01-19T05:50:05.322Z"
   },
   {
    "duration": 47,
    "start_time": "2023-01-19T05:50:05.340Z"
   },
   {
    "duration": 4,
    "start_time": "2023-01-19T05:50:05.389Z"
   },
   {
    "duration": 25,
    "start_time": "2023-01-19T05:50:05.395Z"
   },
   {
    "duration": 23,
    "start_time": "2023-01-19T05:50:05.421Z"
   },
   {
    "duration": 16,
    "start_time": "2023-01-19T05:50:05.446Z"
   },
   {
    "duration": 9,
    "start_time": "2023-01-19T05:50:05.463Z"
   },
   {
    "duration": 57962,
    "start_time": "2023-01-19T05:50:05.474Z"
   },
   {
    "duration": 4,
    "start_time": "2023-01-19T05:51:03.438Z"
   },
   {
    "duration": 15,
    "start_time": "2023-01-19T05:51:03.444Z"
   },
   {
    "duration": 35,
    "start_time": "2023-01-19T05:51:03.461Z"
   },
   {
    "duration": 50050,
    "start_time": "2023-01-19T05:51:03.498Z"
   },
   {
    "duration": 4,
    "start_time": "2023-01-19T05:51:53.550Z"
   },
   {
    "duration": 38,
    "start_time": "2023-01-19T05:51:53.555Z"
   },
   {
    "duration": 5,
    "start_time": "2023-01-19T05:51:53.638Z"
   },
   {
    "duration": 65,
    "start_time": "2023-01-19T05:52:26.632Z"
   },
   {
    "duration": 7,
    "start_time": "2023-01-19T05:53:23.144Z"
   },
   {
    "duration": 1525,
    "start_time": "2023-01-19T05:53:28.328Z"
   },
   {
    "duration": 2,
    "start_time": "2023-01-19T05:53:29.856Z"
   },
   {
    "duration": 2915,
    "start_time": "2023-01-19T05:53:29.860Z"
   },
   {
    "duration": 1093,
    "start_time": "2023-01-19T05:53:32.777Z"
   },
   {
    "duration": 145,
    "start_time": "2023-01-19T05:53:33.872Z"
   },
   {
    "duration": 26,
    "start_time": "2023-01-19T05:53:34.019Z"
   },
   {
    "duration": 29,
    "start_time": "2023-01-19T05:53:34.047Z"
   },
   {
    "duration": 19,
    "start_time": "2023-01-19T05:53:34.079Z"
   },
   {
    "duration": 38,
    "start_time": "2023-01-19T05:53:34.100Z"
   },
   {
    "duration": 35,
    "start_time": "2023-01-19T05:53:34.141Z"
   },
   {
    "duration": 5370,
    "start_time": "2023-01-19T05:53:34.178Z"
   },
   {
    "duration": 18,
    "start_time": "2023-01-19T05:53:39.550Z"
   },
   {
    "duration": 15508,
    "start_time": "2023-01-19T05:53:39.570Z"
   },
   {
    "duration": 19,
    "start_time": "2023-01-19T05:53:55.080Z"
   },
   {
    "duration": 106,
    "start_time": "2023-01-19T05:53:55.101Z"
   },
   {
    "duration": 56,
    "start_time": "2023-01-19T05:53:55.209Z"
   },
   {
    "duration": 43,
    "start_time": "2023-01-19T05:53:55.266Z"
   },
   {
    "duration": 55,
    "start_time": "2023-01-19T05:53:55.311Z"
   },
   {
    "duration": 44,
    "start_time": "2023-01-19T05:53:55.368Z"
   },
   {
    "duration": 40,
    "start_time": "2023-01-19T05:53:55.414Z"
   },
   {
    "duration": 44,
    "start_time": "2023-01-19T05:53:55.456Z"
   },
   {
    "duration": 97,
    "start_time": "2023-01-19T05:53:55.502Z"
   },
   {
    "duration": 3,
    "start_time": "2023-01-19T05:53:55.601Z"
   },
   {
    "duration": 190,
    "start_time": "2023-01-19T05:53:55.605Z"
   },
   {
    "duration": 23,
    "start_time": "2023-01-19T05:53:55.797Z"
   },
   {
    "duration": 17,
    "start_time": "2023-01-19T05:53:55.823Z"
   },
   {
    "duration": 51,
    "start_time": "2023-01-19T05:53:55.842Z"
   },
   {
    "duration": 4,
    "start_time": "2023-01-19T05:53:55.897Z"
   },
   {
    "duration": 14,
    "start_time": "2023-01-19T05:53:55.903Z"
   },
   {
    "duration": 16,
    "start_time": "2023-01-19T05:53:55.919Z"
   },
   {
    "duration": 17,
    "start_time": "2023-01-19T05:53:55.937Z"
   },
   {
    "duration": 22,
    "start_time": "2023-01-19T05:53:55.955Z"
   },
   {
    "duration": 58294,
    "start_time": "2023-01-19T05:53:55.978Z"
   },
   {
    "duration": 4,
    "start_time": "2023-01-19T05:54:54.274Z"
   },
   {
    "duration": 21,
    "start_time": "2023-01-19T05:54:54.280Z"
   },
   {
    "duration": 15,
    "start_time": "2023-01-19T05:54:54.303Z"
   },
   {
    "duration": 66325,
    "start_time": "2023-01-19T05:54:54.319Z"
   },
   {
    "duration": 3,
    "start_time": "2023-01-19T05:56:00.646Z"
   },
   {
    "duration": 68,
    "start_time": "2023-01-19T05:56:00.651Z"
   },
   {
    "duration": 19,
    "start_time": "2023-01-19T05:56:00.721Z"
   },
   {
    "duration": 1662,
    "start_time": "2023-01-19T05:57:52.411Z"
   },
   {
    "duration": 3,
    "start_time": "2023-01-19T05:57:54.075Z"
   },
   {
    "duration": 2906,
    "start_time": "2023-01-19T05:57:54.080Z"
   },
   {
    "duration": 1112,
    "start_time": "2023-01-19T05:57:56.988Z"
   },
   {
    "duration": 169,
    "start_time": "2023-01-19T05:57:58.102Z"
   },
   {
    "duration": 16,
    "start_time": "2023-01-19T05:57:58.273Z"
   },
   {
    "duration": 29,
    "start_time": "2023-01-19T05:57:58.291Z"
   },
   {
    "duration": 12,
    "start_time": "2023-01-19T05:57:58.338Z"
   },
   {
    "duration": 28,
    "start_time": "2023-01-19T05:57:58.352Z"
   },
   {
    "duration": 23,
    "start_time": "2023-01-19T05:57:58.382Z"
   },
   {
    "duration": 5433,
    "start_time": "2023-01-19T05:57:58.407Z"
   },
   {
    "duration": 19,
    "start_time": "2023-01-19T05:58:03.841Z"
   },
   {
    "duration": 15638,
    "start_time": "2023-01-19T05:58:03.861Z"
   },
   {
    "duration": 22,
    "start_time": "2023-01-19T05:58:19.502Z"
   },
   {
    "duration": 110,
    "start_time": "2023-01-19T05:58:19.527Z"
   },
   {
    "duration": 49,
    "start_time": "2023-01-19T05:58:19.639Z"
   },
   {
    "duration": 55,
    "start_time": "2023-01-19T05:58:19.690Z"
   },
   {
    "duration": 42,
    "start_time": "2023-01-19T05:58:19.747Z"
   },
   {
    "duration": 58,
    "start_time": "2023-01-19T05:58:19.791Z"
   },
   {
    "duration": 31,
    "start_time": "2023-01-19T05:58:19.851Z"
   },
   {
    "duration": 65,
    "start_time": "2023-01-19T05:58:19.884Z"
   },
   {
    "duration": 96,
    "start_time": "2023-01-19T05:58:19.951Z"
   },
   {
    "duration": 3,
    "start_time": "2023-01-19T05:58:20.049Z"
   },
   {
    "duration": 212,
    "start_time": "2023-01-19T05:58:20.053Z"
   },
   {
    "duration": 27,
    "start_time": "2023-01-19T05:58:20.267Z"
   },
   {
    "duration": 4,
    "start_time": "2023-01-19T05:58:20.296Z"
   },
   {
    "duration": 63,
    "start_time": "2023-01-19T05:58:20.301Z"
   },
   {
    "duration": 4,
    "start_time": "2023-01-19T05:58:20.367Z"
   },
   {
    "duration": 33,
    "start_time": "2023-01-19T05:58:20.372Z"
   },
   {
    "duration": 11,
    "start_time": "2023-01-19T05:58:20.407Z"
   },
   {
    "duration": 17,
    "start_time": "2023-01-19T05:58:20.420Z"
   },
   {
    "duration": 21,
    "start_time": "2023-01-19T05:58:20.439Z"
   },
   {
    "duration": 56490,
    "start_time": "2023-01-19T05:58:20.462Z"
   },
   {
    "duration": 5,
    "start_time": "2023-01-19T05:59:16.954Z"
   },
   {
    "duration": 9,
    "start_time": "2023-01-19T05:59:16.961Z"
   },
   {
    "duration": 22,
    "start_time": "2023-01-19T05:59:16.971Z"
   },
   {
    "duration": 56755,
    "start_time": "2023-01-19T05:59:16.995Z"
   },
   {
    "duration": 4,
    "start_time": "2023-01-19T06:00:13.751Z"
   },
   {
    "duration": 2059,
    "start_time": "2023-01-19T06:00:13.756Z"
   },
   {
    "duration": 0,
    "start_time": "2023-01-19T06:00:15.817Z"
   },
   {
    "duration": 0,
    "start_time": "2023-01-19T06:00:15.818Z"
   },
   {
    "duration": 71,
    "start_time": "2023-01-19T06:07:53.925Z"
   },
   {
    "duration": 11,
    "start_time": "2023-01-19T06:08:07.391Z"
   },
   {
    "duration": 479,
    "start_time": "2023-01-19T06:08:20.290Z"
   },
   {
    "duration": 449,
    "start_time": "2023-01-19T06:08:31.386Z"
   },
   {
    "duration": 480,
    "start_time": "2023-01-19T06:08:39.347Z"
   },
   {
    "duration": 1744,
    "start_time": "2023-01-19T06:16:59.652Z"
   },
   {
    "duration": 1410,
    "start_time": "2023-01-19T06:17:24.091Z"
   },
   {
    "duration": 4,
    "start_time": "2023-01-19T06:18:28.622Z"
   },
   {
    "duration": 10,
    "start_time": "2023-01-19T06:18:48.603Z"
   },
   {
    "duration": 13,
    "start_time": "2023-01-19T06:18:55.269Z"
   },
   {
    "duration": 14,
    "start_time": "2023-01-19T06:19:08.466Z"
   },
   {
    "duration": 1586,
    "start_time": "2023-01-19T06:20:31.852Z"
   },
   {
    "duration": 1696,
    "start_time": "2023-01-19T06:22:23.479Z"
   },
   {
    "duration": 1757,
    "start_time": "2023-01-19T06:23:39.429Z"
   },
   {
    "duration": 1897,
    "start_time": "2023-01-19T06:29:01.046Z"
   },
   {
    "duration": 1795,
    "start_time": "2023-01-19T06:31:18.911Z"
   },
   {
    "duration": 1999,
    "start_time": "2023-01-19T06:31:57.841Z"
   },
   {
    "duration": 1451,
    "start_time": "2023-01-19T06:45:14.679Z"
   },
   {
    "duration": 1469,
    "start_time": "2023-01-19T06:45:33.471Z"
   },
   {
    "duration": 8,
    "start_time": "2023-01-19T06:46:41.887Z"
   },
   {
    "duration": 1453,
    "start_time": "2023-01-19T06:47:20.089Z"
   },
   {
    "duration": 12,
    "start_time": "2023-01-19T06:47:25.234Z"
   },
   {
    "duration": 1281,
    "start_time": "2023-01-19T06:49:26.639Z"
   },
   {
    "duration": 14,
    "start_time": "2023-01-19T06:49:31.178Z"
   },
   {
    "duration": 1572,
    "start_time": "2023-01-19T06:49:42.268Z"
   },
   {
    "duration": 3,
    "start_time": "2023-01-19T06:49:43.842Z"
   },
   {
    "duration": 909,
    "start_time": "2023-01-19T06:49:43.847Z"
   },
   {
    "duration": 1111,
    "start_time": "2023-01-19T06:49:44.758Z"
   },
   {
    "duration": 144,
    "start_time": "2023-01-19T06:49:45.871Z"
   },
   {
    "duration": 26,
    "start_time": "2023-01-19T06:49:46.017Z"
   },
   {
    "duration": 36,
    "start_time": "2023-01-19T06:49:46.044Z"
   },
   {
    "duration": 17,
    "start_time": "2023-01-19T06:49:46.082Z"
   },
   {
    "duration": 30,
    "start_time": "2023-01-19T06:49:46.100Z"
   },
   {
    "duration": 23,
    "start_time": "2023-01-19T06:49:46.131Z"
   },
   {
    "duration": 5325,
    "start_time": "2023-01-19T06:49:46.156Z"
   },
   {
    "duration": 19,
    "start_time": "2023-01-19T06:49:51.482Z"
   },
   {
    "duration": 16014,
    "start_time": "2023-01-19T06:49:51.503Z"
   },
   {
    "duration": 27,
    "start_time": "2023-01-19T06:50:07.521Z"
   },
   {
    "duration": 105,
    "start_time": "2023-01-19T06:50:07.550Z"
   },
   {
    "duration": 52,
    "start_time": "2023-01-19T06:50:07.657Z"
   },
   {
    "duration": 66,
    "start_time": "2023-01-19T06:50:07.712Z"
   },
   {
    "duration": 49,
    "start_time": "2023-01-19T06:50:07.780Z"
   },
   {
    "duration": 58,
    "start_time": "2023-01-19T06:50:07.830Z"
   },
   {
    "duration": 37,
    "start_time": "2023-01-19T06:50:07.890Z"
   },
   {
    "duration": 48,
    "start_time": "2023-01-19T06:50:07.929Z"
   },
   {
    "duration": 101,
    "start_time": "2023-01-19T06:50:07.979Z"
   },
   {
    "duration": 24,
    "start_time": "2023-01-19T06:50:08.083Z"
   },
   {
    "duration": 241,
    "start_time": "2023-01-19T06:50:08.109Z"
   },
   {
    "duration": 27,
    "start_time": "2023-01-19T06:50:08.352Z"
   },
   {
    "duration": 9,
    "start_time": "2023-01-19T06:50:08.381Z"
   },
   {
    "duration": 69,
    "start_time": "2023-01-19T06:50:08.392Z"
   },
   {
    "duration": 6,
    "start_time": "2023-01-19T06:50:08.463Z"
   },
   {
    "duration": 31,
    "start_time": "2023-01-19T06:50:08.470Z"
   },
   {
    "duration": 8,
    "start_time": "2023-01-19T06:50:08.503Z"
   },
   {
    "duration": 10,
    "start_time": "2023-01-19T06:50:08.513Z"
   },
   {
    "duration": 21,
    "start_time": "2023-01-19T06:50:08.524Z"
   },
   {
    "duration": 58722,
    "start_time": "2023-01-19T06:50:08.547Z"
   },
   {
    "duration": 4,
    "start_time": "2023-01-19T06:51:07.271Z"
   },
   {
    "duration": 9,
    "start_time": "2023-01-19T06:51:07.277Z"
   },
   {
    "duration": 6,
    "start_time": "2023-01-19T06:51:07.287Z"
   },
   {
    "duration": 48649,
    "start_time": "2023-01-19T06:51:07.294Z"
   },
   {
    "duration": 4,
    "start_time": "2023-01-19T06:51:55.944Z"
   },
   {
    "duration": 22,
    "start_time": "2023-01-19T06:51:55.949Z"
   },
   {
    "duration": 1307,
    "start_time": "2023-01-19T06:51:55.972Z"
   },
   {
    "duration": 61,
    "start_time": "2023-01-19T06:51:57.283Z"
   },
   {
    "duration": 104,
    "start_time": "2023-01-19T06:51:57.350Z"
   },
   {
    "duration": 299,
    "start_time": "2023-01-19T06:51:57.457Z"
   },
   {
    "duration": 1305,
    "start_time": "2023-01-19T07:01:08.793Z"
   },
   {
    "duration": 12,
    "start_time": "2023-01-19T07:01:12.184Z"
   },
   {
    "duration": 1411,
    "start_time": "2023-01-19T07:02:16.327Z"
   },
   {
    "duration": 2,
    "start_time": "2023-01-19T07:02:17.740Z"
   },
   {
    "duration": 951,
    "start_time": "2023-01-19T07:02:17.744Z"
   },
   {
    "duration": 1102,
    "start_time": "2023-01-19T07:02:18.697Z"
   },
   {
    "duration": 149,
    "start_time": "2023-01-19T07:02:19.801Z"
   },
   {
    "duration": 14,
    "start_time": "2023-01-19T07:02:19.952Z"
   },
   {
    "duration": 33,
    "start_time": "2023-01-19T07:02:19.968Z"
   },
   {
    "duration": 18,
    "start_time": "2023-01-19T07:02:20.003Z"
   },
   {
    "duration": 32,
    "start_time": "2023-01-19T07:02:20.022Z"
   },
   {
    "duration": 23,
    "start_time": "2023-01-19T07:02:20.057Z"
   },
   {
    "duration": 5427,
    "start_time": "2023-01-19T07:02:20.082Z"
   },
   {
    "duration": 18,
    "start_time": "2023-01-19T07:02:25.511Z"
   },
   {
    "duration": 15046,
    "start_time": "2023-01-19T07:02:25.538Z"
   },
   {
    "duration": 19,
    "start_time": "2023-01-19T07:02:40.586Z"
   },
   {
    "duration": 95,
    "start_time": "2023-01-19T07:02:40.607Z"
   },
   {
    "duration": 49,
    "start_time": "2023-01-19T07:02:40.704Z"
   },
   {
    "duration": 40,
    "start_time": "2023-01-19T07:02:40.755Z"
   },
   {
    "duration": 45,
    "start_time": "2023-01-19T07:02:40.797Z"
   },
   {
    "duration": 46,
    "start_time": "2023-01-19T07:02:40.844Z"
   },
   {
    "duration": 33,
    "start_time": "2023-01-19T07:02:40.892Z"
   },
   {
    "duration": 54,
    "start_time": "2023-01-19T07:02:40.927Z"
   },
   {
    "duration": 89,
    "start_time": "2023-01-19T07:02:40.983Z"
   },
   {
    "duration": 3,
    "start_time": "2023-01-19T07:02:41.074Z"
   },
   {
    "duration": 192,
    "start_time": "2023-01-19T07:02:41.078Z"
   },
   {
    "duration": 21,
    "start_time": "2023-01-19T07:02:41.272Z"
   },
   {
    "duration": 3,
    "start_time": "2023-01-19T07:02:41.295Z"
   },
   {
    "duration": 56,
    "start_time": "2023-01-19T07:02:41.300Z"
   },
   {
    "duration": 4,
    "start_time": "2023-01-19T07:02:41.359Z"
   },
   {
    "duration": 6,
    "start_time": "2023-01-19T07:02:41.365Z"
   },
   {
    "duration": 8,
    "start_time": "2023-01-19T07:02:41.372Z"
   },
   {
    "duration": 6,
    "start_time": "2023-01-19T07:02:41.381Z"
   },
   {
    "duration": 6,
    "start_time": "2023-01-19T07:02:41.389Z"
   },
   {
    "duration": 56833,
    "start_time": "2023-01-19T07:02:41.397Z"
   },
   {
    "duration": 3,
    "start_time": "2023-01-19T07:03:38.232Z"
   },
   {
    "duration": 23,
    "start_time": "2023-01-19T07:03:38.237Z"
   },
   {
    "duration": 25,
    "start_time": "2023-01-19T07:03:38.262Z"
   },
   {
    "duration": 45662,
    "start_time": "2023-01-19T07:03:38.289Z"
   },
   {
    "duration": 88,
    "start_time": "2023-01-19T07:04:23.953Z"
   },
   {
    "duration": 1214,
    "start_time": "2023-01-19T07:04:24.043Z"
   },
   {
    "duration": 7,
    "start_time": "2023-01-19T07:04:25.259Z"
   },
   {
    "duration": 175,
    "start_time": "2023-01-19T07:04:25.269Z"
   },
   {
    "duration": 1238,
    "start_time": "2023-01-19T07:07:35.401Z"
   },
   {
    "duration": 9,
    "start_time": "2023-01-19T07:07:38.800Z"
   },
   {
    "duration": 11,
    "start_time": "2023-01-19T07:07:48.153Z"
   },
   {
    "duration": 1547,
    "start_time": "2023-01-19T07:07:54.939Z"
   },
   {
    "duration": 3,
    "start_time": "2023-01-19T07:07:56.488Z"
   },
   {
    "duration": 926,
    "start_time": "2023-01-19T07:07:56.492Z"
   },
   {
    "duration": 1133,
    "start_time": "2023-01-19T07:07:57.421Z"
   },
   {
    "duration": 149,
    "start_time": "2023-01-19T07:07:58.555Z"
   },
   {
    "duration": 23,
    "start_time": "2023-01-19T07:07:58.705Z"
   },
   {
    "duration": 27,
    "start_time": "2023-01-19T07:07:58.738Z"
   },
   {
    "duration": 14,
    "start_time": "2023-01-19T07:07:58.767Z"
   },
   {
    "duration": 33,
    "start_time": "2023-01-19T07:07:58.783Z"
   },
   {
    "duration": 36,
    "start_time": "2023-01-19T07:07:58.819Z"
   },
   {
    "duration": 5208,
    "start_time": "2023-01-19T07:07:58.856Z"
   },
   {
    "duration": 20,
    "start_time": "2023-01-19T07:08:04.065Z"
   },
   {
    "duration": 15757,
    "start_time": "2023-01-19T07:08:04.086Z"
   },
   {
    "duration": 20,
    "start_time": "2023-01-19T07:08:19.845Z"
   },
   {
    "duration": 105,
    "start_time": "2023-01-19T07:08:19.866Z"
   },
   {
    "duration": 49,
    "start_time": "2023-01-19T07:08:19.972Z"
   },
   {
    "duration": 58,
    "start_time": "2023-01-19T07:08:20.022Z"
   },
   {
    "duration": 44,
    "start_time": "2023-01-19T07:08:20.082Z"
   },
   {
    "duration": 43,
    "start_time": "2023-01-19T07:08:20.138Z"
   },
   {
    "duration": 43,
    "start_time": "2023-01-19T07:08:20.183Z"
   },
   {
    "duration": 52,
    "start_time": "2023-01-19T07:08:20.228Z"
   },
   {
    "duration": 98,
    "start_time": "2023-01-19T07:08:20.282Z"
   },
   {
    "duration": 26,
    "start_time": "2023-01-19T07:08:20.382Z"
   },
   {
    "duration": 210,
    "start_time": "2023-01-19T07:08:20.410Z"
   },
   {
    "duration": 38,
    "start_time": "2023-01-19T07:08:20.621Z"
   },
   {
    "duration": 4,
    "start_time": "2023-01-19T07:08:20.661Z"
   },
   {
    "duration": 54,
    "start_time": "2023-01-19T07:08:20.667Z"
   },
   {
    "duration": 16,
    "start_time": "2023-01-19T07:08:20.724Z"
   },
   {
    "duration": 9,
    "start_time": "2023-01-19T07:08:20.741Z"
   },
   {
    "duration": 12,
    "start_time": "2023-01-19T07:08:20.752Z"
   },
   {
    "duration": 15,
    "start_time": "2023-01-19T07:08:20.766Z"
   },
   {
    "duration": 10,
    "start_time": "2023-01-19T07:08:20.782Z"
   },
   {
    "duration": 58191,
    "start_time": "2023-01-19T07:08:20.794Z"
   },
   {
    "duration": 4,
    "start_time": "2023-01-19T07:09:18.987Z"
   },
   {
    "duration": 36,
    "start_time": "2023-01-19T07:09:18.992Z"
   },
   {
    "duration": 65,
    "start_time": "2023-01-19T07:09:19.029Z"
   },
   {
    "duration": 38860,
    "start_time": "2023-01-19T07:09:19.096Z"
   },
   {
    "duration": 4,
    "start_time": "2023-01-19T07:09:58.039Z"
   },
   {
    "duration": 1299,
    "start_time": "2023-01-19T07:09:58.045Z"
   },
   {
    "duration": 95,
    "start_time": "2023-01-19T07:09:59.346Z"
   },
   {
    "duration": 217,
    "start_time": "2023-01-19T07:09:59.450Z"
   },
   {
    "duration": 9,
    "start_time": "2023-01-19T07:10:42.714Z"
   },
   {
    "duration": 1393,
    "start_time": "2023-01-19T07:11:24.560Z"
   },
   {
    "duration": 4,
    "start_time": "2023-01-19T07:11:25.955Z"
   },
   {
    "duration": 896,
    "start_time": "2023-01-19T07:11:25.960Z"
   },
   {
    "duration": 1082,
    "start_time": "2023-01-19T07:11:26.857Z"
   },
   {
    "duration": 152,
    "start_time": "2023-01-19T07:11:27.941Z"
   },
   {
    "duration": 34,
    "start_time": "2023-01-19T07:11:28.095Z"
   },
   {
    "duration": 59,
    "start_time": "2023-01-19T07:11:28.131Z"
   },
   {
    "duration": 21,
    "start_time": "2023-01-19T07:11:28.191Z"
   },
   {
    "duration": 29,
    "start_time": "2023-01-19T07:11:28.213Z"
   },
   {
    "duration": 25,
    "start_time": "2023-01-19T07:11:28.244Z"
   },
   {
    "duration": 5167,
    "start_time": "2023-01-19T07:11:28.271Z"
   },
   {
    "duration": 19,
    "start_time": "2023-01-19T07:11:33.440Z"
   },
   {
    "duration": 16336,
    "start_time": "2023-01-19T07:11:33.461Z"
   },
   {
    "duration": 22,
    "start_time": "2023-01-19T07:11:49.800Z"
   },
   {
    "duration": 118,
    "start_time": "2023-01-19T07:11:49.824Z"
   },
   {
    "duration": 50,
    "start_time": "2023-01-19T07:11:49.944Z"
   },
   {
    "duration": 64,
    "start_time": "2023-01-19T07:11:49.996Z"
   },
   {
    "duration": 57,
    "start_time": "2023-01-19T07:11:50.063Z"
   },
   {
    "duration": 52,
    "start_time": "2023-01-19T07:11:50.123Z"
   },
   {
    "duration": 37,
    "start_time": "2023-01-19T07:11:50.177Z"
   },
   {
    "duration": 53,
    "start_time": "2023-01-19T07:11:50.216Z"
   },
   {
    "duration": 119,
    "start_time": "2023-01-19T07:11:50.271Z"
   },
   {
    "duration": 3,
    "start_time": "2023-01-19T07:11:50.393Z"
   },
   {
    "duration": 225,
    "start_time": "2023-01-19T07:11:50.397Z"
   },
   {
    "duration": 32,
    "start_time": "2023-01-19T07:11:50.624Z"
   },
   {
    "duration": 4,
    "start_time": "2023-01-19T07:11:50.658Z"
   },
   {
    "duration": 82,
    "start_time": "2023-01-19T07:11:50.664Z"
   },
   {
    "duration": 5,
    "start_time": "2023-01-19T07:11:50.748Z"
   },
   {
    "duration": 28,
    "start_time": "2023-01-19T07:11:50.754Z"
   },
   {
    "duration": 10,
    "start_time": "2023-01-19T07:11:50.784Z"
   },
   {
    "duration": 15,
    "start_time": "2023-01-19T07:11:50.796Z"
   },
   {
    "duration": 16,
    "start_time": "2023-01-19T07:11:50.813Z"
   },
   {
    "duration": 57828,
    "start_time": "2023-01-19T07:11:50.831Z"
   },
   {
    "duration": 5,
    "start_time": "2023-01-19T07:12:48.660Z"
   },
   {
    "duration": 8,
    "start_time": "2023-01-19T07:12:48.667Z"
   },
   {
    "duration": 27,
    "start_time": "2023-01-19T07:12:48.676Z"
   },
   {
    "duration": 41834,
    "start_time": "2023-01-19T07:12:48.705Z"
   },
   {
    "duration": 4,
    "start_time": "2023-01-19T07:13:30.541Z"
   },
   {
    "duration": 1292,
    "start_time": "2023-01-19T07:13:30.546Z"
   },
   {
    "duration": 16,
    "start_time": "2023-01-19T07:13:31.840Z"
   },
   {
    "duration": 219,
    "start_time": "2023-01-19T07:13:31.942Z"
   },
   {
    "duration": 10,
    "start_time": "2023-01-19T07:13:45.051Z"
   },
   {
    "duration": 1602,
    "start_time": "2023-01-19T07:14:07.438Z"
   },
   {
    "duration": 2,
    "start_time": "2023-01-19T07:14:09.043Z"
   },
   {
    "duration": 952,
    "start_time": "2023-01-19T07:14:09.047Z"
   },
   {
    "duration": 1137,
    "start_time": "2023-01-19T07:14:10.001Z"
   },
   {
    "duration": 136,
    "start_time": "2023-01-19T07:14:11.140Z"
   },
   {
    "duration": 15,
    "start_time": "2023-01-19T07:14:11.278Z"
   },
   {
    "duration": 46,
    "start_time": "2023-01-19T07:14:11.295Z"
   },
   {
    "duration": 20,
    "start_time": "2023-01-19T07:14:11.343Z"
   },
   {
    "duration": 229,
    "start_time": "2023-01-19T07:14:11.365Z"
   },
   {
    "duration": 21,
    "start_time": "2023-01-19T07:14:11.596Z"
   },
   {
    "duration": 5306,
    "start_time": "2023-01-19T07:14:11.619Z"
   },
   {
    "duration": 21,
    "start_time": "2023-01-19T07:14:16.927Z"
   },
   {
    "duration": 15238,
    "start_time": "2023-01-19T07:14:16.949Z"
   },
   {
    "duration": 20,
    "start_time": "2023-01-19T07:14:32.189Z"
   },
   {
    "duration": 103,
    "start_time": "2023-01-19T07:14:32.211Z"
   },
   {
    "duration": 51,
    "start_time": "2023-01-19T07:14:32.315Z"
   },
   {
    "duration": 61,
    "start_time": "2023-01-19T07:14:32.368Z"
   },
   {
    "duration": 64,
    "start_time": "2023-01-19T07:14:32.431Z"
   },
   {
    "duration": 55,
    "start_time": "2023-01-19T07:14:32.497Z"
   },
   {
    "duration": 31,
    "start_time": "2023-01-19T07:14:32.554Z"
   },
   {
    "duration": 79,
    "start_time": "2023-01-19T07:14:32.587Z"
   },
   {
    "duration": 84,
    "start_time": "2023-01-19T07:14:32.668Z"
   },
   {
    "duration": 25,
    "start_time": "2023-01-19T07:14:32.754Z"
   },
   {
    "duration": 178,
    "start_time": "2023-01-19T07:14:32.780Z"
   },
   {
    "duration": 22,
    "start_time": "2023-01-19T07:14:32.960Z"
   },
   {
    "duration": 9,
    "start_time": "2023-01-19T07:14:32.984Z"
   },
   {
    "duration": 63,
    "start_time": "2023-01-19T07:14:32.995Z"
   },
   {
    "duration": 4,
    "start_time": "2023-01-19T07:14:33.061Z"
   },
   {
    "duration": 5,
    "start_time": "2023-01-19T07:14:33.067Z"
   },
   {
    "duration": 16,
    "start_time": "2023-01-19T07:14:33.074Z"
   },
   {
    "duration": 21,
    "start_time": "2023-01-19T07:14:33.092Z"
   },
   {
    "duration": 12,
    "start_time": "2023-01-19T07:14:33.115Z"
   },
   {
    "duration": 60497,
    "start_time": "2023-01-19T07:14:33.128Z"
   },
   {
    "duration": 4,
    "start_time": "2023-01-19T07:15:33.627Z"
   },
   {
    "duration": 6,
    "start_time": "2023-01-19T07:15:33.632Z"
   },
   {
    "duration": 10,
    "start_time": "2023-01-19T07:15:33.639Z"
   },
   {
    "duration": 39198,
    "start_time": "2023-01-19T07:15:33.650Z"
   },
   {
    "duration": 4,
    "start_time": "2023-01-19T07:16:12.850Z"
   },
   {
    "duration": 1441,
    "start_time": "2023-01-19T07:16:12.856Z"
   },
   {
    "duration": 47,
    "start_time": "2023-01-19T07:16:14.299Z"
   },
   {
    "duration": 296,
    "start_time": "2023-01-19T07:16:14.349Z"
   },
   {
    "duration": 64,
    "start_time": "2023-01-19T07:40:00.539Z"
   },
   {
    "duration": 56,
    "start_time": "2023-01-19T07:40:38.617Z"
   },
   {
    "duration": 66,
    "start_time": "2023-01-19T07:41:11.325Z"
   },
   {
    "duration": 3,
    "start_time": "2023-01-19T07:42:43.214Z"
   },
   {
    "duration": 55,
    "start_time": "2023-01-19T07:42:46.362Z"
   },
   {
    "duration": 4,
    "start_time": "2023-01-19T07:43:08.345Z"
   },
   {
    "duration": 5,
    "start_time": "2023-01-19T07:43:22.637Z"
   },
   {
    "duration": 4,
    "start_time": "2023-01-19T07:43:44.763Z"
   },
   {
    "duration": 4,
    "start_time": "2023-01-19T07:44:22.895Z"
   },
   {
    "duration": 93,
    "start_time": "2023-01-19T07:45:03.727Z"
   },
   {
    "duration": 79,
    "start_time": "2023-01-19T07:45:11.436Z"
   },
   {
    "duration": 68,
    "start_time": "2023-01-19T07:45:45.422Z"
   },
   {
    "duration": 23,
    "start_time": "2023-01-19T07:46:17.761Z"
   },
   {
    "duration": 27,
    "start_time": "2023-01-19T07:46:53.345Z"
   },
   {
    "duration": 104,
    "start_time": "2023-01-19T07:47:12.480Z"
   },
   {
    "duration": 3,
    "start_time": "2023-01-19T07:51:11.289Z"
   },
   {
    "duration": 1569,
    "start_time": "2023-01-19T07:51:13.128Z"
   },
   {
    "duration": 1492,
    "start_time": "2023-01-19T07:51:44.136Z"
   },
   {
    "duration": 3,
    "start_time": "2023-01-19T07:51:45.630Z"
   },
   {
    "duration": 911,
    "start_time": "2023-01-19T07:51:45.637Z"
   },
   {
    "duration": 1109,
    "start_time": "2023-01-19T07:51:46.550Z"
   },
   {
    "duration": 150,
    "start_time": "2023-01-19T07:51:47.662Z"
   },
   {
    "duration": 31,
    "start_time": "2023-01-19T07:51:47.813Z"
   },
   {
    "duration": 43,
    "start_time": "2023-01-19T07:51:47.845Z"
   },
   {
    "duration": 25,
    "start_time": "2023-01-19T07:51:47.890Z"
   },
   {
    "duration": 44,
    "start_time": "2023-01-19T07:51:47.917Z"
   },
   {
    "duration": 27,
    "start_time": "2023-01-19T07:51:47.962Z"
   },
   {
    "duration": 5518,
    "start_time": "2023-01-19T07:51:47.991Z"
   },
   {
    "duration": 19,
    "start_time": "2023-01-19T07:51:53.511Z"
   },
   {
    "duration": 15936,
    "start_time": "2023-01-19T07:51:53.539Z"
   },
   {
    "duration": 23,
    "start_time": "2023-01-19T07:52:09.478Z"
   },
   {
    "duration": 120,
    "start_time": "2023-01-19T07:52:09.503Z"
   },
   {
    "duration": 57,
    "start_time": "2023-01-19T07:52:09.625Z"
   },
   {
    "duration": 57,
    "start_time": "2023-01-19T07:52:09.684Z"
   },
   {
    "duration": 50,
    "start_time": "2023-01-19T07:52:09.743Z"
   },
   {
    "duration": 65,
    "start_time": "2023-01-19T07:52:09.795Z"
   },
   {
    "duration": 32,
    "start_time": "2023-01-19T07:52:09.862Z"
   },
   {
    "duration": 129,
    "start_time": "2023-01-19T07:52:09.896Z"
   },
   {
    "duration": 96,
    "start_time": "2023-01-19T07:52:10.026Z"
   },
   {
    "duration": 6,
    "start_time": "2023-01-19T07:52:10.125Z"
   },
   {
    "duration": 204,
    "start_time": "2023-01-19T07:52:10.137Z"
   },
   {
    "duration": 23,
    "start_time": "2023-01-19T07:52:10.343Z"
   },
   {
    "duration": 52,
    "start_time": "2023-01-19T07:52:10.368Z"
   },
   {
    "duration": 55,
    "start_time": "2023-01-19T07:52:10.422Z"
   },
   {
    "duration": 5,
    "start_time": "2023-01-19T07:52:10.480Z"
   },
   {
    "duration": 25,
    "start_time": "2023-01-19T07:52:10.486Z"
   },
   {
    "duration": 17,
    "start_time": "2023-01-19T07:52:10.512Z"
   },
   {
    "duration": 12,
    "start_time": "2023-01-19T07:52:10.531Z"
   },
   {
    "duration": 9,
    "start_time": "2023-01-19T07:52:10.545Z"
   },
   {
    "duration": 60106,
    "start_time": "2023-01-19T07:52:10.556Z"
   },
   {
    "duration": 3,
    "start_time": "2023-01-19T07:53:10.664Z"
   },
   {
    "duration": 11,
    "start_time": "2023-01-19T07:53:10.669Z"
   },
   {
    "duration": 12,
    "start_time": "2023-01-19T07:53:10.682Z"
   },
   {
    "duration": 2550,
    "start_time": "2023-01-19T07:53:10.696Z"
   },
   {
    "duration": 3,
    "start_time": "2023-01-19T07:53:13.248Z"
   },
   {
    "duration": 15,
    "start_time": "2023-01-19T07:53:13.252Z"
   },
   {
    "duration": 44082,
    "start_time": "2023-01-19T07:53:13.269Z"
   },
   {
    "duration": 83,
    "start_time": "2023-01-19T07:53:57.356Z"
   },
   {
    "duration": 1337,
    "start_time": "2023-01-19T07:53:57.440Z"
   },
   {
    "duration": 59,
    "start_time": "2023-01-19T07:53:58.780Z"
   },
   {
    "duration": 1615,
    "start_time": "2023-01-19T07:53:58.841Z"
   },
   {
    "duration": 1450,
    "start_time": "2023-01-19T07:56:57.668Z"
   },
   {
    "duration": 2,
    "start_time": "2023-01-19T07:56:59.120Z"
   },
   {
    "duration": 876,
    "start_time": "2023-01-19T07:56:59.124Z"
   },
   {
    "duration": 1056,
    "start_time": "2023-01-19T07:57:00.001Z"
   },
   {
    "duration": 140,
    "start_time": "2023-01-19T07:57:01.059Z"
   },
   {
    "duration": 37,
    "start_time": "2023-01-19T07:57:01.201Z"
   },
   {
    "duration": 37,
    "start_time": "2023-01-19T07:57:01.240Z"
   },
   {
    "duration": 44,
    "start_time": "2023-01-19T07:57:01.278Z"
   },
   {
    "duration": 44,
    "start_time": "2023-01-19T07:57:01.324Z"
   },
   {
    "duration": 22,
    "start_time": "2023-01-19T07:57:01.370Z"
   },
   {
    "duration": 5399,
    "start_time": "2023-01-19T07:57:01.395Z"
   },
   {
    "duration": 19,
    "start_time": "2023-01-19T07:57:06.796Z"
   },
   {
    "duration": 15720,
    "start_time": "2023-01-19T07:57:06.817Z"
   },
   {
    "duration": 23,
    "start_time": "2023-01-19T07:57:22.542Z"
   },
   {
    "duration": 137,
    "start_time": "2023-01-19T07:57:22.568Z"
   },
   {
    "duration": 58,
    "start_time": "2023-01-19T07:57:22.707Z"
   },
   {
    "duration": 56,
    "start_time": "2023-01-19T07:57:22.766Z"
   },
   {
    "duration": 61,
    "start_time": "2023-01-19T07:57:22.824Z"
   },
   {
    "duration": 53,
    "start_time": "2023-01-19T07:57:22.887Z"
   },
   {
    "duration": 38,
    "start_time": "2023-01-19T07:57:22.942Z"
   },
   {
    "duration": 56,
    "start_time": "2023-01-19T07:57:22.982Z"
   },
   {
    "duration": 100,
    "start_time": "2023-01-19T07:57:23.040Z"
   },
   {
    "duration": 3,
    "start_time": "2023-01-19T07:57:23.142Z"
   },
   {
    "duration": 223,
    "start_time": "2023-01-19T07:57:23.147Z"
   },
   {
    "duration": 27,
    "start_time": "2023-01-19T07:57:23.372Z"
   },
   {
    "duration": 5,
    "start_time": "2023-01-19T07:57:23.401Z"
   },
   {
    "duration": 70,
    "start_time": "2023-01-19T07:57:23.407Z"
   },
   {
    "duration": 4,
    "start_time": "2023-01-19T07:57:23.479Z"
   },
   {
    "duration": 10,
    "start_time": "2023-01-19T07:57:23.484Z"
   },
   {
    "duration": 15,
    "start_time": "2023-01-19T07:57:23.496Z"
   },
   {
    "duration": 11,
    "start_time": "2023-01-19T07:57:23.513Z"
   },
   {
    "duration": 13,
    "start_time": "2023-01-19T07:57:23.525Z"
   },
   {
    "duration": 58243,
    "start_time": "2023-01-19T07:57:23.540Z"
   },
   {
    "duration": 3,
    "start_time": "2023-01-19T07:58:21.784Z"
   },
   {
    "duration": 15,
    "start_time": "2023-01-19T07:58:21.788Z"
   },
   {
    "duration": 8,
    "start_time": "2023-01-19T07:58:21.805Z"
   },
   {
    "duration": 2492,
    "start_time": "2023-01-19T07:58:21.815Z"
   },
   {
    "duration": 3,
    "start_time": "2023-01-19T07:58:24.309Z"
   },
   {
    "duration": 8,
    "start_time": "2023-01-19T07:58:24.314Z"
   },
   {
    "duration": 46324,
    "start_time": "2023-01-19T07:58:24.324Z"
   },
   {
    "duration": 4,
    "start_time": "2023-01-19T07:59:10.652Z"
   },
   {
    "duration": 1381,
    "start_time": "2023-01-19T07:59:10.657Z"
   },
   {
    "duration": 100,
    "start_time": "2023-01-19T07:59:12.040Z"
   },
   {
    "duration": 152,
    "start_time": "2023-01-19T07:59:12.142Z"
   },
   {
    "duration": 126,
    "start_time": "2023-01-19T08:01:55.803Z"
   },
   {
    "duration": 1446,
    "start_time": "2023-01-19T08:05:32.709Z"
   },
   {
    "duration": 2,
    "start_time": "2023-01-19T08:05:34.157Z"
   },
   {
    "duration": 873,
    "start_time": "2023-01-19T08:05:34.161Z"
   },
   {
    "duration": 1074,
    "start_time": "2023-01-19T08:05:35.037Z"
   },
   {
    "duration": 142,
    "start_time": "2023-01-19T08:05:36.113Z"
   },
   {
    "duration": 13,
    "start_time": "2023-01-19T08:05:36.257Z"
   },
   {
    "duration": 37,
    "start_time": "2023-01-19T08:05:36.272Z"
   },
   {
    "duration": 19,
    "start_time": "2023-01-19T08:05:36.311Z"
   },
   {
    "duration": 22,
    "start_time": "2023-01-19T08:05:36.337Z"
   },
   {
    "duration": 23,
    "start_time": "2023-01-19T08:05:36.362Z"
   },
   {
    "duration": 5504,
    "start_time": "2023-01-19T08:05:36.386Z"
   },
   {
    "duration": 27,
    "start_time": "2023-01-19T08:05:41.892Z"
   },
   {
    "duration": 16661,
    "start_time": "2023-01-19T08:05:41.921Z"
   },
   {
    "duration": 19,
    "start_time": "2023-01-19T08:05:58.584Z"
   },
   {
    "duration": 105,
    "start_time": "2023-01-19T08:05:58.605Z"
   },
   {
    "duration": 58,
    "start_time": "2023-01-19T08:05:58.712Z"
   },
   {
    "duration": 46,
    "start_time": "2023-01-19T08:05:58.772Z"
   },
   {
    "duration": 54,
    "start_time": "2023-01-19T08:05:58.820Z"
   },
   {
    "duration": 44,
    "start_time": "2023-01-19T08:05:58.876Z"
   },
   {
    "duration": 44,
    "start_time": "2023-01-19T08:05:58.922Z"
   },
   {
    "duration": 47,
    "start_time": "2023-01-19T08:05:58.968Z"
   },
   {
    "duration": 120,
    "start_time": "2023-01-19T08:05:59.017Z"
   },
   {
    "duration": 3,
    "start_time": "2023-01-19T08:05:59.140Z"
   },
   {
    "duration": 201,
    "start_time": "2023-01-19T08:05:59.144Z"
   },
   {
    "duration": 24,
    "start_time": "2023-01-19T08:05:59.347Z"
   },
   {
    "duration": 4,
    "start_time": "2023-01-19T08:05:59.372Z"
   },
   {
    "duration": 69,
    "start_time": "2023-01-19T08:05:59.378Z"
   },
   {
    "duration": 4,
    "start_time": "2023-01-19T08:05:59.450Z"
   },
   {
    "duration": 10,
    "start_time": "2023-01-19T08:05:59.456Z"
   },
   {
    "duration": 11,
    "start_time": "2023-01-19T08:05:59.467Z"
   },
   {
    "duration": 11,
    "start_time": "2023-01-19T08:05:59.480Z"
   },
   {
    "duration": 6,
    "start_time": "2023-01-19T08:05:59.493Z"
   },
   {
    "duration": 58963,
    "start_time": "2023-01-19T08:05:59.501Z"
   },
   {
    "duration": 4,
    "start_time": "2023-01-19T08:06:58.466Z"
   },
   {
    "duration": 6,
    "start_time": "2023-01-19T08:06:58.471Z"
   },
   {
    "duration": 2454,
    "start_time": "2023-01-19T08:06:58.478Z"
   },
   {
    "duration": 3,
    "start_time": "2023-01-19T08:07:00.934Z"
   },
   {
    "duration": 60,
    "start_time": "2023-01-19T08:07:00.939Z"
   },
   {
    "duration": 174046,
    "start_time": "2023-01-19T08:07:01.000Z"
   },
   {
    "duration": 6,
    "start_time": "2023-01-19T08:09:55.047Z"
   },
   {
    "duration": 51,
    "start_time": "2023-01-19T08:09:55.054Z"
   },
   {
    "duration": 1343,
    "start_time": "2023-01-19T08:09:55.107Z"
   },
   {
    "duration": 1386,
    "start_time": "2023-01-19T08:09:56.452Z"
   },
   {
    "duration": 8,
    "start_time": "2023-01-19T08:09:57.840Z"
   },
   {
    "duration": 266,
    "start_time": "2023-01-19T08:09:57.851Z"
   },
   {
    "duration": 123,
    "start_time": "2023-01-19T08:09:58.119Z"
   },
   {
    "duration": 107,
    "start_time": "2023-01-19T08:14:17.445Z"
   },
   {
    "duration": 10,
    "start_time": "2023-01-19T08:14:46.799Z"
   },
   {
    "duration": 13,
    "start_time": "2023-01-19T08:15:48.135Z"
   },
   {
    "duration": 9,
    "start_time": "2023-01-19T08:16:02.912Z"
   },
   {
    "duration": 9,
    "start_time": "2023-01-19T08:16:27.978Z"
   },
   {
    "duration": 10,
    "start_time": "2023-01-19T08:18:21.838Z"
   },
   {
    "duration": 10,
    "start_time": "2023-01-19T08:21:10.995Z"
   },
   {
    "duration": 10,
    "start_time": "2023-01-19T08:23:20.728Z"
   },
   {
    "duration": 3,
    "start_time": "2023-01-19T08:23:33.552Z"
   },
   {
    "duration": 10,
    "start_time": "2023-01-19T08:23:39.001Z"
   },
   {
    "duration": 10,
    "start_time": "2023-01-19T08:24:16.480Z"
   },
   {
    "duration": 13,
    "start_time": "2023-01-19T08:24:29.048Z"
   },
   {
    "duration": 13,
    "start_time": "2023-01-19T08:24:52.281Z"
   },
   {
    "duration": 54,
    "start_time": "2023-01-19T08:29:03.147Z"
   },
   {
    "duration": 1530,
    "start_time": "2023-01-19T08:30:27.409Z"
   },
   {
    "duration": 3,
    "start_time": "2023-01-19T08:30:28.942Z"
   },
   {
    "duration": 982,
    "start_time": "2023-01-19T08:30:28.946Z"
   },
   {
    "duration": 1134,
    "start_time": "2023-01-19T08:30:29.931Z"
   },
   {
    "duration": 149,
    "start_time": "2023-01-19T08:30:31.067Z"
   },
   {
    "duration": 28,
    "start_time": "2023-01-19T08:30:31.217Z"
   },
   {
    "duration": 58,
    "start_time": "2023-01-19T08:30:31.247Z"
   },
   {
    "duration": 36,
    "start_time": "2023-01-19T08:30:31.308Z"
   },
   {
    "duration": 51,
    "start_time": "2023-01-19T08:30:31.347Z"
   },
   {
    "duration": 61,
    "start_time": "2023-01-19T08:30:31.401Z"
   },
   {
    "duration": 5481,
    "start_time": "2023-01-19T08:30:31.464Z"
   },
   {
    "duration": 19,
    "start_time": "2023-01-19T08:30:36.947Z"
   },
   {
    "duration": 15764,
    "start_time": "2023-01-19T08:30:36.968Z"
   },
   {
    "duration": 23,
    "start_time": "2023-01-19T08:30:52.734Z"
   },
   {
    "duration": 117,
    "start_time": "2023-01-19T08:30:52.759Z"
   },
   {
    "duration": 61,
    "start_time": "2023-01-19T08:30:52.877Z"
   },
   {
    "duration": 45,
    "start_time": "2023-01-19T08:30:52.939Z"
   },
   {
    "duration": 58,
    "start_time": "2023-01-19T08:30:52.986Z"
   },
   {
    "duration": 48,
    "start_time": "2023-01-19T08:30:53.046Z"
   },
   {
    "duration": 47,
    "start_time": "2023-01-19T08:30:53.096Z"
   },
   {
    "duration": 55,
    "start_time": "2023-01-19T08:30:53.145Z"
   },
   {
    "duration": 118,
    "start_time": "2023-01-19T08:30:53.202Z"
   },
   {
    "duration": 17,
    "start_time": "2023-01-19T08:30:53.322Z"
   },
   {
    "duration": 207,
    "start_time": "2023-01-19T08:30:53.341Z"
   },
   {
    "duration": 24,
    "start_time": "2023-01-19T08:30:53.550Z"
   },
   {
    "duration": 3,
    "start_time": "2023-01-19T08:30:53.576Z"
   },
   {
    "duration": 67,
    "start_time": "2023-01-19T08:30:53.580Z"
   },
   {
    "duration": 4,
    "start_time": "2023-01-19T08:30:53.650Z"
   },
   {
    "duration": 6,
    "start_time": "2023-01-19T08:30:53.656Z"
   },
   {
    "duration": 8,
    "start_time": "2023-01-19T08:30:53.664Z"
   },
   {
    "duration": 8,
    "start_time": "2023-01-19T08:30:53.674Z"
   },
   {
    "duration": 7,
    "start_time": "2023-01-19T08:30:53.683Z"
   },
   {
    "duration": 64436,
    "start_time": "2023-01-19T08:30:53.692Z"
   },
   {
    "duration": 6,
    "start_time": "2023-01-19T08:31:58.130Z"
   },
   {
    "duration": 19,
    "start_time": "2023-01-19T08:31:58.138Z"
   },
   {
    "duration": 2614,
    "start_time": "2023-01-19T08:31:58.159Z"
   },
   {
    "duration": 5,
    "start_time": "2023-01-19T08:32:00.775Z"
   },
   {
    "duration": 44,
    "start_time": "2023-01-19T08:32:00.781Z"
   },
   {
    "duration": 168223,
    "start_time": "2023-01-19T08:32:00.827Z"
   },
   {
    "duration": 4,
    "start_time": "2023-01-19T08:34:49.052Z"
   },
   {
    "duration": 3,
    "start_time": "2023-01-19T08:34:49.138Z"
   },
   {
    "duration": 1409,
    "start_time": "2023-01-19T08:34:49.143Z"
   },
   {
    "duration": 1321,
    "start_time": "2023-01-19T08:34:50.638Z"
   },
   {
    "duration": 79,
    "start_time": "2023-01-19T08:34:51.961Z"
   },
   {
    "duration": 158,
    "start_time": "2023-01-19T08:34:52.043Z"
   },
   {
    "duration": 46,
    "start_time": "2023-01-19T08:34:52.203Z"
   },
   {
    "duration": 2673,
    "start_time": "2023-01-19T08:34:52.251Z"
   },
   {
    "duration": 1533,
    "start_time": "2023-01-19T08:36:37.817Z"
   },
   {
    "duration": 3,
    "start_time": "2023-01-19T08:36:39.352Z"
   },
   {
    "duration": 930,
    "start_time": "2023-01-19T08:36:39.357Z"
   },
   {
    "duration": 1120,
    "start_time": "2023-01-19T08:36:40.289Z"
   },
   {
    "duration": 147,
    "start_time": "2023-01-19T08:36:41.412Z"
   },
   {
    "duration": 15,
    "start_time": "2023-01-19T08:36:41.561Z"
   },
   {
    "duration": 33,
    "start_time": "2023-01-19T08:36:41.578Z"
   },
   {
    "duration": 31,
    "start_time": "2023-01-19T08:36:41.613Z"
   },
   {
    "duration": 27,
    "start_time": "2023-01-19T08:36:41.646Z"
   },
   {
    "duration": 22,
    "start_time": "2023-01-19T08:36:41.675Z"
   },
   {
    "duration": 5387,
    "start_time": "2023-01-19T08:36:41.699Z"
   },
   {
    "duration": 20,
    "start_time": "2023-01-19T08:36:47.088Z"
   },
   {
    "duration": 15535,
    "start_time": "2023-01-19T08:36:47.110Z"
   },
   {
    "duration": 26,
    "start_time": "2023-01-19T08:37:02.650Z"
   },
   {
    "duration": 123,
    "start_time": "2023-01-19T08:37:02.678Z"
   },
   {
    "duration": 64,
    "start_time": "2023-01-19T08:37:02.803Z"
   },
   {
    "duration": 44,
    "start_time": "2023-01-19T08:37:02.869Z"
   },
   {
    "duration": 61,
    "start_time": "2023-01-19T08:37:02.916Z"
   },
   {
    "duration": 52,
    "start_time": "2023-01-19T08:37:02.979Z"
   },
   {
    "duration": 50,
    "start_time": "2023-01-19T08:37:03.033Z"
   },
   {
    "duration": 50,
    "start_time": "2023-01-19T08:37:03.085Z"
   },
   {
    "duration": 87,
    "start_time": "2023-01-19T08:37:03.137Z"
   },
   {
    "duration": 13,
    "start_time": "2023-01-19T08:37:03.226Z"
   },
   {
    "duration": 206,
    "start_time": "2023-01-19T08:37:03.240Z"
   },
   {
    "duration": 25,
    "start_time": "2023-01-19T08:37:03.448Z"
   },
   {
    "duration": 13,
    "start_time": "2023-01-19T08:37:03.475Z"
   },
   {
    "duration": 57,
    "start_time": "2023-01-19T08:37:03.490Z"
   },
   {
    "duration": 4,
    "start_time": "2023-01-19T08:37:03.550Z"
   },
   {
    "duration": 15,
    "start_time": "2023-01-19T08:37:03.556Z"
   },
   {
    "duration": 13,
    "start_time": "2023-01-19T08:37:03.573Z"
   },
   {
    "duration": 11,
    "start_time": "2023-01-19T08:37:03.588Z"
   },
   {
    "duration": 10,
    "start_time": "2023-01-19T08:37:03.600Z"
   },
   {
    "duration": 61672,
    "start_time": "2023-01-19T08:37:03.612Z"
   },
   {
    "duration": 4,
    "start_time": "2023-01-19T08:38:05.285Z"
   },
   {
    "duration": 14,
    "start_time": "2023-01-19T08:38:05.291Z"
   },
   {
    "duration": 2610,
    "start_time": "2023-01-19T08:38:05.307Z"
   },
   {
    "duration": 3,
    "start_time": "2023-01-19T08:38:07.919Z"
   },
   {
    "duration": 10,
    "start_time": "2023-01-19T08:38:07.923Z"
   },
   {
    "duration": 44814,
    "start_time": "2023-01-19T08:38:07.935Z"
   },
   {
    "duration": 3,
    "start_time": "2023-01-19T08:38:52.751Z"
   },
   {
    "duration": 9,
    "start_time": "2023-01-19T08:38:52.759Z"
   },
   {
    "duration": 1410,
    "start_time": "2023-01-19T08:38:52.837Z"
   },
   {
    "duration": 1399,
    "start_time": "2023-01-19T08:38:54.249Z"
   },
   {
    "duration": 9,
    "start_time": "2023-01-19T08:38:55.650Z"
   },
   {
    "duration": 237,
    "start_time": "2023-01-19T08:38:55.661Z"
   },
   {
    "duration": 54,
    "start_time": "2023-01-19T08:38:55.900Z"
   },
   {
    "duration": 2590,
    "start_time": "2023-01-19T08:38:55.956Z"
   },
   {
    "duration": 4,
    "start_time": "2023-01-19T08:39:29.967Z"
   },
   {
    "duration": 121,
    "start_time": "2023-01-19T08:43:23.971Z"
   },
   {
    "duration": 66,
    "start_time": "2023-01-19T08:43:32.891Z"
   },
   {
    "duration": 4,
    "start_time": "2023-01-19T08:43:40.167Z"
   },
   {
    "duration": 1443,
    "start_time": "2023-01-19T08:45:22.395Z"
   },
   {
    "duration": 4,
    "start_time": "2023-01-19T08:45:27.485Z"
   },
   {
    "duration": 11,
    "start_time": "2023-01-19T08:45:56.971Z"
   },
   {
    "duration": 5,
    "start_time": "2023-01-19T08:46:07.811Z"
   },
   {
    "duration": 10,
    "start_time": "2023-01-19T08:47:18.292Z"
   },
   {
    "duration": 12,
    "start_time": "2023-01-19T08:47:56.909Z"
   },
   {
    "duration": 13,
    "start_time": "2023-01-19T08:48:18.300Z"
   },
   {
    "duration": 10,
    "start_time": "2023-01-19T08:48:27.387Z"
   },
   {
    "duration": 11,
    "start_time": "2023-01-19T08:48:49.577Z"
   },
   {
    "duration": 1522,
    "start_time": "2023-01-19T09:08:41.171Z"
   },
   {
    "duration": 5,
    "start_time": "2023-01-19T09:08:42.695Z"
   },
   {
    "duration": 872,
    "start_time": "2023-01-19T09:08:42.702Z"
   },
   {
    "duration": 1084,
    "start_time": "2023-01-19T09:08:43.577Z"
   },
   {
    "duration": 146,
    "start_time": "2023-01-19T09:08:44.662Z"
   },
   {
    "duration": 30,
    "start_time": "2023-01-19T09:08:44.811Z"
   },
   {
    "duration": 29,
    "start_time": "2023-01-19T09:08:44.844Z"
   },
   {
    "duration": 24,
    "start_time": "2023-01-19T09:08:44.875Z"
   },
   {
    "duration": 32,
    "start_time": "2023-01-19T09:08:44.901Z"
   },
   {
    "duration": 22,
    "start_time": "2023-01-19T09:08:44.937Z"
   },
   {
    "duration": 5410,
    "start_time": "2023-01-19T09:08:44.961Z"
   },
   {
    "duration": 19,
    "start_time": "2023-01-19T09:08:50.373Z"
   },
   {
    "duration": 15586,
    "start_time": "2023-01-19T09:08:50.393Z"
   },
   {
    "duration": 26,
    "start_time": "2023-01-19T09:09:05.981Z"
   },
   {
    "duration": 119,
    "start_time": "2023-01-19T09:09:06.009Z"
   },
   {
    "duration": 52,
    "start_time": "2023-01-19T09:09:06.131Z"
   },
   {
    "duration": 60,
    "start_time": "2023-01-19T09:09:06.185Z"
   },
   {
    "duration": 84,
    "start_time": "2023-01-19T09:09:06.247Z"
   },
   {
    "duration": 70,
    "start_time": "2023-01-19T09:09:06.333Z"
   },
   {
    "duration": 34,
    "start_time": "2023-01-19T09:09:06.405Z"
   },
   {
    "duration": 56,
    "start_time": "2023-01-19T09:09:06.440Z"
   },
   {
    "duration": 114,
    "start_time": "2023-01-19T09:09:06.498Z"
   },
   {
    "duration": 20,
    "start_time": "2023-01-19T09:09:06.615Z"
   },
   {
    "duration": 215,
    "start_time": "2023-01-19T09:09:06.637Z"
   },
   {
    "duration": 23,
    "start_time": "2023-01-19T09:09:06.854Z"
   },
   {
    "duration": 5,
    "start_time": "2023-01-19T09:09:06.879Z"
   },
   {
    "duration": 68,
    "start_time": "2023-01-19T09:09:06.885Z"
   },
   {
    "duration": 4,
    "start_time": "2023-01-19T09:09:06.957Z"
   },
   {
    "duration": 19,
    "start_time": "2023-01-19T09:09:06.963Z"
   },
   {
    "duration": 16,
    "start_time": "2023-01-19T09:09:06.983Z"
   },
   {
    "duration": 11,
    "start_time": "2023-01-19T09:09:07.001Z"
   },
   {
    "duration": 7,
    "start_time": "2023-01-19T09:09:07.014Z"
   },
   {
    "duration": 58585,
    "start_time": "2023-01-19T09:09:07.023Z"
   },
   {
    "duration": 4,
    "start_time": "2023-01-19T09:10:05.610Z"
   },
   {
    "duration": 20,
    "start_time": "2023-01-19T09:10:05.615Z"
   },
   {
    "duration": 2662,
    "start_time": "2023-01-19T09:10:05.637Z"
   },
   {
    "duration": 4,
    "start_time": "2023-01-19T09:10:08.301Z"
   },
   {
    "duration": 10,
    "start_time": "2023-01-19T09:10:08.307Z"
   },
   {
    "duration": 1459,
    "start_time": "2023-01-19T09:10:59.309Z"
   },
   {
    "duration": 3,
    "start_time": "2023-01-19T09:11:00.771Z"
   },
   {
    "duration": 943,
    "start_time": "2023-01-19T09:11:00.776Z"
   },
   {
    "duration": 1168,
    "start_time": "2023-01-19T09:11:01.720Z"
   },
   {
    "duration": 152,
    "start_time": "2023-01-19T09:11:02.891Z"
   },
   {
    "duration": 17,
    "start_time": "2023-01-19T09:11:03.044Z"
   },
   {
    "duration": 33,
    "start_time": "2023-01-19T09:11:03.064Z"
   },
   {
    "duration": 26,
    "start_time": "2023-01-19T09:11:03.099Z"
   },
   {
    "duration": 77377,
    "start_time": "2023-01-19T09:11:03.127Z"
   },
   {
    "duration": 22,
    "start_time": "2023-01-19T09:12:20.508Z"
   },
   {
    "duration": 48,
    "start_time": "2023-01-19T09:12:20.532Z"
   },
   {
    "duration": 6266,
    "start_time": "2023-01-19T09:12:20.582Z"
   },
   {
    "duration": 19,
    "start_time": "2023-01-19T09:12:26.850Z"
   },
   {
    "duration": 17100,
    "start_time": "2023-01-19T09:12:26.872Z"
   },
   {
    "duration": 20,
    "start_time": "2023-01-19T09:12:43.974Z"
   },
   {
    "duration": 96,
    "start_time": "2023-01-19T09:12:43.995Z"
   },
   {
    "duration": 49,
    "start_time": "2023-01-19T09:12:44.093Z"
   },
   {
    "duration": 38,
    "start_time": "2023-01-19T09:12:44.144Z"
   },
   {
    "duration": 58,
    "start_time": "2023-01-19T09:12:44.184Z"
   },
   {
    "duration": 37,
    "start_time": "2023-01-19T09:12:44.244Z"
   },
   {
    "duration": 35,
    "start_time": "2023-01-19T09:12:44.282Z"
   },
   {
    "duration": 52,
    "start_time": "2023-01-19T09:12:44.319Z"
   },
   {
    "duration": 90,
    "start_time": "2023-01-19T09:12:44.372Z"
   },
   {
    "duration": 6,
    "start_time": "2023-01-19T09:12:44.464Z"
   },
   {
    "duration": 184,
    "start_time": "2023-01-19T09:12:44.472Z"
   },
   {
    "duration": 23,
    "start_time": "2023-01-19T09:12:44.658Z"
   },
   {
    "duration": 5,
    "start_time": "2023-01-19T09:12:44.683Z"
   },
   {
    "duration": 64,
    "start_time": "2023-01-19T09:12:44.689Z"
   },
   {
    "duration": 4,
    "start_time": "2023-01-19T09:12:44.755Z"
   },
   {
    "duration": 17,
    "start_time": "2023-01-19T09:12:44.760Z"
   },
   {
    "duration": 14,
    "start_time": "2023-01-19T09:12:44.779Z"
   },
   {
    "duration": 8,
    "start_time": "2023-01-19T09:12:44.795Z"
   },
   {
    "duration": 11,
    "start_time": "2023-01-19T09:12:44.805Z"
   },
   {
    "duration": 61349,
    "start_time": "2023-01-19T09:12:44.817Z"
   },
   {
    "duration": 5,
    "start_time": "2023-01-19T09:13:46.168Z"
   },
   {
    "duration": 14,
    "start_time": "2023-01-19T09:13:46.175Z"
   },
   {
    "duration": 2555,
    "start_time": "2023-01-19T09:13:46.191Z"
   },
   {
    "duration": 3,
    "start_time": "2023-01-19T09:13:48.748Z"
   },
   {
    "duration": 16,
    "start_time": "2023-01-19T09:13:48.753Z"
   },
   {
    "duration": 1602,
    "start_time": "2023-01-19T12:31:58.469Z"
   },
   {
    "duration": 3,
    "start_time": "2023-01-19T12:32:00.073Z"
   },
   {
    "duration": 1048,
    "start_time": "2023-01-19T12:32:00.077Z"
   },
   {
    "duration": 1121,
    "start_time": "2023-01-19T12:32:01.127Z"
   },
   {
    "duration": 156,
    "start_time": "2023-01-19T12:32:02.250Z"
   },
   {
    "duration": 45,
    "start_time": "2023-01-19T12:32:02.408Z"
   },
   {
    "duration": 66,
    "start_time": "2023-01-19T12:32:02.457Z"
   },
   {
    "duration": 44,
    "start_time": "2023-01-19T12:32:02.525Z"
   },
   {
    "duration": 78981,
    "start_time": "2023-01-19T12:32:02.571Z"
   },
   {
    "duration": 17,
    "start_time": "2023-01-19T12:33:21.555Z"
   },
   {
    "duration": 25,
    "start_time": "2023-01-19T12:33:21.574Z"
   },
   {
    "duration": 5627,
    "start_time": "2023-01-19T12:33:21.601Z"
   },
   {
    "duration": 28,
    "start_time": "2023-01-19T12:33:27.230Z"
   },
   {
    "duration": 16891,
    "start_time": "2023-01-19T12:33:27.260Z"
   },
   {
    "duration": 20,
    "start_time": "2023-01-19T12:33:44.153Z"
   },
   {
    "duration": 114,
    "start_time": "2023-01-19T12:33:44.175Z"
   },
   {
    "duration": 49,
    "start_time": "2023-01-19T12:33:44.291Z"
   },
   {
    "duration": 40,
    "start_time": "2023-01-19T12:33:44.353Z"
   },
   {
    "duration": 53,
    "start_time": "2023-01-19T12:33:44.396Z"
   },
   {
    "duration": 50,
    "start_time": "2023-01-19T12:33:44.451Z"
   },
   {
    "duration": 43,
    "start_time": "2023-01-19T12:33:44.503Z"
   },
   {
    "duration": 58,
    "start_time": "2023-01-19T12:33:44.547Z"
   },
   {
    "duration": 98,
    "start_time": "2023-01-19T12:33:44.607Z"
   },
   {
    "duration": 7,
    "start_time": "2023-01-19T12:33:44.707Z"
   },
   {
    "duration": 221,
    "start_time": "2023-01-19T12:33:44.715Z"
   },
   {
    "duration": 25,
    "start_time": "2023-01-19T12:33:44.951Z"
   },
   {
    "duration": 4,
    "start_time": "2023-01-19T12:33:44.978Z"
   },
   {
    "duration": 46,
    "start_time": "2023-01-19T12:33:44.985Z"
   },
   {
    "duration": 9,
    "start_time": "2023-01-19T12:33:45.033Z"
   },
   {
    "duration": 31,
    "start_time": "2023-01-19T12:33:45.043Z"
   },
   {
    "duration": 9,
    "start_time": "2023-01-19T12:33:45.076Z"
   },
   {
    "duration": 11,
    "start_time": "2023-01-19T12:33:45.087Z"
   },
   {
    "duration": 11,
    "start_time": "2023-01-19T12:33:45.099Z"
   },
   {
    "duration": 65285,
    "start_time": "2023-01-19T12:33:45.111Z"
   },
   {
    "duration": 4,
    "start_time": "2023-01-19T12:34:50.397Z"
   },
   {
    "duration": 10,
    "start_time": "2023-01-19T12:34:50.403Z"
   },
   {
    "duration": 2881,
    "start_time": "2023-01-19T12:34:50.415Z"
   },
   {
    "duration": 4,
    "start_time": "2023-01-19T12:34:53.297Z"
   },
   {
    "duration": 10,
    "start_time": "2023-01-19T12:34:53.302Z"
   },
   {
    "duration": 848436,
    "start_time": "2023-01-19T12:34:53.313Z"
   },
   {
    "duration": 7,
    "start_time": "2023-01-19T12:49:01.751Z"
   },
   {
    "duration": 64,
    "start_time": "2023-01-19T12:49:01.760Z"
   },
   {
    "duration": 40846,
    "start_time": "2023-01-19T12:49:01.826Z"
   },
   {
    "duration": 1505,
    "start_time": "2023-01-19T12:49:42.674Z"
   },
   {
    "duration": 80,
    "start_time": "2023-01-19T12:49:44.182Z"
   },
   {
    "duration": 81,
    "start_time": "2023-01-19T12:49:44.337Z"
   },
   {
    "duration": 128,
    "start_time": "2023-01-19T12:49:44.420Z"
   },
   {
    "duration": 2919,
    "start_time": "2023-01-19T12:49:44.550Z"
   },
   {
    "duration": 87,
    "start_time": "2023-01-19T12:49:47.471Z"
   },
   {
    "duration": 32584,
    "start_time": "2023-01-19T12:49:47.560Z"
   },
   {
    "duration": 11,
    "start_time": "2023-01-19T12:50:20.149Z"
   },
   {
    "duration": 46,
    "start_time": "2023-01-19T17:49:17.764Z"
   },
   {
    "duration": 1653,
    "start_time": "2023-01-19T17:49:29.487Z"
   },
   {
    "duration": 3,
    "start_time": "2023-01-19T17:49:31.142Z"
   },
   {
    "duration": 2959,
    "start_time": "2023-01-19T17:49:31.146Z"
   },
   {
    "duration": 1097,
    "start_time": "2023-01-19T17:49:34.107Z"
   },
   {
    "duration": 142,
    "start_time": "2023-01-19T17:49:35.206Z"
   },
   {
    "duration": 27,
    "start_time": "2023-01-19T17:49:35.350Z"
   },
   {
    "duration": 24,
    "start_time": "2023-01-19T17:49:35.379Z"
   },
   {
    "duration": 23,
    "start_time": "2023-01-19T17:49:35.405Z"
   },
   {
    "duration": 74615,
    "start_time": "2023-01-19T17:49:35.429Z"
   },
   {
    "duration": 17,
    "start_time": "2023-01-19T17:50:50.046Z"
   },
   {
    "duration": 19,
    "start_time": "2023-01-19T17:50:50.065Z"
   },
   {
    "duration": 5630,
    "start_time": "2023-01-19T17:50:50.086Z"
   },
   {
    "duration": 17,
    "start_time": "2023-01-19T17:50:55.717Z"
   },
   {
    "duration": 16527,
    "start_time": "2023-01-19T17:50:55.736Z"
   },
   {
    "duration": 19,
    "start_time": "2023-01-19T17:51:12.266Z"
   },
   {
    "duration": 130,
    "start_time": "2023-01-19T17:51:12.287Z"
   },
   {
    "duration": 75,
    "start_time": "2023-01-19T17:51:12.419Z"
   },
   {
    "duration": 59,
    "start_time": "2023-01-19T17:51:12.496Z"
   },
   {
    "duration": 93,
    "start_time": "2023-01-19T17:51:12.557Z"
   },
   {
    "duration": 89,
    "start_time": "2023-01-19T17:51:12.652Z"
   },
   {
    "duration": 33,
    "start_time": "2023-01-19T17:51:12.743Z"
   },
   {
    "duration": 53,
    "start_time": "2023-01-19T17:51:12.778Z"
   },
   {
    "duration": 97,
    "start_time": "2023-01-19T17:51:12.832Z"
   },
   {
    "duration": 18,
    "start_time": "2023-01-19T17:51:12.933Z"
   },
   {
    "duration": 223,
    "start_time": "2023-01-19T17:51:12.952Z"
   },
   {
    "duration": 37,
    "start_time": "2023-01-19T17:51:13.178Z"
   },
   {
    "duration": 7,
    "start_time": "2023-01-19T17:51:13.217Z"
   },
   {
    "duration": 68,
    "start_time": "2023-01-19T17:51:13.226Z"
   },
   {
    "duration": 4,
    "start_time": "2023-01-19T17:51:13.296Z"
   },
   {
    "duration": 44,
    "start_time": "2023-01-19T17:51:13.302Z"
   },
   {
    "duration": 48,
    "start_time": "2023-01-19T17:51:13.349Z"
   },
   {
    "duration": 23,
    "start_time": "2023-01-19T17:51:13.400Z"
   },
   {
    "duration": 19,
    "start_time": "2023-01-19T17:51:13.426Z"
   },
   {
    "duration": 60038,
    "start_time": "2023-01-19T17:51:13.448Z"
   },
   {
    "duration": 4,
    "start_time": "2023-01-19T17:52:13.488Z"
   },
   {
    "duration": 6,
    "start_time": "2023-01-19T17:52:13.494Z"
   },
   {
    "duration": 2500,
    "start_time": "2023-01-19T17:52:13.502Z"
   },
   {
    "duration": 3,
    "start_time": "2023-01-19T17:52:16.003Z"
   },
   {
    "duration": 19,
    "start_time": "2023-01-19T17:52:16.008Z"
   },
   {
    "duration": 607257,
    "start_time": "2023-01-19T17:52:16.029Z"
   },
   {
    "duration": 10,
    "start_time": "2023-01-19T18:02:23.290Z"
   },
   {
    "duration": 0,
    "start_time": "2023-01-19T18:02:23.301Z"
   },
   {
    "duration": 0,
    "start_time": "2023-01-19T18:02:23.302Z"
   },
   {
    "duration": 0,
    "start_time": "2023-01-19T18:02:23.304Z"
   },
   {
    "duration": 0,
    "start_time": "2023-01-19T18:02:23.305Z"
   },
   {
    "duration": 0,
    "start_time": "2023-01-19T18:02:23.306Z"
   },
   {
    "duration": 0,
    "start_time": "2023-01-19T18:02:23.307Z"
   },
   {
    "duration": 0,
    "start_time": "2023-01-19T18:02:23.308Z"
   },
   {
    "duration": 0,
    "start_time": "2023-01-19T18:02:23.310Z"
   },
   {
    "duration": 0,
    "start_time": "2023-01-19T18:02:23.311Z"
   },
   {
    "duration": 0,
    "start_time": "2023-01-19T18:02:23.312Z"
   },
   {
    "duration": 1601,
    "start_time": "2023-01-20T06:30:54.666Z"
   },
   {
    "duration": 3,
    "start_time": "2023-01-20T06:30:56.269Z"
   },
   {
    "duration": 3015,
    "start_time": "2023-01-20T06:30:56.274Z"
   },
   {
    "duration": 1019,
    "start_time": "2023-01-20T06:30:59.292Z"
   },
   {
    "duration": 127,
    "start_time": "2023-01-20T06:31:00.313Z"
   },
   {
    "duration": 32,
    "start_time": "2023-01-20T06:31:00.442Z"
   },
   {
    "duration": 60,
    "start_time": "2023-01-20T06:31:00.476Z"
   },
   {
    "duration": 54,
    "start_time": "2023-01-20T06:31:00.538Z"
   },
   {
    "duration": 74944,
    "start_time": "2023-01-20T06:31:00.594Z"
   },
   {
    "duration": 19,
    "start_time": "2023-01-20T06:32:15.561Z"
   },
   {
    "duration": 32,
    "start_time": "2023-01-20T06:32:15.582Z"
   },
   {
    "duration": 4583,
    "start_time": "2023-01-20T06:32:15.616Z"
   },
   {
    "duration": 0,
    "start_time": "2023-01-20T06:32:20.202Z"
   },
   {
    "duration": 0,
    "start_time": "2023-01-20T06:32:20.204Z"
   },
   {
    "duration": 0,
    "start_time": "2023-01-20T06:32:20.206Z"
   },
   {
    "duration": 0,
    "start_time": "2023-01-20T06:32:20.208Z"
   },
   {
    "duration": 0,
    "start_time": "2023-01-20T06:32:20.210Z"
   },
   {
    "duration": 0,
    "start_time": "2023-01-20T06:32:20.211Z"
   },
   {
    "duration": 0,
    "start_time": "2023-01-20T06:32:20.212Z"
   },
   {
    "duration": 0,
    "start_time": "2023-01-20T06:32:20.214Z"
   },
   {
    "duration": 0,
    "start_time": "2023-01-20T06:32:20.215Z"
   },
   {
    "duration": 0,
    "start_time": "2023-01-20T06:32:20.216Z"
   },
   {
    "duration": 0,
    "start_time": "2023-01-20T06:32:20.217Z"
   },
   {
    "duration": 0,
    "start_time": "2023-01-20T06:32:20.219Z"
   },
   {
    "duration": 0,
    "start_time": "2023-01-20T06:32:20.220Z"
   },
   {
    "duration": 0,
    "start_time": "2023-01-20T06:32:20.222Z"
   },
   {
    "duration": 0,
    "start_time": "2023-01-20T06:32:20.223Z"
   },
   {
    "duration": 0,
    "start_time": "2023-01-20T06:32:20.224Z"
   },
   {
    "duration": 0,
    "start_time": "2023-01-20T06:32:20.226Z"
   },
   {
    "duration": 0,
    "start_time": "2023-01-20T06:32:20.227Z"
   },
   {
    "duration": 0,
    "start_time": "2023-01-20T06:32:20.228Z"
   },
   {
    "duration": 0,
    "start_time": "2023-01-20T06:32:20.229Z"
   },
   {
    "duration": 0,
    "start_time": "2023-01-20T06:32:20.230Z"
   },
   {
    "duration": 0,
    "start_time": "2023-01-20T06:32:20.231Z"
   },
   {
    "duration": 0,
    "start_time": "2023-01-20T06:32:20.232Z"
   },
   {
    "duration": 0,
    "start_time": "2023-01-20T06:32:20.234Z"
   },
   {
    "duration": 0,
    "start_time": "2023-01-20T06:32:20.235Z"
   },
   {
    "duration": 0,
    "start_time": "2023-01-20T06:32:20.236Z"
   },
   {
    "duration": 0,
    "start_time": "2023-01-20T06:32:20.237Z"
   },
   {
    "duration": 0,
    "start_time": "2023-01-20T06:32:20.238Z"
   },
   {
    "duration": 0,
    "start_time": "2023-01-20T06:32:20.239Z"
   },
   {
    "duration": 0,
    "start_time": "2023-01-20T06:32:20.240Z"
   },
   {
    "duration": 0,
    "start_time": "2023-01-20T06:32:20.241Z"
   },
   {
    "duration": 0,
    "start_time": "2023-01-20T06:32:20.243Z"
   },
   {
    "duration": 0,
    "start_time": "2023-01-20T06:32:20.244Z"
   },
   {
    "duration": 0,
    "start_time": "2023-01-20T06:32:20.245Z"
   },
   {
    "duration": 0,
    "start_time": "2023-01-20T06:32:20.246Z"
   },
   {
    "duration": 0,
    "start_time": "2023-01-20T06:32:20.247Z"
   },
   {
    "duration": 0,
    "start_time": "2023-01-20T06:32:20.248Z"
   },
   {
    "duration": 0,
    "start_time": "2023-01-20T06:32:20.249Z"
   },
   {
    "duration": 0,
    "start_time": "2023-01-20T06:32:20.250Z"
   },
   {
    "duration": 1421,
    "start_time": "2023-01-20T06:34:58.496Z"
   },
   {
    "duration": 4,
    "start_time": "2023-01-20T06:34:59.919Z"
   },
   {
    "duration": 798,
    "start_time": "2023-01-20T06:34:59.924Z"
   },
   {
    "duration": 463,
    "start_time": "2023-01-20T06:35:00.725Z"
   },
   {
    "duration": 120,
    "start_time": "2023-01-20T06:35:01.190Z"
   },
   {
    "duration": 38,
    "start_time": "2023-01-20T06:35:01.311Z"
   },
   {
    "duration": 29,
    "start_time": "2023-01-20T06:35:01.352Z"
   },
   {
    "duration": 52,
    "start_time": "2023-01-20T06:35:01.383Z"
   },
   {
    "duration": 74406,
    "start_time": "2023-01-20T06:35:01.437Z"
   },
   {
    "duration": 19,
    "start_time": "2023-01-20T06:36:15.846Z"
   },
   {
    "duration": 23,
    "start_time": "2023-01-20T06:36:15.866Z"
   },
   {
    "duration": 5469,
    "start_time": "2023-01-20T06:36:15.890Z"
   },
   {
    "duration": 19,
    "start_time": "2023-01-20T06:36:21.361Z"
   },
   {
    "duration": 15948,
    "start_time": "2023-01-20T06:36:21.382Z"
   },
   {
    "duration": 20,
    "start_time": "2023-01-20T06:36:37.331Z"
   },
   {
    "duration": 88,
    "start_time": "2023-01-20T06:36:37.353Z"
   },
   {
    "duration": 44,
    "start_time": "2023-01-20T06:36:37.442Z"
   },
   {
    "duration": 54,
    "start_time": "2023-01-20T06:36:37.488Z"
   },
   {
    "duration": 60,
    "start_time": "2023-01-20T06:36:37.544Z"
   },
   {
    "duration": 55,
    "start_time": "2023-01-20T06:36:37.605Z"
   },
   {
    "duration": 51,
    "start_time": "2023-01-20T06:36:37.662Z"
   },
   {
    "duration": 62,
    "start_time": "2023-01-20T06:36:37.715Z"
   },
   {
    "duration": 70,
    "start_time": "2023-01-20T06:36:37.778Z"
   },
   {
    "duration": 21,
    "start_time": "2023-01-20T06:36:37.850Z"
   },
   {
    "duration": 207,
    "start_time": "2023-01-20T06:36:37.873Z"
   },
   {
    "duration": 24,
    "start_time": "2023-01-20T06:36:38.082Z"
   },
   {
    "duration": 18,
    "start_time": "2023-01-20T06:36:38.108Z"
   },
   {
    "duration": 58,
    "start_time": "2023-01-20T06:36:38.130Z"
   },
   {
    "duration": 4,
    "start_time": "2023-01-20T06:36:38.190Z"
   },
   {
    "duration": 23,
    "start_time": "2023-01-20T06:36:38.195Z"
   },
   {
    "duration": 52,
    "start_time": "2023-01-20T06:36:38.220Z"
   },
   {
    "duration": 41,
    "start_time": "2023-01-20T06:36:38.275Z"
   },
   {
    "duration": 36,
    "start_time": "2023-01-20T06:36:38.319Z"
   },
   {
    "duration": 58790,
    "start_time": "2023-01-20T06:36:38.358Z"
   },
   {
    "duration": 4,
    "start_time": "2023-01-20T06:37:37.150Z"
   },
   {
    "duration": 8,
    "start_time": "2023-01-20T06:37:37.155Z"
   },
   {
    "duration": 2536,
    "start_time": "2023-01-20T06:37:37.164Z"
   },
   {
    "duration": 3,
    "start_time": "2023-01-20T06:37:39.702Z"
   },
   {
    "duration": 8,
    "start_time": "2023-01-20T06:37:39.707Z"
   },
   {
    "duration": 39929,
    "start_time": "2023-01-20T06:37:39.716Z"
   },
   {
    "duration": 4,
    "start_time": "2023-01-20T06:38:19.646Z"
   },
   {
    "duration": 16,
    "start_time": "2023-01-20T06:38:19.652Z"
   },
   {
    "duration": 1573,
    "start_time": "2023-01-20T06:38:19.669Z"
   },
   {
    "duration": 1294,
    "start_time": "2023-01-20T06:38:21.244Z"
   },
   {
    "duration": 11,
    "start_time": "2023-01-20T06:38:22.541Z"
   },
   {
    "duration": 235,
    "start_time": "2023-01-20T06:38:22.554Z"
   },
   {
    "duration": 61,
    "start_time": "2023-01-20T06:38:22.791Z"
   },
   {
    "duration": 2629,
    "start_time": "2023-01-20T06:38:22.854Z"
   },
   {
    "duration": 151,
    "start_time": "2023-01-20T06:38:25.485Z"
   },
   {
    "duration": 1405,
    "start_time": "2023-01-20T06:38:25.638Z"
   },
   {
    "duration": 11,
    "start_time": "2023-01-20T06:38:27.045Z"
   },
   {
    "duration": 870,
    "start_time": "2023-01-20T06:42:42.413Z"
   },
   {
    "duration": 4,
    "start_time": "2023-01-20T06:42:50.766Z"
   },
   {
    "duration": 3,
    "start_time": "2023-01-20T06:42:51.214Z"
   },
   {
    "duration": 772,
    "start_time": "2023-01-20T06:42:52.100Z"
   },
   {
    "duration": 427,
    "start_time": "2023-01-20T06:42:53.246Z"
   },
   {
    "duration": 121,
    "start_time": "2023-01-20T06:42:56.596Z"
   },
   {
    "duration": 16,
    "start_time": "2023-01-20T06:42:57.382Z"
   },
   {
    "duration": 5,
    "start_time": "2023-01-20T06:42:58.965Z"
   },
   {
    "duration": 7,
    "start_time": "2023-01-20T06:43:12.349Z"
   },
   {
    "duration": 11,
    "start_time": "2023-01-20T06:44:04.897Z"
   },
   {
    "duration": 11,
    "start_time": "2023-01-20T06:44:12.934Z"
   },
   {
    "duration": 32,
    "start_time": "2023-01-20T06:44:26.144Z"
   },
   {
    "duration": 1371,
    "start_time": "2023-01-20T06:50:27.562Z"
   },
   {
    "duration": 1545,
    "start_time": "2023-01-20T06:51:00.530Z"
   },
   {
    "duration": 3,
    "start_time": "2023-01-20T06:51:02.077Z"
   },
   {
    "duration": 880,
    "start_time": "2023-01-20T06:51:02.082Z"
   },
   {
    "duration": 1735,
    "start_time": "2023-01-20T06:51:02.964Z"
   },
   {
    "duration": 123,
    "start_time": "2023-01-20T06:51:04.701Z"
   },
   {
    "duration": 23,
    "start_time": "2023-01-20T06:51:04.826Z"
   },
   {
    "duration": 33,
    "start_time": "2023-01-20T06:51:04.850Z"
   },
   {
    "duration": 19,
    "start_time": "2023-01-20T06:51:04.884Z"
   },
   {
    "duration": 32,
    "start_time": "2023-01-20T06:51:04.904Z"
   },
   {
    "duration": 80989,
    "start_time": "2023-01-20T06:51:04.938Z"
   },
   {
    "duration": 19,
    "start_time": "2023-01-20T06:52:25.929Z"
   },
   {
    "duration": 21,
    "start_time": "2023-01-20T06:52:25.949Z"
   },
   {
    "duration": 5746,
    "start_time": "2023-01-20T06:52:25.972Z"
   },
   {
    "duration": 25,
    "start_time": "2023-01-20T06:52:31.720Z"
   },
   {
    "duration": 15665,
    "start_time": "2023-01-20T06:52:31.746Z"
   },
   {
    "duration": 27,
    "start_time": "2023-01-20T06:52:47.413Z"
   },
   {
    "duration": 94,
    "start_time": "2023-01-20T06:52:47.442Z"
   },
   {
    "duration": 37,
    "start_time": "2023-01-20T06:52:47.538Z"
   },
   {
    "duration": 64,
    "start_time": "2023-01-20T06:52:47.577Z"
   },
   {
    "duration": 57,
    "start_time": "2023-01-20T06:52:47.643Z"
   },
   {
    "duration": 41,
    "start_time": "2023-01-20T06:52:47.702Z"
   },
   {
    "duration": 49,
    "start_time": "2023-01-20T06:52:47.746Z"
   },
   {
    "duration": 45,
    "start_time": "2023-01-20T06:52:47.797Z"
   },
   {
    "duration": 71,
    "start_time": "2023-01-20T06:52:47.844Z"
   },
   {
    "duration": 22,
    "start_time": "2023-01-20T06:52:47.917Z"
   },
   {
    "duration": 180,
    "start_time": "2023-01-20T06:52:47.942Z"
   },
   {
    "duration": 27,
    "start_time": "2023-01-20T06:52:48.124Z"
   },
   {
    "duration": 4,
    "start_time": "2023-01-20T06:52:48.156Z"
   },
   {
    "duration": 75,
    "start_time": "2023-01-20T06:52:48.162Z"
   },
   {
    "duration": 5,
    "start_time": "2023-01-20T06:52:48.240Z"
   },
   {
    "duration": 30,
    "start_time": "2023-01-20T06:52:48.247Z"
   },
   {
    "duration": 18,
    "start_time": "2023-01-20T06:52:48.280Z"
   },
   {
    "duration": 25,
    "start_time": "2023-01-20T06:52:48.301Z"
   },
   {
    "duration": 21,
    "start_time": "2023-01-20T06:52:48.328Z"
   },
   {
    "duration": 59193,
    "start_time": "2023-01-20T06:52:48.352Z"
   },
   {
    "duration": 4,
    "start_time": "2023-01-20T06:53:47.546Z"
   },
   {
    "duration": 5,
    "start_time": "2023-01-20T06:53:47.551Z"
   },
   {
    "duration": 2608,
    "start_time": "2023-01-20T06:53:47.557Z"
   },
   {
    "duration": 4,
    "start_time": "2023-01-20T06:53:50.167Z"
   },
   {
    "duration": 7,
    "start_time": "2023-01-20T06:53:50.173Z"
   },
   {
    "duration": 46465,
    "start_time": "2023-01-20T06:53:50.182Z"
   },
   {
    "duration": 91,
    "start_time": "2023-01-20T06:54:36.649Z"
   },
   {
    "duration": 4,
    "start_time": "2023-01-20T06:54:36.742Z"
   },
   {
    "duration": 2499,
    "start_time": "2023-01-20T06:54:36.748Z"
   },
   {
    "duration": 1333,
    "start_time": "2023-01-20T06:54:39.248Z"
   },
   {
    "duration": 59,
    "start_time": "2023-01-20T06:54:40.583Z"
   },
   {
    "duration": 211,
    "start_time": "2023-01-20T06:54:40.644Z"
   },
   {
    "duration": 84,
    "start_time": "2023-01-20T06:54:40.857Z"
   },
   {
    "duration": 2537,
    "start_time": "2023-01-20T06:54:40.943Z"
   },
   {
    "duration": 155,
    "start_time": "2023-01-20T06:54:43.482Z"
   },
   {
    "duration": 1498,
    "start_time": "2023-01-20T06:54:43.639Z"
   },
   {
    "duration": 10,
    "start_time": "2023-01-20T06:54:45.140Z"
   },
   {
    "duration": 121,
    "start_time": "2023-01-20T07:00:12.181Z"
   },
   {
    "duration": 4,
    "start_time": "2023-01-20T07:00:32.215Z"
   },
   {
    "duration": 3,
    "start_time": "2023-01-20T07:00:32.492Z"
   },
   {
    "duration": 800,
    "start_time": "2023-01-20T07:00:33.131Z"
   },
   {
    "duration": 1443,
    "start_time": "2023-01-20T07:00:33.933Z"
   },
   {
    "duration": 132,
    "start_time": "2023-01-20T07:00:35.378Z"
   },
   {
    "duration": 16,
    "start_time": "2023-01-20T07:00:35.652Z"
   },
   {
    "duration": 30,
    "start_time": "2023-01-20T07:00:38.532Z"
   },
   {
    "duration": 817,
    "start_time": "2023-01-20T07:01:30.621Z"
   },
   {
    "duration": 808,
    "start_time": "2023-01-20T07:01:58.381Z"
   },
   {
    "duration": 16,
    "start_time": "2023-01-20T07:02:10.877Z"
   },
   {
    "duration": 101,
    "start_time": "2023-01-20T07:02:41.567Z"
   },
   {
    "duration": 864,
    "start_time": "2023-01-20T07:04:19.398Z"
   },
   {
    "duration": 798,
    "start_time": "2023-01-20T07:04:27.011Z"
   },
   {
    "duration": 1251,
    "start_time": "2023-01-20T07:04:33.734Z"
   },
   {
    "duration": 984,
    "start_time": "2023-01-20T07:04:42.859Z"
   },
   {
    "duration": 5,
    "start_time": "2023-01-20T07:05:01.424Z"
   },
   {
    "duration": 3,
    "start_time": "2023-01-20T07:05:01.679Z"
   },
   {
    "duration": 726,
    "start_time": "2023-01-20T07:05:02.653Z"
   },
   {
    "duration": 1351,
    "start_time": "2023-01-20T07:05:05.048Z"
   },
   {
    "duration": 116,
    "start_time": "2023-01-20T07:05:08.584Z"
   },
   {
    "duration": 15,
    "start_time": "2023-01-20T07:05:10.095Z"
   },
   {
    "duration": 1125,
    "start_time": "2023-01-20T07:05:12.845Z"
   },
   {
    "duration": 1511,
    "start_time": "2023-01-20T07:07:08.027Z"
   },
   {
    "duration": 3,
    "start_time": "2023-01-20T07:07:09.540Z"
   },
   {
    "duration": 875,
    "start_time": "2023-01-20T07:07:09.544Z"
   },
   {
    "duration": 1734,
    "start_time": "2023-01-20T07:07:10.421Z"
   },
   {
    "duration": 119,
    "start_time": "2023-01-20T07:07:12.157Z"
   },
   {
    "duration": 17,
    "start_time": "2023-01-20T07:07:12.278Z"
   },
   {
    "duration": 886,
    "start_time": "2023-01-20T07:07:12.296Z"
   },
   {
    "duration": 0,
    "start_time": "2023-01-20T07:07:13.186Z"
   },
   {
    "duration": 0,
    "start_time": "2023-01-20T07:07:13.186Z"
   },
   {
    "duration": 0,
    "start_time": "2023-01-20T07:07:13.188Z"
   },
   {
    "duration": 0,
    "start_time": "2023-01-20T07:07:13.189Z"
   },
   {
    "duration": 0,
    "start_time": "2023-01-20T07:07:13.191Z"
   },
   {
    "duration": 0,
    "start_time": "2023-01-20T07:07:13.191Z"
   },
   {
    "duration": 0,
    "start_time": "2023-01-20T07:07:13.192Z"
   },
   {
    "duration": 0,
    "start_time": "2023-01-20T07:07:13.193Z"
   },
   {
    "duration": 0,
    "start_time": "2023-01-20T07:07:13.194Z"
   },
   {
    "duration": 0,
    "start_time": "2023-01-20T07:07:13.195Z"
   },
   {
    "duration": 0,
    "start_time": "2023-01-20T07:07:13.196Z"
   },
   {
    "duration": 0,
    "start_time": "2023-01-20T07:07:13.197Z"
   },
   {
    "duration": 0,
    "start_time": "2023-01-20T07:07:13.198Z"
   },
   {
    "duration": 0,
    "start_time": "2023-01-20T07:07:13.199Z"
   },
   {
    "duration": 0,
    "start_time": "2023-01-20T07:07:13.200Z"
   },
   {
    "duration": 0,
    "start_time": "2023-01-20T07:07:13.201Z"
   },
   {
    "duration": 0,
    "start_time": "2023-01-20T07:07:13.202Z"
   },
   {
    "duration": 0,
    "start_time": "2023-01-20T07:07:13.203Z"
   },
   {
    "duration": 0,
    "start_time": "2023-01-20T07:07:13.204Z"
   },
   {
    "duration": 0,
    "start_time": "2023-01-20T07:07:13.205Z"
   },
   {
    "duration": 0,
    "start_time": "2023-01-20T07:07:13.206Z"
   },
   {
    "duration": 0,
    "start_time": "2023-01-20T07:07:13.207Z"
   },
   {
    "duration": 0,
    "start_time": "2023-01-20T07:07:13.208Z"
   },
   {
    "duration": 0,
    "start_time": "2023-01-20T07:07:13.209Z"
   },
   {
    "duration": 0,
    "start_time": "2023-01-20T07:07:13.210Z"
   },
   {
    "duration": 0,
    "start_time": "2023-01-20T07:07:13.211Z"
   },
   {
    "duration": 0,
    "start_time": "2023-01-20T07:07:13.212Z"
   },
   {
    "duration": 0,
    "start_time": "2023-01-20T07:07:13.213Z"
   },
   {
    "duration": 0,
    "start_time": "2023-01-20T07:07:13.214Z"
   },
   {
    "duration": 0,
    "start_time": "2023-01-20T07:07:13.215Z"
   },
   {
    "duration": 0,
    "start_time": "2023-01-20T07:07:13.216Z"
   },
   {
    "duration": 0,
    "start_time": "2023-01-20T07:07:13.217Z"
   },
   {
    "duration": 0,
    "start_time": "2023-01-20T07:07:13.218Z"
   },
   {
    "duration": 0,
    "start_time": "2023-01-20T07:07:13.219Z"
   },
   {
    "duration": 0,
    "start_time": "2023-01-20T07:07:13.220Z"
   },
   {
    "duration": 0,
    "start_time": "2023-01-20T07:07:13.221Z"
   },
   {
    "duration": 0,
    "start_time": "2023-01-20T07:07:13.236Z"
   },
   {
    "duration": 0,
    "start_time": "2023-01-20T07:07:13.238Z"
   },
   {
    "duration": 0,
    "start_time": "2023-01-20T07:07:13.239Z"
   },
   {
    "duration": 0,
    "start_time": "2023-01-20T07:07:13.240Z"
   },
   {
    "duration": 0,
    "start_time": "2023-01-20T07:07:13.240Z"
   },
   {
    "duration": 0,
    "start_time": "2023-01-20T07:07:13.241Z"
   },
   {
    "duration": 0,
    "start_time": "2023-01-20T07:07:13.242Z"
   },
   {
    "duration": 0,
    "start_time": "2023-01-20T07:07:13.244Z"
   },
   {
    "duration": 0,
    "start_time": "2023-01-20T07:07:13.245Z"
   },
   {
    "duration": 965,
    "start_time": "2023-01-20T07:07:22.950Z"
   },
   {
    "duration": 856,
    "start_time": "2023-01-20T07:07:53.334Z"
   },
   {
    "duration": 1460,
    "start_time": "2023-01-20T07:08:40.965Z"
   },
   {
    "duration": 3,
    "start_time": "2023-01-20T07:08:42.427Z"
   },
   {
    "duration": 843,
    "start_time": "2023-01-20T07:08:42.436Z"
   },
   {
    "duration": 1658,
    "start_time": "2023-01-20T07:08:43.281Z"
   },
   {
    "duration": 128,
    "start_time": "2023-01-20T07:08:44.942Z"
   },
   {
    "duration": 17,
    "start_time": "2023-01-20T07:08:45.072Z"
   },
   {
    "duration": 1085,
    "start_time": "2023-01-20T07:08:45.090Z"
   },
   {
    "duration": 0,
    "start_time": "2023-01-20T07:08:46.179Z"
   },
   {
    "duration": 0,
    "start_time": "2023-01-20T07:08:46.180Z"
   },
   {
    "duration": 0,
    "start_time": "2023-01-20T07:08:46.182Z"
   },
   {
    "duration": 0,
    "start_time": "2023-01-20T07:08:46.183Z"
   },
   {
    "duration": 0,
    "start_time": "2023-01-20T07:08:46.184Z"
   },
   {
    "duration": 0,
    "start_time": "2023-01-20T07:08:46.186Z"
   },
   {
    "duration": 0,
    "start_time": "2023-01-20T07:08:46.187Z"
   },
   {
    "duration": 0,
    "start_time": "2023-01-20T07:08:46.188Z"
   },
   {
    "duration": 0,
    "start_time": "2023-01-20T07:08:46.189Z"
   },
   {
    "duration": 1,
    "start_time": "2023-01-20T07:08:46.190Z"
   },
   {
    "duration": 0,
    "start_time": "2023-01-20T07:08:46.191Z"
   },
   {
    "duration": 0,
    "start_time": "2023-01-20T07:08:46.192Z"
   },
   {
    "duration": 0,
    "start_time": "2023-01-20T07:08:46.193Z"
   },
   {
    "duration": 0,
    "start_time": "2023-01-20T07:08:46.194Z"
   },
   {
    "duration": 0,
    "start_time": "2023-01-20T07:08:46.195Z"
   },
   {
    "duration": 0,
    "start_time": "2023-01-20T07:08:46.196Z"
   },
   {
    "duration": 0,
    "start_time": "2023-01-20T07:08:46.197Z"
   },
   {
    "duration": 0,
    "start_time": "2023-01-20T07:08:46.198Z"
   },
   {
    "duration": 0,
    "start_time": "2023-01-20T07:08:46.200Z"
   },
   {
    "duration": 0,
    "start_time": "2023-01-20T07:08:46.201Z"
   },
   {
    "duration": 0,
    "start_time": "2023-01-20T07:08:46.202Z"
   },
   {
    "duration": 0,
    "start_time": "2023-01-20T07:08:46.203Z"
   },
   {
    "duration": 0,
    "start_time": "2023-01-20T07:08:46.204Z"
   },
   {
    "duration": 0,
    "start_time": "2023-01-20T07:08:46.205Z"
   },
   {
    "duration": 0,
    "start_time": "2023-01-20T07:08:46.207Z"
   },
   {
    "duration": 0,
    "start_time": "2023-01-20T07:08:46.208Z"
   },
   {
    "duration": 0,
    "start_time": "2023-01-20T07:08:46.209Z"
   },
   {
    "duration": 0,
    "start_time": "2023-01-20T07:08:46.210Z"
   },
   {
    "duration": 0,
    "start_time": "2023-01-20T07:08:46.211Z"
   },
   {
    "duration": 0,
    "start_time": "2023-01-20T07:08:46.212Z"
   },
   {
    "duration": 0,
    "start_time": "2023-01-20T07:08:46.213Z"
   },
   {
    "duration": 0,
    "start_time": "2023-01-20T07:08:46.214Z"
   },
   {
    "duration": 0,
    "start_time": "2023-01-20T07:08:46.236Z"
   },
   {
    "duration": 0,
    "start_time": "2023-01-20T07:08:46.238Z"
   },
   {
    "duration": 0,
    "start_time": "2023-01-20T07:08:46.239Z"
   },
   {
    "duration": 0,
    "start_time": "2023-01-20T07:08:46.240Z"
   },
   {
    "duration": 0,
    "start_time": "2023-01-20T07:08:46.241Z"
   },
   {
    "duration": 0,
    "start_time": "2023-01-20T07:08:46.242Z"
   },
   {
    "duration": 0,
    "start_time": "2023-01-20T07:08:46.243Z"
   },
   {
    "duration": 0,
    "start_time": "2023-01-20T07:08:46.244Z"
   },
   {
    "duration": 0,
    "start_time": "2023-01-20T07:08:46.245Z"
   },
   {
    "duration": 0,
    "start_time": "2023-01-20T07:08:46.247Z"
   },
   {
    "duration": 0,
    "start_time": "2023-01-20T07:08:46.247Z"
   },
   {
    "duration": 0,
    "start_time": "2023-01-20T07:08:46.248Z"
   },
   {
    "duration": 0,
    "start_time": "2023-01-20T07:08:46.250Z"
   },
   {
    "duration": 103,
    "start_time": "2023-01-20T07:09:04.487Z"
   },
   {
    "duration": 105,
    "start_time": "2023-01-20T07:09:13.687Z"
   },
   {
    "duration": 92,
    "start_time": "2023-01-20T07:09:20.935Z"
   },
   {
    "duration": 94,
    "start_time": "2023-01-20T07:09:44.561Z"
   },
   {
    "duration": 90,
    "start_time": "2023-01-20T07:10:39.929Z"
   },
   {
    "duration": 26,
    "start_time": "2023-01-20T07:10:56.786Z"
   },
   {
    "duration": 12,
    "start_time": "2023-01-20T07:10:57.031Z"
   },
   {
    "duration": 80710,
    "start_time": "2023-01-20T07:10:57.232Z"
   },
   {
    "duration": 807,
    "start_time": "2023-01-20T07:13:45.360Z"
   },
   {
    "duration": 4,
    "start_time": "2023-01-20T07:14:07.280Z"
   },
   {
    "duration": 4,
    "start_time": "2023-01-20T07:14:07.536Z"
   },
   {
    "duration": 905,
    "start_time": "2023-01-20T07:14:08.142Z"
   },
   {
    "duration": 1462,
    "start_time": "2023-01-20T07:14:09.391Z"
   },
   {
    "duration": 117,
    "start_time": "2023-01-20T07:14:12.711Z"
   },
   {
    "duration": 16,
    "start_time": "2023-01-20T07:14:14.080Z"
   },
   {
    "duration": 27,
    "start_time": "2023-01-20T07:14:16.320Z"
   },
   {
    "duration": 1454,
    "start_time": "2023-01-20T07:28:01.807Z"
   },
   {
    "duration": 3,
    "start_time": "2023-01-20T07:28:03.263Z"
   },
   {
    "duration": 895,
    "start_time": "2023-01-20T07:28:03.268Z"
   },
   {
    "duration": 1691,
    "start_time": "2023-01-20T07:28:04.165Z"
   },
   {
    "duration": 121,
    "start_time": "2023-01-20T07:28:05.858Z"
   },
   {
    "duration": 17,
    "start_time": "2023-01-20T07:28:05.981Z"
   },
   {
    "duration": 3,
    "start_time": "2023-01-20T07:28:05.999Z"
   },
   {
    "duration": 47,
    "start_time": "2023-01-20T07:28:06.003Z"
   },
   {
    "duration": 11,
    "start_time": "2023-01-20T07:28:06.051Z"
   },
   {
    "duration": 77780,
    "start_time": "2023-01-20T07:28:06.063Z"
   },
   {
    "duration": 21,
    "start_time": "2023-01-20T07:29:23.846Z"
   },
   {
    "duration": 22,
    "start_time": "2023-01-20T07:29:23.869Z"
   },
   {
    "duration": 5177,
    "start_time": "2023-01-20T07:29:23.893Z"
   },
   {
    "duration": 19,
    "start_time": "2023-01-20T07:29:29.073Z"
   },
   {
    "duration": 15595,
    "start_time": "2023-01-20T07:29:29.093Z"
   },
   {
    "duration": 21,
    "start_time": "2023-01-20T07:29:44.690Z"
   },
   {
    "duration": 82,
    "start_time": "2023-01-20T07:29:44.712Z"
   },
   {
    "duration": 44,
    "start_time": "2023-01-20T07:29:44.796Z"
   },
   {
    "duration": 36,
    "start_time": "2023-01-20T07:29:44.841Z"
   },
   {
    "duration": 34,
    "start_time": "2023-01-20T07:29:44.879Z"
   },
   {
    "duration": 49,
    "start_time": "2023-01-20T07:29:44.915Z"
   },
   {
    "duration": 1094,
    "start_time": "2023-01-20T07:29:44.966Z"
   },
   {
    "duration": 0,
    "start_time": "2023-01-20T07:29:46.062Z"
   },
   {
    "duration": 0,
    "start_time": "2023-01-20T07:29:46.063Z"
   },
   {
    "duration": 0,
    "start_time": "2023-01-20T07:29:46.064Z"
   },
   {
    "duration": 1,
    "start_time": "2023-01-20T07:29:46.065Z"
   },
   {
    "duration": 0,
    "start_time": "2023-01-20T07:29:46.067Z"
   },
   {
    "duration": 0,
    "start_time": "2023-01-20T07:29:46.069Z"
   },
   {
    "duration": 0,
    "start_time": "2023-01-20T07:29:46.070Z"
   },
   {
    "duration": 0,
    "start_time": "2023-01-20T07:29:46.071Z"
   },
   {
    "duration": 0,
    "start_time": "2023-01-20T07:29:46.072Z"
   },
   {
    "duration": 0,
    "start_time": "2023-01-20T07:29:46.073Z"
   },
   {
    "duration": 0,
    "start_time": "2023-01-20T07:29:46.074Z"
   },
   {
    "duration": 0,
    "start_time": "2023-01-20T07:29:46.075Z"
   },
   {
    "duration": 0,
    "start_time": "2023-01-20T07:29:46.075Z"
   },
   {
    "duration": 0,
    "start_time": "2023-01-20T07:29:46.076Z"
   },
   {
    "duration": 0,
    "start_time": "2023-01-20T07:29:46.077Z"
   },
   {
    "duration": 0,
    "start_time": "2023-01-20T07:29:46.078Z"
   },
   {
    "duration": 0,
    "start_time": "2023-01-20T07:29:46.078Z"
   },
   {
    "duration": 0,
    "start_time": "2023-01-20T07:29:46.080Z"
   },
   {
    "duration": 0,
    "start_time": "2023-01-20T07:29:46.080Z"
   },
   {
    "duration": 0,
    "start_time": "2023-01-20T07:29:46.081Z"
   },
   {
    "duration": 0,
    "start_time": "2023-01-20T07:29:46.083Z"
   },
   {
    "duration": 0,
    "start_time": "2023-01-20T07:29:46.083Z"
   },
   {
    "duration": 0,
    "start_time": "2023-01-20T07:29:46.084Z"
   },
   {
    "duration": 0,
    "start_time": "2023-01-20T07:29:46.086Z"
   },
   {
    "duration": 0,
    "start_time": "2023-01-20T07:29:46.087Z"
   },
   {
    "duration": 0,
    "start_time": "2023-01-20T07:29:46.088Z"
   },
   {
    "duration": 0,
    "start_time": "2023-01-20T07:29:46.088Z"
   },
   {
    "duration": 0,
    "start_time": "2023-01-20T07:29:46.090Z"
   },
   {
    "duration": 0,
    "start_time": "2023-01-20T07:29:46.091Z"
   },
   {
    "duration": 0,
    "start_time": "2023-01-20T07:29:46.092Z"
   },
   {
    "duration": 31,
    "start_time": "2023-01-20T07:30:18.764Z"
   },
   {
    "duration": 43,
    "start_time": "2023-01-20T07:30:22.022Z"
   },
   {
    "duration": 98,
    "start_time": "2023-01-20T07:30:22.224Z"
   },
   {
    "duration": 3,
    "start_time": "2023-01-20T07:30:22.547Z"
   },
   {
    "duration": 158,
    "start_time": "2023-01-20T07:30:22.913Z"
   },
   {
    "duration": 25,
    "start_time": "2023-01-20T07:30:23.128Z"
   },
   {
    "duration": 4,
    "start_time": "2023-01-20T07:30:23.498Z"
   },
   {
    "duration": 39,
    "start_time": "2023-01-20T07:30:26.129Z"
   },
   {
    "duration": 4,
    "start_time": "2023-01-20T07:30:27.587Z"
   },
   {
    "duration": 3,
    "start_time": "2023-01-20T07:30:28.226Z"
   },
   {
    "duration": 4,
    "start_time": "2023-01-20T07:30:28.424Z"
   },
   {
    "duration": 3,
    "start_time": "2023-01-20T07:30:28.828Z"
   },
   {
    "duration": 3,
    "start_time": "2023-01-20T07:30:29.044Z"
   },
   {
    "duration": 57518,
    "start_time": "2023-01-20T07:30:29.250Z"
   },
   {
    "duration": 4,
    "start_time": "2023-01-20T07:31:26.771Z"
   },
   {
    "duration": 8,
    "start_time": "2023-01-20T07:31:26.777Z"
   },
   {
    "duration": 2437,
    "start_time": "2023-01-20T07:31:26.788Z"
   },
   {
    "duration": 3,
    "start_time": "2023-01-20T07:31:29.227Z"
   },
   {
    "duration": 12,
    "start_time": "2023-01-20T07:31:29.232Z"
   },
   {
    "duration": 46003,
    "start_time": "2023-01-20T07:31:29.246Z"
   },
   {
    "duration": 4,
    "start_time": "2023-01-20T07:32:15.251Z"
   },
   {
    "duration": 19,
    "start_time": "2023-01-20T07:32:15.258Z"
   },
   {
    "duration": 1458,
    "start_time": "2023-01-20T07:32:15.280Z"
   },
   {
    "duration": 1212,
    "start_time": "2023-01-20T07:32:16.740Z"
   },
   {
    "duration": 88,
    "start_time": "2023-01-20T07:32:17.954Z"
   },
   {
    "duration": 147,
    "start_time": "2023-01-20T07:32:18.045Z"
   },
   {
    "duration": 152,
    "start_time": "2023-01-20T07:32:18.194Z"
   },
   {
    "duration": 2642,
    "start_time": "2023-01-20T07:32:18.348Z"
   },
   {
    "duration": 73,
    "start_time": "2023-01-20T07:32:20.992Z"
   },
   {
    "duration": 2507,
    "start_time": "2023-01-20T07:32:21.136Z"
   },
   {
    "duration": 10,
    "start_time": "2023-01-20T07:32:23.645Z"
   },
   {
    "duration": 685,
    "start_time": "2023-01-20T08:11:52.640Z"
   },
   {
    "duration": 820,
    "start_time": "2023-01-20T08:14:48.073Z"
   },
   {
    "duration": 742,
    "start_time": "2023-01-20T08:15:00.442Z"
   },
   {
    "duration": 741,
    "start_time": "2023-01-20T08:17:05.795Z"
   },
   {
    "duration": 1473,
    "start_time": "2023-01-20T08:17:16.189Z"
   },
   {
    "duration": 3,
    "start_time": "2023-01-20T08:17:17.664Z"
   },
   {
    "duration": 907,
    "start_time": "2023-01-20T08:17:17.669Z"
   },
   {
    "duration": 1660,
    "start_time": "2023-01-20T08:17:18.577Z"
   },
   {
    "duration": 127,
    "start_time": "2023-01-20T08:17:20.240Z"
   },
   {
    "duration": 29,
    "start_time": "2023-01-20T08:17:20.368Z"
   },
   {
    "duration": 14,
    "start_time": "2023-01-20T08:17:20.399Z"
   },
   {
    "duration": 41,
    "start_time": "2023-01-20T08:17:20.415Z"
   },
   {
    "duration": 24,
    "start_time": "2023-01-20T08:17:20.458Z"
   },
   {
    "duration": 78423,
    "start_time": "2023-01-20T08:17:20.484Z"
   },
   {
    "duration": 19,
    "start_time": "2023-01-20T08:18:38.909Z"
   },
   {
    "duration": 23,
    "start_time": "2023-01-20T08:18:38.929Z"
   },
   {
    "duration": 5378,
    "start_time": "2023-01-20T08:18:38.953Z"
   },
   {
    "duration": 20,
    "start_time": "2023-01-20T08:18:44.336Z"
   },
   {
    "duration": 16196,
    "start_time": "2023-01-20T08:18:44.358Z"
   },
   {
    "duration": 20,
    "start_time": "2023-01-20T08:19:00.556Z"
   },
   {
    "duration": 88,
    "start_time": "2023-01-20T08:19:00.577Z"
   },
   {
    "duration": 40,
    "start_time": "2023-01-20T08:19:00.667Z"
   },
   {
    "duration": 61,
    "start_time": "2023-01-20T08:19:00.710Z"
   },
   {
    "duration": 40,
    "start_time": "2023-01-20T08:19:00.773Z"
   },
   {
    "duration": 75,
    "start_time": "2023-01-20T08:19:00.815Z"
   },
   {
    "duration": 43,
    "start_time": "2023-01-20T08:19:00.892Z"
   },
   {
    "duration": 42,
    "start_time": "2023-01-20T08:19:00.938Z"
   },
   {
    "duration": 72,
    "start_time": "2023-01-20T08:19:00.982Z"
   },
   {
    "duration": 11,
    "start_time": "2023-01-20T08:19:01.056Z"
   },
   {
    "duration": 194,
    "start_time": "2023-01-20T08:19:01.069Z"
   },
   {
    "duration": 25,
    "start_time": "2023-01-20T08:19:01.264Z"
   },
   {
    "duration": 9,
    "start_time": "2023-01-20T08:19:01.291Z"
   },
   {
    "duration": 71,
    "start_time": "2023-01-20T08:19:01.301Z"
   },
   {
    "duration": 4,
    "start_time": "2023-01-20T08:19:01.374Z"
   },
   {
    "duration": 17,
    "start_time": "2023-01-20T08:19:01.379Z"
   },
   {
    "duration": 24,
    "start_time": "2023-01-20T08:19:01.398Z"
   },
   {
    "duration": 16,
    "start_time": "2023-01-20T08:19:01.424Z"
   },
   {
    "duration": 31,
    "start_time": "2023-01-20T08:19:01.441Z"
   },
   {
    "duration": 55320,
    "start_time": "2023-01-20T08:19:01.475Z"
   },
   {
    "duration": 4,
    "start_time": "2023-01-20T08:19:56.796Z"
   },
   {
    "duration": 22,
    "start_time": "2023-01-20T08:19:56.802Z"
   },
   {
    "duration": 2471,
    "start_time": "2023-01-20T08:19:56.826Z"
   },
   {
    "duration": 6,
    "start_time": "2023-01-20T08:19:59.299Z"
   },
   {
    "duration": 21,
    "start_time": "2023-01-20T08:19:59.307Z"
   },
   {
    "duration": 39604,
    "start_time": "2023-01-20T08:19:59.333Z"
   },
   {
    "duration": 4,
    "start_time": "2023-01-20T08:20:38.939Z"
   },
   {
    "duration": 14,
    "start_time": "2023-01-20T08:20:38.945Z"
   },
   {
    "duration": 1488,
    "start_time": "2023-01-20T08:20:38.961Z"
   },
   {
    "duration": 947,
    "start_time": "2023-01-20T08:20:40.451Z"
   },
   {
    "duration": 0,
    "start_time": "2023-01-20T08:20:41.400Z"
   },
   {
    "duration": 0,
    "start_time": "2023-01-20T08:20:41.402Z"
   },
   {
    "duration": 0,
    "start_time": "2023-01-20T08:20:41.404Z"
   },
   {
    "duration": 0,
    "start_time": "2023-01-20T08:20:41.406Z"
   },
   {
    "duration": 0,
    "start_time": "2023-01-20T08:20:41.408Z"
   },
   {
    "duration": 0,
    "start_time": "2023-01-20T08:20:41.409Z"
   },
   {
    "duration": 0,
    "start_time": "2023-01-20T08:20:41.410Z"
   },
   {
    "duration": 0,
    "start_time": "2023-01-20T08:20:41.412Z"
   },
   {
    "duration": 753,
    "start_time": "2023-01-20T08:54:13.999Z"
   },
   {
    "duration": 767,
    "start_time": "2023-01-20T08:56:59.287Z"
   },
   {
    "duration": 1433,
    "start_time": "2023-01-20T08:58:32.198Z"
   },
   {
    "duration": 3,
    "start_time": "2023-01-20T08:58:33.634Z"
   },
   {
    "duration": 877,
    "start_time": "2023-01-20T08:58:33.638Z"
   },
   {
    "duration": 1651,
    "start_time": "2023-01-20T08:58:34.518Z"
   },
   {
    "duration": 137,
    "start_time": "2023-01-20T08:58:36.171Z"
   },
   {
    "duration": 29,
    "start_time": "2023-01-20T08:58:36.310Z"
   },
   {
    "duration": 3,
    "start_time": "2023-01-20T08:58:36.341Z"
   },
   {
    "duration": 35,
    "start_time": "2023-01-20T08:58:36.346Z"
   },
   {
    "duration": 18,
    "start_time": "2023-01-20T08:58:36.383Z"
   },
   {
    "duration": 46,
    "start_time": "2023-01-20T08:58:36.404Z"
   },
   {
    "duration": 26,
    "start_time": "2023-01-20T08:58:36.452Z"
   },
   {
    "duration": 5402,
    "start_time": "2023-01-20T08:58:36.479Z"
   },
   {
    "duration": 20,
    "start_time": "2023-01-20T08:58:41.883Z"
   },
   {
    "duration": 15423,
    "start_time": "2023-01-20T08:58:41.904Z"
   },
   {
    "duration": 24,
    "start_time": "2023-01-20T08:58:57.330Z"
   },
   {
    "duration": 84,
    "start_time": "2023-01-20T08:58:57.356Z"
   },
   {
    "duration": 34,
    "start_time": "2023-01-20T08:58:57.442Z"
   },
   {
    "duration": 37,
    "start_time": "2023-01-20T08:58:57.478Z"
   },
   {
    "duration": 48,
    "start_time": "2023-01-20T08:58:57.517Z"
   },
   {
    "duration": 34,
    "start_time": "2023-01-20T08:58:57.567Z"
   },
   {
    "duration": 49,
    "start_time": "2023-01-20T08:58:57.603Z"
   },
   {
    "duration": 42,
    "start_time": "2023-01-20T08:58:57.654Z"
   },
   {
    "duration": 77,
    "start_time": "2023-01-20T08:58:57.698Z"
   },
   {
    "duration": 3,
    "start_time": "2023-01-20T08:58:57.776Z"
   },
   {
    "duration": 180,
    "start_time": "2023-01-20T08:58:57.780Z"
   },
   {
    "duration": 24,
    "start_time": "2023-01-20T08:58:57.962Z"
   },
   {
    "duration": 4,
    "start_time": "2023-01-20T08:58:57.988Z"
   },
   {
    "duration": 58,
    "start_time": "2023-01-20T08:58:57.995Z"
   },
   {
    "duration": 4,
    "start_time": "2023-01-20T08:58:58.055Z"
   },
   {
    "duration": 17,
    "start_time": "2023-01-20T08:58:58.060Z"
   },
   {
    "duration": 40,
    "start_time": "2023-01-20T08:58:58.079Z"
   },
   {
    "duration": 18,
    "start_time": "2023-01-20T08:58:58.120Z"
   },
   {
    "duration": 26,
    "start_time": "2023-01-20T08:58:58.140Z"
   },
   {
    "duration": 62555,
    "start_time": "2023-01-20T08:58:58.168Z"
   },
   {
    "duration": 4,
    "start_time": "2023-01-20T09:00:00.724Z"
   },
   {
    "duration": 49,
    "start_time": "2023-01-20T09:00:00.730Z"
   },
   {
    "duration": 3042,
    "start_time": "2023-01-20T09:00:00.781Z"
   },
   {
    "duration": 3,
    "start_time": "2023-01-20T09:00:03.825Z"
   },
   {
    "duration": 34,
    "start_time": "2023-01-20T09:00:03.830Z"
   },
   {
    "duration": 39472,
    "start_time": "2023-01-20T09:00:03.866Z"
   },
   {
    "duration": 5,
    "start_time": "2023-01-20T09:00:43.340Z"
   },
   {
    "duration": 12,
    "start_time": "2023-01-20T09:00:43.347Z"
   },
   {
    "duration": 1487,
    "start_time": "2023-01-20T09:00:43.361Z"
   },
   {
    "duration": 1054,
    "start_time": "2023-01-20T09:00:44.849Z"
   },
   {
    "duration": 0,
    "start_time": "2023-01-20T09:00:45.904Z"
   },
   {
    "duration": 0,
    "start_time": "2023-01-20T09:00:45.905Z"
   },
   {
    "duration": 0,
    "start_time": "2023-01-20T09:00:45.906Z"
   },
   {
    "duration": 0,
    "start_time": "2023-01-20T09:00:45.907Z"
   },
   {
    "duration": 0,
    "start_time": "2023-01-20T09:00:45.908Z"
   },
   {
    "duration": 0,
    "start_time": "2023-01-20T09:00:45.910Z"
   },
   {
    "duration": 0,
    "start_time": "2023-01-20T09:00:45.911Z"
   },
   {
    "duration": 0,
    "start_time": "2023-01-20T09:00:45.912Z"
   },
   {
    "duration": 1113,
    "start_time": "2023-01-20T09:02:54.031Z"
   },
   {
    "duration": 1633,
    "start_time": "2023-01-20T09:03:07.848Z"
   },
   {
    "duration": 3,
    "start_time": "2023-01-20T09:03:09.483Z"
   },
   {
    "duration": 884,
    "start_time": "2023-01-20T09:03:09.488Z"
   },
   {
    "duration": 1713,
    "start_time": "2023-01-20T09:03:10.374Z"
   },
   {
    "duration": 121,
    "start_time": "2023-01-20T09:03:12.089Z"
   },
   {
    "duration": 36,
    "start_time": "2023-01-20T09:03:12.212Z"
   },
   {
    "duration": 2,
    "start_time": "2023-01-20T09:03:12.251Z"
   },
   {
    "duration": 29,
    "start_time": "2023-01-20T09:03:12.254Z"
   },
   {
    "duration": 12,
    "start_time": "2023-01-20T09:03:12.285Z"
   },
   {
    "duration": 37,
    "start_time": "2023-01-20T09:03:12.300Z"
   },
   {
    "duration": 25,
    "start_time": "2023-01-20T09:03:12.339Z"
   },
   {
    "duration": 5386,
    "start_time": "2023-01-20T09:03:12.366Z"
   },
   {
    "duration": 20,
    "start_time": "2023-01-20T09:03:17.753Z"
   },
   {
    "duration": 16087,
    "start_time": "2023-01-20T09:03:17.775Z"
   },
   {
    "duration": 20,
    "start_time": "2023-01-20T09:03:33.864Z"
   },
   {
    "duration": 88,
    "start_time": "2023-01-20T09:03:33.886Z"
   },
   {
    "duration": 38,
    "start_time": "2023-01-20T09:03:33.975Z"
   },
   {
    "duration": 52,
    "start_time": "2023-01-20T09:03:34.015Z"
   },
   {
    "duration": 38,
    "start_time": "2023-01-20T09:03:34.069Z"
   },
   {
    "duration": 46,
    "start_time": "2023-01-20T09:03:34.108Z"
   },
   {
    "duration": 32,
    "start_time": "2023-01-20T09:03:34.155Z"
   },
   {
    "duration": 58,
    "start_time": "2023-01-20T09:03:34.188Z"
   },
   {
    "duration": 68,
    "start_time": "2023-01-20T09:03:34.248Z"
   },
   {
    "duration": 3,
    "start_time": "2023-01-20T09:03:34.318Z"
   },
   {
    "duration": 190,
    "start_time": "2023-01-20T09:03:34.335Z"
   },
   {
    "duration": 26,
    "start_time": "2023-01-20T09:03:34.528Z"
   },
   {
    "duration": 5,
    "start_time": "2023-01-20T09:03:34.556Z"
   },
   {
    "duration": 49,
    "start_time": "2023-01-20T09:03:34.564Z"
   },
   {
    "duration": 4,
    "start_time": "2023-01-20T09:03:34.637Z"
   },
   {
    "duration": 14,
    "start_time": "2023-01-20T09:03:34.643Z"
   },
   {
    "duration": 6,
    "start_time": "2023-01-20T09:03:34.659Z"
   },
   {
    "duration": 5,
    "start_time": "2023-01-20T09:03:34.667Z"
   },
   {
    "duration": 11,
    "start_time": "2023-01-20T09:03:34.673Z"
   },
   {
    "duration": 1442,
    "start_time": "2023-01-20T09:04:23.686Z"
   },
   {
    "duration": 3,
    "start_time": "2023-01-20T09:04:25.130Z"
   },
   {
    "duration": 921,
    "start_time": "2023-01-20T09:04:25.136Z"
   },
   {
    "duration": 1741,
    "start_time": "2023-01-20T09:04:26.059Z"
   },
   {
    "duration": 126,
    "start_time": "2023-01-20T09:04:27.802Z"
   },
   {
    "duration": 22,
    "start_time": "2023-01-20T09:04:27.929Z"
   },
   {
    "duration": 3,
    "start_time": "2023-01-20T09:04:27.952Z"
   },
   {
    "duration": 26,
    "start_time": "2023-01-20T09:04:27.957Z"
   },
   {
    "duration": 12,
    "start_time": "2023-01-20T09:04:27.986Z"
   },
   {
    "duration": 55,
    "start_time": "2023-01-20T09:04:28.000Z"
   },
   {
    "duration": 25,
    "start_time": "2023-01-20T09:04:28.058Z"
   },
   {
    "duration": 5829,
    "start_time": "2023-01-20T09:04:28.086Z"
   },
   {
    "duration": 26,
    "start_time": "2023-01-20T09:04:33.917Z"
   },
   {
    "duration": 15671,
    "start_time": "2023-01-20T09:04:33.946Z"
   },
   {
    "duration": 27,
    "start_time": "2023-01-20T09:04:49.619Z"
   },
   {
    "duration": 83,
    "start_time": "2023-01-20T09:04:49.648Z"
   },
   {
    "duration": 62,
    "start_time": "2023-01-20T09:04:49.736Z"
   },
   {
    "duration": 43,
    "start_time": "2023-01-20T09:04:49.801Z"
   },
   {
    "duration": 61,
    "start_time": "2023-01-20T09:04:49.847Z"
   },
   {
    "duration": 41,
    "start_time": "2023-01-20T09:04:49.910Z"
   },
   {
    "duration": 55,
    "start_time": "2023-01-20T09:04:49.953Z"
   },
   {
    "duration": 44,
    "start_time": "2023-01-20T09:04:50.011Z"
   },
   {
    "duration": 73,
    "start_time": "2023-01-20T09:04:50.057Z"
   },
   {
    "duration": 13,
    "start_time": "2023-01-20T09:04:50.133Z"
   },
   {
    "duration": 187,
    "start_time": "2023-01-20T09:04:50.147Z"
   },
   {
    "duration": 23,
    "start_time": "2023-01-20T09:04:50.336Z"
   },
   {
    "duration": 4,
    "start_time": "2023-01-20T09:04:50.361Z"
   },
   {
    "duration": 65,
    "start_time": "2023-01-20T09:04:50.367Z"
   },
   {
    "duration": 10,
    "start_time": "2023-01-20T09:04:50.434Z"
   },
   {
    "duration": 29,
    "start_time": "2023-01-20T09:04:50.446Z"
   },
   {
    "duration": 27,
    "start_time": "2023-01-20T09:04:50.477Z"
   },
   {
    "duration": 28,
    "start_time": "2023-01-20T09:04:50.506Z"
   },
   {
    "duration": 38,
    "start_time": "2023-01-20T09:04:50.536Z"
   },
   {
    "duration": 57322,
    "start_time": "2023-01-20T09:04:50.575Z"
   },
   {
    "duration": 5,
    "start_time": "2023-01-20T09:05:47.898Z"
   },
   {
    "duration": 11,
    "start_time": "2023-01-20T09:05:47.905Z"
   },
   {
    "duration": 2421,
    "start_time": "2023-01-20T09:05:47.917Z"
   },
   {
    "duration": 3,
    "start_time": "2023-01-20T09:05:50.340Z"
   },
   {
    "duration": 10,
    "start_time": "2023-01-20T09:05:50.345Z"
   },
   {
    "duration": 37098,
    "start_time": "2023-01-20T09:05:50.357Z"
   },
   {
    "duration": 5,
    "start_time": "2023-01-20T09:06:27.539Z"
   },
   {
    "duration": 5,
    "start_time": "2023-01-20T09:06:27.545Z"
   },
   {
    "duration": 1392,
    "start_time": "2023-01-20T09:06:27.552Z"
   },
   {
    "duration": 1218,
    "start_time": "2023-01-20T09:06:28.946Z"
   },
   {
    "duration": 0,
    "start_time": "2023-01-20T09:06:30.166Z"
   },
   {
    "duration": 0,
    "start_time": "2023-01-20T09:06:30.167Z"
   },
   {
    "duration": 0,
    "start_time": "2023-01-20T09:06:30.169Z"
   },
   {
    "duration": 0,
    "start_time": "2023-01-20T09:06:30.170Z"
   },
   {
    "duration": 0,
    "start_time": "2023-01-20T09:06:30.171Z"
   },
   {
    "duration": 0,
    "start_time": "2023-01-20T09:06:30.172Z"
   },
   {
    "duration": 0,
    "start_time": "2023-01-20T09:06:30.173Z"
   },
   {
    "duration": 0,
    "start_time": "2023-01-20T09:06:30.174Z"
   },
   {
    "duration": 24,
    "start_time": "2023-01-20T09:07:47.756Z"
   },
   {
    "duration": 19,
    "start_time": "2023-01-20T09:09:14.630Z"
   },
   {
    "duration": 12,
    "start_time": "2023-01-20T09:11:34.998Z"
   },
   {
    "duration": 38,
    "start_time": "2023-01-20T09:11:52.994Z"
   },
   {
    "duration": 41,
    "start_time": "2023-01-20T09:13:01.747Z"
   },
   {
    "duration": 34,
    "start_time": "2023-01-20T09:13:24.298Z"
   },
   {
    "duration": 42,
    "start_time": "2023-01-20T09:13:29.752Z"
   },
   {
    "duration": 918,
    "start_time": "2023-01-20T09:22:24.478Z"
   },
   {
    "duration": 59,
    "start_time": "2023-01-20T09:24:14.894Z"
   },
   {
    "duration": 1013,
    "start_time": "2023-01-20T09:24:26.750Z"
   },
   {
    "duration": 1896,
    "start_time": "2023-01-20T09:35:07.740Z"
   },
   {
    "duration": 1501,
    "start_time": "2023-01-20T09:35:46.134Z"
   },
   {
    "duration": 1535,
    "start_time": "2023-01-20T09:39:32.620Z"
   },
   {
    "duration": 3,
    "start_time": "2023-01-20T09:39:34.157Z"
   },
   {
    "duration": 859,
    "start_time": "2023-01-20T09:39:34.162Z"
   },
   {
    "duration": 1641,
    "start_time": "2023-01-20T09:39:35.023Z"
   },
   {
    "duration": 117,
    "start_time": "2023-01-20T09:39:36.667Z"
   },
   {
    "duration": 17,
    "start_time": "2023-01-20T09:39:36.785Z"
   },
   {
    "duration": 2,
    "start_time": "2023-01-20T09:39:36.804Z"
   },
   {
    "duration": 43,
    "start_time": "2023-01-20T09:39:36.808Z"
   },
   {
    "duration": 12,
    "start_time": "2023-01-20T09:39:36.853Z"
   },
   {
    "duration": 31,
    "start_time": "2023-01-20T09:39:36.867Z"
   },
   {
    "duration": 44,
    "start_time": "2023-01-20T09:39:36.899Z"
   },
   {
    "duration": 5796,
    "start_time": "2023-01-20T09:39:36.944Z"
   },
   {
    "duration": 23,
    "start_time": "2023-01-20T09:39:42.743Z"
   },
   {
    "duration": 15262,
    "start_time": "2023-01-20T09:39:42.770Z"
   },
   {
    "duration": 23,
    "start_time": "2023-01-20T09:39:58.033Z"
   },
   {
    "duration": 92,
    "start_time": "2023-01-20T09:39:58.058Z"
   },
   {
    "duration": 44,
    "start_time": "2023-01-20T09:39:58.152Z"
   },
   {
    "duration": 59,
    "start_time": "2023-01-20T09:39:58.198Z"
   },
   {
    "duration": 53,
    "start_time": "2023-01-20T09:39:58.260Z"
   },
   {
    "duration": 63,
    "start_time": "2023-01-20T09:39:58.316Z"
   },
   {
    "duration": 77,
    "start_time": "2023-01-20T09:39:58.381Z"
   },
   {
    "duration": 51,
    "start_time": "2023-01-20T09:39:58.461Z"
   },
   {
    "duration": 105,
    "start_time": "2023-01-20T09:39:58.514Z"
   },
   {
    "duration": 2,
    "start_time": "2023-01-20T09:39:58.622Z"
   },
   {
    "duration": 173,
    "start_time": "2023-01-20T09:39:58.636Z"
   },
   {
    "duration": 32,
    "start_time": "2023-01-20T09:39:58.811Z"
   },
   {
    "duration": 3,
    "start_time": "2023-01-20T09:39:58.845Z"
   },
   {
    "duration": 43,
    "start_time": "2023-01-20T09:39:58.850Z"
   },
   {
    "duration": 3,
    "start_time": "2023-01-20T09:39:58.895Z"
   },
   {
    "duration": 6,
    "start_time": "2023-01-20T09:39:58.900Z"
   },
   {
    "duration": 5,
    "start_time": "2023-01-20T09:39:58.907Z"
   },
   {
    "duration": 25,
    "start_time": "2023-01-20T09:39:58.914Z"
   },
   {
    "duration": 5,
    "start_time": "2023-01-20T09:39:58.941Z"
   },
   {
    "duration": 59075,
    "start_time": "2023-01-20T09:39:58.947Z"
   },
   {
    "duration": 4,
    "start_time": "2023-01-20T09:40:58.024Z"
   },
   {
    "duration": 33,
    "start_time": "2023-01-20T09:40:58.030Z"
   },
   {
    "duration": 2467,
    "start_time": "2023-01-20T09:40:58.065Z"
   },
   {
    "duration": 4,
    "start_time": "2023-01-20T09:41:00.533Z"
   },
   {
    "duration": 33,
    "start_time": "2023-01-20T09:41:00.538Z"
   },
   {
    "duration": 40070,
    "start_time": "2023-01-20T09:41:00.573Z"
   },
   {
    "duration": 4,
    "start_time": "2023-01-20T09:41:40.648Z"
   },
   {
    "duration": 26,
    "start_time": "2023-01-20T09:41:40.654Z"
   },
   {
    "duration": 1668,
    "start_time": "2023-01-20T09:41:40.682Z"
   },
   {
    "duration": 116,
    "start_time": "2023-01-20T09:41:42.351Z"
   },
   {
    "duration": 62977,
    "start_time": "2023-01-20T09:41:42.468Z"
   },
   {
    "duration": 1264,
    "start_time": "2023-01-20T09:42:45.447Z"
   },
   {
    "duration": 10,
    "start_time": "2023-01-20T09:42:46.736Z"
   },
   {
    "duration": 239,
    "start_time": "2023-01-20T09:42:46.748Z"
   },
   {
    "duration": 149,
    "start_time": "2023-01-20T09:42:46.989Z"
   },
   {
    "duration": 2531,
    "start_time": "2023-01-20T09:42:47.139Z"
   },
   {
    "duration": 168,
    "start_time": "2023-01-20T09:42:49.672Z"
   },
   {
    "duration": 52508,
    "start_time": "2023-01-20T09:42:49.842Z"
   },
   {
    "duration": 11,
    "start_time": "2023-01-20T09:43:42.352Z"
   },
   {
    "duration": 1476,
    "start_time": "2023-01-20T10:13:54.131Z"
   },
   {
    "duration": 3,
    "start_time": "2023-01-20T10:13:55.609Z"
   },
   {
    "duration": 888,
    "start_time": "2023-01-20T10:13:55.614Z"
   },
   {
    "duration": 1643,
    "start_time": "2023-01-20T10:13:56.505Z"
   },
   {
    "duration": 144,
    "start_time": "2023-01-20T10:13:58.150Z"
   },
   {
    "duration": 20,
    "start_time": "2023-01-20T10:13:58.297Z"
   },
   {
    "duration": 11,
    "start_time": "2023-01-20T10:13:58.338Z"
   },
   {
    "duration": 27,
    "start_time": "2023-01-20T10:13:58.351Z"
   },
   {
    "duration": 14,
    "start_time": "2023-01-20T10:13:58.380Z"
   },
   {
    "duration": 41,
    "start_time": "2023-01-20T10:13:58.397Z"
   },
   {
    "duration": 30,
    "start_time": "2023-01-20T10:13:58.440Z"
   },
   {
    "duration": 5360,
    "start_time": "2023-01-20T10:13:58.472Z"
   },
   {
    "duration": 18,
    "start_time": "2023-01-20T10:14:03.834Z"
   },
   {
    "duration": 16541,
    "start_time": "2023-01-20T10:14:03.854Z"
   },
   {
    "duration": 27,
    "start_time": "2023-01-20T10:14:20.397Z"
   },
   {
    "duration": 111,
    "start_time": "2023-01-20T10:14:20.436Z"
   },
   {
    "duration": 43,
    "start_time": "2023-01-20T10:14:20.549Z"
   },
   {
    "duration": 51,
    "start_time": "2023-01-20T10:14:20.594Z"
   },
   {
    "duration": 46,
    "start_time": "2023-01-20T10:14:20.647Z"
   },
   {
    "duration": 48,
    "start_time": "2023-01-20T10:14:20.694Z"
   },
   {
    "duration": 32,
    "start_time": "2023-01-20T10:14:20.744Z"
   },
   {
    "duration": 62,
    "start_time": "2023-01-20T10:14:20.778Z"
   },
   {
    "duration": 70,
    "start_time": "2023-01-20T10:14:20.842Z"
   },
   {
    "duration": 3,
    "start_time": "2023-01-20T10:14:20.915Z"
   },
   {
    "duration": 191,
    "start_time": "2023-01-20T10:14:20.936Z"
   },
   {
    "duration": 31,
    "start_time": "2023-01-20T10:14:21.129Z"
   },
   {
    "duration": 4,
    "start_time": "2023-01-20T10:14:21.161Z"
   },
   {
    "duration": 42,
    "start_time": "2023-01-20T10:14:21.168Z"
   },
   {
    "duration": 25,
    "start_time": "2023-01-20T10:14:21.211Z"
   },
   {
    "duration": 6,
    "start_time": "2023-01-20T10:14:21.238Z"
   },
   {
    "duration": 13,
    "start_time": "2023-01-20T10:14:21.245Z"
   },
   {
    "duration": 7,
    "start_time": "2023-01-20T10:14:21.259Z"
   },
   {
    "duration": 6,
    "start_time": "2023-01-20T10:14:21.268Z"
   },
   {
    "duration": 59305,
    "start_time": "2023-01-20T10:14:21.275Z"
   },
   {
    "duration": 5,
    "start_time": "2023-01-20T10:15:20.582Z"
   },
   {
    "duration": 11,
    "start_time": "2023-01-20T10:15:20.588Z"
   },
   {
    "duration": 2361,
    "start_time": "2023-01-20T10:15:20.600Z"
   },
   {
    "duration": 4,
    "start_time": "2023-01-20T10:15:22.963Z"
   },
   {
    "duration": 19,
    "start_time": "2023-01-20T10:15:22.969Z"
   },
   {
    "duration": 44649,
    "start_time": "2023-01-20T10:15:22.990Z"
   },
   {
    "duration": 6,
    "start_time": "2023-01-20T10:16:07.641Z"
   },
   {
    "duration": 10,
    "start_time": "2023-01-20T10:16:07.648Z"
   },
   {
    "duration": 1482,
    "start_time": "2023-01-20T10:16:07.660Z"
   },
   {
    "duration": 35,
    "start_time": "2023-01-20T10:16:09.144Z"
   },
   {
    "duration": 68855,
    "start_time": "2023-01-20T10:16:09.181Z"
   },
   {
    "duration": 1398,
    "start_time": "2023-01-20T10:17:18.039Z"
   },
   {
    "duration": 12,
    "start_time": "2023-01-20T10:17:19.440Z"
   },
   {
    "duration": 225,
    "start_time": "2023-01-20T10:17:19.454Z"
   },
   {
    "duration": 64,
    "start_time": "2023-01-20T10:17:19.681Z"
   },
   {
    "duration": 10,
    "start_time": "2023-01-20T10:17:19.747Z"
   },
   {
    "duration": 2621,
    "start_time": "2023-01-20T10:17:19.759Z"
   },
   {
    "duration": 83,
    "start_time": "2023-01-20T10:17:22.382Z"
   },
   {
    "duration": 1207,
    "start_time": "2023-01-20T10:17:22.539Z"
   },
   {
    "duration": 68689,
    "start_time": "2023-01-20T10:17:23.748Z"
   },
   {
    "duration": 99,
    "start_time": "2023-01-20T10:18:32.439Z"
   },
   {
    "duration": 770,
    "start_time": "2023-01-20T10:21:58.325Z"
   },
   {
    "duration": 63906,
    "start_time": "2023-01-20T10:22:22.240Z"
   },
   {
    "duration": 3,
    "start_time": "2023-01-20T10:26:33.392Z"
   },
   {
    "duration": 3,
    "start_time": "2023-01-20T10:26:45.000Z"
   },
   {
    "duration": 105,
    "start_time": "2023-01-20T10:28:06.712Z"
   },
   {
    "duration": 12,
    "start_time": "2023-01-20T10:28:44.793Z"
   },
   {
    "duration": 88,
    "start_time": "2023-01-20T10:28:46.001Z"
   },
   {
    "duration": 10,
    "start_time": "2023-01-20T10:29:37.449Z"
   },
   {
    "duration": 4,
    "start_time": "2023-01-20T10:29:52.841Z"
   },
   {
    "duration": 88,
    "start_time": "2023-01-20T10:29:54.569Z"
   },
   {
    "duration": 3,
    "start_time": "2023-01-20T10:30:19.680Z"
   },
   {
    "duration": 80,
    "start_time": "2023-01-20T10:30:20.505Z"
   },
   {
    "duration": 3,
    "start_time": "2023-01-20T10:30:34.209Z"
   },
   {
    "duration": 279084,
    "start_time": "2023-01-20T10:30:34.962Z"
   },
   {
    "duration": 100,
    "start_time": "2023-01-20T10:35:14.142Z"
   },
   {
    "duration": 4,
    "start_time": "2023-01-20T10:38:14.871Z"
   },
   {
    "duration": 10,
    "start_time": "2023-01-20T10:38:24.275Z"
   },
   {
    "duration": 4,
    "start_time": "2023-01-20T10:38:27.931Z"
   },
   {
    "duration": 7,
    "start_time": "2023-01-20T10:39:58.237Z"
   },
   {
    "duration": 11,
    "start_time": "2023-01-20T10:42:46.207Z"
   },
   {
    "duration": 3,
    "start_time": "2023-01-20T10:45:10.782Z"
   },
   {
    "duration": 1147,
    "start_time": "2023-01-20T10:45:11.846Z"
   },
   {
    "duration": 43,
    "start_time": "2023-01-20T10:45:12.995Z"
   },
   {
    "duration": 10,
    "start_time": "2023-01-20T10:45:17.271Z"
   },
   {
    "duration": 3,
    "start_time": "2023-01-20T10:45:47.710Z"
   },
   {
    "duration": 2150,
    "start_time": "2023-01-20T10:45:48.535Z"
   },
   {
    "duration": 4,
    "start_time": "2023-01-20T10:45:50.688Z"
   },
   {
    "duration": 10,
    "start_time": "2023-01-20T10:45:51.846Z"
   },
   {
    "duration": 5,
    "start_time": "2023-01-20T10:46:55.256Z"
   },
   {
    "duration": 10,
    "start_time": "2023-01-20T10:47:38.105Z"
   },
   {
    "duration": 10,
    "start_time": "2023-01-20T10:47:48.175Z"
   },
   {
    "duration": 9,
    "start_time": "2023-01-20T10:48:28.504Z"
   },
   {
    "duration": 14,
    "start_time": "2023-01-20T10:48:51.082Z"
   },
   {
    "duration": 10,
    "start_time": "2023-01-20T10:48:59.409Z"
   },
   {
    "duration": 1507,
    "start_time": "2023-01-20T10:49:55.926Z"
   },
   {
    "duration": 3,
    "start_time": "2023-01-20T10:49:57.436Z"
   },
   {
    "duration": 905,
    "start_time": "2023-01-20T10:49:57.441Z"
   },
   {
    "duration": 1711,
    "start_time": "2023-01-20T10:49:58.348Z"
   },
   {
    "duration": 120,
    "start_time": "2023-01-20T10:50:00.061Z"
   },
   {
    "duration": 25,
    "start_time": "2023-01-20T10:50:00.183Z"
   },
   {
    "duration": 26,
    "start_time": "2023-01-20T10:50:00.210Z"
   },
   {
    "duration": 71,
    "start_time": "2023-01-20T10:50:00.239Z"
   },
   {
    "duration": 30,
    "start_time": "2023-01-20T10:50:00.312Z"
   },
   {
    "duration": 59,
    "start_time": "2023-01-20T10:50:00.345Z"
   },
   {
    "duration": 24,
    "start_time": "2023-01-20T10:50:00.406Z"
   },
   {
    "duration": 5533,
    "start_time": "2023-01-20T10:50:00.432Z"
   },
   {
    "duration": 20,
    "start_time": "2023-01-20T10:50:05.967Z"
   },
   {
    "duration": 16238,
    "start_time": "2023-01-20T10:50:05.988Z"
   },
   {
    "duration": 23,
    "start_time": "2023-01-20T10:50:22.227Z"
   },
   {
    "duration": 96,
    "start_time": "2023-01-20T10:50:22.251Z"
   },
   {
    "duration": 37,
    "start_time": "2023-01-20T10:50:22.348Z"
   },
   {
    "duration": 50,
    "start_time": "2023-01-20T10:50:22.386Z"
   },
   {
    "duration": 35,
    "start_time": "2023-01-20T10:50:22.438Z"
   },
   {
    "duration": 37,
    "start_time": "2023-01-20T10:50:22.475Z"
   },
   {
    "duration": 47,
    "start_time": "2023-01-20T10:50:22.514Z"
   },
   {
    "duration": 44,
    "start_time": "2023-01-20T10:50:22.563Z"
   },
   {
    "duration": 83,
    "start_time": "2023-01-20T10:50:22.608Z"
   },
   {
    "duration": 4,
    "start_time": "2023-01-20T10:50:22.693Z"
   },
   {
    "duration": 175,
    "start_time": "2023-01-20T10:50:22.699Z"
   },
   {
    "duration": 22,
    "start_time": "2023-01-20T10:50:22.876Z"
   },
   {
    "duration": 4,
    "start_time": "2023-01-20T10:50:22.899Z"
   },
   {
    "duration": 60,
    "start_time": "2023-01-20T10:50:22.907Z"
   },
   {
    "duration": 4,
    "start_time": "2023-01-20T10:50:22.969Z"
   },
   {
    "duration": 9,
    "start_time": "2023-01-20T10:50:22.975Z"
   },
   {
    "duration": 9,
    "start_time": "2023-01-20T10:50:22.985Z"
   },
   {
    "duration": 8,
    "start_time": "2023-01-20T10:50:22.995Z"
   },
   {
    "duration": 44,
    "start_time": "2023-01-20T10:50:23.005Z"
   },
   {
    "duration": 55583,
    "start_time": "2023-01-20T10:50:23.051Z"
   },
   {
    "duration": 5,
    "start_time": "2023-01-20T10:51:18.636Z"
   },
   {
    "duration": 12,
    "start_time": "2023-01-20T10:51:18.643Z"
   },
   {
    "duration": 2466,
    "start_time": "2023-01-20T10:51:18.656Z"
   },
   {
    "duration": 3,
    "start_time": "2023-01-20T10:51:21.124Z"
   },
   {
    "duration": 8,
    "start_time": "2023-01-20T10:51:21.129Z"
   },
   {
    "duration": 124803,
    "start_time": "2023-01-20T10:51:21.139Z"
   },
   {
    "duration": 8,
    "start_time": "2023-01-20T10:53:25.944Z"
   },
   {
    "duration": 6,
    "start_time": "2023-01-20T10:53:25.954Z"
   },
   {
    "duration": 6,
    "start_time": "2023-01-20T10:53:25.961Z"
   },
   {
    "duration": 5691,
    "start_time": "2023-01-20T10:53:25.969Z"
   },
   {
    "duration": 55489,
    "start_time": "2023-01-20T10:53:31.661Z"
   },
   {
    "duration": 1521,
    "start_time": "2023-01-20T10:54:27.152Z"
   },
   {
    "duration": 4,
    "start_time": "2023-01-20T10:54:28.675Z"
   },
   {
    "duration": 2276,
    "start_time": "2023-01-20T10:54:28.680Z"
   },
   {
    "duration": 4,
    "start_time": "2023-01-20T10:54:30.958Z"
   },
   {
    "duration": 142,
    "start_time": "2023-01-20T10:54:30.964Z"
   },
   {
    "duration": 114,
    "start_time": "2023-01-20T10:54:31.140Z"
   },
   {
    "duration": 246,
    "start_time": "2023-01-20T10:54:31.256Z"
   },
   {
    "duration": 70,
    "start_time": "2023-01-20T10:54:31.503Z"
   },
   {
    "duration": 106,
    "start_time": "2023-01-20T10:54:31.575Z"
   },
   {
    "duration": 2731,
    "start_time": "2023-01-20T10:54:31.684Z"
   },
   {
    "duration": 139,
    "start_time": "2023-01-20T10:54:34.416Z"
   },
   {
    "duration": 6428,
    "start_time": "2023-01-20T10:54:34.638Z"
   },
   {
    "duration": 55815,
    "start_time": "2023-01-20T10:54:41.139Z"
   },
   {
    "duration": 82,
    "start_time": "2023-01-20T10:55:36.956Z"
   },
   {
    "duration": 3,
    "start_time": "2023-01-20T11:16:11.532Z"
   },
   {
    "duration": 2284,
    "start_time": "2023-01-20T11:16:12.406Z"
   },
   {
    "duration": 52,
    "start_time": "2023-01-20T11:16:14.692Z"
   },
   {
    "duration": 18,
    "start_time": "2023-01-20T11:16:21.307Z"
   },
   {
    "duration": 3,
    "start_time": "2023-01-20T11:16:57.624Z"
   },
   {
    "duration": 1279,
    "start_time": "2023-01-20T11:16:58.686Z"
   },
   {
    "duration": 6,
    "start_time": "2023-01-20T11:17:05.916Z"
   },
   {
    "duration": 17,
    "start_time": "2023-01-20T11:17:09.315Z"
   },
   {
    "duration": 5,
    "start_time": "2023-01-20T11:22:54.209Z"
   },
   {
    "duration": 1586,
    "start_time": "2023-01-20T11:26:37.815Z"
   },
   {
    "duration": 3,
    "start_time": "2023-01-20T11:26:39.404Z"
   },
   {
    "duration": 924,
    "start_time": "2023-01-20T11:26:39.409Z"
   },
   {
    "duration": 1775,
    "start_time": "2023-01-20T11:26:40.336Z"
   },
   {
    "duration": 128,
    "start_time": "2023-01-20T11:26:42.113Z"
   },
   {
    "duration": 30,
    "start_time": "2023-01-20T11:26:42.243Z"
   },
   {
    "duration": 47,
    "start_time": "2023-01-20T11:26:42.275Z"
   },
   {
    "duration": 66,
    "start_time": "2023-01-20T11:26:42.324Z"
   },
   {
    "duration": 33,
    "start_time": "2023-01-20T11:26:42.392Z"
   },
   {
    "duration": 47,
    "start_time": "2023-01-20T11:26:42.428Z"
   },
   {
    "duration": 48,
    "start_time": "2023-01-20T11:26:42.477Z"
   },
   {
    "duration": 5490,
    "start_time": "2023-01-20T11:26:42.527Z"
   },
   {
    "duration": 26,
    "start_time": "2023-01-20T11:26:48.019Z"
   },
   {
    "duration": 16136,
    "start_time": "2023-01-20T11:26:48.047Z"
   },
   {
    "duration": 23,
    "start_time": "2023-01-20T11:27:04.184Z"
   },
   {
    "duration": 97,
    "start_time": "2023-01-20T11:27:04.209Z"
   },
   {
    "duration": 78,
    "start_time": "2023-01-20T11:27:04.309Z"
   },
   {
    "duration": 62,
    "start_time": "2023-01-20T11:27:04.390Z"
   },
   {
    "duration": 53,
    "start_time": "2023-01-20T11:27:04.455Z"
   },
   {
    "duration": 71,
    "start_time": "2023-01-20T11:27:04.510Z"
   },
   {
    "duration": 42,
    "start_time": "2023-01-20T11:27:04.583Z"
   },
   {
    "duration": 44,
    "start_time": "2023-01-20T11:27:04.627Z"
   },
   {
    "duration": 86,
    "start_time": "2023-01-20T11:27:04.674Z"
   },
   {
    "duration": 4,
    "start_time": "2023-01-20T11:27:04.762Z"
   },
   {
    "duration": 190,
    "start_time": "2023-01-20T11:27:04.768Z"
   },
   {
    "duration": 37,
    "start_time": "2023-01-20T11:27:04.960Z"
   },
   {
    "duration": 6,
    "start_time": "2023-01-20T11:27:04.999Z"
   },
   {
    "duration": 67,
    "start_time": "2023-01-20T11:27:05.009Z"
   },
   {
    "duration": 4,
    "start_time": "2023-01-20T11:27:05.078Z"
   },
   {
    "duration": 16,
    "start_time": "2023-01-20T11:27:05.083Z"
   },
   {
    "duration": 7,
    "start_time": "2023-01-20T11:27:05.102Z"
   },
   {
    "duration": 11,
    "start_time": "2023-01-20T11:27:05.111Z"
   },
   {
    "duration": 15,
    "start_time": "2023-01-20T11:27:05.124Z"
   },
   {
    "duration": 60173,
    "start_time": "2023-01-20T11:27:05.141Z"
   },
   {
    "duration": 10,
    "start_time": "2023-01-20T11:28:05.317Z"
   },
   {
    "duration": 5,
    "start_time": "2023-01-20T11:28:05.334Z"
   },
   {
    "duration": 65,
    "start_time": "2023-01-20T11:28:05.340Z"
   },
   {
    "duration": 15,
    "start_time": "2023-01-20T11:28:05.408Z"
   },
   {
    "duration": 84122,
    "start_time": "2023-01-20T11:28:05.425Z"
   },
   {
    "duration": 3,
    "start_time": "2023-01-20T11:29:29.549Z"
   },
   {
    "duration": 26,
    "start_time": "2023-01-20T11:29:29.554Z"
   },
   {
    "duration": 692,
    "start_time": "2023-01-20T11:29:29.582Z"
   },
   {
    "duration": 1109,
    "start_time": "2023-01-20T11:29:30.276Z"
   },
   {
    "duration": 262719,
    "start_time": "2023-01-20T11:29:31.387Z"
   },
   {
    "duration": 129,
    "start_time": "2023-01-20T11:33:54.108Z"
   },
   {
    "duration": 7207,
    "start_time": "2023-01-20T11:33:54.239Z"
   },
   {
    "duration": 63089,
    "start_time": "2023-01-20T11:34:01.448Z"
   },
   {
    "duration": 98,
    "start_time": "2023-01-20T11:35:04.540Z"
   },
   {
    "duration": 113,
    "start_time": "2023-01-20T11:46:59.290Z"
   },
   {
    "duration": 125,
    "start_time": "2023-01-20T11:47:47.789Z"
   },
   {
    "duration": 123,
    "start_time": "2023-01-20T11:48:15.108Z"
   },
   {
    "duration": 4,
    "start_time": "2023-01-20T11:48:22.375Z"
   },
   {
    "duration": 127,
    "start_time": "2023-01-20T11:50:35.711Z"
   },
   {
    "duration": 5,
    "start_time": "2023-01-20T11:50:36.522Z"
   },
   {
    "duration": 1485,
    "start_time": "2023-01-20T11:51:15.690Z"
   },
   {
    "duration": 3,
    "start_time": "2023-01-20T11:51:17.177Z"
   },
   {
    "duration": 935,
    "start_time": "2023-01-20T11:51:17.181Z"
   },
   {
    "duration": 1833,
    "start_time": "2023-01-20T11:51:18.119Z"
   },
   {
    "duration": 127,
    "start_time": "2023-01-20T11:51:19.954Z"
   },
   {
    "duration": 16,
    "start_time": "2023-01-20T11:51:20.083Z"
   },
   {
    "duration": 26,
    "start_time": "2023-01-20T11:51:20.101Z"
   },
   {
    "duration": 28,
    "start_time": "2023-01-20T11:51:20.129Z"
   },
   {
    "duration": 28,
    "start_time": "2023-01-20T11:51:20.159Z"
   },
   {
    "duration": 59,
    "start_time": "2023-01-20T11:51:20.191Z"
   },
   {
    "duration": 25,
    "start_time": "2023-01-20T11:51:20.252Z"
   },
   {
    "duration": 5452,
    "start_time": "2023-01-20T11:51:20.279Z"
   },
   {
    "duration": 20,
    "start_time": "2023-01-20T11:51:25.733Z"
   },
   {
    "duration": 16025,
    "start_time": "2023-01-20T11:51:25.755Z"
   },
   {
    "duration": 21,
    "start_time": "2023-01-20T11:51:41.782Z"
   },
   {
    "duration": 103,
    "start_time": "2023-01-20T11:51:41.805Z"
   },
   {
    "duration": 47,
    "start_time": "2023-01-20T11:51:41.910Z"
   },
   {
    "duration": 40,
    "start_time": "2023-01-20T11:51:41.959Z"
   },
   {
    "duration": 54,
    "start_time": "2023-01-20T11:51:42.001Z"
   },
   {
    "duration": 39,
    "start_time": "2023-01-20T11:51:42.057Z"
   },
   {
    "duration": 54,
    "start_time": "2023-01-20T11:51:42.098Z"
   },
   {
    "duration": 51,
    "start_time": "2023-01-20T11:51:42.154Z"
   },
   {
    "duration": 82,
    "start_time": "2023-01-20T11:51:42.207Z"
   },
   {
    "duration": 22,
    "start_time": "2023-01-20T11:51:42.291Z"
   },
   {
    "duration": 181,
    "start_time": "2023-01-20T11:51:42.315Z"
   },
   {
    "duration": 22,
    "start_time": "2023-01-20T11:51:42.498Z"
   },
   {
    "duration": 15,
    "start_time": "2023-01-20T11:51:42.522Z"
   },
   {
    "duration": 61,
    "start_time": "2023-01-20T11:51:42.541Z"
   },
   {
    "duration": 4,
    "start_time": "2023-01-20T11:51:42.603Z"
   },
   {
    "duration": 14,
    "start_time": "2023-01-20T11:51:42.609Z"
   },
   {
    "duration": 16,
    "start_time": "2023-01-20T11:51:42.625Z"
   },
   {
    "duration": 33,
    "start_time": "2023-01-20T11:51:42.642Z"
   },
   {
    "duration": 36,
    "start_time": "2023-01-20T11:51:42.676Z"
   },
   {
    "duration": 34,
    "start_time": "2023-01-20T11:51:42.714Z"
   },
   {
    "duration": 46319,
    "start_time": "2023-01-20T11:51:42.750Z"
   },
   {
    "duration": 4,
    "start_time": "2023-01-20T11:52:29.071Z"
   },
   {
    "duration": 7,
    "start_time": "2023-01-20T11:52:29.076Z"
   },
   {
    "duration": 8,
    "start_time": "2023-01-20T11:52:29.085Z"
   },
   {
    "duration": 8,
    "start_time": "2023-01-20T11:52:29.095Z"
   },
   {
    "duration": 33646,
    "start_time": "2023-01-20T11:52:29.105Z"
   },
   {
    "duration": 85,
    "start_time": "2023-01-20T11:53:02.753Z"
   },
   {
    "duration": 13,
    "start_time": "2023-01-20T11:53:02.840Z"
   },
   {
    "duration": 667,
    "start_time": "2023-01-20T11:53:02.855Z"
   },
   {
    "duration": 1219,
    "start_time": "2023-01-20T11:53:03.524Z"
   },
   {
    "duration": 196306,
    "start_time": "2023-01-20T11:53:04.746Z"
   },
   {
    "duration": 96,
    "start_time": "2023-01-20T11:56:21.054Z"
   },
   {
    "duration": 5689,
    "start_time": "2023-01-20T11:56:21.152Z"
   },
   {
    "duration": 65093,
    "start_time": "2023-01-20T11:56:26.843Z"
   },
   {
    "duration": 12,
    "start_time": "2023-01-20T11:57:31.939Z"
   },
   {
    "duration": 1449,
    "start_time": "2023-01-20T11:59:17.982Z"
   },
   {
    "duration": 3,
    "start_time": "2023-01-20T11:59:19.433Z"
   },
   {
    "duration": 854,
    "start_time": "2023-01-20T11:59:19.437Z"
   },
   {
    "duration": 1669,
    "start_time": "2023-01-20T11:59:20.293Z"
   },
   {
    "duration": 127,
    "start_time": "2023-01-20T11:59:21.964Z"
   },
   {
    "duration": 18,
    "start_time": "2023-01-20T11:59:22.093Z"
   },
   {
    "duration": 23,
    "start_time": "2023-01-20T11:59:22.113Z"
   },
   {
    "duration": 19,
    "start_time": "2023-01-20T11:59:22.138Z"
   },
   {
    "duration": 12,
    "start_time": "2023-01-20T11:59:22.159Z"
   },
   {
    "duration": 26,
    "start_time": "2023-01-20T11:59:22.173Z"
   },
   {
    "duration": 49,
    "start_time": "2023-01-20T11:59:22.201Z"
   },
   {
    "duration": 5250,
    "start_time": "2023-01-20T11:59:22.252Z"
   },
   {
    "duration": 19,
    "start_time": "2023-01-20T11:59:27.504Z"
   },
   {
    "duration": 15616,
    "start_time": "2023-01-20T11:59:27.536Z"
   },
   {
    "duration": 21,
    "start_time": "2023-01-20T11:59:43.153Z"
   },
   {
    "duration": 84,
    "start_time": "2023-01-20T11:59:43.176Z"
   },
   {
    "duration": 40,
    "start_time": "2023-01-20T11:59:43.262Z"
   },
   {
    "duration": 60,
    "start_time": "2023-01-20T11:59:43.304Z"
   },
   {
    "duration": 41,
    "start_time": "2023-01-20T11:59:43.366Z"
   },
   {
    "duration": 57,
    "start_time": "2023-01-20T11:59:43.408Z"
   },
   {
    "duration": 31,
    "start_time": "2023-01-20T11:59:43.467Z"
   },
   {
    "duration": 63,
    "start_time": "2023-01-20T11:59:43.500Z"
   },
   {
    "duration": 83,
    "start_time": "2023-01-20T11:59:43.564Z"
   },
   {
    "duration": 3,
    "start_time": "2023-01-20T11:59:43.649Z"
   },
   {
    "duration": 184,
    "start_time": "2023-01-20T11:59:43.653Z"
   },
   {
    "duration": 22,
    "start_time": "2023-01-20T11:59:43.839Z"
   },
   {
    "duration": 4,
    "start_time": "2023-01-20T11:59:43.863Z"
   },
   {
    "duration": 81,
    "start_time": "2023-01-20T11:59:43.868Z"
   },
   {
    "duration": 5,
    "start_time": "2023-01-20T11:59:43.950Z"
   },
   {
    "duration": 7,
    "start_time": "2023-01-20T11:59:43.956Z"
   },
   {
    "duration": 8,
    "start_time": "2023-01-20T11:59:43.964Z"
   },
   {
    "duration": 5,
    "start_time": "2023-01-20T11:59:43.974Z"
   },
   {
    "duration": 7,
    "start_time": "2023-01-20T11:59:43.980Z"
   },
   {
    "duration": 6,
    "start_time": "2023-01-20T11:59:43.989Z"
   },
   {
    "duration": 6,
    "start_time": "2023-01-20T11:59:43.996Z"
   },
   {
    "duration": 6,
    "start_time": "2023-01-20T11:59:44.003Z"
   },
   {
    "duration": 708,
    "start_time": "2023-01-20T11:59:44.010Z"
   },
   {
    "duration": 1105,
    "start_time": "2023-01-20T11:59:44.720Z"
   },
   {
    "duration": 198045,
    "start_time": "2023-01-20T11:59:45.827Z"
   },
   {
    "duration": 87,
    "start_time": "2023-01-20T12:03:03.874Z"
   },
   {
    "duration": 8922,
    "start_time": "2023-01-20T12:03:04.036Z"
   },
   {
    "duration": 63613,
    "start_time": "2023-01-20T12:03:13.036Z"
   },
   {
    "duration": 188,
    "start_time": "2023-01-20T12:04:16.651Z"
   },
   {
    "duration": 123,
    "start_time": "2023-01-20T12:05:34.885Z"
   },
   {
    "duration": 10,
    "start_time": "2023-01-20T12:05:49.757Z"
   },
   {
    "duration": 595,
    "start_time": "2023-01-20T12:12:00.052Z"
   },
   {
    "duration": 27,
    "start_time": "2023-01-20T12:12:42.975Z"
   },
   {
    "duration": 94,
    "start_time": "2023-01-20T12:13:06.742Z"
   },
   {
    "duration": 1542,
    "start_time": "2023-01-20T12:16:09.396Z"
   },
   {
    "duration": 5,
    "start_time": "2023-01-20T12:16:10.940Z"
   },
   {
    "duration": 929,
    "start_time": "2023-01-20T12:16:10.947Z"
   },
   {
    "duration": 1685,
    "start_time": "2023-01-20T12:16:11.878Z"
   },
   {
    "duration": 128,
    "start_time": "2023-01-20T12:16:13.564Z"
   },
   {
    "duration": 23,
    "start_time": "2023-01-20T12:16:13.694Z"
   },
   {
    "duration": 17,
    "start_time": "2023-01-20T12:16:13.719Z"
   },
   {
    "duration": 37,
    "start_time": "2023-01-20T12:16:13.738Z"
   },
   {
    "duration": 26,
    "start_time": "2023-01-20T12:16:13.777Z"
   },
   {
    "duration": 32,
    "start_time": "2023-01-20T12:16:13.805Z"
   },
   {
    "duration": 52,
    "start_time": "2023-01-20T12:16:13.838Z"
   },
   {
    "duration": 5560,
    "start_time": "2023-01-20T12:16:13.892Z"
   },
   {
    "duration": 19,
    "start_time": "2023-01-20T12:16:19.454Z"
   },
   {
    "duration": 16561,
    "start_time": "2023-01-20T12:16:19.475Z"
   },
   {
    "duration": 21,
    "start_time": "2023-01-20T12:16:36.038Z"
   },
   {
    "duration": 88,
    "start_time": "2023-01-20T12:16:36.060Z"
   },
   {
    "duration": 38,
    "start_time": "2023-01-20T12:16:36.150Z"
   },
   {
    "duration": 52,
    "start_time": "2023-01-20T12:16:36.190Z"
   },
   {
    "duration": 39,
    "start_time": "2023-01-20T12:16:36.243Z"
   },
   {
    "duration": 55,
    "start_time": "2023-01-20T12:16:36.283Z"
   },
   {
    "duration": 32,
    "start_time": "2023-01-20T12:16:36.340Z"
   },
   {
    "duration": 62,
    "start_time": "2023-01-20T12:16:36.374Z"
   },
   {
    "duration": 70,
    "start_time": "2023-01-20T12:16:36.438Z"
   },
   {
    "duration": 2,
    "start_time": "2023-01-20T12:16:36.510Z"
   },
   {
    "duration": 193,
    "start_time": "2023-01-20T12:16:36.514Z"
   },
   {
    "duration": 30,
    "start_time": "2023-01-20T12:16:36.709Z"
   },
   {
    "duration": 4,
    "start_time": "2023-01-20T12:16:36.741Z"
   },
   {
    "duration": 68,
    "start_time": "2023-01-20T12:16:36.748Z"
   },
   {
    "duration": 18,
    "start_time": "2023-01-20T12:16:36.818Z"
   },
   {
    "duration": 9,
    "start_time": "2023-01-20T12:16:36.838Z"
   },
   {
    "duration": 9,
    "start_time": "2023-01-20T12:16:36.849Z"
   },
   {
    "duration": 12,
    "start_time": "2023-01-20T12:16:36.860Z"
   },
   {
    "duration": 5,
    "start_time": "2023-01-20T12:16:36.874Z"
   },
   {
    "duration": 15,
    "start_time": "2023-01-20T12:16:36.880Z"
   },
   {
    "duration": 7,
    "start_time": "2023-01-20T12:16:36.897Z"
   },
   {
    "duration": 7,
    "start_time": "2023-01-20T12:16:36.905Z"
   },
   {
    "duration": 704,
    "start_time": "2023-01-20T12:16:36.913Z"
   },
   {
    "duration": 1174,
    "start_time": "2023-01-20T12:16:37.619Z"
   },
   {
    "duration": 112,
    "start_time": "2023-01-20T12:16:38.796Z"
   },
   {
    "duration": 0,
    "start_time": "2023-01-20T12:16:38.910Z"
   },
   {
    "duration": 0,
    "start_time": "2023-01-20T12:16:38.912Z"
   },
   {
    "duration": 0,
    "start_time": "2023-01-20T12:16:38.913Z"
   },
   {
    "duration": 0,
    "start_time": "2023-01-20T12:16:38.915Z"
   },
   {
    "duration": 0,
    "start_time": "2023-01-20T12:16:38.917Z"
   },
   {
    "duration": 0,
    "start_time": "2023-01-20T12:16:38.937Z"
   },
   {
    "duration": 1450,
    "start_time": "2023-01-20T12:19:24.898Z"
   },
   {
    "duration": 3,
    "start_time": "2023-01-20T12:19:26.350Z"
   },
   {
    "duration": 841,
    "start_time": "2023-01-20T12:19:26.355Z"
   },
   {
    "duration": 1741,
    "start_time": "2023-01-20T12:19:27.199Z"
   },
   {
    "duration": 119,
    "start_time": "2023-01-20T12:19:28.942Z"
   },
   {
    "duration": 17,
    "start_time": "2023-01-20T12:19:29.063Z"
   },
   {
    "duration": 18,
    "start_time": "2023-01-20T12:19:29.082Z"
   },
   {
    "duration": 36,
    "start_time": "2023-01-20T12:19:29.102Z"
   },
   {
    "duration": 19,
    "start_time": "2023-01-20T12:19:29.140Z"
   },
   {
    "duration": 47,
    "start_time": "2023-01-20T12:19:29.161Z"
   },
   {
    "duration": 23,
    "start_time": "2023-01-20T12:19:29.210Z"
   },
   {
    "duration": 5224,
    "start_time": "2023-01-20T12:19:29.235Z"
   },
   {
    "duration": 23,
    "start_time": "2023-01-20T12:19:34.461Z"
   },
   {
    "duration": 15362,
    "start_time": "2023-01-20T12:19:34.486Z"
   },
   {
    "duration": 19,
    "start_time": "2023-01-20T12:19:49.850Z"
   },
   {
    "duration": 84,
    "start_time": "2023-01-20T12:19:49.871Z"
   },
   {
    "duration": 38,
    "start_time": "2023-01-20T12:19:49.957Z"
   },
   {
    "duration": 59,
    "start_time": "2023-01-20T12:19:49.996Z"
   },
   {
    "duration": 43,
    "start_time": "2023-01-20T12:19:50.057Z"
   },
   {
    "duration": 58,
    "start_time": "2023-01-20T12:19:50.101Z"
   },
   {
    "duration": 31,
    "start_time": "2023-01-20T12:19:50.161Z"
   },
   {
    "duration": 61,
    "start_time": "2023-01-20T12:19:50.195Z"
   },
   {
    "duration": 79,
    "start_time": "2023-01-20T12:19:50.258Z"
   },
   {
    "duration": 4,
    "start_time": "2023-01-20T12:19:50.339Z"
   },
   {
    "duration": 189,
    "start_time": "2023-01-20T12:19:50.344Z"
   },
   {
    "duration": 29,
    "start_time": "2023-01-20T12:19:50.535Z"
   },
   {
    "duration": 5,
    "start_time": "2023-01-20T12:19:50.566Z"
   },
   {
    "duration": 84,
    "start_time": "2023-01-20T12:19:50.576Z"
   },
   {
    "duration": 5,
    "start_time": "2023-01-20T12:19:50.662Z"
   },
   {
    "duration": 16,
    "start_time": "2023-01-20T12:19:50.669Z"
   },
   {
    "duration": 25,
    "start_time": "2023-01-20T12:19:50.687Z"
   },
   {
    "duration": 9,
    "start_time": "2023-01-20T12:19:50.714Z"
   },
   {
    "duration": 11,
    "start_time": "2023-01-20T12:19:50.725Z"
   },
   {
    "duration": 5,
    "start_time": "2023-01-20T12:19:50.738Z"
   },
   {
    "duration": 22,
    "start_time": "2023-01-20T12:19:50.745Z"
   },
   {
    "duration": 15,
    "start_time": "2023-01-20T12:19:50.769Z"
   },
   {
    "duration": 706,
    "start_time": "2023-01-20T12:19:50.786Z"
   },
   {
    "duration": 1120,
    "start_time": "2023-01-20T12:19:51.493Z"
   },
   {
    "duration": 125,
    "start_time": "2023-01-20T12:19:52.615Z"
   },
   {
    "duration": 0,
    "start_time": "2023-01-20T12:19:52.742Z"
   },
   {
    "duration": 0,
    "start_time": "2023-01-20T12:19:52.743Z"
   },
   {
    "duration": 0,
    "start_time": "2023-01-20T12:19:52.744Z"
   },
   {
    "duration": 0,
    "start_time": "2023-01-20T12:19:52.745Z"
   },
   {
    "duration": 0,
    "start_time": "2023-01-20T12:19:52.746Z"
   },
   {
    "duration": 0,
    "start_time": "2023-01-20T12:19:52.747Z"
   },
   {
    "duration": 15,
    "start_time": "2023-01-20T12:20:56.336Z"
   },
   {
    "duration": 1517,
    "start_time": "2023-01-20T12:21:32.723Z"
   },
   {
    "duration": 2,
    "start_time": "2023-01-20T12:21:34.242Z"
   },
   {
    "duration": 920,
    "start_time": "2023-01-20T12:21:34.246Z"
   },
   {
    "duration": 1667,
    "start_time": "2023-01-20T12:21:35.169Z"
   },
   {
    "duration": 121,
    "start_time": "2023-01-20T12:21:36.838Z"
   },
   {
    "duration": 21,
    "start_time": "2023-01-20T12:21:36.961Z"
   },
   {
    "duration": 32,
    "start_time": "2023-01-20T12:21:36.984Z"
   },
   {
    "duration": 35,
    "start_time": "2023-01-20T12:21:37.018Z"
   },
   {
    "duration": 17,
    "start_time": "2023-01-20T12:21:37.055Z"
   },
   {
    "duration": 34,
    "start_time": "2023-01-20T12:21:37.075Z"
   },
   {
    "duration": 40,
    "start_time": "2023-01-20T12:21:37.110Z"
   },
   {
    "duration": 5505,
    "start_time": "2023-01-20T12:21:37.152Z"
   },
   {
    "duration": 20,
    "start_time": "2023-01-20T12:21:42.658Z"
   },
   {
    "duration": 16022,
    "start_time": "2023-01-20T12:21:42.680Z"
   },
   {
    "duration": 20,
    "start_time": "2023-01-20T12:21:58.704Z"
   },
   {
    "duration": 75,
    "start_time": "2023-01-20T12:21:58.736Z"
   },
   {
    "duration": 49,
    "start_time": "2023-01-20T12:21:58.813Z"
   },
   {
    "duration": 38,
    "start_time": "2023-01-20T12:21:58.863Z"
   },
   {
    "duration": 55,
    "start_time": "2023-01-20T12:21:58.903Z"
   },
   {
    "duration": 37,
    "start_time": "2023-01-20T12:21:58.960Z"
   },
   {
    "duration": 48,
    "start_time": "2023-01-20T12:21:58.999Z"
   },
   {
    "duration": 41,
    "start_time": "2023-01-20T12:21:59.049Z"
   },
   {
    "duration": 77,
    "start_time": "2023-01-20T12:21:59.092Z"
   },
   {
    "duration": 2,
    "start_time": "2023-01-20T12:21:59.171Z"
   },
   {
    "duration": 189,
    "start_time": "2023-01-20T12:21:59.174Z"
   },
   {
    "duration": 25,
    "start_time": "2023-01-20T12:21:59.365Z"
   },
   {
    "duration": 3,
    "start_time": "2023-01-20T12:21:59.392Z"
   },
   {
    "duration": 75,
    "start_time": "2023-01-20T12:21:59.400Z"
   },
   {
    "duration": 4,
    "start_time": "2023-01-20T12:21:59.477Z"
   },
   {
    "duration": 9,
    "start_time": "2023-01-20T12:21:59.483Z"
   },
   {
    "duration": 6,
    "start_time": "2023-01-20T12:21:59.494Z"
   },
   {
    "duration": 11,
    "start_time": "2023-01-20T12:21:59.502Z"
   },
   {
    "duration": 8,
    "start_time": "2023-01-20T12:21:59.515Z"
   },
   {
    "duration": 15,
    "start_time": "2023-01-20T12:21:59.525Z"
   },
   {
    "duration": 10,
    "start_time": "2023-01-20T12:21:59.541Z"
   },
   {
    "duration": 7,
    "start_time": "2023-01-20T12:21:59.553Z"
   },
   {
    "duration": 702,
    "start_time": "2023-01-20T12:21:59.561Z"
   },
   {
    "duration": 1235,
    "start_time": "2023-01-20T12:22:00.265Z"
   },
   {
    "duration": 39,
    "start_time": "2023-01-20T12:22:01.502Z"
   },
   {
    "duration": 235,
    "start_time": "2023-01-20T12:22:01.546Z"
   },
   {
    "duration": 0,
    "start_time": "2023-01-20T12:22:01.783Z"
   },
   {
    "duration": 0,
    "start_time": "2023-01-20T12:22:01.784Z"
   },
   {
    "duration": 1,
    "start_time": "2023-01-20T12:22:01.785Z"
   },
   {
    "duration": 0,
    "start_time": "2023-01-20T12:22:01.787Z"
   },
   {
    "duration": 0,
    "start_time": "2023-01-20T12:22:01.788Z"
   },
   {
    "duration": 193831,
    "start_time": "2023-01-20T12:22:20.506Z"
   },
   {
    "duration": 106,
    "start_time": "2023-01-20T12:25:34.339Z"
   },
   {
    "duration": 7205,
    "start_time": "2023-01-20T12:25:34.447Z"
   },
   {
    "duration": 36986,
    "start_time": "2023-01-20T12:25:41.654Z"
   },
   {
    "duration": 102,
    "start_time": "2023-01-20T12:26:18.642Z"
   },
   {
    "duration": 573,
    "start_time": "2023-01-20T12:40:59.763Z"
   },
   {
    "duration": 608,
    "start_time": "2023-01-20T12:41:09.244Z"
   },
   {
    "duration": 1460,
    "start_time": "2023-01-20T12:42:39.867Z"
   },
   {
    "duration": 4,
    "start_time": "2023-01-20T12:42:41.331Z"
   },
   {
    "duration": 886,
    "start_time": "2023-01-20T12:42:41.336Z"
   },
   {
    "duration": 1603,
    "start_time": "2023-01-20T12:42:42.224Z"
   },
   {
    "duration": 121,
    "start_time": "2023-01-20T12:42:43.829Z"
   },
   {
    "duration": 17,
    "start_time": "2023-01-20T12:42:43.952Z"
   },
   {
    "duration": 8,
    "start_time": "2023-01-20T12:42:43.971Z"
   },
   {
    "duration": 28,
    "start_time": "2023-01-20T12:42:43.980Z"
   },
   {
    "duration": 11,
    "start_time": "2023-01-20T12:42:44.010Z"
   },
   {
    "duration": 19,
    "start_time": "2023-01-20T12:42:44.038Z"
   },
   {
    "duration": 25,
    "start_time": "2023-01-20T12:42:44.059Z"
   },
   {
    "duration": 5371,
    "start_time": "2023-01-20T12:42:44.085Z"
   },
   {
    "duration": 18,
    "start_time": "2023-01-20T12:42:49.458Z"
   },
   {
    "duration": 15500,
    "start_time": "2023-01-20T12:42:49.477Z"
   },
   {
    "duration": 19,
    "start_time": "2023-01-20T12:43:04.978Z"
   },
   {
    "duration": 97,
    "start_time": "2023-01-20T12:43:04.999Z"
   },
   {
    "duration": 46,
    "start_time": "2023-01-20T12:43:05.098Z"
   },
   {
    "duration": 38,
    "start_time": "2023-01-20T12:43:05.145Z"
   },
   {
    "duration": 52,
    "start_time": "2023-01-20T12:43:05.185Z"
   },
   {
    "duration": 37,
    "start_time": "2023-01-20T12:43:05.239Z"
   },
   {
    "duration": 42,
    "start_time": "2023-01-20T12:43:05.278Z"
   },
   {
    "duration": 46,
    "start_time": "2023-01-20T12:43:05.343Z"
   },
   {
    "duration": 72,
    "start_time": "2023-01-20T12:43:05.391Z"
   },
   {
    "duration": 18,
    "start_time": "2023-01-20T12:43:05.465Z"
   },
   {
    "duration": 180,
    "start_time": "2023-01-20T12:43:05.484Z"
   },
   {
    "duration": 23,
    "start_time": "2023-01-20T12:43:05.666Z"
   },
   {
    "duration": 4,
    "start_time": "2023-01-20T12:43:05.691Z"
   },
   {
    "duration": 88,
    "start_time": "2023-01-20T12:43:05.699Z"
   },
   {
    "duration": 4,
    "start_time": "2023-01-20T12:43:05.789Z"
   },
   {
    "duration": 24,
    "start_time": "2023-01-20T12:43:05.795Z"
   },
   {
    "duration": 37,
    "start_time": "2023-01-20T12:43:05.821Z"
   },
   {
    "duration": 22,
    "start_time": "2023-01-20T12:43:05.860Z"
   },
   {
    "duration": 18,
    "start_time": "2023-01-20T12:43:05.884Z"
   },
   {
    "duration": 28,
    "start_time": "2023-01-20T12:43:05.904Z"
   },
   {
    "duration": 17,
    "start_time": "2023-01-20T12:43:05.934Z"
   },
   {
    "duration": 31,
    "start_time": "2023-01-20T12:43:05.953Z"
   },
   {
    "duration": 765,
    "start_time": "2023-01-20T12:43:05.986Z"
   },
   {
    "duration": 1120,
    "start_time": "2023-01-20T12:43:06.753Z"
   },
   {
    "duration": 192791,
    "start_time": "2023-01-20T12:43:07.875Z"
   },
   {
    "duration": 74,
    "start_time": "2023-01-20T12:46:20.668Z"
   },
   {
    "duration": 5609,
    "start_time": "2023-01-20T12:46:20.747Z"
   },
   {
    "duration": 39089,
    "start_time": "2023-01-20T12:46:26.358Z"
   },
   {
    "duration": 13,
    "start_time": "2023-01-20T12:47:05.538Z"
   },
   {
    "duration": 656,
    "start_time": "2023-01-20T12:47:05.552Z"
   },
   {
    "duration": 30,
    "start_time": "2023-01-20T12:47:06.210Z"
   },
   {
    "duration": 1519,
    "start_time": "2023-01-20T12:52:55.944Z"
   },
   {
    "duration": 3,
    "start_time": "2023-01-20T12:52:57.465Z"
   },
   {
    "duration": 961,
    "start_time": "2023-01-20T12:52:57.470Z"
   },
   {
    "duration": 1860,
    "start_time": "2023-01-20T12:52:58.436Z"
   },
   {
    "duration": 223,
    "start_time": "2023-01-20T12:53:00.299Z"
   },
   {
    "duration": 29,
    "start_time": "2023-01-20T12:53:00.524Z"
   },
   {
    "duration": 18,
    "start_time": "2023-01-20T12:53:00.555Z"
   },
   {
    "duration": 54,
    "start_time": "2023-01-20T12:53:00.575Z"
   },
   {
    "duration": 28,
    "start_time": "2023-01-20T12:53:00.632Z"
   },
   {
    "duration": 43,
    "start_time": "2023-01-20T12:53:00.663Z"
   },
   {
    "duration": 37,
    "start_time": "2023-01-20T12:53:00.707Z"
   },
   {
    "duration": 5521,
    "start_time": "2023-01-20T12:53:00.746Z"
   },
   {
    "duration": 20,
    "start_time": "2023-01-20T12:53:06.269Z"
   },
   {
    "duration": 16206,
    "start_time": "2023-01-20T12:53:06.291Z"
   },
   {
    "duration": 20,
    "start_time": "2023-01-20T12:53:22.498Z"
   },
   {
    "duration": 90,
    "start_time": "2023-01-20T12:53:22.519Z"
   },
   {
    "duration": 49,
    "start_time": "2023-01-20T12:53:22.611Z"
   },
   {
    "duration": 38,
    "start_time": "2023-01-20T12:53:22.662Z"
   },
   {
    "duration": 52,
    "start_time": "2023-01-20T12:53:22.702Z"
   },
   {
    "duration": 37,
    "start_time": "2023-01-20T12:53:22.756Z"
   },
   {
    "duration": 48,
    "start_time": "2023-01-20T12:53:22.795Z"
   },
   {
    "duration": 43,
    "start_time": "2023-01-20T12:53:22.845Z"
   },
   {
    "duration": 86,
    "start_time": "2023-01-20T12:53:22.889Z"
   },
   {
    "duration": 26,
    "start_time": "2023-01-20T12:53:22.976Z"
   },
   {
    "duration": 186,
    "start_time": "2023-01-20T12:53:23.003Z"
   },
   {
    "duration": 23,
    "start_time": "2023-01-20T12:53:23.191Z"
   },
   {
    "duration": 12,
    "start_time": "2023-01-20T12:53:23.215Z"
   },
   {
    "duration": 77,
    "start_time": "2023-01-20T12:53:23.239Z"
   },
   {
    "duration": 4,
    "start_time": "2023-01-20T12:53:23.317Z"
   },
   {
    "duration": 17,
    "start_time": "2023-01-20T12:53:23.323Z"
   },
   {
    "duration": 64,
    "start_time": "2023-01-20T12:53:23.342Z"
   },
   {
    "duration": 23,
    "start_time": "2023-01-20T12:53:23.408Z"
   },
   {
    "duration": 15,
    "start_time": "2023-01-20T12:53:23.433Z"
   },
   {
    "duration": 33,
    "start_time": "2023-01-20T12:53:23.450Z"
   },
   {
    "duration": 48643,
    "start_time": "2023-01-20T12:53:23.485Z"
   },
   {
    "duration": 3,
    "start_time": "2023-01-20T12:54:12.130Z"
   },
   {
    "duration": 8,
    "start_time": "2023-01-20T12:54:12.135Z"
   },
   {
    "duration": 8,
    "start_time": "2023-01-20T12:54:12.144Z"
   },
   {
    "duration": 1955,
    "start_time": "2023-01-20T12:54:12.153Z"
   },
   {
    "duration": 4,
    "start_time": "2023-01-20T12:54:14.110Z"
   },
   {
    "duration": 7,
    "start_time": "2023-01-20T12:54:14.115Z"
   },
   {
    "duration": 44025,
    "start_time": "2023-01-20T12:54:14.124Z"
   },
   {
    "duration": 4,
    "start_time": "2023-01-20T12:54:58.151Z"
   },
   {
    "duration": 4,
    "start_time": "2023-01-20T12:54:58.237Z"
   },
   {
    "duration": 6,
    "start_time": "2023-01-20T12:54:58.243Z"
   },
   {
    "duration": 1101,
    "start_time": "2023-01-20T12:54:58.251Z"
   },
   {
    "duration": 779,
    "start_time": "2023-01-20T12:54:59.436Z"
   },
   {
    "duration": 1142,
    "start_time": "2023-01-20T12:55:00.217Z"
   },
   {
    "duration": 2469,
    "start_time": "2023-01-20T12:55:01.361Z"
   },
   {
    "duration": 109,
    "start_time": "2023-01-20T12:55:03.831Z"
   },
   {
    "duration": 1103,
    "start_time": "2023-01-20T12:55:03.942Z"
   },
   {
    "duration": 39490,
    "start_time": "2023-01-20T12:55:05.047Z"
   },
   {
    "duration": 99,
    "start_time": "2023-01-20T12:55:44.539Z"
   },
   {
    "duration": 58,
    "start_time": "2023-01-20T12:55:44.640Z"
   },
   {
    "duration": 41,
    "start_time": "2023-01-20T12:55:44.699Z"
   },
   {
    "duration": 38,
    "start_time": "2023-01-20T12:56:44.399Z"
   },
   {
    "duration": 6,
    "start_time": "2023-01-20T12:57:53.047Z"
   },
   {
    "duration": 1740,
    "start_time": "2023-01-20T13:00:30.515Z"
   },
   {
    "duration": 3,
    "start_time": "2023-01-20T13:00:32.257Z"
   },
   {
    "duration": 904,
    "start_time": "2023-01-20T13:00:32.262Z"
   },
   {
    "duration": 1698,
    "start_time": "2023-01-20T13:00:33.169Z"
   },
   {
    "duration": 133,
    "start_time": "2023-01-20T13:00:34.870Z"
   },
   {
    "duration": 32,
    "start_time": "2023-01-20T13:00:35.005Z"
   },
   {
    "duration": 2,
    "start_time": "2023-01-20T13:00:35.040Z"
   },
   {
    "duration": 33,
    "start_time": "2023-01-20T13:00:35.045Z"
   },
   {
    "duration": 11,
    "start_time": "2023-01-20T13:00:35.080Z"
   },
   {
    "duration": 24,
    "start_time": "2023-01-20T13:00:35.093Z"
   },
   {
    "duration": 41,
    "start_time": "2023-01-20T13:00:35.118Z"
   },
   {
    "duration": 5446,
    "start_time": "2023-01-20T13:00:35.161Z"
   },
   {
    "duration": 19,
    "start_time": "2023-01-20T13:00:40.608Z"
   },
   {
    "duration": 15684,
    "start_time": "2023-01-20T13:00:40.629Z"
   },
   {
    "duration": 27,
    "start_time": "2023-01-20T13:00:56.315Z"
   },
   {
    "duration": 78,
    "start_time": "2023-01-20T13:00:56.345Z"
   },
   {
    "duration": 43,
    "start_time": "2023-01-20T13:00:56.439Z"
   },
   {
    "duration": 53,
    "start_time": "2023-01-20T13:00:56.484Z"
   },
   {
    "duration": 42,
    "start_time": "2023-01-20T13:00:56.540Z"
   },
   {
    "duration": 64,
    "start_time": "2023-01-20T13:00:56.584Z"
   },
   {
    "duration": 35,
    "start_time": "2023-01-20T13:00:56.650Z"
   },
   {
    "duration": 63,
    "start_time": "2023-01-20T13:00:56.688Z"
   },
   {
    "duration": 84,
    "start_time": "2023-01-20T13:00:56.753Z"
   },
   {
    "duration": 3,
    "start_time": "2023-01-20T13:00:56.839Z"
   },
   {
    "duration": 187,
    "start_time": "2023-01-20T13:00:56.843Z"
   },
   {
    "duration": 25,
    "start_time": "2023-01-20T13:00:57.032Z"
   },
   {
    "duration": 5,
    "start_time": "2023-01-20T13:00:57.058Z"
   },
   {
    "duration": 74,
    "start_time": "2023-01-20T13:00:57.068Z"
   },
   {
    "duration": 5,
    "start_time": "2023-01-20T13:00:57.144Z"
   },
   {
    "duration": 13,
    "start_time": "2023-01-20T13:00:57.151Z"
   },
   {
    "duration": 8,
    "start_time": "2023-01-20T13:00:57.166Z"
   },
   {
    "duration": 6,
    "start_time": "2023-01-20T13:00:57.176Z"
   },
   {
    "duration": 24,
    "start_time": "2023-01-20T13:00:57.184Z"
   },
   {
    "duration": 21,
    "start_time": "2023-01-20T13:00:57.209Z"
   },
   {
    "duration": 47914,
    "start_time": "2023-01-20T13:00:57.232Z"
   },
   {
    "duration": 4,
    "start_time": "2023-01-20T13:01:45.148Z"
   },
   {
    "duration": 19,
    "start_time": "2023-01-20T13:01:45.154Z"
   },
   {
    "duration": 5,
    "start_time": "2023-01-20T13:01:45.175Z"
   },
   {
    "duration": 8,
    "start_time": "2023-01-20T13:01:45.181Z"
   },
   {
    "duration": 33846,
    "start_time": "2023-01-20T13:01:45.191Z"
   },
   {
    "duration": 4,
    "start_time": "2023-01-20T13:02:19.039Z"
   },
   {
    "duration": 7,
    "start_time": "2023-01-20T13:02:19.044Z"
   },
   {
    "duration": 742,
    "start_time": "2023-01-20T13:02:19.053Z"
   },
   {
    "duration": 1141,
    "start_time": "2023-01-20T13:02:19.797Z"
   },
   {
    "duration": 193091,
    "start_time": "2023-01-20T13:02:20.940Z"
   },
   {
    "duration": 109,
    "start_time": "2023-01-20T13:05:34.032Z"
   },
   {
    "duration": 5808,
    "start_time": "2023-01-20T13:05:34.237Z"
   },
   {
    "duration": 36800,
    "start_time": "2023-01-20T13:05:40.046Z"
   },
   {
    "duration": 12,
    "start_time": "2023-01-20T13:06:16.938Z"
   },
   {
    "duration": 659,
    "start_time": "2023-01-20T13:06:16.952Z"
   },
   {
    "duration": 27,
    "start_time": "2023-01-20T13:06:17.613Z"
   },
   {
    "duration": 809,
    "start_time": "2023-01-20T13:06:17.642Z"
   },
   {
    "duration": 6,
    "start_time": "2023-01-20T13:06:18.452Z"
   },
   {
    "duration": 1471,
    "start_time": "2023-01-20T13:07:59.077Z"
   },
   {
    "duration": 3,
    "start_time": "2023-01-20T13:08:00.551Z"
   },
   {
    "duration": 927,
    "start_time": "2023-01-20T13:08:00.556Z"
   },
   {
    "duration": 1735,
    "start_time": "2023-01-20T13:08:01.485Z"
   },
   {
    "duration": 140,
    "start_time": "2023-01-20T13:08:03.222Z"
   },
   {
    "duration": 20,
    "start_time": "2023-01-20T13:08:03.363Z"
   },
   {
    "duration": 2,
    "start_time": "2023-01-20T13:08:03.384Z"
   },
   {
    "duration": 21,
    "start_time": "2023-01-20T13:08:03.389Z"
   },
   {
    "duration": 34,
    "start_time": "2023-01-20T13:08:03.411Z"
   },
   {
    "duration": 26,
    "start_time": "2023-01-20T13:08:03.448Z"
   },
   {
    "duration": 24,
    "start_time": "2023-01-20T13:08:03.476Z"
   },
   {
    "duration": 5452,
    "start_time": "2023-01-20T13:08:03.502Z"
   },
   {
    "duration": 20,
    "start_time": "2023-01-20T13:08:08.956Z"
   },
   {
    "duration": 15533,
    "start_time": "2023-01-20T13:08:08.978Z"
   },
   {
    "duration": 25,
    "start_time": "2023-01-20T13:08:24.513Z"
   },
   {
    "duration": 74,
    "start_time": "2023-01-20T13:08:24.540Z"
   },
   {
    "duration": 52,
    "start_time": "2023-01-20T13:08:24.616Z"
   },
   {
    "duration": 39,
    "start_time": "2023-01-20T13:08:24.670Z"
   },
   {
    "duration": 58,
    "start_time": "2023-01-20T13:08:24.710Z"
   },
   {
    "duration": 37,
    "start_time": "2023-01-20T13:08:24.769Z"
   },
   {
    "duration": 49,
    "start_time": "2023-01-20T13:08:24.808Z"
   },
   {
    "duration": 44,
    "start_time": "2023-01-20T13:08:24.859Z"
   },
   {
    "duration": 86,
    "start_time": "2023-01-20T13:08:24.904Z"
   },
   {
    "duration": 3,
    "start_time": "2023-01-20T13:08:24.991Z"
   },
   {
    "duration": 187,
    "start_time": "2023-01-20T13:08:24.996Z"
   },
   {
    "duration": 26,
    "start_time": "2023-01-20T13:08:25.185Z"
   },
   {
    "duration": 4,
    "start_time": "2023-01-20T13:08:25.213Z"
   },
   {
    "duration": 55,
    "start_time": "2023-01-20T13:08:25.236Z"
   },
   {
    "duration": 4,
    "start_time": "2023-01-20T13:08:25.292Z"
   },
   {
    "duration": 15,
    "start_time": "2023-01-20T13:08:25.298Z"
   },
   {
    "duration": 6,
    "start_time": "2023-01-20T13:08:25.315Z"
   },
   {
    "duration": 18,
    "start_time": "2023-01-20T13:08:25.322Z"
   },
   {
    "duration": 8,
    "start_time": "2023-01-20T13:08:25.342Z"
   },
   {
    "duration": 5,
    "start_time": "2023-01-20T13:08:25.352Z"
   },
   {
    "duration": 25617,
    "start_time": "2023-01-20T13:08:25.359Z"
   },
   {
    "duration": 4,
    "start_time": "2023-01-20T13:08:50.978Z"
   },
   {
    "duration": 5,
    "start_time": "2023-01-20T13:08:50.984Z"
   },
   {
    "duration": 6,
    "start_time": "2023-01-20T13:08:50.990Z"
   },
   {
    "duration": 5,
    "start_time": "2023-01-20T13:08:50.997Z"
   },
   {
    "duration": 14644,
    "start_time": "2023-01-20T13:08:51.003Z"
   },
   {
    "duration": 4,
    "start_time": "2023-01-20T13:09:05.650Z"
   },
   {
    "duration": 82,
    "start_time": "2023-01-20T13:09:05.655Z"
   },
   {
    "duration": 693,
    "start_time": "2023-01-20T13:09:05.739Z"
   },
   {
    "duration": 1098,
    "start_time": "2023-01-20T13:09:06.435Z"
   },
   {
    "duration": 192084,
    "start_time": "2023-01-20T13:09:07.535Z"
   },
   {
    "duration": 115,
    "start_time": "2023-01-20T13:12:19.622Z"
   },
   {
    "duration": 5713,
    "start_time": "2023-01-20T13:12:19.738Z"
   },
   {
    "duration": 36488,
    "start_time": "2023-01-20T13:12:25.453Z"
   },
   {
    "duration": 95,
    "start_time": "2023-01-20T13:13:01.943Z"
   },
   {
    "duration": 594,
    "start_time": "2023-01-20T13:13:02.040Z"
   },
   {
    "duration": 101,
    "start_time": "2023-01-20T13:13:02.636Z"
   },
   {
    "duration": 722,
    "start_time": "2023-01-20T13:13:02.740Z"
   },
   {
    "duration": 6,
    "start_time": "2023-01-20T13:13:03.536Z"
   },
   {
    "duration": 6,
    "start_time": "2023-01-20T13:14:46.083Z"
   },
   {
    "duration": 115,
    "start_time": "2023-01-20T13:14:52.363Z"
   },
   {
    "duration": 4,
    "start_time": "2023-01-20T13:14:58.070Z"
   },
   {
    "duration": 1488,
    "start_time": "2023-01-20T13:19:54.765Z"
   },
   {
    "duration": 3,
    "start_time": "2023-01-20T13:19:56.256Z"
   },
   {
    "duration": 916,
    "start_time": "2023-01-20T13:19:56.260Z"
   },
   {
    "duration": 1726,
    "start_time": "2023-01-20T13:19:57.178Z"
   },
   {
    "duration": 122,
    "start_time": "2023-01-20T13:19:58.906Z"
   },
   {
    "duration": 18,
    "start_time": "2023-01-20T13:19:59.036Z"
   },
   {
    "duration": 12,
    "start_time": "2023-01-20T13:19:59.056Z"
   },
   {
    "duration": 28,
    "start_time": "2023-01-20T13:19:59.071Z"
   },
   {
    "duration": 12,
    "start_time": "2023-01-20T13:19:59.100Z"
   },
   {
    "duration": 37,
    "start_time": "2023-01-20T13:19:59.115Z"
   },
   {
    "duration": 24,
    "start_time": "2023-01-20T13:19:59.154Z"
   },
   {
    "duration": 5445,
    "start_time": "2023-01-20T13:19:59.179Z"
   },
   {
    "duration": 30,
    "start_time": "2023-01-20T13:20:04.625Z"
   },
   {
    "duration": 15933,
    "start_time": "2023-01-20T13:20:04.657Z"
   },
   {
    "duration": 24,
    "start_time": "2023-01-20T13:20:20.592Z"
   },
   {
    "duration": 87,
    "start_time": "2023-01-20T13:20:20.618Z"
   },
   {
    "duration": 55,
    "start_time": "2023-01-20T13:20:20.707Z"
   },
   {
    "duration": 41,
    "start_time": "2023-01-20T13:20:20.764Z"
   },
   {
    "duration": 56,
    "start_time": "2023-01-20T13:20:20.807Z"
   },
   {
    "duration": 37,
    "start_time": "2023-01-20T13:20:20.865Z"
   },
   {
    "duration": 52,
    "start_time": "2023-01-20T13:20:20.904Z"
   },
   {
    "duration": 43,
    "start_time": "2023-01-20T13:20:20.958Z"
   },
   {
    "duration": 82,
    "start_time": "2023-01-20T13:20:21.003Z"
   },
   {
    "duration": 3,
    "start_time": "2023-01-20T13:20:21.087Z"
   },
   {
    "duration": 196,
    "start_time": "2023-01-20T13:20:21.091Z"
   },
   {
    "duration": 28,
    "start_time": "2023-01-20T13:20:21.289Z"
   },
   {
    "duration": 17,
    "start_time": "2023-01-20T13:20:21.319Z"
   },
   {
    "duration": 72,
    "start_time": "2023-01-20T13:20:21.340Z"
   },
   {
    "duration": 4,
    "start_time": "2023-01-20T13:20:21.413Z"
   },
   {
    "duration": 8,
    "start_time": "2023-01-20T13:20:21.437Z"
   },
   {
    "duration": 10,
    "start_time": "2023-01-20T13:20:21.446Z"
   },
   {
    "duration": 7,
    "start_time": "2023-01-20T13:20:21.458Z"
   },
   {
    "duration": 14,
    "start_time": "2023-01-20T13:20:21.466Z"
   },
   {
    "duration": 5,
    "start_time": "2023-01-20T13:20:21.483Z"
   },
   {
    "duration": 93457,
    "start_time": "2023-01-20T13:20:21.489Z"
   },
   {
    "duration": 4,
    "start_time": "2023-01-20T13:21:54.948Z"
   },
   {
    "duration": 5,
    "start_time": "2023-01-20T13:21:54.954Z"
   },
   {
    "duration": 4,
    "start_time": "2023-01-20T13:21:54.961Z"
   },
   {
    "duration": 4,
    "start_time": "2023-01-20T13:21:54.967Z"
   },
   {
    "duration": 15278,
    "start_time": "2023-01-20T13:21:54.972Z"
   },
   {
    "duration": 4,
    "start_time": "2023-01-20T13:22:10.336Z"
   },
   {
    "duration": 23,
    "start_time": "2023-01-20T13:22:10.342Z"
   },
   {
    "duration": 693,
    "start_time": "2023-01-20T13:22:10.367Z"
   },
   {
    "duration": 1149,
    "start_time": "2023-01-20T13:22:11.062Z"
   },
   {
    "duration": 194184,
    "start_time": "2023-01-20T13:22:12.212Z"
   },
   {
    "duration": 70,
    "start_time": "2023-01-20T13:25:26.397Z"
   },
   {
    "duration": 6505,
    "start_time": "2023-01-20T13:25:26.542Z"
   },
   {
    "duration": 35199,
    "start_time": "2023-01-20T13:25:33.048Z"
   },
   {
    "duration": 13,
    "start_time": "2023-01-20T13:26:08.337Z"
   },
   {
    "duration": 711,
    "start_time": "2023-01-20T13:26:08.352Z"
   },
   {
    "duration": 74,
    "start_time": "2023-01-20T13:26:09.064Z"
   },
   {
    "duration": 717,
    "start_time": "2023-01-20T13:26:09.140Z"
   },
   {
    "duration": 81,
    "start_time": "2023-01-20T13:26:09.859Z"
   },
   {
    "duration": 1535,
    "start_time": "2023-01-20T13:28:53.108Z"
   },
   {
    "duration": 4,
    "start_time": "2023-01-20T13:28:54.645Z"
   },
   {
    "duration": 891,
    "start_time": "2023-01-20T13:28:54.650Z"
   },
   {
    "duration": 1660,
    "start_time": "2023-01-20T13:28:55.543Z"
   },
   {
    "duration": 117,
    "start_time": "2023-01-20T13:28:57.205Z"
   },
   {
    "duration": 27,
    "start_time": "2023-01-20T13:28:57.323Z"
   },
   {
    "duration": 8,
    "start_time": "2023-01-20T13:28:57.352Z"
   },
   {
    "duration": 36,
    "start_time": "2023-01-20T13:28:57.361Z"
   },
   {
    "duration": 11,
    "start_time": "2023-01-20T13:28:57.399Z"
   },
   {
    "duration": 54,
    "start_time": "2023-01-20T13:28:57.411Z"
   },
   {
    "duration": 25,
    "start_time": "2023-01-20T13:28:57.468Z"
   },
   {
    "duration": 5373,
    "start_time": "2023-01-20T13:28:57.495Z"
   },
   {
    "duration": 19,
    "start_time": "2023-01-20T13:29:02.870Z"
   },
   {
    "duration": 15630,
    "start_time": "2023-01-20T13:29:02.893Z"
   },
   {
    "duration": 23,
    "start_time": "2023-01-20T13:29:18.525Z"
   },
   {
    "duration": 72,
    "start_time": "2023-01-20T13:29:18.550Z"
   },
   {
    "duration": 46,
    "start_time": "2023-01-20T13:29:18.635Z"
   },
   {
    "duration": 37,
    "start_time": "2023-01-20T13:29:18.683Z"
   },
   {
    "duration": 48,
    "start_time": "2023-01-20T13:29:18.722Z"
   },
   {
    "duration": 45,
    "start_time": "2023-01-20T13:29:18.772Z"
   },
   {
    "duration": 49,
    "start_time": "2023-01-20T13:29:18.819Z"
   },
   {
    "duration": 65,
    "start_time": "2023-01-20T13:29:18.873Z"
   },
   {
    "duration": 108,
    "start_time": "2023-01-20T13:29:18.940Z"
   },
   {
    "duration": 18,
    "start_time": "2023-01-20T13:29:19.050Z"
   },
   {
    "duration": 181,
    "start_time": "2023-01-20T13:29:19.070Z"
   },
   {
    "duration": 20,
    "start_time": "2023-01-20T13:29:19.253Z"
   },
   {
    "duration": 4,
    "start_time": "2023-01-20T13:29:19.275Z"
   },
   {
    "duration": 95,
    "start_time": "2023-01-20T13:29:19.281Z"
   },
   {
    "duration": 6,
    "start_time": "2023-01-20T13:29:19.378Z"
   },
   {
    "duration": 24,
    "start_time": "2023-01-20T13:29:19.386Z"
   },
   {
    "duration": 16,
    "start_time": "2023-01-20T13:29:19.411Z"
   },
   {
    "duration": 15,
    "start_time": "2023-01-20T13:29:19.429Z"
   },
   {
    "duration": 25,
    "start_time": "2023-01-20T13:29:19.446Z"
   },
   {
    "duration": 13,
    "start_time": "2023-01-20T13:29:19.473Z"
   },
   {
    "duration": 94140,
    "start_time": "2023-01-20T13:29:19.487Z"
   },
   {
    "duration": 4,
    "start_time": "2023-01-20T13:30:53.629Z"
   },
   {
    "duration": 12,
    "start_time": "2023-01-20T13:30:53.635Z"
   },
   {
    "duration": 15,
    "start_time": "2023-01-20T13:30:53.648Z"
   },
   {
    "duration": 13,
    "start_time": "2023-01-20T13:30:53.665Z"
   },
   {
    "duration": 14,
    "start_time": "2023-01-20T13:30:53.679Z"
   },
   {
    "duration": 16747,
    "start_time": "2023-01-20T13:30:53.698Z"
   },
   {
    "duration": 4,
    "start_time": "2023-01-20T13:31:10.447Z"
   },
   {
    "duration": 12,
    "start_time": "2023-01-20T13:31:10.453Z"
   },
   {
    "duration": 11,
    "start_time": "2023-01-20T13:31:10.467Z"
   },
   {
    "duration": 739,
    "start_time": "2023-01-20T13:31:10.480Z"
   },
   {
    "duration": 1210,
    "start_time": "2023-01-20T13:31:11.221Z"
   },
   {
    "duration": 12281,
    "start_time": "2023-01-20T13:31:12.432Z"
   },
   {
    "duration": 126,
    "start_time": "2023-01-20T13:31:24.715Z"
   },
   {
    "duration": 1094,
    "start_time": "2023-01-20T13:31:24.843Z"
   },
   {
    "duration": 35502,
    "start_time": "2023-01-20T13:31:25.939Z"
   },
   {
    "duration": 99,
    "start_time": "2023-01-20T13:32:01.443Z"
   },
   {
    "duration": 72,
    "start_time": "2023-01-20T13:32:01.543Z"
   },
   {
    "duration": 23,
    "start_time": "2023-01-20T13:32:01.617Z"
   },
   {
    "duration": 296,
    "start_time": "2023-01-20T13:32:01.641Z"
   },
   {
    "duration": 34,
    "start_time": "2023-01-20T13:32:01.939Z"
   },
   {
    "duration": 1471,
    "start_time": "2023-01-20T13:37:08.280Z"
   },
   {
    "duration": 3,
    "start_time": "2023-01-20T13:37:09.753Z"
   },
   {
    "duration": 847,
    "start_time": "2023-01-20T13:37:09.757Z"
   },
   {
    "duration": 1627,
    "start_time": "2023-01-20T13:37:10.606Z"
   },
   {
    "duration": 116,
    "start_time": "2023-01-20T13:37:12.234Z"
   },
   {
    "duration": 16,
    "start_time": "2023-01-20T13:37:12.351Z"
   },
   {
    "duration": 2,
    "start_time": "2023-01-20T13:37:12.369Z"
   },
   {
    "duration": 21,
    "start_time": "2023-01-20T13:37:12.372Z"
   },
   {
    "duration": 11,
    "start_time": "2023-01-20T13:37:12.395Z"
   },
   {
    "duration": 20,
    "start_time": "2023-01-20T13:37:12.438Z"
   },
   {
    "duration": 23,
    "start_time": "2023-01-20T13:37:12.460Z"
   },
   {
    "duration": 5323,
    "start_time": "2023-01-20T13:37:12.485Z"
   },
   {
    "duration": 26,
    "start_time": "2023-01-20T13:37:17.811Z"
   },
   {
    "duration": 15081,
    "start_time": "2023-01-20T13:37:17.839Z"
   },
   {
    "duration": 26,
    "start_time": "2023-01-20T13:37:32.923Z"
   },
   {
    "duration": 72,
    "start_time": "2023-01-20T13:37:32.951Z"
   },
   {
    "duration": 46,
    "start_time": "2023-01-20T13:37:33.037Z"
   },
   {
    "duration": 35,
    "start_time": "2023-01-20T13:37:33.085Z"
   },
   {
    "duration": 49,
    "start_time": "2023-01-20T13:37:33.122Z"
   },
   {
    "duration": 47,
    "start_time": "2023-01-20T13:37:33.173Z"
   },
   {
    "duration": 41,
    "start_time": "2023-01-20T13:37:33.222Z"
   },
   {
    "duration": 47,
    "start_time": "2023-01-20T13:37:33.265Z"
   },
   {
    "duration": 87,
    "start_time": "2023-01-20T13:37:33.314Z"
   },
   {
    "duration": 14,
    "start_time": "2023-01-20T13:37:33.403Z"
   },
   {
    "duration": 188,
    "start_time": "2023-01-20T13:37:33.419Z"
   },
   {
    "duration": 24,
    "start_time": "2023-01-20T13:37:33.609Z"
   },
   {
    "duration": 13,
    "start_time": "2023-01-20T13:37:33.636Z"
   },
   {
    "duration": 72,
    "start_time": "2023-01-20T13:37:33.653Z"
   },
   {
    "duration": 4,
    "start_time": "2023-01-20T13:37:33.727Z"
   },
   {
    "duration": 31,
    "start_time": "2023-01-20T13:37:33.732Z"
   },
   {
    "duration": 44,
    "start_time": "2023-01-20T13:37:33.765Z"
   },
   {
    "duration": 26,
    "start_time": "2023-01-20T13:37:33.811Z"
   },
   {
    "duration": 24,
    "start_time": "2023-01-20T13:37:33.840Z"
   },
   {
    "duration": 26,
    "start_time": "2023-01-20T13:37:33.866Z"
   },
   {
    "duration": 93634,
    "start_time": "2023-01-20T13:37:33.894Z"
   },
   {
    "duration": 4,
    "start_time": "2023-01-20T13:39:07.530Z"
   },
   {
    "duration": 11,
    "start_time": "2023-01-20T13:39:07.536Z"
   },
   {
    "duration": 23,
    "start_time": "2023-01-20T13:39:07.548Z"
   },
   {
    "duration": 17,
    "start_time": "2023-01-20T13:39:07.573Z"
   },
   {
    "duration": 7,
    "start_time": "2023-01-20T13:39:07.592Z"
   },
   {
    "duration": 14743,
    "start_time": "2023-01-20T13:39:07.600Z"
   },
   {
    "duration": 3,
    "start_time": "2023-01-20T13:39:22.345Z"
   },
   {
    "duration": 15,
    "start_time": "2023-01-20T13:39:22.350Z"
   },
   {
    "duration": 11,
    "start_time": "2023-01-20T13:39:22.367Z"
   },
   {
    "duration": 712,
    "start_time": "2023-01-20T13:39:22.380Z"
   },
   {
    "duration": 1078,
    "start_time": "2023-01-20T13:39:23.093Z"
   },
   {
    "duration": 117086,
    "start_time": "2023-01-20T13:39:24.173Z"
   },
   {
    "duration": 175,
    "start_time": "2023-01-20T13:41:21.262Z"
   },
   {
    "duration": 4597,
    "start_time": "2023-01-20T13:41:21.440Z"
   },
   {
    "duration": 39306,
    "start_time": "2023-01-20T13:41:26.039Z"
   },
   {
    "duration": 14,
    "start_time": "2023-01-20T13:42:05.437Z"
   },
   {
    "duration": 141,
    "start_time": "2023-01-20T13:42:05.536Z"
   },
   {
    "duration": 9,
    "start_time": "2023-01-20T13:42:05.679Z"
   },
   {
    "duration": 527,
    "start_time": "2023-01-20T13:42:05.737Z"
   },
   {
    "duration": 73,
    "start_time": "2023-01-20T13:42:06.266Z"
   },
   {
    "duration": 1424,
    "start_time": "2023-01-20T13:47:43.780Z"
   },
   {
    "duration": 2,
    "start_time": "2023-01-20T13:47:45.207Z"
   },
   {
    "duration": 864,
    "start_time": "2023-01-20T13:47:45.211Z"
   },
   {
    "duration": 1655,
    "start_time": "2023-01-20T13:47:46.077Z"
   },
   {
    "duration": 117,
    "start_time": "2023-01-20T13:47:47.737Z"
   },
   {
    "duration": 18,
    "start_time": "2023-01-20T13:47:47.855Z"
   },
   {
    "duration": 8,
    "start_time": "2023-01-20T13:47:47.875Z"
   },
   {
    "duration": 55,
    "start_time": "2023-01-20T13:47:47.885Z"
   },
   {
    "duration": 23,
    "start_time": "2023-01-20T13:47:47.942Z"
   },
   {
    "duration": 29,
    "start_time": "2023-01-20T13:47:47.968Z"
   },
   {
    "duration": 29,
    "start_time": "2023-01-20T13:47:47.998Z"
   },
   {
    "duration": 5340,
    "start_time": "2023-01-20T13:47:48.029Z"
   },
   {
    "duration": 19,
    "start_time": "2023-01-20T13:47:53.371Z"
   },
   {
    "duration": 15116,
    "start_time": "2023-01-20T13:47:53.394Z"
   },
   {
    "duration": 29,
    "start_time": "2023-01-20T13:48:08.513Z"
   },
   {
    "duration": 95,
    "start_time": "2023-01-20T13:48:08.544Z"
   },
   {
    "duration": 49,
    "start_time": "2023-01-20T13:48:08.642Z"
   },
   {
    "duration": 69,
    "start_time": "2023-01-20T13:48:08.694Z"
   },
   {
    "duration": 44,
    "start_time": "2023-01-20T13:48:08.766Z"
   },
   {
    "duration": 58,
    "start_time": "2023-01-20T13:48:08.812Z"
   },
   {
    "duration": 30,
    "start_time": "2023-01-20T13:48:08.872Z"
   },
   {
    "duration": 61,
    "start_time": "2023-01-20T13:48:08.904Z"
   },
   {
    "duration": 76,
    "start_time": "2023-01-20T13:48:08.967Z"
   },
   {
    "duration": 3,
    "start_time": "2023-01-20T13:48:09.045Z"
   },
   {
    "duration": 195,
    "start_time": "2023-01-20T13:48:09.049Z"
   },
   {
    "duration": 23,
    "start_time": "2023-01-20T13:48:09.246Z"
   },
   {
    "duration": 4,
    "start_time": "2023-01-20T13:48:09.271Z"
   },
   {
    "duration": 108,
    "start_time": "2023-01-20T13:48:09.276Z"
   },
   {
    "duration": 5,
    "start_time": "2023-01-20T13:48:09.386Z"
   },
   {
    "duration": 9,
    "start_time": "2023-01-20T13:48:09.393Z"
   },
   {
    "duration": 10,
    "start_time": "2023-01-20T13:48:09.403Z"
   },
   {
    "duration": 6,
    "start_time": "2023-01-20T13:48:09.415Z"
   },
   {
    "duration": 16,
    "start_time": "2023-01-20T13:48:09.422Z"
   },
   {
    "duration": 13,
    "start_time": "2023-01-20T13:48:09.440Z"
   },
   {
    "duration": 1544,
    "start_time": "2023-01-20T14:00:03.290Z"
   },
   {
    "duration": 3,
    "start_time": "2023-01-20T14:00:04.836Z"
   },
   {
    "duration": 891,
    "start_time": "2023-01-20T14:00:04.840Z"
   },
   {
    "duration": 1641,
    "start_time": "2023-01-20T14:00:05.733Z"
   },
   {
    "duration": 121,
    "start_time": "2023-01-20T14:00:07.375Z"
   },
   {
    "duration": 17,
    "start_time": "2023-01-20T14:00:07.498Z"
   },
   {
    "duration": 2,
    "start_time": "2023-01-20T14:00:07.537Z"
   },
   {
    "duration": 23,
    "start_time": "2023-01-20T14:00:07.542Z"
   },
   {
    "duration": 12,
    "start_time": "2023-01-20T14:00:07.566Z"
   },
   {
    "duration": 21,
    "start_time": "2023-01-20T14:00:07.580Z"
   },
   {
    "duration": 50,
    "start_time": "2023-01-20T14:00:07.603Z"
   },
   {
    "duration": 5437,
    "start_time": "2023-01-20T14:00:07.655Z"
   },
   {
    "duration": 19,
    "start_time": "2023-01-20T14:00:13.093Z"
   },
   {
    "duration": 15647,
    "start_time": "2023-01-20T14:00:13.114Z"
   },
   {
    "duration": 21,
    "start_time": "2023-01-20T14:00:28.763Z"
   },
   {
    "duration": 93,
    "start_time": "2023-01-20T14:00:28.786Z"
   },
   {
    "duration": 56,
    "start_time": "2023-01-20T14:00:28.881Z"
   },
   {
    "duration": 38,
    "start_time": "2023-01-20T14:00:28.939Z"
   },
   {
    "duration": 59,
    "start_time": "2023-01-20T14:00:28.979Z"
   },
   {
    "duration": 39,
    "start_time": "2023-01-20T14:00:29.039Z"
   },
   {
    "duration": 32,
    "start_time": "2023-01-20T14:00:29.080Z"
   },
   {
    "duration": 72,
    "start_time": "2023-01-20T14:00:29.115Z"
   },
   {
    "duration": 95,
    "start_time": "2023-01-20T14:00:29.189Z"
   },
   {
    "duration": 7,
    "start_time": "2023-01-20T14:00:29.288Z"
   },
   {
    "duration": 248,
    "start_time": "2023-01-20T14:00:29.297Z"
   },
   {
    "duration": 25,
    "start_time": "2023-01-20T14:00:29.547Z"
   },
   {
    "duration": 5,
    "start_time": "2023-01-20T14:00:29.575Z"
   },
   {
    "duration": 98,
    "start_time": "2023-01-20T14:00:29.586Z"
   },
   {
    "duration": 4,
    "start_time": "2023-01-20T14:00:29.686Z"
   },
   {
    "duration": 6,
    "start_time": "2023-01-20T14:00:29.692Z"
   },
   {
    "duration": 10,
    "start_time": "2023-01-20T14:00:29.699Z"
   },
   {
    "duration": 9,
    "start_time": "2023-01-20T14:00:29.711Z"
   },
   {
    "duration": 6,
    "start_time": "2023-01-20T14:00:29.737Z"
   },
   {
    "duration": 5,
    "start_time": "2023-01-20T14:00:29.745Z"
   },
   {
    "duration": 24544,
    "start_time": "2023-01-20T14:00:29.752Z"
   },
   {
    "duration": 4,
    "start_time": "2023-01-20T14:00:54.298Z"
   },
   {
    "duration": 12,
    "start_time": "2023-01-20T14:00:54.304Z"
   },
   {
    "duration": 7,
    "start_time": "2023-01-20T14:00:54.318Z"
   },
   {
    "duration": 7,
    "start_time": "2023-01-20T14:00:54.327Z"
   },
   {
    "duration": 8,
    "start_time": "2023-01-20T14:00:54.335Z"
   },
   {
    "duration": 31703,
    "start_time": "2023-01-20T14:00:54.345Z"
   },
   {
    "duration": 4,
    "start_time": "2023-01-20T14:01:26.050Z"
   },
   {
    "duration": 84,
    "start_time": "2023-01-20T14:01:26.055Z"
   },
   {
    "duration": 3,
    "start_time": "2023-01-20T14:01:26.141Z"
   },
   {
    "duration": 731,
    "start_time": "2023-01-20T14:01:26.146Z"
   },
   {
    "duration": 1108,
    "start_time": "2023-01-20T14:01:26.879Z"
   },
   {
    "duration": 12944,
    "start_time": "2023-01-20T14:01:27.988Z"
   },
   {
    "duration": 110,
    "start_time": "2023-01-20T14:01:40.934Z"
   },
   {
    "duration": 998,
    "start_time": "2023-01-20T14:01:41.046Z"
   },
   {
    "duration": 37099,
    "start_time": "2023-01-20T14:01:42.047Z"
   },
   {
    "duration": 13,
    "start_time": "2023-01-20T14:02:19.238Z"
   },
   {
    "duration": 72,
    "start_time": "2023-01-20T14:02:19.337Z"
   },
   {
    "duration": 26,
    "start_time": "2023-01-20T14:02:19.411Z"
   },
   {
    "duration": 206,
    "start_time": "2023-01-20T14:02:19.439Z"
   },
   {
    "duration": 6,
    "start_time": "2023-01-20T14:02:19.646Z"
   },
   {
    "duration": 1455,
    "start_time": "2023-01-20T14:07:50.795Z"
   },
   {
    "duration": 2,
    "start_time": "2023-01-20T14:07:52.252Z"
   },
   {
    "duration": 877,
    "start_time": "2023-01-20T14:07:52.256Z"
   },
   {
    "duration": 1680,
    "start_time": "2023-01-20T14:07:53.135Z"
   },
   {
    "duration": 124,
    "start_time": "2023-01-20T14:07:54.817Z"
   },
   {
    "duration": 16,
    "start_time": "2023-01-20T14:07:54.943Z"
   },
   {
    "duration": 3,
    "start_time": "2023-01-20T14:07:54.961Z"
   },
   {
    "duration": 29,
    "start_time": "2023-01-20T14:07:54.966Z"
   },
   {
    "duration": 11,
    "start_time": "2023-01-20T14:07:54.996Z"
   },
   {
    "duration": 46,
    "start_time": "2023-01-20T14:07:55.010Z"
   },
   {
    "duration": 25,
    "start_time": "2023-01-20T14:07:55.058Z"
   },
   {
    "duration": 5368,
    "start_time": "2023-01-20T14:07:55.085Z"
   },
   {
    "duration": 17,
    "start_time": "2023-01-20T14:08:00.455Z"
   },
   {
    "duration": 15381,
    "start_time": "2023-01-20T14:08:00.474Z"
   },
   {
    "duration": 22,
    "start_time": "2023-01-20T14:08:15.856Z"
   },
   {
    "duration": 92,
    "start_time": "2023-01-20T14:08:15.880Z"
   },
   {
    "duration": 42,
    "start_time": "2023-01-20T14:08:15.974Z"
   },
   {
    "duration": 65,
    "start_time": "2023-01-20T14:08:16.036Z"
   },
   {
    "duration": 67,
    "start_time": "2023-01-20T14:08:16.103Z"
   },
   {
    "duration": 38,
    "start_time": "2023-01-20T14:08:16.172Z"
   },
   {
    "duration": 45,
    "start_time": "2023-01-20T14:08:16.212Z"
   },
   {
    "duration": 42,
    "start_time": "2023-01-20T14:08:16.259Z"
   },
   {
    "duration": 75,
    "start_time": "2023-01-20T14:08:16.303Z"
   },
   {
    "duration": 3,
    "start_time": "2023-01-20T14:08:16.380Z"
   },
   {
    "duration": 180,
    "start_time": "2023-01-20T14:08:16.385Z"
   },
   {
    "duration": 22,
    "start_time": "2023-01-20T14:08:16.567Z"
   },
   {
    "duration": 4,
    "start_time": "2023-01-20T14:08:16.590Z"
   },
   {
    "duration": 77,
    "start_time": "2023-01-20T14:08:16.597Z"
   },
   {
    "duration": 4,
    "start_time": "2023-01-20T14:08:16.676Z"
   },
   {
    "duration": 10,
    "start_time": "2023-01-20T14:08:16.682Z"
   },
   {
    "duration": 8,
    "start_time": "2023-01-20T14:08:16.693Z"
   },
   {
    "duration": 6,
    "start_time": "2023-01-20T14:08:16.702Z"
   },
   {
    "duration": 5,
    "start_time": "2023-01-20T14:08:16.709Z"
   },
   {
    "duration": 5,
    "start_time": "2023-01-20T14:08:16.716Z"
   },
   {
    "duration": 25544,
    "start_time": "2023-01-20T14:08:16.722Z"
   },
   {
    "duration": 3,
    "start_time": "2023-01-20T14:08:42.268Z"
   },
   {
    "duration": 18,
    "start_time": "2023-01-20T14:08:42.273Z"
   },
   {
    "duration": 9,
    "start_time": "2023-01-20T14:08:42.293Z"
   },
   {
    "duration": 17,
    "start_time": "2023-01-20T14:08:42.304Z"
   },
   {
    "duration": 12,
    "start_time": "2023-01-20T14:08:42.323Z"
   },
   {
    "duration": 15214,
    "start_time": "2023-01-20T14:08:42.337Z"
   },
   {
    "duration": 4,
    "start_time": "2023-01-20T14:08:57.552Z"
   },
   {
    "duration": 12,
    "start_time": "2023-01-20T14:08:57.558Z"
   },
   {
    "duration": 65,
    "start_time": "2023-01-20T14:08:57.572Z"
   },
   {
    "duration": 737,
    "start_time": "2023-01-20T14:08:57.638Z"
   },
   {
    "duration": 1154,
    "start_time": "2023-01-20T14:08:58.377Z"
   },
   {
    "duration": 13044,
    "start_time": "2023-01-20T14:08:59.533Z"
   },
   {
    "duration": 160,
    "start_time": "2023-01-20T14:09:12.579Z"
   },
   {
    "duration": 1204,
    "start_time": "2023-01-20T14:09:12.741Z"
   },
   {
    "duration": 1384,
    "start_time": "2023-01-20T14:09:41.358Z"
   },
   {
    "duration": 2,
    "start_time": "2023-01-20T14:09:42.744Z"
   },
   {
    "duration": 836,
    "start_time": "2023-01-20T14:09:42.748Z"
   },
   {
    "duration": 1586,
    "start_time": "2023-01-20T14:09:43.586Z"
   },
   {
    "duration": 128,
    "start_time": "2023-01-20T14:09:45.174Z"
   },
   {
    "duration": 34,
    "start_time": "2023-01-20T14:09:45.304Z"
   },
   {
    "duration": 2,
    "start_time": "2023-01-20T14:09:45.340Z"
   },
   {
    "duration": 24,
    "start_time": "2023-01-20T14:09:45.344Z"
   },
   {
    "duration": 11,
    "start_time": "2023-01-20T14:09:45.369Z"
   },
   {
    "duration": 22,
    "start_time": "2023-01-20T14:09:45.383Z"
   },
   {
    "duration": 46,
    "start_time": "2023-01-20T14:09:45.406Z"
   },
   {
    "duration": 5274,
    "start_time": "2023-01-20T14:09:45.453Z"
   },
   {
    "duration": 19,
    "start_time": "2023-01-20T14:09:50.729Z"
   },
   {
    "duration": 15336,
    "start_time": "2023-01-20T14:09:50.749Z"
   },
   {
    "duration": 21,
    "start_time": "2023-01-20T14:10:06.086Z"
   },
   {
    "duration": 92,
    "start_time": "2023-01-20T14:10:06.108Z"
   },
   {
    "duration": 54,
    "start_time": "2023-01-20T14:10:06.202Z"
   },
   {
    "duration": 37,
    "start_time": "2023-01-20T14:10:06.258Z"
   },
   {
    "duration": 55,
    "start_time": "2023-01-20T14:10:06.297Z"
   },
   {
    "duration": 39,
    "start_time": "2023-01-20T14:10:06.354Z"
   },
   {
    "duration": 62,
    "start_time": "2023-01-20T14:10:06.395Z"
   },
   {
    "duration": 45,
    "start_time": "2023-01-20T14:10:06.459Z"
   },
   {
    "duration": 75,
    "start_time": "2023-01-20T14:10:06.506Z"
   },
   {
    "duration": 24,
    "start_time": "2023-01-20T14:10:06.583Z"
   },
   {
    "duration": 184,
    "start_time": "2023-01-20T14:10:06.609Z"
   },
   {
    "duration": 26,
    "start_time": "2023-01-20T14:10:06.795Z"
   },
   {
    "duration": 15,
    "start_time": "2023-01-20T14:10:06.823Z"
   },
   {
    "duration": 64,
    "start_time": "2023-01-20T14:10:06.843Z"
   },
   {
    "duration": 5,
    "start_time": "2023-01-20T14:10:06.909Z"
   },
   {
    "duration": 24,
    "start_time": "2023-01-20T14:10:06.915Z"
   },
   {
    "duration": 21,
    "start_time": "2023-01-20T14:10:06.940Z"
   },
   {
    "duration": 31,
    "start_time": "2023-01-20T14:10:06.964Z"
   },
   {
    "duration": 22,
    "start_time": "2023-01-20T14:10:06.997Z"
   },
   {
    "duration": 34,
    "start_time": "2023-01-20T14:10:07.021Z"
   },
   {
    "duration": 24273,
    "start_time": "2023-01-20T14:10:07.057Z"
   },
   {
    "duration": 5,
    "start_time": "2023-01-20T14:10:31.331Z"
   },
   {
    "duration": 55,
    "start_time": "2023-01-20T14:10:31.337Z"
   },
   {
    "duration": 28,
    "start_time": "2023-01-20T14:10:31.393Z"
   },
   {
    "duration": 68,
    "start_time": "2023-01-20T14:10:31.423Z"
   },
   {
    "duration": 30,
    "start_time": "2023-01-20T14:10:31.493Z"
   },
   {
    "duration": 19022,
    "start_time": "2023-01-20T14:10:31.525Z"
   },
   {
    "duration": 4,
    "start_time": "2023-01-20T14:10:50.550Z"
   },
   {
    "duration": 81,
    "start_time": "2023-01-20T14:10:50.557Z"
   },
   {
    "duration": 32,
    "start_time": "2023-01-20T14:10:50.640Z"
   },
   {
    "duration": 728,
    "start_time": "2023-01-20T14:10:50.674Z"
   },
   {
    "duration": 1153,
    "start_time": "2023-01-20T14:10:51.405Z"
   },
   {
    "duration": 13261,
    "start_time": "2023-01-20T14:10:52.560Z"
   },
   {
    "duration": 59,
    "start_time": "2023-01-20T14:11:05.823Z"
   },
   {
    "duration": 1262,
    "start_time": "2023-01-20T14:11:05.883Z"
   },
   {
    "duration": 36899,
    "start_time": "2023-01-20T14:11:07.147Z"
   },
   {
    "duration": 102,
    "start_time": "2023-01-20T14:11:44.137Z"
   },
   {
    "duration": 94,
    "start_time": "2023-01-20T14:11:44.241Z"
   },
   {
    "duration": 99,
    "start_time": "2023-01-20T14:11:44.338Z"
   },
   {
    "duration": 205,
    "start_time": "2023-01-20T14:11:44.439Z"
   },
   {
    "duration": 6,
    "start_time": "2023-01-20T14:11:44.646Z"
   },
   {
    "duration": 1418,
    "start_time": "2023-01-20T14:12:50.705Z"
   },
   {
    "duration": 3,
    "start_time": "2023-01-20T14:12:52.125Z"
   },
   {
    "duration": 878,
    "start_time": "2023-01-20T14:12:52.130Z"
   },
   {
    "duration": 1664,
    "start_time": "2023-01-20T14:12:53.010Z"
   },
   {
    "duration": 126,
    "start_time": "2023-01-20T14:12:54.677Z"
   },
   {
    "duration": 31,
    "start_time": "2023-01-20T14:12:54.805Z"
   },
   {
    "duration": 2,
    "start_time": "2023-01-20T14:12:54.839Z"
   },
   {
    "duration": 23,
    "start_time": "2023-01-20T14:12:54.843Z"
   },
   {
    "duration": 11,
    "start_time": "2023-01-20T14:12:54.867Z"
   },
   {
    "duration": 23,
    "start_time": "2023-01-20T14:12:54.880Z"
   },
   {
    "duration": 47,
    "start_time": "2023-01-20T14:12:54.904Z"
   },
   {
    "duration": 5363,
    "start_time": "2023-01-20T14:12:54.953Z"
   },
   {
    "duration": 24,
    "start_time": "2023-01-20T14:13:00.318Z"
   },
   {
    "duration": 15602,
    "start_time": "2023-01-20T14:13:00.346Z"
   },
   {
    "duration": 21,
    "start_time": "2023-01-20T14:13:15.949Z"
   },
   {
    "duration": 87,
    "start_time": "2023-01-20T14:13:15.972Z"
   },
   {
    "duration": 41,
    "start_time": "2023-01-20T14:13:16.060Z"
   },
   {
    "duration": 57,
    "start_time": "2023-01-20T14:13:16.102Z"
   },
   {
    "duration": 38,
    "start_time": "2023-01-20T14:13:16.161Z"
   },
   {
    "duration": 56,
    "start_time": "2023-01-20T14:13:16.201Z"
   },
   {
    "duration": 36,
    "start_time": "2023-01-20T14:13:16.259Z"
   },
   {
    "duration": 62,
    "start_time": "2023-01-20T14:13:16.297Z"
   },
   {
    "duration": 81,
    "start_time": "2023-01-20T14:13:16.361Z"
   },
   {
    "duration": 4,
    "start_time": "2023-01-20T14:13:16.443Z"
   },
   {
    "duration": 175,
    "start_time": "2023-01-20T14:13:16.449Z"
   },
   {
    "duration": 30,
    "start_time": "2023-01-20T14:13:16.625Z"
   },
   {
    "duration": 4,
    "start_time": "2023-01-20T14:13:16.657Z"
   },
   {
    "duration": 59,
    "start_time": "2023-01-20T14:13:16.663Z"
   },
   {
    "duration": 6,
    "start_time": "2023-01-20T14:13:16.735Z"
   },
   {
    "duration": 9,
    "start_time": "2023-01-20T14:13:16.743Z"
   },
   {
    "duration": 9,
    "start_time": "2023-01-20T14:13:16.753Z"
   },
   {
    "duration": 10,
    "start_time": "2023-01-20T14:13:16.764Z"
   },
   {
    "duration": 20,
    "start_time": "2023-01-20T14:13:16.776Z"
   },
   {
    "duration": 7,
    "start_time": "2023-01-20T14:13:16.798Z"
   },
   {
    "duration": 24482,
    "start_time": "2023-01-20T14:13:16.807Z"
   },
   {
    "duration": 4,
    "start_time": "2023-01-20T14:13:41.291Z"
   },
   {
    "duration": 20,
    "start_time": "2023-01-20T14:13:41.297Z"
   },
   {
    "duration": 29,
    "start_time": "2023-01-20T14:13:41.320Z"
   },
   {
    "duration": 22,
    "start_time": "2023-01-20T14:13:41.351Z"
   },
   {
    "duration": 17,
    "start_time": "2023-01-20T14:13:41.375Z"
   },
   {
    "duration": 23150,
    "start_time": "2023-01-20T14:13:41.397Z"
   },
   {
    "duration": 4,
    "start_time": "2023-01-20T14:14:04.549Z"
   },
   {
    "duration": 37,
    "start_time": "2023-01-20T14:14:04.554Z"
   },
   {
    "duration": 44,
    "start_time": "2023-01-20T14:14:04.593Z"
   },
   {
    "duration": 727,
    "start_time": "2023-01-20T14:14:04.638Z"
   },
   {
    "duration": 1126,
    "start_time": "2023-01-20T14:14:05.367Z"
   },
   {
    "duration": 13124,
    "start_time": "2023-01-20T14:14:06.495Z"
   },
   {
    "duration": 118,
    "start_time": "2023-01-20T14:14:19.621Z"
   },
   {
    "duration": 1294,
    "start_time": "2023-01-20T14:14:19.742Z"
   },
   {
    "duration": 33500,
    "start_time": "2023-01-20T14:14:21.038Z"
   },
   {
    "duration": 100,
    "start_time": "2023-01-20T14:14:54.541Z"
   },
   {
    "duration": 81,
    "start_time": "2023-01-20T14:14:54.643Z"
   },
   {
    "duration": 16,
    "start_time": "2023-01-20T14:14:54.726Z"
   },
   {
    "duration": 301,
    "start_time": "2023-01-20T14:14:54.744Z"
   },
   {
    "duration": 5,
    "start_time": "2023-01-20T14:14:55.047Z"
   },
   {
    "duration": 1536,
    "start_time": "2023-01-20T14:20:10.516Z"
   },
   {
    "duration": 3,
    "start_time": "2023-01-20T14:20:12.055Z"
   },
   {
    "duration": 937,
    "start_time": "2023-01-20T14:20:12.060Z"
   },
   {
    "duration": 1690,
    "start_time": "2023-01-20T14:20:13.000Z"
   },
   {
    "duration": 124,
    "start_time": "2023-01-20T14:20:14.691Z"
   },
   {
    "duration": 27,
    "start_time": "2023-01-20T14:20:14.816Z"
   },
   {
    "duration": 18,
    "start_time": "2023-01-20T14:20:14.844Z"
   },
   {
    "duration": 11,
    "start_time": "2023-01-20T14:20:14.864Z"
   },
   {
    "duration": 78703,
    "start_time": "2023-01-20T14:20:14.876Z"
   },
   {
    "duration": 23,
    "start_time": "2023-01-20T14:21:33.582Z"
   },
   {
    "duration": 26,
    "start_time": "2023-01-20T14:21:33.607Z"
   },
   {
    "duration": 5611,
    "start_time": "2023-01-20T14:21:33.634Z"
   },
   {
    "duration": 20,
    "start_time": "2023-01-20T14:21:39.247Z"
   },
   {
    "duration": 16057,
    "start_time": "2023-01-20T14:21:39.269Z"
   },
   {
    "duration": 23,
    "start_time": "2023-01-20T14:21:55.328Z"
   },
   {
    "duration": 92,
    "start_time": "2023-01-20T14:21:55.352Z"
   },
   {
    "duration": 40,
    "start_time": "2023-01-20T14:21:55.446Z"
   },
   {
    "duration": 56,
    "start_time": "2023-01-20T14:21:55.488Z"
   },
   {
    "duration": 37,
    "start_time": "2023-01-20T14:21:55.546Z"
   },
   {
    "duration": 52,
    "start_time": "2023-01-20T14:21:55.585Z"
   },
   {
    "duration": 29,
    "start_time": "2023-01-20T14:21:55.639Z"
   },
   {
    "duration": 49,
    "start_time": "2023-01-20T14:21:55.670Z"
   },
   {
    "duration": 77,
    "start_time": "2023-01-20T14:21:55.721Z"
   },
   {
    "duration": 71,
    "start_time": "2023-01-20T14:21:55.800Z"
   },
   {
    "duration": 217,
    "start_time": "2023-01-20T14:21:55.873Z"
   },
   {
    "duration": 23,
    "start_time": "2023-01-20T14:21:56.092Z"
   },
   {
    "duration": 19,
    "start_time": "2023-01-20T14:21:56.117Z"
   },
   {
    "duration": 95,
    "start_time": "2023-01-20T14:21:56.140Z"
   },
   {
    "duration": 4,
    "start_time": "2023-01-20T14:21:56.237Z"
   },
   {
    "duration": 25,
    "start_time": "2023-01-20T14:21:56.243Z"
   },
   {
    "duration": 22,
    "start_time": "2023-01-20T14:21:56.270Z"
   },
   {
    "duration": 41,
    "start_time": "2023-01-20T14:21:56.294Z"
   },
   {
    "duration": 44,
    "start_time": "2023-01-20T14:21:56.337Z"
   },
   {
    "duration": 18,
    "start_time": "2023-01-20T14:21:56.383Z"
   },
   {
    "duration": 26013,
    "start_time": "2023-01-20T14:21:56.402Z"
   },
   {
    "duration": 4,
    "start_time": "2023-01-20T14:22:22.417Z"
   },
   {
    "duration": 31,
    "start_time": "2023-01-20T14:22:22.422Z"
   },
   {
    "duration": 18,
    "start_time": "2023-01-20T14:22:22.454Z"
   },
   {
    "duration": 31,
    "start_time": "2023-01-20T14:22:22.474Z"
   },
   {
    "duration": 17,
    "start_time": "2023-01-20T14:22:22.507Z"
   },
   {
    "duration": 17113,
    "start_time": "2023-01-20T14:22:22.526Z"
   },
   {
    "duration": 3,
    "start_time": "2023-01-20T14:22:39.641Z"
   },
   {
    "duration": 18,
    "start_time": "2023-01-20T14:22:39.646Z"
   },
   {
    "duration": 17,
    "start_time": "2023-01-20T14:22:39.666Z"
   },
   {
    "duration": 699,
    "start_time": "2023-01-20T14:22:39.684Z"
   },
   {
    "duration": 1125,
    "start_time": "2023-01-20T14:22:40.385Z"
   },
   {
    "duration": 12742,
    "start_time": "2023-01-20T14:22:41.512Z"
   },
   {
    "duration": 88,
    "start_time": "2023-01-20T14:22:54.256Z"
   },
   {
    "duration": 1299,
    "start_time": "2023-01-20T14:22:54.346Z"
   },
   {
    "duration": 36893,
    "start_time": "2023-01-20T14:22:55.647Z"
   },
   {
    "duration": 98,
    "start_time": "2023-01-20T14:23:32.542Z"
   },
   {
    "duration": 62,
    "start_time": "2023-01-20T14:23:32.643Z"
   },
   {
    "duration": 31,
    "start_time": "2023-01-20T14:23:32.707Z"
   },
   {
    "duration": 1378,
    "start_time": "2023-01-20T14:24:35.240Z"
   },
   {
    "duration": 3,
    "start_time": "2023-01-20T14:24:36.620Z"
   },
   {
    "duration": 852,
    "start_time": "2023-01-20T14:24:36.625Z"
   },
   {
    "duration": 1703,
    "start_time": "2023-01-20T14:24:37.479Z"
   },
   {
    "duration": 128,
    "start_time": "2023-01-20T14:24:39.184Z"
   },
   {
    "duration": 30,
    "start_time": "2023-01-20T14:24:39.314Z"
   },
   {
    "duration": 21,
    "start_time": "2023-01-20T14:24:39.346Z"
   },
   {
    "duration": 12,
    "start_time": "2023-01-20T14:24:39.368Z"
   },
   {
    "duration": 77577,
    "start_time": "2023-01-20T14:24:39.382Z"
   },
   {
    "duration": 20,
    "start_time": "2023-01-20T14:25:56.963Z"
   },
   {
    "duration": 28,
    "start_time": "2023-01-20T14:25:56.986Z"
   },
   {
    "duration": 5672,
    "start_time": "2023-01-20T14:25:57.017Z"
   },
   {
    "duration": 20,
    "start_time": "2023-01-20T14:26:02.691Z"
   },
   {
    "duration": 16530,
    "start_time": "2023-01-20T14:26:02.713Z"
   },
   {
    "duration": 21,
    "start_time": "2023-01-20T14:26:19.245Z"
   },
   {
    "duration": 134,
    "start_time": "2023-01-20T14:26:19.268Z"
   },
   {
    "duration": 50,
    "start_time": "2023-01-20T14:26:19.404Z"
   },
   {
    "duration": 54,
    "start_time": "2023-01-20T14:26:19.456Z"
   },
   {
    "duration": 53,
    "start_time": "2023-01-20T14:26:19.513Z"
   },
   {
    "duration": 63,
    "start_time": "2023-01-20T14:26:19.568Z"
   },
   {
    "duration": 40,
    "start_time": "2023-01-20T14:26:19.633Z"
   },
   {
    "duration": 65,
    "start_time": "2023-01-20T14:26:19.675Z"
   },
   {
    "duration": 71,
    "start_time": "2023-01-20T14:26:19.742Z"
   },
   {
    "duration": 23,
    "start_time": "2023-01-20T14:26:19.815Z"
   },
   {
    "duration": 207,
    "start_time": "2023-01-20T14:26:19.840Z"
   },
   {
    "duration": 26,
    "start_time": "2023-01-20T14:26:20.049Z"
   },
   {
    "duration": 6,
    "start_time": "2023-01-20T14:26:20.077Z"
   },
   {
    "duration": 92,
    "start_time": "2023-01-20T14:26:20.087Z"
   },
   {
    "duration": 4,
    "start_time": "2023-01-20T14:26:20.181Z"
   },
   {
    "duration": 42,
    "start_time": "2023-01-20T14:26:20.187Z"
   },
   {
    "duration": 25,
    "start_time": "2023-01-20T14:26:20.231Z"
   },
   {
    "duration": 34,
    "start_time": "2023-01-20T14:26:20.258Z"
   },
   {
    "duration": 33,
    "start_time": "2023-01-20T14:26:20.294Z"
   },
   {
    "duration": 31,
    "start_time": "2023-01-20T14:26:20.329Z"
   },
   {
    "duration": 26149,
    "start_time": "2023-01-20T14:26:20.362Z"
   },
   {
    "duration": 4,
    "start_time": "2023-01-20T14:26:46.512Z"
   },
   {
    "duration": 9,
    "start_time": "2023-01-20T14:26:46.517Z"
   },
   {
    "duration": 6,
    "start_time": "2023-01-20T14:26:46.527Z"
   },
   {
    "duration": 12,
    "start_time": "2023-01-20T14:26:46.535Z"
   },
   {
    "duration": 8,
    "start_time": "2023-01-20T14:26:46.549Z"
   },
   {
    "duration": 21783,
    "start_time": "2023-01-20T14:26:46.559Z"
   },
   {
    "duration": 5,
    "start_time": "2023-01-20T14:27:08.344Z"
   },
   {
    "duration": 20,
    "start_time": "2023-01-20T14:27:08.351Z"
   },
   {
    "duration": 14,
    "start_time": "2023-01-20T14:27:08.373Z"
   },
   {
    "duration": 761,
    "start_time": "2023-01-20T14:27:08.389Z"
   },
   {
    "duration": 1272,
    "start_time": "2023-01-20T14:27:09.152Z"
   },
   {
    "duration": 2084,
    "start_time": "2023-01-20T14:27:10.426Z"
   },
   {
    "duration": 126,
    "start_time": "2023-01-20T14:27:12.512Z"
   },
   {
    "duration": 1202,
    "start_time": "2023-01-20T14:27:12.641Z"
   },
   {
    "duration": 1419,
    "start_time": "2023-01-20T14:27:53.658Z"
   },
   {
    "duration": 3,
    "start_time": "2023-01-20T14:27:55.079Z"
   },
   {
    "duration": 873,
    "start_time": "2023-01-20T14:27:55.084Z"
   },
   {
    "duration": 1645,
    "start_time": "2023-01-20T14:27:55.959Z"
   },
   {
    "duration": 124,
    "start_time": "2023-01-20T14:27:57.606Z"
   },
   {
    "duration": 20,
    "start_time": "2023-01-20T14:27:57.732Z"
   },
   {
    "duration": 29,
    "start_time": "2023-01-20T14:27:57.754Z"
   },
   {
    "duration": 20,
    "start_time": "2023-01-20T14:27:57.785Z"
   },
   {
    "duration": 79468,
    "start_time": "2023-01-20T14:27:57.807Z"
   },
   {
    "duration": 171,
    "start_time": "2023-01-20T14:29:17.278Z"
   },
   {
    "duration": 197,
    "start_time": "2023-01-20T14:29:17.452Z"
   },
   {
    "duration": 21,
    "start_time": "2023-01-20T14:29:17.651Z"
   },
   {
    "duration": 26,
    "start_time": "2023-01-20T14:29:17.673Z"
   },
   {
    "duration": 5592,
    "start_time": "2023-01-20T14:29:17.703Z"
   },
   {
    "duration": 19,
    "start_time": "2023-01-20T14:29:23.297Z"
   },
   {
    "duration": 16060,
    "start_time": "2023-01-20T14:29:23.318Z"
   },
   {
    "duration": 21,
    "start_time": "2023-01-20T14:29:39.381Z"
   },
   {
    "duration": 83,
    "start_time": "2023-01-20T14:29:39.403Z"
   },
   {
    "duration": 59,
    "start_time": "2023-01-20T14:29:39.488Z"
   },
   {
    "duration": 41,
    "start_time": "2023-01-20T14:29:39.548Z"
   },
   {
    "duration": 58,
    "start_time": "2023-01-20T14:29:39.591Z"
   },
   {
    "duration": 38,
    "start_time": "2023-01-20T14:29:39.651Z"
   },
   {
    "duration": 50,
    "start_time": "2023-01-20T14:29:39.691Z"
   },
   {
    "duration": 42,
    "start_time": "2023-01-20T14:29:39.743Z"
   },
   {
    "duration": 81,
    "start_time": "2023-01-20T14:29:39.787Z"
   },
   {
    "duration": 3,
    "start_time": "2023-01-20T14:29:39.871Z"
   },
   {
    "duration": 190,
    "start_time": "2023-01-20T14:29:39.876Z"
   },
   {
    "duration": 26,
    "start_time": "2023-01-20T14:29:40.068Z"
   },
   {
    "duration": 5,
    "start_time": "2023-01-20T14:29:40.096Z"
   },
   {
    "duration": 88,
    "start_time": "2023-01-20T14:29:40.103Z"
   },
   {
    "duration": 5,
    "start_time": "2023-01-20T14:29:40.192Z"
   },
   {
    "duration": 7,
    "start_time": "2023-01-20T14:29:40.198Z"
   },
   {
    "duration": 7,
    "start_time": "2023-01-20T14:29:40.206Z"
   },
   {
    "duration": 5,
    "start_time": "2023-01-20T14:29:40.215Z"
   },
   {
    "duration": 15,
    "start_time": "2023-01-20T14:29:40.222Z"
   },
   {
    "duration": 5,
    "start_time": "2023-01-20T14:29:40.239Z"
   },
   {
    "duration": 24693,
    "start_time": "2023-01-20T14:29:40.245Z"
   },
   {
    "duration": 5,
    "start_time": "2023-01-20T14:30:04.940Z"
   },
   {
    "duration": 18,
    "start_time": "2023-01-20T14:30:04.947Z"
   },
   {
    "duration": 26,
    "start_time": "2023-01-20T14:30:04.967Z"
   },
   {
    "duration": 24,
    "start_time": "2023-01-20T14:30:04.997Z"
   },
   {
    "duration": 13,
    "start_time": "2023-01-20T14:30:05.023Z"
   },
   {
    "duration": 18614,
    "start_time": "2023-01-20T14:30:05.037Z"
   },
   {
    "duration": 85,
    "start_time": "2023-01-20T14:30:23.653Z"
   },
   {
    "duration": 19,
    "start_time": "2023-01-20T14:30:23.740Z"
   },
   {
    "duration": 22,
    "start_time": "2023-01-20T14:30:23.762Z"
   },
   {
    "duration": 762,
    "start_time": "2023-01-20T14:30:23.786Z"
   },
   {
    "duration": 1154,
    "start_time": "2023-01-20T14:30:24.550Z"
   },
   {
    "duration": 1939,
    "start_time": "2023-01-20T14:30:25.706Z"
   },
   {
    "duration": 62,
    "start_time": "2023-01-20T14:30:27.647Z"
   },
   {
    "duration": 1134,
    "start_time": "2023-01-20T14:30:27.711Z"
   },
   {
    "duration": 37792,
    "start_time": "2023-01-20T14:30:28.848Z"
   },
   {
    "duration": 102,
    "start_time": "2023-01-20T14:31:06.643Z"
   },
   {
    "duration": 57,
    "start_time": "2023-01-20T14:31:06.747Z"
   },
   {
    "duration": 41,
    "start_time": "2023-01-20T14:31:06.806Z"
   },
   {
    "duration": 332,
    "start_time": "2023-01-20T14:31:06.851Z"
   },
   {
    "duration": 203,
    "start_time": "2023-01-20T14:31:17.198Z"
   },
   {
    "duration": 44,
    "start_time": "2023-01-20T14:32:23.093Z"
   },
   {
    "duration": 1472,
    "start_time": "2023-01-20T18:36:52.561Z"
   },
   {
    "duration": 3,
    "start_time": "2023-01-20T18:36:54.035Z"
   },
   {
    "duration": 762,
    "start_time": "2023-01-20T18:36:54.039Z"
   },
   {
    "duration": 1401,
    "start_time": "2023-01-20T18:36:54.803Z"
   },
   {
    "duration": 108,
    "start_time": "2023-01-20T18:36:56.205Z"
   },
   {
    "duration": 31,
    "start_time": "2023-01-20T18:36:56.315Z"
   },
   {
    "duration": 17,
    "start_time": "2023-01-20T18:36:56.348Z"
   },
   {
    "duration": 11,
    "start_time": "2023-01-20T18:36:56.366Z"
   },
   {
    "duration": 67770,
    "start_time": "2023-01-20T18:36:56.378Z"
   },
   {
    "duration": 142,
    "start_time": "2023-01-20T18:38:04.149Z"
   },
   {
    "duration": 186,
    "start_time": "2023-01-20T18:38:04.293Z"
   },
   {
    "duration": 16,
    "start_time": "2023-01-20T18:38:04.481Z"
   },
   {
    "duration": 21,
    "start_time": "2023-01-20T18:38:04.499Z"
   },
   {
    "duration": 4674,
    "start_time": "2023-01-20T18:38:04.536Z"
   },
   {
    "duration": 16,
    "start_time": "2023-01-20T18:38:09.212Z"
   },
   {
    "duration": 14047,
    "start_time": "2023-01-20T18:38:09.230Z"
   },
   {
    "duration": 21,
    "start_time": "2023-01-20T18:38:23.278Z"
   },
   {
    "duration": 90,
    "start_time": "2023-01-20T18:38:23.301Z"
   },
   {
    "duration": 50,
    "start_time": "2023-01-20T18:38:23.393Z"
   },
   {
    "duration": 40,
    "start_time": "2023-01-20T18:38:23.445Z"
   },
   {
    "duration": 62,
    "start_time": "2023-01-20T18:38:23.486Z"
   },
   {
    "duration": 38,
    "start_time": "2023-01-20T18:38:23.549Z"
   },
   {
    "duration": 29,
    "start_time": "2023-01-20T18:38:23.588Z"
   },
   {
    "duration": 51,
    "start_time": "2023-01-20T18:38:23.618Z"
   },
   {
    "duration": 79,
    "start_time": "2023-01-20T18:38:23.670Z"
   },
   {
    "duration": 3,
    "start_time": "2023-01-20T18:38:23.751Z"
   },
   {
    "duration": 162,
    "start_time": "2023-01-20T18:38:23.755Z"
   },
   {
    "duration": 30,
    "start_time": "2023-01-20T18:38:23.918Z"
   },
   {
    "duration": 3,
    "start_time": "2023-01-20T18:38:23.950Z"
   },
   {
    "duration": 48,
    "start_time": "2023-01-20T18:38:23.955Z"
   },
   {
    "duration": 4,
    "start_time": "2023-01-20T18:38:24.004Z"
   },
   {
    "duration": 12,
    "start_time": "2023-01-20T18:38:24.010Z"
   },
   {
    "duration": 3,
    "start_time": "2023-01-20T18:38:24.039Z"
   },
   {
    "duration": 6,
    "start_time": "2023-01-20T18:38:24.044Z"
   },
   {
    "duration": 6,
    "start_time": "2023-01-20T18:38:24.051Z"
   },
   {
    "duration": 6,
    "start_time": "2023-01-20T18:38:24.059Z"
   },
   {
    "duration": 24552,
    "start_time": "2023-01-20T18:38:24.067Z"
   },
   {
    "duration": 4,
    "start_time": "2023-01-20T18:38:48.620Z"
   },
   {
    "duration": 5,
    "start_time": "2023-01-20T18:38:48.625Z"
   },
   {
    "duration": 5,
    "start_time": "2023-01-20T18:38:48.631Z"
   },
   {
    "duration": 2,
    "start_time": "2023-01-20T18:38:48.640Z"
   },
   {
    "duration": 5,
    "start_time": "2023-01-20T18:38:48.644Z"
   },
   {
    "duration": 14498,
    "start_time": "2023-01-20T18:38:48.650Z"
   },
   {
    "duration": 4,
    "start_time": "2023-01-20T18:39:03.150Z"
   },
   {
    "duration": 12,
    "start_time": "2023-01-20T18:39:03.155Z"
   },
   {
    "duration": 69,
    "start_time": "2023-01-20T18:39:03.168Z"
   },
   {
    "duration": 632,
    "start_time": "2023-01-20T18:39:03.239Z"
   },
   {
    "duration": 1000,
    "start_time": "2023-01-20T18:39:03.872Z"
   },
   {
    "duration": 1890,
    "start_time": "2023-01-20T18:39:04.873Z"
   },
   {
    "duration": 82,
    "start_time": "2023-01-20T18:39:06.764Z"
   },
   {
    "duration": 1097,
    "start_time": "2023-01-20T18:39:06.847Z"
   },
   {
    "duration": 26799,
    "start_time": "2023-01-20T18:39:07.946Z"
   },
   {
    "duration": 95,
    "start_time": "2023-01-20T18:39:34.746Z"
   },
   {
    "duration": 166,
    "start_time": "2023-01-20T18:39:34.843Z"
   },
   {
    "duration": 11,
    "start_time": "2023-01-20T18:39:35.010Z"
   },
   {
    "duration": 2007,
    "start_time": "2023-01-21T01:00:19.521Z"
   },
   {
    "duration": 6,
    "start_time": "2023-01-21T01:00:21.531Z"
   },
   {
    "duration": 1357,
    "start_time": "2023-01-21T01:00:21.539Z"
   },
   {
    "duration": 1834,
    "start_time": "2023-01-21T01:00:22.902Z"
   },
   {
    "duration": 180,
    "start_time": "2023-01-21T01:00:24.739Z"
   },
   {
    "duration": 20,
    "start_time": "2023-01-21T01:00:24.920Z"
   },
   {
    "duration": 48,
    "start_time": "2023-01-21T01:00:24.942Z"
   },
   {
    "duration": 16,
    "start_time": "2023-01-21T01:00:24.996Z"
   },
   {
    "duration": 86732,
    "start_time": "2023-01-21T01:00:25.014Z"
   },
   {
    "duration": 189,
    "start_time": "2023-01-21T01:01:51.749Z"
   },
   {
    "duration": 238,
    "start_time": "2023-01-21T01:01:51.941Z"
   },
   {
    "duration": 24,
    "start_time": "2023-01-21T01:01:52.184Z"
   },
   {
    "duration": 27,
    "start_time": "2023-01-21T01:01:52.209Z"
   },
   {
    "duration": 6050,
    "start_time": "2023-01-21T01:01:52.238Z"
   },
   {
    "duration": 33,
    "start_time": "2023-01-21T01:01:58.297Z"
   },
   {
    "duration": 17663,
    "start_time": "2023-01-21T01:01:58.332Z"
   },
   {
    "duration": 31,
    "start_time": "2023-01-21T01:02:15.997Z"
   },
   {
    "duration": 137,
    "start_time": "2023-01-21T01:02:16.030Z"
   },
   {
    "duration": 75,
    "start_time": "2023-01-21T01:02:16.169Z"
   },
   {
    "duration": 73,
    "start_time": "2023-01-21T01:02:16.247Z"
   },
   {
    "duration": 78,
    "start_time": "2023-01-21T01:02:16.322Z"
   },
   {
    "duration": 52,
    "start_time": "2023-01-21T01:02:16.402Z"
   },
   {
    "duration": 59,
    "start_time": "2023-01-21T01:02:16.456Z"
   },
   {
    "duration": 53,
    "start_time": "2023-01-21T01:02:16.518Z"
   },
   {
    "duration": 128,
    "start_time": "2023-01-21T01:02:16.573Z"
   },
   {
    "duration": 9,
    "start_time": "2023-01-21T01:02:16.704Z"
   },
   {
    "duration": 197,
    "start_time": "2023-01-21T01:02:16.715Z"
   },
   {
    "duration": 26,
    "start_time": "2023-01-21T01:02:16.916Z"
   },
   {
    "duration": 4,
    "start_time": "2023-01-21T01:02:16.944Z"
   },
   {
    "duration": 92,
    "start_time": "2023-01-21T01:02:16.950Z"
   },
   {
    "duration": 6,
    "start_time": "2023-01-21T01:02:17.045Z"
   },
   {
    "duration": 15,
    "start_time": "2023-01-21T01:02:17.053Z"
   },
   {
    "duration": 19,
    "start_time": "2023-01-21T01:02:17.070Z"
   },
   {
    "duration": 32,
    "start_time": "2023-01-21T01:02:17.091Z"
   },
   {
    "duration": 15,
    "start_time": "2023-01-21T01:02:17.125Z"
   },
   {
    "duration": 14,
    "start_time": "2023-01-21T01:02:17.143Z"
   },
   {
    "duration": 31911,
    "start_time": "2023-01-21T01:02:17.159Z"
   },
   {
    "duration": 4,
    "start_time": "2023-01-21T01:02:49.072Z"
   },
   {
    "duration": 29,
    "start_time": "2023-01-21T01:02:49.078Z"
   },
   {
    "duration": 28,
    "start_time": "2023-01-21T01:02:49.109Z"
   },
   {
    "duration": 24,
    "start_time": "2023-01-21T01:02:49.139Z"
   },
   {
    "duration": 24,
    "start_time": "2023-01-21T01:02:49.165Z"
   },
   {
    "duration": 517608,
    "start_time": "2023-01-21T01:02:49.197Z"
   },
   {
    "duration": 4,
    "start_time": "2023-01-21T01:11:26.808Z"
   },
   {
    "duration": 8,
    "start_time": "2023-01-21T01:11:26.814Z"
   },
   {
    "duration": 4,
    "start_time": "2023-01-21T01:11:26.824Z"
   },
   {
    "duration": 873,
    "start_time": "2023-01-21T01:11:26.830Z"
   },
   {
    "duration": 1329,
    "start_time": "2023-01-21T01:11:27.706Z"
   },
   {
    "duration": 2453,
    "start_time": "2023-01-21T01:11:29.039Z"
   },
   {
    "duration": 192,
    "start_time": "2023-01-21T01:11:31.493Z"
   },
   {
    "duration": 51916,
    "start_time": "2023-01-21T01:11:31.692Z"
   },
   {
    "duration": 35573,
    "start_time": "2023-01-21T01:12:23.614Z"
   },
   {
    "duration": 99,
    "start_time": "2023-01-21T01:12:59.189Z"
   },
   {
    "duration": 73,
    "start_time": "2023-01-21T01:12:59.294Z"
   },
   {
    "duration": 22,
    "start_time": "2023-01-21T01:12:59.369Z"
   },
   {
    "duration": 8,
    "start_time": "2023-01-21T01:12:59.511Z"
   },
   {
    "duration": 5,
    "start_time": "2023-01-21T01:14:55.935Z"
   },
   {
    "duration": 4,
    "start_time": "2023-01-21T01:15:00.335Z"
   },
   {
    "duration": 4,
    "start_time": "2023-01-21T01:16:22.361Z"
   },
   {
    "duration": 4,
    "start_time": "2023-01-21T01:16:33.064Z"
   },
   {
    "duration": 120,
    "start_time": "2023-01-21T01:16:43.441Z"
   },
   {
    "duration": 6,
    "start_time": "2023-01-21T01:17:20.785Z"
   },
   {
    "duration": 5,
    "start_time": "2023-01-21T01:17:45.226Z"
   },
   {
    "duration": 5,
    "start_time": "2023-01-21T01:18:09.701Z"
   },
   {
    "duration": 5,
    "start_time": "2023-01-21T01:18:43.745Z"
   },
   {
    "duration": 5,
    "start_time": "2023-01-21T01:18:50.473Z"
   },
   {
    "duration": 13,
    "start_time": "2023-01-21T01:19:04.883Z"
   },
   {
    "duration": 10,
    "start_time": "2023-01-21T01:19:09.793Z"
   },
   {
    "duration": 78,
    "start_time": "2023-01-21T01:23:26.062Z"
   },
   {
    "duration": 5,
    "start_time": "2023-01-21T01:23:33.501Z"
   },
   {
    "duration": 5,
    "start_time": "2023-01-21T01:23:45.108Z"
   },
   {
    "duration": 5,
    "start_time": "2023-01-21T01:24:18.820Z"
   },
   {
    "duration": 1675,
    "start_time": "2023-01-21T01:57:15.662Z"
   },
   {
    "duration": 4,
    "start_time": "2023-01-21T01:57:17.340Z"
   },
   {
    "duration": 1068,
    "start_time": "2023-01-21T01:57:17.347Z"
   },
   {
    "duration": 1934,
    "start_time": "2023-01-21T01:57:18.418Z"
   },
   {
    "duration": 212,
    "start_time": "2023-01-21T01:57:20.354Z"
   },
   {
    "duration": 68,
    "start_time": "2023-01-21T01:57:20.568Z"
   },
   {
    "duration": 19,
    "start_time": "2023-01-21T01:57:20.638Z"
   },
   {
    "duration": 16,
    "start_time": "2023-01-21T01:57:20.660Z"
   },
   {
    "duration": 83990,
    "start_time": "2023-01-21T01:57:20.678Z"
   },
   {
    "duration": 170,
    "start_time": "2023-01-21T01:58:44.704Z"
   },
   {
    "duration": 228,
    "start_time": "2023-01-21T01:58:44.876Z"
   },
   {
    "duration": 19,
    "start_time": "2023-01-21T01:58:45.106Z"
   },
   {
    "duration": 37,
    "start_time": "2023-01-21T01:58:45.128Z"
   },
   {
    "duration": 6052,
    "start_time": "2023-01-21T01:58:45.183Z"
   },
   {
    "duration": 21,
    "start_time": "2023-01-21T01:58:51.236Z"
   },
   {
    "duration": 17670,
    "start_time": "2023-01-21T01:58:51.259Z"
   },
   {
    "duration": 22,
    "start_time": "2023-01-21T01:59:08.931Z"
   },
   {
    "duration": 130,
    "start_time": "2023-01-21T01:59:08.954Z"
   },
   {
    "duration": 66,
    "start_time": "2023-01-21T01:59:09.086Z"
   },
   {
    "duration": 80,
    "start_time": "2023-01-21T01:59:09.155Z"
   },
   {
    "duration": 65,
    "start_time": "2023-01-21T01:59:09.237Z"
   },
   {
    "duration": 55,
    "start_time": "2023-01-21T01:59:09.306Z"
   },
   {
    "duration": 48,
    "start_time": "2023-01-21T01:59:09.363Z"
   },
   {
    "duration": 47,
    "start_time": "2023-01-21T01:59:09.413Z"
   },
   {
    "duration": 110,
    "start_time": "2023-01-21T01:59:09.462Z"
   },
   {
    "duration": 8,
    "start_time": "2023-01-21T01:59:09.585Z"
   },
   {
    "duration": 275,
    "start_time": "2023-01-21T01:59:09.596Z"
   },
   {
    "duration": 47,
    "start_time": "2023-01-21T01:59:09.876Z"
   },
   {
    "duration": 4,
    "start_time": "2023-01-21T01:59:09.926Z"
   },
   {
    "duration": 98,
    "start_time": "2023-01-21T01:59:09.932Z"
   },
   {
    "duration": 4,
    "start_time": "2023-01-21T01:59:10.032Z"
   },
   {
    "duration": 7,
    "start_time": "2023-01-21T01:59:10.038Z"
   },
   {
    "duration": 6,
    "start_time": "2023-01-21T01:59:10.047Z"
   },
   {
    "duration": 50,
    "start_time": "2023-01-21T01:59:10.056Z"
   },
   {
    "duration": 4,
    "start_time": "2023-01-21T01:59:10.109Z"
   },
   {
    "duration": 30283,
    "start_time": "2023-01-21T01:59:10.116Z"
   },
   {
    "duration": 5,
    "start_time": "2023-01-21T01:59:40.401Z"
   },
   {
    "duration": 8,
    "start_time": "2023-01-21T01:59:40.407Z"
   },
   {
    "duration": 5,
    "start_time": "2023-01-21T01:59:40.417Z"
   },
   {
    "duration": 6,
    "start_time": "2023-01-21T01:59:40.423Z"
   },
   {
    "duration": 6,
    "start_time": "2023-01-21T01:59:40.431Z"
   },
   {
    "duration": 1590,
    "start_time": "2023-01-21T02:05:28.177Z"
   },
   {
    "duration": 4,
    "start_time": "2023-01-21T02:05:29.769Z"
   },
   {
    "duration": 992,
    "start_time": "2023-01-21T02:05:29.775Z"
   },
   {
    "duration": 1847,
    "start_time": "2023-01-21T02:05:30.770Z"
   },
   {
    "duration": 151,
    "start_time": "2023-01-21T02:05:32.619Z"
   },
   {
    "duration": 40,
    "start_time": "2023-01-21T02:05:32.771Z"
   },
   {
    "duration": 26,
    "start_time": "2023-01-21T02:05:32.812Z"
   },
   {
    "duration": 12,
    "start_time": "2023-01-21T02:05:32.840Z"
   },
   {
    "duration": 82429,
    "start_time": "2023-01-21T02:05:32.853Z"
   },
   {
    "duration": 182,
    "start_time": "2023-01-21T02:06:55.289Z"
   },
   {
    "duration": 223,
    "start_time": "2023-01-21T02:06:55.472Z"
   },
   {
    "duration": 20,
    "start_time": "2023-01-21T02:06:55.696Z"
   },
   {
    "duration": 23,
    "start_time": "2023-01-21T02:06:55.718Z"
   },
   {
    "duration": 5777,
    "start_time": "2023-01-21T02:06:55.743Z"
   },
   {
    "duration": 21,
    "start_time": "2023-01-21T02:07:01.522Z"
   },
   {
    "duration": 16968,
    "start_time": "2023-01-21T02:07:01.545Z"
   },
   {
    "duration": 20,
    "start_time": "2023-01-21T02:07:18.515Z"
   },
   {
    "duration": 116,
    "start_time": "2023-01-21T02:07:18.536Z"
   },
   {
    "duration": 63,
    "start_time": "2023-01-21T02:07:18.653Z"
   },
   {
    "duration": 40,
    "start_time": "2023-01-21T02:07:18.717Z"
   },
   {
    "duration": 60,
    "start_time": "2023-01-21T02:07:18.759Z"
   },
   {
    "duration": 41,
    "start_time": "2023-01-21T02:07:18.820Z"
   },
   {
    "duration": 54,
    "start_time": "2023-01-21T02:07:18.863Z"
   },
   {
    "duration": 40,
    "start_time": "2023-01-21T02:07:18.919Z"
   },
   {
    "duration": 106,
    "start_time": "2023-01-21T02:07:18.961Z"
   },
   {
    "duration": 4,
    "start_time": "2023-01-21T02:07:19.068Z"
   },
   {
    "duration": 183,
    "start_time": "2023-01-21T02:07:19.084Z"
   },
   {
    "duration": 37,
    "start_time": "2023-01-21T02:07:19.271Z"
   },
   {
    "duration": 5,
    "start_time": "2023-01-21T02:07:19.309Z"
   },
   {
    "duration": 75,
    "start_time": "2023-01-21T02:07:19.315Z"
   },
   {
    "duration": 5,
    "start_time": "2023-01-21T02:07:19.391Z"
   },
   {
    "duration": 3,
    "start_time": "2023-01-21T02:07:19.397Z"
   },
   {
    "duration": 8,
    "start_time": "2023-01-21T02:07:19.402Z"
   },
   {
    "duration": 8,
    "start_time": "2023-01-21T02:07:19.411Z"
   },
   {
    "duration": 7,
    "start_time": "2023-01-21T02:07:19.421Z"
   },
   {
    "duration": 28612,
    "start_time": "2023-01-21T02:07:19.431Z"
   },
   {
    "duration": 5,
    "start_time": "2023-01-21T02:07:48.044Z"
   },
   {
    "duration": 12,
    "start_time": "2023-01-21T02:07:48.050Z"
   },
   {
    "duration": 16,
    "start_time": "2023-01-21T02:07:48.064Z"
   },
   {
    "duration": 19,
    "start_time": "2023-01-21T02:07:48.082Z"
   },
   {
    "duration": 5,
    "start_time": "2023-01-21T02:07:48.103Z"
   },
   {
    "duration": 474982,
    "start_time": "2023-01-21T02:07:48.110Z"
   },
   {
    "duration": 8,
    "start_time": "2023-01-21T02:15:43.094Z"
   },
   {
    "duration": 24,
    "start_time": "2023-01-21T02:15:43.104Z"
   },
   {
    "duration": 18,
    "start_time": "2023-01-21T02:15:43.130Z"
   },
   {
    "duration": 957,
    "start_time": "2023-01-21T02:15:43.150Z"
   },
   {
    "duration": 0,
    "start_time": "2023-01-21T02:15:44.109Z"
   },
   {
    "duration": 0,
    "start_time": "2023-01-21T02:15:44.110Z"
   },
   {
    "duration": 0,
    "start_time": "2023-01-21T02:15:44.111Z"
   },
   {
    "duration": 0,
    "start_time": "2023-01-21T02:15:44.112Z"
   },
   {
    "duration": 0,
    "start_time": "2023-01-21T02:15:44.113Z"
   },
   {
    "duration": 0,
    "start_time": "2023-01-21T02:15:44.114Z"
   },
   {
    "duration": 0,
    "start_time": "2023-01-21T02:15:44.115Z"
   },
   {
    "duration": 0,
    "start_time": "2023-01-21T02:15:44.116Z"
   },
   {
    "duration": 183,
    "start_time": "2023-01-21T02:17:34.743Z"
   },
   {
    "duration": 220,
    "start_time": "2023-01-21T02:18:04.062Z"
   },
   {
    "duration": 766,
    "start_time": "2023-01-21T02:18:25.103Z"
   },
   {
    "duration": 752,
    "start_time": "2023-01-21T02:18:36.150Z"
   },
   {
    "duration": 760,
    "start_time": "2023-01-21T02:18:55.375Z"
   },
   {
    "duration": 1340,
    "start_time": "2023-01-21T02:18:58.327Z"
   },
   {
    "duration": 2490,
    "start_time": "2023-01-21T02:19:00.846Z"
   },
   {
    "duration": 154,
    "start_time": "2023-01-21T02:19:03.339Z"
   },
   {
    "duration": 52110,
    "start_time": "2023-01-21T02:19:03.495Z"
   },
   {
    "duration": 33497,
    "start_time": "2023-01-21T02:19:55.610Z"
   },
   {
    "duration": 24,
    "start_time": "2023-01-21T02:20:29.186Z"
   },
   {
    "duration": 146,
    "start_time": "2023-01-21T02:20:29.215Z"
   },
   {
    "duration": 32,
    "start_time": "2023-01-21T02:20:29.364Z"
   },
   {
    "duration": 538,
    "start_time": "2023-01-21T02:46:13.625Z"
   },
   {
    "duration": 1623,
    "start_time": "2023-01-21T02:46:37.699Z"
   },
   {
    "duration": 3,
    "start_time": "2023-01-21T02:46:39.324Z"
   },
   {
    "duration": 1063,
    "start_time": "2023-01-21T02:46:39.329Z"
   },
   {
    "duration": 1816,
    "start_time": "2023-01-21T02:46:40.401Z"
   },
   {
    "duration": 175,
    "start_time": "2023-01-21T02:46:42.220Z"
   },
   {
    "duration": 18,
    "start_time": "2023-01-21T02:46:42.398Z"
   },
   {
    "duration": 19,
    "start_time": "2023-01-21T02:46:42.417Z"
   },
   {
    "duration": 12,
    "start_time": "2023-01-21T02:46:42.438Z"
   },
   {
    "duration": 210,
    "start_time": "2023-01-21T02:46:42.452Z"
   },
   {
    "duration": 210,
    "start_time": "2023-01-21T02:46:42.665Z"
   },
   {
    "duration": 30,
    "start_time": "2023-01-21T02:46:42.877Z"
   },
   {
    "duration": 26,
    "start_time": "2023-01-21T02:46:42.909Z"
   },
   {
    "duration": 5744,
    "start_time": "2023-01-21T02:46:42.937Z"
   },
   {
    "duration": 24,
    "start_time": "2023-01-21T02:46:48.684Z"
   },
   {
    "duration": 16158,
    "start_time": "2023-01-21T02:46:48.710Z"
   },
   {
    "duration": 35,
    "start_time": "2023-01-21T02:47:04.870Z"
   },
   {
    "duration": 111,
    "start_time": "2023-01-21T02:47:04.907Z"
   },
   {
    "duration": 85,
    "start_time": "2023-01-21T02:47:05.020Z"
   },
   {
    "duration": 42,
    "start_time": "2023-01-21T02:47:05.106Z"
   },
   {
    "duration": 63,
    "start_time": "2023-01-21T02:47:05.150Z"
   },
   {
    "duration": 45,
    "start_time": "2023-01-21T02:47:05.214Z"
   },
   {
    "duration": 49,
    "start_time": "2023-01-21T02:47:05.261Z"
   },
   {
    "duration": 80,
    "start_time": "2023-01-21T02:47:05.311Z"
   },
   {
    "duration": 93,
    "start_time": "2023-01-21T02:47:05.409Z"
   },
   {
    "duration": 32,
    "start_time": "2023-01-21T02:47:05.504Z"
   },
   {
    "duration": 227,
    "start_time": "2023-01-21T02:47:05.538Z"
   },
   {
    "duration": 36,
    "start_time": "2023-01-21T02:47:05.767Z"
   },
   {
    "duration": 20,
    "start_time": "2023-01-21T02:47:05.805Z"
   },
   {
    "duration": 125,
    "start_time": "2023-01-21T02:47:05.827Z"
   },
   {
    "duration": 5,
    "start_time": "2023-01-21T02:47:05.953Z"
   },
   {
    "duration": 81,
    "start_time": "2023-01-21T02:47:05.960Z"
   },
   {
    "duration": 45,
    "start_time": "2023-01-21T02:47:06.043Z"
   },
   {
    "duration": 38,
    "start_time": "2023-01-21T02:47:06.091Z"
   },
   {
    "duration": 32,
    "start_time": "2023-01-21T02:47:06.132Z"
   },
   {
    "duration": 29503,
    "start_time": "2023-01-21T02:47:06.167Z"
   },
   {
    "duration": 5,
    "start_time": "2023-01-21T02:47:35.672Z"
   },
   {
    "duration": 20,
    "start_time": "2023-01-21T02:47:35.679Z"
   },
   {
    "duration": 8,
    "start_time": "2023-01-21T02:47:35.701Z"
   },
   {
    "duration": 13,
    "start_time": "2023-01-21T02:47:35.710Z"
   },
   {
    "duration": 12,
    "start_time": "2023-01-21T02:47:35.725Z"
   },
   {
    "duration": 473974,
    "start_time": "2023-01-21T02:47:35.741Z"
   },
   {
    "duration": 6,
    "start_time": "2023-01-21T02:55:29.718Z"
   },
   {
    "duration": 7,
    "start_time": "2023-01-21T02:55:29.726Z"
   },
   {
    "duration": 12,
    "start_time": "2023-01-21T02:55:29.735Z"
   },
   {
    "duration": 925,
    "start_time": "2023-01-21T02:55:29.749Z"
   },
   {
    "duration": 0,
    "start_time": "2023-01-21T02:55:30.677Z"
   },
   {
    "duration": 0,
    "start_time": "2023-01-21T02:55:30.679Z"
   },
   {
    "duration": 0,
    "start_time": "2023-01-21T02:55:30.680Z"
   },
   {
    "duration": 0,
    "start_time": "2023-01-21T02:55:30.684Z"
   },
   {
    "duration": 0,
    "start_time": "2023-01-21T02:55:30.686Z"
   },
   {
    "duration": 0,
    "start_time": "2023-01-21T02:55:30.687Z"
   },
   {
    "duration": 0,
    "start_time": "2023-01-21T02:55:30.688Z"
   },
   {
    "duration": 864,
    "start_time": "2023-01-21T02:58:17.214Z"
   },
   {
    "duration": 200,
    "start_time": "2023-01-21T02:59:00.787Z"
   },
   {
    "duration": 202,
    "start_time": "2023-01-21T02:59:25.137Z"
   },
   {
    "duration": 937,
    "start_time": "2023-01-21T03:00:15.029Z"
   },
   {
    "duration": 268,
    "start_time": "2023-01-21T03:00:59.200Z"
   },
   {
    "duration": 829,
    "start_time": "2023-01-21T03:01:11.609Z"
   },
   {
    "duration": 168,
    "start_time": "2023-01-21T03:01:47.706Z"
   },
   {
    "duration": 799,
    "start_time": "2023-01-21T03:02:04.952Z"
   },
   {
    "duration": 902,
    "start_time": "2023-01-21T03:02:31.785Z"
   },
   {
    "duration": 178,
    "start_time": "2023-01-21T03:09:48.615Z"
   },
   {
    "duration": 174,
    "start_time": "2023-01-21T03:10:02.417Z"
   },
   {
    "duration": 1674,
    "start_time": "2023-01-21T03:16:11.270Z"
   },
   {
    "duration": 1692,
    "start_time": "2023-01-21T03:16:39.204Z"
   },
   {
    "duration": 4,
    "start_time": "2023-01-21T03:16:40.898Z"
   },
   {
    "duration": 1049,
    "start_time": "2023-01-21T03:16:40.904Z"
   },
   {
    "duration": 1882,
    "start_time": "2023-01-21T03:16:41.954Z"
   },
   {
    "duration": 169,
    "start_time": "2023-01-21T03:16:43.838Z"
   },
   {
    "duration": 18,
    "start_time": "2023-01-21T03:16:44.009Z"
   },
   {
    "duration": 17,
    "start_time": "2023-01-21T03:16:44.029Z"
   },
   {
    "duration": 52,
    "start_time": "2023-01-21T03:16:44.048Z"
   },
   {
    "duration": 188,
    "start_time": "2023-01-21T03:16:44.103Z"
   },
   {
    "duration": 221,
    "start_time": "2023-01-21T03:16:44.293Z"
   },
   {
    "duration": 20,
    "start_time": "2023-01-21T03:16:44.516Z"
   },
   {
    "duration": 25,
    "start_time": "2023-01-21T03:16:44.538Z"
   },
   {
    "duration": 5811,
    "start_time": "2023-01-21T03:16:44.585Z"
   },
   {
    "duration": 31,
    "start_time": "2023-01-21T03:16:50.406Z"
   },
   {
    "duration": 16881,
    "start_time": "2023-01-21T03:16:50.439Z"
   },
   {
    "duration": 21,
    "start_time": "2023-01-21T03:17:07.322Z"
   },
   {
    "duration": 114,
    "start_time": "2023-01-21T03:17:07.345Z"
   },
   {
    "duration": 65,
    "start_time": "2023-01-21T03:17:07.461Z"
   },
   {
    "duration": 60,
    "start_time": "2023-01-21T03:17:07.528Z"
   },
   {
    "duration": 58,
    "start_time": "2023-01-21T03:17:07.606Z"
   },
   {
    "duration": 58,
    "start_time": "2023-01-21T03:17:07.666Z"
   },
   {
    "duration": 29,
    "start_time": "2023-01-21T03:17:07.726Z"
   },
   {
    "duration": 67,
    "start_time": "2023-01-21T03:17:07.757Z"
   },
   {
    "duration": 138,
    "start_time": "2023-01-21T03:17:07.827Z"
   },
   {
    "duration": 3,
    "start_time": "2023-01-21T03:17:07.967Z"
   },
   {
    "duration": 196,
    "start_time": "2023-01-21T03:17:07.972Z"
   },
   {
    "duration": 36,
    "start_time": "2023-01-21T03:17:08.170Z"
   },
   {
    "duration": 4,
    "start_time": "2023-01-21T03:17:08.208Z"
   },
   {
    "duration": 86,
    "start_time": "2023-01-21T03:17:08.214Z"
   },
   {
    "duration": 3,
    "start_time": "2023-01-21T03:17:08.304Z"
   },
   {
    "duration": 8,
    "start_time": "2023-01-21T03:17:08.309Z"
   },
   {
    "duration": 6,
    "start_time": "2023-01-21T03:17:08.318Z"
   },
   {
    "duration": 5,
    "start_time": "2023-01-21T03:17:08.326Z"
   },
   {
    "duration": 5,
    "start_time": "2023-01-21T03:17:08.333Z"
   },
   {
    "duration": 29485,
    "start_time": "2023-01-21T03:17:08.340Z"
   },
   {
    "duration": 4,
    "start_time": "2023-01-21T03:17:37.826Z"
   },
   {
    "duration": 6,
    "start_time": "2023-01-21T03:17:37.832Z"
   },
   {
    "duration": 6,
    "start_time": "2023-01-21T03:17:37.840Z"
   },
   {
    "duration": 9,
    "start_time": "2023-01-21T03:17:37.847Z"
   },
   {
    "duration": 5,
    "start_time": "2023-01-21T03:17:37.858Z"
   },
   {
    "duration": 505835,
    "start_time": "2023-01-21T03:17:37.867Z"
   },
   {
    "duration": 5,
    "start_time": "2023-01-21T03:26:03.703Z"
   },
   {
    "duration": 10,
    "start_time": "2023-01-21T03:26:03.710Z"
   },
   {
    "duration": 5,
    "start_time": "2023-01-21T03:26:03.722Z"
   },
   {
    "duration": 1736,
    "start_time": "2023-01-21T03:26:03.730Z"
   },
   {
    "duration": 0,
    "start_time": "2023-01-21T03:26:05.468Z"
   },
   {
    "duration": 0,
    "start_time": "2023-01-21T03:26:05.469Z"
   },
   {
    "duration": 0,
    "start_time": "2023-01-21T03:26:05.471Z"
   },
   {
    "duration": 0,
    "start_time": "2023-01-21T03:26:05.472Z"
   },
   {
    "duration": 0,
    "start_time": "2023-01-21T03:26:05.486Z"
   },
   {
    "duration": 0,
    "start_time": "2023-01-21T03:26:05.487Z"
   },
   {
    "duration": 0,
    "start_time": "2023-01-21T03:26:05.487Z"
   },
   {
    "duration": 1790,
    "start_time": "2023-01-21T03:26:32.931Z"
   },
   {
    "duration": 5,
    "start_time": "2023-01-21T03:27:01.102Z"
   },
   {
    "duration": 12,
    "start_time": "2023-01-21T03:27:28.730Z"
   },
   {
    "duration": 13,
    "start_time": "2023-01-21T03:27:58.446Z"
   },
   {
    "duration": 102,
    "start_time": "2023-01-21T03:29:10.192Z"
   },
   {
    "duration": 358,
    "start_time": "2023-01-21T03:29:43.036Z"
   },
   {
    "duration": 1945,
    "start_time": "2023-01-21T03:30:06.620Z"
   },
   {
    "duration": 5,
    "start_time": "2023-01-21T03:31:03.179Z"
   },
   {
    "duration": 2076,
    "start_time": "2023-01-21T03:31:36.666Z"
   },
   {
    "duration": 4,
    "start_time": "2023-01-21T03:32:36.371Z"
   },
   {
    "duration": 1841,
    "start_time": "2023-01-21T03:32:45.809Z"
   },
   {
    "duration": 2403,
    "start_time": "2023-01-21T03:33:30.253Z"
   },
   {
    "duration": 568,
    "start_time": "2023-01-21T03:36:15.490Z"
   },
   {
    "duration": 1802,
    "start_time": "2023-01-21T03:38:09.272Z"
   },
   {
    "duration": 1673,
    "start_time": "2023-01-21T03:38:56.951Z"
   },
   {
    "duration": 1545,
    "start_time": "2023-01-21T03:39:06.793Z"
   },
   {
    "duration": 1662,
    "start_time": "2023-01-21T03:39:22.573Z"
   },
   {
    "duration": 1719,
    "start_time": "2023-01-21T03:40:43.706Z"
   },
   {
    "duration": 1866,
    "start_time": "2023-01-21T03:42:47.635Z"
   },
   {
    "duration": 1589,
    "start_time": "2023-01-21T03:43:17.182Z"
   },
   {
    "duration": 1594,
    "start_time": "2023-01-21T03:43:28.671Z"
   },
   {
    "duration": 3472,
    "start_time": "2023-01-21T03:44:57.753Z"
   },
   {
    "duration": 3318,
    "start_time": "2023-01-21T03:45:29.930Z"
   },
   {
    "duration": 4620,
    "start_time": "2023-01-21T03:45:52.102Z"
   },
   {
    "duration": 4457,
    "start_time": "2023-01-21T03:46:10.858Z"
   },
   {
    "duration": 1679,
    "start_time": "2023-01-21T03:46:40.676Z"
   },
   {
    "duration": 5,
    "start_time": "2023-01-21T03:46:42.357Z"
   },
   {
    "duration": 1054,
    "start_time": "2023-01-21T03:46:42.364Z"
   },
   {
    "duration": 1843,
    "start_time": "2023-01-21T03:46:43.422Z"
   },
   {
    "duration": 175,
    "start_time": "2023-01-21T03:46:45.268Z"
   },
   {
    "duration": 20,
    "start_time": "2023-01-21T03:46:45.444Z"
   },
   {
    "duration": 37,
    "start_time": "2023-01-21T03:46:45.465Z"
   },
   {
    "duration": 18,
    "start_time": "2023-01-21T03:46:45.504Z"
   },
   {
    "duration": 225,
    "start_time": "2023-01-21T03:46:45.524Z"
   },
   {
    "duration": 269,
    "start_time": "2023-01-21T03:46:45.751Z"
   },
   {
    "duration": 22,
    "start_time": "2023-01-21T03:46:46.022Z"
   },
   {
    "duration": 44,
    "start_time": "2023-01-21T03:46:46.046Z"
   },
   {
    "duration": 6045,
    "start_time": "2023-01-21T03:46:46.091Z"
   },
   {
    "duration": 23,
    "start_time": "2023-01-21T03:46:52.140Z"
   },
   {
    "duration": 16831,
    "start_time": "2023-01-21T03:46:52.165Z"
   },
   {
    "duration": 35,
    "start_time": "2023-01-21T03:47:09.004Z"
   },
   {
    "duration": 120,
    "start_time": "2023-01-21T03:47:09.041Z"
   },
   {
    "duration": 66,
    "start_time": "2023-01-21T03:47:09.162Z"
   },
   {
    "duration": 79,
    "start_time": "2023-01-21T03:47:09.231Z"
   },
   {
    "duration": 60,
    "start_time": "2023-01-21T03:47:09.312Z"
   },
   {
    "duration": 53,
    "start_time": "2023-01-21T03:47:09.389Z"
   },
   {
    "duration": 60,
    "start_time": "2023-01-21T03:47:09.443Z"
   },
   {
    "duration": 47,
    "start_time": "2023-01-21T03:47:09.505Z"
   },
   {
    "duration": 137,
    "start_time": "2023-01-21T03:47:09.554Z"
   },
   {
    "duration": 5,
    "start_time": "2023-01-21T03:47:09.695Z"
   },
   {
    "duration": 244,
    "start_time": "2023-01-21T03:47:09.702Z"
   },
   {
    "duration": 42,
    "start_time": "2023-01-21T03:47:09.949Z"
   },
   {
    "duration": 7,
    "start_time": "2023-01-21T03:47:09.997Z"
   },
   {
    "duration": 60,
    "start_time": "2023-01-21T03:47:10.006Z"
   },
   {
    "duration": 25,
    "start_time": "2023-01-21T03:47:10.069Z"
   },
   {
    "duration": 4,
    "start_time": "2023-01-21T03:47:10.104Z"
   },
   {
    "duration": 8,
    "start_time": "2023-01-21T03:47:10.110Z"
   },
   {
    "duration": 5,
    "start_time": "2023-01-21T03:47:10.120Z"
   },
   {
    "duration": 7,
    "start_time": "2023-01-21T03:47:10.127Z"
   },
   {
    "duration": 31391,
    "start_time": "2023-01-21T03:47:10.136Z"
   },
   {
    "duration": 6,
    "start_time": "2023-01-21T03:47:41.529Z"
   },
   {
    "duration": 7,
    "start_time": "2023-01-21T03:47:41.537Z"
   },
   {
    "duration": 7,
    "start_time": "2023-01-21T03:47:41.546Z"
   },
   {
    "duration": 8,
    "start_time": "2023-01-21T03:47:41.556Z"
   },
   {
    "duration": 8,
    "start_time": "2023-01-21T03:47:41.566Z"
   },
   {
    "duration": 508923,
    "start_time": "2023-01-21T03:47:41.585Z"
   },
   {
    "duration": 5,
    "start_time": "2023-01-21T03:56:10.510Z"
   },
   {
    "duration": 8,
    "start_time": "2023-01-21T03:56:10.517Z"
   },
   {
    "duration": 61,
    "start_time": "2023-01-21T03:56:10.527Z"
   },
   {
    "duration": 32,
    "start_time": "2023-01-21T03:56:10.591Z"
   },
   {
    "duration": 139,
    "start_time": "2023-01-21T03:56:10.625Z"
   },
   {
    "duration": 0,
    "start_time": "2023-01-21T03:56:10.765Z"
   },
   {
    "duration": 0,
    "start_time": "2023-01-21T03:56:10.766Z"
   },
   {
    "duration": 0,
    "start_time": "2023-01-21T03:56:10.768Z"
   },
   {
    "duration": 0,
    "start_time": "2023-01-21T03:56:10.769Z"
   },
   {
    "duration": 0,
    "start_time": "2023-01-21T03:56:10.784Z"
   },
   {
    "duration": 0,
    "start_time": "2023-01-21T03:56:10.785Z"
   },
   {
    "duration": 0,
    "start_time": "2023-01-21T03:56:10.786Z"
   },
   {
    "duration": 0,
    "start_time": "2023-01-21T03:56:10.787Z"
   },
   {
    "duration": 4945,
    "start_time": "2023-01-21T03:56:33.328Z"
   },
   {
    "duration": 1396,
    "start_time": "2023-01-21T03:56:38.276Z"
   },
   {
    "duration": 2494,
    "start_time": "2023-01-21T03:56:39.675Z"
   },
   {
    "duration": 126,
    "start_time": "2023-01-21T03:56:42.175Z"
   },
   {
    "duration": 41912,
    "start_time": "2023-01-21T03:56:42.304Z"
   },
   {
    "duration": 79980,
    "start_time": "2023-01-21T03:57:24.219Z"
   },
   {
    "duration": 22,
    "start_time": "2023-01-21T03:58:44.208Z"
   },
   {
    "duration": 187,
    "start_time": "2023-01-21T03:58:44.237Z"
   },
   {
    "duration": 17,
    "start_time": "2023-01-21T03:58:44.429Z"
   },
   {
    "duration": 4730,
    "start_time": "2023-01-21T03:59:18.242Z"
   },
   {
    "duration": 19,
    "start_time": "2023-01-21T03:59:29.039Z"
   },
   {
    "duration": 62086,
    "start_time": "2023-01-21T03:59:39.834Z"
   },
   {
    "duration": 368,
    "start_time": "2023-01-21T04:00:41.923Z"
   },
   {
    "duration": 1838,
    "start_time": "2023-01-21T04:01:43.620Z"
   },
   {
    "duration": 4,
    "start_time": "2023-01-21T04:01:45.461Z"
   },
   {
    "duration": 1162,
    "start_time": "2023-01-21T04:01:45.468Z"
   },
   {
    "duration": 2059,
    "start_time": "2023-01-21T04:01:46.632Z"
   },
   {
    "duration": 175,
    "start_time": "2023-01-21T04:01:48.700Z"
   },
   {
    "duration": 32,
    "start_time": "2023-01-21T04:01:48.884Z"
   },
   {
    "duration": 27,
    "start_time": "2023-01-21T04:01:48.918Z"
   },
   {
    "duration": 13,
    "start_time": "2023-01-21T04:01:48.948Z"
   },
   {
    "duration": 275,
    "start_time": "2023-01-21T04:01:48.963Z"
   },
   {
    "duration": 266,
    "start_time": "2023-01-21T04:01:49.241Z"
   },
   {
    "duration": 21,
    "start_time": "2023-01-21T04:01:49.509Z"
   },
   {
    "duration": 28,
    "start_time": "2023-01-21T04:01:49.532Z"
   },
   {
    "duration": 6995,
    "start_time": "2023-01-21T04:01:49.585Z"
   },
   {
    "duration": 39,
    "start_time": "2023-01-21T04:01:56.583Z"
   },
   {
    "duration": 20277,
    "start_time": "2023-01-21T04:01:56.624Z"
   },
   {
    "duration": 37,
    "start_time": "2023-01-21T04:02:16.903Z"
   },
   {
    "duration": 152,
    "start_time": "2023-01-21T04:02:16.945Z"
   },
   {
    "duration": 60,
    "start_time": "2023-01-21T04:02:17.109Z"
   },
   {
    "duration": 60,
    "start_time": "2023-01-21T04:02:17.171Z"
   },
   {
    "duration": 75,
    "start_time": "2023-01-21T04:02:17.233Z"
   },
   {
    "duration": 46,
    "start_time": "2023-01-21T04:02:17.310Z"
   },
   {
    "duration": 58,
    "start_time": "2023-01-21T04:02:17.358Z"
   },
   {
    "duration": 55,
    "start_time": "2023-01-21T04:02:17.418Z"
   },
   {
    "duration": 129,
    "start_time": "2023-01-21T04:02:17.475Z"
   },
   {
    "duration": 23,
    "start_time": "2023-01-21T04:02:17.609Z"
   },
   {
    "duration": 243,
    "start_time": "2023-01-21T04:02:17.635Z"
   },
   {
    "duration": 42,
    "start_time": "2023-01-21T04:02:17.884Z"
   },
   {
    "duration": 21,
    "start_time": "2023-01-21T04:02:17.928Z"
   },
   {
    "duration": 94,
    "start_time": "2023-01-21T04:02:17.951Z"
   },
   {
    "duration": 6,
    "start_time": "2023-01-21T04:02:18.048Z"
   },
   {
    "duration": 14,
    "start_time": "2023-01-21T04:02:18.056Z"
   },
   {
    "duration": 39,
    "start_time": "2023-01-21T04:02:18.076Z"
   },
   {
    "duration": 9,
    "start_time": "2023-01-21T04:02:18.117Z"
   },
   {
    "duration": 12,
    "start_time": "2023-01-21T04:02:18.129Z"
   },
   {
    "duration": 36228,
    "start_time": "2023-01-21T04:02:18.143Z"
   },
   {
    "duration": 6,
    "start_time": "2023-01-21T04:02:54.374Z"
   },
   {
    "duration": 38,
    "start_time": "2023-01-21T04:02:54.383Z"
   },
   {
    "duration": 11,
    "start_time": "2023-01-21T04:02:54.424Z"
   },
   {
    "duration": 14,
    "start_time": "2023-01-21T04:02:54.438Z"
   },
   {
    "duration": 10,
    "start_time": "2023-01-21T04:02:54.456Z"
   },
   {
    "duration": 506530,
    "start_time": "2023-01-21T04:02:54.472Z"
   },
   {
    "duration": 7,
    "start_time": "2023-01-21T04:11:21.004Z"
   },
   {
    "duration": 16,
    "start_time": "2023-01-21T04:11:21.013Z"
   },
   {
    "duration": 10,
    "start_time": "2023-01-21T04:11:21.032Z"
   },
   {
    "duration": 9,
    "start_time": "2023-01-21T04:11:21.044Z"
   },
   {
    "duration": 4422,
    "start_time": "2023-01-21T04:11:21.085Z"
   },
   {
    "duration": 1374,
    "start_time": "2023-01-21T04:11:25.510Z"
   },
   {
    "duration": 2779,
    "start_time": "2023-01-21T04:11:26.885Z"
   },
   {
    "duration": 142,
    "start_time": "2023-01-21T04:11:29.667Z"
   },
   {
    "duration": 54377,
    "start_time": "2023-01-21T04:11:29.817Z"
   },
   {
    "duration": 50299,
    "start_time": "2023-01-21T04:12:24.202Z"
   },
   {
    "duration": 90,
    "start_time": "2023-01-21T04:13:14.504Z"
   },
   {
    "duration": 66,
    "start_time": "2023-01-21T04:13:14.599Z"
   },
   {
    "duration": 230,
    "start_time": "2023-01-21T04:13:14.667Z"
   },
   {
    "duration": 1708,
    "start_time": "2023-01-21T04:14:06.797Z"
   },
   {
    "duration": 3,
    "start_time": "2023-01-21T04:14:08.508Z"
   },
   {
    "duration": 1018,
    "start_time": "2023-01-21T04:14:08.513Z"
   },
   {
    "duration": 1938,
    "start_time": "2023-01-21T04:14:09.533Z"
   },
   {
    "duration": 179,
    "start_time": "2023-01-21T04:14:11.473Z"
   },
   {
    "duration": 42,
    "start_time": "2023-01-21T04:14:11.654Z"
   },
   {
    "duration": 21,
    "start_time": "2023-01-21T04:14:11.699Z"
   },
   {
    "duration": 12,
    "start_time": "2023-01-21T04:14:11.722Z"
   },
   {
    "duration": 210,
    "start_time": "2023-01-21T04:14:11.736Z"
   },
   {
    "duration": 241,
    "start_time": "2023-01-21T04:14:11.948Z"
   },
   {
    "duration": 26,
    "start_time": "2023-01-21T04:14:12.195Z"
   },
   {
    "duration": 27,
    "start_time": "2023-01-21T04:14:12.223Z"
   },
   {
    "duration": 5985,
    "start_time": "2023-01-21T04:14:12.251Z"
   },
   {
    "duration": 22,
    "start_time": "2023-01-21T04:14:18.240Z"
   },
   {
    "duration": 17972,
    "start_time": "2023-01-21T04:14:18.264Z"
   },
   {
    "duration": 22,
    "start_time": "2023-01-21T04:14:36.238Z"
   },
   {
    "duration": 113,
    "start_time": "2023-01-21T04:14:36.261Z"
   },
   {
    "duration": 55,
    "start_time": "2023-01-21T04:14:36.385Z"
   },
   {
    "duration": 75,
    "start_time": "2023-01-21T04:14:36.442Z"
   },
   {
    "duration": 43,
    "start_time": "2023-01-21T04:14:36.519Z"
   },
   {
    "duration": 59,
    "start_time": "2023-01-21T04:14:36.564Z"
   },
   {
    "duration": 31,
    "start_time": "2023-01-21T04:14:36.627Z"
   },
   {
    "duration": 75,
    "start_time": "2023-01-21T04:14:36.660Z"
   },
   {
    "duration": 104,
    "start_time": "2023-01-21T04:14:36.737Z"
   },
   {
    "duration": 3,
    "start_time": "2023-01-21T04:14:36.843Z"
   },
   {
    "duration": 222,
    "start_time": "2023-01-21T04:14:36.848Z"
   },
   {
    "duration": 43,
    "start_time": "2023-01-21T04:14:37.072Z"
   },
   {
    "duration": 4,
    "start_time": "2023-01-21T04:14:37.119Z"
   },
   {
    "duration": 87,
    "start_time": "2023-01-21T04:14:37.125Z"
   },
   {
    "duration": 4,
    "start_time": "2023-01-21T04:14:37.214Z"
   },
   {
    "duration": 10,
    "start_time": "2023-01-21T04:14:37.221Z"
   },
   {
    "duration": 6,
    "start_time": "2023-01-21T04:14:37.233Z"
   },
   {
    "duration": 4,
    "start_time": "2023-01-21T04:14:37.241Z"
   },
   {
    "duration": 6,
    "start_time": "2023-01-21T04:14:37.247Z"
   },
   {
    "duration": 32459,
    "start_time": "2023-01-21T04:14:37.255Z"
   },
   {
    "duration": 7,
    "start_time": "2023-01-21T04:15:09.716Z"
   },
   {
    "duration": 22,
    "start_time": "2023-01-21T04:15:09.725Z"
   },
   {
    "duration": 10,
    "start_time": "2023-01-21T04:15:09.749Z"
   },
   {
    "duration": 9,
    "start_time": "2023-01-21T04:15:09.761Z"
   },
   {
    "duration": 10,
    "start_time": "2023-01-21T04:15:09.773Z"
   },
   {
    "duration": 447002,
    "start_time": "2023-01-21T04:15:09.794Z"
   },
   {
    "duration": 4,
    "start_time": "2023-01-21T04:22:36.798Z"
   },
   {
    "duration": 18,
    "start_time": "2023-01-21T04:22:36.804Z"
   },
   {
    "duration": 27,
    "start_time": "2023-01-21T04:22:36.824Z"
   },
   {
    "duration": 35,
    "start_time": "2023-01-21T04:22:36.853Z"
   },
   {
    "duration": 835,
    "start_time": "2023-01-21T04:22:36.895Z"
   },
   {
    "duration": 1319,
    "start_time": "2023-01-21T04:22:37.732Z"
   },
   {
    "duration": 2521,
    "start_time": "2023-01-21T04:22:39.053Z"
   },
   {
    "duration": 211,
    "start_time": "2023-01-21T04:22:41.575Z"
   },
   {
    "duration": 7503,
    "start_time": "2023-01-21T04:22:41.788Z"
   },
   {
    "duration": 37097,
    "start_time": "2023-01-21T04:22:49.293Z"
   },
   {
    "duration": 110,
    "start_time": "2023-01-21T04:23:26.392Z"
   },
   {
    "duration": 62,
    "start_time": "2023-01-21T04:23:26.504Z"
   },
   {
    "duration": 6,
    "start_time": "2023-01-21T04:23:26.568Z"
   },
   {
    "duration": 5,
    "start_time": "2023-01-21T04:25:39.499Z"
   },
   {
    "duration": 851,
    "start_time": "2023-01-21T04:26:01.497Z"
   },
   {
    "duration": 1649,
    "start_time": "2023-01-21T04:26:17.283Z"
   },
   {
    "duration": 3,
    "start_time": "2023-01-21T04:26:18.934Z"
   },
   {
    "duration": 1105,
    "start_time": "2023-01-21T04:26:18.939Z"
   },
   {
    "duration": 1910,
    "start_time": "2023-01-21T04:26:20.046Z"
   },
   {
    "duration": 195,
    "start_time": "2023-01-21T04:26:21.959Z"
   },
   {
    "duration": 18,
    "start_time": "2023-01-21T04:26:22.156Z"
   },
   {
    "duration": 21,
    "start_time": "2023-01-21T04:26:22.185Z"
   },
   {
    "duration": 18,
    "start_time": "2023-01-21T04:26:22.208Z"
   },
   {
    "duration": 223,
    "start_time": "2023-01-21T04:26:22.228Z"
   },
   {
    "duration": 226,
    "start_time": "2023-01-21T04:26:22.453Z"
   },
   {
    "duration": 23,
    "start_time": "2023-01-21T04:26:22.684Z"
   },
   {
    "duration": 30,
    "start_time": "2023-01-21T04:26:22.709Z"
   },
   {
    "duration": 5915,
    "start_time": "2023-01-21T04:26:22.740Z"
   },
   {
    "duration": 28,
    "start_time": "2023-01-21T04:26:28.658Z"
   },
   {
    "duration": 17427,
    "start_time": "2023-01-21T04:26:28.689Z"
   },
   {
    "duration": 25,
    "start_time": "2023-01-21T04:26:46.118Z"
   },
   {
    "duration": 116,
    "start_time": "2023-01-21T04:26:46.145Z"
   },
   {
    "duration": 66,
    "start_time": "2023-01-21T04:26:46.263Z"
   },
   {
    "duration": 65,
    "start_time": "2023-01-21T04:26:46.331Z"
   },
   {
    "duration": 46,
    "start_time": "2023-01-21T04:26:46.398Z"
   },
   {
    "duration": 67,
    "start_time": "2023-01-21T04:26:46.446Z"
   },
   {
    "duration": 31,
    "start_time": "2023-01-21T04:26:46.514Z"
   },
   {
    "duration": 66,
    "start_time": "2023-01-21T04:26:46.547Z"
   },
   {
    "duration": 103,
    "start_time": "2023-01-21T04:26:46.615Z"
   },
   {
    "duration": 3,
    "start_time": "2023-01-21T04:26:46.720Z"
   },
   {
    "duration": 200,
    "start_time": "2023-01-21T04:26:46.725Z"
   },
   {
    "duration": 28,
    "start_time": "2023-01-21T04:26:46.927Z"
   },
   {
    "duration": 5,
    "start_time": "2023-01-21T04:26:46.957Z"
   },
   {
    "duration": 72,
    "start_time": "2023-01-21T04:26:46.986Z"
   },
   {
    "duration": 5,
    "start_time": "2023-01-21T04:26:47.060Z"
   },
   {
    "duration": 21,
    "start_time": "2023-01-21T04:26:47.067Z"
   },
   {
    "duration": 14,
    "start_time": "2023-01-21T04:26:47.093Z"
   },
   {
    "duration": 5,
    "start_time": "2023-01-21T04:26:47.109Z"
   },
   {
    "duration": 6,
    "start_time": "2023-01-21T04:26:47.116Z"
   },
   {
    "duration": 30453,
    "start_time": "2023-01-21T04:26:47.124Z"
   },
   {
    "duration": 7,
    "start_time": "2023-01-21T04:27:17.579Z"
   },
   {
    "duration": 55,
    "start_time": "2023-01-21T04:27:17.588Z"
   },
   {
    "duration": 18,
    "start_time": "2023-01-21T04:27:17.645Z"
   },
   {
    "duration": 17,
    "start_time": "2023-01-21T04:27:17.665Z"
   },
   {
    "duration": 46,
    "start_time": "2023-01-21T04:27:17.684Z"
   },
   {
    "duration": 513263,
    "start_time": "2023-01-21T04:27:17.735Z"
   },
   {
    "duration": 5,
    "start_time": "2023-01-21T04:35:51.001Z"
   },
   {
    "duration": 6,
    "start_time": "2023-01-21T04:35:51.009Z"
   },
   {
    "duration": 10,
    "start_time": "2023-01-21T04:35:51.017Z"
   },
   {
    "duration": 12,
    "start_time": "2023-01-21T04:35:51.029Z"
   },
   {
    "duration": 831,
    "start_time": "2023-01-21T04:35:51.043Z"
   },
   {
    "duration": 1349,
    "start_time": "2023-01-21T04:35:51.876Z"
   },
   {
    "duration": 2307,
    "start_time": "2023-01-21T04:35:53.226Z"
   },
   {
    "duration": 159,
    "start_time": "2023-01-21T04:35:55.535Z"
   },
   {
    "duration": 40602,
    "start_time": "2023-01-21T04:35:55.698Z"
   },
   {
    "duration": 32406,
    "start_time": "2023-01-21T04:36:36.302Z"
   },
   {
    "duration": 93,
    "start_time": "2023-01-21T04:37:08.710Z"
   },
   {
    "duration": 154,
    "start_time": "2023-01-21T04:37:08.805Z"
   },
   {
    "duration": 6,
    "start_time": "2023-01-21T04:37:08.961Z"
   },
   {
    "duration": 1748,
    "start_time": "2023-01-21T04:41:53.513Z"
   },
   {
    "duration": 4,
    "start_time": "2023-01-21T04:41:55.263Z"
   },
   {
    "duration": 1064,
    "start_time": "2023-01-21T04:41:55.269Z"
   },
   {
    "duration": 1993,
    "start_time": "2023-01-21T04:41:56.336Z"
   },
   {
    "duration": 169,
    "start_time": "2023-01-21T04:41:58.332Z"
   },
   {
    "duration": 27,
    "start_time": "2023-01-21T04:41:58.503Z"
   },
   {
    "duration": 21,
    "start_time": "2023-01-21T04:41:58.532Z"
   },
   {
    "duration": 41,
    "start_time": "2023-01-21T04:41:58.555Z"
   },
   {
    "duration": 202,
    "start_time": "2023-01-21T04:41:58.602Z"
   },
   {
    "duration": 222,
    "start_time": "2023-01-21T04:41:58.806Z"
   },
   {
    "duration": 24,
    "start_time": "2023-01-21T04:41:59.030Z"
   },
   {
    "duration": 53,
    "start_time": "2023-01-21T04:41:59.056Z"
   },
   {
    "duration": 6227,
    "start_time": "2023-01-21T04:41:59.111Z"
   },
   {
    "duration": 21,
    "start_time": "2023-01-21T04:42:05.342Z"
   },
   {
    "duration": 18351,
    "start_time": "2023-01-21T04:42:05.365Z"
   },
   {
    "duration": 23,
    "start_time": "2023-01-21T04:42:23.718Z"
   },
   {
    "duration": 124,
    "start_time": "2023-01-21T04:42:23.743Z"
   },
   {
    "duration": 75,
    "start_time": "2023-01-21T04:42:23.870Z"
   },
   {
    "duration": 70,
    "start_time": "2023-01-21T04:42:23.948Z"
   },
   {
    "duration": 47,
    "start_time": "2023-01-21T04:42:24.021Z"
   },
   {
    "duration": 64,
    "start_time": "2023-01-21T04:42:24.070Z"
   },
   {
    "duration": 49,
    "start_time": "2023-01-21T04:42:24.136Z"
   },
   {
    "duration": 49,
    "start_time": "2023-01-21T04:42:24.190Z"
   },
   {
    "duration": 101,
    "start_time": "2023-01-21T04:42:24.241Z"
   },
   {
    "duration": 3,
    "start_time": "2023-01-21T04:42:24.344Z"
   },
   {
    "duration": 227,
    "start_time": "2023-01-21T04:42:24.349Z"
   },
   {
    "duration": 31,
    "start_time": "2023-01-21T04:42:24.578Z"
   },
   {
    "duration": 6,
    "start_time": "2023-01-21T04:42:24.611Z"
   },
   {
    "duration": 87,
    "start_time": "2023-01-21T04:42:24.619Z"
   },
   {
    "duration": 4,
    "start_time": "2023-01-21T04:42:24.708Z"
   },
   {
    "duration": 10,
    "start_time": "2023-01-21T04:42:24.714Z"
   },
   {
    "duration": 6,
    "start_time": "2023-01-21T04:42:24.726Z"
   },
   {
    "duration": 11,
    "start_time": "2023-01-21T04:42:24.734Z"
   },
   {
    "duration": 6,
    "start_time": "2023-01-21T04:42:24.746Z"
   },
   {
    "duration": 29170,
    "start_time": "2023-01-21T04:42:24.753Z"
   },
   {
    "duration": 4,
    "start_time": "2023-01-21T04:42:53.925Z"
   },
   {
    "duration": 6,
    "start_time": "2023-01-21T04:42:53.931Z"
   },
   {
    "duration": 5,
    "start_time": "2023-01-21T04:42:53.939Z"
   },
   {
    "duration": 6,
    "start_time": "2023-01-21T04:42:53.946Z"
   },
   {
    "duration": 5,
    "start_time": "2023-01-21T04:42:53.953Z"
   },
   {
    "duration": 6,
    "start_time": "2023-01-21T04:42:53.962Z"
   },
   {
    "duration": 18,
    "start_time": "2023-01-21T04:42:53.970Z"
   },
   {
    "duration": 4158,
    "start_time": "2023-01-21T04:42:53.994Z"
   },
   {
    "duration": 1296,
    "start_time": "2023-01-21T04:42:58.154Z"
   },
   {
    "duration": 2691,
    "start_time": "2023-01-21T04:42:59.452Z"
   },
   {
    "duration": 143,
    "start_time": "2023-01-21T04:43:02.146Z"
   },
   {
    "duration": 52811,
    "start_time": "2023-01-21T04:43:02.293Z"
   },
   {
    "duration": 49098,
    "start_time": "2023-01-21T04:43:55.108Z"
   },
   {
    "duration": 94,
    "start_time": "2023-01-21T04:44:44.291Z"
   },
   {
    "duration": 117,
    "start_time": "2023-01-21T04:44:44.390Z"
   },
   {
    "duration": 896,
    "start_time": "2023-01-21T04:47:09.401Z"
   },
   {
    "duration": 898,
    "start_time": "2023-01-21T04:47:33.448Z"
   },
   {
    "duration": 952,
    "start_time": "2023-01-21T04:48:28.647Z"
   },
   {
    "duration": 837,
    "start_time": "2023-01-21T04:49:00.383Z"
   },
   {
    "duration": 872,
    "start_time": "2023-01-21T04:49:11.928Z"
   },
   {
    "duration": 811,
    "start_time": "2023-01-21T04:49:21.961Z"
   },
   {
    "duration": 853,
    "start_time": "2023-01-21T04:49:51.002Z"
   },
   {
    "duration": 837,
    "start_time": "2023-01-21T04:50:25.904Z"
   },
   {
    "duration": 881,
    "start_time": "2023-01-21T04:50:50.456Z"
   },
   {
    "duration": 1624,
    "start_time": "2023-01-21T04:51:16.033Z"
   },
   {
    "duration": 4,
    "start_time": "2023-01-21T04:51:17.659Z"
   },
   {
    "duration": 1066,
    "start_time": "2023-01-21T04:51:17.665Z"
   },
   {
    "duration": 2058,
    "start_time": "2023-01-21T04:51:18.734Z"
   },
   {
    "duration": 165,
    "start_time": "2023-01-21T04:51:20.794Z"
   },
   {
    "duration": 38,
    "start_time": "2023-01-21T04:51:20.961Z"
   },
   {
    "duration": 31,
    "start_time": "2023-01-21T04:51:21.002Z"
   },
   {
    "duration": 28,
    "start_time": "2023-01-21T04:51:21.035Z"
   },
   {
    "duration": 232,
    "start_time": "2023-01-21T04:51:21.065Z"
   },
   {
    "duration": 215,
    "start_time": "2023-01-21T04:51:21.305Z"
   },
   {
    "duration": 24,
    "start_time": "2023-01-21T04:51:21.522Z"
   },
   {
    "duration": 53,
    "start_time": "2023-01-21T04:51:21.548Z"
   },
   {
    "duration": 6131,
    "start_time": "2023-01-21T04:51:21.603Z"
   },
   {
    "duration": 27,
    "start_time": "2023-01-21T04:51:27.736Z"
   },
   {
    "duration": 17886,
    "start_time": "2023-01-21T04:51:27.767Z"
   },
   {
    "duration": 36,
    "start_time": "2023-01-21T04:51:45.655Z"
   },
   {
    "duration": 109,
    "start_time": "2023-01-21T04:51:45.694Z"
   },
   {
    "duration": 45,
    "start_time": "2023-01-21T04:51:45.805Z"
   },
   {
    "duration": 66,
    "start_time": "2023-01-21T04:51:45.852Z"
   },
   {
    "duration": 70,
    "start_time": "2023-01-21T04:51:45.920Z"
   },
   {
    "duration": 46,
    "start_time": "2023-01-21T04:51:46.003Z"
   },
   {
    "duration": 46,
    "start_time": "2023-01-21T04:51:46.051Z"
   },
   {
    "duration": 59,
    "start_time": "2023-01-21T04:51:46.099Z"
   },
   {
    "duration": 101,
    "start_time": "2023-01-21T04:51:46.160Z"
   },
   {
    "duration": 3,
    "start_time": "2023-01-21T04:51:46.262Z"
   },
   {
    "duration": 214,
    "start_time": "2023-01-21T04:51:46.267Z"
   },
   {
    "duration": 29,
    "start_time": "2023-01-21T04:51:46.484Z"
   },
   {
    "duration": 5,
    "start_time": "2023-01-21T04:51:46.516Z"
   },
   {
    "duration": 91,
    "start_time": "2023-01-21T04:51:46.522Z"
   },
   {
    "duration": 4,
    "start_time": "2023-01-21T04:51:46.615Z"
   },
   {
    "duration": 12,
    "start_time": "2023-01-21T04:51:46.621Z"
   },
   {
    "duration": 12,
    "start_time": "2023-01-21T04:51:46.635Z"
   },
   {
    "duration": 5,
    "start_time": "2023-01-21T04:51:46.649Z"
   },
   {
    "duration": 7,
    "start_time": "2023-01-21T04:51:46.656Z"
   },
   {
    "duration": 30909,
    "start_time": "2023-01-21T04:51:46.665Z"
   },
   {
    "duration": 4,
    "start_time": "2023-01-21T04:52:17.576Z"
   },
   {
    "duration": 45,
    "start_time": "2023-01-21T04:52:17.582Z"
   },
   {
    "duration": 15,
    "start_time": "2023-01-21T04:52:17.629Z"
   },
   {
    "duration": 15,
    "start_time": "2023-01-21T04:52:17.645Z"
   },
   {
    "duration": 22,
    "start_time": "2023-01-21T04:52:17.663Z"
   },
   {
    "duration": 30,
    "start_time": "2023-01-21T04:52:17.688Z"
   },
   {
    "duration": 902,
    "start_time": "2023-01-21T04:52:17.719Z"
   },
   {
    "duration": 1415,
    "start_time": "2023-01-21T04:52:18.623Z"
   },
   {
    "duration": 2406,
    "start_time": "2023-01-21T04:52:20.041Z"
   },
   {
    "duration": 68,
    "start_time": "2023-01-21T04:52:22.449Z"
   },
   {
    "duration": 32670,
    "start_time": "2023-01-21T04:52:22.519Z"
   },
   {
    "duration": 6789,
    "start_time": "2023-01-21T04:52:55.195Z"
   },
   {
    "duration": 98,
    "start_time": "2023-01-21T04:53:01.987Z"
   },
   {
    "duration": 89,
    "start_time": "2023-01-21T04:53:02.089Z"
   },
   {
    "duration": 2507,
    "start_time": "2023-01-21T04:56:22.015Z"
   },
   {
    "duration": 3,
    "start_time": "2023-01-21T04:56:24.525Z"
   },
   {
    "duration": 1046,
    "start_time": "2023-01-21T04:56:24.530Z"
   },
   {
    "duration": 1820,
    "start_time": "2023-01-21T04:56:25.578Z"
   },
   {
    "duration": 155,
    "start_time": "2023-01-21T04:56:27.401Z"
   },
   {
    "duration": 47,
    "start_time": "2023-01-21T04:56:27.558Z"
   },
   {
    "duration": 19,
    "start_time": "2023-01-21T04:56:27.607Z"
   },
   {
    "duration": 16,
    "start_time": "2023-01-21T04:56:27.629Z"
   },
   {
    "duration": 244,
    "start_time": "2023-01-21T04:56:27.647Z"
   },
   {
    "duration": 217,
    "start_time": "2023-01-21T04:56:27.895Z"
   },
   {
    "duration": 20,
    "start_time": "2023-01-21T04:56:28.114Z"
   },
   {
    "duration": 25,
    "start_time": "2023-01-21T04:56:28.135Z"
   },
   {
    "duration": 6042,
    "start_time": "2023-01-21T04:56:28.161Z"
   },
   {
    "duration": 21,
    "start_time": "2023-01-21T04:56:34.205Z"
   },
   {
    "duration": 17369,
    "start_time": "2023-01-21T04:56:34.228Z"
   },
   {
    "duration": 24,
    "start_time": "2023-01-21T04:56:51.603Z"
   },
   {
    "duration": 109,
    "start_time": "2023-01-21T04:56:51.628Z"
   },
   {
    "duration": 68,
    "start_time": "2023-01-21T04:56:51.739Z"
   },
   {
    "duration": 44,
    "start_time": "2023-01-21T04:56:51.809Z"
   },
   {
    "duration": 72,
    "start_time": "2023-01-21T04:56:51.855Z"
   },
   {
    "duration": 64,
    "start_time": "2023-01-21T04:56:51.930Z"
   },
   {
    "duration": 34,
    "start_time": "2023-01-21T04:56:51.999Z"
   },
   {
    "duration": 66,
    "start_time": "2023-01-21T04:56:52.035Z"
   },
   {
    "duration": 100,
    "start_time": "2023-01-21T04:56:52.103Z"
   },
   {
    "duration": 16,
    "start_time": "2023-01-21T04:56:52.206Z"
   },
   {
    "duration": 210,
    "start_time": "2023-01-21T04:56:52.224Z"
   },
   {
    "duration": 27,
    "start_time": "2023-01-21T04:56:52.436Z"
   },
   {
    "duration": 20,
    "start_time": "2023-01-21T04:56:52.468Z"
   },
   {
    "duration": 88,
    "start_time": "2023-01-21T04:56:52.490Z"
   },
   {
    "duration": 6,
    "start_time": "2023-01-21T04:56:52.579Z"
   },
   {
    "duration": 24,
    "start_time": "2023-01-21T04:56:52.589Z"
   },
   {
    "duration": 28,
    "start_time": "2023-01-21T04:56:52.615Z"
   },
   {
    "duration": 24,
    "start_time": "2023-01-21T04:56:52.644Z"
   },
   {
    "duration": 11,
    "start_time": "2023-01-21T04:56:52.670Z"
   },
   {
    "duration": 28916,
    "start_time": "2023-01-21T04:56:52.688Z"
   },
   {
    "duration": 5,
    "start_time": "2023-01-21T04:57:21.605Z"
   },
   {
    "duration": 12,
    "start_time": "2023-01-21T04:57:21.612Z"
   },
   {
    "duration": 8,
    "start_time": "2023-01-21T04:57:21.626Z"
   },
   {
    "duration": 13,
    "start_time": "2023-01-21T04:57:21.636Z"
   },
   {
    "duration": 6,
    "start_time": "2023-01-21T04:57:21.651Z"
   },
   {
    "duration": 350937,
    "start_time": "2023-01-21T04:57:21.659Z"
   },
   {
    "duration": 7,
    "start_time": "2023-01-21T05:03:12.597Z"
   },
   {
    "duration": 18,
    "start_time": "2023-01-21T05:03:12.606Z"
   },
   {
    "duration": 26,
    "start_time": "2023-01-21T05:03:12.626Z"
   },
   {
    "duration": 889,
    "start_time": "2023-01-21T05:03:12.654Z"
   },
   {
    "duration": 1298,
    "start_time": "2023-01-21T05:03:13.545Z"
   },
   {
    "duration": 2302,
    "start_time": "2023-01-21T05:03:14.846Z"
   },
   {
    "duration": 68,
    "start_time": "2023-01-21T05:03:17.150Z"
   },
   {
    "duration": 40471,
    "start_time": "2023-01-21T05:03:17.220Z"
   },
   {
    "duration": 6488,
    "start_time": "2023-01-21T05:03:57.697Z"
   },
   {
    "duration": 93,
    "start_time": "2023-01-21T05:04:04.192Z"
   },
   {
    "duration": 107,
    "start_time": "2023-01-21T05:04:04.293Z"
   },
   {
    "duration": 1825,
    "start_time": "2023-01-21T05:09:51.799Z"
   },
   {
    "duration": 4,
    "start_time": "2023-01-21T05:09:53.627Z"
   },
   {
    "duration": 1125,
    "start_time": "2023-01-21T05:09:53.633Z"
   },
   {
    "duration": 2152,
    "start_time": "2023-01-21T05:09:54.760Z"
   },
   {
    "duration": 193,
    "start_time": "2023-01-21T05:09:56.915Z"
   },
   {
    "duration": 22,
    "start_time": "2023-01-21T05:09:57.110Z"
   },
   {
    "duration": 18,
    "start_time": "2023-01-21T05:09:57.136Z"
   },
   {
    "duration": 41,
    "start_time": "2023-01-21T05:09:57.156Z"
   },
   {
    "duration": 92210,
    "start_time": "2023-01-21T05:09:57.208Z"
   },
   {
    "duration": 197,
    "start_time": "2023-01-21T05:11:29.421Z"
   },
   {
    "duration": 308,
    "start_time": "2023-01-21T05:11:29.620Z"
   },
   {
    "duration": 22,
    "start_time": "2023-01-21T05:11:29.930Z"
   },
   {
    "duration": 57,
    "start_time": "2023-01-21T05:11:29.955Z"
   },
   {
    "duration": 6654,
    "start_time": "2023-01-21T05:11:30.016Z"
   },
   {
    "duration": 29,
    "start_time": "2023-01-21T05:11:36.672Z"
   },
   {
    "duration": 18906,
    "start_time": "2023-01-21T05:11:36.703Z"
   },
   {
    "duration": 25,
    "start_time": "2023-01-21T05:11:55.613Z"
   },
   {
    "duration": 107,
    "start_time": "2023-01-21T05:11:55.640Z"
   },
   {
    "duration": 77,
    "start_time": "2023-01-21T05:11:55.749Z"
   },
   {
    "duration": 87,
    "start_time": "2023-01-21T05:11:55.829Z"
   },
   {
    "duration": 88,
    "start_time": "2023-01-21T05:11:55.918Z"
   },
   {
    "duration": 44,
    "start_time": "2023-01-21T05:11:56.008Z"
   },
   {
    "duration": 47,
    "start_time": "2023-01-21T05:11:56.054Z"
   },
   {
    "duration": 45,
    "start_time": "2023-01-21T05:11:56.102Z"
   },
   {
    "duration": 109,
    "start_time": "2023-01-21T05:11:56.149Z"
   },
   {
    "duration": 4,
    "start_time": "2023-01-21T05:11:56.260Z"
   },
   {
    "duration": 209,
    "start_time": "2023-01-21T05:11:56.265Z"
   },
   {
    "duration": 39,
    "start_time": "2023-01-21T05:11:56.476Z"
   },
   {
    "duration": 5,
    "start_time": "2023-01-21T05:11:56.517Z"
   },
   {
    "duration": 90,
    "start_time": "2023-01-21T05:11:56.524Z"
   },
   {
    "duration": 5,
    "start_time": "2023-01-21T05:11:56.616Z"
   },
   {
    "duration": 20,
    "start_time": "2023-01-21T05:11:56.622Z"
   },
   {
    "duration": 7,
    "start_time": "2023-01-21T05:11:56.644Z"
   },
   {
    "duration": 12,
    "start_time": "2023-01-21T05:11:56.653Z"
   },
   {
    "duration": 7,
    "start_time": "2023-01-21T05:11:56.667Z"
   },
   {
    "duration": 31342,
    "start_time": "2023-01-21T05:11:56.676Z"
   },
   {
    "duration": 6,
    "start_time": "2023-01-21T05:12:28.019Z"
   },
   {
    "duration": 12,
    "start_time": "2023-01-21T05:12:28.027Z"
   },
   {
    "duration": 6,
    "start_time": "2023-01-21T05:12:28.040Z"
   },
   {
    "duration": 8,
    "start_time": "2023-01-21T05:12:28.048Z"
   },
   {
    "duration": 4,
    "start_time": "2023-01-21T05:12:28.060Z"
   },
   {
    "duration": 530449,
    "start_time": "2023-01-21T05:12:28.066Z"
   },
   {
    "duration": 5,
    "start_time": "2023-01-21T05:21:18.517Z"
   },
   {
    "duration": 64,
    "start_time": "2023-01-21T05:21:18.524Z"
   },
   {
    "duration": 30,
    "start_time": "2023-01-21T05:21:18.590Z"
   },
   {
    "duration": 1211,
    "start_time": "2023-01-21T05:21:18.622Z"
   },
   {
    "duration": 1580,
    "start_time": "2023-01-21T05:21:19.836Z"
   },
   {
    "duration": 2679,
    "start_time": "2023-01-21T05:21:21.418Z"
   },
   {
    "duration": 189,
    "start_time": "2023-01-21T05:21:24.099Z"
   },
   {
    "duration": 41999,
    "start_time": "2023-01-21T05:21:24.297Z"
   },
   {
    "duration": 6084,
    "start_time": "2023-01-21T05:22:06.301Z"
   },
   {
    "duration": 34,
    "start_time": "2023-01-21T05:22:12.402Z"
   },
   {
    "duration": 120,
    "start_time": "2023-01-21T05:22:12.438Z"
   },
   {
    "duration": 1575,
    "start_time": "2023-01-21T12:46:38.998Z"
   },
   {
    "duration": 3,
    "start_time": "2023-01-21T12:46:40.575Z"
   },
   {
    "duration": 857,
    "start_time": "2023-01-21T12:46:40.579Z"
   },
   {
    "duration": 1504,
    "start_time": "2023-01-21T12:46:41.439Z"
   },
   {
    "duration": 122,
    "start_time": "2023-01-21T12:46:42.945Z"
   },
   {
    "duration": 15,
    "start_time": "2023-01-21T12:46:43.069Z"
   },
   {
    "duration": 33,
    "start_time": "2023-01-21T12:46:43.086Z"
   },
   {
    "duration": 12,
    "start_time": "2023-01-21T12:46:43.120Z"
   },
   {
    "duration": 74254,
    "start_time": "2023-01-21T12:46:43.135Z"
   },
   {
    "duration": 192,
    "start_time": "2023-01-21T12:47:57.427Z"
   },
   {
    "duration": 205,
    "start_time": "2023-01-21T12:47:57.620Z"
   },
   {
    "duration": 19,
    "start_time": "2023-01-21T12:47:57.827Z"
   },
   {
    "duration": 26,
    "start_time": "2023-01-21T12:47:57.848Z"
   },
   {
    "duration": 5444,
    "start_time": "2023-01-21T12:47:57.876Z"
   },
   {
    "duration": 18,
    "start_time": "2023-01-21T12:48:03.322Z"
   },
   {
    "duration": 15887,
    "start_time": "2023-01-21T12:48:03.341Z"
   },
   {
    "duration": 22,
    "start_time": "2023-01-21T12:48:19.230Z"
   },
   {
    "duration": 97,
    "start_time": "2023-01-21T12:48:19.254Z"
   },
   {
    "duration": 38,
    "start_time": "2023-01-21T12:48:19.353Z"
   },
   {
    "duration": 43,
    "start_time": "2023-01-21T12:48:19.404Z"
   },
   {
    "duration": 57,
    "start_time": "2023-01-21T12:48:19.449Z"
   },
   {
    "duration": 38,
    "start_time": "2023-01-21T12:48:19.508Z"
   },
   {
    "duration": 29,
    "start_time": "2023-01-21T12:48:19.548Z"
   },
   {
    "duration": 58,
    "start_time": "2023-01-21T12:48:19.579Z"
   },
   {
    "duration": 77,
    "start_time": "2023-01-21T12:48:19.638Z"
   },
   {
    "duration": 3,
    "start_time": "2023-01-21T12:48:19.717Z"
   },
   {
    "duration": 175,
    "start_time": "2023-01-21T12:48:19.722Z"
   },
   {
    "duration": 22,
    "start_time": "2023-01-21T12:48:19.903Z"
   },
   {
    "duration": 4,
    "start_time": "2023-01-21T12:48:19.928Z"
   },
   {
    "duration": 84,
    "start_time": "2023-01-21T12:48:19.934Z"
   },
   {
    "duration": 4,
    "start_time": "2023-01-21T12:48:20.020Z"
   },
   {
    "duration": 6,
    "start_time": "2023-01-21T12:48:20.026Z"
   },
   {
    "duration": 7,
    "start_time": "2023-01-21T12:48:20.034Z"
   },
   {
    "duration": 8,
    "start_time": "2023-01-21T12:48:20.043Z"
   },
   {
    "duration": 6,
    "start_time": "2023-01-21T12:48:20.053Z"
   },
   {
    "duration": 26025,
    "start_time": "2023-01-21T12:48:20.060Z"
   },
   {
    "duration": 4,
    "start_time": "2023-01-21T12:48:46.087Z"
   },
   {
    "duration": 10,
    "start_time": "2023-01-21T12:48:46.093Z"
   },
   {
    "duration": 4,
    "start_time": "2023-01-21T12:48:46.105Z"
   },
   {
    "duration": 8,
    "start_time": "2023-01-21T12:48:46.111Z"
   },
   {
    "duration": 5,
    "start_time": "2023-01-21T12:48:46.120Z"
   },
   {
    "duration": 21785,
    "start_time": "2023-01-21T12:48:46.127Z"
   },
   {
    "duration": 3,
    "start_time": "2023-01-21T12:49:07.914Z"
   },
   {
    "duration": 7,
    "start_time": "2023-01-21T12:49:07.919Z"
   },
   {
    "duration": 7,
    "start_time": "2023-01-21T12:49:07.927Z"
   },
   {
    "duration": 770,
    "start_time": "2023-01-21T12:49:07.935Z"
   },
   {
    "duration": 1101,
    "start_time": "2023-01-21T12:49:08.707Z"
   },
   {
    "duration": 1982,
    "start_time": "2023-01-21T12:49:09.809Z"
   },
   {
    "duration": 55,
    "start_time": "2023-01-21T12:49:11.793Z"
   },
   {
    "duration": 1105,
    "start_time": "2023-01-21T12:49:11.907Z"
   },
   {
    "duration": 5889,
    "start_time": "2023-01-21T12:49:13.014Z"
   },
   {
    "duration": 99,
    "start_time": "2023-01-21T12:49:18.905Z"
   },
   {
    "duration": 64,
    "start_time": "2023-01-21T12:49:19.006Z"
   },
   {
    "duration": 82,
    "start_time": "2023-01-21T12:53:46.222Z"
   },
   {
    "duration": 1638,
    "start_time": "2023-01-21T15:03:22.621Z"
   },
   {
    "duration": 3,
    "start_time": "2023-01-21T15:03:24.261Z"
   },
   {
    "duration": 988,
    "start_time": "2023-01-21T15:03:24.265Z"
   },
   {
    "duration": 1395,
    "start_time": "2023-01-21T15:03:25.255Z"
   },
   {
    "duration": 106,
    "start_time": "2023-01-21T15:03:26.652Z"
   },
   {
    "duration": 15,
    "start_time": "2023-01-21T15:03:26.760Z"
   },
   {
    "duration": 35,
    "start_time": "2023-01-21T15:03:26.776Z"
   },
   {
    "duration": 19,
    "start_time": "2023-01-21T15:03:26.813Z"
   },
   {
    "duration": 69131,
    "start_time": "2023-01-21T15:03:26.834Z"
   },
   {
    "duration": 138,
    "start_time": "2023-01-21T15:04:35.967Z"
   },
   {
    "duration": 173,
    "start_time": "2023-01-21T15:04:36.107Z"
   },
   {
    "duration": 25,
    "start_time": "2023-01-21T15:04:36.282Z"
   },
   {
    "duration": 23,
    "start_time": "2023-01-21T15:04:36.309Z"
   },
   {
    "duration": 4883,
    "start_time": "2023-01-21T15:04:36.335Z"
   },
   {
    "duration": 18,
    "start_time": "2023-01-21T15:04:41.219Z"
   },
   {
    "duration": 15361,
    "start_time": "2023-01-21T15:04:41.239Z"
   },
   {
    "duration": 20,
    "start_time": "2023-01-21T15:04:56.602Z"
   },
   {
    "duration": 85,
    "start_time": "2023-01-21T15:04:56.624Z"
   },
   {
    "duration": 38,
    "start_time": "2023-01-21T15:04:56.710Z"
   },
   {
    "duration": 33,
    "start_time": "2023-01-21T15:04:56.749Z"
   },
   {
    "duration": 36,
    "start_time": "2023-01-21T15:04:56.798Z"
   },
   {
    "duration": 34,
    "start_time": "2023-01-21T15:04:56.836Z"
   },
   {
    "duration": 51,
    "start_time": "2023-01-21T15:04:56.872Z"
   },
   {
    "duration": 35,
    "start_time": "2023-01-21T15:04:56.925Z"
   },
   {
    "duration": 75,
    "start_time": "2023-01-21T15:04:56.962Z"
   },
   {
    "duration": 3,
    "start_time": "2023-01-21T15:04:57.039Z"
   },
   {
    "duration": 171,
    "start_time": "2023-01-21T15:04:57.043Z"
   },
   {
    "duration": 25,
    "start_time": "2023-01-21T15:04:57.216Z"
   },
   {
    "duration": 4,
    "start_time": "2023-01-21T15:04:57.243Z"
   },
   {
    "duration": 64,
    "start_time": "2023-01-21T15:04:57.249Z"
   },
   {
    "duration": 4,
    "start_time": "2023-01-21T15:04:57.315Z"
   },
   {
    "duration": 6,
    "start_time": "2023-01-21T15:04:57.320Z"
   },
   {
    "duration": 7,
    "start_time": "2023-01-21T15:04:57.327Z"
   },
   {
    "duration": 23,
    "start_time": "2023-01-21T15:04:57.336Z"
   },
   {
    "duration": 20,
    "start_time": "2023-01-21T15:04:57.361Z"
   },
   {
    "duration": 24181,
    "start_time": "2023-01-21T15:04:57.382Z"
   },
   {
    "duration": 4,
    "start_time": "2023-01-21T15:05:21.565Z"
   },
   {
    "duration": 12,
    "start_time": "2023-01-21T15:05:21.571Z"
   },
   {
    "duration": 5,
    "start_time": "2023-01-21T15:05:21.584Z"
   },
   {
    "duration": 7,
    "start_time": "2023-01-21T15:05:21.591Z"
   },
   {
    "duration": 8,
    "start_time": "2023-01-21T15:05:21.602Z"
   },
   {
    "duration": 16697,
    "start_time": "2023-01-21T15:05:21.612Z"
   },
   {
    "duration": 3,
    "start_time": "2023-01-21T15:05:38.311Z"
   },
   {
    "duration": 7,
    "start_time": "2023-01-21T15:05:38.316Z"
   },
   {
    "duration": 4,
    "start_time": "2023-01-21T15:05:38.399Z"
   },
   {
    "duration": 718,
    "start_time": "2023-01-21T15:05:38.405Z"
   },
   {
    "duration": 1011,
    "start_time": "2023-01-21T15:05:39.124Z"
   },
   {
    "duration": 1816,
    "start_time": "2023-01-21T15:05:40.136Z"
   },
   {
    "duration": 56,
    "start_time": "2023-01-21T15:05:41.953Z"
   },
   {
    "duration": 220,
    "start_time": "2023-01-21T15:05:42.011Z"
   },
   {
    "duration": 1001,
    "start_time": "2023-01-21T15:05:42.303Z"
   },
   {
    "duration": 6693,
    "start_time": "2023-01-21T15:05:43.306Z"
   },
   {
    "duration": 99,
    "start_time": "2023-01-21T15:05:50.001Z"
   },
   {
    "duration": 55,
    "start_time": "2023-01-21T15:05:50.102Z"
   },
   {
    "duration": 1574,
    "start_time": "2023-01-21T15:17:08.548Z"
   },
   {
    "duration": 2,
    "start_time": "2023-01-21T15:17:10.124Z"
   },
   {
    "duration": 822,
    "start_time": "2023-01-21T15:17:10.128Z"
   },
   {
    "duration": 1630,
    "start_time": "2023-01-21T15:17:10.952Z"
   },
   {
    "duration": 149,
    "start_time": "2023-01-21T15:17:12.584Z"
   },
   {
    "duration": 19,
    "start_time": "2023-01-21T15:17:12.735Z"
   },
   {
    "duration": 26,
    "start_time": "2023-01-21T15:17:12.755Z"
   },
   {
    "duration": 15,
    "start_time": "2023-01-21T15:17:12.803Z"
   },
   {
    "duration": 76693,
    "start_time": "2023-01-21T15:17:12.820Z"
   },
   {
    "duration": 148,
    "start_time": "2023-01-21T15:18:29.555Z"
   },
   {
    "duration": 181,
    "start_time": "2023-01-21T15:18:29.715Z"
   },
   {
    "duration": 24,
    "start_time": "2023-01-21T15:18:29.899Z"
   },
   {
    "duration": 21,
    "start_time": "2023-01-21T15:18:29.924Z"
   },
   {
    "duration": 5200,
    "start_time": "2023-01-21T15:18:29.947Z"
   },
   {
    "duration": 18,
    "start_time": "2023-01-21T15:18:35.148Z"
   },
   {
    "duration": 16114,
    "start_time": "2023-01-21T15:18:35.168Z"
   },
   {
    "duration": 27,
    "start_time": "2023-01-21T15:18:51.284Z"
   },
   {
    "duration": 71,
    "start_time": "2023-01-21T15:18:51.312Z"
   },
   {
    "duration": 53,
    "start_time": "2023-01-21T15:18:51.384Z"
   },
   {
    "duration": 35,
    "start_time": "2023-01-21T15:18:51.438Z"
   },
   {
    "duration": 57,
    "start_time": "2023-01-21T15:18:51.475Z"
   },
   {
    "duration": 33,
    "start_time": "2023-01-21T15:18:51.534Z"
   },
   {
    "duration": 54,
    "start_time": "2023-01-21T15:18:51.569Z"
   },
   {
    "duration": 35,
    "start_time": "2023-01-21T15:18:51.625Z"
   },
   {
    "duration": 80,
    "start_time": "2023-01-21T15:18:51.662Z"
   },
   {
    "duration": 2,
    "start_time": "2023-01-21T15:18:51.746Z"
   },
   {
    "duration": 171,
    "start_time": "2023-01-21T15:18:51.750Z"
   },
   {
    "duration": 20,
    "start_time": "2023-01-21T15:18:51.922Z"
   },
   {
    "duration": 108,
    "start_time": "2023-01-21T15:18:51.944Z"
   },
   {
    "duration": 60,
    "start_time": "2023-01-21T15:18:52.053Z"
   },
   {
    "duration": 4,
    "start_time": "2023-01-21T15:18:52.115Z"
   },
   {
    "duration": 10,
    "start_time": "2023-01-21T15:18:52.120Z"
   },
   {
    "duration": 5,
    "start_time": "2023-01-21T15:18:52.132Z"
   },
   {
    "duration": 7,
    "start_time": "2023-01-21T15:18:52.139Z"
   },
   {
    "duration": 8,
    "start_time": "2023-01-21T15:18:52.147Z"
   },
   {
    "duration": 25391,
    "start_time": "2023-01-21T15:18:52.157Z"
   },
   {
    "duration": 5,
    "start_time": "2023-01-21T15:19:17.549Z"
   },
   {
    "duration": 9,
    "start_time": "2023-01-21T15:19:17.556Z"
   },
   {
    "duration": 6,
    "start_time": "2023-01-21T15:19:17.567Z"
   },
   {
    "duration": 11,
    "start_time": "2023-01-21T15:19:17.574Z"
   },
   {
    "duration": 6,
    "start_time": "2023-01-21T15:19:17.586Z"
   },
   {
    "duration": 68321,
    "start_time": "2023-01-21T15:19:17.594Z"
   },
   {
    "duration": 4,
    "start_time": "2023-01-21T15:20:25.917Z"
   },
   {
    "duration": 11,
    "start_time": "2023-01-21T15:20:25.922Z"
   },
   {
    "duration": 75,
    "start_time": "2023-01-21T15:20:25.935Z"
   },
   {
    "duration": 745,
    "start_time": "2023-01-21T15:20:26.012Z"
   },
   {
    "duration": 1099,
    "start_time": "2023-01-21T15:20:26.758Z"
   },
   {
    "duration": 1998,
    "start_time": "2023-01-21T15:20:27.859Z"
   },
   {
    "duration": 62,
    "start_time": "2023-01-21T15:20:29.859Z"
   },
   {
    "duration": 207,
    "start_time": "2023-01-21T15:20:30.001Z"
   },
   {
    "duration": 6207,
    "start_time": "2023-01-21T15:20:30.210Z"
   },
   {
    "duration": 1618,
    "start_time": "2023-01-21T16:30:10.749Z"
   },
   {
    "duration": 3,
    "start_time": "2023-01-21T16:30:12.369Z"
   },
   {
    "duration": 1028,
    "start_time": "2023-01-21T16:30:12.374Z"
   },
   {
    "duration": 1477,
    "start_time": "2023-01-21T16:30:13.404Z"
   },
   {
    "duration": 129,
    "start_time": "2023-01-21T16:30:14.882Z"
   },
   {
    "duration": 16,
    "start_time": "2023-01-21T16:30:15.014Z"
   },
   {
    "duration": 15,
    "start_time": "2023-01-21T16:30:15.032Z"
   },
   {
    "duration": 9,
    "start_time": "2023-01-21T16:30:15.049Z"
   },
   {
    "duration": 66781,
    "start_time": "2023-01-21T16:30:15.060Z"
   },
   {
    "duration": 152,
    "start_time": "2023-01-21T16:31:21.844Z"
   },
   {
    "duration": 205,
    "start_time": "2023-01-21T16:31:21.998Z"
   },
   {
    "duration": 19,
    "start_time": "2023-01-21T16:31:22.205Z"
   },
   {
    "duration": 24,
    "start_time": "2023-01-21T16:31:22.226Z"
   },
   {
    "duration": 4912,
    "start_time": "2023-01-21T16:31:22.252Z"
   },
   {
    "duration": 16,
    "start_time": "2023-01-21T16:31:27.166Z"
   },
   {
    "duration": 14240,
    "start_time": "2023-01-21T16:31:27.193Z"
   },
   {
    "duration": 26,
    "start_time": "2023-01-21T16:31:41.435Z"
   },
   {
    "duration": 113,
    "start_time": "2023-01-21T16:31:41.463Z"
   },
   {
    "duration": 47,
    "start_time": "2023-01-21T16:31:41.578Z"
   },
   {
    "duration": 37,
    "start_time": "2023-01-21T16:31:41.627Z"
   },
   {
    "duration": 55,
    "start_time": "2023-01-21T16:31:41.665Z"
   },
   {
    "duration": 38,
    "start_time": "2023-01-21T16:31:41.722Z"
   },
   {
    "duration": 43,
    "start_time": "2023-01-21T16:31:41.761Z"
   },
   {
    "duration": 43,
    "start_time": "2023-01-21T16:31:41.806Z"
   },
   {
    "duration": 99,
    "start_time": "2023-01-21T16:31:41.851Z"
   },
   {
    "duration": 3,
    "start_time": "2023-01-21T16:31:41.952Z"
   },
   {
    "duration": 157,
    "start_time": "2023-01-21T16:31:41.956Z"
   },
   {
    "duration": 20,
    "start_time": "2023-01-21T16:31:42.117Z"
   },
   {
    "duration": 4,
    "start_time": "2023-01-21T16:31:42.139Z"
   },
   {
    "duration": 66,
    "start_time": "2023-01-21T16:31:42.145Z"
   },
   {
    "duration": 4,
    "start_time": "2023-01-21T16:31:42.212Z"
   },
   {
    "duration": 6,
    "start_time": "2023-01-21T16:31:42.218Z"
   },
   {
    "duration": 16,
    "start_time": "2023-01-21T16:31:42.225Z"
   },
   {
    "duration": 11,
    "start_time": "2023-01-21T16:31:42.243Z"
   },
   {
    "duration": 11,
    "start_time": "2023-01-21T16:31:42.256Z"
   },
   {
    "duration": 25904,
    "start_time": "2023-01-21T16:31:42.269Z"
   },
   {
    "duration": 4,
    "start_time": "2023-01-21T16:32:08.175Z"
   },
   {
    "duration": 12,
    "start_time": "2023-01-21T16:32:08.180Z"
   },
   {
    "duration": 8,
    "start_time": "2023-01-21T16:32:08.194Z"
   },
   {
    "duration": 11,
    "start_time": "2023-01-21T16:32:08.204Z"
   },
   {
    "duration": 6,
    "start_time": "2023-01-21T16:32:08.217Z"
   },
   {
    "duration": 52084,
    "start_time": "2023-01-21T16:32:08.224Z"
   },
   {
    "duration": 85,
    "start_time": "2023-01-21T16:33:00.310Z"
   },
   {
    "duration": 22,
    "start_time": "2023-01-21T16:33:00.397Z"
   },
   {
    "duration": 17,
    "start_time": "2023-01-21T16:33:00.421Z"
   },
   {
    "duration": 694,
    "start_time": "2023-01-21T16:33:00.440Z"
   },
   {
    "duration": 1054,
    "start_time": "2023-01-21T16:33:01.135Z"
   },
   {
    "duration": 2003,
    "start_time": "2023-01-21T16:33:02.190Z"
   },
   {
    "duration": 105,
    "start_time": "2023-01-21T16:33:04.195Z"
   },
   {
    "duration": 194,
    "start_time": "2023-01-21T16:33:04.302Z"
   },
   {
    "duration": 1103,
    "start_time": "2023-01-21T16:33:04.498Z"
   },
   {
    "duration": 10000,
    "start_time": "2023-01-21T16:33:05.603Z"
   },
   {
    "duration": 11,
    "start_time": "2023-01-21T16:33:15.694Z"
   },
   {
    "duration": 53,
    "start_time": "2023-01-21T16:33:15.706Z"
   },
   {
    "duration": 1631,
    "start_time": "2023-01-21T18:27:17.915Z"
   },
   {
    "duration": 3,
    "start_time": "2023-01-21T18:27:19.548Z"
   },
   {
    "duration": 3113,
    "start_time": "2023-01-21T18:27:19.553Z"
   },
   {
    "duration": 1637,
    "start_time": "2023-01-21T18:27:22.675Z"
   },
   {
    "duration": 155,
    "start_time": "2023-01-21T18:27:24.315Z"
   },
   {
    "duration": 24,
    "start_time": "2023-01-21T18:27:24.471Z"
   },
   {
    "duration": 20,
    "start_time": "2023-01-21T18:27:24.496Z"
   },
   {
    "duration": 12,
    "start_time": "2023-01-21T18:27:24.517Z"
   },
   {
    "duration": 78326,
    "start_time": "2023-01-21T18:27:24.530Z"
   },
   {
    "duration": 156,
    "start_time": "2023-01-21T18:28:42.858Z"
   },
   {
    "duration": 192,
    "start_time": "2023-01-21T18:28:43.016Z"
   },
   {
    "duration": 17,
    "start_time": "2023-01-21T18:28:43.210Z"
   },
   {
    "duration": 20,
    "start_time": "2023-01-21T18:28:43.228Z"
   },
   {
    "duration": 5357,
    "start_time": "2023-01-21T18:28:43.267Z"
   },
   {
    "duration": 18,
    "start_time": "2023-01-21T18:28:48.625Z"
   },
   {
    "duration": 15279,
    "start_time": "2023-01-21T18:28:48.644Z"
   },
   {
    "duration": 19,
    "start_time": "2023-01-21T18:29:03.925Z"
   },
   {
    "duration": 103,
    "start_time": "2023-01-21T18:29:03.945Z"
   },
   {
    "duration": 57,
    "start_time": "2023-01-21T18:29:04.049Z"
   },
   {
    "duration": 38,
    "start_time": "2023-01-21T18:29:04.108Z"
   },
   {
    "duration": 66,
    "start_time": "2023-01-21T18:29:04.148Z"
   },
   {
    "duration": 62,
    "start_time": "2023-01-21T18:29:04.215Z"
   },
   {
    "duration": 29,
    "start_time": "2023-01-21T18:29:04.283Z"
   },
   {
    "duration": 38,
    "start_time": "2023-01-21T18:29:04.314Z"
   },
   {
    "duration": 100,
    "start_time": "2023-01-21T18:29:04.354Z"
   },
   {
    "duration": 14,
    "start_time": "2023-01-21T18:29:04.455Z"
   },
   {
    "duration": 183,
    "start_time": "2023-01-21T18:29:04.471Z"
   },
   {
    "duration": 30,
    "start_time": "2023-01-21T18:29:04.657Z"
   },
   {
    "duration": 4,
    "start_time": "2023-01-21T18:29:04.689Z"
   },
   {
    "duration": 52,
    "start_time": "2023-01-21T18:29:04.695Z"
   },
   {
    "duration": 4,
    "start_time": "2023-01-21T18:29:04.769Z"
   },
   {
    "duration": 14,
    "start_time": "2023-01-21T18:29:04.776Z"
   },
   {
    "duration": 5,
    "start_time": "2023-01-21T18:29:04.792Z"
   },
   {
    "duration": 31,
    "start_time": "2023-01-21T18:29:04.800Z"
   },
   {
    "duration": 6,
    "start_time": "2023-01-21T18:29:04.833Z"
   },
   {
    "duration": 23039,
    "start_time": "2023-01-21T18:29:04.841Z"
   },
   {
    "duration": 4,
    "start_time": "2023-01-21T18:29:27.882Z"
   },
   {
    "duration": 6,
    "start_time": "2023-01-21T18:29:27.887Z"
   },
   {
    "duration": 6,
    "start_time": "2023-01-21T18:29:27.894Z"
   },
   {
    "duration": 6,
    "start_time": "2023-01-21T18:29:27.901Z"
   },
   {
    "duration": 3,
    "start_time": "2023-01-21T18:29:27.911Z"
   },
   {
    "duration": 472258,
    "start_time": "2023-01-21T18:29:27.915Z"
   },
   {
    "duration": 5,
    "start_time": "2023-01-21T18:37:20.175Z"
   },
   {
    "duration": 11,
    "start_time": "2023-01-21T18:37:20.183Z"
   },
   {
    "duration": 4,
    "start_time": "2023-01-21T18:37:20.197Z"
   },
   {
    "duration": 1179,
    "start_time": "2023-01-21T18:37:20.204Z"
   },
   {
    "duration": 2885,
    "start_time": "2023-01-21T18:37:21.387Z"
   },
   {
    "duration": 43502,
    "start_time": "2023-01-21T18:37:24.274Z"
   },
   {
    "duration": 9896,
    "start_time": "2023-01-21T18:38:07.779Z"
   },
   {
    "duration": 93,
    "start_time": "2023-01-21T18:38:17.677Z"
   },
   {
    "duration": 95,
    "start_time": "2023-01-21T18:38:17.772Z"
   },
   {
    "duration": 4,
    "start_time": "2023-01-21T19:07:08.453Z"
   },
   {
    "duration": 3,
    "start_time": "2023-01-21T19:07:25.199Z"
   },
   {
    "duration": 1422,
    "start_time": "2023-01-21T19:25:39.229Z"
   },
   {
    "duration": 3,
    "start_time": "2023-01-21T19:25:40.653Z"
   },
   {
    "duration": 861,
    "start_time": "2023-01-21T19:25:40.658Z"
   },
   {
    "duration": 1812,
    "start_time": "2023-01-21T19:25:41.521Z"
   },
   {
    "duration": 155,
    "start_time": "2023-01-21T19:25:43.335Z"
   },
   {
    "duration": 18,
    "start_time": "2023-01-21T19:25:43.492Z"
   },
   {
    "duration": 17,
    "start_time": "2023-01-21T19:25:43.511Z"
   },
   {
    "duration": 37,
    "start_time": "2023-01-21T19:25:43.530Z"
   },
   {
    "duration": 74372,
    "start_time": "2023-01-21T19:25:43.569Z"
   },
   {
    "duration": 179,
    "start_time": "2023-01-21T19:26:57.979Z"
   },
   {
    "duration": 219,
    "start_time": "2023-01-21T19:26:58.160Z"
   },
   {
    "duration": 24,
    "start_time": "2023-01-21T19:26:58.382Z"
   },
   {
    "duration": 25,
    "start_time": "2023-01-21T19:26:58.408Z"
   },
   {
    "duration": 5587,
    "start_time": "2023-01-21T19:26:58.434Z"
   },
   {
    "duration": 20,
    "start_time": "2023-01-21T19:27:04.023Z"
   },
   {
    "duration": 15791,
    "start_time": "2023-01-21T19:27:04.044Z"
   },
   {
    "duration": 18,
    "start_time": "2023-01-21T19:27:19.836Z"
   },
   {
    "duration": 97,
    "start_time": "2023-01-21T19:27:19.856Z"
   },
   {
    "duration": 55,
    "start_time": "2023-01-21T19:27:19.955Z"
   },
   {
    "duration": 37,
    "start_time": "2023-01-21T19:27:20.012Z"
   },
   {
    "duration": 52,
    "start_time": "2023-01-21T19:27:20.068Z"
   },
   {
    "duration": 62,
    "start_time": "2023-01-21T19:27:20.122Z"
   },
   {
    "duration": 27,
    "start_time": "2023-01-21T19:27:20.185Z"
   },
   {
    "duration": 35,
    "start_time": "2023-01-21T19:27:20.214Z"
   },
   {
    "duration": 97,
    "start_time": "2023-01-21T19:27:20.251Z"
   },
   {
    "duration": 2,
    "start_time": "2023-01-21T19:27:20.350Z"
   },
   {
    "duration": 184,
    "start_time": "2023-01-21T19:27:20.354Z"
   },
   {
    "duration": 32,
    "start_time": "2023-01-21T19:27:20.542Z"
   },
   {
    "duration": 9,
    "start_time": "2023-01-21T19:27:20.578Z"
   },
   {
    "duration": 58,
    "start_time": "2023-01-21T19:27:20.589Z"
   },
   {
    "duration": 5,
    "start_time": "2023-01-21T19:27:20.649Z"
   },
   {
    "duration": 13,
    "start_time": "2023-01-21T19:27:20.666Z"
   },
   {
    "duration": 23,
    "start_time": "2023-01-21T19:27:20.683Z"
   },
   {
    "duration": 26,
    "start_time": "2023-01-21T19:27:20.708Z"
   },
   {
    "duration": 13,
    "start_time": "2023-01-21T19:27:20.736Z"
   },
   {
    "duration": 26742,
    "start_time": "2023-01-21T19:27:20.750Z"
   },
   {
    "duration": 4,
    "start_time": "2023-01-21T19:27:47.494Z"
   },
   {
    "duration": 9,
    "start_time": "2023-01-21T19:27:47.499Z"
   },
   {
    "duration": 5,
    "start_time": "2023-01-21T19:27:47.510Z"
   },
   {
    "duration": 8,
    "start_time": "2023-01-21T19:27:47.516Z"
   },
   {
    "duration": 6,
    "start_time": "2023-01-21T19:27:47.526Z"
   },
   {
    "duration": 177252,
    "start_time": "2023-01-21T19:27:47.534Z"
   },
   {
    "duration": 14,
    "start_time": "2023-01-21T19:30:44.788Z"
   },
   {
    "duration": 65,
    "start_time": "2023-01-21T19:30:44.804Z"
   },
   {
    "duration": 18,
    "start_time": "2023-01-21T19:30:44.871Z"
   },
   {
    "duration": 801,
    "start_time": "2023-01-21T19:30:44.892Z"
   },
   {
    "duration": 3018,
    "start_time": "2023-01-21T19:30:45.696Z"
   },
   {
    "duration": 4669,
    "start_time": "2023-01-21T19:30:48.715Z"
   },
   {
    "duration": 6288,
    "start_time": "2023-01-21T19:30:53.386Z"
   },
   {
    "duration": 98,
    "start_time": "2023-01-21T19:30:59.676Z"
   },
   {
    "duration": 61,
    "start_time": "2023-01-21T19:30:59.776Z"
   },
   {
    "duration": 1571,
    "start_time": "2023-01-22T11:43:53.912Z"
   },
   {
    "duration": 3,
    "start_time": "2023-01-22T11:43:55.485Z"
   },
   {
    "duration": 1010,
    "start_time": "2023-01-22T11:43:55.490Z"
   },
   {
    "duration": 1380,
    "start_time": "2023-01-22T11:43:56.501Z"
   },
   {
    "duration": 110,
    "start_time": "2023-01-22T11:43:57.885Z"
   },
   {
    "duration": 16,
    "start_time": "2023-01-22T11:43:57.997Z"
   },
   {
    "duration": 16,
    "start_time": "2023-01-22T11:43:58.015Z"
   },
   {
    "duration": 10,
    "start_time": "2023-01-22T11:43:58.033Z"
   },
   {
    "duration": 68846,
    "start_time": "2023-01-22T11:43:58.045Z"
   },
   {
    "duration": 151,
    "start_time": "2023-01-22T11:45:06.893Z"
   },
   {
    "duration": 179,
    "start_time": "2023-01-22T11:45:07.045Z"
   },
   {
    "duration": 17,
    "start_time": "2023-01-22T11:45:07.226Z"
   },
   {
    "duration": 19,
    "start_time": "2023-01-22T11:45:07.244Z"
   },
   {
    "duration": 4925,
    "start_time": "2023-01-22T11:45:07.285Z"
   },
   {
    "duration": 18,
    "start_time": "2023-01-22T11:45:12.211Z"
   },
   {
    "duration": 14415,
    "start_time": "2023-01-22T11:45:12.231Z"
   },
   {
    "duration": 19,
    "start_time": "2023-01-22T11:45:26.648Z"
   },
   {
    "duration": 78,
    "start_time": "2023-01-22T11:45:26.669Z"
   },
   {
    "duration": 43,
    "start_time": "2023-01-22T11:45:26.749Z"
   },
   {
    "duration": 32,
    "start_time": "2023-01-22T11:45:26.794Z"
   },
   {
    "duration": 33,
    "start_time": "2023-01-22T11:45:26.827Z"
   },
   {
    "duration": 52,
    "start_time": "2023-01-22T11:45:26.861Z"
   },
   {
    "duration": 25,
    "start_time": "2023-01-22T11:45:26.914Z"
   },
   {
    "duration": 56,
    "start_time": "2023-01-22T11:45:26.941Z"
   },
   {
    "duration": 62,
    "start_time": "2023-01-22T11:45:26.999Z"
   },
   {
    "duration": 2,
    "start_time": "2023-01-22T11:45:27.063Z"
   },
   {
    "duration": 166,
    "start_time": "2023-01-22T11:45:27.067Z"
   },
   {
    "duration": 22,
    "start_time": "2023-01-22T11:45:27.235Z"
   },
   {
    "duration": 4,
    "start_time": "2023-01-22T11:45:27.258Z"
   },
   {
    "duration": 69,
    "start_time": "2023-01-22T11:45:27.264Z"
   },
   {
    "duration": 4,
    "start_time": "2023-01-22T11:45:27.335Z"
   },
   {
    "duration": 6,
    "start_time": "2023-01-22T11:45:27.340Z"
   },
   {
    "duration": 6,
    "start_time": "2023-01-22T11:45:27.348Z"
   },
   {
    "duration": 8,
    "start_time": "2023-01-22T11:45:27.355Z"
   },
   {
    "duration": 5,
    "start_time": "2023-01-22T11:45:27.365Z"
   },
   {
    "duration": 24324,
    "start_time": "2023-01-22T11:45:27.371Z"
   },
   {
    "duration": 3,
    "start_time": "2023-01-22T11:45:51.697Z"
   },
   {
    "duration": 13,
    "start_time": "2023-01-22T11:45:51.702Z"
   },
   {
    "duration": 5,
    "start_time": "2023-01-22T11:45:51.717Z"
   },
   {
    "duration": 6,
    "start_time": "2023-01-22T11:45:51.724Z"
   },
   {
    "duration": 4,
    "start_time": "2023-01-22T11:45:51.734Z"
   },
   {
    "duration": 14157,
    "start_time": "2023-01-22T11:45:51.739Z"
   },
   {
    "duration": 4,
    "start_time": "2023-01-22T11:46:05.898Z"
   },
   {
    "duration": 86,
    "start_time": "2023-01-22T11:46:05.903Z"
   },
   {
    "duration": 5,
    "start_time": "2023-01-22T11:46:05.991Z"
   },
   {
    "duration": 679,
    "start_time": "2023-01-22T11:46:05.998Z"
   },
   {
    "duration": 1886,
    "start_time": "2023-01-22T11:46:06.679Z"
   },
   {
    "duration": 943,
    "start_time": "2023-01-22T11:46:08.567Z"
   },
   {
    "duration": 5882,
    "start_time": "2023-01-22T11:46:09.512Z"
   },
   {
    "duration": 102,
    "start_time": "2023-01-22T11:46:15.486Z"
   },
   {
    "duration": 69,
    "start_time": "2023-01-22T11:46:15.590Z"
   }
  ],
  "kernelspec": {
   "display_name": "Python 3 (ipykernel)",
   "language": "python",
   "name": "python3"
  },
  "language_info": {
   "codemirror_mode": {
    "name": "ipython",
    "version": 3
   },
   "file_extension": ".py",
   "mimetype": "text/x-python",
   "name": "python",
   "nbconvert_exporter": "python",
   "pygments_lexer": "ipython3",
   "version": "3.9.12"
  },
  "toc": {
   "base_numbering": 1,
   "nav_menu": {},
   "number_sections": true,
   "sideBar": true,
   "skip_h1_title": true,
   "title_cell": "Table of Contents",
   "title_sidebar": "Contents",
   "toc_cell": false,
   "toc_position": {},
   "toc_section_display": true,
   "toc_window_display": false
  }
 },
 "nbformat": 4,
 "nbformat_minor": 2
}
