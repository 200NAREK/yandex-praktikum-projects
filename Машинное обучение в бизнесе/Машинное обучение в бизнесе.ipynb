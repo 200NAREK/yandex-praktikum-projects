{
 "cells": [
  {
   "cell_type": "markdown",
   "metadata": {},
   "source": [
    "# Выбор локации для скважины"
   ]
  },
  {
   "cell_type": "markdown",
   "metadata": {},
   "source": [
    "Допустим, вы работаете в добывающей компании «ГлавРосГосНефть». Нужно решить, где бурить новую скважину.\n",
    "\n",
    "Вам предоставлены пробы нефти в трёх регионах: в каждом 10 000 месторождений, где измерили качество нефти и объём её запасов. Постройте модель машинного обучения, которая поможет определить регион, где добыча принесёт наибольшую прибыль. Проанализируйте возможную прибыль и риски техникой *Bootstrap.*\n",
    "\n",
    "Шаги для выбора локации:\n",
    "\n",
    "- В избранном регионе ищут месторождения, для каждого определяют значения признаков;\n",
    "- Строят модель и оценивают объём запасов;\n",
    "- Выбирают месторождения с самым высокими оценками значений. Количество месторождений зависит от бюджета компании и стоимости разработки одной скважины;\n",
    "- Прибыль равна суммарной прибыли отобранных месторождений."
   ]
  },
  {
   "cell_type": "markdown",
   "metadata": {},
   "source": [
    "## Загрузка и подготовка данных"
   ]
  },
  {
   "cell_type": "code",
   "execution_count": 1,
   "metadata": {},
   "outputs": [],
   "source": [
    "import pandas as pd\n",
    "import numpy as np\n",
    "import seaborn as sns\n",
    "import matplotlib.pyplot as plt\n",
    "from sklearn.model_selection import train_test_split\n",
    "from sklearn.preprocessing import OrdinalEncoder, StandardScaler\n",
    "from sklearn.metrics import mean_squared_error\n",
    "from sklearn.linear_model import LinearRegression\n",
    "from scipy import stats as st"
   ]
  },
  {
   "cell_type": "markdown",
   "metadata": {},
   "source": [
    "\n",
    "\n"
   ]
  },
  {
   "cell_type": "code",
   "execution_count": 2,
   "metadata": {},
   "outputs": [],
   "source": [
    "\n",
    "try:\n",
    "    geo0 = pd.read_csv('/datasets/geo_data_0.csv')\n",
    "    geo1 = pd.read_csv('/datasets/geo_data_1.csv')\n",
    "    geo2 = pd.read_csv('/datasets/geo_data_2.csv')\n",
    "except:\n",
    "    geo0 = pd.read_csv('https://code.s3.yandex.net/datasets/geo_data_0.csv')\n",
    "    geo1 = pd.read_csv('https://code.s3.yandex.net/datasets/geo_data_1.csv')\n",
    "    geo2 = pd.read_csv('https://code.s3.yandex.net/datasets/geo_data_2.csv')"
   ]
  },
  {
   "cell_type": "code",
   "execution_count": 3,
   "metadata": {},
   "outputs": [],
   "source": [
    "import warnings\n",
    "warnings.filterwarnings('ignore')"
   ]
  },
  {
   "cell_type": "code",
   "execution_count": 4,
   "metadata": {},
   "outputs": [
    {
     "name": "stdout",
     "output_type": "stream",
     "text": [
      "<class 'pandas.core.frame.DataFrame'>\n",
      "RangeIndex: 100000 entries, 0 to 99999\n",
      "Data columns (total 5 columns):\n",
      " #   Column   Non-Null Count   Dtype  \n",
      "---  ------   --------------   -----  \n",
      " 0   id       100000 non-null  object \n",
      " 1   f0       100000 non-null  float64\n",
      " 2   f1       100000 non-null  float64\n",
      " 3   f2       100000 non-null  float64\n",
      " 4   product  100000 non-null  float64\n",
      "dtypes: float64(4), object(1)\n",
      "memory usage: 3.8+ MB\n",
      "None\n",
      "<class 'pandas.core.frame.DataFrame'>\n",
      "RangeIndex: 100000 entries, 0 to 99999\n",
      "Data columns (total 5 columns):\n",
      " #   Column   Non-Null Count   Dtype  \n",
      "---  ------   --------------   -----  \n",
      " 0   id       100000 non-null  object \n",
      " 1   f0       100000 non-null  float64\n",
      " 2   f1       100000 non-null  float64\n",
      " 3   f2       100000 non-null  float64\n",
      " 4   product  100000 non-null  float64\n",
      "dtypes: float64(4), object(1)\n",
      "memory usage: 3.8+ MB\n",
      "None\n",
      "<class 'pandas.core.frame.DataFrame'>\n",
      "RangeIndex: 100000 entries, 0 to 99999\n",
      "Data columns (total 5 columns):\n",
      " #   Column   Non-Null Count   Dtype  \n",
      "---  ------   --------------   -----  \n",
      " 0   id       100000 non-null  object \n",
      " 1   f0       100000 non-null  float64\n",
      " 2   f1       100000 non-null  float64\n",
      " 3   f2       100000 non-null  float64\n",
      " 4   product  100000 non-null  float64\n",
      "dtypes: float64(4), object(1)\n",
      "memory usage: 3.8+ MB\n",
      "None\n"
     ]
    }
   ],
   "source": [
    "for data in geo0, geo1, geo2:\n",
    "    print(data.info())\n"
   ]
  },
  {
   "cell_type": "code",
   "execution_count": 5,
   "metadata": {},
   "outputs": [
    {
     "name": "stdout",
     "output_type": "stream",
     "text": [
      "      id        f0        f1        f2     product\n",
      "0  txEyH  0.705745 -0.497823  1.221170  105.280062\n",
      "1  2acmU  1.334711 -0.340164  4.365080   73.037750\n",
      "2  409Wp  1.022732  0.151990  1.419926   85.265647\n",
      "3  iJLyR -0.032172  0.139033  2.978566  168.620776\n",
      "4  Xdl7t  1.988431  0.155413  4.751769  154.036647\n",
      "      id         f0         f1        f2     product\n",
      "0  kBEdx -15.001348  -8.276000 -0.005876    3.179103\n",
      "1  62mP7  14.272088  -3.475083  0.999183   26.953261\n",
      "2  vyE1P   6.263187  -5.948386  5.001160  134.766305\n",
      "3  KcrkZ -13.081196 -11.506057  4.999415  137.945408\n",
      "4  AHL4O  12.702195  -8.147433  5.004363  134.766305\n",
      "      id        f0        f1        f2     product\n",
      "0  fwXo0 -1.146987  0.963328 -0.828965   27.758673\n",
      "1  WJtFt  0.262778  0.269839 -2.530187   56.069697\n",
      "2  ovLUW  0.194587  0.289035 -5.586433   62.871910\n",
      "3  q6cA6  2.236060 -0.553760  0.930038  114.572842\n",
      "4  WPMUX -0.515993  1.716266  5.899011  149.600746\n"
     ]
    }
   ],
   "source": [
    "for data in geo0, geo1, geo2:\n",
    "    print(data.head())"
   ]
  },
  {
   "cell_type": "code",
   "execution_count": 6,
   "metadata": {},
   "outputs": [
    {
     "name": "stdout",
     "output_type": "stream",
     "text": [
      "10\n",
      "4\n",
      "4\n"
     ]
    }
   ],
   "source": [
    "for data in geo0, geo1, geo2:\n",
    "    print(data['id'].duplicated().sum())"
   ]
  },
  {
   "cell_type": "code",
   "execution_count": 7,
   "metadata": {},
   "outputs": [
    {
     "name": "stdout",
     "output_type": "stream",
     "text": [
      "0        txEyH\n",
      "1        2acmU\n",
      "2        409Wp\n",
      "3        iJLyR\n",
      "4        Xdl7t\n",
      "         ...  \n",
      "99995    DLsed\n",
      "99996    QKivN\n",
      "99997    3rnvd\n",
      "99998    7kl59\n",
      "99999    1CWhH\n",
      "Name: id, Length: 99990, dtype: object\n",
      "0        kBEdx\n",
      "1        62mP7\n",
      "2        vyE1P\n",
      "3        KcrkZ\n",
      "4        AHL4O\n",
      "         ...  \n",
      "99995    QywKC\n",
      "99996    ptvty\n",
      "99997    09gWa\n",
      "99998    rqwUm\n",
      "99999    relB0\n",
      "Name: id, Length: 99996, dtype: object\n",
      "0        fwXo0\n",
      "1        WJtFt\n",
      "2        ovLUW\n",
      "3        q6cA6\n",
      "4        WPMUX\n",
      "         ...  \n",
      "99995    4GxBu\n",
      "99996    YKFjq\n",
      "99997    tKPY3\n",
      "99998    nmxp2\n",
      "99999    V9kWn\n",
      "Name: id, Length: 99996, dtype: object\n"
     ]
    }
   ],
   "source": [
    "for data in geo0, geo1, geo2:\n",
    "    drop = data['id'].drop_duplicates()\n",
    "    print(drop)\n"
   ]
  },
  {
   "cell_type": "markdown",
   "metadata": {},
   "source": [
    "прочитали даниие 3 датасетов из 3 регионов нашли и удалили дубликаты в столбце id так как повтор данных выдал бы нам не коректные данные."
   ]
  },
  {
   "cell_type": "markdown",
   "metadata": {},
   "source": [
    "## Обучение и проверка модели"
   ]
  },
  {
   "cell_type": "markdown",
   "metadata": {},
   "source": [
    "проверка geo0"
   ]
  },
  {
   "cell_type": "code",
   "execution_count": 8,
   "metadata": {},
   "outputs": [
    {
     "name": "stdout",
     "output_type": "stream",
     "text": [
      "(75000, 3)\n",
      "(25000, 3)\n",
      "Linear Regression\n",
      "MSE = 1412.2129364399243\n",
      "RMSE = 37.5794217150813\n",
      "Mean = 92.59256778438035\n"
     ]
    }
   ],
   "source": [
    "geo0_train, geo0_valid = train_test_split(geo0, test_size=0.25, random_state=12345)\n",
    "features_train_geo0 = geo0_train.drop(['product', 'id'], axis=1)\n",
    "target_train_geo0 = geo0_train['product']\n",
    "\n",
    "features_valid_geo0 = geo0_valid.drop(['product', 'id'], axis=1)\n",
    "target_valid_geo0 = geo0_valid['product'] \n",
    "\n",
    "print(features_train_geo0.shape)\n",
    "print(features_valid_geo0.shape)\n",
    "\n",
    "model = LinearRegression()\n",
    "model.fit(features_train_geo0, target_train_geo0)\n",
    "predicted_valid_geo0 = model.predict(features_valid_geo0)\n",
    "mse = mean_squared_error(target_valid_geo0, predicted_valid_geo0)\n",
    "\n",
    "\n",
    "print(\"Linear Regression\")\n",
    "print(\"MSE =\", mse)\n",
    "print(\"RMSE =\", mse ** 0.5)\n",
    "print(\"Mean =\", predicted_valid_geo0.mean())"
   ]
  },
  {
   "cell_type": "markdown",
   "metadata": {},
   "source": [
    "проверка geo1"
   ]
  },
  {
   "cell_type": "code",
   "execution_count": 9,
   "metadata": {},
   "outputs": [
    {
     "name": "stdout",
     "output_type": "stream",
     "text": [
      "(75000, 3)\n",
      "(25000, 3)\n",
      "Linear Regression\n",
      "MSE = 0.7976263360391157\n",
      "RMSE = 0.893099286775617\n",
      "Mean = 68.728546895446\n"
     ]
    }
   ],
   "source": [
    "geo1_train, geo1_valid = train_test_split(geo1, test_size=0.25, random_state=12345)\n",
    "features_train_geo1 = geo1_train.drop(['product', 'id'], axis=1)\n",
    "target_train_geo1 = geo1_train['product']\n",
    "\n",
    "features_valid_geo1 = geo1_valid.drop(['product', 'id'], axis=1)\n",
    "target_valid_geo1 = geo1_valid['product'] \n",
    "\n",
    "print(features_train_geo1.shape)\n",
    "print(features_valid_geo1.shape)\n",
    "\n",
    "model = LinearRegression()\n",
    "model.fit(features_train_geo1, target_train_geo1)\n",
    "predicted_valid_geo1 = model.predict(features_valid_geo1)\n",
    "mse = mean_squared_error(target_valid_geo1, predicted_valid_geo1)\n",
    "\n",
    "\n",
    "print(\"Linear Regression\")\n",
    "print(\"MSE =\", mse)\n",
    "print(\"RMSE =\", mse ** 0.5)\n",
    "print(\"Mean =\", predicted_valid_geo1.mean())"
   ]
  },
  {
   "cell_type": "markdown",
   "metadata": {},
   "source": [
    "проверка geo2"
   ]
  },
  {
   "cell_type": "code",
   "execution_count": 10,
   "metadata": {},
   "outputs": [
    {
     "name": "stdout",
     "output_type": "stream",
     "text": [
      "(75000, 3)\n",
      "(25000, 3)\n",
      "Linear Regression\n",
      "MSE = 2020.1343101336374\n",
      "RMSE = 44.945904264277935\n",
      "Mean = 95.23295059251816\n"
     ]
    }
   ],
   "source": [
    "geo2_train, geo2_valid = train_test_split(geo2, test_size=0.25, random_state=12345)\n",
    "features_train_geo2 = geo2_train.drop(['product', 'id'], axis=1)\n",
    "target_train_geo2 = geo2_train['product']\n",
    "\n",
    "features_valid_geo2 = geo1_valid.drop(['product', 'id'], axis=1)\n",
    "target_valid_geo2 = geo1_valid['product'] \n",
    "\n",
    "print(features_train_geo2.shape)\n",
    "print(features_valid_geo2.shape)\n",
    "\n",
    "model = LinearRegression()\n",
    "model.fit(features_train_geo2, target_train_geo2)\n",
    "predicted_valid_geo2 = model.predict(features_valid_geo2)\n",
    "mse = mean_squared_error(target_valid_geo2, predicted_valid_geo2)\n",
    "\n",
    "\n",
    "print(\"Linear Regression\")\n",
    "print(\"MSE =\", mse)\n",
    "print(\"RMSE =\", mse ** 0.5)\n",
    "print(\"Mean =\", predicted_valid_geo2.mean())"
   ]
  },
  {
   "cell_type": "raw",
   "metadata": {},
   "source": [
    "обучили и предсказали данные методом линейной регресии все 3 региона.\n",
    "\n",
    "В результате видим, что самые большие средние запасы сырья находятся в регионе 3. При этом значение rmse довольно высокое. Большое значение rmse региона говорит о большом разбросе ошибок, эти значения самые высокие для geo 0 и 2."
   ]
  },
  {
   "cell_type": "markdown",
   "metadata": {},
   "source": [
    "## Подготовка к расчёту прибыли"
   ]
  },
  {
   "cell_type": "code",
   "execution_count": 11,
   "metadata": {},
   "outputs": [],
   "source": [
    "tochki = 500#all_points\n",
    "nuj_tochki=200\n",
    "viborki = 1000#bootstrap_samples \n",
    "bud_obsh = 10000000000# total_budget\n",
    "bud_1= bud_obsh/nuj_tochki #\n",
    "bars = 450000 #cost_of_one\n",
    "bar = 450 #barell_profit\n",
    "granica_riska= 0.025 #risk_treshold"
   ]
  },
  {
   "cell_type": "code",
   "execution_count": 12,
   "metadata": {},
   "outputs": [
    {
     "data": {
      "text/plain": [
       "111.11111111111111"
      ]
     },
     "execution_count": 12,
     "metadata": {},
     "output_type": "execute_result"
    }
   ],
   "source": [
    "kol_bar=bud_1/bars # нужное количество барелей что бы окупилась разработка\n",
    "kol_bar"
   ]
  },
  {
   "cell_type": "code",
   "execution_count": 13,
   "metadata": {
    "scrolled": true
   },
   "outputs": [
    {
     "name": "stdout",
     "output_type": "stream",
     "text": [
      "предсказанный объём сырья со средним запасом в регионе geo0: 92.59256778438035\n",
      "предсказанный объём сырья со средним запасом в регионе geo1: 68.728546895446\n",
      "предсказанный объём сырья со средним запасом в регионе geo2: 95.23295059251816\n"
     ]
    }
   ],
   "source": [
    "print('предсказанный объём сырья со средним запасом в регионе geo0:',predicted_valid_geo0.mean())\n",
    "print('предсказанный объём сырья со средним запасом в регионе geo1:',predicted_valid_geo1.mean())\n",
    "print('предсказанный объём сырья со средним запасом в регионе geo2:',predicted_valid_geo2.mean())"
   ]
  },
  {
   "cell_type": "markdown",
   "metadata": {},
   "source": [
    "Нужно 111 тыc баррелей на разработку одной сквжины. Получается, не один регион не окупил себя."
   ]
  },
  {
   "cell_type": "code",
   "execution_count": 14,
   "metadata": {},
   "outputs": [],
   "source": [
    "def revenue(target, predictions):\n",
    "    target = pd.Series(target).reset_index(drop=True)\n",
    "    predictions = pd.Series(predictions).reset_index(drop=True)\n",
    "    predictions_s = predictions.sort_values(ascending=False)[:nuj_tochki].index\n",
    "    selected = target[predictions_s]\n",
    "    revenue = selected.sum() * bars - bud_obsh\n",
    "    return round(revenue, 2)"
   ]
  },
  {
   "cell_type": "markdown",
   "metadata": {},
   "source": [
    "## Расчёт прибыли и рисков "
   ]
  },
  {
   "cell_type": "code",
   "execution_count": 15,
   "metadata": {},
   "outputs": [
    {
     "data": {
      "text/plain": [
       "3320826043.14"
      ]
     },
     "execution_count": 15,
     "metadata": {},
     "output_type": "execute_result"
    }
   ],
   "source": [
    "revenue(target_valid_geo0, predicted_valid_geo0)"
   ]
  },
  {
   "cell_type": "code",
   "execution_count": 16,
   "metadata": {},
   "outputs": [
    {
     "data": {
      "text/plain": [
       "2415086696.68"
      ]
     },
     "execution_count": 16,
     "metadata": {},
     "output_type": "execute_result"
    }
   ],
   "source": [
    "revenue(target_valid_geo1, predicted_valid_geo1)"
   ]
  },
  {
   "cell_type": "code",
   "execution_count": 17,
   "metadata": {
    "scrolled": true
   },
   "outputs": [
    {
     "data": {
      "text/plain": [
       "2143273425.82"
      ]
     },
     "execution_count": 17,
     "metadata": {},
     "output_type": "execute_result"
    }
   ],
   "source": [
    "revenue(target_valid_geo2, predicted_valid_geo2)"
   ]
  },
  {
   "cell_type": "code",
   "execution_count": 18,
   "metadata": {},
   "outputs": [],
   "source": [
    "def bootstrap(target, probabilities, iterations, sample_size):\n",
    "    state = np.random.RandomState(12345)\n",
    "    values = []\n",
    "    for i in range(iterations):\n",
    "        target_subsample = target.sample(n=sample_size, random_state=state, replace=True)\n",
    "        probs_subsample = probabilities[target_subsample.index]\n",
    "        values.append(revenue(target_subsample, probs_subsample))\n",
    "\n",
    "    values = pd.Series(values)\n",
    "    mean = values.mean()\n",
    "    risk = (values < 0).mean()\n",
    "    confidence_interval = st.t.interval(0.95, len(values)-1, loc=values.mean(), scale=values.sem())\n",
    "    \n",
    "    lower = values.quantile(0.025)\n",
    "    upper = values.quantile(0.975)\n",
    "    quantile_interval = (lower, upper)\n",
    "    return round(mean,2), confidence_interval, round(risk*100, 2), quantile_interval\n"
   ]
  },
  {
   "cell_type": "code",
   "execution_count": 19,
   "metadata": {},
   "outputs": [
    {
     "name": "stdout",
     "output_type": "stream",
     "text": [
      "Регион geo0 средняя выручка =  396164984.8\n",
      "Регион geo0 95 %ый доверительный интервал по стьюденту =  (379620315.14788723, 412709654.4566728)\n",
      "Регион geo0 95 %ый доверительный интервал по квантилям =  (-111215545.89, 909766941.5539998)\n",
      "Регион geo0 Риск убытков:  6.9 %\n"
     ]
    }
   ],
   "source": [
    "geo0_mean, geo0_interval, geo0_risk, geo0_quantile = bootstrap(target_valid_geo0.reset_index(drop=True), predicted_valid_geo0, 1000, 500)\n",
    "print('Регион geo0 средняя выручка = ',  geo0_mean)\n",
    "print('Регион geo0 95 %ый доверительный интервал по стьюденту = ', geo0_interval)\n",
    "print('Регион geo0 95 %ый доверительный интервал по квантилям = ',  geo0_quantile)\n",
    "print('Регион geo0 Риск убытков: ',geo0_risk,'%')\n"
   ]
  },
  {
   "cell_type": "code",
   "execution_count": 20,
   "metadata": {},
   "outputs": [
    {
     "name": "stdout",
     "output_type": "stream",
     "text": [
      "Регион geo1 средняя выручка =  456045105.79\n",
      "Регион geo1 95 %ый доверительный интервал по стьюденту =  (443147248.6638929, 468942962.909427)\n",
      "Регион geo1 95 %ый доверительный интервал по квантилям =  (33820509.397750005, 852289453.864)\n",
      "Регион geo1 Риск убытков:  1.5 %\n"
     ]
    }
   ],
   "source": [
    "geo1_mean, geo1_interval, geo1_risk, geo1_quantile = bootstrap(target_valid_geo1.reset_index(drop=True), predicted_valid_geo1, 1000, 500)\n",
    "print('Регион geo1 средняя выручка = ', geo1_mean)\n",
    "print('Регион geo1 95 %ый доверительный интервал по стьюденту = ', geo1_interval)\n",
    "print('Регион geo1 95 %ый доверительный интервал по квантилям = ', geo1_quantile)\n",
    "print('Регион geo1 Риск убытков: ',geo1_risk,'%')\n"
   ]
  },
  {
   "cell_type": "code",
   "execution_count": 21,
   "metadata": {
    "scrolled": true
   },
   "outputs": [
    {
     "name": "stdout",
     "output_type": "stream",
     "text": [
      "Регион geo2 средняя выручка =  421122822.87\n",
      "Регион geo2 95 %ый доверительный интервал по стьюденту =  (407967108.7912553, 434278536.93912476)\n",
      "Регион geo2 95 %ый доверительный интервал по квантилям =  (-1128021.85, 833798998.46625)\n",
      "Регион geo2 Риск убытков:  2.6 %\n"
     ]
    }
   ],
   "source": [
    "geo2_mean, geo2_interval, geo2_risk, geo2_quantile = bootstrap(target_valid_geo2.reset_index(drop=True), predicted_valid_geo2, 1000, 500)\n",
    "print('Регион geo2 средняя выручка = ', geo2_mean)\n",
    "print('Регион geo2 95 %ый доверительный интервал по стьюденту = ', geo2_interval)\n",
    "print('Регион geo2 95 %ый доверительный интервал по квантилям = ', geo2_quantile)\n",
    "print('Регион geo2 Риск убытков: ',geo2_risk,'%')"
   ]
  },
  {
   "cell_type": "markdown",
   "metadata": {},
   "source": [
    "# Вывод:"
   ]
  },
  {
   "cell_type": "markdown",
   "metadata": {},
   "source": [
    "прочитали даниие 3 датасетов из 3 регионов нашли и удалили дубликаты в столбце id так как повтор данных выдал бы нам не коректные данные.\n",
    "обучили и предсказали данные методом линейной регресии все 3 региона.\n",
    "В результате видим, что самые большие средние запасы сырья находятся в регионе 3. При этом значение rmse довольно высокое. Большое значение rmse региона говорит о большом разбросе ошибок, эти значения самые высокие для geo 0 и 2.\n",
    "нашли объём сырья со средним запасом в регионе\n",
    "нашли нужное количество барелей что бы окупилась разработка\n",
    "Согласно прогнозам сделанным с помощью техники Bootstrap, наиболее прибыльным будет разработка месторождений в регионе geo1. В данном регионе самые высокие показатели средней выручки и 95%-ного доверительного интервала. Также в регионе geo1 самый низкий риск убытков."
   ]
  }
 ],
 "metadata": {
  "ExecuteTimeLog": [
   {
    "duration": 1693,
    "start_time": "2022-12-10T15:09:10.379Z"
   },
   {
    "duration": 688,
    "start_time": "2022-12-10T15:09:12.074Z"
   },
   {
    "duration": 3,
    "start_time": "2022-12-10T15:09:12.763Z"
   },
   {
    "duration": 52,
    "start_time": "2022-12-10T15:09:12.768Z"
   },
   {
    "duration": 18,
    "start_time": "2022-12-10T15:09:12.822Z"
   },
   {
    "duration": 56,
    "start_time": "2022-12-10T15:09:12.842Z"
   },
   {
    "duration": 68,
    "start_time": "2022-12-10T15:09:12.900Z"
   },
   {
    "duration": 184,
    "start_time": "2022-12-10T15:09:12.971Z"
   },
   {
    "duration": 132,
    "start_time": "2022-12-10T15:09:13.158Z"
   },
   {
    "duration": 267,
    "start_time": "2022-12-10T15:09:13.292Z"
   },
   {
    "duration": 7,
    "start_time": "2022-12-10T15:09:13.561Z"
   },
   {
    "duration": 102,
    "start_time": "2022-12-10T15:09:13.570Z"
   },
   {
    "duration": 14,
    "start_time": "2022-12-10T15:09:13.674Z"
   },
   {
    "duration": 30,
    "start_time": "2022-12-10T15:09:13.692Z"
   },
   {
    "duration": 12,
    "start_time": "2022-12-10T15:09:13.724Z"
   },
   {
    "duration": 10,
    "start_time": "2022-12-10T15:09:13.738Z"
   },
   {
    "duration": 11,
    "start_time": "2022-12-10T15:09:13.750Z"
   },
   {
    "duration": 9,
    "start_time": "2022-12-10T15:09:13.762Z"
   },
   {
    "duration": 1166,
    "start_time": "2022-12-10T15:09:13.774Z"
   },
   {
    "duration": 1037,
    "start_time": "2022-12-10T15:09:14.942Z"
   },
   {
    "duration": 1076,
    "start_time": "2022-12-10T15:09:15.981Z"
   }
  ],
  "kernelspec": {
   "display_name": "Python 3 (ipykernel)",
   "language": "python",
   "name": "python3"
  },
  "language_info": {
   "codemirror_mode": {
    "name": "ipython",
    "version": 3
   },
   "file_extension": ".py",
   "mimetype": "text/x-python",
   "name": "python",
   "nbconvert_exporter": "python",
   "pygments_lexer": "ipython3",
   "version": "3.9.12"
  },
  "toc": {
   "base_numbering": 1,
   "nav_menu": {},
   "number_sections": true,
   "sideBar": true,
   "skip_h1_title": true,
   "title_cell": "Table of Contents",
   "title_sidebar": "Contents",
   "toc_cell": false,
   "toc_position": {},
   "toc_section_display": true,
   "toc_window_display": false
  }
 },
 "nbformat": 4,
 "nbformat_minor": 2
}
