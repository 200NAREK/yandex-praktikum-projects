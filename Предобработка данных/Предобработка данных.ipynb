{
 "cells": [
  {
   "cell_type": "markdown",
   "id": "6c42a04d",
   "metadata": {
    "deletable": false,
    "editable": false,
    "id": "c81daeeb"
   },
   "source": [
    "# Исследование надежности заемщиков\n"
   ]
  },
  {
   "cell_type": "markdown",
   "id": "f94868d5",
   "metadata": {
    "deletable": false,
    "editable": false,
    "id": "744d7639"
   },
   "source": [
    "## Откройте таблицу и изучите общую информацию о данных"
   ]
  },
  {
   "cell_type": "markdown",
   "id": "ca24d056",
   "metadata": {
    "deletable": false,
    "editable": false,
    "id": "e7a14c31"
   },
   "source": [
    "**Задание 1. Импортируйте библиотеку pandas. Считайте данные из csv-файла в датафрейм и сохраните в переменную `data`. Путь к файлу:**\n",
    "\n",
    "`/datasets/data.csv`"
   ]
  },
  {
   "cell_type": "code",
   "execution_count": 1,
   "id": "1c78c410",
   "metadata": {},
   "outputs": [],
   "source": [
    "import pandas as pd #импортируем библиотеку как pd"
   ]
  },
  {
   "cell_type": "code",
   "execution_count": 2,
   "id": "0e4971b6",
   "metadata": {},
   "outputs": [],
   "source": [
    "import seaborn as sns #импортируем библиотеку seaborn как sns для дальнейшей визуализации"
   ]
  },
  {
   "cell_type": "code",
   "execution_count": 3,
   "id": "67807bdc",
   "metadata": {
    "deletable": false,
    "id": "7bcf75c9"
   },
   "outputs": [],
   "source": [
    "\n",
    "\n",
    "try:\n",
    "    data = pd.read_csv('/datasets/data.csv')\n",
    "except:\n",
    "    data = pd.read_csv('https://code.s3.yandex.net/datasets/data.csv')"
   ]
  },
  {
   "cell_type": "markdown",
   "id": "61cd06eb",
   "metadata": {
    "deletable": false,
    "editable": false,
    "id": "b8038fe3"
   },
   "source": [
    "**Задание 2. Выведите первые 20 строчек датафрейма `data` на экран.**"
   ]
  },
  {
   "cell_type": "code",
   "execution_count": 4,
   "id": "194886c7",
   "metadata": {
    "deletable": false,
    "id": "2a7cab99",
    "outputId": "1a8f3ef2-d323-4ec2-ddf7-89670b5944c4"
   },
   "outputs": [
    {
     "data": {
      "text/html": [
       "<div>\n",
       "<style scoped>\n",
       "    .dataframe tbody tr th:only-of-type {\n",
       "        vertical-align: middle;\n",
       "    }\n",
       "\n",
       "    .dataframe tbody tr th {\n",
       "        vertical-align: top;\n",
       "    }\n",
       "\n",
       "    .dataframe thead th {\n",
       "        text-align: right;\n",
       "    }\n",
       "</style>\n",
       "<table border=\"1\" class=\"dataframe\">\n",
       "  <thead>\n",
       "    <tr style=\"text-align: right;\">\n",
       "      <th></th>\n",
       "      <th>children</th>\n",
       "      <th>days_employed</th>\n",
       "      <th>dob_years</th>\n",
       "      <th>education</th>\n",
       "      <th>education_id</th>\n",
       "      <th>family_status</th>\n",
       "      <th>family_status_id</th>\n",
       "      <th>gender</th>\n",
       "      <th>income_type</th>\n",
       "      <th>debt</th>\n",
       "      <th>total_income</th>\n",
       "      <th>purpose</th>\n",
       "    </tr>\n",
       "  </thead>\n",
       "  <tbody>\n",
       "    <tr>\n",
       "      <th>0</th>\n",
       "      <td>1</td>\n",
       "      <td>-8437.673028</td>\n",
       "      <td>42</td>\n",
       "      <td>высшее</td>\n",
       "      <td>0</td>\n",
       "      <td>женат / замужем</td>\n",
       "      <td>0</td>\n",
       "      <td>F</td>\n",
       "      <td>сотрудник</td>\n",
       "      <td>0</td>\n",
       "      <td>253875.639453</td>\n",
       "      <td>покупка жилья</td>\n",
       "    </tr>\n",
       "    <tr>\n",
       "      <th>1</th>\n",
       "      <td>1</td>\n",
       "      <td>-4024.803754</td>\n",
       "      <td>36</td>\n",
       "      <td>среднее</td>\n",
       "      <td>1</td>\n",
       "      <td>женат / замужем</td>\n",
       "      <td>0</td>\n",
       "      <td>F</td>\n",
       "      <td>сотрудник</td>\n",
       "      <td>0</td>\n",
       "      <td>112080.014102</td>\n",
       "      <td>приобретение автомобиля</td>\n",
       "    </tr>\n",
       "    <tr>\n",
       "      <th>2</th>\n",
       "      <td>0</td>\n",
       "      <td>-5623.422610</td>\n",
       "      <td>33</td>\n",
       "      <td>Среднее</td>\n",
       "      <td>1</td>\n",
       "      <td>женат / замужем</td>\n",
       "      <td>0</td>\n",
       "      <td>M</td>\n",
       "      <td>сотрудник</td>\n",
       "      <td>0</td>\n",
       "      <td>145885.952297</td>\n",
       "      <td>покупка жилья</td>\n",
       "    </tr>\n",
       "    <tr>\n",
       "      <th>3</th>\n",
       "      <td>3</td>\n",
       "      <td>-4124.747207</td>\n",
       "      <td>32</td>\n",
       "      <td>среднее</td>\n",
       "      <td>1</td>\n",
       "      <td>женат / замужем</td>\n",
       "      <td>0</td>\n",
       "      <td>M</td>\n",
       "      <td>сотрудник</td>\n",
       "      <td>0</td>\n",
       "      <td>267628.550329</td>\n",
       "      <td>дополнительное образование</td>\n",
       "    </tr>\n",
       "    <tr>\n",
       "      <th>4</th>\n",
       "      <td>0</td>\n",
       "      <td>340266.072047</td>\n",
       "      <td>53</td>\n",
       "      <td>среднее</td>\n",
       "      <td>1</td>\n",
       "      <td>гражданский брак</td>\n",
       "      <td>1</td>\n",
       "      <td>F</td>\n",
       "      <td>пенсионер</td>\n",
       "      <td>0</td>\n",
       "      <td>158616.077870</td>\n",
       "      <td>сыграть свадьбу</td>\n",
       "    </tr>\n",
       "    <tr>\n",
       "      <th>5</th>\n",
       "      <td>0</td>\n",
       "      <td>-926.185831</td>\n",
       "      <td>27</td>\n",
       "      <td>высшее</td>\n",
       "      <td>0</td>\n",
       "      <td>гражданский брак</td>\n",
       "      <td>1</td>\n",
       "      <td>M</td>\n",
       "      <td>компаньон</td>\n",
       "      <td>0</td>\n",
       "      <td>255763.565419</td>\n",
       "      <td>покупка жилья</td>\n",
       "    </tr>\n",
       "    <tr>\n",
       "      <th>6</th>\n",
       "      <td>0</td>\n",
       "      <td>-2879.202052</td>\n",
       "      <td>43</td>\n",
       "      <td>высшее</td>\n",
       "      <td>0</td>\n",
       "      <td>женат / замужем</td>\n",
       "      <td>0</td>\n",
       "      <td>F</td>\n",
       "      <td>компаньон</td>\n",
       "      <td>0</td>\n",
       "      <td>240525.971920</td>\n",
       "      <td>операции с жильем</td>\n",
       "    </tr>\n",
       "    <tr>\n",
       "      <th>7</th>\n",
       "      <td>0</td>\n",
       "      <td>-152.779569</td>\n",
       "      <td>50</td>\n",
       "      <td>СРЕДНЕЕ</td>\n",
       "      <td>1</td>\n",
       "      <td>женат / замужем</td>\n",
       "      <td>0</td>\n",
       "      <td>M</td>\n",
       "      <td>сотрудник</td>\n",
       "      <td>0</td>\n",
       "      <td>135823.934197</td>\n",
       "      <td>образование</td>\n",
       "    </tr>\n",
       "    <tr>\n",
       "      <th>8</th>\n",
       "      <td>2</td>\n",
       "      <td>-6929.865299</td>\n",
       "      <td>35</td>\n",
       "      <td>ВЫСШЕЕ</td>\n",
       "      <td>0</td>\n",
       "      <td>гражданский брак</td>\n",
       "      <td>1</td>\n",
       "      <td>F</td>\n",
       "      <td>сотрудник</td>\n",
       "      <td>0</td>\n",
       "      <td>95856.832424</td>\n",
       "      <td>на проведение свадьбы</td>\n",
       "    </tr>\n",
       "    <tr>\n",
       "      <th>9</th>\n",
       "      <td>0</td>\n",
       "      <td>-2188.756445</td>\n",
       "      <td>41</td>\n",
       "      <td>среднее</td>\n",
       "      <td>1</td>\n",
       "      <td>женат / замужем</td>\n",
       "      <td>0</td>\n",
       "      <td>M</td>\n",
       "      <td>сотрудник</td>\n",
       "      <td>0</td>\n",
       "      <td>144425.938277</td>\n",
       "      <td>покупка жилья для семьи</td>\n",
       "    </tr>\n",
       "    <tr>\n",
       "      <th>10</th>\n",
       "      <td>2</td>\n",
       "      <td>-4171.483647</td>\n",
       "      <td>36</td>\n",
       "      <td>высшее</td>\n",
       "      <td>0</td>\n",
       "      <td>женат / замужем</td>\n",
       "      <td>0</td>\n",
       "      <td>M</td>\n",
       "      <td>компаньон</td>\n",
       "      <td>0</td>\n",
       "      <td>113943.491460</td>\n",
       "      <td>покупка недвижимости</td>\n",
       "    </tr>\n",
       "    <tr>\n",
       "      <th>11</th>\n",
       "      <td>0</td>\n",
       "      <td>-792.701887</td>\n",
       "      <td>40</td>\n",
       "      <td>среднее</td>\n",
       "      <td>1</td>\n",
       "      <td>женат / замужем</td>\n",
       "      <td>0</td>\n",
       "      <td>F</td>\n",
       "      <td>сотрудник</td>\n",
       "      <td>0</td>\n",
       "      <td>77069.234271</td>\n",
       "      <td>покупка коммерческой недвижимости</td>\n",
       "    </tr>\n",
       "    <tr>\n",
       "      <th>12</th>\n",
       "      <td>0</td>\n",
       "      <td>NaN</td>\n",
       "      <td>65</td>\n",
       "      <td>среднее</td>\n",
       "      <td>1</td>\n",
       "      <td>гражданский брак</td>\n",
       "      <td>1</td>\n",
       "      <td>M</td>\n",
       "      <td>пенсионер</td>\n",
       "      <td>0</td>\n",
       "      <td>NaN</td>\n",
       "      <td>сыграть свадьбу</td>\n",
       "    </tr>\n",
       "    <tr>\n",
       "      <th>13</th>\n",
       "      <td>0</td>\n",
       "      <td>-1846.641941</td>\n",
       "      <td>54</td>\n",
       "      <td>неоконченное высшее</td>\n",
       "      <td>2</td>\n",
       "      <td>женат / замужем</td>\n",
       "      <td>0</td>\n",
       "      <td>F</td>\n",
       "      <td>сотрудник</td>\n",
       "      <td>0</td>\n",
       "      <td>130458.228857</td>\n",
       "      <td>приобретение автомобиля</td>\n",
       "    </tr>\n",
       "    <tr>\n",
       "      <th>14</th>\n",
       "      <td>0</td>\n",
       "      <td>-1844.956182</td>\n",
       "      <td>56</td>\n",
       "      <td>высшее</td>\n",
       "      <td>0</td>\n",
       "      <td>гражданский брак</td>\n",
       "      <td>1</td>\n",
       "      <td>F</td>\n",
       "      <td>компаньон</td>\n",
       "      <td>1</td>\n",
       "      <td>165127.911772</td>\n",
       "      <td>покупка жилой недвижимости</td>\n",
       "    </tr>\n",
       "    <tr>\n",
       "      <th>15</th>\n",
       "      <td>1</td>\n",
       "      <td>-972.364419</td>\n",
       "      <td>26</td>\n",
       "      <td>среднее</td>\n",
       "      <td>1</td>\n",
       "      <td>женат / замужем</td>\n",
       "      <td>0</td>\n",
       "      <td>F</td>\n",
       "      <td>сотрудник</td>\n",
       "      <td>0</td>\n",
       "      <td>116820.904450</td>\n",
       "      <td>строительство собственной недвижимости</td>\n",
       "    </tr>\n",
       "    <tr>\n",
       "      <th>16</th>\n",
       "      <td>0</td>\n",
       "      <td>-1719.934226</td>\n",
       "      <td>35</td>\n",
       "      <td>среднее</td>\n",
       "      <td>1</td>\n",
       "      <td>женат / замужем</td>\n",
       "      <td>0</td>\n",
       "      <td>F</td>\n",
       "      <td>сотрудник</td>\n",
       "      <td>0</td>\n",
       "      <td>289202.704229</td>\n",
       "      <td>недвижимость</td>\n",
       "    </tr>\n",
       "    <tr>\n",
       "      <th>17</th>\n",
       "      <td>0</td>\n",
       "      <td>-2369.999720</td>\n",
       "      <td>33</td>\n",
       "      <td>высшее</td>\n",
       "      <td>0</td>\n",
       "      <td>гражданский брак</td>\n",
       "      <td>1</td>\n",
       "      <td>M</td>\n",
       "      <td>сотрудник</td>\n",
       "      <td>0</td>\n",
       "      <td>90410.586745</td>\n",
       "      <td>строительство недвижимости</td>\n",
       "    </tr>\n",
       "    <tr>\n",
       "      <th>18</th>\n",
       "      <td>0</td>\n",
       "      <td>400281.136913</td>\n",
       "      <td>53</td>\n",
       "      <td>среднее</td>\n",
       "      <td>1</td>\n",
       "      <td>вдовец / вдова</td>\n",
       "      <td>2</td>\n",
       "      <td>F</td>\n",
       "      <td>пенсионер</td>\n",
       "      <td>0</td>\n",
       "      <td>56823.777243</td>\n",
       "      <td>на покупку подержанного автомобиля</td>\n",
       "    </tr>\n",
       "    <tr>\n",
       "      <th>19</th>\n",
       "      <td>0</td>\n",
       "      <td>-10038.818549</td>\n",
       "      <td>48</td>\n",
       "      <td>СРЕДНЕЕ</td>\n",
       "      <td>1</td>\n",
       "      <td>в разводе</td>\n",
       "      <td>3</td>\n",
       "      <td>F</td>\n",
       "      <td>сотрудник</td>\n",
       "      <td>0</td>\n",
       "      <td>242831.107982</td>\n",
       "      <td>на покупку своего автомобиля</td>\n",
       "    </tr>\n",
       "  </tbody>\n",
       "</table>\n",
       "</div>"
      ],
      "text/plain": [
       "    children  days_employed  dob_years            education  education_id  \\\n",
       "0          1   -8437.673028         42               высшее             0   \n",
       "1          1   -4024.803754         36              среднее             1   \n",
       "2          0   -5623.422610         33              Среднее             1   \n",
       "3          3   -4124.747207         32              среднее             1   \n",
       "4          0  340266.072047         53              среднее             1   \n",
       "5          0    -926.185831         27               высшее             0   \n",
       "6          0   -2879.202052         43               высшее             0   \n",
       "7          0    -152.779569         50              СРЕДНЕЕ             1   \n",
       "8          2   -6929.865299         35               ВЫСШЕЕ             0   \n",
       "9          0   -2188.756445         41              среднее             1   \n",
       "10         2   -4171.483647         36               высшее             0   \n",
       "11         0    -792.701887         40              среднее             1   \n",
       "12         0            NaN         65              среднее             1   \n",
       "13         0   -1846.641941         54  неоконченное высшее             2   \n",
       "14         0   -1844.956182         56               высшее             0   \n",
       "15         1    -972.364419         26              среднее             1   \n",
       "16         0   -1719.934226         35              среднее             1   \n",
       "17         0   -2369.999720         33               высшее             0   \n",
       "18         0  400281.136913         53              среднее             1   \n",
       "19         0  -10038.818549         48              СРЕДНЕЕ             1   \n",
       "\n",
       "       family_status  family_status_id gender income_type  debt  \\\n",
       "0    женат / замужем                 0      F   сотрудник     0   \n",
       "1    женат / замужем                 0      F   сотрудник     0   \n",
       "2    женат / замужем                 0      M   сотрудник     0   \n",
       "3    женат / замужем                 0      M   сотрудник     0   \n",
       "4   гражданский брак                 1      F   пенсионер     0   \n",
       "5   гражданский брак                 1      M   компаньон     0   \n",
       "6    женат / замужем                 0      F   компаньон     0   \n",
       "7    женат / замужем                 0      M   сотрудник     0   \n",
       "8   гражданский брак                 1      F   сотрудник     0   \n",
       "9    женат / замужем                 0      M   сотрудник     0   \n",
       "10   женат / замужем                 0      M   компаньон     0   \n",
       "11   женат / замужем                 0      F   сотрудник     0   \n",
       "12  гражданский брак                 1      M   пенсионер     0   \n",
       "13   женат / замужем                 0      F   сотрудник     0   \n",
       "14  гражданский брак                 1      F   компаньон     1   \n",
       "15   женат / замужем                 0      F   сотрудник     0   \n",
       "16   женат / замужем                 0      F   сотрудник     0   \n",
       "17  гражданский брак                 1      M   сотрудник     0   \n",
       "18    вдовец / вдова                 2      F   пенсионер     0   \n",
       "19         в разводе                 3      F   сотрудник     0   \n",
       "\n",
       "     total_income                                 purpose  \n",
       "0   253875.639453                           покупка жилья  \n",
       "1   112080.014102                 приобретение автомобиля  \n",
       "2   145885.952297                           покупка жилья  \n",
       "3   267628.550329              дополнительное образование  \n",
       "4   158616.077870                         сыграть свадьбу  \n",
       "5   255763.565419                           покупка жилья  \n",
       "6   240525.971920                       операции с жильем  \n",
       "7   135823.934197                             образование  \n",
       "8    95856.832424                   на проведение свадьбы  \n",
       "9   144425.938277                 покупка жилья для семьи  \n",
       "10  113943.491460                    покупка недвижимости  \n",
       "11   77069.234271       покупка коммерческой недвижимости  \n",
       "12            NaN                         сыграть свадьбу  \n",
       "13  130458.228857                 приобретение автомобиля  \n",
       "14  165127.911772              покупка жилой недвижимости  \n",
       "15  116820.904450  строительство собственной недвижимости  \n",
       "16  289202.704229                            недвижимость  \n",
       "17   90410.586745              строительство недвижимости  \n",
       "18   56823.777243      на покупку подержанного автомобиля  \n",
       "19  242831.107982            на покупку своего автомобиля  "
      ]
     },
     "execution_count": 4,
     "metadata": {},
     "output_type": "execute_result"
    }
   ],
   "source": [
    "data.head(20)"
   ]
  },
  {
   "cell_type": "markdown",
   "id": "3e7209f6",
   "metadata": {
    "deletable": false,
    "editable": false,
    "id": "1c12e233"
   },
   "source": [
    "**Задание 3. Выведите основную информацию о датафрейме с помощью метода `info()`.**"
   ]
  },
  {
   "cell_type": "code",
   "execution_count": 5,
   "id": "12936a1d",
   "metadata": {
    "deletable": false,
    "id": "2b757bca",
    "outputId": "15376089-8dad-46c9-b520-c05248d43158"
   },
   "outputs": [
    {
     "name": "stdout",
     "output_type": "stream",
     "text": [
      "<class 'pandas.core.frame.DataFrame'>\n",
      "RangeIndex: 21525 entries, 0 to 21524\n",
      "Data columns (total 12 columns):\n",
      " #   Column            Non-Null Count  Dtype  \n",
      "---  ------            --------------  -----  \n",
      " 0   children          21525 non-null  int64  \n",
      " 1   days_employed     19351 non-null  float64\n",
      " 2   dob_years         21525 non-null  int64  \n",
      " 3   education         21525 non-null  object \n",
      " 4   education_id      21525 non-null  int64  \n",
      " 5   family_status     21525 non-null  object \n",
      " 6   family_status_id  21525 non-null  int64  \n",
      " 7   gender            21525 non-null  object \n",
      " 8   income_type       21525 non-null  object \n",
      " 9   debt              21525 non-null  int64  \n",
      " 10  total_income      19351 non-null  float64\n",
      " 11  purpose           21525 non-null  object \n",
      "dtypes: float64(2), int64(5), object(5)\n",
      "memory usage: 2.0+ MB\n"
     ]
    }
   ],
   "source": [
    "data.info()"
   ]
  },
  {
   "cell_type": "markdown",
   "id": "6d246210",
   "metadata": {},
   "source": [
    "вывод--В двух столбцах есть пропущенные значения. Один из них — days_employed.Другой столбец с пропущенными значениями — total_income — хранит данные о доходах."
   ]
  },
  {
   "cell_type": "markdown",
   "id": "4cb872e4",
   "metadata": {
    "deletable": false,
    "editable": false,
    "id": "333ec665"
   },
   "source": [
    "## Предобработка данных"
   ]
  },
  {
   "cell_type": "markdown",
   "id": "1e16fc46",
   "metadata": {
    "deletable": false,
    "editable": false,
    "id": "02d92d53"
   },
   "source": [
    "### Удаление пропусков"
   ]
  },
  {
   "cell_type": "markdown",
   "id": "e808899d",
   "metadata": {
    "deletable": false,
    "editable": false,
    "id": "cd84967c"
   },
   "source": [
    "**Задание 4. Выведите количество пропущенных значений для каждого столбца. Используйте комбинацию двух методов.**"
   ]
  },
  {
   "cell_type": "code",
   "execution_count": 6,
   "id": "19cb6335",
   "metadata": {
    "deletable": false,
    "id": "7f9b2309",
    "outputId": "81f4d817-781c-465c-ed15-91ce4446810d"
   },
   "outputs": [
    {
     "data": {
      "text/plain": [
       "children               0\n",
       "days_employed       2174\n",
       "dob_years              0\n",
       "education              0\n",
       "education_id           0\n",
       "family_status          0\n",
       "family_status_id       0\n",
       "gender                 0\n",
       "income_type            0\n",
       "debt                   0\n",
       "total_income        2174\n",
       "purpose                0\n",
       "dtype: int64"
      ]
     },
     "execution_count": 6,
     "metadata": {},
     "output_type": "execute_result"
    }
   ],
   "source": [
    "data.isna().sum()"
   ]
  },
  {
   "cell_type": "markdown",
   "id": "83aa5a3a",
   "metadata": {
    "deletable": false,
    "editable": false,
    "id": "db86e27b"
   },
   "source": [
    "**Задание 5. В двух столбцах есть пропущенные значения. Один из них — `days_employed`. Пропуски в этом столбце вы обработаете на следующем этапе. Другой столбец с пропущенными значениями — `total_income` — хранит данные о доходах. На сумму дохода сильнее всего влияет тип занятости, поэтому заполнить пропуски в этом столбце нужно медианным значением по каждому типу из столбца `income_type`. Например, у человека с типом занятости `сотрудник` пропуск в столбце `total_income` должен быть заполнен медианным доходом среди всех записей с тем же типом.**"
   ]
  },
  {
   "cell_type": "code",
   "execution_count": 7,
   "id": "9a5190c3",
   "metadata": {
    "deletable": false,
    "id": "42006a93"
   },
   "outputs": [],
   "source": [
    "for t in data['income_type'].unique():\n",
    "    data.loc[(data['income_type'] == t) & (data['total_income'].isna()), 'total_income'] = \\\n",
    "    data.loc[(data['income_type'] == t), 'total_income'].median()"
   ]
  },
  {
   "cell_type": "markdown",
   "id": "ecd19b30",
   "metadata": {
    "deletable": false,
    "editable": false,
    "id": "89da5ece"
   },
   "source": [
    "### Обработка аномальных значений"
   ]
  },
  {
   "cell_type": "markdown",
   "id": "c5d1683c",
   "metadata": {
    "deletable": false,
    "editable": false,
    "id": "57964554"
   },
   "source": [
    "**Задание 6. В данных могут встречаться артефакты (аномалии) — значения, которые не отражают действительность и появились по какой-то ошибке. таким артефактом будет отрицательное количество дней трудового стажа в столбце `days_employed`. Для реальных данных это нормально. Обработайте значения в этом столбце: замените все отрицательные значения положительными с помощью метода `abs()`.**"
   ]
  },
  {
   "cell_type": "code",
   "execution_count": 8,
   "id": "89ef1fe0",
   "metadata": {
    "deletable": false,
    "id": "f6f055bf"
   },
   "outputs": [],
   "source": [
    "data['days_employed'] = data['days_employed'].abs()"
   ]
  },
  {
   "cell_type": "markdown",
   "id": "2f448240",
   "metadata": {
    "deletable": false,
    "editable": false,
    "id": "6107dd2f"
   },
   "source": [
    "**Задание 7. Для каждого типа занятости выведите медианное значение трудового стажа `days_employed` в днях.**"
   ]
  },
  {
   "cell_type": "code",
   "execution_count": 9,
   "id": "757e6b13",
   "metadata": {
    "deletable": false,
    "id": "85a5faf6",
    "outputId": "801ef80e-522b-4668-f34e-565af7432bcf"
   },
   "outputs": [
    {
     "data": {
      "text/plain": [
       "income_type\n",
       "безработный        366413.652744\n",
       "в декрете            3296.759962\n",
       "госслужащий          2689.368353\n",
       "компаньон            1547.382223\n",
       "пенсионер          365213.306266\n",
       "предприниматель       520.848083\n",
       "сотрудник            1574.202821\n",
       "студент               578.751554\n",
       "Name: days_employed, dtype: float64"
      ]
     },
     "execution_count": 9,
     "metadata": {},
     "output_type": "execute_result"
    }
   ],
   "source": [
    "data.groupby('income_type')['days_employed'].agg('median')"
   ]
  },
  {
   "cell_type": "markdown",
   "id": "afdca670",
   "metadata": {
    "deletable": false,
    "editable": false,
    "id": "38d1a030"
   },
   "source": [
    "У двух типов (безработные и пенсионеры) получатся аномально большие значения. Исправить такие значения сложно, поэтому оставьте их как есть. Тем более этот столбец не понадобится вам для исследования."
   ]
  },
  {
   "cell_type": "markdown",
   "id": "fad150d6",
   "metadata": {
    "deletable": false,
    "editable": false,
    "id": "d8a9f147"
   },
   "source": [
    "**Задание 8. Выведите перечень уникальных значений столбца `children`.**"
   ]
  },
  {
   "cell_type": "code",
   "execution_count": 10,
   "id": "236bdc58",
   "metadata": {
    "deletable": false,
    "id": "ef5056eb",
    "outputId": "6975b15c-7f95-4697-d16d-a0c79b657b03"
   },
   "outputs": [
    {
     "data": {
      "text/plain": [
       "array([ 1,  0,  3,  2, -1,  4, 20,  5])"
      ]
     },
     "execution_count": 10,
     "metadata": {},
     "output_type": "execute_result"
    }
   ],
   "source": [
    "data['children'].unique()"
   ]
  },
  {
   "cell_type": "markdown",
   "id": "88a465da",
   "metadata": {
    "deletable": false,
    "editable": false,
    "id": "40b9ebf2"
   },
   "source": [
    "**Задание 9. В столбце `children` есть два аномальных значения. Удалите строки, в которых встречаются такие аномальные значения из датафрейма `data`.**"
   ]
  },
  {
   "cell_type": "code",
   "execution_count": 11,
   "id": "87cc18cb",
   "metadata": {
    "deletable": false,
    "id": "3ff9801d"
   },
   "outputs": [],
   "source": [
    "data = data[(data['children'] != -1) & (data['children'] != 20)]"
   ]
  },
  {
   "cell_type": "markdown",
   "id": "19ced834",
   "metadata": {
    "deletable": false,
    "editable": false,
    "id": "bbc4d0ce"
   },
   "source": [
    "**Задание 10. Ещё раз выведите перечень уникальных значений столбца `children`, чтобы убедиться, что артефакты удалены.**"
   ]
  },
  {
   "cell_type": "code",
   "execution_count": 12,
   "id": "0f603ea1",
   "metadata": {
    "deletable": false,
    "id": "ad4fa8b7",
    "outputId": "b2097101-d49d-44d9-901b-32a65c9463d1"
   },
   "outputs": [
    {
     "data": {
      "text/plain": [
       "array([1, 0, 3, 2, 4, 5])"
      ]
     },
     "execution_count": 12,
     "metadata": {},
     "output_type": "execute_result"
    }
   ],
   "source": [
    "data['children'].unique()"
   ]
  },
  {
   "cell_type": "markdown",
   "id": "0495faba",
   "metadata": {
    "deletable": false,
    "editable": false,
    "id": "75440b63"
   },
   "source": [
    "### Удаление пропусков (продолжение)"
   ]
  },
  {
   "cell_type": "markdown",
   "id": "ee20d9b8",
   "metadata": {
    "deletable": false,
    "editable": false,
    "id": "f4ea573f"
   },
   "source": [
    "**Задание 11. Заполните пропуски в столбце `days_employed` медианными значениями по каждого типа занятости `income_type`.**"
   ]
  },
  {
   "cell_type": "code",
   "execution_count": 13,
   "id": "e29a9640",
   "metadata": {
    "deletable": false,
    "id": "af6b1a7e"
   },
   "outputs": [],
   "source": [
    "for t in data['income_type'].unique():\n",
    "    data.loc[(data['income_type'] == t) & (data['days_employed'].isna()), 'days_employed'] = \\\n",
    "    data.loc[(data['income_type'] == t), 'days_employed'].median()"
   ]
  },
  {
   "cell_type": "markdown",
   "id": "efe1ddd8",
   "metadata": {
    "deletable": false,
    "editable": false,
    "id": "2753f40d"
   },
   "source": [
    "**Задание 12. Убедитесь, что все пропуски заполнены. Проверьте себя и ещё раз выведите количество пропущенных значений для каждого столбца с помощью двух методов.**"
   ]
  },
  {
   "cell_type": "code",
   "execution_count": 14,
   "id": "37afd35d",
   "metadata": {
    "deletable": false,
    "id": "55f78bc2",
    "outputId": "8da1e4e1-358e-4e87-98c9-f261bce0a7b2"
   },
   "outputs": [
    {
     "data": {
      "text/plain": [
       "children            0\n",
       "days_employed       0\n",
       "dob_years           0\n",
       "education           0\n",
       "education_id        0\n",
       "family_status       0\n",
       "family_status_id    0\n",
       "gender              0\n",
       "income_type         0\n",
       "debt                0\n",
       "total_income        0\n",
       "purpose             0\n",
       "dtype: int64"
      ]
     },
     "execution_count": 14,
     "metadata": {},
     "output_type": "execute_result"
    }
   ],
   "source": [
    "data.isna().sum()"
   ]
  },
  {
   "cell_type": "markdown",
   "id": "b7f79419",
   "metadata": {
    "deletable": false,
    "editable": false,
    "id": "ddc81e43"
   },
   "source": [
    "### Изменение типов данных"
   ]
  },
  {
   "cell_type": "markdown",
   "id": "87e81c0e",
   "metadata": {
    "deletable": false,
    "editable": false,
    "id": "42d19d24"
   },
   "source": [
    "**Задание 13. Замените вещественный тип данных в столбце `total_income` на целочисленный с помощью метода `astype()`.**"
   ]
  },
  {
   "cell_type": "code",
   "execution_count": 15,
   "id": "e10baffc",
   "metadata": {
    "deletable": false,
    "id": "920b65ad"
   },
   "outputs": [],
   "source": [
    "data['total_income'] = data['total_income'].astype(int)"
   ]
  },
  {
   "cell_type": "markdown",
   "id": "cd56c80a",
   "metadata": {
    "deletable": false,
    "editable": false,
    "id": "80c420ba"
   },
   "source": [
    "### Обработка дубликатов"
   ]
  },
  {
   "cell_type": "markdown",
   "id": "0e230ee1",
   "metadata": {
    "deletable": false,
    "editable": false
   },
   "source": [
    "**Задание 14. Обработайте неявные дубликаты в столбце `education`. В этом столбце есть одни и те же значения, но записанные по-разному: с использованием заглавных и строчных букв. Приведите их к нижнему регистру. Проверьте остальные столбцы.**"
   ]
  },
  {
   "cell_type": "code",
   "execution_count": 16,
   "id": "2fddbc69",
   "metadata": {
    "deletable": false
   },
   "outputs": [],
   "source": [
    "data['education'] = data['education'].str.lower()"
   ]
  },
  {
   "cell_type": "markdown",
   "id": "b1ce5b17",
   "metadata": {
    "deletable": false,
    "editable": false,
    "id": "dc587695"
   },
   "source": [
    "**Задание 15. Выведите на экран количество строк-дубликатов в данных. Если такие строки присутствуют, удалите их.**"
   ]
  },
  {
   "cell_type": "code",
   "execution_count": 17,
   "id": "4a5f0c86",
   "metadata": {
    "deletable": false,
    "id": "3ee445e4",
    "outputId": "9684deba-1934-42d1-99e1-cda61740f822"
   },
   "outputs": [
    {
     "data": {
      "text/plain": [
       "71"
      ]
     },
     "execution_count": 17,
     "metadata": {},
     "output_type": "execute_result"
    }
   ],
   "source": [
    "data.duplicated().sum()"
   ]
  },
  {
   "cell_type": "code",
   "execution_count": 18,
   "id": "6e7b6b3b",
   "metadata": {
    "deletable": false,
    "id": "8575fe05"
   },
   "outputs": [],
   "source": [
    "data = data.drop_duplicates()"
   ]
  },
  {
   "cell_type": "markdown",
   "id": "319002d5",
   "metadata": {
    "deletable": false,
    "editable": false,
    "id": "9904cf55"
   },
   "source": [
    "### Категоризация данных"
   ]
  },
  {
   "cell_type": "markdown",
   "id": "c86743bd",
   "metadata": {
    "deletable": false,
    "editable": false,
    "id": "72fcc8a2"
   },
   "source": [
    "**Задание 16. На основании диапазонов, указанных ниже, создайте в датафрейме `data` столбец `total_income_category` с категориями:**\n",
    "\n",
    "- 0–30000 — `'E'`;\n",
    "- 30001–50000 — `'D'`;\n",
    "- 50001–200000 — `'C'`;\n",
    "- 200001–1000000 — `'B'`;\n",
    "- 1000001 и выше — `'A'`.\n",
    "\n",
    "\n",
    "**Например, кредитополучателю с доходом 25000 нужно назначить категорию `'E'`, а клиенту, получающему 235000, — `'B'`. Используйте собственную функцию с именем `categorize_income()` и метод `apply()`.**"
   ]
  },
  {
   "cell_type": "code",
   "execution_count": 19,
   "id": "701e5419",
   "metadata": {
    "deletable": false,
    "id": "e1771346"
   },
   "outputs": [],
   "source": [
    "def categorize_income(income):\n",
    "    try:\n",
    "        if 0 <= income <= 30000:\n",
    "            return 'E'\n",
    "        elif 30001 <= income <= 50000:\n",
    "            return 'D'\n",
    "        elif 50001 <= income <= 200000:\n",
    "            return 'C'\n",
    "        elif 200001 <= income <= 1000000:\n",
    "            return 'B'\n",
    "        elif income >= 1000001:\n",
    "            return 'A'\n",
    "    except:\n",
    "        pass"
   ]
  },
  {
   "cell_type": "code",
   "execution_count": 20,
   "id": "1f626900",
   "metadata": {
    "deletable": false,
    "id": "d5f3586d"
   },
   "outputs": [],
   "source": [
    "data['total_income_category'] = data['total_income'].apply(categorize_income)"
   ]
  },
  {
   "cell_type": "markdown",
   "id": "7dc28af4",
   "metadata": {
    "deletable": false,
    "editable": false,
    "id": "dde49b5c"
   },
   "source": [
    "**Задание 17. Выведите на экран перечень уникальных целей взятия кредита из столбца `purpose`.**"
   ]
  },
  {
   "cell_type": "code",
   "execution_count": 21,
   "id": "7a727390",
   "metadata": {
    "deletable": false,
    "id": "f67ce9b3",
    "outputId": "673c12d9-7d7e-4ae0-9812-c622c89dd244"
   },
   "outputs": [
    {
     "data": {
      "text/plain": [
       "array(['покупка жилья', 'приобретение автомобиля',\n",
       "       'дополнительное образование', 'сыграть свадьбу',\n",
       "       'операции с жильем', 'образование', 'на проведение свадьбы',\n",
       "       'покупка жилья для семьи', 'покупка недвижимости',\n",
       "       'покупка коммерческой недвижимости', 'покупка жилой недвижимости',\n",
       "       'строительство собственной недвижимости', 'недвижимость',\n",
       "       'строительство недвижимости', 'на покупку подержанного автомобиля',\n",
       "       'на покупку своего автомобиля',\n",
       "       'операции с коммерческой недвижимостью',\n",
       "       'строительство жилой недвижимости', 'жилье',\n",
       "       'операции со своей недвижимостью', 'автомобили',\n",
       "       'заняться образованием', 'сделка с подержанным автомобилем',\n",
       "       'получение образования', 'автомобиль', 'свадьба',\n",
       "       'получение дополнительного образования', 'покупка своего жилья',\n",
       "       'операции с недвижимостью', 'получение высшего образования',\n",
       "       'свой автомобиль', 'сделка с автомобилем',\n",
       "       'профильное образование', 'высшее образование',\n",
       "       'покупка жилья для сдачи', 'на покупку автомобиля', 'ремонт жилью',\n",
       "       'заняться высшим образованием'], dtype=object)"
      ]
     },
     "execution_count": 21,
     "metadata": {},
     "output_type": "execute_result"
    }
   ],
   "source": [
    "data['purpose'].unique()"
   ]
  },
  {
   "cell_type": "markdown",
   "id": "46629953",
   "metadata": {
    "deletable": false,
    "editable": false,
    "id": "85d0aef0"
   },
   "source": [
    "**Задание 18. Создайте функцию, которая на основании данных из столбца `purpose` сформирует новый столбец `purpose_category`, в который войдут следующие категории:**\n",
    "\n",
    "- `'операции с автомобилем'`,\n",
    "- `'операции с недвижимостью'`,\n",
    "- `'проведение свадьбы'`,\n",
    "- `'получение образования'`.\n",
    "\n",
    "**Например, если в столбце `purpose` находится подстрока `'на покупку автомобиля'`, то в столбце `purpose_category` должна появиться строка `'операции с автомобилем'`.**\n",
    "\n",
    "**Используйте собственную функцию с именем `categorize_purpose()` и метод `apply()`. Изучите данные в столбце `purpose` и определите, какие подстроки помогут вам правильно определить категорию.**"
   ]
  },
  {
   "cell_type": "code",
   "execution_count": 22,
   "id": "1ad54fcc",
   "metadata": {
    "deletable": false,
    "id": "e149fab4"
   },
   "outputs": [],
   "source": [
    "def categorize_purpose(row):\n",
    "    try:\n",
    "        if 'автом' in row:\n",
    "            return 'операции с автомобилем'\n",
    "        elif 'жил' in row or 'недвиж' in row:\n",
    "            return 'операции с недвижимостью'\n",
    "        elif 'свад' in row:\n",
    "            return 'проведение свадьбы'\n",
    "        elif 'образов' in row:\n",
    "            return 'получение образования'\n",
    "    except:\n",
    "        return 'нет категории'"
   ]
  },
  {
   "cell_type": "code",
   "execution_count": 23,
   "id": "4dfbebee",
   "metadata": {
    "deletable": false,
    "id": "bf36e69b"
   },
   "outputs": [],
   "source": [
    "data['purpose_category'] = data['purpose'].apply(categorize_purpose)"
   ]
  },
  {
   "cell_type": "markdown",
   "id": "967e46b3",
   "metadata": {
    "deletable": false,
    "editable": false,
    "id": "09b242bf"
   },
   "source": [
    "### Шаг 3. Исследуйте данные и ответьте на вопросы"
   ]
  },
  {
   "cell_type": "code",
   "execution_count": 24,
   "id": "082be507",
   "metadata": {
    "deletable": false,
    "id": "2cacfc4a",
    "scrolled": true
   },
   "outputs": [
    {
     "name": "stdout",
     "output_type": "stream",
     "text": [
      "<class 'pandas.core.frame.DataFrame'>\n",
      "Int64Index: 21331 entries, 0 to 21524\n",
      "Data columns (total 14 columns):\n",
      " #   Column                 Non-Null Count  Dtype  \n",
      "---  ------                 --------------  -----  \n",
      " 0   children               21331 non-null  int64  \n",
      " 1   days_employed          21331 non-null  float64\n",
      " 2   dob_years              21331 non-null  int64  \n",
      " 3   education              21331 non-null  object \n",
      " 4   education_id           21331 non-null  int64  \n",
      " 5   family_status          21331 non-null  object \n",
      " 6   family_status_id       21331 non-null  int64  \n",
      " 7   gender                 21331 non-null  object \n",
      " 8   income_type            21331 non-null  object \n",
      " 9   debt                   21331 non-null  int64  \n",
      " 10  total_income           21331 non-null  int64  \n",
      " 11  purpose                21331 non-null  object \n",
      " 12  total_income_category  21331 non-null  object \n",
      " 13  purpose_category       21331 non-null  object \n",
      "dtypes: float64(1), int64(6), object(7)\n",
      "memory usage: 2.4+ MB\n"
     ]
    }
   ],
   "source": [
    "# Ваш код будет здесь. Вы можете создавать новые ячейки.\n",
    "data.info()#выводим сводную информацию о таблице\n"
   ]
  },
  {
   "cell_type": "code",
   "execution_count": 25,
   "id": "91e26755",
   "metadata": {
    "scrolled": true
   },
   "outputs": [
    {
     "data": {
      "text/plain": [
       "(21331, 14)"
      ]
     },
     "execution_count": 25,
     "metadata": {},
     "output_type": "execute_result"
    }
   ],
   "source": [
    "data.shape# выводим размер таблицы\n"
   ]
  },
  {
   "cell_type": "code",
   "execution_count": 26,
   "id": "6d4104b8",
   "metadata": {},
   "outputs": [
    {
     "data": {
      "text/plain": [
       "children                   int64\n",
       "days_employed            float64\n",
       "dob_years                  int64\n",
       "education                 object\n",
       "education_id               int64\n",
       "family_status             object\n",
       "family_status_id           int64\n",
       "gender                    object\n",
       "income_type               object\n",
       "debt                       int64\n",
       "total_income               int64\n",
       "purpose                   object\n",
       "total_income_category     object\n",
       "purpose_category          object\n",
       "dtype: object"
      ]
     },
     "execution_count": 26,
     "metadata": {},
     "output_type": "execute_result"
    }
   ],
   "source": [
    "data.dtypes  # выводим информацию о типах данных в таблице\n"
   ]
  },
  {
   "cell_type": "code",
   "execution_count": 27,
   "id": "a33dc1c6",
   "metadata": {},
   "outputs": [
    {
     "data": {
      "text/plain": [
       "Index(['children', 'days_employed', 'dob_years', 'education', 'education_id',\n",
       "       'family_status', 'family_status_id', 'gender', 'income_type', 'debt',\n",
       "       'total_income', 'purpose', 'total_income_category', 'purpose_category'],\n",
       "      dtype='object')"
      ]
     },
     "execution_count": 27,
     "metadata": {},
     "output_type": "execute_result"
    }
   ],
   "source": [
    "data.columns # выводим названия столбцов"
   ]
  },
  {
   "cell_type": "code",
   "execution_count": 28,
   "id": "81a64580",
   "metadata": {
    "scrolled": true
   },
   "outputs": [
    {
     "data": {
      "text/html": [
       "<div>\n",
       "<style scoped>\n",
       "    .dataframe tbody tr th:only-of-type {\n",
       "        vertical-align: middle;\n",
       "    }\n",
       "\n",
       "    .dataframe tbody tr th {\n",
       "        vertical-align: top;\n",
       "    }\n",
       "\n",
       "    .dataframe thead th {\n",
       "        text-align: right;\n",
       "    }\n",
       "</style>\n",
       "<table border=\"1\" class=\"dataframe\">\n",
       "  <thead>\n",
       "    <tr style=\"text-align: right;\">\n",
       "      <th></th>\n",
       "      <th>children</th>\n",
       "      <th>days_employed</th>\n",
       "      <th>dob_years</th>\n",
       "      <th>education</th>\n",
       "      <th>education_id</th>\n",
       "      <th>family_status</th>\n",
       "      <th>family_status_id</th>\n",
       "      <th>gender</th>\n",
       "      <th>income_type</th>\n",
       "      <th>debt</th>\n",
       "      <th>total_income</th>\n",
       "      <th>purpose</th>\n",
       "      <th>total_income_category</th>\n",
       "      <th>purpose_category</th>\n",
       "    </tr>\n",
       "  </thead>\n",
       "  <tbody>\n",
       "    <tr>\n",
       "      <th>0</th>\n",
       "      <td>1</td>\n",
       "      <td>8437.673028</td>\n",
       "      <td>42</td>\n",
       "      <td>высшее</td>\n",
       "      <td>0</td>\n",
       "      <td>женат / замужем</td>\n",
       "      <td>0</td>\n",
       "      <td>F</td>\n",
       "      <td>сотрудник</td>\n",
       "      <td>0</td>\n",
       "      <td>253875</td>\n",
       "      <td>покупка жилья</td>\n",
       "      <td>B</td>\n",
       "      <td>операции с недвижимостью</td>\n",
       "    </tr>\n",
       "    <tr>\n",
       "      <th>1</th>\n",
       "      <td>1</td>\n",
       "      <td>4024.803754</td>\n",
       "      <td>36</td>\n",
       "      <td>среднее</td>\n",
       "      <td>1</td>\n",
       "      <td>женат / замужем</td>\n",
       "      <td>0</td>\n",
       "      <td>F</td>\n",
       "      <td>сотрудник</td>\n",
       "      <td>0</td>\n",
       "      <td>112080</td>\n",
       "      <td>приобретение автомобиля</td>\n",
       "      <td>C</td>\n",
       "      <td>операции с автомобилем</td>\n",
       "    </tr>\n",
       "    <tr>\n",
       "      <th>2</th>\n",
       "      <td>0</td>\n",
       "      <td>5623.422610</td>\n",
       "      <td>33</td>\n",
       "      <td>среднее</td>\n",
       "      <td>1</td>\n",
       "      <td>женат / замужем</td>\n",
       "      <td>0</td>\n",
       "      <td>M</td>\n",
       "      <td>сотрудник</td>\n",
       "      <td>0</td>\n",
       "      <td>145885</td>\n",
       "      <td>покупка жилья</td>\n",
       "      <td>C</td>\n",
       "      <td>операции с недвижимостью</td>\n",
       "    </tr>\n",
       "    <tr>\n",
       "      <th>3</th>\n",
       "      <td>3</td>\n",
       "      <td>4124.747207</td>\n",
       "      <td>32</td>\n",
       "      <td>среднее</td>\n",
       "      <td>1</td>\n",
       "      <td>женат / замужем</td>\n",
       "      <td>0</td>\n",
       "      <td>M</td>\n",
       "      <td>сотрудник</td>\n",
       "      <td>0</td>\n",
       "      <td>267628</td>\n",
       "      <td>дополнительное образование</td>\n",
       "      <td>B</td>\n",
       "      <td>получение образования</td>\n",
       "    </tr>\n",
       "    <tr>\n",
       "      <th>4</th>\n",
       "      <td>0</td>\n",
       "      <td>340266.072047</td>\n",
       "      <td>53</td>\n",
       "      <td>среднее</td>\n",
       "      <td>1</td>\n",
       "      <td>гражданский брак</td>\n",
       "      <td>1</td>\n",
       "      <td>F</td>\n",
       "      <td>пенсионер</td>\n",
       "      <td>0</td>\n",
       "      <td>158616</td>\n",
       "      <td>сыграть свадьбу</td>\n",
       "      <td>C</td>\n",
       "      <td>проведение свадьбы</td>\n",
       "    </tr>\n",
       "  </tbody>\n",
       "</table>\n",
       "</div>"
      ],
      "text/plain": [
       "   children  days_employed  dob_years education  education_id  \\\n",
       "0         1    8437.673028         42    высшее             0   \n",
       "1         1    4024.803754         36   среднее             1   \n",
       "2         0    5623.422610         33   среднее             1   \n",
       "3         3    4124.747207         32   среднее             1   \n",
       "4         0  340266.072047         53   среднее             1   \n",
       "\n",
       "      family_status  family_status_id gender income_type  debt  total_income  \\\n",
       "0   женат / замужем                 0      F   сотрудник     0        253875   \n",
       "1   женат / замужем                 0      F   сотрудник     0        112080   \n",
       "2   женат / замужем                 0      M   сотрудник     0        145885   \n",
       "3   женат / замужем                 0      M   сотрудник     0        267628   \n",
       "4  гражданский брак                 1      F   пенсионер     0        158616   \n",
       "\n",
       "                      purpose total_income_category          purpose_category  \n",
       "0               покупка жилья                     B  операции с недвижимостью  \n",
       "1     приобретение автомобиля                     C    операции с автомобилем  \n",
       "2               покупка жилья                     C  операции с недвижимостью  \n",
       "3  дополнительное образование                     B     получение образования  \n",
       "4             сыграть свадьбу                     C        проведение свадьбы  "
      ]
     },
     "execution_count": 28,
     "metadata": {},
     "output_type": "execute_result"
    }
   ],
   "source": [
    "data.head()#знакомимся с таблицей"
   ]
  },
  {
   "cell_type": "code",
   "execution_count": 29,
   "id": "454fb928",
   "metadata": {},
   "outputs": [
    {
     "data": {
      "text/plain": [
       "array([0, 1])"
      ]
     },
     "execution_count": 29,
     "metadata": {},
     "output_type": "execute_result"
    }
   ],
   "source": [
    "data['debt'].unique()#смотрим уникальные значение столбца debt\n"
   ]
  },
  {
   "cell_type": "code",
   "execution_count": 30,
   "id": "32cc88a3",
   "metadata": {},
   "outputs": [
    {
     "data": {
      "text/plain": [
       "array([1, 0, 3, 2, 4, 5])"
      ]
     },
     "execution_count": 30,
     "metadata": {},
     "output_type": "execute_result"
    }
   ],
   "source": [
    "data['children'].unique()#смотрим уникальные значение столбца children"
   ]
  },
  {
   "cell_type": "markdown",
   "id": "f826b2ec",
   "metadata": {},
   "source": [
    "#### 3.1 Есть ли зависимость между количеством детей и возвратом кредита в срок?"
   ]
  },
  {
   "cell_type": "markdown",
   "id": "c9aeebe5",
   "metadata": {},
   "source": [
    "групируем по числу детей и находим среднее просрочки из стобца debt"
   ]
  },
  {
   "cell_type": "code",
   "execution_count": 31,
   "id": "697403c2",
   "metadata": {
    "scrolled": false
   },
   "outputs": [
    {
     "data": {
      "text/plain": [
       "children\n",
       "0    0.075438\n",
       "1    0.092346\n",
       "2    0.094542\n",
       "3    0.081818\n",
       "4    0.097561\n",
       "5    0.000000\n",
       "Name: debt, dtype: float64"
      ]
     },
     "execution_count": 31,
     "metadata": {},
     "output_type": "execute_result"
    }
   ],
   "source": [
    "data.groupby('children')['debt'].mean()"
   ]
  },
  {
   "cell_type": "code",
   "execution_count": 32,
   "id": "1528a690",
   "metadata": {},
   "outputs": [
    {
     "data": {
      "text/plain": [
       "children\n",
       "0    7.543822\n",
       "1    9.234609\n",
       "2    9.454191\n",
       "3    8.181818\n",
       "4    9.756098\n",
       "5    0.000000\n",
       "Name: debt, dtype: float64"
      ]
     },
     "execution_count": 32,
     "metadata": {},
     "output_type": "execute_result"
    }
   ],
   "source": [
    "data.groupby('children')['debt'].mean()*100   #находим процент просрочки"
   ]
  },
  {
   "cell_type": "markdown",
   "id": "a8ab6b72",
   "metadata": {},
   "source": [
    "или так"
   ]
  },
  {
   "cell_type": "code",
   "execution_count": 33,
   "id": "40b42111",
   "metadata": {},
   "outputs": [
    {
     "data": {
      "text/plain": [
       "children\n",
       "0    7.543822\n",
       "1    9.234609\n",
       "2    9.454191\n",
       "3    8.181818\n",
       "4    9.756098\n",
       "5    0.000000\n",
       "Name: debt, dtype: float64"
      ]
     },
     "execution_count": 33,
     "metadata": {},
     "output_type": "execute_result"
    }
   ],
   "source": [
    "a=data.groupby('children')['debt'].sum()/data.groupby('children')['debt'].count()*100#находим процент\n",
    "a"
   ]
  },
  {
   "cell_type": "code",
   "execution_count": 34,
   "id": "d2ec2dde",
   "metadata": {
    "scrolled": true
   },
   "outputs": [
    {
     "data": {
      "text/html": [
       "<div>\n",
       "<style scoped>\n",
       "    .dataframe tbody tr th:only-of-type {\n",
       "        vertical-align: middle;\n",
       "    }\n",
       "\n",
       "    .dataframe tbody tr th {\n",
       "        vertical-align: top;\n",
       "    }\n",
       "\n",
       "    .dataframe thead tr th {\n",
       "        text-align: left;\n",
       "    }\n",
       "\n",
       "    .dataframe thead tr:last-of-type th {\n",
       "        text-align: right;\n",
       "    }\n",
       "</style>\n",
       "<table border=\"1\" class=\"dataframe\">\n",
       "  <thead>\n",
       "    <tr>\n",
       "      <th></th>\n",
       "      <th colspan=\"3\" halign=\"left\">debt</th>\n",
       "    </tr>\n",
       "    <tr>\n",
       "      <th></th>\n",
       "      <th>count</th>\n",
       "      <th>sum</th>\n",
       "      <th>mean</th>\n",
       "    </tr>\n",
       "    <tr>\n",
       "      <th>children</th>\n",
       "      <th></th>\n",
       "      <th></th>\n",
       "      <th></th>\n",
       "    </tr>\n",
       "  </thead>\n",
       "  <tbody>\n",
       "    <tr>\n",
       "      <th>0</th>\n",
       "      <td>14091</td>\n",
       "      <td>1063</td>\n",
       "      <td>0.075438</td>\n",
       "    </tr>\n",
       "    <tr>\n",
       "      <th>1</th>\n",
       "      <td>4808</td>\n",
       "      <td>444</td>\n",
       "      <td>0.092346</td>\n",
       "    </tr>\n",
       "    <tr>\n",
       "      <th>2</th>\n",
       "      <td>2052</td>\n",
       "      <td>194</td>\n",
       "      <td>0.094542</td>\n",
       "    </tr>\n",
       "    <tr>\n",
       "      <th>3</th>\n",
       "      <td>330</td>\n",
       "      <td>27</td>\n",
       "      <td>0.081818</td>\n",
       "    </tr>\n",
       "    <tr>\n",
       "      <th>4</th>\n",
       "      <td>41</td>\n",
       "      <td>4</td>\n",
       "      <td>0.097561</td>\n",
       "    </tr>\n",
       "    <tr>\n",
       "      <th>5</th>\n",
       "      <td>9</td>\n",
       "      <td>0</td>\n",
       "      <td>0.000000</td>\n",
       "    </tr>\n",
       "  </tbody>\n",
       "</table>\n",
       "</div>"
      ],
      "text/plain": [
       "           debt                \n",
       "          count   sum      mean\n",
       "children                       \n",
       "0         14091  1063  0.075438\n",
       "1          4808   444  0.092346\n",
       "2          2052   194  0.094542\n",
       "3           330    27  0.081818\n",
       "4            41     4  0.097561\n",
       "5             9     0  0.000000"
      ]
     },
     "execution_count": 34,
     "metadata": {},
     "output_type": "execute_result"
    }
   ],
   "source": [
    "data.groupby('children').agg({'debt':['count','sum','mean']})#Извените не смог сделать так что бы средное как процент показывал"
   ]
  },
  {
   "cell_type": "code",
   "execution_count": 57,
   "id": "3db9317f",
   "metadata": {},
   "outputs": [
    {
     "data": {
      "text/html": [
       "<style  type=\"text/css\" >\n",
       "</style><table id=\"T_c1d5b_\" ><thead>    <tr>        <th class=\"blank level0\" ></th>        <th class=\"col_heading level0 col0\" colspan=\"3\">debt</th>    </tr>    <tr>        <th class=\"blank level1\" ></th>        <th class=\"col_heading level1 col0\" >count</th>        <th class=\"col_heading level1 col1\" >sum</th>        <th class=\"col_heading level1 col2\" >mean</th>    </tr>    <tr>        <th class=\"index_name level0\" >children</th>        <th class=\"blank\" ></th>        <th class=\"blank\" ></th>        <th class=\"blank\" ></th>    </tr></thead><tbody>\n",
       "                <tr>\n",
       "                        <th id=\"T_c1d5b_level0_row0\" class=\"row_heading level0 row0\" >0</th>\n",
       "                        <td id=\"T_c1d5b_row0_col0\" class=\"data row0 col0\" >14091</td>\n",
       "                        <td id=\"T_c1d5b_row0_col1\" class=\"data row0 col1\" >1063</td>\n",
       "                        <td id=\"T_c1d5b_row0_col2\" class=\"data row0 col2\" >7.54%</td>\n",
       "            </tr>\n",
       "            <tr>\n",
       "                        <th id=\"T_c1d5b_level0_row1\" class=\"row_heading level0 row1\" >1</th>\n",
       "                        <td id=\"T_c1d5b_row1_col0\" class=\"data row1 col0\" >4808</td>\n",
       "                        <td id=\"T_c1d5b_row1_col1\" class=\"data row1 col1\" >444</td>\n",
       "                        <td id=\"T_c1d5b_row1_col2\" class=\"data row1 col2\" >9.23%</td>\n",
       "            </tr>\n",
       "            <tr>\n",
       "                        <th id=\"T_c1d5b_level0_row2\" class=\"row_heading level0 row2\" >2</th>\n",
       "                        <td id=\"T_c1d5b_row2_col0\" class=\"data row2 col0\" >2052</td>\n",
       "                        <td id=\"T_c1d5b_row2_col1\" class=\"data row2 col1\" >194</td>\n",
       "                        <td id=\"T_c1d5b_row2_col2\" class=\"data row2 col2\" >9.45%</td>\n",
       "            </tr>\n",
       "            <tr>\n",
       "                        <th id=\"T_c1d5b_level0_row3\" class=\"row_heading level0 row3\" >3</th>\n",
       "                        <td id=\"T_c1d5b_row3_col0\" class=\"data row3 col0\" >330</td>\n",
       "                        <td id=\"T_c1d5b_row3_col1\" class=\"data row3 col1\" >27</td>\n",
       "                        <td id=\"T_c1d5b_row3_col2\" class=\"data row3 col2\" >8.18%</td>\n",
       "            </tr>\n",
       "            <tr>\n",
       "                        <th id=\"T_c1d5b_level0_row4\" class=\"row_heading level0 row4\" >4</th>\n",
       "                        <td id=\"T_c1d5b_row4_col0\" class=\"data row4 col0\" >41</td>\n",
       "                        <td id=\"T_c1d5b_row4_col1\" class=\"data row4 col1\" >4</td>\n",
       "                        <td id=\"T_c1d5b_row4_col2\" class=\"data row4 col2\" >9.76%</td>\n",
       "            </tr>\n",
       "            <tr>\n",
       "                        <th id=\"T_c1d5b_level0_row5\" class=\"row_heading level0 row5\" >5</th>\n",
       "                        <td id=\"T_c1d5b_row5_col0\" class=\"data row5 col0\" >9</td>\n",
       "                        <td id=\"T_c1d5b_row5_col1\" class=\"data row5 col1\" >0</td>\n",
       "                        <td id=\"T_c1d5b_row5_col2\" class=\"data row5 col2\" >0.00%</td>\n",
       "            </tr>\n",
       "    </tbody></table>"
      ],
      "text/plain": [
       "<pandas.io.formats.style.Styler at 0x7f49230ff400>"
      ]
     },
     "execution_count": 57,
     "metadata": {},
     "output_type": "execute_result"
    }
   ],
   "source": [
    "#Код ревьюера\n",
    "data.groupby('children').agg({'debt':['count','sum','mean']})\\\n",
    "   .style.format({('debt', 'mean') : '{:.2%}'})"
   ]
  },
  {
   "cell_type": "code",
   "execution_count": 35,
   "id": "8eabd927",
   "metadata": {
    "scrolled": true
   },
   "outputs": [
    {
     "data": {
      "text/html": [
       "<div>\n",
       "<style scoped>\n",
       "    .dataframe tbody tr th:only-of-type {\n",
       "        vertical-align: middle;\n",
       "    }\n",
       "\n",
       "    .dataframe tbody tr th {\n",
       "        vertical-align: top;\n",
       "    }\n",
       "\n",
       "    .dataframe thead tr th {\n",
       "        text-align: left;\n",
       "    }\n",
       "\n",
       "    .dataframe thead tr:last-of-type th {\n",
       "        text-align: right;\n",
       "    }\n",
       "</style>\n",
       "<table border=\"1\" class=\"dataframe\">\n",
       "  <thead>\n",
       "    <tr>\n",
       "      <th></th>\n",
       "      <th>count</th>\n",
       "      <th>sum</th>\n",
       "      <th>mean</th>\n",
       "    </tr>\n",
       "    <tr>\n",
       "      <th></th>\n",
       "      <th>debt</th>\n",
       "      <th>debt</th>\n",
       "      <th>debt</th>\n",
       "    </tr>\n",
       "    <tr>\n",
       "      <th>children</th>\n",
       "      <th></th>\n",
       "      <th></th>\n",
       "      <th></th>\n",
       "    </tr>\n",
       "  </thead>\n",
       "  <tbody>\n",
       "    <tr>\n",
       "      <th>0</th>\n",
       "      <td>14091</td>\n",
       "      <td>1063</td>\n",
       "      <td>0.075438</td>\n",
       "    </tr>\n",
       "    <tr>\n",
       "      <th>1</th>\n",
       "      <td>4808</td>\n",
       "      <td>444</td>\n",
       "      <td>0.092346</td>\n",
       "    </tr>\n",
       "    <tr>\n",
       "      <th>2</th>\n",
       "      <td>2052</td>\n",
       "      <td>194</td>\n",
       "      <td>0.094542</td>\n",
       "    </tr>\n",
       "    <tr>\n",
       "      <th>3</th>\n",
       "      <td>330</td>\n",
       "      <td>27</td>\n",
       "      <td>0.081818</td>\n",
       "    </tr>\n",
       "    <tr>\n",
       "      <th>4</th>\n",
       "      <td>41</td>\n",
       "      <td>4</td>\n",
       "      <td>0.097561</td>\n",
       "    </tr>\n",
       "    <tr>\n",
       "      <th>5</th>\n",
       "      <td>9</td>\n",
       "      <td>0</td>\n",
       "      <td>0.000000</td>\n",
       "    </tr>\n",
       "    <tr>\n",
       "      <th>All</th>\n",
       "      <td>21331</td>\n",
       "      <td>1732</td>\n",
       "      <td>0.081196</td>\n",
       "    </tr>\n",
       "  </tbody>\n",
       "</table>\n",
       "</div>"
      ],
      "text/plain": [
       "          count   sum      mean\n",
       "           debt  debt      debt\n",
       "children                       \n",
       "0         14091  1063  0.075438\n",
       "1          4808   444  0.092346\n",
       "2          2052   194  0.094542\n",
       "3           330    27  0.081818\n",
       "4            41     4  0.097561\n",
       "5             9     0  0.000000\n",
       "All       21331  1732  0.081196"
      ]
     },
     "execution_count": 35,
     "metadata": {},
     "output_type": "execute_result"
    }
   ],
   "source": [
    "data.pivot_table(index='children',values='debt',margins=True, aggfunc=['count','sum','mean'])#то же самое с pivot_table"
   ]
  },
  {
   "cell_type": "markdown",
   "id": "d2f95ffc",
   "metadata": {},
   "source": [
    "все просрочки 8.1196 процентов"
   ]
  },
  {
   "cell_type": "code",
   "execution_count": 36,
   "id": "1003c9f4",
   "metadata": {
    "scrolled": true
   },
   "outputs": [
    {
     "data": {
      "text/plain": [
       "<AxesSubplot:ylabel='debt'>"
      ]
     },
     "execution_count": 36,
     "metadata": {},
     "output_type": "execute_result"
    },
    {
     "data": {
      "image/png": "[encoded data removed]",
      "text/plain": [
       "<Figure size 432x288 with 1 Axes>"
      ]
     },
     "metadata": {},
     "output_type": "display_data"
    }
   ],
   "source": [
    "\n",
    "\n",
    "data.groupby(['children']).count().plot(kind='pie', y='debt')#выводим диаграмму по количеству заемщиков\n"
   ]
  },
  {
   "cell_type": "code",
   "execution_count": 37,
   "id": "c4c99af8",
   "metadata": {},
   "outputs": [
    {
     "data": {
      "text/plain": [
       "<AxesSubplot:xlabel='children'>"
      ]
     },
     "execution_count": 37,
     "metadata": {},
     "output_type": "execute_result"
    },
    {
     "data": {
      "image/png": "[encoded data removed]",
      "text/plain": [
       "<Figure size 432x288 with 1 Axes>"
      ]
     },
     "metadata": {
      "needs_background": "light"
     },
     "output_type": "display_data"
    }
   ],
   "source": [
    "data.groupby(['children']).mean().plot(kind='bar', y='debt')#диограмма по долям просрочки"
   ]
  },
  {
   "cell_type": "markdown",
   "id": "2773df4b",
   "metadata": {},
   "source": [
    "<div style=\"border:solid blue 3px; padding: 20px\">\n",
    "<b>Общий комментарий ревьюера:</b>\n",
    "\n",
    "Поправь пожалуйста код, чтобы я смог проверить твою работу до конца.</div>"
   ]
  },
  {
   "cell_type": "markdown",
   "id": "d956623f",
   "metadata": {
    "deletable": false,
    "editable": false,
    "id": "c5d66278"
   },
   "source": [
    "#### 3.1 Есть ли зависимость между количеством детей и возвратом кредита в срок?"
   ]
  },
  {
   "cell_type": "markdown",
   "id": "bfb94c71",
   "metadata": {
    "deletable": false,
    "id": "3a6b99ec"
   },
   "source": [
    "**Вывод:**  мы видим что  у кого 5 детей по нашим данным не один не просрочил выплаты.остальные в пределах погрешности"
   ]
  },
  {
   "cell_type": "markdown",
   "id": "dcd3b1ae",
   "metadata": {
    "deletable": false,
    "editable": false,
    "id": "97be82ca"
   },
   "source": [
    "#### 3.2 Есть ли зависимость между семейным положением и возвратом кредита в срок?"
   ]
  },
  {
   "cell_type": "code",
   "execution_count": 38,
   "id": "b5d82757",
   "metadata": {
    "deletable": false,
    "id": "dc3f7ee8",
    "scrolled": true
   },
   "outputs": [
    {
     "data": {
      "text/plain": [
       "family_status\n",
       "Не женат / не замужем    0.097639\n",
       "гражданский брак         0.093130\n",
       "женат / замужем          0.075606\n",
       "в разводе                0.070648\n",
       "вдовец / вдова           0.066246\n",
       "Name: debt, dtype: float64"
      ]
     },
     "execution_count": 38,
     "metadata": {},
     "output_type": "execute_result"
    }
   ],
   "source": [
    "data.groupby('family_status')['debt'].mean().sort_values(ascending=False)\n"
   ]
  },
  {
   "cell_type": "code",
   "execution_count": 39,
   "id": "5d63fc13",
   "metadata": {},
   "outputs": [
    {
     "data": {
      "text/plain": [
       "family_status\n",
       "Не женат / не замужем    9.763948\n",
       "гражданский брак         9.313014\n",
       "женат / замужем          7.560558\n",
       "в разводе                7.064760\n",
       "вдовец / вдова           6.624606\n",
       "Name: debt, dtype: float64"
      ]
     },
     "execution_count": 39,
     "metadata": {},
     "output_type": "execute_result"
    }
   ],
   "source": [
    "(data.groupby('family_status')['debt'].mean()*100).sort_values(ascending=False)#находим процент"
   ]
  },
  {
   "cell_type": "code",
   "execution_count": 40,
   "id": "fbbb88ea",
   "metadata": {},
   "outputs": [
    {
     "data": {
      "text/html": [
       "<div>\n",
       "<style scoped>\n",
       "    .dataframe tbody tr th:only-of-type {\n",
       "        vertical-align: middle;\n",
       "    }\n",
       "\n",
       "    .dataframe tbody tr th {\n",
       "        vertical-align: top;\n",
       "    }\n",
       "\n",
       "    .dataframe thead tr th {\n",
       "        text-align: left;\n",
       "    }\n",
       "\n",
       "    .dataframe thead tr:last-of-type th {\n",
       "        text-align: right;\n",
       "    }\n",
       "</style>\n",
       "<table border=\"1\" class=\"dataframe\">\n",
       "  <thead>\n",
       "    <tr>\n",
       "      <th></th>\n",
       "      <th colspan=\"3\" halign=\"left\">debt</th>\n",
       "    </tr>\n",
       "    <tr>\n",
       "      <th></th>\n",
       "      <th>count</th>\n",
       "      <th>sum</th>\n",
       "      <th>mean</th>\n",
       "    </tr>\n",
       "    <tr>\n",
       "      <th>family_status</th>\n",
       "      <th></th>\n",
       "      <th></th>\n",
       "      <th></th>\n",
       "    </tr>\n",
       "  </thead>\n",
       "  <tbody>\n",
       "    <tr>\n",
       "      <th>Не женат / не замужем</th>\n",
       "      <td>2796</td>\n",
       "      <td>273</td>\n",
       "      <td>0.097639</td>\n",
       "    </tr>\n",
       "    <tr>\n",
       "      <th>в разводе</th>\n",
       "      <td>1189</td>\n",
       "      <td>84</td>\n",
       "      <td>0.070648</td>\n",
       "    </tr>\n",
       "    <tr>\n",
       "      <th>вдовец / вдова</th>\n",
       "      <td>951</td>\n",
       "      <td>63</td>\n",
       "      <td>0.066246</td>\n",
       "    </tr>\n",
       "    <tr>\n",
       "      <th>гражданский брак</th>\n",
       "      <td>4134</td>\n",
       "      <td>385</td>\n",
       "      <td>0.093130</td>\n",
       "    </tr>\n",
       "    <tr>\n",
       "      <th>женат / замужем</th>\n",
       "      <td>12261</td>\n",
       "      <td>927</td>\n",
       "      <td>0.075606</td>\n",
       "    </tr>\n",
       "  </tbody>\n",
       "</table>\n",
       "</div>"
      ],
      "text/plain": [
       "                        debt               \n",
       "                       count  sum      mean\n",
       "family_status                              \n",
       "Не женат / не замужем   2796  273  0.097639\n",
       "в разводе               1189   84  0.070648\n",
       "вдовец / вдова           951   63  0.066246\n",
       "гражданский брак        4134  385  0.093130\n",
       "женат / замужем        12261  927  0.075606"
      ]
     },
     "execution_count": 40,
     "metadata": {},
     "output_type": "execute_result"
    }
   ],
   "source": [
    "data.groupby('family_status').agg({'debt':['count','sum','mean']})"
   ]
  },
  {
   "cell_type": "code",
   "execution_count": 41,
   "id": "b268804e",
   "metadata": {},
   "outputs": [
    {
     "data": {
      "text/html": [
       "<div>\n",
       "<style scoped>\n",
       "    .dataframe tbody tr th:only-of-type {\n",
       "        vertical-align: middle;\n",
       "    }\n",
       "\n",
       "    .dataframe tbody tr th {\n",
       "        vertical-align: top;\n",
       "    }\n",
       "\n",
       "    .dataframe thead tr th {\n",
       "        text-align: left;\n",
       "    }\n",
       "\n",
       "    .dataframe thead tr:last-of-type th {\n",
       "        text-align: right;\n",
       "    }\n",
       "</style>\n",
       "<table border=\"1\" class=\"dataframe\">\n",
       "  <thead>\n",
       "    <tr>\n",
       "      <th></th>\n",
       "      <th>count</th>\n",
       "      <th>sum</th>\n",
       "      <th>mean</th>\n",
       "    </tr>\n",
       "    <tr>\n",
       "      <th></th>\n",
       "      <th>debt</th>\n",
       "      <th>debt</th>\n",
       "      <th>debt</th>\n",
       "    </tr>\n",
       "    <tr>\n",
       "      <th>family_status</th>\n",
       "      <th></th>\n",
       "      <th></th>\n",
       "      <th></th>\n",
       "    </tr>\n",
       "  </thead>\n",
       "  <tbody>\n",
       "    <tr>\n",
       "      <th>Не женат / не замужем</th>\n",
       "      <td>2796</td>\n",
       "      <td>273</td>\n",
       "      <td>0.097639</td>\n",
       "    </tr>\n",
       "    <tr>\n",
       "      <th>в разводе</th>\n",
       "      <td>1189</td>\n",
       "      <td>84</td>\n",
       "      <td>0.070648</td>\n",
       "    </tr>\n",
       "    <tr>\n",
       "      <th>вдовец / вдова</th>\n",
       "      <td>951</td>\n",
       "      <td>63</td>\n",
       "      <td>0.066246</td>\n",
       "    </tr>\n",
       "    <tr>\n",
       "      <th>гражданский брак</th>\n",
       "      <td>4134</td>\n",
       "      <td>385</td>\n",
       "      <td>0.093130</td>\n",
       "    </tr>\n",
       "    <tr>\n",
       "      <th>женат / замужем</th>\n",
       "      <td>12261</td>\n",
       "      <td>927</td>\n",
       "      <td>0.075606</td>\n",
       "    </tr>\n",
       "    <tr>\n",
       "      <th>All</th>\n",
       "      <td>21331</td>\n",
       "      <td>1732</td>\n",
       "      <td>0.081196</td>\n",
       "    </tr>\n",
       "  </tbody>\n",
       "</table>\n",
       "</div>"
      ],
      "text/plain": [
       "                       count   sum      mean\n",
       "                        debt  debt      debt\n",
       "family_status                               \n",
       "Не женат / не замужем   2796   273  0.097639\n",
       "в разводе               1189    84  0.070648\n",
       "вдовец / вдова           951    63  0.066246\n",
       "гражданский брак        4134   385  0.093130\n",
       "женат / замужем        12261   927  0.075606\n",
       "All                    21331  1732  0.081196"
      ]
     },
     "execution_count": 41,
     "metadata": {},
     "output_type": "execute_result"
    }
   ],
   "source": [
    "\n",
    "data.pivot_table(index='family_status',values='debt',margins=True, aggfunc=['count','sum','mean'])#выводим сводную таблицу"
   ]
  },
  {
   "cell_type": "code",
   "execution_count": 42,
   "id": "bf7efcb4",
   "metadata": {
    "scrolled": true
   },
   "outputs": [
    {
     "data": {
      "text/plain": [
       "<AxesSubplot:ylabel='debt'>"
      ]
     },
     "execution_count": 42,
     "metadata": {},
     "output_type": "execute_result"
    },
    {
     "data": {
      "image/png": "[encoded data removed]",
      "text/plain": [
       "<Figure size 432x288 with 1 Axes>"
      ]
     },
     "metadata": {},
     "output_type": "display_data"
    }
   ],
   "source": [
    "data.groupby(['family_status']).count().plot(kind='pie', y='debt')#выводим наглядно количество заемщиков по категориям"
   ]
  },
  {
   "cell_type": "code",
   "execution_count": 43,
   "id": "0dccd14e",
   "metadata": {},
   "outputs": [
    {
     "data": {
      "text/plain": [
       "<AxesSubplot:xlabel='family_status'>"
      ]
     },
     "execution_count": 43,
     "metadata": {},
     "output_type": "execute_result"
    },
    {
     "data": {
      "image/png": "[encoded data removed]",
      "text/plain": [
       "<Figure size 432x288 with 1 Axes>"
      ]
     },
     "metadata": {
      "needs_background": "light"
     },
     "output_type": "display_data"
    }
   ],
   "source": [
    "data.groupby(['family_status']).mean().plot(kind='bar', y='debt')#выводим наглядно среднее просрочки заемщиков по категориям"
   ]
  },
  {
   "cell_type": "markdown",
   "id": "496259e4",
   "metadata": {
    "deletable": false,
    "id": "1cef7837"
   },
   "source": [
    "**Вывод:**из наших данных следует что вдовец\\вдова самые надежные кредиторы а холостые и кто в гражданском браке очень часто опаздывают с возвратом кредита"
   ]
  },
  {
   "cell_type": "markdown",
   "id": "b3e1c615",
   "metadata": {
    "deletable": false,
    "editable": false,
    "id": "1e8b2fca"
   },
   "source": [
    "#### 3.3 Есть ли зависимость между уровнем дохода и возвратом кредита в срок?"
   ]
  },
  {
   "cell_type": "code",
   "execution_count": 44,
   "id": "7985bb36",
   "metadata": {
    "deletable": false,
    "id": "cd7e3720",
    "scrolled": false
   },
   "outputs": [
    {
     "data": {
      "text/plain": [
       "total_income_category\n",
       "E    9.090909\n",
       "C    8.498210\n",
       "A    8.000000\n",
       "B    7.060231\n",
       "D    6.017192\n",
       "Name: debt, dtype: float64"
      ]
     },
     "execution_count": 44,
     "metadata": {},
     "output_type": "execute_result"
    }
   ],
   "source": [
    "# Ваш код будет здесь. Вы можете создавать новые ячейки.\n",
    "(data.groupby('total_income_category')['debt'].mean()*100).sort_values(ascending=False)#получаем процент ненадежных заемщиков по категориям"
   ]
  },
  {
   "cell_type": "code",
   "execution_count": 45,
   "id": "a0a36ff0",
   "metadata": {},
   "outputs": [
    {
     "data": {
      "text/html": [
       "<div>\n",
       "<style scoped>\n",
       "    .dataframe tbody tr th:only-of-type {\n",
       "        vertical-align: middle;\n",
       "    }\n",
       "\n",
       "    .dataframe tbody tr th {\n",
       "        vertical-align: top;\n",
       "    }\n",
       "\n",
       "    .dataframe thead tr th {\n",
       "        text-align: left;\n",
       "    }\n",
       "\n",
       "    .dataframe thead tr:last-of-type th {\n",
       "        text-align: right;\n",
       "    }\n",
       "</style>\n",
       "<table border=\"1\" class=\"dataframe\">\n",
       "  <thead>\n",
       "    <tr>\n",
       "      <th></th>\n",
       "      <th colspan=\"3\" halign=\"left\">debt</th>\n",
       "    </tr>\n",
       "    <tr>\n",
       "      <th></th>\n",
       "      <th>count</th>\n",
       "      <th>sum</th>\n",
       "      <th>mean</th>\n",
       "    </tr>\n",
       "    <tr>\n",
       "      <th>total_income_category</th>\n",
       "      <th></th>\n",
       "      <th></th>\n",
       "      <th></th>\n",
       "    </tr>\n",
       "  </thead>\n",
       "  <tbody>\n",
       "    <tr>\n",
       "      <th>A</th>\n",
       "      <td>25</td>\n",
       "      <td>2</td>\n",
       "      <td>0.080000</td>\n",
       "    </tr>\n",
       "    <tr>\n",
       "      <th>B</th>\n",
       "      <td>5014</td>\n",
       "      <td>354</td>\n",
       "      <td>0.070602</td>\n",
       "    </tr>\n",
       "    <tr>\n",
       "      <th>C</th>\n",
       "      <td>15921</td>\n",
       "      <td>1353</td>\n",
       "      <td>0.084982</td>\n",
       "    </tr>\n",
       "    <tr>\n",
       "      <th>D</th>\n",
       "      <td>349</td>\n",
       "      <td>21</td>\n",
       "      <td>0.060172</td>\n",
       "    </tr>\n",
       "    <tr>\n",
       "      <th>E</th>\n",
       "      <td>22</td>\n",
       "      <td>2</td>\n",
       "      <td>0.090909</td>\n",
       "    </tr>\n",
       "  </tbody>\n",
       "</table>\n",
       "</div>"
      ],
      "text/plain": [
       "                        debt                \n",
       "                       count   sum      mean\n",
       "total_income_category                       \n",
       "A                         25     2  0.080000\n",
       "B                       5014   354  0.070602\n",
       "C                      15921  1353  0.084982\n",
       "D                        349    21  0.060172\n",
       "E                         22     2  0.090909"
      ]
     },
     "execution_count": 45,
     "metadata": {},
     "output_type": "execute_result"
    }
   ],
   "source": [
    "data.groupby('total_income_category').agg({'debt':['count','sum','mean']})"
   ]
  },
  {
   "cell_type": "code",
   "execution_count": 46,
   "id": "6d5b8b3d",
   "metadata": {},
   "outputs": [
    {
     "data": {
      "text/html": [
       "<div>\n",
       "<style scoped>\n",
       "    .dataframe tbody tr th:only-of-type {\n",
       "        vertical-align: middle;\n",
       "    }\n",
       "\n",
       "    .dataframe tbody tr th {\n",
       "        vertical-align: top;\n",
       "    }\n",
       "\n",
       "    .dataframe thead tr th {\n",
       "        text-align: left;\n",
       "    }\n",
       "\n",
       "    .dataframe thead tr:last-of-type th {\n",
       "        text-align: right;\n",
       "    }\n",
       "</style>\n",
       "<table border=\"1\" class=\"dataframe\">\n",
       "  <thead>\n",
       "    <tr>\n",
       "      <th></th>\n",
       "      <th>count</th>\n",
       "      <th>sum</th>\n",
       "      <th>mean</th>\n",
       "    </tr>\n",
       "    <tr>\n",
       "      <th></th>\n",
       "      <th>debt</th>\n",
       "      <th>debt</th>\n",
       "      <th>debt</th>\n",
       "    </tr>\n",
       "    <tr>\n",
       "      <th>total_income_category</th>\n",
       "      <th></th>\n",
       "      <th></th>\n",
       "      <th></th>\n",
       "    </tr>\n",
       "  </thead>\n",
       "  <tbody>\n",
       "    <tr>\n",
       "      <th>A</th>\n",
       "      <td>25</td>\n",
       "      <td>2</td>\n",
       "      <td>0.080000</td>\n",
       "    </tr>\n",
       "    <tr>\n",
       "      <th>B</th>\n",
       "      <td>5014</td>\n",
       "      <td>354</td>\n",
       "      <td>0.070602</td>\n",
       "    </tr>\n",
       "    <tr>\n",
       "      <th>C</th>\n",
       "      <td>15921</td>\n",
       "      <td>1353</td>\n",
       "      <td>0.084982</td>\n",
       "    </tr>\n",
       "    <tr>\n",
       "      <th>D</th>\n",
       "      <td>349</td>\n",
       "      <td>21</td>\n",
       "      <td>0.060172</td>\n",
       "    </tr>\n",
       "    <tr>\n",
       "      <th>E</th>\n",
       "      <td>22</td>\n",
       "      <td>2</td>\n",
       "      <td>0.090909</td>\n",
       "    </tr>\n",
       "    <tr>\n",
       "      <th>All</th>\n",
       "      <td>21331</td>\n",
       "      <td>1732</td>\n",
       "      <td>0.081196</td>\n",
       "    </tr>\n",
       "  </tbody>\n",
       "</table>\n",
       "</div>"
      ],
      "text/plain": [
       "                       count   sum      mean\n",
       "                        debt  debt      debt\n",
       "total_income_category                       \n",
       "A                         25     2  0.080000\n",
       "B                       5014   354  0.070602\n",
       "C                      15921  1353  0.084982\n",
       "D                        349    21  0.060172\n",
       "E                         22     2  0.090909\n",
       "All                    21331  1732  0.081196"
      ]
     },
     "execution_count": 46,
     "metadata": {},
     "output_type": "execute_result"
    }
   ],
   "source": [
    "data.pivot_table(index='total_income_category',values='debt',margins=True, aggfunc=['count','sum','mean'])#выводим сводную таблицу\n"
   ]
  },
  {
   "cell_type": "code",
   "execution_count": 47,
   "id": "0539c28a",
   "metadata": {},
   "outputs": [
    {
     "data": {
      "text/plain": [
       "<AxesSubplot:ylabel='debt'>"
      ]
     },
     "execution_count": 47,
     "metadata": {},
     "output_type": "execute_result"
    },
    {
     "data": {
      "image/png": "[encoded data removed]",
      "text/plain": [
       "<Figure size 432x288 with 1 Axes>"
      ]
     },
     "metadata": {},
     "output_type": "display_data"
    }
   ],
   "source": [
    "data.groupby(['total_income_category']).count().plot(kind='pie', y='debt')#выводим наглядно количество заемщиков по категориям"
   ]
  },
  {
   "cell_type": "code",
   "execution_count": 48,
   "id": "34aa20ef",
   "metadata": {},
   "outputs": [
    {
     "data": {
      "text/plain": [
       "<AxesSubplot:xlabel='total_income_category'>"
      ]
     },
     "execution_count": 48,
     "metadata": {},
     "output_type": "execute_result"
    },
    {
     "data": {
      "image/png": "[encoded data removed]",
      "text/plain": [
       "<Figure size 432x288 with 1 Axes>"
      ]
     },
     "metadata": {
      "needs_background": "light"
     },
     "output_type": "display_data"
    }
   ],
   "source": [
    "data.groupby(['total_income_category']).mean().plot(kind='bar', y='debt')#выводим наглядно количество заемщиков по категориям"
   ]
  },
  {
   "cell_type": "markdown",
   "id": "9507161c",
   "metadata": {
    "deletable": false,
    "id": "e8593def"
   },
   "source": [
    "**Вывод:** из наших данных следует что люди с доходом категории D(от 50000 до 200000)  самые надежные кредиторы а в категории  С(от200000 до1000000) и E (от 30001 до 50000)самые ненадежные."
   ]
  },
  {
   "cell_type": "markdown",
   "id": "0feca590",
   "metadata": {
    "deletable": false,
    "editable": false,
    "id": "99ecbd1f"
   },
   "source": [
    "#### 3.4 Как разные цели кредита влияют на его возврат в срок?"
   ]
  },
  {
   "cell_type": "code",
   "execution_count": 49,
   "id": "4cae6e28",
   "metadata": {
    "deletable": false,
    "id": "2b687290"
   },
   "outputs": [
    {
     "data": {
      "text/plain": [
       "purpose_category\n",
       "операции с автомобилем      9.347978\n",
       "получение образования       9.252758\n",
       "проведение свадьбы          7.911803\n",
       "операции с недвижимостью    7.255139\n",
       "Name: debt, dtype: float64"
      ]
     },
     "execution_count": 49,
     "metadata": {},
     "output_type": "execute_result"
    }
   ],
   "source": [
    "# Ваш код будет здесь. Вы можете создавать новые ячейки.\n",
    "(data.groupby('purpose_category')['debt'].mean()*100).sort_values(ascending=False)#Находим процент"
   ]
  },
  {
   "cell_type": "code",
   "execution_count": 50,
   "id": "c185a645",
   "metadata": {},
   "outputs": [
    {
     "data": {
      "text/html": [
       "<div>\n",
       "<style scoped>\n",
       "    .dataframe tbody tr th:only-of-type {\n",
       "        vertical-align: middle;\n",
       "    }\n",
       "\n",
       "    .dataframe tbody tr th {\n",
       "        vertical-align: top;\n",
       "    }\n",
       "\n",
       "    .dataframe thead tr th {\n",
       "        text-align: left;\n",
       "    }\n",
       "\n",
       "    .dataframe thead tr:last-of-type th {\n",
       "        text-align: right;\n",
       "    }\n",
       "</style>\n",
       "<table border=\"1\" class=\"dataframe\">\n",
       "  <thead>\n",
       "    <tr>\n",
       "      <th></th>\n",
       "      <th colspan=\"3\" halign=\"left\">debt</th>\n",
       "    </tr>\n",
       "    <tr>\n",
       "      <th></th>\n",
       "      <th>count</th>\n",
       "      <th>sum</th>\n",
       "      <th>mean</th>\n",
       "    </tr>\n",
       "    <tr>\n",
       "      <th>purpose_category</th>\n",
       "      <th></th>\n",
       "      <th></th>\n",
       "      <th></th>\n",
       "    </tr>\n",
       "  </thead>\n",
       "  <tbody>\n",
       "    <tr>\n",
       "      <th>операции с автомобилем</th>\n",
       "      <td>4279</td>\n",
       "      <td>400</td>\n",
       "      <td>0.093480</td>\n",
       "    </tr>\n",
       "    <tr>\n",
       "      <th>операции с недвижимостью</th>\n",
       "      <td>10751</td>\n",
       "      <td>780</td>\n",
       "      <td>0.072551</td>\n",
       "    </tr>\n",
       "    <tr>\n",
       "      <th>получение образования</th>\n",
       "      <td>3988</td>\n",
       "      <td>369</td>\n",
       "      <td>0.092528</td>\n",
       "    </tr>\n",
       "    <tr>\n",
       "      <th>проведение свадьбы</th>\n",
       "      <td>2313</td>\n",
       "      <td>183</td>\n",
       "      <td>0.079118</td>\n",
       "    </tr>\n",
       "  </tbody>\n",
       "</table>\n",
       "</div>"
      ],
      "text/plain": [
       "                           debt               \n",
       "                          count  sum      mean\n",
       "purpose_category                              \n",
       "операции с автомобилем     4279  400  0.093480\n",
       "операции с недвижимостью  10751  780  0.072551\n",
       "получение образования      3988  369  0.092528\n",
       "проведение свадьбы         2313  183  0.079118"
      ]
     },
     "execution_count": 50,
     "metadata": {},
     "output_type": "execute_result"
    }
   ],
   "source": [
    "data.groupby('purpose_category').agg({'debt':['count','sum','mean']})"
   ]
  },
  {
   "cell_type": "code",
   "execution_count": 51,
   "id": "bbb7e997",
   "metadata": {
    "scrolled": false
   },
   "outputs": [
    {
     "data": {
      "text/html": [
       "<div>\n",
       "<style scoped>\n",
       "    .dataframe tbody tr th:only-of-type {\n",
       "        vertical-align: middle;\n",
       "    }\n",
       "\n",
       "    .dataframe tbody tr th {\n",
       "        vertical-align: top;\n",
       "    }\n",
       "\n",
       "    .dataframe thead tr th {\n",
       "        text-align: left;\n",
       "    }\n",
       "\n",
       "    .dataframe thead tr:last-of-type th {\n",
       "        text-align: right;\n",
       "    }\n",
       "</style>\n",
       "<table border=\"1\" class=\"dataframe\">\n",
       "  <thead>\n",
       "    <tr>\n",
       "      <th></th>\n",
       "      <th>count</th>\n",
       "      <th>sum</th>\n",
       "      <th>mean</th>\n",
       "    </tr>\n",
       "    <tr>\n",
       "      <th></th>\n",
       "      <th>debt</th>\n",
       "      <th>debt</th>\n",
       "      <th>debt</th>\n",
       "    </tr>\n",
       "    <tr>\n",
       "      <th>purpose_category</th>\n",
       "      <th></th>\n",
       "      <th></th>\n",
       "      <th></th>\n",
       "    </tr>\n",
       "  </thead>\n",
       "  <tbody>\n",
       "    <tr>\n",
       "      <th>операции с автомобилем</th>\n",
       "      <td>4279</td>\n",
       "      <td>400</td>\n",
       "      <td>0.093480</td>\n",
       "    </tr>\n",
       "    <tr>\n",
       "      <th>операции с недвижимостью</th>\n",
       "      <td>10751</td>\n",
       "      <td>780</td>\n",
       "      <td>0.072551</td>\n",
       "    </tr>\n",
       "    <tr>\n",
       "      <th>получение образования</th>\n",
       "      <td>3988</td>\n",
       "      <td>369</td>\n",
       "      <td>0.092528</td>\n",
       "    </tr>\n",
       "    <tr>\n",
       "      <th>проведение свадьбы</th>\n",
       "      <td>2313</td>\n",
       "      <td>183</td>\n",
       "      <td>0.079118</td>\n",
       "    </tr>\n",
       "    <tr>\n",
       "      <th>All</th>\n",
       "      <td>21331</td>\n",
       "      <td>1732</td>\n",
       "      <td>0.081196</td>\n",
       "    </tr>\n",
       "  </tbody>\n",
       "</table>\n",
       "</div>"
      ],
      "text/plain": [
       "                          count   sum      mean\n",
       "                           debt  debt      debt\n",
       "purpose_category                               \n",
       "операции с автомобилем     4279   400  0.093480\n",
       "операции с недвижимостью  10751   780  0.072551\n",
       "получение образования      3988   369  0.092528\n",
       "проведение свадьбы         2313   183  0.079118\n",
       "All                       21331  1732  0.081196"
      ]
     },
     "execution_count": 51,
     "metadata": {},
     "output_type": "execute_result"
    }
   ],
   "source": [
    "data.pivot_table(index='purpose_category',values='debt',margins=True, aggfunc=['count','sum','mean'])#выводим сводную таблицу\n"
   ]
  },
  {
   "cell_type": "code",
   "execution_count": 52,
   "id": "f755627f",
   "metadata": {},
   "outputs": [
    {
     "data": {
      "text/plain": [
       "<AxesSubplot:ylabel='debt'>"
      ]
     },
     "execution_count": 52,
     "metadata": {},
     "output_type": "execute_result"
    },
    {
     "data": {
      "image/png": "[encoded data removed]",
      "text/plain": [
       "<Figure size 432x288 with 1 Axes>"
      ]
     },
     "metadata": {},
     "output_type": "display_data"
    }
   ],
   "source": [
    "data.groupby(['purpose_category']).count().plot(kind='pie', y='debt')"
   ]
  },
  {
   "cell_type": "code",
   "execution_count": 53,
   "id": "ffdbb28c",
   "metadata": {},
   "outputs": [
    {
     "data": {
      "text/plain": [
       "<AxesSubplot:xlabel='purpose_category'>"
      ]
     },
     "execution_count": 53,
     "metadata": {},
     "output_type": "execute_result"
    },
    {
     "data": {
      "image/png": "[encoded data removed]",
      "text/plain": [
       "<Figure size 432x288 with 1 Axes>"
      ]
     },
     "metadata": {
      "needs_background": "light"
     },
     "output_type": "display_data"
    }
   ],
   "source": [
    "data.groupby(['purpose_category']).mean().plot(kind='bar', y='debt')"
   ]
  },
  {
   "cell_type": "markdown",
   "id": "2b08e4ac",
   "metadata": {
    "deletable": false,
    "id": "b4bb2ce6"
   },
   "source": [
    "**Вывод:** операции с автомобилем самые не надежные кредиторы потом получение образования потом проведение свадьбы и самые надежные операции с недвижимостью "
   ]
  },
  {
   "cell_type": "markdown",
   "id": "64ac447c",
   "metadata": {
    "deletable": false,
    "editable": false,
    "id": "09c3ac4c"
   },
   "source": [
    "#### 3.5 Приведите возможные причины появления пропусков в исходных данных."
   ]
  },
  {
   "cell_type": "markdown",
   "id": "e9080c81",
   "metadata": {
    "deletable": false,
    "id": "9da2ceda"
   },
   "source": [
    "*Ответ:* человеческый фактор или некоректная работа программы"
   ]
  },
  {
   "cell_type": "markdown",
   "id": "785953dc",
   "metadata": {},
   "source": [
    "Пропуски бывают трёх типов:\n",
    "    Полностью случайные: если вероятность встретить пропуск независит ни от каких других значений.\n",
    "    Случайные:если вероятность пропуска зависит от других значений в\n",
    "наборе данных, но не от значений собственного столбца.\n",
    "    Неслучайные: если вероятность пропуска зависит от других\n",
    "значений, в том числе и от значений собственного столбца"
   ]
  },
  {
   "cell_type": "markdown",
   "id": "ad2a0850",
   "metadata": {
    "deletable": false,
    "editable": false,
    "id": "7b0487d6"
   },
   "source": [
    "#### 3.6 Объясните, почему заполнить пропуски медианным значением — лучшее решение для количественных переменных."
   ]
  },
  {
   "cell_type": "markdown",
   "id": "8679123f",
   "metadata": {
    "deletable": false,
    "id": "7ecf2b8e"
   },
   "source": [
    "*Ответ:*  медианное значение не может сильно отличатся и не будет искажать исходные данные. среднее значение может сильно исказить наши расчеты если в исходных данных есть экстремально большие или маленькие значение."
   ]
  },
  {
   "cell_type": "markdown",
   "id": "afcd2d23",
   "metadata": {
    "deletable": false,
    "editable": false,
    "id": "6db5255a"
   },
   "source": [
    "### Шаг 4: общий вывод."
   ]
  },
  {
   "cell_type": "markdown",
   "id": "b3778983",
   "metadata": {
    "deletable": false,
    "id": "bad65432"
   },
   "source": [
    "Напишите ваш общий вывод."
   ]
  },
  {
   "cell_type": "markdown",
   "id": "12e4f338",
   "metadata": {},
   "source": [
    "самые надежные кредиторы это пожелые люди женатие\\замужные более 5  детей с зарплатой от 50000 до 200000 \n",
    "самые не надежные это молодые холостые без детей с доходом категории С(от200000 до1000000) и E (от 30001 до 50000)"
   ]
  },
  {
   "cell_type": "markdown",
   "id": "b7ec7c14",
   "metadata": {},
   "source": [
    "все просрочки 8.1196 процентов\n",
    "Вывод: мы видим что у кого 5 детей по нашим данным не один не просрочил выплаты. А у кого нет детей брали много и платили тоже довольно не плохо. Но так как разброс в количестве займов слишком большой я бы не стал делать выводы по возврату займов. однозначно одно что у кого нет детей больше берут заем.\n",
    "\n",
    "очевидно что вдовец\\вдова самые надежные кредиторы а холостые и кто в гражданском браке очень часто опаздывают с возвратом кредита возможно это связано со стилем жизни людей.\n",
    "\n",
    "\n",
    "из наших данных следует что люди с доходом категории D(от 50000 до 200000) самые надежные кредиторы а в категории С(от200000 до1000000) и E (от 30001 до 50000)самые ненадежные. в группах А и Е очень мало займов так что возможно не корректные выводи по ним а в категории С охотно берут заем\n",
    "\n",
    "операции с автомобилем самые не надежные кредиторы потом получение образования потом проведение свадьбы и самые надежные операции с недвижимостью. Дополнительно стоит сравнить эти данные с данными по возрасту возможны какие то зависимости.\n",
    "\n",
    "требуется изучить образование возраст и вообще дело передать психологам))))"
   ]
  },
  {
   "cell_type": "code",
   "execution_count": 54,
   "id": "b609b9f2",
   "metadata": {},
   "outputs": [
    {
     "data": {
      "text/plain": [
       "mean  debt    1.0\n",
       "dtype: float64"
      ]
     },
     "execution_count": 54,
     "metadata": {},
     "output_type": "execute_result"
    }
   ],
   "source": [
    "data.pivot_table(index=['family_status','children','purpose_category','total_income_category'],values='debt',margins=True, aggfunc=['mean']).max()"
   ]
  },
  {
   "cell_type": "code",
   "execution_count": null,
   "id": "1690f54e",
   "metadata": {},
   "outputs": [],
   "source": []
  }
 ],
 "metadata": {
  "ExecuteTimeLog": [
   {
    "duration": 456,
    "start_time": "2022-09-04T18:46:56.431Z"
   },
   {
    "duration": 22,
    "start_time": "2022-09-04T18:46:56.889Z"
   },
   {
    "duration": 13,
    "start_time": "2022-09-04T18:46:56.913Z"
   },
   {
    "duration": 14,
    "start_time": "2022-09-04T18:46:56.929Z"
   },
   {
    "duration": 52,
    "start_time": "2022-09-04T18:46:56.946Z"
   },
   {
    "duration": 4,
    "start_time": "2022-09-04T18:46:57.000Z"
   },
   {
    "duration": 21,
    "start_time": "2022-09-04T18:46:57.006Z"
   },
   {
    "duration": 12,
    "start_time": "2022-09-04T18:46:57.030Z"
   },
   {
    "duration": 27,
    "start_time": "2022-09-04T18:46:57.044Z"
   },
   {
    "duration": 14,
    "start_time": "2022-09-04T18:46:57.073Z"
   },
   {
    "duration": 50,
    "start_time": "2022-09-04T18:46:57.090Z"
   },
   {
    "duration": 9,
    "start_time": "2022-09-04T18:46:57.142Z"
   },
   {
    "duration": 13,
    "start_time": "2022-09-04T18:46:57.152Z"
   },
   {
    "duration": 25,
    "start_time": "2022-09-04T18:46:57.167Z"
   },
   {
    "duration": 26,
    "start_time": "2022-09-04T18:46:57.194Z"
   },
   {
    "duration": 18,
    "start_time": "2022-09-04T18:46:57.222Z"
   },
   {
    "duration": 4,
    "start_time": "2022-09-04T18:46:57.242Z"
   },
   {
    "duration": 14,
    "start_time": "2022-09-04T18:46:57.247Z"
   },
   {
    "duration": 9,
    "start_time": "2022-09-04T18:46:57.262Z"
   },
   {
    "duration": 3,
    "start_time": "2022-09-04T18:46:57.273Z"
   },
   {
    "duration": 28,
    "start_time": "2022-09-04T18:46:57.278Z"
   },
   {
    "duration": 5,
    "start_time": "2022-09-04T18:46:57.308Z"
   },
   {
    "duration": 6,
    "start_time": "2022-09-04T18:46:57.314Z"
   },
   {
    "duration": 5,
    "start_time": "2022-09-04T18:46:57.322Z"
   },
   {
    "duration": 5,
    "start_time": "2022-09-04T18:46:57.329Z"
   },
   {
    "duration": 19,
    "start_time": "2022-09-04T18:52:13.376Z"
   },
   {
    "duration": 19,
    "start_time": "2022-09-04T19:07:09.265Z"
   },
   {
    "duration": 29,
    "start_time": "2022-09-04T19:07:54.513Z"
   },
   {
    "duration": 18,
    "start_time": "2022-09-04T19:09:30.113Z"
   },
   {
    "duration": 13,
    "start_time": "2022-09-04T19:11:29.885Z"
   },
   {
    "duration": 5,
    "start_time": "2022-09-04T19:17:10.478Z"
   },
   {
    "duration": 6,
    "start_time": "2022-09-04T19:17:29.699Z"
   },
   {
    "duration": 1087,
    "start_time": "2022-09-04T19:23:10.971Z"
   },
   {
    "duration": 417,
    "start_time": "2022-09-04T19:23:20.894Z"
   },
   {
    "duration": 17,
    "start_time": "2022-09-04T19:24:21.378Z"
   },
   {
    "duration": 394,
    "start_time": "2022-09-04T19:24:30.878Z"
   },
   {
    "duration": 23,
    "start_time": "2022-09-04T19:29:55.225Z"
   },
   {
    "duration": 20,
    "start_time": "2022-09-04T19:30:17.068Z"
   },
   {
    "duration": 21,
    "start_time": "2022-09-04T19:30:29.006Z"
   },
   {
    "duration": 10,
    "start_time": "2022-09-04T19:33:53.725Z"
   },
   {
    "duration": 5,
    "start_time": "2022-09-04T19:34:32.957Z"
   },
   {
    "duration": 16,
    "start_time": "2022-09-04T19:39:26.857Z"
   },
   {
    "duration": 17,
    "start_time": "2022-09-04T19:39:42.936Z"
   },
   {
    "duration": 389,
    "start_time": "2022-09-04T19:39:50.632Z"
   },
   {
    "duration": 58,
    "start_time": "2022-09-04T19:40:17.862Z"
   },
   {
    "duration": 16,
    "start_time": "2022-09-04T19:40:25.194Z"
   },
   {
    "duration": 391,
    "start_time": "2022-09-04T19:40:37.026Z"
   },
   {
    "duration": 18,
    "start_time": "2022-09-04T19:41:36.143Z"
   },
   {
    "duration": 12,
    "start_time": "2022-09-04T19:42:23.233Z"
   },
   {
    "duration": 12,
    "start_time": "2022-09-04T19:43:24.408Z"
   },
   {
    "duration": 2056,
    "start_time": "2022-09-04T19:44:18.613Z"
   },
   {
    "duration": 1105,
    "start_time": "2022-09-04T19:44:33.619Z"
   },
   {
    "duration": 921,
    "start_time": "2022-09-04T19:44:41.559Z"
   },
   {
    "duration": 923,
    "start_time": "2022-09-04T19:45:46.759Z"
   },
   {
    "duration": 23,
    "start_time": "2022-09-04T19:46:00.989Z"
   },
   {
    "duration": 19,
    "start_time": "2022-09-04T19:46:05.379Z"
   },
   {
    "duration": 25,
    "start_time": "2022-09-04T19:46:10.796Z"
   },
   {
    "duration": 13,
    "start_time": "2022-09-04T19:49:31.347Z"
   },
   {
    "duration": 34,
    "start_time": "2022-09-04T19:57:17.425Z"
   },
   {
    "duration": 19,
    "start_time": "2022-09-04T19:58:45.540Z"
   },
   {
    "duration": 27,
    "start_time": "2022-09-04T19:58:57.019Z"
   },
   {
    "duration": 38,
    "start_time": "2022-09-04T19:59:03.804Z"
   },
   {
    "duration": 25,
    "start_time": "2022-09-04T20:00:03.486Z"
   },
   {
    "duration": 13,
    "start_time": "2022-09-04T20:00:22.192Z"
   },
   {
    "duration": 35,
    "start_time": "2022-09-04T20:00:26.706Z"
   },
   {
    "duration": 15,
    "start_time": "2022-09-04T20:01:59.104Z"
   },
   {
    "duration": 20,
    "start_time": "2022-09-04T20:02:18.075Z"
   },
   {
    "duration": 22,
    "start_time": "2022-09-04T20:02:40.863Z"
   },
   {
    "duration": 10,
    "start_time": "2022-09-04T20:03:17.693Z"
   },
   {
    "duration": 281,
    "start_time": "2022-09-04T20:04:07.141Z"
   },
   {
    "duration": 428,
    "start_time": "2022-09-04T20:04:51.932Z"
   },
   {
    "duration": 20,
    "start_time": "2022-09-04T20:05:34.524Z"
   },
   {
    "duration": 51,
    "start_time": "2022-09-04T20:06:29.842Z"
   },
   {
    "duration": 66,
    "start_time": "2022-09-04T20:06:46.971Z"
   },
   {
    "duration": 94,
    "start_time": "2022-09-04T20:07:16.415Z"
   },
   {
    "duration": 417,
    "start_time": "2022-09-04T20:07:36.826Z"
   },
   {
    "duration": 12,
    "start_time": "2022-09-04T20:08:15.790Z"
   },
   {
    "duration": 463,
    "start_time": "2022-09-04T20:08:23.192Z"
   },
   {
    "duration": 147,
    "start_time": "2022-09-04T20:09:26.177Z"
   },
   {
    "duration": 525,
    "start_time": "2022-09-04T20:09:38.709Z"
   },
   {
    "duration": 6,
    "start_time": "2022-09-04T20:13:03.706Z"
   },
   {
    "duration": 5,
    "start_time": "2022-09-04T20:13:06.583Z"
   },
   {
    "duration": 743,
    "start_time": "2022-09-04T20:14:12.172Z"
   },
   {
    "duration": 662,
    "start_time": "2022-09-04T20:14:28.743Z"
   },
   {
    "duration": 168,
    "start_time": "2022-09-04T20:15:19.794Z"
   },
   {
    "duration": 5,
    "start_time": "2022-09-04T20:16:00.103Z"
   },
   {
    "duration": 163,
    "start_time": "2022-09-04T20:17:46.808Z"
   },
   {
    "duration": 5,
    "start_time": "2022-09-04T20:17:59.147Z"
   },
   {
    "duration": 188,
    "start_time": "2022-09-04T20:18:03.383Z"
   },
   {
    "duration": 141,
    "start_time": "2022-09-04T20:18:22.350Z"
   },
   {
    "duration": 178,
    "start_time": "2022-09-04T20:19:56.896Z"
   },
   {
    "duration": 227,
    "start_time": "2022-09-04T20:20:34.957Z"
   },
   {
    "duration": 165,
    "start_time": "2022-09-04T20:21:02.754Z"
   },
   {
    "duration": 111,
    "start_time": "2022-09-04T20:21:25.792Z"
   },
   {
    "duration": 14,
    "start_time": "2022-09-04T20:21:54.191Z"
   },
   {
    "duration": 402,
    "start_time": "2022-09-04T20:22:47.241Z"
   },
   {
    "duration": 10,
    "start_time": "2022-09-04T20:23:01.671Z"
   },
   {
    "duration": 466,
    "start_time": "2022-09-04T20:23:12.169Z"
   },
   {
    "duration": 144,
    "start_time": "2022-09-04T20:23:43.020Z"
   },
   {
    "duration": 162,
    "start_time": "2022-09-04T20:24:28.708Z"
   },
   {
    "duration": 13,
    "start_time": "2022-09-04T20:25:58.817Z"
   },
   {
    "duration": 12,
    "start_time": "2022-09-04T20:26:03.721Z"
   },
   {
    "duration": 144,
    "start_time": "2022-09-04T20:26:09.592Z"
   },
   {
    "duration": 11,
    "start_time": "2022-09-04T20:26:24.412Z"
   },
   {
    "duration": 10,
    "start_time": "2022-09-04T20:26:49.776Z"
   },
   {
    "duration": 512,
    "start_time": "2022-09-04T20:27:04.557Z"
   },
   {
    "duration": 9,
    "start_time": "2022-09-04T20:27:13.303Z"
   },
   {
    "duration": 9,
    "start_time": "2022-09-04T20:27:18.642Z"
   },
   {
    "duration": 10,
    "start_time": "2022-09-04T20:27:24.856Z"
   },
   {
    "duration": 7,
    "start_time": "2022-09-04T20:27:30.441Z"
   },
   {
    "duration": 10,
    "start_time": "2022-09-04T20:27:39.192Z"
   },
   {
    "duration": 411,
    "start_time": "2022-09-04T20:28:01.157Z"
   },
   {
    "duration": 6,
    "start_time": "2022-09-04T20:30:41.044Z"
   },
   {
    "duration": 173,
    "start_time": "2022-09-04T20:30:50.260Z"
   },
   {
    "duration": 9,
    "start_time": "2022-09-04T20:33:34.113Z"
   },
   {
    "duration": 170,
    "start_time": "2022-09-04T20:35:48.386Z"
   },
   {
    "duration": 130,
    "start_time": "2022-09-04T20:36:43.596Z"
   },
   {
    "duration": 150,
    "start_time": "2022-09-04T20:37:49.956Z"
   },
   {
    "duration": 12,
    "start_time": "2022-09-04T20:38:03.290Z"
   },
   {
    "duration": 11,
    "start_time": "2022-09-04T20:38:13.406Z"
   },
   {
    "duration": 6,
    "start_time": "2022-09-04T20:38:59.846Z"
   },
   {
    "duration": 138,
    "start_time": "2022-09-04T20:39:06.439Z"
   },
   {
    "duration": 158,
    "start_time": "2022-09-04T20:39:29.776Z"
   },
   {
    "duration": 6,
    "start_time": "2022-09-04T20:39:54.946Z"
   },
   {
    "duration": 5,
    "start_time": "2022-09-04T20:40:09.737Z"
   },
   {
    "duration": 269,
    "start_time": "2022-09-04T20:40:22.395Z"
   },
   {
    "duration": 17,
    "start_time": "2022-09-04T20:41:11.215Z"
   },
   {
    "duration": 13,
    "start_time": "2022-09-04T20:41:14.816Z"
   },
   {
    "duration": 5,
    "start_time": "2022-09-04T20:41:17.965Z"
   },
   {
    "duration": 5,
    "start_time": "2022-09-04T20:41:20.345Z"
   },
   {
    "duration": 164,
    "start_time": "2022-09-04T20:41:22.987Z"
   },
   {
    "duration": 490,
    "start_time": "2022-09-04T20:49:49.166Z"
   },
   {
    "duration": 23,
    "start_time": "2022-09-04T20:49:49.658Z"
   },
   {
    "duration": 22,
    "start_time": "2022-09-04T20:49:49.683Z"
   },
   {
    "duration": 11,
    "start_time": "2022-09-04T20:49:49.706Z"
   },
   {
    "duration": 35,
    "start_time": "2022-09-04T20:49:49.720Z"
   },
   {
    "duration": 4,
    "start_time": "2022-09-04T20:49:49.756Z"
   },
   {
    "duration": 12,
    "start_time": "2022-09-04T20:49:49.762Z"
   },
   {
    "duration": 6,
    "start_time": "2022-09-04T20:49:49.803Z"
   },
   {
    "duration": 12,
    "start_time": "2022-09-04T20:49:49.810Z"
   },
   {
    "duration": 5,
    "start_time": "2022-09-04T20:49:49.824Z"
   },
   {
    "duration": 36,
    "start_time": "2022-09-04T20:49:49.830Z"
   },
   {
    "duration": 37,
    "start_time": "2022-09-04T20:49:49.868Z"
   },
   {
    "duration": 5,
    "start_time": "2022-09-04T20:49:49.906Z"
   },
   {
    "duration": 14,
    "start_time": "2022-09-04T20:49:49.914Z"
   },
   {
    "duration": 20,
    "start_time": "2022-09-04T20:49:49.930Z"
   },
   {
    "duration": 19,
    "start_time": "2022-09-04T20:49:49.952Z"
   },
   {
    "duration": 30,
    "start_time": "2022-09-04T20:49:49.974Z"
   },
   {
    "duration": 13,
    "start_time": "2022-09-04T20:49:50.006Z"
   },
   {
    "duration": 12,
    "start_time": "2022-09-04T20:49:50.021Z"
   },
   {
    "duration": 4,
    "start_time": "2022-09-04T20:49:50.035Z"
   },
   {
    "duration": 23,
    "start_time": "2022-09-04T20:49:50.041Z"
   },
   {
    "duration": 47,
    "start_time": "2022-09-04T20:49:50.066Z"
   },
   {
    "duration": 16,
    "start_time": "2022-09-04T20:49:50.115Z"
   },
   {
    "duration": 7,
    "start_time": "2022-09-04T20:49:50.133Z"
   },
   {
    "duration": 7,
    "start_time": "2022-09-04T20:49:50.142Z"
   },
   {
    "duration": 39,
    "start_time": "2022-09-04T20:49:50.150Z"
   },
   {
    "duration": 0,
    "start_time": "2022-09-04T20:49:50.191Z"
   },
   {
    "duration": 0,
    "start_time": "2022-09-04T20:49:50.193Z"
   },
   {
    "duration": 9,
    "start_time": "2022-09-04T20:50:01.107Z"
   },
   {
    "duration": 7,
    "start_time": "2022-09-04T21:00:41.746Z"
   },
   {
    "duration": 8,
    "start_time": "2022-09-04T21:01:07.183Z"
   },
   {
    "duration": 12,
    "start_time": "2022-09-04T21:03:44.367Z"
   },
   {
    "duration": 9,
    "start_time": "2022-09-04T21:07:01.368Z"
   },
   {
    "duration": 9,
    "start_time": "2022-09-04T21:07:18.159Z"
   },
   {
    "duration": 8,
    "start_time": "2022-09-04T21:11:27.110Z"
   },
   {
    "duration": 7,
    "start_time": "2022-09-04T21:12:41.918Z"
   },
   {
    "duration": 7,
    "start_time": "2022-09-04T21:19:36.629Z"
   },
   {
    "duration": 7,
    "start_time": "2022-09-04T21:27:49.370Z"
   },
   {
    "duration": 4,
    "start_time": "2022-09-04T21:28:26.379Z"
   },
   {
    "duration": 4,
    "start_time": "2022-09-04T21:29:31.539Z"
   },
   {
    "duration": 4,
    "start_time": "2022-09-04T21:43:44.900Z"
   },
   {
    "duration": 14,
    "start_time": "2022-09-04T21:43:46.935Z"
   },
   {
    "duration": 9,
    "start_time": "2022-09-04T21:43:48.686Z"
   },
   {
    "duration": 4,
    "start_time": "2022-09-04T21:44:49.533Z"
   },
   {
    "duration": 13,
    "start_time": "2022-09-04T21:44:50.047Z"
   },
   {
    "duration": 11,
    "start_time": "2022-09-04T21:44:50.556Z"
   },
   {
    "duration": 5,
    "start_time": "2022-09-04T21:45:35.346Z"
   },
   {
    "duration": 8,
    "start_time": "2022-09-04T21:45:35.799Z"
   },
   {
    "duration": 9,
    "start_time": "2022-09-04T21:45:36.458Z"
   },
   {
    "duration": 8,
    "start_time": "2022-09-04T21:48:47.159Z"
   },
   {
    "duration": 9,
    "start_time": "2022-09-04T21:49:27.043Z"
   },
   {
    "duration": 11,
    "start_time": "2022-09-04T21:50:29.144Z"
   },
   {
    "duration": 11,
    "start_time": "2022-09-04T21:50:57.665Z"
   },
   {
    "duration": 44,
    "start_time": "2022-09-04T21:51:54.595Z"
   },
   {
    "duration": 3,
    "start_time": "2022-09-04T21:52:02.821Z"
   },
   {
    "duration": 9,
    "start_time": "2022-09-04T21:52:05.842Z"
   },
   {
    "duration": 8,
    "start_time": "2022-09-04T21:52:07.064Z"
   },
   {
    "duration": 12,
    "start_time": "2022-09-04T21:52:08.127Z"
   },
   {
    "duration": 10,
    "start_time": "2022-09-04T21:52:49.072Z"
   },
   {
    "duration": 9,
    "start_time": "2022-09-04T21:53:00.741Z"
   },
   {
    "duration": 9,
    "start_time": "2022-09-04T21:53:10.070Z"
   },
   {
    "duration": 4,
    "start_time": "2022-09-04T21:55:01.973Z"
   },
   {
    "duration": 8,
    "start_time": "2022-09-04T21:55:03.144Z"
   },
   {
    "duration": 8,
    "start_time": "2022-09-04T21:55:03.822Z"
   },
   {
    "duration": 8,
    "start_time": "2022-09-04T21:56:57.544Z"
   },
   {
    "duration": 8,
    "start_time": "2022-09-04T21:57:44.901Z"
   },
   {
    "duration": 8,
    "start_time": "2022-09-04T21:59:34.202Z"
   },
   {
    "duration": 12,
    "start_time": "2022-09-04T21:59:40.872Z"
   },
   {
    "duration": 8,
    "start_time": "2022-09-04T22:00:12.822Z"
   },
   {
    "duration": 10,
    "start_time": "2022-09-04T22:00:22.411Z"
   },
   {
    "duration": 8,
    "start_time": "2022-09-04T22:00:36.003Z"
   },
   {
    "duration": 9,
    "start_time": "2022-09-04T22:01:39.978Z"
   },
   {
    "duration": 8,
    "start_time": "2022-09-04T22:01:48.497Z"
   },
   {
    "duration": 9,
    "start_time": "2022-09-04T22:01:58.097Z"
   },
   {
    "duration": 7,
    "start_time": "2022-09-04T22:02:27.020Z"
   },
   {
    "duration": 1657,
    "start_time": "2022-09-04T22:05:46.232Z"
   },
   {
    "duration": 8,
    "start_time": "2022-09-04T22:05:50.562Z"
   },
   {
    "duration": 1189,
    "start_time": "2022-09-04T22:06:14.462Z"
   },
   {
    "duration": 382,
    "start_time": "2022-09-04T22:06:28.222Z"
   },
   {
    "duration": 350,
    "start_time": "2022-09-04T22:08:09.742Z"
   },
   {
    "duration": 341,
    "start_time": "2022-09-04T22:08:46.136Z"
   },
   {
    "duration": 340,
    "start_time": "2022-09-04T22:08:53.538Z"
   },
   {
    "duration": 341,
    "start_time": "2022-09-04T22:10:35.516Z"
   },
   {
    "duration": 6,
    "start_time": "2022-09-04T22:11:27.899Z"
   },
   {
    "duration": 132,
    "start_time": "2022-09-04T22:11:37.075Z"
   },
   {
    "duration": 6,
    "start_time": "2022-09-04T22:11:56.607Z"
   },
   {
    "duration": 127,
    "start_time": "2022-09-04T22:11:57.366Z"
   },
   {
    "duration": 163,
    "start_time": "2022-09-04T22:12:28.929Z"
   },
   {
    "duration": 123,
    "start_time": "2022-09-04T22:12:43.628Z"
   },
   {
    "duration": 408,
    "start_time": "2022-09-04T22:13:17.910Z"
   },
   {
    "duration": 7,
    "start_time": "2022-09-04T22:16:30.030Z"
   },
   {
    "duration": 359,
    "start_time": "2022-09-04T22:16:41.945Z"
   },
   {
    "duration": 5,
    "start_time": "2022-09-04T22:17:27.821Z"
   },
   {
    "duration": 17,
    "start_time": "2022-09-04T22:18:06.021Z"
   },
   {
    "duration": 703,
    "start_time": "2022-09-04T22:18:27.841Z"
   },
   {
    "duration": 389,
    "start_time": "2022-09-04T22:18:43.000Z"
   },
   {
    "duration": 406,
    "start_time": "2022-09-04T22:19:10.378Z"
   },
   {
    "duration": 360,
    "start_time": "2022-09-04T22:19:26.751Z"
   },
   {
    "duration": 600,
    "start_time": "2022-09-04T22:21:03.829Z"
   },
   {
    "duration": 539,
    "start_time": "2022-09-04T22:21:22.670Z"
   },
   {
    "duration": 585,
    "start_time": "2022-09-04T22:21:36.619Z"
   },
   {
    "duration": 19,
    "start_time": "2022-09-04T22:22:12.020Z"
   },
   {
    "duration": 373,
    "start_time": "2022-09-04T22:22:42.838Z"
   },
   {
    "duration": 159,
    "start_time": "2022-09-04T22:23:10.849Z"
   },
   {
    "duration": 176,
    "start_time": "2022-09-04T22:23:28.368Z"
   },
   {
    "duration": 5,
    "start_time": "2022-09-04T22:24:10.989Z"
   },
   {
    "duration": 174,
    "start_time": "2022-09-04T22:24:11.870Z"
   },
   {
    "duration": 5,
    "start_time": "2022-09-04T22:24:20.320Z"
   },
   {
    "duration": 167,
    "start_time": "2022-09-04T22:24:20.798Z"
   },
   {
    "duration": 5,
    "start_time": "2022-09-04T22:24:28.559Z"
   },
   {
    "duration": 161,
    "start_time": "2022-09-04T22:24:30.628Z"
   },
   {
    "duration": 5,
    "start_time": "2022-09-04T22:24:36.297Z"
   },
   {
    "duration": 171,
    "start_time": "2022-09-04T22:24:36.966Z"
   },
   {
    "duration": 272,
    "start_time": "2022-09-04T22:25:03.499Z"
   },
   {
    "duration": 378,
    "start_time": "2022-09-04T22:25:35.359Z"
   },
   {
    "duration": 382,
    "start_time": "2022-09-04T22:28:30.217Z"
   },
   {
    "duration": 373,
    "start_time": "2022-09-04T22:28:46.574Z"
   },
   {
    "duration": 7,
    "start_time": "2022-09-04T22:33:29.632Z"
   },
   {
    "duration": 358,
    "start_time": "2022-09-04T22:33:30.584Z"
   },
   {
    "duration": 360,
    "start_time": "2022-09-04T22:34:24.118Z"
   },
   {
    "duration": 8,
    "start_time": "2022-09-04T22:34:41.422Z"
   },
   {
    "duration": 359,
    "start_time": "2022-09-04T22:34:42.197Z"
   },
   {
    "duration": 8,
    "start_time": "2022-09-04T22:34:54.828Z"
   },
   {
    "duration": 354,
    "start_time": "2022-09-04T22:34:55.450Z"
   },
   {
    "duration": 9,
    "start_time": "2022-09-04T22:35:03.203Z"
   },
   {
    "duration": 345,
    "start_time": "2022-09-04T22:35:03.767Z"
   },
   {
    "duration": 8,
    "start_time": "2022-09-04T22:37:00.924Z"
   },
   {
    "duration": 5,
    "start_time": "2022-09-04T22:37:06.822Z"
   },
   {
    "duration": 330,
    "start_time": "2022-09-04T22:37:10.531Z"
   },
   {
    "duration": 8,
    "start_time": "2022-09-04T22:37:22.764Z"
   },
   {
    "duration": 8,
    "start_time": "2022-09-04T22:37:53.006Z"
   },
   {
    "duration": 341,
    "start_time": "2022-09-04T22:38:09.010Z"
   },
   {
    "duration": 8,
    "start_time": "2022-09-04T22:38:25.901Z"
   },
   {
    "duration": 339,
    "start_time": "2022-09-04T22:38:26.590Z"
   },
   {
    "duration": 9,
    "start_time": "2022-09-04T22:41:48.439Z"
   },
   {
    "duration": 329,
    "start_time": "2022-09-04T22:41:52.998Z"
   },
   {
    "duration": 362,
    "start_time": "2022-09-04T22:42:25.856Z"
   },
   {
    "duration": 10,
    "start_time": "2022-09-04T22:43:15.607Z"
   },
   {
    "duration": 368,
    "start_time": "2022-09-04T22:43:19.085Z"
   },
   {
    "duration": 284,
    "start_time": "2022-09-04T22:44:46.068Z"
   },
   {
    "duration": 6,
    "start_time": "2022-09-04T22:47:51.701Z"
   },
   {
    "duration": 4,
    "start_time": "2022-09-04T22:48:53.239Z"
   },
   {
    "duration": 3,
    "start_time": "2022-09-04T22:51:17.290Z"
   },
   {
    "duration": 8,
    "start_time": "2022-09-04T22:51:17.759Z"
   },
   {
    "duration": 426,
    "start_time": "2022-09-04T22:51:18.889Z"
   },
   {
    "duration": 3,
    "start_time": "2022-09-04T22:51:38.308Z"
   },
   {
    "duration": 8,
    "start_time": "2022-09-04T22:51:39.058Z"
   },
   {
    "duration": 277,
    "start_time": "2022-09-04T22:51:39.707Z"
   },
   {
    "duration": 8,
    "start_time": "2022-09-04T22:53:06.067Z"
   },
   {
    "duration": 3,
    "start_time": "2022-09-04T22:53:09.438Z"
   },
   {
    "duration": 7,
    "start_time": "2022-09-04T22:53:10.297Z"
   },
   {
    "duration": 284,
    "start_time": "2022-09-04T22:53:13.398Z"
   },
   {
    "duration": 73,
    "start_time": "2022-09-04T23:10:38.625Z"
   },
   {
    "duration": 15,
    "start_time": "2022-09-04T23:10:38.700Z"
   },
   {
    "duration": 16,
    "start_time": "2022-09-04T23:10:38.717Z"
   },
   {
    "duration": 9,
    "start_time": "2022-09-04T23:10:38.735Z"
   },
   {
    "duration": 34,
    "start_time": "2022-09-04T23:10:38.745Z"
   },
   {
    "duration": 24,
    "start_time": "2022-09-04T23:10:38.781Z"
   },
   {
    "duration": 18,
    "start_time": "2022-09-04T23:10:38.806Z"
   },
   {
    "duration": 4,
    "start_time": "2022-09-04T23:10:38.825Z"
   },
   {
    "duration": 7,
    "start_time": "2022-09-04T23:10:38.831Z"
   },
   {
    "duration": 4,
    "start_time": "2022-09-04T23:10:38.841Z"
   },
   {
    "duration": 65,
    "start_time": "2022-09-04T23:10:38.846Z"
   },
   {
    "duration": 13,
    "start_time": "2022-09-04T23:10:38.913Z"
   },
   {
    "duration": 10,
    "start_time": "2022-09-04T23:10:38.930Z"
   },
   {
    "duration": 17,
    "start_time": "2022-09-04T23:10:38.942Z"
   },
   {
    "duration": 32,
    "start_time": "2022-09-04T23:10:38.961Z"
   },
   {
    "duration": 21,
    "start_time": "2022-09-04T23:10:39.002Z"
   },
   {
    "duration": 4,
    "start_time": "2022-09-04T23:10:39.025Z"
   },
   {
    "duration": 21,
    "start_time": "2022-09-04T23:10:39.030Z"
   },
   {
    "duration": 13,
    "start_time": "2022-09-04T23:10:39.053Z"
   },
   {
    "duration": 5,
    "start_time": "2022-09-04T23:10:39.068Z"
   },
   {
    "duration": 20,
    "start_time": "2022-09-04T23:10:39.075Z"
   },
   {
    "duration": 18,
    "start_time": "2022-09-04T23:10:39.103Z"
   },
   {
    "duration": 13,
    "start_time": "2022-09-04T23:10:39.123Z"
   },
   {
    "duration": 5,
    "start_time": "2022-09-04T23:10:39.138Z"
   },
   {
    "duration": 7,
    "start_time": "2022-09-04T23:10:39.145Z"
   },
   {
    "duration": 394,
    "start_time": "2022-09-04T23:10:39.154Z"
   },
   {
    "duration": 10,
    "start_time": "2022-09-04T23:10:39.549Z"
   },
   {
    "duration": 9,
    "start_time": "2022-09-04T23:10:39.562Z"
   },
   {
    "duration": 363,
    "start_time": "2022-09-04T23:10:39.573Z"
   },
   {
    "duration": 7,
    "start_time": "2022-09-04T23:10:39.938Z"
   },
   {
    "duration": 337,
    "start_time": "2022-09-04T23:10:39.947Z"
   },
   {
    "duration": 17,
    "start_time": "2022-09-04T23:10:40.286Z"
   },
   {
    "duration": 4,
    "start_time": "2022-09-04T23:10:40.305Z"
   },
   {
    "duration": 16,
    "start_time": "2022-09-04T23:10:40.311Z"
   },
   {
    "duration": 10,
    "start_time": "2022-09-04T23:10:40.329Z"
   },
   {
    "duration": 3,
    "start_time": "2022-09-04T23:10:40.341Z"
   },
   {
    "duration": 12,
    "start_time": "2022-09-04T23:10:40.346Z"
   },
   {
    "duration": 326,
    "start_time": "2022-09-04T23:10:40.360Z"
   },
   {
    "duration": 64,
    "start_time": "2022-09-04T23:11:30.489Z"
   },
   {
    "duration": 320,
    "start_time": "2022-09-04T23:11:31.335Z"
   },
   {
    "duration": 9,
    "start_time": "2022-09-04T23:11:45.727Z"
   },
   {
    "duration": 314,
    "start_time": "2022-09-04T23:11:47.756Z"
   },
   {
    "duration": 641,
    "start_time": "2022-09-05T04:59:06.551Z"
   },
   {
    "duration": 23,
    "start_time": "2022-09-05T04:59:07.194Z"
   },
   {
    "duration": 16,
    "start_time": "2022-09-05T04:59:07.218Z"
   },
   {
    "duration": 9,
    "start_time": "2022-09-05T04:59:07.236Z"
   },
   {
    "duration": 57,
    "start_time": "2022-09-05T04:59:07.246Z"
   },
   {
    "duration": 3,
    "start_time": "2022-09-05T04:59:07.305Z"
   },
   {
    "duration": 11,
    "start_time": "2022-09-05T04:59:07.310Z"
   },
   {
    "duration": 4,
    "start_time": "2022-09-05T04:59:07.323Z"
   },
   {
    "duration": 9,
    "start_time": "2022-09-05T04:59:07.328Z"
   },
   {
    "duration": 5,
    "start_time": "2022-09-05T04:59:07.340Z"
   },
   {
    "duration": 64,
    "start_time": "2022-09-05T04:59:07.347Z"
   },
   {
    "duration": 10,
    "start_time": "2022-09-05T04:59:07.413Z"
   },
   {
    "duration": 5,
    "start_time": "2022-09-05T04:59:07.425Z"
   },
   {
    "duration": 15,
    "start_time": "2022-09-05T04:59:07.431Z"
   },
   {
    "duration": 24,
    "start_time": "2022-09-05T04:59:07.449Z"
   },
   {
    "duration": 46,
    "start_time": "2022-09-05T04:59:07.475Z"
   },
   {
    "duration": 4,
    "start_time": "2022-09-05T04:59:07.523Z"
   },
   {
    "duration": 15,
    "start_time": "2022-09-05T04:59:07.529Z"
   },
   {
    "duration": 7,
    "start_time": "2022-09-05T04:59:07.546Z"
   },
   {
    "duration": 5,
    "start_time": "2022-09-05T04:59:07.554Z"
   },
   {
    "duration": 14,
    "start_time": "2022-09-05T04:59:07.560Z"
   },
   {
    "duration": 40,
    "start_time": "2022-09-05T04:59:07.575Z"
   },
   {
    "duration": 12,
    "start_time": "2022-09-05T04:59:07.617Z"
   },
   {
    "duration": 8,
    "start_time": "2022-09-05T04:59:07.630Z"
   },
   {
    "duration": 8,
    "start_time": "2022-09-05T04:59:07.640Z"
   },
   {
    "duration": 1066,
    "start_time": "2022-09-05T04:59:07.650Z"
   },
   {
    "duration": 0,
    "start_time": "2022-09-05T04:59:08.719Z"
   },
   {
    "duration": 0,
    "start_time": "2022-09-05T04:59:08.720Z"
   },
   {
    "duration": 0,
    "start_time": "2022-09-05T04:59:08.721Z"
   },
   {
    "duration": 0,
    "start_time": "2022-09-05T04:59:08.722Z"
   },
   {
    "duration": 0,
    "start_time": "2022-09-05T04:59:08.723Z"
   },
   {
    "duration": 0,
    "start_time": "2022-09-05T04:59:08.725Z"
   },
   {
    "duration": 0,
    "start_time": "2022-09-05T04:59:08.726Z"
   },
   {
    "duration": 0,
    "start_time": "2022-09-05T04:59:08.727Z"
   },
   {
    "duration": 0,
    "start_time": "2022-09-05T04:59:08.728Z"
   },
   {
    "duration": 0,
    "start_time": "2022-09-05T04:59:08.730Z"
   },
   {
    "duration": 0,
    "start_time": "2022-09-05T04:59:08.731Z"
   },
   {
    "duration": 0,
    "start_time": "2022-09-05T04:59:08.732Z"
   },
   {
    "duration": 507,
    "start_time": "2022-09-06T13:55:32.425Z"
   },
   {
    "duration": 19,
    "start_time": "2022-09-06T13:55:39.179Z"
   },
   {
    "duration": 11,
    "start_time": "2022-09-06T13:57:05.657Z"
   },
   {
    "duration": 30,
    "start_time": "2022-09-06T13:57:22.427Z"
   },
   {
    "duration": 4,
    "start_time": "2022-09-06T13:57:25.321Z"
   },
   {
    "duration": 8,
    "start_time": "2022-09-06T13:57:29.363Z"
   },
   {
    "duration": 4,
    "start_time": "2022-09-06T13:57:41.447Z"
   },
   {
    "duration": 6,
    "start_time": "2022-09-06T13:57:45.126Z"
   },
   {
    "duration": 28,
    "start_time": "2022-09-06T13:57:54.836Z"
   },
   {
    "duration": 12,
    "start_time": "2022-09-06T13:57:57.351Z"
   },
   {
    "duration": 4,
    "start_time": "2022-09-06T13:58:09.863Z"
   },
   {
    "duration": 10,
    "start_time": "2022-09-06T13:58:11.097Z"
   },
   {
    "duration": 18,
    "start_time": "2022-09-06T13:58:12.436Z"
   },
   {
    "duration": 16,
    "start_time": "2022-09-06T13:58:28.736Z"
   },
   {
    "duration": 3,
    "start_time": "2022-09-06T13:58:47.967Z"
   },
   {
    "duration": 9,
    "start_time": "2022-09-06T13:58:48.426Z"
   },
   {
    "duration": 5,
    "start_time": "2022-09-06T13:58:49.489Z"
   },
   {
    "duration": 3,
    "start_time": "2022-09-06T13:59:04.395Z"
   },
   {
    "duration": 8,
    "start_time": "2022-09-06T13:59:21.819Z"
   },
   {
    "duration": 18,
    "start_time": "2022-09-06T13:59:22.626Z"
   },
   {
    "duration": 13,
    "start_time": "2022-09-06T13:59:28.998Z"
   },
   {
    "duration": 15,
    "start_time": "2022-09-06T14:00:44.994Z"
   },
   {
    "duration": 3,
    "start_time": "2022-09-06T14:00:59.066Z"
   },
   {
    "duration": 5,
    "start_time": "2022-09-06T14:01:15.139Z"
   },
   {
    "duration": 3,
    "start_time": "2022-09-06T14:01:23.136Z"
   },
   {
    "duration": 4,
    "start_time": "2022-09-06T14:02:28.896Z"
   },
   {
    "duration": 4,
    "start_time": "2022-09-06T14:02:37.065Z"
   },
   {
    "duration": 6,
    "start_time": "2022-09-06T14:02:52.036Z"
   },
   {
    "duration": 1191,
    "start_time": "2022-09-06T14:02:57.826Z"
   },
   {
    "duration": 295,
    "start_time": "2022-09-06T14:03:49.056Z"
   },
   {
    "duration": 305,
    "start_time": "2022-09-06T14:04:48.962Z"
   },
   {
    "duration": 11,
    "start_time": "2022-09-06T14:04:51.937Z"
   },
   {
    "duration": 8,
    "start_time": "2022-09-06T14:04:55.970Z"
   },
   {
    "duration": 299,
    "start_time": "2022-09-06T14:05:00.996Z"
   },
   {
    "duration": 8,
    "start_time": "2022-09-06T14:05:03.326Z"
   },
   {
    "duration": 329,
    "start_time": "2022-09-06T14:05:04.916Z"
   },
   {
    "duration": 8,
    "start_time": "2022-09-06T14:08:01.796Z"
   },
   {
    "duration": 274,
    "start_time": "2022-09-06T14:10:02.035Z"
   },
   {
    "duration": 286,
    "start_time": "2022-09-06T14:11:25.797Z"
   },
   {
    "duration": 353,
    "start_time": "2022-09-06T14:12:06.268Z"
   },
   {
    "duration": 95,
    "start_time": "2022-09-06T14:12:40.638Z"
   },
   {
    "duration": 306,
    "start_time": "2022-09-06T14:13:20.556Z"
   },
   {
    "duration": 5,
    "start_time": "2022-09-06T14:14:04.696Z"
   },
   {
    "duration": 103,
    "start_time": "2022-09-06T14:14:06.993Z"
   },
   {
    "duration": 8,
    "start_time": "2022-09-06T14:14:30.585Z"
   },
   {
    "duration": 110,
    "start_time": "2022-09-06T14:14:31.185Z"
   },
   {
    "duration": 7,
    "start_time": "2022-09-06T14:14:37.689Z"
   },
   {
    "duration": 8,
    "start_time": "2022-09-06T14:14:43.817Z"
   },
   {
    "duration": 112,
    "start_time": "2022-09-06T14:14:54.926Z"
   },
   {
    "duration": 115,
    "start_time": "2022-09-06T14:15:01.156Z"
   },
   {
    "duration": 441,
    "start_time": "2022-09-06T14:15:21.297Z"
   },
   {
    "duration": 21,
    "start_time": "2022-09-06T14:15:21.739Z"
   },
   {
    "duration": 14,
    "start_time": "2022-09-06T14:15:21.761Z"
   },
   {
    "duration": 9,
    "start_time": "2022-09-06T14:15:21.777Z"
   },
   {
    "duration": 30,
    "start_time": "2022-09-06T14:15:21.787Z"
   },
   {
    "duration": 3,
    "start_time": "2022-09-06T14:15:21.819Z"
   },
   {
    "duration": 33,
    "start_time": "2022-09-06T14:15:21.823Z"
   },
   {
    "duration": 4,
    "start_time": "2022-09-06T14:15:21.857Z"
   },
   {
    "duration": 12,
    "start_time": "2022-09-06T14:15:21.863Z"
   },
   {
    "duration": 4,
    "start_time": "2022-09-06T14:15:21.877Z"
   },
   {
    "duration": 37,
    "start_time": "2022-09-06T14:15:21.882Z"
   },
   {
    "duration": 9,
    "start_time": "2022-09-06T14:15:21.921Z"
   },
   {
    "duration": 24,
    "start_time": "2022-09-06T14:15:21.931Z"
   },
   {
    "duration": 9,
    "start_time": "2022-09-06T14:15:21.957Z"
   },
   {
    "duration": 21,
    "start_time": "2022-09-06T14:15:21.968Z"
   },
   {
    "duration": 16,
    "start_time": "2022-09-06T14:15:21.991Z"
   },
   {
    "duration": 3,
    "start_time": "2022-09-06T14:15:22.009Z"
   },
   {
    "duration": 12,
    "start_time": "2022-09-06T14:15:22.014Z"
   },
   {
    "duration": 27,
    "start_time": "2022-09-06T14:15:22.028Z"
   },
   {
    "duration": 2,
    "start_time": "2022-09-06T14:15:22.057Z"
   },
   {
    "duration": 11,
    "start_time": "2022-09-06T14:15:22.061Z"
   },
   {
    "duration": 19,
    "start_time": "2022-09-06T14:15:22.073Z"
   },
   {
    "duration": 5,
    "start_time": "2022-09-06T14:15:22.093Z"
   },
   {
    "duration": 9,
    "start_time": "2022-09-06T14:15:22.099Z"
   },
   {
    "duration": 6,
    "start_time": "2022-09-06T14:15:22.109Z"
   },
   {
    "duration": 15,
    "start_time": "2022-09-06T14:15:22.116Z"
   },
   {
    "duration": 6,
    "start_time": "2022-09-06T14:15:22.133Z"
   },
   {
    "duration": 4,
    "start_time": "2022-09-06T14:15:22.154Z"
   },
   {
    "duration": 10,
    "start_time": "2022-09-06T14:15:22.160Z"
   },
   {
    "duration": 1086,
    "start_time": "2022-09-06T14:15:22.171Z"
   },
   {
    "duration": 11,
    "start_time": "2022-09-06T14:15:23.258Z"
   },
   {
    "duration": 10,
    "start_time": "2022-09-06T14:15:23.271Z"
   },
   {
    "duration": 342,
    "start_time": "2022-09-06T14:15:23.283Z"
   },
   {
    "duration": 8,
    "start_time": "2022-09-06T14:15:23.626Z"
   },
   {
    "duration": 293,
    "start_time": "2022-09-06T14:15:23.636Z"
   },
   {
    "duration": 8,
    "start_time": "2022-09-06T14:15:23.930Z"
   },
   {
    "duration": 291,
    "start_time": "2022-09-06T14:15:23.940Z"
   },
   {
    "duration": 96,
    "start_time": "2022-09-06T14:16:25.289Z"
   },
   {
    "duration": 322,
    "start_time": "2022-09-06T14:16:55.946Z"
   },
   {
    "duration": 7,
    "start_time": "2022-09-06T14:18:16.792Z"
   },
   {
    "duration": 296,
    "start_time": "2022-09-06T14:18:19.388Z"
   },
   {
    "duration": 322,
    "start_time": "2022-09-06T14:18:42.119Z"
   },
   {
    "duration": 9,
    "start_time": "2022-09-06T14:19:42.202Z"
   },
   {
    "duration": 273,
    "start_time": "2022-09-06T14:21:33.291Z"
   },
   {
    "duration": 289,
    "start_time": "2022-09-06T14:21:52.266Z"
   },
   {
    "duration": 8,
    "start_time": "2022-09-06T14:27:31.676Z"
   },
   {
    "duration": 365,
    "start_time": "2022-09-06T14:27:40.696Z"
   },
   {
    "duration": 123,
    "start_time": "2022-09-06T14:28:43.621Z"
   },
   {
    "duration": 8,
    "start_time": "2022-09-06T14:28:58.219Z"
   },
   {
    "duration": 9,
    "start_time": "2022-09-06T14:29:09.563Z"
   },
   {
    "duration": 304,
    "start_time": "2022-09-06T14:29:18.518Z"
   },
   {
    "duration": 431,
    "start_time": "2022-09-06T14:30:38.988Z"
   },
   {
    "duration": 22,
    "start_time": "2022-09-06T14:30:39.420Z"
   },
   {
    "duration": 13,
    "start_time": "2022-09-06T14:30:39.443Z"
   },
   {
    "duration": 9,
    "start_time": "2022-09-06T14:30:39.457Z"
   },
   {
    "duration": 35,
    "start_time": "2022-09-06T14:30:39.468Z"
   },
   {
    "duration": 4,
    "start_time": "2022-09-06T14:30:39.505Z"
   },
   {
    "duration": 9,
    "start_time": "2022-09-06T14:30:39.511Z"
   },
   {
    "duration": 5,
    "start_time": "2022-09-06T14:30:39.521Z"
   },
   {
    "duration": 31,
    "start_time": "2022-09-06T14:30:39.528Z"
   },
   {
    "duration": 7,
    "start_time": "2022-09-06T14:30:39.561Z"
   },
   {
    "duration": 34,
    "start_time": "2022-09-06T14:30:39.569Z"
   },
   {
    "duration": 10,
    "start_time": "2022-09-06T14:30:39.604Z"
   },
   {
    "duration": 8,
    "start_time": "2022-09-06T14:30:39.615Z"
   },
   {
    "duration": 9,
    "start_time": "2022-09-06T14:30:39.626Z"
   },
   {
    "duration": 21,
    "start_time": "2022-09-06T14:30:39.655Z"
   },
   {
    "duration": 17,
    "start_time": "2022-09-06T14:30:39.679Z"
   },
   {
    "duration": 3,
    "start_time": "2022-09-06T14:30:39.698Z"
   },
   {
    "duration": 12,
    "start_time": "2022-09-06T14:30:39.703Z"
   },
   {
    "duration": 8,
    "start_time": "2022-09-06T14:30:39.716Z"
   },
   {
    "duration": 30,
    "start_time": "2022-09-06T14:30:39.725Z"
   },
   {
    "duration": 8,
    "start_time": "2022-09-06T14:30:39.756Z"
   },
   {
    "duration": 18,
    "start_time": "2022-09-06T14:30:39.765Z"
   },
   {
    "duration": 4,
    "start_time": "2022-09-06T14:30:39.784Z"
   },
   {
    "duration": 15,
    "start_time": "2022-09-06T14:30:39.789Z"
   },
   {
    "duration": 6,
    "start_time": "2022-09-06T14:30:39.805Z"
   },
   {
    "duration": 14,
    "start_time": "2022-09-06T14:30:39.812Z"
   },
   {
    "duration": 9,
    "start_time": "2022-09-06T14:30:39.827Z"
   },
   {
    "duration": 18,
    "start_time": "2022-09-06T14:30:39.837Z"
   },
   {
    "duration": 7,
    "start_time": "2022-09-06T14:30:39.857Z"
   },
   {
    "duration": 1056,
    "start_time": "2022-09-06T14:30:39.865Z"
   },
   {
    "duration": 10,
    "start_time": "2022-09-06T14:30:40.922Z"
   },
   {
    "duration": 8,
    "start_time": "2022-09-06T14:30:40.933Z"
   },
   {
    "duration": 328,
    "start_time": "2022-09-06T14:30:40.955Z"
   },
   {
    "duration": 8,
    "start_time": "2022-09-06T14:30:41.285Z"
   },
   {
    "duration": 310,
    "start_time": "2022-09-06T14:30:41.294Z"
   },
   {
    "duration": 8,
    "start_time": "2022-09-06T14:30:41.605Z"
   },
   {
    "duration": 309,
    "start_time": "2022-09-06T14:30:41.615Z"
   },
   {
    "duration": 2,
    "start_time": "2022-09-06T14:38:29.917Z"
   },
   {
    "duration": 3,
    "start_time": "2022-09-06T14:38:30.820Z"
   },
   {
    "duration": 66,
    "start_time": "2022-09-06T14:38:31.386Z"
   },
   {
    "duration": 15,
    "start_time": "2022-09-06T14:38:33.531Z"
   },
   {
    "duration": 17,
    "start_time": "2022-09-06T14:38:37.316Z"
   },
   {
    "duration": 9,
    "start_time": "2022-09-06T14:38:45.961Z"
   },
   {
    "duration": 29,
    "start_time": "2022-09-06T14:38:50.891Z"
   },
   {
    "duration": 3,
    "start_time": "2022-09-06T14:39:02.770Z"
   },
   {
    "duration": 7,
    "start_time": "2022-09-06T14:39:05.211Z"
   },
   {
    "duration": 4,
    "start_time": "2022-09-06T14:39:09.142Z"
   },
   {
    "duration": 6,
    "start_time": "2022-09-06T14:39:10.262Z"
   },
   {
    "duration": 4,
    "start_time": "2022-09-06T14:39:15.831Z"
   },
   {
    "duration": 29,
    "start_time": "2022-09-06T14:39:17.261Z"
   },
   {
    "duration": 11,
    "start_time": "2022-09-06T14:39:17.791Z"
   },
   {
    "duration": 4,
    "start_time": "2022-09-06T14:39:18.501Z"
   },
   {
    "duration": 10,
    "start_time": "2022-09-06T14:39:19.298Z"
   },
   {
    "duration": 18,
    "start_time": "2022-09-06T14:39:19.801Z"
   },
   {
    "duration": 18,
    "start_time": "2022-09-06T14:39:20.122Z"
   },
   {
    "duration": 4,
    "start_time": "2022-09-06T14:39:21.487Z"
   },
   {
    "duration": 9,
    "start_time": "2022-09-06T14:39:21.868Z"
   },
   {
    "duration": 5,
    "start_time": "2022-09-06T14:39:23.298Z"
   },
   {
    "duration": 3,
    "start_time": "2022-09-06T14:39:24.220Z"
   },
   {
    "duration": 7,
    "start_time": "2022-09-06T14:39:24.570Z"
   },
   {
    "duration": 15,
    "start_time": "2022-09-06T14:39:25.498Z"
   },
   {
    "duration": 4,
    "start_time": "2022-09-06T14:39:25.850Z"
   },
   {
    "duration": 5,
    "start_time": "2022-09-06T14:39:26.330Z"
   },
   {
    "duration": 3,
    "start_time": "2022-09-06T14:39:26.650Z"
   },
   {
    "duration": 12,
    "start_time": "2022-09-06T14:39:27.108Z"
   },
   {
    "duration": 4,
    "start_time": "2022-09-06T14:39:27.850Z"
   },
   {
    "duration": 4,
    "start_time": "2022-09-06T14:39:28.223Z"
   },
   {
    "duration": 7,
    "start_time": "2022-09-06T14:39:28.914Z"
   },
   {
    "duration": 305,
    "start_time": "2022-09-06T14:39:29.562Z"
   },
   {
    "duration": 9,
    "start_time": "2022-09-06T14:39:32.905Z"
   },
   {
    "duration": 9,
    "start_time": "2022-09-06T14:39:35.815Z"
   },
   {
    "duration": 316,
    "start_time": "2022-09-06T14:39:36.449Z"
   },
   {
    "duration": 7,
    "start_time": "2022-09-06T14:39:37.891Z"
   },
   {
    "duration": 286,
    "start_time": "2022-09-06T14:39:38.299Z"
   },
   {
    "duration": 11,
    "start_time": "2022-09-06T14:39:40.291Z"
   },
   {
    "duration": 300,
    "start_time": "2022-09-06T14:39:40.822Z"
   },
   {
    "duration": 363,
    "start_time": "2022-09-06T14:40:04.462Z"
   },
   {
    "duration": 717,
    "start_time": "2022-09-06T14:40:04.827Z"
   },
   {
    "duration": 70,
    "start_time": "2022-09-06T14:40:05.546Z"
   },
   {
    "duration": 17,
    "start_time": "2022-09-06T14:40:05.617Z"
   },
   {
    "duration": 12,
    "start_time": "2022-09-06T14:40:05.636Z"
   },
   {
    "duration": 8,
    "start_time": "2022-09-06T14:40:05.650Z"
   },
   {
    "duration": 28,
    "start_time": "2022-09-06T14:40:05.659Z"
   },
   {
    "duration": 3,
    "start_time": "2022-09-06T14:40:05.689Z"
   },
   {
    "duration": 11,
    "start_time": "2022-09-06T14:40:05.693Z"
   },
   {
    "duration": 7,
    "start_time": "2022-09-06T14:40:05.706Z"
   },
   {
    "duration": 9,
    "start_time": "2022-09-06T14:40:05.714Z"
   },
   {
    "duration": 10,
    "start_time": "2022-09-06T14:40:05.724Z"
   },
   {
    "duration": 52,
    "start_time": "2022-09-06T14:40:05.736Z"
   },
   {
    "duration": 8,
    "start_time": "2022-09-06T14:40:05.790Z"
   },
   {
    "duration": 21,
    "start_time": "2022-09-06T14:40:05.800Z"
   },
   {
    "duration": 26,
    "start_time": "2022-09-06T14:40:05.822Z"
   },
   {
    "duration": 49,
    "start_time": "2022-09-06T14:40:05.850Z"
   },
   {
    "duration": 22,
    "start_time": "2022-09-06T14:40:05.902Z"
   },
   {
    "duration": 4,
    "start_time": "2022-09-06T14:40:05.926Z"
   },
   {
    "duration": 19,
    "start_time": "2022-09-06T14:40:05.932Z"
   },
   {
    "duration": 7,
    "start_time": "2022-09-06T14:40:05.953Z"
   },
   {
    "duration": 33,
    "start_time": "2022-09-06T14:40:05.961Z"
   },
   {
    "duration": 30,
    "start_time": "2022-09-06T14:40:05.995Z"
   },
   {
    "duration": 21,
    "start_time": "2022-09-06T14:40:06.028Z"
   },
   {
    "duration": 10,
    "start_time": "2022-09-06T14:40:06.050Z"
   },
   {
    "duration": 28,
    "start_time": "2022-09-06T14:40:06.062Z"
   },
   {
    "duration": 20,
    "start_time": "2022-09-06T14:40:06.092Z"
   },
   {
    "duration": 18,
    "start_time": "2022-09-06T14:40:06.115Z"
   },
   {
    "duration": 16,
    "start_time": "2022-09-06T14:40:06.134Z"
   },
   {
    "duration": 12,
    "start_time": "2022-09-06T14:40:06.152Z"
   },
   {
    "duration": 9,
    "start_time": "2022-09-06T14:40:06.165Z"
   },
   {
    "duration": 355,
    "start_time": "2022-09-06T14:40:06.176Z"
   },
   {
    "duration": 10,
    "start_time": "2022-09-06T14:40:06.533Z"
   },
   {
    "duration": 9,
    "start_time": "2022-09-06T14:40:06.555Z"
   },
   {
    "duration": 318,
    "start_time": "2022-09-06T14:40:06.565Z"
   },
   {
    "duration": 6,
    "start_time": "2022-09-06T14:40:06.885Z"
   },
   {
    "duration": 314,
    "start_time": "2022-09-06T14:40:06.893Z"
   },
   {
    "duration": 8,
    "start_time": "2022-09-06T14:40:07.209Z"
   },
   {
    "duration": 362,
    "start_time": "2022-09-06T14:40:07.218Z"
   },
   {
    "duration": 399,
    "start_time": "2022-09-06T18:00:01.259Z"
   },
   {
    "duration": 1010,
    "start_time": "2022-09-06T18:00:01.660Z"
   },
   {
    "duration": 379,
    "start_time": "2022-09-06T18:00:02.672Z"
   },
   {
    "duration": 21,
    "start_time": "2022-09-06T18:00:03.053Z"
   },
   {
    "duration": 76,
    "start_time": "2022-09-06T18:00:03.075Z"
   },
   {
    "duration": 64,
    "start_time": "2022-09-06T18:00:03.153Z"
   },
   {
    "duration": 51,
    "start_time": "2022-09-06T18:00:03.219Z"
   },
   {
    "duration": 3,
    "start_time": "2022-09-06T18:00:03.271Z"
   },
   {
    "duration": 18,
    "start_time": "2022-09-06T18:00:03.276Z"
   },
   {
    "duration": 34,
    "start_time": "2022-09-06T18:00:03.297Z"
   },
   {
    "duration": 18,
    "start_time": "2022-09-06T18:00:03.332Z"
   },
   {
    "duration": 25,
    "start_time": "2022-09-06T18:00:03.351Z"
   },
   {
    "duration": 73,
    "start_time": "2022-09-06T18:00:03.378Z"
   },
   {
    "duration": 11,
    "start_time": "2022-09-06T18:00:03.452Z"
   },
   {
    "duration": 51,
    "start_time": "2022-09-06T18:00:03.465Z"
   },
   {
    "duration": 26,
    "start_time": "2022-09-06T18:00:03.517Z"
   },
   {
    "duration": 49,
    "start_time": "2022-09-06T18:00:03.544Z"
   },
   {
    "duration": 33,
    "start_time": "2022-09-06T18:00:03.595Z"
   },
   {
    "duration": 23,
    "start_time": "2022-09-06T18:00:03.629Z"
   },
   {
    "duration": 23,
    "start_time": "2022-09-06T18:00:03.654Z"
   },
   {
    "duration": 51,
    "start_time": "2022-09-06T18:00:03.679Z"
   },
   {
    "duration": 32,
    "start_time": "2022-09-06T18:00:03.731Z"
   },
   {
    "duration": 61,
    "start_time": "2022-09-06T18:00:03.764Z"
   },
   {
    "duration": 41,
    "start_time": "2022-09-06T18:00:03.826Z"
   },
   {
    "duration": 7,
    "start_time": "2022-09-06T18:00:03.868Z"
   },
   {
    "duration": 87,
    "start_time": "2022-09-06T18:00:03.877Z"
   },
   {
    "duration": 59,
    "start_time": "2022-09-06T18:00:03.966Z"
   },
   {
    "duration": 37,
    "start_time": "2022-09-06T18:00:04.030Z"
   },
   {
    "duration": 56,
    "start_time": "2022-09-06T18:00:04.069Z"
   },
   {
    "duration": 12,
    "start_time": "2022-09-06T18:00:04.127Z"
   },
   {
    "duration": 35,
    "start_time": "2022-09-06T18:00:04.141Z"
   },
   {
    "duration": 441,
    "start_time": "2022-09-06T18:00:04.178Z"
   },
   {
    "duration": 10,
    "start_time": "2022-09-06T18:00:04.621Z"
   },
   {
    "duration": 35,
    "start_time": "2022-09-06T18:00:04.633Z"
   },
   {
    "duration": 381,
    "start_time": "2022-09-06T18:00:04.669Z"
   },
   {
    "duration": 8,
    "start_time": "2022-09-06T18:00:05.052Z"
   },
   {
    "duration": 389,
    "start_time": "2022-09-06T18:00:05.061Z"
   },
   {
    "duration": 8,
    "start_time": "2022-09-06T18:00:05.452Z"
   },
   {
    "duration": 380,
    "start_time": "2022-09-06T18:00:05.462Z"
   },
   {
    "duration": 43,
    "start_time": "2022-09-06T18:45:54.576Z"
   },
   {
    "duration": 5,
    "start_time": "2022-09-06T18:46:17.694Z"
   },
   {
    "duration": 362,
    "start_time": "2022-09-06T18:46:27.479Z"
   },
   {
    "duration": 851,
    "start_time": "2022-09-06T18:46:27.842Z"
   },
   {
    "duration": 124,
    "start_time": "2022-09-06T18:46:28.694Z"
   },
   {
    "duration": 17,
    "start_time": "2022-09-06T18:46:28.820Z"
   },
   {
    "duration": 13,
    "start_time": "2022-09-06T18:46:28.838Z"
   },
   {
    "duration": 18,
    "start_time": "2022-09-06T18:46:28.852Z"
   },
   {
    "duration": 29,
    "start_time": "2022-09-06T18:46:28.871Z"
   },
   {
    "duration": 3,
    "start_time": "2022-09-06T18:46:28.902Z"
   },
   {
    "duration": 12,
    "start_time": "2022-09-06T18:46:28.906Z"
   },
   {
    "duration": 14,
    "start_time": "2022-09-06T18:46:28.920Z"
   },
   {
    "duration": 17,
    "start_time": "2022-09-06T18:46:28.935Z"
   },
   {
    "duration": 5,
    "start_time": "2022-09-06T18:46:28.953Z"
   },
   {
    "duration": 45,
    "start_time": "2022-09-06T18:46:28.959Z"
   },
   {
    "duration": 9,
    "start_time": "2022-09-06T18:46:29.005Z"
   },
   {
    "duration": 16,
    "start_time": "2022-09-06T18:46:29.015Z"
   },
   {
    "duration": 14,
    "start_time": "2022-09-06T18:46:29.032Z"
   },
   {
    "duration": 18,
    "start_time": "2022-09-06T18:46:29.048Z"
   },
   {
    "duration": 14,
    "start_time": "2022-09-06T18:46:29.067Z"
   },
   {
    "duration": 3,
    "start_time": "2022-09-06T18:46:29.082Z"
   },
   {
    "duration": 9,
    "start_time": "2022-09-06T18:46:29.087Z"
   },
   {
    "duration": 7,
    "start_time": "2022-09-06T18:46:29.098Z"
   },
   {
    "duration": 3,
    "start_time": "2022-09-06T18:46:29.106Z"
   },
   {
    "duration": 12,
    "start_time": "2022-09-06T18:46:29.110Z"
   },
   {
    "duration": 34,
    "start_time": "2022-09-06T18:46:29.123Z"
   },
   {
    "duration": 3,
    "start_time": "2022-09-06T18:46:29.159Z"
   },
   {
    "duration": 7,
    "start_time": "2022-09-06T18:46:29.164Z"
   },
   {
    "duration": 5,
    "start_time": "2022-09-06T18:46:29.173Z"
   },
   {
    "duration": 12,
    "start_time": "2022-09-06T18:46:29.181Z"
   },
   {
    "duration": 5,
    "start_time": "2022-09-06T18:46:29.195Z"
   },
   {
    "duration": 5,
    "start_time": "2022-09-06T18:46:29.201Z"
   },
   {
    "duration": 7,
    "start_time": "2022-09-06T18:46:29.207Z"
   },
   {
    "duration": 325,
    "start_time": "2022-09-06T18:46:29.255Z"
   },
   {
    "duration": 9,
    "start_time": "2022-09-06T18:46:29.582Z"
   },
   {
    "duration": 8,
    "start_time": "2022-09-06T18:46:29.593Z"
   },
   {
    "duration": 315,
    "start_time": "2022-09-06T18:46:29.602Z"
   },
   {
    "duration": 8,
    "start_time": "2022-09-06T18:46:29.919Z"
   },
   {
    "duration": 290,
    "start_time": "2022-09-06T18:46:29.928Z"
   },
   {
    "duration": 9,
    "start_time": "2022-09-06T18:46:30.220Z"
   },
   {
    "duration": 111,
    "start_time": "2022-09-06T18:46:30.231Z"
   },
   {
    "duration": 276,
    "start_time": "2022-09-06T18:46:50.883Z"
   },
   {
    "duration": 284,
    "start_time": "2022-09-06T18:48:49.140Z"
   },
   {
    "duration": 8,
    "start_time": "2022-09-06T19:13:10.940Z"
   },
   {
    "duration": 17,
    "start_time": "2022-09-06T19:13:22.550Z"
   },
   {
    "duration": 21,
    "start_time": "2022-09-06T19:13:35.271Z"
   },
   {
    "duration": 25,
    "start_time": "2022-09-06T19:13:42.169Z"
   },
   {
    "duration": 43,
    "start_time": "2022-09-06T19:13:55.028Z"
   },
   {
    "duration": 42,
    "start_time": "2022-09-06T19:16:50.238Z"
   },
   {
    "duration": 44,
    "start_time": "2022-09-06T19:17:14.177Z"
   },
   {
    "duration": 97,
    "start_time": "2022-09-06T19:19:02.673Z"
   },
   {
    "duration": 8,
    "start_time": "2022-09-06T19:19:10.450Z"
   },
   {
    "duration": 8,
    "start_time": "2022-09-06T19:19:14.199Z"
   },
   {
    "duration": 19,
    "start_time": "2022-09-06T19:19:30.697Z"
   },
   {
    "duration": 20,
    "start_time": "2022-09-06T19:20:21.299Z"
   },
   {
    "duration": 18,
    "start_time": "2022-09-06T19:21:31.046Z"
   },
   {
    "duration": 15,
    "start_time": "2022-09-06T19:23:53.867Z"
   },
   {
    "duration": 23,
    "start_time": "2022-09-06T19:25:06.763Z"
   },
   {
    "duration": 15,
    "start_time": "2022-09-06T19:25:44.467Z"
   },
   {
    "duration": 17,
    "start_time": "2022-09-06T19:25:55.921Z"
   },
   {
    "duration": 14,
    "start_time": "2022-09-06T19:26:32.528Z"
   },
   {
    "duration": 16,
    "start_time": "2022-09-06T19:26:39.458Z"
   },
   {
    "duration": 27,
    "start_time": "2022-09-06T19:26:48.187Z"
   },
   {
    "duration": 17,
    "start_time": "2022-09-06T19:27:16.868Z"
   },
   {
    "duration": 17,
    "start_time": "2022-09-06T19:28:21.047Z"
   },
   {
    "duration": 14,
    "start_time": "2022-09-06T19:29:03.496Z"
   },
   {
    "duration": 14,
    "start_time": "2022-09-06T19:29:32.774Z"
   },
   {
    "duration": 17,
    "start_time": "2022-09-06T19:29:57.430Z"
   },
   {
    "duration": 71,
    "start_time": "2022-09-06T19:30:14.098Z"
   },
   {
    "duration": 15,
    "start_time": "2022-09-06T19:30:35.427Z"
   },
   {
    "duration": 13,
    "start_time": "2022-09-06T19:30:39.094Z"
   },
   {
    "duration": 16,
    "start_time": "2022-09-06T19:34:07.423Z"
   },
   {
    "duration": 21,
    "start_time": "2022-09-06T19:34:59.932Z"
   },
   {
    "duration": 21,
    "start_time": "2022-09-06T19:37:31.295Z"
   },
   {
    "duration": 20,
    "start_time": "2022-09-06T19:37:50.533Z"
   },
   {
    "duration": 15,
    "start_time": "2022-09-06T19:37:58.339Z"
   },
   {
    "duration": 20,
    "start_time": "2022-09-06T19:38:00.935Z"
   },
   {
    "duration": 10,
    "start_time": "2022-09-06T19:38:52.324Z"
   },
   {
    "duration": 19,
    "start_time": "2022-09-06T19:39:09.526Z"
   },
   {
    "duration": 14,
    "start_time": "2022-09-06T19:42:00.097Z"
   },
   {
    "duration": 21,
    "start_time": "2022-09-06T19:42:08.777Z"
   },
   {
    "duration": 21,
    "start_time": "2022-09-06T19:46:59.864Z"
   },
   {
    "duration": 19,
    "start_time": "2022-09-06T19:47:34.342Z"
   },
   {
    "duration": 21,
    "start_time": "2022-09-06T19:50:00.085Z"
   },
   {
    "duration": 12,
    "start_time": "2022-09-06T19:50:15.762Z"
   },
   {
    "duration": 12,
    "start_time": "2022-09-06T19:51:16.126Z"
   },
   {
    "duration": 12,
    "start_time": "2022-09-06T19:52:29.723Z"
   },
   {
    "duration": 12,
    "start_time": "2022-09-06T19:53:41.221Z"
   },
   {
    "duration": 12,
    "start_time": "2022-09-06T19:54:12.394Z"
   },
   {
    "duration": 17,
    "start_time": "2022-09-06T19:54:55.695Z"
   },
   {
    "duration": 16,
    "start_time": "2022-09-06T19:58:45.820Z"
   },
   {
    "duration": 15,
    "start_time": "2022-09-06T19:59:24.024Z"
   },
   {
    "duration": 10,
    "start_time": "2022-09-06T20:07:03.847Z"
   },
   {
    "duration": 13,
    "start_time": "2022-09-06T20:07:29.792Z"
   },
   {
    "duration": 13,
    "start_time": "2022-09-06T20:08:48.772Z"
   },
   {
    "duration": 11,
    "start_time": "2022-09-06T20:09:14.534Z"
   },
   {
    "duration": 17,
    "start_time": "2022-09-06T20:09:34.954Z"
   },
   {
    "duration": 13,
    "start_time": "2022-09-06T20:09:43.720Z"
   },
   {
    "duration": 11,
    "start_time": "2022-09-06T20:13:06.158Z"
   },
   {
    "duration": 29,
    "start_time": "2022-09-06T20:22:25.672Z"
   },
   {
    "duration": 75,
    "start_time": "2022-09-06T20:23:21.673Z"
   },
   {
    "duration": 70,
    "start_time": "2022-09-06T20:23:37.023Z"
   },
   {
    "duration": 27,
    "start_time": "2022-09-06T20:23:42.366Z"
   },
   {
    "duration": 26,
    "start_time": "2022-09-06T20:34:49.838Z"
   },
   {
    "duration": 19,
    "start_time": "2022-09-06T20:34:56.303Z"
   },
   {
    "duration": 8,
    "start_time": "2022-09-06T20:40:12.796Z"
   },
   {
    "duration": 15,
    "start_time": "2022-09-06T20:40:22.917Z"
   },
   {
    "duration": 10,
    "start_time": "2022-09-06T20:42:53.637Z"
   },
   {
    "duration": 13,
    "start_time": "2022-09-06T20:44:17.989Z"
   },
   {
    "duration": 7,
    "start_time": "2022-09-06T20:45:41.706Z"
   },
   {
    "duration": 7,
    "start_time": "2022-09-06T20:46:03.957Z"
   },
   {
    "duration": 15,
    "start_time": "2022-09-06T20:47:27.056Z"
   },
   {
    "duration": 12,
    "start_time": "2022-09-06T20:47:42.865Z"
   },
   {
    "duration": 47,
    "start_time": "2022-09-06T20:52:14.985Z"
   },
   {
    "duration": 47,
    "start_time": "2022-09-06T20:52:21.534Z"
   },
   {
    "duration": 69,
    "start_time": "2022-09-06T20:52:34.549Z"
   },
   {
    "duration": 19,
    "start_time": "2022-09-06T20:52:38.215Z"
   },
   {
    "duration": 33,
    "start_time": "2022-09-06T20:52:49.154Z"
   },
   {
    "duration": 17,
    "start_time": "2022-09-06T20:53:01.765Z"
   },
   {
    "duration": 69,
    "start_time": "2022-09-06T20:54:42.306Z"
   },
   {
    "duration": 13,
    "start_time": "2022-09-06T20:55:12.425Z"
   },
   {
    "duration": 15,
    "start_time": "2022-09-06T20:55:18.088Z"
   },
   {
    "duration": 7,
    "start_time": "2022-09-06T20:57:50.837Z"
   },
   {
    "duration": 127,
    "start_time": "2022-09-06T20:58:01.098Z"
   },
   {
    "duration": 303,
    "start_time": "2022-09-06T20:58:29.957Z"
   },
   {
    "duration": 6,
    "start_time": "2022-09-06T20:59:07.948Z"
   },
   {
    "duration": 6,
    "start_time": "2022-09-06T21:02:16.925Z"
   },
   {
    "duration": 6,
    "start_time": "2022-09-06T21:03:16.526Z"
   },
   {
    "duration": 7,
    "start_time": "2022-09-06T21:03:52.435Z"
   },
   {
    "duration": 18,
    "start_time": "2022-09-06T21:10:44.986Z"
   },
   {
    "duration": 35,
    "start_time": "2022-09-06T21:11:40.382Z"
   },
   {
    "duration": 16,
    "start_time": "2022-09-06T21:12:27.016Z"
   },
   {
    "duration": 18,
    "start_time": "2022-09-06T21:14:08.101Z"
   },
   {
    "duration": 18,
    "start_time": "2022-09-06T21:14:13.667Z"
   },
   {
    "duration": 22,
    "start_time": "2022-09-06T21:14:33.365Z"
   },
   {
    "duration": 64,
    "start_time": "2022-09-06T21:15:12.135Z"
   },
   {
    "duration": 22,
    "start_time": "2022-09-06T21:15:27.112Z"
   },
   {
    "duration": 44,
    "start_time": "2022-09-06T21:17:33.430Z"
   },
   {
    "duration": 22,
    "start_time": "2022-09-06T21:18:00.428Z"
   },
   {
    "duration": 14,
    "start_time": "2022-09-06T21:19:35.918Z"
   },
   {
    "duration": 5246,
    "start_time": "2022-09-06T21:20:11.803Z"
   },
   {
    "duration": 8,
    "start_time": "2022-09-06T21:20:51.658Z"
   },
   {
    "duration": 8,
    "start_time": "2022-09-06T21:21:32.885Z"
   },
   {
    "duration": 27,
    "start_time": "2022-09-06T21:22:30.311Z"
   },
   {
    "duration": 1776,
    "start_time": "2022-09-06T21:22:36.837Z"
   },
   {
    "duration": 23,
    "start_time": "2022-09-06T21:22:43.954Z"
   },
   {
    "duration": 22,
    "start_time": "2022-09-06T21:24:02.613Z"
   },
   {
    "duration": 46,
    "start_time": "2022-09-06T21:24:11.285Z"
   },
   {
    "duration": 161,
    "start_time": "2022-09-06T21:30:02.475Z"
   },
   {
    "duration": 210,
    "start_time": "2022-09-06T21:31:19.365Z"
   },
   {
    "duration": 159,
    "start_time": "2022-09-06T21:31:43.167Z"
   },
   {
    "duration": 42,
    "start_time": "2022-09-06T21:36:59.410Z"
   },
   {
    "duration": 8,
    "start_time": "2022-09-06T21:38:33.867Z"
   },
   {
    "duration": 175,
    "start_time": "2022-09-06T21:39:45.949Z"
   },
   {
    "duration": 148,
    "start_time": "2022-09-06T21:40:24.925Z"
   },
   {
    "duration": 160,
    "start_time": "2022-09-06T21:40:45.069Z"
   },
   {
    "duration": 174,
    "start_time": "2022-09-06T21:41:16.865Z"
   },
   {
    "duration": 15,
    "start_time": "2022-09-06T21:43:29.694Z"
   },
   {
    "duration": 308,
    "start_time": "2022-09-06T21:43:36.774Z"
   },
   {
    "duration": 8,
    "start_time": "2022-09-06T21:44:53.129Z"
   },
   {
    "duration": 335,
    "start_time": "2022-09-06T21:44:57.324Z"
   },
   {
    "duration": 71,
    "start_time": "2022-09-06T21:47:02.486Z"
   },
   {
    "duration": 7,
    "start_time": "2022-09-06T21:47:13.269Z"
   },
   {
    "duration": 40,
    "start_time": "2022-09-06T21:48:54.907Z"
   },
   {
    "duration": 150,
    "start_time": "2022-09-06T21:57:30.271Z"
   },
   {
    "duration": 161,
    "start_time": "2022-09-06T21:58:01.794Z"
   },
   {
    "duration": 126,
    "start_time": "2022-09-06T21:58:37.076Z"
   },
   {
    "duration": 150,
    "start_time": "2022-09-06T21:59:19.174Z"
   },
   {
    "duration": 124,
    "start_time": "2022-09-06T21:59:58.188Z"
   },
   {
    "duration": 156,
    "start_time": "2022-09-06T22:00:40.634Z"
   },
   {
    "duration": 203,
    "start_time": "2022-09-06T22:04:21.893Z"
   },
   {
    "duration": 105,
    "start_time": "2022-09-06T22:04:58.377Z"
   },
   {
    "duration": 121,
    "start_time": "2022-09-06T22:06:05.915Z"
   },
   {
    "duration": 157,
    "start_time": "2022-09-06T22:06:34.126Z"
   },
   {
    "duration": 127,
    "start_time": "2022-09-06T22:06:59.665Z"
   },
   {
    "duration": 40,
    "start_time": "2022-09-06T22:08:39.514Z"
   },
   {
    "duration": 1186,
    "start_time": "2022-09-06T22:09:30.529Z"
   },
   {
    "duration": 1293,
    "start_time": "2022-09-06T22:09:44.072Z"
   },
   {
    "duration": 121,
    "start_time": "2022-09-06T22:10:06.024Z"
   },
   {
    "duration": 158,
    "start_time": "2022-09-06T22:10:38.315Z"
   },
   {
    "duration": 141,
    "start_time": "2022-09-06T22:11:06.134Z"
   },
   {
    "duration": 42,
    "start_time": "2022-09-06T22:13:37.452Z"
   },
   {
    "duration": 8,
    "start_time": "2022-09-06T22:15:26.266Z"
   },
   {
    "duration": 9,
    "start_time": "2022-09-06T22:15:35.534Z"
   },
   {
    "duration": 8,
    "start_time": "2022-09-06T22:18:15.614Z"
   },
   {
    "duration": 43,
    "start_time": "2022-09-06T22:21:11.238Z"
   },
   {
    "duration": 79,
    "start_time": "2022-09-06T22:30:16.518Z"
   },
   {
    "duration": 54,
    "start_time": "2022-09-06T22:31:06.895Z"
   },
   {
    "duration": 29,
    "start_time": "2022-09-06T22:33:11.475Z"
   },
   {
    "duration": 81,
    "start_time": "2022-09-06T22:36:54.966Z"
   },
   {
    "duration": 44,
    "start_time": "2022-09-06T22:38:33.585Z"
   },
   {
    "duration": 33,
    "start_time": "2022-09-06T22:40:18.456Z"
   },
   {
    "duration": 20,
    "start_time": "2022-09-06T22:41:00.306Z"
   },
   {
    "duration": 29,
    "start_time": "2022-09-06T22:42:04.298Z"
   },
   {
    "duration": 40,
    "start_time": "2022-09-06T22:42:16.569Z"
   },
   {
    "duration": 40,
    "start_time": "2022-09-06T22:43:06.666Z"
   },
   {
    "duration": 107,
    "start_time": "2022-09-06T22:44:09.141Z"
   },
   {
    "duration": 110,
    "start_time": "2022-09-06T22:44:34.438Z"
   },
   {
    "duration": 108,
    "start_time": "2022-09-06T22:45:03.798Z"
   },
   {
    "duration": 112,
    "start_time": "2022-09-06T22:45:18.466Z"
   },
   {
    "duration": 159,
    "start_time": "2022-09-06T22:46:11.738Z"
   },
   {
    "duration": 108,
    "start_time": "2022-09-06T22:46:32.268Z"
   },
   {
    "duration": 118,
    "start_time": "2022-09-06T22:46:53.996Z"
   },
   {
    "duration": 246,
    "start_time": "2022-09-06T22:47:36.565Z"
   },
   {
    "duration": 160,
    "start_time": "2022-09-06T22:48:20.707Z"
   },
   {
    "duration": 109,
    "start_time": "2022-09-06T22:49:09.817Z"
   },
   {
    "duration": 18,
    "start_time": "2022-09-06T22:49:37.717Z"
   },
   {
    "duration": 157,
    "start_time": "2022-09-06T22:49:44.199Z"
   },
   {
    "duration": 139,
    "start_time": "2022-09-06T22:49:56.727Z"
   },
   {
    "duration": 160,
    "start_time": "2022-09-06T22:50:06.415Z"
   },
   {
    "duration": 15,
    "start_time": "2022-09-06T22:50:27.565Z"
   },
   {
    "duration": 112,
    "start_time": "2022-09-06T22:50:35.007Z"
   },
   {
    "duration": 159,
    "start_time": "2022-09-06T22:51:40.987Z"
   },
   {
    "duration": 107,
    "start_time": "2022-09-06T22:52:32.138Z"
   },
   {
    "duration": 28,
    "start_time": "2022-09-06T22:55:20.327Z"
   },
   {
    "duration": 34,
    "start_time": "2022-09-06T22:56:19.771Z"
   },
   {
    "duration": 40,
    "start_time": "2022-09-06T22:56:40.562Z"
   },
   {
    "duration": 40,
    "start_time": "2022-09-06T22:59:30.339Z"
   },
   {
    "duration": 109,
    "start_time": "2022-09-06T23:00:13.764Z"
   },
   {
    "duration": 9,
    "start_time": "2022-09-06T23:00:21.986Z"
   },
   {
    "duration": 125,
    "start_time": "2022-09-06T23:01:24.290Z"
   },
   {
    "duration": 149,
    "start_time": "2022-09-06T23:03:20.398Z"
   },
   {
    "duration": 155,
    "start_time": "2022-09-06T23:04:27.371Z"
   },
   {
    "duration": 117,
    "start_time": "2022-09-06T23:05:02.768Z"
   },
   {
    "duration": 80,
    "start_time": "2022-09-06T23:07:46.097Z"
   },
   {
    "duration": 19,
    "start_time": "2022-09-06T23:07:56.928Z"
   },
   {
    "duration": 91,
    "start_time": "2022-09-06T23:11:46.318Z"
   },
   {
    "duration": 16,
    "start_time": "2022-09-06T23:11:55.229Z"
   },
   {
    "duration": 17,
    "start_time": "2022-09-06T23:12:49.252Z"
   },
   {
    "duration": 1209,
    "start_time": "2022-09-06T23:12:57.220Z"
   },
   {
    "duration": 1302,
    "start_time": "2022-09-06T23:14:50.206Z"
   },
   {
    "duration": 50,
    "start_time": "2022-09-07T00:09:45.605Z"
   },
   {
    "duration": 36,
    "start_time": "2022-09-07T00:13:11.474Z"
   },
   {
    "duration": 76,
    "start_time": "2022-09-07T00:13:34.975Z"
   },
   {
    "duration": 69,
    "start_time": "2022-09-07T00:18:48.887Z"
   },
   {
    "duration": 52,
    "start_time": "2022-09-07T00:19:25.239Z"
   },
   {
    "duration": 14,
    "start_time": "2022-09-07T00:19:54.075Z"
   },
   {
    "duration": 34,
    "start_time": "2022-09-07T00:20:04.649Z"
   },
   {
    "duration": 960,
    "start_time": "2022-09-07T00:21:15.398Z"
   },
   {
    "duration": 820,
    "start_time": "2022-09-07T00:22:13.549Z"
   },
   {
    "duration": 943,
    "start_time": "2022-09-07T00:22:45.729Z"
   },
   {
    "duration": 53,
    "start_time": "2022-09-07T00:23:25.349Z"
   },
   {
    "duration": 43,
    "start_time": "2022-09-07T00:23:59.488Z"
   },
   {
    "duration": 24,
    "start_time": "2022-09-07T00:24:18.587Z"
   },
   {
    "duration": 24,
    "start_time": "2022-09-07T00:24:58.897Z"
   },
   {
    "duration": 24,
    "start_time": "2022-09-07T00:26:55.249Z"
   },
   {
    "duration": 30,
    "start_time": "2022-09-07T00:27:27.691Z"
   },
   {
    "duration": 26,
    "start_time": "2022-09-07T00:28:00.759Z"
   },
   {
    "duration": 24,
    "start_time": "2022-09-07T00:28:45.876Z"
   },
   {
    "duration": 24,
    "start_time": "2022-09-07T00:29:58.578Z"
   },
   {
    "duration": 24,
    "start_time": "2022-09-07T00:30:37.617Z"
   },
   {
    "duration": 38,
    "start_time": "2022-09-07T00:30:48.477Z"
   },
   {
    "duration": 36,
    "start_time": "2022-09-07T00:32:01.713Z"
   },
   {
    "duration": 21,
    "start_time": "2022-09-07T00:32:35.095Z"
   },
   {
    "duration": 8,
    "start_time": "2022-09-07T00:32:54.785Z"
   },
   {
    "duration": 74,
    "start_time": "2022-09-07T00:33:06.086Z"
   },
   {
    "duration": 38,
    "start_time": "2022-09-07T00:33:20.545Z"
   },
   {
    "duration": 44,
    "start_time": "2022-09-07T00:34:22.805Z"
   },
   {
    "duration": 44,
    "start_time": "2022-09-07T00:34:54.125Z"
   },
   {
    "duration": 28,
    "start_time": "2022-09-07T00:35:10.505Z"
   },
   {
    "duration": 1320,
    "start_time": "2022-09-07T00:43:45.827Z"
   },
   {
    "duration": 8,
    "start_time": "2022-09-07T00:44:04.746Z"
   },
   {
    "duration": 412,
    "start_time": "2022-09-07T00:44:16.785Z"
   },
   {
    "duration": 9,
    "start_time": "2022-09-07T00:44:24.586Z"
   },
   {
    "duration": 93,
    "start_time": "2022-09-07T00:50:03.882Z"
   },
   {
    "duration": 8,
    "start_time": "2022-09-07T00:50:09.245Z"
   },
   {
    "duration": 1451,
    "start_time": "2022-09-07T00:50:23.022Z"
   },
   {
    "duration": 1301,
    "start_time": "2022-09-07T00:50:52.248Z"
   },
   {
    "duration": 1278,
    "start_time": "2022-09-07T00:51:02.337Z"
   },
   {
    "duration": 1218,
    "start_time": "2022-09-07T00:51:17.388Z"
   },
   {
    "duration": 1049,
    "start_time": "2022-09-07T00:52:06.875Z"
   },
   {
    "duration": 8,
    "start_time": "2022-09-07T00:52:14.409Z"
   },
   {
    "duration": 7,
    "start_time": "2022-09-07T00:52:44.428Z"
   },
   {
    "duration": 26,
    "start_time": "2022-09-07T00:55:09.528Z"
   },
   {
    "duration": 79,
    "start_time": "2022-09-07T00:58:33.049Z"
   },
   {
    "duration": 26,
    "start_time": "2022-09-07T00:58:48.813Z"
   },
   {
    "duration": 27,
    "start_time": "2022-09-07T00:59:26.628Z"
   },
   {
    "duration": 27,
    "start_time": "2022-09-07T00:59:34.430Z"
   },
   {
    "duration": 4,
    "start_time": "2022-09-07T01:19:25.220Z"
   },
   {
    "duration": 8,
    "start_time": "2022-09-07T01:19:42.141Z"
   },
   {
    "duration": 4,
    "start_time": "2022-09-07T01:20:25.250Z"
   },
   {
    "duration": 4,
    "start_time": "2022-09-07T01:20:40.940Z"
   },
   {
    "duration": 39,
    "start_time": "2022-09-07T01:21:49.450Z"
   },
   {
    "duration": 13,
    "start_time": "2022-09-07T01:23:56.795Z"
   },
   {
    "duration": 13,
    "start_time": "2022-09-07T01:25:42.111Z"
   },
   {
    "duration": 13,
    "start_time": "2022-09-07T01:26:08.889Z"
   },
   {
    "duration": 26,
    "start_time": "2022-09-07T01:26:42.114Z"
   },
   {
    "duration": 17,
    "start_time": "2022-09-07T01:27:06.741Z"
   },
   {
    "duration": 13,
    "start_time": "2022-09-07T01:27:33.610Z"
   },
   {
    "duration": 10,
    "start_time": "2022-09-07T01:27:44.492Z"
   },
   {
    "duration": 16,
    "start_time": "2022-09-07T01:28:18.941Z"
   },
   {
    "duration": 10,
    "start_time": "2022-09-07T01:29:27.151Z"
   },
   {
    "duration": 129,
    "start_time": "2022-09-07T01:32:41.320Z"
   },
   {
    "duration": 1905,
    "start_time": "2022-09-07T01:32:45.910Z"
   },
   {
    "duration": 1370,
    "start_time": "2022-09-07T01:33:04.523Z"
   },
   {
    "duration": 1468,
    "start_time": "2022-09-07T01:33:26.990Z"
   },
   {
    "duration": 3,
    "start_time": "2022-09-07T01:33:40.288Z"
   },
   {
    "duration": 4,
    "start_time": "2022-09-07T01:34:24.497Z"
   },
   {
    "duration": 4,
    "start_time": "2022-09-07T01:35:16.731Z"
   },
   {
    "duration": 39,
    "start_time": "2022-09-07T01:40:19.161Z"
   },
   {
    "duration": 45,
    "start_time": "2022-09-07T01:41:32.469Z"
   },
   {
    "duration": 36,
    "start_time": "2022-09-07T01:41:53.665Z"
   },
   {
    "duration": 38,
    "start_time": "2022-09-07T01:42:21.136Z"
   },
   {
    "duration": 36,
    "start_time": "2022-09-07T01:42:41.944Z"
   },
   {
    "duration": 35,
    "start_time": "2022-09-07T01:44:01.729Z"
   },
   {
    "duration": 46,
    "start_time": "2022-09-07T01:44:38.594Z"
   },
   {
    "duration": 41,
    "start_time": "2022-09-07T01:44:50.252Z"
   },
   {
    "duration": 34,
    "start_time": "2022-09-07T01:44:59.910Z"
   },
   {
    "duration": 21,
    "start_time": "2022-09-07T01:45:37.992Z"
   },
   {
    "duration": 39,
    "start_time": "2022-09-07T01:46:02.025Z"
   },
   {
    "duration": 24,
    "start_time": "2022-09-07T01:46:08.012Z"
   },
   {
    "duration": 23,
    "start_time": "2022-09-07T01:46:14.144Z"
   },
   {
    "duration": 24,
    "start_time": "2022-09-07T01:46:25.922Z"
   },
   {
    "duration": 24,
    "start_time": "2022-09-07T01:49:27.010Z"
   },
   {
    "duration": 24,
    "start_time": "2022-09-07T01:51:36.042Z"
   },
   {
    "duration": 4,
    "start_time": "2022-09-07T01:53:08.791Z"
   },
   {
    "duration": 1206,
    "start_time": "2022-09-07T01:53:27.041Z"
   },
   {
    "duration": 934,
    "start_time": "2022-09-07T01:53:50.496Z"
   },
   {
    "duration": 354,
    "start_time": "2022-09-07T01:54:56.411Z"
   },
   {
    "duration": 3,
    "start_time": "2022-09-07T01:55:12.301Z"
   },
   {
    "duration": 4,
    "start_time": "2022-09-07T01:55:27.782Z"
   },
   {
    "duration": 3,
    "start_time": "2022-09-07T01:55:33.257Z"
   },
   {
    "duration": 4,
    "start_time": "2022-09-07T01:55:40.311Z"
   },
   {
    "duration": 15,
    "start_time": "2022-09-07T01:55:44.721Z"
   },
   {
    "duration": 12,
    "start_time": "2022-09-07T01:56:22.340Z"
   },
   {
    "duration": 15,
    "start_time": "2022-09-07T01:56:39.441Z"
   },
   {
    "duration": 16,
    "start_time": "2022-09-07T01:57:33.431Z"
   },
   {
    "duration": 17,
    "start_time": "2022-09-07T01:57:38.519Z"
   },
   {
    "duration": 14,
    "start_time": "2022-09-07T01:57:46.388Z"
   },
   {
    "duration": 16,
    "start_time": "2022-09-07T01:58:27.257Z"
   },
   {
    "duration": 11,
    "start_time": "2022-09-07T01:58:44.211Z"
   },
   {
    "duration": 14,
    "start_time": "2022-09-07T01:58:57.403Z"
   },
   {
    "duration": 14,
    "start_time": "2022-09-07T01:59:06.377Z"
   },
   {
    "duration": 13,
    "start_time": "2022-09-07T02:01:13.661Z"
   },
   {
    "duration": 13,
    "start_time": "2022-09-07T02:01:25.797Z"
   },
   {
    "duration": 9,
    "start_time": "2022-09-07T02:02:11.297Z"
   },
   {
    "duration": 8,
    "start_time": "2022-09-07T02:03:16.091Z"
   },
   {
    "duration": 10,
    "start_time": "2022-09-07T02:03:46.342Z"
   },
   {
    "duration": 11,
    "start_time": "2022-09-07T02:03:54.640Z"
   },
   {
    "duration": 389,
    "start_time": "2022-09-07T02:48:29.547Z"
   },
   {
    "duration": 709,
    "start_time": "2022-09-07T02:48:29.937Z"
   },
   {
    "duration": 70,
    "start_time": "2022-09-07T02:48:30.647Z"
   },
   {
    "duration": 18,
    "start_time": "2022-09-07T02:48:30.719Z"
   },
   {
    "duration": 15,
    "start_time": "2022-09-07T02:48:30.738Z"
   },
   {
    "duration": 8,
    "start_time": "2022-09-07T02:48:30.755Z"
   },
   {
    "duration": 41,
    "start_time": "2022-09-07T02:48:30.764Z"
   },
   {
    "duration": 3,
    "start_time": "2022-09-07T02:48:30.807Z"
   },
   {
    "duration": 16,
    "start_time": "2022-09-07T02:48:30.811Z"
   },
   {
    "duration": 15,
    "start_time": "2022-09-07T02:48:30.829Z"
   },
   {
    "duration": 10,
    "start_time": "2022-09-07T02:48:30.846Z"
   },
   {
    "duration": 14,
    "start_time": "2022-09-07T02:48:30.857Z"
   },
   {
    "duration": 34,
    "start_time": "2022-09-07T02:48:30.872Z"
   },
   {
    "duration": 8,
    "start_time": "2022-09-07T02:48:30.908Z"
   },
   {
    "duration": 6,
    "start_time": "2022-09-07T02:48:30.917Z"
   },
   {
    "duration": 25,
    "start_time": "2022-09-07T02:48:30.925Z"
   },
   {
    "duration": 30,
    "start_time": "2022-09-07T02:48:30.951Z"
   },
   {
    "duration": 17,
    "start_time": "2022-09-07T02:48:30.983Z"
   },
   {
    "duration": 3,
    "start_time": "2022-09-07T02:48:31.002Z"
   },
   {
    "duration": 12,
    "start_time": "2022-09-07T02:48:31.007Z"
   },
   {
    "duration": 10,
    "start_time": "2022-09-07T02:48:31.021Z"
   },
   {
    "duration": 6,
    "start_time": "2022-09-07T02:48:31.032Z"
   },
   {
    "duration": 16,
    "start_time": "2022-09-07T02:48:31.039Z"
   },
   {
    "duration": 19,
    "start_time": "2022-09-07T02:48:31.056Z"
   },
   {
    "duration": 8,
    "start_time": "2022-09-07T02:48:31.077Z"
   },
   {
    "duration": 8,
    "start_time": "2022-09-07T02:48:31.087Z"
   },
   {
    "duration": 7,
    "start_time": "2022-09-07T02:48:31.096Z"
   },
   {
    "duration": 13,
    "start_time": "2022-09-07T02:48:31.106Z"
   },
   {
    "duration": 7,
    "start_time": "2022-09-07T02:48:31.120Z"
   },
   {
    "duration": 7,
    "start_time": "2022-09-07T02:48:31.128Z"
   },
   {
    "duration": 9,
    "start_time": "2022-09-07T02:48:31.136Z"
   },
   {
    "duration": 5,
    "start_time": "2022-09-07T02:48:31.155Z"
   },
   {
    "duration": 9,
    "start_time": "2022-09-07T02:48:31.162Z"
   },
   {
    "duration": 10,
    "start_time": "2022-09-07T02:48:31.173Z"
   },
   {
    "duration": 37,
    "start_time": "2022-09-07T02:48:31.185Z"
   },
   {
    "duration": 199,
    "start_time": "2022-09-07T02:48:31.223Z"
   },
   {
    "duration": 114,
    "start_time": "2022-09-07T02:48:31.423Z"
   },
   {
    "duration": 17,
    "start_time": "2022-09-07T02:48:31.539Z"
   },
   {
    "duration": 7,
    "start_time": "2022-09-07T02:48:31.558Z"
   },
   {
    "duration": 13,
    "start_time": "2022-09-07T02:48:31.567Z"
   },
   {
    "duration": 42,
    "start_time": "2022-09-07T02:48:31.581Z"
   },
   {
    "duration": 185,
    "start_time": "2022-09-07T02:48:31.625Z"
   },
   {
    "duration": 135,
    "start_time": "2022-09-07T02:48:31.812Z"
   },
   {
    "duration": 8,
    "start_time": "2022-09-07T02:48:31.955Z"
   },
   {
    "duration": 12,
    "start_time": "2022-09-07T02:48:31.965Z"
   },
   {
    "duration": 38,
    "start_time": "2022-09-07T02:48:31.979Z"
   },
   {
    "duration": 173,
    "start_time": "2022-09-07T02:48:32.019Z"
   },
   {
    "duration": 120,
    "start_time": "2022-09-07T02:48:32.194Z"
   },
   {
    "duration": 8,
    "start_time": "2022-09-07T02:48:32.316Z"
   },
   {
    "duration": 12,
    "start_time": "2022-09-07T02:48:32.325Z"
   },
   {
    "duration": 55,
    "start_time": "2022-09-07T02:48:32.338Z"
   },
   {
    "duration": 156,
    "start_time": "2022-09-07T02:48:32.395Z"
   },
   {
    "duration": 124,
    "start_time": "2022-09-07T02:48:32.554Z"
   },
   {
    "duration": 28,
    "start_time": "2022-09-07T02:48:32.680Z"
   },
   {
    "duration": 394,
    "start_time": "2022-09-07T05:54:16.024Z"
   },
   {
    "duration": 713,
    "start_time": "2022-09-07T05:54:16.420Z"
   },
   {
    "duration": 296,
    "start_time": "2022-09-07T05:54:17.135Z"
   },
   {
    "duration": 19,
    "start_time": "2022-09-07T05:54:17.433Z"
   },
   {
    "duration": 14,
    "start_time": "2022-09-07T05:54:17.453Z"
   },
   {
    "duration": 10,
    "start_time": "2022-09-07T05:54:17.468Z"
   },
   {
    "duration": 38,
    "start_time": "2022-09-07T05:54:17.479Z"
   },
   {
    "duration": 4,
    "start_time": "2022-09-07T05:54:17.518Z"
   },
   {
    "duration": 12,
    "start_time": "2022-09-07T05:54:17.523Z"
   },
   {
    "duration": 4,
    "start_time": "2022-09-07T05:54:17.537Z"
   },
   {
    "duration": 20,
    "start_time": "2022-09-07T05:54:17.543Z"
   },
   {
    "duration": 11,
    "start_time": "2022-09-07T05:54:17.564Z"
   },
   {
    "duration": 32,
    "start_time": "2022-09-07T05:54:17.576Z"
   },
   {
    "duration": 8,
    "start_time": "2022-09-07T05:54:17.610Z"
   },
   {
    "duration": 5,
    "start_time": "2022-09-07T05:54:17.619Z"
   },
   {
    "duration": 35,
    "start_time": "2022-09-07T05:54:17.626Z"
   },
   {
    "duration": 18,
    "start_time": "2022-09-07T05:54:17.663Z"
   },
   {
    "duration": 16,
    "start_time": "2022-09-07T05:54:17.683Z"
   },
   {
    "duration": 4,
    "start_time": "2022-09-07T05:54:17.701Z"
   },
   {
    "duration": 16,
    "start_time": "2022-09-07T05:54:17.707Z"
   },
   {
    "duration": 35,
    "start_time": "2022-09-07T05:54:17.725Z"
   },
   {
    "duration": 5,
    "start_time": "2022-09-07T05:54:17.762Z"
   },
   {
    "duration": 23,
    "start_time": "2022-09-07T05:54:17.770Z"
   },
   {
    "duration": 21,
    "start_time": "2022-09-07T05:54:17.794Z"
   },
   {
    "duration": 3,
    "start_time": "2022-09-07T05:54:17.816Z"
   },
   {
    "duration": 7,
    "start_time": "2022-09-07T05:54:17.821Z"
   },
   {
    "duration": 6,
    "start_time": "2022-09-07T05:54:17.830Z"
   },
   {
    "duration": 31,
    "start_time": "2022-09-07T05:54:17.839Z"
   },
   {
    "duration": 15,
    "start_time": "2022-09-07T05:54:17.872Z"
   },
   {
    "duration": 6,
    "start_time": "2022-09-07T05:54:17.888Z"
   },
   {
    "duration": 11,
    "start_time": "2022-09-07T05:54:17.895Z"
   },
   {
    "duration": 8,
    "start_time": "2022-09-07T05:54:17.907Z"
   },
   {
    "duration": 8,
    "start_time": "2022-09-07T05:54:17.916Z"
   },
   {
    "duration": 37,
    "start_time": "2022-09-07T05:54:17.925Z"
   },
   {
    "duration": 43,
    "start_time": "2022-09-07T05:54:17.964Z"
   },
   {
    "duration": 216,
    "start_time": "2022-09-07T05:54:18.008Z"
   },
   {
    "duration": 131,
    "start_time": "2022-09-07T05:54:18.226Z"
   },
   {
    "duration": 8,
    "start_time": "2022-09-07T05:54:18.359Z"
   },
   {
    "duration": 9,
    "start_time": "2022-09-07T05:54:18.368Z"
   },
   {
    "duration": 13,
    "start_time": "2022-09-07T05:54:18.378Z"
   },
   {
    "duration": 65,
    "start_time": "2022-09-07T05:54:18.393Z"
   },
   {
    "duration": 198,
    "start_time": "2022-09-07T05:54:18.459Z"
   },
   {
    "duration": 146,
    "start_time": "2022-09-07T05:54:18.659Z"
   },
   {
    "duration": 8,
    "start_time": "2022-09-07T05:54:18.807Z"
   },
   {
    "duration": 12,
    "start_time": "2022-09-07T05:54:18.816Z"
   },
   {
    "duration": 59,
    "start_time": "2022-09-07T05:54:18.829Z"
   },
   {
    "duration": 179,
    "start_time": "2022-09-07T05:54:18.890Z"
   },
   {
    "duration": 140,
    "start_time": "2022-09-07T05:54:19.071Z"
   },
   {
    "duration": 9,
    "start_time": "2022-09-07T05:54:19.213Z"
   },
   {
    "duration": 17,
    "start_time": "2022-09-07T05:54:19.224Z"
   },
   {
    "duration": 46,
    "start_time": "2022-09-07T05:54:19.258Z"
   },
   {
    "duration": 187,
    "start_time": "2022-09-07T05:54:19.306Z"
   },
   {
    "duration": 150,
    "start_time": "2022-09-07T05:54:19.495Z"
   },
   {
    "duration": 29,
    "start_time": "2022-09-07T05:54:19.647Z"
   },
   {
    "duration": 51,
    "start_time": "2022-09-07T05:57:56.550Z"
   },
   {
    "duration": 45,
    "start_time": "2022-09-07T05:58:02.440Z"
   },
   {
    "duration": 12,
    "start_time": "2022-09-07T05:58:13.381Z"
   }
  ],
  "colab": {
   "name": "dpp_template_part2.ipynb",
   "provenance": []
  },
  "kernelspec": {
   "display_name": "Python 3 (ipykernel)",
   "language": "python",
   "name": "python3"
  },
  "language_info": {
   "codemirror_mode": {
    "name": "ipython",
    "version": 3
   },
   "file_extension": ".py",
   "mimetype": "text/x-python",
   "name": "python",
   "nbconvert_exporter": "python",
   "pygments_lexer": "ipython3",
   "version": "3.9.12"
  },
  "toc": {
   "base_numbering": 1,
   "nav_menu": {},
   "number_sections": true,
   "sideBar": true,
   "skip_h1_title": true,
   "title_cell": "Table of Contents",
   "title_sidebar": "Contents",
   "toc_cell": false,
   "toc_position": {},
   "toc_section_display": true,
   "toc_window_display": false
  }
 },
 "nbformat": 4,
 "nbformat_minor": 5
}
